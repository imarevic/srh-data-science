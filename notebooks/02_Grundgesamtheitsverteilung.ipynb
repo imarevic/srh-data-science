{
 "cells": [
  {
   "cell_type": "code",
   "execution_count": 1,
   "metadata": {
    "tags": [
     "remove-cell"
    ]
   },
   "outputs": [
    {
     "name": "stdout",
     "output_type": "stream",
     "text": [
      "\n",
      "---------------------------------\n",
      "Working on the host: Joachims-MacBook-Pro.local\n",
      "\n",
      "---------------------------------\n",
      "Python version: 3.10.2 | packaged by conda-forge | (main, Feb  1 2022, 19:30:18) [Clang 11.1.0 ]\n",
      "\n",
      "---------------------------------\n",
      "Python interpreter: /opt/miniconda3/envs/srh-poc/bin/python\n"
     ]
    }
   ],
   "source": [
    "%matplotlib inline\n",
    "# Load the \"autoreload\" extension\n",
    "%load_ext autoreload\n",
    "# always reload modules\n",
    "%autoreload 2\n",
    "# black formatter for jupyter notebooks\n",
    "#%load_ext nb_black\n",
    "# black formatter for jupyter lab\n",
    "%load_ext lab_black\n",
    "\n",
    "%run ../src/notebook_env.py"
   ]
  },
  {
   "cell_type": "markdown",
   "metadata": {},
   "source": [
    "# Die Grundgesamtheitsverteilung"
   ]
  },
  {
   "cell_type": "markdown",
   "metadata": {},
   "source": [
    "**Importiere Module**"
   ]
  },
  {
   "cell_type": "code",
   "execution_count": 2,
   "metadata": {
    "tags": [
     "thebe-init"
    ]
   },
   "outputs": [],
   "source": [
    "import numpy as np\n",
    "import matplotlib.pyplot as plt"
   ]
  },
  {
   "cell_type": "markdown",
   "metadata": {
    "tags": []
   },
   "source": [
    "Die **Grundgesamtheitsverteilung** ist die Wahrscheinlichkeitsverteilung, die sich aus der Kenntnis aller Elemente einer Grundgesamtheit ergibt {cite:p}`mann2007introductory`. Wir wissen, dass die interessierende Zufallsvariable je nach der betrachteten Grundgesamtheit eine diskrete Variable sein kann, d. h. eine Variable, die zumindest im Prinzip abzählbar ist (abzählbar unendlich), oder die Zufallsvariable kann eine kontinuierliche Variable sein, d. h. eine Variable, die jeden Wert innerhalb eines bestimmten Intervalls annehmen kann (überabzählbar unendlich). Sowohl die diskrete als auch die kontinuierliche Wahrscheinlichkeitsverteilung kann durch statistische Parameter wie den Mittelwert, die Standardabweichung, den Median, den Modalwert und andere beschrieben werden. Diese Parameter, die die Grundgesamtheit beschreiben, sind jedoch **immer konstant**, da die Grundgesamtheit die Menge aller Elemente ist und sich somit die Grundgesamtheitsstatistik nicht ändert. So gibt es beispielsweise für jeden Populationsdatensatz **nur einen Wert** für den Populationsmittelwert, **einen Wert** für die Standardabweichung usw."
   ]
  },
  {
   "cell_type": "markdown",
   "metadata": {},
   "source": [
    "## Grundgesamtheitsstatistiken und Stichprobenstatistiken\n",
    "\n",
    "Betrachten wir ein einfaches Beispiel für eine kleine diskrete Grundgesamtheit, die aus den ersten zehn ganzen Zahlen $\\{1,2,3,4,5,6,7,8,9,10\\}$ besteht."
   ]
  },
  {
   "cell_type": "code",
   "execution_count": 3,
   "metadata": {},
   "outputs": [
    {
     "name": "stdout",
     "output_type": "stream",
     "text": [
      "Mittelwert (Grundgesamtheit):         5.5\n",
      "Standartabweichung (Grundgesamtheit): 2.8722813232690143\n"
     ]
    }
   ],
   "source": [
    "population = [1, 2, 3, 4, 5, 6, 7, 8, 9, 10]\n",
    "mean = np.mean(population)\n",
    "std = np.std(population)\n",
    "\n",
    "print(f\"Mittelwert (Grundgesamtheit):         {mean}\")\n",
    "print(f\"Standartabweichung (Grundgesamtheit): {std}\")"
   ]
  },
  {
   "cell_type": "markdown",
   "metadata": {},
   "source": [
    "Der Populationsmittelwert $μ$, und die Populationsstandardabweichung $σ$ beträgt $5,5$ bzw. etwa $3,028$. Es ist wichtig zu erkennen, dass sich diese Parameter, die Populationsparameter, nicht ändern! Sie sind durch die Grundgesamtheit festgelegt.\n",
    "\n",
    "Nehmen wir nun eine Zufallsstichprobe ohne Ersetzung mit dem Umfang $n=3$ aus dieser Grundgesamtheit. "
   ]
  },
  {
   "cell_type": "code",
   "execution_count": 4,
   "metadata": {},
   "outputs": [
    {
     "data": {
      "text/plain": [
       "array([2, 1, 4])"
      ]
     },
     "execution_count": 4,
     "metadata": {},
     "output_type": "execute_result"
    }
   ],
   "source": [
    "my_sample = np.random.choice(population, size=3, replace=False)\n",
    "my_sample"
   ]
  },
  {
   "cell_type": "markdown",
   "metadata": {},
   "source": [
    "Nun berechnen wir den Mittelwert und die Standardabweichung der gegebenen Stichprobe. Da wir uns aber auf eine bestimmte Stichprobe beziehen, nennen wir den statistischen Parameter diesmal **Stichprobenstatistik** oder, wenn wir uns auf die Verteilung der Werte (Elemente) beziehen, **Stichprobenverteilung**. Um dies zu verdeutlichen, wird der Stichprobenmittelwert mit $\\bar{x}$ und die Stichprobenstandardabweichung mit $s$ bezeichnet."
   ]
  },
  {
   "cell_type": "code",
   "execution_count": 5,
   "metadata": {},
   "outputs": [
    {
     "name": "stdout",
     "output_type": "stream",
     "text": [
      "Mittelwert (Stichprobe):         2.3333333333333335\n",
      "Standartabweichung (Stichprobe): 1.5275252316519465\n"
     ]
    }
   ],
   "source": [
    "x_bar = np.mean(my_sample)\n",
    "s = np.std(my_sample, ddof=1)\n",
    "\n",
    "print(f\"Mittelwert (Stichprobe):         {x_bar}\")\n",
    "print(f\"Standartabweichung (Stichprobe): {s}\")"
   ]
  },
  {
   "cell_type": "markdown",
   "metadata": {},
   "source": [
    "Bitte beachten Sie, dass sich die Stichprobenstatistiken je nach den tatsächlichen Elementen in der Stichprobe von Stichprobe zu Stichprobe ändern."
   ]
  },
  {
   "cell_type": "markdown",
   "metadata": {
    "tags": []
   },
   "source": [
    "## Der Stichprobenfehler\n",
    "\n",
    "Wir wiederholen die Stichprobe aus dem vorigen Abschnitt fünfmal und geben den Mittelwert $\\bar{x}$ für jede einzelne Stichprobe aus."
   ]
  },
  {
   "cell_type": "code",
   "execution_count": 6,
   "metadata": {},
   "outputs": [
    {
     "name": "stdout",
     "output_type": "stream",
     "text": [
      "Die 1. Stichprobe hat einen Mittelwert von 5.333333333333333\n",
      "Die 2. Stichprobe hat einen Mittelwert von 6.333333333333333\n",
      "Die 3. Stichprobe hat einen Mittelwert von 4.333333333333333\n",
      "Die 4. Stichprobe hat einen Mittelwert von 7.666666666666667\n",
      "Die 5. Stichprobe hat einen Mittelwert von 6.333333333333333\n"
     ]
    }
   ],
   "source": [
    "for i in range(5):\n",
    "    my_sample = np.random.choice(population, size=3, replace=False)\n",
    "    mean = np.mean(my_sample)\n",
    "    print(f\"Die {i+1}. Stichprobe hat einen Mittelwert von {mean}\")"
   ]
  },
  {
   "cell_type": "markdown",
   "metadata": {},
   "source": [
    "Es liegt auf der Hand, dass verschiedene Stichproben (mit derselben Länge), die aus derselben Grundgesamtheit ausgewählt wurden, unterschiedliche Stichprobenstatistiken ergeben, da sie unterschiedliche Elemente enthalten. Darüber hinaus unterscheidet sich jede aus einer Stichprobe gewonnene Stichprobenstatistik, z. B. der Stichprobenmittelwert $\\bar{x}$, von dem Ergebnis, das aus der entsprechenden Grundgesamtheit, dem Grundgesamtheitsmittelwert $μ$, gewonnen wird. Die Differenz zwischen dem Wert einer aus einer Stichprobe gewonnenen Statistik und dem Wert des entsprechenden, aus der Grundgesamtheit gewonnenen Parameters wird als **<a href=\"https://en.wikipedia.org/wiki/Sampling_error\">Stichprobenfehler</a>** bezeichnet. Im Fall des Mittelwerts kann der Stichprobenfehler wie folgt geschrieben werden\n",
    "\n",
    "$$ \\text{Sampling error} = \\bar{x} - \\mu$$\n",
    "\n",
    "Aufgrund des Charakters von Zufallsstichproben und willkürlichen Ziehung einer Reihe von Werten aus der Grundgesamtheit ist der daraus resultierende Stichprobenfehler zufällig, oder anders gesagt, der Stichprobenfehler ist eine Zufallsvariable. Es ist jedoch zu beachten, dass es neben der beschriebenen Zufälligkeit noch andere Fehlerquellen gibt. Diese Fehler hängen oft mit dem Prozess der Datenerzeugung zusammen und werden unter dem Begriff <a href=\"https://en.wikipedia.org/wiki/Non-sampling_error\">Nicht-Stichprobenfehler</a> zusammengefasst. Solche Fehler werden beispielsweise durch die menschliche Handhabung der Daten, Kalibrierungsfehler der Messgeräte etc. verursacht.\n",
    "\n",
    "Um ein Gefühl für die Art des Stichprobenfehlers zu bekommen, führen wir ein Experiment durch. Bei diesem Experiment besteht die interessierende Grundgesamtheit aus den ersten $100$ ganzen Zahlen $\\{1,2,3,...,100\\}$. Wir wollen den Einfluss des Stichprobenumfangs $n$ auf den Stichprobenfehler untersuchen. Der Einfachheit halber wählen wir den Stichprobenmittelwert als die interessierende Statistik. Für eine ausreichend große Anzahl von Versuchen (z.B. 5000 Versuche) berechnen wir den Stichprobenfehler für Stichproben mit dem Umfang $n=10,25,50,75$."
   ]
  },
  {
   "cell_type": "code",
   "execution_count": 7,
   "metadata": {},
   "outputs": [
    {
     "name": "stdout",
     "output_type": "stream",
     "text": [
      "Stichprobenfehler (n=10): 6.75\n",
      "Stichprobenfehler (n=25): 4.014\n",
      "Stichprobenfehler (n=50): 2.325\n",
      "Stichprobenfehler (n=75): 1.354\n"
     ]
    }
   ],
   "source": [
    "TRIAL_SIZE = 5000  # 5000 Versuche\n",
    "SAMPLE_SIZE = [10, 25, 50, 75]  # Stichprobenumfang\n",
    "population = range(1, 101)\n",
    "mean_pop = np.mean(population)\n",
    "for n in SAMPLE_SIZE:\n",
    "    error_sample = []\n",
    "    for _ in range(TRIAL_SIZE):\n",
    "        my_sample = np.random.choice(population, size=n, replace=False)\n",
    "        mean = np.mean(my_sample)\n",
    "        error_sample.append(abs(mean - mean_pop))\n",
    "    print(f\"Stichprobenfehler (n={n}):\", np.round(np.mean(error_sample), 3))"
   ]
  },
  {
   "cell_type": "markdown",
   "metadata": {},
   "source": [
    "Aus dem obigen Experiment können wir schließen, dass der Stichprobenfehler umso kleiner ist, je größer der Stichprobenumfang ist. Mit anderen Worten: Je größer der Stichprobenumfang ist, desto mehr nähert sich der Stichprobenmittelwert $\\bar{x}$ dem Grundgesamtheitsmittelwert $μ$ an. Dies ist eine wichtige Erkenntnis, die im Abschnitt über die *Inferenzstatistik* ausführlicher behandelt werden wird."
   ]
  }
 ],
 "metadata": {
  "kernelspec": {
   "display_name": "Python 3 (ipykernel)",
   "language": "python",
   "name": "python3"
  },
  "language_info": {
   "codemirror_mode": {
    "name": "ipython",
    "version": 3
   },
   "file_extension": ".py",
   "mimetype": "text/x-python",
   "name": "python",
   "nbconvert_exporter": "python",
   "pygments_lexer": "ipython3",
   "version": "3.10.2"
  },
  "tags": [
   "hide-cell"
  ]
 },
 "nbformat": 4,
 "nbformat_minor": 4
}
