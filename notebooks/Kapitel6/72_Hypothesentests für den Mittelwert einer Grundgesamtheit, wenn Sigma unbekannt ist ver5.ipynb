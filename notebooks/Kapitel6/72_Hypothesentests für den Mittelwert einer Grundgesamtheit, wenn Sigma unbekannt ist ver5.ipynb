{
 "cells": [
  {
   "cell_type": "markdown",
   "id": "96297e62-e1cc-4914-9c13-c83a55c84f85",
   "metadata": {},
   "source": [
    "## Hypothesentests für den Mittelwert einer Grundgesamtheit, wenn Sigma unbekannt ist\n",
    "----------------------------------------"
   ]
  },
  {
   "cell_type": "code",
   "execution_count": 3,
   "id": "78e9a7ce-f322-4e96-94ae-fe9c3f373b7b",
   "metadata": {},
   "outputs": [
    {
     "name": "stdout",
     "output_type": "stream",
     "text": [
      "\n",
      "---------------------------------\n",
      "Working on the host: LAPTOP-9LETB4SJ\n",
      "\n",
      "---------------------------------\n",
      "Python version: 3.10.2 | packaged by conda-forge | (main, Mar  8 2022, 15:52:24) [MSC v.1929 64 bit (AMD64)]\n",
      "\n",
      "---------------------------------\n",
      "Python interpreter: C:\\Users\\zak\\anaconda3\\envs\\srh\\python.exe\n"
     ]
    }
   ],
   "source": [
    "import matplotlib.pyplot as plt\n",
    "import numpy as np\n",
    "import pandas as pd\n",
    "from random import sample\n",
    "from scipy.stats import t\n",
    "from scipy import stats\n",
    "\n",
    "%run ../src/notebook_env.py"
   ]
  },
  {
   "cell_type": "markdown",
   "id": "992045da-f779-4501-bede-1319e6ac2813",
   "metadata": {},
   "source": [
    "Ein Hypothesentest für einen Grundgesamtheitsmittelwert, bei dem die Standardabweichung $\\sigma$ der Grundgesamtheit nicht bekannt ist, wird auf die gleiche Weise durchgeführt, wie wenn die Standardabweichung der Grundgesamtheit bekannt ist. Der einzige Unterschied besteht darin, dass die <a href=\"https://de.wikipedia.org/wiki/Studentsche_t-Verteilung\">$t$-Verteilung</a> und nicht die Standardnormalverteilung ($z$-Verteilung) verwendet wird.\n",
    "\n",
    "Bei einem Test mit der Nullhypothese $H_0:\\; \\mu = \\mu_0$ wird die Teststatistik, $t$, wie folgt berechnet"
   ]
  },
  {
   "cell_type": "markdown",
   "id": "7f4c7908-4643-4e08-a48a-c4c5b1a6a10d",
   "metadata": {},
   "source": [
    "$$t = \\frac{\\bar x - \\mu_0}{s/\\sqrt{n}}$$"
   ]
  },
  {
   "cell_type": "markdown",
   "id": "55e048ae-83ad-4bc7-ad9e-0a72c8024092",
   "metadata": {},
   "source": [
    "Dieses Hypothesentestverfahren wird als **$t$-Test für einen Mittelwert** oder einfach als **$t$-Test** bezeichnet. Es sei daran erinnert, dass Hypothesentests einem schrittweisen Verfahren folgen, das wie folgt zusammengefasst wird "
   ]
  },
  {
   "cell_type": "markdown",
   "id": "9336be43-1e5f-41e4-873a-a841fcc60389",
   "metadata": {},
   "source": [
    "$$\n",
    "\\begin{array}{l}\n",
    "\\hline\n",
    "\\ \\text{Schritt 1}  & \\text{Geben Sie die Nullhypothese } H_0 \\text{ und alternative Hypothese } H_A \\text{ an.}\\\\\n",
    "\\ \\text{Schritt 2}  & \\text{Legen Sie das Signifikanzniveau, } \\alpha\\text{ fest.} \\\\\n",
    "\\ \\text{Schritt 3}  & \\text{Berechnen Sie den Wert der Teststatistik.} \\\\\n",
    "\\ \\text{Schritt 4a} & \\text{Ansatz des kritischen Wertes: Bestimmung des kritischen Wertes.}\n",
    "\\\\\n",
    "\\ \\text{Schritt 4b} &\\text{P-Wert-Ansatz: Bestimmen Sie den p-Wert.} \\\\\n",
    "\\ \\text{Schritt 5a} & \\text{Ansatz des kritischen Werts: Wenn der Wert der Teststatistik in den Ablehnungsbereich fällt, ist } H_0 \\text{ abzulehnen}   \\text{; ansonsten } H_0 \\text{ nicht ablehnen}  \\text{.}\n",
    "\\\\\n",
    "\\ \\text{Schritt 5b} & \\text{P-Wert-Ansatz: Wenn }p \\le \\alpha \\text{, } H_0 \\text{ ablehnen } \\text{; ansonsten } H_0 \\text{ nicht ablehnen} \\text{.} \\\\\n",
    "\\ \\text{Schritt 6} &\\text{Interpretieren Sie das Ergebnis des Hypothesentests.} \\\\\n",
    "\\hline \n",
    "\\end{array}\n",
    "$$"
   ]
  },
  {
   "cell_type": "markdown",
   "id": "9e4d8569-caab-4e8b-9573-ba206799c369",
   "metadata": {
    "tags": []
   },
   "source": [
    "Ähnlich wie im vorangegangenen Abschnitt stellen wir zunächst den Ansatz des **kritischen Werts** vor und wiederholen dann in einem zweiten Schritt die Analyse für den **$p$-Wert-Ansatz**. Diesmal verpacken wir jedoch den Ansatz des kritischen Werts in eine selbst erstellte Funktion. Für den $p$-Wert-Ansatz werden wir die leistungsstarke Maschinerie von Python nutzen und die vorhandene Funktion `ttest_ind` anwenden."
   ]
  },
  {
   "cell_type": "markdown",
   "id": "8e0dc4b1-507c-47af-b664-d5e0a4bee5bd",
   "metadata": {},
   "source": [
    "### Hypothesentests: Der Ansatz des kritischen Werts"
   ]
  },
  {
   "cell_type": "markdown",
   "id": "5398ec84-98f5-4539-b2a9-1626414fe006",
   "metadata": {},
   "source": [
    "Erstellen wir eine Funktion namens `simple_ttest()`. Die Funktion nimmt als Eingangsargumente einen Vektor `x` (Stichprobendaten), `mu0`, das $\\mu_0$ entspricht, den Grundgesamtheitsdurchschnitt, gegen den getestet werden soll, das angegebene Signifikanzniveau $\\alpha$, bezeichnet als `alpha`, und die Methode des $t$-Tests, `links`, `rechts` oder der Standardwert `zweiseitig`, mit dem Funktionsargument namens `Methode`. Die Ausgabe der Funktion ist ein Boolescher Wert, `TRUE` oder `FALSE`. Wenn `TRUE`, wird $H_0$ abgelehnt, wenn `FALSE`, wird $H_0$ nicht abgelehnt."
   ]
  },
  {
   "cell_type": "code",
   "execution_count": 20,
   "id": "51dc42b1-55b0-4cb4-a6e8-57bd6470953b",
   "metadata": {},
   "outputs": [],
   "source": [
    "def simple_ttest(x, mu0, alpha, method='two-sided'):\n",
    "    n = len(x)\n",
    "    xbar = np.mean(x)\n",
    "    s = np.std(x,ddof = 1)\n",
    "    # calculate test statistic\n",
    "    tstat = (xbar-mu0)/(s/np.sqrt(n))\n",
    "    \n",
    "    # calculate critical value\n",
    "    df = n-1\n",
    "    # for left-tailed test\n",
    "    if (method=='left'):\n",
    "        crit_val = t.ppf(q = alpha, df = df)\n",
    "          #evaluate rejection region\n",
    "        if (tstat < crit_val):\n",
    "            reject = True\n",
    "        else:\n",
    "            reject = False\n",
    "        # for right-tailed test\n",
    "    if method=='right':\n",
    "            crit_val = t.ppf(q = 1-alpha, df = df)\n",
    "          #evaluate rejection region\n",
    "            if (tstat > crit_val):\n",
    "                reject = True\n",
    "            else:\n",
    "                reject = False\n",
    "          \n",
    "        # for two-sided test (default)\n",
    "    if method=='two-sided':\n",
    "            crit_val = t.ppf(q = 1-alpha/2, df = df)\n",
    "        #evaluate rejection region\n",
    "            if (abs(tstat) > abs(crit_val) and -abs(tstat) < -abs(crit_val)):\n",
    "                reject = True\n",
    "            else:\n",
    "                reject = False    \n",
    "\n",
    "            \n",
    "    print('Significance level:',alpha)\n",
    "    print('Degrees of freedom:',df)\n",
    "    print('Test statistic:',round(tstat,4))\n",
    "    print('Critical value:',round(crit_val,4))\n",
    "    print('Reject H0:',reject)       \n",
    "          \n"
   ]
  },
  {
   "cell_type": "markdown",
   "id": "5f3edbd0-3823-4061-a504-c44264c44003",
   "metadata": {},
   "source": [
    "Ein tolles Stück Code :-)"
   ]
  },
  {
   "cell_type": "markdown",
   "id": "c21bb778-4b5f-47de-b8d0-8264dcd9343e",
   "metadata": {},
   "source": [
    "### $t$-Test mit einem Mittelwert: Ein Beispiel"
   ]
  },
  {
   "cell_type": "markdown",
   "id": "27b4e0e9-74a5-485f-af9c-d8a7c5e4f8a2",
   "metadata": {},
   "source": [
    "Nun ist es an der Zeit, unsere Funktion `simple_ttest()` zu testen. Dazu wiederholen wir das Beispiel aus dem vorherigen Abschnitt. Wir verwenden den `students` Datensatz. Sie können die Datei `students.csv` <a href=\"https://userpage.fu-berlin.de/soga/200/2010_data_sets/students.csv\">hier</a> herunterladen. Importieren Sie den Datensatz und geben Sie ihm einen passenden Namen."
   ]
  },
  {
   "cell_type": "code",
   "execution_count": 21,
   "id": "b6962600-1cfc-40ca-bbbf-a6a57a57bdf6",
   "metadata": {},
   "outputs": [],
   "source": [
    "# Lese Datei students.csv als Dataframe ein; Indexspalte wird übersprungen\n",
    "students = pd.read_csv('students.csv', index_col=0)"
   ]
  },
  {
   "cell_type": "markdown",
   "id": "dfd9ce9a-ede5-48d6-b0d3-6dd15a56352b",
   "metadata": {},
   "source": [
    "Der `students` Datensatz besteht aus $8239$ Zeilen, von denen jede einen bestimmten Studenten repräsentiert, und $16$ Spalten, von denen jede einer Variable/einem Merkmal entspricht, das sich auf diesen bestimmten Studenten bezieht. Diese selbsterklärenden Variablen sind: *stud.id, name, gender, age, height, weight, religion, nc.score, semester, major, minor, score1, score2, online.tutorial, graduated, salary.*"
   ]
  },
  {
   "cell_type": "markdown",
   "id": "5ae02907-0b84-4129-b031-f638c6fd88aa",
   "metadata": {},
   "source": [
    "Wir untersuchen das Durchschnittsgewicht einer Zufallsstichprobe von Studenten aus dem `students` Datensatz und vergleichen es mit dem Durchschnittsgewicht aller erwachsenen Europäer. <a href=\"https://bmcpublichealth.biomedcentral.com/articles/10.1186/1471-2458-12-439\">Walpole et al. (2012)</a> veröffentlichten Daten über das durchschnittliche Körpergewicht (kg) pro Region, einschließlich Europa. Sie geben die durchschnittliche Körpermasse für die europäische erwachsene Bevölkerung mit $70,8$ kg an. Wir setzen daher $μ_0$, den Mittelwert der Grundgesamtheit, entsprechend fest ($μ_0=70,8$). Ferner ziehen wir eine Zufallsstichprobe ($x$) mit einem Umfang von $n=9$. Die Stichprobe besteht aus den Gewichten in kg von $9$ zufällig ausgewählten Studenten."
   ]
  },
  {
   "cell_type": "code",
   "execution_count": 22,
   "id": "db60fa47-fa5f-4667-8f9e-7f680c36f622",
   "metadata": {},
   "outputs": [
    {
     "data": {
      "text/plain": [
       "7005    56.5\n",
       "3206    86.5\n",
       "4544    62.9\n",
       "2104    62.4\n",
       "3510    64.4\n",
       "628     76.3\n",
       "537     65.7\n",
       "5419    61.4\n",
       "645     66.6\n",
       "Name: weight, dtype: float64"
      ]
     },
     "execution_count": 22,
     "metadata": {},
     "output_type": "execute_result"
    }
   ],
   "source": [
    "mu0 = 70.8\n",
    "n = 9\n",
    "#weight=list(students['weight'])\n",
    "x = students['weight'].sample(n,random_state = 1)\n",
    "x.head(10)"
   ]
  },
  {
   "cell_type": "markdown",
   "id": "86c26f5c-5905-4741-b419-13cf70eb34a7",
   "metadata": {},
   "source": [
    "### Überprüfen der Hypothesen"
   ]
  },
  {
   "cell_type": "markdown",
   "id": "f1391cbd-54d3-4e38-9e61-b212cfa2d880",
   "metadata": {},
   "source": [
    "**Schritt 1 : Geben Sie die Nullhypothese $H_0$ und alternative Hypothese $H_A$ an**"
   ]
  },
  {
   "cell_type": "markdown",
   "id": "f78fa807-9198-4e33-81b5-8ce508ee8872",
   "metadata": {},
   "source": [
    "Die Nullhypothese besagt, dass das Durchschnittsgewicht der Studenten dem Durchschnittsgewicht der europäischen Erwachsenen entspricht, wie von Walpole et al. (2012) berichtet. Mit anderen Worten: Es gibt keinen Unterschied zwischen dem Durchschnittsgewicht der Studenten und dem Durchschnittsgewicht der europäischen Erwachsenen."
   ]
  },
  {
   "cell_type": "markdown",
   "id": "612e646c-321c-4ac3-9834-35becf550c49",
   "metadata": {},
   "source": [
    "$$H_0: \\quad \\mu = 70,8$$"
   ]
  },
  {
   "cell_type": "markdown",
   "id": "d19870f4-3410-43ac-9b58-5ff9b5abe10f",
   "metadata": {},
   "source": [
    "Erinnern Sie sich daran, dass die Formulierung der Alternativhypothese vorgibt, ob wir einen zweiseitigen, einen links- oder einen rechtsseitigen Hypothesentest durchführen."
   ]
  },
  {
   "cell_type": "markdown",
   "id": "7b2131cf-a500-419d-8b20-706261a898ec",
   "metadata": {},
   "source": [
    "**Alternativhypothese 1**"
   ]
  },
  {
   "cell_type": "markdown",
   "id": "55fcc3e7-f9a9-4e82-b221-0663d87d45f1",
   "metadata": {},
   "source": [
    "$$H_{A_1}: \\quad \\mu \\ne 70,8$$"
   ]
  },
  {
   "cell_type": "markdown",
   "id": "ee5d4735-6ff7-4af7-9890-edf520162912",
   "metadata": {},
   "source": [
    "führt zu einem zweiseitigen Hypothesentest."
   ]
  },
  {
   "cell_type": "markdown",
   "id": "fd586adf-7ede-4601-bd04-a16b112297fc",
   "metadata": {},
   "source": [
    "**Alternativhypothese 2**"
   ]
  },
  {
   "cell_type": "markdown",
   "id": "34d561a8-e78f-41c6-8b29-9a039ac08f0a",
   "metadata": {
    "tags": []
   },
   "source": [
    "$$H_{A_2}: \\quad \\mu  < 70,8$$"
   ]
  },
  {
   "cell_type": "markdown",
   "id": "922cf823-511e-4ab3-a6c5-1788100a191e",
   "metadata": {},
   "source": [
    "zu einem linksseitigen Hypothesentest und"
   ]
  },
  {
   "cell_type": "markdown",
   "id": "6e1d9aa8-549c-42de-a923-03a557fe1255",
   "metadata": {},
   "source": [
    "**Alternativhypothese 3**"
   ]
  },
  {
   "cell_type": "markdown",
   "id": "7f79f3e6-0f8d-4656-8e78-e5fa5a3781eb",
   "metadata": {},
   "source": [
    "$$H_{A_3}: \\quad \\mu > 70,8$$"
   ]
  },
  {
   "cell_type": "markdown",
   "id": "04589a7c-3268-42b3-8ad9-5d85f0587558",
   "metadata": {},
   "source": [
    "zu einem rechtsseitigen Hypothesentest"
   ]
  },
  {
   "cell_type": "markdown",
   "id": "55fd56b0-c83e-4e65-bdf9-b9b842a3ea14",
   "metadata": {},
   "source": [
    "**Schritt 2: Legen Sie das Signifikanzniveau,$\\alpha$ fest.**"
   ]
  },
  {
   "cell_type": "markdown",
   "id": "7c79d9a7-fbdc-4159-974d-775e4bf69fa3",
   "metadata": {},
   "source": [
    "$$\\alpha = 0,05$$"
   ]
  },
  {
   "cell_type": "code",
   "execution_count": 23,
   "id": "cd67b4dc-4343-454b-87fd-581b608fc2c2",
   "metadata": {},
   "outputs": [],
   "source": [
    "alpha = 0.05"
   ]
  },
  {
   "cell_type": "markdown",
   "id": "c0960a1a-9101-4cde-99bd-50d06787c6f3",
   "metadata": {},
   "source": [
    "**Schritt 3, 4 und 5: Berechnen Sie den Wert der Teststatistik, bestimmen Sie den kritischen Wert, und werten Sie den Wert der Teststatistik aus. Wenn er in den Verwerfungsbereich fällt, verwerfen Sie $H_0$; andernfalls verwerfen Sie $H_0$ nicht**"
   ]
  },
  {
   "cell_type": "markdown",
   "id": "28188ebe-73c6-4d96-a9b8-aedd54f23961",
   "metadata": {},
   "source": [
    "Jetzt kommt unsere selbst erstellte Funktion `simple_ttest()` ins Spiel. Wir geben der Funktion eine Zufallsstichprobe in Form eines Vektors, einen Wert für $\\mu_0$, ein Signifikanzniveau $\\alpha$ und die Methode (`two-sided`, `left` oder `right`) an. Erinnern Sie sich daran, dass zweiseitig der Standardwert ist. Wenn wir also keine Methode angeben, wird die Funktion den zweiseitigen Hypothesentest anwenden."
   ]
  },
  {
   "cell_type": "code",
   "execution_count": 24,
   "id": "fb68ce1d-52a4-4e84-8fdc-d5e0a11af09d",
   "metadata": {},
   "outputs": [
    {
     "name": "stdout",
     "output_type": "stream",
     "text": [
      "Significance level: 0.05\n",
      "Degrees of freedom: 8\n",
      "Test statistic: -1.271\n",
      "Critical value: 2.306\n",
      "Reject H0: False\n"
     ]
    }
   ],
   "source": [
    "simple_ttest(x, mu0, alpha)"
   ]
  },
  {
   "cell_type": "markdown",
   "id": "c8ea45ac-6463-4020-ba37-459c55b2c755",
   "metadata": {},
   "source": [
    "Cool! ;-)\n",
    "\n",
    "Ein rechtsseitiger $t$-Test"
   ]
  },
  {
   "cell_type": "code",
   "execution_count": 25,
   "id": "1f23ca36-9d0c-4f19-8ca8-fb3daeac0e5e",
   "metadata": {},
   "outputs": [
    {
     "name": "stdout",
     "output_type": "stream",
     "text": [
      "Significance level: 0.05\n",
      "Degrees of freedom: 8\n",
      "Test statistic: -1.271\n",
      "Critical value: 1.8595\n",
      "Reject H0: False\n"
     ]
    }
   ],
   "source": [
    "simple_ttest(x, mu0, alpha, method = 'right')"
   ]
  },
  {
   "cell_type": "markdown",
   "id": "179172e2-927e-4bdc-a3d2-9aba04f76fe6",
   "metadata": {},
   "source": [
    "Ein linksseitiger $t$-Test"
   ]
  },
  {
   "cell_type": "code",
   "execution_count": 26,
   "id": "c0ebcbb6-1bf0-48d3-9bd1-29938e9ebc40",
   "metadata": {},
   "outputs": [
    {
     "name": "stdout",
     "output_type": "stream",
     "text": [
      "Significance level: 0.05\n",
      "Degrees of freedom: 8\n",
      "Test statistic: -1.271\n",
      "Critical value: -1.8595\n",
      "Reject H0: False\n"
     ]
    }
   ],
   "source": [
    "simple_ttest(x, mu0, alpha, method = 'left')"
   ]
  },
  {
   "cell_type": "markdown",
   "id": "43be5a36-2312-42b3-8f4c-6560553bc88c",
   "metadata": {},
   "source": [
    "**Schritt 6: Interpretieren Sie das Ergebnis des Hypothesentests**"
   ]
  },
  {
   "cell_type": "markdown",
   "id": "e54be5c0-5f85-4d41-8ddc-7e77bf45a608",
   "metadata": {},
   "source": [
    "Wenn die Teststatistik und damit der Stichprobenmittelwert so extrem ist, dass er über den kritischen Wert hinausgeht und damit in den Verwerfungsbereich fällt, schließen wir, dass die Daten bei einem Signifikanzniveau von $5 \\%$ genügend Beweise liefern, um $H_0$ zu verwerfen. Fällt die Teststatistik und damit der Stichprobenmittelwert dagegen in den Nicht-Verwerfungsbereich, so schließen wir, dass die Daten keine Beweise für die Ablehnung von $H_0$ liefern."
   ]
  },
  {
   "cell_type": "markdown",
   "id": "a01aea9d-d2a6-4e9f-9460-514d4365778b",
   "metadata": {},
   "source": [
    "### Hypothesentests in Python: Der $p$-Wert Ansatz"
   ]
  },
  {
   "cell_type": "markdown",
   "id": "44231f62-438d-45ec-965e-d2706aa77ffc",
   "metadata": {},
   "source": [
    "Der zweite Ansatz basiert auf der Zuweisung einer Wahrscheinlichkeit für den Wert der Teststatistik. Wenn die Teststatistik sehr extrem ist und die Nullhypothese wahr ist, wird der Teststatistik eine geringe Wahrscheinlichkeit zugewiesen. Ist die Teststatistik dagegen überhaupt nicht extrem, so wird ihr eine viel höhere Wahrscheinlichkeit zugewiesen. Diese Wahrscheinlichkeit wird als $p$-Wert bezeichnet.\n",
    "\n",
    "Um den genauen $p$-Wert für einen gegebenen numerischen Wert zu berechnen, sind wir auf Software angewiesen, da die \"In-Tabellen-nachschlagen-Methode\" etwas mühsam ist, da nicht alle numerischen Werte der Teststatistik in einer solchen Tabelle angegeben sind. Dies führt zu Rundungsfehlern. Die Programmiersprache Python bietet jedoch einen sehr leistungsfähigen Mechanismus zur Durchführung von $t$-Tests. Die generische Funktion heißt `ttest_1samp`. Sie können mehr Details erfahren, indem Sie `help(stats.ttest_1samp)` in Ihre Konsole eingeben. Obwohl die Funktion verschiedene Argumente liefert, ist der spezielle $t$-Test, für den wir uns jetzt interessieren, nämlich der Test eines Grundgesamtheitsmittelwertes, wenn $\\sigma$ unbekannt ist, ist recht einfach."
   ]
  },
  {
   "cell_type": "markdown",
   "id": "e7b012ef-681a-467e-b797-1b7afa135afb",
   "metadata": {},
   "source": [
    "Wir wiederholen das gleiche Problem wie im vorherigen Abschnitt, wobei wir die bereits definierten Variablen verwenden. Zur Erinnerung: Die Stichprobe ist ein Vektor von Gewichten ($x$), $\\mu_0=70,8$, angegeben als `mu0`, $n=9$, angegeben als `n`. Mit diesen Informationen wenden wir die Funktion `ttest_1samp` für einen zweiseitigen $t$-Test an, indem wir `ttest_1samp(x = x, mu = mu0, alternative = 'two-sided')` in Python eingeben. Wir vergleichen zur Auswertung ob der $p$-Wert unter $\\alpha=0,05$ liegt und damit statistisch Signifikant ist."
   ]
  },
  {
   "cell_type": "code",
   "execution_count": 18,
   "id": "a0aacd41-dd20-4ff5-9f8c-b43dcbcdecb6",
   "metadata": {},
   "outputs": [
    {
     "data": {
      "text/plain": [
       "Ttest_1sampResult(statistic=-1.2710092384447174, pvalue=0.23943518262349403)"
      ]
     },
     "execution_count": 18,
     "metadata": {},
     "output_type": "execute_result"
    }
   ],
   "source": [
    "stats.ttest_1samp(x,mu0,alternative='two-sided')"
   ]
  },
  {
   "cell_type": "code",
   "execution_count": 19,
   "id": "75aaad64-6219-44ea-a755-25add7b55c00",
   "metadata": {},
   "outputs": [
    {
     "data": {
      "text/plain": [
       "False"
      ]
     },
     "execution_count": 19,
     "metadata": {},
     "output_type": "execute_result"
    }
   ],
   "source": [
    "0.2394<alpha"
   ]
  },
  {
   "cell_type": "markdown",
   "id": "deefee48-5478-4b65-ba4b-ede0e632f7d8",
   "metadata": {},
   "source": [
    "Wahnsinn! Python führt einen Hypothesentest in einer einzigen Codezeile durch und gibt zusätzliche Informationen kostenlos aus! Gehen wir die Ausgabe der Funktion `ttest_1samp()` durch.\n",
    "\n",
    "Die erste Zeile listet die Ergebnisse der Berechnungen für die Teststatistik $t$ und den $p$-Wert auf: $t = -1,271$, $p$-Wert $= 0,2394$.\n",
    "    Wir können die Alternativhypothese, die wir verwenden durch das Argument `alternative` = `less` , `greater` , `two-sided` ändern. In unserem Fall war sie zweiseitig. Versuchen Sie selbst, das Attribut in `less` oder `greater` zu ändern, um eine andere Alternativhypothese anzuwenden.\n",
    "\n",
    "Es ist erwähnenswert, dass die Funktion `ttest_1samp()` die Ergebnisse des $t$-Tests ausgibt. Wir können also die Ergebnisse der Funktion `ttest_1samp()` in einer Variablen speichern."
   ]
  },
  {
   "cell_type": "markdown",
   "id": "82faecdc-a093-4fea-a589-a63bbb33061e",
   "metadata": {},
   "source": [
    "Um den $p$-Wert abzurufen, geben wir ein"
   ]
  },
  {
   "cell_type": "code",
   "execution_count": 27,
   "id": "9e4d5889-9185-4621-aaad-e4df78a9ba1b",
   "metadata": {},
   "outputs": [],
   "source": [
    "statistics,pvalue=stats.ttest_1samp(x,mu0,alternative='two-sided')"
   ]
  },
  {
   "cell_type": "code",
   "execution_count": 28,
   "id": "6ad86cd5-0ea5-4d4d-9030-7f506d5a108c",
   "metadata": {},
   "outputs": [
    {
     "data": {
      "text/plain": [
       "0.23943518262349403"
      ]
     },
     "execution_count": 28,
     "metadata": {},
     "output_type": "execute_result"
    }
   ],
   "source": [
    "pvalue"
   ]
  },
  {
   "cell_type": "code",
   "execution_count": 29,
   "id": "81c04b30-e196-457e-ae03-2a6f0bad2159",
   "metadata": {},
   "outputs": [
    {
     "data": {
      "text/plain": [
       "-1.2710092384447174"
      ]
     },
     "execution_count": 29,
     "metadata": {},
     "output_type": "execute_result"
    }
   ],
   "source": [
    "statistics"
   ]
  },
  {
   "cell_type": "code",
   "execution_count": null,
   "id": "ad8bc66e-743e-40f7-a9cc-f641466e54b7",
   "metadata": {},
   "outputs": [],
   "source": []
  }
 ],
 "metadata": {
  "kernelspec": {
   "display_name": "Python 3 (ipykernel)",
   "language": "python",
   "name": "python3"
  },
  "language_info": {
   "codemirror_mode": {
    "name": "ipython",
    "version": 3
   },
   "file_extension": ".py",
   "mimetype": "text/x-python",
   "name": "python",
   "nbconvert_exporter": "python",
   "pygments_lexer": "ipython3",
   "version": "3.10.2"
  }
 },
 "nbformat": 4,
 "nbformat_minor": 5
}
