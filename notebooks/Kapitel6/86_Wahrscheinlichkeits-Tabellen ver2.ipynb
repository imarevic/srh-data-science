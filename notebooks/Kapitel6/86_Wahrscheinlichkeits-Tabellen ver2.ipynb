{
 "cells": [
  {
   "cell_type": "markdown",
   "id": "468e0001-41ce-4d38-b330-2b7208d5ad27",
   "metadata": {},
   "source": [
    "## Wahrscheinlichkeits-Tabellen\n",
    "----------------------------------------"
   ]
  },
  {
   "cell_type": "markdown",
   "id": "c61857d8-0ee0-408e-b839-296d7ced8e4b",
   "metadata": {},
   "source": [
    "Die folgenden Wahrscheinlichkeitsverteilungen werden behandelt:\n",
    "\n",
    "- $z$-Verteilung\n",
    "- $t$-Verteilung\n",
    "- $\\chi^2$-Verteilung\n",
    "- $F$-Verteilung ($\\alpha=1$ und $\\alpha=5$)"
   ]
  },
  {
   "cell_type": "code",
   "execution_count": null,
   "id": "8dc03cb7-a5bf-473d-ab68-c21527380aec",
   "metadata": {},
   "outputs": [],
   "source": []
  }
 ],
 "metadata": {
  "kernelspec": {
   "display_name": "Python 3 (ipykernel)",
   "language": "python",
   "name": "python3"
  },
  "language_info": {
   "codemirror_mode": {
    "name": "ipython",
    "version": 3
   },
   "file_extension": ".py",
   "mimetype": "text/x-python",
   "name": "python",
   "nbconvert_exporter": "python",
   "pygments_lexer": "ipython3",
   "version": "3.10.2"
  }
 },
 "nbformat": 4,
 "nbformat_minor": 5
}
