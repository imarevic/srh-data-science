{
 "cells": [
  {
   "cell_type": "markdown",
   "id": "1bd16b8f-9a3f-4173-8168-ba9e10ea99c7",
   "metadata": {},
   "source": [
    "## Inferenz für die Standardabweichung der Grundgesamtheit\n",
    "----------------------------------------"
   ]
  },
  {
   "cell_type": "markdown",
   "id": "cf5934a4-1737-49e0-880c-14a2a5abde8c",
   "metadata": {},
   "source": [
    "Bisher haben wir Methoden der Inferenzstatistik erörtert, die sich auf Aussagen über einen oder mehrere Grundgesamtheitsmittelwerte konzentrieren. In den folgenden Abschnitten betrachten wir Methoden der Inferenzstatistik, die Aussagen über die Varianzen (oder Standardabweichungen) der Grundgesamtheit liefern. Wir erinnern daran, dass die Varianz ($\\sigma^2$) und die Standardabweichung ($\\sigma$) ein Maß für die Streuung und Variabilität einer Variablen sind."
   ]
  }
 ],
 "metadata": {
  "kernelspec": {
   "display_name": "Python 3 (ipykernel)",
   "language": "python",
   "name": "python3"
  },
  "language_info": {
   "codemirror_mode": {
    "name": "ipython",
    "version": 3
   },
   "file_extension": ".py",
   "mimetype": "text/x-python",
   "name": "python",
   "nbconvert_exporter": "python",
   "pygments_lexer": "ipython3",
   "version": "3.10.2"
  }
 },
 "nbformat": 4,
 "nbformat_minor": 5
}
