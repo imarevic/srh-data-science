{
 "cells": [
  {
   "cell_type": "markdown",
   "id": "f83b6393-dead-4ea6-9015-8c006b70496a",
   "metadata": {},
   "source": [
    "## Einführung in Hypothesentests\n",
    "----------------------------------------"
   ]
  },
  {
   "cell_type": "markdown",
   "id": "a49a5ce2-8ecc-42e5-928b-de54924274e7",
   "metadata": {},
   "source": [
    "In der **Inferenzstatistik** geht es darum, Entscheidungen oder Urteile über den Wert einer bestimmten Beobachtung oder Messung zu treffen. Eine der am häufigsten verwendeten Methoden, um solche Entscheidungen zu treffen, ist die Durchführung eines <a href=\"https://de.wikipedia.org/wiki/Statistischer_Test\">Hypothesentests</a>. Eine <a href=\"https://de.wikipedia.org/wiki/Hypothese\">Hypothese</a> ist ein Erklärungsvorschlag für ein Phänomen. Im Zusammenhang mit statistischen Hypothesentests ist der Begriff Hypothese eine Aussage über etwas, von dem angenommen wird, dass es wahr ist.\n",
    "\n",
    "Zu einem Hypothesentest gehören zwei Hypothesen: die **Nullhypothese** und die **Alternativhypothese**. Die Nullhypothese ($H_0$) ist eine zu prüfende Aussage. Die Alternativhypothese ($H_A$) ist eine Aussage, die als Alternative zur Nullhypothese betrachtet wird.\n",
    "\n",
    "Mit dem Hypothesentest soll geprüft werden, ob die Nullhypothese zugunsten der Alternativhypothese verworfen werden sollte. Die grundlegende Logik eines Hypothesentests besteht darin, zwei statistische Datensätze zu vergleichen. Ein Datensatz wird durch eine Stichprobe gewonnen, der andere Datensatz stammt aus einem idealisierten Modell. Wenn die Stichprobendaten mit dem idealisierten Modell übereinstimmen, wird die Nullhypothese nicht verworfen; wenn die Stichprobendaten nicht mit dem idealisierten Modell übereinstimmen und somit eine Alternativhypothese unterstützen, wird die Nullhypothese zugunsten der Alternativhypothese verworfen.\n",
    "\n",
    "Das Kriterium für die Entscheidung über die Ablehnung der Nullhypothese ist eine so genannte <a href=\"https://de.wikipedia.org/wiki/Teststatistik\">Teststatistik</a>. Die Teststatistik ist eine Zahl, die aus dem Datensatz berechnet wird, der durch Messungen und Beobachtungen oder, allgemeiner, durch Stichproben gewonnen wird."
   ]
  },
  {
   "cell_type": "code",
   "execution_count": null,
   "id": "524340a0-97dd-4f2d-a91a-6f4a8a543689",
   "metadata": {},
   "outputs": [],
   "source": []
  }
 ],
 "metadata": {
  "kernelspec": {
   "display_name": "Python 3 (ipykernel)",
   "language": "python",
   "name": "python3"
  },
  "language_info": {
   "codemirror_mode": {
    "name": "ipython",
    "version": 3
   },
   "file_extension": ".py",
   "mimetype": "text/x-python",
   "name": "python",
   "nbconvert_exporter": "python",
   "pygments_lexer": "ipython3",
   "version": "3.10.2"
  }
 },
 "nbformat": 4,
 "nbformat_minor": 5
}
