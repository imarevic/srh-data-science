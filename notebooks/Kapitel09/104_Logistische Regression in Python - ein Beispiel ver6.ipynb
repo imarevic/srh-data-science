{
 "cells": [
  {
   "cell_type": "markdown",
   "id": "7ed744d6-e7a9-4841-9861-e65d705297e7",
   "metadata": {},
   "source": [
    "## Logistische Regression in Python - ein Beispiel\n",
    "----------------------------------------"
   ]
  },
  {
   "cell_type": "code",
   "execution_count": 160,
   "id": "51fba955-22d0-4104-9feb-f4728103cabe",
   "metadata": {},
   "outputs": [
    {
     "name": "stdout",
     "output_type": "stream",
     "text": [
      "\n",
      "---------------------------------\n",
      "Working on the host: LAPTOP-9LETB4SJ\n",
      "\n",
      "---------------------------------\n",
      "Python version: 3.10.2 | packaged by conda-forge | (main, Mar  8 2022, 15:52:24) [MSC v.1929 64 bit (AMD64)]\n",
      "\n",
      "---------------------------------\n",
      "Python interpreter: C:\\Users\\zak\\anaconda3\\envs\\srh\\python.exe\n"
     ]
    }
   ],
   "source": [
    "import folium\n",
    "from folium.plugins import MarkerCluster\n",
    "import math\n",
    "import matplotlib.pyplot as plt\n",
    "import numpy as np\n",
    "import pandas as pd\n",
    "import statsmodels.api as sm\n",
    "import statsmodels.formula.api as smf\n",
    "\n",
    "%run ../src/notebook_env.py"
   ]
  },
  {
   "cell_type": "markdown",
   "id": "4eb4bc82-c208-435f-a6db-288134599130",
   "metadata": {},
   "source": [
    "Die logistische Regressionsanalyse gehört zur Klasse der <a href=\"https://en.wikipedia.org/wiki/Generalized_linear_model\">verallgemeinerten linearen Modelle</a>. In Python werden verallgemeinerte lineare Modelle mit der Funktion `glm()` verarbeitet. Die Funktion wird als `glm(Antwort ~ Prädiktor, Familie = binomial(link = 'logit'), Daten)` geschrieben. Bitte beachten Sie, dass `logit` die Vorgabe für binomial ist; wir müssen es also nicht explizit eingeben. Die Funktion `glm()` gibt ein Modellobjekt zurück, auf das wir Extraktormethoden wie `summary()`, `fitted()` oder `predict()` anwenden können. Bitte beachten Sie jedoch, dass die ausgegebenen Zahlen auf der Logit-Skala liegen. Um tatsächlich Wahrscheinlichkeiten vorherzusagen, müssen wir der Funktion `predict()` ein zusätzliches Argument `type = 'response'` übergeben."
   ]
  },
  {
   "cell_type": "markdown",
   "id": "c0248dbc-7277-4bb0-83da-1cc8b6303432",
   "metadata": {},
   "source": [
    "### Einführung und explorative Datenanalyse"
   ]
  },
  {
   "cell_type": "markdown",
   "id": "0fd5a8d8-80b0-43ba-945e-4147434432f5",
   "metadata": {},
   "source": [
    "Dieses Beispiel ist inspiriert von der Arbeit von <a href=\"https://myweb.fsu.edu/jelsner/_site/index.html\">James B. Elsner</a> und seinen Kollegen (<a href=\"https://journals.ametsoc.org/view/journals/clim/9/11/1520-0442_1996_009_2880_ocoah_2_0_co_2.xml\">Elsner et al. 1996</a> und <a href=\"https://journals.ametsoc.org/doi/10.1175/1520-0442-11.8.2062\">Kimberlain und Elsner 1998</a>), die an einer **objektiven Klassifizierung der nordatlantischen Hurrikane** auf der Grundlage von Entstehungs- und Entwicklungsmechanismen gearbeitet haben. Die Klassifizierung ergibt drei verschiedene Gruppen: tropische Wirbelstürme, Wirbelstürme unter baroklinem Einfluss und Wirbelstürme mit baroklinem Ursprung. Der Begriff \"baroklin\" bezieht sich auf die Tatsache, dass diese Hurrikane von Störungen der äußeren Tropen beeinflusst werden oder sogar in den äußeren Tropen entstehen. Die stärkeren tropischen Wirbelstürme entwickeln sich weiter südlich und treten hauptsächlich im August und September auf. Die schwächeren außertropischen Wirbelstürme treten während einer längeren Saison auf. Der ursprüngliche Datensatz zur objektiven Hurrikan-Klassifizierung kann <a href=\"https://myweb.fsu.edu/jelsner/temp/Data.html\">hier</a> abgerufen werden. Die Analyse von James B. Elsner kann <a href=\"https://rpubs.com/jelsner/5206\">hier</a> eingesehen werden.\n",
    "\n",
    "**Ziel der Übung ist es, ein Modell zu erstellen, das die Gruppenzugehörigkeit eines Hurrikans, entweder tropisch oder nicht-tropisch, auf der Grundlage des Breitengrades seiner Entstehung vorhersagt.**"
   ]
  },
  {
   "cell_type": "markdown",
   "id": "6b5b107d-3418-489d-9a78-b0ae825b4db6",
   "metadata": {},
   "source": [
    "Wir beginnen die Analyse mit dem Laden des Datensatzes. Laden Sie die Daten auf Ihren Computer <a href=\"https://myweb.fsu.edu/jelsner/temp/Data.html\">herunter</a> und öffnen Sie die Datei. Bitte beachten Sie, dass es sich bei der Datei um ein *Excel*-Tabelle handelt. Um mit *Excel*-Tabellen umgehen zu können, installieren und importieren wir daher vorher das Paket `readxl`. Bitte beachten Sie, dass das `readxl`-Paket relativ neu ist und aktiv weiterentwickelt wird. Zum Zeitpunkt des Schreibens dieser Zeilen ist es noch nicht möglich, über eine URL auf eine *Excel*-Datei zuzugreifen; daher laden wir die Datei zunächst herunter, lesen sie dann in den Speicher ein und löschen die Datei schließlich wieder. Schauen Sie sich das <a href=\"https://github.com/tidyverse/readxl\">GitHub-Repository</a> des readxl-Pakets für zukünftige Verbesserungen an."
   ]
  },
  {
   "cell_type": "code",
   "execution_count": 140,
   "id": "741fa9d4-e919-41cf-a069-f4c7b27b3c9e",
   "metadata": {},
   "outputs": [
    {
     "data": {
      "text/html": [
       "<div>\n",
       "<style scoped>\n",
       "    .dataframe tbody tr th:only-of-type {\n",
       "        vertical-align: middle;\n",
       "    }\n",
       "\n",
       "    .dataframe tbody tr th {\n",
       "        vertical-align: top;\n",
       "    }\n",
       "\n",
       "    .dataframe thead th {\n",
       "        text-align: right;\n",
       "    }\n",
       "</style>\n",
       "<table border=\"1\" class=\"dataframe\">\n",
       "  <thead>\n",
       "    <tr style=\"text-align: right;\">\n",
       "      <th></th>\n",
       "      <th>RowNames</th>\n",
       "      <th>Number</th>\n",
       "      <th>Name</th>\n",
       "      <th>Year</th>\n",
       "      <th>Type</th>\n",
       "      <th>FirstLat</th>\n",
       "      <th>FirstLon</th>\n",
       "      <th>MaxLat</th>\n",
       "      <th>MaxLon</th>\n",
       "      <th>LastLat</th>\n",
       "      <th>LastLon</th>\n",
       "      <th>MaxInt</th>\n",
       "    </tr>\n",
       "  </thead>\n",
       "  <tbody>\n",
       "    <tr>\n",
       "      <th>0</th>\n",
       "      <td>1</td>\n",
       "      <td>430</td>\n",
       "      <td>NOTNAMED</td>\n",
       "      <td>1944</td>\n",
       "      <td>1</td>\n",
       "      <td>30.2</td>\n",
       "      <td>-76.1</td>\n",
       "      <td>32.1</td>\n",
       "      <td>-74.8</td>\n",
       "      <td>35.1</td>\n",
       "      <td>-69.2</td>\n",
       "      <td>80</td>\n",
       "    </tr>\n",
       "    <tr>\n",
       "      <th>1</th>\n",
       "      <td>2</td>\n",
       "      <td>432</td>\n",
       "      <td>NOTNAMED</td>\n",
       "      <td>1944</td>\n",
       "      <td>0</td>\n",
       "      <td>25.6</td>\n",
       "      <td>-74.9</td>\n",
       "      <td>31.0</td>\n",
       "      <td>-78.1</td>\n",
       "      <td>32.6</td>\n",
       "      <td>-78.2</td>\n",
       "      <td>80</td>\n",
       "    </tr>\n",
       "    <tr>\n",
       "      <th>2</th>\n",
       "      <td>3</td>\n",
       "      <td>433</td>\n",
       "      <td>NOTNAMED</td>\n",
       "      <td>1944</td>\n",
       "      <td>0</td>\n",
       "      <td>14.2</td>\n",
       "      <td>-65.2</td>\n",
       "      <td>16.6</td>\n",
       "      <td>-72.2</td>\n",
       "      <td>20.6</td>\n",
       "      <td>-88.5</td>\n",
       "      <td>105</td>\n",
       "    </tr>\n",
       "    <tr>\n",
       "      <th>3</th>\n",
       "      <td>4</td>\n",
       "      <td>436</td>\n",
       "      <td>NOTNAMED</td>\n",
       "      <td>1944</td>\n",
       "      <td>0</td>\n",
       "      <td>20.8</td>\n",
       "      <td>-58.0</td>\n",
       "      <td>26.3</td>\n",
       "      <td>-72.3</td>\n",
       "      <td>42.1</td>\n",
       "      <td>-71.5</td>\n",
       "      <td>120</td>\n",
       "    </tr>\n",
       "    <tr>\n",
       "      <th>4</th>\n",
       "      <td>5</td>\n",
       "      <td>437</td>\n",
       "      <td>NOTNAMED</td>\n",
       "      <td>1944</td>\n",
       "      <td>0</td>\n",
       "      <td>20.0</td>\n",
       "      <td>-84.2</td>\n",
       "      <td>20.6</td>\n",
       "      <td>-84.9</td>\n",
       "      <td>19.1</td>\n",
       "      <td>-93.9</td>\n",
       "      <td>70</td>\n",
       "    </tr>\n",
       "  </tbody>\n",
       "</table>\n",
       "</div>"
      ],
      "text/plain": [
       "   RowNames  Number      Name  Year  Type  FirstLat  FirstLon  MaxLat  MaxLon  \\\n",
       "0         1     430  NOTNAMED  1944     1      30.2     -76.1    32.1   -74.8   \n",
       "1         2     432  NOTNAMED  1944     0      25.6     -74.9    31.0   -78.1   \n",
       "2         3     433  NOTNAMED  1944     0      14.2     -65.2    16.6   -72.2   \n",
       "3         4     436  NOTNAMED  1944     0      20.8     -58.0    26.3   -72.3   \n",
       "4         5     437  NOTNAMED  1944     0      20.0     -84.2    20.6   -84.9   \n",
       "\n",
       "   LastLat  LastLon  MaxInt  \n",
       "0     35.1    -69.2      80  \n",
       "1     32.6    -78.2      80  \n",
       "2     20.6    -88.5     105  \n",
       "3     42.1    -71.5     120  \n",
       "4     19.1    -93.9      70  "
      ]
     },
     "execution_count": 140,
     "metadata": {},
     "output_type": "execute_result"
    }
   ],
   "source": [
    "hurricanes = pd.read_excel(\"hurricanes.xlsx\")\n",
    "hurricanes.head(5)"
   ]
  },
  {
   "cell_type": "markdown",
   "id": "ddebc722-3921-4324-922d-4b2750b7ffc3",
   "metadata": {},
   "source": [
    "Zunächst untersuchen wir die Struktur des Datensatzes, indem wir die Methode `info()` anwenden."
   ]
  },
  {
   "cell_type": "code",
   "execution_count": 141,
   "id": "5192503b-6feb-4630-98c1-1cdd19e7386e",
   "metadata": {},
   "outputs": [
    {
     "name": "stdout",
     "output_type": "stream",
     "text": [
      "<class 'pandas.core.frame.DataFrame'>\n",
      "RangeIndex: 337 entries, 0 to 336\n",
      "Data columns (total 12 columns):\n",
      " #   Column    Non-Null Count  Dtype  \n",
      "---  ------    --------------  -----  \n",
      " 0   RowNames  337 non-null    int64  \n",
      " 1   Number    337 non-null    int64  \n",
      " 2   Name      337 non-null    object \n",
      " 3   Year      337 non-null    int64  \n",
      " 4   Type      337 non-null    int64  \n",
      " 5   FirstLat  337 non-null    float64\n",
      " 6   FirstLon  337 non-null    float64\n",
      " 7   MaxLat    337 non-null    float64\n",
      " 8   MaxLon    337 non-null    float64\n",
      " 9   LastLat   337 non-null    float64\n",
      " 10  LastLon   337 non-null    float64\n",
      " 11  MaxInt    337 non-null    int64  \n",
      "dtypes: float64(6), int64(5), object(1)\n",
      "memory usage: 31.7+ KB\n"
     ]
    }
   ],
   "source": [
    "hurricanes.info()"
   ]
  },
  {
   "cell_type": "markdown",
   "id": "bcf0f7e4-c667-4fc0-9031-72a82989e356",
   "metadata": {},
   "source": [
    "Der Datensatz besteht aus $337$ Beobachtungen und $12$ Variablen. Wir interessieren uns in erster Linie für die Variable `Type`, die unsere Antwortvariable ist, und für die Variable `FirstLat`, die dem Breitengrad der Entstehung entspricht und somit unsere Prädiktorvariable ist. Um jedoch ein Gefühl für den Datensatz zu bekommen, stellen wir die Anzahl der Hurrikane für jedes Jahr als Balkendiagramm mit dem `mathplotlib`-Paket dar."
   ]
  },
  {
   "cell_type": "code",
   "execution_count": 142,
   "id": "73a62f97-048a-47ab-b4da-9edc613122ae",
   "metadata": {},
   "outputs": [
    {
     "data": {
      "text/plain": [
       "<BarContainer object of 57 artists>"
      ]
     },
     "execution_count": 142,
     "metadata": {},
     "output_type": "execute_result"
    },
    {
     "data": {
      "image/png": "[encoded data removed]",
      "text/plain": [
       "<Figure size 1152x720 with 1 Axes>"
      ]
     },
     "metadata": {
      "needs_background": "light"
     },
     "output_type": "display_data"
    }
   ],
   "source": [
    "count = []\n",
    "\n",
    "for i in range(1944,2001):\n",
    "    count.append(list(hurricanes['Year']).count(i))\n",
    "\n",
    "fig = plt.figure()\n",
    "plt.bar(hurricanes['Year'].unique(),count)"
   ]
  },
  {
   "cell_type": "markdown",
   "id": "61340292-e0a4-43c8-bbf7-4018d1a1a98d",
   "metadata": {},
   "source": [
    "Das ist eine schöne Darstellung. Wenn wir jedoch nur ein Argument hinzufügen, `fill = factor(Type)`, können wir die Balken zusätzlich entsprechend der Variable `Type` einfärben. Um die Lesbarkeit zu verbessern, fügen wir dem Funktionsaufruf das Argument `scale_fill_discrete` hinzu und benennen die Legende entsprechend um."
   ]
  },
  {
   "cell_type": "code",
   "execution_count": 143,
   "id": "da51bf78-e150-4de0-b3a3-4177644018a8",
   "metadata": {},
   "outputs": [
    {
     "data": {
      "text/plain": [
       "<AxesSubplot:xlabel='Jahr'>"
      ]
     },
     "execution_count": 143,
     "metadata": {},
     "output_type": "execute_result"
    },
    {
     "data": {
      "image/png": "[encoded data removed]",
      "text/plain": [
       "<Figure size 1152x720 with 1 Axes>"
      ]
     },
     "metadata": {
      "needs_background": "light"
     },
     "output_type": "display_data"
    }
   ],
   "source": [
    "tropical = hurricanes.loc[hurricanes['Type'] == 0]\n",
    "baroclinic_inf = hurricanes.loc[hurricanes['Type'] == 1]\n",
    "baroclinic_int = hurricanes.loc[hurricanes['Type'] == 3]\n",
    "\n",
    "count_tropical = []\n",
    "count_baroclinic_inf = []\n",
    "count_baroclinic_int = []\n",
    "\n",
    "# Zähle Anzahl tropischer,barokline beeiflusster nud baroklin entstandener Hurrikans pro Jahr\n",
    "for i in range(1944,2001):\n",
    "    count_tropical.append(list(tropical['Year']).count(i))\n",
    "    count_baroclinic_inf.append(list(baroclinic_inf['Year']).count(i))\n",
    "    count_baroclinic_int.append(list(baroclinic_int['Year']).count(i))\n",
    "    \n",
    "# Erzeuge Dataframe\n",
    "new = pd.DataFrame()\n",
    "new['Jahr'] = hurricanes['Year'].unique()\n",
    "new['Tropisch'] = count_tropical\n",
    "new['Barokline Einflüsse'] = count_baroclinic_inf\n",
    "new['Barokline Entstehung'] = count_baroclinic_int\n",
    "\n",
    "new.plot(x='Jahr', kind='bar', stacked=True)"
   ]
  },
  {
   "cell_type": "markdown",
   "id": "1898b106-e06c-4a9e-81d0-b3560b922a11",
   "metadata": {},
   "source": [
    "Für eine numerische Darstellung der Hurricane-Klassen verwenden wir die Methode `sum()`."
   ]
  },
  {
   "cell_type": "code",
   "execution_count": 144,
   "id": "f30dfb9e-3e94-4199-8e2a-df3d77549804",
   "metadata": {},
   "outputs": [
    {
     "name": "stdout",
     "output_type": "stream",
     "text": [
      "Klasse 0 Hurrikans : 187\n",
      "Klasse 1 Hurrikans : 77\n",
      "Klasse 3 Hurrikans : 73\n"
     ]
    }
   ],
   "source": [
    "print('Klasse 0 Hurrikans :',new['Tropisch'].sum())\n",
    "print('Klasse 1 Hurrikans :',new['Barokline Einflüsse'].sum())\n",
    "print('Klasse 3 Hurrikans :',new['Barokline Entstehung'].sum())"
   ]
  },
  {
   "cell_type": "markdown",
   "id": "cee1584d-0794-4589-834d-068219c7e129",
   "metadata": {},
   "source": [
    "Für die **Klasse** $0$, *tropische Wirbelstürme*, gibt es $187$ Beobachtungen, für die **Klasse** $1$, *barokline Einflüsse*, gibt es $77$ Beobachtungen und für die **Klasse** $3$, *barokline Auslösung*, gibt es $73$ Beobachtungen. Bei der logistischen Regression haben wir es mit dichotomen Daten zu tun; der Einfachheit halber kodieren wir die Klassen neu und weisen der Klasse $1$ und der Klasse $3$, die beide von den äußeren Tropen beeinflusst werden, die Bezeichnung $1$ zu."
   ]
  },
  {
   "cell_type": "code",
   "execution_count": 146,
   "id": "054743d8-2bf4-482d-a991-2c8f35e17bdb",
   "metadata": {},
   "outputs": [],
   "source": [
    "hurricanes_new = hurricanes\n",
    "hurricanes_new['Type_new'] = hurricanes_new['Type'].replace([3], 1)"
   ]
  },
  {
   "cell_type": "markdown",
   "id": "563b5d4d-4274-4bab-97b8-6c42efee26d8",
   "metadata": {},
   "source": [
    "Wir haben nun eine binäre Antwortvariable mit zwei Klassen: Die Klasse $0$ entspricht den *tropischen* Wirbelstürmen und die Klasse $1$ den *nicht-tropischen* Wirbelstürmen. Prüfen wir die Klassenverteilung unserer neuen Antwortvariablen `Type_new`."
   ]
  },
  {
   "cell_type": "code",
   "execution_count": 148,
   "id": "2e20c0df-fd60-4420-8a6f-c409cb850a9c",
   "metadata": {},
   "outputs": [
    {
     "name": "stdout",
     "output_type": "stream",
     "text": [
      "Klasse 0 Hurrikans : 187\n",
      "Klasse 1 Hurrikans : 150\n"
     ]
    }
   ],
   "source": [
    "tropical = hurricanes_new.loc[hurricanes_new['Type_new'] == 0]\n",
    "non_tropical = hurricanes_new.loc[hurricanes_new['Type_new'] == 1]\n",
    "print('Klasse 0 Hurrikans :',tropical['Type_new'].count())\n",
    "print('Klasse 1 Hurrikans :',non_tropical['Type_new'].count())"
   ]
  },
  {
   "cell_type": "markdown",
   "id": "0721241d-fb44-4de2-aa58-aa7ac935ab41",
   "metadata": {},
   "source": [
    "Um diesen Teil der explorativen Datenanalyse abzuschließen, stellen wir die Daten auf einer interaktiven Karte dar, indem wir das `Leaflet`-Paket verwenden."
   ]
  },
  {
   "cell_type": "code",
   "execution_count": 132,
   "id": "a1da39f4-2fc9-4c9f-ba60-2d896a256767",
   "metadata": {},
   "outputs": [
    {
     "data": {
      "text/html": [
       "<div style=\"width:100%;\"><div style=\"position:relative;width:100%;height:0;padding-bottom:60%;\"><span style=\"color:#565656\">Make this Notebook Trusted to load map: File -> Trust Notebook</span><iframe srcdoc=\"&lt;!DOCTYPE html&gt;\n",
       "&lt;head&gt;    \n",
       "    &lt;meta http-equiv=&quot;content-type&quot; content=&quot;text/html; charset=UTF-8&quot; /&gt;\n",
       "    \n",
       "        &lt;script&gt;\n",
       "            L_NO_TOUCH = false;\n",
       "            L_DISABLE_3D = false;\n",
       "        &lt;/script&gt;\n",
       "    \n",
       "    &lt;style&gt;html, body {width: 100%;height: 100%;margin: 0;padding: 0;}&lt;/style&gt;\n",
       "    &lt;style&gt;#map {position:absolute;top:0;bottom:0;right:0;left:0;}&lt;/style&gt;\n",
       "    &lt;script src=&quot;https://cdn.jsdelivr.net/npm/leaflet@1.6.0/dist/leaflet.js&quot;&gt;&lt;/script&gt;\n",
       "    &lt;script src=&quot;https://code.jquery.com/jquery-1.12.4.min.js&quot;&gt;&lt;/script&gt;\n",
       "    &lt;script src=&quot;https://maxcdn.bootstrapcdn.com/bootstrap/3.2.0/js/bootstrap.min.js&quot;&gt;&lt;/script&gt;\n",
       "    &lt;script src=&quot;https://cdnjs.cloudflare.com/ajax/libs/Leaflet.awesome-markers/2.0.2/leaflet.awesome-markers.js&quot;&gt;&lt;/script&gt;\n",
       "    &lt;link rel=&quot;stylesheet&quot; href=&quot;https://cdn.jsdelivr.net/npm/leaflet@1.6.0/dist/leaflet.css&quot;/&gt;\n",
       "    &lt;link rel=&quot;stylesheet&quot; href=&quot;https://maxcdn.bootstrapcdn.com/bootstrap/3.2.0/css/bootstrap.min.css&quot;/&gt;\n",
       "    &lt;link rel=&quot;stylesheet&quot; href=&quot;https://maxcdn.bootstrapcdn.com/bootstrap/3.2.0/css/bootstrap-theme.min.css&quot;/&gt;\n",
       "    &lt;link rel=&quot;stylesheet&quot; href=&quot;https://maxcdn.bootstrapcdn.com/font-awesome/4.6.3/css/font-awesome.min.css&quot;/&gt;\n",
       "    &lt;link rel=&quot;stylesheet&quot; href=&quot;https://cdnjs.cloudflare.com/ajax/libs/Leaflet.awesome-markers/2.0.2/leaflet.awesome-markers.css&quot;/&gt;\n",
       "    &lt;link rel=&quot;stylesheet&quot; href=&quot;https://cdn.jsdelivr.net/gh/python-visualization/folium/folium/templates/leaflet.awesome.rotate.min.css&quot;/&gt;\n",
       "    \n",
       "            &lt;meta name=&quot;viewport&quot; content=&quot;width=device-width,\n",
       "                initial-scale=1.0, maximum-scale=1.0, user-scalable=no&quot; /&gt;\n",
       "            &lt;style&gt;\n",
       "                #map_e8e9b9e867e0d590db77f7e2b13ee2d9 {\n",
       "                    position: relative;\n",
       "                    width: 100.0%;\n",
       "                    height: 100.0%;\n",
       "                    left: 0.0%;\n",
       "                    top: 0.0%;\n",
       "                }\n",
       "            &lt;/style&gt;\n",
       "        \n",
       "&lt;/head&gt;\n",
       "&lt;body&gt;    \n",
       "    \n",
       "            &lt;div class=&quot;folium-map&quot; id=&quot;map_e8e9b9e867e0d590db77f7e2b13ee2d9&quot; &gt;&lt;/div&gt;\n",
       "        \n",
       "&lt;/body&gt;\n",
       "&lt;script&gt;    \n",
       "    \n",
       "            var map_e8e9b9e867e0d590db77f7e2b13ee2d9 = L.map(\n",
       "                &quot;map_e8e9b9e867e0d590db77f7e2b13ee2d9&quot;,\n",
       "                {\n",
       "                    center: [49.24, 9.2],\n",
       "                    crs: L.CRS.EPSG3857,\n",
       "                    zoom: 7,\n",
       "                    zoomControl: true,\n",
       "                    preferCanvas: false,\n",
       "                }\n",
       "            );\n",
       "\n",
       "            \n",
       "\n",
       "        \n",
       "    \n",
       "            var tile_layer_fc7531fd2ec3bcfdde07acf24432d026 = L.tileLayer(\n",
       "                &quot;https://{s}.tile.openstreetmap.org/{z}/{x}/{y}.png&quot;,\n",
       "                {&quot;attribution&quot;: &quot;Data by \\u0026copy; \\u003ca href=\\&quot;http://openstreetmap.org\\&quot;\\u003eOpenStreetMap\\u003c/a\\u003e, under \\u003ca href=\\&quot;http://www.openstreetmap.org/copyright\\&quot;\\u003eODbL\\u003c/a\\u003e.&quot;, &quot;detectRetina&quot;: false, &quot;maxNativeZoom&quot;: 18, &quot;maxZoom&quot;: 18, &quot;minZoom&quot;: 0, &quot;noWrap&quot;: false, &quot;opacity&quot;: 1, &quot;subdomains&quot;: &quot;abc&quot;, &quot;tms&quot;: false}\n",
       "            ).addTo(map_e8e9b9e867e0d590db77f7e2b13ee2d9);\n",
       "        \n",
       "&lt;/script&gt;\" style=\"position:absolute;width:100%;height:100%;left:0;top:0;border:none !important;\" allowfullscreen webkitallowfullscreen mozallowfullscreen></iframe></div></div>"
      ],
      "text/plain": [
       "<folium.folium.Map at 0x277e0114580>"
      ]
     },
     "execution_count": 132,
     "metadata": {},
     "output_type": "execute_result"
    }
   ],
   "source": [
    "#Define coordinates of where we want to center our map\n",
    "boulder_coords = [49.24, 9.2]\n",
    "\n",
    "#Create the map\n",
    "my_map = folium.Map(location = boulder_coords, zoom_start = 7)\n",
    "\n",
    "#Display the map\n",
    "my_map\n"
   ]
  },
  {
   "cell_type": "markdown",
   "id": "179d9316-737d-4b7d-b099-514a584a12c9",
   "metadata": {},
   "source": [
    "### Logistische Regression: Modellanpassung"
   ]
  },
  {
   "cell_type": "markdown",
   "id": "0ba1145b-699b-46bc-8228-ce94ac97889b",
   "metadata": {},
   "source": [
    "Erinnern Sie sich an das Ziel der Übung: Wir wollen ein Modell erstellen, das die Gruppenzugehörigkeit eines Hurrikans vorhersagt, entweder tropisch ($0$) oder nicht-tropisch ($1$), basierend auf dem Breitengrad der Entstehung des Hurrikans. Die Antwortvariable ist die binäre Variable `Typ_new` und die Prädiktorvariable ist `FirstLat`. Wir erstellen ein Logit-Modell, indem wir die Funktion `GLM()` anwenden. Für das logistische Regressionsmodell geben wir `family = 'Binomial'` an."
   ]
  },
  {
   "cell_type": "code",
   "execution_count": 152,
   "id": "7967611b-e0df-4d74-bff3-385ef9b8ed1c",
   "metadata": {},
   "outputs": [
    {
     "name": "stdout",
     "output_type": "stream",
     "text": [
      "<class 'statsmodels.datasets.utils.Dataset'>\n"
     ]
    }
   ],
   "source": [
    "data = sm.datasets.scotland.load()\n",
    "print(data)"
   ]
  },
  {
   "cell_type": "code",
   "execution_count": 158,
   "id": "e2760776-95a2-43f0-b71a-246c894787b3",
   "metadata": {},
   "outputs": [],
   "source": [
    "y = hurricanes_new['FirstLat']\n",
    "y = sm.add_constant(y)\n",
    "X = hurricanes_new['Type_new']\n",
    "log_model = sm.GLM(X, y, family=sm.families.Binomial())\n",
    "log_results = log_model.fit()"
   ]
  },
  {
   "cell_type": "markdown",
   "id": "5e59d6bb-5b2f-4fc0-b745-4c87ad5225cc",
   "metadata": {},
   "source": [
    "Wir verwenden die Extraktormethode `summary()`, um die Modelleigenschaften zu überprüfen."
   ]
  },
  {
   "cell_type": "code",
   "execution_count": 159,
   "id": "c6d2a0d6-0fbd-41d9-800f-a45ea907df73",
   "metadata": {},
   "outputs": [
    {
     "data": {
      "text/html": [
       "<table class=\"simpletable\">\n",
       "<caption>Generalized Linear Model Regression Results</caption>\n",
       "<tr>\n",
       "  <th>Dep. Variable:</th>       <td>Type_new</td>     <th>  No. Observations:  </th>  <td>   337</td> \n",
       "</tr>\n",
       "<tr>\n",
       "  <th>Model:</th>                  <td>GLM</td>       <th>  Df Residuals:      </th>  <td>   335</td> \n",
       "</tr>\n",
       "<tr>\n",
       "  <th>Model Family:</th>        <td>Binomial</td>     <th>  Df Model:          </th>  <td>     1</td> \n",
       "</tr>\n",
       "<tr>\n",
       "  <th>Link Function:</th>         <td>Logit</td>      <th>  Scale:             </th> <td>  1.0000</td>\n",
       "</tr>\n",
       "<tr>\n",
       "  <th>Method:</th>                <td>IRLS</td>       <th>  Log-Likelihood:    </th> <td> -116.02</td>\n",
       "</tr>\n",
       "<tr>\n",
       "  <th>Date:</th>            <td>Wed, 11 May 2022</td> <th>  Deviance:          </th> <td>  232.03</td>\n",
       "</tr>\n",
       "<tr>\n",
       "  <th>Time:</th>                <td>13:49:33</td>     <th>  Pearson chi2:      </th>  <td>  430.</td> \n",
       "</tr>\n",
       "<tr>\n",
       "  <th>No. Iterations:</th>          <td>6</td>        <th>  Pseudo R-squ. (CS):</th>  <td>0.4963</td> \n",
       "</tr>\n",
       "<tr>\n",
       "  <th>Covariance Type:</th>     <td>nonrobust</td>    <th>                     </th>     <td> </td>   \n",
       "</tr>\n",
       "</table>\n",
       "<table class=\"simpletable\">\n",
       "<tr>\n",
       "      <td></td>        <th>coef</th>     <th>std err</th>      <th>z</th>      <th>P>|z|</th>  <th>[0.025</th>    <th>0.975]</th>  \n",
       "</tr>\n",
       "<tr>\n",
       "  <th>const</th>    <td>   -9.0826</td> <td>    0.961</td> <td>   -9.446</td> <td> 0.000</td> <td>  -10.967</td> <td>   -7.198</td>\n",
       "</tr>\n",
       "<tr>\n",
       "  <th>FirstLat</th> <td>    0.3728</td> <td>    0.039</td> <td>    9.447</td> <td> 0.000</td> <td>    0.295</td> <td>    0.450</td>\n",
       "</tr>\n",
       "</table>"
      ],
      "text/plain": [
       "<class 'statsmodels.iolib.summary.Summary'>\n",
       "\"\"\"\n",
       "                 Generalized Linear Model Regression Results                  \n",
       "==============================================================================\n",
       "Dep. Variable:               Type_new   No. Observations:                  337\n",
       "Model:                            GLM   Df Residuals:                      335\n",
       "Model Family:                Binomial   Df Model:                            1\n",
       "Link Function:                  Logit   Scale:                          1.0000\n",
       "Method:                          IRLS   Log-Likelihood:                -116.02\n",
       "Date:                Wed, 11 May 2022   Deviance:                       232.03\n",
       "Time:                        13:49:33   Pearson chi2:                     430.\n",
       "No. Iterations:                     6   Pseudo R-squ. (CS):             0.4963\n",
       "Covariance Type:            nonrobust                                         \n",
       "==============================================================================\n",
       "                 coef    std err          z      P>|z|      [0.025      0.975]\n",
       "------------------------------------------------------------------------------\n",
       "const         -9.0826      0.961     -9.446      0.000     -10.967      -7.198\n",
       "FirstLat       0.3728      0.039      9.447      0.000       0.295       0.450\n",
       "==============================================================================\n",
       "\"\"\""
      ]
     },
     "execution_count": 159,
     "metadata": {},
     "output_type": "execute_result"
    }
   ],
   "source": [
    "log_results.summary()"
   ]
  },
  {
   "cell_type": "markdown",
   "id": "390d9429-a39c-4739-b795-c34a88892bfe",
   "metadata": {},
   "source": [
    "Schauen wir uns die Koeffizienten genauer an:"
   ]
  },
  {
   "cell_type": "markdown",
   "id": "83fcd94c-5a40-441a-8dae-f32ecc124f7c",
   "metadata": {},
   "source": [
    "summary(log.model)$coefficients"
   ]
  },
  {
   "cell_type": "markdown",
   "id": "d960af85-f5be-47e4-9fd1-757d43e439d8",
   "metadata": {},
   "source": [
    "Beachten Sie, dass die Ausgabe des logistischen Modells auf der Link-Skala (*logit*) erfolgt; die numerische Ausgabe des Modells entspricht also den **Log-Odds**! Der Einfachheit halber schreiben wir das logistische Regressionsmodell mit dem berechneten Achsenabschnitt und Koeffizienten auf."
   ]
  },
  {
   "cell_type": "markdown",
   "id": "797e9c9d-cd7a-4783-a165-870bb2fa1fc7",
   "metadata": {},
   "source": [
    "$$\\phi(\\eta) = \\frac{1}{1+e^{-\\eta}}= \\frac{1}{1+e^{-\\beta_0+\\beta_1x_1}}= \\frac{1}{1+e^{-(-9,0826335+ 0,3728295x)}}$$"
   ]
  },
  {
   "cell_type": "markdown",
   "id": "60cc4b54-b91f-40ea-b0a7-ecc4b7bd5b4e",
   "metadata": {},
   "source": [
    "Konzentrieren wir uns zunächst auf den Koeffizienten des Achsenabschnitts. Der Koeffizient des Achsenabschnitts entspricht der logarithmischen Wahrscheinlichkeit der Beobachtung eines Hurrikans auf dem Breitengrad Null, der als Äquator bekannt ist. Um die Wahrscheinlichkeit der Beobachtung eines nicht-tropischen Hurrikans bei einem Breitengrad von Null zu berechnen, potenzieren wir die log-odds $e^{-9.0826335} = 1.1362198\\times 10^{-4}$. \n",
    "\n",
    "Dies ist eine sehr niedrige Zahl! Und sie macht durchaus Sinn, da es sehr unwahrscheinlich ist, einen nicht-tropischen Hurrikan am Äquator zu beobachten.\n",
    "\n",
    "Der Koeffizient der Variable für die Bildungsbreite (`FirstLat`) hat einen numerischen Wert von $0,3728295$. Das positive Vorzeichen dieses Wertes zeigt an, dass die Wahrscheinlichkeit, einen außertropischen Wirbelsturm zu beobachten, mit dem Breitengrad zunimmt. Die Größe des Koeffizienten bedeutet, dass die Log-Odds für jedes Grad Zunahme der geografischen Breite im Durchschnitt um konstant $0,3728295$ Einheiten zunimmt. Wenn man den Koeffizientenwertes als Exponenten nimmt, erhält man das Odds Verhältnis."
   ]
  },
  {
   "cell_type": "code",
   "execution_count": 161,
   "id": "bcec68f2-8d64-4a4c-a6e6-ffdbe528ffbf",
   "metadata": {},
   "outputs": [
    {
     "data": {
      "text/plain": [
       "1.4518367805578616"
      ]
     },
     "execution_count": 161,
     "metadata": {},
     "output_type": "execute_result"
    }
   ],
   "source": [
    "math.exp(0.3728295)"
   ]
  },
  {
   "cell_type": "markdown",
   "id": "78d1891d-549d-40c2-8078-f596dbbee49e",
   "metadata": {},
   "source": [
    "Somit erhöht sich das Chancenverhältnis für jedes Grad Zunahme der Bildungsbreite im Durchschnitt um einen konstanten Faktor von $1,4518368$ (oder $45 \\%$). Die Interpretation gilt nur für den Bereich der Breitengrade in den Daten und ist für Breitengrade außerhalb des Bereichs, in dem Hurrikane auftreten, physikalisch bedeutungslos.\n",
    "\n",
    "Die obige Koeffiziententabelle enthält einen Standardfehler und den $p$-Wert. Je kleiner der $p$-Wert ist, desto geringer ist die Unterstützung für die Nullhypothese angesichts der Daten und des Modells. Zur Erinnerung: Die Nullhypothese besagt, dass der Koeffizient gleich $0$,\n",
    "mit anderen Worten, die Nullhypothese besagt, dass es keinen Zusammenhang zwischen dem Auftreten eines nichttropischen Hurrikans und der Entstehungsbreite gibt. Der sehr kleine $p$-Wert stützt die Nullhypothese nicht und erlaubt uns, das Modell zu akzeptieren.\n",
    "\n",
    "Wir haben gelernt, dass jede Punktschätzung von einem Konfidenzniveau bezüglich dieser Punktschätzung begleitet sein sollte. Daher konstruieren wir ein $95 \\%$-Konfidenzintervall für den geschätzten Modellkoeffizienten. Wir potenzieren das Ergebnis, um das Odds-Ratio zu erhalten, eine Größe, die leichter zu interpretieren ist als die Log-Odds."
   ]
  },
  {
   "cell_type": "code",
   "execution_count": 164,
   "id": "b232d9a4-4817-4405-8bd7-842b3b1a74ef",
   "metadata": {},
   "outputs": [
    {
     "name": "stdout",
     "output_type": "stream",
     "text": [
      "2,5 % : 0.295 97,5 % : 0.45\n"
     ]
    }
   ],
   "source": [
    "print('2,5 % :',0.295,'97,5 % :',0.450)"
   ]
  },
  {
   "cell_type": "code",
   "execution_count": 165,
   "id": "abced3ed-f0f8-4e18-810b-d33500e020a7",
   "metadata": {},
   "outputs": [
    {
     "name": "stdout",
     "output_type": "stream",
     "text": [
      "2,5 % : 1.3431263586862767 97,5 % : 1.568312185490169\n"
     ]
    }
   ],
   "source": [
    "print('2,5 % :',math.exp(0.295),'97,5 % :',math.exp(0.450))"
   ]
  },
  {
   "cell_type": "markdown",
   "id": "eb5842eb-f5a5-4322-a316-6ff1691d5c8d",
   "metadata": {},
   "source": [
    "Wir können also mit $95 \\%$iger Sicherheit sagen, dass für jedes Grad Zunahme der Bildungsbreite die Beobachtung eines nicht-tropischen Hurrikans im Durchschnitt zwischen $34$ und $57 \\%$ wahrscheinlicher wird."
   ]
  },
  {
   "cell_type": "markdown",
   "id": "e4bb7c5c-d158-445a-982d-230e653da600",
   "metadata": {},
   "source": [
    "### Logistische Regression: Modellvorhersage"
   ]
  },
  {
   "cell_type": "markdown",
   "id": "b042b719-cecd-42bc-b583-3ad4a65c4df9",
   "metadata": {
    "tags": []
   },
   "source": [
    "Im vorangegangenen Abschnitt haben wir ein logistisches Regressionsmodell für die Beziehung zwischen der Entstehungsbreite und der Art des Hurrikans (tropisch/nicht-tropisch) erstellt. In diesem Abschnitt wenden wir dieses Modell an, um Vorhersagen über die Wahrscheinlichkeit der Beobachtung eines nicht-tropischen Hurrikans in Abhängigkeit von der Entstehungsbreite zu machen.\n",
    "\n",
    "Um die Wahrscheinlichkeit vorherzusagen, dass ein zufällig ausgewählter Hurrikan, der sich auf einem bestimmten Breitengrad bildet, vom Typ nicht-tropisch ist, wenden wir die Funktion `predict()` an. Bitte beachten Sie, dass die Funktion `predict()` die Wahrscheinlichkeit und nicht die Log-Odds zurückgibt, wenn wir dem Funktionsaufruf das Argument `type = 'response'` hinzufügen. Berechnen wir die Wahrscheinlichkeit, einen nicht-tropischen Hurrikan zu beobachten, der sich bei folgenden Breitengraden gebildet hat : $10^\\circ, 23,5^\\circ \\text{und }30^\\circ$"
   ]
  },
  {
   "cell_type": "code",
   "execution_count": 182,
   "id": "77aa1885-d720-495a-b428-1ea78e99c3a2",
   "metadata": {},
   "outputs": [],
   "source": [
    "#sm.GLM.predict(params = log_results.params,exog = [10,23.5,30])\n",
    "#log_model.predict(30)"
   ]
  },
  {
   "cell_type": "markdown",
   "id": "fc5966e0-fd30-42a2-ab28-45b49cc01951",
   "metadata": {},
   "source": [
    "Die Ergebnisse machen durchaus Sinn. Mit zunehmender geografischer Breite nimmt die Wahrscheinlichkeit, die Bildung eines nichttropischen Hurrikans zu beobachten, deutlich zu. Bei einem Breitengrad von $10^\\circ$ beträgt die Wahrscheinlichkeit der Beobachtung eines außertropischen Hurrikans $0,005$, während sie bei einem Breitengrad von $30^\\circ$ $0,891$ beträgt.\n",
    "\n",
    "Zum besseren Verständnis wollen wir die Wahrscheinlichkeit der Beobachtung eines nichttropischen Hurrikans, der sich bei einem Breitengrad von $23,5^\\circ$\n",
    "von Hand. Erinnern wir uns an die Gleichung für das Regressionsmodell von oben:"
   ]
  },
  {
   "cell_type": "markdown",
   "id": "b129f4ef-b594-41ef-9037-9bf35487a067",
   "metadata": {},
   "source": [
    "\\begin{align}\n",
    "\\ \\phi(\\eta) & = \\frac{1}{1+e^{-\\eta}} = \\frac{1}{1+e^{-\\beta_0+\\beta_1x_1}}\\\\\n",
    " & = \\frac{1}{1+e^{-(-9,0826335+ 0,3728295 \\times 23,5)}} \\\\\n",
    " & = \\frac{1}{1+e^{-(-0,3211396)}} \\\\ \n",
    " & = \\frac{1}{2,378698}  = 0,4203981\n",
    "\\end{align}"
   ]
  },
  {
   "cell_type": "markdown",
   "id": "a2c0ca40-716b-41bd-bbce-bdf87d6cb380",
   "metadata": {},
   "source": [
    "Zur Veranschaulichung unserer Ergebnisse erstellen wir ein Diagramm der Vorhersagen über eine Reihe von Breitengraden. Dazu erstellen wir zunächst einen Vektor der Breitengrade, `lats`. Wir geben eine Schrittweite von $0,1$ Grad an, damit die resultierende Vorhersagekurve glatt ist. Wir wenden die Funktion `predict()` an und setzen `se.fit = TRUE`, um den **Standardfehler** der Vorhersage zu erhalten. Die Kenntnis des Standardfehlers ermöglicht die Berechnung der **Fehlermarge** und damit des **Konfidenzintervalls**. Schließlich zeichnen wir die Datenpunkte (Beobachtungen) bei $0$ und $1$ ein und fügen die vorhergesagten Werte mit der Funktion `lines()` hinzu."
   ]
  },
  {
   "cell_type": "code",
   "execution_count": 173,
   "id": "7a73a5df-894b-482f-b304-3bcca191657a",
   "metadata": {},
   "outputs": [],
   "source": [
    "lats = np.linspace(min(hurricanes_new['FirstLat']),max(hurricanes_new['FirstLat']), num = 357)\n",
    "\n"
   ]
  },
  {
   "cell_type": "markdown",
   "id": "bd6093e7-6b7b-49b0-a08f-1600ee3c7958",
   "metadata": {},
   "source": [
    "lats = linspace(min(hurricanes_new['FirstLat'],max(hurricanes_new['FirstLat'], 0.1)\n",
    "\n",
    "probs = predict(log.model, \n",
    "                newdata = data.frame(FirstLat = lats), \n",
    "                type = \"response\", \n",
    "                se.fit = TRUE)\n",
    "\n",
    "pm = probs$fit\n",
    "pu = probs$fit + probs$se.fit * 1.96 # 95% confidence interval\n",
    "pl = probs$fit - probs$se.fit * 1.96 # 95% confidence interval\n",
    "\n",
    "plot(hurricanes$FirstLat, \n",
    "     hurricanes$Type.new, \n",
    "     pch = 16, \n",
    "     cex = 1, \n",
    "     ylab = \"Probability\", \n",
    "     xlab = \"Formation Latitude (N)\")\n",
    "\n",
    "grid()\n",
    "\n",
    "polygon(c(rev(lats),lats), c(rev(pl),pu),\n",
    "     col = \"grey90\", border = NA)\n",
    "\n",
    "lines(lats, pm, lwd = 2)\n",
    "lines(lats, pu, lwd = 2, col = \"red\")\n",
    "lines(lats, pl, lwd = 2, col = \"red\")\n",
    "\n",
    "abline(h=0.1, lty=2)\n",
    "abline(h=0.5, lty=2)\n",
    "abline(h=0.9, lty=2)"
   ]
  },
  {
   "cell_type": "markdown",
   "id": "786577ca-4b84-4782-b84c-1ce968dd71c8",
   "metadata": {},
   "source": [
    "![Alt-Text](104_GLM.png)"
   ]
  },
  {
   "cell_type": "markdown",
   "id": "63e3c71d-0336-4d00-8848-ec400d01494f",
   "metadata": {},
   "source": [
    "Die Beobachtungen tropischer und nicht-tropischer Hurrikane sind entlang der Linien $y=0$ bzw. $y=1$ Linien dargestellt. Das graue Band ist das $95 \\%$ige punktweise Konfidenzintervall.\n",
    "\n",
    "Die Modellvorhersagen zeigen, dass die Wahrscheinlichkeit eines nichttropischen Hurrikans bei Breitengraden südlich von $20^\\circ N$ weniger als $10 \\%$ beträgt. Bis zum Breitengrad $26^\\circ N$ übersteigt die Wahrscheinlichkeit jedoch $50 \\%$ und bis zum Breitengrad $33^\\circ N$ übersteigt die Wahrscheinlichkeit $90 \\%$. Das Chancenverhältnis ist konstant, aber die Wahrscheinlichkeit ist eine nichtlineare Funktion des Breitengrads."
   ]
  },
  {
   "cell_type": "code",
   "execution_count": null,
   "id": "4834f0b9-b12d-4d3f-a0e5-505de1ffe54a",
   "metadata": {},
   "outputs": [],
   "source": []
  }
 ],
 "metadata": {
  "kernelspec": {
   "display_name": "Python 3 (ipykernel)",
   "language": "python",
   "name": "python3"
  },
  "language_info": {
   "codemirror_mode": {
    "name": "ipython",
    "version": 3
   },
   "file_extension": ".py",
   "mimetype": "text/x-python",
   "name": "python",
   "nbconvert_exporter": "python",
   "pygments_lexer": "ipython3",
   "version": "3.10.2"
  }
 },
 "nbformat": 4,
 "nbformat_minor": 5
}
