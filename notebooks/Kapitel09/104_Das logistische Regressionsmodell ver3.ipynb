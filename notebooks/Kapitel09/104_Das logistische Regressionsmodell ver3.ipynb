{
 "cells": [
  {
   "cell_type": "markdown",
   "id": "f37d4cd6-191f-4edd-a396-9aa81bd59041",
   "metadata": {},
   "source": [
    "## Das logistische Regressionsmodell\n",
    "----------------------------------------"
   ]
  },
  {
   "cell_type": "markdown",
   "id": "904f6662-c45f-42f9-8de2-fc87ed183b82",
   "metadata": {},
   "source": [
    "Die Logit-Funktion bildet Wahrscheinlichkeiten auf Werte über den gesamten realen Zahlenbereich ab. Die Wahrscheinlichkeit, dass ein Ereignis/Ergebnis/Erfolg wahr ist ($y=1$), wenn die Menge der unabhängigen Variablen $x_i$, unsere Daten, gegeben ist, wird also geschrieben als"
   ]
  },
  {
   "cell_type": "markdown",
   "id": "85e9a171-7f27-42ae-b295-86ab70f4dee1",
   "metadata": {},
   "source": [
    "$$logit(P(y=1|x_i)) = \\beta_0+ \\beta_1x_1+ \\beta_2x_2 + ... + \\beta_kx_k\\text{,}$$"
   ]
  },
  {
   "cell_type": "markdown",
   "id": "9f778e77-9f68-427a-9a3a-25350ee3c17c",
   "metadata": {},
   "source": [
    "Der Einfachheit halber drücken wir das Inverse der obigen Funktion wie folgt aus"
   ]
  },
  {
   "cell_type": "markdown",
   "id": "043e2d96-a3cc-4c57-9ab0-59bdd31714c5",
   "metadata": {},
   "source": [
    "$$\\phi(\\eta) = \\frac{1}{1+e^{-\\eta}}\\text{,}$$"
   ]
  },
  {
   "cell_type": "markdown",
   "id": "7bc3522a-b0c6-4469-9bdd-d19261f7e77e",
   "metadata": {},
   "source": [
    "wobei $\\eta$ die Linearkombination von Koeffizienten ($\\beta_i$) und unabhängiger Variablen ($x_i$) ist, berechnet als $\\eta = \\beta_0 + \\beta_1x_1 + \\beta_2x_2 + ... + \\beta_kx_k$."
   ]
  },
  {
   "cell_type": "markdown",
   "id": "c39ebc33-278a-4dbf-8bf4-9b60c3f89dd6",
   "metadata": {},
   "source": [
    "Die Parameter ($\\beta_i$) des Logit-Modells werden nach der <a href=\"https://de.wikipedia.org/wiki/Maximum-Likelihood-Methode\">Methode der maximalen Wahrscheinlichkeit</a> geschätzt. Es gibt jedoch keine geschlossene Lösung, so dass die Maximum-Likelihood-Schätzungen u. a. durch iterative Algorithmen wie <a href=\"https://de.wikipedia.org/wiki/Newtonverfahren\">Newton-Raphson</a>, <a href=\"https://en.wikipedia.org/wiki/Iteratively_reweighted_least_squares\">iterativ neu gewichtete kleinste Quadrate</a> oder <a href=\"https://de.wikipedia.org/wiki/Gradientenverfahren\">Gradientenverfahren</a> ermittelt werden.\n",
    "\n",
    "Das Ergebnis der Sigmoidfunktion wird als die Wahrscheinlichkeit interpretiert, dass eine bestimmte Beobachtung zur Klasse $1$ gehört. Sie wird geschrieben als $\\phi(\\eta)=P(y=1|x_i,\\beta_i)$, die Erfolgswahrscheinlichkeit ($y=1$) bei den durch die Koeffizienten $\\beta_i$ parametrisierten Prädiktorvariablen $x_i$. Wenn wir beispielsweise für eine bestimmte Beobachtung $\\phi(\\eta)=0,65$ berechnen, bedeutet dies, dass die Wahrscheinlichkeit, dass diese Beobachtung zur Klasse $1$ gehört, $65 \\%$ beträgt. In ähnlicher Weise wird die Wahrscheinlichkeit, dass diese Beobachtung zu Klasse 2 gehört, berechnet als $$\\phi(\\eta) = P(y=0|x_i,\\beta_i) = 1 - P(y=1|x_i,\\beta_i) = 1 - 0,65=0,35$$ oder $35 \\%$. Für die Klassenzuordnung wird die vorhergesagte Wahrscheinlichkeit dann über eine Einheitssprungfunktion in ein binäres Ergebnis umgewandelt:"
   ]
  },
  {
   "cell_type": "markdown",
   "id": "1a342d17-dc7c-40b8-8fa1-b4ab9f24387a",
   "metadata": {},
   "source": [
    "$$\n",
    "\\hat{y} =\n",
    "\\begin{cases}\n",
    "1,  & \\text{wenn $\\phi(\\eta) \\ge$ 0,5} \\\\\n",
    "0, & \\text{sonst}\n",
    "\\end{cases}$$"
   ]
  },
  {
   "cell_type": "code",
   "execution_count": null,
   "id": "bbab330b-088c-403c-afb7-5bf174b73bb5",
   "metadata": {},
   "outputs": [],
   "source": []
  }
 ],
 "metadata": {
  "kernelspec": {
   "display_name": "Python 3 (ipykernel)",
   "language": "python",
   "name": "python3"
  },
  "language_info": {
   "codemirror_mode": {
    "name": "ipython",
    "version": 3
   },
   "file_extension": ".py",
   "mimetype": "text/x-python",
   "name": "python",
   "nbconvert_exporter": "python",
   "pygments_lexer": "ipython3",
   "version": "3.10.2"
  }
 },
 "nbformat": 4,
 "nbformat_minor": 5
}
