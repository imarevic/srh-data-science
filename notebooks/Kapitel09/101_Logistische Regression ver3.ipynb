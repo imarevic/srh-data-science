{
 "cells": [
  {
   "cell_type": "markdown",
   "id": "89fbead3-183a-4341-93ef-4ea16c793357",
   "metadata": {},
   "source": [
    "## Logistische Regression\n",
    "----------------------------------------"
   ]
  },
  {
   "cell_type": "markdown",
   "id": "3e26688b-9061-4cc6-bcd4-362e6880162c",
   "metadata": {},
   "source": [
    "Die <a href=\"https://en.wikipedia.org/wiki/Logistic_regression\">logistische Regression</a>, auch bekannt als **Logit-Regression** oder **Logit-Modell**, ist ein probabilistisches lineares Modell für dichotome Daten. Die Antwortvariable ist eine binäre Variable (Nominalvariable), d. h. die Variable hat zwei Kategorien oder zwei Werte: Wahr vs. Falsch oder $1$ vs. $0$ oder Erfolg vs. Misserfolg, mit den Wahrscheinlichkeiten $\\pi$ bzw. $1-\\pi$. Somit folgt die Antwortvariable einer Binomialverteilung, die wie folgt geschrieben wird"
   ]
  },
  {
   "cell_type": "markdown",
   "id": "2559f9d2-ec57-4dea-93e9-7b0ca659fc79",
   "metadata": {},
   "source": [
    "$$y \\sim B(\\eta,\\pi)\\text{,}$$"
   ]
  },
  {
   "cell_type": "markdown",
   "id": "c027bfec-94ba-4444-800c-52b3c012f007",
   "metadata": {},
   "source": [
    "wobei $\\eta$ der binomische Nenner ist, der für eine binäre Variable $0$ oder $1$ ist, und $\\pi$ die Erfolgswahrscheinlichkeit ist."
   ]
  },
  {
   "cell_type": "markdown",
   "id": "b0c640cf-536c-41e0-ac99-54af17b9896b",
   "metadata": {},
   "source": []
  }
 ],
 "metadata": {
  "kernelspec": {
   "display_name": "Python 3 (ipykernel)",
   "language": "python",
   "name": "python3"
  },
  "language_info": {
   "codemirror_mode": {
    "name": "ipython",
    "version": 3
   },
   "file_extension": ".py",
   "mimetype": "text/x-python",
   "name": "python",
   "nbconvert_exporter": "python",
   "pygments_lexer": "ipython3",
   "version": "3.10.2"
  }
 },
 "nbformat": 4,
 "nbformat_minor": 5
}
