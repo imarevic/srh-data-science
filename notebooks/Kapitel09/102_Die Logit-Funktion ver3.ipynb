{
 "cells": [
  {
   "cell_type": "markdown",
   "id": "ef3d15ff-76ff-4978-b89f-c7622d8d06ab",
   "metadata": {},
   "source": [
    "## Die Logit-Funktion\n",
    "----------------------------------------"
   ]
  },
  {
   "cell_type": "markdown",
   "id": "f1fbe0b3-37a3-49eb-9a5c-ae74b61be88f",
   "metadata": {},
   "source": [
    "Das Ergebnis einer logistischen Regression ist eine Wahrscheinlichkeit ($\\pi$), also ein Wert zwischen $0$ und $1$. Außerdem ist dieses Ergebnis eine lineare Funktion bekannter Kovariaten $x_i$, was nur ein anderes Wort für die Beobachtungen in unserem Datensatz ist. "
   ]
  },
  {
   "cell_type": "markdown",
   "id": "74eaa2cf-4f49-4d9b-a91d-9cae36a51b99",
   "metadata": {},
   "source": [
    "$$\\pi =\\beta_0+ \\beta_1x_1+ \\beta_2x_2+ ... +\\beta_kx_k$$"
   ]
  },
  {
   "cell_type": "markdown",
   "id": "bf201f96-17db-4dbd-a963-d36cd414ec2d",
   "metadata": {},
   "source": [
    "Für ein einfaches logistisches Regressionsmodell mit einer Vorhersagevariablen vereinfacht sich die obige Gleichung zu"
   ]
  },
  {
   "cell_type": "markdown",
   "id": "af71edc3-3f5a-434d-a2a6-da39604c3672",
   "metadata": {},
   "source": [
    "$$\\pi = \\beta_0+ \\beta_1x_1\\text{.}$$"
   ]
  },
  {
   "cell_type": "markdown",
   "id": "8c726382-cc7f-42c8-b1f6-3124f2fc1e4a",
   "metadata": {},
   "source": [
    "Der rechte Term der Gleichung kann jedoch jeden reellen Wert annehmen, während der linke Term der Gleichung eine Wahrscheinlichkeit auf der Skala von $0$ bis $1$ ist. Um die Skala der Daten (rechter Term) in eine Wahrscheinlichkeit zwischen $0$ und $1$ abzubilden wenden wir eine so genannte **Verknüpfungsfunktion** an.\n",
    "\n",
    "Für das logistische Regressionsmodell ist diese Verknüpfungsfunktion die <a href=\"https://en.wikipedia.org/wiki/Logit\">Logit-Funktion</a>. Die Logit-Funktion bildet Wahrscheinlichkeiten aus dem Bereich ($0,1$)\n",
    "auf den gesamten reellen Zahlenbereich ($-\\infty,\\infty$). Sie wird geschrieben als"
   ]
  },
  {
   "cell_type": "markdown",
   "id": "293fca1b-1a9f-4785-b82e-042fe604fa95",
   "metadata": {},
   "source": [
    "$$\\eta = logit(\\pi)\\text{,}$$"
   ]
  },
  {
   "cell_type": "markdown",
   "id": "98343823-bd27-49ee-a428-d5f42d4c3e64",
   "metadata": {},
   "source": [
    "wobei $\\pi$ die Wahrscheinlichkeit ist.\n",
    "\n",
    "Um den Logit zu verstehen, führen wir zunächst das <a href=\"https://en.wikipedia.org/wiki/Odds_ratio\">\"Odds ratio\"</a> oder kurz **Odds** ein. Die Odds ($o$) können geschrieben werden als"
   ]
  },
  {
   "cell_type": "markdown",
   "id": "cbe3260a-c2b8-48d1-a000-91c4e76ceddc",
   "metadata": {},
   "source": [
    "$$o = \\frac{\\pi}{1-\\pi}\\text{,}$$"
   ]
  },
  {
   "cell_type": "markdown",
   "id": "c49a0d16-0749-42e4-8d80-78481c0ecb97",
   "metadata": {},
   "source": [
    "wobei $\\pi$ die Wahrscheinlichkeit ist, dass ein Ereignis eintritt. Wenn die Wahrscheinlichkeit eines Ereignisses $0,5$ beträgt, ist die Wahrscheinlichkeit eins zu eins oder gerade $\\left(\\frac{0.5}{1-0.5}=1\\right)$. Wenn die Wahrscheinlichkeit $1/3$ beträgt, ist die Wahrscheinlichkeit eins zu zwei $\\left(\\frac{1/3}{1-1/3}=1/2\\right)$. Die Odds können jeden positiven Wert annehmen und unterliegen daher keiner Beschränkung nach oben $[0 \\ $,$ \\ \\infty[$. Daher definieren wir weiter die oder **Log-Odds**, die der Logarithmus der Odds ist: "
   ]
  },
  {
   "cell_type": "markdown",
   "id": "e3eb0bcd-fc5b-41b0-bd89-3b12172e03e3",
   "metadata": {},
   "source": [
    "$$\\eta = logit(\\pi) = log \\left( \\frac{\\pi}{1-\\pi}\\right)$$"
   ]
  },
  {
   "cell_type": "markdown",
   "id": "0326fdfe-479a-4050-9f92-2eb26b07350d",
   "metadata": {},
   "source": [
    "Diese logarithmische Funktion bewirkt, dass die Beschränkung der Untergrenze aufgehoben wird, so dass die Funktion, die <a href=\"https://en.wikipedia.org/wiki/Logit\">Logit-Funktion</a>, unsere Verknüpfungsfunktion, Werte im Bereich von $0$ bis $1$ in Werte über den gesamten realen Zahlenbereich $]-\\infty \\ $,$ \\ +\\infty[$ umwandelt. Wenn die Wahrscheinlichkeit $1/2$ beträgt sind die Odds gerade und der Logit ist Null. Negative Logits stehen für Wahrscheinlichkeiten unter der Hälfte und positive Logits für Wahrscheinlichkeiten über der Hälfte.\n",
    "\n",
    "Die umgekehrte Form der Logitfunktion wird auch als <a href=\"https://en.wikipedia.org/wiki/Logistic_function\">logistische Funktion</a> bezeichnet, die aufgrund ihrer charakteristischen $S$-Form manchmal einfach als **<a href=\"https://en.wikipedia.org/wiki/Sigmoid_function\">Sigmoidfunktion</a>** abgekürzt wird. Sie ermöglicht es uns, von Logits auf Wahrscheinlichkeiten umzuschalten."
   ]
  },
  {
   "cell_type": "markdown",
   "id": "2aac636a-dda5-45e7-8649-b01a18127262",
   "metadata": {},
   "source": [
    "$$\\pi = logit^{-1}(\\eta) = \\frac{e^{\\eta}}{1+e^{\\eta}} = \\frac{1}{1+e^{-\\eta}} = \\frac{1}{1+e^{-\\beta_0+ \\beta_1x_1+ \\beta_2x_2+ ... +\\beta_kx_k}}$$"
   ]
  },
  {
   "cell_type": "markdown",
   "id": "5f501bbf-e1fd-4fa9-86fe-cb7cdb4f78be",
   "metadata": {},
   "source": [
    "Die logistische Funktion für das Intervall $[-6 \\ $,$ \\ 6]$ ist unten dargestellt. Für Werte von $\\eta$ im Bereich von $-\\infty$ bis $\\infty$ liegt $\\pi$ im Bereich von $0$ bis $1$."
   ]
  },
  {
   "cell_type": "markdown",
   "id": "4d55770e-e1fa-4789-a6c5-0984ca96d553",
   "metadata": {},
   "source": [
    "![Alt-Text](102_logit.png)"
   ]
  },
  {
   "cell_type": "code",
   "execution_count": null,
   "id": "327173a6-3c93-445e-b42b-a60115a1d969",
   "metadata": {},
   "outputs": [],
   "source": []
  }
 ],
 "metadata": {
  "kernelspec": {
   "display_name": "Python 3 (ipykernel)",
   "language": "python",
   "name": "python3"
  },
  "language_info": {
   "codemirror_mode": {
    "name": "ipython",
    "version": 3
   },
   "file_extension": ".py",
   "mimetype": "text/x-python",
   "name": "python",
   "nbconvert_exporter": "python",
   "pygments_lexer": "ipython3",
   "version": "3.10.2"
  }
 },
 "nbformat": 4,
 "nbformat_minor": 5
}
