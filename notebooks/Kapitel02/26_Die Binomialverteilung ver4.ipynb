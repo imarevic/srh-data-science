{
 "cells": [
  {
   "cell_type": "markdown",
   "id": "66568193-743f-4aef-abdd-4c14e8431053",
   "metadata": {},
   "source": [
    "## Die Binomialverteilung\n",
    "----------------------------------------"
   ]
  },
  {
   "cell_type": "code",
   "execution_count": 25,
   "id": "caf24e6d-8bb2-4fc6-9cb6-36a696522557",
   "metadata": {},
   "outputs": [],
   "source": [
    "import math\n",
    "import matplotlib.pyplot as plt\n",
    "import numpy as np\n",
    "from scipy.stats import binom"
   ]
  },
  {
   "cell_type": "markdown",
   "id": "6bc48e01-dbf9-494d-809d-5387fe9dde4c",
   "metadata": {},
   "source": [
    "Die Binomialverteilung ist die **Wahrscheinlichkeitsverteilung** für die Anzahl der Erfolge in einer Folge von **Bernoulli-Versuchen** (Weiss 2010)."
   ]
  },
  {
   "cell_type": "markdown",
   "id": "71fd8c88-03ed-4507-8efa-abee31c23ca9",
   "metadata": {},
   "source": [
    "### Die binomische Wahrscheinlichkeitsformel"
   ]
  },
  {
   "cell_type": "markdown",
   "id": "aac69146-ce66-4ec1-91f7-bc04a58a48a1",
   "metadata": {},
   "source": [
    "Bei $n$ Bernoulli-Versuchen ist die Anzahl der Ergebnisse, die genau $x$ Erfolge enthalten, gleich dem Binomialkoeffizienten ${n \\choose x}$ (Weiss 2010)."
   ]
  },
  {
   "cell_type": "markdown",
   "id": "752bc0e8-9ed0-43f5-bbe7-e4f6d936d169",
   "metadata": {},
   "source": [
    "$X$ sei die Gesamtzahl der Erfolge in $n$ Bernoulli-Versuchen mit der Erfolgswahrscheinlichkeit $p$. Dann ist die Wahrscheinlichkeitsverteilung der Zufallsvariablen $X$ gegeben durch:"
   ]
  },
  {
   "cell_type": "markdown",
   "id": "9dcab2ba-ed9c-46ee-af59-a3ff2f5d249b",
   "metadata": {},
   "source": [
    "$$P(X = x) = {n \\choose x}p^x(1 - p)^{n-x}, \\qquad x = 0, 1, 2, \\dots , n$$"
   ]
  },
  {
   "cell_type": "markdown",
   "id": "8ce7072f-bbfb-4f20-a81d-85e8ec50faa6",
   "metadata": {},
   "source": [
    "Die Zufallsvariable $X$ wird als Binomialzufallsvariable bezeichnet und folgt der Binomialverteilung mit den Parametern $n$ und $p$ (Weiss 2010)."
   ]
  },
  {
   "cell_type": "markdown",
   "id": "0fee1ec0-3894-4915-8dc2-157ac3277a90",
   "metadata": {},
   "source": [
    "Betrachten wir ein Beispiel aus der realen Welt."
   ]
  },
  {
   "cell_type": "markdown",
   "id": "d1fc4ed9-3b14-4154-aa6e-cf85ef9e8c16",
   "metadata": {},
   "source": [
    "Langzeitstatistiken besagen, dass die Chance, die Abschlussprüfung in Statistik zu bestehen, bei $0,3$ liegt. Ja, etwa $70 \\%$ der Studenten fallen in der Statistikprüfung durch! Übrigens, wenn Sie dieses E-Learning-Modul absolvieren, werden Ihre Chancen, die Abschlussprüfung zu bestehen, definitiv steigen :-)"
   ]
  },
  {
   "cell_type": "markdown",
   "id": "389d8f7e-398b-47b2-a646-f4af85c73ac2",
   "metadata": {},
   "source": [
    "Betrachten wir eine Klasse mit $25$ Studenten. Wie hoch ist die Wahrscheinlichkeit, dass genau $3$ der Studenten dieser Klasse die Abschlussprüfung in Statistik bestehen werden? Oder anders ausgedrückt: $P(X=3)$. Auch hier beginnen wir mit der Implementierung eines naiven Ansatzes in Python."
   ]
  },
  {
   "cell_type": "code",
   "execution_count": 6,
   "id": "4a9ce9e9-fde4-433c-8177-1316f19a657b",
   "metadata": {},
   "outputs": [
    {
     "data": {
      "text/plain": [
       "0.02427998871170032"
      ]
     },
     "execution_count": 6,
     "metadata": {},
     "output_type": "execute_result"
    }
   ],
   "source": [
    "# Anzahl der Studenten\n",
    "n = 25\n",
    "# Erfolgswahrscheinlichkeit\n",
    "p = 0.3\n",
    "# Anzahl der Studenten die die Prüfung bestehen\n",
    "k = 3\n",
    "\n",
    "math.comb(n,k)*p**(k)*(1-p)**(n-k)"
   ]
  },
  {
   "cell_type": "markdown",
   "id": "84cf7296-e032-4819-bbc7-0166707e92f1",
   "metadata": {},
   "source": [
    "Wow, die Wahrscheinlichkeit, dass genau $3$ von $25$ Studierenden $(P(X=3))$ die Abschlussprüfung in Statistik bestehen, ist ziemlich gering. Wie sieht es mit der Wahrscheinlichkeit aus, dass genau $15$ von $25$ Studierenden $(P(X=15))$ die Abschlussprüfung in Statistik bestehen werden? Wir wenden uns an Python."
   ]
  },
  {
   "cell_type": "code",
   "execution_count": 7,
   "id": "9b1f5ee6-f311-4236-bb39-4355a522ade5",
   "metadata": {},
   "outputs": [
    {
     "data": {
      "text/plain": [
       "0.0013248974242351928"
      ]
     },
     "execution_count": 7,
     "metadata": {},
     "output_type": "execute_result"
    }
   ],
   "source": [
    "# Anzahl der Studenten\n",
    "n = 25\n",
    "# Erfolgswahrscheinlichkeit\n",
    "p = 0.3\n",
    "# Anzahl der Studenten die die Prüfung bestehen\n",
    "k = 15\n",
    "\n",
    "math.comb(n,k)*p**(k)*(1-p)**(n-k)"
   ]
  },
  {
   "cell_type": "markdown",
   "id": "9a9ecd2d-9b89-4776-8743-35fd0b8daf64",
   "metadata": {},
   "source": [
    "Die Wahrscheinlichkeit von $P(X=15)$ beträgt etwa $0,1 \\%$. Wir können mit unseren Experimenten fortfahren, um alle Wahrscheinlichkeiten für **genau ein Ergebnis** für $k=0,1,2, \\dots ,n$ herauszufinden. Bitte beachten Sie, dass es für unser spezielles Beispiel nicht sehr informativ ist, die Wahrscheinlichkeit für das Bestehen der Prüfung für genau eine bestimmte Anzahl $(k)$ von Studenten zu kennen. Für uns ist es von größerem Informationsinteresse, wenn wir die Frage beantworten könnten, wie hoch die Wahrscheinlichkeit ist, dass $k$ oder weniger Studierende $(P(X≤k))$ die Prüfung bestehen, oder, was ebenso interessant ist, dass $k$ oder mehr Studierende $(P(X≥k))$ die Prüfung bestehen."
   ]
  },
  {
   "cell_type": "markdown",
   "id": "482d6c6d-5efb-4cb0-bb58-ba113996adbc",
   "metadata": {},
   "source": [
    "Als Übung wenden wir uns an Python und bestimmen die Wahrscheinlichkeit, dass $9$ oder weniger Studierende die Abschlussprüfung in Statistik bestehen $(P(X≤9))$. Wir interessieren uns also für die Wahrscheinlichkeit, dass $0$ von $25, 1$ von $25, 2$ von $25, ...$ oder $9$ von $25$ Studierenden die Prüfung bestehen. Um diese Wahrscheinlichkeit zu berechnen, können wir unseren naiven Ansatz erweitern und Folgendes berechnen"
   ]
  },
  {
   "cell_type": "markdown",
   "id": "e77e3196-6ef7-4d02-b621-229c2c87f43c",
   "metadata": {},
   "source": [
    "$P(X = 0)+P(X = 1)+P(X = 2)+ \\dots+P(X = 9)$"
   ]
  },
  {
   "cell_type": "code",
   "execution_count": 11,
   "id": "73efa57b-b777-4711-b0f9-6b9536cb096e",
   "metadata": {},
   "outputs": [
    {
     "data": {
      "text/plain": [
       "0.8105639764950532"
      ]
     },
     "execution_count": 11,
     "metadata": {},
     "output_type": "execute_result"
    }
   ],
   "source": [
    "# Anzahl der Studenten\n",
    "n = 25\n",
    "# Erfolgswahrscheinlichkeit\n",
    "p = 0.3\n",
    "\n",
    "n_0 = math.comb(n,0)*p**(0)*(1-p)**(n-0)\n",
    "n_1 = math.comb(n,1)*p**(1)*(1-p)**(n-1)\n",
    "n_2 = math.comb(n,2)*p**(2)*(1-p)**(n-2)\n",
    "n_3 = math.comb(n,3)*p**(3)*(1-p)**(n-3)\n",
    "n_4 = math.comb(n,4)*p**(4)*(1-p)**(n-4)\n",
    "n_5 = math.comb(n,5)*p**(5)*(1-p)**(n-5)\n",
    "n_6 = math.comb(n,6)*p**(6)*(1-p)**(n-6)\n",
    "n_7 = math.comb(n,7)*p**(7)*(1-p)**(n-7)\n",
    "n_8 = math.comb(n,8)*p**(8)*(1-p)**(n-8)\n",
    "n_9 = math.comb(n,9)*p**(9)*(1-p)**(n-9)\n",
    "n_0+n_1+n_2+n_3+n_4+n_5+n_6+n_7+n_8+n_9"
   ]
  },
  {
   "cell_type": "markdown",
   "id": "1a4195bb-2ad2-4227-8c60-f1435c35f407",
   "metadata": {},
   "source": [
    "Die Wahrscheinlichkeit, dass $9$ oder weniger Studierende die Statistikprüfung bestehen $(P(X≤9))$, beträgt $81,1 \\%$. Das wiederum bedeutet, dass die Wahrscheinlichkeit, dass $10$ oder mehr Studierende die Prüfung bestehen, $P(X>9)=1-P(X≤9)$ oder nur $18,9 \\%$ beträgt."
   ]
  },
  {
   "cell_type": "markdown",
   "id": "6b99b8a9-b717-4fff-ae34-358182383839",
   "metadata": {},
   "source": [
    "Neben der ehrlich gesagt recht unangenehmen Einsicht in die Statistik des Bestehens der Abschlussprüfung ist es klar, dass die naive Implementierung von oben ziemlich mühsam ist. Deshalb führen wir die eingebauten Funktionen `binom.pmf()` und `binom.cdf()` ein."
   ]
  },
  {
   "cell_type": "markdown",
   "id": "be11ba23-60ad-44a5-b1d5-b7da1eb63450",
   "metadata": {},
   "source": [
    "Die Verwendung von `binom.pmf()` ist wie folgt: `binom.pmf(k, n, p, loc)`. Wir lassen vorerst das Argument `loc` außer Acht. Somit vereinfacht sich die Funktion `binom.pmf()` zu `binom.pmf(k, n, p)`, wobei $k$ den insgesamten Erfolgen, $n$ der Gesamtanzahl und $p$ der Wahrscheinlichkeit für das Bestehen der Prüfung entspricht. Um zu überprüfen, ob die Funktion `binom.pmf()` wie erwartet funktioniert, erinnern wir uns an unsere Testbeispiele von oben, nämlich $P(X=3)$ und $P(X=15)$."
   ]
  },
  {
   "cell_type": "code",
   "execution_count": 13,
   "id": "478cf4d2-97fe-4e1c-827e-f542554be8fb",
   "metadata": {},
   "outputs": [
    {
     "data": {
      "text/plain": [
       "0.024279988711700378"
      ]
     },
     "execution_count": 13,
     "metadata": {},
     "output_type": "execute_result"
    }
   ],
   "source": [
    "binom.pmf(3, 25, 0.3) "
   ]
  },
  {
   "cell_type": "code",
   "execution_count": 14,
   "id": "293d4ed8-09f7-4106-9d92-22e196625ee1",
   "metadata": {},
   "outputs": [
    {
     "data": {
      "text/plain": [
       "0.0013248974242351943"
      ]
     },
     "execution_count": 14,
     "metadata": {},
     "output_type": "execute_result"
    }
   ],
   "source": [
    "binom.pmf(15, 25, 0.3)"
   ]
  },
  {
   "cell_type": "markdown",
   "id": "5e894e9f-fb20-4ff1-9179-6badc956c4db",
   "metadata": {},
   "source": [
    "Vergleichen Sie diese Ergebnisse mit den Ergebnissen unserer naiven Implementierung (scrollen Sie nach oben). Die Zahlen sollten übereinstimmen."
   ]
  },
  {
   "cell_type": "markdown",
   "id": "42c669ec-cc83-4529-bd9f-3b4350372c2b",
   "metadata": {},
   "source": [
    "Die Funktion `binom.pmf()`  ist sehr praktisch, wenn wir Wahrscheinlichkeiten akkumulieren wollen, wie z. B. $P(X≤x)$ oder $P(X>x)$, denn wir können eine for - Schleife für das Argument $x$ angeben und anschließend summieren. Betrachten wir das Beispiel von oben $(P(X≤9))$."
   ]
  },
  {
   "cell_type": "code",
   "execution_count": 19,
   "id": "3c68267a-b888-4c91-84f9-5464a3d49414",
   "metadata": {},
   "outputs": [
    {
     "data": {
      "text/plain": [
       "0.8105639764950541"
      ]
     },
     "execution_count": 19,
     "metadata": {},
     "output_type": "execute_result"
    }
   ],
   "source": [
    "P_le9=[]\n",
    "for i in range(10):\n",
    "    P_le9.append(binom.pmf(i, 25, 0.3))\n",
    "P_le = sum(P_le9)\n",
    "P_le"
   ]
  },
  {
   "cell_type": "markdown",
   "id": "b60c754a-c94b-401e-9e35-1b407e243a39",
   "metadata": {},
   "source": [
    "Eine weitere eingebaute Funktion, die für die Beantwortung von $P(X≤9)$ geeignet ist, ist die Funktion `binom.cdf()`, die die Verteilungsfunktion zurückgibt. Die Funktion `binom.cdf()` berechnet die kumulative Wahrscheinlichkeitsverteilung und ist insofern praktisch, da wir auf den Aufruf der Summenfunktion verzichten können. Die Verwendung von `binom.cdf()` ist wie folgt: "
   ]
  },
  {
   "cell_type": "markdown",
   "id": "58e2a204-424a-443b-86c9-a36a3d0bc8a9",
   "metadata": {},
   "source": [
    "`binom.cdf(k, n, p, loc)`. Auch hier lassen wir das Argument `loc` außer Acht und belassen es bei `binom.cdf(k, n, p)`. Zusätzlich zu den Argumenten der Funktion `binom.cdf()` gilt zu beachten, dass `binom.cdf()`  die Wahrscheinlichkeiten $P(X≤x)$ wiedergibt und `binom.sf(k, n, p)` $P(X>x)$ die Gegenwahrscheinlichkeit $1-$`binom.cdf()`."
   ]
  },
  {
   "cell_type": "markdown",
   "id": "1a07c809-3d9d-4bb2-a8bf-114681cafc2b",
   "metadata": {},
   "source": [
    "Um dies zu verdeutlichen, lassen Sie uns $P(X≤9)$ neu berechnen. Das Ergebnis der obigen Berechnung war $0,8104299$. Nun wenden wir die Funktion `binom.cdf()` an, um das gleiche Ergebnis zu erhalten."
   ]
  },
  {
   "cell_type": "code",
   "execution_count": 21,
   "id": "db71d979-5b63-48b5-9180-6764ddaab842",
   "metadata": {},
   "outputs": [
    {
     "data": {
      "text/plain": [
       "0.8105639764950546"
      ]
     },
     "execution_count": 21,
     "metadata": {},
     "output_type": "execute_result"
    }
   ],
   "source": [
    "binom.cdf(9, 25, 0.3)"
   ]
  },
  {
   "cell_type": "markdown",
   "id": "51fcf87a-8d31-4e18-aaf7-68f059e57f31",
   "metadata": {},
   "source": [
    "Um $P(X>9)$ zu erhalten, was dasselbe ist wie $1-P(X≤9)$, setzen wir das Argument"
   ]
  },
  {
   "cell_type": "code",
   "execution_count": 22,
   "id": "4e93802a-b059-4fa7-bf26-a44b9edecb0e",
   "metadata": {},
   "outputs": [
    {
     "data": {
      "text/plain": [
       "0.18943602350494537"
      ]
     },
     "execution_count": 22,
     "metadata": {},
     "output_type": "execute_result"
    }
   ],
   "source": [
    "binom.sf(9, 25, 0.3)"
   ]
  },
  {
   "cell_type": "markdown",
   "id": "69b0a424-751b-4216-86c9-b63abedd8dd9",
   "metadata": {},
   "source": [
    "Um die binomische Wahrscheinlichkeitsverteilung zu visualisieren, verwenden wir die Funktion `random.binomial`, die Zufallsabweichungen für eine Binomialverteilung erzeugt, die durch ihre Größe n und die Erfolgs-/Misserfolgswahrscheinlichkeit $p$ definiert ist."
   ]
  },
  {
   "cell_type": "code",
   "execution_count": 46,
   "id": "b36aa582-8235-4b6a-ada8-2fd59233bf5f",
   "metadata": {},
   "outputs": [
    {
     "data": {
      "text/plain": [
       "Text(0.5, 0, 'Studenten die die Statistikprüfung bestehen')"
      ]
     },
     "execution_count": 46,
     "metadata": {},
     "output_type": "execute_result"
    },
    {
     "data": {
      "image/png": "[encoded data removed]",
      "text/plain": [
       "<Figure size 432x288 with 1 Axes>"
      ]
     },
     "metadata": {
      "needs_background": "light"
     },
     "output_type": "display_data"
    }
   ],
   "source": [
    "binomial = np.random.binomial(25,0.3,100000)\n",
    "\n",
    "\n",
    "#X = np.arange(0,100,1)\n",
    "\n",
    "plt.hist(binomial, bins = 50);\n",
    "plt.title('Binomialverteilung für n = 25 und p = 0,3')\n",
    "plt.ylabel('Wahrscheinlichkeit')\n",
    "plt.xlabel('Studenten die die Statistikprüfung bestehen')"
   ]
  },
  {
   "cell_type": "markdown",
   "id": "0210491f-33b6-4e2f-88f5-8d340d1aab88",
   "metadata": {},
   "source": [
    "Zusätzlich visualisieren wir die oben diskutierten Wahrscheinlichkeiten: $P(X=3), P(X=15), P(X≤9), P(X>9)$ und die entsprechende **kumulative binomiale Wahrscheinlichkeitsverteilungsfunktion**."
   ]
  },
  {
   "cell_type": "markdown",
   "id": "7f4ef98e-67a5-4578-ab05-d7f61d66b5c8",
   "metadata": {},
   "source": [
    "![Alt-Text](binomialprobabilitydistribution.png)"
   ]
  },
  {
   "cell_type": "markdown",
   "id": "c06b12f1-6a7c-4e7f-b57b-20f56f861f40",
   "metadata": {},
   "source": [
    "![Alt-Text](cummulativeBinomial.png)"
   ]
  },
  {
   "cell_type": "markdown",
   "id": "6b6b48f6-50be-4149-8fbb-6c4be1923db2",
   "metadata": {},
   "source": [
    "Zum Abschluss dieses Abschnitts und um Ihnen ein Gefühl für die Formen der verschiedenen binomischen Wahrscheinlichkeitsverteilungen zu vermitteln, werden im Folgenden drei verschiedene binomische Wahrscheinlichkeitsverteilungen und die entsprechenden kumulativen binomischen Beweisbarkeitsverteilungen für $p=0,1, p=0,5$ und $p=0,9$ angegeben."
   ]
  },
  {
   "cell_type": "markdown",
   "id": "05d6c481-453f-4eb0-9ea7-b354409316ce",
   "metadata": {},
   "source": [
    "![Alt-Text](s25_p01.png)"
   ]
  },
  {
   "cell_type": "markdown",
   "id": "bb1578f7-455d-4077-bd3f-327638809912",
   "metadata": {},
   "source": [
    "![Alt-Text](s25_p05.png)"
   ]
  },
  {
   "cell_type": "markdown",
   "id": "b6b44280-05de-4f7d-b9e0-7a7f41ff69c1",
   "metadata": {},
   "source": [
    "![Alt-Text](s25_p09.png)"
   ]
  }
 ],
 "metadata": {
  "kernelspec": {
   "display_name": "Python 3 (ipykernel)",
   "language": "python",
   "name": "python3"
  },
  "language_info": {
   "codemirror_mode": {
    "name": "ipython",
    "version": 3
   },
   "file_extension": ".py",
   "mimetype": "text/x-python",
   "name": "python",
   "nbconvert_exporter": "python",
   "pygments_lexer": "ipython3",
   "version": "3.10.2"
  }
 },
 "nbformat": 4,
 "nbformat_minor": 5
}
