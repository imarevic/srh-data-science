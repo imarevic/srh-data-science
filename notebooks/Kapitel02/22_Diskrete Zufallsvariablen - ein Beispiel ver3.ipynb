{
 "cells": [
  {
   "cell_type": "markdown",
   "id": "1fee6d4b-3b93-46be-90f6-389c24b65ed9",
   "metadata": {},
   "source": [
    "## Diskrete Zufallsvariablen - ein Beispiel\n",
    "----------------------------------------"
   ]
  },
  {
   "cell_type": "code",
   "execution_count": 3,
   "id": "170e737e-3843-43d0-a2dd-79970e129d1c",
   "metadata": {},
   "outputs": [],
   "source": [
    "import matplotlib.pyplot as plt\n",
    "import numpy as np\n",
    "import pandas as pd"
   ]
  },
  {
   "cell_type": "markdown",
   "id": "6e42141d-4e2d-41b3-98b9-4285d9a4af53",
   "metadata": {},
   "source": [
    "Lassen Sie uns das Konzept der diskreten Zufallsvariablen anhand eines Beispiels erläutern."
   ]
  },
  {
   "cell_type": "markdown",
   "id": "21cd93dc-5268-4faa-abf3-098d57c30140",
   "metadata": {},
   "source": [
    "Unsere zu untersuchende Population besteht aus allen Studierenden, allen Dozenten und allen Verwaltungsmitarbeitern der FU Berlin. Wir wählen zufällig eine dieser Personen aus und fragen sie nach der Anzahl ihrer Geschwister. Folglich ist die Antwort, die Anzahl der Geschwister einer zufällig ausgewählten Person, eine diskrete Zufallsvariable, bezeichnet als $X$. Der tatsächliche Wert (Anzahl der Geschwister) von $X$ hängt vom Zufall ab, aber wir können trotzdem alle Werte von $X$ auflisten, z.B. $0$ Geschwister, $1$ Geschwister, $2$ Geschwister, usw. Zur Vereinfachung beschränken wir die Anzahl der Geschwister in dieser Übung auf $5$."
   ]
  },
  {
   "cell_type": "markdown",
   "id": "73e5b6c0-69ec-441b-9f1d-19baa608528c",
   "metadata": {},
   "source": [
    "Laut der <a href=\"https://www.fu-berlin.de/\">Website</a> der FU Berlin gibt es $30.600$ Studierende, $5.750$ Doktoranden, $341$ Professoren und $4.270$ Mitarbeiter an der FU Berlin. Insgesamt gibt es $40.961$ Personen an der FU Berlin (bitte beachten Sie, dass sich die tatsächlichen Zahlen im Laufe der Zeit ändern können)."
   ]
  },
  {
   "cell_type": "markdown",
   "id": "628cecc3-4152-40c0-b6c3-5c9e71c2034e",
   "metadata": {},
   "source": [
    "Da wir keine Vorstellung von der damit verbundenen Wahrscheinlichkeit für eine bestimmte Anzahl von Geschwistern haben, starten wir einige Experimente:"
   ]
  },
  {
   "cell_type": "markdown",
   "id": "e1ae0344-5260-450e-8624-27a0ebce7bc1",
   "metadata": {},
   "source": [
    "Wir wählen eine zufällig ausgewählte Person aus und fragen nach der Anzahl der Geschwister."
   ]
  },
  {
   "cell_type": "markdown",
   "id": "d0062229-30dc-49a0-978e-33b7c09f0019",
   "metadata": {},
   "source": [
    "Die Antwort lautet: $0$"
   ]
  },
  {
   "cell_type": "markdown",
   "id": "92fc52e7-2a9c-4d44-ac3e-2e8b986d33b0",
   "metadata": {},
   "source": [
    "Wir wählen **zehn** zufällig ausgewählte Personen aus und befragen sie zu ihren Geschwistern."
   ]
  },
  {
   "cell_type": "markdown",
   "id": "9aea96c9-3edf-4a38-8a04-ac2d6da09eed",
   "metadata": {},
   "source": [
    "Die Antworten lauten: $4$, $0$, $2$, $0$, $2$, $2$, $1$, $2$, $0$, $3$"
   ]
  },
  {
   "cell_type": "markdown",
   "id": "2ff80c33-0298-45b7-876b-d89127c70bc0",
   "metadata": {},
   "source": [
    "Wir wählen *hundert* Personen aus und fragen nach Geschwistern."
   ]
  },
  {
   "cell_type": "markdown",
   "id": "a9badce2-be94-40e7-ae02-62b63a780f02",
   "metadata": {},
   "source": [
    "Die Antworten lauten: $2, 0, 1, 2, 2, 0, 0, 0, 1, 3, 1, 2, 1, 0, 2, 0, 0, 2, 1, 1, 1, 1, 2, 2, 1, 2, 2, 0, 1, 1, 2, 4, 0, 3, 2, 0, 1, 2, 2, 2, 1, 2, 1, 1, 2, 1, 2, 2, 2, 1, 1, 1, 1, 1, 1, 2, 1, 1, 2, 2, 1, 1, 0, 2, 0, 1, 0, 1, 2, 1, 2, 1, 2, 2, 2, 1, 0, 2, 2, 4, 1, 2, 1, 1, 1, 1, 1, 0, 2, 1, 0, 1, 0, 1, 1, 2, 0, 2, 0, 0$"
   ]
  },
  {
   "cell_type": "markdown",
   "id": "aa8c34ec-7da3-4f86-8855-118f08eb6496",
   "metadata": {},
   "source": [
    "Sie sehen, die Form der Notation wird ziemlich schnell unübersichtlich, wenn wir die Anzahl der abgefragten Individuen erhöhen. Wir beschließen also, die **Häufigkeit** und die entsprechende **relative Häufigkeit** der Werte für die Klassen $0$, $1$, $2$, $3$, $4$, $5$ (um es deutlich zu sagen: die letzte Klasse entspricht 5 oder mehr Geschwistern) zu notieren und das Experiment in Form einer schön formatierten Tabelle zu präsentieren."
   ]
  },
  {
   "cell_type": "markdown",
   "id": "22c00fd1-2944-453d-82b3-3696aaa2cc1f",
   "metadata": {},
   "source": [
    "Wir wählen 1.000 Personen aus und befragen sie zu ihren Geschwistern."
   ]
  },
  {
   "cell_type": "markdown",
   "id": "70fe268e-378a-4c53-951b-92b89987bcc4",
   "metadata": {},
   "source": [
    "\\begin{array}{c|lcr}\n",
    "\\text{Siblings} & \\text{Frequency} & \\text{Relative}\\\\\n",
    "\\ x & f & \\text{frequency}\\\\\n",
    "\\hline\n",
    "0 & 205 & 0.205  \\\\\n",
    "1 & 419 & 0.419  \\\\\n",
    "2 & 280 & 0.28 \\\\\n",
    "3 & 65 & 0.065  \\\\\n",
    "4 & 29 & 0.029  \\\\\n",
    "5 & 2 & 0.002 \\\\\n",
    "\\hline\n",
    " & 1000 & 1\n",
    "\\end{array}"
   ]
  },
  {
   "cell_type": "markdown",
   "id": "3fcdcf16-748c-4150-a4e6-88d0021780b2",
   "metadata": {},
   "source": [
    "Nachdem wir alle möglichen Werte aufgelistet und die entsprechenden relativen Häufigkeiten berechnet haben, kennen wir immer noch nicht genau die Wahrscheinlichkeiten der diskreten Zufallsvariablen $X$ für die gesamte Population von $40.961$ Personen, die der FU Berlin zugeordnet sind. Nach Gesprächen mit $1.000$ zufällig ausgewählten Personen sind wir jedoch recht zuversichtlich, dass eine so große Anzahl von Interviews - verglichen mit der Anzahl der Gesamtpopulation $(40.961)$ - uns eine gute Annäherung an die Wahrscheinlichkeiten der diskreten Zufallsvariablen $X$ (Anzahl der Geschwister) für die Gesamtpopulation liefern wird."
   ]
  },
  {
   "cell_type": "markdown",
   "id": "752c87c3-daf9-40d8-b443-4280a46c0f24",
   "metadata": {},
   "source": [
    "Im nächsten Schritt zeichnen wir ein Wahrscheinlichkeitshistogramm (der Stichprobe), das die möglichen Werte einer diskreten Zufallsvariablen $X$ auf der horizontalen Achse und die Anteile dieser Werte auf der vertikalen Achse darstellt. Ein Verhältnishistogramm kann auch als Annäherung an die Wahrscheinlichkeitsverteilung dienen. Bitte beachten Sie, dass sowohl die Summe der Wahrscheinlichkeiten als auch die Summe der Anteile jeder diskreten Zufallsvariablen gleich $1$ ist."
   ]
  },
  {
   "cell_type": "code",
   "execution_count": 17,
   "id": "7d2dcdca-7815-4f50-b26f-b087e7b0063f",
   "metadata": {},
   "outputs": [],
   "source": [
    "#x = [0,1,2,3,4,5]\n",
    "#y = [0.205,0.419,0.28,0.065,0.029,0.002]\n",
    "#siblings = pd.DataFrame({'Geschwister':x, 'Häufigkeit':y})\n",
    "#siblings[['Geschwister','Häufigkeit']].hist();"
   ]
  },
  {
   "cell_type": "markdown",
   "id": "cef95e70-40e3-4d0b-be1b-a5c8c161e517",
   "metadata": {},
   "source": [
    "![Alt-Text](hist_siblings.png)"
   ]
  },
  {
   "cell_type": "markdown",
   "id": "7bf03dc2-4682-4056-822d-32426557a7d1",
   "metadata": {},
   "source": [
    "Bei vielen Anwendungen im wirklichen Leben kennen wir die Wahrscheinlichkeitsverteilung der Grundgesamtheit nicht - **und werden sie auch nie kennen**. Das liegt vor allem daran, dass in vielen Anwendungen die Grundgesamtheit viel zu groß ist oder es keine Möglichkeit gibt, zuverlässige Daten zu erhalten, oder wir weder das Geld noch die Zeit für eine umfassende Datenerhebung haben. Erhöht man jedoch die Anzahl der unabhängigen Beobachtungen einer Zufallsvariablen $X$, so nähert sich das Wahrscheinlichkeitshistogramm der Stichprobe immer mehr dem Wahrscheinlichkeitshistogramm der Grundgesamtheit an. Um diese Behauptung zu beweisen, vergrößern wir unser Experiment:"
   ]
  },
  {
   "cell_type": "markdown",
   "id": "5a722d54-3828-489c-9e52-093126279f9b",
   "metadata": {},
   "source": [
    "Wir wählen nacheinander $10$, $100$ und $1.000$ zufällig Personen aus, die mit der FU Berlin verbunden sind, und befragen sie nach der Anzahl der Geschwister. Wir werden jedes unserer drei Experimente aufzeichnen und schließlich mit der tatsächlichen/realen Wahrscheinlichkeitsverteilung vergleichen (Bitte beachten Sie, dass dieses Beispiel ein Übungsbeispiel ist und nicht die reale Anzahl der Geschwister in der Population der Personen an der FU Berlin darstellt; daher kennen die Dozenten des vorliegenden E-Learning-Moduls die Wahrscheinlichkeitsverteilung der Grundgesamtheit ;-))"
   ]
  },
  {
   "cell_type": "markdown",
   "id": "270a765f-211d-46e0-9c15-9054c0cd9ca7",
   "metadata": {},
   "source": [
    "![Alt-Text](hist_siblings2.png)"
   ]
  },
  {
   "cell_type": "markdown",
   "id": "555c5ab4-df4b-490c-9b20-85838dbf7e0e",
   "metadata": {},
   "source": [
    "Die Diagramme bestätigen unsere Hypothese, dass sich das Histogramm der Stichprobe mit zunehmender Anzahl der Beobachtungen immer mehr dem Wahrscheinlichkeitshistogramm der Grundgesamtheit annähert."
   ]
  }
 ],
 "metadata": {
  "kernelspec": {
   "display_name": "Python 3 (ipykernel)",
   "language": "python",
   "name": "python3"
  },
  "language_info": {
   "codemirror_mode": {
    "name": "ipython",
    "version": 3
   },
   "file_extension": ".py",
   "mimetype": "text/x-python",
   "name": "python",
   "nbconvert_exporter": "python",
   "pygments_lexer": "ipython3",
   "version": "3.10.2"
  }
 },
 "nbformat": 4,
 "nbformat_minor": 5
}
