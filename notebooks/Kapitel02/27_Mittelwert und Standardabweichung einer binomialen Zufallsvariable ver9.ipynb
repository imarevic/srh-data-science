{
 "cells": [
  {
   "cell_type": "markdown",
   "id": "3a0f37ad-4ccf-4558-829f-6d8623d485bf",
   "metadata": {
    "tags": []
   },
   "source": [
    "## Mittelwert und Standardabweichung einer binomialen Zufallsvariable\n",
    "----------------------------------------"
   ]
  },
  {
   "cell_type": "code",
   "execution_count": 1,
   "id": "f6954638-f349-42ae-9042-86ed1e0722ff",
   "metadata": {},
   "outputs": [
    {
     "name": "stdout",
     "output_type": "stream",
     "text": [
      "\n",
      "---------------------------------\n",
      "Working on the host: LAPTOP-9LETB4SJ\n",
      "\n",
      "---------------------------------\n",
      "Python version: 3.10.2 | packaged by conda-forge | (main, Mar  8 2022, 15:52:24) [MSC v.1929 64 bit (AMD64)]\n",
      "\n",
      "---------------------------------\n",
      "Python interpreter: C:\\Users\\zak\\anaconda3\\envs\\srh\\python.exe\n"
     ]
    }
   ],
   "source": [
    "import matplotlib.pyplot as plt\n",
    "import numpy as np\n",
    "from scipy.stats import binom\n",
    "\n",
    "%run ../src/notebook_env.py"
   ]
  },
  {
   "cell_type": "markdown",
   "id": "ddaeaecd-62d5-4721-a74c-1f75e8c29a5b",
   "metadata": {},
   "source": [
    "Der Mittelwert und die Standardabweichung einer binomialen Zufallsvariablen mit den Parametern $n$ und $p$ sind jeweils"
   ]
  },
  {
   "cell_type": "markdown",
   "id": "0020824b-5cac-4f99-8bc6-7a427fcea529",
   "metadata": {},
   "source": [
    "$$\\mu = np$$"
   ]
  },
  {
   "cell_type": "markdown",
   "id": "b816d438-92f5-4355-b6d0-e2c49c0ca0ed",
   "metadata": {},
   "source": [
    "und"
   ]
  },
  {
   "cell_type": "markdown",
   "id": "a8c6ea6f-6658-42f1-b00a-c02133add930",
   "metadata": {},
   "source": [
    "$$\\sigma = np(1 - p)\\text{,}$$"
   ]
  },
  {
   "cell_type": "markdown",
   "id": "7f4edf35-b1aa-4552-9a88-1c5260aa3795",
   "metadata": {},
   "source": [
    "Erinnern wir uns an das Beispiel aus dem vorherigen Abschnitt. Die Wahrscheinlichkeit, die statistische Abschlussprüfung zu bestehen, beträgt $0,3$. Wir betrachten eine Klasse mit $25$ Studenten. Die Zufallsvariable $X$, die dem Erfolg in der Prüfung entspricht, ist eine binomiale Zufallsvariable und folgt einer Binomialverteilung mit den Parametern $n=25$ und $p=0,3$. Somit können der Mittelwert μ und die Standardabweichung $\\sigma$ wie folgt berechnet werden:"
   ]
  },
  {
   "cell_type": "markdown",
   "id": "68d478e8-b352-40d6-b854-cf5b44b6c7bd",
   "metadata": {},
   "source": [
    "$$\\mu = np = 25 \\times 0,3 = 7,5$$"
   ]
  },
  {
   "cell_type": "markdown",
   "id": "401ed075-1532-49f3-9853-899c36913784",
   "metadata": {},
   "source": [
    "und"
   ]
  },
  {
   "cell_type": "markdown",
   "id": "66728c75-fc23-4565-aef4-0f4052f568a3",
   "metadata": {},
   "source": [
    "$$\\sigma = np(1 - p) = 25 \\times 0,3 \\times (1-0,3) = 5,25$$"
   ]
  },
  {
   "cell_type": "markdown",
   "id": "3dccb5c3-93ea-446f-874c-f1fa73e0223e",
   "metadata": {},
   "source": [
    "Die folgende Grafik zeigt die Binomialverteilung mit den Parametern $n=25$ und $p=0,3$ sowie deren Mittelwert $\\mu$ und Standardabweichung $\\sigma$."
   ]
  },
  {
   "cell_type": "code",
   "execution_count": 2,
   "id": "e0027717-38ff-4ab1-b5e1-ead32a625a4a",
   "metadata": {},
   "outputs": [
    {
     "data": {
      "image/png": "[encoded data removed]",
      "text/plain": [
       "<Figure size 432x288 with 1 Axes>"
      ]
     },
     "metadata": {
      "needs_background": "light"
     },
     "output_type": "display_data"
    }
   ],
   "source": [
    "y = []\n",
    "for i in range(2000):\n",
    "    y.append(binom.rvs(25,0.3))\n",
    "bins = max(y)-min(y)\n",
    "\n",
    "fig, ax1 = plt.subplots()\n",
    "plt.ylim(0,0.25)\n",
    "plt.xlim(-1,26)\n",
    "ax1.set_title('Binomialverteilung: n = 25 , p = 0,3')\n",
    "ax1.set_xlabel('Anzahl der Studenten die Prüfung bestehen')\n",
    "ax1.set_ylabel('Wahrscheinlichkeit (P=X)')\n",
    "ax1.hist(y,bins, edgecolor='k',density =True)\n",
    "ax1.tick_params(axis='y')\n",
    "ax1.axvline(7.5, color ='red', lw = 2, alpha = 0.75, ls ='--')\n",
    "ax1.axvline(2.5, color ='grey', lw = 2, alpha = 0.75, ls ='--')\n",
    "ax1.axvline(12.75, color ='grey', lw = 2, alpha = 0.75, ls ='--')\n",
    "# Annotation\n",
    "ax1.annotate('$\\mu$',color = 'r',fontsize = 20, xy =(7.5, 0.2),xytext =(8, 0.2))\n",
    "ax1.annotate('$-\\sigma$',color = 'grey',fontsize = 20, xy =(2.5, 0.2),xytext =(3, 0.2))\n",
    "ax1.annotate('$+\\sigma$',color = 'grey',fontsize = 20, xy =(12.75, 0.2),xytext =(13.25, 0.2))\n",
    "fig.tight_layout()\n",
    "\n",
    "plt.show() "
   ]
  },
  {
   "cell_type": "code",
   "execution_count": null,
   "id": "d9c5a13b-84d1-431e-810c-ea3482f364dc",
   "metadata": {},
   "outputs": [],
   "source": []
  }
 ],
 "metadata": {
  "kernelspec": {
   "display_name": "Python 3 (ipykernel)",
   "language": "python",
   "name": "python3"
  },
  "language_info": {
   "codemirror_mode": {
    "name": "ipython",
    "version": 3
   },
   "file_extension": ".py",
   "mimetype": "text/x-python",
   "name": "python",
   "nbconvert_exporter": "python",
   "pygments_lexer": "ipython3",
   "version": "3.10.2"
  }
 },
 "nbformat": 4,
 "nbformat_minor": 5
}
