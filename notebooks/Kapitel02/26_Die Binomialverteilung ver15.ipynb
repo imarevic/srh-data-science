{
 "cells": [
  {
   "cell_type": "markdown",
   "id": "66568193-743f-4aef-abdd-4c14e8431053",
   "metadata": {},
   "source": [
    "## Die Binomialverteilung\n",
    "----------------------------------------"
   ]
  },
  {
   "cell_type": "code",
   "execution_count": 1,
   "id": "caf24e6d-8bb2-4fc6-9cb6-36a696522557",
   "metadata": {},
   "outputs": [
    {
     "name": "stdout",
     "output_type": "stream",
     "text": [
      "\n",
      "---------------------------------\n",
      "Working on the host: LAPTOP-9LETB4SJ\n",
      "\n",
      "---------------------------------\n",
      "Python version: 3.10.2 | packaged by conda-forge | (main, Mar  8 2022, 15:52:24) [MSC v.1929 64 bit (AMD64)]\n",
      "\n",
      "---------------------------------\n",
      "Python interpreter: C:\\Users\\zak\\anaconda3\\envs\\srh\\python.exe\n"
     ]
    }
   ],
   "source": [
    "import math\n",
    "import matplotlib.pyplot as plt\n",
    "import numpy as np\n",
    "import random\n",
    "from scipy.stats import binom\n",
    "\n",
    "%run ../src/notebook_env.py"
   ]
  },
  {
   "cell_type": "markdown",
   "id": "6bc48e01-dbf9-494d-809d-5387fe9dde4c",
   "metadata": {},
   "source": [
    "Die Binomialverteilung ist die **Wahrscheinlichkeitsverteilung** für die Anzahl der Erfolge in einer Folge von **Bernoulli-Versuchen** ({cite:p}`Papula2011` s.350)."
   ]
  },
  {
   "cell_type": "markdown",
   "id": "71fd8c88-03ed-4507-8efa-abee31c23ca9",
   "metadata": {},
   "source": [
    "### Die binomische Wahrscheinlichkeitsformel"
   ]
  },
  {
   "cell_type": "markdown",
   "id": "aac69146-ce66-4ec1-91f7-bc04a58a48a1",
   "metadata": {},
   "source": [
    "Bei $n$ Bernoulli-Versuchen ist die Anzahl der Ergebnisse, die genau $x$ Erfolge enthalten, gleich dem Binomialkoeffizienten ${n \\choose x}$ ({cite:p}`fahrmeirstatistik` s.188)."
   ]
  },
  {
   "cell_type": "markdown",
   "id": "752bc0e8-9ed0-43f5-bbe7-e4f6d936d169",
   "metadata": {},
   "source": [
    "$X$ sei die Gesamtzahl der Erfolge in $n$ Bernoulli-Versuchen mit der Erfolgswahrscheinlichkeit $p$. Dann ist die Wahrscheinlichkeitsverteilung der Zufallsvariablen $X$ gegeben durch:"
   ]
  },
  {
   "cell_type": "markdown",
   "id": "9dcab2ba-ed9c-46ee-af59-a3ff2f5d249b",
   "metadata": {},
   "source": [
    "$$P(X = x) = {n \\choose x}p^x(1 - p)^{n-x}, \\qquad x = 0, 1, 2, \\dots , n$$"
   ]
  },
  {
   "cell_type": "markdown",
   "id": "8ce7072f-bbfb-4f20-a81d-85e8ec50faa6",
   "metadata": {},
   "source": [
    "Die Zufallsvariable $X$ wird als **Binomialzufallsvariable** bezeichnet und folgt der Binomialverteilung mit den Parametern $n$ und $p$ ({cite:p}`Papula2011` s.356)."
   ]
  },
  {
   "cell_type": "markdown",
   "id": "0fee1ec0-3894-4915-8dc2-157ac3277a90",
   "metadata": {},
   "source": [
    "Betrachten wir ein Beispiel aus der realen Welt."
   ]
  },
  {
   "cell_type": "markdown",
   "id": "d1fc4ed9-3b14-4154-aa6e-cf85ef9e8c16",
   "metadata": {},
   "source": [
    "Langzeitstatistiken besagen, dass die Chance, die Abschlussprüfung in Statistik zu bestehen, bei $0,3$ liegt. Ja, etwa $70 \\%$ der Studenten fallen in der Statistikprüfung durch! Übrigens, wenn Sie dieses E-Learning-Modul absolvieren, werden Ihre Chancen, die Abschlussprüfung zu bestehen, definitiv steigen :-)"
   ]
  },
  {
   "cell_type": "markdown",
   "id": "389d8f7e-398b-47b2-a646-f4af85c73ac2",
   "metadata": {},
   "source": [
    "Betrachten wir eine Klasse mit $25$ Studenten. Wie hoch ist die Wahrscheinlichkeit, dass genau $3$ der Studenten dieser Klasse die Abschlussprüfung in Statistik bestehen werden? Oder anders ausgedrückt: $P(X=3)$. Auch hier beginnen wir mit der Implementierung eines naiven Ansatzes in Python."
   ]
  },
  {
   "cell_type": "code",
   "execution_count": 2,
   "id": "4a9ce9e9-fde4-433c-8177-1316f19a657b",
   "metadata": {},
   "outputs": [
    {
     "data": {
      "text/plain": [
       "0.02427998871170032"
      ]
     },
     "execution_count": 2,
     "metadata": {},
     "output_type": "execute_result"
    }
   ],
   "source": [
    "# Anzahl der Studenten\n",
    "n = 25\n",
    "# Erfolgswahrscheinlichkeit\n",
    "p = 0.3\n",
    "# Anzahl der Studenten die die Prüfung bestehen\n",
    "k = 3\n",
    "\n",
    "math.comb(n,k)*p**(k)*(1-p)**(n-k)"
   ]
  },
  {
   "cell_type": "markdown",
   "id": "84cf7296-e032-4819-bbc7-0166707e92f1",
   "metadata": {},
   "source": [
    "Wow, die Wahrscheinlichkeit, dass genau $3$ von $25$ Studierenden $(P(X=3))$ die Abschlussprüfung in Statistik bestehen, ist ziemlich gering. Wie sieht es mit der Wahrscheinlichkeit aus, dass genau $15$ von $25$ Studierenden $(P(X=15))$ die Abschlussprüfung in Statistik bestehen werden? Wir wenden uns an Python."
   ]
  },
  {
   "cell_type": "code",
   "execution_count": 3,
   "id": "9b1f5ee6-f311-4236-bb39-4355a522ade5",
   "metadata": {},
   "outputs": [
    {
     "data": {
      "text/plain": [
       "0.0013248974242351928"
      ]
     },
     "execution_count": 3,
     "metadata": {},
     "output_type": "execute_result"
    }
   ],
   "source": [
    "# Anzahl der Studenten\n",
    "n = 25\n",
    "# Erfolgswahrscheinlichkeit\n",
    "p = 0.3\n",
    "# Anzahl der Studenten die die Prüfung bestehen\n",
    "k = 15\n",
    "\n",
    "math.comb(n,k)*p**(k)*(1-p)**(n-k)"
   ]
  },
  {
   "cell_type": "markdown",
   "id": "9a9ecd2d-9b89-4776-8743-35fd0b8daf64",
   "metadata": {},
   "source": [
    "Die Wahrscheinlichkeit von $P(X=15)$ beträgt etwa $0,1 \\%$. Wir könnten mit unseren Experimenten fortfahren, um alle Wahrscheinlichkeiten für **genau ein Ergebnis** für $k=0,1,2, \\dots ,n$ herauszufinden. Bitte beachten Sie allerdings, dass es für unser spezielles Beispiel nicht sehr informativ ist, die Wahrscheinlichkeit für das Bestehen der Prüfung für genau eine bestimmte Anzahl $(k)$ von Studenten zu kennen. Für uns ist es von größerem Informationsinteresse, wenn wir die Frage beantworten könnten, wie hoch die Wahrscheinlichkeit ist, dass $k$ oder weniger Studierende $(P(X \\le k))$ die Prüfung bestehen, oder, was ebenso interessant ist, dass $k$ oder mehr Studierende $(P(X \\ge k))$ die Prüfung bestehen."
   ]
  },
  {
   "cell_type": "markdown",
   "id": "482d6c6d-5efb-4cb0-bb58-ba113996adbc",
   "metadata": {},
   "source": [
    "Als Übung wenden wir uns an Python und bestimmen die Wahrscheinlichkeit, dass $9$ oder weniger Studierende die Abschlussprüfung in Statistik bestehen $(P(X \\le 9))$. Wir interessieren uns also für die Wahrscheinlichkeit, dass $0$ von $25 \\ $,$ \\ 1$ von $25 \\ $,$ \\ 2$ von $25 \\ $,$ \\ ...$ oder $9$ von $25$ Studierenden die Prüfung bestehen. Um diese Wahrscheinlichkeit zu berechnen, können wir unseren naiven Ansatz erweitern und Folgendes berechnen"
   ]
  },
  {
   "cell_type": "markdown",
   "id": "e77e3196-6ef7-4d02-b621-229c2c87f43c",
   "metadata": {},
   "source": [
    "$P(X = 0)+P(X = 1)+P(X = 2)+ \\dots+P(X = 9)$"
   ]
  },
  {
   "cell_type": "code",
   "execution_count": 4,
   "id": "73efa57b-b777-4711-b0f9-6b9536cb096e",
   "metadata": {},
   "outputs": [
    {
     "data": {
      "text/plain": [
       "0.8105639764950532"
      ]
     },
     "execution_count": 4,
     "metadata": {},
     "output_type": "execute_result"
    }
   ],
   "source": [
    "# Anzahl der Studenten\n",
    "n = 25\n",
    "# Erfolgswahrscheinlichkeit\n",
    "p = 0.3\n",
    "# Anzahl der maximalen Erfolge\n",
    "k = 9\n",
    "\n",
    "prob = 0\n",
    "prob_total = 0\n",
    "\n",
    "# Erzeuge for-loop\n",
    "for i in range(k+1):\n",
    "    prob = math.comb(n,i)*p**(i)*(1-p)**(n-i)\n",
    "    prob_total += prob\n",
    "prob_total"
   ]
  },
  {
   "cell_type": "markdown",
   "id": "1a4195bb-2ad2-4227-8c60-f1435c35f407",
   "metadata": {},
   "source": [
    "Die Wahrscheinlichkeit, dass $9$ oder weniger Studierende die Statistikprüfung bestehen $(P(X≤9))$, beträgt $81,1 \\%$. Das wiederum bedeutet, dass die Wahrscheinlichkeit, dass $10$ oder mehr Studierende die Prüfung bestehen, $P(X>9)=1-P(X≤9)$ oder nur $18,9 \\%$ beträgt."
   ]
  },
  {
   "cell_type": "markdown",
   "id": "6b99b8a9-b717-4fff-ae34-358182383839",
   "metadata": {},
   "source": [
    "Neben der ehrlich gesagt recht unangenehmen Einsicht in die Statistik des Bestehens der Abschlussprüfung ist es klar, dass die naive Implementierung von oben ziemlich mühsam ist. Deshalb führen wir die eingebauten Funktionen `binom.pmf()` und `binom.cdf()` ein."
   ]
  },
  {
   "cell_type": "markdown",
   "id": "be11ba23-60ad-44a5-b1d5-b7da1eb63450",
   "metadata": {},
   "source": [
    "Die Verwendung von `binom.pmf()` ist wie folgt: `binom.pmf(k, n, p, loc)`. Wir lassen vorerst das Argument `loc` außer Acht. Somit vereinfacht sich die Funktion `binom.pmf()` zu `binom.pmf(k, n, p)`, wobei $k$ den insgesamten Erfolgen, $n$ der Gesamtanzahl und $p$ der Wahrscheinlichkeit für das Bestehen der Prüfung entspricht. Um zu überprüfen, ob die Funktion `binom.pmf()` wie erwartet funktioniert, erinnern wir uns an unsere Testbeispiele von oben, nämlich $P(X=3)$ und $P(X=15)$."
   ]
  },
  {
   "cell_type": "code",
   "execution_count": 5,
   "id": "478cf4d2-97fe-4e1c-827e-f542554be8fb",
   "metadata": {},
   "outputs": [
    {
     "data": {
      "text/plain": [
       "0.024279988711700378"
      ]
     },
     "execution_count": 5,
     "metadata": {},
     "output_type": "execute_result"
    }
   ],
   "source": [
    "binom.pmf(3, 25, 0.3) "
   ]
  },
  {
   "cell_type": "code",
   "execution_count": 6,
   "id": "293d4ed8-09f7-4106-9d92-22e196625ee1",
   "metadata": {},
   "outputs": [
    {
     "data": {
      "text/plain": [
       "0.0013248974242351943"
      ]
     },
     "execution_count": 6,
     "metadata": {},
     "output_type": "execute_result"
    }
   ],
   "source": [
    "binom.pmf(15, 25, 0.3)"
   ]
  },
  {
   "cell_type": "markdown",
   "id": "5e894e9f-fb20-4ff1-9179-6badc956c4db",
   "metadata": {},
   "source": [
    "Vergleichen Sie diese Ergebnisse mit den Ergebnissen unserer naiven Implementierung (scrollen Sie nach oben). Die Zahlen sollten übereinstimmen."
   ]
  },
  {
   "cell_type": "markdown",
   "id": "42c669ec-cc83-4529-bd9f-3b4350372c2b",
   "metadata": {},
   "source": [
    "Die Funktion `binom.pmf()`  ist sehr praktisch, wenn wir Wahrscheinlichkeiten akkumulieren wollen, wie z. B. $P(X≤x)$ oder $P(X>x)$, denn wir können eine for - Schleife für das Argument $x$ angeben und anschließend summieren. Betrachten wir das Beispiel von oben $(P(X≤9))$."
   ]
  },
  {
   "cell_type": "code",
   "execution_count": 7,
   "id": "3c68267a-b888-4c91-84f9-5464a3d49414",
   "metadata": {},
   "outputs": [
    {
     "data": {
      "text/plain": [
       "0.8105639764950541"
      ]
     },
     "execution_count": 7,
     "metadata": {},
     "output_type": "execute_result"
    }
   ],
   "source": [
    "P_le9=[]\n",
    "for i in range(10):\n",
    "    P_le9.append(binom.pmf(i, 25, 0.3))\n",
    "P_le = sum(P_le9)\n",
    "P_le"
   ]
  },
  {
   "cell_type": "markdown",
   "id": "b60c754a-c94b-401e-9e35-1b407e243a39",
   "metadata": {},
   "source": [
    "Eine weitere eingebaute Funktion, die für die Beantwortung von $P(X≤9)$ geeignet ist, ist die Funktion `binom.pdf()`, die die Verteilungsfunktion zurückgibt. Die Funktion `binom.cdf()` berechnet die kumulative Wahrscheinlichkeitsverteilung und ist insofern praktisch, da wir auf den Aufruf der Summenfunktion verzichten können. Die Verwendung von `binom.cdf()` ist wie folgt: "
   ]
  },
  {
   "cell_type": "markdown",
   "id": "58e2a204-424a-443b-86c9-a36a3d0bc8a9",
   "metadata": {},
   "source": [
    "`binom.cdf(k, n, p, loc)`. Auch hier lassen wir das Argument `loc` außer Acht und belassen es bei `binom.cdf(k, n, p)`. Zusätzlich zu den Argumenten der Funktion `binom.cdf()` gilt zu beachten, dass `binom.cdf()`  die Wahrscheinlichkeiten $P(X≤x)$ wiedergibt und `binom.sf(k, n, p)` $P(X>x)$ die Gegenwahrscheinlichkeit `1-binom.cdf()`."
   ]
  },
  {
   "cell_type": "markdown",
   "id": "1a07c809-3d9d-4bb2-a8bf-114681cafc2b",
   "metadata": {},
   "source": [
    "Um dies zu verdeutlichen, lassen Sie uns $P(X≤9)$ neu berechnen. Das Ergebnis der obigen Berechnung war $0,81056$. Nun wenden wir die Funktion `binom.cdf()` an, um das gleiche Ergebnis zu erhalten."
   ]
  },
  {
   "cell_type": "code",
   "execution_count": 8,
   "id": "db71d979-5b63-48b5-9180-6764ddaab842",
   "metadata": {},
   "outputs": [
    {
     "data": {
      "text/plain": [
       "0.8105639764950546"
      ]
     },
     "execution_count": 8,
     "metadata": {},
     "output_type": "execute_result"
    }
   ],
   "source": [
    "binom.cdf(9, 25, 0.3)"
   ]
  },
  {
   "cell_type": "markdown",
   "id": "51fcf87a-8d31-4e18-aaf7-68f059e57f31",
   "metadata": {},
   "source": [
    "Um $P(X>9)$ zu erhalten, was dasselbe ist wie $1-P(X≤9)$, setzen wir das Argument"
   ]
  },
  {
   "cell_type": "code",
   "execution_count": 9,
   "id": "00b6d6a3-bce6-4b6c-8e49-319572347ceb",
   "metadata": {},
   "outputs": [
    {
     "data": {
      "text/plain": [
       "0.18943602350494537"
      ]
     },
     "execution_count": 9,
     "metadata": {},
     "output_type": "execute_result"
    }
   ],
   "source": [
    "binom.sf(9, 25, 0.3)"
   ]
  },
  {
   "cell_type": "code",
   "execution_count": 10,
   "id": "4e93802a-b059-4fa7-bf26-a44b9edecb0e",
   "metadata": {},
   "outputs": [
    {
     "data": {
      "text/plain": [
       "0.18943602350494537"
      ]
     },
     "execution_count": 10,
     "metadata": {},
     "output_type": "execute_result"
    }
   ],
   "source": [
    "1-binom.cdf(9, 25, 0.3)"
   ]
  },
  {
   "cell_type": "markdown",
   "id": "69b0a424-751b-4216-86c9-b63abedd8dd9",
   "metadata": {},
   "source": [
    "Um die **binomische Wahrscheinlichkeitsverteilung** zu visualisieren, verwenden wir die Funktion `binom.rvs()`, die Zufallsabweichungen für eine Binomialverteilung erzeugt, die durch ihre Größe $n$ und die Erfolgs-/Misserfolgswahrscheinlichkeit $p$ definiert ist."
   ]
  },
  {
   "cell_type": "code",
   "execution_count": 11,
   "id": "ae1a0c44-e491-48a8-9ee8-6404f147a36b",
   "metadata": {},
   "outputs": [
    {
     "data": {
      "image/png": "[encoded data removed]",
      "text/plain": [
       "<Figure size 432x288 with 1 Axes>"
      ]
     },
     "metadata": {
      "needs_background": "light"
     },
     "output_type": "display_data"
    }
   ],
   "source": [
    "# Setze random seed für Reproduzierbarkeit\n",
    "np.random.seed(seed=42)\n",
    "\n",
    "# Erzeuge y-Werte der Binomialverteilung\n",
    "y = []\n",
    "for i in range(2000):\n",
    "    y.append(binom.rvs(25,0.3))\n",
    "bins = max(y)-min(y)\n",
    "\n",
    "# Erzeuge Plot\n",
    "fig, ax1 = plt.subplots()\n",
    "\n",
    "plt.xlim(-1,26)\n",
    "ax1.set_title('Binomialverteilung: n = 25 , p = 0,3')\n",
    "ax1.set_xlabel('Anzahl der Studenten die Prüfung bestehen')\n",
    "ax1.set_ylabel('Wahrscheinlichkeit (P=X)')\n",
    "ax1.hist(y,bins, edgecolor='k')\n",
    "ax1.tick_params(axis='y') \n",
    "ax1.tick_params(axis='y')\n",
    "\n",
    "fig.tight_layout()\n",
    "\n",
    "plt.show()"
   ]
  },
  {
   "cell_type": "markdown",
   "id": "0210491f-33b6-4e2f-88f5-8d340d1aab88",
   "metadata": {},
   "source": [
    "Zusätzlich visualisieren wir die oben diskutierten Wahrscheinlichkeiten: $P(X=3), P(X=15), P(X≤9), P(X>9)$ und die entsprechende **kumulative binomiale Wahrscheinlichkeitsverteilungsfunktion**."
   ]
  },
  {
   "cell_type": "code",
   "execution_count": 12,
   "id": "6e8c5ac6-f58b-4e36-b932-02224319b8cb",
   "metadata": {
    "tags": []
   },
   "outputs": [
    {
     "data": {
      "image/png": "[encoded data removed]",
      "text/plain": [
       "<Figure size 432x288 with 1 Axes>"
      ]
     },
     "metadata": {
      "needs_background": "light"
     },
     "output_type": "display_data"
    }
   ],
   "source": [
    "# Setze random seed für Reproduzierbarkeit\n",
    "np.random.seed(seed=42)\n",
    "\n",
    "# Erzeuge y-Werte der Binomialverteilung\n",
    "y = []\n",
    "for i in range(2000):\n",
    "    y.append(binom.rvs(25,0.3))\n",
    "    \n",
    "bins = 15\n",
    "\n",
    "fig, ax1 = plt.subplots()\n",
    "\n",
    "#plt.xlim(-1,26)\n",
    "ax1.set_title('Binomialverteilung: n = 25 , p = 0,3')\n",
    "ax1.set_xlabel('Anzahl der Studenten die Prüfung bestehen')\n",
    "ax1.set_ylabel('Wahrscheinlichkeit (P=X)')\n",
    "ax1.hist(y,bins, edgecolor='k',density = True)\n",
    "ax1.tick_params(axis='y') \n",
    "ax1.tick_params(axis='x') \n",
    "ax1.axvline(9, color ='red', lw = 2, linestyle = '--', alpha = 0.75)\n",
    "\n",
    "# Annotation\n",
    "ax1.annotate('P(X >= 9)', xy=(23, 0.2),  xycoords='data',\n",
    "            xytext=(9.5, 0.2), textcoords='data',\n",
    "            arrowprops=dict(facecolor='red', shrink=0.0005))\n",
    "ax1.annotate('P(X <= 9)', xy=(0, 0.2),  xycoords='data',\n",
    "            xytext=(5, 0.2), textcoords='data',\n",
    "            arrowprops=dict(facecolor='red', shrink=0.0005))\n",
    "ax1.annotate('P(X = 15)', xy=(15, 0),  xycoords='data',\n",
    "            xytext=(15, 0.1), textcoords='data',\n",
    "            arrowprops=dict(facecolor='black', shrink=0.0005))\n",
    "ax1.annotate('P(X = 3)', xy=(3, 0.005),  xycoords='data',\n",
    "            xytext=(1, 0.1), textcoords='data',\n",
    "            arrowprops=dict(facecolor='black', shrink=0.0005))\n",
    "\n",
    "ax1.set(xlim=(-1,25), ylim=(0,0.3))\n",
    "fig.tight_layout()\n",
    "plt.show()"
   ]
  },
  {
   "cell_type": "code",
   "execution_count": 13,
   "id": "04ea56d1-dce8-438a-94e4-41cc295e3053",
   "metadata": {},
   "outputs": [
    {
     "data": {
      "image/png": "[encoded data removed]",
      "text/plain": [
       "<Figure size 432x288 with 1 Axes>"
      ]
     },
     "metadata": {
      "needs_background": "light"
     },
     "output_type": "display_data"
    }
   ],
   "source": [
    "# Erzeuge x und y Werte für kumulitative Wahrscheinlichkeit\n",
    "x = np.linspace(0, 50, num=50)  \n",
    "y_cdf  = binom.cdf(x, 25,0.3) \n",
    "\n",
    "fig, ax1 = plt.subplots(sharex=True,sharey=True)\n",
    "\n",
    "plt.xlim(-1,26)\n",
    "ax1.set_title('Kumulative Binomialverteilung: \\n n = 25 , p = 0,3')\n",
    "ax1.set_xlabel('Anzahl der Studenten die Prüfung bestehen')\n",
    "ax1.tick_params(axis='y')\n",
    "ax1.set_ylabel('Kumulitative Wahrscheinlichkeit')  \n",
    "ax1.plot(x, y_cdf, color = 'k')\n",
    "ax1.tick_params(axis='y')\n",
    "ax1.axvline(9,0,0.77, color ='red', lw = 1, alpha = 0.75,linestyle ='--')\n",
    "ax1.axhline(y=0.79,xmin=0,xmax=0.36, color ='red', lw = 1, alpha = 0.75,linestyle ='--')\n",
    "\n",
    "# Annotations\n",
    "ax1.annotate('P(X <= 9)', xy=(9.5, 0.2),  xycoords='data',\n",
    "            xytext=(9.5, 0.2), textcoords='data')\n",
    "ax1.annotate('P(X <= 9) = 0.81)', xy=(1.5, 0.85),  xycoords='data',\n",
    "            xytext=(1.5, 0.85), textcoords='data')\n",
    "\n",
    "fig.tight_layout()\n",
    "\n",
    "plt.show() "
   ]
  },
  {
   "cell_type": "markdown",
   "id": "6b6b48f6-50be-4149-8fbb-6c4be1923db2",
   "metadata": {},
   "source": [
    "Zum Abschluss dieses Abschnitts und um Ihnen ein Gefühl für die Formen der verschiedenen binomischen Wahrscheinlichkeitsverteilungen zu vermitteln, werden im Folgenden drei verschiedene binomische Wahrscheinlichkeitsverteilungen und die entsprechenden kumulativen binomischen Beweisbarkeitsverteilungen für $p=0,1, p=0,5$ und $p=0,9$ angegeben."
   ]
  },
  {
   "cell_type": "code",
   "execution_count": 14,
   "id": "093d15e3-cee0-4679-9b59-cac9a0328f93",
   "metadata": {},
   "outputs": [
    {
     "data": {
      "image/png": "[encoded data removed]",
      "text/plain": [
       "<Figure size 432x288 with 2 Axes>"
      ]
     },
     "metadata": {
      "needs_background": "light"
     },
     "output_type": "display_data"
    }
   ],
   "source": [
    "y = []\n",
    "for i in range(2000):\n",
    "    y.append(binom.rvs(25,0.1))\n",
    "bins = max(y)-min(y)\n",
    "\n",
    "y_cdf  = binom.cdf(x, 25,0.1) \n",
    "\n",
    "fig, ax1 = plt.subplots(sharex=True,sharey=True)\n",
    "plt.xlim(-1,26)\n",
    "\n",
    "ax1.set_title('Binomialverteilung: n = 25 , p = 0,1')\n",
    "ax1.set_xlabel('Anzahl der Studenten die Prüfung bestehen')\n",
    "ax1.set_ylabel('Wahrscheinlichkeit (P=X)')\n",
    "ax1.hist(y,bins,edgecolor='k',density=True)\n",
    "ax1.tick_params(axis='y')\n",
    "\n",
    "ax2 = ax1.twinx()  \n",
    "ax2.set_ylabel('Kumulitative Wahrscheinlichkeit')  \n",
    "ax2.plot(x,y_cdf, color='k')\n",
    "ax2.tick_params(axis='y')\n",
    "\n",
    "fig.tight_layout()\n",
    "\n",
    "plt.show() "
   ]
  },
  {
   "cell_type": "code",
   "execution_count": 15,
   "id": "eebc73c2-c538-40a5-90b7-e02e4292f6ae",
   "metadata": {},
   "outputs": [
    {
     "data": {
      "image/png": "[encoded data removed]",
      "text/plain": [
       "<Figure size 432x288 with 2 Axes>"
      ]
     },
     "metadata": {
      "needs_background": "light"
     },
     "output_type": "display_data"
    }
   ],
   "source": [
    "y = []\n",
    "for i in range(2000):\n",
    "    y.append(binom.rvs(25,0.5))\n",
    "bins = max(y)-min(y)\n",
    "\n",
    "y_cdf  = binom.cdf(x, 25,0.5) \n",
    "\n",
    "fig, ax1 = plt.subplots(sharex=True,sharey=True)\n",
    "plt.xlim(-1,26)\n",
    "\n",
    "#fig.add_subplot(111)\n",
    "ax1.set_title('Binomialverteilung: n = 25 , p = 0,5')\n",
    "ax1.set_xlabel('Anzahl der Studenten die Prüfung bestehen')\n",
    "ax1.set_ylabel('Wahrscheinlichkeit (P=X)')\n",
    "ax1.hist(y,bins,edgecolor='k',density = True)\n",
    "ax1.tick_params(axis='y')\n",
    "\n",
    "ax2 = ax1.twinx() \n",
    "ax2.set_ylabel('Kumulitative Wahrscheinlichkeit')  \n",
    "ax2.plot(x, y_cdf, color='k')\n",
    "\n",
    "\n",
    "fig.tight_layout()\n",
    "\n",
    "plt.show() "
   ]
  },
  {
   "cell_type": "code",
   "execution_count": 16,
   "id": "484d0f3e-e5a7-4b0b-ba9e-28369188c56f",
   "metadata": {},
   "outputs": [
    {
     "data": {
      "image/png": "[encoded data removed]",
      "text/plain": [
       "<Figure size 432x288 with 2 Axes>"
      ]
     },
     "metadata": {
      "needs_background": "light"
     },
     "output_type": "display_data"
    }
   ],
   "source": [
    "y = []\n",
    "for i in range(2000):\n",
    "    y.append(binom.rvs(25,0.9))\n",
    "bins = max(y)-min(y)\n",
    "\n",
    "y_cdf  = binom.cdf(x, 25,0.9) \n",
    "\n",
    "fig, ax1 = plt.subplots(sharex=True,sharey=True)\n",
    "plt.xlim(-1,26)\n",
    "\n",
    "#fig.add_subplot(111)\n",
    "ax1.set_title('Binomialverteilung: n = 25 , p = 0,9')\n",
    "ax1.set_xlabel('Anzahl der Studenten die Prüfung bestehen')\n",
    "ax1.set_ylabel('Wahrscheinlichkeit (P=X)')\n",
    "ax1.hist(y,bins,edgecolor='k',density = True)\n",
    "ax1.tick_params(axis='y')\n",
    "\n",
    "ax2 = ax1.twinx() \n",
    "ax2.set_ylabel('Kumulitative Wahrscheinlichkeit')  \n",
    "ax2.plot(x, y_cdf, color='k')\n",
    "\n",
    "\n",
    "fig.tight_layout()\n",
    "\n",
    "plt.show() "
   ]
  },
  {
   "cell_type": "code",
   "execution_count": null,
   "id": "9a4809a5-26b8-40a2-8db3-4749ef4cb48c",
   "metadata": {},
   "outputs": [],
   "source": []
  }
 ],
 "metadata": {
  "kernelspec": {
   "display_name": "Python 3 (ipykernel)",
   "language": "python",
   "name": "python3"
  },
  "language_info": {
   "codemirror_mode": {
    "name": "ipython",
    "version": 3
   },
   "file_extension": ".py",
   "mimetype": "text/x-python",
   "name": "python",
   "nbconvert_exporter": "python",
   "pygments_lexer": "ipython3",
   "version": "3.10.2"
  }
 },
 "nbformat": 4,
 "nbformat_minor": 5
}
