{
 "cells": [
  {
   "cell_type": "markdown",
   "id": "be57a36e-861a-4f94-b943-22538dafb52c",
   "metadata": {},
   "source": [
    "# Die Poisson-Verteilung"
   ]
  },
  {
   "cell_type": "markdown",
   "id": "773e377a-d81a-45b5-baff-cd20ea7b876e",
   "metadata": {},
   "source": [
    "Eine weitere wichtige diskrete Wahrscheinlichkeitsverteilung ist die <a href=\"https://de.wikipedia.org/wiki/Poisson-Verteilung\">Poisson-Verteilung</a>, benannt zu Ehren des französischen Mathematikers und Physikers <a href=\"https://de.wikipedia.org/wiki/Sim%C3%A9on_Denis_Poisson\">Simeon D. Poisson</a> (1781-1840). Die Poisson-Verteilung wird häufig verwendet, um die Wahrscheinlichkeit zu beschreiben, dass eine Reihe von Ereignissen in einem bestimmten Zeit- oder Raumintervall eintritt, wobei die Wahrscheinlichkeit des Auftretens dieser Ereignisse sehr gering ist (Lovric 2010). Da die Anzahl der Versuche jedoch sehr groß ist, treten diese Ereignisse tatsächlich ein."
   ]
  },
  {
   "cell_type": "markdown",
   "id": "c93a0196-7872-42f6-8417-d284a6e4dba3",
   "metadata": {},
   "source": [
    "Die Zufallsvariable $X$, die als **Poisson-Zufallsvariable** bezeichnet wird, ist die Anzahl der Ereignisse (oder des Eintreffens) solcher Ereignisse in einem bestimmten Zeit- oder Raumintervall. Eine Poisson-Zufallsvariable hat unendlich viele mögliche Werte, nämlich alle ganzen Zahlen ({cite:p}`fahrmeirstatistik` s.242)."
   ]
  },
  {
   "cell_type": "markdown",
   "id": "0638d682-5b73-4feb-9f82-1350f5b683c1",
   "metadata": {},
   "source": [
    "Unter der Annahme, dass $\\lambda$ der Erwartungswert solcher Ankünfte in einem Zeitintervall fester Länge ist, ist die Wahrscheinlichkeit, genau $x$ Ereignisse zu beobachten, durch die Wahrscheinlichkeitsfunktion gegeben"
   ]
  },
  {
   "cell_type": "markdown",
   "id": "77de057f-9ef0-47dc-b2dc-e2aa33c0506f",
   "metadata": {},
   "source": [
    "$$P(X = x) = e^{-\\lambda}\\frac{\\lambda^x}{x!}, \\qquad x = 0, 1, 2,\\dots ,$$"
   ]
  },
  {
   "cell_type": "markdown",
   "id": "d84ed2b4-82ff-4c94-83f1-6d0eb03fab43",
   "metadata": {},
   "source": [
    "wobei $\\lambda$ eine positive reelle Zahl ist, die die durchschnittliche Anzahl der Ereignisse während eines festen Zeitintervalls darstellt, und $e≈2,7182818$ (die Eulersche Zahl). Somit wird jede bestimmte Poisson-Verteilung durch einen Parameter identifiziert, der gewöhnlich mit $\\lambda$ (dem griechischen Buchstaben Lambda) bezeichnet wird. Wenn das Ereignis beispielsweise durchschnittlich $10$ Mal pro Sekunde auftritt, tritt es in $60$ Sekunden durchschnittlich $600$ Mal auf und $\\lambda=600$."
   ]
  }
 ],
 "metadata": {
  "kernelspec": {
   "display_name": "Python 3 (ipykernel)",
   "language": "python",
   "name": "python3"
  },
  "language_info": {
   "codemirror_mode": {
    "name": "ipython",
    "version": 3
   },
   "file_extension": ".py",
   "mimetype": "text/x-python",
   "name": "python",
   "nbconvert_exporter": "python",
   "pygments_lexer": "ipython3",
   "version": "3.10.2"
  }
 },
 "nbformat": 4,
 "nbformat_minor": 5
}
