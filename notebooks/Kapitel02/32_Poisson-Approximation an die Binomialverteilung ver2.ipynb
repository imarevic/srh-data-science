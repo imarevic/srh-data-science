{
 "cells": [
  {
   "cell_type": "markdown",
   "id": "7728a449-79ab-493d-8a4b-6d356294b7c6",
   "metadata": {},
   "source": [
    "## Poisson-Approximation an die Binomialverteilung\n",
    "----------------------------------------"
   ]
  },
  {
   "cell_type": "markdown",
   "id": "2038f778-7cb2-43fc-b969-37e0c459a2f7",
   "metadata": {},
   "source": [
    "In Situationen, in denen $n$ groß und $p$ sehr klein ist, kann die Poisson-Verteilung zur Annäherung an die Binomialverteilung verwendet werden. Erinnern Sie sich an die binomische Wahrscheinlichkeitsverteilung:"
   ]
  },
  {
   "cell_type": "markdown",
   "id": "8a3e8a36-9bcf-4375-babb-e2277fc6feda",
   "metadata": {},
   "source": [
    "$$P(X = x) = {n \\choose x}p^x(1-p)^{n-x}, \\qquad x = 0, 1, 2, \\dots , n $$"
   ]
  },
  {
   "cell_type": "markdown",
   "id": "edce4fbc-b353-4822-ac61-ccc7599861eb",
   "metadata": {},
   "source": [
    "Wie im obigen Beispiel \"$100$-jähriges Hochwasser\" ist $n$ eine große Zahl $(100)$ und $p$ eine kleine Zahl $(0.01)$. Einsetzen in die Gleichung von oben $P(x=1)$ ergibt"
   ]
  },
  {
   "cell_type": "markdown",
   "id": "254518b1-cd68-4557-9a7f-12f83d08de44",
   "metadata": {},
   "source": [
    "\\begin{align}\n",
    "\\ P(X = 1) & = {100 \\choose 1}\\times 0.01^1\\times (1 - 0.01)^{100 -1} \\\\\n",
    " & = 100\\times 0.01\\times 0.3697296  \\\\ \n",
    " & = 0.3697296\n",
    "\\end{align}"
   ]
  },
  {
   "cell_type": "markdown",
   "id": "c2cb345d-164a-42ce-83ab-45eade54eda2",
   "metadata": {},
   "source": [
    "Das Ergebnis kommt dem oben ermittelten Ergebnis sehr nahe `dpois(x = 1, lambda = 1)` $= 0,3678794$. Die geeignete Poisson-Verteilung ist diejenige, deren Mittelwert gleich dem der Binomialverteilung ist, d. h. $\\lambda=np$, was in unserem Beispiel $\\lambda=100×0,01=1$ ist."
   ]
  },
  {
   "cell_type": "markdown",
   "id": "44bcf7e2-24b9-469d-bf12-bbd1bb40fca9",
   "metadata": {},
   "source": [
    "Zum Abschluss dieses Abschnitts und um Ihnen eine Vorstellung von den Formen der verschiedenen Poisson-Wahrscheinlichkeitsverteilungen zu geben, werden im Folgenden drei verschiedene Poisson-Wahrscheinlichkeitsverteilungen und die entsprechenden kumulativen Poisson-Wahrscheinlichkeitsverteilungen für $\\lambda=2,5, \\lambda=7$ und $\\lambda=12$ angegeben."
   ]
  },
  {
   "cell_type": "markdown",
   "id": "c1fa9249-847d-4d4f-ae6d-d65226c65215",
   "metadata": {},
   "source": [
    "![Alt-Text](lambda2_5.png)"
   ]
  },
  {
   "cell_type": "markdown",
   "id": "3bacf905-3804-4720-836c-a43a32656481",
   "metadata": {},
   "source": [
    "![Alt-Text](lambda_7.png)"
   ]
  },
  {
   "cell_type": "markdown",
   "id": "b3c0e40a-684a-4e36-bef6-ff47fe5aba42",
   "metadata": {},
   "source": [
    "![Alt-Text](lambda_12.png)"
   ]
  }
 ],
 "metadata": {
  "kernelspec": {
   "display_name": "Python 3 (ipykernel)",
   "language": "python",
   "name": "python3"
  },
  "language_info": {
   "codemirror_mode": {
    "name": "ipython",
    "version": 3
   },
   "file_extension": ".py",
   "mimetype": "text/x-python",
   "name": "python",
   "nbconvert_exporter": "python",
   "pygments_lexer": "ipython3",
   "version": "3.10.2"
  }
 },
 "nbformat": 4,
 "nbformat_minor": 5
}
