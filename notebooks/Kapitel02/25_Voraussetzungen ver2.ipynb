{
 "cells": [
  {
   "cell_type": "code",
   "execution_count": 1,
   "id": "327d04d6-729c-406f-8329-71bbd419e5dc",
   "metadata": {},
   "outputs": [
    {
     "name": "stdout",
     "output_type": "stream",
     "text": [
      "\n",
      "---------------------------------\n",
      "Working on the host: Joachims-MacBook-Pro.local\n",
      "\n",
      "---------------------------------\n",
      "Python version: 3.10.2 | packaged by conda-forge | (main, Feb  1 2022, 19:30:18) [Clang 11.1.0 ]\n",
      "\n",
      "---------------------------------\n",
      "Python interpreter: /opt/miniconda3/envs/srh/bin/python\n"
     ]
    }
   ],
   "source": [
    "%matplotlib inline\n",
    "# Load the \"autoreload\" extension\n",
    "%load_ext autoreload\n",
    "# always reload modules\n",
    "%autoreload 2\n",
    "# black formatter for jupyter notebooks\n",
    "#%load_ext nb_black\n",
    "# black formatter for jupyter lab\n",
    "%load_ext lab_black\n",
    "\n",
    "%run ../../src/notebook_env.py"
   ]
  },
  {
   "cell_type": "markdown",
   "id": "cc896b12-94e7-4128-baad-7278981e6d48",
   "metadata": {
    "tags": []
   },
   "source": [
    "## Voraussetzungen"
   ]
  },
  {
   "cell_type": "code",
   "execution_count": 2,
   "id": "9c72bf55-3a8d-44a9-a86f-5f4bde9481fe",
   "metadata": {},
   "outputs": [],
   "source": [
    "import math\n",
    "from math import comb"
   ]
  },
  {
   "cell_type": "markdown",
   "id": "18a6be43-315f-4f92-a6fd-ee5d3368be35",
   "metadata": {},
   "source": [
    "### Fakultät"
   ]
  },
  {
   "cell_type": "markdown",
   "id": "ddb80361-3e11-4883-9fd5-e4862a065b1c",
   "metadata": {},
   "source": [
    "Das Produkt der ersten $k$ positiven ganzen Zahlen wird als $k$-Faktultät bezeichnet und mit $k!$ abgekürzt ({cite:p}`fahrmeirstatistik` s.186)."
   ]
  },
  {
   "cell_type": "markdown",
   "id": "583ab000-7827-433b-b897-133c49f499d1",
   "metadata": {},
   "source": [
    "$$k! = k \\times (k - 1) \\times ...\\times 2 \\times  1$$"
   ]
  },
  {
   "cell_type": "markdown",
   "id": "267375e6-577b-401e-b6a0-cc574fe7a757",
   "metadata": {},
   "source": [
    "Wir definieren auch $0!=1$."
   ]
  },
  {
   "cell_type": "markdown",
   "id": "18d4e7db-0a89-479c-8486-fc917a52a678",
   "metadata": {},
   "source": [
    "Betrachten wir ein einfaches Beispiel und berechnen die Fakultät von $6$. Wenn wir die obige Gleichung einsetzen, erhalten wir folgendes Ergebnis"
   ]
  },
  {
   "cell_type": "markdown",
   "id": "0d275590-d325-41ad-a84b-908ea178d720",
   "metadata": {},
   "source": [
    "$$6! = 6 \\times  5 \\times  4 \\times  3 \\times  2 \\times 1$$"
   ]
  },
  {
   "cell_type": "markdown",
   "id": "7d12e330-f877-4bec-96ab-715d3d41e5e9",
   "metadata": {},
   "source": [
    "In Python können wir das entweder direkt berechnen..."
   ]
  },
  {
   "cell_type": "code",
   "execution_count": 3,
   "id": "2a277d27-42c4-4a93-bdc1-09af4a621432",
   "metadata": {},
   "outputs": [
    {
     "data": {
      "text/plain": [
       "720"
      ]
     },
     "execution_count": 3,
     "metadata": {},
     "output_type": "execute_result"
    }
   ],
   "source": [
    "6 * 5 * 4 * 3 * 2 * 1"
   ]
  },
  {
   "cell_type": "markdown",
   "id": "83ac70f2-83d2-4218-82e6-575536184454",
   "metadata": {},
   "source": [
    "...oder wir verwenden die eingebaute Funktion `factorial()`"
   ]
  },
  {
   "cell_type": "code",
   "execution_count": 4,
   "id": "fa2f8aa7-eafb-4b38-9fa5-6885dba19e27",
   "metadata": {},
   "outputs": [
    {
     "data": {
      "text/plain": [
       "720"
      ]
     },
     "execution_count": 4,
     "metadata": {},
     "output_type": "execute_result"
    }
   ],
   "source": [
    "math.factorial(6)"
   ]
  },
  {
   "cell_type": "markdown",
   "id": "3cc7990c-049d-4f3b-8141-e95bb3fbfe10",
   "metadata": {},
   "source": [
    "### Binomialkoeffizienten"
   ]
  },
  {
   "cell_type": "markdown",
   "id": "6149c060-ac93-4321-b602-ebcec6fc30e5",
   "metadata": {},
   "source": [
    "Wenn $n$ eine positive ganze Zahl und $k$ eine nicht negative ganze Zahl kleiner oder gleich $n$ ist, dann ist der <a href=\"https://de.wikipedia.org/wiki/Binomialkoeffizient\">Binomialkoeffizient</a> ${n \\choose k}$ definiert als:"
   ]
  },
  {
   "cell_type": "markdown",
   "id": "650c2b30-e840-4388-9954-b857f171b247",
   "metadata": {},
   "source": [
    "$${n \\choose k}= \\frac{n!}{k!(n - k)!}$$"
   ]
  },
  {
   "cell_type": "markdown",
   "id": "686fce6f-f7c2-45fd-a430-ae24a64467b2",
   "metadata": {},
   "source": [
    "Die Binomialkoeffizienten ${n \\choose k}$ werden oft als \"$n$ über $k$\" gelesen, weil es ${n \\choose k}$ Möglichkeiten gibt, $k$ Elemente ohne Rücksicht auf ihre Reihenfolge aus einer Menge von $n$ Elementen auszuwählen. Mit anderen Worten: Die Binomialkoeffizienten beziehen sich auf die Anzahl der Kombinationen von $n$ Dingen, die $k$-mal ohne Wiederholung ausgewählt werden. Bitte beachten Sie, dass die Reihenfolge der Auswahl keine Rolle spielt."
   ]
  },
  {
   "cell_type": "markdown",
   "id": "6e46ffbb-13a3-4670-81bb-fd47bf7b2656",
   "metadata": {},
   "source": [
    "Versuchen wir es mit einem Beispiel, um ein Gefühl dafür zu bekommen."
   ]
  },
  {
   "cell_type": "markdown",
   "id": "3cd4c8f9-c2aa-4b62-ae77-fe7e27628ade",
   "metadata": {},
   "source": [
    "Nehmen wir ein einfaches Wort wie \"dog\", das drei verschiedene Buchstaben enthält: d, o, g. Wie viele Möglichkeiten gibt es, genau einen Buchstaben aus diesen $3$ Buchstaben zu ziehen? Mit Sicherheit gibt es $3$ Möglichkeiten, genau einen Buchstaben zu zeichnen: \"d\", \"o\", oder \"g\". Wir können also alle Kombinationen als ${3 \\choose 1}$ schreiben. Was ist mit zwei Buchstaben? Wie viele Kombinationen gibt es, um genau zwei Buchstaben aus $3$ Buchstaben zu ziehen? Die Kombinationen sind \"do\", \"dg\" und \"og\" (Bitte beachten Sie, dass z.B. \"og\" und \"go\" nur als eine Kombination gezählt werden, da die Reihenfolge im Moment keine Rolle spielt). Dementsprechend ist die Antwort $3$, die als ${3 \\choose 2}$ geschrieben werden kann. Eine letzte Frage: Wie viele Kombinationen gibt es, um aus $3$ Buchstaben genau drei Buchstaben zu ziehen? Fragen wir Python!"
   ]
  },
  {
   "cell_type": "markdown",
   "id": "ca332bb2-fba7-4731-9c83-686e3327282b",
   "metadata": {},
   "source": [
    "Zunächst wenden wir einen naiven Ansatz an, indem wir die obige Formel anwenden."
   ]
  },
  {
   "cell_type": "code",
   "execution_count": 7,
   "id": "4634671e-a56d-41d7-82c5-54c1c11dc652",
   "metadata": {},
   "outputs": [
    {
     "data": {
      "text/plain": [
       "1.0"
      ]
     },
     "execution_count": 7,
     "metadata": {},
     "output_type": "execute_result"
    }
   ],
   "source": [
    "# n entspricht 3 Buchstaben von dog\n",
    "n = 3\n",
    "# k entspricht wir ziehen 3 Buchstaben\n",
    "k = 3\n",
    "math.factorial(n) / ((math.factorial(k) * math.factorial(n - k)))"
   ]
  },
  {
   "cell_type": "markdown",
   "id": "45700721-5a06-41df-97d2-28184c5002a0",
   "metadata": {},
   "source": [
    "Wir können aber auch die eingebaute Funktion `comb()` verwenden, um die Anzahl der Kombinationen zu berechnen. Wir machen das für $k=1,2,3$."
   ]
  },
  {
   "cell_type": "code",
   "execution_count": 8,
   "id": "6ed02617-4783-497a-9940-7b659a560eb3",
   "metadata": {},
   "outputs": [
    {
     "data": {
      "text/plain": [
       "3"
      ]
     },
     "execution_count": 8,
     "metadata": {},
     "output_type": "execute_result"
    }
   ],
   "source": [
    "# 3 über 1\n",
    "comb(3, 1)"
   ]
  },
  {
   "cell_type": "code",
   "execution_count": 9,
   "id": "526a1249-44de-49ce-8ce6-138ba84cf0b9",
   "metadata": {},
   "outputs": [
    {
     "data": {
      "text/plain": [
       "3"
      ]
     },
     "execution_count": 9,
     "metadata": {},
     "output_type": "execute_result"
    }
   ],
   "source": [
    "# 3 über 2\n",
    "comb(3, 2)"
   ]
  },
  {
   "cell_type": "code",
   "execution_count": 10,
   "id": "3d900484-91ec-43b3-a09c-5cd96f94d6a0",
   "metadata": {},
   "outputs": [
    {
     "data": {
      "text/plain": [
       "1"
      ]
     },
     "execution_count": 10,
     "metadata": {},
     "output_type": "execute_result"
    }
   ],
   "source": [
    "# 3 über 3\n",
    "comb(3, 3)"
   ]
  },
  {
   "cell_type": "markdown",
   "id": "61ef5ccc-0e57-4ce1-84c3-cc10fe776e18",
   "metadata": {},
   "source": [
    "Nun, da wir mit dem Konzept vertraut sind, wollen wir ein komplexeres Beispiel betrachten: Die SRH Hochschule bittet alle Absolventen, ihre $4$ Lieblingskurse aus dem Studienplan zu wählen. Wie viele verschiedene Antworten könnten die Studierenden geben, wenn der Studienplan $24$ Kurse zur Auswahl anbietet? Irgendwelche Vermutungen? Lassen Sie uns Python fragen!"
   ]
  },
  {
   "cell_type": "code",
   "execution_count": 11,
   "id": "b3383b75-6ffc-4385-bd05-01b0ea191980",
   "metadata": {},
   "outputs": [
    {
     "data": {
      "text/plain": [
       "10626"
      ]
     },
     "execution_count": 11,
     "metadata": {},
     "output_type": "execute_result"
    }
   ],
   "source": [
    "comb(24, 4)"
   ]
  },
  {
   "cell_type": "markdown",
   "id": "e0036a56-0596-44b3-bce8-30b78c6bf1b5",
   "metadata": {},
   "source": [
    "Die Studenten können $10.626$ verschiedene Antworten geben."
   ]
  },
  {
   "cell_type": "markdown",
   "id": "d57b8580-494f-4021-99b8-0e37b36abec6",
   "metadata": {},
   "source": [
    "### Bernoulli-Versuche"
   ]
  },
  {
   "cell_type": "markdown",
   "id": "4e5f6497-1e01-4288-8e1f-91d6f92c2fed",
   "metadata": {},
   "source": [
    "Wiederholte Versuche eines Experiments werden als **Bernoulli-Versuche** bezeichnet, wenn die folgenden drei Bedingungen erfüllt sind:"
   ]
  },
  {
   "cell_type": "markdown",
   "id": "404e5913-bf96-47f7-ac03-e78c88e34925",
   "metadata": {
    "tags": []
   },
   "source": [
    "1. Das Experiment (jeder Versuch) hat zwei mögliche Ergebnisse, die mit $s$ für Erfolg und $f$ für Misserfolg bezeichnet werden.\n",
    "2. Die Versuche sind unabhängig voneinander.\n",
    "3. Die Wahrscheinlichkeit für einen Erfolg, die als Erfolgswahrscheinlichkeit bezeichnet wird und mit $p$ bezeichnet wird, bleibt von Versuch zu Versuch gleich."
   ]
  }
 ],
 "metadata": {
  "kernelspec": {
   "display_name": "Python 3 (ipykernel)",
   "language": "python",
   "name": "python3"
  },
  "language_info": {
   "codemirror_mode": {
    "name": "ipython",
    "version": 3
   },
   "file_extension": ".py",
   "mimetype": "text/x-python",
   "name": "python",
   "nbconvert_exporter": "python",
   "pygments_lexer": "ipython3",
   "version": "3.10.2"
  }
 },
 "nbformat": 4,
 "nbformat_minor": 5
}
