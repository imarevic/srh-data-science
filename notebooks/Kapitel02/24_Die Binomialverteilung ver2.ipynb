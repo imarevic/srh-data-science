{
 "cells": [
  {
   "cell_type": "markdown",
   "id": "1d114905-6937-4108-9151-e078cee3c93b",
   "metadata": {},
   "source": [
    "## Die Binomialverteilung\n",
    "----------------------------------------"
   ]
  },
  {
   "cell_type": "markdown",
   "id": "d5626426-7eae-4d7a-bdd3-538306db2ca1",
   "metadata": {},
   "source": [
    "Viele Anwendungen der Wahrscheinlichkeitsrechnung und Statistik betreffen die Wiederholung eines Experiments. Wir nennen jede Wiederholung einen **Versuch**, und wir sind besonders an Fällen interessiert, in denen das Experiment (jeder Versuch) **nur zwei mögliche Ergebnisse** hat: Erfolg oder Misserfolg, wahr oder falsch, 0 oder 1."
   ]
  },
  {
   "cell_type": "markdown",
   "id": "0af1d625-fabe-4c4c-b261-4616c869735a",
   "metadata": {},
   "source": [
    "Um wiederholte Versuche eines Experiments mit zwei möglichen Ergebnissen zu analysieren, benötigen wir Kenntnisse über **Fakultäten**, **Binomialkoeffizienten** und **Bernoulli-Versuche**."
   ]
  },
  {
   "cell_type": "markdown",
   "id": "0cfe9824-a265-459f-b89b-7717223bf8d5",
   "metadata": {},
   "source": [
    "Auf der Grundlage dieser Voraussetzungen lernen wir die **Binomialverteilung** kennen, die eine **Wahrscheinlichkeitsverteilung** für die Anzahl der Erfolge in einer Folge von **Bernoulli-Versuchen** ist (Weiss 2010)."
   ]
  }
 ],
 "metadata": {
  "kernelspec": {
   "display_name": "Python 3 (ipykernel)",
   "language": "python",
   "name": "python3"
  },
  "language_info": {
   "codemirror_mode": {
    "name": "ipython",
    "version": 3
   },
   "file_extension": ".py",
   "mimetype": "text/x-python",
   "name": "python",
   "nbconvert_exporter": "python",
   "pygments_lexer": "ipython3",
   "version": "3.10.2"
  }
 },
 "nbformat": 4,
 "nbformat_minor": 5
}
