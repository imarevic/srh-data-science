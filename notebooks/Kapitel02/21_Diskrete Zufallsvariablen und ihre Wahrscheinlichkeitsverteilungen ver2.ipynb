{
 "cells": [
  {
   "cell_type": "markdown",
   "id": "3388e6b7-17b8-414e-bc20-35a8f00ebfaa",
   "metadata": {},
   "source": [
    "## Diskrete Zufallsvariablen und ihre Wahrscheinlichkeitsverteilungen\n",
    "----------------------------------------"
   ]
  },
  {
   "cell_type": "markdown",
   "id": "6aa8612e-b3a3-4bb1-ad5f-8cc1b02ada5f",
   "metadata": {},
   "source": [
    "Eine <a href=\"https://en.wikipedia.org/wiki/Standard_deviation\">Zufallsvariable</a> ist eine Variable, deren Wert vom Zufall abhängt; dementsprechend ist ihr Wert mit einer Wahrscheinlichkeit verbunden. Generell sind Zufallsvariablen Zuordnungsvorschriften die möglichen Ergebnissen eines Zufallsexperiments einen Zahlenwert zuordnet. Eine **diskrete Zufallsvariable** weist den möglichen Ergebnissen diskrete, also abzählbare Werte zu. Eine **Wahrscheinlichkeitsverteilung** ist eine Auflistung der möglichen Werte und der entsprechenden Wahrscheinlichkeiten einer diskreten Zufallsvariablen, die häufig durch eine Formel dargestellt wird."
   ]
  },
  {
   "cell_type": "markdown",
   "id": "987e8cf6-75c5-4b9e-b4e9-bfa7204d0a58",
   "metadata": {},
   "source": [
    "Ein Diagramm der Wahrscheinlichkeitsverteilung, das die Wahrscheinlichkeit jedes Wertes, dargestellt durch einen vertikalen Balken, dessen Höhe der Wahrscheinlichkeit entspricht, und die möglichen Werte einer diskreten Zufallsvariablen auf der horizontalen Achse anzeigt, wird **Wahrscheinlichkeitshistogramm** genannt."
   ]
  },
  {
   "cell_type": "markdown",
   "id": "3684eb64-3628-497d-a71b-5779a95c5de2",
   "metadata": {},
   "source": [
    "Die **Summe der Wahrscheinlichkeiten einer diskreten Zufallsvariablen** für eine beliebige diskrete Zufallsvariable $X$ wird geschrieben als"
   ]
  },
  {
   "cell_type": "markdown",
   "id": "10d695f5-483b-45e2-9e1c-fdc7bb0689db",
   "metadata": {},
   "source": [
    "$$\\sum_{i=1}^{N}P(X = x_i) = 1$$"
   ]
  },
  {
   "cell_type": "markdown",
   "id": "bfbe6720-8b55-4972-ac58-0a4084e846b4",
   "metadata": {},
   "source": [
    "Bei einer großen Anzahl an voneinander unabhängigen Beobachtungen einer Zufallsvariablen $X$ wird das Wahrscheinlichkeitshistogramm eine Annäherung an die Wahrscheinlichkeitsverteilung für $X$ darstellen (Weiss 2010)."
   ]
  },
  {
   "cell_type": "markdown",
   "id": "e30e1ea9-182f-47b5-a801-71045b0e524b",
   "metadata": {},
   "source": [
    "Die folgenden Funktionen und Python-Pakete werden in diesem Abschnitt verwendet (in alphabetischer Reihenfolge):"
   ]
  },
  {
   "cell_type": "markdown",
   "id": "457b3b5d-c5f1-4f29-bb6d-892ade8290d8",
   "metadata": {},
   "source": [
    "### `Python Packete :`"
   ]
  },
  {
   "cell_type": "markdown",
   "id": "175c45a7-7471-4d9d-bab5-02d9723bff6f",
   "metadata": {},
   "source": [
    "### `Funktionen :`"
   ]
  },
  {
   "cell_type": "markdown",
   "id": "312a36a6-f645-4a28-8461-d9da6adf7d39",
   "metadata": {},
   "source": [
    "### `Plotting Funktionen :`"
   ]
  }
 ],
 "metadata": {
  "kernelspec": {
   "display_name": "Python 3 (ipykernel)",
   "language": "python",
   "name": "python3"
  },
  "language_info": {
   "codemirror_mode": {
    "name": "ipython",
    "version": 3
   },
   "file_extension": ".py",
   "mimetype": "text/x-python",
   "name": "python",
   "nbconvert_exporter": "python",
   "pygments_lexer": "ipython3",
   "version": "3.10.2"
  }
 },
 "nbformat": 4,
 "nbformat_minor": 5
}
