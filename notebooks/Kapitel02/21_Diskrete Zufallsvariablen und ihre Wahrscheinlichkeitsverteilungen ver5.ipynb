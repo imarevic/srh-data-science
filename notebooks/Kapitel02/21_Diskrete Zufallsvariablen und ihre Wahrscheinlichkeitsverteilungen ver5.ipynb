{
 "cells": [
  {
   "cell_type": "code",
   "execution_count": 1,
   "id": "757e8eab-8ae6-4d3c-9159-276476a79e7a",
   "metadata": {},
   "outputs": [
    {
     "name": "stdout",
     "output_type": "stream",
     "text": [
      "\n",
      "---------------------------------\n",
      "Working on the host: Joachims-MacBook-Pro.local\n",
      "\n",
      "---------------------------------\n",
      "Python version: 3.10.2 | packaged by conda-forge | (main, Feb  1 2022, 19:30:18) [Clang 11.1.0 ]\n",
      "\n",
      "---------------------------------\n",
      "Python interpreter: /opt/miniconda3/envs/srh/bin/python\n"
     ]
    }
   ],
   "source": [
    "%matplotlib inline\n",
    "# Load the \"autoreload\" extension\n",
    "%load_ext autoreload\n",
    "# always reload modules\n",
    "%autoreload 2\n",
    "# black formatter for jupyter notebooks\n",
    "#%load_ext nb_black\n",
    "# black formatter for jupyter lab\n",
    "%load_ext lab_black\n",
    "\n",
    "%run ../../src/notebook_env.py"
   ]
  },
  {
   "cell_type": "markdown",
   "id": "81643a74-cd4c-4740-a14c-889646bffb5b",
   "metadata": {},
   "source": [
    "# Diskrete Zufallsvariablen und ihre Wahrscheinlichkeitsverteilungen"
   ]
  },
  {
   "cell_type": "markdown",
   "id": "6aa8612e-b3a3-4bb1-ad5f-8cc1b02ada5f",
   "metadata": {},
   "source": [
    "Eine <a href=\"https://de.wikipedia.org/wiki/Zufallsvariable\">Zufallsvariable</a> ist eine Variable, deren Wert vom Zufall abhängt; dementsprechend ist ihr Wert mit einer Wahrscheinlichkeit verbunden. Generell sind Zufallsvariablen Zuordnungsvorschriften die möglichen Ergebnissen eines Zufallsexperiments einen Zahlenwert zuordnen. Eine **diskrete Zufallsvariable** weist den möglichen Ergebnissen diskrete, also abzählbare Werte zu. Eine **Wahrscheinlichkeitsverteilung** ist eine Auflistung der möglichen Werte und der entsprechenden Wahrscheinlichkeiten einer diskreten Zufallsvariablen, die häufig durch eine Formel dargestellt wird."
   ]
  },
  {
   "cell_type": "markdown",
   "id": "987e8cf6-75c5-4b9e-b4e9-bfa7204d0a58",
   "metadata": {},
   "source": [
    "Ein Diagramm der Wahrscheinlichkeitsverteilung, das die Wahrscheinlichkeit jedes Wertes, dargestellt durch einen vertikalen Balken, dessen Höhe der Wahrscheinlichkeit entspricht, und die möglichen Werte einer diskreten Zufallsvariablen auf der horizontalen Achse anzeigt, wird **Wahrscheinlichkeitshistogramm** genannt."
   ]
  },
  {
   "cell_type": "markdown",
   "id": "3684eb64-3628-497d-a71b-5779a95c5de2",
   "metadata": {},
   "source": [
    "Die **Summe der Wahrscheinlichkeiten einer diskreten Zufallsvariablen** für eine beliebige diskrete Zufallsvariable $X$ wird geschrieben als"
   ]
  },
  {
   "cell_type": "markdown",
   "id": "10d695f5-483b-45e2-9e1c-fdc7bb0689db",
   "metadata": {},
   "source": [
    "$$\\sum_{i=1}^{N}P(X = x_i) = 1$$"
   ]
  },
  {
   "cell_type": "markdown",
   "id": "bfbe6720-8b55-4972-ac58-0a4084e846b4",
   "metadata": {},
   "source": [
    "Bei einer großen Anzahl an voneinander unabhängigen Beobachtungen einer Zufallsvariablen $X$ wird das Wahrscheinlichkeitshistogramm eine Annäherung an die Wahrscheinlichkeitsverteilung für $X$ darstellen ({cite:p}`fahrmeirstatistik` s.209-250)."
   ]
  },
  {
   "cell_type": "code",
   "execution_count": null,
   "id": "c99eb861-fff1-4d88-bcea-dc6eeafc299e",
   "metadata": {},
   "outputs": [],
   "source": []
  }
 ],
 "metadata": {
  "kernelspec": {
   "display_name": "Python 3 (ipykernel)",
   "language": "python",
   "name": "python3"
  },
  "language_info": {
   "codemirror_mode": {
    "name": "ipython",
    "version": 3
   },
   "file_extension": ".py",
   "mimetype": "text/x-python",
   "name": "python",
   "nbconvert_exporter": "python",
   "pygments_lexer": "ipython3",
   "version": "3.10.2"
  }
 },
 "nbformat": 4,
 "nbformat_minor": 5
}
