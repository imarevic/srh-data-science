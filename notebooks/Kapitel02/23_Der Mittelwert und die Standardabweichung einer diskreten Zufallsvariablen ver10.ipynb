{
 "cells": [
  {
   "cell_type": "markdown",
   "id": "ca7593ad-d3a7-4a93-ac0a-0f70c9c3053c",
   "metadata": {},
   "source": [
    "## Der Mittelwert und die Standardabweichung einer diskreten Zufallsvariablen\n",
    "----------------------------------------"
   ]
  },
  {
   "cell_type": "code",
   "execution_count": 1,
   "id": "dcc624d4-53a5-4920-9390-fa87c9f701a1",
   "metadata": {},
   "outputs": [
    {
     "name": "stdout",
     "output_type": "stream",
     "text": [
      "\n",
      "---------------------------------\n",
      "Working on the host: LAPTOP-9LETB4SJ\n",
      "\n",
      "---------------------------------\n",
      "Python version: 3.10.2 | packaged by conda-forge | (main, Mar  8 2022, 15:52:24) [MSC v.1929 64 bit (AMD64)]\n",
      "\n",
      "---------------------------------\n",
      "Python interpreter: C:\\Users\\zak\\anaconda3\\envs\\srh\\python.exe\n"
     ]
    }
   ],
   "source": [
    "import matplotlib.pyplot as plt\n",
    "import numpy as np\n",
    "import pandas as pd\n",
    "import random\n",
    "\n",
    "%run ../src/notebook_env.py"
   ]
  },
  {
   "cell_type": "markdown",
   "id": "d16e0675-086d-4765-9625-bec02cb99d97",
   "metadata": {},
   "source": [
    "### Mittelwert einer diskreten Zufallsvariable"
   ]
  },
  {
   "cell_type": "markdown",
   "id": "3f93fae7-eb52-4ccf-b12a-142162b70278",
   "metadata": {},
   "source": [
    "Der Mittelwert einer **diskreten Zufallsvariablen** $X$ wird mit $\\mu_X$ oder, wenn keine Verwechslung auftreten soll, einfach mit $\\mu$ bezeichnet. Die Begriffe **Erwartungswert**, $E(X)$ und **Erwartung** werden üblicherweise anstelle des Begriffs Mittelwert verwendet."
   ]
  },
  {
   "cell_type": "markdown",
   "id": "4191d257-4c8f-45eb-8760-8b9405135ab6",
   "metadata": {},
   "source": [
    "$$E(X) = \\sum_{i=1}^{N}x_iP(X=x_i)$$"
   ]
  },
  {
   "cell_type": "markdown",
   "id": "f58295ef-e375-4f2e-95e4-ca8cedd48345",
   "metadata": {},
   "source": [
    "Bei einer großen Anzahl unabhängiger Beobachtungen einer Zufallsvariablen $X$ nähert sich $E(X)$ dieser Beobachtungen - der Stichprobe - dem Mittelwert $\\mu$ der Grundgesamtheit an. Je größer die Zahl der Beobachtungen ist, desto näher liegt $E(X)$ an $\\mu$ ({cite:p}`fahrmeirstatistik` s.226)."
   ]
  },
  {
   "cell_type": "markdown",
   "id": "30303220-a873-4a96-b0b1-6571db24ea8d",
   "metadata": {},
   "source": [
    "Erinnern wir uns an unser Experiment aus dem vorherigen Abschnitt, als wir $1.000$ Personen ausgewählt und nach der Anzahl der Geschwister gefragt haben. Werfen wir noch einmal einen Blick auf die Tabelle, die das Experiment zusammenfasst"
   ]
  },
  {
   "cell_type": "markdown",
   "id": "8c686540-bcec-44af-801e-84e3d5255539",
   "metadata": {},
   "source": [
    "\\begin{array}{c|lcr}\n",
    "\\text{Geschwister} & \\text{Häufigkeit} & \\text{Relative}\\\\\n",
    "\\ x & f & \\text{Häufigkeit}\\\\\n",
    "\\hline\n",
    "0 & 205 & 0.205  \\\\\n",
    "1 & 419 & 0.419  \\\\\n",
    "2 & 280 & 0.28 \\\\\n",
    "3 & 65 & 0.065  \\\\\n",
    "4 & 29 & 0.029  \\\\\n",
    "5 & 2 & 0.002 \\\\\n",
    "\\hline\n",
    " & 1000 & 1\n",
    "\\end{array}"
   ]
  },
  {
   "cell_type": "markdown",
   "id": "d33e017b-dcb8-4814-baa9-175925ebafea",
   "metadata": {},
   "source": [
    "Berechnen wir den Erwartungswert (Mittelwert) für dieses Experiment."
   ]
  },
  {
   "cell_type": "markdown",
   "id": "9ff9b620-ae3e-4878-9689-8f1c132be68c",
   "metadata": {},
   "source": [
    "\\begin{align}\n",
    "\\\\ \n",
    "& E(X) = \\sum_{i=1}^{N}x_iP(X=x_i) \\\\\n",
    "& = 0 \\cdot P(X=0) + 1 \\cdot P(X=1)+ 2 \\cdot P(X=2) + 3 \\cdot P(X=3) +4 \\cdot P(X=4)+ 5 \\cdot P(X \\ge 5) \\\\\n",
    "& = 0 \\cdot 0,205 + 1 \\cdot 0,419 + 2 \\cdot 0,28+ 3 \\cdot 0,065  + 4 \\cdot 0,029  + 5 \\cdot 0,002  \\\\\n",
    "& = 1,3\n",
    "\\end{align}"
   ]
  },
  {
   "cell_type": "markdown",
   "id": "2d69d004-b667-4098-bb4a-263bfb90a3e5",
   "metadata": {},
   "source": [
    "Der sich daraus ergebende Erwartungswert von $1,3$ liegt nahe am Mittelwert $\\mu$, den wir anhand der Wahrscheinlichkeiten der Grundgesamtheit berechnen (die realen Wahrscheinlichkeiten sind der unteren rechten Abbildung im vorherigen Abschnitt entnommen)."
   ]
  },
  {
   "cell_type": "markdown",
   "id": "befa7461-efe9-434a-ac12-fbf1b362969b",
   "metadata": {},
   "source": [
    "$$\\mu = 1 \\cdot 0,2 + 2 \\cdot 0,425 +  3 \\cdot 0,275 + 4 \\cdot 0,07 + 5 \\cdot 0,025=1,31$$"
   ]
  },
  {
   "cell_type": "markdown",
   "id": "1cce9aba-cc2b-4d84-9963-eb3cc6047ca4",
   "metadata": {},
   "source": [
    "### Übung"
   ]
  },
  {
   "cell_type": "markdown",
   "id": "3f4b0c1d-f114-479d-8a08-d28282c79fbc",
   "metadata": {},
   "source": [
    "Betrachten wir einen fairen sechsseitigen Würfel. Wir können den **Erwartungswert** $E(X)$ leicht mit Python berechnen. Der Begriff \"fair\" bedeutet, dass jede Zufallsvariable $X=x_i,\\; x \\in 1,2,3,4,5,6$ mit gleicher Wahrscheinlichkeit auftritt. Daher ist $P(X=x_i)=\\frac{1}{6}$."
   ]
  },
  {
   "cell_type": "markdown",
   "id": "5464367d-a038-4c05-8b02-f3178c1f5b10",
   "metadata": {},
   "source": [
    "$$E(X) = \\sum_{i=1}^{6}x_iP(X=x_i) = 1 \\cdot \\frac{1}{6} + 2 \\cdot \\frac{1}{6} +  3 \\cdot \\frac{1}{6} +  4 \\cdot \\frac{1}{6} + 5 \\cdot \\frac{1}{6} + 6 \\cdot \\frac{1}{6}= 3,5$$"
   ]
  },
  {
   "cell_type": "markdown",
   "id": "fcdfe119-ce57-4938-b0b6-d1990d307714",
   "metadata": {},
   "source": [
    "In Python schreiben wir den folgenden Code:"
   ]
  },
  {
   "cell_type": "code",
   "execution_count": 2,
   "id": "7da3a0db-8621-4b0c-b298-742e73fbd515",
   "metadata": {},
   "outputs": [
    {
     "data": {
      "text/plain": [
       "3.5"
      ]
     },
     "execution_count": 2,
     "metadata": {},
     "output_type": "execute_result"
    }
   ],
   "source": [
    "p_die = 1/6\n",
    "die = pd.Series([1,2,3,4,5,6])\n",
    "die = die * p_die\n",
    "sum(die)"
   ]
  },
  {
   "cell_type": "markdown",
   "id": "6964d9f3-866b-461d-86bd-4bd5a883f3a8",
   "metadata": {},
   "source": [
    "Was aber, wenn wir uns nicht sicher sind, ob die Würfel wirklich fair sind? Woher wissen wir, dass wir nicht betrogen werden? Oder anders ausgedrückt: Wie oft müssen wir würfeln, bevor wir mehr Vertrauen haben können?"
   ]
  },
  {
   "cell_type": "markdown",
   "id": "104f0d58-eabe-4ed0-8e99-3ddf5e3c7b62",
   "metadata": {},
   "source": [
    "Führen wir ein Berechnungsexperiment durch: Wir wissen aus den obigen Überlegungen, dass der Erwartungswert eines $6$-seitigen fairen Würfels $3,5$ ist. Wir führen ein Experiment durch, indem wir einen Würfel immer und immer wieder werfen. Wir speichern das Ergebnis und bevor wir erneut würfeln, berechnen wir den Durchschnitt aller bisherigen Würfelwürfe. Um dieses kleine Experiment durchzuführen, schreiben wir eine for-Schleife in Python."
   ]
  },
  {
   "cell_type": "code",
   "execution_count": 3,
   "id": "4222b71f-3924-42b2-9810-c8ac0e17ada1",
   "metadata": {},
   "outputs": [
    {
     "data": {
      "text/plain": [
       "(0.0, 6.5)"
      ]
     },
     "execution_count": 3,
     "metadata": {},
     "output_type": "execute_result"
    },
    {
     "data": {
      "text/plain": [
       "<Figure size 432x288 with 0 Axes>"
      ]
     },
     "metadata": {},
     "output_type": "display_data"
    },
    {
     "data": {
      "image/png": "[encoded data removed]",
      "text/plain": [
       "<Figure size 432x288 with 1 Axes>"
      ]
     },
     "metadata": {
      "needs_background": "light"
     },
     "output_type": "display_data"
    }
   ],
   "source": [
    "# Setze random seed für Reproduzierbarkeit\n",
    "random.seed(10)\n",
    "\n",
    "# Simuliere Würfelwurf\n",
    "# Initialisiere Variablen wuerfel , x und Ewert\n",
    "wuerfel = []\n",
    "Ewert = []\n",
    "x = list(range(0,500))\n",
    "\n",
    "# Erzeuge 1000 Zufallszahlen zwischen 1 , ..., 6 \n",
    "# und füge sie zu wuerfel hinzu; Schreibe momentane Mittelwerte in Ewert\n",
    "for i in range(500):\n",
    "    r=random.randint(1,6)\n",
    "    wuerfel.append(r)\n",
    "    Ewert.append(np.mean(wuerfel))\n",
    "\n",
    "# Plotte die Werte\n",
    "fig = plt.figure()\n",
    "fig,ax = plt.subplots()\n",
    "\n",
    "ax.plot(x,Ewert,lw=1)\n",
    "ax.axhline(y=3.5, color='r', ls = '--',label='Erwartungswert : 3,5')\n",
    "#ax.legend(handles=[line1])\n",
    "ax.set_xlabel('Anzahl der Versuche')\n",
    "ax.set_ylabel('Erwartungswert')\n",
    "ax.set_ylim(0,6.5)"
   ]
  },
  {
   "cell_type": "markdown",
   "id": "5c819c54-5826-4f4c-846f-eff1243bc4fc",
   "metadata": {},
   "source": [
    "Das Diagramm zeigt, dass die Kurve nach anfänglichen Schwankungen schließlich abflacht und sich dem $E(X)$ von $3,5$ annähert."
   ]
  },
  {
   "cell_type": "markdown",
   "id": "0f392170-dfec-4798-ac65-5b5247b00675",
   "metadata": {},
   "source": [
    "### Standardabweichung einer diskreten Zufallsvariable"
   ]
  },
  {
   "cell_type": "markdown",
   "id": "5a1d02a0-7825-4349-94d8-37aecc45706d",
   "metadata": {},
   "source": [
    "Die Standardabweichung einer diskreten Zufallsvariablen $X$ wird mit $\\sigma_X$ oder, wenn keine Verwechslung auftreten soll, einfach mit $\\sigma$ bezeichnet. Sie ist definiert als"
   ]
  },
  {
   "cell_type": "markdown",
   "id": "e6623cc0-c945-44ba-b472-072e5de773b1",
   "metadata": {},
   "source": [
    "$$\\sigma = \\sqrt{\\sum_{i=1}^{N}(x_i-\\mu)^2P(X=x_i)}$$"
   ]
  },
  {
   "cell_type": "markdown",
   "id": "38a2f6e6-75e1-495e-be9f-8722899c964a",
   "metadata": {},
   "source": [
    "#### Übung"
   ]
  },
  {
   "cell_type": "markdown",
   "id": "ce292201-5b13-4277-9600-ccd3279033f3",
   "metadata": {},
   "source": [
    "Wenden wir uns nun Python zu und berechnen die Standardabweichung für das Würfelexperiment von oben. Während des Experiments haben wir 500 Mal gewürfelt. Die Ergebnisse dieser Würfe sind in der Liste `wuerfel` gespeichert. Die relative Häufigkeit für jede dieser Zahlen in `wuerfel`  beträgt annähernd $\\frac{1}{6}=0,167$. Also setzen wir diese Zahlen einfach in die Gleichung für die Standardabweichung von oben ein. Denken Sie daran, dass der Erwartungswert nach $500$ Würfen in der Variablen `Ewert[499]` gespeichert ist."
   ]
  },
  {
   "cell_type": "code",
   "execution_count": 4,
   "id": "a93fae10-1327-42cf-b434-1272cd3e09fa",
   "metadata": {},
   "outputs": [
    {
     "name": "stdout",
     "output_type": "stream",
     "text": [
      "Standardabweichung nach 500 Würfen: [1.64241164]\n"
     ]
    }
   ],
   "source": [
    "# Setze random seed für Reproduzierbarkeit\n",
    "random.seed(10)\n",
    "# Initialisiere Variablen wuerfel_mean und relH\n",
    "wuerfel_mean = Ewert[499]\n",
    "relH = []\n",
    "\n",
    "# Berechne relativen Häufigkeiten\n",
    "for i in range(1,7):\n",
    "    relH.append(wuerfel.count(i)/len(wuerfel))\n",
    "\n",
    "relH=pd.DataFrame(relH)\n",
    "iwerte=pd.DataFrame([1,2,3,4,5,6])\n",
    "for i in range(6):\n",
    "    wuerfel_std =np.sqrt(sum(((iwerte.values - wuerfel_mean)**2*relH.values)))\n",
    "    \n",
    "print('Standardabweichung nach 500 Würfen:',wuerfel_std)"
   ]
  },
  {
   "cell_type": "markdown",
   "id": "2ac65290-dd3f-4aab-af74-37804baf367b",
   "metadata": {},
   "source": [
    "Grob gesagt hat unser Experiment gezeigt, dass nach $500$ Würfen der Wert einer Würfelzahl im Durchschnitt um $1,64$ vom experimentellen Mittelwert von $3,522$ abweicht."
   ]
  },
  {
   "cell_type": "code",
   "execution_count": null,
   "id": "5e693dbd-dfb3-4716-9fc5-5b2ea72745a7",
   "metadata": {},
   "outputs": [],
   "source": []
  }
 ],
 "metadata": {
  "kernelspec": {
   "display_name": "Python 3 (ipykernel)",
   "language": "python",
   "name": "python3"
  },
  "language_info": {
   "codemirror_mode": {
    "name": "ipython",
    "version": 3
   },
   "file_extension": ".py",
   "mimetype": "text/x-python",
   "name": "python",
   "nbconvert_exporter": "python",
   "pygments_lexer": "ipython3",
   "version": "3.10.2"
  }
 },
 "nbformat": 4,
 "nbformat_minor": 5
}
