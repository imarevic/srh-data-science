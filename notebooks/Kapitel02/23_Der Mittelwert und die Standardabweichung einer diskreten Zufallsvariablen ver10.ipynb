{
 "cells": [
  {
   "cell_type": "code",
   "execution_count": 1,
   "id": "f53f169b-a6cf-4995-9c56-ef38c16c6782",
   "metadata": {},
   "outputs": [
    {
     "name": "stdout",
     "output_type": "stream",
     "text": [
      "\n",
      "---------------------------------\n",
      "Working on the host: Joachims-MacBook-Pro.local\n",
      "\n",
      "---------------------------------\n",
      "Python version: 3.10.2 | packaged by conda-forge | (main, Feb  1 2022, 19:30:18) [Clang 11.1.0 ]\n",
      "\n",
      "---------------------------------\n",
      "Python interpreter: /opt/miniconda3/envs/srh/bin/python\n"
     ]
    }
   ],
   "source": [
    "%matplotlib inline\n",
    "# Load the \"autoreload\" extension\n",
    "%load_ext autoreload\n",
    "# always reload modules\n",
    "%autoreload 2\n",
    "# black formatter for jupyter notebooks\n",
    "#%load_ext nb_black\n",
    "# black formatter for jupyter lab\n",
    "%load_ext lab_black\n",
    "\n",
    "%run ../../src/notebook_env.py"
   ]
  },
  {
   "cell_type": "markdown",
   "id": "ca7593ad-d3a7-4a93-ac0a-0f70c9c3053c",
   "metadata": {},
   "source": [
    "## Der Mittelwert und die Standardabweichung einer diskreten Zufallsvariablen"
   ]
  },
  {
   "cell_type": "code",
   "execution_count": 2,
   "id": "dcc624d4-53a5-4920-9390-fa87c9f701a1",
   "metadata": {},
   "outputs": [],
   "source": [
    "import matplotlib.pyplot as plt\n",
    "import numpy as np\n",
    "import pandas as pd\n",
    "import random"
   ]
  },
  {
   "cell_type": "markdown",
   "id": "d16e0675-086d-4765-9625-bec02cb99d97",
   "metadata": {},
   "source": [
    "### Mittelwert einer diskreten Zufallsvariable"
   ]
  },
  {
   "cell_type": "markdown",
   "id": "3f93fae7-eb52-4ccf-b12a-142162b70278",
   "metadata": {},
   "source": [
    "Der Mittelwert einer **diskreten Zufallsvariablen** $X$ wird mit $\\mu_X$ oder, wenn keine Verwechslung auftreten soll, einfach mit $\\mu$ bezeichnet. Die Begriffe **Erwartungswert**, $E(X)$ und **Erwartung** werden üblicherweise anstelle des Begriffs Mittelwert verwendet."
   ]
  },
  {
   "cell_type": "markdown",
   "id": "4191d257-4c8f-45eb-8760-8b9405135ab6",
   "metadata": {},
   "source": [
    "$$E(X) = \\sum_{i=1}^{N}x_iP(X=x_i)$$"
   ]
  },
  {
   "cell_type": "markdown",
   "id": "f58295ef-e375-4f2e-95e4-ca8cedd48345",
   "metadata": {},
   "source": [
    "Bei einer großen Anzahl unabhängiger Beobachtungen einer Zufallsvariablen $X$ nähert sich $E(X)$ dieser Beobachtungen - der Stichprobe - dem Mittelwert $\\mu$ der Grundgesamtheit an. Je größer die Zahl der Beobachtungen ist, desto näher liegt $E(X)$ an $\\mu$ ({cite:p}`fahrmeirstatistik` s.226)."
   ]
  },
  {
   "cell_type": "markdown",
   "id": "30303220-a873-4a96-b0b1-6571db24ea8d",
   "metadata": {},
   "source": [
    "Erinnern wir uns an unser Experiment aus dem vorherigen Abschnitt, als wir $1.000$ Personen ausgewählt und nach der Anzahl der Geschwister gefragt haben. Werfen wir noch einmal einen Blick auf die Tabelle, die das Experiment zusammenfasst"
   ]
  },
  {
   "cell_type": "markdown",
   "id": "8c686540-bcec-44af-801e-84e3d5255539",
   "metadata": {},
   "source": [
    "\\begin{array}{c|lcr}\n",
    "\\text{Geschwister} & \\text{Häufigkeit} & \\text{Relative}\\\\\n",
    "\\ x & f & \\text{Häufigkeit}\\\\\n",
    "\\hline\n",
    "0 & 205 & 0.205  \\\\\n",
    "1 & 419 & 0.419  \\\\\n",
    "2 & 280 & 0.28 \\\\\n",
    "3 & 65 & 0.065  \\\\\n",
    "4 & 29 & 0.029  \\\\\n",
    "5 & 2 & 0.002 \\\\\n",
    "\\hline\n",
    " & 1000 & 1\n",
    "\\end{array}"
   ]
  },
  {
   "cell_type": "markdown",
   "id": "d33e017b-dcb8-4814-baa9-175925ebafea",
   "metadata": {},
   "source": [
    "Berechnen wir den Erwartungswert (Mittelwert) für dieses Experiment."
   ]
  },
  {
   "cell_type": "markdown",
   "id": "9ff9b620-ae3e-4878-9689-8f1c132be68c",
   "metadata": {},
   "source": [
    "\\begin{align}\n",
    "\\\\ \n",
    "& E(X) = \\sum_{i=1}^{N}x_iP(X=x_i) \\\\\n",
    "& = 0 \\cdot P(X=0) + 1 \\cdot P(X=1)+ 2 \\cdot P(X=2) + 3 \\cdot P(X=3) +4 \\cdot P(X=4)+ 5 \\cdot P(X \\ge 5) \\\\\n",
    "& = 0 \\cdot 0,205 + 1 \\cdot 0,419 + 2 \\cdot 0,28+ 3 \\cdot 0,065  + 4 \\cdot 0,029  + 5 \\cdot 0,002  \\\\\n",
    "& = 1,3\n",
    "\\end{align}"
   ]
  },
  {
   "cell_type": "markdown",
   "id": "2d69d004-b667-4098-bb4a-263bfb90a3e5",
   "metadata": {},
   "source": [
    "Der sich daraus ergebende Erwartungswert von $1,3$ liegt nahe am Mittelwert $\\mu$, den wir anhand der Wahrscheinlichkeiten der Grundgesamtheit berechnen (die realen Wahrscheinlichkeiten sind der unteren rechten Abbildung im vorherigen Abschnitt entnommen)."
   ]
  },
  {
   "cell_type": "markdown",
   "id": "befa7461-efe9-434a-ac12-fbf1b362969b",
   "metadata": {},
   "source": [
    "$$\\mu = 1 \\cdot 0,2 + 2 \\cdot 0,425 +  3 \\cdot 0,275 + 4 \\cdot 0,07 + 5 \\cdot 0,025=1,31$$"
   ]
  },
  {
   "cell_type": "markdown",
   "id": "1cce9aba-cc2b-4d84-9963-eb3cc6047ca4",
   "metadata": {},
   "source": [
    "### Übung"
   ]
  },
  {
   "cell_type": "markdown",
   "id": "3f4b0c1d-f114-479d-8a08-d28282c79fbc",
   "metadata": {},
   "source": [
    "Betrachten wir einen fairen sechsseitigen Würfel. Wir können den **Erwartungswert** $E(X)$ leicht mit Python berechnen. Der Begriff \"fair\" bedeutet, dass jede Zufallsvariable $X=x_i,\\; x \\in 1,2,3,4,5,6$ mit gleicher Wahrscheinlichkeit auftritt. Daher ist $P(X=x_i)=\\frac{1}{6}$."
   ]
  },
  {
   "cell_type": "markdown",
   "id": "5464367d-a038-4c05-8b02-f3178c1f5b10",
   "metadata": {},
   "source": [
    "$$E(X) = \\sum_{i=1}^{6}x_iP(X=x_i) = 1 \\cdot \\frac{1}{6} + 2 \\cdot \\frac{1}{6} +  3 \\cdot \\frac{1}{6} +  4 \\cdot \\frac{1}{6} + 5 \\cdot \\frac{1}{6} + 6 \\cdot \\frac{1}{6}= 3,5$$"
   ]
  },
  {
   "cell_type": "markdown",
   "id": "fcdfe119-ce57-4938-b0b6-d1990d307714",
   "metadata": {},
   "source": [
    "In Python schreiben wir den folgenden Code:"
   ]
  },
  {
   "cell_type": "code",
   "execution_count": 3,
   "id": "7da3a0db-8621-4b0c-b298-742e73fbd515",
   "metadata": {},
   "outputs": [
    {
     "data": {
      "text/plain": [
       "3.5"
      ]
     },
     "execution_count": 3,
     "metadata": {},
     "output_type": "execute_result"
    }
   ],
   "source": [
    "p_die = 1 / 6\n",
    "die = pd.Series([1, 2, 3, 4, 5, 6])\n",
    "die = die * p_die\n",
    "sum(die)"
   ]
  },
  {
   "cell_type": "markdown",
   "id": "6964d9f3-866b-461d-86bd-4bd5a883f3a8",
   "metadata": {},
   "source": [
    "Was aber, wenn wir uns nicht sicher sind, ob die Würfel wirklich fair sind? Woher wissen wir, dass wir nicht betrogen werden? Oder anders ausgedrückt: Wie oft müssen wir würfeln, bevor wir mehr Vertrauen haben können?"
   ]
  },
  {
   "cell_type": "markdown",
   "id": "104f0d58-eabe-4ed0-8e99-3ddf5e3c7b62",
   "metadata": {},
   "source": [
    "Führen wir ein Berechnungsexperiment durch: Wir wissen aus den obigen Überlegungen, dass der Erwartungswert eines $6$-seitigen fairen Würfels $3,5$ ist. Wir führen ein Experiment durch, indem wir einen Würfel immer und immer wieder werfen. Wir speichern das Ergebnis und bevor wir erneut würfeln, berechnen wir den Durchschnitt aller bisherigen Würfelwürfe. Um dieses kleine Experiment durchzuführen, schreiben wir eine for-Schleife in Python."
   ]
  },
  {
   "cell_type": "code",
   "execution_count": 50,
   "id": "c246563f-f0aa-4d45-97ae-7809a0fb4050",
   "metadata": {},
   "outputs": [
    {
     "data": {
      "text/plain": [
       "1000"
      ]
     },
     "execution_count": 50,
     "metadata": {},
     "output_type": "execute_result"
    }
   ],
   "source": [
    "[random.randint(1, 6) for x in range(1000)]"
   ]
  },
  {
   "cell_type": "code",
   "execution_count": 62,
   "id": "9d7b3dfa-ca08-4bb3-be7a-61a87fb70121",
   "metadata": {},
   "outputs": [
    {
     "data": {
      "text/plain": [
       "<matplotlib.legend.Legend at 0x168d00610>"
      ]
     },
     "execution_count": 62,
     "metadata": {},
     "output_type": "execute_result"
    },
    {
     "data": {
      "image/png": "[encoded data removed]",
      "text/plain": [
       "<Figure size 864x432 with 1 Axes>"
      ]
     },
     "metadata": {
      "needs_background": "light"
     },
     "output_type": "display_data"
    }
   ],
   "source": [
    "# Setze random seed für Reproduzierbarkeit\n",
    "random.seed(10)\n",
    "wuerfel = []\n",
    "e_wert = []\n",
    "# Simuliere Würfelwurf\n",
    "for i in range(500):\n",
    "    r = random.randint(1, 6)\n",
    "    wuerfel.append(r)\n",
    "    e_wert.append(np.mean(wuerfel))\n",
    "# Plotten\n",
    "fig, ax = plt.subplots()\n",
    "ax.plot(x, e_wert, lw=1)\n",
    "ax.axhline(y=3.5, color=\"C1\", linestyle=\"dashed\", label=\"Erwartungswert : 3,5\")\n",
    "ax.set_xlabel(\"Anzahl der Versuche\")\n",
    "ax.set_ylabel(\"Erwartungswert\")\n",
    "ax.set_ylim(1, 6.5)\n",
    "ax.legend()"
   ]
  },
  {
   "cell_type": "markdown",
   "id": "5c819c54-5826-4f4c-846f-eff1243bc4fc",
   "metadata": {},
   "source": [
    "Das Diagramm zeigt, dass die Kurve nach anfänglichen Schwankungen schließlich abflacht und sich dem $E(X)$ von $3,5$ annähert."
   ]
  },
  {
   "cell_type": "markdown",
   "id": "0f392170-dfec-4798-ac65-5b5247b00675",
   "metadata": {},
   "source": [
    "### Standardabweichung einer diskreten Zufallsvariable"
   ]
  },
  {
   "cell_type": "markdown",
   "id": "5a1d02a0-7825-4349-94d8-37aecc45706d",
   "metadata": {},
   "source": [
    "Die Standardabweichung einer diskreten Zufallsvariablen $X$ wird mit $\\sigma_X$ oder, wenn keine Verwechslung auftreten soll, einfach mit $\\sigma$ bezeichnet. Sie ist definiert als"
   ]
  },
  {
   "cell_type": "markdown",
   "id": "e6623cc0-c945-44ba-b472-072e5de773b1",
   "metadata": {},
   "source": [
    "$$\\sigma = \\sqrt{\\sum_{i=1}^{N}(x_i-\\mu)^2P(X=x_i)}$$"
   ]
  }
 ],
 "metadata": {
  "kernelspec": {
   "display_name": "Python 3 (ipykernel)",
   "language": "python",
   "name": "python3"
  },
  "language_info": {
   "codemirror_mode": {
    "name": "ipython",
    "version": 3
   },
   "file_extension": ".py",
   "mimetype": "text/x-python",
   "name": "python",
   "nbconvert_exporter": "python",
   "pygments_lexer": "ipython3",
   "version": "3.10.2"
  }
 },
 "nbformat": 4,
 "nbformat_minor": 5
}
