{
 "cells": [
  {
   "cell_type": "markdown",
   "id": "00232daf-c8db-47bf-8867-15ecbc1385f3",
   "metadata": {},
   "source": [
    "## Binomiale Approximation der hypergeometrische Verteilung\n",
    "----------------------------------------"
   ]
  },
  {
   "cell_type": "markdown",
   "id": "71c9fe1e-a21b-4639-bfc3-d0d83bd6d04b",
   "metadata": {},
   "source": [
    "Häufig möchte man den Anteil (Prozentsatz) der Mitglieder einer endlichen Grundgesamtheit bestimmen, die ein bestimmtes Attribut aufweisen. Im Allgemeinen ist die betrachtete Grundgesamtheit zu groß, als dass der Grundgesamtheitsanteil durch eine Zählung ermittelt werden könnte. Nehmen wir an, dass eine einfache Zufallsstichprobe des Umfangs $n$ aus einer Grundgesamtheit entnommen wird, in der der Anteil der Mitglieder, die ein bestimmtes Merkmal aufweisen, $p$ ist. Dann ist eine Zufallsvariable von primärer Bedeutung für die Schätzung von $p$ die Anzahl der Mitglieder der Stichprobe, die das bestimmte Merkmal aufweisen, die wir als $X$ bezeichnen.Die genaue Wahrscheinlichkeitsverteilung von $X$ hängt davon ab, ob die Stichprobe **mit** oder **ohne Ersetzung** durchgeführt wird. Wird die Stichprobe mit Ersetzung durchgeführt, handelt es sich um Bernoulli-Versuche: Jede Auswahl eines Mitglieds der Grundgesamtheit entspricht einem Versuch. Ein Versuch ist erfolgreich, wenn das in diesem Versuch ausgewählte Mitglied das angegebene Attribut aufweist; andernfalls ist er nicht erfolgreich. Die Versuche sind **unabhängig**, da die Stichprobe mit Ersetzung durchgeführt wird. Die Erfolgswahrscheinlichkeit bleibt von Versuch zu Versuch gleich, sie ist immer gleich dem Anteil der Grundgesamtheit, der das angegebene Merkmal aufweist. Daher hat die Zufallsvariable $X$ die **Binomialverteilung** mit den Parametern $n$ (der Stichprobenumfang) und $p$ (der Anteil der Grundgesamtheit) ({cite:p}`Papula2011` s.356)."
   ]
  },
  {
   "cell_type": "markdown",
   "id": "bb2fc169-ebf6-4c50-a06e-c14710923b9d",
   "metadata": {},
   "source": [
    "In der Realität werden die Stichproben jedoch in der Regel **ohne Ersetzung** durchgeführt. Unter diesen Umständen handelt es sich bei dem Stichprobenverfahren nicht um Bernoulli-Versuche, da die Versuche **nicht unabhängig** sind und die Erfolgswahrscheinlichkeit von Versuch zu Versuch variiert. Mit anderen Worten: Die Zufallsvariable $X$ hat keine Binomialverteilung. Ihre Verteilung wird als <a href=\"https://de.wikipedia.org/wiki/Hypergeometrische_Verteilung\">hypergeometrische Verteilung</a> bezeichnet ({cite:p}`Papula2011` s.364)."
   ]
  },
  {
   "cell_type": "markdown",
   "id": "44a36d8a-a347-4d8c-a3af-99a3391b9f12",
   "metadata": {},
   "source": [
    "In der Praxis kann eine hypergeometrische Verteilung jedoch in der Regel durch eine Binomialverteilung angenähert werden. Der Grund dafür ist, dass es bei einem **Stichprobenumfang von nicht mehr als 5 % der Grundgesamtheit** kaum einen Unterschied zwischen einer Stichprobe mit und ohne Ersatz gibt ({cite:p}`Papula2011` s.365)."
   ]
  },
  {
   "cell_type": "markdown",
   "id": "70ee80f3-6cb5-4380-879c-c80c428ca7ad",
   "metadata": {
    "tags": []
   },
   "source": [
    "### Stichproben und die Binomialverteilung"
   ]
  },
  {
   "cell_type": "markdown",
   "id": "6f2ea3e6-3168-4adf-9775-cb275c2e9769",
   "metadata": {},
   "source": [
    "Angenommen, eine einfache Zufallsstichprobe des Umfangs $n$ wird aus einer endlichen Grundgesamtheit entnommen, in der der Anteil der Mitglieder, die ein bestimmtes Merkmal aufweisen, $p$ ist. Dann hat die Anzahl der in der Stichprobe enthaltenen Mitglieder, die das bestimmte Merkmal aufweisen"
   ]
  },
  {
   "cell_type": "markdown",
   "id": "ab792d2a-7b18-4cba-b11d-e9c87f5493b6",
   "metadata": {},
   "source": [
    "- eine exakte Binomialverteilung mit den Parametern $n$ und $p$, wenn die Stichprobe mit Ersatz durchgeführt wird\n",
    "- eine näherungsweise Binomialverteilung mit den Parametern $n$ und $p$ wenn die Stichprobenziehung ohne Ersetzung erfolgt und der Stichprobenumfang nicht mehr als $5 \\%$ des Grundgesamtheitsumfangs beträgt ({cite:p}`Papula2011` s.365).\n",
    "\n"
   ]
  },
  {
   "cell_type": "code",
   "execution_count": null,
   "id": "8beaeaf1-21f1-421e-8e8e-7c233f3bf7e5",
   "metadata": {},
   "outputs": [],
   "source": []
  }
 ],
 "metadata": {
  "kernelspec": {
   "display_name": "Python 3 (ipykernel)",
   "language": "python",
   "name": "python3"
  },
  "language_info": {
   "codemirror_mode": {
    "name": "ipython",
    "version": 3
   },
   "file_extension": ".py",
   "mimetype": "text/x-python",
   "name": "python",
   "nbconvert_exporter": "python",
   "pygments_lexer": "ipython3",
   "version": "3.10.2"
  }
 },
 "nbformat": 4,
 "nbformat_minor": 5
}
