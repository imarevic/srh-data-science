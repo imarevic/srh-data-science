{
 "cells": [
  {
   "cell_type": "markdown",
   "id": "12f8ef1f-a77d-453e-a605-ff4a4a942a79",
   "metadata": {},
   "source": [
    "## Form, Mittelwert und Standardabweichung einer Poisson-Verteilung\n",
    "----------------------------------------"
   ]
  },
  {
   "cell_type": "markdown",
   "id": "36cca7c5-a66b-447d-ad53-8abb18aa8fde",
   "metadata": {},
   "source": [
    "Alle Poisson-Verteilungen sind rechtsschief. Der Mittelwert $\\mu$ und die Standardabweichung $\\sigma$ einer Poisson-Zufallsvariablen mit dem Parameter $\\lambda$ sind"
   ]
  },
  {
   "cell_type": "markdown",
   "id": "fe645b23-0303-49e1-9d41-cac8660e4c46",
   "metadata": {},
   "source": [
    "$$\\mu = \\lambda$$"
   ]
  },
  {
   "cell_type": "markdown",
   "id": "1ac4a118-f0cd-4d73-a39a-6ae95dd8340c",
   "metadata": {},
   "source": [
    "und"
   ]
  },
  {
   "cell_type": "markdown",
   "id": "403304f6-6220-4a2f-9488-a1627200b5e0",
   "metadata": {},
   "source": [
    "$$\\sigma = \\sqrt{\\lambda}\\text{.}$$"
   ]
  }
 ],
 "metadata": {
  "kernelspec": {
   "display_name": "Python 3 (ipykernel)",
   "language": "python",
   "name": "python3"
  },
  "language_info": {
   "codemirror_mode": {
    "name": "ipython",
    "version": 3
   },
   "file_extension": ".py",
   "mimetype": "text/x-python",
   "name": "python",
   "nbconvert_exporter": "python",
   "pygments_lexer": "ipython3",
   "version": "3.10.2"
  }
 },
 "nbformat": 4,
 "nbformat_minor": 5
}
