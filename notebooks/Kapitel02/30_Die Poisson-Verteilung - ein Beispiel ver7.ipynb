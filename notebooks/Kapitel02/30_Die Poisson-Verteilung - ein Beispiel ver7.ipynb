{
 "cells": [
  {
   "cell_type": "markdown",
   "id": "ac71f655-8df0-43e2-a548-addff06e4a96",
   "metadata": {
    "tags": []
   },
   "source": [
    "## Die Poisson-Verteilung - ein Beispiel\n",
    "----------------------------------------"
   ]
  },
  {
   "cell_type": "code",
   "execution_count": 2,
   "id": "1a462740-1dc4-4f31-9d81-0c676af929c2",
   "metadata": {},
   "outputs": [],
   "source": [
    "import matplotlib.pyplot as plt\n",
    "import numpy as np\n",
    "import scipy.stats\n",
    "from scipy.stats import poisson"
   ]
  },
  {
   "cell_type": "markdown",
   "id": "5b64ab91-305e-4a95-8d1e-b1fcacd4c954",
   "metadata": {},
   "source": [
    "Wenden wir die Poisson-Verteilung in Form eines Beispiels an. Wir konzentrieren uns auf das <a href=\"https://en.wikipedia.org/wiki/100-year_flood\">Jahrhunderthochwasser</a>, ein Konzept, das im Flussbau häufig zur Planung von Hochwasserschutzmaßnahmen verwendet wird."
   ]
  },
  {
   "cell_type": "markdown",
   "id": "566d0f80-0f22-4028-b2ca-0b10ff576191",
   "metadata": {},
   "source": [
    "Erinnern wir uns an die mathematische Notation einer **Poisson-Zufallsvariablen**:"
   ]
  },
  {
   "cell_type": "markdown",
   "id": "4a379dbb-1357-447b-80d2-aece1bfeb5e6",
   "metadata": {},
   "source": [
    "$$ P(X = x) = e^{-\\lambda}\\frac{\\lambda^x}{x!}, \\qquad x = 0, 1, 2, \\dots ,  $$"
   ]
  },
  {
   "cell_type": "markdown",
   "id": "81427b3d-d322-4ec8-9465-566c211d3db4",
   "metadata": {},
   "source": [
    "wobei $\\lambda$ eine positive reelle Zahl ist, die die durchschnittliche Anzahl der Ereignisse während eines festen Zeitintervalls darstellt, und $e≈2,7182818$."
   ]
  },
  {
   "cell_type": "markdown",
   "id": "105b6219-d425-4621-8166-a1d6783e96bf",
   "metadata": {},
   "source": [
    "Das *Jahrhunderthochwasser* ist eine Kurzbezeichnung für ein Hochwasser mit einer jährlichen Überschreitungswahrscheinlichkeit von $1 \\%$ und einem durchschnittlichen Wiederholungsintervall von $100$ Jahren. Der Begriff kann jedoch für Menschen irreführend sein, denn sie stellen sich vor, dass der Begriff Hochwasser beschreibt, die einmal alle $100$ Jahre auftreten. Dies ist jedoch nicht der Fall. Ein Hochwasser mit einer jährlichen Überschreitungswahrscheinlichkeit von $1 \\%$ bedeutet, dass in **jedem** einzelnen Jahr mit einer Wahrscheinlichkeit von $0,01$ ein Hochwasser in einer Größenordnung auftritt, die einem Jahrhunderthochwasser entspricht."
   ]
  },
  {
   "cell_type": "markdown",
   "id": "8eabeb54-829b-427a-ba09-31b94ac52831",
   "metadata": {},
   "source": [
    "Im Rahmen einer Poisson-Verteilung wird der Erwartungswert $E(x)=\\lambda$ eines solchen Hochwassers während des festen Intervalls von $100$ Jahren auf $\\lambda=100×0,01=1$ gesetzt. Die Poisson-Zufallsvariable $X$ ist also die Anzahl der Ereignisse, die natürlich je nach Fragestellung verschiedene Werte annehmen kann. Wir können uns für die Wahrscheinlichkeit interessieren, dass ein solches Hochwasserereignis während des $100$-Jahres-Intervalls nicht auftritt, $P(x=0)$, oder wir wollen die Wahrscheinlichkeit wissen, dass ein solches Hochwasserereignis genau einmal während des $100$-Jahres-Intervalls auftritt, also $P(x=1)$, oder wir wollen die Wahrscheinlichkeit wissen, dass zwei oder mehr solcher Hochwasserereignisse während des $100$-Jahres-Intervalls auftreten, also $P(x≥2)$. Setzt man diese Werte in die obige Gleichung ein, so erhält man"
   ]
  },
  {
   "cell_type": "markdown",
   "id": "259cdc28-1e7b-49ef-8b9a-59d8e361f95a",
   "metadata": {},
   "source": [
    "$\\lambda = 1, x = 0,1,2,\\dots ,n$"
   ]
  },
  {
   "cell_type": "markdown",
   "id": "49d3fdc3-c0fd-4f35-928d-82d307a50cf3",
   "metadata": {},
   "source": [
    "$$P(X = 0) = e^{-1}\\frac{1 \\times 0}{0!}, \\qquad \\text{für } \\  x = 0$$"
   ]
  },
  {
   "cell_type": "markdown",
   "id": "2ca7743d-225f-492e-8c2b-0c75c769803b",
   "metadata": {},
   "source": [
    "$$P(X = 1) = e^{-1}\\frac{1 \\times 1}{1!}, \\qquad \\text{für } \\  x = 1$$"
   ]
  },
  {
   "cell_type": "markdown",
   "id": "964f748d-d772-40bb-9455-1c9e2e08ba1c",
   "metadata": {},
   "source": [
    "$$ P(X \\ge 2) = \\sum_{i=2}^n e^{-1}\\frac{1 \\times x_i}{x_i!}, \\qquad  \\text{für } \\  x_i = 2,3,\\dots ,n $$"
   ]
  },
  {
   "cell_type": "markdown",
   "id": "13914234-5d26-4db8-ae4a-7285c52105c7",
   "metadata": {},
   "source": [
    "Wir wenden uns an Python, um die Berechnungen durchzuführen. Wir werden die Funktionen `poisson.pmf` und `poisson.cdf` verwenden."
   ]
  },
  {
   "cell_type": "code",
   "execution_count": 3,
   "id": "4072a30c-b150-41cd-b444-9e09abb7201e",
   "metadata": {},
   "outputs": [
    {
     "data": {
      "text/plain": [
       "0.36787944117144233"
      ]
     },
     "execution_count": 3,
     "metadata": {},
     "output_type": "execute_result"
    }
   ],
   "source": [
    "x_0=poisson.pmf(0,1)\n",
    "x_0"
   ]
  },
  {
   "cell_type": "code",
   "execution_count": 4,
   "id": "e0e60ffe-e2aa-492a-ac73-5546d9c83c12",
   "metadata": {},
   "outputs": [
    {
     "data": {
      "text/plain": [
       "0.36787944117144233"
      ]
     },
     "execution_count": 4,
     "metadata": {},
     "output_type": "execute_result"
    }
   ],
   "source": [
    "x_1=poisson.pmf(1,1)\n",
    "x_1"
   ]
  },
  {
   "cell_type": "code",
   "execution_count": 5,
   "id": "ded63330-21b1-4e0c-bf1a-45490795a514",
   "metadata": {},
   "outputs": [
    {
     "data": {
      "text/plain": [
       "0.26424111765711533"
      ]
     },
     "execution_count": 5,
     "metadata": {},
     "output_type": "execute_result"
    }
   ],
   "source": [
    "xge2 = 0\n",
    "for i in range(2,100):\n",
    "    xge2 += poisson.pmf(i, 1)\n",
    "xge2"
   ]
  },
  {
   "cell_type": "markdown",
   "id": "ad31eae2-a457-4c9b-8bba-b1deef8747e4",
   "metadata": {},
   "source": [
    "Die Ergebnisse zeigen, dass die Wahrscheinlichkeit, dass während eines Zeitraums von $100$ Jahren kein Hochwasser $P(X=0)$ in einer Größenordnung auftritt, die einem Jahrhunderthochwasser entspricht, $0,37 $ beträgt, was interessanterweise genauso wahrscheinlich ist wie das Auftreten von genau einem Hochwasser $P(X=1)$. Die Wahrscheinlichkeit, dass zwei oder mehr $P(X≥2)$ solcher Hochwasserereignisse innerhalb des $100$-Jahres-Intervalls auftreten, ist $0,26$ und damit geringer. Beachten Sie jedoch, dass die Wahrscheinlichkeit, dass zwei oder mehr $P(X≥2)$ solcher Hochwasserereignisse während des 100-Jahres-Intervalls eintreten, etwa $26 \\%$ beträgt!"
   ]
  },
  {
   "cell_type": "markdown",
   "id": "c440a46e-fa08-4a3b-9503-a9733c32908b",
   "metadata": {},
   "source": [
    "Zur Überprüfung der Richtigkeit addieren wir die Wahrscheinlichkeiten $P(x=0), P(x=1)$ und $P(x≥2)$, was $1$ ergeben sollte,"
   ]
  },
  {
   "cell_type": "code",
   "execution_count": 6,
   "id": "29afe521-7335-452e-b444-1a44800d2924",
   "metadata": {},
   "outputs": [
    {
     "data": {
      "text/plain": [
       "1.0"
      ]
     },
     "execution_count": 6,
     "metadata": {},
     "output_type": "execute_result"
    }
   ],
   "source": [
    "x_0 + x_1 + xge2"
   ]
  },
  {
   "cell_type": "markdown",
   "id": "4c9ae7c8-202b-493c-88df-ae88297b1862",
   "metadata": {},
   "source": [
    "Zur besseren Veranschaulichung stellen wir die Wahrscheinlichkeiten der Poisson-Zufallsvariablen $x=0,1,2,3,4,≥5$ dar."
   ]
  },
  {
   "cell_type": "code",
   "execution_count": 14,
   "id": "32a485a9-e028-46fa-821e-23dc8245ab65",
   "metadata": {},
   "outputs": [
    {
     "data": {
      "image/png": "[encoded data removed]",
      "text/plain": [
       "<Figure size 1584x648 with 1 Axes>"
      ]
     },
     "metadata": {
      "needs_background": "light"
     },
     "output_type": "display_data"
    }
   ],
   "source": [
    "# Erzeuge Bar plot:\n",
    "x_2=poisson.pmf(2, 1)\n",
    "x_3=poisson.pmf(3, 1)\n",
    "x_4=poisson.pmf(4, 1)\n",
    "x_5=poisson.pmf(5, 1)\n",
    "height = [x_0,x_1,x_2,x_3,x_4,x_5]\n",
    "bars = (0,1,2,3,4,5)\n",
    "y_pos = np.arange(len(bars))\n",
    "\n",
    "fig, ax1 = plt.subplots(figsize=(22,9))\n",
    "plt.title('Wahrscheinlichkeitsverteilung für das Auftreten von n - mal Jahrhundertflut pro 100 Jahren, n = 0,1,2,...',fontsize = 26)\n",
    "ax1.set_xlabel('Anzahl der Hochwasser', fontsize = 26)\n",
    "ax1.set_ylabel('Wahrscheinlichkeit (P=X)', color='k', fontsize = 26)\n",
    "ax1.bar(bars, height, color='k',edgecolor='k',lw=1,alpha = 0.2)\n",
    "ax1.tick_params(axis='y', labelcolor='k')\n",
    "\n",
    "#ax2 = ax1.twinx()  \n",
    "#ax2.set_ylabel('Kumulitative Wahrscheinlichkeit', color='k', fontsize = 26)  \n",
    "#ax2.plot(x, y_cdf, color='k')\n",
    "#ax2.tick_params(axis='y', labelcolor='k')\n",
    "\n",
    "fig.tight_layout()\n",
    "\n",
    "plt.show() "
   ]
  },
  {
   "cell_type": "code",
   "execution_count": null,
   "id": "53cfa0d0-4873-400f-9849-491da720d61d",
   "metadata": {},
   "outputs": [],
   "source": []
  }
 ],
 "metadata": {
  "kernelspec": {
   "display_name": "Python 3 (ipykernel)",
   "language": "python",
   "name": "python3"
  },
  "language_info": {
   "codemirror_mode": {
    "name": "ipython",
    "version": 3
   },
   "file_extension": ".py",
   "mimetype": "text/x-python",
   "name": "python",
   "nbconvert_exporter": "python",
   "pygments_lexer": "ipython3",
   "version": "3.10.2"
  }
 },
 "nbformat": 4,
 "nbformat_minor": 5
}
