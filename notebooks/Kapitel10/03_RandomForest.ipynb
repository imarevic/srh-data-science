{
 "cells": [
  {
   "cell_type": "code",
   "execution_count": 1,
   "metadata": {},
   "outputs": [
    {
     "name": "stdout",
     "output_type": "stream",
     "text": [
      "\n",
      "---------------------------------\n",
      "Working on the host: imarevic-pc\n",
      "\n",
      "---------------------------------\n",
      "Python version: 3.10.9 | packaged by conda-forge | (main, Feb  2 2023, 20:20:04) [GCC 11.3.0]\n",
      "\n",
      "---------------------------------\n",
      "Python interpreter: /home/imarevic/anaconda3/envs/srh/bin/python3.10\n"
     ]
    }
   ],
   "source": [
    "%matplotlib inline\n",
    "# Load the \"autoreload\" extension\n",
    "%load_ext autoreload\n",
    "# always reload modules\n",
    "%autoreload 2\n",
    "# black formatter for jupyter notebooks\n",
    "# %load_ext nb_black\n",
    "# black formatter for jupyter lab\n",
    "%load_ext lab_black\n",
    "\n",
    "%run ../../src/notebook_env.py"
   ]
  },
  {
   "cell_type": "markdown",
   "metadata": {},
   "source": [
    "# Random Forest"
   ]
  },
  {
   "cell_type": "code",
   "execution_count": 2,
   "metadata": {},
   "outputs": [],
   "source": [
    "import matplotlib.pyplot as plt\n",
    "import numpy as np\n",
    "import pandas as pd\n",
    "from sklearn.ensemble import RandomForestRegressor, RandomForestClassifier\n",
    "import seaborn as sns\n",
    "from sklearn.model_selection import train_test_split\n",
    "from sklearn.metrics import (\n",
    "    mean_squared_error,\n",
    "    confusion_matrix,\n",
    "    accuracy_score,\n",
    "    ConfusionMatrixDisplay,\n",
    ")\n",
    "from sklearn.preprocessing import StandardScaler"
   ]
  },
  {
   "cell_type": "markdown",
   "metadata": {},
   "source": [
    "Wir haben in den vorherigen Kapiteln sehr viel über Entscheidungsbäume und Wege zur Optimierung dieser (z.B, Bagging und Boosting) gelernt. Dieses Wissen bietet im Prinzip schon das gesamte wichitge ab, dass wir verstehen müssen um <a href=\"https://de.wikipedia.org/wiki/Random_Forest\">Random Forests</a> zu verstehen und anwenden zu können. Dieses Kapitel wird daher ei sehr kurzes, da wir die Grundlagen hierfür schon in den vorherigen beiden Kapiteln erarbeitet haben."
   ]
  },
  {
   "cell_type": "markdown",
   "metadata": {},
   "source": [
    "Random Forests bieten gegenüber Bagging die Vorteile, dass die Entscheidungsbäume, die an die Daten gefittet werden und über deren Vorhersagen am Ende \"gebagged\" (gemittelt) wird, **dekorrelierte** Bäume sind. Was bedeutet jedoch dekorreliert?\n",
    "\n",
    "Dekorrelierte Bäume werden bei Random Forests erzeugt, indem bei jeder Iteration nur ein Bruchteil der Prädiktoren im Trainingsdatensatz verwendet werden. Lassen Sie uns ein Beispiel machen: Nehmen wir an wir haben einen Datensatz mit den 5 Prädiktoren A, B, C, D, und E. Wenn wir einfaches Baggin durchführen, dann würden wir alle 5 Prädiktoren in jeder Iteration $B$ des Bagging-Verfahrens verwenden. Wenn nun aber der Prädiktor C ein sehr guter Prädiktor im Vergleich zu den anderen ist, dann würde dies bedeuten, dass wir $B$ sehr stark korrelierte Bäume als Modell trainiert haben und die resultierenden Bäume sich sehr ähneln werden. Daher wird bei Random Forests immer nur ein Bruchteil $m \\approx \\sqrt p$ der insgesamt zur Verfügung stehenden $p$ Prädiktoren imTraining verwendet. Dies stellt somit sicher, dass kein dominantre Prädiktor in jedem Baum, der in den $B$ Iterationen trainiert wurde vorkommt, und somit die Bäume **dekorreliert** sind."
   ]
  },
  {
   "cell_type": "markdown",
   "metadata": {},
   "source": [
    "## Feature Importance"
   ]
  },
  {
   "cell_type": "markdown",
   "metadata": {},
   "source": [
    "Da wir bei Random Forests immer nur einen Teil der Prädiktoren verwenden, lässt sich die **Feature Importance**, also die Güte hinsichtlich jedes Prädiktors abschätzen. Dies geschieht in dem der Abfall der Summe der Fehlerquadrate (SSE), oder ein anderes Fehlermaß, über alle gebaggten Entscheidungsbäume in Abhängigkeit der Splits und Prädiktoren, die in jedem Split vorhanden waren berechnet wird. Als Maß für die Feature Importance wird häufig der **Mean Impurity Index (MDI)** verwendet. Dieser ist in `scikit-learn` als Feature Importance Algorithmus für Random Forests implementiert und berechnet sich wie folgt:\n",
    "\n",
    "1. Für jeden Entscheidunsbaum und Knoten im Entschediungsbaum berechne die **Gini-Impurity G**:\n",
    "$$\n",
    "G = 1 - \\sum_{i=1}^k (p_{i}²)\n",
    "$$\n",
    "\n",
    "    mit $k$ die Anzahl Kategorien in die gesplitted wurde und $p_{i}$ der Anteil Beobachtungen die zur Kategorie $i$ an dem Knoten gehören.\n",
    "    \n",
    "2. Die Gini-Impurity wird einmal für den gesamten Entscheidungsbaum und alle Bäume im Forest berechnet. Diese wird $G_{initial}$ genannt.\n",
    "3. Die Gini-Impurity wird dann für jeden Knoten bei dem ein Feature/Prädiktor involviert war ebenfalls berechnet. Für Features $F_{1}, F_{2}, F_{3}, ..., F{n}$ wird also separat jeweils respektive ein $G_{F_{1}}, G_{F_{2}}, G_{F_{3}}, ..., G_{F_{n}},$ berechnet.\n",
    "4.  Im Anschluss wird dann für jedes Feature die Differenz $D_{reduction}$ zur initialen Gini-Impurity $G_{initial}$ berechnet, sodass \n",
    "\n",
    "$$\n",
    "D_{reduction} = G_{initial} - G_{F_{i}}, \\forall  i \\in \\{1, 2, 3, ..., N\\}\n",
    "$$\n",
    "\n",
    "5. Zuletzt wird dann über alle Bäume un Knoten die MDI berechnet:\n",
    "\n",
    "$$\n",
    "MDI = \\frac {\\sum_{i={F_{1}}}^{F_{N}} D_{reduction}}{N_{features}}\n",
    "$$\n",
    "\n",
    "\n",
    "In der folgenden Implementierung werden wir sehen, wie wir die Feature Importance für jeden Prädiktor für Random Forests ausgeben und plotten können."
   ]
  },
  {
   "cell_type": "markdown",
   "metadata": {},
   "source": [
    "## Random Forests in Python"
   ]
  },
  {
   "cell_type": "markdown",
   "metadata": {},
   "source": [
    "Im Folgenden werden wir Random Forests mit Hilfe der `scikit-learn` Bibliothek in Python implementieren. Wir werden uns hier auf den Ragressionsfall beschränken, der Klassifikationsfall funktionert jedoch analog."
   ]
  },
  {
   "cell_type": "code",
   "execution_count": 3,
   "metadata": {},
   "outputs": [
    {
     "data": {
      "text/html": [
       "<div>\n",
       "<style scoped>\n",
       "    .dataframe tbody tr th:only-of-type {\n",
       "        vertical-align: middle;\n",
       "    }\n",
       "\n",
       "    .dataframe tbody tr th {\n",
       "        vertical-align: top;\n",
       "    }\n",
       "\n",
       "    .dataframe thead th {\n",
       "        text-align: right;\n",
       "    }\n",
       "</style>\n",
       "<table border=\"1\" class=\"dataframe\">\n",
       "  <thead>\n",
       "    <tr style=\"text-align: right;\">\n",
       "      <th></th>\n",
       "      <th>AtBat</th>\n",
       "      <th>Hits</th>\n",
       "      <th>HmRun</th>\n",
       "      <th>Runs</th>\n",
       "      <th>RBI</th>\n",
       "      <th>Walks</th>\n",
       "      <th>Years</th>\n",
       "      <th>CAtBat</th>\n",
       "      <th>CHits</th>\n",
       "      <th>CHmRun</th>\n",
       "      <th>CRuns</th>\n",
       "      <th>CRBI</th>\n",
       "      <th>CWalks</th>\n",
       "      <th>League</th>\n",
       "      <th>Division</th>\n",
       "      <th>PutOuts</th>\n",
       "      <th>Assists</th>\n",
       "      <th>Errors</th>\n",
       "      <th>Salary</th>\n",
       "      <th>NewLeague</th>\n",
       "    </tr>\n",
       "  </thead>\n",
       "  <tbody>\n",
       "    <tr>\n",
       "      <th>1</th>\n",
       "      <td>315</td>\n",
       "      <td>81</td>\n",
       "      <td>7</td>\n",
       "      <td>24</td>\n",
       "      <td>38</td>\n",
       "      <td>39</td>\n",
       "      <td>14</td>\n",
       "      <td>3449</td>\n",
       "      <td>835</td>\n",
       "      <td>69</td>\n",
       "      <td>321</td>\n",
       "      <td>414</td>\n",
       "      <td>375</td>\n",
       "      <td>N</td>\n",
       "      <td>W</td>\n",
       "      <td>632</td>\n",
       "      <td>43</td>\n",
       "      <td>10</td>\n",
       "      <td>475.0</td>\n",
       "      <td>N</td>\n",
       "    </tr>\n",
       "    <tr>\n",
       "      <th>2</th>\n",
       "      <td>479</td>\n",
       "      <td>130</td>\n",
       "      <td>18</td>\n",
       "      <td>66</td>\n",
       "      <td>72</td>\n",
       "      <td>76</td>\n",
       "      <td>3</td>\n",
       "      <td>1624</td>\n",
       "      <td>457</td>\n",
       "      <td>63</td>\n",
       "      <td>224</td>\n",
       "      <td>266</td>\n",
       "      <td>263</td>\n",
       "      <td>A</td>\n",
       "      <td>W</td>\n",
       "      <td>880</td>\n",
       "      <td>82</td>\n",
       "      <td>14</td>\n",
       "      <td>480.0</td>\n",
       "      <td>A</td>\n",
       "    </tr>\n",
       "    <tr>\n",
       "      <th>3</th>\n",
       "      <td>496</td>\n",
       "      <td>141</td>\n",
       "      <td>20</td>\n",
       "      <td>65</td>\n",
       "      <td>78</td>\n",
       "      <td>37</td>\n",
       "      <td>11</td>\n",
       "      <td>5628</td>\n",
       "      <td>1575</td>\n",
       "      <td>225</td>\n",
       "      <td>828</td>\n",
       "      <td>838</td>\n",
       "      <td>354</td>\n",
       "      <td>N</td>\n",
       "      <td>E</td>\n",
       "      <td>200</td>\n",
       "      <td>11</td>\n",
       "      <td>3</td>\n",
       "      <td>500.0</td>\n",
       "      <td>N</td>\n",
       "    </tr>\n",
       "    <tr>\n",
       "      <th>4</th>\n",
       "      <td>321</td>\n",
       "      <td>87</td>\n",
       "      <td>10</td>\n",
       "      <td>39</td>\n",
       "      <td>42</td>\n",
       "      <td>30</td>\n",
       "      <td>2</td>\n",
       "      <td>396</td>\n",
       "      <td>101</td>\n",
       "      <td>12</td>\n",
       "      <td>48</td>\n",
       "      <td>46</td>\n",
       "      <td>33</td>\n",
       "      <td>N</td>\n",
       "      <td>E</td>\n",
       "      <td>805</td>\n",
       "      <td>40</td>\n",
       "      <td>4</td>\n",
       "      <td>91.5</td>\n",
       "      <td>N</td>\n",
       "    </tr>\n",
       "    <tr>\n",
       "      <th>5</th>\n",
       "      <td>594</td>\n",
       "      <td>169</td>\n",
       "      <td>4</td>\n",
       "      <td>74</td>\n",
       "      <td>51</td>\n",
       "      <td>35</td>\n",
       "      <td>11</td>\n",
       "      <td>4408</td>\n",
       "      <td>1133</td>\n",
       "      <td>19</td>\n",
       "      <td>501</td>\n",
       "      <td>336</td>\n",
       "      <td>194</td>\n",
       "      <td>A</td>\n",
       "      <td>W</td>\n",
       "      <td>282</td>\n",
       "      <td>421</td>\n",
       "      <td>25</td>\n",
       "      <td>750.0</td>\n",
       "      <td>A</td>\n",
       "    </tr>\n",
       "  </tbody>\n",
       "</table>\n",
       "</div>"
      ],
      "text/plain": [
       "   AtBat  Hits  HmRun  Runs  RBI  Walks  Years  CAtBat  CHits  CHmRun  CRuns  \\\n",
       "1    315    81      7    24   38     39     14    3449    835      69    321   \n",
       "2    479   130     18    66   72     76      3    1624    457      63    224   \n",
       "3    496   141     20    65   78     37     11    5628   1575     225    828   \n",
       "4    321    87     10    39   42     30      2     396    101      12     48   \n",
       "5    594   169      4    74   51     35     11    4408   1133      19    501   \n",
       "\n",
       "   CRBI  CWalks League Division  PutOuts  Assists  Errors  Salary NewLeague  \n",
       "1   414     375      N        W      632       43      10   475.0         N  \n",
       "2   266     263      A        W      880       82      14   480.0         A  \n",
       "3   838     354      N        E      200       11       3   500.0         N  \n",
       "4    46      33      N        E      805       40       4    91.5         N  \n",
       "5   336     194      A        W      282      421      25   750.0         A  "
      ]
     },
     "execution_count": 3,
     "metadata": {},
     "output_type": "execute_result"
    }
   ],
   "source": [
    "data = pd.read_csv(\"../../data/hitters.csv\")\n",
    "data = data.dropna()\n",
    "data.head(5)"
   ]
  },
  {
   "cell_type": "code",
   "execution_count": 4,
   "metadata": {},
   "outputs": [],
   "source": [
    "# Enkodierung der Daten\n",
    "data = pd.get_dummies(data, drop_first=True)\n",
    "\n",
    "#  Features und Target definieren\n",
    "X_df = data.drop(\"Salary\", axis=1)\n",
    "y_df = data[\"Salary\"]\n",
    "X = X_df.values\n",
    "y = y_df.values\n",
    "\n",
    "# Standartisierung der Daten\n",
    "scaler_X = StandardScaler()\n",
    "X_standardized = scaler_X.fit_transform(X)\n",
    "scaler_y = StandardScaler()\n",
    "y_standardized = scaler_y.fit_transform(y.reshape(-1, 1)).flatten()\n",
    "\n",
    "# Splitten der Daten in train, validatio und test set\n",
    "X_train, X_temp, y_train, y_temp = train_test_split(\n",
    "    X_standardized, y_standardized, test_size=0.4, random_state=42\n",
    ")\n",
    "X_valid, X_test, y_valid, y_test = train_test_split(\n",
    "    X_temp, y_temp, test_size=0.5, random_state=42\n",
    ")"
   ]
  },
  {
   "cell_type": "code",
   "execution_count": 5,
   "metadata": {},
   "outputs": [
    {
     "name": "stdout",
     "output_type": "stream",
     "text": [
      "The mean squared error (MSE) auf den Testdaten: 0.7893\n"
     ]
    }
   ],
   "source": [
    "# Model Training\n",
    "regr_rf = RandomForestRegressor(n_estimators=100, max_depth=5, random_state=42)\n",
    "regr_rf.fit(X_train, y_train)\n",
    "\n",
    "# Vorhersage neuer Beobachtungen\n",
    "y_rf = regr_rf.predict(X_test)\n",
    "\n",
    "# MSE\n",
    "mse = mean_squared_error(y_test, y_rf)\n",
    "print(\"The mean squared error (MSE) auf den Testdaten: {:.4f}\".format(mse))"
   ]
  },
  {
   "cell_type": "markdown",
   "metadata": {},
   "source": [
    "Zuletzt werden wir die Feature Importance ausgeben um zu inspizieren, welche der Prädiktoren die meiste Varianz im Model aufklären:"
   ]
  },
  {
   "cell_type": "code",
   "execution_count": 7,
   "metadata": {},
   "outputs": [
    {
     "data": {
      "image/png": "[encoded data removed]",
      "text/plain": [
       "<Figure size 864x432 with 1 Axes>"
      ]
     },
     "metadata": {
      "needs_background": "light"
     },
     "output_type": "display_data"
    }
   ],
   "source": [
    "# Extraktion der Feature Importances aus dem Model Objekt\n",
    "importances = regr_rf.feature_importances_\n",
    "\n",
    "# Feature Namen und STD werden generiert\n",
    "feature_names = [f\"feature {i}\" for i in range(X_test.shape[1])]\n",
    "forest_importances = pd.Series(importances, index=feature_names)\n",
    "std = np.std([regr_rf.feature_importances_ for tree in regr_rf.estimators_], axis=0)\n",
    "\n",
    "# Plotten der Feature Importance\n",
    "fig, ax = plt.subplots()\n",
    "forest_importances.plot.bar(yerr=std, ax=ax)\n",
    "ax.set_title(\"Feature importances using MDI\")\n",
    "ax.set_ylabel(\"Mean decrease in impurity\")\n",
    "fig.tight_layout()"
   ]
  },
  {
   "cell_type": "markdown",
   "metadata": {},
   "source": [
    "Da wir die Prädiktoren im Vorfeld dummy-kodiert haben, sehen wir nun genau diese im Plot. Es ist deutlich zu erkennen, dass`feature 8` die höchste Varianzaufklärung besitzt, gefolgt von `feature 13` und `feature 11`. Das bedeutet, dass ein Model mit nur den Features mit höchster Feature Importance sehr wahrscheinlich ausreichend wäre, und die anderen Features keinen prädiktiven Mehrwert haben. "
   ]
  }
 ],
 "metadata": {
  "kernelspec": {
   "display_name": "Python 3 (ipykernel)",
   "language": "python",
   "name": "python3"
  },
  "language_info": {
   "codemirror_mode": {
    "name": "ipython",
    "version": 3
   },
   "file_extension": ".py",
   "mimetype": "text/x-python",
   "name": "python",
   "nbconvert_exporter": "python",
   "pygments_lexer": "ipython3",
   "version": "3.10.9"
  }
 },
 "nbformat": 4,
 "nbformat_minor": 4
}
