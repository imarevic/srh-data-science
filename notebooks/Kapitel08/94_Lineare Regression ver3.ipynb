{
 "cells": [
  {
   "cell_type": "markdown",
   "id": "9cfda20a-5051-427d-aaff-9212b6808eb9",
   "metadata": {},
   "source": [
    "## Lineare Regression\n",
    "----------------------------------------"
   ]
  },
  {
   "cell_type": "markdown",
   "id": "1d92b3b1-511c-4cf7-ad7c-40bffcc9d972",
   "metadata": {},
   "source": [
    "Die <a href=\"https://en.wikipedia.org/wiki/Regression_analysis\">Regressionsanalyse</a> ist ein statistisches Verfahren zur Schätzung der Beziehungen zwischen zwei oder mehr Variablen. Die Beziehung wird als $y \\sim x$ oder $y=f(x)$ modelliert. Beide Modellbeschreibungen besagen, dass die Variable $y$ eine Funktion von $x$ ist. Daher wird die Variable $y$ als **Antwortvariable** oder **abhängige Variable** bezeichnet, während die Variable $x$ als **Prädikatorvariable** oder **unabhängige Variable** bezeichnet wird."
   ]
  },
  {
   "cell_type": "code",
   "execution_count": null,
   "id": "876277c3-b6f4-4827-a813-e6117daa9628",
   "metadata": {},
   "outputs": [],
   "source": []
  }
 ],
 "metadata": {
  "kernelspec": {
   "display_name": "Python 3 (ipykernel)",
   "language": "python",
   "name": "python3"
  },
  "language_info": {
   "codemirror_mode": {
    "name": "ipython",
    "version": 3
   },
   "file_extension": ".py",
   "mimetype": "text/x-python",
   "name": "python",
   "nbconvert_exporter": "python",
   "pygments_lexer": "ipython3",
   "version": "3.10.2"
  }
 },
 "nbformat": 4,
 "nbformat_minor": 5
}
