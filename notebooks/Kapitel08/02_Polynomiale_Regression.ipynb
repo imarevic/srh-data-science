{
 "cells": [
  {
   "cell_type": "code",
   "execution_count": null,
   "id": "bdc1e7d8-503b-4f40-a90b-05590d68bed8",
   "metadata": {
    "tags": [
     "remove-cell"
    ]
   },
   "outputs": [],
   "source": [
    "%matplotlib inline\n",
    "# Load the \"autoreload\" extension\n",
    "%load_ext autoreload\n",
    "# always reload modules\n",
    "%autoreload 2\n",
    "# black formatter for jupyter notebooks\n",
    "#%load_ext nb_black\n",
    "# black formatter for jupyter lab\n",
    "%load_ext lab_black\n",
    "\n",
    "%run ../../src/notebook_env.py"
   ]
  },
  {
   "cell_type": "markdown",
   "id": "cb9f6c7b-87ad-4641-96f6-843b463201cc",
   "metadata": {},
   "source": [
    "# Polynomiale Regression"
   ]
  },
  {
   "cell_type": "code",
   "execution_count": null,
   "id": "0aa8b22b-6c3a-4a5d-b3b6-e2ae3aae7175",
   "metadata": {},
   "outputs": [],
   "source": [
    "import matplotlib.pyplot as plt\n",
    "import numpy as np\n",
    "import pandas as pd\n",
    "from sklearn import linear_model\n",
    "from sklearn.linear_model import LinearRegression\n",
    "from sklearn.model_selection import train_test_split\n",
    "from sklearn.preprocessing import PolynomialFeatures\n",
    "from sklearn.metrics import mean_absolute_error, mean_squared_error\n",
    "import statsmodels.api as sm\n",
    "from statsmodels.sandbox.regression.predstd import wls_prediction_std"
   ]
  },
  {
   "cell_type": "markdown",
   "id": "a594c395-2905-41f3-9a6a-932c64567467",
   "metadata": {
    "tags": []
   },
   "source": [
    "Die <a href=\"https://de.wikipedia.org/wiki/Multiple_lineare_Regression#Polynomiale_Regression\">polynomiale Regression</a> ist eine spezielle Art der linearen Regression, bei der die Beziehung zwischen der unabhängigen Variablen $x$ und der abhängigen Variablen $y$ durch ein Polynom $n$-ten Grades in $x$ modelliert wird. Mit anderen Worten, wir nehmen neben dem ursprünglichen linearen Term auch Potenzen zweiter Ordnung und höherer Potenzen einer Variablen in das Modell auf. Die Einbeziehung von Polynomen $n$-ten Grades führt zu einer nichtlinearen Beziehung zwischen $y$ und $x$, aber das Modell ist immer noch ein lineares Modell, da die Beziehung zwischen den Koeffizienten ($\\beta_i$) und den erwarteten Beobachtungen linear ist. Somit kann die Modellgleichung wie folgt geschrieben werden"
   ]
  },
  {
   "cell_type": "markdown",
   "id": "a8de333c-6b0e-4997-ba37-597804a4633b",
   "metadata": {},
   "source": [
    "$$\\hat y = \\beta_0+\\beta_1x+\\beta_2x^2+...+\\beta_kx^k+\\epsilon\\text{.}$$"
   ]
  },
  {
   "cell_type": "markdown",
   "id": "f77b0617-df86-4bf3-ad7d-d969f32a1429",
   "metadata": {},
   "source": [
    "Die Werte der Koeffizienten werden durch Anpassung des Polynoms an die Beobachtungsdaten ($y$) bestimmt. Wie bei der einfachen linearen Regression, die im vorigen Abschnitt behandelt wurde, geschieht dies durch Minimierung der **Summe der quadrierten Fehler ($SSE$)**, die durch folgende Gleichung gegeben ist"
   ]
  },
  {
   "cell_type": "markdown",
   "id": "cc4d61bf-05c2-4876-97b2-9add5d96b348",
   "metadata": {},
   "source": [
    "$$SSE = \\sum e^2 = \\sum (\\hat y - y)^2\\text{.}$$"
   ]
  },
  {
   "cell_type": "markdown",
   "id": "8f1ae4d7-4b35-40da-bbfe-2144b2456b07",
   "metadata": {},
   "source": [
    "Bei der Anpassung eines Polynoms an Beobachtungen stellt sich das Problem der Wahl der Ordnung $k$ des Polynoms. Wie man die richtige Zahl für das Polynom wählt, ist eine Frage eines wichtigen Konzepts, das **Modellauswahl** oder <a href=\"https://de.wikipedia.org/wiki/Informationskriterium\">**Informationskriterium**</a> genannt wird. Der Einfachheit halber verwenden wir die Wurzel des mittleren quadratischen Fehlers <a href=\"https://de.frwiki.wiki/wiki/Racine_de_l%27erreur_quadratique_moyenne\">(root-mean-square error, RMSE)</a>, definiert durch"
   ]
  },
  {
   "cell_type": "markdown",
   "id": "af57342b-904c-4a38-afce-790e913a756c",
   "metadata": {},
   "source": [
    "$$RMSE = \\sqrt{\\frac{\\sum_{i=1}^n (\\hat y - y)^2}{n}}$$"
   ]
  },
  {
   "cell_type": "markdown",
   "id": "70ae8de5-20d9-4366-a39d-c033bf9fee97",
   "metadata": {},
   "source": [
    "um die Eignung des Modells zu bewerten."
   ]
  },
  {
   "cell_type": "markdown",
   "id": "0b48b978-1f10-4421-ad5e-54a72ce9b33c",
   "metadata": {},
   "source": [
    "## Polynomiale Regression\n",
    "----------------------------------------"
   ]
  },
  {
   "cell_type": "code",
   "execution_count": null,
   "id": "e9e5ced5-5798-4b01-a536-bfb5e2dde3bb",
   "metadata": {},
   "outputs": [],
   "source": []
  },
  {
   "cell_type": "markdown",
   "id": "ab34d38b-7e6c-4bf4-92c4-cc31a0997eda",
   "metadata": {},
   "source": [
    "Wir beginnen mit unserer Übung, indem wir Daten sammeln. Die Daten werden von einer Funktion generiert, die Sie nicht kennen. Diese Vorbedingung macht das Beispiel realistischer, da wir in realen Anwendungen die genauen Spezifikationen des zugrunde liegenden Datenerzeugungsprozesses nicht kennen. Am Ende dieses Abschnitts lüften wir das Geheimnis des Datengenerierungsprozesses.\n",
    "\n",
    "Dies sind die Daten, unsere Beobachtungen, in tabellarischer Form. Wir haben $25$ Datenpunkte, jeder Datenpunkt ist ein ($x,y$) Paar."
   ]
  },
  {
   "cell_type": "code",
   "execution_count": null,
   "id": "38f1c8b4-a553-42ae-b1c3-3e3031b2a22a",
   "metadata": {},
   "outputs": [],
   "source": [
    "n = 25\n",
    "np.random.seed(4)\n",
    "x = np.random.uniform(0, 1, n)\n",
    "y = np.sin(2 * np.pi * x) + np.random.normal(0, 0.35, n)\n",
    "poly_data = pd.DataFrame({\"x\": x, \"y\": y})"
   ]
  },
  {
   "cell_type": "markdown",
   "id": "4f177885-a074-4025-881f-d2165e1e8cc7",
   "metadata": {},
   "source": [
    "Hier sind die Daten in Form eines Streudiagramms dargestellt:"
   ]
  },
  {
   "cell_type": "code",
   "execution_count": null,
   "id": "1f83c90b-4e72-4499-90e2-0da206ed7def",
   "metadata": {},
   "outputs": [],
   "source": [
    "fig, ax = plt.subplots()\n",
    "X = poly_data[\"x\"]\n",
    "y = poly_data[\"y\"]\n",
    "ax.scatter(X, y, edgecolor=\"k\", color=\"white\")\n",
    "ax.set_xlabel(\"x\")\n",
    "ax.set_ylabel(\"y\")"
   ]
  },
  {
   "cell_type": "markdown",
   "id": "2237a4db-c443-46bf-9566-38cd269f9583",
   "metadata": {},
   "source": [
    "### Anpassen einer Kurve in Python: Die Notation in Python"
   ]
  },
  {
   "cell_type": "markdown",
   "id": "e59d4813-60c4-414a-a309-a2872c3368dd",
   "metadata": {
    "tags": []
   },
   "source": [
    "Python bietet leistungsstarke Funktionen zur Anpassung eines Polynoms an Daten. Um ein $k$-dimensionales Polynom anzupassen, verwenden wir `linear_model` aus dem `sklearn` Paket  und fügen dem Funktionsaufruf `LinearRegression()` zusätzliche `PolynomialFeatures` hinzu. Darüber hinaus gibt es zwei verschiedene Möglichkeiten, eine polynomiale Regression zu kodieren.\n",
    "\n",
    "Für ein Polynom $2$. Ordnung besteht die erste Möglichkeit darin, `model.predict(X-werte)` einzugeben und zu plotten, und die zweite Möglichkeit ist die Koeffizienten mit `model.coef_` aus dem Model auszulesen und daraus äquivalent zu $\\hat y = \\beta_0+\\beta_1x+\\beta_2x^2+...+\\beta_kx^k+\\epsilon$  ,  `model.coef_[0][0] + model.coef_[0][1] * X-werte + model.coef_[0][2] * (X-werte)**2 + ...` zu konstruieren.\n",
    "\n",
    "Um die Verwirrung zu lindern, zeigen wir ein Beispiel in Python. Wir konstruieren zwei Polynome der Ordnung $2$ für `poly_data`."
   ]
  },
  {
   "cell_type": "code",
   "execution_count": null,
   "id": "9229c076-f64a-4e95-b10b-29dfa7b13442",
   "metadata": {},
   "outputs": [],
   "source": [
    "X = poly_data[\"x\"].values.reshape(-1, 1)\n",
    "y = poly_data[\"y\"].values.reshape(-1, 1)\n",
    "\n",
    "# Polynomialer Fit\n",
    "poly = PolynomialFeatures(degree=2)\n",
    "X_poly = poly.fit_transform(X)\n",
    "\n",
    "model = LinearRegression()\n",
    "model.fit(X_poly, y)"
   ]
  },
  {
   "cell_type": "markdown",
   "id": "28f17a60-c9b9-41de-adaa-7a1558ac68e7",
   "metadata": {},
   "source": [
    "Zum Auslesen der Koeffizienten und des Achsenabschnitts des Modells verwenden wir das Attribut `coef_` und `intercept_`."
   ]
  },
  {
   "cell_type": "markdown",
   "id": "8291b22e-4656-4f74-a3fc-04051dde047d",
   "metadata": {},
   "source": [
    "Wir überprüfen die Ergebnisse des Modells."
   ]
  },
  {
   "cell_type": "code",
   "execution_count": null,
   "id": "c23d4958-734b-4653-9050-65e779678ce8",
   "metadata": {},
   "outputs": [],
   "source": [
    "print(f\"Achsenabschnitt: {model.intercept_}\")\n",
    "print(f\"Koeffizienten:   {model.coef_}\")"
   ]
  },
  {
   "cell_type": "markdown",
   "id": "bc4c256c-64ef-4e76-a319-a17abf6d6208",
   "metadata": {},
   "source": [
    "Bei der Ausgabe der Koeffizienten dient der nullte Koeffizient als Platzhalter für den Achsenabschnitt und kann daher ignoriert werden. Setzen wir nun die Parameter in die Gleichung ein, erhalten wir die Regressionslinie."
   ]
  },
  {
   "cell_type": "code",
   "execution_count": null,
   "id": "b868bf8c-292b-4c01-9adf-f3dc5a9ee89a",
   "metadata": {},
   "outputs": [],
   "source": [
    "# Definiere x- Achse zur Vorhersage von Datenpunkten\n",
    "x_axis = np.linspace(0, 1, 50)\n",
    "# Konstruiere Regressionslinie\n",
    "regline = (\n",
    "    model.intercept_ + model.coef_[0][1] * x_axis + model.coef_[0][2] * x_axis**2\n",
    ")\n",
    "\n",
    "fig, ax = plt.subplots()\n",
    "ax.scatter(poly_data[\"x\"], poly_data[\"y\"], label=\"Beobachtungen\")\n",
    "ax.plot(x_axis, regline, label=\"Regressionlinie\")\n",
    "ax.legend()"
   ]
  },
  {
   "cell_type": "markdown",
   "id": "be62f4e8-dc97-4a90-8461-47a73ac9a1cb",
   "metadata": {},
   "source": [
    "Andererseits können wir die Regressionslinie auch mit der Methode `predict()` für beliebige $x$-Werte erzeugen."
   ]
  },
  {
   "cell_type": "code",
   "execution_count": null,
   "id": "2e218397-a02a-40a1-8fcb-af045e2d194e",
   "metadata": {},
   "outputs": [],
   "source": [
    "X_poly = poly.transform(x_axis.reshape(-1, 1))\n",
    "regline = model.predict(X_poly)\n",
    "\n",
    "fig, ax = plt.subplots()\n",
    "ax.plot(x_axis, regline, label=\"Regressionlinie\")\n",
    "ax.scatter(x=X, y=y, label=\"Beobachtungen\")\n",
    "ax.legend()"
   ]
  },
  {
   "cell_type": "markdown",
   "id": "494cbb47-8437-4604-a2fc-08785e9d48f9",
   "metadata": {
    "tags": []
   },
   "source": [
    "### Anpassen einer Kurve in Python (Fortsetzung)"
   ]
  },
  {
   "cell_type": "markdown",
   "id": "f7872c85-87e8-48e8-a5dd-28fedd2fc1c3",
   "metadata": {},
   "source": [
    "Da wir nun die Notation in Python kennen, beginnen wir mit der Erstellung von $6$ verschiedenen Modellen, mit $k=1,2,3,5,9,12$. Für jedes Modell berechnen wir den $RMSE$. Schließlich stellen wir die Daten zusammen mit der Regressionslinie dar, die durch jedes einzelne Modell gegeben ist. Der Einfachheit halber konstruieren wir eine Schleife, um den Kodierungsaufwand zu verringern."
   ]
  },
  {
   "cell_type": "code",
   "execution_count": null,
   "id": "b6a7a620-af33-406c-ba04-89204ebda159",
   "metadata": {},
   "outputs": [],
   "source": [
    "RMSE = []\n",
    "X = poly_data[\"x\"].values.reshape(-1, 1)\n",
    "y = poly_data[\"y\"].values.reshape(-1, 1)\n",
    "x_axis = np.linspace(0, 1, 25)\n",
    "\n",
    "orders = [1, 2, 3, 5, 9, 12]\n",
    "\n",
    "fig, ax = plt.subplots(figsize=(16, 18), ncols=2, nrows=3)\n",
    "ax = np.ravel(ax)\n",
    "for e, order in enumerate(orders):\n",
    "    poly = PolynomialFeatures(degree=order)\n",
    "    X_poly = poly.fit_transform(X)\n",
    "    model = LinearRegression()\n",
    "    model.fit(X_poly, y)\n",
    "    y_hat = model.predict(X_poly)\n",
    "    mse = mean_squared_error(y, y_hat)\n",
    "    rmse = np.sqrt(mse)\n",
    "    RMSE.append(rmse)\n",
    "\n",
    "    X_poly = poly.transform(x_axis.reshape(-1, 1))\n",
    "    regline = model.predict(X_poly)\n",
    "    ax[e].plot(x_axis, regline, label=f\"Regressionslinie der {order}. Ordnung\")\n",
    "    ax[e].scatter(x=X, y=y, label=\"Beobachtungen\")\n",
    "    ax[e].text(s=f\"RMSE (k={order}): {np.round(rmse, 4)}\", y=0.8, x=0.5, size=18)\n",
    "    ax[e].legend()"
   ]
  },
  {
   "cell_type": "markdown",
   "id": "aae4e9b4-3f5f-49e3-b8f8-94b65dbfe255",
   "metadata": {},
   "source": [
    "Fantastische Diagramme! Die Abbildung zeigt, dass wenn wir $k$, die Ordnung des Polynoms, erhöht, wird die Kurve flexibler und passt immer besser zu den Daten. Je besser die Daten angepasst werden, desto geringer wird der Fehler, $RMSE$.\n",
    "\n",
    "Der Einfachheit halber plotten wir den $RMSE$ gegen $k$."
   ]
  },
  {
   "cell_type": "code",
   "execution_count": null,
   "id": "3343ae40-6a75-4c24-95d9-688cff887e03",
   "metadata": {},
   "outputs": [],
   "source": [
    "fig, ax = plt.subplots()\n",
    "ax.plot(orders, RMSE)\n",
    "ax.set_ylabel(\"RMSE\")\n",
    "ax.set_xlabel(\"k-te Ordnung\")"
   ]
  },
  {
   "cell_type": "markdown",
   "id": "83671afe-7877-4f22-b910-57b11a2fb568",
   "metadata": {},
   "source": [
    "Daher stellt sich wieder einmal die Frage, welches Polynom am besten zu den Daten passt. Glauben wir, dass das Polynom der Ordnung $9$ am besten zu dem zugrunde liegenden Datenerzeugungsprozess passt? Obwohl wir eine hervorragende Anpassung an die Beobachtungsdaten erhalten, indem wir die Ordnung des Polynoms erhöhen, bleibt es fraglich, ob das Polynom hoher Ordnung gut verallgemeinert werden kann. Stellen Sie sich vor, wir führen eine neue Messreihe durch und erhalten neue Daten. Glauben Sie, dass die wild schwingende Kurve eines Polynoms hoher Ordnung immer noch gut zu den Daten passt? Nein, wahrscheinlich nicht!\n",
    "\n",
    "Dieses Verhalten wird als <a href=\"https://de.wikipedia.org/wiki/%C3%9Cberanpassung\">Überanpassung</a> bezeichnet. Erinnern Sie sich daran, dass das Ziel darin besteht, die Parameter aus den Daten zu lernen. Wir sind also daran interessiert, eine gute Verallgemeinerung des Modells zu erreichen und nicht unbedingt perfekt angepasste Beobachtungsdaten."
   ]
  },
  {
   "cell_type": "markdown",
   "id": "d839a8bf-3da1-48ec-849f-23f99d6dbe82",
   "metadata": {},
   "source": [
    "### Aus den Daten lernen"
   ]
  },
  {
   "cell_type": "markdown",
   "id": "a0c88d1d-1481-412e-8bb5-b72dae29e192",
   "metadata": {},
   "source": [
    "Wie können wir das Problem lösen? Wie bestimmen wir das beste Polynom $n$-ter Ordnung für unseren Datensatz? Nun, es gibt viele Methoden und Strategien, um einer Überanpassung entgegenzuwirken. In diesem Abschnitt verfolgen wir einen einfachen Ansatz. Zunächst teilen wir den Datensatz in zwei Teile auf. Einen Teil nennen wir **Trainingsmenge**, den anderen Teil nennen wir **Validierungsmenge**. Dann verwenden wir alle Daten des Trainingssatzes, um die Modellparameter $\\beta_i$ zu lernen, und zwar auf die gleiche Weise wie oben. Danach wenden wir das gelernte Modell an, um die Daten des Validierungssatzes vorherzusagen, und bewerten die Leistung des Modells, indem wir den $RMSE$ berechnen. Wir verwenden also die Validierungsmenge, um die, durch $k$ gegebene, Komplexität des Modells zu optimieren.\n",
    "\n",
    "Leider brauchen wir, wenn wir aus Daten lernen wollen, letztendlich auch Daten, aus denen wir lernen können. Bislang haben wir mit $25$ Beobachtungen gearbeitet. Das ist nicht viel. In realen Anwendungen müssten wir wahrscheinlich neue Beobachtungen durch eine neue Messreihen gewinnen. In unserer Übung können wir jedoch relativ leicht mehr Daten erzeugen. Daher setzen wir dieses Beispiel mit einem neuen Datensatz von $60$ Beobachtungen fort.\n",
    "\n",
    "Lassen Sie uns die Daten plotten!"
   ]
  },
  {
   "cell_type": "code",
   "execution_count": null,
   "id": "88703357-aace-4874-b042-7af41c8144be",
   "metadata": {},
   "outputs": [],
   "source": [
    "n = 150\n",
    "np.random.seed(415)\n",
    "x = np.random.uniform(0, 1, n)\n",
    "y = np.sin(2 * np.pi * x) + np.random.normal(0, 0.3, n)\n",
    "new_poly_data = pd.DataFrame({\"x\": x, \"y\": y})"
   ]
  },
  {
   "cell_type": "code",
   "execution_count": null,
   "id": "ea3e649d-4690-4ebb-b0dc-987e8832f249",
   "metadata": {},
   "outputs": [],
   "source": [
    "new_poly_data.plot.scatter(x=\"x\", y=\"y\")"
   ]
  },
  {
   "cell_type": "markdown",
   "id": "83d0c05d-7cc2-44d0-922d-9fc6fc77af43",
   "metadata": {},
   "source": [
    "### Trainings- und Validierungsmenge"
   ]
  },
  {
   "cell_type": "markdown",
   "id": "efa03b8d-35dd-4052-9798-fe28c1da2f28",
   "metadata": {},
   "source": [
    "Nun sind wir bereit, unsere Trainings- und Validierungsmenge zu erstellen. Dazu verwenden wir die Funktion `train_test_split()` aus dem `sklearn`-Paket. Wir teilen die Daten so auf, dass $65 \\%$ der Daten dem Trainingsset und der Rest, $35 \\%$ der Daten, dem Validationsset zugewiesen werden."
   ]
  },
  {
   "cell_type": "code",
   "execution_count": null,
   "id": "0c7425c9-dabc-43f3-b2c2-59fe2df04fba",
   "metadata": {},
   "outputs": [],
   "source": [
    "X = new_poly_data.x.values.reshape(-1, 1)\n",
    "y = new_poly_data.y.values.reshape(-1, 1)\n",
    "X_train, X_val, y_train, y_val = train_test_split(X, y, test_size=0.35, random_state=42)"
   ]
  },
  {
   "cell_type": "code",
   "execution_count": null,
   "id": "9e4416de-aa43-486a-88c1-8763c02f3842",
   "metadata": {
    "tags": []
   },
   "outputs": [],
   "source": [
    "# Überprüfen der Dimension von Training und Validierungsdatensatz\n",
    "print(\"Trainingset\")\n",
    "print(f\"X_train: {np.shape(X_train)}\")\n",
    "print(f\"y_train: {np.shape(y_train)}\")\n",
    "\n",
    "print(\"\\nValidierungsset\")\n",
    "print(f\"X_val: {np.shape(X_val)}\")\n",
    "print(f\"y_val: {np.shape(y_val)}\")"
   ]
  },
  {
   "cell_type": "code",
   "execution_count": null,
   "id": "6a651aad-94b5-45cf-bc8c-d0143f03430d",
   "metadata": {},
   "outputs": [],
   "source": [
    "# Plot\n",
    "plt.scatter(X_train, y_train, label=\"Trainingsdaten\", color=\"blue\")\n",
    "plt.scatter(X_val, y_val, label=\"Validierungsdaten\", color=\"red\")\n",
    "plt.legend()"
   ]
  },
  {
   "cell_type": "markdown",
   "id": "cf805597-9666-47ac-a16a-2ff3da7eac0a",
   "metadata": {},
   "source": [
    "### Modellbildung und Modellbewertung"
   ]
  },
  {
   "cell_type": "markdown",
   "id": "c688717d-8b6d-49f5-934c-b7b1bfdf66d7",
   "metadata": {},
   "source": [
    "In dieser Übung werden wir $10$ Modelle mit $k=1,2,...,10$ erstellen. Wir bewerten jedes der $10$ polynomialen Regressionsmodelle, indem wir den $RMSE$ auf dem Trainingssatz berechnen. Nach der Erstellung des Modells und der Ermittlung der Modellparameter $\\beta_i$ verwenden wir das Modell, um die Antwortvariable in der Validierungsmenge vorherzusagen. Auch hier stützen wir uns auf den $RMSE$, um die Vorhersagen für den Validierungssatz zu bewerten. Schließlich stellen wir den $RMSE$ jedes Modells sowohl für die Trainingsmenge als auch für die Validierungsmenge dar. Anhand des $RMSE$ bewerten wir die Generalisierung des Modells."
   ]
  },
  {
   "cell_type": "code",
   "execution_count": null,
   "id": "ff9296cc-f47a-4a57-8ae4-3cb613da0455",
   "metadata": {},
   "outputs": [],
   "source": [
    "rmse_train = []\n",
    "rmse_val = []\n",
    "\n",
    "for order in range(1, 11):\n",
    "    # Polynomial Fit\n",
    "    poly = PolynomialFeatures(degree=order)\n",
    "    X_train_poly = poly.fit_transform(X_train)  # .reshape(-1, 1)\n",
    "    X_val_poly = poly.fit_transform(X_val)  # .reshape(-1, 1)\n",
    "    model = LinearRegression()\n",
    "    model.fit(X=X_train_poly, y=y_train)\n",
    "\n",
    "    # Berechne RMSE - Trainingsset\n",
    "    mse = mean_squared_error(y_train, model.predict(X_train_poly))\n",
    "    rmse = np.sqrt(mse)\n",
    "    print(f\"RMSE train (k={order}): {np.round(rmse,3)}\")\n",
    "    rmse_train.append(rmse)\n",
    "\n",
    "    # Berechne RMSE - Validierungsset\n",
    "    mse = mean_squared_error(y_val, model.predict(X_val_poly))\n",
    "    rmse = np.sqrt(mse)\n",
    "    print(f\"RMSE val (k={order}):   {np.round(rmse,3)}\")\n",
    "    rmse_val.append(rmse)\n",
    "    print(\"------------------------\")"
   ]
  },
  {
   "cell_type": "code",
   "execution_count": null,
   "id": "93cf36ed-19a2-461e-8572-6e87d49cca6f",
   "metadata": {},
   "outputs": [],
   "source": [
    "k = range(1, 11)\n",
    "fig, ax = plt.subplots()\n",
    "ax.plot(k, rmse_train, label=\"Trainingsset\", color=\"blue\")\n",
    "ax.plot(k, rmse_val, label=\"Validierungsset\", color=\"red\")\n",
    "ax.set_ylabel(\"RMSE\")\n",
    "ax.set_xlabel(\"k-te Ordnung\")\n",
    "ax.legend()"
   ]
  },
  {
   "cell_type": "markdown",
   "id": "dd9f5b48-bc87-45a4-b6c7-f2e68b737fc8",
   "metadata": {},
   "source": [
    "Die Abbildung zeigt, dass der Fehler bei den Trainingsdaten (blaue Linie) stetig abnimmt. Das macht durchaus Sinn, denn je komplexer das Modell wird, indem $k$ erhöht wird, desto besser passt das Modell zu den Trainingsdaten. Das gleiche Verhalten haben wir im obigen Abschnitt beobachtet, als wir unser Modell mit nur $25$ Beobachtungen gelernt haben. Wenn wir uns den $RMSE$ für den Validierungssatz (rote Linie) ansehen, sehen wir, dass mit zunehmendem $k$ und damit zunehmender Modellkomplexität der Fehler abnimmt. Es gibt jedoch einen \"Sweet Spot\", der durch den niedrigsten $RMSE$ angezeigt wird, an dem das Modell gerade komplex genug ist, um auf den bisher ungesehenen Validierungsdaten gut zu generalisieren. Wenn die Modellkomplexität weiter zunimmt, beginnt auch der $RMSE$ zu steigen. Dies deutet auf eine Überanpassung des Modells hin. Das Modell merkt sich also die Daten in der Trainingsmenge gut, aber die Vorhersagekraft des Modells für bisher ungesehene Daten, wie die Daten der Validierungsmenge, wird schlechter. Ein Blick auf die obige Abbildung zeigt, dass der niedrigste Fehler im Validierungssatz, der so genannte Sweet Spot, für ein Regressionsmodell $3$-ter Ordnung erreicht wird."
   ]
  },
  {
   "cell_type": "markdown",
   "id": "7340a352-7422-43b3-bb43-1909056b7e7d",
   "metadata": {},
   "source": [
    "### Vorstellung des Modells"
   ]
  },
  {
   "cell_type": "markdown",
   "id": "c6c973fb-191a-45fd-85c9-51f846e515c5",
   "metadata": {},
   "source": [
    "Im vorangegangenen Abschnitt haben wir festgestellt, dass ein polynomiales Regressionsmodell der Ordnung $3$ in der Validierungsgruppe am besten funktioniert. Nun stellen wir dieses Modell auf dem gesamten Datensatz dar, um seine Qualität visuell zu bewerten. Außerdem stellen wir die Funktion dar, die dem Prozess der Datengenerierung zugrunde liegt.\n",
    "\n",
    "> __Datenerzeugung:__ Die Eingabewerte $x_n$ für die zugrundeliegende Funktion werden gleichmäßig im Bereich $U(0,1)$ erzeugt, und die entsprechenden Zielwerte $y$ erhält man, indem man zunächst die entsprechenden Werte der Funktion $\\sin( \\pi x )$ berechnet und dann zufälliges Rauschen mit einer Gaußschen Verteilung mit einer Standardabweichung von $0,35$ hinzufügt."
   ]
  },
  {
   "cell_type": "code",
   "execution_count": null,
   "id": "76463a18-ec40-488f-9e59-d8c2556a0791",
   "metadata": {},
   "outputs": [],
   "source": [
    "# Erzeuge Daten\n",
    "n = 100\n",
    "np.random.seed(4)\n",
    "x = np.random.uniform(0, 1, n)\n",
    "y = np.sin(2 * np.pi * x) + np.random.normal(0, 0.35, n)\n",
    "raw_data = pd.DataFrame({\"x\": x, \"y\": y})"
   ]
  },
  {
   "cell_type": "code",
   "execution_count": null,
   "id": "2bd5972a-2160-483e-a49a-5a1cb7aa07f3",
   "metadata": {},
   "outputs": [],
   "source": [
    "X = raw_data[\"x\"].values.reshape(-1, 1)\n",
    "y = raw_data[\"y\"].values.reshape(-1, 1)\n",
    "\n",
    "# Polynomial Fit\n",
    "poly = PolynomialFeatures(degree=3)\n",
    "X_poly = poly.fit_transform(X)\n",
    "model = LinearRegression()\n",
    "model.fit(X_poly, y)\n",
    "\n",
    "x_axis = np.linspace(0, 1, 150)\n",
    "x_axis_poly = poly.fit_transform(x_axis.reshape(-1, 1))\n",
    "y_reg_line = model.predict(x_axis_poly)\n",
    "\n",
    "\n",
    "fig, ax = plt.subplots()\n",
    "ax.scatter(X, y, label=\"Stichprobe\")\n",
    "ax.plot(x_axis, y_reg_line, label=\"Regressionslinie\")\n",
    "ax.plot(x_axis, np.sin(2 * np.pi * x_axis), label=\"Datenerzeugungsfunktion\")\n",
    "ax.legend()"
   ]
  },
  {
   "cell_type": "markdown",
   "id": "a85fd729-4b62-477a-ae3e-c40d555c4a6c",
   "metadata": {},
   "source": [
    "Die Abbildung zeigt, dass unser Modell die Daten gut abbildet und wir daher recht zufrieden damit sein können."
   ]
  },
  {
   "cell_type": "code",
   "execution_count": null,
   "id": "5745125c-5739-4a16-875e-ccc854e8ae9b",
   "metadata": {},
   "outputs": [],
   "source": []
  }
 ],
 "metadata": {
  "kernelspec": {
   "display_name": "Python 3 (ipykernel)",
   "language": "python",
   "name": "python3"
  },
  "language_info": {
   "codemirror_mode": {
    "name": "ipython",
    "version": 3
   },
   "file_extension": ".py",
   "mimetype": "text/x-python",
   "name": "python",
   "nbconvert_exporter": "python",
   "pygments_lexer": "ipython3",
   "version": "3.10.2"
  }
 },
 "nbformat": 4,
 "nbformat_minor": 5
}
