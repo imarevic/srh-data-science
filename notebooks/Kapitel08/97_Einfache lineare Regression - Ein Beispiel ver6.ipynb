{
 "cells": [
  {
   "cell_type": "markdown",
   "id": "3a31d359-ca3b-4a39-8b76-00119633dee8",
   "metadata": {},
   "source": [
    "## Einfache lineare Regression - Ein Beispiel\n",
    "----------------------------------------"
   ]
  },
  {
   "cell_type": "code",
   "execution_count": 74,
   "id": "19e9f29a-3f50-4b27-8bc3-a1a8cb3d0a21",
   "metadata": {},
   "outputs": [
    {
     "name": "stdout",
     "output_type": "stream",
     "text": [
      "\n",
      "---------------------------------\n",
      "Working on the host: LAPTOP-9LETB4SJ\n",
      "\n",
      "---------------------------------\n",
      "Python version: 3.10.2 | packaged by conda-forge | (main, Mar  8 2022, 15:52:24) [MSC v.1929 64 bit (AMD64)]\n",
      "\n",
      "---------------------------------\n",
      "Python interpreter: C:\\Users\\zak\\anaconda3\\envs\\srh\\python.exe\n"
     ]
    }
   ],
   "source": [
    "import matplotlib.pyplot as plt\n",
    "import numpy as np\n",
    "import pandas as pd\n",
    "import pylab\n",
    "from random import sample\n",
    "from scipy.stats import t\n",
    "from scipy.stats import chi2\n",
    "from scipy import stats\n",
    "import scipy.stats\n",
    "#from sklearn.linear_model import LinearRegression\n",
    "import statsmodels.api as sm\n",
    "\n",
    "\n",
    "%run ../src/notebook_env.py"
   ]
  },
  {
   "cell_type": "markdown",
   "id": "66421e90-4429-4deb-b137-6c3ff5ecc694",
   "metadata": {},
   "source": [
    "Um einige praktische Erfahrungen zu sammeln, wenden wir die einfache lineare Regression in einer Übung an. Dazu laden wir den `students` Datensatz. Sie können die Datei `students.csv` <a href=\"https://userpage.fu-berlin.de/soga/200/2010_data_sets/students.csv\">hier</a> herunterladen. Importieren Sie den Datensatz und geben Sie ihm einen passenden Namen."
   ]
  },
  {
   "cell_type": "code",
   "execution_count": 75,
   "id": "ac83d1ae-fbc1-46c9-af71-06f69802b436",
   "metadata": {},
   "outputs": [],
   "source": [
    "# Lese Datei students.csv als Dataframe ein; Indexspalte wird übersprungen\n",
    "students = pd.read_csv('students.csv', index_col=0)"
   ]
  },
  {
   "cell_type": "markdown",
   "id": "89dc2cbe-577f-4c17-91f6-679569a8f1a2",
   "metadata": {},
   "source": [
    "Der `students` Datensatz besteht aus 8239 Zeilen, von denen jede einen bestimmten Studenten repräsentiert, und 16 Spalten, von denen jede einer Variable/einem Merkmal entspricht, das sich auf diesen bestimmten Studenten bezieht. Diese selbsterklärenden Variablen sind: stud.id, name, gender, age, height, weight, religion, nc.score, semester, major, minor, score1, score2, online.tutorial, graduated, salary."
   ]
  },
  {
   "cell_type": "markdown",
   "id": "b57ee2be-ccd7-4fe1-b8ad-ea21eaa74367",
   "metadata": {},
   "source": [
    "Um die **einfache lineare Regression** zu veranschaulichen, untersuchen wir die Beziehung zwischen zwei Variablen, `height` der Studenten als Prädiktorvariable und `weight` der Studierenden als Antwortvariable."
   ]
  },
  {
   "cell_type": "markdown",
   "id": "a8c6565f-e60d-42a3-83fa-1768fe4e90dd",
   "metadata": {},
   "source": [
    "### Vorbereitung der Daten"
   ]
  },
  {
   "cell_type": "markdown",
   "id": "cb1d3ba4-b759-4bf5-818a-cdcdc5e9af3c",
   "metadata": {},
   "source": [
    "Zur Datenaufbereitung ziehen wir eine Zufallsstichprobe von $12$ Studenten aus dem Datensatz und erstellen einen Datensatz mit den zwei Variablen von Interesse (`height` und `weight`). Außerdem stellen wir die Daten in Form eines Streudiagramms dar, um die zugrunde liegende lineare Beziehung zwischen den beiden Variablen zu visualisieren."
   ]
  },
  {
   "cell_type": "code",
   "execution_count": 76,
   "id": "08486e5f-ed46-47c4-9103-4b6b8a21b04f",
   "metadata": {},
   "outputs": [
    {
     "data": {
      "image/png": "[encoded data removed]",
      "text/plain": [
       "<Figure size 1152x720 with 1 Axes>"
      ]
     },
     "metadata": {
      "needs_background": "light"
     },
     "output_type": "display_data"
    }
   ],
   "source": [
    "n = 12\n",
    "\n",
    "sample_idx = students.sample(n, random_state=2)\n",
    "data = pd.DataFrame(sample_idx['height'])\n",
    "data['weight'] = sample_idx['weight']\n",
    "\n",
    "fig = plt.figure()\n",
    "plt.scatter(data['height'],data['weight'],edgecolor ='k',color = 'white')\n",
    "plt.show()"
   ]
  },
  {
   "cell_type": "markdown",
   "id": "cd35e42b-d8e4-45d5-968c-95ddbbed0c54",
   "metadata": {},
   "source": [
    "Die visuelle Inspektion bestätigt unsere Vermutung, dass die Beziehung zwischen der Größe und der Gewichtsvariable ungefähr linear ist. Mit anderen Worten: Mit zunehmender Größe neigt der einzelne Studierende dazu, ein höheres Gewicht zu haben."
   ]
  },
  {
   "cell_type": "markdown",
   "id": "21b45b3a-e441-48af-9ca7-6de6ba23eb0c",
   "metadata": {},
   "source": [
    "### Schätzung der Parameter"
   ]
  },
  {
   "cell_type": "markdown",
   "id": "eeaad5b8-bb85-43b0-8dc8-5259e10d23a4",
   "metadata": {},
   "source": [
    "#### Lösen für $\\beta_0$ und $\\beta_1$ analytisch in Python"
   ]
  },
  {
   "cell_type": "markdown",
   "id": "56f48be8-3151-4e1e-beae-6af6acd47b1c",
   "metadata": {},
   "source": [
    "Wie im vorherigen Abschnitt gezeigt, können die Parameter $\\beta_0$ und $\\beta_1$ eines einfachen linearen Modells analytisch berechnet werden. Erinnern Sie sich an die Gleichung für ein lineares Modell aus Stichprobendaten"
   ]
  },
  {
   "cell_type": "markdown",
   "id": "c0d13aaa-046c-4d9f-879d-16d0794bf422",
   "metadata": {},
   "source": [
    "$$\\hat y = \\beta_0 + \\beta_1 x + e \\text{,}$$"
   ]
  },
  {
   "cell_type": "markdown",
   "id": "1c70755e-3344-4685-ab52-276b1a437557",
   "metadata": {},
   "source": [
    "für $\\beta_1$"
   ]
  },
  {
   "cell_type": "markdown",
   "id": "e7e8bc19-e0ae-43a0-b373-6214a7944847",
   "metadata": {},
   "source": [
    "$$\\hat{\\beta_1} = \\frac{\\sum_{i=1}^n ((x_i- \\bar x) (y_i-\\bar y))}{\\sum_{i=1}^n (x_i-\\bar x)^2} = \\frac{cov(x,y)}{var(x)}\\text{,}$$"
   ]
  },
  {
   "cell_type": "markdown",
   "id": "7da894cc-6e17-4441-a181-bbb612a97a91",
   "metadata": {},
   "source": [
    "und für $\\beta_0$"
   ]
  },
  {
   "cell_type": "markdown",
   "id": "bcdba6b5-77aa-48b7-b6d8-2a6c597153f7",
   "metadata": {},
   "source": [
    "$$\\hat{\\beta_0} = \\bar y -\\hat{\\beta_1} \\bar x$$"
   ]
  },
  {
   "cell_type": "markdown",
   "id": "2bb0cab1-84f4-4d4b-9b59-8354dc734722",
   "metadata": {},
   "source": [
    "Zum besseren Verständnis verwenden wir Python, um die einzelnen Terme zu berechnen"
   ]
  },
  {
   "cell_type": "code",
   "execution_count": 77,
   "id": "43fa4634-bcbc-4a95-b3c4-5d4c0e114658",
   "metadata": {},
   "outputs": [
    {
     "data": {
      "text/plain": [
       "0.6507615230460924"
      ]
     },
     "execution_count": 77,
     "metadata": {},
     "output_type": "execute_result"
    }
   ],
   "source": [
    "# Calculate b1\n",
    "\n",
    "x = data['height']\n",
    "y = data['weight']\n",
    "x_bar = np.mean(x)\n",
    "y_bar = np.mean(y)\n",
    "\n",
    "b1 = np.sum((x-x_bar)*(y-y_bar)) / np.sum((x-x_bar)**2)\n",
    "b1"
   ]
  },
  {
   "cell_type": "markdown",
   "id": "5cb761b5-f738-4960-82f0-2e3efe0b1e6c",
   "metadata": {},
   "source": [
    "Die Steigung des Regressionsmodells beträgt ungefähr $0,65$. Zur Überprüfung der Korrektheit berechnen wir das Verhältnis der Kovarianz von $x$ und $y$ mit der Funktion `cov()` und die Varianz von $x$ mit der Funktion `var()` und vergleichen es mit dem Ergebnis von oben."
   ]
  },
  {
   "cell_type": "code",
   "execution_count": 78,
   "id": "94c71fc2-e799-4c68-84c7-45871f6ac9b2",
   "metadata": {},
   "outputs": [
    {
     "data": {
      "text/plain": [
       "0.6507615230460924"
      ]
     },
     "execution_count": 78,
     "metadata": {},
     "output_type": "execute_result"
    }
   ],
   "source": [
    "np.cov(x,y,ddof=0)[0][1]/np.var(x)"
   ]
  },
  {
   "cell_type": "markdown",
   "id": "ec144b29-7e2e-42e6-9ad5-baa0533787d7",
   "metadata": {},
   "source": [
    "Eine perfekte Übereinstimmung!\n",
    "\n",
    "Weiter berechnen wir $\\beta_0$."
   ]
  },
  {
   "cell_type": "code",
   "execution_count": 79,
   "id": "191f853e-1fb3-41e9-be8c-4390745a2051",
   "metadata": {},
   "outputs": [
    {
     "data": {
      "text/plain": [
       "-39.443206412825674"
      ]
     },
     "execution_count": 79,
     "metadata": {},
     "output_type": "execute_result"
    }
   ],
   "source": [
    "# Calculate b0\n",
    "b0 = y_bar - b1*x_bar\n",
    "b0"
   ]
  },
  {
   "cell_type": "markdown",
   "id": "d7ab1c54-077e-4340-becf-3ab4f5711260",
   "metadata": {},
   "source": [
    "Der Achsenabschnitt $\\beta_0$ des Regressionsmodells beträgt ungefähr $-39,44$.\n",
    "\n",
    "Wir können also das Regressionsmodell aufschreiben"
   ]
  },
  {
   "cell_type": "markdown",
   "id": "71a52952-a3b7-40b0-888b-dab8e84e8e5f",
   "metadata": {},
   "source": [
    "$$\\text{Gewicht} = -39,44 + 0,65 \\times \\text{Höhe}$$"
   ]
  },
  {
   "cell_type": "markdown",
   "id": "4c480281-10ee-449b-bddb-de18efe69512",
   "metadata": {},
   "source": [
    "Auf der Grundlage dieser Gleichung können wir nun das Gewicht eines Studenten anhand seiner Größe bestimmen. Lassen Sie uns zum Spaß das Gewicht von Studierenden mit einer Größe von $156$, $178$ und $192$ cm vorhersagen."
   ]
  },
  {
   "cell_type": "markdown",
   "id": "99f52576-ee47-4a6a-94ac-ffee1a394389",
   "metadata": {},
   "source": [
    "$$\\text{Gewicht}_{156} = -39,44 + 0,65 \\times \\text{156} \\approx 62 \\ \\text{kg}$$"
   ]
  },
  {
   "cell_type": "markdown",
   "id": "fcfea4cb-12b9-4b2b-a465-df07f016858b",
   "metadata": {},
   "source": [
    "$$\\text{Gewicht}_{178} = -39,44 + 0,65 \\times \\text{178} \\approx 76 \\ \\text{kg}$$"
   ]
  },
  {
   "cell_type": "markdown",
   "id": "0c6cdcc1-1d90-4e03-a15f-c04a974e5992",
   "metadata": {},
   "source": [
    "$$\\text{Gewicht}_{192} = -39,44 + 0,65 \\times \\text{192} \\approx 85 \\ \\text{kg}$$"
   ]
  },
  {
   "cell_type": "markdown",
   "id": "cef641f4-22f8-4aa4-8aa1-7b863a7a57a8",
   "metadata": {
    "tags": []
   },
   "source": [
    "#### Verwenden Sie die Funktion `linregress()` bzw `OLS()` in Python, um $\\beta_0$ zu berechnen und $\\beta_1$"
   ]
  },
  {
   "cell_type": "markdown",
   "id": "a22438f1-a2ca-4723-a614-763dfdc52e77",
   "metadata": {},
   "source": [
    "Zum einen können wir die Funktion `linregress()` nutzen um $\\beta_0$ und $\\beta_1$ zu berechnen."
   ]
  },
  {
   "cell_type": "code",
   "execution_count": 80,
   "id": "3fa78474-4601-4be0-98a2-90848838e9da",
   "metadata": {},
   "outputs": [
    {
     "name": "stdout",
     "output_type": "stream",
     "text": [
      "beta_0 = -39.44320641282566\n",
      "beta_1 = 0.6507615230460922\n"
     ]
    }
   ],
   "source": [
    "gradient, intercept, r_value, p_value, stderr = stats.linregress(data['height'],data['weight'])\n",
    "print(\"beta_0 =\", intercept)\n",
    "print(\"beta_1 =\", gradient)"
   ]
  },
  {
   "cell_type": "markdown",
   "id": "153b3b76-c84d-4fbd-860a-4a7baaa63d0b",
   "metadata": {},
   "source": [
    "Eine andere Möglichkeit ist es die Funktion `OLS()` zu nutzen, die zusätzlich zur Berechnung von $\\beta_1 , \\beta_0$ viele weitere Möglichkeiten bietet"
   ]
  },
  {
   "cell_type": "code",
   "execution_count": 81,
   "id": "bd776965-4034-46bd-a031-11102dceb343",
   "metadata": {},
   "outputs": [
    {
     "data": {
      "text/plain": [
       "const    -39.443206\n",
       "height     0.650762\n",
       "dtype: float64"
      ]
     },
     "execution_count": 81,
     "metadata": {},
     "output_type": "execute_result"
    }
   ],
   "source": [
    "x = sm.add_constant(x)\n",
    "model = sm.OLS(y, x).fit()\n",
    "#predictions = model.predict(x) # make the predictions by the model\n",
    "\n",
    "# Print out the statistics\n",
    "model.params"
   ]
  },
  {
   "cell_type": "markdown",
   "id": "6ac14962-b937-4e27-85a4-247c0f339c91",
   "metadata": {},
   "source": [
    "Die Ausgabe über die Methode `params` liefert den Achsenabschnitt und den Regressionskoeffizienten. Weiters kann die Methode `summary()` nützlich sein, wenn Sie auf andere Eigenschaft des Modellobjekts zugreifen möchten."
   ]
  },
  {
   "cell_type": "code",
   "execution_count": 82,
   "id": "cdf20580-6b1a-4f1d-a55a-3cb7126ec186",
   "metadata": {},
   "outputs": [
    {
     "name": "stderr",
     "output_type": "stream",
     "text": [
      "C:\\Users\\zak\\anaconda3\\envs\\srh\\lib\\site-packages\\scipy\\stats\\_stats_py.py:1477: UserWarning: kurtosistest only valid for n>=20 ... continuing anyway, n=12\n",
      "  warnings.warn(\"kurtosistest only valid for n>=20 ... continuing \"\n"
     ]
    },
    {
     "data": {
      "text/html": [
       "<table class=\"simpletable\">\n",
       "<caption>OLS Regression Results</caption>\n",
       "<tr>\n",
       "  <th>Dep. Variable:</th>         <td>weight</td>      <th>  R-squared:         </th> <td>   0.921</td>\n",
       "</tr>\n",
       "<tr>\n",
       "  <th>Model:</th>                   <td>OLS</td>       <th>  Adj. R-squared:    </th> <td>   0.913</td>\n",
       "</tr>\n",
       "<tr>\n",
       "  <th>Method:</th>             <td>Least Squares</td>  <th>  F-statistic:       </th> <td>   115.9</td>\n",
       "</tr>\n",
       "<tr>\n",
       "  <th>Date:</th>             <td>Tue, 17 May 2022</td> <th>  Prob (F-statistic):</th> <td>8.05e-07</td>\n",
       "</tr>\n",
       "<tr>\n",
       "  <th>Time:</th>                 <td>16:51:41</td>     <th>  Log-Likelihood:    </th> <td> -22.602</td>\n",
       "</tr>\n",
       "<tr>\n",
       "  <th>No. Observations:</th>      <td>    12</td>      <th>  AIC:               </th> <td>   49.20</td>\n",
       "</tr>\n",
       "<tr>\n",
       "  <th>Df Residuals:</th>          <td>    10</td>      <th>  BIC:               </th> <td>   50.17</td>\n",
       "</tr>\n",
       "<tr>\n",
       "  <th>Df Model:</th>              <td>     1</td>      <th>                     </th>     <td> </td>   \n",
       "</tr>\n",
       "<tr>\n",
       "  <th>Covariance Type:</th>      <td>nonrobust</td>    <th>                     </th>     <td> </td>   \n",
       "</tr>\n",
       "</table>\n",
       "<table class=\"simpletable\">\n",
       "<tr>\n",
       "     <td></td>       <th>coef</th>     <th>std err</th>      <th>t</th>      <th>P>|t|</th>  <th>[0.025</th>    <th>0.975]</th>  \n",
       "</tr>\n",
       "<tr>\n",
       "  <th>const</th>  <td>  -39.4432</td> <td>   10.057</td> <td>   -3.922</td> <td> 0.003</td> <td>  -61.851</td> <td>  -17.036</td>\n",
       "</tr>\n",
       "<tr>\n",
       "  <th>height</th> <td>    0.6508</td> <td>    0.060</td> <td>   10.766</td> <td> 0.000</td> <td>    0.516</td> <td>    0.785</td>\n",
       "</tr>\n",
       "</table>\n",
       "<table class=\"simpletable\">\n",
       "<tr>\n",
       "  <th>Omnibus:</th>       <td> 2.161</td> <th>  Durbin-Watson:     </th> <td>   1.442</td>\n",
       "</tr>\n",
       "<tr>\n",
       "  <th>Prob(Omnibus):</th> <td> 0.339</td> <th>  Jarque-Bera (JB):  </th> <td>   0.923</td>\n",
       "</tr>\n",
       "<tr>\n",
       "  <th>Skew:</th>          <td> 0.110</td> <th>  Prob(JB):          </th> <td>   0.630</td>\n",
       "</tr>\n",
       "<tr>\n",
       "  <th>Kurtosis:</th>      <td> 1.659</td> <th>  Cond. No.          </th> <td>3.33e+03</td>\n",
       "</tr>\n",
       "</table><br/><br/>Notes:<br/>[1] Standard Errors assume that the covariance matrix of the errors is correctly specified.<br/>[2] The condition number is large, 3.33e+03. This might indicate that there are<br/>strong multicollinearity or other numerical problems."
      ],
      "text/plain": [
       "<class 'statsmodels.iolib.summary.Summary'>\n",
       "\"\"\"\n",
       "                            OLS Regression Results                            \n",
       "==============================================================================\n",
       "Dep. Variable:                 weight   R-squared:                       0.921\n",
       "Model:                            OLS   Adj. R-squared:                  0.913\n",
       "Method:                 Least Squares   F-statistic:                     115.9\n",
       "Date:                Tue, 17 May 2022   Prob (F-statistic):           8.05e-07\n",
       "Time:                        16:51:41   Log-Likelihood:                -22.602\n",
       "No. Observations:                  12   AIC:                             49.20\n",
       "Df Residuals:                      10   BIC:                             50.17\n",
       "Df Model:                           1                                         \n",
       "Covariance Type:            nonrobust                                         \n",
       "==============================================================================\n",
       "                 coef    std err          t      P>|t|      [0.025      0.975]\n",
       "------------------------------------------------------------------------------\n",
       "const        -39.4432     10.057     -3.922      0.003     -61.851     -17.036\n",
       "height         0.6508      0.060     10.766      0.000       0.516       0.785\n",
       "==============================================================================\n",
       "Omnibus:                        2.161   Durbin-Watson:                   1.442\n",
       "Prob(Omnibus):                  0.339   Jarque-Bera (JB):                0.923\n",
       "Skew:                           0.110   Prob(JB):                        0.630\n",
       "Kurtosis:                       1.659   Cond. No.                     3.33e+03\n",
       "==============================================================================\n",
       "\n",
       "Notes:\n",
       "[1] Standard Errors assume that the covariance matrix of the errors is correctly specified.\n",
       "[2] The condition number is large, 3.33e+03. This might indicate that there are\n",
       "strong multicollinearity or other numerical problems.\n",
       "\"\"\""
      ]
     },
     "execution_count": 82,
     "metadata": {},
     "output_type": "execute_result"
    }
   ],
   "source": [
    "# Print out the statistics\n",
    "model.summary()"
   ]
  },
  {
   "cell_type": "markdown",
   "id": "ac324f32-33f3-4748-8c34-af66c9ffe878",
   "metadata": {},
   "source": [
    "Es gibt viele weitere Eigenschaften eines `OLS`-Objekts, auf die durch die Anwendungen von Methoden zugegriffen werden kann. Die Funktion dir() gibt einen Überblick über die Struktur des Modellobjekts."
   ]
  },
  {
   "cell_type": "code",
   "execution_count": 83,
   "id": "8464a134-975f-4744-9484-20707cd738f6",
   "metadata": {},
   "outputs": [
    {
     "data": {
      "text/plain": [
       "['HC0_se',\n",
       " 'HC1_se',\n",
       " 'HC2_se',\n",
       " 'HC3_se',\n",
       " '_HCCM',\n",
       " '__class__',\n",
       " '__delattr__',\n",
       " '__dict__',\n",
       " '__dir__',\n",
       " '__doc__',\n",
       " '__eq__',\n",
       " '__format__',\n",
       " '__ge__',\n",
       " '__getattribute__',\n",
       " '__gt__',\n",
       " '__hash__',\n",
       " '__init__',\n",
       " '__init_subclass__',\n",
       " '__le__',\n",
       " '__lt__',\n",
       " '__module__',\n",
       " '__ne__',\n",
       " '__new__',\n",
       " '__reduce__',\n",
       " '__reduce_ex__',\n",
       " '__repr__',\n",
       " '__setattr__',\n",
       " '__sizeof__',\n",
       " '__str__',\n",
       " '__subclasshook__',\n",
       " '__weakref__',\n",
       " '_abat_diagonal',\n",
       " '_cache',\n",
       " '_data_attr',\n",
       " '_data_in_cache',\n",
       " '_get_robustcov_results',\n",
       " '_is_nested',\n",
       " '_use_t',\n",
       " '_wexog_singular_values',\n",
       " 'aic',\n",
       " 'bic',\n",
       " 'bse',\n",
       " 'centered_tss',\n",
       " 'compare_f_test',\n",
       " 'compare_lm_test',\n",
       " 'compare_lr_test',\n",
       " 'condition_number',\n",
       " 'conf_int',\n",
       " 'conf_int_el',\n",
       " 'cov_HC0',\n",
       " 'cov_HC1',\n",
       " 'cov_HC2',\n",
       " 'cov_HC3',\n",
       " 'cov_kwds',\n",
       " 'cov_params',\n",
       " 'cov_type',\n",
       " 'df_model',\n",
       " 'df_resid',\n",
       " 'diagn',\n",
       " 'eigenvals',\n",
       " 'el_test',\n",
       " 'ess',\n",
       " 'f_pvalue',\n",
       " 'f_test',\n",
       " 'fittedvalues',\n",
       " 'fvalue',\n",
       " 'get_influence',\n",
       " 'get_prediction',\n",
       " 'get_robustcov_results',\n",
       " 'info_criteria',\n",
       " 'initialize',\n",
       " 'k_constant',\n",
       " 'llf',\n",
       " 'load',\n",
       " 'model',\n",
       " 'mse_model',\n",
       " 'mse_resid',\n",
       " 'mse_total',\n",
       " 'nobs',\n",
       " 'normalized_cov_params',\n",
       " 'outlier_test',\n",
       " 'params',\n",
       " 'predict',\n",
       " 'pvalues',\n",
       " 'remove_data',\n",
       " 'resid',\n",
       " 'resid_pearson',\n",
       " 'rsquared',\n",
       " 'rsquared_adj',\n",
       " 'save',\n",
       " 'scale',\n",
       " 'ssr',\n",
       " 'summary',\n",
       " 'summary2',\n",
       " 't_test',\n",
       " 't_test_pairwise',\n",
       " 'tvalues',\n",
       " 'uncentered_tss',\n",
       " 'use_t',\n",
       " 'wald_test',\n",
       " 'wald_test_terms',\n",
       " 'wresid']"
      ]
     },
     "execution_count": 83,
     "metadata": {},
     "output_type": "execute_result"
    }
   ],
   "source": [
    "dir(model)"
   ]
  },
  {
   "cell_type": "markdown",
   "id": "2907302a-714d-47ea-9cc7-4a06c3cb18aa",
   "metadata": {},
   "source": [
    "### Extraktor-Methoden"
   ]
  },
  {
   "cell_type": "markdown",
   "id": "c13fa1c4-ca71-43f0-8663-a18f6f266a8d",
   "metadata": {},
   "source": [
    "Modellobjekts in Python zuzugreifen, ist die Anwendung sogenannter Extraktormethoden. Lassen Sie uns das lineare Modell von oben rekonstruieren, die Modellausgabe der Variablen `model` zuweisen und einige nützliche Extraktormethoden anwenden."
   ]
  },
  {
   "cell_type": "code",
   "execution_count": 84,
   "id": "10379f64-7e6c-464b-9710-a1e9160aa61f",
   "metadata": {},
   "outputs": [],
   "source": [
    "x = sm.add_constant(x)\n",
    "model = sm.OLS(y, x).fit()"
   ]
  },
  {
   "cell_type": "markdown",
   "id": "6e5b4239-b329-4d36-bb4f-902e25eb1835",
   "metadata": {},
   "source": [
    "Wie schon erwähnt gibt die `params` Methode die Modellkoeffizienten zurück."
   ]
  },
  {
   "cell_type": "code",
   "execution_count": 85,
   "id": "922a8b8c-47e4-43db-91e8-8fa72aa66b49",
   "metadata": {},
   "outputs": [
    {
     "data": {
      "text/plain": [
       "const    -39.443206\n",
       "height     0.650762\n",
       "dtype: float64"
      ]
     },
     "execution_count": 85,
     "metadata": {},
     "output_type": "execute_result"
    }
   ],
   "source": [
    "model.params"
   ]
  },
  {
   "cell_type": "markdown",
   "id": "97b096f2-cafb-4ada-aef6-5b850e1b6b99",
   "metadata": {},
   "source": [
    "Die Methode `conf_int()` gibt das Konfidenzintervall für die Modellkoeffizienten für ein bestimmtes Konfidenzniveau zurück (Standardeinstellung entspricht $\\alpha = 0.05$."
   ]
  },
  {
   "cell_type": "code",
   "execution_count": 86,
   "id": "fb5ffad8-9719-43d5-8ac8-d2b6ab188c6a",
   "metadata": {},
   "outputs": [
    {
     "data": {
      "text/html": [
       "<div>\n",
       "<style scoped>\n",
       "    .dataframe tbody tr th:only-of-type {\n",
       "        vertical-align: middle;\n",
       "    }\n",
       "\n",
       "    .dataframe tbody tr th {\n",
       "        vertical-align: top;\n",
       "    }\n",
       "\n",
       "    .dataframe thead th {\n",
       "        text-align: right;\n",
       "    }\n",
       "</style>\n",
       "<table border=\"1\" class=\"dataframe\">\n",
       "  <thead>\n",
       "    <tr style=\"text-align: right;\">\n",
       "      <th></th>\n",
       "      <th>0</th>\n",
       "      <th>1</th>\n",
       "    </tr>\n",
       "  </thead>\n",
       "  <tbody>\n",
       "    <tr>\n",
       "      <th>const</th>\n",
       "      <td>-61.850735</td>\n",
       "      <td>-17.035678</td>\n",
       "    </tr>\n",
       "    <tr>\n",
       "      <th>height</th>\n",
       "      <td>0.516081</td>\n",
       "      <td>0.785442</td>\n",
       "    </tr>\n",
       "  </tbody>\n",
       "</table>\n",
       "</div>"
      ],
      "text/plain": [
       "                0          1\n",
       "const  -61.850735 -17.035678\n",
       "height   0.516081   0.785442"
      ]
     },
     "execution_count": 86,
     "metadata": {},
     "output_type": "execute_result"
    }
   ],
   "source": [
    "model.conf_int(alpha = 0.05)"
   ]
  },
  {
   "cell_type": "markdown",
   "id": "f89d952d-b9b8-452f-aa83-bc08528d268a",
   "metadata": {},
   "source": [
    "Eine weitere nützliche Extraktormethode ist die Funktion `resid()`."
   ]
  },
  {
   "cell_type": "code",
   "execution_count": 87,
   "id": "002da8bc-d6ee-4671-bfa8-968fa218a307",
   "metadata": {},
   "outputs": [
    {
     "data": {
      "text/plain": [
       "3594    1.164509\n",
       "4152    2.655371\n",
       "7136    0.930501\n",
       "5100   -1.038537\n",
       "339     0.815271\n",
       "4433    2.072124\n",
       "2767   -1.035491\n",
       "2727   -1.527876\n",
       "7099   -2.438537\n",
       "2388    1.218317\n",
       "2124   -1.037014\n",
       "8170   -1.778637\n",
       "dtype: float64"
      ]
     },
     "execution_count": 87,
     "metadata": {},
     "output_type": "execute_result"
    }
   ],
   "source": [
    "model.resid"
   ]
  },
  {
   "cell_type": "markdown",
   "id": "7dbfba53-0ff5-407a-9a40-2c1e381e3055",
   "metadata": {},
   "source": [
    "Wir können sofort überprüfen, ob die Summe der Residuen ($\\sum e$) nahe bei Null liegt."
   ]
  },
  {
   "cell_type": "code",
   "execution_count": 88,
   "id": "a47dd9af-8664-48f1-9f0e-30393770e2f8",
   "metadata": {},
   "outputs": [
    {
     "data": {
      "text/plain": [
       "-2.6290081223123707e-13"
      ]
     },
     "execution_count": 88,
     "metadata": {},
     "output_type": "execute_result"
    }
   ],
   "source": [
    "sum(model.resid)"
   ]
  },
  {
   "cell_type": "markdown",
   "id": "cb123d3e-64e6-4bed-803a-b0723166a7fa",
   "metadata": {},
   "source": [
    "Cool, nahe an Null!\n",
    "\n",
    "Um die erhaltene Regressionslinie zu zeichnen, verwenden wir die Funktion $y = \\beta_0 + \\beta_1 x$, die Linien auf der Grundlage des Achsenabschnitts ($\\beta_0$) und der Steigung ($\\beta_1$) zeichnet. Wir verwenden den Syntax `plot([x_1,x_2],[y_1,y_2])` um die Regressionsgerade zu plotten."
   ]
  },
  {
   "cell_type": "code",
   "execution_count": 89,
   "id": "e1f2e876-36d4-44a5-88b1-86bfe2631c49",
   "metadata": {},
   "outputs": [
    {
     "data": {
      "image/png": "[encoded data removed]",
      "text/plain": [
       "<Figure size 1152x720 with 1 Axes>"
      ]
     },
     "metadata": {
      "needs_background": "light"
     },
     "output_type": "display_data"
    }
   ],
   "source": [
    "fig = plt.figure()\n",
    "plt.scatter(data['height'],data['weight'],edgecolor ='k',color = 'white')\n",
    "plt.scatter(data['height'],model.fittedvalues,color = 'green')\n",
    "plt.plot([140,190],[51.663474 , 84.201574])\n",
    "plt.ylabel('Gewicht')\n",
    "plt.xlabel('Höhe')\n",
    "plt.show()"
   ]
  },
  {
   "cell_type": "markdown",
   "id": "f8540743-8d47-4a3c-9b05-54c872ee1c1c",
   "metadata": {},
   "source": [
    "Eine weitere besonders interessante Extraktormethode ist `predict()`. Wenn sie nicht spezifiziert ist, gibt die Methode `predict()` $\\hat y_i$ für jedes einzelne $x_i$ zurück; ähnlich wie die Methode `fittedvalues`. Man kann jedoch auch neue Daten angeben und die Funktion `predict()` wird $\\hat y_i$ für jedes gegebene $x_i$ vorhersagen. Beachten Sie, dass die neuen Daten ein Data-Frame-Objekt oder eine Liste sein müssen."
   ]
  },
  {
   "cell_type": "code",
   "execution_count": 90,
   "id": "298db648-8921-4595-b7b0-ca913680befa",
   "metadata": {},
   "outputs": [
    {
     "data": {
      "text/plain": [
       "3594    70.535491\n",
       "4152    78.344629\n",
       "7136    56.869499\n",
       "5100    73.138537\n",
       "339     69.884729\n",
       "4433    64.027876\n",
       "2767    70.535491\n",
       "2727    64.027876\n",
       "7099    73.138537\n",
       "2388    67.281683\n",
       "2124    71.837014\n",
       "8170    64.678637\n",
       "dtype: float64"
      ]
     },
     "execution_count": 90,
     "metadata": {},
     "output_type": "execute_result"
    }
   ],
   "source": [
    "model.fittedvalues"
   ]
  },
  {
   "cell_type": "code",
   "execution_count": 91,
   "id": "5e1ebc46-9779-4ad6-aa55-5b38ea9b022f",
   "metadata": {},
   "outputs": [
    {
     "name": "stdout",
     "output_type": "stream",
     "text": [
      "3594    70.535491\n",
      "4152    78.344629\n",
      "7136    56.869499\n",
      "5100    73.138537\n",
      "339     69.884729\n",
      "4433    64.027876\n",
      "2767    70.535491\n",
      "2727    64.027876\n",
      "7099    73.138537\n",
      "2388    67.281683\n",
      "2124    71.837014\n",
      "8170    64.678637\n",
      "dtype: float64\n"
     ]
    }
   ],
   "source": [
    "print(model.predict(x))"
   ]
  },
  {
   "cell_type": "code",
   "execution_count": 92,
   "id": "a007342e-670c-48e8-9bea-407302cebde2",
   "metadata": {},
   "outputs": [
    {
     "data": {
      "text/plain": [
       "array([67.93244489, 72.48777555, 79.6461523 ])"
      ]
     },
     "execution_count": 92,
     "metadata": {},
     "output_type": "execute_result"
    }
   ],
   "source": [
    "pred = (165,172,183)\n",
    "pred = sm.add_constant(pred)\n",
    "model.predict(pred)"
   ]
  },
  {
   "cell_type": "code",
   "execution_count": 93,
   "id": "71ac00c5-3215-4da6-be6e-b7c9c3a8631e",
   "metadata": {},
   "outputs": [
    {
     "data": {
      "image/png": "[encoded data removed]",
      "text/plain": [
       "<Figure size 1152x720 with 1 Axes>"
      ]
     },
     "metadata": {
      "needs_background": "light"
     },
     "output_type": "display_data"
    }
   ],
   "source": [
    "fig = plt.figure()\n",
    "plt.scatter(data['height'],data['weight'],edgecolor ='k',color = 'white')\n",
    "plt.scatter(data['height'],model.fittedvalues,color = 'green')\n",
    "plt.plot([140,190],[51.663474 , 84.201574])\n",
    "plt.scatter([165,172,183],[67.93244489,72.48777555,79.6461523],color = 'red')\n",
    "plt.ylabel('Gewicht')\n",
    "plt.xlabel('Höhe')\n",
    "plt.show()"
   ]
  },
  {
   "cell_type": "markdown",
   "id": "e9aa5f45-ffd4-413b-b72c-ee555a8635e6",
   "metadata": {},
   "source": [
    "Darüber hinaus bietet Python einen einfachen Ansatz zur Erstellung von Fehlerbereichen um die angepasste Regressionslinie. Es gibt zwei Arten von Bändern, die als *schmale* und *breite* Bänder bezeichnet werden. Die schmalen Bänder, die so genannten <a href=\"https://en.wikipedia.org/wiki/Confidence_and_prediction_bands\">Konfidenzbänder</a>, spiegeln die Unsicherheit über die Linie selbst wider. Die Bänder sind schmal, wenn es viele Beobachtungen gibt, und spiegeln eine gut bestimmte Linie wider. Die breiten Banden, die so genannten <a href=\"https://en.wikipedia.org/wiki/Confidence_and_prediction_bands\">Prognosebänder</a>, beinhalten die Unsicherheit über zukünftige Beobachtungen. Diese Bänder erfassen die Mehrheit der beobachteten Punkte und fallen nicht zu einer Linie zusammen, wenn die Anzahl der Beobachtungen zunimmt.\n",
    "\n",
    "Um diese Unsicherheitsbänder zu berechnen, wenden wir die Methode `get_prediction()` an und fügen die Methode `summary_frame()` hinzu, um den Vektor der vorhergesagten Werte zu erhalten, der mit Grenzwerten ergänzt wird."
   ]
  },
  {
   "cell_type": "code",
   "execution_count": 94,
   "id": "33380177-e2d0-432a-9d94-b279850fea49",
   "metadata": {},
   "outputs": [
    {
     "data": {
      "text/html": [
       "<div>\n",
       "<style scoped>\n",
       "    .dataframe tbody tr th:only-of-type {\n",
       "        vertical-align: middle;\n",
       "    }\n",
       "\n",
       "    .dataframe tbody tr th {\n",
       "        vertical-align: top;\n",
       "    }\n",
       "\n",
       "    .dataframe thead th {\n",
       "        text-align: right;\n",
       "    }\n",
       "</style>\n",
       "<table border=\"1\" class=\"dataframe\">\n",
       "  <thead>\n",
       "    <tr style=\"text-align: right;\">\n",
       "      <th></th>\n",
       "      <th>mean</th>\n",
       "      <th>mean_se</th>\n",
       "      <th>mean_ci_lower</th>\n",
       "      <th>mean_ci_upper</th>\n",
       "      <th>obs_ci_lower</th>\n",
       "      <th>obs_ci_upper</th>\n",
       "    </tr>\n",
       "  </thead>\n",
       "  <tbody>\n",
       "    <tr>\n",
       "      <th>3594</th>\n",
       "      <td>70.535491</td>\n",
       "      <td>0.531553</td>\n",
       "      <td>69.351116</td>\n",
       "      <td>71.719865</td>\n",
       "      <td>66.474915</td>\n",
       "      <td>74.596067</td>\n",
       "    </tr>\n",
       "    <tr>\n",
       "      <th>4152</th>\n",
       "      <td>78.344629</td>\n",
       "      <td>1.028165</td>\n",
       "      <td>76.053736</td>\n",
       "      <td>80.635523</td>\n",
       "      <td>73.835336</td>\n",
       "      <td>82.853923</td>\n",
       "    </tr>\n",
       "    <tr>\n",
       "      <th>7136</th>\n",
       "      <td>56.869499</td>\n",
       "      <td>1.207901</td>\n",
       "      <td>54.178129</td>\n",
       "      <td>59.560869</td>\n",
       "      <td>52.144141</td>\n",
       "      <td>61.594857</td>\n",
       "    </tr>\n",
       "    <tr>\n",
       "      <th>5100</th>\n",
       "      <td>73.138537</td>\n",
       "      <td>0.651017</td>\n",
       "      <td>71.687980</td>\n",
       "      <td>74.589094</td>\n",
       "      <td>68.992497</td>\n",
       "      <td>77.284577</td>\n",
       "    </tr>\n",
       "    <tr>\n",
       "      <th>339</th>\n",
       "      <td>69.884729</td>\n",
       "      <td>0.515265</td>\n",
       "      <td>68.736646</td>\n",
       "      <td>71.032813</td>\n",
       "      <td>65.834590</td>\n",
       "      <td>73.934869</td>\n",
       "    </tr>\n",
       "    <tr>\n",
       "      <th>4433</th>\n",
       "      <td>64.027876</td>\n",
       "      <td>0.663983</td>\n",
       "      <td>62.548429</td>\n",
       "      <td>65.507323</td>\n",
       "      <td>59.871640</td>\n",
       "      <td>68.184112</td>\n",
       "    </tr>\n",
       "    <tr>\n",
       "      <th>2767</th>\n",
       "      <td>70.535491</td>\n",
       "      <td>0.531553</td>\n",
       "      <td>69.351116</td>\n",
       "      <td>71.719865</td>\n",
       "      <td>66.474915</td>\n",
       "      <td>74.596067</td>\n",
       "    </tr>\n",
       "    <tr>\n",
       "      <th>2727</th>\n",
       "      <td>64.027876</td>\n",
       "      <td>0.663983</td>\n",
       "      <td>62.548429</td>\n",
       "      <td>65.507323</td>\n",
       "      <td>59.871640</td>\n",
       "      <td>68.184112</td>\n",
       "    </tr>\n",
       "    <tr>\n",
       "      <th>7099</th>\n",
       "      <td>73.138537</td>\n",
       "      <td>0.651017</td>\n",
       "      <td>71.687980</td>\n",
       "      <td>74.589094</td>\n",
       "      <td>68.992497</td>\n",
       "      <td>77.284577</td>\n",
       "    </tr>\n",
       "    <tr>\n",
       "      <th>2388</th>\n",
       "      <td>67.281683</td>\n",
       "      <td>0.519971</td>\n",
       "      <td>66.123115</td>\n",
       "      <td>68.440251</td>\n",
       "      <td>63.228559</td>\n",
       "      <td>71.334807</td>\n",
       "    </tr>\n",
       "    <tr>\n",
       "      <th>2124</th>\n",
       "      <td>71.837014</td>\n",
       "      <td>0.581869</td>\n",
       "      <td>70.540529</td>\n",
       "      <td>73.133499</td>\n",
       "      <td>67.742334</td>\n",
       "      <td>75.931694</td>\n",
       "    </tr>\n",
       "    <tr>\n",
       "      <th>8170</th>\n",
       "      <td>64.678637</td>\n",
       "      <td>0.626225</td>\n",
       "      <td>63.283320</td>\n",
       "      <td>66.073955</td>\n",
       "      <td>60.551599</td>\n",
       "      <td>68.805675</td>\n",
       "    </tr>\n",
       "  </tbody>\n",
       "</table>\n",
       "</div>"
      ],
      "text/plain": [
       "           mean   mean_se  mean_ci_lower  mean_ci_upper  obs_ci_lower  \\\n",
       "3594  70.535491  0.531553      69.351116      71.719865     66.474915   \n",
       "4152  78.344629  1.028165      76.053736      80.635523     73.835336   \n",
       "7136  56.869499  1.207901      54.178129      59.560869     52.144141   \n",
       "5100  73.138537  0.651017      71.687980      74.589094     68.992497   \n",
       "339   69.884729  0.515265      68.736646      71.032813     65.834590   \n",
       "4433  64.027876  0.663983      62.548429      65.507323     59.871640   \n",
       "2767  70.535491  0.531553      69.351116      71.719865     66.474915   \n",
       "2727  64.027876  0.663983      62.548429      65.507323     59.871640   \n",
       "7099  73.138537  0.651017      71.687980      74.589094     68.992497   \n",
       "2388  67.281683  0.519971      66.123115      68.440251     63.228559   \n",
       "2124  71.837014  0.581869      70.540529      73.133499     67.742334   \n",
       "8170  64.678637  0.626225      63.283320      66.073955     60.551599   \n",
       "\n",
       "      obs_ci_upper  \n",
       "3594     74.596067  \n",
       "4152     82.853923  \n",
       "7136     61.594857  \n",
       "5100     77.284577  \n",
       "339      73.934869  \n",
       "4433     68.184112  \n",
       "2767     74.596067  \n",
       "2727     68.184112  \n",
       "7099     77.284577  \n",
       "2388     71.334807  \n",
       "2124     75.931694  \n",
       "8170     68.805675  "
      ]
     },
     "execution_count": 94,
     "metadata": {},
     "output_type": "execute_result"
    }
   ],
   "source": [
    "pred = data['height']\n",
    "pred = sm.add_constant(pred)\n",
    "model_predictions = model.get_prediction(pred).summary_frame()\n",
    "model_predictions"
   ]
  },
  {
   "cell_type": "code",
   "execution_count": 100,
   "id": "89f1c087-2a73-4946-bbb6-1948669ce4c9",
   "metadata": {},
   "outputs": [
    {
     "data": {
      "image/png": "[encoded data removed]",
      "text/plain": [
       "<Figure size 1152x720 with 1 Axes>"
      ]
     },
     "metadata": {
      "needs_background": "light"
     },
     "output_type": "display_data"
    }
   ],
   "source": [
    "data= data.sort_values(by=['height'])\n",
    "model_predictions = model_predictions.sort_values(by=['mean'])\n",
    "plt.fill_between(data['height'], model_predictions['obs_ci_lower'], model_predictions['obs_ci_upper'], alpha=.1, label='Prediction interval')\n",
    "plt.fill_between(data['height'], model_predictions['mean_ci_lower'], model_predictions['mean_ci_upper'], alpha=.5, label='Konvidenzinterval')\n",
    "plt.scatter(data['height'], data['weight'], label='Observed', edgecolor='k', color='white')\n",
    "plt.plot(data['height'], model_predictions['mean'], label='Regression line')\n",
    "\n",
    "plt.xlabel('Höhe')\n",
    "plt.ylabel('Gewicht')\n",
    "#plt.legend()\n",
    "plt.show()"
   ]
  },
  {
   "cell_type": "markdown",
   "id": "3250d809-5d8a-4275-8d3b-247740822a97",
   "metadata": {},
   "source": [
    "Die bequemste Art, um die Eigenschaften eines beliebigen Modellobjekts in Python zusammenzufassen, ist die Methode `summary()`."
   ]
  },
  {
   "cell_type": "code",
   "execution_count": 63,
   "id": "7e9762ab-e18b-443d-93f3-76a5eb96fbf9",
   "metadata": {},
   "outputs": [
    {
     "name": "stderr",
     "output_type": "stream",
     "text": [
      "C:\\Users\\zak\\anaconda3\\envs\\srh\\lib\\site-packages\\scipy\\stats\\_stats_py.py:1477: UserWarning: kurtosistest only valid for n>=20 ... continuing anyway, n=12\n",
      "  warnings.warn(\"kurtosistest only valid for n>=20 ... continuing \"\n"
     ]
    },
    {
     "data": {
      "text/html": [
       "<table class=\"simpletable\">\n",
       "<caption>OLS Regression Results</caption>\n",
       "<tr>\n",
       "  <th>Dep. Variable:</th>         <td>weight</td>      <th>  R-squared:         </th> <td>   0.921</td>\n",
       "</tr>\n",
       "<tr>\n",
       "  <th>Model:</th>                   <td>OLS</td>       <th>  Adj. R-squared:    </th> <td>   0.913</td>\n",
       "</tr>\n",
       "<tr>\n",
       "  <th>Method:</th>             <td>Least Squares</td>  <th>  F-statistic:       </th> <td>   115.9</td>\n",
       "</tr>\n",
       "<tr>\n",
       "  <th>Date:</th>             <td>Tue, 17 May 2022</td> <th>  Prob (F-statistic):</th> <td>8.05e-07</td>\n",
       "</tr>\n",
       "<tr>\n",
       "  <th>Time:</th>                 <td>16:46:11</td>     <th>  Log-Likelihood:    </th> <td> -22.602</td>\n",
       "</tr>\n",
       "<tr>\n",
       "  <th>No. Observations:</th>      <td>    12</td>      <th>  AIC:               </th> <td>   49.20</td>\n",
       "</tr>\n",
       "<tr>\n",
       "  <th>Df Residuals:</th>          <td>    10</td>      <th>  BIC:               </th> <td>   50.17</td>\n",
       "</tr>\n",
       "<tr>\n",
       "  <th>Df Model:</th>              <td>     1</td>      <th>                     </th>     <td> </td>   \n",
       "</tr>\n",
       "<tr>\n",
       "  <th>Covariance Type:</th>      <td>nonrobust</td>    <th>                     </th>     <td> </td>   \n",
       "</tr>\n",
       "</table>\n",
       "<table class=\"simpletable\">\n",
       "<tr>\n",
       "     <td></td>       <th>coef</th>     <th>std err</th>      <th>t</th>      <th>P>|t|</th>  <th>[0.025</th>    <th>0.975]</th>  \n",
       "</tr>\n",
       "<tr>\n",
       "  <th>const</th>  <td>  -39.4432</td> <td>   10.057</td> <td>   -3.922</td> <td> 0.003</td> <td>  -61.851</td> <td>  -17.036</td>\n",
       "</tr>\n",
       "<tr>\n",
       "  <th>height</th> <td>    0.6508</td> <td>    0.060</td> <td>   10.766</td> <td> 0.000</td> <td>    0.516</td> <td>    0.785</td>\n",
       "</tr>\n",
       "</table>\n",
       "<table class=\"simpletable\">\n",
       "<tr>\n",
       "  <th>Omnibus:</th>       <td> 2.161</td> <th>  Durbin-Watson:     </th> <td>   1.442</td>\n",
       "</tr>\n",
       "<tr>\n",
       "  <th>Prob(Omnibus):</th> <td> 0.339</td> <th>  Jarque-Bera (JB):  </th> <td>   0.923</td>\n",
       "</tr>\n",
       "<tr>\n",
       "  <th>Skew:</th>          <td> 0.110</td> <th>  Prob(JB):          </th> <td>   0.630</td>\n",
       "</tr>\n",
       "<tr>\n",
       "  <th>Kurtosis:</th>      <td> 1.659</td> <th>  Cond. No.          </th> <td>3.33e+03</td>\n",
       "</tr>\n",
       "</table><br/><br/>Notes:<br/>[1] Standard Errors assume that the covariance matrix of the errors is correctly specified.<br/>[2] The condition number is large, 3.33e+03. This might indicate that there are<br/>strong multicollinearity or other numerical problems."
      ],
      "text/plain": [
       "<class 'statsmodels.iolib.summary.Summary'>\n",
       "\"\"\"\n",
       "                            OLS Regression Results                            \n",
       "==============================================================================\n",
       "Dep. Variable:                 weight   R-squared:                       0.921\n",
       "Model:                            OLS   Adj. R-squared:                  0.913\n",
       "Method:                 Least Squares   F-statistic:                     115.9\n",
       "Date:                Tue, 17 May 2022   Prob (F-statistic):           8.05e-07\n",
       "Time:                        16:46:11   Log-Likelihood:                -22.602\n",
       "No. Observations:                  12   AIC:                             49.20\n",
       "Df Residuals:                      10   BIC:                             50.17\n",
       "Df Model:                           1                                         \n",
       "Covariance Type:            nonrobust                                         \n",
       "==============================================================================\n",
       "                 coef    std err          t      P>|t|      [0.025      0.975]\n",
       "------------------------------------------------------------------------------\n",
       "const        -39.4432     10.057     -3.922      0.003     -61.851     -17.036\n",
       "height         0.6508      0.060     10.766      0.000       0.516       0.785\n",
       "==============================================================================\n",
       "Omnibus:                        2.161   Durbin-Watson:                   1.442\n",
       "Prob(Omnibus):                  0.339   Jarque-Bera (JB):                0.923\n",
       "Skew:                           0.110   Prob(JB):                        0.630\n",
       "Kurtosis:                       1.659   Cond. No.                     3.33e+03\n",
       "==============================================================================\n",
       "\n",
       "Notes:\n",
       "[1] Standard Errors assume that the covariance matrix of the errors is correctly specified.\n",
       "[2] The condition number is large, 3.33e+03. This might indicate that there are\n",
       "strong multicollinearity or other numerical problems.\n",
       "\"\"\""
      ]
     },
     "execution_count": 63,
     "metadata": {},
     "output_type": "execute_result"
    }
   ],
   "source": [
    "model.summary()"
   ]
  },
  {
   "cell_type": "markdown",
   "id": "8e7be3ba-5702-4ed5-b862-068d6db69e70",
   "metadata": {},
   "source": [
    "Auf die Ausgabe der Zusammenfassungsfunktion für ein lineares Modellobjekt wird im nächsten Abschnitt über die Modelldiagnose näher eingegangen."
   ]
  },
  {
   "cell_type": "code",
   "execution_count": null,
   "id": "158a0b99-488d-417d-b905-aa0802f215b2",
   "metadata": {},
   "outputs": [],
   "source": []
  }
 ],
 "metadata": {
  "kernelspec": {
   "display_name": "Python 3 (ipykernel)",
   "language": "python",
   "name": "python3"
  },
  "language_info": {
   "codemirror_mode": {
    "name": "ipython",
    "version": 3
   },
   "file_extension": ".py",
   "mimetype": "text/x-python",
   "name": "python",
   "nbconvert_exporter": "python",
   "pygments_lexer": "ipython3",
   "version": "3.10.2"
  }
 },
 "nbformat": 4,
 "nbformat_minor": 5
}
