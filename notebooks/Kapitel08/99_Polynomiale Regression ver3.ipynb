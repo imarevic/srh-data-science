{
 "cells": [
  {
   "cell_type": "markdown",
   "id": "cb9f6c7b-87ad-4641-96f6-843b463201cc",
   "metadata": {},
   "source": [
    "## Polynomiale Regression\n",
    "----------------------------------------"
   ]
  },
  {
   "cell_type": "markdown",
   "id": "a594c395-2905-41f3-9a6a-932c64567467",
   "metadata": {
    "tags": []
   },
   "source": [
    "Die <a href=\"https://en.wikipedia.org/wiki/Polynomial_regression\">polynomiale Regression</a> ist eine spezielle Art der linearen Regression, bei der die Beziehung zwischen der unabhängigen Variablen $x$ und der abhängigen Variablen $y$ durch ein Polynom $n$-ten Grades in $x$ modelliert wird. Mit anderen Worten, wir nehmen neben dem ursprünglichen linearen Term auch Potenzen zweiter Ordnung und höherer Potenzen einer Variablen in das Modell auf. Die Einbeziehung von Polynomen $n$-ten Grades führt zu einer nichtlinearen Beziehung zwischen $y$ und $x$, aber das Modell ist immer noch ein lineares Modell, da die Beziehung zwischen den Koeffizienten ($\\beta_i$) und den erwarteten Beobachtungen linear ist. Somit kann die Modellgleichung wie folgt geschrieben werden"
   ]
  },
  {
   "cell_type": "markdown",
   "id": "a8de333c-6b0e-4997-ba37-597804a4633b",
   "metadata": {},
   "source": [
    "$$\\hat y = \\beta_0+\\beta_1x+\\beta_2x^2+...+\\beta_kx^k+\\epsilon\\text{.}$$"
   ]
  },
  {
   "cell_type": "markdown",
   "id": "f77b0617-df86-4bf3-ad7d-d969f32a1429",
   "metadata": {},
   "source": [
    "Die Werte der Koeffizienten werden durch Anpassung des Polynoms an die Beobachtungsdaten ($y$) bestimmt. Wie bei der einfachen linearen Regression, die im vorigen Abschnitt behandelt wurde, geschieht dies durch Minimierung der **Summe der quadrierten Fehler ($SSE$)**, die durch folgende Gleichung gegeben ist"
   ]
  },
  {
   "cell_type": "markdown",
   "id": "cc4d61bf-05c2-4876-97b2-9add5d96b348",
   "metadata": {},
   "source": [
    "$$SSE = \\sum e^2 = \\sum (\\hat y - y)^2\\text{.}$$"
   ]
  },
  {
   "cell_type": "markdown",
   "id": "8f1ae4d7-4b35-40da-bbfe-2144b2456b07",
   "metadata": {},
   "source": [
    "Bei der Anpassung eines Polynoms an Beobachtungen stellt sich das Problem der Wahl der Ordnung $k$ des Polynoms. Wie man die richtige Zahl für das Polynom wählt, ist eine Frage eines wichtigen Konzepts, das **Modellvergleich** oder <a href=\"https://en.wikipedia.org/wiki/Model_selection\">**Modellauswahl**</a> genannt wird. Der Einfachheit halber verwenden wir den quadratischen Fehler <a href=\"https://en.wikipedia.org/wiki/Root-mean-square_deviation\">(root-mean-square error, RMSE)</a>, definiert durch"
   ]
  },
  {
   "cell_type": "markdown",
   "id": "af57342b-904c-4a38-afce-790e913a756c",
   "metadata": {},
   "source": [
    "$$RMSE = \\sqrt{\\frac{\\sum_{i=1}^n (\\hat y - y)^2}{n}}$$"
   ]
  },
  {
   "cell_type": "markdown",
   "id": "70ae8de5-20d9-4366-a39d-c033bf9fee97",
   "metadata": {},
   "source": [
    "um die Eignung des Modells zu bewerten."
   ]
  },
  {
   "cell_type": "code",
   "execution_count": null,
   "id": "5745125c-5739-4a16-875e-ccc854e8ae9b",
   "metadata": {},
   "outputs": [],
   "source": []
  }
 ],
 "metadata": {
  "kernelspec": {
   "display_name": "Python 3 (ipykernel)",
   "language": "python",
   "name": "python3"
  },
  "language_info": {
   "codemirror_mode": {
    "name": "ipython",
    "version": 3
   },
   "file_extension": ".py",
   "mimetype": "text/x-python",
   "name": "python",
   "nbconvert_exporter": "python",
   "pygments_lexer": "ipython3",
   "version": "3.10.2"
  }
 },
 "nbformat": 4,
 "nbformat_minor": 5
}
