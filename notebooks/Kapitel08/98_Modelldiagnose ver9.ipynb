{
 "cells": [
  {
   "cell_type": "markdown",
   "id": "32d67a9a-14bd-4b3a-91c5-241f20072156",
   "metadata": {},
   "source": [
    "## Modelldiagnose\n",
    "----------------------------------------"
   ]
  },
  {
   "cell_type": "code",
   "execution_count": 1,
   "id": "c1f81630-09b5-4651-9c3d-0972852f540b",
   "metadata": {},
   "outputs": [
    {
     "name": "stdout",
     "output_type": "stream",
     "text": [
      "\n",
      "---------------------------------\n",
      "Working on the host: LAPTOP-9LETB4SJ\n",
      "\n",
      "---------------------------------\n",
      "Python version: 3.10.2 | packaged by conda-forge | (main, Mar  8 2022, 15:52:24) [MSC v.1929 64 bit (AMD64)]\n",
      "\n",
      "---------------------------------\n",
      "Python interpreter: C:\\Users\\zak\\anaconda3\\envs\\srh\\python.exe\n"
     ]
    }
   ],
   "source": [
    "import math\n",
    "import matplotlib.pyplot as plt\n",
    "import numpy as np\n",
    "import pandas as pd\n",
    "import pylab\n",
    "from random import sample\n",
    "from scipy.stats import t\n",
    "from scipy.stats import chi2\n",
    "from scipy import stats\n",
    "import scipy.stats\n",
    "#from sklearn.linear_model import LinearRegression\n",
    "import statsmodels.api as sm\n",
    "\n",
    "\n",
    "%run ../src/notebook_env.py"
   ]
  },
  {
   "cell_type": "markdown",
   "id": "81575110-9545-40f6-b044-09dbda557e8f",
   "metadata": {},
   "source": [
    "<a href=\"https://en.wikipedia.org/wiki/Regression_validation\">Regressionsvalidierung</a> oder <a href=\"https://en.wikipedia.org/wiki/Regression_diagnostic\">Regressionsdiagnose</a> ist eine Reihe von Verfahren, die zur Bewertung der numerischen Ergebnisse einer Regressionsanalyse angewandt werden. Die Verfahren umfassen Methoden der grafischen und quantitativen Analyse oder formale statistische Hypothesentests. In diesem Abschnitt konzentrieren wir uns auf die beiden wichtigsten Methoden, die grafische und die quantitative Analyse. Statistische Hypothesentests für Regressionsprobleme finden Sie im Abschnitt über *Hypothesentests*."
   ]
  },
  {
   "cell_type": "markdown",
   "id": "6c93624e-9619-44de-b8e4-2611d9731627",
   "metadata": {},
   "source": [
    "### Bestimmungskoeffizient"
   ]
  },
  {
   "cell_type": "markdown",
   "id": "efb2685f-be93-4a9f-9125-60b2db6116e0",
   "metadata": {},
   "source": [
    "Der <a href=\"https://en.wikipedia.org/wiki/Coefficient_of_determination\">Bestimmungskoeffizient</a>, auch als $R^2$ bezeichnet, ist der Anteil der Variation der beobachteten Werte, der durch die Regressionsgleichung erklärt wird. Mit anderen Worten: $R^2$ ist ein statistisches Maß dafür, wie gut die Regressionsgerade die realen Datenpunkte annähert; es ist also ein Maß für die Anpassungsfähigkeit des Modells.\n",
    "\n",
    "Die Gesamtvariation der Antwortvariablen $y$\n",
    "basiert auf der Abweichung jedes beobachteten Wertes $y_i$ vom Mittelwert $\\bar y$. Diese Größe wird als **Gesamtsumme der Quadrate, $SST$**, bezeichnet und ist gegeben durch"
   ]
  },
  {
   "cell_type": "markdown",
   "id": "643f50f9-cebe-4f33-8daa-b7da6d530623",
   "metadata": {},
   "source": [
    "$$SST = \\sum (y_i - \\bar y)^2\\text{.}$$"
   ]
  },
  {
   "cell_type": "markdown",
   "id": "326f37d2-132d-42f0-af4f-9a48bc5844f5",
   "metadata": {},
   "source": [
    "Diese Gesamtsumme der Quadrate ($SST$) kann in zwei Teile zerlegt werden: die durch die Regressionslinie erklärte Abweichung $\\hat y_i- \\bar y$ und die verbleibende unerklärte Abweichung $y_i-\\hat y_i$. Folglich wird der Anteil der Variation, der durch die Regression erklärt wird, als **Summe der Quadrate aufgrund der Regression**, $SSR$, bezeichnet und ist gegeben durch"
   ]
  },
  {
   "cell_type": "markdown",
   "id": "73882ee8-c33b-4a9d-8d5c-16addc3da510",
   "metadata": {},
   "source": [
    "$$SSR = \\sum (\\hat y_i- \\bar y)^2\\text{.}$$"
   ]
  },
  {
   "cell_type": "markdown",
   "id": "78b76c6f-e950-45b9-b15f-3f45eeccf838",
   "metadata": {},
   "source": [
    "Das Verhältnis zwischen der Summe der Quadrate aufgrund der Regression ($SSR$) und der Gesamtsumme der Quadrate ($SST$) wird als Bestimmtheitsmaß bezeichnet und mit $R^2$ angegeben."
   ]
  },
  {
   "cell_type": "markdown",
   "id": "1b518945-f630-437f-a5d3-336c266c1e53",
   "metadata": {},
   "source": [
    "$$R^2 = \\frac{SSR}{SST}$$"
   ]
  },
  {
   "cell_type": "markdown",
   "id": "03d961be-3a3b-463f-a831-2d87b267599b",
   "metadata": {},
   "source": [
    "$R^2$ liegt zwischen $0$ und $1$. Ein Wert nahe $0$ deutet darauf hin, dass die Regressionsgleichung nicht in der Lage ist, die Daten zu erklären. Ein $R^2$ von $1$ zeigt an, dass die Regressionsgerade perfekt zu den Daten passt.\n",
    "\n",
    "Der Vollständigkeit halber wird die Variation in den beobachteten Werten der Reaktionsvariablen, die nicht durch die Regression erklärt wird, als **Summe der quadrierten Fehler der Vorhersage** ($SSE$) bezeichnet und ist gegeben durch"
   ]
  },
  {
   "cell_type": "markdown",
   "id": "218bd08b-e24e-4ae3-b1ca-c9f4d3f04a02",
   "metadata": {},
   "source": [
    "$$SSE = \\sum (y_i-\\hat y_i)^2\\text{.}$$"
   ]
  },
  {
   "cell_type": "markdown",
   "id": "06bf1646-f1e8-4ab4-9b1d-16261f0664f1",
   "metadata": {},
   "source": [
    "Erinnern Sie sich, dass die $SSE$-Größe minimiert wird, um die beste Regressionslinie zur Beschreibung der Daten zu erhalten, auch bekannt als die <a href=\"https://en.wikipedia.org/wiki/Ordinary_least_squares\">Methode der gewöhnlichen kleinsten Quadrate</a> ($OLS$)."
   ]
  },
  {
   "cell_type": "markdown",
   "id": "5dd16cb3-b951-4b44-8b52-a893f2b902de",
   "metadata": {},
   "source": [
    "### Die Methode `summary()`"
   ]
  },
  {
   "cell_type": "markdown",
   "id": "6da7cc8d-dee3-43c1-bd14-0247416f9e9b",
   "metadata": {},
   "source": [
    "Eine grundlegendes Mittel für die Regressionsdiagnose in Python ist die Methode `summary()`. Die Funktion `OLS()` gibt ein Modellobjekt zurück. Dieses `OLS()`-Objekt enthält die Modelleigenschaften, die durch Anwendung der Methode `summary()` untersucht werden können.\n",
    "\n",
    "Zu Demonstrationszwecken wird dasselbe Modell wie im vorherigen Abschnitt verwendet."
   ]
  },
  {
   "cell_type": "code",
   "execution_count": 2,
   "id": "4f4893f4-ffd8-4e18-a5c6-22cf9b3f5ebb",
   "metadata": {},
   "outputs": [
    {
     "name": "stderr",
     "output_type": "stream",
     "text": [
      "C:\\Users\\zak\\anaconda3\\envs\\srh\\lib\\site-packages\\scipy\\stats\\_stats_py.py:1477: UserWarning: kurtosistest only valid for n>=20 ... continuing anyway, n=12\n",
      "  warnings.warn(\"kurtosistest only valid for n>=20 ... continuing \"\n"
     ]
    },
    {
     "data": {
      "text/html": [
       "<table class=\"simpletable\">\n",
       "<caption>OLS Regression Results</caption>\n",
       "<tr>\n",
       "  <th>Dep. Variable:</th>         <td>weight</td>      <th>  R-squared:         </th> <td>   0.921</td>\n",
       "</tr>\n",
       "<tr>\n",
       "  <th>Model:</th>                   <td>OLS</td>       <th>  Adj. R-squared:    </th> <td>   0.913</td>\n",
       "</tr>\n",
       "<tr>\n",
       "  <th>Method:</th>             <td>Least Squares</td>  <th>  F-statistic:       </th> <td>   115.9</td>\n",
       "</tr>\n",
       "<tr>\n",
       "  <th>Date:</th>             <td>Thu, 19 May 2022</td> <th>  Prob (F-statistic):</th> <td>8.05e-07</td>\n",
       "</tr>\n",
       "<tr>\n",
       "  <th>Time:</th>                 <td>19:26:29</td>     <th>  Log-Likelihood:    </th> <td> -22.602</td>\n",
       "</tr>\n",
       "<tr>\n",
       "  <th>No. Observations:</th>      <td>    12</td>      <th>  AIC:               </th> <td>   49.20</td>\n",
       "</tr>\n",
       "<tr>\n",
       "  <th>Df Residuals:</th>          <td>    10</td>      <th>  BIC:               </th> <td>   50.17</td>\n",
       "</tr>\n",
       "<tr>\n",
       "  <th>Df Model:</th>              <td>     1</td>      <th>                     </th>     <td> </td>   \n",
       "</tr>\n",
       "<tr>\n",
       "  <th>Covariance Type:</th>      <td>nonrobust</td>    <th>                     </th>     <td> </td>   \n",
       "</tr>\n",
       "</table>\n",
       "<table class=\"simpletable\">\n",
       "<tr>\n",
       "     <td></td>       <th>coef</th>     <th>std err</th>      <th>t</th>      <th>P>|t|</th>  <th>[0.025</th>    <th>0.975]</th>  \n",
       "</tr>\n",
       "<tr>\n",
       "  <th>const</th>  <td>  -39.4432</td> <td>   10.057</td> <td>   -3.922</td> <td> 0.003</td> <td>  -61.851</td> <td>  -17.036</td>\n",
       "</tr>\n",
       "<tr>\n",
       "  <th>height</th> <td>    0.6508</td> <td>    0.060</td> <td>   10.766</td> <td> 0.000</td> <td>    0.516</td> <td>    0.785</td>\n",
       "</tr>\n",
       "</table>\n",
       "<table class=\"simpletable\">\n",
       "<tr>\n",
       "  <th>Omnibus:</th>       <td> 2.161</td> <th>  Durbin-Watson:     </th> <td>   1.442</td>\n",
       "</tr>\n",
       "<tr>\n",
       "  <th>Prob(Omnibus):</th> <td> 0.339</td> <th>  Jarque-Bera (JB):  </th> <td>   0.923</td>\n",
       "</tr>\n",
       "<tr>\n",
       "  <th>Skew:</th>          <td> 0.110</td> <th>  Prob(JB):          </th> <td>   0.630</td>\n",
       "</tr>\n",
       "<tr>\n",
       "  <th>Kurtosis:</th>      <td> 1.659</td> <th>  Cond. No.          </th> <td>3.33e+03</td>\n",
       "</tr>\n",
       "</table><br/><br/>Notes:<br/>[1] Standard Errors assume that the covariance matrix of the errors is correctly specified.<br/>[2] The condition number is large, 3.33e+03. This might indicate that there are<br/>strong multicollinearity or other numerical problems."
      ],
      "text/plain": [
       "<class 'statsmodels.iolib.summary.Summary'>\n",
       "\"\"\"\n",
       "                            OLS Regression Results                            \n",
       "==============================================================================\n",
       "Dep. Variable:                 weight   R-squared:                       0.921\n",
       "Model:                            OLS   Adj. R-squared:                  0.913\n",
       "Method:                 Least Squares   F-statistic:                     115.9\n",
       "Date:                Thu, 19 May 2022   Prob (F-statistic):           8.05e-07\n",
       "Time:                        19:26:29   Log-Likelihood:                -22.602\n",
       "No. Observations:                  12   AIC:                             49.20\n",
       "Df Residuals:                      10   BIC:                             50.17\n",
       "Df Model:                           1                                         \n",
       "Covariance Type:            nonrobust                                         \n",
       "==============================================================================\n",
       "                 coef    std err          t      P>|t|      [0.025      0.975]\n",
       "------------------------------------------------------------------------------\n",
       "const        -39.4432     10.057     -3.922      0.003     -61.851     -17.036\n",
       "height         0.6508      0.060     10.766      0.000       0.516       0.785\n",
       "==============================================================================\n",
       "Omnibus:                        2.161   Durbin-Watson:                   1.442\n",
       "Prob(Omnibus):                  0.339   Jarque-Bera (JB):                0.923\n",
       "Skew:                           0.110   Prob(JB):                        0.630\n",
       "Kurtosis:                       1.659   Cond. No.                     3.33e+03\n",
       "==============================================================================\n",
       "\n",
       "Notes:\n",
       "[1] Standard Errors assume that the covariance matrix of the errors is correctly specified.\n",
       "[2] The condition number is large, 3.33e+03. This might indicate that there are\n",
       "strong multicollinearity or other numerical problems.\n",
       "\"\"\""
      ]
     },
     "execution_count": 2,
     "metadata": {},
     "output_type": "execute_result"
    }
   ],
   "source": [
    "# Lese Datei students.csv als Dataframe ein; Indexspalte wird übersprungen\n",
    "students = pd.read_csv('students.csv', index_col=0)\n",
    "\n",
    "n = 12\n",
    "\n",
    "sample_idx = students.sample(n, random_state=2)\n",
    "data = pd.DataFrame(sample_idx['height'])\n",
    "data['weight'] = sample_idx['weight']\n",
    "\n",
    "x = data['height']\n",
    "y = data['weight']\n",
    "\n",
    "x = sm.add_constant(x)\n",
    "model = sm.OLS(y, x).fit()\n",
    "predictions = model.predict(x) # make the predictions by the model\n",
    "\n",
    "# Print out the statistics\n",
    "model.summary()"
   ]
  },
  {
   "cell_type": "markdown",
   "id": "81dc17b5-3938-46b3-8239-f78029d76486",
   "metadata": {},
   "source": [
    "- Die Ausgabe der Methode `summary()` beginnt mit einer Wiederholung der abhängigen Variable und der angewandten Methode (in diesem Fall $OLS$).\n",
    "\n",
    "- Die nächste Zeile zeigt $R^2$, den quadrierten <a href=\"https://en.wikipedia.org/wiki/Pearson_correlation_coefficient\">Pearson Korrelationskoeffizienten</a>, auch bekannt als <a href=\"https://en.wikipedia.org/wiki/Coefficient_of_determination\">Bestimmtheitskoeffizient</a> und das angepasste $R^2$, ein statistisches Maß, das für die MerkmalsauswahBestimmtheitskoeffizientt werden kann.\n",
    "\n",
    "- Die darauf folgenden Zeilen zeigen die $F$-Statistik, die Anzahl der Beobachtungen (Datenpunkte) und Freiheitsgrade.\n",
    "\n",
    "- In den nächsten Zeilen werden der Regressionskoeffizient (unter `height`) und der Achsenabschnitt (unter `const`) angegeben, außerdem für jeden von ihnen der Standardfehler, die $t$-Werte und die $p$-Werte.\n"
   ]
  },
  {
   "cell_type": "markdown",
   "id": "d0df92c5-506f-4575-b7a4-a5d832e58a44",
   "metadata": {},
   "source": [
    "### Diagnostische Plots"
   ]
  },
  {
   "cell_type": "markdown",
   "id": "f1ee32a2-0d48-48b9-a691-f4283812004c",
   "metadata": {},
   "source": [
    "Es ist wichtig zu wissen, dass Sie eine lineare Regressionsanalyse mit dem Softwarepaket Python oder einer anderen Statistiksoftware durchführen können, die eine Reihe von Zahlen, einschließlich eines $p$-Werts, ergibt, so dass Sie sofort feststellen können, ob die Ergebnisse signifikant waren (oder nicht). Sind wir mit der Angabe der Signifikanz der Ergebnisse fertig?\n",
    "\n",
    "Nehmen wir einen sehr berühmten Datensatz, das so genannte <a href=\"https://en.wikipedia.org/wiki/Anscombe's_quartet\">Anscombe-Quartett</a>. Das Anscombe-Quartett besteht aus vier Datensätzen und hat die folgende Form:"
   ]
  },
  {
   "cell_type": "markdown",
   "id": "e327780b-98a0-459e-9ab6-a6583d4eee15",
   "metadata": {},
   "source": [
    "|||||||||\n",
    "|--- |--- |--- |--- |--- |--- |--- |--- |\n",
    "|x1|y1|x2|y2|x3|y3|x4|y4|\n",
    "|10 |8,04|10|9,14|10|7,46|8|6,58|\n",
    "|8|6,95|8|8,14|8|6,77|8|5,76|\n",
    "|13|7,58|13|8,74|13|12,74|8|7,71|\n",
    "|9|8,81|9|8,77|9|7,11|8|8,84|\n",
    "|11|8,33|11|9,26|11|7,81|8|8,47|\n",
    "|14|9,96|14|8,1|14|8,84|8|7,04|\n",
    "|6|7,24|6|6,13|6|6,08|8|5,25|\n",
    "|4|4,26|4|3,1|4|5,39|19|12,5|\n",
    "|12|10,84|12|9,13|12|8,15|8|5,56|\n",
    "|7|4,82|7|7,26|7|6,42|8|7,91|\n",
    "|5|5,68|5|4,74|5|5,73|8 |6,89|"
   ]
  },
  {
   "cell_type": "markdown",
   "id": "f420b812-c125-4419-a99e-037a0d961405",
   "metadata": {},
   "source": [
    "Das Anscombe-Quartett wird oft verwendet um die Unterschiede zwischen grafischer und statistischer Auswertung hervorzuheben. Wir geben den Datensatz in Python ein."
   ]
  },
  {
   "cell_type": "code",
   "execution_count": 3,
   "id": "1da9e465-51f0-451c-b508-27ccc347b971",
   "metadata": {},
   "outputs": [],
   "source": [
    "x1 = [10, 8, 13, 9, 11, 14, 6, 4, 12, 7, 5]\n",
    "y1 = [8.04, 6.95, 7.58, 8.81, 8.33, 9.96, 7.24, 4.26, 10.84, 4.82, 5.68]\n",
    "\n",
    "x2 = [10, 8, 13, 9, 11, 14, 6, 4, 12, 7, 5]\n",
    "y2 = [9.14, 8.14, 8.74, 8.77, 9.26, 8.10, 6.13, 3.10, 9.13, 7.26, 4.74]\n",
    "\n",
    "x3 = [10, 8, 13, 9, 11, 14, 6, 4, 12, 7, 5]\n",
    "y3 = [7.46, 6.77, 12.74, 7.11, 7.81, 8.84, 6.08, 5.39, 8.15, 6.42, 5.73]\n",
    "\n",
    "x4 = [8, 8, 8, 8, 8, 8, 8, 19, 8, 8, 8]\n",
    "y4 = [6.58, 5.76, 7.71, 8.84, 8.47, 7.04, 5.25, 12.50, 5.56, 7.91, 6.89]"
   ]
  },
  {
   "cell_type": "markdown",
   "id": "cdfb5740-fe5d-43d1-b73f-2371b6396b72",
   "metadata": {},
   "source": [
    "Nun berechnen wir einige deskriptive statistische Maße für jedes der vier $(x,y)$-Paare. Zunächst berechnen wir den Mittelwert für jedes einzelne $x$ und $y$ im Datensatz."
   ]
  },
  {
   "cell_type": "code",
   "execution_count": 4,
   "id": "85c9173d-b549-4575-a3e1-7edaad10c641",
   "metadata": {},
   "outputs": [
    {
     "name": "stdout",
     "output_type": "stream",
     "text": [
      "mean x1: 9.0 | mean y1: 7.501\n",
      "mean x2: 9.0 | mean y2: 7.501\n",
      "mean x3: 9.0 | mean y3: 7.5\n",
      "mean x4: 9.0 | mean y4: 7.501\n"
     ]
    }
   ],
   "source": [
    "print(f\"mean x1: {round(np.mean(x1),3)} | mean y1: {round(np.mean(y1),3)}\")\n",
    "print(f\"mean x2: {round(np.mean(x2),3)} | mean y2: {round(np.mean(y2),3)}\")\n",
    "print(f\"mean x3: {round(np.mean(x3),3)} | mean y3: {round(np.mean(y3),3)}\")\n",
    "print(f\"mean x4: {round(np.mean(x4),3)} | mean y4: {round(np.mean(y4),3)}\")"
   ]
  },
  {
   "cell_type": "markdown",
   "id": "56ba74ac-dcdd-4bca-aeca-831ecd6104b5",
   "metadata": {},
   "source": [
    "Die Werte stimmen entweder perfekt überein oder liegen sehr nahe beieinander!!\n",
    "\n",
    "Jetzt berechnen wir die Varianz jedes $(x,y)$ Paares."
   ]
  },
  {
   "cell_type": "code",
   "execution_count": 5,
   "id": "d1b0dddf-d70b-46fd-892d-c2cfcba38c7c",
   "metadata": {},
   "outputs": [
    {
     "name": "stdout",
     "output_type": "stream",
     "text": [
      "var x 1 : 10.0\n",
      "var y 1 : 3.7520628099173554\n",
      "var x 2 : 10.0\n",
      "var y 2 : 3.752390082644628\n",
      "var x 3 : 10.0\n",
      "var y 3 : 3.747836363636364\n",
      "var x 4 : 10.0\n",
      "var y 4 : 3.7484082644628103\n"
     ]
    }
   ],
   "source": [
    "print('var x 1 :',np.var(x1))\n",
    "print('var y 1 :',np.var(y1))\n",
    "print('var x 2 :',np.var(x2))\n",
    "print('var y 2 :',np.var(y2))\n",
    "print('var x 3 :',np.var(x3))\n",
    "print('var y 3 :',np.var(y3))\n",
    "print('var x 4 :',np.var(x4))\n",
    "print('var y 4 :',np.var(y4))"
   ]
  },
  {
   "cell_type": "markdown",
   "id": "a888567e-a72f-435f-8fbd-9f24c7d774e4",
   "metadata": {},
   "source": [
    "Sie sind zwar nicht exakt gleich, aber definitiv sehr nahe beieinander. Schließlich erstellen wir mit der Funktion `linregress()` ein lineares Modell für jede Teilmenge und berechnen die Koeffizienten des Modells und $R^2$, das Bestimmtheitsmaß."
   ]
  },
  {
   "cell_type": "code",
   "execution_count": 6,
   "id": "5999caf4-a18f-4625-a6f7-ae378879dfd4",
   "metadata": {},
   "outputs": [
    {
     "name": "stdout",
     "output_type": "stream",
     "text": [
      "I - Equation: 0.5x + 3.0, R : 0.8164205163448399, P value: 0.0, Std error: 0.12\n",
      "II - Equation: 0.5x + 3.0, R : 0.816236506000243, P value: 0.0, Std error: 0.12\n",
      "III - Equation: 0.5x + 3.0, R : 0.8162867394895982, P value: 0.0, Std error: 0.12\n",
      "IV - Equation: 0.5x + 3.0, R : 0.816521436888503, P value: 0.0, Std error: 0.12\n"
     ]
    }
   ],
   "source": [
    "slope1, intercept1, r_value1, p_value1, std_err1 = stats.linregress(x1, y1)\n",
    "slope2, intercept2, r_value2, p_value2, std_err2 = stats.linregress(x2, y2)\n",
    "slope3, intercept3, r_value3, p_value3, std_err3 = stats.linregress(x3, y3)\n",
    "slope4, intercept4, r_value4, p_value4, std_err4 = stats.linregress(x4, y4)\n",
    "\n",
    "print(f\"I - Equation: {round(slope1,2)}x + {round(intercept1,2)}, R : {r_value1}, P value: {round(p_value1,2)}, Std error: {round(std_err1,2)}\")\n",
    "print(f\"II - Equation: {round(slope2,2)}x + {round(intercept2,2)}, R : {r_value2}, P value: {round(p_value2,2)}, Std error: {round(std_err2,2)}\")\n",
    "print(f\"III - Equation: {round(slope3,2)}x + {round(intercept3,2)}, R : {r_value3}, P value: {round(p_value3,2)}, Std error: {round(std_err3,2)}\")\n",
    "print(f\"IV - Equation: {round(slope4,2)}x + {round(intercept4,2)}, R : {r_value4}, P value: {round(p_value4,2)}, Std error: {round(std_err4,2)}\")"
   ]
  },
  {
   "cell_type": "markdown",
   "id": "07aec6e4-b7ce-4215-9a41-914467592bf9",
   "metadata": {},
   "source": [
    "Erstaunlich! Sie sind fast identisch! Und jetzt $R^2$:"
   ]
  },
  {
   "cell_type": "code",
   "execution_count": 7,
   "id": "4465baf3-6378-4da1-a40e-cd6ab11a6306",
   "metadata": {},
   "outputs": [
    {
     "name": "stdout",
     "output_type": "stream",
     "text": [
      "r^2 1 : 0.666542459508775\n",
      "r^2 2 : 0.6662420337274847\n",
      "r^2 3 : 0.6663240410665591\n",
      "r^2 4 : 0.6667072568984656\n"
     ]
    }
   ],
   "source": [
    "print('r^2 1 :',r_value1**2)\n",
    "print('r^2 2 :',r_value2**2)\n",
    "print('r^2 3 :',r_value3**2)\n",
    "print('r^2 4 :',r_value4**2)"
   ]
  },
  {
   "cell_type": "markdown",
   "id": "be7e40a8-0c2a-44b5-8583-2c197d1c1b59",
   "metadata": {},
   "source": [
    "Wow, was für eine Analyse! Wir haben eine Menge verschiedener statistischer Methoden auf die vier Datensätze angewandt, und ehrlich gesagt, sie sehen einander sehr ähnlich.\n",
    "\n",
    "Sind wir jetzt mit unserer Analyse fertig? Nein, noch nicht! Egal was wir tun, wir sollten immer überprüfen, ob das Modell für die Daten gut funktioniert. Eine einfache Möglichkeit, dies zu tun, ist die Visualisierung der Daten. Lassen Sie uns den Anscombe-Datensatz einschließlich der Regressionslinie grafisch darstellen."
   ]
  },
  {
   "cell_type": "code",
   "execution_count": 8,
   "id": "395217b3-8e21-47bc-8b3d-26462263c62e",
   "metadata": {},
   "outputs": [
    {
     "data": {
      "image/png": "[encoded data removed]",
      "text/plain": [
       "<Figure size 432x288 with 4 Axes>"
      ]
     },
     "metadata": {
      "needs_background": "light"
     },
     "output_type": "display_data"
    }
   ],
   "source": [
    "x1 = [10, 8, 13, 9, 11, 14, 6, 4, 12, 7, 5]\n",
    "y1 = [8.04, 6.95, 7.58, 8.81, 8.33, 9.96, 7.24, 4.26, 10.84, 4.82, 5.68]\n",
    "p1, p0 = np.polyfit(x1, y1, deg=1)  # Linear regression for I\n",
    "\n",
    "x2 = [10, 8, 13, 9, 11, 14, 6, 4, 12, 7, 5]\n",
    "y2 = [9.14, 8.14, 8.74, 8.77, 9.26, 8.10, 6.13, 3.10, 9.13, 7.26, 4.74]\n",
    "p3, p2 = np.polyfit(x2, y2, deg=1)  # Linear regression for II\n",
    "\n",
    "x3 = [10, 8, 13, 9, 11, 14, 6, 4, 12, 7, 5]\n",
    "y3 = [7.46, 6.77, 12.74, 7.11, 7.81, 8.84, 6.08, 5.39, 8.15, 6.42, 5.73]\n",
    "p5, p4 = np.polyfit(x3, y3, deg=1)  # Linear regression for III\n",
    "\n",
    "x4 = [8, 8, 8, 8, 8, 8, 8, 19, 8, 8, 8]\n",
    "y4 = [6.58, 5.76, 7.71, 8.84, 8.47, 7.04, 5.25, 12.50, 5.56, 7.91, 6.89]\n",
    "p7, p6 = np.polyfit(x4, y4, deg=1)  # Linear regression for IV\n",
    "\n",
    "# Create the figure and the axes\n",
    "fig, axs = plt.subplots(2, 2)\n",
    "\n",
    "# First scatter plot I\n",
    "axs[0, 0].scatter(x1, y1, c = 'blue')\n",
    "axs[0, 0].set_title(\"I\", loc='center',fontweight='bold')\n",
    "axs[0, 0].axline(xy1=(0, p0), slope=p1, lw=2,color='lightcoral',label=f'y={round(p1,2)}x+{round(p0,2)}')\n",
    "axs[0, 0].legend()\n",
    "axs[0, 0].set_ylim(0,14)\n",
    "axs[0, 0].set_xlim(0,20)\n",
    "\n",
    "# Second scatter plot II\n",
    "axs[0, 1].scatter(x2, y2, c = 'green')\n",
    "axs[0, 1].set_title(\"II\", loc='center',fontweight='bold')\n",
    "axs[0, 1].axline(xy1=(0, p2), slope=p3, lw=2,color='lightcoral',label=f'y={round(p3,2)}x+{round(p2,2)}')\n",
    "axs[0, 1].legend()\n",
    "axs[0, 1].set_ylim(0,14)\n",
    "axs[0, 1].set_xlim(0,20)\n",
    "\n",
    "# Third scatter plot III\n",
    "axs[1, 0].scatter(x3, y3, c = 'purple')\n",
    "axs[1, 0].set_title(\"III\", loc='center',fontweight='bold')\n",
    "axs[1, 0].axline(xy1=(0, p4), slope=p5, lw=2,color='lightcoral',label=f'y={round(p5,2)}x+{round(p4,2)}')\n",
    "axs[1, 0].legend()\n",
    "axs[1, 0].set_ylim(0,14)\n",
    "axs[1, 0].set_xlim(0,20)\n",
    "\n",
    "# Fourth scatter plot IV\n",
    "axs[1, 1].scatter(x4, y4, c = '#FFD700')\n",
    "axs[1, 1].set_title(\"IV\", loc='center',fontweight='bold')\n",
    "axs[1, 1].axline(xy1=(0, p6), slope=p7, lw=2,color='lightcoral',label=f'y={round(p7,2)}x+{round(p6,2)}')\n",
    "axs[1, 1].legend()\n",
    "axs[1, 1].set_ylim(0,14)\n",
    "axs[1, 1].set_xlim(0,20)\n",
    "\n",
    "plt.tight_layout()"
   ]
  },
  {
   "cell_type": "markdown",
   "id": "30185e30-ccda-4ae8-8457-a2607da6a8da",
   "metadata": {
    "tags": []
   },
   "source": [
    "Was für eine Überraschung! Das wichtigste Ergebnis der Übung ist die Erkenntnis, dass wir auf viele verschiedene Arten prüfen müssen, ob ein Modell für Daten gut funktioniert. Wir achten auf Regressionsergebnisse wie Steigungskoeffizienten, $p$-Werte oder $R^2$, die uns sagen, wie gut ein Modell die gegebenen Daten darstellt. Das ist jedoch nicht die ganze Geschichte. Wir müssen auch visuelle Diagnosen anwenden. Die visuelle Inspektion hilft bei der Bewertung, ob die Annahmen der linearen Regression erfüllt sind, oder bei der Ermittlung von <a href=\"https://en.wikipedia.org/wiki/Outlier\">Ausreißern</a> und/oder <a href=\"https://en.wikipedia.org/wiki/Influential_observation\">statistisch bedeutsame Beobachtungen</a> und so genannten <a href=\"https://www.geo.fu-berlin.de/en/v/soga/Basics-of-statistics/Linear-Regression/Simple-Linear-Regression/Model-Diagnostic/index.html\">Hebelpunkten</a>, die das numerische Ergebnis der Regressionsanalyse beeinflussen."
   ]
  },
  {
   "cell_type": "markdown",
   "id": "f2b0781e-f826-45de-a648-c58cab6db0f9",
   "metadata": {},
   "source": [
    "### Analyse der Residuen"
   ]
  },
  {
   "cell_type": "markdown",
   "id": "9ffea371-cac0-4ad3-8149-a9763357c716",
   "metadata": {},
   "source": [
    "Ein <a href=\"https://en.wikipedia.org/wiki/Errors_and_residuals\">Residuum</a> eines beobachteten Wertes ist die Differenz zwischen dem beobachteten Wert und dem geschätzten Wert $(y_i- \\hat y_i)$. Es handelt sich um die Residuen, die nach der Anpassung eines Modells an die Daten übrig bleiben. Die **Summe der quadrierten Vorhersagefehler** ($SSE$), auch bekannt als die **Summe der quadrierten Residuen** oder die **Fehlersumme der Quadrate**, ist ein Indikator dafür, wie gut ein Modell die Daten darstellt.\n",
    "\n",
    "Wenn die absoluten Residuen, definiert für die Beobachtung $x_i$ als $e_i=y_i- \\hat y_i$ definiert sind, ungewöhnlich groß sind, kann es sein, dass die Beobachtung aus einer anderen Grundgesamtheit stammt oder dass bei der Durchführung oder Aufzeichnung der Beobachtung ein Fehler aufgetreten ist."
   ]
  },
  {
   "cell_type": "markdown",
   "id": "2cf053ff-4330-44fa-a6ff-cdccd5b183ac",
   "metadata": {},
   "source": [
    "![Alt-Text](98_anscombe.png)"
   ]
  },
  {
   "cell_type": "markdown",
   "id": "9c6a4f73-5db2-4817-a90e-5964dc4de435",
   "metadata": {},
   "source": [
    "Die beiden obigen Diagramme zeigen, dass ein Datenpunkt in Anscombes Datensatz Nr. $3$ (rechtes Diagramm) ein ungewöhnlich großes Residuum aufweist. Ein solcher Datenpunkt erfordert besondere Aufmerksamkeit, da er die Regressionsanalyse beeinflusst. Es gibt keine allgemeingültige Regel, wie mit Ausreißern umzugehen ist, aber je nach den Fachkenntnissen des Forschers kann es Fälle geben, in denen man beschließt, einen solchen Ausreißer aus der Analyse auszuschließen.\n",
    "\n",
    "Darüber hinaus können wir die Residuen analysieren, um zu prüfen, ob die Annahmen der linearen Regression erfüllt sind. Regressionsresiduen sollten annähernd normalverteilt sein, d. h. die Regression sollte die Struktur erklären, und was übrig bleibt, sollte nur Rauschen sein, das durch Messfehler oder viele kleine unkorrelierte Faktoren verursacht wird. Die Normalität der Residuen kann grafisch überprüft werden, indem man die Residuen gegen die Werte der Prädiktorvariablen aufträgt. In einem solchen **Residuen-Plot** sollten die Residuen zufällig um $0$ streuen\n",
    "und die Variation um $0$ sollte gleich sein.\n",
    "\n",
    "Vor der Darstellung der Residuen ist es üblich, die Residuen zu standardisieren. Python bietet die Möglichkeit mit `get_influence()` auf die standardisierten Residuen zuzugreifen (`influence = model.get_influence()\n",
    "` und `standardized_residuals = influence.resid_studentized_internal`) und alternativ kann man mit `stud_res = model.outlier_test()` die <a href=\"https://en.wikipedia.org/wiki/Studentized_residual\">studentisierten Residuen</a> berechnen.\n",
    "\n",
    "Wenn die Annahmen für Regressionsschlussfolgerungen erfüllt sind, sollten die folgenden zwei Bedingungen gelten (Weiss 2010):\n",
    "- Eine Darstellung der Residuen (Residuenplot) gegen die Werte der Prädiktorvariablen sollte ungefähr in ein horizontales Band fallen, das um die $x$-Achse zentriert und symmetrisch ist.\n",
    "\n",
    "- Eine Normalwahrscheinlichkeitsdarstellung der Residuen sollte in etwa linear sein."
   ]
  },
  {
   "cell_type": "markdown",
   "id": "b8a89574-35a1-4dc2-9d2a-3dd2e6b9cda1",
   "metadata": {},
   "source": [
    "![Alt-Text](98_anscombe2.png)"
   ]
  },
  {
   "cell_type": "markdown",
   "id": "4e0ee0e7-0d6f-42ee-b6c1-a2cebc021c5f",
   "metadata": {},
   "source": [
    "Nur in der obersten Grafik sind die Residuen relativ gut um den Nullpunkt verteilt, während dies in den beiden unteren Grafiken nicht der Fall ist, was darauf hindeutet, dass die linearen Modellannahmen für dieses Modell nicht erfüllt sind."
   ]
  },
  {
   "cell_type": "markdown",
   "id": "aeb92bfa-7b7a-4ac5-8ba5-46dae5f850d9",
   "metadata": {},
   "source": [
    "![Alt-Text](98_anscombe3.png)"
   ]
  },
  {
   "cell_type": "markdown",
   "id": "d6d65218-2ba6-4562-b3ac-732b23436f63",
   "metadata": {},
   "source": [
    "Die Normalwahrscheinlichkeitsdiagramme, die oft als <a href=\"https://en.wikipedia.org/wiki/Q%E2%80%93Q_plot\">Q-Q-Diagramme</a> bezeichnet werden, zeigen, dass nur im linken Diagramm die Datenpunkte in etwa auf eine gerade Linie fallen. Dies ist bei den anderen Diagrammen nicht der Fall, was darauf hindeutet, dass die Annahmen des linearen Modells nicht erfüllt sind."
   ]
  },
  {
   "cell_type": "markdown",
   "id": "1fdaca96-cb3d-4d87-b0e1-3a460ed3e248",
   "metadata": {},
   "source": [
    "### Ausreißer und relevante Punkte"
   ]
  },
  {
   "cell_type": "markdown",
   "id": "ddbb5f83-6e88-417b-8dd4-d246ca13ae4d",
   "metadata": {},
   "source": [
    "**Ausreißer** sind Punkte, die aus der Wolke der Datenpunkte herausfallen. Ausreißer, die horizontal von der Mitte der Wolke wegfallen und die Neigung der Regressionslinie nicht beeinflussen, werden als **Leverage-Punkte** (Hebelpunkte) bezeichnet. Ausreißer, die die Steigung der Regressionsgeraden tatsächlich beeinflussen, werden als **relevante Punkte** bezeichnet, bei denen es sich in der Regel um hohe Leverage-Punkte handelt.\n",
    "\n",
    "Wir wollen einen Beispielsdatensatz erstellen, um das Konzept der statistisch bedeutsamen Beobachtungen zu untersuchen."
   ]
  },
  {
   "cell_type": "code",
   "execution_count": 9,
   "id": "3f8f8147-df5d-47bc-89f8-a093fb3fd49a",
   "metadata": {},
   "outputs": [
    {
     "name": "stdout",
     "output_type": "stream",
     "text": [
      "model1\n",
      "const    7.581154\n",
      "0        1.948272\n",
      "dtype: float64\n",
      "model2_inf\n",
      "const   -0.675352\n",
      "0        4.100405\n",
      "dtype: float64\n",
      "model3_lev\n",
      "const    10.559320\n",
      "0         1.913944\n",
      "dtype: float64\n",
      "model4_all\n",
      "const    2.553163\n",
      "0        3.999667\n",
      "dtype: float64\n"
     ]
    },
    {
     "data": {
      "text/plain": [
       "[<matplotlib.lines.Line2D at 0x258433d5990>]"
      ]
     },
     "execution_count": 9,
     "metadata": {},
     "output_type": "execute_result"
    },
    {
     "data": {
      "image/png": "[encoded data removed]",
      "text/plain": [
       "<Figure size 432x288 with 1 Axes>"
      ]
     },
     "metadata": {
      "needs_background": "light"
     },
     "output_type": "display_data"
    }
   ],
   "source": [
    "# random data generation\n",
    "n = 100\n",
    "beta0 = 5\n",
    "beta1 = 2.5\n",
    "\n",
    "\n",
    "np.random.seed(42)\n",
    "\n",
    "x = np.random.uniform(0,10,n) \n",
    "\n",
    "y = beta0 + beta1*x + np.random.normal(0,12,n) # add random noise\n",
    "\n",
    "# generate leverage points\n",
    "n_lev = math.floor(n*0.05)\n",
    "\n",
    "x_lev = np.random.uniform( 0, 8,n_lev)\n",
    "\n",
    "y_lev = beta0**1.5 + beta1**3*x_lev + np.random.normal( 0, 12, n_lev) # add random noise\n",
    "\n",
    "# generate influential points\n",
    "n_inf = math.floor(n*0.02)\n",
    "\n",
    "x_inf = np.random.uniform( 10, 15, n_inf)\n",
    "\n",
    "y_inf = beta0 + beta1**2.5*x_inf + np.random.normal(0, 12, n_inf) # add random noise\n",
    "\n",
    "# concatenate data sets\n",
    "x_out = pd.DataFrame(x)\n",
    "y_out = pd.DataFrame(y)\n",
    "\n",
    "# influential points\n",
    "x_inf_df = pd.DataFrame(x_inf)\n",
    "x_out_inf = pd.concat([x_out, x_inf_df])\n",
    "y_inf_df = pd.DataFrame(y_inf)\n",
    "y_out_inf = pd.concat([y_out, y_inf_df])\n",
    "\n",
    "# leverage points\n",
    "x_lev_df = pd.DataFrame(x_lev)\n",
    "x_out_lev = pd.concat([x_out, x_lev_df])\n",
    "y_lev_df = pd.DataFrame(y_lev)\n",
    "y_out_lev = pd.concat([y_out, y_lev_df])\n",
    "\n",
    "# all points\n",
    "x_out_all = pd.DataFrame(x)\n",
    "y_out_all = pd.DataFrame(y)\n",
    "\n",
    "x_out_all = pd.concat([x_out_all, x_inf_df])\n",
    "x_out_all = pd.concat([x_out_all, x_lev_df])\n",
    "x_out_all2 = x_out_all\n",
    "\n",
    "y_out_all = pd.concat([y_out_all, y_inf_df])\n",
    "y_out_all = pd.concat([y_out_all, y_lev_df])\n",
    "\n",
    "\n",
    "\n",
    "x_out = sm.add_constant(x_out)\n",
    "model1 = sm.OLS(y_out, x_out).fit()\n",
    "\n",
    "x_out_inf = sm.add_constant(x_out_inf)\n",
    "model2 = sm.OLS(y_out_inf, x_out_inf).fit()\n",
    "\n",
    "x_out_lev = sm.add_constant(x_out_lev)\n",
    "model3 = sm.OLS(y_out_lev, x_out_lev).fit()\n",
    "\n",
    "x_out_all = sm.add_constant(x_out_all)\n",
    "model4 = sm.OLS(y_out_all, x_out_all).fit()\n",
    "\n",
    "# Print out the statistics\n",
    "print('model1')\n",
    "print(model1.params)\n",
    "print('model2_inf')\n",
    "print(model2.params)\n",
    "print('model3_lev')\n",
    "print(model3.params)\n",
    "print('model4_all')\n",
    "print(model4.params)\n",
    "\n",
    "\n",
    "\n",
    "plt.scatter(x_inf,y_inf,color='green')\n",
    "plt.scatter(x_lev,y_lev,color='blue')\n",
    "plt.scatter(x,y,color='k')\n",
    "plt.plot([0,15],[7.581154 , 36.805234],color = 'k',alpha = 0.5,linestyle='--')\n",
    "plt.plot([0,15],[-0.675352 , 61.506075],color = 'green',alpha = 0.5,linestyle='--')\n",
    "plt.plot([0,15],[10.559320 , 39.26848],color = 'blue',alpha = 0.5,linestyle='--')\n",
    "plt.plot([0,15],[2.553163 , 62.548168],color = 'red',alpha = 0.8)"
   ]
  },
  {
   "cell_type": "markdown",
   "id": "7a18fca3-6282-474b-aede-169cc9cbc37d",
   "metadata": {},
   "source": [
    "Die obige Abbildung zeigt deutlich die Auswirkungen der verschiedenen Arten von Ausreißern. Die schwarze gestrichelte Linie zeigt die Regressionslinie ohne Ausreißer, die blaue gestrichelte Linie zeigt die Regressionslinie, wenn die blauen Hebelpunkte enthalten sind, die grüne gestrichelte Linie zeigt die Regressionslinie, wenn die grünen relevanten Punkte enthalten sind, und die rote Linie zeigt die endgültige Regressionslinie, wenn alle Daten enthalten sind. Offensichtlich haben die grünen Punkte den größten Einfluss auf die Steigung der Regressionslinie!"
   ]
  },
  {
   "cell_type": "markdown",
   "id": "8e21942e-35be-4810-9a13-a8bf06bcc80c",
   "metadata": {},
   "source": [
    "### Leverage"
   ]
  },
  {
   "cell_type": "markdown",
   "id": "c8ed6a58-8da3-42cc-8984-a288995fd745",
   "metadata": {},
   "source": [
    "Die <a href=\"https://en.wikipedia.org/wiki/Leverage_(statistics)\">Leverage</a> einer Beobachtung zeigt an, ob sie das Regressionsmodell beeinflussen kann. Diese Beobachtungen sind nicht notwendigerweise ein Fehler, aber sie sollten identifiziert und überprüft werden. Die Leverage wird durch den **$H$-Wert** gemessen, der den Gesamteinfluss einer einzelnen Beobachtung auf die Modellvorhersagen misst (Dalgaard 2008). Der $H$-Wert nimmt Werte zwischen $0$ und $1$ an. Ein Punkt mit einer Hebelwirkung von Null hat keinen Einfluss auf das Regressionsmodell. Je höher der $H$-Wert ist, desto größer ist der Einfluss des betreffenden Punktes auf das Regressionsmodell.\n",
    "\n",
    "In Python wird der Leverage-Wert mit den Methoden `get_influence().summary_frame()` berechnet und in einem Dataframe zusammengefasst. Die Methode gibt den $H$-Wert für jeden einzelnen Datenpunkt zurück. Werte deren Leverage mehr als $3$-mal grösser ist als die durchschnittlichen Leverage ($\\bar h$) werden als Influential Points betrachtet. Die durchschnittlichen Leverage ist gegeben durch $\\bar h=(k+1)/2$, wobei $k$ die Anzahl der Koeffizienten im Modell und $n$ die Anzahl der Datenpunkte ist.\n",
    "\n",
    "Untersuchen wir den obigen Beispielsdatensatz mit der Methode `get_influence()`. Wir suchen die einflussreichsten Punkte und plotten die $H$-Werte gegen die Beobachtungen."
   ]
  },
  {
   "cell_type": "code",
   "execution_count": 10,
   "id": "851ab5bb-5d63-4aef-83ad-54e5d3fd37f2",
   "metadata": {},
   "outputs": [],
   "source": [
    "#create instance of influence\n",
    "influence = model4.get_influence()\n",
    "\n",
    "#leverage (hat values)\n",
    "leverage = influence.hat_matrix_diag"
   ]
  },
  {
   "cell_type": "code",
   "execution_count": 11,
   "id": "4730b1d1-4d68-4790-8f92-0c91853ad3a3",
   "metadata": {},
   "outputs": [
    {
     "name": "stderr",
     "output_type": "stream",
     "text": [
      "C:\\Users\\zak\\anaconda3\\envs\\srh\\lib\\site-packages\\numpy\\core\\fromnumeric.py:3472: FutureWarning: In a future version, DataFrame.mean(axis=None) will return a scalar mean over the entire DataFrame. To retain the old behavior, use 'frame.mean(axis=0)' or just 'frame.mean()'\n",
      "  return mean(axis=axis, dtype=dtype, out=out, **kwargs)\n"
     ]
    },
    {
     "data": {
      "text/plain": [
       "<matplotlib.lines.Line2D at 0x25844421cc0>"
      ]
     },
     "execution_count": 11,
     "metadata": {},
     "output_type": "execute_result"
    },
    {
     "data": {
      "image/png": "[encoded data removed]",
      "text/plain": [
       "<Figure size 432x288 with 1 Axes>"
      ]
     },
     "metadata": {
      "needs_background": "light"
     },
     "output_type": "display_data"
    }
   ],
   "source": [
    "h = leverage\n",
    "hi_lev_y = []\n",
    "hi_lev_x = []\n",
    "for i in range(len(h)):\n",
    "    if h[i]>3*np.mean(h):\n",
    "        hi_lev_y.append(h[i])\n",
    "        hi_lev_x.append(x_out_all2.iloc[i])\n",
    "\n",
    "plt.scatter(x_out_all2,h,color = 'white', edgecolor = 'k',alpha = 0.8)\n",
    "plt.scatter(hi_lev_x,hi_lev_y, color = 'red',edgecolor = 'k')\n",
    "plt.axvline(np.mean(x_out_all2).values,linestyle = '--',color = 'k')\n",
    "plt.axhline(np.mean(h),linestyle = '--',color = 'k')\n",
    "plt.axhline(2*np.mean(h),linestyle = '--',color = 'blue')\n",
    "plt.axhline(3*np.mean(h),linestyle = '--',color = 'red')"
   ]
  },
  {
   "cell_type": "markdown",
   "id": "c1e4f449-3702-4f8c-87c2-3b4de104fda4",
   "metadata": {},
   "source": [
    "Die einflussreichsten Punkte werden klar herausgestellt."
   ]
  },
  {
   "cell_type": "markdown",
   "id": "c5996884-c044-4a7a-92b1-67cd7feb836e",
   "metadata": {},
   "source": [
    "### Cook-Abstand"
   ]
  },
  {
   "cell_type": "markdown",
   "id": "3f053f6f-ea0f-48b3-ae07-ddff70497528",
   "metadata": {},
   "source": [
    "Eine weitere Methode zur Erfassung einflussreicher Ausreißer ist der <a href=\"https://en.wikipedia.org/wiki/Cook%27s_distance\">Cook-Abstand</a>. Das Maß ist eine Kombination aus Leverage und Residuen der einzelnen Beobachtungen. Je höher die Hebelwirkung und der Rückstand, desto größer ist der Cook-Abstand. Normalerweise werden Punkte mit einem Cook-Abstand von mehr als $1$ als einflussreich eingestuft. In Python wird der Cook-Abstand mit der Methode `cooks.distance()` berechnet."
   ]
  },
  {
   "cell_type": "code",
   "execution_count": 12,
   "id": "e52b2437-8845-4fd0-aff9-29cc7bf19bbb",
   "metadata": {},
   "outputs": [
    {
     "data": {
      "text/plain": [
       "<matplotlib.collections.PathCollection at 0x258447b6920>"
      ]
     },
     "execution_count": 12,
     "metadata": {},
     "output_type": "execute_result"
    },
    {
     "data": {
      "image/png": "[encoded data removed]",
      "text/plain": [
       "<Figure size 432x288 with 1 Axes>"
      ]
     },
     "metadata": {
      "needs_background": "light"
     },
     "output_type": "display_data"
    }
   ],
   "source": [
    "influence = model4.get_influence()\n",
    "cooks = list(influence.cooks_distance)\n",
    "\n",
    "cooks_x = list(range(len(cooks[0])))\n",
    "plt.scatter(cooks_x,cooks[0],color = 'white',edgecolor = 'k')\n",
    "#cooks"
   ]
  },
  {
   "cell_type": "markdown",
   "id": "2eab5bbd-c553-47f7-a8ab-8801ff6b842c",
   "metadata": {},
   "source": [
    "Die Grafik zeigt sehr deutlich die einflussreichsten Punkte des Modells."
   ]
  },
  {
   "cell_type": "markdown",
   "id": "0006147f-7cf7-4ab3-ae73-205ee98f4fc9",
   "metadata": {},
   "source": [
    "### Andere nützliche Regressionsdiagnosen"
   ]
  },
  {
   "cell_type": "markdown",
   "id": "469c80ce-f3d5-46a8-aa40-fd01bef6b9c6",
   "metadata": {},
   "source": [
    "Weitere nützliche Werkzeuge für die Regressionsanalysediagnose sind die Methode `dffits()`, die angibt, wie sehr eine Beobachtung den zugehörigen angepassten Wert beeinflusst, und die Methode `dfbetas()`, die die Änderung der geschätzten Parameter angibt, wenn eine Beobachtung im Verhältnis zu ihrem Standardfehler ausgeschlossen wird. Die Methode `dfbetas()` gibt ein Matrixobjekt zurück; daher wenden wir die Funktion `plot()` an, um die Ausgabe darzustellen. Die blaue Linie entspricht $\\beta_0$, dem Achsenabschnitt, und die orange Linie entspricht dem Effekt für $\\beta_1$, dem Regressionskoeffizienten (Dalgaard 2008)."
   ]
  },
  {
   "cell_type": "code",
   "execution_count": 13,
   "id": "1c159a31-7769-44fa-9668-916daf714dea",
   "metadata": {},
   "outputs": [
    {
     "data": {
      "text/plain": [
       "[<matplotlib.lines.Line2D at 0x25844828100>]"
      ]
     },
     "execution_count": 13,
     "metadata": {},
     "output_type": "execute_result"
    },
    {
     "data": {
      "image/png": "[encoded data removed]",
      "text/plain": [
       "<Figure size 432x288 with 1 Axes>"
      ]
     },
     "metadata": {
      "needs_background": "light"
     },
     "output_type": "display_data"
    }
   ],
   "source": [
    "ddfits = influence = model4.get_influence().dffits\n",
    "plt.plot(ddfits[0])\n"
   ]
  },
  {
   "cell_type": "code",
   "execution_count": 14,
   "id": "caf6b283-1aed-45d6-bb80-ffe2fc229582",
   "metadata": {},
   "outputs": [
    {
     "data": {
      "text/plain": [
       "[<matplotlib.lines.Line2D at 0x25844879cc0>,\n",
       " <matplotlib.lines.Line2D at 0x25844879d20>]"
      ]
     },
     "execution_count": 14,
     "metadata": {},
     "output_type": "execute_result"
    },
    {
     "data": {
      "image/png": "[encoded data removed]",
      "text/plain": [
       "<Figure size 432x288 with 1 Axes>"
      ]
     },
     "metadata": {
      "needs_background": "light"
     },
     "output_type": "display_data"
    }
   ],
   "source": [
    "dfbetas = influence = model4.get_influence().dfbetas\n",
    "plt.plot(dfbetas)"
   ]
  },
  {
   "cell_type": "code",
   "execution_count": null,
   "id": "1c847b35-3762-4a05-b79b-324a2867cc18",
   "metadata": {},
   "outputs": [],
   "source": []
  }
 ],
 "metadata": {
  "kernelspec": {
   "display_name": "Python 3 (ipykernel)",
   "language": "python",
   "name": "python3"
  },
  "language_info": {
   "codemirror_mode": {
    "name": "ipython",
    "version": 3
   },
   "file_extension": ".py",
   "mimetype": "text/x-python",
   "name": "python",
   "nbconvert_exporter": "python",
   "pygments_lexer": "ipython3",
   "version": "3.10.2"
  }
 },
 "nbformat": 4,
 "nbformat_minor": 5
}
