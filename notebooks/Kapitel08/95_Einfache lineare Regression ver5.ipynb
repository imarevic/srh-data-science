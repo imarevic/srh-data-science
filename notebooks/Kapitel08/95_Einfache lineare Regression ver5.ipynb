{
 "cells": [
  {
   "cell_type": "markdown",
   "id": "cbb39c1d-d477-49be-96e3-8932f1394868",
   "metadata": {},
   "source": [
    "## Einfache lineare Regression\n",
    "----------------------------------------"
   ]
  },
  {
   "cell_type": "markdown",
   "id": "453b3592-42fb-4b3d-81b8-0427f620f6d1",
   "metadata": {},
   "source": [
    "In diesem Abschnitt wird eine spezielle Art der Regression behandelt, die als <a href=\"https://en.wikipedia.org/wiki/Simple_linear_regression\">einfache lineare Regression</a> bezeichnet wird. In diesem speziellen Fall der Regressionsanalyse wird die Beziehung zwischen der Antwortvariablen $y$ und der Prädikatorvariablen $x$ in Form einer **linearen** Gleichung dargestellt"
   ]
  },
  {
   "cell_type": "markdown",
   "id": "063cb287-9aef-4413-8c0e-c9f25a2b801a",
   "metadata": {},
   "source": [
    "$$y= a + bx\\text{,}$$"
   ]
  },
  {
   "cell_type": "markdown",
   "id": "59f3845e-e031-47a6-bc65-f46d7da17bcb",
   "metadata": {},
   "source": [
    "wobei $a$ und $b$ Konstanten sind. Die Zahl $a$ wird als **Achsenabschnitt** bezeichnet und definiert den Schnittpunkt der Regressionslinie mit der $y$-Achse ($x=0$). Die Zahl $b$ wird als **Regressionskoeffizient** bezeichnet. Er ist ein Maß für die Steigung der **Regressionsgeraden**. So gibt $b$ an, um wie viel sich der $y$-Wert ändert, wenn sich der $x$-Wert um $1$ Einheit erhöht. Das Adjektiv **einfach** bezieht sich auf die Tatsache, dass die Ergebnisvariable mit einem einzigen Vorhersagewert verknüpft ist. Das Modell wird als **deterministisches Modell** betrachtet, da es eine genaue Beziehung zwischen $x$ und $y$ herstellt.\n",
    "\n",
    "Lassen Sie uns ein einfaches Beispiel betrachten. Gegeben ist eine Grundgesamtheit von $n=3$ Punkten mit kartesischen Koordinaten ($x_i,y_i$) von ($1,6$), ($2,8$) und ($3,10$). Diese Punkte liegen auf einer Geraden und können daher durch ein lineares Gleichungsmodell in der Form $y=a+bx$ beschrieben werden, wobei der Schnittpunkt $a=4$ und $b=2$ ist."
   ]
  },
  {
   "cell_type": "markdown",
   "id": "68aa0a7f-5eec-4856-972c-6be34ef8c9b3",
   "metadata": {},
   "source": [
    "![Alt-Text](95_linearreg.png)"
   ]
  },
  {
   "cell_type": "markdown",
   "id": "56f1b5dc-dc8b-4cfd-80c9-2c2dacee31f0",
   "metadata": {},
   "source": [
    "In vielen Fällen ist die Beziehung zwischen zwei Variablen $x$ und $y$ jedoch nicht exakt. Das liegt daran, dass die Antwortvariable $y$ von anderen unbekannten und/oder zufälligen Prozessen beeinflusst wird, die von der Prädikatorvariable $x$ nicht vollständig erfasst werden. In einem solchen Fall liegen die Datenpunkte nicht auf einer Geraden. Die Daten können jedoch immer noch einer zugrunde liegenden linearen Beziehung folgen. Um diese Unbekannten zu berücksichtigen, wird der linearen Modellgleichung ein **Zufallsfehlerterm**, bezeichnet mit $ϵ$, hinzugefügt, was im Gegensatz zum oben beschriebenen deterministischen Modell zu einem **probabilistischen Modell** führt."
   ]
  },
  {
   "cell_type": "markdown",
   "id": "dd6dc8e6-7ac7-4a9a-82b4-ab42adea87d9",
   "metadata": {},
   "source": [
    "$$y = a + b x + \\epsilon$$"
   ]
  },
  {
   "cell_type": "markdown",
   "id": "e2dabadc-b3f8-4254-9214-abad8004c8d9",
   "metadata": {},
   "source": [
    "wobei angenommen wird, dass der Fehlerterm $\\epsilon_i$ aus unabhängigen normalverteilten Werten besteht, $\\epsilon_i \\sim N(0,\\sigma^2)$.\n",
    "\n",
    "Bei der linearen Regressionsmodellierung werden folgende Annahmen über das Modell getroffen (Mann 2012).\n",
    "\n",
    "- Der zufällige Fehlerterm $\\epsilon$ hat für jedes $x$ einen Mittelwert gleich Null.\n",
    "- Die mit verschiedenen Beobachtungen verbundenen Fehler sind unabhängig.\n",
    "- Für jedes gegebene $x$ ist die Verteilung der Fehler normal.\n",
    "- Die Verteilung der Fehler für jedes $x$ hat die gleiche (konstante) Standardabweichung, die mit $\\sigma_\\epsilon$ bezeichnet wird."
   ]
  },
  {
   "cell_type": "markdown",
   "id": "3a93989b-bd28-43d8-86b9-8dd9b89cd92b",
   "metadata": {},
   "source": [
    "Betrachten wir ein weiteres Beispiel. Diesmal nehmen wir eine Zufallsstichprobe mit dem Stichprobenumfang $n=8$ aus einer Grundgesamtheit. Um zu betonen, dass die Werte des Abschnitts und der Steigung aus Stichprobendaten berechnet werden, werden $a$ und $b$ mit $\\beta_0$ bzw. $\\beta_1$ bezeichnet. Außerdem wird der Fehlerterm $\\epsilon$ als $e$ bezeichnet. $\\beta_0$, $\\beta_1$ und $e$ sind also Schätzungen auf der Grundlage von Stichprobendaten für die Grundgesamtheitsparameter $a$, $b$ und $\\epsilon$."
   ]
  },
  {
   "cell_type": "markdown",
   "id": "7bee3532-1dc7-4c40-9ba2-f85c404d285c",
   "metadata": {},
   "source": [
    "$$\\hat y = \\beta_0 + \\beta_1 x + e \\text{,}$$"
   ]
  },
  {
   "cell_type": "markdown",
   "id": "4046b125-e160-4376-a809-0d6451a2f8c8",
   "metadata": {},
   "source": [
    "wobei $\\hat y$ der **geschätzte oder vorhergesagte Wert** von $y$ für einen bestimmten Wert von $x$ ist."
   ]
  },
  {
   "cell_type": "markdown",
   "id": "db737b1e-f24b-45f0-9f21-c327941b3c65",
   "metadata": {},
   "source": [
    "![Alt-Text](95_linearreg2.png)"
   ]
  },
  {
   "cell_type": "markdown",
   "id": "a8dc0bed-0cec-40de-8912-b7332dde40b5",
   "metadata": {},
   "source": [
    "Der Fehler $e_i$ für jedes einzelne Wertepaar ($x_i,y_i$), auch **Residuum** genannt, wird aus der Differenz zwischen dem beobachteten Wert $y_i$ und dem durch $\\hat{y}_i$ gegebenen vorhergesagten Wert errechnet."
   ]
  },
  {
   "cell_type": "markdown",
   "id": "f2e0bd38-41f8-4259-ade8-15ff84f0cc19",
   "metadata": {},
   "source": [
    "$$e_i = y_i - \\hat y_i$$"
   ]
  },
  {
   "cell_type": "markdown",
   "id": "c7ab92c0-3cae-42b8-9325-89f535c1478f",
   "metadata": {},
   "source": [
    "Je nach Datenlage ist $e_i$ eine negative Zahl, wenn $y_i$ unterhalb der Regressionslinie liegt, oder eine positive Zahl, wenn $y_i$ oberhalb der Regressionslinie liegt."
   ]
  },
  {
   "cell_type": "code",
   "execution_count": null,
   "id": "ba738255-bd6e-419b-aeb1-8250fee1adfc",
   "metadata": {},
   "outputs": [],
   "source": []
  }
 ],
 "metadata": {
  "kernelspec": {
   "display_name": "Python 3 (ipykernel)",
   "language": "python",
   "name": "python3"
  },
  "language_info": {
   "codemirror_mode": {
    "name": "ipython",
    "version": 3
   },
   "file_extension": ".py",
   "mimetype": "text/x-python",
   "name": "python",
   "nbconvert_exporter": "python",
   "pygments_lexer": "ipython3",
   "version": "3.10.2"
  }
 },
 "nbformat": 4,
 "nbformat_minor": 5
}
