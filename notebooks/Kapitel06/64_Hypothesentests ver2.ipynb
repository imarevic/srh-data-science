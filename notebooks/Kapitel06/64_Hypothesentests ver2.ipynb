{
 "cells": [
  {
   "cell_type": "markdown",
   "id": "33033e5d-244a-4bf0-8027-5f4d5173b267",
   "metadata": {},
   "source": [
    "## Hypothesentests\n",
    "----------------------------------------"
   ]
  },
  {
   "cell_type": "markdown",
   "id": "3a7f4368-02eb-4738-9597-073996d7447f",
   "metadata": {},
   "source": [
    "Ein sehr häufiges Problem, mit dem Wissenschaftler konfrontiert sind, ist die **Bewertung der Signifikanz** von verstreuten statistischen Daten. Aufgrund der begrenzten Verfügbarkeit von Beobachtungsdaten wenden Wissenschaftler inferenzstatistische Methoden an, um zu entscheiden, ob die beobachteten Daten signifikante Informationen enthalten oder ob die verstreuten Daten nichts weiter als die Manifestation der inhärent probabilistischen Natur des Datenerzeugungsprozesses sind.\n",
    "\n",
    "Im Allgemeinen formuliert ein Wissenschaftler ein solches Problem wie folgt. Der Wissenschaftler erstellt ein Modell, das lediglich eine Vereinfachung des Datenerzeugungsprozesses darstellt, und betrachtet eine bestimmte Annahme - eine so genannte <a href=\"https://en.wikipedia.org/wiki/Hypothesis\">Hypothese</a> - dieses Modells. Anhand von Daten will er diese vorläufige Hypothese bewerten.\n",
    "\n",
    "Bei der Hypothesenprüfung geht es darum, **auf der Grundlage von Stichproben aus der Grundgesamtheit statistische Rückschlüsse auf diese Grundgesamtheit zu ziehen**. Eine Möglichkeit zur Schätzung eines Grundgesamtheitsparameters ist die Erstellung von Konfidenzintervallen. Eine andere Möglichkeit besteht darin, eine Entscheidung über einen Parameter in Form eines Tests zu treffen. Jeder Hypothesentest erfordert die Erhebung von Daten (Stichproben). Wenn die Hypothese als richtig angenommen wird, kann der Wissenschaftler die erwarteten Ergebnisse eines Experiments berechnen. Weichen die beobachteten Daten erheblich von den erwarteten Ergebnissen ab, so gilt die Annahme als falsch. Auf der Grundlage der beobachteten Daten trifft der Wissenschaftler also eine Entscheidung darüber, ob es aufgrund der Analyse der Daten genügend Beweise dafür gibt, dass das Modell - die Hypothese - verworfen werden sollte, oder ob es keine ausreichenden Beweise für die Verwerfung der angegebenen Hypothese gibt."
   ]
  },
  {
   "cell_type": "code",
   "execution_count": null,
   "id": "3c3e9d55-7f3b-4f13-bd51-5ee05cf5d930",
   "metadata": {},
   "outputs": [],
   "source": []
  }
 ],
 "metadata": {
  "kernelspec": {
   "display_name": "Python 3 (ipykernel)",
   "language": "python",
   "name": "python3"
  },
  "language_info": {
   "codemirror_mode": {
    "name": "ipython",
    "version": 3
   },
   "file_extension": ".py",
   "mimetype": "text/x-python",
   "name": "python",
   "nbconvert_exporter": "python",
   "pygments_lexer": "ipython3",
   "version": "3.10.2"
  }
 },
 "nbformat": 4,
 "nbformat_minor": 5
}
