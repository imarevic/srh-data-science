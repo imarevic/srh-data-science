{
 "cells": [
  {
   "cell_type": "markdown",
   "id": "0681257a-26ea-4ebf-a3e7-a892096508eb",
   "metadata": {},
   "source": [
    "## Inferenz für zwei Grundgesamtheitsmittelwerte unter Verwendung gepaarter Stichproben\n",
    "----------------------------------------"
   ]
  },
  {
   "cell_type": "code",
   "execution_count": 1,
   "id": "75dcff9a-0c9b-42dc-9e6a-afe974a86581",
   "metadata": {
    "tags": []
   },
   "outputs": [
    {
     "name": "stdout",
     "output_type": "stream",
     "text": [
      "\n",
      "---------------------------------\n",
      "Working on the host: LAPTOP-9LETB4SJ\n",
      "\n",
      "---------------------------------\n",
      "Python version: 3.10.2 | packaged by conda-forge | (main, Mar  8 2022, 15:52:24) [MSC v.1929 64 bit (AMD64)]\n",
      "\n",
      "---------------------------------\n",
      "Python interpreter: C:\\Users\\zak\\anaconda3\\envs\\srh\\python.exe\n"
     ]
    }
   ],
   "source": [
    "import matplotlib.pyplot as plt\n",
    "import numpy as np\n",
    "import pandas as pd\n",
    "from random import sample\n",
    "from scipy.stats import t\n",
    "from scipy import stats\n",
    "import scipy.stats\n",
    "import statsmodels.api as smi\n",
    "import pylab\n",
    "\n",
    "%run ../src/notebook_env.py"
   ]
  },
  {
   "cell_type": "markdown",
   "id": "97a16646-2585-46cf-916d-0cbdd32e514f",
   "metadata": {},
   "source": [
    "Wenden wir uns nun einem Hypothesentestverfahren für die Differenz zwischen zwei Grundgesamtheitsmittelwerte zu, wenn die Stichproben **abhängig** sind. Wenn beispielsweise zwei Datenwerte aus derselben Quelle (oder demselben Teilsystem) stammen, werden diese als **gepaarte** oder **übereinstimmende** Stichproben bezeichnet.\n",
    "\n",
    "Sehr häufig werden diese Verfahren für die **Before-After-Control-Impact (BACI)** eingesetzt. Stellen Sie sich einen Fall vor, in dem Sie die Wirksamkeit eines Filtersystems zur Entfernung von Luftschadstoffen, die von einer Fabrik freigesetzt werden, bewerten sollen. In diesem Fall besteht eine Grundgesamtheit aus Messungen der Luftqualität vor der Einführung oder Erneuerung des Filtersystems und die andere Grundgesamtheit aus Messungen der Luftqualität nach der Installation des neuen Filtersystems. In diesem Fall hat man es mit gepaarten Stichproben zu tun, da die beiden Datensätze von derselben Quelle, der Fabrik, erhoben werden.\n",
    "\n",
    "Bei gepaarten Stichproben wird die Differenz zwischen den Datenwerten der beiden Stichproben mit $d$ bezeichnet, oft auch als **gepaarte Differenz** bezeichnet. Beachten Sie, dass der Stichprobenumfang $n$ für jede Stichprobe gleich ist. Der Mittelwert der gepaarten Differenzen für die Stichproben wird als $\\bar d$ bezeichnet."
   ]
  },
  {
   "cell_type": "markdown",
   "id": "973e28c8-2e0f-4cc1-9b1a-79f27b3d9833",
   "metadata": {},
   "source": [
    "$$\\bar d = \\frac{\\sum d}{n}$$"
   ]
  },
  {
   "cell_type": "markdown",
   "id": "1100b196-6b7e-44f9-99ed-afcddd0b0910",
   "metadata": {},
   "source": [
    "Die Standardabweichung der gepaarten Unterschiede für zwei Stichproben, $s_d$, wird wie folgt berechnet"
   ]
  },
  {
   "cell_type": "markdown",
   "id": "45315be8-ff75-4dc9-af3b-01f2817f33d5",
   "metadata": {},
   "source": [
    "$$s_d = \\sqrt{\\frac{\\sum d^2 - \\frac{(\\sum d)^2}{n}}{n-1}}$$"
   ]
  },
  {
   "cell_type": "markdown",
   "id": "26ed5295-dc90-4780-b091-702c9a8c3171",
   "metadata": {},
   "source": [
    "Angenommen, die gepaarte Differenzvariable $d$ ist normalverteilt, dann wird die gepaarte $t$-Statistik wie folgt ausgedrückt"
   ]
  },
  {
   "cell_type": "markdown",
   "id": "3ad53b84-077c-4e3b-80a9-343e6a6c3508",
   "metadata": {},
   "source": [
    "$$t= \\frac{\\bar d - (\\mu_1-\\mu_2)}{\\frac{s_d}{\\sqrt{n}}}\\text{,}$$"
   ]
  },
  {
   "cell_type": "markdown",
   "id": "e93f849f-7d6e-4a4a-a7e4-e02198aa824f",
   "metadata": {},
   "source": [
    "was sich vereinfacht zu"
   ]
  },
  {
   "cell_type": "markdown",
   "id": "39f16220-c958-4dab-bef3-ab85da195db7",
   "metadata": {},
   "source": [
    "$$t= \\frac{\\bar d}{\\frac{s_d}{\\sqrt{n}}}\\text{,}$$"
   ]
  },
  {
   "cell_type": "markdown",
   "id": "5c9191f0-3712-4636-856e-83d3b1bd051b",
   "metadata": {},
   "source": [
    "wenn $\\mu_1-\\mu_2 = 0$. Die Teststatistik $t$ für gepaarte Stichproben folgt einer $t$-Verteilung mit $df=n-1$."
   ]
  },
  {
   "cell_type": "markdown",
   "id": "8c2843f3-f32c-457e-8be9-d75378364dad",
   "metadata": {},
   "source": [
    "### Intervall-Schätzung von $\\mu_d$"
   ]
  },
  {
   "cell_type": "markdown",
   "id": "287a9baf-3f69-4f0c-a771-e810db29bc22",
   "metadata": {},
   "source": [
    "Das $100(1-\\alpha)\\%$-Konfidenzintervall für $\\mu_d$ ist"
   ]
  },
  {
   "cell_type": "markdown",
   "id": "657db5d3-f482-498d-94c9-731064578143",
   "metadata": {},
   "source": [
    "$$\\bar d \\pm t \\times \\frac{s_d}{\\sqrt{n}}$$"
   ]
  },
  {
   "cell_type": "markdown",
   "id": "7bedb594-3853-4ce6-8cde-d52d47df3918",
   "metadata": {},
   "source": [
    "wobei sich der Wert von $t$ aus der $t$-Verteilung für das gegebene Konfidenzniveau und $n-1$ Freiheitsgrade ergibt."
   ]
  },
  {
   "cell_type": "markdown",
   "id": "c59fd91e-7ea1-4774-a368-c0ecd8084c49",
   "metadata": {
    "tags": []
   },
   "source": [
    "### Der gepaarte $t$-Test: Ein Beispiel"
   ]
  },
  {
   "cell_type": "markdown",
   "id": "7e4f3a01-7468-4c24-8de8-c3309f5d82bf",
   "metadata": {},
   "source": [
    "Um praktische Erfahrungen zu sammeln, wenden wir den gepaarten $t$-Test mit einer Standardabweichung in einer Übung an. Dazu laden wir den `students` Datensatz. Sie können die Datei `students.csv` <a href=\"https://userpage.fu-berlin.de/soga/200/2010_data_sets/students.csv\">hier</a> herunterladen. Importieren Sie den Datensatz und geben Sie ihm einen passenden Namen."
   ]
  },
  {
   "cell_type": "code",
   "execution_count": 2,
   "id": "75122511-d836-4edf-ac84-806689756de3",
   "metadata": {},
   "outputs": [],
   "source": [
    "# Lese Datei students.csv als Dataframe ein; Indexspalte wird übersprungen\n",
    "students = pd.read_csv('students.csv', index_col=0)"
   ]
  },
  {
   "cell_type": "markdown",
   "id": "512208f1-76a8-476d-8f28-d75544864d8a",
   "metadata": {},
   "source": [
    "Der `students` Datensatz besteht aus $8239$ Zeilen, von denen jede einen bestimmten Studenten repräsentiert, und $16$ Spalten, von denen jede einer Variable/einem Merkmal entspricht, das sich auf diesen bestimmten Studenten bezieht. Diese selbsterklärenden Variablen sind: *stud.id, name, gender, age, height, weight, religion, nc.score, semester, major, minor, score1, score2, online.tutorial, graduated, salary.*"
   ]
  },
  {
   "cell_type": "markdown",
   "id": "c6931801-7c25-44f1-93d6-c4f7006caca5",
   "metadata": {},
   "source": [
    "Um den gepaarten $t$-Test für abhängige Stichproben zu veranschaulichen, **interessieren wir uns für die Frage, ob ein Online-Tutorium zum Erlernen von Statistik den Studenten hilft, ihre Noten zu verbessern**. Es gibt drei Variablen im Datensatz der Studenten, die von Interesse sind. Die Variable `online.tutorial` ist eine binäre Variable, die den Wert $1$ annimmt, wenn der Student das Online-Tutorium zum Thema Statistik absolviert hat, und ansonsten den Wert $0$. Die Variablen `score1` und `score2` geben die Noten ($0-100$) für zwei Klausuren in Mathematik und Statistik an. Je höher der Wert ist, desto besser hat der jeweilige Studierende abgeschnitten. Bitte beachten Sie, dass die erste Prüfung stattfindet, bevor die Studierenden das Online-Tutorium zum Thema Statistik besucht haben. Die Teilnahme am Online-Tutorium zur Statistik ist nicht verpflichtend, die beiden Prüfungen sind jedoch für alle Studierenden obligatorisch. Die erste Prüfung (`score1`) findet zu Beginn des $3$. Semesters statt, die zweite Prüfung (`score2`) am Ende des $3$. Semesters.\n",
    "\n",
    "Im Wesentlichen sind zwei Forschungsfragen von Interesse. **Erstens wollen wir untersuchen, ob die Gruppe der Studierenden, die das Online-Tutorial zum Statistiklernen besucht hat, in der zweiten Prüfung besser abschneidet als in den ersten Prüfungen. Zweitens wird untersucht, wie die Gruppe der Studierenden, die nicht am Online-Tutorium für Statistik teilgenommen hat, bei beiden Prüfungen abgeschnitten hat.**"
   ]
  },
  {
   "cell_type": "markdown",
   "id": "ed7a7674-7666-438d-99e4-12f6f7708ed4",
   "metadata": {},
   "source": [
    "### Vorbereitung der Daten"
   ]
  },
  {
   "cell_type": "markdown",
   "id": "38cc384d-29e7-44f4-bab5-578ad688ec12",
   "metadata": {},
   "source": [
    "Wir beginnen mit der ersten Forschungsfrage und konzentrieren uns auf die Studierenden, die das Online-Tutorial zum Thema Statistik besucht haben.\n",
    "\n",
    "Für die Datenaufbereitung unterteilen wir den Datensatz anhand der Variable `online.tutorial`, die angibt, ob der Studierende das Tutorium besucht hat oder nicht ($1$=ja, $0$=nein). Dann ziehen wir eine Zufallsstichprobe von $65$ Studenten aus dem Datensatz und extrahieren die beiden Variablen von Interesse, `score1` und `score2`. Wir speichern jede von ihnen in einem Vektor mit den Namen `score1_sample` und `score2_sample`."
   ]
  },
  {
   "cell_type": "code",
   "execution_count": 3,
   "id": "e20f2811-ee90-4d71-b9f4-3b34ebdcb259",
   "metadata": {},
   "outputs": [],
   "source": [
    "tutorial = students.loc[students['online.tutorial']==1]\n",
    "n = 65\n",
    "score1_sample = tutorial['score1'].sample(n, random_state=1)\n",
    "score2_sample = tutorial['score2'].sample(n, random_state=1)"
   ]
  },
  {
   "cell_type": "markdown",
   "id": "717e8656-949a-4e00-a98b-6961088ba65f",
   "metadata": {},
   "source": [
    "Nun berechnen wir die gepaarten Differenzen, $d$, und stellen sie dar."
   ]
  },
  {
   "cell_type": "code",
   "execution_count": 4,
   "id": "2551f203-defe-46c6-ad35-546d2f3ce960",
   "metadata": {},
   "outputs": [
    {
     "data": {
      "image/png": "[encoded data removed]",
      "text/plain": [
       "<Figure size 432x288 with 1 Axes>"
      ]
     },
     "metadata": {
      "needs_background": "light"
     },
     "output_type": "display_data"
    }
   ],
   "source": [
    "d = (score1_sample - score2_sample)\n",
    "x = np.arange(n)\n",
    "fig = plt.figure()\n",
    "plt.axhline(y=0, color='r')\n",
    "plt.bar(x,d,edgecolor = 'k')\n",
    "plt.show()"
   ]
  },
  {
   "cell_type": "markdown",
   "id": "4ac2a530-a81f-4ffd-bc32-e3fdfd4fcca7",
   "metadata": {},
   "source": [
    "Das Diagramm sieht wie erwartet aus. Einige Studierende schneiden in der ersten Prüfung besser ab als in der zweiten Prüfung und umgekehrt.\n",
    "\n",
    "Um die Normalverteilungsannahme zu überprüfen, stützen wir uns wiederum auf eine visuelle Inspektion eines Q-Q-Plots. Wenn die Variable normalverteilt ist, sollte das Q-Q-Diagramm ungefähr linear sein. In Python können wir die Funktion `qqplot()` verwenden, um Q-Q-Plots zu erstellen."
   ]
  },
  {
   "cell_type": "code",
   "execution_count": 5,
   "id": "1ac8e4b9-ef96-4811-89aa-3cf3c316414c",
   "metadata": {},
   "outputs": [
    {
     "data": {
      "image/png": "[encoded data removed]",
      "text/plain": [
       "<Figure size 432x288 with 1 Axes>"
      ]
     },
     "metadata": {
      "needs_background": "light"
     },
     "output_type": "display_data"
    }
   ],
   "source": [
    "# Erzeuge Q-Q Plot\n",
    "smi.qqplot(d, line = \"r\")\n",
    "pylab.show()"
   ]
  },
  {
   "cell_type": "markdown",
   "id": "d94736cc-bbde-4787-aac7-e1373d799c2e",
   "metadata": {},
   "source": [
    "Die Daten sind nicht sehr genau und etwas verrauscht, aber sie scheinen ungefähr normalverteilt zu sein.\n",
    "\n",
    "Wir berechnen weiter $\\bar d$ den Mittelwert der gepaarten Differenzen"
   ]
  },
  {
   "cell_type": "markdown",
   "id": "fd5a6817-17b8-4b84-ae90-e11f1a50ed4a",
   "metadata": {},
   "source": [
    "$$\\bar d = \\frac{\\sum d}{n}\\text{,}$$"
   ]
  },
  {
   "cell_type": "markdown",
   "id": "14f284a1-03f6-4f66-8b51-7afed3ae3f1c",
   "metadata": {},
   "source": [
    "und $s_d$, die Standardabweichung der gepaarten Unterschiede für zwei Stichproben"
   ]
  },
  {
   "cell_type": "markdown",
   "id": "518e619c-c9bd-411d-a01a-980d44f417ee",
   "metadata": {},
   "source": [
    "$$s_d = \\sqrt{\\frac{\\sum d^2 - \\frac{(\\sum d)^2}{n}}{n-1}}\\text{.}$$"
   ]
  },
  {
   "cell_type": "code",
   "execution_count": 6,
   "id": "989551ae-296a-4b44-9d7e-2da580ea0cc2",
   "metadata": {},
   "outputs": [],
   "source": [
    "#paired difference\n",
    "d_bar = sum(d)/len(d)\n",
    "\n",
    "#standard deviation\n",
    "s_d = np.sqrt((sum(d**2)-(sum(d)**2/len(d)))/(n-1))"
   ]
  },
  {
   "cell_type": "markdown",
   "id": "fb5333f2-93eb-46ed-8924-85614337f03c",
   "metadata": {},
   "source": [
    "### Überprüfung der Hypothesen"
   ]
  },
  {
   "cell_type": "markdown",
   "id": "88e2eda5-61ce-4104-b951-5ed4c087d64e",
   "metadata": {},
   "source": [
    "Jetzt sind wir bereit, den **gepaarten $t$-Test** anzuwenden. Erinnern Sie sich an unsere erste Forschungsfrage: **Lassen die Daten den Schluss zu, dass sich die durchschnittlichen Prüfungsergebnisse verbessern, wenn die Studierenden ein Online-Tutorial zum Thema Statistik besuchen?**\n",
    "\n",
    "Wir folgen dem schrittweisen Implementierungsverfahren für Hypothesentests."
   ]
  },
  {
   "cell_type": "markdown",
   "id": "f90eb18e-8e90-4e02-8519-ce93f172512f",
   "metadata": {},
   "source": [
    "**Schritt 1 : Geben Sie die Nullhypothese $H_0$ und alternative Hypothese $H_A$ an**"
   ]
  },
  {
   "cell_type": "markdown",
   "id": "2e049130-a9dc-4786-bc20-18052182bd11",
   "metadata": {
    "tags": []
   },
   "source": [
    "Die Nullhypothese besagt, dass es keinen Unterschied im Mittelwert der Prüfungsnoten der einen Prüfung im Vergleich zur anderen gibt."
   ]
  },
  {
   "cell_type": "markdown",
   "id": "dc500c9d-0e69-4903-9104-e3439968c5a0",
   "metadata": {
    "tags": []
   },
   "source": [
    "$$H_0: \\quad \\mu_1 = \\mu_2$$"
   ]
  },
  {
   "cell_type": "markdown",
   "id": "cbef97cd-9381-4e18-a894-8093e5295bae",
   "metadata": {},
   "source": [
    "Erinnern Sie sich daran, dass die Formulierung der Alternativhypothese vorgibt, ob wir einen zweiseitigen, einen links- oder einen rechtsseitigen Hypothesentest durchführen."
   ]
  },
  {
   "cell_type": "markdown",
   "id": "b3803488-9507-4b25-bdfc-882e129efa25",
   "metadata": {
    "tags": []
   },
   "source": [
    "**Alternative Hypothese**"
   ]
  },
  {
   "cell_type": "markdown",
   "id": "1525258d-84e6-4a15-a09a-fc949fe74fc5",
   "metadata": {},
   "source": [
    "$$H_A: \\quad \\mu_1 < \\mu_2$$"
   ]
  },
  {
   "cell_type": "markdown",
   "id": "b1c21127-7310-4e7d-bf5a-1db20918a21e",
   "metadata": {},
   "source": [
    "Diese Formulierung führt zu einem linksseitigen Hypothesentest und besagt, dass die Studenten im Durchschnitt bei der zweiten Prüfung besser abschneiden."
   ]
  },
  {
   "cell_type": "markdown",
   "id": "314a9c50-1da5-4f12-9aff-b4e6dd4dfb67",
   "metadata": {},
   "source": [
    "**Schritt 2: Legen Sie das Signifikanzniveau,$\\alpha$ fest**"
   ]
  },
  {
   "cell_type": "markdown",
   "id": "9f15e9f7-f09e-4ec7-b948-72c65ebb9317",
   "metadata": {},
   "source": [
    "$$\\alpha = 0.05$$"
   ]
  },
  {
   "cell_type": "code",
   "execution_count": 7,
   "id": "210f7620-4660-428d-8bcf-9a3dca0c024f",
   "metadata": {},
   "outputs": [],
   "source": [
    "alpha = 0.05"
   ]
  },
  {
   "cell_type": "markdown",
   "id": "f63c34ea-e766-4605-929d-31ccb506f4ca",
   "metadata": {},
   "source": [
    "**Schritt 3 und 4: Berechnen Sie den Wert der Teststatistik und den $p$-Wert**"
   ]
  },
  {
   "cell_type": "markdown",
   "id": "1e355395-7c5c-4deb-90c1-b60233e3708a",
   "metadata": {},
   "source": [
    "Zur Veranschaulichung berechnen wir die Teststatistik manuell in Python. Erinnern Sie sich an die obige Gleichungsform:"
   ]
  },
  {
   "cell_type": "markdown",
   "id": "8f89d6da-b4ac-4341-9687-61b64686874e",
   "metadata": {},
   "source": [
    "$$t= \\frac{\\bar d - (\\mu_1-\\mu_2)}{\\frac{s_d}{\\sqrt{n}}}$$"
   ]
  },
  {
   "cell_type": "markdown",
   "id": "62449ae4-156f-45e2-abdf-1d2e24986163",
   "metadata": {},
   "source": [
    "Wenn $H_0$ wahr ist, dann ist $μ_1-μ_2=0$ und somit vereinfacht sich die Gleichung zu"
   ]
  },
  {
   "cell_type": "markdown",
   "id": "d58c680f-0e48-48bf-9a2c-33acb3c7b16e",
   "metadata": {},
   "source": [
    "$$t= \\frac{\\bar d}{\\frac{s_d}{\\sqrt{n}}}\\text{.}$$"
   ]
  },
  {
   "cell_type": "code",
   "execution_count": 8,
   "id": "d2b5269d-5ab5-4e6a-a771-85c14db96243",
   "metadata": {
    "tags": []
   },
   "outputs": [
    {
     "data": {
      "text/plain": [
       "-2.4227231184673745"
      ]
     },
     "execution_count": 8,
     "metadata": {},
     "output_type": "execute_result"
    }
   ],
   "source": [
    "# Compute the value of the test statistic\n",
    "\n",
    "#paired difference\n",
    "d_bar = sum(d)/len(d)\n",
    "\n",
    "#standard deviation\n",
    "s_d = np.sqrt((sum(d**2)-(sum(d)**2/len(d)))/(n-1))\n",
    "\n",
    "#test statistic\n",
    "tw = d_bar/(s_d/np.sqrt(len(d)))\n",
    "tw"
   ]
  },
  {
   "cell_type": "markdown",
   "id": "fd1258c6-0b5e-4dd3-b99c-9f6b119051f8",
   "metadata": {},
   "source": [
    "Der numerische Wert der Teststatistik ist $-2,422723$.\n",
    "\n",
    "Um den $p$-Wert zu berechnen, wenden wir die Funktion `t.cdf()` an. Erinnern Sie sich daran, wie man die Freiheitsgrade berechnet."
   ]
  },
  {
   "cell_type": "markdown",
   "id": "9d951f96-0d63-4350-9550-fab7bc7b175a",
   "metadata": {},
   "source": [
    "$$df = n - 1= 64$$"
   ]
  },
  {
   "cell_type": "code",
   "execution_count": 9,
   "id": "86705a12-d3f1-4518-9d9d-a760405c31b4",
   "metadata": {},
   "outputs": [
    {
     "data": {
      "text/plain": [
       "0.009122595661033036"
      ]
     },
     "execution_count": 9,
     "metadata": {},
     "output_type": "execute_result"
    }
   ],
   "source": [
    "# Compute the p-value\n",
    "df = len(d) - 1\n",
    "p = t.cdf(tw, df = df)\n",
    "p"
   ]
  },
  {
   "cell_type": "markdown",
   "id": "72d77ac1-380b-4525-ab7e-5d009a248410",
   "metadata": {},
   "source": [
    "**Schritt 5: Wenn $p \\le \\alpha , H_0$ ablehnen; ansonsten $H_0$ nicht ablehnen**"
   ]
  },
  {
   "cell_type": "code",
   "execution_count": 10,
   "id": "0fb611aa-0ade-4d43-bfc1-8af5d1ef027c",
   "metadata": {},
   "outputs": [
    {
     "data": {
      "text/plain": [
       "True"
      ]
     },
     "execution_count": 10,
     "metadata": {},
     "output_type": "execute_result"
    }
   ],
   "source": [
    "p <= alpha"
   ]
  },
  {
   "cell_type": "markdown",
   "id": "963c03cc-71d6-4119-9c4a-1b5afacb47eb",
   "metadata": {},
   "source": [
    "Der $p$-Wert ist kleiner als das angegebene Signifikanzniveau von $0,05$; wir verwerfen $H_0$. Die Testergebnisse sind statistisch signifikant auf dem $5 \\%$-Niveau und liefern einen sehr starken Beweis gegen die Nullhypothese."
   ]
  },
  {
   "cell_type": "markdown",
   "id": "6c22e00a-8086-4fe7-8803-a67be92e63aa",
   "metadata": {},
   "source": [
    "**Schritt 6: Interpretieren Sie das Ergebnis des Hypothesentests**"
   ]
  },
  {
   "cell_type": "markdown",
   "id": "299c449e-eca7-43d4-beac-669514f57c0f",
   "metadata": {},
   "source": [
    "$p=0,009123$. Bei einem Signifikanzniveau von $5 \\%$ lassen die Daten den Schluss zu, dass sich die Prüfungsnoten der Studierenden nach der Teilnahme an einem Online-Tutorium für Statistik verbessern."
   ]
  },
  {
   "cell_type": "markdown",
   "id": "55ee1bdf-0474-46c2-a63e-5fbaa5dcec3d",
   "metadata": {},
   "source": [
    "### Hypothesentests in Python"
   ]
  },
  {
   "cell_type": "markdown",
   "id": "8219a19e-1490-481a-8fcc-6d5a46ec60d0",
   "metadata": {},
   "source": [
    "Wir haben soeben manuell einen gepaarten $t$-Test in Python durchgeführt. Das ist gut, aber jetzt nutzen wir die ganze Macht von Python, um das gleiche Ergebnis wie oben mit nur einer Zeile Code zu erhalten!\n",
    "\n",
    "Um einen gepaarten $t$-Test in Python durchzuführen, verwenden wir die Funktion `ttest_rel()`. Wir geben zwei Vektoren als Dateneingabe an und wir setzen das Argument `alternative` auf `alternative = 'less'`, um auf $HA:\\mu_1 \\lt \\mu_2$ zu testen"
   ]
  },
  {
   "cell_type": "code",
   "execution_count": 11,
   "id": "8d729537-1d6d-4f58-8ca3-06df3872fae6",
   "metadata": {},
   "outputs": [
    {
     "data": {
      "text/plain": [
       "Ttest_relResult(statistic=-2.4227231184673745, pvalue=0.009122595661033036)"
      ]
     },
     "execution_count": 11,
     "metadata": {},
     "output_type": "execute_result"
    }
   ],
   "source": [
    "stats.ttest_rel(score1_sample,score2_sample,alternative='less')"
   ]
  },
  {
   "cell_type": "markdown",
   "id": "5f8fad43-d1ea-4244-8973-d3162a257771",
   "metadata": {},
   "source": [
    "Großartig! Vergleichen Sie die Ausgabe der Funktion `ttest_rel()` mit unserem Ergebnis von oben. Sie stimmen perfekt überein! Auch hier können wir schlussfolgern, dass die Daten bei einem Signifikanzniveau von $5 \\%$ einen sehr starken Hinweis darauf liefern, dass sich die Prüfungsnoten der Studenten nach der Teilnahme an einem Online-Tutorium für Statistik verbessern.\n",
    "\n",
    "Bevor wir fortfahren, muss noch eine Forschungsfrage beantwortet werden. Was ist, wenn es andere Gründe für die besseren Noten in der zweiten Prüfung gibt? Was ist, wenn die zweite Prüfung viel einfacher war? Was wäre, wenn die Studenten einen tollen Dozenten hatten und sich dadurch im Laufe des Semesters verbessert haben? Wir testen diese Hypothese, indem wir einen gepaarten $t$-Test durchführen, und zwar explizit für die Studierenden, die nicht am Online-Tutorium für Statistik teilgenommen haben. Da wir mit der Python-Maschinerie bestens vertraut sind, führen wir einen gepaarten $t$-Test mit nur wenigen Zeilen Code durch."
   ]
  },
  {
   "cell_type": "code",
   "execution_count": 12,
   "id": "88c6ee7a-5eb6-4f2e-8c27-b62ae1f8eff7",
   "metadata": {},
   "outputs": [
    {
     "data": {
      "text/plain": [
       "Ttest_relResult(statistic=2.1307181194375913, pvalue=0.9771439852770387)"
      ]
     },
     "execution_count": 12,
     "metadata": {},
     "output_type": "execute_result"
    }
   ],
   "source": [
    "no_tutorial = students.loc[students['online.tutorial']==0]\n",
    "\n",
    "n = 65\n",
    "\n",
    "score1_no_tutorial = no_tutorial['score1'].sample(n, random_state=1)\n",
    "score2_no_tutorial = no_tutorial['score2'].sample(n, random_state=1)\n",
    "\n",
    "# conduct paired t-test\n",
    "statistics,pvalue=stats.ttest_rel(score1_no_tutorial, score2_no_tutorial, nan_policy = 'omit', alternative = 'less')\n",
    "stats.ttest_rel(score1_no_tutorial, score2_no_tutorial, nan_policy = 'omit', alternative = 'less')"
   ]
  },
  {
   "cell_type": "code",
   "execution_count": 13,
   "id": "b4dfc907-4ac0-46ba-ac00-d2ef491a8ef5",
   "metadata": {},
   "outputs": [
    {
     "data": {
      "text/plain": [
       "False"
      ]
     },
     "execution_count": 13,
     "metadata": {},
     "output_type": "execute_result"
    }
   ],
   "source": [
    "pvalue <= alpha"
   ]
  },
  {
   "cell_type": "markdown",
   "id": "70354888-c7fd-44ee-9e71-7cd84b94b524",
   "metadata": {},
   "source": [
    "Der $p$-Wert ist größer als das angegebene Signifikanzniveau von $0,05$; wir verwerfen $H_0$ nicht. Die Testergebnisse sind auf dem $5 \\%$-Niveau statistisch signifikant und liefern keinen ausreichenden Beweis gegen die Nullhypothese.\n",
    "\n",
    "Bei einem Signifikanzniveau von $5 \\%$ liefern die Daten keine ausreichende Evidenz für die Schlussfolgerung, dass sich die Prüfungsnoten der Studierenden, die nicht am Online-Tutorium teilgenommen haben, verbessert haben."
   ]
  }
 ],
 "metadata": {
  "kernelspec": {
   "display_name": "Python 3 (ipykernel)",
   "language": "python",
   "name": "python3"
  },
  "language_info": {
   "codemirror_mode": {
    "name": "ipython",
    "version": 3
   },
   "file_extension": ".py",
   "mimetype": "text/x-python",
   "name": "python",
   "nbconvert_exporter": "python",
   "pygments_lexer": "ipython3",
   "version": "3.10.2"
  }
 },
 "nbformat": 4,
 "nbformat_minor": 5
}
