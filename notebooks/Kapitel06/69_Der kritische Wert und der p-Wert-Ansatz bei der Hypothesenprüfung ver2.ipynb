{
 "cells": [
  {
   "cell_type": "markdown",
   "id": "052efa98-8ea8-4c0b-a31b-c579aac7ac01",
   "metadata": {},
   "source": [
    "## Der kritische Wert und der $p$-Wert-Ansatz bei der Hypothesenprüfung\n",
    "----------------------------------------"
   ]
  },
  {
   "cell_type": "markdown",
   "id": "2716e063-3855-451e-9d92-0e53e9f2888f",
   "metadata": {},
   "source": [
    "Um zu entscheiden, ob die Nullhypothese abzulehnen ist, wird eine **Teststatistik** berechnet. Die Entscheidung wird auf der Grundlage des numerischen Wertes der Teststatistik getroffen. Es gibt zwei Ansätze, um zu dieser Entscheidung zu gelangen: Der Ansatz des **kritischen Wertes** und der Ansatz des **$p$-Wertes**."
   ]
  },
  {
   "cell_type": "markdown",
   "id": "6d3b80be-844e-439d-b48f-4b5f21426321",
   "metadata": {},
   "source": [
    "### Der Ansatz des kritischen Wertes"
   ]
  },
  {
   "cell_type": "markdown",
   "id": "d37d10d2-3dd1-49b0-b9a4-e4cce90dc8fe",
   "metadata": {},
   "source": [
    "Mit dem Ansatz des **kritischen Wertes** wird festgestellt, ob die beobachtete Teststatistik zu stark von einem definiertem kritischen Wert abweicht oder nicht. Dazu wird die beobachtete Teststatistik (berechnet auf der Grundlage der Stichprobendaten) mit dem kritischen Wert, einer Art Grenzwert, verglichen. Wenn die Teststatistik extremer ist als der kritische Wert, wird die Nullhypothese abgelehnt. Wenn die Teststatistik nicht so extrem ist wie der kritische Wert, wird die Nullhypothese nicht verworfen. Der kritische Wert wird auf der Grundlage des vorgegebenen Signifikanzniveaus $\\alpha$ und der Art der Wahrscheinlichkeitsverteilung des idealisierten Modells berechnet. Der kritische Wert teilt die Fläche unter der Wahrscheinlichkeitsverteilungskurve in die **Ablehnungsregion(en)** und in die **Nichtablehnungsregion**.\n",
    "\n",
    "Die folgenden drei Abbildungen zeigen einen rechtsseitigen Test, einen linksseitigen Test und einen zweiseitigen Test. Das idealisierte Modell in den Abbildungen, und damit $H_0$ wird durch eine glockenförmige normale Wahrscheinlichkeitskurve beschrieben.\n",
    "\n",
    "Bei einem **zweiseitigen** Test wird die Nullhypothese abgelehnt, wenn die Teststatistik entweder zu klein oder zu groß ist. Der Ablehnungsbereich für einen solchen Test besteht also aus zwei Teilen: einem links und einem rechts."
   ]
  },
  {
   "cell_type": "markdown",
   "id": "1510270e-b761-40c9-aac6-9947a6d9d0da",
   "metadata": {},
   "source": [
    "![Alt-Text](hypothese2seit.png)"
   ]
  },
  {
   "cell_type": "markdown",
   "id": "084746cc-1d66-4d99-af44-5cd295cfe08d",
   "metadata": {},
   "source": [
    "Bei einem **linksseitigen Test** wird die Nullhypothese abgelehnt, wenn die Teststatistik zu klein ist. Der Ablehnungsbereich für einen solchen Test besteht also aus einem Teil, der links von der Mitte liegt."
   ]
  },
  {
   "cell_type": "markdown",
   "id": "57febb00-ce03-489d-8e8e-873c3f8851da",
   "metadata": {},
   "source": [
    "![Alt-Text](hypotheselinks.png)"
   ]
  },
  {
   "cell_type": "markdown",
   "id": "7c0dc85f-55e4-4405-954b-c948003ff8a0",
   "metadata": {},
   "source": [
    "Bei einem **rechtsseitigen Test** wird die Nullhypothese abgelehnt, wenn die Teststatistik zu groß ist. Der Ablehnungsbereich für einen solchen Test besteht also aus einem Teil, der sich rechts von der Mitte befindet."
   ]
  },
  {
   "cell_type": "markdown",
   "id": "8bf5010f-a2ea-49ab-bc9e-987544afa667",
   "metadata": {},
   "source": [
    "![Alt-Text](hypotheserechts.png)"
   ]
  },
  {
   "cell_type": "markdown",
   "id": "aaaf06b4-efb4-4229-874c-0d1c630b7c5a",
   "metadata": {},
   "source": [
    "### Der $p$-Wert-Ansatz"
   ]
  },
  {
   "cell_type": "markdown",
   "id": "d88da628-3802-4975-bb16-b60be23ac97e",
   "metadata": {},
   "source": [
    "Bei der $p$-Wert-Methode wird die Wahrscheinlichkeit ($p$-Wert) des numerischen Wertes der Teststatistik mit dem angegebenen Signifikanzniveau ($\\alpha$) des Hypothesentests verglichen.\n",
    "\n",
    "Der $p$-Wert entspricht der Wahrscheinlichkeit, Stichprobendaten zu beobachten, die mindestens so extrem sind wie die tatsächlich erhaltene Teststatistik. Kleine $p$-Werte sind ein Beweis gegen die Nullhypothese. Je kleiner (näher an $0$) der $p$-Wert ist, desto stärker ist der Beweis gegen die Nullhypothese.\n",
    "\n",
    "Ist der $p$-Wert kleiner als oder gleich dem angegebenen Signifikanzniveau $\\alpha$ ist, wird die Nullhypothese abgelehnt; andernfalls wird die Nullhypothese nicht abgelehnt. Mit anderen Worten: wenn $p \\le \\alpha$, wird $H_0$ abgelehnt; andernfalls, wenn $p \\gt \\alpha$, wird $H_0$ nicht abgelehnt.\n",
    "\n",
    "Folglich kann durch die Kenntnis des $p$-Wertes jedes gewünschte Signifikanzniveau bewertet werden. Beträgt der $p$-Wert eines Hypothesentests beispielsweise $0,01$, kann die Nullhypothese auf jedem Signifikanzniveau größer oder gleich $0,01$ abgelehnt werden. Bei einem Signifikanzniveau kleiner als $0,01$ wird sie nicht verworfen. Daher wird der $p$-Wert in der Regel verwendet, um die Stärke des Beweises gegen die Nullhypothese ohne Bezug auf das Signifikanzniveau zu bewerten.\n",
    "\n",
    "Die folgende Tabelle enthält Leitlinien für die Verwendung des $p$-Werts zur Bewertung der Beweise gegen die Nullhypothese (*{cite:p}`fahrmeirstatistik` s.388*)."
   ]
  },
  {
   "cell_type": "markdown",
   "id": "746ac5da-c7db-46c7-a97f-5b43d05de8e7",
   "metadata": {},
   "source": [
    "$$\n",
    "\\begin{array}{l|l}\n",
    "\\hline\n",
    " \\text{$p$-Wert} & \\text{Hinweise gegen  } H_0   \\\\\n",
    "\\hline\n",
    "\\ p > 0,10 &  \\text{Schwache oder keine Hinweise }   \\\\\n",
    "\\ 0,05 < p \\le 0,10 & \\text{Mäßiger Hinweis }    \\\\\n",
    "\\ 0,01 < p \\le 0,05 & \\text{Starker Hinweis}    \\\\\n",
    "\\  p \\le 0,01 & \\text{Sehr starker Hinweis}    \\\\\n",
    "\\hline \n",
    "\\end{array}\n",
    "$$"
   ]
  },
  {
   "cell_type": "code",
   "execution_count": null,
   "id": "9ac40942-8ab4-4566-b057-63340ab02c93",
   "metadata": {},
   "outputs": [],
   "source": []
  }
 ],
 "metadata": {
  "kernelspec": {
   "display_name": "Python 3 (ipykernel)",
   "language": "python",
   "name": "python3"
  },
  "language_info": {
   "codemirror_mode": {
    "name": "ipython",
    "version": 3
   },
   "file_extension": ".py",
   "mimetype": "text/x-python",
   "name": "python",
   "nbconvert_exporter": "python",
   "pygments_lexer": "ipython3",
   "version": "3.10.2"
  }
 },
 "nbformat": 4,
 "nbformat_minor": 5
}
