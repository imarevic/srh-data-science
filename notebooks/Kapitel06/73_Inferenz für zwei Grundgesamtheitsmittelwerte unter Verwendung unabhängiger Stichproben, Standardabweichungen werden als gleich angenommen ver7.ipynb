{
 "cells": [
  {
   "cell_type": "markdown",
   "id": "2d02ca77-6d9c-42a5-99ed-e4d294adfd1c",
   "metadata": {
    "tags": []
   },
   "source": [
    "## Inferenz für zwei Grundgesamtheitsmittelwerte unter Verwendung unabhängiger Stichproben; Standardabweichungen werden als gleich angenommen\n",
    "----------------------------------------"
   ]
  },
  {
   "cell_type": "code",
   "execution_count": 40,
   "id": "744cbf4e-25bf-4c05-84d2-451895bd1f24",
   "metadata": {},
   "outputs": [
    {
     "name": "stdout",
     "output_type": "stream",
     "text": [
      "\n",
      "---------------------------------\n",
      "Working on the host: LAPTOP-9LETB4SJ\n",
      "\n",
      "---------------------------------\n",
      "Python version: 3.10.2 | packaged by conda-forge | (main, Mar  8 2022, 15:52:24) [MSC v.1929 64 bit (AMD64)]\n",
      "\n",
      "---------------------------------\n",
      "Python interpreter: C:\\Users\\zak\\anaconda3\\envs\\srh\\python.exe\n"
     ]
    }
   ],
   "source": [
    "import matplotlib.pyplot as plt\n",
    "import numpy as np\n",
    "import pandas as pd\n",
    "from random import sample\n",
    "from scipy.stats import t\n",
    "from scipy import stats\n",
    "import statsmodels.api as smi\n",
    "\n",
    "%run ../src/notebook_env.py"
   ]
  },
  {
   "cell_type": "markdown",
   "id": "86404174-a63b-4100-8638-376193d03a61",
   "metadata": {},
   "source": [
    "In diesem Abschnitt führen wir einen Hypothesentest für die Mittelwerte von zwei Grundgesamtheiten durch. Wir gehen davon aus, dass die Standardabweichungen der beiden Grundgesamtheiten gleich, aber unbekannt sind. Wenn wir jedoch $\\sigma$ und die Differenz der Stichprobenmittelwerte ($\\bar{x}_1-\\bar{x}_2$) kennen würden, könnte die Teststatistik wie folgt geschrieben werden."
   ]
  },
  {
   "cell_type": "markdown",
   "id": "dd2ffafe-f89b-440e-a228-d64b6783e2ec",
   "metadata": {},
   "source": [
    "$$z = \\frac{(\\bar x_1 - \\bar x_2)-(\\mu_1-\\mu_2)}{\\sigma \\sqrt{\\frac{1}{n_1} + \\frac{1}{n_2}}}$$"
   ]
  },
  {
   "cell_type": "markdown",
   "id": "e0b81d78-81cf-4ac4-9ef0-7361766890b5",
   "metadata": {},
   "source": [
    "In fast allen realen Anwendungen kennen wir $\\sigma$ jedoch nicht. Daher müssen wir es im Voraus schätzen. Das geht am besten, wenn man die Stichprobenvarianzen $s^2_1$ und $s^2_2$ als zwei Schätzungen für $\\sigma^2$ betrachtet. Durch Zusammenfassen der beiden Stichprobenabweichungen und Gewichtung nach dem Stichprobenumfang ergibt sich der Schätzwert für $\\sigma^2$ wie folgt"
   ]
  },
  {
   "cell_type": "markdown",
   "id": "2a1a0f28-cf16-4702-a568-289bf1ca5e1d",
   "metadata": {},
   "source": [
    "$$s_z^2 = \\frac{(n_1-1)s_1^2 + (n_2-1)s_2^2 }{n_1+n_2-2}\\text{,}$$"
   ]
  },
  {
   "cell_type": "markdown",
   "id": "c8542384-5807-4a8d-bed3-31fb0c90e9f7",
   "metadata": {},
   "source": [
    "und durch Ziehen der Quadratwurzel erhalten wir"
   ]
  },
  {
   "cell_type": "markdown",
   "id": "ae0cd4f8-dc76-4b9d-aa58-4c364dfaf0b3",
   "metadata": {},
   "source": [
    "$$s_z = \\sqrt{\\frac{(n_1-1)s_1^2 + (n_2-1)s_2^2 }{n_1+n_2-2}}\\text{,}$$"
   ]
  },
  {
   "cell_type": "markdown",
   "id": "50754569-a55d-4ef8-bc14-bbe8328bac27",
   "metadata": {},
   "source": [
    "Die Größe $s_z$ wird als <a href=\"https://en.wikipedia.org/wiki/Pooled_variance\">Standardabweichung der zusammengefassten Stichprobe</a> bezeichnet, wobei der tiefgestellte Index $z$ für **zusammengefasst** steht.\n",
    "\n",
    "Die Ersetzung von $\\sigma$ in der obigen Gleichung durch seine Schätzung $s_z$ ergibt"
   ]
  },
  {
   "cell_type": "markdown",
   "id": "21986dec-5c3f-4618-a74e-d4ecec08343e",
   "metadata": {},
   "source": [
    "$$t =  \\frac{(\\bar x_1 - \\bar x_2)-(\\mu_1-\\mu_2)}{s_p \\sqrt{\\frac{1}{n_1} + \\frac{1}{n_2}}}$$"
   ]
  },
  {
   "cell_type": "markdown",
   "id": "437df3a6-f20c-4ce0-9e3b-5b30f99b629e",
   "metadata": {},
   "source": [
    "Der Nenner der Gleichung $s_z \\sqrt{\\frac{1}{n_1} + \\frac{1}{n_2}}$ ist der Schätzer der Standardabweichung von $\\bar{x}_1-\\bar{x}_2$, der wie folgt geschrieben werden kann"
   ]
  },
  {
   "cell_type": "markdown",
   "id": "400a0e87-80ff-467c-9cfa-8a39d47b7929",
   "metadata": {},
   "source": [
    "$$s_{\\bar x_1 - \\bar x_2} = s_z \\sqrt{\\frac{1}{n_1} + \\frac{1}{n_2}}$$"
   ]
  },
  {
   "cell_type": "markdown",
   "id": "9d014adb-4bd4-4ea8-b271-de43f6504c9d",
   "metadata": {},
   "source": [
    "Bitte beachten Sie, dass die Gleichung für die Teststatistik $t$ einer $t$-Verteilung folgt. Die Freiheitsgrade ($df$) sind gegeben durch"
   ]
  },
  {
   "cell_type": "markdown",
   "id": "6eb7f549-2907-4835-80f7-e49cb322b4b7",
   "metadata": {},
   "source": [
    "$$df = n_1+n_2-2$$"
   ]
  },
  {
   "cell_type": "markdown",
   "id": "9142e884-f8fb-4d04-9a9d-84bf63783419",
   "metadata": {},
   "source": [
    "### Intervall-Schätzung von $\\mu_1-\\mu_2$"
   ]
  },
  {
   "cell_type": "markdown",
   "id": "4caeb0b2-88fc-41d2-a1aa-52d3ffc788fb",
   "metadata": {},
   "source": [
    "Das $100(1-\\alpha)\\%$-Konfidenzintervall für $\\mu_1-\\mu_2$ ist gegeben durch"
   ]
  },
  {
   "cell_type": "markdown",
   "id": "2d120d23-aaab-4d0b-beca-f822eba24d1b",
   "metadata": {},
   "source": [
    "$$(\\bar x_1 - \\bar x_2) \\pm t \\times s_z \\sqrt{\\frac{1}{n_1}+\\frac{1}{n_2}}\\text{,}$$"
   ]
  },
  {
   "cell_type": "markdown",
   "id": "012a7e1e-c7cd-49cb-a4e7-76b504fc09f0",
   "metadata": {},
   "source": [
    "wobei sich der Wert von $t$ aus der $t$-Verteilung für das gegebene Konfidenzniveau und $n_1+n_2-2$ Freiheitsgrade ergibt."
   ]
  },
  {
   "cell_type": "markdown",
   "id": "e0962609-fa97-4d5b-83db-98a304a26238",
   "metadata": {},
   "source": [
    "### Der zusammengefasste $t$-Test: Ein Beispiel"
   ]
  },
  {
   "cell_type": "markdown",
   "id": "26308c36-88b9-41b5-82d0-2f59803327e6",
   "metadata": {},
   "source": [
    "Python ermöglicht es uns, einen **zusammengefassten $t$-Test** durchzuführen, indem wir die Funktion `ttest_ind()`, die wir bereits für einen $t$-Test mit einem Mittelwert verwendet haben, um das Argument `equal_var = True` erweitern.\n",
    "\n",
    "Um den zusammengefassten $t$-Test zu üben, laden wir den `students` Datensatz. Sie können die Datei `students.csv` <a href=\"https://userpage.fu-berlin.de/soga/200/2010_data_sets/students.csv\">hier</a> herunterladen. Importieren Sie den Datensatz und weisen Sie ihm einen geeigneten Namen zu."
   ]
  },
  {
   "cell_type": "code",
   "execution_count": 41,
   "id": "94e2dddd-4518-48ad-9872-641fa0372dda",
   "metadata": {},
   "outputs": [],
   "source": [
    "# Lese Datei students.csv als Dataframe ein; Indexspalte wird übersprungen\n",
    "students = pd.read_csv('students.csv', index_col=0)"
   ]
  },
  {
   "cell_type": "markdown",
   "id": "e1233a4d-ccbd-4709-b491-021939412bb4",
   "metadata": {},
   "source": [
    "Der `students` Datensatz besteht aus $8239$ Zeilen, von denen jede einen bestimmten Studenten repräsentiert, und $16$ Spalten, von denen jede einer Variable/einem Merkmal entspricht, das sich auf diesen bestimmten Studenten bezieht. Diese selbsterklärenden Variablen sind: *stud.id, Name, Geschlecht, Alter, Größe, Gewicht, Religion, nc.score, Semester, Hauptfach, Nebenfach, score1, score2, online.tutorial, graduated, salary*."
   ]
  },
  {
   "cell_type": "markdown",
   "id": "bbbe0fa8-0934-4b3a-9f21-df827916b0e2",
   "metadata": {},
   "source": [
    "Um den zusammengefassten $t$-Test zu veranschaulichen, untersuchen wir das mittlere Jahresgehalt (in Euro) der Absolventen. Die erste Grundgesamtheit besteht aus männlichen Studenten und die zweite aus weiblichen Studenten. **Die Frage ist, ob es einen Unterschied im mittleren Jahresgehalt der Absolventen in Bezug auf das Geschlecht gibt?**"
   ]
  },
  {
   "cell_type": "markdown",
   "id": "812db5e6-c799-4b57-88c2-95e6f5edf14d",
   "metadata": {},
   "source": [
    "### Vorbereitung der Daten"
   ]
  },
  {
   "cell_type": "markdown",
   "id": "42cd4162-5f1b-4363-ba92-9799f886e303",
   "metadata": {},
   "source": [
    "Wir beginnen mit der Datenaufbereitung.\n",
    "\n",
    " -   Wir unterteilen den Datensatz anhand der binären Variable `graduated`, die angibt, ob der Student seinen Abschluss bereits gemacht hat. Die ganze Zahl $1$ steht für \"abgeschlossen\", $0$\n",
    "bedeutet, dass der Schüler seinen Abschluss noch nicht gemacht hat.\n",
    "- Dann teilen wir den Datensatz nach Geschlecht auf (männlich und weiblich).\n",
    "- Dann ziehen wir aus jeder Teilmenge $50$ weibliche und $50$ männliche Studenten und extrahieren die Variable von Interesse, das mittlere Jahresgehalt (in Euro), das in der Spalte Gehalt gespeichert ist. Diese beiden Vektoren ordnen wir den Variablen `male_sample` und `female_sample` zu."
   ]
  },
  {
   "cell_type": "code",
   "execution_count": 42,
   "id": "2e2adc83-84d3-48bc-858d-1b853f2d01f2",
   "metadata": {},
   "outputs": [],
   "source": [
    "n=50\n",
    "graduated = students.loc[students['graduated'] == 1]\n",
    "male = graduated.loc[graduated['gender']== 'Male']\n",
    "female = graduated.loc[graduated['gender']== 'Female']\n",
    "\n",
    "male_sample = male['salary'].sample(n=50, random_state=1)\n",
    "female_sample = female['salary'].sample(n=50, random_state=1)"
   ]
  },
  {
   "cell_type": "markdown",
   "id": "5d09a19e-3dc5-4b2d-b32f-258650b24ad8",
   "metadata": {},
   "source": [
    "Außerdem prüfen wir ob die Daten normalverteilt sind, indem wir ein Normalwahrscheinlichkeitsdiagramm erstellen, das oft als <a href=\"https://en.wikipedia.org/wiki/Q%E2%80%93Q_plot\">Q-Q-Diagramm</a> bezeichnet wird. Wenn die Variable normalverteilt ist, sollte das Q-Q-Diagramm ungefähr linear sein.\n",
    "\n",
    "In Python können wir die Funktion `qqplot()` verwenden, um Q-Q-Plots zu erstellen."
   ]
  },
  {
   "cell_type": "code",
   "execution_count": 43,
   "id": "691b1370-ec3e-4941-83bc-d3c959179c31",
   "metadata": {},
   "outputs": [
    {
     "data": {
      "text/plain": [
       "Text(0, 0.5, 'Stichproben Quantillen')"
      ]
     },
     "execution_count": 43,
     "metadata": {},
     "output_type": "execute_result"
    },
    {
     "data": {
      "image/png": "[encoded data removed]",
      "text/plain": [
       "<Figure size 1152x720 with 1 Axes>"
      ]
     },
     "metadata": {
      "needs_background": "light"
     },
     "output_type": "display_data"
    }
   ],
   "source": [
    "# Erzeuge Q-Q Plot\n",
    "qqp = smi.qqplot(male_sample, line = \"r\")\n",
    "ax1=qqp.gca()\n",
    "ax1.set_title('Q-Q-Diagramm : Studenten(männlich)')\n",
    "ax1.set_xlabel('Theoretische Quantillen')\n",
    "ax1.set_ylabel('Stichproben Quantillen')"
   ]
  },
  {
   "cell_type": "code",
   "execution_count": 44,
   "id": "b41d0fa4-9ccf-4d10-87b3-1af2404130bd",
   "metadata": {},
   "outputs": [
    {
     "data": {
      "text/plain": [
       "Text(0, 0.5, 'Theoretische Quantillen')"
      ]
     },
     "execution_count": 44,
     "metadata": {},
     "output_type": "execute_result"
    },
    {
     "data": {
      "image/png": "[encoded data removed]",
      "text/plain": [
       "<Figure size 1152x720 with 1 Axes>"
      ]
     },
     "metadata": {
      "needs_background": "light"
     },
     "output_type": "display_data"
    }
   ],
   "source": [
    "# Erzeuge Q-Q Plot\n",
    "qqp2 = smi.qqplot(female_sample, line = \"r\")\n",
    "ax2=qqp2.gca()\n",
    "ax2.set_title('Q-Q-Diagramm : Studenten(weiblich)')\n",
    "ax2.set_xlabel('Stichproben Quantillen')\n",
    "ax2.set_ylabel('Theoretische Quantillen')"
   ]
  },
  {
   "cell_type": "markdown",
   "id": "3c15fe8f-e70f-415d-a061-cbed3069d4ad",
   "metadata": {},
   "source": [
    "Wir sehen, dass die Stichprobendaten etwas Rauschen beinhalten sind, aber sie sind immer noch ungefähr normalverteilt. Die Abweichung von der Geraden im oberen und unteren Teil deutet darauf hin, dass die Wahrscheinlichkeitsverteilung leicht schief ist.\n",
    "\n",
    "Außerdem prüfen wir, ob die Standardabweichungen der beiden Grundgesamtheiten ungefähr gleich sind. Als Faustregel gilt, dass die Bedingung gleicher Standardabweichungen der Grundgesamtheit erfüllt ist, wenn das Verhältnis der größeren zur kleineren Standardabweichung der Stichprobe kleiner als $2$ ist (Weiss 2010). Gehen wir davon aus, dass die Daten des `students` Datensatzes eine gute Annäherung an die Grundgesamtheit darstellen."
   ]
  },
  {
   "cell_type": "code",
   "execution_count": 45,
   "id": "bb19f1e9-1931-4ceb-a51c-fa8f7e2b61f2",
   "metadata": {},
   "outputs": [
    {
     "data": {
      "text/plain": [
       "9653.189579292408"
      ]
     },
     "execution_count": 45,
     "metadata": {},
     "output_type": "execute_result"
    }
   ],
   "source": [
    "# Berechne Standardabweichung\n",
    "np.std(male['salary'])"
   ]
  },
  {
   "cell_type": "code",
   "execution_count": 46,
   "id": "013f9bcc-408e-4767-8a5e-21fd81c564da",
   "metadata": {},
   "outputs": [
    {
     "data": {
      "text/plain": [
       "7723.490425480482"
      ]
     },
     "execution_count": 46,
     "metadata": {},
     "output_type": "execute_result"
    }
   ],
   "source": [
    "# Berechne Standardabweichung\n",
    "np.std(female['salary'])"
   ]
  },
  {
   "cell_type": "code",
   "execution_count": 47,
   "id": "6ae83aa7-c606-4952-bdac-a02b77245a01",
   "metadata": {},
   "outputs": [
    {
     "data": {
      "text/plain": [
       "1.2498480670663714"
      ]
     },
     "execution_count": 47,
     "metadata": {},
     "output_type": "execute_result"
    }
   ],
   "source": [
    "# Berechne Verhältnis\n",
    "np.std(male['salary'])/np.std(female['salary'])"
   ]
  },
  {
   "cell_type": "markdown",
   "id": "ec512a83-9020-434c-94a5-344e6b8fe85e",
   "metadata": {},
   "source": [
    "Das Verhältnis liegt bei etwa $1,249$, so dass wir zu dem Schluss kommen, dass das Kriterium der gleichen Standardabweichungen der Bevölkerung erfüllt ist. Eine einfache Visualisierungstechnik zur Bewertung der Streuung einer Variablen ist die Darstellung eines Boxplots."
   ]
  },
  {
   "cell_type": "code",
   "execution_count": 48,
   "id": "d78760ec-47ec-47cf-ad77-03d7b6aabc51",
   "metadata": {},
   "outputs": [
    {
     "data": {
      "image/png": "[encoded data removed]",
      "text/plain": [
       "<Figure size 1152x720 with 2 Axes>"
      ]
     },
     "metadata": {
      "needs_background": "light"
     },
     "output_type": "display_data"
    }
   ],
   "source": [
    "fig1, (ax1,ax2) = plt.subplots(2, sharex= 'all')\n",
    "\n",
    "ax1.set_title('Stichprobendaten')\n",
    "ax2.boxplot(male['salary'], vert = False)\n",
    "ax1.boxplot(female['salary'], vert = False)\n",
    "ax2.set_xlabel('Jährliches Einkommen in EUR');"
   ]
  },
  {
   "cell_type": "markdown",
   "id": "51bbc728-819f-4abd-8ede-116ec6f7abee",
   "metadata": {},
   "source": [
    "### Überprüfung der Hypothesen"
   ]
  },
  {
   "cell_type": "markdown",
   "id": "f2617a94-bb5a-4b08-8bff-d057b3632677",
   "metadata": {},
   "source": [
    "Wir führen den zusammengefassten $t$-Test durch, indem wir das schrittweise Durchführungsverfahren für Hypothesentests befolgen."
   ]
  },
  {
   "cell_type": "markdown",
   "id": "86b01f56-8a18-410b-9c78-8d4a6dba63ca",
   "metadata": {},
   "source": [
    "**Schritt 1 : Geben Sie die Nullhypothese $H_0$ und alternative Hypothese $H_A$ an**"
   ]
  },
  {
   "cell_type": "markdown",
   "id": "83532280-6598-4788-9404-b386abd0fe26",
   "metadata": {},
   "source": [
    "Die Nullhypothese besagt, dass das durchschnittliche Jahresgehalt der männlichen Absolventen ($μ_1$) gleich dem durchschnittlichen Jahresgehalt der weiblichen Absolventen ($μ_2$) ist."
   ]
  },
  {
   "cell_type": "markdown",
   "id": "2ab9a324-6ccf-4fd2-a95b-c710385e325a",
   "metadata": {},
   "source": [
    "$$H_0: \\quad \\mu_1 = \\mu_2$$"
   ]
  },
  {
   "cell_type": "markdown",
   "id": "94e32b7e-1d75-4199-8e84-e10b37e7166b",
   "metadata": {},
   "source": [
    "Es sei daran erinnert, dass die Formulierung der Alternativhypothese vorgibt, ob wir einen zweiseitigen, einen links- oder einen rechtsseitigen Hypothesentest durchführen. Wir wollen prüfen, ob das Gehalt der männlichen Absolventen ($μ_1$) höher ist als das durchschnittliche Jahresgehalt der weiblichen Absolventen ($μ_2$), daher wird die Alternativhypothese wie folgt formuliert"
   ]
  },
  {
   "cell_type": "markdown",
   "id": "55529152-fb08-4524-82dc-6b73e6a27da1",
   "metadata": {},
   "source": [
    "**Alternative Hypothese**"
   ]
  },
  {
   "cell_type": "markdown",
   "id": "9257dda6-c30a-4b65-91f5-83ce4d61ceb9",
   "metadata": {},
   "source": [
    "$$H_A: \\quad \\mu_1 > \\mu_2$$"
   ]
  },
  {
   "cell_type": "markdown",
   "id": "1c8cee1d-fcf3-4f4b-b8e4-61cbf65c713e",
   "metadata": {},
   "source": [
    "Aus dieser Formulierung ergibt sich ein rechtsseitiger Hypothesentest."
   ]
  },
  {
   "cell_type": "markdown",
   "id": "acebdb20-fd60-4a73-9e18-b813a056b1aa",
   "metadata": {},
   "source": [
    "**Schritt 2: Legen Sie das Signifikanzniveau,$\\alpha$ fest**"
   ]
  },
  {
   "cell_type": "markdown",
   "id": "996c3009-b47b-46d5-8a8b-871b9daa7f80",
   "metadata": {},
   "source": [
    "$$\\alpha = 0,01$$"
   ]
  },
  {
   "cell_type": "code",
   "execution_count": 49,
   "id": "deb2a197-39f2-488c-92cd-4f87543c3f60",
   "metadata": {},
   "outputs": [],
   "source": [
    "alpha = 0.01"
   ]
  },
  {
   "cell_type": "markdown",
   "id": "0dbf354f-57c7-47f6-bdcb-21fdd41ecfa2",
   "metadata": {},
   "source": [
    "**Schritt 3 und 4: Berechnen Sie den Wert der Teststatistik und den $p$-Wert**"
   ]
  },
  {
   "cell_type": "markdown",
   "id": "8792945f-b2cf-49fa-acec-ca186eeca24b",
   "metadata": {},
   "source": [
    "Zur Veranschaulichung berechnen wir die Teststatistik manuell in Python. Erinnern Sie sich an die Gleichung für die Teststatistik von oben."
   ]
  },
  {
   "cell_type": "markdown",
   "id": "f61e68af-5552-4ba9-8da4-e465945e7a23",
   "metadata": {},
   "source": [
    "$$t =  \\frac{(\\bar x_1 - \\bar x_2)-(\\mu_1-\\mu_2)}{s_z \\sqrt{\\frac{1}{n_1} + \\frac{1}{n_2}}}$$"
   ]
  },
  {
   "cell_type": "markdown",
   "id": "7c22f276-9be2-4202-8a84-3ab2fd64b914",
   "metadata": {},
   "source": [
    "Wenn $H_0$ wahr ist, dann ist $\\mu_1-\\mu_2=0$ und somit vereinfacht sich die Gleichung zu"
   ]
  },
  {
   "cell_type": "markdown",
   "id": "49604836-8803-4e04-b447-8cc6b5568a40",
   "metadata": {},
   "source": [
    "$$t =  \\frac{(\\bar x_1 - \\bar x_2)}{s_z \\sqrt{\\frac{1}{n_1} + \\frac{1}{n_2}}}\\text{,}$$"
   ]
  },
  {
   "cell_type": "markdown",
   "id": "bf2a8fa4-8bb1-4679-a3ec-839260949f54",
   "metadata": {},
   "source": [
    "wobei $s_z$ gleich"
   ]
  },
  {
   "cell_type": "markdown",
   "id": "0781155f-6050-487c-b1b7-5533ec4465ec",
   "metadata": {},
   "source": [
    "$$s_z = \\sqrt{\\frac{(n_1-1)s_1^2 + (n_2-1)s_2^2 }{n_1+n_2-2}}$$"
   ]
  },
  {
   "cell_type": "markdown",
   "id": "2b50e9d2-9929-4e78-843d-da924a61e357",
   "metadata": {},
   "source": [
    "ist."
   ]
  },
  {
   "cell_type": "code",
   "execution_count": 50,
   "id": "30aa06bd-d660-45e8-99f0-1601c2642f1e",
   "metadata": {},
   "outputs": [
    {
     "data": {
      "text/plain": [
       "5.591470345287415"
      ]
     },
     "execution_count": 50,
     "metadata": {},
     "output_type": "execute_result"
    }
   ],
   "source": [
    "# Berechne Teststatistik\n",
    "n1 =len(male_sample)\n",
    "n2 = len(female_sample)\n",
    "s1 = np.std(male_sample,ddof= 1) \n",
    "s2 = np.std(female_sample,ddof= 1) \n",
    "x1_bar = np.mean(male_sample)\n",
    "x2_bar = np.mean(female_sample)\n",
    "  \n",
    "sp = np.sqrt(((n1-1)*s1**2+(n2-1)*s2**2)/(n1+n2-2))\n",
    "tw = (x1_bar-x2_bar)/(sp*np.sqrt(1/n1+1/n2))\n",
    "tw"
   ]
  },
  {
   "cell_type": "markdown",
   "id": "1e63a841-0e75-49ee-9397-e47278bfd120",
   "metadata": {},
   "source": [
    "Der numerische Wert der Teststatistik ist $5,59147$.\n",
    "\n",
    "Um den $p$-Wert zu berechnen, wenden wir die Funktion `t.cdf()` an. Erinnern Sie sich daran, wie man die Freiheitsgrade berechnet."
   ]
  },
  {
   "cell_type": "markdown",
   "id": "47eacab9-dc43-40c5-aefb-1f5df1da827f",
   "metadata": {},
   "source": [
    "$$df = n_1+n_2-2 = 50 + 50 - 2 = 98$$"
   ]
  },
  {
   "cell_type": "code",
   "execution_count": 51,
   "id": "a6cc3e47-bc11-40dc-a5f4-5b4b23a3edf9",
   "metadata": {},
   "outputs": [
    {
     "data": {
      "text/plain": [
       "1.0169269359927569e-07"
      ]
     },
     "execution_count": 51,
     "metadata": {},
     "output_type": "execute_result"
    }
   ],
   "source": [
    "# Berechne den p-Wert\n",
    "df = n1+n2-2\n",
    "p = 1-t.cdf(tw, df = df)\n",
    "p"
   ]
  },
  {
   "cell_type": "markdown",
   "id": "04093140-03ac-4d5f-9218-d33ce90029eb",
   "metadata": {},
   "source": [
    "**Schritt 5: Wenn $p \\le \\alpha , H_0$ ablehnen; ansonsten $H_0$ nicht ablehnen**"
   ]
  },
  {
   "cell_type": "code",
   "execution_count": 52,
   "id": "8996ae32-b520-481c-bd08-a4e60f12913c",
   "metadata": {},
   "outputs": [
    {
     "data": {
      "text/plain": [
       "True"
      ]
     },
     "execution_count": 52,
     "metadata": {},
     "output_type": "execute_result"
    }
   ],
   "source": [
    "p <= alpha"
   ]
  },
  {
   "cell_type": "markdown",
   "id": "721e2a84-abd4-4e3b-a854-f9e13fc441be",
   "metadata": {},
   "source": [
    "Der $p$-Wert ist kleiner als das angegebene Signifikanzniveau von $0,01$; wir verwerfen $H_0$. Die Testergebnisse sind statistisch signifikant auf dem $1 \\%$-Niveau und liefern einen sehr starken Beweis gegen die Nullhypothese."
   ]
  },
  {
   "cell_type": "markdown",
   "id": "8e552371-f1ad-4af3-845f-89be628ac93f",
   "metadata": {},
   "source": [
    "**Schritt 6: Interpretieren Sie das Ergebnis des Hypothesentests**"
   ]
  },
  {
   "cell_type": "markdown",
   "id": "feaf07ee-187d-4b2f-81f1-de7fa6b2f3d1",
   "metadata": {},
   "source": [
    "$p=1,0169 \\cdot 10^{-7}$; Bei einem Signifikanzniveau von $1 \\%$ lassen die Daten den Schluss zu, dass das Durchschnittsgehalt männlicher Studenten höher ist als das Durchschnittsgehalt weiblicher Studenten."
   ]
  },
  {
   "cell_type": "markdown",
   "id": "e9d5cab7-6efa-4b45-a55d-2567ee5f8767",
   "metadata": {},
   "source": [
    "### Hypothesentests in Python"
   ]
  },
  {
   "cell_type": "markdown",
   "id": "c460e67c-0405-410b-ad08-64137c22ae3f",
   "metadata": {},
   "source": [
    "Wir haben soeben manuell einen zusammengefassten $t$-Test in Python durchgeführt. Bitte beachten Sie jedoch, dass wir die volle Leistungsfähigkeit von Python nutzen können, um das gleiche Ergebnis wie oben in nur einer Zeile Code zu erhalten!\n",
    "\n",
    "Um einen zusammengefassten $t$-Test in Python durchzuführen, verwenden wir die Funktion `ttest_ind()`. Wir geben zwei Vektoren als Dateneingabe an und setzen `equal_var=True`, um explizit anzugeben, dass wir die zusammengefasste Version des $t$-Tests anwenden, und wir setzen das Argument `alternative` auf `alternative=greater`, um $H_A$ widerzuspiegeln:$\\mu1 \\gt \\mu2$"
   ]
  },
  {
   "cell_type": "code",
   "execution_count": 53,
   "id": "0e7833ab-728e-4424-a86d-40e09e95db41",
   "metadata": {},
   "outputs": [
    {
     "data": {
      "text/plain": [
       "Ttest_indResult(statistic=5.591470345287416, pvalue=1.0169269353574991e-07)"
      ]
     },
     "execution_count": 53,
     "metadata": {},
     "output_type": "execute_result"
    }
   ],
   "source": [
    "stats.ttest_ind(male_sample, female_sample, equal_var=True, alternative = 'greater')"
   ]
  },
  {
   "cell_type": "markdown",
   "id": "28e4db1e-a622-4aa7-9be1-8069b3a42457",
   "metadata": {},
   "source": [
    "Ein großer Erfolg! Vergleichen Sie die Ausgabe der Funktion `ttest_ind()` mit unserem Ergebnis von oben. Sie stimmen perfekt überein! Auch hier können wir schlussfolgern, dass bei einem Signifikanzniveau von $1 \\%$ die Daten einen sehr starken Hinweis darauf liefern, dass das Durchschnittsgehalt der männlichen Absolventen höher ist als das der weiblichen Absolventen."
   ]
  }
 ],
 "metadata": {
  "kernelspec": {
   "display_name": "Python 3 (ipykernel)",
   "language": "python",
   "name": "python3"
  },
  "language_info": {
   "codemirror_mode": {
    "name": "ipython",
    "version": 3
   },
   "file_extension": ".py",
   "mimetype": "text/x-python",
   "name": "python",
   "nbconvert_exporter": "python",
   "pygments_lexer": "ipython3",
   "version": "3.10.2"
  }
 },
 "nbformat": 4,
 "nbformat_minor": 5
}
