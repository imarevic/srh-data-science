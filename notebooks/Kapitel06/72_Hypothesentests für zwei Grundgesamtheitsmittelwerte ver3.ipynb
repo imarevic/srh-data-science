{
 "cells": [
  {
   "cell_type": "markdown",
   "id": "2ad03ed2-ae37-4fe7-a55f-e07cbe2507ad",
   "metadata": {},
   "source": [
    "## Hypothesentests für zwei Grundgesamtheitsmittelwerte\n",
    "----------------------------------------"
   ]
  },
  {
   "cell_type": "markdown",
   "id": "a9b07c22-f292-41dc-8bca-6d5dc64a3065",
   "metadata": {},
   "source": [
    "Bisher haben wir uns auf Hypothesentests für den Mittelwert einer Grundgesamtheit konzentriert. In vielen Anwendungen wollen wir jedoch die Mittelwerte von zwei oder mehr Grundgesamtheiten vergleichen. In den folgenden Abschnitten werden Schlussfolgerungsverfahren für den Vergleich der Mittelwerte von zwei Grundgesamtheiten erörtert. Daher müssen wir zunächst zwischen Stichproben aus zwei <a href=\"https://en.wikipedia.org/wiki/Independence_(probability_theory)\">unabhängigen</a> Populationen und Stichproben aus nicht unabhängigen Populationen unterscheiden, die als <a href=\"https://en.wikipedia.org/wiki/Paired_difference_test\">gepaarte</a> Stichproben bezeichnet werden.\n",
    "\n",
    "In den folgenden Abschnitten werden die Parameter und die Statistiken von Population $1$ und Population $2$ mit dem Index $1$ bzw. $2$ bezeichnet. Somit sind $\\mu_1$ und $\\sigma_1$ die Populationsparameter der Population $1$ und $\\mu_2$ und $\\sigma_2$ die der Population $2$. Analog dazu sind $\\bar{x}_1, s_1$ und $n_1$ der Stichprobenmittelwert, die Stichprobenstandardabweichung und der Stichprobenumfang der Grundgesamtheit $1$, während $\\bar{x}_2, s_2$ und $n_2$ der aus der Grundgesamtheit $2$ gezogenen Stichprobe entsprechen.\n",
    "\n",
    "Für unabhängige Stichproben mit dem Umfang $n_1$ und $n_2$ der Grundgesamtheit $1$ und der Grundgesamtheit $2$ ist der Mittelwert aller möglichen Unterschiede zwischen den beiden Stichprobenmittelwerten gleich dem Unterschied zwischen den beiden Grundgesamtheitsmittelwerten."
   ]
  },
  {
   "cell_type": "markdown",
   "id": "6f0f84b8-2c42-4967-86e1-9687643f4d95",
   "metadata": {},
   "source": [
    "$$\\mu_{\\bar x_1 -\\bar x_2} = \\mu_1-\\mu_2$$"
   ]
  },
  {
   "cell_type": "markdown",
   "id": "1f47298d-30d8-443b-be63-93db3979191a",
   "metadata": {},
   "source": [
    "Außerdem ist die Standardabweichung aller möglichen Unterschiede zwischen den beiden Stichprobenmittelwerten gleich der Quadratwurzel aus der Summe der Varianzen der Grundgesamtheit, jeweils dividiert durch den entsprechenden Stichprobenumfang."
   ]
  },
  {
   "cell_type": "markdown",
   "id": "ada8f013-32a6-4fc1-a0a7-0be8511b94cd",
   "metadata": {},
   "source": [
    "$$\\sigma_{\\bar x_1 -\\bar x_2} = \\sqrt{\\frac{\\sigma^2_1}{n_1} + \\frac{\\sigma^2_1}{n_2}}$$"
   ]
  },
  {
   "cell_type": "markdown",
   "id": "62af7eb7-d97b-4fba-a626-d14ab209bcad",
   "metadata": {},
   "source": [
    "Eine normalverteilte Variable oder ein ausreichend großer Stichprobenumfang (man denke an den <a href=\"https://en.wikipedia.org/wiki/Central_limit_theorem\">zentralen Grenzwertsatz</a>) führt dazu, dass die Differenz der Stichprobenmittelwerte ($\\bar{x}_1-\\bar{x}_2$) ebenfalls normalverteilt ist.\n",
    "\n",
    "Die Hypothesentestverfahren für zwei Grundgesamtheitsmittelwerte sind im Grunde dieselben wie für einen Grundgesamtheitsmittelwert. Bitte beachten Sie, dass wir uns in den folgenden Abschnitten auf den $p$-Wert-Ansatz konzentrieren und nicht mehr auf den kritischen Wert-Ansatz eingehen. Daher wird das Hypothesentestverfahren leicht überarbeitet. Das schrittweise Vorgehen bei Hypothesentests ist wie folgt zusammengefasst"
   ]
  },
  {
   "cell_type": "markdown",
   "id": "6dc9b29c-2c99-4d92-b575-cc16342b648e",
   "metadata": {},
   "source": [
    "$$\n",
    "\\begin{array}{l}\n",
    "\\hline\n",
    "\\ \\text{Schritt 1}  & \\text{Geben Sie die Nullhypothese } H_0 \\text{ und alternative Hypothese } H_A \\text{ an.}\\\\\n",
    "\\ \\text{Schritt 2}  & \\text{Legen Sie das Signifikanzniveau, } \\alpha\\text{ fest.} \\\\\n",
    "\\ \\text{Schritt 3}  & \\text{Berechnen Sie den Wert der Teststatistik.} \\\\\n",
    "\\ \\text{Schritt 4} &\\text{P-Wert-Ansatz: Bestimmen Sie den p-Wert.} \\\\\n",
    "\\ \\text{Schritt 5b} & \\text{P-Wert-Ansatz: Wenn } p\\le \\alpha \\text{, } H_0 \\text{ ablehnen } \\text{; ansonsten } H_0 \\text{ nicht ablehnen} \\text{.} \\\\\n",
    "\\ \\text{Schritt 6} &\\text{Interpretieren Sie das Ergebnis des Hypothesentests.} \\\\\n",
    "\\hline\n",
    "\\end{array}\n",
    "$$"
   ]
  },
  {
   "cell_type": "code",
   "execution_count": null,
   "id": "086e8350-2671-4c20-a5ed-51a662de2b29",
   "metadata": {},
   "outputs": [],
   "source": []
  }
 ],
 "metadata": {
  "kernelspec": {
   "display_name": "Python 3 (ipykernel)",
   "language": "python",
   "name": "python3"
  },
  "language_info": {
   "codemirror_mode": {
    "name": "ipython",
    "version": 3
   },
   "file_extension": ".py",
   "mimetype": "text/x-python",
   "name": "python",
   "nbconvert_exporter": "python",
   "pygments_lexer": "ipython3",
   "version": "3.10.2"
  }
 },
 "nbformat": 4,
 "nbformat_minor": 5
}
