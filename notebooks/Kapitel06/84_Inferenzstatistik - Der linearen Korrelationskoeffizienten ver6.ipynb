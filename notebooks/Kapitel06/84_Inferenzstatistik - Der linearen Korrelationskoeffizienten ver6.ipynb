{
 "cells": [
  {
   "cell_type": "markdown",
   "id": "64c7d750-59ef-4161-91f7-0b0d5db03b29",
   "metadata": {},
   "source": [
    "## Inferenzstatistik - Der lineare Korrelationskoeffizienten\n",
    "----------------------------------------"
   ]
  },
  {
   "cell_type": "code",
   "execution_count": 2,
   "id": "10661044-2f4e-415e-8a80-96992a213678",
   "metadata": {},
   "outputs": [
    {
     "name": "stdout",
     "output_type": "stream",
     "text": [
      "\n",
      "---------------------------------\n",
      "Working on the host: LAPTOP-9LETB4SJ\n",
      "\n",
      "---------------------------------\n",
      "Python version: 3.10.2 | packaged by conda-forge | (main, Mar  8 2022, 15:52:24) [MSC v.1929 64 bit (AMD64)]\n",
      "\n",
      "---------------------------------\n",
      "Python interpreter: C:\\Users\\zak\\anaconda3\\envs\\srh\\python.exe\n"
     ]
    }
   ],
   "source": [
    "import matplotlib.pyplot as plt\n",
    "import numpy as np\n",
    "import pandas as pd\n",
    "#import pylab\n",
    "from random import sample\n",
    "from scipy.stats import t\n",
    "from scipy import stats\n",
    "import scipy.stats\n",
    "import statsmodels.api as smi\n",
    "\n",
    "\n",
    "%run ../src/notebook_env.py"
   ]
  },
  {
   "cell_type": "markdown",
   "id": "865f06b1-e901-412b-a44d-869cca08f8c0",
   "metadata": {},
   "source": [
    "Um zu prüfen, ob zwei Variablen linear korreliert sind, d. h. ob eine lineare Beziehung zwischen den beiden Variablen besteht, können wir den so genannten **$t$-Korrelationstest** anwenden. Der **lineare Korrelationskoeffizient der Grundgesamtheit**, $\\rho$, misst die lineare Korrelation zweier Variablen auf die gleiche Weise wie der **lineare Korrelationskoeffizient der Stichprobe**, $r$, die lineare Korrelation zweier Variablen einer Stichprobe von Paaren misst. Sowohl $\\rho$ als auch $r$ beschreiben die Stärke der linearen Beziehung zwischen zwei Variablen; $r$ ist jedoch eine Schätzung von $\\rho$ der aus Stichprobendaten gewonnen wird.\n",
    "\n",
    "Der lineare Korrelationskoeffizient von zwei Variablen liegt zwischen $-1$ und $1$. Bei $\\rho=0$ sind die Variablen linear unkorreliert, es besteht also keine lineare Beziehung zwischen den Variablen. Bei $\\rho \\ne 0$ sind die Variablen linear korreliert. Wenn $\\rho \\gt 0$, sind die Variablen positiv linear korreliert, und wenn $\\rho \\lt 0$ sind die Variablen negativ linear korreliert.\n",
    "\n",
    "Eine häufig verwendete Statistik zur Berechnung der linearen Beziehung zwischen quantitativen Variablen ist der <a href=\"https://en.wikipedia.org/wiki/Pearson_correlation_coefficient\">Pearson-Produkt-Moment-Korrelationskoeffizient</a>. Er ist gegeben durch"
   ]
  },
  {
   "cell_type": "markdown",
   "id": "31ad1c6d-4ac0-43f0-b551-8c0061b46948",
   "metadata": {},
   "source": [
    "$$r = \\frac{\\sum_{i=1}^n(x_i- \\bar x)(y_i - \\bar y)}{\\sqrt{\\sum_{i=1}^n(x_i- \\bar x)^2}\\sqrt{\\sum_{i=1}^n(y_i- \\bar y)^2}}=\\frac{s_{xy}}{s_x s_y}\\text{,}$$"
   ]
  },
  {
   "cell_type": "markdown",
   "id": "bdc877ee-f22a-4f36-af9a-80f6b41fb364",
   "metadata": {},
   "source": [
    "wobei $s_{xy}$ die Kovarianz von $x$ und $y$ ist und $s_x$ und $s_y$ die Standardabweichungen von $x$ bzw. $y$ sind.\n",
    "\n",
    "Da der lineare Korrelationskoeffizient der Stichprobe, $r$ eine Schätzung des linearen Korrelationskoeffizienten der Grundgesamtheit, $\\rho$, ist, können wir $r$ für einen Hypothesentest für $\\rho$ verwenden. Die Teststatistik für einen Korrelationstest hat eine $t$-Verteilung mit $n-2$ Freiheitsgraden und kann wie folgt geschrieben werden"
   ]
  },
  {
   "cell_type": "markdown",
   "id": "efb1685d-38f6-44e8-9e02-fb61df1368a5",
   "metadata": {},
   "source": [
    "$$t= \\frac{r}{\\sqrt{\\frac{1-r^2}{n-2}}}\\text{.}$$"
   ]
  },
  {
   "cell_type": "markdown",
   "id": "c9516645-5976-4dd8-9385-e8c4f38a8fa8",
   "metadata": {},
   "source": [
    "### Der t-Test für die Korrelation: Ein Beispiel"
   ]
  },
  {
   "cell_type": "markdown",
   "id": "140bf731-a4a8-45d7-928b-d7f62232ac32",
   "metadata": {},
   "source": [
    "Um den $t$-Test für die Korrelation zu üben, laden wir den `students` Datensatz. Sie können die Datei `students.csv` <a href=\"https://userpage.fu-berlin.de/soga/200/2010_data_sets/students.csv\">hier</a> herunterladen. Importieren Sie den Datensatz und geben Sie ihm einen passenden Namen."
   ]
  },
  {
   "cell_type": "code",
   "execution_count": 3,
   "id": "139e0e9c-b03e-4fe6-bb0b-a0b5c34889b5",
   "metadata": {},
   "outputs": [],
   "source": [
    "# Lese Datei students.csv als Dataframe ein; Indexspalte wird übersprungen\n",
    "students = pd.read_csv('students.csv', index_col=0)"
   ]
  },
  {
   "cell_type": "markdown",
   "id": "5c6c6262-4148-4f00-9897-91a83b4363c9",
   "metadata": {},
   "source": [
    "Der `students` Datensatz besteht aus $8239$ Zeilen, von denen jede einen bestimmten Studenten repräsentiert, und $16$ Spalten, von denen jede einer Variable/einem Merkmal entspricht, das sich auf diesen bestimmten Studenten bezieht. Diese selbsterklärenden Variablen sind: *stud.id, name, gender, age, height, weight, religion, nc.score, semester, major, minor, score1, score2, online.tutorial, graduated, salary.*"
   ]
  },
  {
   "cell_type": "markdown",
   "id": "7faaf2ab-d5ca-4974-8cf2-89e8ac337614",
   "metadata": {},
   "source": [
    "Um den $t$-Test für die Korrelation zu veranschaulichen, untersuchen wir die Beziehung zwischen den Variablen `score1` und `score2`, die das Ergebnis von zwei obligatorischen statistischen Prüfungen darstellen. **Die Frage ist, ob es eine lineare Beziehung zwischen den Noten von zwei aufeinanderfolgenden statistischen Prüfungen gibt?**"
   ]
  },
  {
   "cell_type": "markdown",
   "id": "00e1c01b-ed04-441e-b1f1-92b4957702a5",
   "metadata": {},
   "source": [
    "### Vorbereitung der Daten"
   ]
  },
  {
   "cell_type": "markdown",
   "id": "6e658a37-1dd0-403e-9381-18c0d8c17e14",
   "metadata": {},
   "source": [
    "Wir beginnen mit der Datenvorbereitung.\n",
    "\n",
    "- Wir unterteilen den Datensatz anhand der Variablen `score1` und `score2`. Durch Anwendung der Funktion `dropna()` lassen wir alle `nan`-Werte im Datensatz aus.\n",
    "- Dann ziehen wir aus jeder Teilmenge 50 Studierende und extrahieren die Variablen von Interesse."
   ]
  },
  {
   "cell_type": "code",
   "execution_count": 4,
   "id": "78edc181-0721-4e0c-879f-1afc51a76c0d",
   "metadata": {},
   "outputs": [],
   "source": [
    "n = 50\n",
    "sample_idx = students.dropna()\n",
    "sample_idx = sample_idx.sample(n,random_state = 1) \n",
    "\n",
    "score1 = sample_idx['score1'] \n",
    "score2 = sample_idx['score2'] "
   ]
  },
  {
   "cell_type": "markdown",
   "id": "2e80852f-bcc4-457e-b491-41fb26938a21",
   "metadata": {},
   "source": [
    "Zum Zweck der visuellen Kontrolle stellen wir die Stichprobe in Form eines Streudiagramms dar."
   ]
  },
  {
   "cell_type": "code",
   "execution_count": 5,
   "id": "331fa73f-b52c-4321-be63-5d396f93118b",
   "metadata": {},
   "outputs": [
    {
     "data": {
      "text/plain": [
       "<matplotlib.collections.PathCollection at 0x1f9544509d0>"
      ]
     },
     "execution_count": 5,
     "metadata": {},
     "output_type": "execute_result"
    },
    {
     "data": {
      "image/png": "[encoded data removed]",
      "text/plain": [
       "<Figure size 432x288 with 1 Axes>"
      ]
     },
     "metadata": {
      "needs_background": "light"
     },
     "output_type": "display_data"
    }
   ],
   "source": [
    "plt.xlabel('score1')\n",
    "plt.ylabel('score2')\n",
    "plt.scatter(score1, score2,edgecolor = 'k', color = 'white')"
   ]
  },
  {
   "cell_type": "markdown",
   "id": "eeacb05f-e64c-447a-87c9-f30ee30ad5f4",
   "metadata": {},
   "source": [
    "Die visuelle Inspektion zeigt, dass eine positive lineare Beziehung zwischen den Variablen `score1` und `score2` besteht."
   ]
  },
  {
   "cell_type": "markdown",
   "id": "d05b9e7e-8049-44b7-9d39-7dfd7af10255",
   "metadata": {},
   "source": [
    "### Überprüfung der Hypothesen"
   ]
  },
  {
   "cell_type": "markdown",
   "id": "99af9879-c6e4-4131-b22a-aa4bae40b709",
   "metadata": {},
   "source": [
    "Zur Durchführung des $t$-Tests für die Korrelation folgen wir dem schrittweisen Durchführungsverfahren für Hypothesentests. Der $t$-Test für die Korrelation folgt demselben schrittweisen Verfahren wie in den vorangegangenen Abschnitten beschrieben. "
   ]
  },
  {
   "cell_type": "markdown",
   "id": "b7e15693-6acf-4a21-a3f5-c537b57b086d",
   "metadata": {},
   "source": [
    "\\begin{array}{l}\n",
    "\\hline\n",
    "\\ \\text{Schritt 1}  & \\text{Geben Sie die Nullhypothese } H_0 \\text{ und alternative Hypothese } H_A \\text{ an.}\\\\\n",
    "\\ \\text{Schritt 2}  & \\text{Legen Sie das Signifikanzniveau, } \\alpha\\text{ fest.} \\\\\n",
    "\\ \\text{Schritt 3}  & \\text{Berechnen Sie den Wert der Teststatistik.} \\\\\n",
    "\\ \\text{Schritt 4} &\\text{Bestimmen Sie den p-Wert.} \\\\\n",
    "\\ \\text{Schritt 5} & \\text{Wenn }p \\le \\alpha \\text{, } H_0 \\text{ ablehnen } \\text{; ansonsten } H_0 \\text{ nicht ablehnen} \\text{.} \\\\\n",
    "\\ \\text{Schritt 6} &\\text{Interpretieren Sie das Ergebnis des Hypothesentests.} \\\\\n",
    "\\hline \n",
    "\\end{array}"
   ]
  },
  {
   "cell_type": "markdown",
   "id": "22f10131-3a8d-4504-8c95-daac61f367a3",
   "metadata": {},
   "source": [
    "**Schritt 1 : Geben Sie die Nullhypothese $H_0$ und alternative Hypothese $H_A$ an**"
   ]
  },
  {
   "cell_type": "markdown",
   "id": "93ece9fd-e13e-4726-a960-f9f6fbe875ca",
   "metadata": {},
   "source": [
    "Die Nullhypothese besagt, dass es keinen linearen Zusammenhang zwischen den Noten von zwei aufeinanderfolgenden Statistikprüfungen gibt."
   ]
  },
  {
   "cell_type": "markdown",
   "id": "5d30ea64-933f-4840-886a-e2a3a439d680",
   "metadata": {
    "tags": []
   },
   "source": [
    "$$H_0: r  = 0$$"
   ]
  },
  {
   "cell_type": "markdown",
   "id": "97a5699b-f988-42e3-a57b-ec5e6c9bab47",
   "metadata": {},
   "source": [
    "Erinnern Sie sich daran, dass die Formulierung der Alternativhypothese vorgibt, ob wir einen zweiseitigen, einen links- oder einen rechtsseitigen Hypothesentest durchführen."
   ]
  },
  {
   "cell_type": "markdown",
   "id": "f2be2788-56a3-4fa5-9469-b4884ebb2bed",
   "metadata": {},
   "source": [
    "**Alternative Hypothese**"
   ]
  },
  {
   "cell_type": "markdown",
   "id": "da5a7e0c-f913-43ff-912c-876212ae5c6d",
   "metadata": {},
   "source": [
    "$$H_A: r \\ne 0$$"
   ]
  },
  {
   "cell_type": "markdown",
   "id": "f53659cd-38f8-4d43-8978-8dd224f75932",
   "metadata": {},
   "source": [
    "Diese Formulierung führt zu einem zweiseitigen Hypothesentest."
   ]
  },
  {
   "cell_type": "markdown",
   "id": "f3220977-7976-441e-acad-fa4addf7f0de",
   "metadata": {},
   "source": [
    "**Schritt 2: Legen Sie das Signifikanzniveau,$\\alpha$ fest**"
   ]
  },
  {
   "cell_type": "markdown",
   "id": "645222b2-8d9b-433c-9783-573e699b0e98",
   "metadata": {},
   "source": [
    "$$\\alpha = 0.01$$"
   ]
  },
  {
   "cell_type": "code",
   "execution_count": 6,
   "id": "1d93ac53-f439-4aff-922b-1e289950a9d0",
   "metadata": {},
   "outputs": [],
   "source": [
    "alpha = 0.01"
   ]
  },
  {
   "cell_type": "markdown",
   "id": "dcf1f98d-668d-4e95-962c-de278c9edce1",
   "metadata": {},
   "source": [
    "**Schritt 3 und 4: Berechnen Sie den Wert der Teststatistik und den $p$-Wert**"
   ]
  },
  {
   "cell_type": "markdown",
   "id": "0ba072f4-291c-4cf7-9470-9a2a93caeee7",
   "metadata": {},
   "source": [
    "Zur Veranschaulichung berechnen wir die Teststatistik manuell in Python. Erinnern Sie sich an die obige Gleichungsform:"
   ]
  },
  {
   "cell_type": "markdown",
   "id": "a14a83db-0349-4ab4-b094-0769ec38b854",
   "metadata": {},
   "source": [
    "$$t= \\frac{r}{\\sqrt{\\frac{1-r^2}{n-2}}}$$"
   ]
  },
  {
   "cell_type": "code",
   "execution_count": 7,
   "id": "a99fda12-81dc-4129-a7d5-0f055ff93b2b",
   "metadata": {},
   "outputs": [
    {
     "data": {
      "text/plain": [
       "14.846357121994247"
      ]
     },
     "execution_count": 7,
     "metadata": {},
     "output_type": "execute_result"
    }
   ],
   "source": [
    "n = len(score1)\n",
    "\n",
    "# Compute the value of the test statistic\n",
    "#  pearson correlation coefficient r\n",
    "r = np.corrcoef(score1, score2)[0][1]\n",
    "\n",
    "#test statistic\n",
    "tw = r / np.sqrt((1-r**2)/(n-2))\n",
    "tw"
   ]
  },
  {
   "cell_type": "markdown",
   "id": "79e30c3b-3a72-4aad-b6bb-9cb6cb5150ce",
   "metadata": {},
   "source": [
    "Der numerische Wert der Teststatistik ist $14,846357$.\n",
    "\n",
    "Um den $p$-Wert zu berechnen, wenden wir die Funktion `t.cdf()` an. Erinnern Sie sich daran, wie man die Freiheitsgrade berechnet:"
   ]
  },
  {
   "cell_type": "markdown",
   "id": "24062f66-ed82-4030-bacf-7d434075530b",
   "metadata": {},
   "source": [
    "$$df = n - 2= 48$$"
   ]
  },
  {
   "cell_type": "code",
   "execution_count": 8,
   "id": "c6eb6b77-9540-4522-9fc3-b05d367d7e41",
   "metadata": {},
   "outputs": [
    {
     "data": {
      "text/plain": [
       "1.4401962006630608e-19"
      ]
     },
     "execution_count": 8,
     "metadata": {},
     "output_type": "execute_result"
    }
   ],
   "source": [
    "# Compute the p-value\n",
    "df = len(score1)-2\n",
    "\n",
    "# two-sided test\n",
    "p_upper = t.sf(abs(tw), df = df)\n",
    "p_lower = t.cdf(-abs(tw), df = df)\n",
    "p = p_upper + p_lower\n",
    "p"
   ]
  },
  {
   "cell_type": "markdown",
   "id": "68d5c13f-acf3-423c-95dc-927622421cd4",
   "metadata": {
    "tags": []
   },
   "source": [
    "**Schritt 5: Wenn $p \\le \\alpha , H_0$ ablehnen; ansonsten $H_0$ nicht ablehnen**"
   ]
  },
  {
   "cell_type": "code",
   "execution_count": 11,
   "id": "ba11402c-9a49-4c50-8f55-842c41999a94",
   "metadata": {
    "tags": []
   },
   "outputs": [
    {
     "data": {
      "text/plain": [
       "True"
      ]
     },
     "execution_count": 11,
     "metadata": {},
     "output_type": "execute_result"
    }
   ],
   "source": [
    "p <= alpha"
   ]
  },
  {
   "cell_type": "markdown",
   "id": "9c39e764-59ea-4b06-a80a-f83eb8162753",
   "metadata": {},
   "source": [
    "Der $p$-Wert ist kleiner als das angegebene Signifikanzniveau von $0,01$; wir verwerfen $H_0$. Die Testergebnisse sind statistisch signifikant auf dem $1 \\%$-Niveau und liefern einen sehr starken Beweis gegen die Nullhypothese."
   ]
  },
  {
   "cell_type": "markdown",
   "id": "755ae432-932b-4fe5-b004-0073b80569fd",
   "metadata": {},
   "source": [
    "**Schritt 6: Interpretieren Sie das Ergebnis des Hypothesentests**"
   ]
  },
  {
   "cell_type": "markdown",
   "id": "c7ec2b01-fead-485c-8a2a-69921eda2eed",
   "metadata": {},
   "source": [
    "$p=1,4401962 \\cdot 10^{-19}$. Bei einem Signifikanzniveau von $1 \\%$ lassen die Daten den Schluss zu, dass die Prüfungsnoten der Studenten linear korreliert sind."
   ]
  },
  {
   "cell_type": "markdown",
   "id": "43df1372-9fdc-43ff-baa7-f2061bdb034d",
   "metadata": {},
   "source": [
    "### Hypothesentests in Python"
   ]
  },
  {
   "cell_type": "markdown",
   "id": "fd8e77ee-d35f-4947-8d51-7356838c5c1a",
   "metadata": {},
   "source": [
    "Wir haben soeben einen $t$-Test für die Korrelation in Python manuell durchgeführt. Wir können dasselbe in Python mit nur einer Zeile Code tun!\n",
    "\n",
    "Dazu wenden wir die Funktion `pearsonr()` an. Für die Funktion verwenden wir die zwei Vektoren, `score1` und `score2`, als Dateneingabe."
   ]
  },
  {
   "cell_type": "code",
   "execution_count": 12,
   "id": "addbf3b3-e3a8-4745-ad9d-5ac5cbb78c66",
   "metadata": {},
   "outputs": [
    {
     "name": "stdout",
     "output_type": "stream",
     "text": [
      "Korrelationskoeffizient :  0.9061854032279849\n",
      "p - Wert :  1.4401962006631032e-19\n"
     ]
    }
   ],
   "source": [
    "r, p_value = stats.pearsonr(score1,score2)\n",
    "print('Korrelationskoeffizient : ',r)\n",
    "print('p - Wert : ',p_value)"
   ]
  },
  {
   "cell_type": "markdown",
   "id": "a032506c-d46e-4c9d-8c68-479807b7a24e",
   "metadata": {},
   "source": [
    "Perfekt! Vergleichen Sie die Ausgabe der Funktion `pearsonr()` mit unserem Ergebnis von oben. Darüber hinaus gibt die Funktion den Pearson-Korrelationskoeffizienten für die Beispieldaten aus. Aus der Ausgabe der Funktion `pearsonr()` können wir schließen, dass die Daten bei einem Signifikanzniveau von $1 \\%$ sehr starke Hinweise darauf liefern, dass die Prüfungsnoten der Studenten linear korreliert sind."
   ]
  },
  {
   "cell_type": "code",
   "execution_count": null,
   "id": "2ef0f871-b93c-477c-9dd1-72fb1884eb9c",
   "metadata": {},
   "outputs": [],
   "source": []
  }
 ],
 "metadata": {
  "kernelspec": {
   "display_name": "Python 3 (ipykernel)",
   "language": "python",
   "name": "python3"
  },
  "language_info": {
   "codemirror_mode": {
    "name": "ipython",
    "version": 3
   },
   "file_extension": ".py",
   "mimetype": "text/x-python",
   "name": "python",
   "nbconvert_exporter": "python",
   "pygments_lexer": "ipython3",
   "version": "3.10.2"
  }
 },
 "nbformat": 4,
 "nbformat_minor": 5
}
