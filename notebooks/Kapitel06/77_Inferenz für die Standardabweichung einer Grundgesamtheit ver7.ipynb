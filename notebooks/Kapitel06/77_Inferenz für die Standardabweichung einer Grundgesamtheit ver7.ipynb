{
 "cells": [
  {
   "cell_type": "markdown",
   "id": "9ad2185b-4026-45dc-8552-518825f14ff0",
   "metadata": {},
   "source": [
    "## Inferenz für die Standardabweichung einer Grundgesamtheit\n",
    "----------------------------------------"
   ]
  },
  {
   "cell_type": "code",
   "execution_count": 10,
   "id": "997eda43-3e13-4555-8517-b47733de2b2d",
   "metadata": {},
   "outputs": [
    {
     "name": "stdout",
     "output_type": "stream",
     "text": [
      "\n",
      "---------------------------------\n",
      "Working on the host: LAPTOP-9LETB4SJ\n",
      "\n",
      "---------------------------------\n",
      "Python version: 3.10.2 | packaged by conda-forge | (main, Mar  8 2022, 15:52:24) [MSC v.1929 64 bit (AMD64)]\n",
      "\n",
      "---------------------------------\n",
      "Python interpreter: C:\\Users\\zak\\anaconda3\\envs\\srh\\python.exe\n"
     ]
    }
   ],
   "source": [
    "import matplotlib.pyplot as plt\n",
    "import numpy as np\n",
    "import pandas as pd\n",
    "from random import sample\n",
    "import scipy.stats\n",
    "import statsmodels.api as smi\n",
    "\n",
    "\n",
    "%run ../src/notebook_env.py"
   ]
  },
  {
   "cell_type": "markdown",
   "id": "4c3d55b9-4572-49b9-905a-87c440923544",
   "metadata": {},
   "source": [
    "Inferenz für eine Grundgesamtheitsstandardabweichung basiert auf der <a href=\"https://en.wikipedia.org/wiki/Chi-squared_distribution\">Chi-Quadrat ($\\chi^2$)-Verteilung</a>. Eine $\\chi^2$-Verteilung ist eine rechtsschiefe Wahrscheinlichkeitsdichtekurve. Die Form der $\\chi^2$-Kurve wird durch ihre Freiheitsgrade ($df$) bestimmt."
   ]
  },
  {
   "cell_type": "markdown",
   "id": "37b57120-e065-4ffe-a3c1-6264e1db264b",
   "metadata": {},
   "source": [
    "![Alt-Text](77_inferenzchi.png)"
   ]
  },
  {
   "cell_type": "markdown",
   "id": "721c2bf7-9b67-46c8-8094-2ab5bb3c2687",
   "metadata": {},
   "source": [
    "Um einen Hypothesentest für eine Populationsstandardabweichung durchzuführen, wird ein $\\chi^2$-Wert mit einer bestimmten Fläche unter einer $\\chi^2$-Kurve in Beziehung gesetzt. Entweder wir ziehen eine $\\chi^2$-Tabelle, um diesen Wert nachzuschlagen, oder wir machen von der Python-Maschinerie Gebrauch.\n",
    "\n",
    "Bei gegebenen $\\alpha$, wobei $\\alpha$ einer Wahrscheinlichkeit zwischen $0$ und $1$ entspricht, bezeichnet $\\chi^2_\\alpha$ den $\\chi^2$ -Wert, der die Fläche $\\alpha$ zu seiner Rechten unter einer $\\chi^2$ -Kurve hat."
   ]
  },
  {
   "cell_type": "markdown",
   "id": "58730ed5-92fa-44d0-b2f1-b004b6d41ee2",
   "metadata": {},
   "source": [
    "![Alt-Text](77_inferenzchi2.png)"
   ]
  },
  {
   "cell_type": "markdown",
   "id": "6a13f7ae-d20d-4fd7-9b73-c9d30053cce7",
   "metadata": {},
   "source": [
    "### Intervall-Schätzung von $\\sigma$"
   ]
  },
  {
   "cell_type": "markdown",
   "id": "177452d8-0ee0-4a4b-9fa1-0acbedeb6aaf",
   "metadata": {},
   "source": [
    "Das $100(1-\\alpha)\\%$-Konfidenzintervall für $\\sigma$ beträgt"
   ]
  },
  {
   "cell_type": "markdown",
   "id": "b402c80a-36f3-4b2a-838f-49d926b812be",
   "metadata": {},
   "source": [
    "$$\\sqrt{\\frac{n-1}{\\chi^2_{\\alpha/2}}} \\le \\sigma \\le \\sqrt{\\frac{n-1}{\\chi^2_{1-\\alpha/2}} }$$"
   ]
  },
  {
   "cell_type": "markdown",
   "id": "1aa072ae-bb03-4cf6-9cb0-cc72db43b583",
   "metadata": {},
   "source": [
    "wobei $n$ der Stichprobenumfang und $s$ die Standardabweichung der Stichprobendaten ist."
   ]
  },
  {
   "cell_type": "markdown",
   "id": "a919d1d9-c47a-4ce9-9ed1-17682e69c8a6",
   "metadata": {},
   "source": [
    "### $\\chi^2$-Test für eine Standardabweichung"
   ]
  },
  {
   "cell_type": "markdown",
   "id": "2b676d51-4199-4501-96a6-469ba5cf96c8",
   "metadata": {},
   "source": [
    "Das Hypothesentestverfahren für eine Standardabweichung wird als **$\\chi^2$-Test für eine Standardabweichung** bezeichnet. Hypothesentests für Varianzen folgen demselben schrittweisen Verfahren wie Hypothesentests für den Mittelwert. "
   ]
  },
  {
   "cell_type": "markdown",
   "id": "1b10a080-af45-4349-b975-f4a580a0ca80",
   "metadata": {},
   "source": [
    "$$\n",
    "\\begin{array}{l}\n",
    "\\hline\n",
    "\\ \\text{Schritt 1}  & \\text{Geben Sie die Nullhypothese } H_0 \\text{ und alternative Hypothese } H_A \\text{ an.}\\\\\n",
    "\\ \\text{Schritt 2}  & \\text{Legen Sie das Signifikanzniveau, } \\alpha\\text{ fest.} \\\\\n",
    "\\ \\text{Schritt 3}  & \\text{Berechnen Sie den Wert der Teststatistik.} \\\\\n",
    "\\ \\text{Schritt 4} &\\text{Bestimmen Sie den p-Wert.} \\\\\n",
    "\\ \\text{Schritt 5} & \\text{Wenn }p \\le \\alpha \\text{, } H_0 \\text{ ablehnen } \\text{; ansonsten } H_0 \\text{ nicht ablehnen} \\text{.} \\\\\n",
    "\\ \\text{Schritt 6} &\\text{Interpretieren Sie das Ergebnis des Hypothesentests.} \\\\\n",
    "\\hline \n",
    "\\end{array}\n",
    "$$"
   ]
  },
  {
   "cell_type": "markdown",
   "id": "ff88f854-e358-470f-932b-e383211e9931",
   "metadata": {},
   "source": [
    "Die Teststatistik für einen Hypothesentest mit der Nullhypothese $H_0: \\,\\sigma = \\sigma_0$ für eine normalverteilte Variable ist gegeben durch"
   ]
  },
  {
   "cell_type": "markdown",
   "id": "c492a2b3-1e19-4ad8-ba11-0f99a79b7a42",
   "metadata": {},
   "source": [
    "$$\\chi^2 = \\frac{n-1}{\\sigma^2_0}s^2$$"
   ]
  },
  {
   "cell_type": "markdown",
   "id": "d89d13b0-ae97-4cc7-b79f-507a71425c05",
   "metadata": {},
   "source": [
    "Die Variable folgt einer $\\chi^2$-Verteilung mit $n-1$ Freiheitsgraden.\n",
    "\n",
    "Beachten Sie, dass der Test auf eine Standardabweichung $\\chi^2$-Test nicht robust gegenüber Abweichungen von der Normalverteilung ist (Weiss 2010)."
   ]
  },
  {
   "cell_type": "markdown",
   "id": "b2d2ff2d-15cf-4a85-a2e5-c6f655f1865a",
   "metadata": {},
   "source": [
    "### $\\chi^2$ -Test für eine Standardabweichung : Ein Beispiel"
   ]
  },
  {
   "cell_type": "markdown",
   "id": "47eba7b2-ac4d-4b51-8e54-fe820095abe7",
   "metadata": {},
   "source": [
    "Um praktische Erfahrungen zu sammeln, wenden wir den $\\chi^2$-Test mit einer Standardabweichung in einer Übung an. Dazu laden wir den `students` Datensatz. Sie können die Datei `students.csv` <a href=\"https://userpage.fu-berlin.de/soga/200/2010_data_sets/students.csv\">hier</a> herunterladen. Importieren Sie den Datensatz und geben Sie ihm einen passenden Namen."
   ]
  },
  {
   "cell_type": "code",
   "execution_count": 11,
   "id": "e92a30ab-3915-4d30-97f4-a9f98bcbd998",
   "metadata": {},
   "outputs": [],
   "source": [
    "# Lese Datei students.csv als Dataframe ein; Indexspalte wird übersprungen\n",
    "students = pd.read_csv('students.csv', index_col=0)"
   ]
  },
  {
   "cell_type": "markdown",
   "id": "602fbc47-458f-4f11-acff-20dcf7f08b3f",
   "metadata": {},
   "source": [
    "Der `students` Datensatz besteht aus $8239$ Zeilen, von denen jede einen bestimmten Studenten repräsentiert, und $16$ Spalten, von denen jede einer Variable/einem Merkmal entspricht, das sich auf diesen bestimmten Studenten bezieht. Diese selbsterklärenden Variablen sind: *stud.id, name, gender, age, height, weight, religion, nc.score, semester, major, minor, score1, score2, online.tutorial, graduated, salary.*"
   ]
  },
  {
   "cell_type": "markdown",
   "id": "1ea50b55-1698-4ba3-bc4a-498e2857e144",
   "metadata": {},
   "source": [
    "Um den **$\\chi^2$-Test mit einer Standardabweichung** zu zeigen, untersuchen wir die Streuung der Körpergröße in cm der Studentinnen und vergleichen sie mit der Streuung der Körpergröße aller Studenten (unserer Grundgesamtheit). **Wir wollen testen, ob die Standardabweichung der Körpergröße der Studentinnen kleiner ist als die Standardabweichung der Körpergröße aller Studenten.**"
   ]
  },
  {
   "cell_type": "markdown",
   "id": "b4f06178-d94c-4ef7-ba2c-927c4d47503e",
   "metadata": {},
   "source": [
    "### Vorbereitung der Daten"
   ]
  },
  {
   "cell_type": "markdown",
   "id": "de2c1559-e156-4f95-9289-f02934c3f7ba",
   "metadata": {},
   "source": [
    "Wir beginnen mit der Datenaufbereitung.\n",
    "\n",
    "- Zunächst definieren wir die Standardabweichung der Grundgesamtheit. In unserem Beispiel entspricht die Grundgesamtheit der Körpergröße aller $8239$ Studenten im Datensatz. Wir berechnen die Standardabweichung für die Variable `height` und weisen ihr den Variablennamen `sigma0` zu.\n",
    "- Zweitens unterteilen wir den Datensatz anhand der Variable `gender`.\n",
    "- Drittens nehmen wir eine Stichprobe von $30$ Studentinnen und extrahieren die interessierende Statistik, die Standardabweichung der Größe der Studentinnen in unserer Stichprobe."
   ]
  },
  {
   "cell_type": "code",
   "execution_count": 12,
   "id": "75da0050-2ea0-444d-a824-4bbdcfabee63",
   "metadata": {},
   "outputs": [
    {
     "data": {
      "text/plain": [
       "11.07685685261271"
      ]
     },
     "execution_count": 12,
     "metadata": {},
     "output_type": "execute_result"
    }
   ],
   "source": [
    "sigma0 = np.std(students['height'])\n",
    "sigma0"
   ]
  },
  {
   "cell_type": "markdown",
   "id": "005404e1-d350-4c83-9b25-c01af677433f",
   "metadata": {},
   "source": [
    "Die Standardabweichung der interessierenden Grundgesamtheit ($\\sigma_0$) beträgt $\\approx$ $11,08$ cm."
   ]
  },
  {
   "cell_type": "code",
   "execution_count": 13,
   "id": "c4c72bbc-d071-441b-8480-703d396bee1d",
   "metadata": {},
   "outputs": [],
   "source": [
    "female = students.loc[students['gender']=='Female']\n",
    "\n",
    "n = 30\n",
    "female_sample = female['height'].sample(n=30, random_state=1)\n",
    "sample_std = np.std(female_sample)"
   ]
  },
  {
   "cell_type": "markdown",
   "id": "69b54e08-e189-4e21-b130-f7153c1490c6",
   "metadata": {},
   "source": [
    "Außerdem überprüfen wir die Normalverteilungsannahme, indem wir ein <a href=\"https://en.wikipedia.org/wiki/Q%E2%80%93Q_plot\">Q-Q-Diagramm</a> erstellen. In Python können wir die Funktion `qqplot()` verwenden, um Q-Q-Plots zu erstellen."
   ]
  },
  {
   "cell_type": "code",
   "execution_count": 14,
   "id": "8df0a3bb-547e-484f-a408-0b0b7f4789c4",
   "metadata": {},
   "outputs": [
    {
     "data": {
      "text/plain": [
       "Text(0, 0.5, 'Stichproben Quantillen')"
      ]
     },
     "execution_count": 14,
     "metadata": {},
     "output_type": "execute_result"
    },
    {
     "data": {
      "image/png": "[encoded data removed]",
      "text/plain": [
       "<Figure size 1152x720 with 1 Axes>"
      ]
     },
     "metadata": {
      "needs_background": "light"
     },
     "output_type": "display_data"
    }
   ],
   "source": [
    "# Erzeuge Q-Q Plot\n",
    "qqp = smi.qqplot(female_sample, line = \"r\")\n",
    "ax1=qqp.gca()\n",
    "ax1.set_title('Q-Q-Diagramm für das Gewicht der \\n in der Stichprobe befindlichen Studentinnen')\n",
    "ax1.set_xlabel('Theoretische Quantillen')\n",
    "ax1.set_ylabel('Stichproben Quantillen')"
   ]
  },
  {
   "cell_type": "markdown",
   "id": "2c1aad39-4a58-407e-b464-58067495105e",
   "metadata": {},
   "source": [
    "Wir sehen, dass die Daten ungefähr auf einer Geraden liegen. Auf der Grundlage des grafischen Auswertungsansatzes kommen wir zu dem Schluss, dass die interessierende Variable ungefähr normalverteilt ist."
   ]
  },
  {
   "cell_type": "markdown",
   "id": "4fc56c27-2105-4d11-8d53-e6b752fa75df",
   "metadata": {},
   "source": [
    "### Überprüfung der Hypothesen"
   ]
  },
  {
   "cell_type": "markdown",
   "id": "1aafb51c-267c-45e3-9529-5defb97e6d37",
   "metadata": {},
   "source": [
    "Zur Durchführung des **$\\chi^2$-Tests mit einer Standardabweichung** folgen wir dem Verfahren der schrittweisen Durchführung von Hypothesentests."
   ]
  },
  {
   "cell_type": "markdown",
   "id": "72f8564b-16dd-4302-8d4f-8817b73c59ba",
   "metadata": {},
   "source": [
    "**Schritt 1 : Geben Sie die Nullhypothese $H_0$ und alternative Hypothese $H_A$ an**"
   ]
  },
  {
   "cell_type": "markdown",
   "id": "473d0561-a0fc-45d1-b36a-3eba11b62eba",
   "metadata": {},
   "source": [
    "Die Nullhypothese besagt, dass die Standardabweichung der Körpergröße der Studentinnen ($\\sigma$) gleich der Standardabweichung der Grundgesamtheit ($\\sigma_0 \\approx 11,08$ cm) ist."
   ]
  },
  {
   "cell_type": "markdown",
   "id": "c1b99b99-82c3-4ce0-abd7-9641241ec000",
   "metadata": {},
   "source": [
    "$$H_0: \\quad \\sigma = \\sigma_0$$"
   ]
  },
  {
   "cell_type": "markdown",
   "id": "2db5c0d9-5edf-4443-aa8b-5d0caac483ac",
   "metadata": {},
   "source": [
    "**Alternative Hypothese**"
   ]
  },
  {
   "cell_type": "markdown",
   "id": "3d63cb6d-9035-4a96-9650-9ac60be99312",
   "metadata": {},
   "source": [
    "$$H_A: \\quad \\sigma < \\sigma_0$$"
   ]
  },
  {
   "cell_type": "markdown",
   "id": "7605030d-8160-4c85-9d4b-9475b5ad9e59",
   "metadata": {},
   "source": [
    "Diese Formulierung führt zu einem linksseitigen Hypothesentest."
   ]
  },
  {
   "cell_type": "markdown",
   "id": "3172cc3c-ffb6-4538-ae10-a506b857e2ab",
   "metadata": {},
   "source": [
    "**Schritt 2: Legen Sie das Signifikanzniveau,$\\alpha$ fest**"
   ]
  },
  {
   "cell_type": "markdown",
   "id": "62a3463f-78f1-46fd-9d6f-657fd7b8894f",
   "metadata": {},
   "source": [
    "$$\\alpha = 0,05$$"
   ]
  },
  {
   "cell_type": "code",
   "execution_count": 15,
   "id": "4f6f958c-758d-44be-99f6-dfb0f78e387c",
   "metadata": {},
   "outputs": [],
   "source": [
    "alpha = 0.05"
   ]
  },
  {
   "cell_type": "markdown",
   "id": "6d64e364-f69a-4138-9da6-868b72d0cace",
   "metadata": {},
   "source": [
    "**Schritt 3 und 4: Berechnen Sie den Wert der Teststatistik und den $p$-Wert**"
   ]
  },
  {
   "cell_type": "markdown",
   "id": "e421c96d-e48a-415e-85be-89067568a23f",
   "metadata": {},
   "source": [
    "Zur Veranschaulichung berechnen wir die Teststatistik manuell in Python. Erinnern Sie sich an die Gleichung für die Teststatistik von oben:"
   ]
  },
  {
   "cell_type": "markdown",
   "id": "f0429f70-50e7-417d-9bbc-5e05f2730f65",
   "metadata": {},
   "source": [
    "$$\\chi^2 = \\frac{n-1}{\\sigma^2_0}s^2$$"
   ]
  },
  {
   "cell_type": "code",
   "execution_count": 16,
   "id": "a412ae4d-3d94-4d76-9151-34320fbb123b",
   "metadata": {},
   "outputs": [
    {
     "data": {
      "text/plain": [
       "13.798146006906832"
      ]
     },
     "execution_count": 16,
     "metadata": {},
     "output_type": "execute_result"
    }
   ],
   "source": [
    "# Berechne Teststatistik\n",
    "n = len(female_sample)\n",
    "s_2 = np.var(female_sample)\n",
    "sigma0_2 = np.var(students['height'])\n",
    "x2 = ((n-1)/sigma0_2)*s_2\n",
    "x2"
   ]
  },
  {
   "cell_type": "markdown",
   "id": "9c40771a-4282-4e04-a449-53c1d8d54e35",
   "metadata": {},
   "source": [
    "Der numerische Wert der Teststatistik ist $13,798146$.\n",
    "\n",
    "Um den $p$-Wert zu berechnen, wenden wir die Funktion `chi2.ppf()` an. Erinnern Sie sich daran, wie man die Freiheitsgrade berechnet:"
   ]
  },
  {
   "cell_type": "markdown",
   "id": "c67f98a3-6163-4932-b643-58f725970216",
   "metadata": {},
   "source": [
    "$$df=n-1$$"
   ]
  },
  {
   "cell_type": "code",
   "execution_count": 17,
   "id": "7945e117-7d14-45c2-a7d1-b7e0792b0dab",
   "metadata": {},
   "outputs": [
    {
     "data": {
      "text/plain": [
       "0.007647835458960158"
      ]
     },
     "execution_count": 17,
     "metadata": {},
     "output_type": "execute_result"
    }
   ],
   "source": [
    "# Berechne df\n",
    "df = n-1\n",
    "\n",
    "# Berechne p-Wert\n",
    "p = scipy.stats.chi2.cdf(x2,df = df)\n",
    "p"
   ]
  },
  {
   "cell_type": "markdown",
   "id": "0ceb00ff-0f0c-4461-b6ce-3a82ac4cb072",
   "metadata": {},
   "source": [
    "**Schritt 5: Wenn $p \\le \\alpha , H_0$ ablehnen; ansonsten $H_0$ nicht ablehnen**"
   ]
  },
  {
   "cell_type": "code",
   "execution_count": 18,
   "id": "411d7b03-9169-42cd-ada2-8a019864fe11",
   "metadata": {},
   "outputs": [
    {
     "data": {
      "text/plain": [
       "True"
      ]
     },
     "execution_count": 18,
     "metadata": {},
     "output_type": "execute_result"
    }
   ],
   "source": [
    "p <= alpha"
   ]
  },
  {
   "cell_type": "markdown",
   "id": "6f984d1f-c555-424f-8d28-22a56dd79b91",
   "metadata": {},
   "source": [
    "Der $p$-Wert ist kleiner als das angegebene Signifikanzniveau von $0,05$; wir verwerfen $H_0$. Die Testergebnisse sind statistisch signifikant auf dem $5 \\%$-Niveau und liefern starke Beweise gegen die Nullhypothese."
   ]
  },
  {
   "cell_type": "markdown",
   "id": "0435213c-0f80-42e5-a319-c970294b2cd8",
   "metadata": {},
   "source": [
    "**Schritt 6: Interpretieren Sie das Ergebnis des Hypothesentests**"
   ]
  },
  {
   "cell_type": "markdown",
   "id": "4373ecbe-3511-4458-8a21-1d79571dcdc1",
   "metadata": {},
   "source": [
    "$p=0,0076478$. Bei einem Signifikanzniveau von $5 \\%$ lassen die Daten den Schluss zu, dass die Standardabweichung der Körpergröße von Studentinnen weniger als $11$ cm beträgt."
   ]
  },
  {
   "cell_type": "markdown",
   "id": "926e8f07-4b65-4023-96af-e3595f5e1bbf",
   "metadata": {},
   "source": [
    "### Hypothesentests in Python"
   ]
  },
  {
   "cell_type": "markdown",
   "id": "89d954c2-0100-4cea-8803-1932692e4f66",
   "metadata": {},
   "source": [
    "Wir haben gerade einen $\\chi^2$-Test mit einer Standardabweichung in Python manuell durchgeführt. Meines Wissens bietet Python keine eingebaute Funktion zur Berechnung einer Standardabweichung $\\chi^2$-Test. Wir können jedoch eine solche Funktion selbst implementieren. Unsere Funktion `simple_x2_test()` nimmt als Eingabe einen Stichprobenvektor `x`, die Standardabweichung der Grundgesamtheit `sigma0`, das Signifikanzniveau `alpha` und die angegebene Methode, `right`, `left` und `two-sided`."
   ]
  },
  {
   "cell_type": "code",
   "execution_count": 19,
   "id": "728e5137-c4da-49c3-b3c3-ff1fff0d2d27",
   "metadata": {},
   "outputs": [],
   "source": [
    "def simple_x2_test(x, sigma0, alpha, method = 'two-sided'):\n",
    "    df = len(x)-1\n",
    "    v = np.var(x)\n",
    "    # Berechne Teststatistik\n",
    "    testchi = df/(sigma0**2)*v\n",
    "    \n",
    "    # linksseitiger Test\n",
    "    if (method=='left'):\n",
    "        p = scipy.stats.chi2.cdf(x = testchi, df = df)\n",
    "    # rechtsseitiger Test   \n",
    "    elif method=='right':\n",
    "        p = 1-scipy.stats.chi2.cdf(x = testchi, df = df)\n",
    "         \n",
    "          \n",
    "    # beidseitiger Test (default)\n",
    "    else:\n",
    "        p_upper = 1-scipy.stats.chi2.cdf(x = testchi, df = df)\n",
    "        p_lower = scipy.stats.chi2.cdf(x = testchi, df = df)\n",
    "        if (p_upper*2 > 1):\n",
    "            p = p_lower*2\n",
    "        else:\n",
    "            p = p_upper*2\n",
    "    #evaluiere p < alpha\n",
    "    if p < alpha:\n",
    "          reject = True\n",
    "    else:\n",
    "          reject = False\n",
    "\n",
    "            \n",
    "    # Ausgabe\n",
    "    print('Significance level:',alpha)\n",
    "    print('Degrees of freedom:',df)\n",
    "    print('Test statistic:',round(testchi,4))\n",
    "    print('p-value:',p)\n",
    "    print('Reject H0:',reject)"
   ]
  },
  {
   "cell_type": "markdown",
   "id": "adca36ce-9784-4225-b7e7-dbbd3a645c6e",
   "metadata": {},
   "source": [
    "Wenden wir nun unsere selbst erstellte Funktion `simple_x2_test()` auf die obigen Beispieldaten an."
   ]
  },
  {
   "cell_type": "code",
   "execution_count": 20,
   "id": "8a953608-b7d9-4b29-9b38-4cd2339c1e99",
   "metadata": {},
   "outputs": [
    {
     "name": "stdout",
     "output_type": "stream",
     "text": [
      "Significance level: 0.05\n",
      "Degrees of freedom: 29\n",
      "Test statistic: 13.7981\n",
      "p-value: 0.007647835458960185\n",
      "Reject H0: True\n"
     ]
    }
   ],
   "source": [
    "sigma0 = np.std(students['height'])\n",
    "simple_x2_test(x = female_sample, sigma0 = sigma0, alpha = 0.05, method = 'left')"
   ]
  },
  {
   "cell_type": "markdown",
   "id": "c74bbee6-a974-4e5b-b10c-b5d4f09cddb0",
   "metadata": {},
   "source": [
    "Perfekt! Vergleichen Sie die Ausgabe der Funktion `simple_x2_test()` mit unserem Ergebnis von oben. Auch hier können wir zu dem Schluss kommen, dass die Daten bei einem Signifikanzniveau von $5 \\%$ starke Anhaltspunkte dafür liefern, dass die Standardabweichung der Körpergröße von Studentinnen weniger als $11$ cm beträgt."
   ]
  },
  {
   "cell_type": "code",
   "execution_count": null,
   "id": "50129682-dfa8-4b94-9301-1419f46cfc29",
   "metadata": {},
   "outputs": [],
   "source": []
  }
 ],
 "metadata": {
  "kernelspec": {
   "display_name": "Python 3 (ipykernel)",
   "language": "python",
   "name": "python3"
  },
  "language_info": {
   "codemirror_mode": {
    "name": "ipython",
    "version": 3
   },
   "file_extension": ".py",
   "mimetype": "text/x-python",
   "name": "python",
   "nbconvert_exporter": "python",
   "pygments_lexer": "ipython3",
   "version": "3.10.2"
  }
 },
 "nbformat": 4,
 "nbformat_minor": 5
}
