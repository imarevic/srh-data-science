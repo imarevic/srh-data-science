{
 "cells": [
  {
   "cell_type": "markdown",
   "id": "0a4d87c3-9f07-46c6-98fa-942648e1cd99",
   "metadata": {},
   "source": [
    "## Der Chi-Quadrat-Unabhängigkeitstest\n",
    "----------------------------------------"
   ]
  },
  {
   "cell_type": "code",
   "execution_count": 1,
   "id": "5a9ff344-ff0b-4373-ba79-00f78a208e09",
   "metadata": {},
   "outputs": [
    {
     "name": "stdout",
     "output_type": "stream",
     "text": [
      "\n",
      "---------------------------------\n",
      "Working on the host: LAPTOP-9LETB4SJ\n",
      "\n",
      "---------------------------------\n",
      "Python version: 3.10.2 | packaged by conda-forge | (main, Mar  8 2022, 15:52:24) [MSC v.1929 64 bit (AMD64)]\n",
      "\n",
      "---------------------------------\n",
      "Python interpreter: C:\\Users\\zak\\anaconda3\\envs\\srh\\python.exe\n"
     ]
    }
   ],
   "source": [
    "import matplotlib.pyplot as plt\n",
    "import numpy as np\n",
    "import pandas as pd\n",
    "from random import sample\n",
    "from scipy.stats import t\n",
    "from scipy.stats import chi2\n",
    "from scipy import stats\n",
    "import scipy.stats\n",
    "import statsmodels.api as smi\n",
    "import pylab\n",
    "\n",
    "%run ../src/notebook_env.py"
   ]
  },
  {
   "cell_type": "markdown",
   "id": "d32682ed-e840-435a-badc-7e0da254b5c4",
   "metadata": {},
   "source": [
    "Der **$\\chi^2$ Unabhängigkeitstest** ist eine inferentielle Methode, um zu entscheiden, ob ein Zusammenhang zwischen zwei Variablen besteht. Ähnlich wie bei anderen Hypothesentests besagt die Nullhypothese, dass die beiden Variablen nicht miteinander verbunden sind. Im Gegensatz dazu besagt die Alternativhypothese, dass die beiden Variablen miteinander verbunden sind.\n",
    "\n",
    "Es sei daran erinnert, dass statistisch **abhängige Variablen** als **assoziierte Variablen** bezeichnet werden. Im Gegensatz dazu werden nicht-assoziierte Variablen als statistisch unabhängige Variablen bezeichnet. Erinnern Sie sich auch an das Konzept der <a href=\"https://en.wikipedia.org/wiki/Contingency_table\">Kontingenztabellen</a> (auch als Zwei-Wege-Tabellen oder Kreuztabellen bezeichnet), in denen die Häufigkeitsverteilungen von bivariaten Daten dargestellt werden."
   ]
  },
  {
   "cell_type": "markdown",
   "id": "4b6f3773-87d6-432d-85cc-a096acad6a5b",
   "metadata": {},
   "source": [
    "### $\\chi^2$-Unabhängigkeitstest"
   ]
  },
  {
   "cell_type": "markdown",
   "id": "a331e924-bd4f-4836-8ec2-7c412f2aa505",
   "metadata": {},
   "source": [
    "Die Grundidee des $\\chi^2$-Unabhängigkeitstests besteht darin, die beobachteten Häufigkeiten in einer Kontingenztabelle mit den erwarteten Häufigkeiten zu vergleichen, unter der Annahme das die Nullhypothese der Nicht-Assoziation wahr ist. Die erwartete Häufigkeit für jede Zelle einer Kontingenztabelle ist gegeben durch"
   ]
  },
  {
   "cell_type": "markdown",
   "id": "6c4ec60f-7d4d-47ec-a12b-6200033b208e",
   "metadata": {},
   "source": [
    "$$E = \\frac{R\\times C}{n} \\text{,}$$"
   ]
  },
  {
   "cell_type": "markdown",
   "id": "5d6c0649-9e91-455f-b57c-7e2c3d1fa7d1",
   "metadata": {},
   "source": [
    "wobei $R$ die Zeilensumme ist, $C$ die Spaltensumme und $n$ der Stichprobenumfang ist.\n",
    "\n",
    "Lassen Sie uns zum besseren Verständnis ein Beispiel konstruieren. Wir betrachten eine Exit Poll in Form einer Kontingenztabelle, die das Alter von $n=1189$ in den Kategorien $18-29, 30-44, 45-64$ und $\\gt 65$ Jahre und ihre politische Zugehörigkeit, d. h. \"konservativ\", \"sozialistisch\" und \"andere\". Diese Tabelle entspricht den beobachteten Häufigkeiten.\n",
    "\n",
    "**Beobachtete Häufigkeiten:**"
   ]
  },
  {
   "cell_type": "markdown",
   "id": "4a531e86-150d-4e25-937b-50f6cab81267",
   "metadata": {},
   "source": [
    "\\begin{array}{|l|c|}\n",
    "\\hline\n",
    "\\ & \\text{Konservativer} & \\text{Sozialist} & \\text{Anderes} & \\text{Insgesamt} \\\\\n",
    "\\hline\n",
    "\\ \\text{18-29}  & 141 & 68 & 4 & 213\\\\\n",
    "\\ \\text{30-44}  & 179 & 159 & 7 & 345\\\\\n",
    "\\ \\text{45-64} & 220 & 216 & 4 & 440\\\\\n",
    "\\ \\text{65 & älter} & 86 & 101 & 4 & 191\\\\\n",
    "\\hline \n",
    "\\  \\text{Insgesamt} & 626 & 544 & 19 & 1189\\\\\n",
    "\\hline \n",
    "\\end{array}"
   ]
  },
  {
   "cell_type": "markdown",
   "id": "812e9239-186d-4915-ab84-a81f5897afcb",
   "metadata": {},
   "source": [
    "Auf der Grundlage der oben genannten Gleichung berechnen wir die erwartete Häufigkeit für jede Zelle.\n",
    "\n",
    "**Erwartete Häufigkeiten:**"
   ]
  },
  {
   "cell_type": "markdown",
   "id": "4b13f6d4-51b0-4a70-9329-b8850c43ffa8",
   "metadata": {},
   "source": [
    "\\begin{array}{|l|c|}\n",
    "\\hline\n",
    "\\ & \\text{Konservativer} & \\text{Sozialist} & \\text{Anderes} & \\text{Insgesamt} \\\\\n",
    "\\hline\n",
    "\\ \\text{18-29}  & \\frac{213 \\times 626 }{1189} \\approx 112.14 & \\frac{213 \\times 544 }{1189} \\approx97.45 & \\frac{213 \\times 19 }{1189} \\approx3.4 & 213\\\\\n",
    "\\ \\text{30-44}  & \\frac{345 \\times 626 }{1189} \\approx181.64 &\\frac{345 \\times 544 }{1189} \\approx 157.85 & \\frac{345 \\times 19 }{1189} \\approx5.51 & 345\\\\\n",
    "\\ \\text{45-64} & \\frac{440 \\times 626 }{1189} \\approx231.66 & \\frac{440 \\times 544 }{1189} \\approx201.31 &\\frac{440 \\times 19 }{1189} \\approx 7.03 & 440\\\\\n",
    "\\ \\text{65 & älter} &\\frac{191 \\times 626 }{1189} \\approx 100.56 &\\frac{191 \\times 544 }{1189} \\approx 87.39 & \\frac{191 \\times 19 }{1189} \\approx3.05 & 191\\\\\n",
    "\\hline \n",
    "\\ \\text{Insgesamt} & 626 & 544 & 19 & 1189\\\\\n",
    "\\hline \n",
    "\\end{array}"
   ]
  },
  {
   "cell_type": "markdown",
   "id": "27da129f-62d9-4f0b-90e7-9f17bfe28e99",
   "metadata": {},
   "source": [
    "Sobald wir die erwarteten Häufigkeiten kennen, müssen wir zwei Annahmen überprüfen. Erstens müssen wir sicherstellen, dass alle erwarteten Häufigkeiten $1$ oder größer sind, und zweitens, dass höchstens $20 \\%$ der erwarteten Häufigkeiten kleiner als $5$ sind. Ein Blick auf die Tabelle bestätigt, dass beide Annahmen erfüllt sind.\n",
    "\n",
    "Der eigentliche Vergleich erfolgt auf der Grundlage der $\\chi^2$\n",
    "Teststatistik für die beobachtete Häufigkeit und die erwartete Häufigkeit. Die -Teststatistik folgt der $\\chi^2$-Verteilung und ist gegeben durch"
   ]
  },
  {
   "cell_type": "markdown",
   "id": "4ade4749-f0bd-4725-9c97-b6788b8538ad",
   "metadata": {},
   "source": [
    "$$\\chi^2= \\sum{\\frac{(O-E)^2}{E}}\\text{,}$$"
   ]
  },
  {
   "cell_type": "markdown",
   "id": "9ec65c7e-b8be-4d05-93bf-a71cee0ce7cb",
   "metadata": {},
   "source": [
    "wobei $O$ für die beobachtete Häufigkeit und $E$ für die erwartete Häufigkeit steht. Bitte beachten Sie, dass $\\frac{(O-E)^2}{E}$ für jede Zelle ausgewertet und dann aufsummiert wird.\n",
    "\n",
    "Die Anzahl der Freiheitsgrade ist gegeben durch"
   ]
  },
  {
   "cell_type": "markdown",
   "id": "68def424-7ab9-4875-a371-c046daaa8ef9",
   "metadata": {},
   "source": [
    "$$df = (r-1) \\times (c-1)\\text{,}$$"
   ]
  },
  {
   "cell_type": "markdown",
   "id": "d703fb33-60e0-4d69-b9f7-089bf165cb8a",
   "metadata": {},
   "source": [
    "wobei $r$ und $c$ die Anzahl der möglichen Werte für die beiden betrachteten Variablen sind.\n",
    "\n",
    "Übertragen auf das obige Beispiel führt dies zu einem etwas langen Ausdruck, der der Kürze halber nur für die erste und die letzte Zeile der interessierenden Kontingenztafeln angegeben wird."
   ]
  },
  {
   "cell_type": "markdown",
   "id": "2eced630-da02-43e1-882e-c0f8806c68ed",
   "metadata": {},
   "source": [
    "$$\\chi^2 = \\frac{141 \\times 112,14}{112,14} + \\frac{68 \\times 97,45}{97,45} + \\frac{4 \\times 3,4}{3,4}  + \\cdots + \\frac{86 \\times 100,56}{100,56} + \\frac{101 \\times 87,39}{87,39} + \\frac{4 \\times 3,05}{3,05}$$"
   ]
  },
  {
   "cell_type": "markdown",
   "id": "12274956-6096-4ff7-aaa6-217c79030ce2",
   "metadata": {},
   "source": [
    "Wenn die Nullhypothese wahr ist, sind die beobachtete und die erwartete Häufigkeit ungefähr gleich, was zu einem kleinen Wert der $\\chi^2$-Teststatistik führt und somit $H_0$ unterstützt. Ist der Wert der $\\chi^2$-Teststatistik jedoch groß, liefern die Daten Beweise gegen $H_0$. In den nächsten Abschnitten wird weiter erörtert, wie der Wert der $\\chi^2$-Teststatistik im Rahmen der Hypothesentests zu bewerten ist."
   ]
  },
  {
   "cell_type": "markdown",
   "id": "fa166d4a-4fd0-42a7-9815-9b9bd0052a7c",
   "metadata": {},
   "source": [
    "### $\\chi^2$ Unabhängigkeitstest: Ein Beispiel"
   ]
  },
  {
   "cell_type": "markdown",
   "id": "369e9337-873f-4017-a92c-83ee7460261b",
   "metadata": {},
   "source": [
    "Um praktische Erfahrungen zu sammeln, wenden wir den $\\chi^2$ Unabhängigkeitstest in einer Übung an. Dazu laden wir den `students` Datensatz. Sie können die Datei `students.csv` <a href=\"https://userpage.fu-berlin.de/soga/200/2010_data_sets/students.csv\">hier</a> herunterladen. Importieren Sie den Datensatz und geben Sie ihm einen passenden Namen."
   ]
  },
  {
   "cell_type": "code",
   "execution_count": 2,
   "id": "2f81cbe8-96ef-4306-9835-15e7a39cfcd7",
   "metadata": {},
   "outputs": [],
   "source": [
    "# Lese Datei students.csv als Dataframe ein; Indexspalte wird übersprungen\n",
    "students = pd.read_csv('students.csv', index_col=0)"
   ]
  },
  {
   "cell_type": "markdown",
   "id": "84ab65b5-e19a-4f99-89b1-67b36b01fac2",
   "metadata": {},
   "source": [
    "Der `students` Datensatz besteht aus $8239$ Zeilen, von denen jede einen bestimmten Studenten repräsentiert, und $16$ Spalten, von denen jede einer Variable/einem Merkmal entspricht, das sich auf diesen bestimmten Studenten bezieht. Diese selbsterklärenden Variablen sind: *stud.id, name, gender, age, height, weight, religion, nc.score, semester, major, minor, score1, score2, online.tutorial, graduated, salary.*"
   ]
  },
  {
   "cell_type": "markdown",
   "id": "b5eaa73e-9438-42a9-ab80-5c20777ebf20",
   "metadata": {},
   "source": [
    "In dieser Übung wollen wir untersuchen, ob es einen Zusammenhang zwischen den Variablen `gender` und `major` gibt, oder mit anderen Worten, wir wollen wissen, ob männliche Studenten andere Studienfächer bevorzugen als weibliche Studenten."
   ]
  },
  {
   "cell_type": "markdown",
   "id": "531fb4be-3d3a-4aa7-92a1-e52dac261912",
   "metadata": {},
   "source": [
    "### Vorbereitung der Daten"
   ]
  },
  {
   "cell_type": "markdown",
   "id": "3b2421f1-f0d3-479d-91b2-e0bfb6d6bcc9",
   "metadata": {},
   "source": [
    "Wir beginnen mit der Datenaufbereitung. Da wir nicht den gesamten Datensatz von $8239$ Einträgen bearbeiten wollen, wählen wir zufällig $865$ Studenten aus dem Datensatz aus. Der erste Schritt der Datenvorbereitung besteht darin, die interessierenden Daten in Form einer Kontingenztabelle darzustellen. Python bietet die ausgefallene Funktion `unique()`, die diese Aufgabe übernehmen wird."
   ]
  },
  {
   "cell_type": "code",
   "execution_count": 7,
   "id": "6dcd6388-2446-4b4b-882d-e9d018eac4f3",
   "metadata": {},
   "outputs": [
    {
     "data": {
      "text/html": [
       "<div>\n",
       "<style scoped>\n",
       "    .dataframe tbody tr th:only-of-type {\n",
       "        vertical-align: middle;\n",
       "    }\n",
       "\n",
       "    .dataframe tbody tr th {\n",
       "        vertical-align: top;\n",
       "    }\n",
       "\n",
       "    .dataframe thead th {\n",
       "        text-align: right;\n",
       "    }\n",
       "</style>\n",
       "<table border=\"1\" class=\"dataframe\">\n",
       "  <thead>\n",
       "    <tr style=\"text-align: right;\">\n",
       "      <th>gender</th>\n",
       "      <th>Female</th>\n",
       "      <th>Male</th>\n",
       "    </tr>\n",
       "    <tr>\n",
       "      <th>major</th>\n",
       "      <th></th>\n",
       "      <th></th>\n",
       "    </tr>\n",
       "  </thead>\n",
       "  <tbody>\n",
       "    <tr>\n",
       "      <th>Biology</th>\n",
       "      <td>89</td>\n",
       "      <td>65</td>\n",
       "    </tr>\n",
       "    <tr>\n",
       "      <th>Economics and Finance</th>\n",
       "      <td>55</td>\n",
       "      <td>79</td>\n",
       "    </tr>\n",
       "    <tr>\n",
       "      <th>Environmental Sciences</th>\n",
       "      <td>99</td>\n",
       "      <td>96</td>\n",
       "    </tr>\n",
       "    <tr>\n",
       "      <th>Mathematics and Statistics</th>\n",
       "      <td>39</td>\n",
       "      <td>92</td>\n",
       "    </tr>\n",
       "    <tr>\n",
       "      <th>Political Science</th>\n",
       "      <td>112</td>\n",
       "      <td>40</td>\n",
       "    </tr>\n",
       "    <tr>\n",
       "      <th>Social Sciences</th>\n",
       "      <td>70</td>\n",
       "      <td>29</td>\n",
       "    </tr>\n",
       "  </tbody>\n",
       "</table>\n",
       "</div>"
      ],
      "text/plain": [
       "gender                      Female  Male\n",
       "major                                   \n",
       "Biology                         89    65\n",
       "Economics and Finance           55    79\n",
       "Environmental Sciences          99    96\n",
       "Mathematics and Statistics      39    92\n",
       "Political Science              112    40\n",
       "Social Sciences                 70    29"
      ]
     },
     "execution_count": 7,
     "metadata": {},
     "output_type": "execute_result"
    }
   ],
   "source": [
    "n = 865\n",
    "\n",
    "data = students.sample(n,random_state=1)\n",
    "pd.crosstab(index = data['major'], columns = data['gender'])"
   ]
  },
  {
   "cell_type": "markdown",
   "id": "bb4f6bb8-8bb4-46a3-a164-356f71f6da96",
   "metadata": {},
   "source": [
    "Außerdem bestimmen wir die Spaltensummen und die Zeilensummen. Python bietet das Argument `margins = True`, das die Zeilensummen und die Spaltensummen für uns hinzufügt."
   ]
  },
  {
   "cell_type": "code",
   "execution_count": 9,
   "id": "6b870139-aade-4a95-a059-434b3af098a1",
   "metadata": {},
   "outputs": [
    {
     "data": {
      "text/html": [
       "<div>\n",
       "<style scoped>\n",
       "    .dataframe tbody tr th:only-of-type {\n",
       "        vertical-align: middle;\n",
       "    }\n",
       "\n",
       "    .dataframe tbody tr th {\n",
       "        vertical-align: top;\n",
       "    }\n",
       "\n",
       "    .dataframe thead th {\n",
       "        text-align: right;\n",
       "    }\n",
       "</style>\n",
       "<table border=\"1\" class=\"dataframe\">\n",
       "  <thead>\n",
       "    <tr style=\"text-align: right;\">\n",
       "      <th>gender</th>\n",
       "      <th>Female</th>\n",
       "      <th>Male</th>\n",
       "      <th>All</th>\n",
       "    </tr>\n",
       "    <tr>\n",
       "      <th>major</th>\n",
       "      <th></th>\n",
       "      <th></th>\n",
       "      <th></th>\n",
       "    </tr>\n",
       "  </thead>\n",
       "  <tbody>\n",
       "    <tr>\n",
       "      <th>Biology</th>\n",
       "      <td>89</td>\n",
       "      <td>65</td>\n",
       "      <td>154</td>\n",
       "    </tr>\n",
       "    <tr>\n",
       "      <th>Economics and Finance</th>\n",
       "      <td>55</td>\n",
       "      <td>79</td>\n",
       "      <td>134</td>\n",
       "    </tr>\n",
       "    <tr>\n",
       "      <th>Environmental Sciences</th>\n",
       "      <td>99</td>\n",
       "      <td>96</td>\n",
       "      <td>195</td>\n",
       "    </tr>\n",
       "    <tr>\n",
       "      <th>Mathematics and Statistics</th>\n",
       "      <td>39</td>\n",
       "      <td>92</td>\n",
       "      <td>131</td>\n",
       "    </tr>\n",
       "    <tr>\n",
       "      <th>Political Science</th>\n",
       "      <td>112</td>\n",
       "      <td>40</td>\n",
       "      <td>152</td>\n",
       "    </tr>\n",
       "    <tr>\n",
       "      <th>Social Sciences</th>\n",
       "      <td>70</td>\n",
       "      <td>29</td>\n",
       "      <td>99</td>\n",
       "    </tr>\n",
       "    <tr>\n",
       "      <th>All</th>\n",
       "      <td>464</td>\n",
       "      <td>401</td>\n",
       "      <td>865</td>\n",
       "    </tr>\n",
       "  </tbody>\n",
       "</table>\n",
       "</div>"
      ],
      "text/plain": [
       "gender                      Female  Male  All\n",
       "major                                        \n",
       "Biology                         89    65  154\n",
       "Economics and Finance           55    79  134\n",
       "Environmental Sciences          99    96  195\n",
       "Mathematics and Statistics      39    92  131\n",
       "Political Science              112    40  152\n",
       "Social Sciences                 70    29   99\n",
       "All                            464   401  865"
      ]
     },
     "execution_count": 9,
     "metadata": {},
     "output_type": "execute_result"
    }
   ],
   "source": [
    "pd.crosstab(index = data['major'], columns = data['gender'], margins = True)"
   ]
  },
  {
   "cell_type": "markdown",
   "id": "8866294e-c0be-4245-a20f-12dee3ff8fa0",
   "metadata": {},
   "source": [
    "Im nächsten Schritt konstruieren wir die **erwarteten Häufigkeiten**. Erinnern Sie sich an die Gleichung von oben:"
   ]
  },
  {
   "cell_type": "markdown",
   "id": "db1e6950-9678-4553-a853-2876be5a77b2",
   "metadata": {},
   "source": [
    "$$E = \\frac{R\\times C}{n} \\text{,}$$"
   ]
  },
  {
   "cell_type": "markdown",
   "id": "8eb59cc3-4b4d-45d6-8651-6037c345a580",
   "metadata": {},
   "source": [
    "wobei $R$ die Zeilensumme ist, $C$ die Spaltensumme und $n$ der Stichprobenumfang ist.\n",
    "\n",
    "Wir berechnen die erwarteten Häufigkeiten zellenweise, indem wir eine verschachtelte for-Schleife implementieren. Dabei gehen wir alle Zeilen der Matrix Spalte für Spalte durch und berechnen die erwartete Häufigkeit $E$ für jede einzelne Zelle."
   ]
  },
  {
   "cell_type": "code",
   "execution_count": null,
   "id": "10549986-bf01-43f7-8859-8678aa67195d",
   "metadata": {},
   "outputs": [],
   "source": [
    "# initialize empty matrix\n",
    "expected_frequencies = matrix(data = NA, \n",
    "                               nrow = nrow(conti.table), \n",
    "                               ncol = ncol(conti.table))\n",
    "\n",
    "# nested for-loop\n",
    "for (row.idx in 1:nrow(conti.table)){\n",
    "  for (col.idx in 1:ncol(conti.table)){\n",
    "    expected.frequencies[row.idx, col.idx] <- (row.sum[row.idx]*col.sum[col.idx])/sum(conti.table)\n",
    "      }\n",
    "  }\n",
    "expected.frequencies"
   ]
  }
 ],
 "metadata": {
  "kernelspec": {
   "display_name": "Python 3 (ipykernel)",
   "language": "python",
   "name": "python3"
  },
  "language_info": {
   "codemirror_mode": {
    "name": "ipython",
    "version": 3
   },
   "file_extension": ".py",
   "mimetype": "text/x-python",
   "name": "python",
   "nbconvert_exporter": "python",
   "pygments_lexer": "ipython3",
   "version": "3.10.2"
  }
 },
 "nbformat": 4,
 "nbformat_minor": 5
}
