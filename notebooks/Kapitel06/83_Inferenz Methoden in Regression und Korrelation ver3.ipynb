{
 "cells": [
  {
   "cell_type": "markdown",
   "id": "a148528b-dd09-4f83-b845-73e8ca7d43bc",
   "metadata": {},
   "source": [
    "## Inferenzmethoden in Regression und Korrelation\n",
    "----------------------------------------"
   ]
  },
  {
   "cell_type": "markdown",
   "id": "91fafe7e-d492-45b3-aa26-b14bde9f09df",
   "metadata": {},
   "source": [
    "Das lineare Modell ergibt sich aus der Gleichung"
   ]
  },
  {
   "cell_type": "markdown",
   "id": "9e979fa0-e922-43b0-b3d0-df72e48bd7b2",
   "metadata": {},
   "source": [
    "$$y = \\beta_0 + \\beta_1x+e\\text{,}$$"
   ]
  },
  {
   "cell_type": "markdown",
   "id": "021de81f-9c40-4271-b186-2519a6746b54",
   "metadata": {},
   "source": [
    "Wobei $\\beta_0$ der Achsenabschnitt, $\\beta_1$ der Regressionskoeffizient und $e$ der Fehlerterm ist. Die beste Regressionsgerade wird durch Anwendung der <a href=\"https://de.wikipedia.org/wiki/Methode_der_kleinsten_Quadrate\">Methode der kleinsten Quadrate</a> gefunden, um die **Summe der quadratischen Fehler (SSE)** zu minimieren, d. h. die quadratische Differenz zwischen der gemessenen Reaktionsvariablen $y$ und der Modellvorhersage $\\hat y$ zu minimieren, die wie folgt lautet"
   ]
  },
  {
   "cell_type": "markdown",
   "id": "547f54c1-d266-4b56-a638-316fc023a29e",
   "metadata": {},
   "source": [
    "$$SSE = \\sum_{i=1}^n e_i^2=\\sum_{i=1}^n (y - \\hat y)^2\\text{.}$$"
   ]
  },
  {
   "cell_type": "markdown",
   "id": "2aec0788-8216-4f41-ae2f-e3442d7baa14",
   "metadata": {},
   "source": [
    "Im Abschnitt über die *lineare Regression* finden Sie weitere Einzelheiten zum linearen Modell.\n",
    "\n",
    "Wie auch immer, wir müssen anerkennen, dass wir unsere Modelle, in diesem Fall unser lineares Regressionsmodell, auf Beobachtungsdaten aufbauen. Die Daten stammen also aus einer Grundgesamtheit und deren entsprechenden statistischen Eigenschaften, die uns im Allgemeinen unbekannt sind. Jede Beobachtung stellt also eine Ausprägung der Population dar, die mit dem Begriff Zufallsvariable bezeichnet wird.\n",
    "\n",
    "Betrachten wir ein Beispiel, wie es in der folgenden Abbildung dargestellt ist. In diesem Beispiel sind die Parameter der Grundgesamtheit bekannt, so dass wir ein lineares Regressionsmodell der Form $y=β_0+β_1x=1+0,25x$ erstellen können"
   ]
  },
  {
   "cell_type": "markdown",
   "id": "6f90a9fd-1321-4f01-864c-67e72e6ada37",
   "metadata": {},
   "source": [
    "![Alt-Text](82_regression.png)"
   ]
  },
  {
   "cell_type": "markdown",
   "id": "cd926238-0129-4252-bae4-b52657b391cb",
   "metadata": {},
   "source": [
    "Wenn wir jedoch eine Zufallsstichprobe aus der Grundgesamtheit nehmen und ein lineares Modell auf der Grundlage der Stichprobendaten erstellen, wird die Regressionslinie der Stichprobe nicht mit der Regressionslinie der Grundgesamtheit übereinstimmen. In der folgenden Abbildung haben wir vier Stichproben mit dem Stichprobenumfang $25$ (blaue Punkte) gezogen. Wir sehen sofort, dass die Regressionslinie der Stichprobe (blaue gestrichelte Linie) nicht mit der Regressionslinie der Grundgesamtheit (graue Linie) übereinstimmt. Um dieser Variabilität Rechnung zu tragen, die auf den Zufallsstichprobenprozess zurückzuführen ist, wird eine Statistik berechnet, indem die folgende Gleichung angewendet wird"
   ]
  },
  {
   "cell_type": "markdown",
   "id": "be1e7181-fa8c-4fe6-9c6c-494a8e81b24e",
   "metadata": {},
   "source": [
    "$$s_e = \\sqrt{\\frac{SSE}{n-2}}\\text{,}$$"
   ]
  },
  {
   "cell_type": "markdown",
   "id": "965e2f6a-44a9-4f20-b752-3afe875fc289",
   "metadata": {},
   "source": [
    "Wobei SSE für die **Summe der quadratischen Fehler** und $n$ für den Stichprobenumfang steht. Die Statistik $s_e$ wird als **Standardfehler der Schätzung** ($s_e$) oder als **Reststandardfehler** bezeichnet."
   ]
  },
  {
   "cell_type": "markdown",
   "id": "e83b8a10-bc9c-4a24-af9f-1b3a1ebe6346",
   "metadata": {},
   "source": [
    "![Alt-Text](82_regression2.png)"
   ]
  },
  {
   "cell_type": "markdown",
   "id": "5f351e25-2074-40cb-97a4-42aa38482aa6",
   "metadata": {},
   "source": [
    "Wie oben dargestellt, variiert die Regressionsgerade der Stichprobe von einer Stichprobe zur anderen und ist daher eine Zufallsvariable. Ihre Verteilung wird als **Stichprobenverteilung der Steigung der Regressionsgeraden** bezeichnet."
   ]
  },
  {
   "cell_type": "code",
   "execution_count": null,
   "id": "a7373fcf-9b30-4898-b784-cebfa460061a",
   "metadata": {},
   "outputs": [],
   "source": []
  }
 ],
 "metadata": {
  "kernelspec": {
   "display_name": "Python 3 (ipykernel)",
   "language": "python",
   "name": "python3"
  },
  "language_info": {
   "codemirror_mode": {
    "name": "ipython",
    "version": 3
   },
   "file_extension": ".py",
   "mimetype": "text/x-python",
   "name": "python",
   "nbconvert_exporter": "python",
   "pygments_lexer": "ipython3",
   "version": "3.10.2"
  }
 },
 "nbformat": 4,
 "nbformat_minor": 5
}
