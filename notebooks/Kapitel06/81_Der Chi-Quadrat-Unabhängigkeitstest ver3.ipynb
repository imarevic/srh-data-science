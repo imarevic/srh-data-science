{
 "cells": [
  {
   "cell_type": "markdown",
   "id": "0a4d87c3-9f07-46c6-98fa-942648e1cd99",
   "metadata": {},
   "source": [
    "## Der Chi-Quadrat-Unabhängigkeitstest\n",
    "----------------------------------------"
   ]
  },
  {
   "cell_type": "code",
   "execution_count": 19,
   "id": "5a9ff344-ff0b-4373-ba79-00f78a208e09",
   "metadata": {},
   "outputs": [
    {
     "name": "stdout",
     "output_type": "stream",
     "text": [
      "\n",
      "---------------------------------\n",
      "Working on the host: LAPTOP-9LETB4SJ\n",
      "\n",
      "---------------------------------\n",
      "Python version: 3.10.2 | packaged by conda-forge | (main, Mar  8 2022, 15:52:24) [MSC v.1929 64 bit (AMD64)]\n",
      "\n",
      "---------------------------------\n",
      "Python interpreter: C:\\Users\\zak\\anaconda3\\envs\\srh\\python.exe\n"
     ]
    }
   ],
   "source": [
    "import matplotlib.pyplot as plt\n",
    "import numpy as np\n",
    "import pandas as pd\n",
    "from random import sample\n",
    "#from scipy.stats import t\n",
    "from scipy.stats import chi2\n",
    "\n",
    "#from scipy import stats\n",
    "#import scipy.stats\n",
    "#import statsmodels.api as smi\n",
    "#import pylab\n",
    "from scipy.stats import chi2_contingency\n",
    "\n",
    "%run ../src/notebook_env.py"
   ]
  },
  {
   "cell_type": "markdown",
   "id": "d32682ed-e840-435a-badc-7e0da254b5c4",
   "metadata": {},
   "source": [
    "Der **$\\chi^2$ Unabhängigkeitstest** ist eine inferentielle Methode, um zu entscheiden, ob ein Zusammenhang zwischen zwei Variablen besteht. Ähnlich wie bei anderen Hypothesentests besagt die Nullhypothese, dass die beiden Variablen nicht miteinander verbunden sind. Im Gegensatz dazu besagt die Alternativhypothese, dass die beiden Variablen miteinander verbunden sind.\n",
    "\n",
    "Es sei daran erinnert, dass statistisch **abhängige Variablen** als **assoziierte Variablen** bezeichnet werden. Im Gegensatz dazu werden nicht-assoziierte Variablen als statistisch unabhängige Variablen bezeichnet. Erinnern Sie sich auch an das Konzept der <a href=\"https://en.wikipedia.org/wiki/Contingency_table\">Kontingenztabellen</a> (auch als Zwei-Wege-Tabellen oder Kreuztabellen bezeichnet), in denen die Häufigkeitsverteilungen von bivariaten Daten dargestellt werden."
   ]
  },
  {
   "cell_type": "markdown",
   "id": "4b6f3773-87d6-432d-85cc-a096acad6a5b",
   "metadata": {},
   "source": [
    "### $\\chi^2$-Unabhängigkeitstest"
   ]
  },
  {
   "cell_type": "markdown",
   "id": "a331e924-bd4f-4836-8ec2-7c412f2aa505",
   "metadata": {},
   "source": [
    "Die Grundidee des **$\\chi^2$-Unabhängigkeitstests** besteht darin, die **beobachteten Häufigkeiten** in einer Kontingenztabelle mit den **erwarteten Häufigkeiten** zu vergleichen, unter der Annahme das die Nullhypothese der Nicht-Assoziation wahr ist. Die erwartete Häufigkeit für jede Zelle einer Kontingenztabelle ist gegeben durch"
   ]
  },
  {
   "cell_type": "markdown",
   "id": "6c4ec60f-7d4d-47ec-a12b-6200033b208e",
   "metadata": {},
   "source": [
    "$$E = \\frac{R\\times C}{n} \\text{,}$$"
   ]
  },
  {
   "cell_type": "markdown",
   "id": "5d6c0649-9e91-455f-b57c-7e2c3d1fa7d1",
   "metadata": {},
   "source": [
    "wobei $R$ die Zeilensumme ist, $C$ die Spaltensumme und $n$ der Stichprobenumfang ist.\n",
    "\n",
    "Lassen Sie uns zum besseren Verständnis ein Beispiel konstruieren. Wir betrachten eine Exit Poll in Form einer Kontingenztabelle, die das Alter von $n=1189$ in den Kategorien $18-29$, $30-44$, $45-64$ und $\\gt 65$ Jahre und ihre politische Zugehörigkeit, d. h. \"Konservativ\", \"Sozialistisch\" und \"Andere\". Diese Tabelle entspricht den beobachteten Häufigkeiten.\n",
    "\n",
    "**Beobachtete Häufigkeiten:**"
   ]
  },
  {
   "cell_type": "markdown",
   "id": "4a531e86-150d-4e25-937b-50f6cab81267",
   "metadata": {},
   "source": [
    "$$\n",
    "\\begin{array}{|l|c|}\n",
    "\\hline\n",
    "\\ & \\text{Konservativ} & \\text{Sozialistisch} & \\text{Andere} & \\text{Insgesamt} \\\\\n",
    "\\hline\n",
    "\\ \\text{18-29}  & 141 & 68 & 4 & 213\\\\\n",
    "\\ \\text{30-44}  & 179 & 159 & 7 & 345\\\\\n",
    "\\ \\text{45-64} & 220 & 216 & 4 & 440\\\\\n",
    "\\ \\text{65 & älter} & 86 & 101 & 4 & 191\\\\\n",
    "\\hline \n",
    "\\  \\text{Insgesamt} & 626 & 544 & 19 & 1189\\\\\n",
    "\\hline \n",
    "\\end{array}\n",
    "$$"
   ]
  },
  {
   "cell_type": "markdown",
   "id": "812e9239-186d-4915-ab84-a81f5897afcb",
   "metadata": {},
   "source": [
    "Auf der Grundlage der oben genannten Gleichung berechnen wir die erwartete Häufigkeit für jede Zelle.\n",
    "\n",
    "**Erwartete Häufigkeiten:**"
   ]
  },
  {
   "cell_type": "markdown",
   "id": "4b13f6d4-51b0-4a70-9329-b8850c43ffa8",
   "metadata": {},
   "source": [
    "$$\n",
    "\\begin{array}{|l|c|}\n",
    "\\hline\n",
    "\\ & \\text{Konservativ} & \\text{Sozialistisch} & \\text{Andere} & \\text{Insgesamt} \\\\\n",
    "\\hline\n",
    "\\ \\text{18-29}  & \\frac{213 \\times 626 }{1189} \\approx 112.14 & \\frac{213 \\times 544 }{1189} \\approx97.45 & \\frac{213 \\times 19 }{1189} \\approx3.4 & 213\\\\\n",
    "\\ \\text{30-44}  & \\frac{345 \\times 626 }{1189} \\approx181.64 &\\frac{345 \\times 544 }{1189} \\approx 157.85 & \\frac{345 \\times 19 }{1189} \\approx5.51 & 345\\\\\n",
    "\\ \\text{45-64} & \\frac{440 \\times 626 }{1189} \\approx231.66 & \\frac{440 \\times 544 }{1189} \\approx201.31 &\\frac{440 \\times 19 }{1189} \\approx 7.03 & 440\\\\\n",
    "\\ \\text{65 & älter} &\\frac{191 \\times 626 }{1189} \\approx 100.56 &\\frac{191 \\times 544 }{1189} \\approx 87.39 & \\frac{191 \\times 19 }{1189} \\approx3.05 & 191\\\\\n",
    "\\hline \n",
    "\\ \\text{Insgesamt} & 626 & 544 & 19 & 1189\\\\\n",
    "\\hline \n",
    "\\end{array}\n",
    "$$"
   ]
  },
  {
   "cell_type": "markdown",
   "id": "27da129f-62d9-4f0b-90e7-9f17bfe28e99",
   "metadata": {},
   "source": [
    "Sobald wir die erwarteten Häufigkeiten kennen, müssen wir zwei Annahmen überprüfen. Erstens müssen wir sicherstellen, dass alle erwarteten Häufigkeiten $1$ oder größer sind, und zweitens, dass höchstens $20 \\%$ der erwarteten Häufigkeiten kleiner als $5$ sind. Ein Blick auf die Tabelle bestätigt, dass beide Annahmen erfüllt sind.\n",
    "\n",
    "Der eigentliche Vergleich erfolgt auf der Grundlage der $\\chi^2$\n",
    "Teststatistik für die beobachtete Häufigkeit und die erwartete Häufigkeit. Die -Teststatistik folgt der $\\chi^2$-Verteilung und ist gegeben durch"
   ]
  },
  {
   "cell_type": "markdown",
   "id": "4ade4749-f0bd-4725-9c97-b6788b8538ad",
   "metadata": {},
   "source": [
    "$$\\chi^2= \\sum{\\frac{(O-E)^2}{E}}\\text{,}$$"
   ]
  },
  {
   "cell_type": "markdown",
   "id": "9ec65c7e-b8be-4d05-93bf-a71cee0ce7cb",
   "metadata": {},
   "source": [
    "wobei $O$ für die beobachtete Häufigkeit und $E$ für die erwartete Häufigkeit steht. Bitte beachten Sie, dass $\\frac{(O-E)^2}{E}$ für jede Zelle ausgewertet und dann aufsummiert wird.\n",
    "\n",
    "Die Anzahl der Freiheitsgrade ist gegeben durch"
   ]
  },
  {
   "cell_type": "markdown",
   "id": "68def424-7ab9-4875-a371-c046daaa8ef9",
   "metadata": {},
   "source": [
    "$$df = (r-1) \\times (c-1)\\text{,}$$"
   ]
  },
  {
   "cell_type": "markdown",
   "id": "d703fb33-60e0-4d69-b9f7-089bf165cb8a",
   "metadata": {},
   "source": [
    "wobei $r$ und $c$ die Anzahl der möglichen Werte für die beiden betrachteten Variablen sind.\n",
    "\n",
    "Übertragen auf das obige Beispiel führt dies zu einem etwas langen Ausdruck, der der Kürze halber nur für die erste und die letzte Zeile der interessierenden Kontingenztafeln angegeben wird."
   ]
  },
  {
   "cell_type": "markdown",
   "id": "aedfedbd-d597-4231-b4f5-6544712eac4d",
   "metadata": {},
   "source": [
    "$$\\chi^2 = \\frac{(141 - 112,14)^2}{112,14} + \\frac{(68 - 97,45)^2}{97,45} + \\frac{(4 - 3,4)^2}{3,4}  + \\cdots + \\frac{(86 - 100,56)^2}{100,56} + \\frac{(101 - 87,39)^2}{87,39} + \\frac{(4 - 3,05)^2}{3,05}$$"
   ]
  },
  {
   "cell_type": "markdown",
   "id": "12274956-6096-4ff7-aaa6-217c79030ce2",
   "metadata": {},
   "source": [
    "Wenn die Nullhypothese wahr ist, sind die beobachtete und die erwartete Häufigkeit ungefähr gleich, was zu einem kleinen Wert der $\\chi^2$-Teststatistik führt und somit $H_0$ unterstützt. Ist der Wert der $\\chi^2$-Teststatistik jedoch groß, liefern die Daten Beweise gegen $H_0$. In den nächsten Abschnitten wird weiter erörtert, wie der Wert der $\\chi^2$-Teststatistik im Rahmen der Hypothesentests zu bewerten ist."
   ]
  },
  {
   "cell_type": "markdown",
   "id": "fa166d4a-4fd0-42a7-9815-9b9bd0052a7c",
   "metadata": {},
   "source": [
    "### $\\chi^2$ Unabhängigkeitstest: Ein Beispiel"
   ]
  },
  {
   "cell_type": "markdown",
   "id": "369e9337-873f-4017-a92c-83ee7460261b",
   "metadata": {},
   "source": [
    "Um praktische Erfahrungen zu sammeln, wenden wir den $\\chi^2$ Unabhängigkeitstest in einer Übung an. Dazu laden wir den `students` Datensatz. Sie können die Datei `students.csv` <a href=\"https://userpage.fu-berlin.de/soga/200/2010_data_sets/students.csv\">hier</a> herunterladen. Importieren Sie den Datensatz und geben Sie ihm einen passenden Namen."
   ]
  },
  {
   "cell_type": "code",
   "execution_count": 20,
   "id": "2f81cbe8-96ef-4306-9835-15e7a39cfcd7",
   "metadata": {},
   "outputs": [],
   "source": [
    "# Lese Datei students.csv als Dataframe ein; Indexspalte wird übersprungen\n",
    "students = pd.read_csv('students.csv', index_col=0)"
   ]
  },
  {
   "cell_type": "markdown",
   "id": "84ab65b5-e19a-4f99-89b1-67b36b01fac2",
   "metadata": {},
   "source": [
    "Der `students` Datensatz besteht aus $8239$ Zeilen, von denen jede einen bestimmten Studenten repräsentiert, und $16$ Spalten, von denen jede einer Variable/einem Merkmal entspricht, das sich auf diesen bestimmten Studenten bezieht. Diese selbsterklärenden Variablen sind: *stud.id, name, gender, age, height, weight, religion, nc.score, semester, major, minor, score1, score2, online.tutorial, graduated, salary.*"
   ]
  },
  {
   "cell_type": "markdown",
   "id": "b5eaa73e-9438-42a9-ab80-5c20777ebf20",
   "metadata": {},
   "source": [
    "In dieser Übung wollen wir untersuchen, **ob es einen Zusammenhang zwischen den Variablen `gender` und `major` gibt, oder mit anderen Worten, wir wollen wissen, ob männliche Studenten andere Studienfächer bevorzugen als weibliche Studenten.**"
   ]
  },
  {
   "cell_type": "markdown",
   "id": "531fb4be-3d3a-4aa7-92a1-e52dac261912",
   "metadata": {},
   "source": [
    "### Vorbereitung der Daten"
   ]
  },
  {
   "cell_type": "markdown",
   "id": "3b2421f1-f0d3-479d-91b2-e0bfb6d6bcc9",
   "metadata": {},
   "source": [
    "Wir beginnen mit der Datenaufbereitung. Da wir nicht den gesamten Datensatz von $8239$ Einträgen bearbeiten wollen, wählen wir zufällig $865$ Studenten aus dem Datensatz aus. Der erste Schritt der Datenvorbereitung besteht darin, die interessierenden Daten in Form einer Kontingenztabelle darzustellen. Python bietet die ausgefallene Funktion `unique()`, die diese Aufgabe übernehmen wird."
   ]
  },
  {
   "cell_type": "code",
   "execution_count": 21,
   "id": "6dcd6388-2446-4b4b-882d-e9d018eac4f3",
   "metadata": {},
   "outputs": [
    {
     "data": {
      "text/html": [
       "<div>\n",
       "<style scoped>\n",
       "    .dataframe tbody tr th:only-of-type {\n",
       "        vertical-align: middle;\n",
       "    }\n",
       "\n",
       "    .dataframe tbody tr th {\n",
       "        vertical-align: top;\n",
       "    }\n",
       "\n",
       "    .dataframe thead th {\n",
       "        text-align: right;\n",
       "    }\n",
       "</style>\n",
       "<table border=\"1\" class=\"dataframe\">\n",
       "  <thead>\n",
       "    <tr style=\"text-align: right;\">\n",
       "      <th>gender</th>\n",
       "      <th>Female</th>\n",
       "      <th>Male</th>\n",
       "    </tr>\n",
       "    <tr>\n",
       "      <th>major</th>\n",
       "      <th></th>\n",
       "      <th></th>\n",
       "    </tr>\n",
       "  </thead>\n",
       "  <tbody>\n",
       "    <tr>\n",
       "      <th>Biology</th>\n",
       "      <td>89</td>\n",
       "      <td>65</td>\n",
       "    </tr>\n",
       "    <tr>\n",
       "      <th>Economics and Finance</th>\n",
       "      <td>55</td>\n",
       "      <td>79</td>\n",
       "    </tr>\n",
       "    <tr>\n",
       "      <th>Environmental Sciences</th>\n",
       "      <td>99</td>\n",
       "      <td>96</td>\n",
       "    </tr>\n",
       "    <tr>\n",
       "      <th>Mathematics and Statistics</th>\n",
       "      <td>39</td>\n",
       "      <td>92</td>\n",
       "    </tr>\n",
       "    <tr>\n",
       "      <th>Political Science</th>\n",
       "      <td>112</td>\n",
       "      <td>40</td>\n",
       "    </tr>\n",
       "    <tr>\n",
       "      <th>Social Sciences</th>\n",
       "      <td>70</td>\n",
       "      <td>29</td>\n",
       "    </tr>\n",
       "  </tbody>\n",
       "</table>\n",
       "</div>"
      ],
      "text/plain": [
       "gender                      Female  Male\n",
       "major                                   \n",
       "Biology                         89    65\n",
       "Economics and Finance           55    79\n",
       "Environmental Sciences          99    96\n",
       "Mathematics and Statistics      39    92\n",
       "Political Science              112    40\n",
       "Social Sciences                 70    29"
      ]
     },
     "execution_count": 21,
     "metadata": {},
     "output_type": "execute_result"
    }
   ],
   "source": [
    "n = 865\n",
    "\n",
    "data = students.sample(n,random_state=1)\n",
    "table_df = pd.crosstab(index = data['major'], columns = data['gender'])\n",
    "table_df"
   ]
  },
  {
   "cell_type": "markdown",
   "id": "bb4f6bb8-8bb4-46a3-a164-356f71f6da96",
   "metadata": {},
   "source": [
    "Außerdem bestimmen wir die Spaltensummen und die Zeilensummen. Python bietet das Argument `margins = True`, das die Zeilensummen und die Spaltensummen für uns hinzufügt."
   ]
  },
  {
   "cell_type": "code",
   "execution_count": 22,
   "id": "6b870139-aade-4a95-a059-434b3af098a1",
   "metadata": {
    "tags": []
   },
   "outputs": [
    {
     "data": {
      "text/html": [
       "<div>\n",
       "<style scoped>\n",
       "    .dataframe tbody tr th:only-of-type {\n",
       "        vertical-align: middle;\n",
       "    }\n",
       "\n",
       "    .dataframe tbody tr th {\n",
       "        vertical-align: top;\n",
       "    }\n",
       "\n",
       "    .dataframe thead th {\n",
       "        text-align: right;\n",
       "    }\n",
       "</style>\n",
       "<table border=\"1\" class=\"dataframe\">\n",
       "  <thead>\n",
       "    <tr style=\"text-align: right;\">\n",
       "      <th>gender</th>\n",
       "      <th>Female</th>\n",
       "      <th>Male</th>\n",
       "      <th>All</th>\n",
       "    </tr>\n",
       "    <tr>\n",
       "      <th>major</th>\n",
       "      <th></th>\n",
       "      <th></th>\n",
       "      <th></th>\n",
       "    </tr>\n",
       "  </thead>\n",
       "  <tbody>\n",
       "    <tr>\n",
       "      <th>Biology</th>\n",
       "      <td>89</td>\n",
       "      <td>65</td>\n",
       "      <td>154</td>\n",
       "    </tr>\n",
       "    <tr>\n",
       "      <th>Economics and Finance</th>\n",
       "      <td>55</td>\n",
       "      <td>79</td>\n",
       "      <td>134</td>\n",
       "    </tr>\n",
       "    <tr>\n",
       "      <th>Environmental Sciences</th>\n",
       "      <td>99</td>\n",
       "      <td>96</td>\n",
       "      <td>195</td>\n",
       "    </tr>\n",
       "    <tr>\n",
       "      <th>Mathematics and Statistics</th>\n",
       "      <td>39</td>\n",
       "      <td>92</td>\n",
       "      <td>131</td>\n",
       "    </tr>\n",
       "    <tr>\n",
       "      <th>Political Science</th>\n",
       "      <td>112</td>\n",
       "      <td>40</td>\n",
       "      <td>152</td>\n",
       "    </tr>\n",
       "    <tr>\n",
       "      <th>Social Sciences</th>\n",
       "      <td>70</td>\n",
       "      <td>29</td>\n",
       "      <td>99</td>\n",
       "    </tr>\n",
       "    <tr>\n",
       "      <th>All</th>\n",
       "      <td>464</td>\n",
       "      <td>401</td>\n",
       "      <td>865</td>\n",
       "    </tr>\n",
       "  </tbody>\n",
       "</table>\n",
       "</div>"
      ],
      "text/plain": [
       "gender                      Female  Male  All\n",
       "major                                        \n",
       "Biology                         89    65  154\n",
       "Economics and Finance           55    79  134\n",
       "Environmental Sciences          99    96  195\n",
       "Mathematics and Statistics      39    92  131\n",
       "Political Science              112    40  152\n",
       "Social Sciences                 70    29   99\n",
       "All                            464   401  865"
      ]
     },
     "execution_count": 22,
     "metadata": {},
     "output_type": "execute_result"
    }
   ],
   "source": [
    "table_df2 = pd.crosstab(index = data['major'], columns = data['gender'], margins = True)\n",
    "table_df2"
   ]
  },
  {
   "cell_type": "markdown",
   "id": "8866294e-c0be-4245-a20f-12dee3ff8fa0",
   "metadata": {},
   "source": [
    "Im nächsten Schritt konstruieren wir die **erwarteten Häufigkeiten**. Erinnern Sie sich an die Gleichung von oben:"
   ]
  },
  {
   "cell_type": "markdown",
   "id": "db1e6950-9678-4553-a853-2876be5a77b2",
   "metadata": {},
   "source": [
    "$$E = \\frac{R\\times C}{n} \\text{,}$$"
   ]
  },
  {
   "cell_type": "markdown",
   "id": "8eb59cc3-4b4d-45d6-8651-6037c345a580",
   "metadata": {},
   "source": [
    "wobei $R$ die Zeilensumme ist, $C$ die Spaltensumme und $n$ der Stichprobenumfang ist.\n",
    "\n",
    "Wir berechnen die erwarteten Häufigkeiten zellenweise, indem wir eine verschachtelte for-Schleife implementieren. Dabei gehen wir alle Zeilen der Matrix Spalte für Spalte durch und berechnen die erwartete Häufigkeit $E$ für jede einzelne Zelle."
   ]
  },
  {
   "cell_type": "code",
   "execution_count": 23,
   "id": "1c853558-b4c6-4da4-bb95-83a462e53520",
   "metadata": {},
   "outputs": [
    {
     "data": {
      "text/html": [
       "<div>\n",
       "<style scoped>\n",
       "    .dataframe tbody tr th:only-of-type {\n",
       "        vertical-align: middle;\n",
       "    }\n",
       "\n",
       "    .dataframe tbody tr th {\n",
       "        vertical-align: top;\n",
       "    }\n",
       "\n",
       "    .dataframe thead th {\n",
       "        text-align: right;\n",
       "    }\n",
       "</style>\n",
       "<table border=\"1\" class=\"dataframe\">\n",
       "  <thead>\n",
       "    <tr style=\"text-align: right;\">\n",
       "      <th></th>\n",
       "      <th>Female</th>\n",
       "      <th>Male</th>\n",
       "    </tr>\n",
       "    <tr>\n",
       "      <th>major</th>\n",
       "      <th></th>\n",
       "      <th></th>\n",
       "    </tr>\n",
       "  </thead>\n",
       "  <tbody>\n",
       "    <tr>\n",
       "      <th>Biology</th>\n",
       "      <td>82.608092</td>\n",
       "      <td>71.391908</td>\n",
       "    </tr>\n",
       "    <tr>\n",
       "      <th>Economics and Finance</th>\n",
       "      <td>71.879769</td>\n",
       "      <td>62.120231</td>\n",
       "    </tr>\n",
       "    <tr>\n",
       "      <th>Environmental Sciences</th>\n",
       "      <td>104.601156</td>\n",
       "      <td>90.398844</td>\n",
       "    </tr>\n",
       "    <tr>\n",
       "      <th>Mathematics and Statistics</th>\n",
       "      <td>70.270520</td>\n",
       "      <td>60.729480</td>\n",
       "    </tr>\n",
       "    <tr>\n",
       "      <th>Political Science</th>\n",
       "      <td>81.535260</td>\n",
       "      <td>70.464740</td>\n",
       "    </tr>\n",
       "    <tr>\n",
       "      <th>Social Sciences</th>\n",
       "      <td>53.105202</td>\n",
       "      <td>45.894798</td>\n",
       "    </tr>\n",
       "  </tbody>\n",
       "</table>\n",
       "</div>"
      ],
      "text/plain": [
       "                                Female       Male\n",
       "major                                            \n",
       "Biology                      82.608092  71.391908\n",
       "Economics and Finance        71.879769  62.120231\n",
       "Environmental Sciences      104.601156  90.398844\n",
       "Mathematics and Statistics   70.270520  60.729480\n",
       "Political Science            81.535260  70.464740\n",
       "Social Sciences              53.105202  45.894798"
      ]
     },
     "execution_count": 23,
     "metadata": {},
     "output_type": "execute_result"
    }
   ],
   "source": [
    "expected_frequencies = pd.DataFrame()\n",
    "expected_frequencies['Female'] =np.array(table_df2.iloc[[6]])[0][0]*table_df2['All']/table_df2['All'][6]\n",
    "expected_frequencies['Male'] =np.array(table_df2.iloc[[6]])[0][1]*table_df2['All']/table_df2['All'][6]\n",
    "expected_frequencies = expected_frequencies.drop(['All'])\n",
    "expected_frequencies"
   ]
  },
  {
   "cell_type": "markdown",
   "id": "64b3d858-f245-4416-a021-ebd23468b28d",
   "metadata": {},
   "source": [
    "Sobald wir die erwarteten Häufigkeiten kennen, müssen wir zwei Annahmen überprüfen. Erstens müssen wir sicherstellen, dass alle erwarteten Häufigkeiten $1$ oder größer sind, und zweitens, dass höchstens $20 \\%$ der erwarteten Häufigkeiten kleiner als $5$ sind. Durch einen Blick auf die Tabelle können wir bestätigen, dass beide Annahmen erfüllt sind.\n",
    "\n",
    "Jetzt haben wir alle Daten, die wir für einen $\\chi^2$ Unabhängigkeitstest durchzuführen."
   ]
  },
  {
   "cell_type": "markdown",
   "id": "d869b72e-ea61-41f7-8cc9-d3c4a5a9931b",
   "metadata": {},
   "source": [
    "### Überprüfung der Hypothesen"
   ]
  },
  {
   "cell_type": "markdown",
   "id": "9ad28e3e-4b97-49c0-b8f5-395077c244d3",
   "metadata": {},
   "source": [
    "Zur Durchführung des **$\\chi^2$-Unabhängigkeitstests** folgen wir dem Verfahren der schrittweisen Durchführung von Hypothesentests. Der **$\\chi^2$-Unabhängigkeitstest** folgt demselben schrittweisen Verfahren wie in den vorangegangenen Abschnitten beschrieben. "
   ]
  },
  {
   "cell_type": "markdown",
   "id": "b35f9b1a-e03e-4784-9092-bb0f5aa29cd7",
   "metadata": {},
   "source": [
    "$$\n",
    "\\begin{array}{l}\n",
    "\\hline\n",
    "\\ \\text{Schritt 1}  & \\text{Geben Sie die Nullhypothese } H_0 \\text{ und alternative Hypothese } H_A \\text{ an.}\\\\\n",
    "\\ \\text{Schritt 2}  & \\text{Legen Sie das Signifikanzniveau, } \\alpha\\text{ fest.} \\\\\n",
    "\\ \\text{Schritt 3}  & \\text{Berechnen Sie den Wert der Teststatistik.} \\\\\n",
    "\\ \\text{Schritt 4} &\\text{Bestimmen Sie den p-Wert.} \\\\\n",
    "\\ \\text{Schritt 5} & \\text{Wenn} \\ p \\le \\alpha \\text{, } H_0 \\text{ ablehnen } \\text{; ansonsten } H_0 \\text{ nicht ablehnen} \\text{.} \\\\\n",
    "\\ \\text{Schritt 6} &\\text{Interpretieren Sie das Ergebnis des Hypothesentests.} \\\\\n",
    "\\hline \n",
    "\\end{array}\n",
    "$$"
   ]
  },
  {
   "cell_type": "markdown",
   "id": "91ddf99b-6207-46e5-9f22-e04fc03e7853",
   "metadata": {},
   "source": [
    "**Schritt 1 : Geben Sie die Nullhypothese $H_0$ und alternative Hypothese $H_A$ an**"
   ]
  },
  {
   "cell_type": "markdown",
   "id": "54459e13-ff26-4715-94d9-d9cdd75dfb64",
   "metadata": {},
   "source": [
    "Die Nullhypothese besagt, dass es keinen Zusammenhang zwischen dem Geschlecht und dem Hauptstudienfach der Studierenden gibt."
   ]
  },
  {
   "cell_type": "markdown",
   "id": "8312e19c-3118-42fd-9e5c-e0851c2d4c5f",
   "metadata": {},
   "source": [
    "$$H_0:\\text{Kein Zusammenhang zwischen Geschlecht und Studienschwerpunkt}$$"
   ]
  },
  {
   "cell_type": "markdown",
   "id": "4854e3a8-d887-4955-b0d5-74fb5bc26e4c",
   "metadata": {},
   "source": [
    "**Alternative Hypothese**"
   ]
  },
  {
   "cell_type": "markdown",
   "id": "16bffab3-deb8-44d1-b937-4fed029735a0",
   "metadata": {},
   "source": [
    "$$H_A:\\text{Es gibt einen Zusammenhang zwischen dem Geschlecht und dem Hauptstudienfach}$$"
   ]
  },
  {
   "cell_type": "markdown",
   "id": "e5990b74-157b-4c65-88cb-2a46b4d8a561",
   "metadata": {},
   "source": [
    "**Schritt 2: Legen Sie das Signifikanzniveau,$\\alpha$ fest**"
   ]
  },
  {
   "cell_type": "markdown",
   "id": "9c4c5af6-4859-4ead-b9e1-521774bde998",
   "metadata": {},
   "source": [
    "$$\\alpha = 0,05$$"
   ]
  },
  {
   "cell_type": "code",
   "execution_count": 24,
   "id": "2e70706e-2bb8-4f62-9e51-f58dc4039020",
   "metadata": {},
   "outputs": [],
   "source": [
    "alpha = 0.05"
   ]
  },
  {
   "cell_type": "markdown",
   "id": "f712a0bc-79ad-4fc7-a289-b578951e7c4f",
   "metadata": {},
   "source": [
    "**Schritt 3 und 4: Berechnen Sie den Wert der Teststatistik und den $p$-Wert**"
   ]
  },
  {
   "cell_type": "markdown",
   "id": "f92086ef-a32a-4976-9ec6-e6fc58fb6d92",
   "metadata": {},
   "source": [
    "Zur Veranschaulichung berechnen wir die Teststatistik manuell in Python. Erinnern Sie sich an die Gleichung für die Teststatistik von oben:"
   ]
  },
  {
   "cell_type": "markdown",
   "id": "628b7eb1-0f94-4530-abd5-2edb63325765",
   "metadata": {},
   "source": [
    "$$\\chi^2= \\sum{\\frac{(O-E)^2}{E}}\\text{,}$$"
   ]
  },
  {
   "cell_type": "markdown",
   "id": "6ed8f779-481d-4dac-83c5-3797255cec2c",
   "metadata": {},
   "source": [
    "wobei $O$ für die beobachtete Häufigkeit und $E$ für die erwartete Häufigkeit steht.\n",
    "\n",
    "Zur Berechnung der Teststatistik führen wir die Berechnungen Zelle für Zelle durch. Wir wenden also wieder eine verschachtelte for-Schleife an. Um den Code besser lesbar zu machen, ordnen wir die beobachteten und erwarteten Häufigkeiten den Variablen `of` bzw. `ef` zu."
   ]
  },
  {
   "cell_type": "code",
   "execution_count": 25,
   "id": "c38c12d0-a6e0-4899-914f-f48fed27b40f",
   "metadata": {},
   "outputs": [
    {
     "data": {
      "text/plain": [
       "76.42971653913816"
      ]
     },
     "execution_count": 25,
     "metadata": {},
     "output_type": "execute_result"
    }
   ],
   "source": [
    "of = table_df\n",
    "ef = expected_frequencies\n",
    "chi_2 = ((of - ef)**2 / ef).sum(axis=1).sum()\n",
    "chi_2"
   ]
  },
  {
   "cell_type": "markdown",
   "id": "cb071675-beeb-4735-8ed3-59da80760591",
   "metadata": {},
   "source": [
    "Der numerische Wert der Teststatistik beträgt $\\approx 76,43$.\n",
    "\n",
    "Um den $p$-Wert zu berechnen, verwenden wir die Funktion `chi2.cdf()`. Erinnern Sie sich daran, wie man die Freiheitsgrade berechnet:"
   ]
  },
  {
   "cell_type": "markdown",
   "id": "f51a502b-808d-4baa-b44a-05ec98320a32",
   "metadata": {},
   "source": [
    "$$df = (r-1) \\times (c-1)\\text{,}$$"
   ]
  },
  {
   "cell_type": "markdown",
   "id": "24c93a52-5c25-4bf7-b3d7-022133e6d05a",
   "metadata": {},
   "source": [
    "wobei $r$ und $c$ die Anzahl der möglichen Werte für die beiden betrachteten Variablen sind."
   ]
  },
  {
   "cell_type": "code",
   "execution_count": 26,
   "id": "1265984e-e4be-4471-8917-e2efb4315966",
   "metadata": {},
   "outputs": [
    {
     "data": {
      "text/plain": [
       "4.678888864647207e-15"
      ]
     },
     "execution_count": 26,
     "metadata": {},
     "output_type": "execute_result"
    }
   ],
   "source": [
    "df =5\n",
    "p = chi2.sf(chi_2, df, loc=0, scale=1)\n",
    "p"
   ]
  },
  {
   "cell_type": "markdown",
   "id": "7974aa0c-e803-4c66-8877-752b87aefbf6",
   "metadata": {},
   "source": [
    "**Schritt 5: Wenn $p \\le \\alpha , H_0$ ablehnen; ansonsten $H_0$ nicht ablehnen**"
   ]
  },
  {
   "cell_type": "code",
   "execution_count": 9,
   "id": "f06489c9-640e-4b83-b655-f5e40d9f7f93",
   "metadata": {},
   "outputs": [
    {
     "data": {
      "text/plain": [
       "True"
      ]
     },
     "execution_count": 9,
     "metadata": {},
     "output_type": "execute_result"
    }
   ],
   "source": [
    "p <= alpha"
   ]
  },
  {
   "cell_type": "markdown",
   "id": "d169da05-ef74-4a20-a404-3af16dc7c549",
   "metadata": {},
   "source": [
    "Der $p$-Wert ist kleiner als das angegebene Signifikanzniveau von $0,05$; wir verwerfen $H_0$. Die Testergebnisse sind statistisch signifikant auf dem $5 \\%$-Niveau und liefern einen sehr starken Beweis gegen die Nullhypothese."
   ]
  },
  {
   "cell_type": "markdown",
   "id": "65d4a11a-2b3d-4826-8d25-b05a625abcd4",
   "metadata": {},
   "source": [
    "**Schritt 6: Interpretieren Sie das Ergebnis des Hypothesentests**"
   ]
  },
  {
   "cell_type": "markdown",
   "id": "835e3fd9-6ec8-4b8f-91cb-b4cf1ebe72d4",
   "metadata": {},
   "source": [
    "$p=4,67888886 \\cdot 10^{-15}$. Bei einem Signifikanzniveau von $5 \\%$ lassen die Daten den Schluss zu, dass es einen Zusammenhang zwischen dem Geschlecht und dem Hauptstudienfach gibt"
   ]
  },
  {
   "cell_type": "markdown",
   "id": "5547bd66-e88e-49a8-a592-d47337c370f0",
   "metadata": {},
   "source": [
    "### Hypothesentests in Python"
   ]
  },
  {
   "cell_type": "markdown",
   "id": "837dceaa-67f7-462a-b76f-b24dc1c27205",
   "metadata": {},
   "source": [
    "Wir haben gerade einen $\\chi^2$ Unabhängigkeitstest manuell durchgeführt. Wir können dasselbe in Python mit nur einer Zeile Code tun!\n",
    "\n",
    "Dazu wenden wir die Funktion `chi2_contingency()` an. Für die Funktion stellen wir das Tabellenobjekt `table_df` als Dateneingabe bereit."
   ]
  },
  {
   "cell_type": "code",
   "execution_count": 10,
   "id": "65a35672-a2ad-4a24-b563-fe683070cb81",
   "metadata": {},
   "outputs": [
    {
     "name": "stdout",
     "output_type": "stream",
     "text": [
      "p- Wert : 4.6788888646472395e-15\n",
      "Freiheitsgrade : 5\n",
      "chi^2 : 76.42971653913814\n"
     ]
    }
   ],
   "source": [
    "stat, p, dof, expected = chi2_contingency(table_df)\n",
    "print('p- Wert :',p)\n",
    "print('Freiheitsgrade :',dof)\n",
    "print('chi^2 :',stat)"
   ]
  },
  {
   "cell_type": "markdown",
   "id": "aadff70f-1352-44bc-a156-9d2e969ab05b",
   "metadata": {},
   "source": [
    "Perfekt! Vergleichen Sie die Ausgabe der Funktion `chi2_contingency()` mit unserem Ergebnis von oben. Auch hier können wir zu dem Schluss kommen, dass die Daten bei einem Signifikanzniveau von $5 \\%$ sehr starke Anhaltspunkte dafür liefern, dass es einen Zusammenhang zwischen dem Geschlecht und dem Hauptstudienfach gibt."
   ]
  },
  {
   "cell_type": "code",
   "execution_count": null,
   "id": "c44069f4-d62f-4dcd-b1a0-a53d9a344603",
   "metadata": {},
   "outputs": [],
   "source": []
  }
 ],
 "metadata": {
  "kernelspec": {
   "display_name": "Python 3 (ipykernel)",
   "language": "python",
   "name": "python3"
  },
  "language_info": {
   "codemirror_mode": {
    "name": "ipython",
    "version": 3
   },
   "file_extension": ".py",
   "mimetype": "text/x-python",
   "name": "python",
   "nbconvert_exporter": "python",
   "pygments_lexer": "ipython3",
   "version": "3.10.2"
  }
 },
 "nbformat": 4,
 "nbformat_minor": 5
}
