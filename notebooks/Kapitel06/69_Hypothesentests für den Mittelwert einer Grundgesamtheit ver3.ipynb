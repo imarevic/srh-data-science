{
 "cells": [
  {
   "cell_type": "markdown",
   "id": "8437b021-15d3-4831-bb21-8ee1e3e5fd09",
   "metadata": {},
   "source": [
    "## Hypothesentests für den Mittelwert einer Grundgesamtheit\n",
    "----------------------------------------"
   ]
  },
  {
   "cell_type": "markdown",
   "id": "d6fd6087-6e53-4362-822d-c8227d88b5e3",
   "metadata": {},
   "source": [
    "Die einfachste Form eines Hypothesentests ist der **Test auf einen Grundgesamtheitsmittelwert**. Bei diesem Test vergleichen wir den aus der Stichprobe (Beobachtungen) gewonnenen Mittelwert $\\mu$ mit einem angenommenen Grundgesamtheitsmittelwert $\\mu_0$. Die Nullhypothese besagt, dass der Mittelwert und der Mittelwert der Grundgesamtheit gleich sind, und wird daher wie folgt geschrieben"
   ]
  },
  {
   "cell_type": "markdown",
   "id": "5c72393d-3844-4fb3-8fec-85d8ab55bfc9",
   "metadata": {},
   "source": [
    "$$H_0: \\mu = \\mu_0\\text{.}$$"
   ]
  },
  {
   "cell_type": "markdown",
   "id": "e4402294-d6a9-4d26-995d-5b5783e1ddc7",
   "metadata": {},
   "source": [
    "Weichen die beobachteten Daten ($\\mu$) signifikant vom angenommenen Mittelwert der Grundgesamtheit ($\\mu_0$) ab, dann wird die Annahme $H_0$ zugunsten der Alternativhypothese $H_A$ verworfen. Je nach der spezifischen Forschungsfrage wird die Alternativhypothese $H_A$ wie folgt formuliert"
   ]
  },
  {
   "cell_type": "markdown",
   "id": "e000248c-a5b6-42d1-83eb-435bbed243a6",
   "metadata": {},
   "source": [
    "$$H_A: \\mu < \\mu_0 \\quad \\text{or} \\quad  \\mu > \\mu_0 \\quad \\text{or} \\quad \\mu \\ne \\mu_0 \\text{.}$$"
   ]
  },
  {
   "cell_type": "markdown",
   "id": "361c616e-0670-43bf-b24e-350da301738c",
   "metadata": {},
   "source": [
    "Wenn die Daten jedoch nicht genügend Beweise liefern, um die angegebene Hypothese ($H_0$) zu verwerfen, verwerfen wir $H_0$ nicht und schließen, dass die Daten nicht genügend Beweise liefern, um anzunehmen, dass sich der beobachtete Mittelwert $\\mu$ vom angenommenen Grundgesamtheitsmittelwert ($\\mu_0$) unterscheidet. Die beobachtete Variabilität in den Daten wird auf die inhärent probabilistische Natur des Datenerzeugungsprozesses zurückgeführt, oder mit anderen Worten, die beobachtete Variabilität in den Daten ist auf den Zufall zurückzuführen.\n",
    "\n",
    "In den nächsten Abschnitten wird gezeigt, dass für die eigentliche Berechnung der statistischen Signifikanz unser Wissen über die Grundgesamtheitsparameter von Bedeutung ist."
   ]
  },
  {
   "cell_type": "code",
   "execution_count": null,
   "id": "120a9186-2be8-446b-9d2c-ecd9a6c16cfa",
   "metadata": {},
   "outputs": [],
   "source": []
  }
 ],
 "metadata": {
  "kernelspec": {
   "display_name": "Python 3 (ipykernel)",
   "language": "python",
   "name": "python3"
  },
  "language_info": {
   "codemirror_mode": {
    "name": "ipython",
    "version": 3
   },
   "file_extension": ".py",
   "mimetype": "text/x-python",
   "name": "python",
   "nbconvert_exporter": "python",
   "pygments_lexer": "ipython3",
   "version": "3.10.2"
  }
 },
 "nbformat": 4,
 "nbformat_minor": 5
}
