{
 "cells": [
  {
   "cell_type": "markdown",
   "id": "be247b16-1f98-4fd1-b33e-4d725a6c908b",
   "metadata": {},
   "source": [
    "## Fehler vom Typ I, Fehler vom Typ II und Signifikanzniveau\n",
    "----------------------------------------"
   ]
  },
  {
   "cell_type": "markdown",
   "id": "24bd86da-a8a8-4fab-8db1-623f88a7c159",
   "metadata": {},
   "source": [
    "Jede Entscheidung, die auf der Grundlage eines Hypothesentests getroffen wird, kann falsch sein. Im Rahmen von Hypothesentests gibt es zwei Arten von Fehlern: <a href=\"https://en.wikipedia.org/wiki/Type_I_and_type_II_errors\">Fehler vom Typ I und Fehler vom Typ II</a>. Ein Fehler vom Typ I tritt auf, wenn eine wahre Nullhypothese abgelehnt wird (ein \"falsches Positiv\"), während ein Fehler vom Typ II auftritt, wenn eine falsche Nullhypothese nicht abgelehnt wird (ein \"falsches Negativ\"). Mit anderen Worten, ein Fehler vom Typ I besteht darin, dass ein Effekt festgestellt wird, der nicht vorhanden ist, während ein Fehler vom Typ II darin besteht, dass ein Effekt nicht festgestellt wird, der vorhanden ist."
   ]
  },
  {
   "cell_type": "markdown",
   "id": "85f6f9ec-53a4-469d-b19f-5fe852e8858e",
   "metadata": {},
   "source": [
    "\\begin{array}{l|ll}\n",
    " & H_0 \\text{ trifft zu} & H_0 \\text{ trifft nicht zu}  \\\\\n",
    "\\hline\n",
    "H_0 \\text{ nicht ablehnen }  & \\text{korrekte Entscheidung} & \\text{Typ II Fehler}  \\\\\n",
    "H_0 \\text{ ablehnen }  & \\text{Typ I Fehler} & \\text{korrekte Entscheidung} \\\\\n",
    "\\hline \n",
    "\\end{array}"
   ]
  },
  {
   "cell_type": "markdown",
   "id": "045bcd23-bec9-4d1a-ad84-a42592b2184b",
   "metadata": {},
   "source": [
    "Wenn Sie sich nicht sicher sind, ob es sich um einen Fehler des Typs I oder des Typs II handelt, hilft Ihnen vielleicht diese Illustration (<a href=\"https://effectsizefaq.com/2010/05/31/i-always-get-confused-about-type-i-and-ii-errors-can-you-show-me-something-to-help-me-remember-the-difference/\">hier</a>)."
   ]
  },
  {
   "cell_type": "markdown",
   "id": "a4c4d3a2-a580-4afd-bf88-e49f1d38a747",
   "metadata": {},
   "source": [
    "Die Durchführung eines Hypothesentests bedeutet immer, dass die Möglichkeit besteht, eine falsche Entscheidung zu treffen. Die Wahrscheinlichkeit eines Fehlers vom Typ I (eine wahre Nullhypothese wird abgelehnt) wird allgemein als <a href=\"https://en.wikipedia.org/wiki/Statistical_significance\">Signifikanzniveau</a> des Hypothesentests bezeichnet und mit $\\alpha$ angegeben. Die Wahrscheinlichkeit eines Fehlers vom Typ II (eine falsche Nullhypothese wird nicht abgelehnt) wird mit $\\beta$ angegeben. Beachten Sie, dass bei einem festen Stichprobenumfang die Wahrscheinlichkeit $\\beta$ umso größer ist, je kleiner das Signifikanzniveau $\\alpha$ ist, eine falsche Nullhypothese nicht zurückzuweisen (Weiss 2010).\n",
    "\n",
    "Das Ergebnis eines Hypothesentests ist eine Aussage zu Gunsten der Nullhypothese oder zu Gunsten der Alternativhypothese. Wenn die Nullhypothese abgelehnt wird, liefern die Daten genügend Beweise, um die Alternativhypothese zu stützen. Wenn die Nullhypothese nicht verworfen wird, liefern die Daten keine ausreichenden Beweise für die Alternativhypothese. Wenn der Hypothesentest auf dem Signifikanzniveau $\\alpha$ durchgeführt wird, kann man sagen, dass die Testergebnisse auf dem **$\\alpha$-Niveau statistisch signifikant sind**. Wenn die Nullhypothese auf dem Signifikanzniveau $\\alpha$ nicht abgelehnt wird, kann man sagen, dass die Testergebnisse auf dem **$\\alpha$-Niveau statistisch nicht signifikant sind**."
   ]
  },
  {
   "cell_type": "code",
   "execution_count": null,
   "id": "9476a53b-1b5d-48be-bb37-311b29d53279",
   "metadata": {},
   "outputs": [],
   "source": []
  }
 ],
 "metadata": {
  "kernelspec": {
   "display_name": "Python 3 (ipykernel)",
   "language": "python",
   "name": "python3"
  },
  "language_info": {
   "codemirror_mode": {
    "name": "ipython",
    "version": 3
   },
   "file_extension": ".py",
   "mimetype": "text/x-python",
   "name": "python",
   "nbconvert_exporter": "python",
   "pygments_lexer": "ipython3",
   "version": "3.10.2"
  }
 },
 "nbformat": 4,
 "nbformat_minor": 5
}
