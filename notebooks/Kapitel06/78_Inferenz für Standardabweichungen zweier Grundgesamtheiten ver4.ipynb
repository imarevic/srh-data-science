{
 "cells": [
  {
   "cell_type": "markdown",
   "id": "c54209d6-43c5-4f8b-9307-7c8faca7b806",
   "metadata": {},
   "source": [
    "## Inferenz für Standardabweichungen zweier Grundgesamtheiten\n",
    "----------------------------------------"
   ]
  },
  {
   "cell_type": "code",
   "execution_count": 1,
   "id": "c46f6bc6-2062-4665-9d4f-fa542dc0219b",
   "metadata": {},
   "outputs": [
    {
     "name": "stdout",
     "output_type": "stream",
     "text": [
      "\n",
      "---------------------------------\n",
      "Working on the host: LAPTOP-9LETB4SJ\n",
      "\n",
      "---------------------------------\n",
      "Python version: 3.10.2 | packaged by conda-forge | (main, Mar  8 2022, 15:52:24) [MSC v.1929 64 bit (AMD64)]\n",
      "\n",
      "---------------------------------\n",
      "Python interpreter: C:\\Users\\zak\\anaconda3\\envs\\srh\\python.exe\n"
     ]
    }
   ],
   "source": [
    "import matplotlib.pyplot as plt\n",
    "import numpy as np\n",
    "import pandas as pd\n",
    "from random import sample\n",
    "from scipy.stats import f\n",
    "from scipy import stats\n",
    "import scipy.stats\n",
    "import statsmodels.api as smi\n",
    "import pylab\n",
    "\n",
    "%run ../src/notebook_env.py"
   ]
  },
  {
   "cell_type": "markdown",
   "id": "a0a3ac44-9c10-4e0a-bbff-b4ec470beb29",
   "metadata": {},
   "source": [
    "In diesem Abschnitt werden Hypothesentests für die Standardabweichungen zweier Grundgesamtheiten behandelt. Oder anders ausgedrückt, wir erörtern Methoden der Inferenz für die Standardabweichungen einer Variablen aus zwei verschiedenen Grundgesamtheiten. Diese Methoden beruhen auf der <a href=\"https://en.wikipedia.org/wiki/F-distribution\">$F$-Verteilung</a>, benannt zu Ehren von <a href=\"https://en.wikipedia.org/wiki/Ronald_Fisher\">Sir Ronald Aylmer Fisher</a>.\n",
    "\n",
    "Die $F$-Verteilung ist eine rechtsschiefe Wahrscheinlichkeitsdichteverteilung mit zwei Formparametern, $v_1$ und $v_2$, den Freiheitsgraden für den Zähler ($v_1$) und den Freiheitsgraden für den Nenner ($v_2$)."
   ]
  },
  {
   "cell_type": "markdown",
   "id": "1114da1e-a034-446e-9e0c-6b263c6a081c",
   "metadata": {},
   "source": [
    "$$df = (v_1,v_2)$$"
   ]
  },
  {
   "cell_type": "markdown",
   "id": "f4412365-0729-4bc9-a19f-07b1d593980d",
   "metadata": {},
   "source": [
    "Wie bei jeder anderen Dichtekurve entspricht die Fläche unter der Kurve der $F$-Verteilung den Wahrscheinlichkeiten. Die Fläche unter der Kurve und damit die Wahrscheinlichkeit für ein gegebenes Intervall und einen gegebenen $df$-Wert wird mittels Software berechnet. Alternativ kann man sie auch in einer Tabelle nachschlagen. In diesen Tabellen werden im Allgemeinen die Freiheitsgrade für den Zähler ($v_1$) am oberen Rand angezeigt, während die Freiheitsgrade für den Nenner ($v2$) in den äußeren Spalten auf der linken Seite angezeigt werden.\n",
    "\n",
    "Um einen Hypothesentest für zwei Grundgesamtheitsstandardabweichungen durchzuführen, wird der Wert berechnet, der einer bestimmten Fläche unter einer $F$-Kurve entspricht, berechnet.\n",
    "\n",
    "Für gegebenes $\\alpha$,wobei $\\alpha$ einer Wahrscheinlichkeit zwischen $0$ und $1$ entspricht, bezeichnet $F_\\alpha$ den Wert, der eine Fläche $\\alpha$ zu seiner Rechten unter einer $F$-Kurve hat."
   ]
  },
  {
   "cell_type": "markdown",
   "id": "2f95acd8-6f89-402c-b3c5-792e797e423c",
   "metadata": {},
   "source": [
    "![Alt-Text](78_Fvert.png)"
   ]
  },
  {
   "cell_type": "markdown",
   "id": "c752f2f6-9f10-40d6-9cb1-95887b903bef",
   "metadata": {},
   "source": [
    "In der obigen Abbildung ergibt $F_{0,05}$ für $df=(9,14)$ den Wert $\\approx 2,6458$.\n",
    "\n",
    "Eine interessante Eigenschaft von $F$-Kurven ist ihre reziproke Symmetrie. Sie besagt, dass für eine $F$-Kurve mit $df=(v_1,v_2)$ der $F$-Wert mit der Fläche $\\alpha$ auf der linken Seite gleich dem Kehrwert des $F$-Wertes mit der Fläche $\\alpha$ auf der rechten Seite für eine $F$-Kurve mit $df=(v_2,v_1)$ ist (Weiss 2010). Übertragen auf das obige Beispiel, bei dem $F_{0,05}$ für $df=(9,14) \\approx 2,6458$ beträgt, bedeutet dies, dass $F_{0,95}$ für $df=(14,9) \\ ; \\  \\frac{1}{2,6458}=0,378$ beträgt."
   ]
  },
  {
   "cell_type": "markdown",
   "id": "21cca6bf-aa59-4871-9be5-e77dae05baaa",
   "metadata": {},
   "source": [
    "![Alt-Text](78_Fvert2.png)"
   ]
  },
  {
   "cell_type": "markdown",
   "id": "c1acdb53-e078-4126-93a6-ed80e3c76611",
   "metadata": {},
   "source": [
    "### Intervall-Schätzung von $\\sigma_1-\\sigma_2$"
   ]
  },
  {
   "cell_type": "markdown",
   "id": "3ab7ef53-9f40-49d1-9e29-a2ebe7617a66",
   "metadata": {},
   "source": [
    "Das $100(1-\\alpha)\\%$-Konfidenzintervall für $\\sigma$ beträgt"
   ]
  },
  {
   "cell_type": "markdown",
   "id": "cae5a6a7-7e8d-4839-a874-19a80622e4df",
   "metadata": {},
   "source": [
    "$$\\frac{1}{\\sqrt{F_{\\alpha /2}}} \\times \\frac{s_1}{s_2} \\le \\sigma \\le \\frac{1}{\\sqrt{F_{1-\\alpha /2}}} \\times \\frac{s_1}{s_2}\\text{,}$$"
   ]
  },
  {
   "cell_type": "markdown",
   "id": "0c379d03-573e-4c2d-b209-af870e4518d4",
   "metadata": {},
   "source": [
    "wobei $s_1$ und $s_2$ die Standardabweichungen der Stichprobe sind."
   ]
  },
  {
   "cell_type": "markdown",
   "id": "4ded1b62-711f-4932-8edc-35cb890659af",
   "metadata": {
    "tags": []
   },
   "source": [
    "### $F$-Test für zwei Standardabweichungen"
   ]
  },
  {
   "cell_type": "markdown",
   "id": "35f29335-2c9d-4eb5-b5a2-c341e413ee23",
   "metadata": {},
   "source": [
    "Das Hypothesentestverfahren für die Standardabweichung wird als F-Test für zwei Standardabweichungen bezeichnet. Der Hypothesentest für zwei Standardabweichungen der Grundgesamtheit folgt demselben schrittweisen Verfahren wie andere Hypothesentests."
   ]
  },
  {
   "cell_type": "markdown",
   "id": "a12363ce-aa97-4efa-bfa9-823acb676ea4",
   "metadata": {},
   "source": [
    "\\begin{array}{l}\n",
    "\\hline\n",
    "\\ \\text{Schritt 1}  & \\text{Geben Sie die Nullhypothese } H_0 \\text{ und alternative Hypothese } H_A \\text{ an.}\\\\\n",
    "\\ \\text{Schritt 2}  & \\text{Legen Sie das Signifikanzniveau, } \\alpha\\text{ fest.} \\\\\n",
    "\\ \\text{Schritt 3}  & \\text{Berechnen Sie den Wert der Teststatistik.} \\\\\n",
    "\\ \\text{Schritt 4} &\\text{Bestimmen Sie den p-Wert.} \\\\\n",
    "\\ \\text{Schritt 5} & \\text{Wenn }p \\le \\alpha \\text{, } H_0 \\text{ ablehnen } \\text{; ansonsten } H_0 \\text{ nicht ablehnen} \\text{.} \\\\\n",
    "\\ \\text{Schritt 6} &\\text{Interpretieren Sie das Ergebnis des Hypothesentests.} \\\\\n",
    "\\hline \n",
    "\\end{array}"
   ]
  },
  {
   "cell_type": "markdown",
   "id": "ae5c2405-70c5-43c9-8898-f23e4af10b05",
   "metadata": {},
   "source": [
    "Die Teststatistik für einen Hypothesentest für eine normalverteilte Variable und für unabhängige Stichproben der Größen $n_1$ und $n_2$ ist gegeben durch"
   ]
  },
  {
   "cell_type": "markdown",
   "id": "94f81cca-ed0d-4bf7-a966-7b93207e5bab",
   "metadata": {},
   "source": [
    "$$F = \\frac{s_1^2/\\sigma_1^2}{s_2^2/\\sigma_2^2}\\text{,}$$"
   ]
  },
  {
   "cell_type": "markdown",
   "id": "2e3cbfd9-88d6-4adb-a6dc-e87d097fd809",
   "metadata": {},
   "source": [
    "mit $df=(n_1-1,n_2-1)$.\n",
    "\n",
    "Wenn $H_0: \\sigma_1 = \\sigma_2$ wahr ist, dann vereinfacht sich die Gleichung zu"
   ]
  },
  {
   "cell_type": "markdown",
   "id": "f79e146a-aa1b-4718-92ee-575910765c03",
   "metadata": {},
   "source": [
    "$$F = \\frac{s_1^2}{s_2^2}$$"
   ]
  },
  {
   "cell_type": "markdown",
   "id": "97d361eb-e7c9-41e4-9ddb-f638278177f7",
   "metadata": {},
   "source": [
    "### $F$-Test für zwei Standardabweichungen : Ein Beispiel"
   ]
  },
  {
   "cell_type": "markdown",
   "id": "16a196ac-df17-422c-8373-f8732d7ccbc2",
   "metadata": {},
   "source": [
    "Um einige praktische Erfahrungen zu sammeln, wenden wir den **$F$-Test für zwei Standardabweichungen** in einer Übung an. Dazu laden wir den students Datensatz. Sie können die Datei students.csv <a href=\"https://userpage.fu-berlin.de/soga/200/2010_data_sets/students.csv\">hier</a> herunterladen. Importieren Sie den Datensatz und geben Sie ihm einen passenden Namen."
   ]
  },
  {
   "cell_type": "code",
   "execution_count": 2,
   "id": "99b8fcd3-5205-4a57-9427-910569164223",
   "metadata": {},
   "outputs": [],
   "source": [
    "# Lese Datei students.csv als Dataframe ein; Indexspalte wird übersprungen\n",
    "students = pd.read_csv('students.csv', index_col=0)"
   ]
  },
  {
   "cell_type": "markdown",
   "id": "da5413a6-030d-4332-a273-3d83d3c1a334",
   "metadata": {},
   "source": [
    "Der `students` Datensatz besteht aus $8239$ Zeilen, von denen jede einen bestimmten Studenten repräsentiert, und $16$ Spalten, von denen jede einer Variable/einem Merkmal entspricht, das sich auf diesen bestimmten Studenten bezieht. Diese selbsterklärenden Variablen sind: *stud.id, name, gender, age, height, weight, religion, nc.score, semester, major, minor, score1, score2, online.tutorial, graduated, salary.*"
   ]
  },
  {
   "cell_type": "markdown",
   "id": "03ed4337-2dfe-4695-8876-8c3a2bf7310a",
   "metadata": {},
   "source": [
    "Um den **$F$-Test für zwei Standardabweichungen** zu zeigen, untersuchen wir die Streuung der Körpergröße in cm der Studentinnen und vergleichen sie mit der Streuung der Körpergröße aller Studenten (unserer Grundgesamtheit). **Wir wollen testen, ob sich die Standardabweichung der Körpergröße der weiblichen Studenten ($\\sigma_1$) von der Standardabweichung der Körpergröße der männlichen Studenten ($\\sigma_2$) unterscheidet**."
   ]
  },
  {
   "cell_type": "markdown",
   "id": "6597e60d-90bf-438b-a658-a853ad8951e0",
   "metadata": {},
   "source": [
    "### Vorbereitung der Daten"
   ]
  },
  {
   "cell_type": "markdown",
   "id": "ee89ddeb-96f6-4b22-893c-3422a41b781c",
   "metadata": {},
   "source": [
    "\n",
    "-    Wir unterteilen den Datensatz anhand der Variable Geschlecht.\n",
    "-    Dann nehmen wir $25$ weibliche und $25$ männliche Studenten in die Stichprobe auf.\n",
    "-    Dann berechnen wir die Standardabweichungen der interessierenden Variable (Körpergröße in cm) für beide Stichproben und weisen ihnen die Variablen `std_female` und `std_male` zu."
   ]
  },
  {
   "cell_type": "code",
   "execution_count": 4,
   "id": "3349a058-4372-448e-a4eb-e79c928975f6",
   "metadata": {},
   "outputs": [
    {
     "data": {
      "text/plain": [
       "7.009041779492163"
      ]
     },
     "execution_count": 4,
     "metadata": {},
     "output_type": "execute_result"
    }
   ],
   "source": [
    "# Unterteile Datensatz nach Variable `gender`\n",
    "male = students.loc[students['gender']=='Male']\n",
    "female = students.loc[students['gender']=='Female']\n",
    "\n",
    "# Entnehme Probe von jeweils 25 Studenten\n",
    "n = 25\n",
    "male_sample = male['height'].sample(n=25, random_state=1)\n",
    "female_sample = female['height'].sample(n=25, random_state=1)\n",
    "std_female = np.std(female_sample,ddof=1)\n",
    "std_female"
   ]
  },
  {
   "cell_type": "code",
   "execution_count": 5,
   "id": "97838c91-74d9-4598-a8db-e63f74a64bfc",
   "metadata": {},
   "outputs": [
    {
     "data": {
      "text/plain": [
       "8.203251387915241"
      ]
     },
     "execution_count": 5,
     "metadata": {},
     "output_type": "execute_result"
    }
   ],
   "source": [
    "std_male = np.std(male_sample,ddof=1)\n",
    "std_male"
   ]
  },
  {
   "cell_type": "markdown",
   "id": "c68fd878-4e6d-4525-9ae9-5b85855f9ad0",
   "metadata": {},
   "source": [
    "Außerdem überprüfen wir die Normalverteilungsannahme, indem wir ein Q-Q-Diagramm erstellen. In Python können wir die Funktion `qqplot()` verwenden, um Q-Q-Plots zu erstellen."
   ]
  },
  {
   "cell_type": "code",
   "execution_count": 6,
   "id": "c54c1d10-93cd-454c-a6e3-1049a415f98c",
   "metadata": {},
   "outputs": [
    {
     "data": {
      "image/png": "[encoded data removed]",
      "text/plain": [
       "<Figure size 432x288 with 1 Axes>"
      ]
     },
     "metadata": {
      "needs_background": "light"
     },
     "output_type": "display_data"
    }
   ],
   "source": [
    "# Erzeuge Q-Q Plot\n",
    "smi.qqplot(female_sample, line = \"r\")\n",
    "pylab.show()"
   ]
  },
  {
   "cell_type": "code",
   "execution_count": 7,
   "id": "9c3b382c-b9e4-4dda-83c9-08463129f155",
   "metadata": {},
   "outputs": [
    {
     "data": {
      "image/png": "[encoded data removed]",
      "text/plain": [
       "<Figure size 432x288 with 1 Axes>"
      ]
     },
     "metadata": {
      "needs_background": "light"
     },
     "output_type": "display_data"
    }
   ],
   "source": [
    "# Erzeuge Q-Q Plot\n",
    "smi.qqplot(male_sample, line = \"r\")\n",
    "pylab.show()"
   ]
  },
  {
   "cell_type": "markdown",
   "id": "20409f65-6296-4364-8ccb-845873d1b9b6",
   "metadata": {},
   "source": [
    "Wir sehen, dass die Daten ungefähr auf einer Geraden liegen. Auf der Grundlage des grafischen Auswertungsansatzes kommen wir zu dem Schluss, dass die interessierende Variable ungefähr normalverteilt ist."
   ]
  },
  {
   "cell_type": "markdown",
   "id": "c6e98b30-eae0-4334-b600-25a93020a180",
   "metadata": {},
   "source": [
    "### Überprüfung der Hypothesen"
   ]
  },
  {
   "cell_type": "markdown",
   "id": "49bb6ba4-1b73-4a3c-ae30-d6ff4f6aa58d",
   "metadata": {},
   "source": [
    "Zur Durchführung des $F$-Tests für zwei Standardabweichungen folgen wir dem Verfahren der schrittweisen Durchführung von Hypothesentests."
   ]
  },
  {
   "cell_type": "markdown",
   "id": "c08d2cbb-82be-472a-b7e5-812003e4b67c",
   "metadata": {},
   "source": [
    "**Schritt 1 : Geben Sie die Nullhypothese $H_0$ und alternative Hypothese $H_A$ an**"
   ]
  },
  {
   "cell_type": "markdown",
   "id": "160e98e1-343d-47ff-87fe-af700649ce9c",
   "metadata": {},
   "source": [
    "Die Nullhypothese besagt, dass die Standardabweichung der Körpergröße der weiblichen Studenten ($\\sigma_1$) gleich der Standardabweichung der Körpergröße der männlichen Studenten ($\\sigma_2$) ist."
   ]
  },
  {
   "cell_type": "markdown",
   "id": "436aaefc-3edc-40bb-b3c1-dc57c3c441f7",
   "metadata": {},
   "source": [
    "$$H_0: \\quad \\sigma_1 = \\sigma_2$$"
   ]
  },
  {
   "cell_type": "markdown",
   "id": "d2d5978b-87b8-45ab-a9ec-406a79d938a0",
   "metadata": {},
   "source": [
    "**Alternative Hypothese**"
   ]
  },
  {
   "cell_type": "markdown",
   "id": "2c872889-6607-465b-9b8b-b2f94026687c",
   "metadata": {},
   "source": [
    "$$H_A: \\quad \\sigma_1 \\ne \\sigma_2$$"
   ]
  },
  {
   "cell_type": "markdown",
   "id": "870c99a9-43ef-416e-906b-d3c097a4bf4e",
   "metadata": {},
   "source": [
    "Diese Formulierung führt zu einem zweiseitigen Hypothesentest."
   ]
  },
  {
   "cell_type": "markdown",
   "id": "9ca9dfb1-f8e9-47b2-bacf-7a68808edaf8",
   "metadata": {},
   "source": [
    "**Schritt 2: Legen Sie das Signifikanzniveau,$\\alpha$ fest**"
   ]
  },
  {
   "cell_type": "markdown",
   "id": "e3fda43e-5ed7-4c2a-8d6b-b900a0796dc4",
   "metadata": {},
   "source": [
    "$$\\alpha = 0.05$$"
   ]
  },
  {
   "cell_type": "code",
   "execution_count": 8,
   "id": "aa6406e5-aff9-49a0-a531-4c473fef193f",
   "metadata": {},
   "outputs": [],
   "source": [
    "alpha = 0.05"
   ]
  },
  {
   "cell_type": "markdown",
   "id": "5517a21a-70ec-4e6e-a7ef-fb1d77e78214",
   "metadata": {},
   "source": [
    "**Schritt 3 und 4: Berechnen Sie den Wert der Teststatistik und den $p$-Wert**"
   ]
  },
  {
   "cell_type": "markdown",
   "id": "f10ae551-6b8c-4bca-a504-f188cf5d883b",
   "metadata": {},
   "source": [
    "Zur Veranschaulichung berechnen wir die Teststatistik manuell in Python. Erinnern Sie sich an die Gleichung für die Teststatistik von oben:"
   ]
  },
  {
   "cell_type": "markdown",
   "id": "3ed68eac-7a7a-4d14-9b27-25d853b74a51",
   "metadata": {},
   "source": [
    "$$F = \\frac{s_1^2}{s_2^2}$$"
   ]
  },
  {
   "cell_type": "code",
   "execution_count": 9,
   "id": "c281a628-e7ea-40ee-a07a-35ec3fff2093",
   "metadata": {},
   "outputs": [
    {
     "data": {
      "text/plain": [
       "0.7300376461264116"
      ]
     },
     "execution_count": 9,
     "metadata": {},
     "output_type": "execute_result"
    }
   ],
   "source": [
    "# Compute the value of the test statistic\n",
    "Ftest = std_female**2/std_male**2\n",
    "Ftest"
   ]
  },
  {
   "cell_type": "markdown",
   "id": "2198d34d-eaaf-4b33-83ee-9fd844ab6e6e",
   "metadata": {},
   "source": [
    "Der numerische Wert der Teststatistik beträgt $\\approx 0,73$.\n",
    "\n",
    "Um den $p$-Wert zu berechnen, wenden wir die Funktion `f.cdf()` an. Erinnern Sie sich daran, wie man die Freiheitsgrade berechnet."
   ]
  },
  {
   "cell_type": "markdown",
   "id": "3febf08c-e219-4f8c-830b-e97d3e3395cc",
   "metadata": {},
   "source": [
    "$$df = (n_1 - 1, n_2 - 1)$$"
   ]
  },
  {
   "cell_type": "code",
   "execution_count": 12,
   "id": "f0bd86ab-7035-417f-9687-8fa8a6ff55c2",
   "metadata": {},
   "outputs": [
    {
     "data": {
      "text/plain": [
       "0.4465246946119613"
      ]
     },
     "execution_count": 12,
     "metadata": {},
     "output_type": "execute_result"
    }
   ],
   "source": [
    "# Compute df\n",
    "df1 = len(female_sample)-1\n",
    "df2 = len(male_sample)-1\n",
    "\n",
    "# Compute the p-value\n",
    "p_upper = 1-f.cdf(Ftest, dfn = df1, dfd = df2)\n",
    "p_lower = f.cdf(Ftest, dfn = df1, dfd = df2)\n",
    "\n",
    "if (p_upper*2 > 1):\n",
    "    p = p_lower*2\n",
    "else:\n",
    "    p = p_upper*2\n",
    "p"
   ]
  },
  {
   "cell_type": "markdown",
   "id": "f013892f-fef1-4644-8763-d3ed6bbf9e86",
   "metadata": {},
   "source": [
    "**Schritt 5: Wenn $p \\le \\alpha , H_0$ ablehnen; ansonsten $H_0$ nicht ablehnen**"
   ]
  },
  {
   "cell_type": "code",
   "execution_count": 12,
   "id": "61c90ae6-d128-42a6-a4e4-0e8b24638bbe",
   "metadata": {},
   "outputs": [
    {
     "data": {
      "text/plain": [
       "False"
      ]
     },
     "execution_count": 12,
     "metadata": {},
     "output_type": "execute_result"
    }
   ],
   "source": [
    "p <= alpha"
   ]
  },
  {
   "cell_type": "markdown",
   "id": "5ac24ba4-2297-4c46-bb02-07caefb04619",
   "metadata": {},
   "source": [
    "Der $p$-Wert ist größer als das angegebene Signifikanzniveau von $0,05$; wir verwerfen $H_0$ nicht. Die Testergebnisse sind auf dem $5 \\%$-Niveau statistisch signifikant und liefern keinen ausreichenden Beweis gegen die Nullhypothese."
   ]
  },
  {
   "cell_type": "markdown",
   "id": "f822d207-a936-42e6-b096-ff3a25aee064",
   "metadata": {},
   "source": [
    "**Schritt 6: Interpretieren Sie das Ergebnis des Hypothesentests**"
   ]
  },
  {
   "cell_type": "markdown",
   "id": "bd769b42-60ac-49a6-9176-08c43f46b333",
   "metadata": {},
   "source": [
    "$p=0,44652469$. Bei einem Signifikanzniveau von $5 \\%$ liefern die Daten keine ausreichenden Beweise für die Schlussfolgerung, dass die Standardabweichungen der Körpergröße von weiblichen und männlichen Studenten unterschiedlich sind."
   ]
  },
  {
   "cell_type": "markdown",
   "id": "ce402407-6228-4129-b88c-b13da5d9bd33",
   "metadata": {},
   "source": [
    "### Hypothesentests in Python"
   ]
  },
  {
   "cell_type": "markdown",
   "id": "8ced2cae-b5fd-4ac9-8eba-700bef95cbd5",
   "metadata": {},
   "source": [
    "Wir haben gerade einen $F$-Test für zwei Standardabweichungen in Python manuell durchgeführt. OK, wir haben eine Menge gelernt, aber jetzt nutzen wir die Mittel von Python, um das gleiche Ergebnis wie oben mit nur einer Zeile Code zu erhalten!\n",
    "\n",
    "Um einen **$F$-Test für zwei Standardabweichungen**  in Python durchzuführen, verwenden wir unsere Funktion `simple_x2_test()` und verändern sie geringfügig. Wir geben zwei Vektoren als Dateneingabe an: `female_sample` und `male_sample`. Das Argument `method` muss nicht angegeben werden, da `method = 'two-sided'` die Vorgabe ist."
   ]
  },
  {
   "cell_type": "code",
   "execution_count": 28,
   "id": "7b53fcf8-55fd-40ce-ad0f-f90870684aca",
   "metadata": {},
   "outputs": [],
   "source": [
    "def simple_f_test(x, y, sigma0, alpha, method = 'two-sided'):\n",
    "    df1 = len(x)-1\n",
    "    df2 = len(y)-1\n",
    "    v = np.var(x,ddof=1)\n",
    "    # calculate test statistic\n",
    "    testchi = (np.std(x,ddof=1)**2)/(np.std(y,ddof=1))**2\n",
    "    \n",
    "    # for left-tailed test\n",
    "    if (method=='left'):\n",
    "        p = scipy.stats.f.cdf(x = testchi, dfn = df1, dfd = df2)\n",
    "       \n",
    "    elif method=='right':\n",
    "        p = 1-scipy.stats.f.cdf(x = testchi, dfn = df1, dfd = df2)\n",
    "         \n",
    "          \n",
    "        # for two-sided test (default)\n",
    "    else:\n",
    "        p_upper = 1-scipy.stats.f.cdf(x = testchi, dfn = df1, dfd = df2)\n",
    "        p_lower = scipy.stats.f.cdf(x = testchi, dfn = df1, dfd = df2)\n",
    "    if (p_upper*2 > 1):\n",
    "            p = p_lower*2\n",
    "    else:\n",
    "            p = p_upper*2\n",
    "    #evaluate p < alpha\n",
    "    if p < alpha:\n",
    "          reject = True\n",
    "    else:\n",
    "          reject = False\n",
    "\n",
    "            \n",
    "    # print out summary and evaluation\n",
    "    print('Significance level:',alpha)\n",
    "    print('Degrees of freedom:',df1,df2)\n",
    "    print('Test statistic:',round(testchi,4))\n",
    "    print('p-value:',p)\n",
    "    print('Reject H0:',reject)"
   ]
  },
  {
   "cell_type": "code",
   "execution_count": 29,
   "id": "59ae1577-0ec8-415d-83db-d36fbbb486fc",
   "metadata": {},
   "outputs": [
    {
     "name": "stdout",
     "output_type": "stream",
     "text": [
      "Significance level: 0.05\n",
      "Degrees of freedom: 24 24\n",
      "Test statistic: 0.73\n",
      "p-value: 0.4465246946119613\n",
      "Reject H0: False\n"
     ]
    }
   ],
   "source": [
    "sigma0 = np.std(students['height'])\n",
    "simple_f_test(x = female_sample,y = male_sample, sigma0 = sigma0, alpha = 0.05)\n",
    "#female_sample"
   ]
  },
  {
   "cell_type": "markdown",
   "id": "b9c0b893-31a9-4a6b-8838-982f525302bd",
   "metadata": {},
   "source": [
    "Es hat gut funktioniert! Vergleichen Sie die Ausgabe der Funktion `simple_f_test()` mit unserem Ergebnis von oben. Auch hier können wir zu dem Schluss kommen, dass die Daten bei einem Signifikanzniveau von $5 \\%$ keine ausreichenden Beweise dafür liefern, dass die Standardabweichungen der Körpergröße von weiblichen und männlichen Studenten unterschiedlich sind."
   ]
  },
  {
   "cell_type": "code",
   "execution_count": null,
   "id": "f6541bfc-55ba-48ee-a21a-99bd5ede3284",
   "metadata": {},
   "outputs": [],
   "source": []
  }
 ],
 "metadata": {
  "kernelspec": {
   "display_name": "Python 3 (ipykernel)",
   "language": "python",
   "name": "python3"
  },
  "language_info": {
   "codemirror_mode": {
    "name": "ipython",
    "version": 3
   },
   "file_extension": ".py",
   "mimetype": "text/x-python",
   "name": "python",
   "nbconvert_exporter": "python",
   "pygments_lexer": "ipython3",
   "version": "3.10.2"
  }
 },
 "nbformat": 4,
 "nbformat_minor": 5
}
