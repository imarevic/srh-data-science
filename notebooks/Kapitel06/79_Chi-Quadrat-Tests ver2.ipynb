{
 "cells": [
  {
   "cell_type": "markdown",
   "id": "877f00ca-88d6-4a44-ada0-de06b94d7171",
   "metadata": {},
   "source": [
    "## Chi-Quadrat-Tests\n",
    "----------------------------------------"
   ]
  },
  {
   "cell_type": "markdown",
   "id": "b493f0d6-a819-4db9-93c4-3804f0459cc2",
   "metadata": {},
   "source": [
    "Neben Inferenzverfahren für Hypothesentests für Grundgesamtheitsparameter wie den Mittelwert $\\mu$ und die Standardabweichung $\\sigma$ gibt es statistische Verfahren, um Rückschlüsse auf die Verteilung einer Variablen zu ziehen. Diese Schlussfolgerungsmethoden beruhen auf der Chi-Quadrat-Verteilung ($\\chi^2$) und werden daher als **$\\chi^2$-Tests**.\n",
    "\n",
    "Im folgenden Abschnitt werden der **Chi-Quadrat-Anpassungstest**, ein Hypothesentest, der angewandt wird, um Rückschlüsse auf die Verteilung einer Variablen zu ziehen, und der **Chi-Quadrat-Unabhängigkeitstest**, ein Hypothesentest, der angewandt wird, um zu entscheiden, ob ein Zusammenhang zwischen zwei Variablen einer Grundgesamtheit besteht, erörtert."
   ]
  },
  {
   "cell_type": "markdown",
   "id": "b702fe9a-5bb9-441a-848b-90807dbddda5",
   "metadata": {},
   "source": [
    "### $\\chi^2$-Verteilung"
   ]
  },
  {
   "cell_type": "markdown",
   "id": "6221b7dc-68b9-4b63-af27-c06caab0d8fd",
   "metadata": {},
   "source": [
    "**Grundlegende Eigenschaften von $\\chi^2$-Kurven ({cite:p}`fahrmeirstatistik` s.279)**"
   ]
  },
  {
   "cell_type": "markdown",
   "id": "e0439fda-01e7-422d-90e6-c38510f7c834",
   "metadata": {},
   "source": [
    "- Die Gesamtfläche unter einer $\\chi^2$-Kurve ist gleich $1$.\n",
    "- Eine $\\chi^2$-Kurve beginnt bei $0$ auf der horizontalen Achse und erstreckt sich unendlich weit nach rechts, wobei sie sich der horizontalen Achse nähert, diese aber nie berührt.\n",
    "- Eine $\\chi^2$-Kurve ist rechtsschief.\n",
    "- Mit zunehmender Anzahl von Freiheitsgraden sehen $\\chi^2$- Kurven zunehmend wie normale Kurven aus."
   ]
  },
  {
   "cell_type": "markdown",
   "id": "ee0ee494-3429-42c3-bb06-046fd5507793",
   "metadata": {},
   "source": [
    "![Alt-Text](chiquadrattest.png)"
   ]
  },
  {
   "cell_type": "code",
   "execution_count": null,
   "id": "a80c0061-2305-4abd-bc9c-ae9706635287",
   "metadata": {},
   "outputs": [],
   "source": []
  }
 ],
 "metadata": {
  "kernelspec": {
   "display_name": "Python 3 (ipykernel)",
   "language": "python",
   "name": "python3"
  },
  "language_info": {
   "codemirror_mode": {
    "name": "ipython",
    "version": 3
   },
   "file_extension": ".py",
   "mimetype": "text/x-python",
   "name": "python",
   "nbconvert_exporter": "python",
   "pygments_lexer": "ipython3",
   "version": "3.10.2"
  }
 },
 "nbformat": 4,
 "nbformat_minor": 5
}
