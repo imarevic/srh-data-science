{
 "cells": [
  {
   "cell_type": "markdown",
   "id": "0b4e2da1-7ce0-4fc3-b75d-cedf1ad7fe61",
   "metadata": {},
   "source": [
    "## Formulierung der Hypothese\n",
    "----------------------------------------"
   ]
  },
  {
   "cell_type": "markdown",
   "id": "8759c724-d4ca-42cc-a9ac-19deb8aff68d",
   "metadata": {},
   "source": [
    "Jeder Hypothesentest beginnt mit der Formulierung der Nullhypothese und der Alternativhypothese. Dieser Abschnitt konzentriert sich auf Hypothesentests für einen Grundgesamtheitsmittelwert, $\\mu$ jedoch gilt das allgemeine Verfahren für jeden Hypothesentest.\n",
    "\n",
    "Die Nullhypothese für einen Hypothesentest für einen Mittelwert der Grundgesamtheit, $\\mu$\n",
    "wird ausgedrückt als"
   ]
  },
  {
   "cell_type": "markdown",
   "id": "af670f0e-5c98-47de-8dff-f7e40bcd9970",
   "metadata": {},
   "source": [
    "$$ H_0: \\mu = \\mu_0, $$"
   ]
  },
  {
   "cell_type": "markdown",
   "id": "de0c0560-fb76-44b9-af13-b069108a0e5c",
   "metadata": {},
   "source": [
    "wobei $\\mu_0$ eine Zahl ist.\n",
    "\n",
    "Die Formulierung der Alternativhypothese hängt vom Zweck des Hypothesentests ab. Es gibt drei Möglichkeiten, eine Alternativhypothese zu formulieren (Weiss, 2010).\n",
    "\n",
    "Wenn es bei dem Hypothesentest darum geht, zu entscheiden, ob ein Grundgesamtheitsmittelwert von dem angegebenen Wert $\\mu_0$ abweicht, wird die Alternativhypothese wie folgt formuliert"
   ]
  },
  {
   "cell_type": "markdown",
   "id": "07f3e402-28da-481a-9525-da7fc22e3ffc",
   "metadata": {},
   "source": [
    "$$H_A: \\mu  \\ne \\mu_0\\text{.}$$"
   ]
  },
  {
   "cell_type": "markdown",
   "id": "ea85cebc-0e6c-4491-ae26-bb2fc427dd5b",
   "metadata": {},
   "source": [
    "Ein solcher Hypothesentest wird als **zweiseitiger Test** bezeichnet.\n",
    "\n",
    "Wenn es bei dem Hypothesentest darum geht, zu entscheiden, ob der Mittelwert der Grundgesamtheit, $\\mu$\n",
    "kleiner ist als der angegebene Wert $\\mu_0$, wird die Alternativhypothese wie folgt ausgedrückt"
   ]
  },
  {
   "cell_type": "markdown",
   "id": "1d878b5c-af74-4d1a-84ad-6b4474e46b34",
   "metadata": {},
   "source": [
    "$$H_A: \\mu < \\mu_0\\text{.}$$"
   ]
  },
  {
   "cell_type": "markdown",
   "id": "feb1b48e-a6fa-4436-9996-e5ac10e422b8",
   "metadata": {},
   "source": [
    "Ein solcher Hypothesentest wird als **linksseitiger Test** bezeichnet.\n",
    "\n",
    "Geht es bei dem Hypothesentest darum, zu entscheiden, ob der Mittelwert der Grundgesamtheit, $\\mu$\n",
    "größer als ein bestimmter Wert $\\mu_0$ ist, wird die Alternativhypothese wie folgt ausgedrückt"
   ]
  },
  {
   "cell_type": "markdown",
   "id": "06c9f70e-3064-4dd7-aeec-2754eacbf0b5",
   "metadata": {},
   "source": [
    "$$H_A: \\mu > \\mu_0\\text{.}$$"
   ]
  },
  {
   "cell_type": "markdown",
   "id": "83c1d7d0-25fb-4759-be6e-c0056858391e",
   "metadata": {},
   "source": [
    "Ein solcher Hypothesentest wird als rechtsseitiger Test bezeichnet.\n",
    "\n",
    "Man beachte, dass ein Hypothesentest als \"einseitiger Test\" bezeichnet wird, wenn er entweder \"linksseitig\" oder \"rechtsseitig\" ist."
   ]
  },
  {
   "cell_type": "markdown",
   "id": "af88d669-68a2-47b9-adbf-9a6af33a1cae",
   "metadata": {},
   "source": [
    "\\begin{array}{|l|c|c|}\n",
    "\\hline\n",
    " & \\text{zweiseitiger Test} &   \\text{linksseitiger Test}  & \\text{rechtsseitiger Test}  \\\\\n",
    "\\hline\n",
    "\\text{Beziehung zwischen } \\mu , \\mu_0 & \\ne & < & >  \\\\\n",
    "\\text{Ablehnung } & \\text{Beide Seiten} & \\text{Linke Seite} & \\text{Rechte Seite} \\\\\n",
    "\\hline \n",
    "\\end{array}"
   ]
  },
  {
   "cell_type": "code",
   "execution_count": null,
   "id": "9ab25c2c-40cd-4c9d-9a92-bedc7975f6c6",
   "metadata": {},
   "outputs": [],
   "source": []
  }
 ],
 "metadata": {
  "kernelspec": {
   "display_name": "Python 3 (ipykernel)",
   "language": "python",
   "name": "python3"
  },
  "language_info": {
   "codemirror_mode": {
    "name": "ipython",
    "version": 3
   },
   "file_extension": ".py",
   "mimetype": "text/x-python",
   "name": "python",
   "nbconvert_exporter": "python",
   "pygments_lexer": "ipython3",
   "version": "3.10.2"
  }
 },
 "nbformat": 4,
 "nbformat_minor": 5
}
