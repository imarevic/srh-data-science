{
 "cells": [
  {
   "cell_type": "markdown",
   "id": "dd71b3b9-1bd5-4fbb-bf7a-7fb14801d53a",
   "metadata": {},
   "source": [
    "## Hypothesentests für einen Grundgesamtheitsmittelwert bei bekannter Standardabweichung\n",
    "----------------------------------------"
   ]
  },
  {
   "cell_type": "code",
   "execution_count": 3,
   "id": "e23808d7-aee0-4c21-8036-21b3ed77ecaf",
   "metadata": {},
   "outputs": [
    {
     "name": "stdout",
     "output_type": "stream",
     "text": [
      "\n",
      "---------------------------------\n",
      "Working on the host: LAPTOP-9LETB4SJ\n",
      "\n",
      "---------------------------------\n",
      "Python version: 3.10.2 | packaged by conda-forge | (main, Mar  8 2022, 15:52:24) [MSC v.1929 64 bit (AMD64)]\n",
      "\n",
      "---------------------------------\n",
      "Python interpreter: C:\\Users\\zak\\anaconda3\\envs\\srh\\python.exe\n"
     ]
    }
   ],
   "source": [
    "import matplotlib.pyplot as plt\n",
    "from scipy.stats import norm\n",
    "import numpy as np\n",
    "import pandas as pd\n",
    "from random import sample\n",
    "import statsmodels.api as smi\n",
    "import pylab\n",
    "\n",
    "%run ../src/notebook_env.py"
   ]
  },
  {
   "cell_type": "markdown",
   "id": "f67130c9-93a2-45cd-a767-9d2426663f93",
   "metadata": {},
   "source": [
    "Wenn die Standardabweichung ($\\sigma$) der Grundgesamtheit bekannt ist, wird ein Hypothesentest, der für einen Mittelwert der Grundgesamtheit durchgeführt wird, als **$z$-Test für einen Mittelwert** oder einfach als **$z$-Test** bezeichnet.\n",
    "\n",
    "Ein $z$-Test ist ein Hypothesentest zum Testen eines Mittelwerts der Grundgesamtheit, $\\mu$, gegen einen angenommenen Mittelwert der Grundgesamtheit,$\\mu_0$. Der $z$-Test setzt normalverteilte Variablen oder einen großen Stichprobenumfang voraus; dann garantiert der <a href=\"https://en.wikipedia.org/wiki/Central_limit_theorem\">zentrale Grenzwertsatz</a> eine normalverteilte <a href=\"https://en.wikipedia.org/wiki/Sampling_distribution\">Stichprobenverteilung</a>. Darüber hinaus muss $\\sigma$, die Standardabweichung der Grundgesamtheit, bekannt sein. In der Praxis ist diese Annahme fast nie erfüllt, so dass der $z$-Test nur selten angewendet wird. Er ist jedoch der einfachste Hypothesentest und daher ein guter Einstieg in das Thema.\n",
    "\n",
    "Zur Durchführung des $z$-Tests gehen wir schrittweise vor, wie in der folgenden Tabelle dargestellt. Zunächst wird der **Ansatz des kritischen Werts** dargestellt, dann wird in einem zweiten Schritt die Analyse für den **Ansatz des $p$-Werts** wiederholt."
   ]
  },
  {
   "cell_type": "markdown",
   "id": "2622e621-9016-47e2-a94e-18d53ceec8b0",
   "metadata": {},
   "source": [
    "$$\n",
    "\\begin{array}{l}\n",
    "\\hline\n",
    "\\ \\text{Schritt 1}  & \\text{Geben Sie die Nullhypothese } H_0 \\text{ und alternative Hypothese } H_A \\text{ an.}\\\\\n",
    "\\ \\text{Schritt 2}  & \\text{Legen Sie das Signifikanzniveau, } \\alpha\\text{ fest.} \\\\\n",
    "\\ \\text{Schritt 3}  & \\text{Berechnen Sie den Wert der Teststatistik.} \\\\\n",
    "\\ \\text{Schritt 4a} & \\text{Ansatz des kritischen Wertes: Bestimmung des kritischen Wertes.}\n",
    "\\\\\n",
    "\\ \\text{Schritt 4b} &\\text{P-Wert-Ansatz: Bestimmen Sie den p-Wert.} \\\\\n",
    "\\ \\text{Schritt 5a} & \\text{Ansatz des kritischen Werts: Wenn der Wert der Teststatistik in den Ablehnungsbereich fällt, ist } H_0 \\text{ abzulehnen}   \\text{; ansonsten } H_0 \\text{ nicht ablehnen}  \\text{.}\n",
    "\\\\\n",
    "\\ \\text{Schritt 5b} & \\text{P-Wert-Ansatz: Wenn }p \\le \\alpha \\text{, } H_0 \\text{ ablehnen } \\text{; ansonsten } H_0 \\text{ nicht ablehnen} \\text{.} \\\\\n",
    "\\ \\text{Schritt 6} &\\text{Interpretieren Sie das Ergebnis des Hypothesentests.} \\\\\n",
    "\\hline \n",
    "\\end{array}\n",
    "$$"
   ]
  },
  {
   "cell_type": "markdown",
   "id": "9e7b21c3-3bc1-4659-ab5e-2bad799a34e9",
   "metadata": {},
   "source": [
    "### $z$-Test mit einem Mittelwert: Ein Beispiel"
   ]
  },
  {
   "cell_type": "markdown",
   "id": "b8b0c1d7-f161-4d06-8ea4-2631b2992f0b",
   "metadata": {},
   "source": [
    "In diesem Abschnitt arbeiten wir mit dem `students` Datensatz. Sie können die Datei `students.csv` <a href=\"https://userpage.fu-berlin.de/soga/200/2010_data_sets/students.csv\">hier</a> herunterladen. Importieren Sie den Datensatz und geben Sie ihm einen geeigneten Namen."
   ]
  },
  {
   "cell_type": "code",
   "execution_count": 4,
   "id": "8c50ac68-e377-4627-a4c0-a5664f6256d5",
   "metadata": {},
   "outputs": [],
   "source": [
    "# Lese Datei students.csv als Dataframe ein; Indexspalte wird übersprungen\n",
    "students = pd.read_csv('students.csv', index_col=0)"
   ]
  },
  {
   "cell_type": "markdown",
   "id": "9855ee8d-6422-4eb9-9b86-9ba2ba05aebf",
   "metadata": {},
   "source": [
    "Der `students` Datensatz besteht aus $8239$ Zeilen, von denen jede einen bestimmten Studenten repräsentiert, und $16$ Spalten, von denen jede einer Variable/einem Merkmal entspricht, das sich auf diesen bestimmten Studenten bezieht. Diese selbsterklärenden Variablen sind: *stud.id, Name, Geschlecht, Alter, Größe, Gewicht, Religion, nc.score, Semester, Hauptfach, Nebenfach, score1, score2, online.tutorial, graduated, salary*.\n",
    "\n",
    "Zur Veranschaulichung der Hypothesentests untersuchen wir das Durchschnittsgewicht der Studenten und vergleichen es mit dem Durchschnittsgewicht der erwachsenen Europäer. <a href=\"https://bmcpublichealth.biomedcentral.com/articles/10.1186/1471-2458-12-439\">Walpole et al. (2012)</a> veröffentlichten Daten über das durchschnittliche Körpergewicht (kg) pro Region, einschließlich Europa. Sie geben die durchschnittliche Körpermasse für die europäische erwachsene Bevölkerung mit $70,8$ kg an. Wir setzen $\\mu_0$, den Mittelwert der Bevölkerung, entsprechend fest, $\\mu_0=70,8$. Aufgrund des methodischen Ansatzes von {cite:p}`Walpole2012` haben sie leider keine Standardabweichung ($\\sigma$) der Gewichte europäischer Erwachsener angegeben. Zu Demonstrationszwecken gehen wir davon aus, dass die Gewichtsdaten aus dem Studentendatensatz eine gute Näherung für die interessierende Population darstellen. Daher setzen wir $\\sigma$ auf die Standardabweichung der Gewichtsvariablen im `students` Datensatz."
   ]
  },
  {
   "cell_type": "code",
   "execution_count": 5,
   "id": "bcc18c8a-7b48-4367-9cc4-7fa225fc3893",
   "metadata": {},
   "outputs": [
    {
     "data": {
      "text/plain": [
       "8.634637630634796"
      ]
     },
     "execution_count": 5,
     "metadata": {},
     "output_type": "execute_result"
    }
   ],
   "source": [
    "mu0 = 70.8\n",
    "sigma = np.std(students['weight'])\n",
    "sigma"
   ]
  },
  {
   "cell_type": "markdown",
   "id": "e57fa994-62ba-4ebd-a7be-ef82d45e6aef",
   "metadata": {},
   "source": [
    "Außerdem nehmen wir eine Zufallsstichprobe mit einem Stichprobenumfang von $n=14$. Die Stichprobe besteht aus den Gewichten in kg von $14$ zufällig ausgewählten Studenten aus dem Studentendatensatz. Schließlich berechnen wir den Stichprobenmittelwert ($\\bar{x}$), die Stichprobenstatistik unseres Interesses. Die Stichprobenstatistik wird der Variablen `x_bar` zugewiesen."
   ]
  },
  {
   "cell_type": "code",
   "execution_count": 6,
   "id": "a9104532-06d4-474f-addd-b0621a0110dc",
   "metadata": {},
   "outputs": [
    {
     "data": {
      "text/plain": [
       "77.02857142857144"
      ]
     },
     "execution_count": 6,
     "metadata": {},
     "output_type": "execute_result"
    }
   ],
   "source": [
    "n = 14\n",
    "x_weight = students['weight'].sample(n,random_state = 4)\n",
    "x_bar = np.mean(x_weight)\n",
    "x_bar"
   ]
  },
  {
   "cell_type": "markdown",
   "id": "b118ff56-b548-4626-902c-392f811249f8",
   "metadata": {},
   "source": [
    "### Hypothesentests: Der Ansatz des kritischen Werts"
   ]
  },
  {
   "cell_type": "markdown",
   "id": "81ed3556-46df-4ed8-b00e-00b2c34cd7d1",
   "metadata": {},
   "source": [
    "**Schritt 1: Geben Sie die Nullhypothese ($H_0$) und die Alternativhypothese ($H_A$) an.**\n",
    "\n",
    "Die Nullhypothese besagt, dass das Durchschnittsgewicht der Studenten ($\\mu$\n",
    ") gleich dem Durchschnittsgewicht europäischer Erwachsener von 70,8 kg ($\\mu_0$) ist, wie von Walpole et al. (2012) berichtet. Mit anderen Worten: Es gibt keinen Unterschied zwischen dem Durchschnittsgewicht der Studenten und dem Durchschnittsgewicht der europäischen Erwachsenen."
   ]
  },
  {
   "cell_type": "markdown",
   "id": "b843d169-2373-4372-b506-229ae1007c2e",
   "metadata": {},
   "source": [
    "$$H_0: \\quad \\mu = 70,8$$"
   ]
  },
  {
   "cell_type": "markdown",
   "id": "1fd728da-8052-41ab-92c9-60323c3a1665",
   "metadata": {},
   "source": [
    "Zur Veranschaulichung testen wir drei Alternativhypothesen.\n",
    "\n",
    "**Alternativhypothese 1**: Das Durchschnittsgewicht der Studenten entspricht nicht dem Durchschnittsgewicht der europäischen Erwachsenen. Mit anderen Worten: Es gibt einen Unterschied zwischen dem Durchschnittsgewicht der Studenten und dem Durchschnittsgewicht der europäischen Erwachsenen. "
   ]
  },
  {
   "cell_type": "markdown",
   "id": "de4fc92c-7858-4614-8ee6-43bbadd887f5",
   "metadata": {},
   "source": [
    "$$H_{A_1}: \\quad \\mu \\ne 70,8$$"
   ]
  },
  {
   "cell_type": "markdown",
   "id": "8483b534-315f-48cd-9fbb-d0dd392f92e5",
   "metadata": {},
   "source": [
    "**Alternativhypothese 2**: Das Durchschnittsgewicht der Studenten ist geringer als das Durchschnittsgewicht der europäischen Erwachsenen."
   ]
  },
  {
   "cell_type": "markdown",
   "id": "73958171-d337-45d5-9669-eea9e34e7626",
   "metadata": {},
   "source": [
    "$$H_{A_2}: \\quad \\mu  < 70,8$$"
   ]
  },
  {
   "cell_type": "markdown",
   "id": "07d74723-6fff-4d8b-bc5e-0adac19b21b5",
   "metadata": {},
   "source": [
    "**Alternativhypothese 3**: Das Durchschnittsgewicht der Studenten ist höher als das Durchschnittsgewicht der europäischen Erwachsenen."
   ]
  },
  {
   "cell_type": "markdown",
   "id": "3e8cc872-e132-4908-8860-90b41fc7305d",
   "metadata": {},
   "source": [
    "$$H_{A_3}: \\quad \\mu > 70,8$$"
   ]
  },
  {
   "cell_type": "markdown",
   "id": "32a2a345-6b5b-4fa3-9b79-a649519375a2",
   "metadata": {},
   "source": [
    "**Schritt 2: Legen Sie das Signifikanzniveau $\\alpha$ fest.**"
   ]
  },
  {
   "cell_type": "markdown",
   "id": "90b79d81-28f8-482c-9698-5d23b3811dde",
   "metadata": {},
   "source": [
    "$$\\alpha = 0,05$$"
   ]
  },
  {
   "cell_type": "code",
   "execution_count": 7,
   "id": "51ccc7b7-16a4-44b7-8893-732d0249d824",
   "metadata": {},
   "outputs": [],
   "source": [
    "alpha = 0.05"
   ]
  },
  {
   "cell_type": "markdown",
   "id": "11cb28e0-16bc-44e6-a415-18e817fe5dd0",
   "metadata": {},
   "source": [
    "**Schritt 3: Berechnen Sie den Wert der Teststatistik.**"
   ]
  },
  {
   "cell_type": "markdown",
   "id": "9a6aea0a-9161-40c9-8cd1-e2d7e86df2ee",
   "metadata": {},
   "source": [
    "Die folgende Gleichung wird zur Berechnung der Teststatistik $z$ verwendet."
   ]
  },
  {
   "cell_type": "markdown",
   "id": "166230b2-2900-4a92-b533-d8d1ce1042c4",
   "metadata": {},
   "source": [
    "$$z = \\frac{\\bar x-\\mu_0}{\\sigma/\\sqrt{n}}$$"
   ]
  },
  {
   "cell_type": "markdown",
   "id": "742ff4bb-ff82-42d5-8b3e-c5ab82f2e9ac",
   "metadata": {},
   "source": [
    "- Berechnen Sie den Wert der Teststatistik"
   ]
  },
  {
   "cell_type": "markdown",
   "id": "b0a291de-ed85-41c6-8a25-ade121a5d5f7",
   "metadata": {},
   "source": [
    "$$z = \\frac{\\bar x-\\mu_0}{\\sigma/\\sqrt{n}} =  \\frac{77,02-70,8}{8,64/ \\sqrt{14}} \\approx 2,699$$"
   ]
  },
  {
   "cell_type": "code",
   "execution_count": 17,
   "id": "46f03af6-9166-46c6-8bbb-193735517595",
   "metadata": {},
   "outputs": [
    {
     "data": {
      "text/plain": [
       "2.699033971278552"
      ]
     },
     "execution_count": 17,
     "metadata": {},
     "output_type": "execute_result"
    }
   ],
   "source": [
    "z = (x_bar-mu0)/sigma*np.sqrt(n)\n",
    "z"
   ]
  },
  {
   "cell_type": "markdown",
   "id": "7e3aab24-7883-4d1b-925b-be36a11fcde3",
   "metadata": {},
   "source": [
    "**Schritt 4a: Bestimmen Sie den kritischen Wert.**"
   ]
  },
  {
   "cell_type": "markdown",
   "id": "18f4d79f-79d5-4fcf-9b52-8df0212a1d88",
   "metadata": {},
   "source": [
    "Um den kritischen Wert zu berechnen, wenden wir die Funktion `norm.ppf()` in Python an. Es sei daran erinnert, dass wir auf drei Alternativhypothesen ($H_{A_1}, H_ {A_2}$ und $H_{A_3}$) testen und daher auch drei kritische Werte berechnen müssen ($z_{A_1} = \\pm z_{\\alpha/2}, z_{A_2} = -z_\\alpha$ und $z_{A_3} = +z_\\alpha$)."
   ]
  },
  {
   "cell_type": "code",
   "execution_count": 18,
   "id": "3d2f787f-fb51-4427-bcd4-e933b19e2996",
   "metadata": {},
   "outputs": [],
   "source": [
    "z_HA_1 = norm.ppf(1-alpha/2)\n",
    "z_HA_2 = norm.ppf(1-(1- alpha))\n",
    "z_HA_3 = norm.ppf(1- alpha)"
   ]
  },
  {
   "cell_type": "code",
   "execution_count": 19,
   "id": "98616665-da6c-477e-83a9-2121b799b2d7",
   "metadata": {},
   "outputs": [
    {
     "name": "stdout",
     "output_type": "stream",
     "text": [
      "z_HA_1: 1.959963984540054 z_HA_2: -1.6448536269514722 z_HA_3: 1.6448536269514722\n"
     ]
    }
   ],
   "source": [
    "print('z_HA_1:',z_HA_1,'z_HA_2:',z_HA_2,'z_HA_3:',z_HA_3)"
   ]
  },
  {
   "cell_type": "markdown",
   "id": "7ba0454d-7ade-4efa-ad0c-da90a9811126",
   "metadata": {},
   "source": [
    "Die kritischen Werte sind $z_{A_1} \\approx \\pm 1,96$, $ z_{A_2} \\approx-1,64$ und  $ z_{A_3} \\approx 1,64$."
   ]
  },
  {
   "cell_type": "markdown",
   "id": "5a159832-3eeb-41f4-9648-a14d413565d0",
   "metadata": {},
   "source": [
    "**Schritt 5a: Wenn der Wert der Teststatistik in den Verwerfungsbereich fällt, ist $H_0$ zu verwerfen; andernfalls ist $H_0$ nicht zu verwerfen.**"
   ]
  },
  {
   "cell_type": "markdown",
   "id": "a125a905-5dc2-4e55-8583-1329627c5c14",
   "metadata": {},
   "source": [
    "Der Wert der in Schritt 3 ermittelten Teststatistik ist $z \\approx 2,699$. Es sei daran erinnert, dass wir drei Alternativhypothesen ($H_{A_1}, H_{A_2}$ und $H_{A_3}$) untersuchen. Daher bewerten wir den Ablehnungsbereich für jede einzelne Hypothese."
   ]
  },
  {
   "cell_type": "markdown",
   "id": "2b66cde0-0d74-4da3-8d9b-2d6e3fb35109",
   "metadata": {},
   "source": [
    "- **Alternativhypothese** $H_{A_1}:\\quad \\mu \\ne 70,8$"
   ]
  },
  {
   "cell_type": "markdown",
   "id": "5bd41ccb-cef6-4e31-95b6-36e4c4bdf7a0",
   "metadata": {},
   "source": [
    "Erinnern Sie sich an die kritischen Werte für $H_{A_1}$. "
   ]
  },
  {
   "cell_type": "markdown",
   "id": "86bee4c8-d2ce-4953-8db0-2a82529bac05",
   "metadata": {},
   "source": [
    "$$z_{A_1} = \\pm z_{\\alpha/2} = \\pm 1,96$$"
   ]
  },
  {
   "cell_type": "markdown",
   "id": "bd13ae3f-6191-4d4e-b193-91a6271d23c1",
   "metadata": {},
   "source": [
    "Fällt die Teststatistik ($z \\approx 2,699$) in den Ablehnungsbereich? Beachten Sie, dass es sich um einen zweiseitigen Test handelt, d. h. wir werten die obere und die untere Grenze aus."
   ]
  },
  {
   "cell_type": "markdown",
   "id": "a3ad826d-f547-46d4-960e-c0a329734d8b",
   "metadata": {},
   "source": [
    "- Obere Grenze"
   ]
  },
  {
   "cell_type": "markdown",
   "id": "2bf7aea4-f4f6-4c50-9c45-6a5395b48663",
   "metadata": {},
   "source": [
    "$$2,699 \\gt 1,96$$"
   ]
  },
  {
   "cell_type": "code",
   "execution_count": 11,
   "id": "7cb70591-ee01-4ccf-9862-4ded27342ea8",
   "metadata": {},
   "outputs": [
    {
     "name": "stdout",
     "output_type": "stream",
     "text": [
      "True\n"
     ]
    }
   ],
   "source": [
    "# upper limit\n",
    "# Reject?\n",
    "print(z > abs(z_HA_1))"
   ]
  },
  {
   "cell_type": "markdown",
   "id": "6a2952e3-4a3c-4cf2-b8c3-2aab6acfc67d",
   "metadata": {},
   "source": [
    "- Untere Grenze"
   ]
  },
  {
   "cell_type": "markdown",
   "id": "8b536df6-365c-49bb-b0e9-9199af44594d",
   "metadata": {},
   "source": [
    "$$ 2,699 \\lt -1,96$$"
   ]
  },
  {
   "cell_type": "code",
   "execution_count": 20,
   "id": "61e1e7ef-5a53-4e0f-942e-362822e15887",
   "metadata": {},
   "outputs": [
    {
     "name": "stdout",
     "output_type": "stream",
     "text": [
      "False\n"
     ]
    }
   ],
   "source": [
    "#lower limit\n",
    "# Reject?\n",
    "print(z < -abs(z_HA_1))"
   ]
  },
  {
   "cell_type": "markdown",
   "id": "3ccd604a-e5c1-46e1-b848-35a27322e468",
   "metadata": {},
   "source": [
    "![Alt-Text](hypothesenstandard.png)"
   ]
  },
  {
   "cell_type": "markdown",
   "id": "9ce6a10f-dd7b-4249-b8aa-8f235642a47e",
   "metadata": {},
   "source": [
    "Aufgrund der numerischen und grafischen Auswertung fällt der Wert in den Verwerfungsbereich, so dass wir $H_0$ verwerfen. Die Testergebnisse sind auf dem $5 \\%$-Niveau statistisch signifikant."
   ]
  },
  {
   "cell_type": "markdown",
   "id": "91f310ac-2fb1-4827-b8cb-c64b11ad6ce5",
   "metadata": {},
   "source": [
    "- **Alternativhypothese** $H_{A_2}:\\quad \\mu \\lt 70,8$"
   ]
  },
  {
   "cell_type": "markdown",
   "id": "87639296-53f1-4bfa-b74a-350b5495908a",
   "metadata": {},
   "source": [
    "Erinnern Sie sich an den kritischen Wert für $H_{A_2}$. "
   ]
  },
  {
   "cell_type": "markdown",
   "id": "553605c0-0c2e-4c87-94d6-f48081ab4708",
   "metadata": {},
   "source": [
    "$$z_{A_2} = -z_{\\alpha} = -1,64$$"
   ]
  },
  {
   "cell_type": "markdown",
   "id": "03a09b93-27ab-4f78-8143-1551e092f424",
   "metadata": {},
   "source": [
    "Fällt die Teststatistik ($z \\approx 2,699$) in den Ablehnungsbereich?"
   ]
  },
  {
   "cell_type": "markdown",
   "id": "f508b87f-1e74-456c-9ab9-e8e2df6777a6",
   "metadata": {},
   "source": [
    "$$2,699 < -1,64$$"
   ]
  },
  {
   "cell_type": "code",
   "execution_count": 21,
   "id": "4529ffae-975b-4070-87df-194ac26c6457",
   "metadata": {},
   "outputs": [
    {
     "name": "stdout",
     "output_type": "stream",
     "text": [
      "False\n"
     ]
    }
   ],
   "source": [
    "# Reject?\n",
    "print(z < z_HA_2)"
   ]
  },
  {
   "cell_type": "markdown",
   "id": "0ae2e2a7-955e-4a72-90f8-7574a64d809b",
   "metadata": {},
   "source": [
    "![Alt-Text](hypothesenstandard3.png)"
   ]
  },
  {
   "cell_type": "markdown",
   "id": "35a9758f-4c17-43c1-acef-5ff857b66e21",
   "metadata": {},
   "source": [
    "Aufgrund der numerischen und grafischen Auswertung fällt der Wert nicht in den Verwerfungsbereich, so dass wir $H_0$ nicht verwerfen. Die Testergebnisse sind auf dem $5 \\%$-Niveau statistisch signifikant."
   ]
  },
  {
   "cell_type": "markdown",
   "id": "3177f300-033d-48e7-ad77-bb41505c8efd",
   "metadata": {},
   "source": [
    "- **Alternativhypothese** $H_{A_3}:\\quad \\mu > 70,8$"
   ]
  },
  {
   "cell_type": "markdown",
   "id": "8617b6da-ba57-4e37-a037-3182b2de41f0",
   "metadata": {},
   "source": [
    "Erinnern Sie sich an den kritischen Wert für $H_{A_3}$."
   ]
  },
  {
   "cell_type": "markdown",
   "id": "ee78b41c-529f-4f6a-ad68-8cb2c396cf2d",
   "metadata": {},
   "source": [
    "$$z_{A_3} = +z_{\\alpha} = 1,64$$"
   ]
  },
  {
   "cell_type": "markdown",
   "id": "532d0feb-30a5-42a7-9fce-2b8a3540833c",
   "metadata": {},
   "source": [
    "Fällt die Teststatistik ($z \\approx 2,699$) in den Ablehnungsbereich?"
   ]
  },
  {
   "cell_type": "markdown",
   "id": "c5ac480a-cbbb-4c02-985d-3bacfb19ca7f",
   "metadata": {},
   "source": [
    "$$2,699 > 1,64$$"
   ]
  },
  {
   "cell_type": "code",
   "execution_count": 22,
   "id": "4324e6f9-d3f0-4821-9c8e-1caefbde35f2",
   "metadata": {},
   "outputs": [
    {
     "name": "stdout",
     "output_type": "stream",
     "text": [
      "True\n"
     ]
    }
   ],
   "source": [
    "# Reject?\n",
    "print(z > z_HA_3)"
   ]
  },
  {
   "cell_type": "markdown",
   "id": "51d4525e-8ab7-42a4-be10-84e8a0dae361",
   "metadata": {},
   "source": [
    "![Alt-Text](hypothesenstandard2.png)"
   ]
  },
  {
   "cell_type": "markdown",
   "id": "21518da0-b9b8-48f6-8c0e-99039bd0793d",
   "metadata": {},
   "source": [
    "Aufgrund der numerischen und grafischen Auswertung fällt der Wert in den Verwerfungsbereich, so dass wir $H_0$ verwerfen. Die Testergebnisse sind auf dem $5 \\%$-Niveau statistisch signifikant."
   ]
  },
  {
   "cell_type": "markdown",
   "id": "a72018fd-2c65-4cfb-8c78-98968c5ddd74",
   "metadata": {},
   "source": [
    "**Schritt 6: Interpretieren Sie das Ergebnis des Hypothesentests.**"
   ]
  },
  {
   "cell_type": "markdown",
   "id": "63770106-f712-406a-badd-523226ee6ac6",
   "metadata": {},
   "source": [
    "- **Alternativhypothese** $H_{A_1}:\\quad \\mu \\ne 70,8$"
   ]
  },
  {
   "cell_type": "markdown",
   "id": "e28b15a5-3a04-44fc-8852-e580d95314ba",
   "metadata": {},
   "source": [
    "Bei einem Signifikanzniveau von $5 \\%$ lassen die Daten den Schluss zu, dass sich das Durchschnittsgewicht der Studenten vom Durchschnittsgewicht der europäischen Erwachsenen unterscheidet."
   ]
  },
  {
   "cell_type": "markdown",
   "id": "e9e546a3-b915-4256-9602-ac80bfc5287e",
   "metadata": {},
   "source": [
    "- **Alternativhypothese** $H_{A_2}:\\quad \\mu \\lt 70,8$"
   ]
  },
  {
   "cell_type": "markdown",
   "id": "ea2be317-36ff-4e35-a453-07eb446fbf49",
   "metadata": {},
   "source": [
    "Bei einem Signifikanzniveau von $5 \\%$ liefern die Daten keine ausreichenden Beweise für die Schlussfolgerung, dass das Durchschnittsgewicht der Studenten geringer ist als das Durchschnittsgewicht der europäischen Erwachsenen"
   ]
  },
  {
   "cell_type": "markdown",
   "id": "e409508f-ceb4-4757-aa92-1928c06b5ade",
   "metadata": {},
   "source": [
    "- **Alternativhypothese** $H_{A_3}:\\quad \\mu > 70,8$"
   ]
  },
  {
   "cell_type": "markdown",
   "id": "0e35cf2e-923b-41e1-a864-918ff478035f",
   "metadata": {},
   "source": [
    "Bei einem Signifikanzniveau von $5 \\%$ lassen die Daten den Schluss zu, dass sich das Durchschnittsgewicht der Studenten vom Durchschnittsgewicht der europäischen Erwachsenen unterscheidet."
   ]
  },
  {
   "cell_type": "markdown",
   "id": "10f0aac5-62a5-4c01-b46c-7393636679eb",
   "metadata": {},
   "source": [
    "### Hypothesentests: Der $p$-Wert-Ansatz"
   ]
  },
  {
   "cell_type": "markdown",
   "id": "f393020c-7571-4ac4-87a5-836563f59855",
   "metadata": {},
   "source": [
    "**Schritt 1: Geben Sie die Nullhypothese ($H_0$) und die Alternativhypothese ($H_A$) an.**"
   ]
  },
  {
   "cell_type": "markdown",
   "id": "3cfd0b24-1d7b-4258-9094-bcfc5fec8fb2",
   "metadata": {},
   "source": [
    "Die Nullhypothese besagt, dass das Durchschnittsgewicht der Studenten ($\\mu$\n",
    ") gleich dem Durchschnittsgewicht europäischer Erwachsener von 70,8 kg ($\\mu_0$) ist, wie von Walpole et al. (2012) berichtet. Mit anderen Worten: Es gibt keinen Unterschied zwischen dem Durchschnittsgewicht der Studenten und dem Durchschnittsgewicht der europäischen Erwachsenen."
   ]
  },
  {
   "cell_type": "markdown",
   "id": "46f5a0ea-3aa7-49ff-96b1-1d40628c25ee",
   "metadata": {},
   "source": [
    "$$H_{A_1}: \\quad \\mu \\ne 70,8$$"
   ]
  },
  {
   "cell_type": "markdown",
   "id": "52265811-78d8-414e-9254-34e2150e4cf9",
   "metadata": {},
   "source": [
    "Zur Veranschaulichung testen wir drei Alternativhypothesen.\n",
    "\n",
    "**Alternativhypothese 1**: Das Durchschnittsgewicht der Studenten entspricht nicht dem Durchschnittsgewicht der europäischen Erwachsenen. Mit anderen Worten: Es gibt einen Unterschied zwischen dem Durchschnittsgewicht der Studenten und dem Durchschnittsgewicht der europäischen Erwachsenen. "
   ]
  },
  {
   "cell_type": "markdown",
   "id": "2b2bb05d-38e9-4146-a433-05c104f93e9f",
   "metadata": {},
   "source": [
    "$$H_{A_1}: \\quad \\mu \\ne 70,8$$"
   ]
  },
  {
   "cell_type": "markdown",
   "id": "02a957bd-2ce2-4b3e-a0a5-b571094095e0",
   "metadata": {},
   "source": [
    "**Alternativhypothese 2**: Das Durchschnittsgewicht der Studenten ist geringer als das Durchschnittsgewicht der europäischen Erwachsenen."
   ]
  },
  {
   "cell_type": "markdown",
   "id": "3a33ef61-08ce-4b42-b023-7d4c9c85a122",
   "metadata": {},
   "source": [
    "$$H_{A_2}: \\quad \\mu  < 70,8$$"
   ]
  },
  {
   "cell_type": "markdown",
   "id": "13ba17f1-ac1d-4741-915f-27e570e6eff5",
   "metadata": {},
   "source": [
    "**Alternativhypothese 3**: Das Durchschnittsgewicht der Studenten ist höher als das Durchschnittsgewicht der europäischen Erwachsenen."
   ]
  },
  {
   "cell_type": "markdown",
   "id": "2cdd59ac-a886-4895-b07b-2b58176a0edf",
   "metadata": {},
   "source": [
    "$$H_{A_3}: \\quad \\mu > 70,8$$"
   ]
  },
  {
   "cell_type": "markdown",
   "id": "33a819d4-65fb-4aea-8fa7-7c5fd61f8038",
   "metadata": {},
   "source": [
    "**Schritt 2: Legen Sie das Signifikanzniveau $\\alpha$ fest.**"
   ]
  },
  {
   "cell_type": "markdown",
   "id": "90092711-d1f1-470f-b4f4-865b7f67f4c6",
   "metadata": {},
   "source": [
    "$$\\alpha = 0,05$$"
   ]
  },
  {
   "cell_type": "code",
   "execution_count": 23,
   "id": "9b41fdd6-334b-41bc-a941-5d2b7da91ffb",
   "metadata": {},
   "outputs": [],
   "source": [
    "alpha = 0.05"
   ]
  },
  {
   "cell_type": "markdown",
   "id": "0eefa76f-8b4f-4a4c-b489-1238e839ed8b",
   "metadata": {},
   "source": [
    "**Schritt 3: Berechnen Sie den Wert der Teststatistik.**"
   ]
  },
  {
   "cell_type": "markdown",
   "id": "f3196048-bee3-4edb-a388-a1eeeef529e3",
   "metadata": {},
   "source": [
    "Die folgende Gleichung wird zur Berechnung der Teststatistik $z$ verwendet."
   ]
  },
  {
   "cell_type": "markdown",
   "id": "2d2a851a-bb1f-4d5b-8c3d-543e943693d4",
   "metadata": {},
   "source": [
    "$$z = \\frac{\\bar x-\\mu_0}{\\sigma/\\sqrt{n}}$$"
   ]
  },
  {
   "cell_type": "markdown",
   "id": "5eb8598e-e824-46cd-8084-00f66f3ad294",
   "metadata": {},
   "source": [
    "- Berechnen Sie den Wert der Teststatistik"
   ]
  },
  {
   "cell_type": "markdown",
   "id": "a2ac0234-5768-4e2d-8607-afadce03e659",
   "metadata": {},
   "source": [
    "$$z = \\frac{\\bar x-\\mu}{\\sigma/\\sqrt{n}} =  \\frac{77,02-70,8}{8,64/ \\sqrt{14}} \\approx 2,699$$"
   ]
  },
  {
   "cell_type": "code",
   "execution_count": 24,
   "id": "5e1c580c-1c4d-4df2-a911-b93d5f386c88",
   "metadata": {},
   "outputs": [
    {
     "data": {
      "text/plain": [
       "2.699033971278552"
      ]
     },
     "execution_count": 24,
     "metadata": {},
     "output_type": "execute_result"
    }
   ],
   "source": [
    "#x_bar = 78.61429\n",
    "z = (x_bar-mu0)/sigma*np.sqrt(n)\n",
    "z"
   ]
  },
  {
   "cell_type": "markdown",
   "id": "bc4b8fcd-9b3b-4ce7-b5c8-2bb1170acc33",
   "metadata": {},
   "source": [
    "**Schritt 4b: Bestimmen Sie den $p$-Wert.**"
   ]
  },
  {
   "cell_type": "markdown",
   "id": "66111766-de6f-4279-a5f2-3a3a153f813d",
   "metadata": {},
   "source": [
    "Um den $p$-Wert zu berechnen, verwenden wir die Funktion `norm.cdf()` in Python. Erinnern Sie sich daran, dass wir auf drei Alternativhypothesen testen ($H_{A_1}, H_{A_1}$ und $H_{A_1}$), daher berechnen wir auch drei $p$-Werte ($(P(z_{A_1})$, $(P(z_{A_2})$ und $(P(z_{A_3})$)."
   ]
  },
  {
   "cell_type": "markdown",
   "id": "1969cff5-5ea7-4f0b-a177-6b76a964a634",
   "metadata": {},
   "source": [
    "- **Alternativhypothese** $H_{A_1}:\\quad \\mu \\ne 70,8$"
   ]
  },
  {
   "cell_type": "code",
   "execution_count": 25,
   "id": "f1d55b56-3970-4677-8294-676fcff885b6",
   "metadata": {},
   "outputs": [
    {
     "data": {
      "text/plain": [
       "0.0069541077277850295"
      ]
     },
     "execution_count": 25,
     "metadata": {},
     "output_type": "execute_result"
    }
   ],
   "source": [
    "#the probability of observing any z-value greater or smaller in magnitude given the null hypothesis is true\n",
    "upper = 1-norm.cdf(abs(z))\n",
    "lower = norm.cdf(-abs(z))\n",
    "p_z_1 = upper + lower\n",
    "p_z_1"
   ]
  },
  {
   "cell_type": "markdown",
   "id": "8d21f24c-55e7-4ae0-b5c0-8c817009be61",
   "metadata": {},
   "source": [
    "Aus Schritt $3$ ergibt sich der Wert der Teststatistik $z \\approx 2,699$. Der Test ist zweiseitig, d. h. der $p$-Wert ist die Wahrscheinlichkeit, dass ein Wert $z$ in der Größenordnung von $2,699$ oder mehr oder ein Wert $z$ in der Größenordnung von $-2,699$ oder weniger beobachtet wird. Diese Wahrscheinlichkeit entspricht der farbigen Fläche in der Abbildung unten, die $0,006954$ beträgt. Also $p \\approx 0,007$."
   ]
  },
  {
   "cell_type": "markdown",
   "id": "6bc2160f-300e-451f-840f-903a18fdafbc",
   "metadata": {},
   "source": [
    "![Alt-Text](hypothesenstandard4.png)"
   ]
  },
  {
   "cell_type": "markdown",
   "id": "0be129b6-ed10-4157-a1d2-5ca608b8412a",
   "metadata": {},
   "source": [
    "- **Alternativhypothese** $H_{A_2}:\\quad \\mu \\lt 70,8$"
   ]
  },
  {
   "cell_type": "code",
   "execution_count": 26,
   "id": "2dc69551-0948-4e74-aeb9-659eaf529b1b",
   "metadata": {},
   "outputs": [
    {
     "data": {
      "text/plain": [
       "0.9965229461361075"
      ]
     },
     "execution_count": 26,
     "metadata": {},
     "output_type": "execute_result"
    }
   ],
   "source": [
    "#the probability of observing a z-value or smaller in magnitude given the null hypothesis is true\n",
    "p_z_2 = norm.cdf(z)\n",
    "p_z_2"
   ]
  },
  {
   "cell_type": "markdown",
   "id": "940e5fff-8238-42a7-ac91-24a6fd14285c",
   "metadata": {},
   "source": [
    "Aus Schritt $3$ ergibt sich der Wert der Teststatistik $z \\approx 2,699$. Der Test ist linksschief, d. h. der $p$-Wert ist die Wahrscheinlichkeit, einen Wert $z$ von $2,699$ oder weniger zu beobachten. Diese Wahrscheinlichkeit ist gleich der farbigen Fläche in der Abbildung unten, die ungefähr $1$ ist. $p \\approx 1$."
   ]
  },
  {
   "cell_type": "markdown",
   "id": "d8d75862-925d-4dad-81c7-0a0833b18c54",
   "metadata": {},
   "source": [
    "![Alt-Text](hypothesenstandard5.png)"
   ]
  },
  {
   "cell_type": "markdown",
   "id": "86028738-7682-4ccf-9136-1c4cd3c8cfd9",
   "metadata": {},
   "source": [
    "- **Alternativhypothese** $H_{A_3}:\\quad \\mu > 70,8$"
   ]
  },
  {
   "cell_type": "code",
   "execution_count": 27,
   "id": "e98bd459-3c67-41ff-9dc1-2d8d01bfec90",
   "metadata": {},
   "outputs": [
    {
     "data": {
      "text/plain": [
       "0.003477053863892521"
      ]
     },
     "execution_count": 27,
     "metadata": {},
     "output_type": "execute_result"
    }
   ],
   "source": [
    "#the probability of observing a z-value or greater in magnitude given the null hypothesis is true\n",
    "p_z_3 = 1-norm.cdf(z)\n",
    "p_z_3"
   ]
  },
  {
   "cell_type": "markdown",
   "id": "99d311af-e26b-456f-bbc2-c4eeaec08a4d",
   "metadata": {},
   "source": [
    "Aus Schritt $3$ ergibt sich der Wert der Teststatistik $z=2,699$. Der Test ist rechtsschief, d. h. der $p$-Wert ist die Wahrscheinlichkeit, einen Wert $z$ von $2,699$ oder mehr zu beobachten. Diese Wahrscheinlichkeit ist gleich der farbigen Fläche in der Abbildung unten, die ungefähr $0,003477$ entspricht. $p \\approx 0,004$."
   ]
  },
  {
   "cell_type": "markdown",
   "id": "e7c5b9ba-7ddc-4a5e-ac0f-6f9287f621e9",
   "metadata": {},
   "source": [
    "![Alt-Text](hypothesenstandard6.png)"
   ]
  },
  {
   "cell_type": "markdown",
   "id": "cd479259-afc8-4ed2-858a-e2ce9d9a1e7f",
   "metadata": {},
   "source": [
    "**Schritt 5b: Wenn $p \\le α$, wird $H_0$ verworfen; andernfalls wird $H_0$ nicht verworfen.**"
   ]
  },
  {
   "cell_type": "markdown",
   "id": "0bd69475-eeee-4ff2-a75f-0daa38768b97",
   "metadata": {},
   "source": [
    "Der $p$-Wert der in Schritt $4$ ermittelten Teststatistik wird mit dem benutzerdefinierten Signifikanzniveau $\\alpha$ von $5 \\%$ verglichen. Es sei daran erinnert, dass wir drei Alternativhypothesen ($H_{A_1}, H_{A_2}$ und $H_{A_3}$) untersuchen. Wir führen also Vergleiche für jede einzelne Hypothese durch."
   ]
  },
  {
   "cell_type": "markdown",
   "id": "08f428fe-2417-4bf2-b787-8ff9e72c4642",
   "metadata": {},
   "source": [
    "- **Alternativhypothese** $H_{A_1}:\\quad \\mu \\ne 70,8$"
   ]
  },
  {
   "cell_type": "markdown",
   "id": "e0be8738-40c4-43d4-a843-fd7ca25a9e59",
   "metadata": {},
   "source": [
    "$$0,007 \\le 0,05$$"
   ]
  },
  {
   "cell_type": "code",
   "execution_count": 29,
   "id": "bbe35164-c465-4240-9f89-53195903bf97",
   "metadata": {},
   "outputs": [
    {
     "data": {
      "text/plain": [
       "True"
      ]
     },
     "execution_count": 29,
     "metadata": {},
     "output_type": "execute_result"
    }
   ],
   "source": [
    "#Reject?\n",
    "p_z_1 <= alpha"
   ]
  },
  {
   "cell_type": "markdown",
   "id": "c1c61fb3-124c-401b-8283-cbaa5ec4298e",
   "metadata": {},
   "source": [
    "Der $p$-Wert ist kleiner als das angegebene Signifikanzniveau von $0,05$ und wir verwerfen $H_0$. Die Testergebnisse sind auf dem $5 \\%$-Niveau statistisch signifikant und liefern einen sehr starken Beweis gegen die Nullhypothese."
   ]
  },
  {
   "cell_type": "markdown",
   "id": "eab09a73-9f85-4939-b0e7-dd57986282b0",
   "metadata": {},
   "source": [
    "- **Alternativhypothese** $H_{A_2}:\\quad \\mu \\lt 70,8$"
   ]
  },
  {
   "cell_type": "markdown",
   "id": "e9f05cf2-048c-4a03-933f-5bc0a573e866",
   "metadata": {},
   "source": [
    "$$1 \\le 0,05$$"
   ]
  },
  {
   "cell_type": "code",
   "execution_count": 30,
   "id": "2e65bd47-d518-41fd-baa4-5e39ca7decc1",
   "metadata": {},
   "outputs": [
    {
     "data": {
      "text/plain": [
       "False"
      ]
     },
     "execution_count": 30,
     "metadata": {},
     "output_type": "execute_result"
    }
   ],
   "source": [
    "#Reject?\n",
    "p_z_2 <= alpha"
   ]
  },
  {
   "cell_type": "markdown",
   "id": "9ebcd6a5-b22a-466c-908b-9069eafac9f7",
   "metadata": {},
   "source": [
    "Der $p$-Wert ist größer als das angegebene Signifikanzniveau von $0,05$ und wir verwerfen $H_0$ nicht. Die Testergebnisse sind auf dem $5 \\%$-Niveau statistisch signifikant und liefern keinen ausreichenden Beweis gegen die Nullhypothese."
   ]
  },
  {
   "cell_type": "markdown",
   "id": "039b2d80-cc0f-41f0-bfcd-669663e55a6f",
   "metadata": {},
   "source": [
    "- **Alternativhypothese** $H_{A_3}:\\quad \\mu > 70,8$"
   ]
  },
  {
   "cell_type": "markdown",
   "id": "bc35d02b-3942-422d-bc78-3c0444d64900",
   "metadata": {},
   "source": [
    "$$0,004 \\le 0,05$$"
   ]
  },
  {
   "cell_type": "code",
   "execution_count": 31,
   "id": "2a77c35b-99a1-4807-acf4-9820b24fd8d0",
   "metadata": {},
   "outputs": [
    {
     "data": {
      "text/plain": [
       "True"
      ]
     },
     "execution_count": 31,
     "metadata": {},
     "output_type": "execute_result"
    }
   ],
   "source": [
    "#Reject?\n",
    "p_z_3 <= alpha"
   ]
  },
  {
   "cell_type": "markdown",
   "id": "684391e0-e5ee-413d-84d7-6da286a770ab",
   "metadata": {},
   "source": [
    "Der $p$-Wert ist kleiner als das angegebene Signifikanzniveau von $0,05$ und wir verwerfen $H_0$. Die Testergebnisse sind auf dem $5 \\%$-Niveau statistisch signifikant und liefern einen sehr starken Beweis gegen die Nullhypothese."
   ]
  },
  {
   "cell_type": "markdown",
   "id": "72c1b068-ff56-4261-af5e-5ae03d0c968b",
   "metadata": {},
   "source": [
    "**Schritt 6: Interpretieren Sie das Ergebnis des Hypothesentests.**"
   ]
  },
  {
   "cell_type": "markdown",
   "id": "69dc868b-fa94-465b-a7d8-71d0a251c812",
   "metadata": {},
   "source": [
    "- **Alternativhypothese** $H_{A_1}:\\quad \\mu \\ne 70,8$"
   ]
  },
  {
   "cell_type": "markdown",
   "id": "3405d3a0-4f32-4c96-933c-57df877f2aac",
   "metadata": {},
   "source": [
    "$p \\approx 0,007$. Bei einem Signifikanzniveau von $5 \\%$ lassen die Daten den Schluss zu, dass sich das Durchschnittsgewicht der Studenten vom Durchschnittsgewicht der europäischen Erwachsenen unterscheidet."
   ]
  },
  {
   "cell_type": "markdown",
   "id": "03cd7f4b-b964-4a00-a0de-7f9c7d052cd2",
   "metadata": {},
   "source": [
    "- **Alternativhypothese** $H_{A_2}:\\quad \\mu \\lt 70,8$"
   ]
  },
  {
   "cell_type": "markdown",
   "id": "af77f15b-2001-4209-9f1a-5ec95cd8dfcb",
   "metadata": {},
   "source": [
    "$p \\approx 1$. Bei einem Signifikanzniveau von $5 \\%$ liefern die Daten keine hinreichenden Anhaltspunkte für die Schlussfolgerung, dass das Durchschnittsgewicht der Studenten geringer ist als das Durchschnittsgewicht der europäischen Erwachsenen."
   ]
  },
  {
   "cell_type": "markdown",
   "id": "5c0208d6-7799-45d8-b1b6-b5e7202efe46",
   "metadata": {},
   "source": [
    "- **Alternativhypothese** $H_{A_3}:\\quad \\mu > 70,8$"
   ]
  },
  {
   "cell_type": "markdown",
   "id": "c3346be5-4d6f-43f8-a853-c8460a8762bd",
   "metadata": {},
   "source": [
    "$p \\approx 0,004$. Bei einem Signifikanzniveau von $5 \\%$ lassen die Daten den Schluss zu, dass das Durchschnittsgewicht der Studenten höher ist als das Durchschnittsgewicht der europäischen Erwachsenen."
   ]
  },
  {
   "cell_type": "code",
   "execution_count": null,
   "id": "f1e47783-4694-48a8-8391-38c5878fb995",
   "metadata": {},
   "outputs": [],
   "source": []
  }
 ],
 "metadata": {
  "kernelspec": {
   "display_name": "Python 3 (ipykernel)",
   "language": "python",
   "name": "python3"
  },
  "language_info": {
   "codemirror_mode": {
    "name": "ipython",
    "version": 3
   },
   "file_extension": ".py",
   "mimetype": "text/x-python",
   "name": "python",
   "nbconvert_exporter": "python",
   "pygments_lexer": "ipython3",
   "version": "3.10.2"
  }
 },
 "nbformat": 4,
 "nbformat_minor": 5
}
