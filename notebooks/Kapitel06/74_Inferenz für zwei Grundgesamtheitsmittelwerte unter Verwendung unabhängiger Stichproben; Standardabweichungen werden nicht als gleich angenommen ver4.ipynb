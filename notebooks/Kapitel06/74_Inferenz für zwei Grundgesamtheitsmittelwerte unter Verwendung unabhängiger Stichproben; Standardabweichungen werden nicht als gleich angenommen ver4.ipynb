{
 "cells": [
  {
   "cell_type": "markdown",
   "id": "ad4c5c44-7721-4926-b4d3-ab5db2325aff",
   "metadata": {},
   "source": [
    "## Inferenz für zwei Grundgesamtheitsmittelwerte unter Verwendung unabhängiger Stichproben; Standardabweichungen werden nicht als gleich angenommen\n",
    "----------------------------------------"
   ]
  },
  {
   "cell_type": "code",
   "execution_count": 1,
   "id": "0b324fec-277e-40ed-bee7-22c1e1969213",
   "metadata": {},
   "outputs": [
    {
     "name": "stdout",
     "output_type": "stream",
     "text": [
      "\n",
      "---------------------------------\n",
      "Working on the host: LAPTOP-9LETB4SJ\n",
      "\n",
      "---------------------------------\n",
      "Python version: 3.10.2 | packaged by conda-forge | (main, Mar  8 2022, 15:52:24) [MSC v.1929 64 bit (AMD64)]\n",
      "\n",
      "---------------------------------\n",
      "Python interpreter: C:\\Users\\zak\\anaconda3\\envs\\srh\\python.exe\n"
     ]
    }
   ],
   "source": [
    "import matplotlib.pyplot as plt\n",
    "import numpy as np\n",
    "import pandas as pd\n",
    "from random import sample\n",
    "from scipy.stats import t\n",
    "from scipy import stats\n",
    "import statsmodels.api as smi\n",
    "import pylab\n",
    "\n",
    "%run ../src/notebook_env.py"
   ]
  },
  {
   "cell_type": "markdown",
   "id": "0ca266b5-6d9a-4684-b51d-f28bdbbd469a",
   "metadata": {},
   "source": [
    "In den Fällen, in denen die Mittelwerte zweier Grundgesamtheiten getestet werden sollen und die Standardabweichungen zwischen den beiden Grundgesamtheiten unterschiedlich sind, wird der so genannte **nicht zusammengefasste $t$-Test** oder <a href=\"https://en.wikipedia.org/wiki/Welch's_t-test\">Welch's $t$-Test</a> angewendet.\n",
    "\n",
    "Der **nicht zusammengefasste $t$-Test** ist dem **zusammengefassten $t$-Test** sehr ähnlich, mit Ausnahme der Teststatistik $t$\n",
    "und bei der Berechnung der Freiheitsgrade ($df$). Die Teststatistik nutzt nicht $s_z$, die zusammengefasste Standardabweichung, und wird geschrieben als"
   ]
  },
  {
   "cell_type": "markdown",
   "id": "8c48c5d9-8ac8-4e98-8a45-ccdb44d59cef",
   "metadata": {},
   "source": [
    "$$t =  \\frac{(\\bar x_1 - \\bar x_2)}{ \\sqrt{\\frac{s_1^2}{n_1} + \\frac{s_2^2}{n_2}}}\\text{.}$$"
   ]
  },
  {
   "cell_type": "markdown",
   "id": "9070b2c2-cc4f-4ba4-9c0f-211c2ee001a3",
   "metadata": {},
   "source": [
    "Der Nenner der obigen Gleichung ist der Schätzer der Standardabweichung von $\\bar x_1 - \\bar x_2$ und gegeben durch"
   ]
  },
  {
   "cell_type": "markdown",
   "id": "37defba3-1e21-4295-b73b-0c53106b2576",
   "metadata": {},
   "source": [
    "$$s_{\\bar x_1 - \\bar x_2} = \\sqrt{\\frac{s^2_1}{n_1} + \\frac{s^2_2}{n_2}}\\text{.}$$"
   ]
  },
  {
   "cell_type": "markdown",
   "id": "0946ca43-9299-4753-9368-4ccab1d1fcaa",
   "metadata": {},
   "source": [
    "Die Teststatistik $t$ folgt einer $t$-Verteilung und die Freiheitsgrade ($df$) sind gegeben durch"
   ]
  },
  {
   "cell_type": "markdown",
   "id": "edfc5735-a84d-4f42-893e-255ef15ae454",
   "metadata": {},
   "source": [
    "$$df=\\frac{\\left(\\frac{s_1^2}{n_1}+\\frac{s_1^2}{n_2}\\right)^2}{\\frac{\\left(\\frac{s_1^2}{n_1}\\right)^2}{n_1-1}+\\frac{\\left(\\frac{s_2^2}{n_2}\\right)^2}{n_2-1}}\\text{.}$$"
   ]
  },
  {
   "cell_type": "markdown",
   "id": "f08851a3-250a-4544-82ec-c453002cbfe9",
   "metadata": {},
   "source": [
    "Runden Sie die Freiheitsgrade auf die nächste ganze Zahl ab, wenn Sie Wahrscheinlichkeitstabellen verwenden.\n",
    "\n",
    "Der **nicht zusammengefasste $t$-Test** ist robust gegenüber mäßigen Verstößen gegen die Normalverteilungsannahme, aber er ist weniger robust gegenüber Ausreißern (Weiss 2010)."
   ]
  },
  {
   "cell_type": "markdown",
   "id": "671c29ba-faff-490e-a4e5-50b60d8571bd",
   "metadata": {},
   "source": [
    "### Intervall-Schätzung von $\\mu_1 - \\mu_2$"
   ]
  },
  {
   "cell_type": "markdown",
   "id": "0ff4eb87-3c70-442b-a7af-e4da52531b96",
   "metadata": {},
   "source": [
    "Das $100(1-\\alpha)\\%$-Konfidenzintervall für $\\mu_1-\\mu_2$ ist"
   ]
  },
  {
   "cell_type": "markdown",
   "id": "a5a27b26-84da-49f9-ad9a-3f942d95c36d",
   "metadata": {},
   "source": [
    "$$(\\bar x_1 - \\bar x_2) \\pm t^* \\times  \\sqrt{\\frac{s^2_1}{n_1} + \\frac{s^2_2}{n_2}}$$"
   ]
  },
  {
   "cell_type": "markdown",
   "id": "dcc57cb4-7814-407d-b595-6586846a49d0",
   "metadata": {},
   "source": [
    "wobei der Wert von $t$ aus der $t$-Verteilung für das gegebene Konfidenzniveau ermittelt wird. Die Freiheitsgrade ($df$) und die ergeben sich aus der obigen Gleichung."
   ]
  },
  {
   "cell_type": "markdown",
   "id": "fb4bcf33-eb24-44ee-8d37-ea3a250ba6a6",
   "metadata": {},
   "source": [
    "### Der nicht zusammengefasste $t$-Test: Ein Beispiel"
   ]
  },
  {
   "cell_type": "markdown",
   "id": "395b73bf-5855-4981-9d70-87be2a4d746c",
   "metadata": {},
   "source": [
    "Um praktische Erfahrungen zu sammeln, wenden wir den nicht zusammengefassten $t$-Test in einer Übung an. Dazu laden wir den `students` Datensatz. Sie können die Datei `students.csv` <a href=\"https://userpage.fu-berlin.de/soga/200/2010_data_sets/students.csv\">hier</a> herunterladen. Importieren Sie den Datensatz und geben Sie ihm einen passenden Namen."
   ]
  },
  {
   "cell_type": "code",
   "execution_count": 2,
   "id": "d85d965d-58ae-4175-88e1-dcff7372c7d6",
   "metadata": {},
   "outputs": [],
   "source": [
    "# Lese Datei students.csv als Dataframe ein; Indexspalte wird übersprungen\n",
    "students = pd.read_csv('students.csv', index_col=0)"
   ]
  },
  {
   "cell_type": "markdown",
   "id": "09e50e94-0978-4aea-b33b-914e1d27d25a",
   "metadata": {},
   "source": [
    "Der `students` Datensatz besteht aus $8239$ Zeilen, von denen jede einen bestimmten Studenten repräsentiert, und $16$ Spalten, von denen jede einer Variable/einem Merkmal entspricht, das sich auf diesen bestimmten Studenten bezieht. Diese selbsterklärenden Variablen sind: *stud.id, Name, Geschlecht, Alter, Größe, Gewicht, Religion, nc.score, Semester, Hauptfach, Nebenfach, score1, score2, online.tutorial, graduated, salary*."
   ]
  },
  {
   "cell_type": "markdown",
   "id": "e8fc0a56-d1e6-45db-bf4a-a62569d44113",
   "metadata": {},
   "source": [
    "Zur Veranschaulichung des nicht zusammengefassten $t$-Tests untersuchen wir das mittlere Jahresgehalt (in Euro) von Absolventinnen in Abhängigkeit von ihrem Studienfach. Die erste Grundgesamtheit besteht aus Studentinnen mit dem Hauptfach Politikwissenschaft und die zweite Grundgesamtheit aus Studentinnen mit dem Hauptfach Sozialwissenschaften. Wir wollen testen, ob es einen Unterschied im mittleren Gehalt dieser beiden Gruppen gibt."
   ]
  },
  {
   "cell_type": "markdown",
   "id": "1e5d8ffb-8599-47a5-b869-eade4b2d048e",
   "metadata": {},
   "source": [
    "### Vorbereitung der Daten"
   ]
  },
  {
   "cell_type": "markdown",
   "id": "bdd47ef4-62bf-459e-9fe7-8f795fc2e660",
   "metadata": {},
   "source": [
    "Wir beginnen mit der Datenaufbereitung.\n",
    "\n",
    "-  Wir unterteilen den Datensatz anhand der Variablen `gender` und `graduated`.\n",
    "-   Dann unterteilen wir die Teilmenge in Absolventen der Politikwissenschaften und der Sozialwissenschaften (Variable `major`).\n",
    "-   Dann ziehen wir aus jeder Gruppe $50$ Studenten und extrahieren die Variable von Interesse, das mittlere Jahresgehalt (in Euro), das in der Spalte `salary` gespeichert ist. Wir ordnen diese beiden Vektoren den Variablen `PS` und `SS` zu."
   ]
  },
  {
   "cell_type": "code",
   "execution_count": 3,
   "id": "2fb93094-fc2a-43bd-9167-179322fe3e42",
   "metadata": {},
   "outputs": [],
   "source": [
    "female_graduates = students.loc[(students['graduated'] == 1) & (students['gender'] == 'Female')]\n",
    "subset_PS = female_graduates.loc[female_graduates['major']== 'Political Science']\n",
    "subset_SS = female_graduates.loc[female_graduates['major']== 'Social Sciences']\n",
    "\n",
    "PS = subset_PS['salary'].sample(n=50, random_state=2)\n",
    "SS = subset_SS['salary'].sample(n=50, random_state=2)"
   ]
  },
  {
   "cell_type": "markdown",
   "id": "c03c0992-fc55-48db-b002-c7087c43887b",
   "metadata": {},
   "source": [
    "Außerdem überprüfen wir, ob die Daten normalverteilt sind, indem wir ein Q-Q-Diagramm erstellen. In Python können wir die Funktion `qqplot()` verwenden, um Q-Q-Plots zu erstellen."
   ]
  },
  {
   "cell_type": "code",
   "execution_count": 4,
   "id": "9353a121-1b28-4315-824b-6aed0903fb72",
   "metadata": {},
   "outputs": [
    {
     "data": {
      "image/png": "[encoded data removed]",
      "text/plain": [
       "<Figure size 432x288 with 1 Axes>"
      ]
     },
     "metadata": {
      "needs_background": "light"
     },
     "output_type": "display_data"
    }
   ],
   "source": [
    "# Erzeuge Q-Q Plot\n",
    "smi.qqplot(PS, line = \"r\")\n",
    "pylab.show()"
   ]
  },
  {
   "cell_type": "code",
   "execution_count": 5,
   "id": "595c548e-eabb-41b2-96f7-41c4f4a4afdd",
   "metadata": {},
   "outputs": [
    {
     "data": {
      "image/png": "[encoded data removed]",
      "text/plain": [
       "<Figure size 432x288 with 1 Axes>"
      ]
     },
     "metadata": {
      "needs_background": "light"
     },
     "output_type": "display_data"
    }
   ],
   "source": [
    "# Erzeuge Q-Q Plot\n",
    "smi.qqplot(SS, line = \"r\")\n",
    "pylab.show()"
   ]
  },
  {
   "cell_type": "markdown",
   "id": "e3d8aea6-397c-4156-9cdd-da10707d7741",
   "metadata": {},
   "source": [
    "Wir sehen, dass die Daten beider Stichproben ungefähr auf einer Geraden liegen.\n",
    "\n",
    "Gehen wir davon aus, dass die Daten des `students` Datensatzes eine gute Annäherung an die Grundgesamtheit darstellen. Dann können wir visuell überprüfen, ob sich die Standardabweichungen der beiden Grundgesamtheiten tatsächlich voneinander unterscheiden, indem wir ein Boxplot aufzeichnen."
   ]
  },
  {
   "cell_type": "code",
   "execution_count": 6,
   "id": "9b927ee9-b398-4665-8c74-72425664ad83",
   "metadata": {},
   "outputs": [
    {
     "data": {
      "text/plain": [
       "{'whiskers': [<matplotlib.lines.Line2D at 0x182c5604790>,\n",
       "  <matplotlib.lines.Line2D at 0x182c5604a60>],\n",
       " 'caps': [<matplotlib.lines.Line2D at 0x182c5604d30>,\n",
       "  <matplotlib.lines.Line2D at 0x182c5605000>],\n",
       " 'boxes': [<matplotlib.lines.Line2D at 0x182c56044c0>],\n",
       " 'medians': [<matplotlib.lines.Line2D at 0x182c56052d0>],\n",
       " 'fliers': [<matplotlib.lines.Line2D at 0x182c56055a0>],\n",
       " 'means': []}"
      ]
     },
     "execution_count": 6,
     "metadata": {},
     "output_type": "execute_result"
    },
    {
     "data": {
      "image/png": "[encoded data removed]",
      "text/plain": [
       "<Figure size 432x288 with 2 Axes>"
      ]
     },
     "metadata": {
      "needs_background": "light"
     },
     "output_type": "display_data"
    }
   ],
   "source": [
    "fig1, (ax1,ax2) = plt.subplots(2, sharex= 'all')\n",
    "\n",
    "ax1.set_title('Stichprobendaten')\n",
    "ax2.boxplot(subset_PS['salary'], vert = False)\n",
    "ax1.boxplot(subset_SS['salary'], vert = False)"
   ]
  },
  {
   "cell_type": "markdown",
   "id": "6c727016-2aac-4318-b726-d9b4b5551fd7",
   "metadata": {},
   "source": [
    "Auf der Grundlage des grafischen Auswertungsansatzes kommen wir zu dem Schluss, dass die Daten annähernd normalverteilt sind und dass die Standardabweichungen voneinander abweichen."
   ]
  },
  {
   "cell_type": "markdown",
   "id": "e24a4546-1f8c-4320-b464-1ca7ecfec49d",
   "metadata": {},
   "source": [
    "### Überprüfung der Hypothesen"
   ]
  },
  {
   "cell_type": "markdown",
   "id": "52fdc3ff-749e-4754-a07b-b5ae73ba9d40",
   "metadata": {},
   "source": [
    "Erinnern Sie sich an die Forschungsfrage. **Lassen die Daten den Schluss zu, dass sich das mittlere Jahresgehalt von Absolventinnen mit einem Hauptfach in Politikwissenschaft vom mittleren Jahresgehalt von Absolventinnen mit einem Hauptfach in Sozialwissenschaften unterscheidet?**\n",
    "\n",
    "Um den nicht zusammengefassten $t$-Test durchzuführen, folgen wir dem schrittweisen Durchführungsverfahren für Hypothesentests."
   ]
  },
  {
   "cell_type": "markdown",
   "id": "de56f6cb-bbdd-4869-85f9-6dce533cf7b8",
   "metadata": {},
   "source": [
    "**Schritt 1 : Geben Sie die Nullhypothese $H_0$ und alternative Hypothese $H_A$ an**"
   ]
  },
  {
   "cell_type": "markdown",
   "id": "08512988-acd6-4dc7-93bd-7ee096478f3c",
   "metadata": {},
   "source": [
    "Die Nullhypothese besagt, dass das durchschnittliche Jahresgehalt von Absolventinnen mit dem Hauptfach Politikwissenschaft ($\\mu_1$) gleich dem durchschnittlichen Jahresgehalt von Absolventinnen mit dem Hauptfach Sozialwissenschaften ($\\mu_2$) ist."
   ]
  },
  {
   "cell_type": "markdown",
   "id": "7386e80e-5969-46eb-b959-229442f1158d",
   "metadata": {},
   "source": [
    "$$H_0: \\quad \\mu_1 = \\mu_2$$"
   ]
  },
  {
   "cell_type": "markdown",
   "id": "c7f258aa-2210-46b5-b13f-1b13e7bea80c",
   "metadata": {},
   "source": [
    "**Alternative Hypothese**"
   ]
  },
  {
   "cell_type": "markdown",
   "id": "63968370-d082-48b0-8ac3-ac3c56ebfbed",
   "metadata": {},
   "source": [
    "$$H_A: \\quad \\mu_1 \\ne \\mu_2$$"
   ]
  },
  {
   "cell_type": "markdown",
   "id": "4a2e2d00-ebe2-44de-ba0c-50955825e8dd",
   "metadata": {},
   "source": [
    "Diese Formulierung führt zu einem zweiseitigen Hypothesentest."
   ]
  },
  {
   "cell_type": "markdown",
   "id": "266a8f76-f113-4dd8-8bc4-0d74b6dc403c",
   "metadata": {},
   "source": [
    "**Schritt 2: Legen Sie das Signifikanzniveau,$\\alpha$ fest**"
   ]
  },
  {
   "cell_type": "markdown",
   "id": "74659ac0-21a3-4d67-9f48-c6e37b23765e",
   "metadata": {},
   "source": [
    "$$\\alpha = 0.05$$"
   ]
  },
  {
   "cell_type": "code",
   "execution_count": 7,
   "id": "9c5348e5-a42c-4eff-8da3-3de811c2069f",
   "metadata": {},
   "outputs": [],
   "source": [
    "alpha = 0.05"
   ]
  },
  {
   "cell_type": "markdown",
   "id": "72dfb730-fb15-4516-8da3-a758429b03b7",
   "metadata": {},
   "source": [
    "**Schritt 3 und 4: Berechnen Sie den Wert der Teststatistik und den $p$-Wert**"
   ]
  },
  {
   "cell_type": "markdown",
   "id": "daaa6e5c-79cb-4d07-9391-f422f702bf28",
   "metadata": {},
   "source": [
    "Zur Veranschaulichung berechnen wir die Teststatistik manuell in Python. Wir erinnern uns an die Gleichungen für die Teststatistik von oben."
   ]
  },
  {
   "cell_type": "code",
   "execution_count": 8,
   "id": "2f4712a4-8614-4660-a098-ad48b7c19734",
   "metadata": {},
   "outputs": [
    {
     "data": {
      "text/plain": [
       "3.0544555468902663"
      ]
     },
     "execution_count": 8,
     "metadata": {},
     "output_type": "execute_result"
    }
   ],
   "source": [
    "# Compute the value of the test statistic\n",
    "n1 = len(PS)\n",
    "n2 = len(SS)\n",
    "s1 = np.std(PS,ddof=1)\n",
    "s2 = np.std(SS,ddof=1)\n",
    "x1_bar = np.mean(PS)\n",
    "x2_bar = np.mean(SS)\n",
    "\n",
    "tw = (x1_bar-x2_bar)/(np.sqrt(s1**2/n1+s2**2/n2))\n",
    "tw"
   ]
  },
  {
   "cell_type": "markdown",
   "id": "19266c56-9dfe-4799-aacb-a1b46533917d",
   "metadata": {},
   "source": [
    "Der numerische Wert der Teststatistik ist $3,05445554689$.\n",
    "\n",
    "Um den $p$-Wert zu berechnen, wenden wir die Funktion `t.cdf()` an. Erinnern Sie sich daran, wie man die Freiheitsgrade berechnet."
   ]
  },
  {
   "cell_type": "markdown",
   "id": "eb771c4b-7303-4058-9795-f08febc3a1f4",
   "metadata": {},
   "source": [
    "$$df=\\frac{\\left(\\frac{s_1^2}{n_1}+\\frac{s_1^2}{n_2}\\right)^2}{\\frac{\\left(\\frac{s_1^2}{n_1}\\right)^2}{n_1-1}+\\frac{\\left(\\frac{s_2^2}{n_2}\\right)^2}{n_2-1}}\\text{,}$$"
   ]
  },
  {
   "cell_type": "code",
   "execution_count": 9,
   "id": "7233656a-8e06-4b9f-bcb4-4990e9805b37",
   "metadata": {},
   "outputs": [
    {
     "data": {
      "text/plain": [
       "81.31177848416957"
      ]
     },
     "execution_count": 9,
     "metadata": {},
     "output_type": "execute_result"
    }
   ],
   "source": [
    "# Compute df\n",
    "df_numerator = (s1**2/n1 + s2**2/n2)**2\n",
    "df_denominator = (s1**2/n1)**2/(n1-1) + (s2**2/n2)**2/(n2-1)\n",
    "df = df_numerator/df_denominator \n",
    "df"
   ]
  },
  {
   "cell_type": "code",
   "execution_count": 10,
   "id": "6a67e4ea-3ff8-4581-a9ba-838e76f3ae71",
   "metadata": {},
   "outputs": [
    {
     "data": {
      "text/plain": [
       "0.00304798706344924"
      ]
     },
     "execution_count": 10,
     "metadata": {},
     "output_type": "execute_result"
    }
   ],
   "source": [
    "# Compute the p-value\n",
    "# recall we are applying a two-sided test\n",
    "upper = 1-t.cdf(abs(tw), df = df)\n",
    "lower = t.cdf(-abs(tw), df = df)\n",
    "p = upper + lower\n",
    "p"
   ]
  },
  {
   "cell_type": "markdown",
   "id": "cb26804b-112a-431a-9e3d-ec271847df85",
   "metadata": {},
   "source": [
    "**Schritt 5: Wenn $p \\le \\alpha , H_0$ ablehnen; ansonsten $H_0$ nicht ablehnen**"
   ]
  },
  {
   "cell_type": "code",
   "execution_count": 11,
   "id": "57941588-b6e5-424d-967d-d8b7118b11da",
   "metadata": {},
   "outputs": [
    {
     "data": {
      "text/plain": [
       "True"
      ]
     },
     "execution_count": 11,
     "metadata": {},
     "output_type": "execute_result"
    }
   ],
   "source": [
    "p <= alpha"
   ]
  },
  {
   "cell_type": "markdown",
   "id": "a70ec40d-29ec-455f-86a6-79f42439dcba",
   "metadata": {},
   "source": [
    "Der $p$-Wert ist kleiner als das angegebene Signifikanzniveau von $0,05$; wir verwerfen $H_0$. Die Testergebnisse sind statistisch signifikant auf dem $5 \\%$-Niveau und liefern einen sehr starken Beweis gegen die Nullhypothese."
   ]
  },
  {
   "cell_type": "markdown",
   "id": "cbe3299d-3786-4c90-8b6b-26db28aef42b",
   "metadata": {},
   "source": [
    "**Schritt 6: Interpretieren Sie das Ergebnis des Hypothesentests**"
   ]
  },
  {
   "cell_type": "markdown",
   "id": "7b617f37-b77e-4327-bb1d-4b429d456e89",
   "metadata": {},
   "source": [
    "$p=0,003047987$. Bei einem Signifikanzniveau von $5 \\%$ lassen die Daten den Schluss zu, dass sich das durchschnittliche Jahresgehalt von Absolventinnen der Politikwissenschaft vom durchschnittlichen Jahresgehalt von Absolventinnen der Sozialwissenschaften unterscheidet."
   ]
  },
  {
   "cell_type": "markdown",
   "id": "8caa365f-056b-44fb-90d6-94b71d45d379",
   "metadata": {},
   "source": [
    "### Hypothesentests in Python"
   ]
  },
  {
   "cell_type": "markdown",
   "id": "0ebf6e7e-d66f-4148-bedf-26359c803e7d",
   "metadata": {},
   "source": [
    "Wir haben gerade einen nicht zusammengefassten $t$-Test in Python manuell durchgeführt. Jetzt nutzen wir die volle Leistung  von Python, um das gleiche Ergebnis wie oben mit nur einer Zeile Code zu erhalten!\n",
    "\n",
    "Um einen nicht zusammengefassten $t$-Test in Python durchzuführen, verwenden wir die Funktion `ttest_ind()`. Wir geben zwei Vektoren als Dateneingabe an und setzen `equal_var = False`, um explizit anzugeben, dass wir die nicht zusammengefasste Version des $t$-Tests anwenden. Das Argument `alternative` muss nicht gesetzt werden, da der Standardwert unserer Alternativhypothese entspricht $H_A: \\; \\mu_1 \\ne \\mu_2$"
   ]
  },
  {
   "cell_type": "code",
   "execution_count": 12,
   "id": "030d0bc9-712d-494a-b1ff-a6488e7b3e23",
   "metadata": {},
   "outputs": [
    {
     "data": {
      "text/plain": [
       "Ttest_indResult(statistic=3.0544555468902663, pvalue=0.0030479870634492604)"
      ]
     },
     "execution_count": 12,
     "metadata": {},
     "output_type": "execute_result"
    }
   ],
   "source": [
    "stats.ttest_ind(PS, SS, equal_var=False)"
   ]
  },
  {
   "cell_type": "markdown",
   "id": "f77760dc-8f60-4465-b475-504c28340e9e",
   "metadata": {},
   "source": [
    "Stark! Vergleichen Sie die Ausgabe der Funktion `ttest_ind()` mit unserem Ergebnis von oben. Sie stimmen perfekt überein! Auch hier können wir schlussfolgern, dass die Daten bei einem Signifikanzniveau von $5 \\%$ einen sehr starken Hinweis darauf liefern, dass sich das durchschnittliche Jahresgehalt von Absolventinnen der Politikwissenschaft vom durchschnittlichen Jahresgehalt von Absolventinnen der Sozialwissenschaften unterscheidet."
   ]
  }
 ],
 "metadata": {
  "kernelspec": {
   "display_name": "Python 3 (ipykernel)",
   "language": "python",
   "name": "python3"
  },
  "language_info": {
   "codemirror_mode": {
    "name": "ipython",
    "version": 3
   },
   "file_extension": ".py",
   "mimetype": "text/x-python",
   "name": "python",
   "nbconvert_exporter": "python",
   "pygments_lexer": "ipython3",
   "version": "3.10.2"
  }
 },
 "nbformat": 4,
 "nbformat_minor": 5
}
