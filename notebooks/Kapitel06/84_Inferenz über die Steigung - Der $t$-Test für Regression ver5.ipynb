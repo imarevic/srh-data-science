{
 "cells": [
  {
   "cell_type": "markdown",
   "id": "676fb2a3-d0f2-4d01-b7b2-ca8326369023",
   "metadata": {},
   "source": [
    "## Inferenz über die Steigung - Der $t$-Test des Regressionskoeffizienten\n",
    "----------------------------------------"
   ]
  },
  {
   "cell_type": "code",
   "execution_count": 36,
   "id": "02c54f95-bf0d-4186-a1d2-9691d5515a22",
   "metadata": {},
   "outputs": [
    {
     "name": "stdout",
     "output_type": "stream",
     "text": [
      "\n",
      "---------------------------------\n",
      "Working on the host: LAPTOP-9LETB4SJ\n",
      "\n",
      "---------------------------------\n",
      "Python version: 3.10.2 | packaged by conda-forge | (main, Mar  8 2022, 15:52:24) [MSC v.1929 64 bit (AMD64)]\n",
      "\n",
      "---------------------------------\n",
      "Python interpreter: C:\\Users\\zak\\anaconda3\\envs\\srh\\python.exe\n"
     ]
    }
   ],
   "source": [
    "import matplotlib.pyplot as plt\n",
    "import numpy as np\n",
    "import pandas as pd\n",
    "from random import sample\n",
    "from scipy.stats import t\n",
    "import scipy.stats\n",
    "import statsmodels.api as smi\n",
    "\n",
    "\n",
    "%run ../src/notebook_env.py"
   ]
  },
  {
   "cell_type": "markdown",
   "id": "8f2ce721-3a68-464e-a9c5-2cbb59cacd6c",
   "metadata": {},
   "source": [
    "Der **$t$-Test des Regressionskoeffizienten** wird angewendet, um zu prüfen, ob die Steigung $\\beta_1$ der Regressionslinie der Grundgesamtheit gleich $0$ ist. Auf der Grundlage dieses Tests können wir entscheiden, ob $x$ ein nützlicher (linearer) Vorhersagewert für $y$ ist.\n",
    "\n",
    "Die Teststatistik folgt einer $t$-Verteilung mit $df=n-2$ und kann geschrieben werden als"
   ]
  },
  {
   "cell_type": "markdown",
   "id": "59804536-4209-46fc-86dd-5324d5dd57c5",
   "metadata": {},
   "source": [
    "$$t =\\frac{\\beta_1}{s_b}= \\frac{\\beta_1}{s_e/\\sqrt{\\sum(x- \\bar x)^2}}\\text{,}$$"
   ]
  },
  {
   "cell_type": "markdown",
   "id": "b08c2c89-5d48-49d5-a79d-48b12239f25a",
   "metadata": {},
   "source": [
    "wobei $\\beta_1$ dem Stichprobenregressionskoeffizienten und $s_e$ dem **Reststandardfehler** entspricht $(s_e=\\sqrt{\\frac{SSE}{n-2}}$ und $SSE = \\sum_{i=1}^n e_i^2)$"
   ]
  },
  {
   "cell_type": "markdown",
   "id": "be822ef9-208e-403a-9ca2-0f91d837b549",
   "metadata": {},
   "source": [
    "### Intervall-Schätzung von $\\beta_1$"
   ]
  },
  {
   "cell_type": "markdown",
   "id": "4b7064a3-89b3-49fa-8f27-67be7d6c851e",
   "metadata": {},
   "source": [
    "Das $100(1-\\alpha)\\%$-Konfidenzintervall für $\\beta_1$ ist gegeben durch"
   ]
  },
  {
   "cell_type": "markdown",
   "id": "60062998-39d9-440e-81af-2aeace0c3a76",
   "metadata": {},
   "source": [
    "$$\\beta_1 \\pm t_{\\alpha/2} \\times  \\frac{s_e}{\\sqrt{\\sum(x- \\bar x)^2}}\\text{,}$$"
   ]
  },
  {
   "cell_type": "markdown",
   "id": "6daf4b13-585f-4d59-a9e6-adf8ead5fd26",
   "metadata": {},
   "source": [
    "wobei $s_e$ dem **Reststandardfehler** (auch als **Standardfehler der Schätzung** bezeichnet) entspricht.\n",
    "\n",
    "Der Wert von $t$ ergibt sich aus der $t$-Verteilung für das gegebene Konfidenzniveau und $n-2$ Freiheitsgrade."
   ]
  },
  {
   "cell_type": "markdown",
   "id": "2aa04f7e-6254-46cb-a568-1c4e81dc6118",
   "metadata": {},
   "source": [
    "### Der Regressions-$t$-Test: Ein Beispiel"
   ]
  },
  {
   "cell_type": "markdown",
   "id": "aff333f7-0add-4fe6-8a44-e1a00c666fba",
   "metadata": {},
   "source": [
    "Um praktische Erfahrungen zu sammeln, wenden wir den **Regressions-$t$-Test** in einer Übung an. Dazu laden wir den `students` Datensatz. Sie können die Datei `students.csv` <a href=\"https://userpage.fu-berlin.de/soga/200/2010_data_sets/students.csv\">hier</a> herunterladen. Importieren Sie den Datensatz und geben Sie ihm einen passenden Namen."
   ]
  },
  {
   "cell_type": "code",
   "execution_count": 37,
   "id": "e2f78cd7-a6b8-4ba9-9a0d-38dfaa4d47bb",
   "metadata": {},
   "outputs": [],
   "source": [
    "# Lese Datei students.csv als Dataframe ein; Indexspalte wird übersprungen\n",
    "students = pd.read_csv('students.csv', index_col=0)"
   ]
  },
  {
   "cell_type": "markdown",
   "id": "08a39413-d8ba-4d4a-b66d-663caab94ca9",
   "metadata": {},
   "source": [
    "Der `students` Datensatz besteht aus 8239 Zeilen, von denen jede einen bestimmten Studenten repräsentiert, und 16 Spalten, von denen jede einer Variable/einem Merkmal entspricht, das sich auf diesen bestimmten Studenten bezieht. Diese selbsterklärenden Variablen sind: stud.id, name, gender, age, height, weight, religion, nc.score, semester, major, minor, score1, score2, online.tutorial, graduated, salary."
   ]
  },
  {
   "cell_type": "markdown",
   "id": "648c35a9-9d53-4a5e-b2a1-3e21bdf07c73",
   "metadata": {},
   "source": [
    "Um den Regressions-$t$-Test zu veranschaulichen, untersuchen wir die Beziehung zwischen zwei Variablen, der Körpergröße der Studenten als Vorhersagevariable und dem Gewicht der Studenten als Antwortvariable. **Die Frage ist, ob die Vorhersagevariable `height` nützlich ist, um Vorhersagen über das Gewicht der Studierenden zu treffen.**"
   ]
  },
  {
   "cell_type": "markdown",
   "id": "a0223ec2-13ee-47ba-a320-9e1287d1505b",
   "metadata": {},
   "source": [
    "### Vorbereitung der Daten"
   ]
  },
  {
   "cell_type": "markdown",
   "id": "c7f2edf9-a118-41cc-878b-ee6660c69c03",
   "metadata": {},
   "source": [
    "Zur Datenaufbereitung ziehen wir eine Zufallsstichprobe von $12$ Studenten aus dem Datensatz und erstellen einen `dataframe` mit den zwei Variablen von Interesse (`height` und `weight`). Außerdem stellen wir die Daten in Form eines Streudiagramms dar, um die zugrunde liegende lineare Beziehung zwischen den beiden Variablen zu visualisieren."
   ]
  },
  {
   "cell_type": "code",
   "execution_count": 38,
   "id": "c30545dc-5579-4991-b97e-2f09155018e2",
   "metadata": {},
   "outputs": [
    {
     "data": {
      "text/html": [
       "<div>\n",
       "<style scoped>\n",
       "    .dataframe tbody tr th:only-of-type {\n",
       "        vertical-align: middle;\n",
       "    }\n",
       "\n",
       "    .dataframe tbody tr th {\n",
       "        vertical-align: top;\n",
       "    }\n",
       "\n",
       "    .dataframe thead th {\n",
       "        text-align: right;\n",
       "    }\n",
       "</style>\n",
       "<table border=\"1\" class=\"dataframe\">\n",
       "  <thead>\n",
       "    <tr style=\"text-align: right;\">\n",
       "      <th></th>\n",
       "      <th>height</th>\n",
       "      <th>weight</th>\n",
       "    </tr>\n",
       "  </thead>\n",
       "  <tbody>\n",
       "    <tr>\n",
       "      <th>3594</th>\n",
       "      <td>169</td>\n",
       "      <td>71.7</td>\n",
       "    </tr>\n",
       "    <tr>\n",
       "      <th>4152</th>\n",
       "      <td>181</td>\n",
       "      <td>81.0</td>\n",
       "    </tr>\n",
       "    <tr>\n",
       "      <th>7136</th>\n",
       "      <td>148</td>\n",
       "      <td>57.8</td>\n",
       "    </tr>\n",
       "    <tr>\n",
       "      <th>5100</th>\n",
       "      <td>173</td>\n",
       "      <td>72.1</td>\n",
       "    </tr>\n",
       "    <tr>\n",
       "      <th>339</th>\n",
       "      <td>168</td>\n",
       "      <td>70.7</td>\n",
       "    </tr>\n",
       "    <tr>\n",
       "      <th>4433</th>\n",
       "      <td>159</td>\n",
       "      <td>66.1</td>\n",
       "    </tr>\n",
       "    <tr>\n",
       "      <th>2767</th>\n",
       "      <td>169</td>\n",
       "      <td>69.5</td>\n",
       "    </tr>\n",
       "    <tr>\n",
       "      <th>2727</th>\n",
       "      <td>159</td>\n",
       "      <td>62.5</td>\n",
       "    </tr>\n",
       "    <tr>\n",
       "      <th>7099</th>\n",
       "      <td>173</td>\n",
       "      <td>70.7</td>\n",
       "    </tr>\n",
       "    <tr>\n",
       "      <th>2388</th>\n",
       "      <td>164</td>\n",
       "      <td>68.5</td>\n",
       "    </tr>\n",
       "    <tr>\n",
       "      <th>2124</th>\n",
       "      <td>171</td>\n",
       "      <td>70.8</td>\n",
       "    </tr>\n",
       "    <tr>\n",
       "      <th>8170</th>\n",
       "      <td>160</td>\n",
       "      <td>62.9</td>\n",
       "    </tr>\n",
       "  </tbody>\n",
       "</table>\n",
       "</div>"
      ],
      "text/plain": [
       "      height  weight\n",
       "3594     169    71.7\n",
       "4152     181    81.0\n",
       "7136     148    57.8\n",
       "5100     173    72.1\n",
       "339      168    70.7\n",
       "4433     159    66.1\n",
       "2767     169    69.5\n",
       "2727     159    62.5\n",
       "7099     173    70.7\n",
       "2388     164    68.5\n",
       "2124     171    70.8\n",
       "8170     160    62.9"
      ]
     },
     "execution_count": 38,
     "metadata": {},
     "output_type": "execute_result"
    }
   ],
   "source": [
    "# Nehme Stichprobe\n",
    "n=12\n",
    "sample_idx = students.sample(n, random_state=2)\n",
    "data= pd.DataFrame(sample_idx['height'])\n",
    "data['weight'] = sample_idx['weight']\n",
    "data"
   ]
  },
  {
   "cell_type": "code",
   "execution_count": 39,
   "id": "97500f6b-7a0a-48e8-80fb-cc155bfc7c99",
   "metadata": {},
   "outputs": [
    {
     "data": {
      "image/png": "[encoded data removed]",
      "text/plain": [
       "<Figure size 1152x720 with 1 Axes>"
      ]
     },
     "metadata": {
      "needs_background": "light"
     },
     "output_type": "display_data"
    }
   ],
   "source": [
    "# Erzeuge Streudiagramm\n",
    "fig = plt.figure()\n",
    "plt.scatter(data['height'],data['weight'],color = 'white', edgecolor = 'k')\n",
    "plt.show()"
   ]
  },
  {
   "cell_type": "markdown",
   "id": "c54f3bbc-3263-48f0-b2f9-09f4cc1fb537",
   "metadata": {},
   "source": [
    "Die visuelle Inspektion bestätigt unsere Vermutung, dass die Beziehung zwischen der Größe und der Gewichtsvariable ungefähr linear ist. Mit anderen Worten: Mit zunehmender Größe neigt der einzelne Student dazu, ein höheres Gewicht zu haben."
   ]
  },
  {
   "cell_type": "markdown",
   "id": "633a9dca-4444-4559-b886-1a79652fab04",
   "metadata": {},
   "source": [
    "### Überprüfung der Hypothesen"
   ]
  },
  {
   "cell_type": "markdown",
   "id": "65e7b012-fba0-4b61-88c5-90ab3fc00f08",
   "metadata": {},
   "source": [
    "Zur Durchführung des **Regressions-$t$-Tests** folgen wir dem schrittweisen Durchführungsverfahren für Hypothesentests. Der **Regressions-$t$-Test** folgt demselben schrittweisen Verfahren wie in den vorangegangenen Abschnitten beschrieben."
   ]
  },
  {
   "cell_type": "markdown",
   "id": "fcc3973b-758c-414e-8096-6ddb7363450c",
   "metadata": {},
   "source": [
    "$$\n",
    "\\begin{array}{l}\n",
    "\\hline\n",
    "\\ \\text{Schritt 1}  & \\text{Geben Sie die Nullhypothese } H_0 \\text{ und alternative Hypothese } H_A \\text{ an.}\\\\\n",
    "\\ \\text{Schritt 2}  & \\text{Legen Sie das Signifikanzniveau, } \\alpha\\text{ fest.} \\\\\n",
    "\\ \\text{Schritt 3}  & \\text{Berechnen Sie den Wert der Teststatistik.} \\\\\n",
    "\\ \\text{Schritt 4} &\\text{Bestimmen Sie den p-Wert.} \\\\\n",
    "\\ \\text{Schritt 5} & \\text{Wenn }p\\le \\alpha \\text{, } H_0 \\text{ ablehnen } \\text{; ansonsten } H_0 \\text{ nicht ablehnen} \\text{.} \\\\\n",
    "\\ \\text{Schritt 6} &\\text{Interpretieren Sie das Ergebnis des Hypothesentests.} \\\\\n",
    "\\hline \n",
    "\\end{array}\n",
    "$$"
   ]
  },
  {
   "cell_type": "markdown",
   "id": "9029136b-5118-46b3-a918-1dcf6e34eaa0",
   "metadata": {},
   "source": [
    "**Schritt 1 : Geben Sie die Nullhypothese $H_0$ und alternative Hypothese $H_A$ an**"
   ]
  },
  {
   "cell_type": "markdown",
   "id": "a591ff9a-d274-411b-a074-c6cbe8a7be2b",
   "metadata": {},
   "source": [
    "Die Nullhypothese besagt, dass es keinen linearen Zusammenhang zwischen der Größe und dem Gewicht der Personen im Datensatz der Studierenden gibt."
   ]
  },
  {
   "cell_type": "markdown",
   "id": "e8c74c45-5bf2-42ff-8b29-71e0a1fa8c81",
   "metadata": {},
   "source": [
    "$$H_0: \\beta_1=0\\text{ (die Vorhersagevariable ist für die Erstellung von Vorhersagen nicht geeignet)}$$"
   ]
  },
  {
   "cell_type": "markdown",
   "id": "d8459ad0-8a3d-4638-ab51-56b896797d9f",
   "metadata": {},
   "source": [
    "**Alternative Hypothese**"
   ]
  },
  {
   "cell_type": "markdown",
   "id": "4b32ccbc-6692-4817-b839-f2b1f869c695",
   "metadata": {},
   "source": [
    "$$H_A: \\beta_1\\ne0\\text{ (die Vorhersagevariable ist für die Erstellung von Vorhersagen geeignet)}$$"
   ]
  },
  {
   "cell_type": "markdown",
   "id": "767e9c73-018e-438b-951b-dd676bf8374b",
   "metadata": {},
   "source": [
    "**Schritt 2: Legen Sie das Signifikanzniveau,$\\alpha$ fest**"
   ]
  },
  {
   "cell_type": "markdown",
   "id": "91612d88-ca29-4059-91d8-5ff6e67ad619",
   "metadata": {},
   "source": [
    "$$\\alpha = 0,01$$"
   ]
  },
  {
   "cell_type": "code",
   "execution_count": 40,
   "id": "03b15838-c5ea-44bb-a8da-521e182e744a",
   "metadata": {},
   "outputs": [],
   "source": [
    "alpha = 0.01"
   ]
  },
  {
   "cell_type": "markdown",
   "id": "1f71771a-5e51-4018-ac52-a71345522990",
   "metadata": {},
   "source": [
    "**Schritt 3 und 4: Berechnen Sie den Wert der Teststatistik und den $p$-Wert**"
   ]
  },
  {
   "cell_type": "markdown",
   "id": "334e0b8f-94ae-47b6-9800-311df1d23e43",
   "metadata": {},
   "source": [
    "Zur Veranschaulichung berechnen wir die Teststatistik manuell in Python. Erinnern Sie sich an die obige Gleichung."
   ]
  },
  {
   "cell_type": "markdown",
   "id": "ee2db57c-1afd-4438-98a8-059ccbd385ac",
   "metadata": {},
   "source": [
    "$$t =\\frac{\\beta_1}{s_b}= \\frac{\\beta_1}{s_e/\\sqrt{\\sum(x- \\bar x)^2}}$$"
   ]
  },
  {
   "cell_type": "markdown",
   "id": "79449621-a9e0-4acc-a1f5-ffc18f45f825",
   "metadata": {},
   "source": [
    "wobei $\\beta_1 = \\frac{cov(x,y)}{var(x)}$, und"
   ]
  },
  {
   "cell_type": "markdown",
   "id": "3f3c2f30-45de-412b-9460-b97ebd3f4789",
   "metadata": {},
   "source": [
    "$$s_e = \\sqrt{\\frac{SSE}{n-2}}\\text{,}$$"
   ]
  },
  {
   "cell_type": "markdown",
   "id": "d41745af-6ac9-4d7f-8e1b-b8ea6cdc1563",
   "metadata": {},
   "source": [
    "wobei $SSE = \\sum_{i=1}^n e_i^2 = \\sum_{i=1}^n (y - \\hat y)^2$. Die Teststatistik folgt einer $t$-Verteilung mit $df=n-2$. Um $\\hat y = \\beta_0+\\beta_1x$ zu berechnen, müssen wir $\\beta_0$ kennen, das als $\\beta_0 = \\bar y -\\beta_1 \\bar x$ berechnet wird."
   ]
  },
  {
   "cell_type": "markdown",
   "id": "2ac4ee62-2370-4f24-a96b-eaea0bf417cf",
   "metadata": {},
   "source": [
    "Um nicht durch die verschiedenen Berechnungsschritte verwirrt zu werden, führen wir einen Schritt nach dem anderen durch.\n",
    "\n",
    "- Erstellen Sie das lineare Modell durch Berechnung des Achsenabschnitts ($β_0$) und des Regressionskoeffizienten ($β_1$)."
   ]
  },
  {
   "cell_type": "code",
   "execution_count": 41,
   "id": "eb696247-a0c2-4f89-9dfc-b65b6e9f0934",
   "metadata": {},
   "outputs": [
    {
     "data": {
      "text/plain": [
       "0.6507615230460922"
      ]
     },
     "execution_count": 41,
     "metadata": {},
     "output_type": "execute_result"
    }
   ],
   "source": [
    "y_bar = np.mean(data['weight'])\n",
    "x_bar = np.mean(data['height'])\n",
    "\n",
    "# Lineares Modell\n",
    "beta1 = np.cov(data['height'], data['weight']) / np.var(data['height'],ddof = 1)\n",
    "beta1[0][1]"
   ]
  },
  {
   "cell_type": "code",
   "execution_count": 42,
   "id": "acb6ac9e-7f7b-4779-a6be-1305fc3cd660",
   "metadata": {},
   "outputs": [
    {
     "data": {
      "text/plain": [
       "-39.44320641282566"
      ]
     },
     "execution_count": 42,
     "metadata": {},
     "output_type": "execute_result"
    }
   ],
   "source": [
    "beta0 = y_bar - beta1[0][1] * x_bar\n",
    "beta0"
   ]
  },
  {
   "cell_type": "markdown",
   "id": "f4fd5b48-e809-4a47-be7f-161f5f006e3a",
   "metadata": {},
   "source": [
    "Berechnen Sie die Summe der quadrierten Fehler ($SSE$) und den Reststandardfehler ($s_e$)."
   ]
  },
  {
   "cell_type": "code",
   "execution_count": 43,
   "id": "1586c969-5a3a-4a8a-88eb-0be8c31329c6",
   "metadata": {},
   "outputs": [
    {
     "data": {
      "text/plain": [
       "30.38618436873755"
      ]
     },
     "execution_count": 43,
     "metadata": {},
     "output_type": "execute_result"
    }
   ],
   "source": [
    "# Berechne SSE\n",
    "y_hat = beta0 + beta1[0][1] * data['height']\n",
    "SSE = sum((data['weight'] - y_hat)**2)\n",
    "SSE"
   ]
  },
  {
   "cell_type": "code",
   "execution_count": 44,
   "id": "e4ed6a5e-c1ce-4210-adce-4ecab764e755",
   "metadata": {},
   "outputs": [
    {
     "data": {
      "text/plain": [
       "1.743163341994592"
      ]
     },
     "execution_count": 44,
     "metadata": {},
     "output_type": "execute_result"
    }
   ],
   "source": [
    "# Berechne Reststandardfehler\n",
    "se = np.sqrt(SSE/(n-2))\n",
    "se"
   ]
  },
  {
   "cell_type": "markdown",
   "id": "d9ccf8d1-640e-4fda-8e57-21a7caadd17d",
   "metadata": {},
   "source": [
    "- Berechnen Sie den Wert der Teststatistik."
   ]
  },
  {
   "cell_type": "code",
   "execution_count": 45,
   "id": "1af29abc-d1bd-46b7-a68e-d69e2f6ffca3",
   "metadata": {},
   "outputs": [
    {
     "data": {
      "text/plain": [
       "10.766100516207496"
      ]
     },
     "execution_count": 45,
     "metadata": {},
     "output_type": "execute_result"
    }
   ],
   "source": [
    "# Berechne Teststatistik\n",
    "tw = beta1[0][1] / (se/np.sqrt(sum((data['height']-x_bar)**2)))\n",
    "tw"
   ]
  },
  {
   "cell_type": "markdown",
   "id": "608e4bc4-c18e-4ed9-9a19-d90291a683c8",
   "metadata": {},
   "source": [
    "Der numerische Wert der Teststatistik ist $\\approx 10,7661$.\n",
    "\n",
    "Um den $p$-Wert zu berechnen, wenden wir die Funktion `t.cdf()` an. Erinnern Sie sich daran, wie man die Freiheitsgrade berechnet."
   ]
  },
  {
   "cell_type": "markdown",
   "id": "b965a980-bdf1-442b-8a51-b896661bc01f",
   "metadata": {},
   "source": [
    "$$df = n - 2= 10$$"
   ]
  },
  {
   "cell_type": "code",
   "execution_count": 46,
   "id": "34f5690c-1091-4a05-b59c-d4a5f684327e",
   "metadata": {},
   "outputs": [
    {
     "data": {
      "text/plain": [
       "8.048424329265031e-07"
      ]
     },
     "execution_count": 46,
     "metadata": {},
     "output_type": "execute_result"
    }
   ],
   "source": [
    "# Berechne p-Wert\n",
    "df = len(data['height'])-2\n",
    "\n",
    "# zweiseitiger Test\n",
    "p_upper = t.sf(abs(tw), df = df)\n",
    "p_lower = t.cdf(-abs(tw), df = df)\n",
    "p = p_upper + p_lower\n",
    "p"
   ]
  },
  {
   "cell_type": "markdown",
   "id": "35698580-d922-48a2-b7b7-4588a3e133e4",
   "metadata": {},
   "source": [
    "**Schritt 5: Wenn $p \\le \\alpha , H_0$ ablehnen; ansonsten $H_0$ nicht ablehnen**"
   ]
  },
  {
   "cell_type": "code",
   "execution_count": 47,
   "id": "9cc338b7-7573-4208-b909-2ba3d8ba80aa",
   "metadata": {},
   "outputs": [
    {
     "data": {
      "text/plain": [
       "True"
      ]
     },
     "execution_count": 47,
     "metadata": {},
     "output_type": "execute_result"
    }
   ],
   "source": [
    "p <= alpha"
   ]
  },
  {
   "cell_type": "markdown",
   "id": "39cd7d0e-6760-4813-a5e7-c7709e9a2f75",
   "metadata": {},
   "source": [
    "Der $p$-Wert ist kleiner als das angegebene Signifikanzniveau von $0,01$; wir verwerfen $H_0$. Die Testergebnisse sind statistisch signifikant auf dem $1 \\%$-Niveau und liefern einen sehr starken Beweis gegen die Nullhypothese."
   ]
  },
  {
   "cell_type": "markdown",
   "id": "5be7528e-b231-4fe7-8610-b73bdad98243",
   "metadata": {},
   "source": [
    "**Schritt 6: Interpretieren Sie das Ergebnis des Hypothesentests**"
   ]
  },
  {
   "cell_type": "markdown",
   "id": "50c0516a-4994-47a4-babb-32feb7148a7d",
   "metadata": {},
   "source": [
    "$p=8,0484243 \\cdot 10^{-7}$. Bei einem Signifikanzniveau von $1 \\%$ lassen die Daten den Schluss zu, dass die Variable Größe ein guter Schätzer für das Gewicht der Studenten ist."
   ]
  },
  {
   "cell_type": "markdown",
   "id": "b12884e6-0615-44df-b98a-ae0fdeedbf12",
   "metadata": {},
   "source": [
    "### Hypothesentests in Python"
   ]
  },
  {
   "cell_type": "markdown",
   "id": "ca562f95-bead-4597-b693-c1302995ea5c",
   "metadata": {},
   "source": [
    "Wir haben gerade einen **Regressions-$t$-Test** in Python manuell berechnet. Das ist in Ordnung, aber wir können dasselbe in Python mit nur ein paar Zeilen Code tun!\n",
    "\n",
    "Daher müssen wir die Funktion `linregress()` auf unsere Antwortvariable `weight` und unsere Vorhersagevariable `height` anwenden."
   ]
  },
  {
   "cell_type": "code",
   "execution_count": 48,
   "id": "ade015a4-122a-451f-a3c9-b6f4011b8cc2",
   "metadata": {},
   "outputs": [
    {
     "name": "stdout",
     "output_type": "stream",
     "text": [
      "p-value 8.048424329264974e-07\n"
     ]
    }
   ],
   "source": [
    "gradient,  intercept, r_value, p_value, stderr = stats.linregress(data['height'],data['weight'])\n",
    "print(\"p-value\", p_value)"
   ]
  },
  {
   "cell_type": "markdown",
   "id": "426f045d-1318-4d07-969a-95eb49a6c597",
   "metadata": {},
   "source": [
    "Für den Vergleich mit den manuell berechneten Werten extrahieren wir den Achsenabschnitt $\\beta_0$ und die Steigung $\\beta_1$"
   ]
  },
  {
   "cell_type": "code",
   "execution_count": 49,
   "id": "6989a16a-2b26-45dd-8d11-efa9a8e9ba89",
   "metadata": {},
   "outputs": [
    {
     "name": "stdout",
     "output_type": "stream",
     "text": [
      "Achsenabschnitt  -39.44320641282566\n",
      "Steigung  0.6507615230460922\n"
     ]
    }
   ],
   "source": [
    "print('Achsenabschnitt ', intercept)\n",
    "print('Steigung ',gradient)"
   ]
  },
  {
   "cell_type": "markdown",
   "id": "756ef367-bd7c-4392-843a-d3173922bddb",
   "metadata": {},
   "source": [
    "Vergleichen Sie die Ausgabe mit unseren Ergebnissen von oben. Sie passen perfekt!"
   ]
  },
  {
   "cell_type": "code",
   "execution_count": null,
   "id": "4ec7ccf2-b478-4d96-86c9-3911a4be1c4b",
   "metadata": {},
   "outputs": [],
   "source": []
  }
 ],
 "metadata": {
  "kernelspec": {
   "display_name": "Python 3 (ipykernel)",
   "language": "python",
   "name": "python3"
  },
  "language_info": {
   "codemirror_mode": {
    "name": "ipython",
    "version": 3
   },
   "file_extension": ".py",
   "mimetype": "text/x-python",
   "name": "python",
   "nbconvert_exporter": "python",
   "pygments_lexer": "ipython3",
   "version": "3.10.2"
  }
 },
 "nbformat": 4,
 "nbformat_minor": 5
}
