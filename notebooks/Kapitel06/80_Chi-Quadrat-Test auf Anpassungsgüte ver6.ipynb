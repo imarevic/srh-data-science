{
 "cells": [
  {
   "cell_type": "markdown",
   "id": "e47cdc58-400d-4bfc-9ead-7a3fec512daf",
   "metadata": {},
   "source": [
    "## Chi-Quadrat-Test auf Anpassungsgüte\n",
    "----------------------------------------"
   ]
  },
  {
   "cell_type": "code",
   "execution_count": 93,
   "id": "6bc8cce7-f699-478a-b233-ca9469107272",
   "metadata": {},
   "outputs": [
    {
     "name": "stdout",
     "output_type": "stream",
     "text": [
      "\n",
      "---------------------------------\n",
      "Working on the host: LAPTOP-9LETB4SJ\n",
      "\n",
      "---------------------------------\n",
      "Python version: 3.10.2 | packaged by conda-forge | (main, Mar  8 2022, 15:52:24) [MSC v.1929 64 bit (AMD64)]\n",
      "\n",
      "---------------------------------\n",
      "Python interpreter: C:\\Users\\zak\\anaconda3\\envs\\srh\\python.exe\n"
     ]
    }
   ],
   "source": [
    "import matplotlib.pyplot as plt\n",
    "import numpy as np\n",
    "import pandas as pd\n",
    "from random import sample\n",
    "from scipy.stats import t\n",
    "from scipy.stats import chi2\n",
    "from scipy import stats\n",
    "import scipy.stats\n",
    "import statsmodels.api as smi\n",
    "import pylab\n",
    "\n",
    "%run ../src/notebook_env.py"
   ]
  },
  {
   "cell_type": "markdown",
   "id": "65b1cc1a-5f72-4bc0-a6aa-54b9fa6467e7",
   "metadata": {},
   "source": [
    "Der **$\\chi^2$ Anpassungsgütetest** wird angewandt, um Hypothesentests über die Verteilung einer qualitativen (kategorialen) Variable oder einer diskreten quantitativen Variable, die nur endlich viele mögliche Werte hat, durchzuführen.\n",
    "\n",
    "Die grundlegende Logik des χ2 Anpassungsgütetests besteht darin, die Häufigkeiten von zwei Variablen zu vergleichen. Wir vergleichen die **beobachteten Häufigkeiten** einer Stichprobe mit den **erwarteten Häufigkeiten**.\n",
    "\n",
    "Betrachten wir ein einfaches Beispiel:\n",
    "\n",
    "Am $22$. September $2013$ fand in Deutschland die <a href=\"https://en.wikipedia.org/wiki/2013_German_federal_election\">Bundestagswahl $2013$</a> statt. Mehr als $44$ Millionen Menschen gingen zur Wahl. $41,5 \\%$ der deutschen Wähler entschieden sich für die Christlich Demokratische Union (CDU) und $25,7 \\%$ für die Sozialdemokratische Partei (SPD). Der Einfachheit halber fassen wir den verbleibenden Prozentsatz der Stimmen ($32,8 \\%$) als Sonstige zusammen.\n",
    "\n",
    "Auf der Grundlage dieser Daten können wir eine Häufigkeitstabelle erstellen."
   ]
  },
  {
   "cell_type": "markdown",
   "id": "c7d31b37-534f-43c6-80f4-9ce4997f5228",
   "metadata": {},
   "source": [
    "\\begin{array}{|l|c|}\n",
    "\\hline\n",
    "\\ \\text{Partei}  & \\text{Prozent} & \\text{relative Häufigkeit}\\\\\n",
    "\\hline\n",
    "\\ \\text{CDU}  & 41.5 & 0.415 \\\\\n",
    "\\ \\text{SPD}  & 25.7 & 0.257 \\\\\n",
    "\\ \\text{Others} & 32.8 & 0.328 \\\\\n",
    "\\hline \n",
    "\\  & 100 & 1 \\\\\n",
    "\\hline \n",
    "\\end{array}"
   ]
  },
  {
   "cell_type": "markdown",
   "id": "3d9c3d4d-b3b3-4eda-8eae-cbe114a03a97",
   "metadata": {},
   "source": [
    "Die dritte Spalte der obigen Tabelle entspricht den **relativen Häufigkeiten** in der deutschen Bevölkerung/Wählerschaft. Für diese Übung nehmen wir eine Zufallsstichprobe. Wir befragen 123 Studierende der FU Berlin nach ihrer Parteizugehörigkeit und halten die folgenden Antworten fest."
   ]
  },
  {
   "cell_type": "markdown",
   "id": "24cf688b-7767-4f9f-84e3-1951630b3020",
   "metadata": {},
   "source": [
    "#####   \"SPD\"    \"CDU\"    \"Others\" \"CDU\"    \"CDU\"    \"CDU\"    \"CDU\"   \n",
    "#####   \"CDU\"    \"CDU\"    \"SPD\"    \"CDU\"    \"Others\" \"SPD\"    \"CDU\"   \n",
    "#####   \"SPD\"    \"Others\" \"CDU\"    \"Others\" \"CDU\"    \"CDU\"    \"Others\"\n",
    "#####   \"Others\" \"SPD\"    \"CDU\"    \"CDU\"    \"CDU\"    \"Others\" \"CDU\"   \n",
    "#####   \"CDU\"    \"CDU\"    \"Others\" \"CDU\"    \"CDU\"    \"SPD\"    \"Others\"\n",
    "#####   \"CDU\"    \"CDU\"    \"CDU\"    \"CDU\"    \"SPD\"    \"CDU\"    \"Others\"\n",
    "#####   \"CDU\"    \"CDU\"    \"Others\" \"SPD\"    \"Others\" \"CDU\"    \"SPD\"   \n",
    "#####   \"SPD\"    \"Others\" \"SPD\"    \"Others\" \"Others\" \"SPD\"    \"SPD\"   \n",
    "#####   \"CDU\"    \"Others\" \"Others\" \"Others\" \"CDU\"    \"CDU\"    \"CDU\"   \n",
    "#####   \"SPD\"    \"Others\" \"SPD\"    \"Others\" \"Others\" \"CDU\"    \"SPD\"   \n",
    "#####   \"CDU\"    \"SPD\"    \"Others\" \"CDU\"    \"Others\" \"CDU\"    \"Others\"\n",
    "#####   \"CDU\"    \"Others\" \"SPD\"    \"CDU\"    \"CDU\"    \"Others\" \"Others\"\n",
    "#####   \"CDU\"    \"Others\" \"Others\" \"SPD\"    \"CDU\"    \"Others\" \"CDU\"   \n",
    "#####   \"Others\" \"CDU\"    \"CDU\"    \"CDU\"    \"CDU\"    \"SPD\"    \"SPD\"   \n",
    "#####   \"Others\" \"Others\" \"SPD\"    \"CDU\"    \"Others\" \"CDU\"    \"Others\"\n",
    "#####   \"Others\" \"SPD\"    \"SPD\"    \"CDU\"    \"Others\" \"CDU\"    \"CDU\"   \n",
    "#####   \"SPD\"    \"CDU\"    \"Others\" \"CDU\"    \"CDU\"    \"CDU\"    \"CDU\"   \n",
    "#####   \"CDU\"    \"Others\" \"Others\" \"SPD\""
   ]
  },
  {
   "cell_type": "code",
   "execution_count": 95,
   "id": "109970c8-3bc5-46aa-b197-a8d99b3dc9fc",
   "metadata": {},
   "outputs": [
    {
     "name": "stdout",
     "output_type": "stream",
     "text": [
      "['SPD', 'CDU', 'Others', 'CDU', 'CDU', 'CDU', 'CDU', 'CDU', 'CDU', 'SPD', 'CDU', 'Others', 'SPD', 'CDU', 'SPD', 'Others', 'CDU', 'Others', 'CDU', 'CDU', 'Others', 'Others', 'SPD', 'CDU', 'CDU', 'CDU', 'Others', 'CDU', 'CDU', 'CDU', 'Others', 'CDU', 'CDU', 'SPD', 'Others', 'CDU', 'CDU', 'CDU', 'CDU', 'SPD', 'CDU', 'Others', 'CDU', 'CDU', 'Others', 'SPD', 'Others', 'CDU', 'SPD', 'SPD', 'Others', 'SPD', 'Others', 'Others', 'SPD', 'SPD', 'CDU', 'Others', 'Others', 'Others', 'CDU', 'CDU', 'CDU', 'SPD', 'Others', 'SPD', 'Others', 'Others', 'CDU', 'SPD', 'CDU', 'SPD', 'Others', 'CDU', 'Others', 'CDU', 'Others', 'CDU', 'Others', 'SPD', 'CDU', 'CDU', 'Others', 'Others', 'CDU', 'Others', 'Others', 'SPD', 'CDU', 'Others', 'CDU', 'Others', 'CDU', 'CDU', 'CDU', 'CDU', 'SPD', 'SPD', 'Others', 'Others', 'SPD', 'CDU', 'Others', 'CDU', 'Others', 'Others', 'SPD', 'SPD', 'CDU', 'Others', 'CDU', 'CDU', 'SPD', 'CDU', 'Others', 'CDU', 'CDU', 'CDU', 'CDU', 'CDU', 'Others', 'Others', 'SPD']\n"
     ]
    }
   ],
   "source": [
    "sample = [\"SPD\",\"CDU\",\"Others\",\"CDU\",\"CDU\",\"CDU\",\"CDU\",\"CDU\",\"CDU\",\"SPD\",\"CDU\",\"Others\",\"SPD\",\"CDU\",\"SPD\",\"Others\",\"CDU\",\"Others\",\"CDU\",\"CDU\",\"Others\",\"Others\",\"SPD\",\"CDU\",\"CDU\",\"CDU\",\"Others\",\"CDU\",\"CDU\",\"CDU\",\"Others\",\"CDU\",\"CDU\",\"SPD\",\"Others\",\"CDU\",\"CDU\",\"CDU\",\"CDU\",\"SPD\",\"CDU\",\"Others\",\"CDU\",\"CDU\",\"Others\",\"SPD\",\"Others\",\"CDU\",\"SPD\",\"SPD\",\"Others\",\"SPD\",\"Others\",\"Others\",\"SPD\",\"SPD\",\"CDU\",\"Others\",\"Others\",\"Others\",\"CDU\",\"CDU\",\"CDU\",\"SPD\",\"Others\",\"SPD\",\"Others\",\"Others\",\"CDU\",\"SPD\",\"CDU\",\"SPD\",\"Others\",\"CDU\",\"Others\",\"CDU\",\"Others\",\"CDU\",\"Others\",\"SPD\",\"CDU\",\"CDU\",\"Others\",\"Others\",\"CDU\",\"Others\",\"Others\",\"SPD\",\"CDU\",\"Others\",\"CDU\", \"Others\",\"CDU\",\"CDU\",\"CDU\",\"CDU\",\"SPD\",\"SPD\",\"Others\",\"Others\",\"SPD\",\"CDU\",\"Others\",\"CDU\",\"Others\",\"Others\",\"SPD\",\"SPD\",\"CDU\",\"Others\",\"CDU\",\"CDU\",\"SPD\",\"CDU\",\"Others\",\"CDU\",\"CDU\",\"CDU\",\"CDU\",\"CDU\",\"Others\",\"Others\",\"SPD\"]\n",
    "print(sample)\n",
    "#list(sample)"
   ]
  },
  {
   "cell_type": "markdown",
   "id": "b96c3615-2c8c-4562-8435-143713d71f3e",
   "metadata": {},
   "source": [
    "Im nächsten Schritt zählen wir das Auftreten der einzelnen Kategorien (Parteien) in unserer Stichprobe. Diese Größen sind die **beobachteten Häufigkeiten**."
   ]
  },
  {
   "cell_type": "code",
   "execution_count": 97,
   "id": "fab3717e-93b8-435a-b3e4-83f8fbbe4d1b",
   "metadata": {},
   "outputs": [
    {
     "name": "stdout",
     "output_type": "stream",
     "text": [
      "['Others: 40', 'SPD: 26', 'CDU: 57']\n"
     ]
    }
   ],
   "source": [
    "print ([ f\"{l}: {sample.count(l)}\" for l in set(sample)])"
   ]
  },
  {
   "cell_type": "markdown",
   "id": "94c3fc01-595d-4a15-b9a3-706c12545cd0",
   "metadata": {},
   "source": [
    "Im nächsten Schritt berechnen wir die **erwartete Häufigkeit** ($E$) für jede Kategorie."
   ]
  },
  {
   "cell_type": "markdown",
   "id": "1d11b449-e169-4ee6-b02e-7b200cd174e6",
   "metadata": {},
   "source": [
    "$$E = n \\times p\\text{,}$$"
   ]
  },
  {
   "cell_type": "markdown",
   "id": "769e4fba-27ef-4de3-afd4-06b578aace98",
   "metadata": {},
   "source": [
    "wobei $n$ der Stichprobenumfang und $p$ die entsprechende relative Häufigkeit aus der obigen Tabelle ist."
   ]
  },
  {
   "cell_type": "markdown",
   "id": "453d6ce6-87d0-4f0a-8d30-8d3d0de99e1f",
   "metadata": {},
   "source": [
    "$$E_{CDU} = n\\times p = 123 \\times 0,415 = 51,045$$"
   ]
  },
  {
   "cell_type": "markdown",
   "id": "8a5df46d-617a-40ed-adac-16db302843aa",
   "metadata": {},
   "source": [
    "$$E_{SPD} = n\\times p = 123 \\times 0,257 = 31,611$$"
   ]
  },
  {
   "cell_type": "markdown",
   "id": "584a6dfc-4139-4bb9-95ff-18013516e279",
   "metadata": {},
   "source": [
    "$$E_{Others} = n\\times p = 123 \\times 0,382 = 46,986$$"
   ]
  },
  {
   "cell_type": "markdown",
   "id": "fb848647-dff0-43c2-80f0-a24f4a714082",
   "metadata": {},
   "source": [
    "Beachten Sie, dass es sich zwar um einzelne Zählungen handelt, die durch ganzzahlige Werte dargestellt werden, die **erwartete Häufigkeit**, $E$ eine Fließkommazahl ist. Das ist in Ordnung.\n",
    "\n",
    "Nun werden die **beobachteten Häufigkeiten** und die **erwarteten Häufigkeiten** in einer Tabelle zusammengeführt."
   ]
  },
  {
   "cell_type": "markdown",
   "id": "fa186500-cf7a-44a2-8be2-10b991589b71",
   "metadata": {},
   "source": [
    "\\begin{array}{|l|c|}\n",
    "\\hline\n",
    "\\ \\text{Partei}  & \\text{beobachtete Häufigkeit} & \\text{erwartete Häufigkeit}\\\\\n",
    "\\hline\n",
    "\\ \\text{CDU}  & 57 & 51.045 \\\\\n",
    "\\ \\text{SPD}  & 26 & 31.611 \\\\\n",
    "\\ \\text{Others} & 40 & 46.986 \\\\\n",
    "\\hline \n",
    "\\  & 123 & 129.642 \\\\\n",
    "\\hline \n",
    "\\end{array}"
   ]
  },
  {
   "cell_type": "markdown",
   "id": "ab08ddd9-6e28-4d5b-8e71-5423b6fd70bd",
   "metadata": {},
   "source": [
    "Großartig! Sobald wir die erwarteten Häufigkeiten kennen, müssen wir auf zwei Annahmen prüfen. Erstens müssen wir sicherstellen, dass alle erwarteten Häufigkeiten $1$ oder größer sind, und zweitens, dass höchstens $20 \\%$ der erwarteten Häufigkeiten kleiner als $5$ sind. Durch einen Blick auf die Tabelle können wir bestätigen, dass beide Annahmen erfüllt sind.\n",
    "\n",
    "Jetzt haben wir alle Zutaten, die wir brauchen, außer der Teststatistik, um einen $\\chi^2$ Anpassungsgütetest durchzuführen.\n",
    "\n",
    "Die $\\chi^2$ Teststatistik für die Anpassungsgüte ist gegeben durch"
   ]
  },
  {
   "cell_type": "markdown",
   "id": "ae9889c3-a59e-491f-8fb9-77c3ecdde940",
   "metadata": {},
   "source": [
    "$$\\chi^2=\\sum \\frac{(O-E)^2}{E}\\text{,}$$"
   ]
  },
  {
   "cell_type": "markdown",
   "id": "05cb2fc0-daa1-4f32-8cce-58780a77315f",
   "metadata": {},
   "source": [
    "wobei $O$ den beobachteten Häufigkeiten und $E$ den erwarteten Häufigkeiten entspricht. Die Teststatistik $\\chi^2$ approximiert eine *Chi-Quadrat*-Verteilung, wenn die Nullhypothese wahr ist. Die Zahl der Freiheitsgrade ist um $1$ kleiner als die Zahl der möglichen Werte (Kategorien) für die betrachtete Variable."
   ]
  },
  {
   "cell_type": "markdown",
   "id": "d82b4bfe-d071-41f8-95b4-41ba51e64359",
   "metadata": {},
   "source": [
    "$$df = c-1$$"
   ]
  },
  {
   "cell_type": "markdown",
   "id": "82e76509-451d-4a91-84fc-2fcc20692c60",
   "metadata": {},
   "source": [
    "Ausgehend von den in der obigen Tabelle angegebenen beobachteten und erwarteten Häufigkeiten lässt sich der $\\chi^2$-Wert relativ einfach berechnen. Um das Berechnungsverfahren jedoch übersichtlicher zu gestalten, haben wir alle erforderlichen Berechnungsschritte in einer Tabelle zusammengefasst."
   ]
  },
  {
   "cell_type": "markdown",
   "id": "985318e0-2112-4006-a739-db9593c2c937",
   "metadata": {},
   "source": [
    "\\begin{array}{|l|c|}\n",
    "\\hline\n",
    "\\ \\text{Partei}  & \\text{beobachtete} & \\text{erwartete} & \\text{Differenz} & \\text{Quadrat der Differenz} & \\chi^2\\text{Zwischensumme}\\\\\n",
    "\\ & \\text{Häufigkeit} & \\text{Häufigkeit} & O-E & (O-E)^2 & (O-E)^2/E\\\\\n",
    "\\hline\n",
    "\\ \\text{CDU}  & 57 & 51.045 & 5.955 & 35.462025 & 0.6947208\\\\\n",
    "\\ \\text{SPD}  & 26 & 31.611 & -5.611 & 31.483321 & 0.9959609\\\\\n",
    "\\ \\text{Others} & 26 & 46.986 & -6.986 & 48.804196 & 1.0386965\\\\\n",
    "\\hline \n",
    "\\  & 123 & 129.642 & -6.642 & & 2.7293783\\\\\n",
    "\\hline \n",
    "\\end{array}"
   ]
  },
  {
   "cell_type": "markdown",
   "id": "1b3611de-3993-4cfe-b5eb-aa9a017620a9",
   "metadata": {},
   "source": [
    "In unserem Beispiel ergibt die $\\chi^2$-Teststatistik für die Anpassungsgüte den Wert"
   ]
  },
  {
   "cell_type": "markdown",
   "id": "b3a03ff9-4f20-44c9-8472-f36101e3e507",
   "metadata": {},
   "source": [
    "$$\\chi^2=\\sum \\frac{(O-E)^2}{E} \\approx2,729$$"
   ]
  },
  {
   "cell_type": "markdown",
   "id": "ba64c68b-ef72-47c6-aa86-c0ae7016e150",
   "metadata": {},
   "source": [
    "Wenn die Nullhypothese wahr ist, sind die beobachtete und die erwartete Häufigkeit ungefähr gleich. Dies führt zu einem kleinen Wert der $\\chi^2$-Teststatistik und unterstützt somit $H_0$. Ist der Wert der $\\chi^2$-Teststatistik jedoch groß, liefern die Daten Beweise gegen $H_0$."
   ]
  },
  {
   "cell_type": "markdown",
   "id": "9cfe309b-1807-4a09-b480-51774008b4d9",
   "metadata": {},
   "source": [
    "### $\\chi^2$ Test der Anpassungsgüte: Ein Beispiel"
   ]
  },
  {
   "cell_type": "markdown",
   "id": "16703b55-d63d-4435-9560-99cbbce97dfa",
   "metadata": {},
   "source": [
    "Um praktische Erfahrungen zu sammeln, wenden wir den $\\chi^2$ Anpassungstest in einer Übung an. Dazu laden wir den `students` Datensatz. Sie können die Datei `students.csv` <a href=\"https://userpage.fu-berlin.de/soga/200/2010_data_sets/students.csv\">hier</a> herunterladen. Importieren Sie den Datensatz und geben Sie ihm einen passenden Namen."
   ]
  },
  {
   "cell_type": "code",
   "execution_count": 100,
   "id": "d4a84d35-1fde-4747-b25f-5fb439cc48f8",
   "metadata": {},
   "outputs": [],
   "source": [
    "# Lese Datei students.csv als Dataframe ein; Indexspalte wird übersprungen\n",
    "students = pd.read_csv('students.csv', index_col=0)"
   ]
  },
  {
   "cell_type": "markdown",
   "id": "08952d4d-fd79-4fe0-8813-07dcbe8f1d89",
   "metadata": {},
   "source": [
    "Der `students` Datensatz besteht aus $8239$ Zeilen, von denen jede einen bestimmten Studenten repräsentiert, und $16$ Spalten, von denen jede einer Variable/einem Merkmal entspricht, das sich auf diesen bestimmten Studenten bezieht. Diese selbsterklärenden Variablen sind: *stud.id, name, gender, age, height, weight, religion, nc.score, semester, major, minor, score1, score2, online.tutorial, graduated, salary.*"
   ]
  },
  {
   "cell_type": "markdown",
   "id": "1ab4de43-83b3-4351-b237-681e7b73f69b",
   "metadata": {},
   "source": [
    "Es sei daran erinnert, dass $\\chi^2$-Anpassungstests für qualitative (kategoriale) Variablen oder diskrete quantitative Variablen angewendet werden. Der `students` Datensatz enthält mehrere kategoriale Variablen, wie z. B. `gender`, `religion`, `major`, `minor` und `graduated`."
   ]
  },
  {
   "cell_type": "markdown",
   "id": "515bb02f-cb2f-4b81-bbda-07ee04e8be39",
   "metadata": {},
   "source": [
    "Um den $\\chi^2$-Test der Anpassungsgüte zu veranschaulichen, untersuchen wir, ob die Religion unter den Studierenden gleichmäßig verteilt ist, verglichen mit der Verteilung der Religion in der Bevölkerung der Europäischen Union. Die Daten auf kontinentaler Ebene stammen aus dem Bericht \"Discrimination in the EU in $2012$\" (<a href=\"https://europa.eu/eurobarometer/api/archives/ebs/ebs_393_en.pdf\">European Union: European Commission, Special Eurobarometer, $393$, p. $233$</a>). Der Bericht enthält Daten für $8$ Kategorien: $48 \\%$ der Menschen werden als Katholiken, $16 \\%$ als Nichtgläubige/Agnostiker, $12 \\%$ als Protestanten, $8 \\%$ als Orthodoxe, $7 \\%$ als Atheisten, $4 \\%$ als sonstige Christen, $3 \\%$ als sonstige Religion/keine Angabe und $2 \\%$ als Muslime eingestuft. Zum besseren Verständnis stellen wir die Daten in Form eines Tortendiagramms dar."
   ]
  },
  {
   "cell_type": "code",
   "execution_count": 101,
   "id": "b067f3ae-dd9c-4c7e-abd2-2e734134fb9c",
   "metadata": {},
   "outputs": [
    {
     "data": {
      "image/png": "[encoded data removed]",
      "text/plain": [
       "<Figure size 1152x720 with 1 Axes>"
      ]
     },
     "metadata": {},
     "output_type": "display_data"
    }
   ],
   "source": [
    "# Erzeuge Pie chart\n",
    "y = np.array([48, 16, 12, 8, 7, 4, 3, 2])\n",
    "mylabels = [\"Katholiken\", \"Nichtgläubige/Agnostiker\", \"Protestanten\", \"Orthodoxe\", \"Atheisten\", \"sonstige Christen\", \"sonstige Religion/keine Angabe\", \"Muslime\"]\n",
    "\n",
    "plt.pie(y, labels = mylabels, startangle = 90,labeldistance=1.1,rotatelabels=True)\n",
    "#pyplot.seaborn\n",
    "plt.show() "
   ]
  },
  {
   "cell_type": "markdown",
   "id": "acc2d12b-1be1-4b98-8528-97286efae889",
   "metadata": {},
   "source": [
    "### Vorbereitung der Daten"
   ]
  },
  {
   "cell_type": "markdown",
   "id": "672a2e23-0217-4cef-a0d4-2fdb5120ba0f",
   "metadata": {},
   "source": [
    "Wir beginnen mit der Datenexploration und der Datenaufbereitung.\n",
    "\n",
    "Zunächst wollen wir wissen, welche Kategorien im Datensatz vorhanden sind. Dazu wenden wir die Funktion `unique()` an, die die einzelnen Spaltennamen (Kategorien) ausgibt."
   ]
  },
  {
   "cell_type": "code",
   "execution_count": 30,
   "id": "18fab21f-9602-412d-a6de-40950cd7307d",
   "metadata": {},
   "outputs": [
    {
     "data": {
      "text/plain": [
       "array(['Muslim', 'Other', 'Protestant', 'Catholic', 'Orthodox'],\n",
       "      dtype=object)"
      ]
     },
     "execution_count": 30,
     "metadata": {},
     "output_type": "execute_result"
    }
   ],
   "source": [
    "students['religion'].unique()"
   ]
  },
  {
   "cell_type": "markdown",
   "id": "77a008c0-b2f1-4b9d-b22f-71ec79c56cf5",
   "metadata": {},
   "source": [
    "Offensichtlich gibt es in den *Studenten*daten $5$ weniger Kategorien, im Vergleich zu den $8$ Kategorien, die im EU-Bericht angegeben sind. Um Vergleiche anstellen zu können, kodieren wir die Kategorien der Religionsvariable um, um schließlich $5$ Kategorien zu erhalten: \"Katholisch\", \"Muslimisch\", \"Orthodox\", \"Protestantisch\" und \"Sonstige\". Achten Sie bei diesem Schritt darauf, dass Sie die Kategorien nicht verwechseln!"
   ]
  },
  {
   "cell_type": "code",
   "execution_count": 79,
   "id": "c2881d0a-70e3-41f6-b208-933da188c456",
   "metadata": {},
   "outputs": [
    {
     "data": {
      "text/html": [
       "<div>\n",
       "<style scoped>\n",
       "    .dataframe tbody tr th:only-of-type {\n",
       "        vertical-align: middle;\n",
       "    }\n",
       "\n",
       "    .dataframe tbody tr th {\n",
       "        vertical-align: top;\n",
       "    }\n",
       "\n",
       "    .dataframe thead th {\n",
       "        text-align: right;\n",
       "    }\n",
       "</style>\n",
       "<table border=\"1\" class=\"dataframe\">\n",
       "  <thead>\n",
       "    <tr style=\"text-align: right;\">\n",
       "      <th></th>\n",
       "      <th>Religion</th>\n",
       "      <th>relative Häufigkeit</th>\n",
       "    </tr>\n",
       "  </thead>\n",
       "  <tbody>\n",
       "    <tr>\n",
       "      <th>0</th>\n",
       "      <td>Other</td>\n",
       "      <td>0.30</td>\n",
       "    </tr>\n",
       "    <tr>\n",
       "      <th>1</th>\n",
       "      <td>Catholic</td>\n",
       "      <td>0.48</td>\n",
       "    </tr>\n",
       "    <tr>\n",
       "      <th>2</th>\n",
       "      <td>Protestant</td>\n",
       "      <td>0.12</td>\n",
       "    </tr>\n",
       "    <tr>\n",
       "      <th>3</th>\n",
       "      <td>Orthodox</td>\n",
       "      <td>0.08</td>\n",
       "    </tr>\n",
       "    <tr>\n",
       "      <th>4</th>\n",
       "      <td>Muslim</td>\n",
       "      <td>0.02</td>\n",
       "    </tr>\n",
       "  </tbody>\n",
       "</table>\n",
       "</div>"
      ],
      "text/plain": [
       "     Religion  relative Häufigkeit\n",
       "0       Other                 0.30\n",
       "1    Catholic                 0.48\n",
       "2  Protestant                 0.12\n",
       "3    Orthodox                 0.08\n",
       "4      Muslim                 0.02"
      ]
     },
     "execution_count": 79,
     "metadata": {},
     "output_type": "execute_result"
    }
   ],
   "source": [
    "# recode European data according to category names\n",
    "data_raw = [(16+ 7+ 4+ 3)/100, 48/100, 12/100, 8/100, 2/100]\n",
    "\n",
    "data = [('Other', data_raw[0]), ('Catholic', data_raw[1]), ('Protestant', data_raw[2]), ('Orthodox', data_raw[3]), ('Muslim', data_raw[4])]\n",
    "\n",
    "data = pd.DataFrame(data, columns=['Religion', 'relative Häufigkeit'])\n",
    "data"
   ]
  },
  {
   "cell_type": "markdown",
   "id": "e730ab02-e3aa-4319-941a-a52e4f049f19",
   "metadata": {},
   "source": [
    "Nun nehmen wir eine Zufallsstichprobe. Wir wählen $256$ Studenten nach dem Zufallsprinzip aus und zählen mit der Funktion `value_counts()` die Anzahl der Studenten in jeder bestimmten Kategorie der Variablen `religion`. Wir erinnern uns, dass diese Menge den **beobachteten Häufigkeiten** entspricht."
   ]
  },
  {
   "cell_type": "code",
   "execution_count": 80,
   "id": "f1405104-2590-40a2-9369-c69fe122a2e6",
   "metadata": {},
   "outputs": [
    {
     "data": {
      "text/plain": [
       "Other         85\n",
       "Catholic      77\n",
       "Protestant    60\n",
       "Orthodox      27\n",
       "Muslim         7\n",
       "Name: religion, dtype: int64"
      ]
     },
     "execution_count": 80,
     "metadata": {},
     "output_type": "execute_result"
    }
   ],
   "source": [
    "students_sample= students['religion'].sample(256, random_state=1)\n",
    "O_frequencies=students_sample.value_counts()\n",
    "O_frequencies"
   ]
  },
  {
   "cell_type": "markdown",
   "id": "7def7ed5-38bf-45b2-9c56-30b724dea55c",
   "metadata": {},
   "source": [
    "Mit einer einzigen Code-Zeile fügen wir die beobachteten Häufigkeiten in `data` ein, den `dataframe`, den wir oben konstruiert haben."
   ]
  },
  {
   "cell_type": "code",
   "execution_count": 81,
   "id": "4a22e1be-db56-4007-8d1e-8dbb2b8a7b04",
   "metadata": {},
   "outputs": [],
   "source": [
    "#round(students_sample.value_counts()/len(students_sample),2)"
   ]
  },
  {
   "cell_type": "code",
   "execution_count": 82,
   "id": "589e4ebf-6e42-4372-85e5-903b58904e69",
   "metadata": {},
   "outputs": [
    {
     "data": {
      "text/html": [
       "<div>\n",
       "<style scoped>\n",
       "    .dataframe tbody tr th:only-of-type {\n",
       "        vertical-align: middle;\n",
       "    }\n",
       "\n",
       "    .dataframe tbody tr th {\n",
       "        vertical-align: top;\n",
       "    }\n",
       "\n",
       "    .dataframe thead th {\n",
       "        text-align: right;\n",
       "    }\n",
       "</style>\n",
       "<table border=\"1\" class=\"dataframe\">\n",
       "  <thead>\n",
       "    <tr style=\"text-align: right;\">\n",
       "      <th></th>\n",
       "      <th>Religion</th>\n",
       "      <th>relative Häufigkeit</th>\n",
       "      <th>beobachtete Häufigkeit</th>\n",
       "    </tr>\n",
       "  </thead>\n",
       "  <tbody>\n",
       "    <tr>\n",
       "      <th>0</th>\n",
       "      <td>Other</td>\n",
       "      <td>0.30</td>\n",
       "      <td>85</td>\n",
       "    </tr>\n",
       "    <tr>\n",
       "      <th>1</th>\n",
       "      <td>Catholic</td>\n",
       "      <td>0.48</td>\n",
       "      <td>77</td>\n",
       "    </tr>\n",
       "    <tr>\n",
       "      <th>2</th>\n",
       "      <td>Protestant</td>\n",
       "      <td>0.12</td>\n",
       "      <td>60</td>\n",
       "    </tr>\n",
       "    <tr>\n",
       "      <th>3</th>\n",
       "      <td>Orthodox</td>\n",
       "      <td>0.08</td>\n",
       "      <td>27</td>\n",
       "    </tr>\n",
       "    <tr>\n",
       "      <th>4</th>\n",
       "      <td>Muslim</td>\n",
       "      <td>0.02</td>\n",
       "      <td>7</td>\n",
       "    </tr>\n",
       "  </tbody>\n",
       "</table>\n",
       "</div>"
      ],
      "text/plain": [
       "     Religion  relative Häufigkeit  beobachtete Häufigkeit\n",
       "0       Other                 0.30                      85\n",
       "1    Catholic                 0.48                      77\n",
       "2  Protestant                 0.12                      60\n",
       "3    Orthodox                 0.08                      27\n",
       "4      Muslim                 0.02                       7"
      ]
     },
     "execution_count": 82,
     "metadata": {},
     "output_type": "execute_result"
    }
   ],
   "source": [
    "data['beobachtete Häufigkeit']=list(O_frequencies)\n",
    "data"
   ]
  },
  {
   "cell_type": "markdown",
   "id": "017dc744-4c34-4158-9ce1-8bd6da8e6526",
   "metadata": {},
   "source": [
    "Im nächsten Schritt berechnen wir die erwarteten Häufigkeiten. Erinnern Sie sich an die Gleichung:"
   ]
  },
  {
   "cell_type": "markdown",
   "id": "fb2f7a0f-c846-4a80-8e76-0161fa811ab2",
   "metadata": {},
   "source": [
    "$$E = n \\times p$$"
   ]
  },
  {
   "cell_type": "markdown",
   "id": "395f8f13-6a5d-4e86-9d45-9396287b945e",
   "metadata": {},
   "source": [
    "Wir fügen die erwarteten Häufigkeiten als neue Spalte in `data` ein."
   ]
  },
  {
   "cell_type": "code",
   "execution_count": 83,
   "id": "9cecf129-6602-4a7d-9947-2f6abde6eb20",
   "metadata": {},
   "outputs": [
    {
     "data": {
      "text/html": [
       "<div>\n",
       "<style scoped>\n",
       "    .dataframe tbody tr th:only-of-type {\n",
       "        vertical-align: middle;\n",
       "    }\n",
       "\n",
       "    .dataframe tbody tr th {\n",
       "        vertical-align: top;\n",
       "    }\n",
       "\n",
       "    .dataframe thead th {\n",
       "        text-align: right;\n",
       "    }\n",
       "</style>\n",
       "<table border=\"1\" class=\"dataframe\">\n",
       "  <thead>\n",
       "    <tr style=\"text-align: right;\">\n",
       "      <th></th>\n",
       "      <th>Religion</th>\n",
       "      <th>relative Häufigkeit</th>\n",
       "      <th>beobachtete Häufigkeit</th>\n",
       "      <th>erwartete Häufigkeit</th>\n",
       "    </tr>\n",
       "  </thead>\n",
       "  <tbody>\n",
       "    <tr>\n",
       "      <th>0</th>\n",
       "      <td>Other</td>\n",
       "      <td>0.30</td>\n",
       "      <td>85</td>\n",
       "      <td>76.80</td>\n",
       "    </tr>\n",
       "    <tr>\n",
       "      <th>1</th>\n",
       "      <td>Catholic</td>\n",
       "      <td>0.48</td>\n",
       "      <td>77</td>\n",
       "      <td>122.88</td>\n",
       "    </tr>\n",
       "    <tr>\n",
       "      <th>2</th>\n",
       "      <td>Protestant</td>\n",
       "      <td>0.12</td>\n",
       "      <td>60</td>\n",
       "      <td>30.72</td>\n",
       "    </tr>\n",
       "    <tr>\n",
       "      <th>3</th>\n",
       "      <td>Orthodox</td>\n",
       "      <td>0.08</td>\n",
       "      <td>27</td>\n",
       "      <td>20.48</td>\n",
       "    </tr>\n",
       "    <tr>\n",
       "      <th>4</th>\n",
       "      <td>Muslim</td>\n",
       "      <td>0.02</td>\n",
       "      <td>7</td>\n",
       "      <td>5.12</td>\n",
       "    </tr>\n",
       "  </tbody>\n",
       "</table>\n",
       "</div>"
      ],
      "text/plain": [
       "     Religion  relative Häufigkeit  beobachtete Häufigkeit  \\\n",
       "0       Other                 0.30                      85   \n",
       "1    Catholic                 0.48                      77   \n",
       "2  Protestant                 0.12                      60   \n",
       "3    Orthodox                 0.08                      27   \n",
       "4      Muslim                 0.02                       7   \n",
       "\n",
       "   erwartete Häufigkeit  \n",
       "0                 76.80  \n",
       "1                122.88  \n",
       "2                 30.72  \n",
       "3                 20.48  \n",
       "4                  5.12  "
      ]
     },
     "execution_count": 83,
     "metadata": {},
     "output_type": "execute_result"
    }
   ],
   "source": [
    "data['erwartete Häufigkeit']=data['relative Häufigkeit']*256\n",
    "data"
   ]
  },
  {
   "cell_type": "markdown",
   "id": "823a3c8e-e7d8-4fa2-ad1e-3ce2ce73c717",
   "metadata": {},
   "source": [
    "Sobald wir die erwarteten Häufigkeiten kennen, müssen wir zwei Annahmen überprüfen. Erstens müssen wir sicherstellen, dass alle erwarteten Häufigkeiten $1$ oder größer sind, und zweitens, dass höchstens $20 \\%$ der erwarteten Häufigkeiten kleiner als $5$ sind. Durch einen Blick auf die Tabelle können wir bestätigen, dass beide Annahmen erfüllt sind.\n",
    "\n",
    "Perfekt, jetzt sind wir fertig! Der Datensatz ist bereit für die Analyse mit dem $\\chi^2$ Anpassungstest zu analysieren. Erinnern Sie sich an die Frage, an der wir interessiert sind: **Ist die Religion unter den Studierenden gleichmäßig verteilt, verglichen mit der Verteilung der Religion in der Bevölkerung der Europäischen Union?**"
   ]
  },
  {
   "cell_type": "markdown",
   "id": "b555af54-cf89-4a9b-824d-cb5a81e455e8",
   "metadata": {},
   "source": [
    "### Überprüfung der Hypothesen"
   ]
  },
  {
   "cell_type": "markdown",
   "id": "5ffb13a7-a46a-447f-8366-e065ad9b16e3",
   "metadata": {},
   "source": [
    "Zur Durchführung des $\\chi^2$ Anpassungstests folgen wir dem schrittweisen Durchführungsverfahren für Hypothesentests. Der $\\chi^2$ Anpassungstest folgt demselben schrittweisen Verfahren wie Hypothesentests für den Grundgesamtheitsmittelwert."
   ]
  },
  {
   "cell_type": "markdown",
   "id": "88b99cfc-e3a7-4bc9-8ad2-4a7fa75b48cb",
   "metadata": {},
   "source": [
    "\\begin{array}{l}\n",
    "\\hline\n",
    "\\ \\text{Step 1}  & \\text{Geben Sie die Nullhypothese } H_0 \\text{ und alternative Hypothese } H_A \\text{ an.}\\\\\n",
    "\\ \\text{Step 2}  & \\text{Legen Sie das Signifikanzniveau, } \\alpha\\text{ fest.} \\\\\n",
    "\\ \\text{Step 3}  & \\text{Berechnen Sie den Wert der Teststatistik.} \\\\\n",
    "\\ \\text{Step 4} &\\text{Bestimmen Sie den p-Wert.} \\\\\n",
    "\\ \\text{Step 5} & \\text{Wenn }p \\le \\alpha \\text{, } H_0 \\text{ ablehnen } \\text{; ansonsten } H_0 \\text{ nicht ablehnen} \\text{.} \\\\\n",
    "\\ \\text{Step 6} &\\text{Interpretieren Sie das Ergebnis des Hypothesentests.} \\\\\n",
    "\\hline \n",
    "\\end{array}"
   ]
  },
  {
   "cell_type": "markdown",
   "id": "ad4d367d-07eb-48f8-902b-bd3711630178",
   "metadata": {},
   "source": [
    "**Schritt 1 : Geben Sie die Nullhypothese $H_0$ und alternative Hypothese $H_A$ an**"
   ]
  },
  {
   "cell_type": "markdown",
   "id": "378c01f4-64ae-40d0-a9f2-1249cdb75ef5",
   "metadata": {},
   "source": [
    "Die Nullhypothese besagt, dass die Religion unter den Studenten gleich verteilt ist, verglichen mit der Verteilung der Religion in der Bevölkerung der Europäischen Union."
   ]
  },
  {
   "cell_type": "markdown",
   "id": "534daa6d-2aca-44a1-9dd0-1b6ddbe1b99a",
   "metadata": {},
   "source": [
    "$$H_0: \\quad \\text{Die Variable hat die angegebene Verteilung}$$"
   ]
  },
  {
   "cell_type": "markdown",
   "id": "a128b52c-c316-4f80-b0d0-e4fda3d58b2a",
   "metadata": {},
   "source": [
    "**Alternative Hypothese**"
   ]
  },
  {
   "cell_type": "markdown",
   "id": "5dcdbf8b-bb38-4c05-8469-db4e8d322104",
   "metadata": {},
   "source": [
    "$$H_A: \\quad \\text{Die Variable hat nicht die angegebene Verteilung}$$"
   ]
  },
  {
   "cell_type": "markdown",
   "id": "a4d82837-0cc0-4f1e-9b82-d6d8021c03d8",
   "metadata": {},
   "source": [
    "**Schritt 2: Legen Sie das Signifikanzniveau,$\\alpha$ fest**"
   ]
  },
  {
   "cell_type": "markdown",
   "id": "273b2beb-e90f-4994-98df-6f8dff7d71b8",
   "metadata": {},
   "source": [
    "$$\\alpha = 0.01$$"
   ]
  },
  {
   "cell_type": "code",
   "execution_count": 102,
   "id": "140784b1-88e5-4bc6-a70d-b28b063b072b",
   "metadata": {},
   "outputs": [],
   "source": [
    "alpha = 0.01"
   ]
  },
  {
   "cell_type": "markdown",
   "id": "572e3ba7-0c2f-4b28-8ff6-6fc019f3d2ae",
   "metadata": {},
   "source": [
    "**Schritt 3 und 4: Berechnen Sie den Wert der Teststatistik und den $p$-Wert**"
   ]
  },
  {
   "cell_type": "markdown",
   "id": "ef24f3a0-a716-4413-86ec-3949e418a429",
   "metadata": {},
   "source": [
    "Zur Veranschaulichung berechnen wir die Teststatistik manuell in Python. Erinnern Sie sich an die Gleichung für die Teststatistik von oben:"
   ]
  },
  {
   "cell_type": "markdown",
   "id": "119abd58-bcbd-4e99-a81d-90a91f3e268d",
   "metadata": {},
   "source": [
    "$$\\chi^2=\\sum \\frac{(O-E)^2}{E}$$"
   ]
  },
  {
   "cell_type": "code",
   "execution_count": 103,
   "id": "4fd97017-facd-4296-9cf6-d6df82492157",
   "metadata": {},
   "outputs": [
    {
     "data": {
      "text/plain": [
       "48.679361979166664"
      ]
     },
     "execution_count": 103,
     "metadata": {},
     "output_type": "execute_result"
    }
   ],
   "source": [
    "# Compute the value of the test statistic\n",
    "x2 = sum((data['beobachtete Häufigkeit'] - data['erwartete Häufigkeit'])**2 / data['erwartete Häufigkeit'])\n",
    "x2"
   ]
  },
  {
   "cell_type": "markdown",
   "id": "7bd06413-37f6-4229-9dca-ec43d6eed56f",
   "metadata": {},
   "source": [
    "Der numerische Wert der Teststatistik beträgt $\\approx 48,67936$.\n",
    "\n",
    "Um den $p$-Wert zu berechnen, verwenden wir die Funktion `chi2.cdf()`. Erinnern Sie sich daran, wie man die Freiheitsgrade berechnet:"
   ]
  },
  {
   "cell_type": "markdown",
   "id": "4819e030-4991-4d60-93f3-fe0819ea8480",
   "metadata": {},
   "source": [
    "$$df = (c - 1)$$"
   ]
  },
  {
   "cell_type": "code",
   "execution_count": 85,
   "id": "1a260b92-9ff5-4658-8f82-34226360840d",
   "metadata": {},
   "outputs": [
    {
     "data": {
      "text/plain": [
       "5"
      ]
     },
     "execution_count": 85,
     "metadata": {},
     "output_type": "execute_result"
    }
   ],
   "source": [
    "len(data)"
   ]
  },
  {
   "cell_type": "code",
   "execution_count": 104,
   "id": "90fe9679-ebc4-4d73-8996-7f500fa11029",
   "metadata": {},
   "outputs": [
    {
     "data": {
      "text/plain": [
       "6.811017305707878e-10"
      ]
     },
     "execution_count": 104,
     "metadata": {},
     "output_type": "execute_result"
    }
   ],
   "source": [
    "# Compute df\n",
    "df = len(data)-1\n",
    "\n",
    "# Compute the p-value\n",
    "p = 1- chi2.cdf(x2, df = df)\n",
    "p"
   ]
  },
  {
   "cell_type": "markdown",
   "id": "ebd298b5-ba73-46af-bf69-3bc80cdc73ea",
   "metadata": {},
   "source": [
    "**Schritt 5: Wenn $p \\le \\alpha , H_0$ ablehnen; ansonsten $H_0$ nicht ablehnen**"
   ]
  },
  {
   "cell_type": "code",
   "execution_count": 105,
   "id": "c61832da-b7a8-40ea-a8a2-89fdb786e6f0",
   "metadata": {},
   "outputs": [],
   "source": [
    "#((data['beobachtete Häufigkeit'] - data['erwartete Häufigkeit'])**2 / data['erwartete Häufigkeit']).value_counts()"
   ]
  },
  {
   "cell_type": "code",
   "execution_count": 106,
   "id": "59c31a58-1a21-4f16-85b4-3da58260d7b5",
   "metadata": {
    "tags": []
   },
   "outputs": [
    {
     "data": {
      "text/plain": [
       "True"
      ]
     },
     "execution_count": 106,
     "metadata": {},
     "output_type": "execute_result"
    }
   ],
   "source": [
    "p <= alpha"
   ]
  },
  {
   "cell_type": "markdown",
   "id": "eebfcc0d-4fd9-4fa1-8908-135c8ed24578",
   "metadata": {},
   "source": [
    "Der $p$-Wert ist kleiner als das angegebene Signifikanzniveau von $0,01$; wir verwerfen $H_0$. Die Testergebnisse sind statistisch signifikant auf dem $1 \\%$-Niveau und liefern einen sehr starken Beweis gegen die Nullhypothese."
   ]
  },
  {
   "cell_type": "markdown",
   "id": "076aaaea-ddf4-43c5-ba81-3a14d99641e4",
   "metadata": {},
   "source": [
    "**Schritt 6: Interpretieren Sie das Ergebnis des Hypothesentests**"
   ]
  },
  {
   "cell_type": "code",
   "execution_count": 107,
   "id": "8191edfd-e441-4210-ae7b-a08c35ccdb76",
   "metadata": {},
   "outputs": [],
   "source": [
    "#(data['beobachtete Häufigkeit'] - data['erwartete Häufigkeit']).value_counts()"
   ]
  },
  {
   "cell_type": "markdown",
   "id": "6cdbc3a9-7272-4c3e-95e5-ca294f85f923",
   "metadata": {},
   "source": [
    "$p=6,8110173 \\cdot 10^{-10}$. Bei einem Signifikanzniveau von $1 \\%$ lassen die Daten den Schluss zu, dass die Religionsverteilung unter den Studenten von der Religionsverteilung der Bevölkerung der Europäischen Union abweicht."
   ]
  },
  {
   "cell_type": "markdown",
   "id": "e500c16f-86d1-4dfb-882d-22b0381db136",
   "metadata": {},
   "source": [
    "### Hypothesentests in Python"
   ]
  },
  {
   "cell_type": "markdown",
   "id": "1747f9d4-2969-45b5-ad28-49036f13ed71",
   "metadata": {},
   "source": [
    "Wir haben gerade einen $\\chi^2$ Anpassungstest in Python manuell durchgeführt. Sehr cool, aber jetzt wiederholen wir dieses Beispiel und nutzen die Python-Maschinerie, um das gleiche Ergebnis wie oben mit nur einer Zeile Code zu erhalten!\n",
    "\n",
    "Für die Durchführung eines $\\chi^2$ Anpassungsgüte-Test in Python durchzuführen, verwenden wir die Funktion `chisquare()`. Wir geben zwei Vektoren als Daten ein: `data['beobachtete Häufigkeit']` und `data['erwartete Häufigkeit']`."
   ]
  },
  {
   "cell_type": "code",
   "execution_count": 108,
   "id": "89a36d9e-0004-40fc-ac4f-8f88731fb6ce",
   "metadata": {},
   "outputs": [
    {
     "data": {
      "text/plain": [
       "Power_divergenceResult(statistic=48.679361979166664, pvalue=6.811017529549072e-10)"
      ]
     },
     "execution_count": 108,
     "metadata": {},
     "output_type": "execute_result"
    }
   ],
   "source": [
    "#perform Chi-Square Goodness of Fit Test\n",
    "stats.chisquare(f_obs=data['beobachtete Häufigkeit'], f_exp=data['erwartete Häufigkeit'])"
   ]
  },
  {
   "cell_type": "markdown",
   "id": "3c0c4743-326a-4999-8c6e-b066beb36c6d",
   "metadata": {},
   "source": [
    "Es hat gut funktioniert! Vergleichen Sie die Ausgabe der Funktion `chisquare()` mit unserem Ergebnis von oben. Auch hier können wir feststellen, dass die Daten bei einem Signifikanzniveau von $1 \\%$ sehr starke Hinweise darauf liefern, dass sich die Religionsverteilung unter den Schülern von der Religionsverteilung der Bevölkerung der Europäischen Union unterscheidet."
   ]
  },
  {
   "cell_type": "code",
   "execution_count": null,
   "id": "6f2693ec-5e27-49f9-836f-f30466fb36d8",
   "metadata": {},
   "outputs": [],
   "source": []
  }
 ],
 "metadata": {
  "kernelspec": {
   "display_name": "Python 3 (ipykernel)",
   "language": "python",
   "name": "python3"
  },
  "language_info": {
   "codemirror_mode": {
    "name": "ipython",
    "version": 3
   },
   "file_extension": ".py",
   "mimetype": "text/x-python",
   "name": "python",
   "nbconvert_exporter": "python",
   "pygments_lexer": "ipython3",
   "version": "3.10.2"
  }
 },
 "nbformat": 4,
 "nbformat_minor": 5
}
