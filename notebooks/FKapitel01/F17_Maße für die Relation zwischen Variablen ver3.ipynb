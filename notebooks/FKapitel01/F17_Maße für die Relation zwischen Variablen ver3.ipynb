{
 "cells": [
  {
   "cell_type": "markdown",
   "id": "1f3853af-ec14-483b-84b1-eef96c4bad9f",
   "metadata": {},
   "source": [
    "## Maße für die Relation zwischen Variablen\n",
    "----------------------------------------\n",
    "In den vorangegangenen Abschnitten haben wir uns hauptsächlich auf eine einzelne Variable, die Beschreibung einer Verteilung und die Berechnung von zusammenfassenden Statistiken konzentriert. Statistiken, die eine einzelne Variable beschreiben, werden als <a href=\"https://en.wikipedia.org/wiki/Univariate_analysis\">univariate Statistiken</a> bezeichnet. Untersucht man die Beziehung zwischen zwei Variablen, spricht man von <a href=\"https://en.wikipedia.org/wiki/Bivariate_analysis\">bivariater Statistik</a>. Wenn die Beziehungen zwischen mehreren Variablen gleichzeitig untersucht werden, spricht man von <a href=\"https://en.wikipedia.org/wiki/Multivariate_statistics\">multivariaten Statistiken</a>. **Maße für die Relation** zwischen Variablen bieten die Möglichkeit, die Größe der Verknüpfung zwischen zwei Variablen zusammenzufassen."
   ]
  }
 ],
 "metadata": {
  "kernelspec": {
   "display_name": "Python 3 (ipykernel)",
   "language": "python",
   "name": "python3"
  },
  "language_info": {
   "codemirror_mode": {
    "name": "ipython",
    "version": 3
   },
   "file_extension": ".py",
   "mimetype": "text/x-python",
   "name": "python",
   "nbconvert_exporter": "python",
   "pygments_lexer": "ipython3",
   "version": "3.9.7"
  }
 },
 "nbformat": 4,
 "nbformat_minor": 5
}
