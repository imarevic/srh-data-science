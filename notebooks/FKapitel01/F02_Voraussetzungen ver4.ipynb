{
 "cells": [
  {
   "cell_type": "markdown",
   "id": "e17c2f66-6dd5-45aa-b8e0-3aa7713eccbb",
   "metadata": {},
   "source": [
    "## Voraussetzungen - Die Softwareumgebung\n",
    "----------------------------------------\n",
    "Um alle in diesem Abschnitt enthaltenen Codeschnipsel auszuführen, sollten Sie eine aktuelle Version von R (>3.3.1) auf Ihrem Computer installiert haben. Außerdem müssen Sie die folgenden zusätzlichen R-Pakete installieren, um die R-Codefragmente auf Ihrem Computer auszuführen: <br> <br>\n",
    "**Python-Pakete**\n",
    "\n",
    "        caTools\n",
    "\n",
    "        DescTools\n",
    "\n",
    "        ggplot2\n",
    "\n",
    "        latex2exp\n",
    "\n",
    "        gitter\n",
    "\n",
    "        Merkblatt\n",
    "\n",
    "        psych\n",
    "\n",
    "        RColorBrewer\n",
    "\n",
    "        readxl\n",
    "\n",
    "Führen Sie das folgende Codeschnipsel aus, um die Pakete von CRAN-Servern zu installieren und in Ihren Arbeitsbereich zu laden:\n",
    "\n",
    "list.of.packages <- c(\"caTools\", \"DescTools\", \"ggplot2\", \"latex2exp\", \"lattice\", \"leaflet\", \"psych\", \"RColorBrewer\", \"readxl\")\n",
    "new.packages <- list.of.packages[!(list.of.packages %in% installed.packages()[, \"Package\"])]\n",
    "if(length(neue.pakete)) install.pakete(neue.pakete)\n",
    "lapply(Liste.der.Pakete, Bibliothek, Zeichen.nur = TRUE)"
   ]
  },
  {
   "cell_type": "markdown",
   "id": "2d8a77f3-286e-4039-883e-95995029046a",
   "metadata": {},
   "source": [
    "Voraussetzungen für installation von python guide"
   ]
  }
 ],
 "metadata": {
  "kernelspec": {
   "display_name": "Python 3 (ipykernel)",
   "language": "python",
   "name": "python3"
  },
  "language_info": {
   "codemirror_mode": {
    "name": "ipython",
    "version": 3
   },
   "file_extension": ".py",
   "mimetype": "text/x-python",
   "name": "python",
   "nbconvert_exporter": "python",
   "pygments_lexer": "ipython3",
   "version": "3.9.7"
  }
 },
 "nbformat": 4,
 "nbformat_minor": 5
}
