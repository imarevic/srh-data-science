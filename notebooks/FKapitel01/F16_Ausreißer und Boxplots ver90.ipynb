{
 "cells": [
  {
   "cell_type": "markdown",
   "id": "8fdc3c00-4f50-4015-b741-31df16acf2f3",
   "metadata": {},
   "source": [
    "## Ausreißer und Boxplots\n",
    "----------------------------------------"
   ]
  },
  {
   "cell_type": "code",
   "execution_count": 30,
   "id": "9247bb9f-0be8-4bcb-9513-9920a631e4fc",
   "metadata": {},
   "outputs": [],
   "source": [
    "import pandas as pd\n",
    "import matplotlib.pyplot as plt"
   ]
  },
  {
   "cell_type": "markdown",
   "id": "e6e99ef7-5bc0-4299-bdd1-10bfb01a08c7",
   "metadata": {},
   "source": [
    "### Ausreißer\n",
    "Bei der Datenanalyse ist die Identifizierung von Ausreißern und damit von Beobachtungen, die deutlich aus dem Gesamtmuster der Daten herausfallen, sehr wichtig. Ein Ausreißer erfordert besondere Aufmerksamkeit. Er kann das Ergebnis eines Mess- oder Aufzeichnungsfehlers, einer Beobachtung aus einer anderen Population oder einer ungewöhnlich extremen Beobachtung sein. Beachten Sie, dass eine extreme Beobachtung nicht zwangsläufig ein Ausreißer sein muss, sondern auch ein Hinweis auf eine Schieflage sein kann (Weiss 2010)."
   ]
  },
  {
   "cell_type": "markdown",
   "id": "48848627-0600-4982-8b02-997b9c7a2bf1",
   "metadata": {},
   "source": [
    "Wenn wir einen Ausreißer beobachten, sollten wir versuchen, seine Ursache zu ermitteln. Ist ein Ausreißer auf einen Mess- oder Aufzeichnungsfehler zurückzuführen oder gehört er aus einem anderen Grund eindeutig nicht zum Datensatz, kann er einfach entfernt werden. Wenn jedoch keine Erklärung für einen Ausreißer ersichtlich ist, ist die Entscheidung, ob er im Datensatz verbleiben soll, eine schwierige Ermessensentscheidung."
   ]
  },
  {
   "cell_type": "markdown",
   "id": "2abd0f5e-c27c-41a8-b2fb-66898b7bf541",
   "metadata": {},
   "source": [
    "Als Diagnoseinstrument zum Aufspüren von Beobachtungen, die Ausreißer sein könnten, können wir Quartile und den **IQR** verwenden. Daher definieren wir die **Untergrenze** und die **Obergrenze** eines Datensatzes. Die untere Grenze ist die Zahl, die $1,5×IQRs$ unter dem ersten Quartil liegt; die obere Grenze ist die Zahl, die $1,5×IQRs$\n",
    "\n",
    "über dem dritten Quartil liegt. Beobachtungen, die unterhalb der Untergrenze oder oberhalb der Obergrenze liegen, sind potenzielle Ausreißer (Weiss 2010).\n",
    "\n"
   ]
  },
  {
   "cell_type": "markdown",
   "id": "c22eb80f-4ae0-443e-a994-77204218706d",
   "metadata": {},
   "source": [
    "$$\\text{Untere Grenze}=Q1-1,5×IQR$$"
   ]
  },
  {
   "cell_type": "markdown",
   "id": "61485d5c-9a09-4be6-9ab4-4d79b0d86905",
   "metadata": {},
   "source": [
    "$$\\text{Obere Grenze}=Q3+1,5×IQR$$"
   ]
  },
  {
   "cell_type": "markdown",
   "id": "24aa59ac-eeb7-464d-ac48-961d2ca1c9c0",
   "metadata": {},
   "source": [
    "### Boxplots"
   ]
  },
  {
   "cell_type": "markdown",
   "id": "5413e69d-05ec-4a98-8871-7aa3ec57c798",
   "metadata": {},
   "source": [
    " Das Boxplot-Diagramm, auch **Box-and-Whisker-Diagramm** genannt, basiert auf der <a href=\"https://en.wikipedia.org/wiki/Five-number_summary\">Fünf-Zahlen-Zusammenfassung</a> und kann zur grafischen Darstellung von Zentrum und Variation eines Datensatzes verwendet werden. Diese Diagramme wurden von dem Mathematiker <a href=\"https://en.wikipedia.org/wiki/John_Tukey\">John Wilder Tukey</a> erfunden. Es sind mehrere <a href=\"https://en.wikipedia.org/wiki/Box_plot\">Arten von Boxplots</a> gebräuchlich.\n",
    "\n",
    "Box-and-Whisker-Plots bieten eine grafische Darstellung der Daten anhand von fünf Maßzahlen: dem Median, dem ersten Quartil, dem dritten Quartil sowie dem kleinsten und dem größten Wert des Datensatzes zwischen der unteren und der oberen Grenze. Der Abstand zwischen den verschiedenen Teilen des Kastens zeigt den Grad der Streuung und Schiefe der Daten an. Durch die Erstellung von Box-and-Whisker-Diagrammen können verschiedene Verteilungen miteinander verglichen werden. Es hilft auch, Ausreißer zu erkennen (Mann 2012). Box-Plots können entweder horizontal oder vertikal gezeichnet werden."
   ]
  },
  {
   "cell_type": "markdown",
   "id": "4034ab34-c49c-4a45-af01-a97695f35369",
   "metadata": {},
   "source": [
    "<br> <br> \n",
    "![Alt-Text](boxplot.png) <br> <br> \n",
    "Die Ränder der Box sind immer das erste und dritte Quartil, und der Bereich innerhalb der Box ist immer das zweite Quartil (der Median). Die von den Boxen ausgehenden Linien (Whisker) zeigen die Variabilität außerhalb des oberen und unteren Quartils an. Um einen Boxplot zu erstellen, benötigen wir auch das Konzept der benachbarten Werte. Die **angrenzenden Werte** eines Datensatzes sind die extremsten Beobachtungen, die noch innerhalb der unteren und oberen Grenzen liegen; sie sind die extremsten Beobachtungen, die keine potenziellen Ausreißer sind. Ausreißer können als einzelne Punkte aufgetragen werden. Wenn es in einem Datensatz keine potenziellen Ausreißer gibt, sind die angrenzenden Werte lediglich das Minimum und das Maximum der Beobachtungen (Weiss 2010).\n",
    "\n",
    "Lassen Sie uns nun eine Reihe von Boxplots erstellen, um den Datensatz `students` eingehender zu analysieren. Wir beginnen mit der Erstellung eines Boxplots für die Variable `nc.score`."
   ]
  },
  {
   "cell_type": "code",
   "execution_count": 24,
   "id": "604fbf77-2a43-49d6-bd96-24f7697f159a",
   "metadata": {},
   "outputs": [
    {
     "data": {
      "text/html": [
       "<div>\n",
       "<style scoped>\n",
       "    .dataframe tbody tr th:only-of-type {\n",
       "        vertical-align: middle;\n",
       "    }\n",
       "\n",
       "    .dataframe tbody tr th {\n",
       "        vertical-align: top;\n",
       "    }\n",
       "\n",
       "    .dataframe thead th {\n",
       "        text-align: right;\n",
       "    }\n",
       "</style>\n",
       "<table border=\"1\" class=\"dataframe\">\n",
       "  <thead>\n",
       "    <tr style=\"text-align: right;\">\n",
       "      <th></th>\n",
       "      <th>gender</th>\n",
       "      <th>height</th>\n",
       "      <th>nc.score</th>\n",
       "      <th>semester</th>\n",
       "    </tr>\n",
       "  </thead>\n",
       "  <tbody>\n",
       "    <tr>\n",
       "      <th>1</th>\n",
       "      <td>Female</td>\n",
       "      <td>160</td>\n",
       "      <td>1.91</td>\n",
       "      <td>1st</td>\n",
       "    </tr>\n",
       "    <tr>\n",
       "      <th>2</th>\n",
       "      <td>Female</td>\n",
       "      <td>172</td>\n",
       "      <td>1.56</td>\n",
       "      <td>2nd</td>\n",
       "    </tr>\n",
       "    <tr>\n",
       "      <th>3</th>\n",
       "      <td>Female</td>\n",
       "      <td>168</td>\n",
       "      <td>1.24</td>\n",
       "      <td>3rd</td>\n",
       "    </tr>\n",
       "    <tr>\n",
       "      <th>4</th>\n",
       "      <td>Male</td>\n",
       "      <td>183</td>\n",
       "      <td>1.37</td>\n",
       "      <td>2nd</td>\n",
       "    </tr>\n",
       "    <tr>\n",
       "      <th>5</th>\n",
       "      <td>Female</td>\n",
       "      <td>175</td>\n",
       "      <td>1.46</td>\n",
       "      <td>1st</td>\n",
       "    </tr>\n",
       "    <tr>\n",
       "      <th>...</th>\n",
       "      <td>...</td>\n",
       "      <td>...</td>\n",
       "      <td>...</td>\n",
       "      <td>...</td>\n",
       "    </tr>\n",
       "    <tr>\n",
       "      <th>8235</th>\n",
       "      <td>Male</td>\n",
       "      <td>181</td>\n",
       "      <td>2.91</td>\n",
       "      <td>6th</td>\n",
       "    </tr>\n",
       "    <tr>\n",
       "      <th>8236</th>\n",
       "      <td>Male</td>\n",
       "      <td>178</td>\n",
       "      <td>2.03</td>\n",
       "      <td>2nd</td>\n",
       "    </tr>\n",
       "    <tr>\n",
       "      <th>8237</th>\n",
       "      <td>Female</td>\n",
       "      <td>169</td>\n",
       "      <td>3.72</td>\n",
       "      <td>3rd</td>\n",
       "    </tr>\n",
       "    <tr>\n",
       "      <th>8238</th>\n",
       "      <td>Male</td>\n",
       "      <td>195</td>\n",
       "      <td>2.74</td>\n",
       "      <td>4th</td>\n",
       "    </tr>\n",
       "    <tr>\n",
       "      <th>8239</th>\n",
       "      <td>Female</td>\n",
       "      <td>170</td>\n",
       "      <td>3.29</td>\n",
       "      <td>&gt;6th</td>\n",
       "    </tr>\n",
       "  </tbody>\n",
       "</table>\n",
       "<p>8239 rows × 4 columns</p>\n",
       "</div>"
      ],
      "text/plain": [
       "      gender  height  nc.score semester\n",
       "1     Female     160      1.91      1st\n",
       "2     Female     172      1.56      2nd\n",
       "3     Female     168      1.24      3rd\n",
       "4       Male     183      1.37      2nd\n",
       "5     Female     175      1.46      1st\n",
       "...      ...     ...       ...      ...\n",
       "8235    Male     181      2.91      6th\n",
       "8236    Male     178      2.03      2nd\n",
       "8237  Female     169      3.72      3rd\n",
       "8238    Male     195      2.74      4th\n",
       "8239  Female     170      3.29     >6th\n",
       "\n",
       "[8239 rows x 4 columns]"
      ]
     },
     "execution_count": 24,
     "metadata": {},
     "output_type": "execute_result"
    }
   ],
   "source": [
    "# Lese Datei students.csv als Dataframe ein;\n",
    "# nur Spalten 'nc.score','semester','gender','height' werden verwendet\n",
    "boxplots = pd.read_csv('students.csv', usecols=['nc.score','semester','gender','height'])\n",
    "boxplots"
   ]
  },
  {
   "cell_type": "code",
   "execution_count": 25,
   "id": "65c48482-c860-415a-8e00-10562ccd9f9d",
   "metadata": {},
   "outputs": [
    {
     "data": {
      "text/plain": [
       "{'whiskers': [<matplotlib.lines.Line2D at 0x23ab2360d60>,\n",
       "  <matplotlib.lines.Line2D at 0x23ab2361030>],\n",
       " 'caps': [<matplotlib.lines.Line2D at 0x23ab2361300>,\n",
       "  <matplotlib.lines.Line2D at 0x23ab23615d0>],\n",
       " 'boxes': [<matplotlib.lines.Line2D at 0x23ab2360a90>],\n",
       " 'medians': [<matplotlib.lines.Line2D at 0x23ab23618a0>],\n",
       " 'fliers': [<matplotlib.lines.Line2D at 0x23ab2361b70>],\n",
       " 'means': []}"
      ]
     },
     "execution_count": 25,
     "metadata": {},
     "output_type": "execute_result"
    },
    {
     "data": {
      "image/png": "[encoded data removed]",
      "text/plain": [
       "<Figure size 432x288 with 1 Axes>"
      ]
     },
     "metadata": {
      "needs_background": "light"
     },
     "output_type": "display_data"
    }
   ],
   "source": [
    "plt.boxplot(boxplots['nc.score'])"
   ]
  },
  {
   "cell_type": "markdown",
   "id": "e94815de-d252-42fd-b914-c38dc4b47212",
   "metadata": {},
   "source": [
    "Wir erhalten sofort einen Eindruck von der Streuung und Schiefe der Daten. Durch Hinzufügen des Arguments `vert = False` zum Boxplot drehen wir den Boxplot um $90^∘$ und färben die Box ein, um einen besseren visuellen Eindruck zu erhalten.\n"
   ]
  },
  {
   "cell_type": "code",
   "execution_count": 26,
   "id": "6abdda90-1b42-473a-8346-3ead9a9df536",
   "metadata": {},
   "outputs": [
    {
     "data": {
      "image/png": "[encoded data removed]",
      "text/plain": [
       "<Figure size 432x288 with 1 Axes>"
      ]
     },
     "metadata": {
      "needs_background": "light"
     },
     "output_type": "display_data"
    }
   ],
   "source": [
    "fig, ax = plt.subplots()\n",
    "plt.boxplot(boxplots['nc.score'], vert = False, patch_artist=True)\n",
    "ax.set_xlabel('Scores')\n",
    "ax.set_title('Numerus Clausus')\n",
    "plt.show()"
   ]
  },
  {
   "cell_type": "markdown",
   "id": "c63607b7-c42d-4231-a9cf-d79e77600bd5",
   "metadata": {},
   "source": [
    "Boxplots sind eine sehr leistungsfähige Technik für die explorative Datenanalyse, da es sehr einfach ist, die Variable von Interesse, in unserem Fall die `nc.score`-Variable, auf andere Variablen zu beziehen und in ihrer Relation darstellen. In Python können wir das erreichen indem wir `groupby` und die `boxplot` Methode anwenden.  \n",
    "\n",
    "Zeichnen wir einen Boxplot der Variable `nc.score` in Abhängigkeit von der Variable `semester`. Die `semester`-variable entspricht dem Semester, in dem der jeweilige Student studiert. Zu Ihrer Information: Die Mindeststudienzeit für die untersuchten Studiengänge ist auf 4 Semester festgelegt."
   ]
  },
  {
   "cell_type": "code",
   "execution_count": 27,
   "id": "e3b125ca-cae0-4a83-af12-39b00cdb1dd0",
   "metadata": {},
   "outputs": [
    {
     "data": {
      "image/png": "[encoded data removed]",
      "text/plain": [
       "<Figure size 432x288 with 1 Axes>"
      ]
     },
     "metadata": {
      "needs_background": "light"
     },
     "output_type": "display_data"
    }
   ],
   "source": [
    "boxplots.boxplot(column = 'nc.score', by = 'semester', vert = False, notch=True)\n",
    "plt.tight_layout()"
   ]
  },
  {
   "cell_type": "markdown",
   "id": "8a3d0e77-76d6-4a1b-978d-1f32fe4fa235",
   "metadata": {},
   "source": [
    "Interessant, nicht wahr? Die Grafik zeigt, dass Studierende höherer Semester ($>5$-tes Semester) beim *Numerus clausus* tendenziell schlechter abschneiden. Mit anderen Worten: Studierende, die ihr Studium innerhalb der Mindeststudienzeit abschließen, haben tendenziell eine höhere *Numerus-clausus*-Punktzahl.\n",
    "\n",
    "Doch damit sind wir noch nicht fertig. Wir wollen wissen, ob das Geschlecht einen Einfluss auf diese Beobachtung hat. Wir können ganz einfach eine Interaktionsvariable einfügen, indem wir die Variable nach den gruppiert werden soll in eckige Klammern setzen : `[var1, var2]`. Außerdem verwenden wir das Argument `notch` in der `boxplot` Methode. Wenn sich die notches zweier Diagramme nicht überschneiden, ist dies ein \"starker Beweis\" dafür, dass sich die beiden Mediane unterscheiden <a href=\"https://fu-berlin.primo.exlibrisgroup.com/discovery/search?vid=49KOBV_FUB:FUBFUB:FUB_ALMA_DS21929110200002883\">(Chambers, et al. (1983): Graphical Methods for Data Analysis. Wadsworth & Brooks/Cole, S. 62)</a>. \n",
    "Bitte beachten Sie, dass wir eine zusätzliche Zeile Code schreiben müssen, um ein schöneres y-Label zu erhalten."
   ]
  },
  {
   "cell_type": "code",
   "execution_count": 28,
   "id": "991be515-0dc6-47fe-b20f-500649f9632b",
   "metadata": {},
   "outputs": [
    {
     "data": {
      "image/png": "[encoded data removed]",
      "text/plain": [
       "<Figure size 432x288 with 1 Axes>"
      ]
     },
     "metadata": {
      "needs_background": "light"
     },
     "output_type": "display_data"
    }
   ],
   "source": [
    "boxplots.boxplot(column = 'nc.score', by = ['semester','gender'], vert = False, notch=True)\n",
    "plt.tight_layout()"
   ]
  },
  {
   "cell_type": "markdown",
   "id": "7b9e37c2-4b16-4d18-a06e-30b66e1d7285",
   "metadata": {},
   "source": [
    "Dieses Diagramm ist nicht so einfach zu interpretieren. Es scheint jedoch, dass die oben gemachte Beobachtung bestätigt wird: Studierende aus höheren Semestern ($>5$-tes) schneiden beim *Numerus clausus* tendenziell schlechter ab. Der Einfluss des Geschlechts auf die *Numerus-Clausus*-Werte ist jedoch nicht so eindeutig. Wir werden Methoden der **Inferenzstatistik** anwenden müssen, um zu beurteilen, ob diese Unterschiede *statistisch signifikant* sind oder ob diese Schwankungen um den Median auch rein zufällig sein könnten.\n",
    "\n",
    "Zum Abschluss dieses Abschnitts und um auch einen Boxplot mit Ausreißern zu sehen, stellen wir die Variable `height` gegen die Variable `gender` dar."
   ]
  },
  {
   "cell_type": "code",
   "execution_count": 29,
   "id": "173b785a-b684-4922-b9bf-feeb54f58d9b",
   "metadata": {},
   "outputs": [
    {
     "data": {
      "image/png": "[encoded data removed]",
      "text/plain": [
       "<Figure size 432x288 with 1 Axes>"
      ]
     },
     "metadata": {
      "needs_background": "light"
     },
     "output_type": "display_data"
    }
   ],
   "source": [
    "boxplots.boxplot(column = 'height', by = 'gender')\n",
    "plt.tight_layout()"
   ]
  },
  {
   "cell_type": "markdown",
   "id": "b7e1939a-20e6-4eb3-88b3-d1f3a4773c11",
   "metadata": {},
   "source": [
    "Offensichtlich, und sicherlich nicht unerwartet, gibt es einen Unterschied in der Größe der Studenten zwischen den verschiedenen Gruppen (männlich oder weiblich). Weibliche Studenten sind tendenziell kleiner als männliche, aber wenn wir uns die Extreme ansehen, gibt es in beiden Gruppen große und kleine Personen. Wie bereits erwähnt, müssen wir jedoch zunächst die Daten auf *statistische Signifikanz* prüfen, um sicher zu sein, dass der beobachtete Größenunterschied nicht nur zufällig ist."
   ]
  }
 ],
 "metadata": {
  "kernelspec": {
   "display_name": "Python 3 (ipykernel)",
   "language": "python",
   "name": "python3"
  },
  "language_info": {
   "codemirror_mode": {
    "name": "ipython",
    "version": 3
   },
   "file_extension": ".py",
   "mimetype": "text/x-python",
   "name": "python",
   "nbconvert_exporter": "python",
   "pygments_lexer": "ipython3",
   "version": "3.10.2"
  }
 },
 "nbformat": 4,
 "nbformat_minor": 5
}
