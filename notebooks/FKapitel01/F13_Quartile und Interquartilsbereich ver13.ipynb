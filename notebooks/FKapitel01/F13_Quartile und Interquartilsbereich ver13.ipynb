{
 "cells": [
  {
   "cell_type": "markdown",
   "id": "80c30b3a-fc10-46d6-874b-f15b24117df6",
   "metadata": {
    "tags": []
   },
   "source": [
    "## Quartile und Interquartilsbereich\n",
    "----------------------------------------"
   ]
  },
  {
   "cell_type": "code",
   "execution_count": 1,
   "id": "2532dbc6-d7ca-44b1-8cd6-b20fa100a80d",
   "metadata": {},
   "outputs": [],
   "source": [
    "import numpy as np\n",
    "import pandas as pd\n",
    "import matplotlib.pyplot as plt\n",
    "import scipy.stats as sp"
   ]
  },
  {
   "cell_type": "markdown",
   "id": "bbd0b059-17f0-444e-acb2-f7a22227a1d1",
   "metadata": {},
   "source": [
    "**Quartile** unterteilen einen geordneten Datensatz in **vier gleiche Teile**. Diese drei Maße werden als **erstes Quartil** $(Q1)$, **zweites Quartil** $(Q2)$ und **drittes Quartil** $(Q3)$ bezeichnet. Das zweite Quartil ist dasselbe wie der Median eines Datensatzes. Das erste Quartil ist der Wert des mittleren Terms unter den Beobachtungen, die kleiner als der Median sind, und das dritte Quartil ist der Wert des mittleren Terms unter den Beobachtungen, die größer als der Median sind (Mann 2012)."
   ]
  },
  {
   "cell_type": "markdown",
   "id": "03c1b651-e75b-4ad8-96aa-aed819f2a5f9",
   "metadata": {},
   "source": [
    "![Alt-Text](median.png)"
   ]
  },
  {
   "cell_type": "markdown",
   "id": "fd76bce8-3be8-4074-adbf-e492d5a7ef2f",
   "metadata": {},
   "source": [
    "Ungefähr $25 \\%$ der Werte in einem geordneten Datensatz sind kleiner als $Q1$ und etwa $75 \\%$ sind größer als $Q1$. Das zweite Quartil, $Q2$, unterteilt einen geordneten Datensatz in zwei gleiche Teile; daher sind das zweite Quartil und der Median identisch. Etwa $75 \\%$ der Datenwerte sind kleiner als $Q3$ und etwa $25 \\%$ sind größer als $Q3$. Die Differenz zwischen dem dritten Quartil und dem ersten Quartil eines Datensatzes wird als Interquartilsbereich ($IQR$) bezeichnet (Mann 2012)."
   ]
  },
  {
   "cell_type": "markdown",
   "id": "b63a424a-1dd0-4ccd-8aef-3eea7e0748ae",
   "metadata": {},
   "source": [
    "$$ IQR=Q3−Q1 $$"
   ]
  },
  {
   "cell_type": "markdown",
   "id": "6f5c4215-6f75-45c9-9820-15e613f511b2",
   "metadata": {},
   "source": [
    "Wechseln wir zu Python und testen wir seine Funktionalität zur Berechnung von Quantilen/Quartilen. Wir werden die `nc.score`-Variable des `students` Datensatzes verwenden, um Quartile und den $IQR$ zu berechnen. Die `nc.score`-Variable entspricht der <a href=\"https://en.wikipedia.org/wiki/Numerus_clausus\">Numerus-Clausus</a>-Punktzahl jedes Studenten."
   ]
  },
  {
   "cell_type": "markdown",
   "id": "4a95853b-a3c0-458d-85e7-16478dd62b05",
   "metadata": {},
   "source": [
    "Zunächst werden die Daten unterteilt und ein Histogramm erstellt, um die Verteilung der Variablen genauer zu untersuchen."
   ]
  },
  {
   "cell_type": "code",
   "execution_count": 40,
   "id": "dadc6d2e-d372-47aa-a2a8-42c2f5b08c37",
   "metadata": {},
   "outputs": [
    {
     "data": {
      "image/png": "[encoded data removed]",
      "text/plain": [
       "<Figure size 432x288 with 1 Axes>"
      ]
     },
     "metadata": {
      "needs_background": "light"
     },
     "output_type": "display_data"
    }
   ],
   "source": [
    "# Lese Daten aus students.csv ein\n",
    "students=pd.read_csv('students.csv')\n",
    "\n",
    "# Lese Spalte 'nc.score' ein \n",
    "nc_score = students['nc.score']\n",
    "\n",
    "# Sortiere die Listen aufsteigend mit der sort() Methode\n",
    "nc_score.sort_values()\n",
    "\n",
    "# Plotte die Werte als Histogramm\n",
    "fig = plt.figure()\n",
    "ax = fig.add_subplot(111)\n",
    "ax.hist(nc_score,edgecolor='k',lw=1,alpha = 0.2,bins=15)\n",
    "\n",
    "# Erzeuge Labels\n",
    "plt.xlabel('nc.score')\n",
    "plt.ylabel('Häufigkeit')\n",
    "plt.title('Histogramm von nc.score')\n",
    "\n",
    "plt.show()"
   ]
  },
  {
   "cell_type": "markdown",
   "id": "70e6bc64-b195-4039-9efc-c505de0b5458",
   "metadata": {},
   "source": [
    "Um die Quartile für die Variable nc.score zu berechnen, wenden wir die Funktion `np.quantile` an. Um die Quartile für die Variable `nc.score` zu berechnen, schreiben wir also einfach:"
   ]
  },
  {
   "cell_type": "code",
   "execution_count": 18,
   "id": "1d93f7b9-050b-4da9-89ea-a723cbe0f4d2",
   "metadata": {},
   "outputs": [
    {
     "name": "stdout",
     "output_type": "stream",
     "text": [
      "Q1 Quantile des nc.score  :  1.46\n",
      "Q2 Quantile des nc.score :  2.04\n",
      "Q3 Quantile des nc.score  :  2.78\n",
      "Q4 Quantile des nc.score  :  4.0\n"
     ]
    }
   ],
   "source": [
    "# Berechne Quartile Werte mit Funktion numpy.quantile(data,percentage)\n",
    "print(\"Q1 Quantile des nc.score  : \", np.quantile(nc_score, 0.25))\n",
    "print(\"Q2 Quantile des nc.score : \", np.quantile(nc_score, 0.5))\n",
    "print(\"Q3 Quantile des nc.score  : \", np.quantile(nc_score, 0.75))\n",
    "print(\"Q4 Quantile des nc.score  : \", np.quantile(nc_score, 1.0))"
   ]
  },
  {
   "cell_type": "markdown",
   "id": "dab4edaa-e207-4989-b611-6eddef6d2004",
   "metadata": {},
   "source": [
    "Hinweis: Nicht alle Statistiker definieren Quartile auf genau dieselbe Weise. Eine ausführliche Diskussion der verschiedenen Methoden zur Berechnung von Quartilen finden Sie in dem Online-Artikel <a href=\"http://jse.amstat.org/v14n3/langford.html\">\"Quartiles in Elementary Statistics\" von E. Langford (2006)</a>."
   ]
  },
  {
   "cell_type": "markdown",
   "id": "c4fd6801-a3db-4db4-aa30-cfc8576d4cb1",
   "metadata": {},
   "source": [
    "Um den $IQR$ für die Variable `nc.score` zu berechnen, schreiben wir entweder..."
   ]
  },
  {
   "cell_type": "code",
   "execution_count": 7,
   "id": "2c18b32c-17e1-43f3-bde9-237e73e5d750",
   "metadata": {},
   "outputs": [
    {
     "data": {
      "text/plain": [
       "1.3199999999999998"
      ]
     },
     "execution_count": 7,
     "metadata": {},
     "output_type": "execute_result"
    }
   ],
   "source": [
    "# Berechne Interquartil Abstand mit Funktion np.percentile() \n",
    "q3, q1 = np.percentile(nc_score, [75 ,25])\n",
    "iqr = q3 - q1\n",
    "iqr"
   ]
  },
  {
   "cell_type": "markdown",
   "id": "5e5d41eb-8d4b-4f74-9abd-b862bb2032dd",
   "metadata": {},
   "source": [
    "...oder wir wenden die eingebaute Funktion `scipy.stats.iqr` aus dem Paket `scipy.stats` an:"
   ]
  },
  {
   "cell_type": "code",
   "execution_count": 17,
   "id": "132009bc-7e9f-4078-9596-1171ba3f750c",
   "metadata": {},
   "outputs": [
    {
     "data": {
      "text/plain": [
       "1.3199999999999998"
      ]
     },
     "execution_count": 17,
     "metadata": {},
     "output_type": "execute_result"
    }
   ],
   "source": [
    "sp.stats.iqr(float_nc_score2,rng=(25, 75))"
   ]
  },
  {
   "cell_type": "markdown",
   "id": "f7edc1e3-ef89-441f-84bc-4c6d555296b9",
   "metadata": {
    "tags": []
   },
   "source": [
    "Wir können die Aufteilung der Variablen `nc.score` in Quartile visualisieren, indem wir ein Histogramm erstellen und ein paar zusätzliche Codezeilen hinzufügen."
   ]
  },
  {
   "cell_type": "code",
   "execution_count": 51,
   "id": "941f42b3-ac63-48b0-b22e-4393d032c2b8",
   "metadata": {},
   "outputs": [
    {
     "data": {
      "image/png": "[encoded data removed]",
      "text/plain": [
       "<Figure size 432x288 with 1 Axes>"
      ]
     },
     "metadata": {
      "needs_background": "light"
     },
     "output_type": "display_data"
    }
   ],
   "source": [
    "# Plotte die Liste als Histogramm mit Quartilen\n",
    "fig = plt.figure()\n",
    "ax = fig.add_subplot(111)\n",
    "ax.hist(nc_score,edgecolor='k',lw=1,alpha = 0.2,bins=15)\n",
    "\n",
    "# Erzeuge Labels\n",
    "plt.xlabel(\"Numerus Clausus\")\n",
    "plt.ylabel(\"Häufigkeit\")\n",
    "plt.title(\"Quartillen\")\n",
    "\n",
    "# Zeiche vertikale Linien bei Q1, Q2, Q3, Q4\n",
    "plt.axvline(x=np.quantile(nc_score, 0.25), color='b', linestyle='-')\n",
    "plt.axvline(x=np.quantile(nc_score, 0.5), color='g', linestyle='-')\n",
    "plt.axvline(x=np.quantile(nc_score, 0.75), color='r', linestyle='-')\n",
    "plt.axvline(x=np.quantile(nc_score, 1.0), color='k', linestyle='-')\n",
    "\n",
    "plt.show()"
   ]
  }
 ],
 "metadata": {
  "kernelspec": {
   "display_name": "Python 3 (ipykernel)",
   "language": "python",
   "name": "python3"
  },
  "language_info": {
   "codemirror_mode": {
    "name": "ipython",
    "version": 3
   },
   "file_extension": ".py",
   "mimetype": "text/x-python",
   "name": "python",
   "nbconvert_exporter": "python",
   "pygments_lexer": "ipython3",
   "version": "3.10.2"
  }
 },
 "nbformat": 4,
 "nbformat_minor": 5
}
