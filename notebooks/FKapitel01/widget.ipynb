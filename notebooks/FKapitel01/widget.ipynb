{
 "cells": [
  {
   "cell_type": "code",
   "execution_count": 1,
   "id": "629a637e-d645-4a94-ac40-7c4e29cb0ec9",
   "metadata": {},
   "outputs": [],
   "source": [
    "# Importiere matplotlib\n",
    "\n",
    "import matplotlib.pyplot as plt\n",
    "\n",
    "# Importiere numpy\n",
    "\n",
    "import numpy as np\n",
    "\n",
    "# Importiere pandas\n",
    "\n",
    "import pandas as pd\n",
    "\n",
    "# import random \n",
    "\n",
    "from random import sample\n",
    "\n",
    "import random\n",
    "\n",
    "import scipy\n",
    "\n",
    "from scipy import stats\n",
    "\n",
    "from scipy.stats import norm,gaussian_kde\n",
    "\n",
    "import ipywidgets as widgets\n",
    "\n",
    "from IPython.display import display\n",
    "\n",
    "import seaborn as sns"
   ]
  },
  {
   "cell_type": "code",
   "execution_count": 2,
   "id": "5cdd6978-1150-4e83-b840-2d7128787630",
   "metadata": {},
   "outputs": [],
   "source": [
    "students_hist = pd.read_csv('students.csv', index_col=0,usecols=\n",
    "                            ['age','nc.score','height','weight','score1','score2','salary'])\n",
    "\n",
    "salary_df = students_hist['salary']\n",
    "salary_clean = salary_df.dropna()"
   ]
  },
  {
   "cell_type": "code",
   "execution_count": 7,
   "id": "7f502433-40cf-4cdc-9035-501b2ec2769a",
   "metadata": {},
   "outputs": [
    {
     "data": {
      "application/vnd.jupyter.widget-view+json": {
       "model_id": "77fd3c339ba7487a924a43503fefd2eb",
       "version_major": 2,
       "version_minor": 0
      },
      "text/plain": [
       "interactive(children=(FloatSlider(value=1.0, description='bw', max=1.0, min=0.01, step=0.001), Output()), _dom…"
      ]
     },
     "metadata": {},
     "output_type": "display_data"
    }
   ],
   "source": [
    "x_salary = np.linspace(10000,90000,100)\n",
    "\n",
    "@widgets.interact(bw=(.01,1,.001))\n",
    "def bw_widget(bw=1):\n",
    "    plt.hist(salary_clean, bins=100, density=True)\n",
    "    sns.kdeplot(salary_clean, bw_adjust=bw)\n",
    "    #plt.plot(x_salary,pdf_result,'orange')\n",
    "    plt.xlim(9000,100000)\n",
    "plt.show()"
   ]
  },
  {
   "cell_type": "code",
   "execution_count": null,
   "id": "27684372-76ff-488c-ac9e-6210bfe27fef",
   "metadata": {},
   "outputs": [],
   "source": []
  }
 ],
 "metadata": {
  "kernelspec": {
   "display_name": "Python 3 (ipykernel)",
   "language": "python",
   "name": "python3"
  },
  "language_info": {
   "codemirror_mode": {
    "name": "ipython",
    "version": 3
   },
   "file_extension": ".py",
   "mimetype": "text/x-python",
   "name": "python",
   "nbconvert_exporter": "python",
   "pygments_lexer": "ipython3",
   "version": "3.10.2"
  }
 },
 "nbformat": 4,
 "nbformat_minor": 5
}
