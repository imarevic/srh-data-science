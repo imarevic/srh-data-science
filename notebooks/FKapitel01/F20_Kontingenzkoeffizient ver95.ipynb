{
 "cells": [
  {
   "cell_type": "markdown",
   "id": "0505758c-42a2-41c2-b26a-2d323636daba",
   "metadata": {
    "tags": []
   },
   "source": [
    "## Kontingenzkoeffizient\n",
    "----------------------------------------"
   ]
  },
  {
   "cell_type": "code",
   "execution_count": 138,
   "id": "5c044947-9380-441d-b718-7107822da7ab",
   "metadata": {},
   "outputs": [],
   "source": [
    "from matplotlib.pyplot import figure\n",
    "import matplotlib.pyplot as plt\n",
    "import numpy as np\n",
    "import pandas as pd\n",
    "from statsmodels.graphics.mosaicplot import mosaic"
   ]
  },
  {
   "cell_type": "markdown",
   "id": "6bc9e20c-9d8f-4209-a382-84a8a2ee2e13",
   "metadata": {},
   "source": [
    "Der **Kontingenzkoeffizient** $C$ ist ein $\\chi ^2$-basiertes Maß für die Assoziation von kategorialen Daten. Er stützt sich auf den <a href=\"https://en.wikipedia.org/wiki/Chi-squared_test\">$\\chi ^2$-Test auf Unabhängigkeit</a>. Die $\\chi ^2$ Statistik ermöglicht es zu beurteilen, ob eine statistische Beziehung zwischen den Variablen in den <a href=\"https://en.wikipedia.org/wiki/Contingency_table\">Kontingenztabellen</a> (auch bekannt als Zwei-Wege-Tabelle oder Kreuztabellen) besteht oder nicht. In dieser Art von Tabellen wird die Verteilung der Variablen in einem Matrixformat dargestellt.\n",
    "\n",
    "Für die Berechnung des **Kontingenzkoeffizienten** $C$\n",
    "zu berechnen, müssen wir die $\\chi ^2$-Statistik im Voraus bestimmen."
   ]
  },
  {
   "cell_type": "markdown",
   "id": "39d7d1c5-a8d6-4102-9c4f-588c35eb7925",
   "metadata": {},
   "source": [
    "### Berechnung der $\\chi ^2$-Statistik"
   ]
  },
  {
   "cell_type": "markdown",
   "id": "932f64af-80a2-4230-a0d0-34bf3343a633",
   "metadata": {},
   "source": [
    "Die $\\chi ^2$-Statistik ist gegeben durch\n",
    "$$\\chi^2= \\sum{\\frac{(O-E)^2}{E}}\\text{,}$$"
   ]
  },
  {
   "cell_type": "markdown",
   "id": "c47822b7-ee29-477c-9f04-22983f88b4d4",
   "metadata": {},
   "source": [
    "wobei $O$ für die beobachtete Häufigkeit und $E$ für die erwartete Häufigkeit steht. Bitte beachten Sie, dass $\\frac{(O-E)^2}{E}$ für jede Zelle ausgewertet und dann aufsummiert wird."
   ]
  },
  {
   "cell_type": "markdown",
   "id": "ec126747-fb39-4474-ac3c-5d02f9110f5e",
   "metadata": {},
   "source": [
    "Anhand eines Beispiels soll die Berechnung der $\\chi ^2$-Statistik auf der Grundlage kategorialer Beobachtungsdaten näher erläutert werden. Nehmen wir eine Prüfung am Ende des Semesters. Es gibt drei Gruppen von Studierenden: Die Studierenden haben entweder bestanden, nicht bestanden oder nicht an der Prüfung teilgenommen. Außerdem wird die Anzahl der Übungen, die jeder einzelne Studierende während des Semesters absolviert hat, in vier Gruppen eingeteilt: Keine, weniger als die Hälfte $(\\lt 0.5)$, mehr als die Hälfte $(\\ge 0.5)$, alle.\n",
    "\n",
    "Die resultierende Kontingenztabelle sieht wie folgt aus:"
   ]
  },
  {
   "cell_type": "markdown",
   "id": "da520169-2f61-4f23-b951-dd4a61353c28",
   "metadata": {},
   "source": [
    "\\begin{array}{l|ccc}\n",
    "\\hline\n",
    "\\  & \\text{None} & <0.5 & > 0.5 & \\text{all}  \\\\\n",
    "\\hline\n",
    "\\ \\text{passed} & 12  & 13 & 24  & 14  \\\\\n",
    "\\ \\text{not passed} & 22  &  11 & 8 & 6  \\\\\n",
    "\\ \\text{not participated} & 11  & 14 & 6 & 7  \\\\\n",
    "\\hline \n",
    "\\end{array}"
   ]
  },
  {
   "cell_type": "markdown",
   "id": "361eb65d-5ec4-44e4-aaea-edff5df6a9c5",
   "metadata": {},
   "source": [
    "Zunächst konstruieren wir ein `dataframe` Objekt und geben ihm den Namen `obs`, um uns daran zu erinnern, dass diese Daten der beobachteten Häufigkeit entsprechen:"
   ]
  },
  {
   "cell_type": "code",
   "execution_count": 140,
   "id": "1771c998-9f0f-4919-a6c9-b4bfbbcbdd82",
   "metadata": {},
   "outputs": [
    {
     "data": {
      "text/html": [
       "<div>\n",
       "<style scoped>\n",
       "    .dataframe tbody tr th:only-of-type {\n",
       "        vertical-align: middle;\n",
       "    }\n",
       "\n",
       "    .dataframe tbody tr th {\n",
       "        vertical-align: top;\n",
       "    }\n",
       "\n",
       "    .dataframe thead th {\n",
       "        text-align: right;\n",
       "    }\n",
       "</style>\n",
       "<table border=\"1\" class=\"dataframe\">\n",
       "  <thead>\n",
       "    <tr style=\"text-align: right;\">\n",
       "      <th></th>\n",
       "      <th></th>\n",
       "      <th>None</th>\n",
       "      <th>&lt;0.5</th>\n",
       "      <th>&gt;0.5</th>\n",
       "      <th>all</th>\n",
       "    </tr>\n",
       "  </thead>\n",
       "  <tbody>\n",
       "    <tr>\n",
       "      <th>0</th>\n",
       "      <td>passed</td>\n",
       "      <td>12</td>\n",
       "      <td>13</td>\n",
       "      <td>24</td>\n",
       "      <td>14</td>\n",
       "    </tr>\n",
       "    <tr>\n",
       "      <th>1</th>\n",
       "      <td>not passed</td>\n",
       "      <td>22</td>\n",
       "      <td>11</td>\n",
       "      <td>8</td>\n",
       "      <td>6</td>\n",
       "    </tr>\n",
       "    <tr>\n",
       "      <th>2</th>\n",
       "      <td>not participated</td>\n",
       "      <td>11</td>\n",
       "      <td>14</td>\n",
       "      <td>6</td>\n",
       "      <td>7</td>\n",
       "    </tr>\n",
       "  </tbody>\n",
       "</table>\n",
       "</div>"
      ],
      "text/plain": [
       "                     None  <0.5  >0.5  all\n",
       "0            passed    12    13    24   14\n",
       "1        not passed    22    11     8    6\n",
       "2  not participated    11    14     6    7"
      ]
     },
     "execution_count": 140,
     "metadata": {},
     "output_type": "execute_result"
    }
   ],
   "source": [
    "# Erzeuge neues Dataframe obs\n",
    "col1 = ['passed','not passed','not participated']\n",
    "col2 = [12,22,11]\n",
    "col3 = [13,11,14]\n",
    "col4 = [24,8,6]\n",
    "col5 = [14,6,7]\n",
    "obs = pd.DataFrame({' ':col1,'None':col2,'<0.5':col3,'>0.5':col4,'all':col5})\n",
    "obs"
   ]
  },
  {
   "cell_type": "markdown",
   "id": "3cdc51aa-5083-487e-88d8-0b91439950a1",
   "metadata": {},
   "source": [
    "Perfekt, jetzt haben wir eine ordentliche Darstellung unserer Daten in Python. Allerdings fehlt noch ein Teil, um eine Kontingenztabelle zu vervollständigen. Die Zeilensummen und Spaltensummen.\n",
    "\n",
    "Es gibt mehrere Möglichkeiten, die Zeilen- und Spaltensummen in Python zu berechnen. Unter anderem kann man die Funktion `sum(df, axis=0,1)` verwenden. Die Funktion benötigt zwei Argumente, die Daten und eine Zahl, die angibt, ob die Daten zeilen- oder spaltenweise vorliegen."
   ]
  },
  {
   "cell_type": "code",
   "execution_count": 141,
   "id": "9d26a031-08ca-42e6-aa15-46f6533b2fa3",
   "metadata": {},
   "outputs": [
    {
     "name": "stdout",
     "output_type": "stream",
     "text": [
      "[45 38 38 27]\n",
      "[63 47 38]\n"
     ]
    }
   ],
   "source": [
    "# Erzeuge Dataframe obs_sum ohne labels\n",
    "obs_sum = pd.DataFrame({'None':col2,'<0.5':col3,'>0.5':col4,'all':col5})\n",
    "\n",
    "# Berechne Zeilen/Spaltensumme\n",
    "columnsum = np.sum(obs_sum.values,axis=0)\n",
    "rowsum = np.sum(obs_sum.values, axis=1)\n",
    "print(columnsum)\n",
    "print(rowsum)"
   ]
  },
  {
   "cell_type": "markdown",
   "id": "9a4bea1e-5b93-4e16-8250-63080d966713",
   "metadata": {},
   "source": [
    "Setzt man alle Teile zusammen, sieht die Kontingenztabelle wie folgt aus:"
   ]
  },
  {
   "cell_type": "markdown",
   "id": "6e45ffff-fea9-419a-b92a-4f46c4686ccd",
   "metadata": {},
   "source": [
    "\\begin{array}{l|cccc|c}\n",
    "\\hline\n",
    "\\  & \\text{None} & <0.5 & > 0.5 & \\text{all}  & \\text{row sum} \\\\\n",
    "\\hline\n",
    "\\ \\text{passed} & 12  & 13 & 24  & 14 & 63\\\\\n",
    "\\ \\text{not passed} & 22  &  11 & 8 & 6 & 47\\\\\n",
    "\\ \\text{not participated} & 11  & 14 & 6 & 7 & 38\\\\\n",
    "\\hline \n",
    "\\ \\text{column sum} & 45  & 38 & 38 & 27 & \\\\\n",
    "\\end{array}"
   ]
  },
  {
   "cell_type": "markdown",
   "id": "8cf8fb6d-7566-4692-96c6-e61180f19e52",
   "metadata": {},
   "source": [
    "Toll, jetzt haben wir eine Tabelle mit den beobachteten Häufigkeiten. Im nächsten Schritt berechnen wir die erwarteten Häufigkeiten. Um die erwarteten Häufigkeiten $(E)$ zu berechnen, wenden wir diese Gleichung an:"
   ]
  },
  {
   "cell_type": "markdown",
   "id": "ed74dc8a-b490-4355-a76b-784985c521e1",
   "metadata": {},
   "source": [
    "$$E = \\frac{R\\times C}{n} \\text{,}$$"
   ]
  },
  {
   "cell_type": "markdown",
   "id": "6e7a40cc-c7fb-47a9-bec3-cb94bac98d86",
   "metadata": {},
   "source": [
    "wobei $R$ die Zeilensumme, $C$ die Spaltensumme und $n$ der Stichprobenumfang ist. Bitte beachten Sie, dass wir die erwartete Häufigkeit für jeden einzelnen Tabelleneintrag berechnen müssen, d. h. wir müssen $3 \\times 4=12$ Berechnungen durchführen. Auch hier bietet Python mehrere Möglichkeiten, diese Aufgabe zu lösen. Man kann eine verschachtelte for-Schleife bauen, um jede Zelle zu durchlaufen und die Berechnungen schrittweise durchzuführen, das ist definitiv in Ordnung! Wir können aber auch die vektorisierte und damit viel schnellere Funktion `outer()` in Kombination mit der Funktion `sum()` verwenden. Wir weisen das Ergebnis einer Variablen mit der Bezeichnung `exp` zu, um uns daran zu erinnern, dass diese Tabelle den erwarteten Häufigkeiten entspricht."
   ]
  },
  {
   "cell_type": "code",
   "execution_count": 142,
   "id": "95876e50-18ba-4529-a82e-433028da0aa0",
   "metadata": {},
   "outputs": [
    {
     "data": {
      "text/html": [
       "<div>\n",
       "<style scoped>\n",
       "    .dataframe tbody tr th:only-of-type {\n",
       "        vertical-align: middle;\n",
       "    }\n",
       "\n",
       "    .dataframe tbody tr th {\n",
       "        vertical-align: top;\n",
       "    }\n",
       "\n",
       "    .dataframe thead th {\n",
       "        text-align: right;\n",
       "    }\n",
       "</style>\n",
       "<table border=\"1\" class=\"dataframe\">\n",
       "  <thead>\n",
       "    <tr style=\"text-align: right;\">\n",
       "      <th></th>\n",
       "      <th>' '</th>\n",
       "      <th>None</th>\n",
       "      <th>&lt;0.5</th>\n",
       "      <th>&gt;0.5</th>\n",
       "      <th>all</th>\n",
       "    </tr>\n",
       "  </thead>\n",
       "  <tbody>\n",
       "    <tr>\n",
       "      <th>0</th>\n",
       "      <td>passed</td>\n",
       "      <td>19.155405</td>\n",
       "      <td>16.175676</td>\n",
       "      <td>16.175676</td>\n",
       "      <td>11.493243</td>\n",
       "    </tr>\n",
       "    <tr>\n",
       "      <th>1</th>\n",
       "      <td>not passed</td>\n",
       "      <td>14.290541</td>\n",
       "      <td>12.067568</td>\n",
       "      <td>12.067568</td>\n",
       "      <td>8.574324</td>\n",
       "    </tr>\n",
       "    <tr>\n",
       "      <th>2</th>\n",
       "      <td>not participated</td>\n",
       "      <td>11.554054</td>\n",
       "      <td>9.756757</td>\n",
       "      <td>9.756757</td>\n",
       "      <td>6.932432</td>\n",
       "    </tr>\n",
       "  </tbody>\n",
       "</table>\n",
       "</div>"
      ],
      "text/plain": [
       "                ' '       None       <0.5       >0.5        all\n",
       "0            passed  19.155405  16.175676  16.175676  11.493243\n",
       "1        not passed  14.290541  12.067568  12.067568   8.574324\n",
       "2  not participated  11.554054   9.756757   9.756757   6.932432"
      ]
     },
     "execution_count": 142,
     "metadata": {},
     "output_type": "execute_result"
    }
   ],
   "source": [
    "# Berechne die Stichprobengrösse\n",
    "all_sum = sum(columnsum)\n",
    "\n",
    "# Bilde das Vektorprodukt\n",
    "exp = np.outer(columnsum,rowsum)/all_sum\n",
    "\n",
    "# Transponiere Vektoren\n",
    "exp = exp.transpose()\n",
    "\n",
    "# Erzeuge DataFrame\n",
    "exp_table = pd.DataFrame(exp, columns = ['None','<0.5','>0.5','all'])\n",
    "exp_table.insert(0, \"' '\", ['passed','not passed','not participated'], True)\n",
    "\n",
    "# print dataframe frequencies_t_df\n",
    "exp_table"
   ]
  },
  {
   "cell_type": "markdown",
   "id": "ecb61f78-2aac-4d1e-a88e-f3013cb03cc1",
   "metadata": {},
   "source": [
    "Im nächsten Schritt berechnen wir schließlich die $\\chi ^2$-Statistik. Erinnern Sie sich an die Gleichung:"
   ]
  },
  {
   "cell_type": "markdown",
   "id": "15059f45-4d95-454b-bd5e-115d78322ced",
   "metadata": {},
   "source": [
    "$$\\chi^2= \\sum{\\frac{(O-E)^2}{E}}\\text{,}$$"
   ]
  },
  {
   "cell_type": "markdown",
   "id": "852a2793-f587-43ee-92f7-c4dcf59d3d68",
   "metadata": {},
   "source": [
    "wobei $O$ für die beobachtete Häufigkeit und $E$ für die erwartete Häufigkeit steht."
   ]
  },
  {
   "cell_type": "code",
   "execution_count": 143,
   "id": "242261dd-782d-419a-be50-d696015a990b",
   "metadata": {},
   "outputs": [
    {
     "data": {
      "text/plain": [
       "17.344387665138406"
      ]
     },
     "execution_count": 143,
     "metadata": {},
     "output_type": "execute_result"
    }
   ],
   "source": [
    "# Berechne chisqVal\n",
    "chisqVal=np.sum(((obs_sum.values-exp)**2)/exp)\n",
    "chisqVal"
   ]
  },
  {
   "cell_type": "markdown",
   "id": "420233f9-e78a-4f6c-8f5b-7dfccb82724c",
   "metadata": {},
   "source": [
    "Die $\\chi ^2$-Statistik ergibt $17.3443877$.\n",
    "\n",
    "Bevor wir schließlich den Kontingenzkoeffizienten berechnen, gibt es in Python eine nette Plot-Funktion zur Visualisierung kategorischer Daten. Die Funktion `mosaicplot()` visualisiert Kontingenztabellen und hilft bei der Beurteilung der Verteilungen der Daten und möglicher Abhängigkeiten."
   ]
  },
  {
   "cell_type": "code",
   "execution_count": 144,
   "id": "e50cd4d2-4b9e-4072-8de3-b6f102f18503",
   "metadata": {},
   "outputs": [
    {
     "data": {
      "text/plain": [
       "<Figure size 1920x1280 with 0 Axes>"
      ]
     },
     "execution_count": 144,
     "metadata": {},
     "output_type": "execute_result"
    },
    {
     "data": {
      "image/png": "[encoded data removed]",
      "text/plain": [
       "<Figure size 432x288 with 3 Axes>"
      ]
     },
     "metadata": {
      "needs_background": "light"
     },
     "output_type": "display_data"
    },
    {
     "data": {
      "text/plain": [
       "<Figure size 1920x1280 with 0 Axes>"
      ]
     },
     "metadata": {},
     "output_type": "display_data"
    }
   ],
   "source": [
    "# Erzeuge Daten für Mosaikplot aus Kontingenztabelle\n",
    "data = {('passed','None'): 12,('passed','<0.5'): 13,('passed','>0.5'): 24,('passed','all'): 14,\n",
    "       ('not passed','None'): 22,('not passed','<0.5'): 11,('not passed','>0.5'): 8,('not passed','all'): 6,\n",
    "       ('not participated','None'): 11,('not participated','<0.5'): 14,('not participated','>0.5'): 6,('not participated','all'): 7}\n",
    "\n",
    "mosaic(data, title='Observations')\n",
    "figure(figsize=(12, 8), dpi=160)"
   ]
  },
  {
   "cell_type": "markdown",
   "id": "7de876a2-5a7e-47aa-8a09-3e1ad05d381e",
   "metadata": {},
   "source": [
    "### Berechnung des Kontingenzkoeffizienten $C$"
   ]
  },
  {
   "cell_type": "markdown",
   "id": "c8d03bea-45c1-4a08-835a-b1ad345b08d9",
   "metadata": {},
   "source": [
    "Der Kontingenzkoeffizient, bezeichnet als $C^∗$, passt die $\\chi ^2$-Statistik um den Stichprobenumfang $(n)$ an. Er kann wie folgt geschrieben werden"
   ]
  },
  {
   "cell_type": "markdown",
   "id": "3868cd86-7a56-4e92-8bc7-547ee9a52a26",
   "metadata": {},
   "source": [
    "$$ C^*=\\sqrt{\\frac{\\chi^2}{n+\\chi^2}}\\text{,} $$"
   ]
  },
  {
   "cell_type": "markdown",
   "id": "7052a913-e889-458a-8485-11bd922f5ab1",
   "metadata": {},
   "source": [
    "wobei $\\chi ^2$ der $\\chi ^2$-Statistik entspricht und n die Anzahl der Beobachtungen bezeichnet. Wenn keine Beziehung zwischen zwei Variablen besteht, ist $C^∗=0$. Der Kontingenzkoeffizient $C^∗$ kann Werte $\\gt 1$ nicht überschreiten, aber der Kontingenzkoeffizient kann kleiner als $1$ sein, selbst wenn zwei Variablen perfekt miteinander verbunden sind. Dies ist nicht so wünschenswert, daher wird $C^∗$ so angepasst, dass er maximal $1$ erreicht, wenn in einer Tabelle mit einer beliebigen Anzahl von Zeilen und Spalten ein vollständiger Zusammenhang besteht. Daher berechnen wir $C^{∗}_{max}$, das ist"
   ]
  },
  {
   "cell_type": "markdown",
   "id": "5bc3961c-a10f-4865-8847-eeeb31948f1a",
   "metadata": {},
   "source": [
    "$$ C^*_{max}=\\sqrt{\\frac{k-1}{k}}\\text{,} $$"
   ]
  },
  {
   "cell_type": "markdown",
   "id": "0d1d72cf-8f64-46a3-9d90-43f682d04a56",
   "metadata": {},
   "source": [
    "wobei $k$ die Anzahl der Zeilen oder die Anzahl der Spalten ist, je nachdem, welcher Wert kleiner ist, $k=min(\\text{Zeilen,Spalten})$. Dann wird der bereinigte Kontingenzkoeffizient wie folgt berechnet"
   ]
  },
  {
   "cell_type": "markdown",
   "id": "f3638e6c-3ce3-4800-a3dc-612e77e3f39c",
   "metadata": {},
   "source": [
    "$$ C=\\frac{C^*}{C^*_{max}}=\\sqrt\\frac{k \\cdot \\chi^2}{(k-1)(n+\\chi^2)} $$"
   ]
  },
  {
   "cell_type": "markdown",
   "id": "8e4f9472-a959-4385-9c96-67415de8160b",
   "metadata": {},
   "source": [
    "Im obigen Abschnitt wurde die $\\chi ^2$-Statistik der Variablen `chisqVal` zugeordnet und als $17.3443877$ berechnet. Nun setzen wir diesen Wert in die Gleichung für den Kontingenzkoeffizienten $C^∗$ ein."
   ]
  },
  {
   "cell_type": "code",
   "execution_count": 145,
   "id": "f8bc7757-5619-403e-8484-ebc5ab8412d7",
   "metadata": {},
   "outputs": [
    {
     "data": {
      "text/plain": [
       "0.3238804670641156"
      ]
     },
     "execution_count": 145,
     "metadata": {},
     "output_type": "execute_result"
    }
   ],
   "source": [
    "C_star = np.sqrt(chisqVal/(sum(columnsum)+chisqVal))\n",
    "C_star"
   ]
  },
  {
   "cell_type": "markdown",
   "id": "92bbefe3-8654-4d99-8536-6f5f775f8140",
   "metadata": {},
   "source": [
    "Der Kontingenzkoeffizient $C^∗$ beläuft sich auf $0.3238805$.\n",
    "\n",
    "Nun wenden wir die Gleichung für den bereinigten Kontingenzkoeffizienten, $C$."
   ]
  },
  {
   "cell_type": "code",
   "execution_count": 156,
   "id": "352c1502-6961-4ca2-8042-7ccb370c383a",
   "metadata": {},
   "outputs": [
    {
     "data": {
      "text/plain": [
       "3"
      ]
     },
     "execution_count": 156,
     "metadata": {},
     "output_type": "execute_result"
    }
   ],
   "source": [
    "k = [obs_sum.shape[0],obs_sum.shape[1]]\n",
    "k = min(k)\n",
    "k"
   ]
  },
  {
   "cell_type": "code",
   "execution_count": 157,
   "id": "aae5c9e2-d15f-4ec1-8002-d1e152f4b5df",
   "metadata": {},
   "outputs": [
    {
     "data": {
      "text/plain": [
       "0.39667094098068806"
      ]
     },
     "execution_count": 157,
     "metadata": {},
     "output_type": "execute_result"
    }
   ],
   "source": [
    "C_star_max = np.sqrt((k-1)/k)\n",
    "C = C_star/C_star_max\n",
    "C"
   ]
  },
  {
   "cell_type": "markdown",
   "id": "eb9885c2-349c-4f43-bdf5-b97c7ac22183",
   "metadata": {},
   "source": [
    "```python\n",
    "k <- min(nrow(obs), ncol(obs))\n",
    "C.star.max <- sqrt((k-1)/k)\n",
    "C <- C.star/C.star.max\n",
    "C\n",
    "```"
   ]
  },
  {
   "cell_type": "markdown",
   "id": "067ddabb-d2a6-4f73-a38b-302fd546aa00",
   "metadata": {},
   "source": [
    "Der bereinigte Kontingenzkoeffizient $C$ wird mit $0.3966709$ bewertet. Zur Erinnerung: Der Kontingenzkoeffizient reicht von $0$ bis $1$. Ein Kontingenzkoeffizient von $0.4$ deutet nicht auf einen starken Zusammenhang zwischen den Prüfungsergebnissen und der Bereitschaft der Studierenden hin, die Übungen während des Semesters zu bearbeiten."
   ]
  }
 ],
 "metadata": {
  "kernelspec": {
   "display_name": "Python 3 (ipykernel)",
   "language": "python",
   "name": "python3"
  },
  "language_info": {
   "codemirror_mode": {
    "name": "ipython",
    "version": 3
   },
   "file_extension": ".py",
   "mimetype": "text/x-python",
   "name": "python",
   "nbconvert_exporter": "python",
   "pygments_lexer": "ipython3",
   "version": "3.10.2"
  }
 },
 "nbformat": 4,
 "nbformat_minor": 5
}
