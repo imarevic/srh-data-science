{
 "cells": [
  {
   "cell_type": "markdown",
   "id": "d444122f-0f6e-417a-a3a0-baa4d396976c",
   "metadata": {},
   "source": [
    "## Das t-Intervall-Verfahren für einen Mittelwert\n",
    "----------------------------------------"
   ]
  },
  {
   "cell_type": "code",
   "execution_count": 1,
   "id": "082e5d75-48e9-4334-b04f-204a372c6d14",
   "metadata": {},
   "outputs": [
    {
     "name": "stdout",
     "output_type": "stream",
     "text": [
      "\n",
      "---------------------------------\n",
      "Working on the host: LAPTOP-9LETB4SJ\n",
      "\n",
      "---------------------------------\n",
      "Python version: 3.10.2 | packaged by conda-forge | (main, Mar  8 2022, 15:52:24) [MSC v.1929 64 bit (AMD64)]\n",
      "\n",
      "---------------------------------\n",
      "Python interpreter: C:\\Users\\zak\\anaconda3\\envs\\srh\\python.exe\n"
     ]
    }
   ],
   "source": [
    "import matplotlib.pyplot as plt\n",
    "import numpy as np\n",
    "import pandas as pd\n",
    "from scipy.stats import t\n",
    "\n",
    "%run ../src/notebook_env.py"
   ]
  },
  {
   "cell_type": "markdown",
   "id": "ef97f25f-2766-42dc-9bb6-b37a855516b3",
   "metadata": {},
   "source": [
    "Wir üben das Verfahren \"The One-Mean t-Interval Procedure\", um Konfidenzintervalle mit einem Datensatz zu konstruieren. Dazu laden wir den `students` Datensatz. Sie können die Datei `students.csv` <a href=\"https://userpage.fu-berlin.de/soga/200/2010_data_sets/students.csv\">hier</a> herunterladen. Zunächst importieren wir den Datensatz und geben ihm einen passenden Namen."
   ]
  },
  {
   "cell_type": "code",
   "execution_count": 2,
   "id": "e8b3263a-81af-4878-829f-3f39975a67cf",
   "metadata": {},
   "outputs": [],
   "source": [
    "# Lese Datei students.csv als Dataframe ein; Indexspalte wird übersprungen\n",
    "students = pd.read_csv('students.csv', index_col=0)"
   ]
  },
  {
   "cell_type": "markdown",
   "id": "263931e7-d51a-470a-ab61-9c26c35b899a",
   "metadata": {},
   "source": [
    "Der `students` Datensatz besteht aus 8239 Zeilen, von denen jede einen bestimmten Studenten repräsentiert, und 16 Spalten, von denen jede einer Variable/einem Merkmal entspricht, das sich auf diesen bestimmten Studenten bezieht. Diese selbsterklärenden Variablen sind: *stud.id, name, gender, age, height, weight, religion, nc.score, semester, major, minor, score1, score2, online.tutorial, graduated, salary*.\n",
    "\n",
    "In diesem Abschnitt konzentrieren wir uns wieder auf die Körpergröße von Studentinnen. Gehen wir davon aus, dass die im Datensatz angegebenen Größenmessungen eine sehr gute Annäherung an die interessierende Population darstellen, so dass wir eine Stichprobe aus der Wahrscheinlichkeitsdichtefunktion auf der Grundlage des Mittelwerts und der Standardabweichung des Datensatzes ziehen."
   ]
  },
  {
   "cell_type": "code",
   "execution_count": 3,
   "id": "8cdb1f8c-103b-4b0f-9381-b0aac0506cc6",
   "metadata": {},
   "outputs": [
    {
     "name": "stderr",
     "output_type": "stream",
     "text": [
      "C:\\Users\\zak\\AppData\\Local\\Temp\\ipykernel_11668\\3478013545.py:2: FutureWarning: Passing a set as an indexer is deprecated and will raise in a future version. Use a list instead.\n",
      "  genderheight = students[{'gender','height'}]\n"
     ]
    }
   ],
   "source": [
    "# Lese Spalte 'height' ein\n",
    "genderheight = students[{'gender','height'}]\n",
    "female = genderheight.loc[genderheight['gender'] == 'Female']\n",
    "female = female['height']\n",
    "f_mean = np.mean(female)\n",
    "f_std = np.std(female)"
   ]
  },
  {
   "cell_type": "code",
   "execution_count": 4,
   "id": "c0019a0d-1b00-44a2-9445-07f2c8539014",
   "metadata": {},
   "outputs": [
    {
     "data": {
      "text/plain": [
       "163.65328467153284"
      ]
     },
     "execution_count": 4,
     "metadata": {},
     "output_type": "execute_result"
    }
   ],
   "source": [
    "pop_mean = f_mean\n",
    "pop_mean"
   ]
  },
  {
   "cell_type": "code",
   "execution_count": 5,
   "id": "f0c4cf45-7cf6-42db-afec-b18b6626d625",
   "metadata": {},
   "outputs": [
    {
     "data": {
      "text/plain": [
       "7.918762263149209"
      ]
     },
     "execution_count": 5,
     "metadata": {},
     "output_type": "execute_result"
    }
   ],
   "source": [
    "f_std"
   ]
  },
  {
   "cell_type": "markdown",
   "id": "3d3c0bb1-e976-4138-bbbd-1962230a44d3",
   "metadata": {},
   "source": [
    "Wir ziehen eine Zufallsstichprobe mit einem Stichprobenumfang von $n=6$ aus der Wahrscheinlichkeitsverteilung, die durch den Mittelwert und die Standardabweichung der Höhenvariablen definiert ist, und berechnen den Stichprobenmittelwert $\\bar{x}$und die Stichprobenstandardabweichung $s$."
   ]
  },
  {
   "cell_type": "code",
   "execution_count": 47,
   "id": "50794390-a7c3-46a5-a9ce-1de6f12e76a9",
   "metadata": {},
   "outputs": [
    {
     "data": {
      "text/plain": [
       "161.44236164394297"
      ]
     },
     "execution_count": 47,
     "metadata": {},
     "output_type": "execute_result"
    }
   ],
   "source": [
    "n = sample_size = 6\n",
    "sample = t.rvs(n-1,f_mean,f_std,sample_size,random_state = 1)\n",
    "sample_mean = np.mean(sample)\n",
    "sample_mean"
   ]
  },
  {
   "cell_type": "code",
   "execution_count": 48,
   "id": "110a358f-5c77-45f7-9cf8-72f2a1038ca5",
   "metadata": {},
   "outputs": [
    {
     "data": {
      "text/plain": [
       "10.09685230523463"
      ]
     },
     "execution_count": 48,
     "metadata": {},
     "output_type": "execute_result"
    }
   ],
   "source": [
    "s = np.std(sample)\n",
    "s"
   ]
  },
  {
   "cell_type": "markdown",
   "id": "0c19deeb-2653-4001-8612-d78998d18489",
   "metadata": {},
   "source": [
    "Unsere Zufallsstichprobe ergibt einen Stichprobenmittelwert $\\bar{x}$ von etwa $161,44$ und eine Stichprobenstandardabweichung $s$ von ungefähr $10,1$. Dies sind unsere Punktschätzungen für die interessierende Grundgesamtheit, die in diesem Fall die Körpergröße der Studentinnen in unserem Datensatz ist.\n",
    "\n",
    "Wie genau ist unsere Punktschätzung? Wir fragen Python, ob unsere Schätzungen mit dem wahren Grundgesamtheitsparameter übereinstimmen."
   ]
  },
  {
   "cell_type": "code",
   "execution_count": 49,
   "id": "53d11174-8b01-4872-a9ce-df1a2cc86564",
   "metadata": {},
   "outputs": [
    {
     "data": {
      "text/plain": [
       "False"
      ]
     },
     "execution_count": 49,
     "metadata": {},
     "output_type": "execute_result"
    }
   ],
   "source": [
    "sample_mean == f_mean"
   ]
  },
  {
   "cell_type": "code",
   "execution_count": 50,
   "id": "9b953922-2983-466b-93ca-b0bbb373a0ca",
   "metadata": {},
   "outputs": [
    {
     "data": {
      "text/plain": [
       "False"
      ]
     },
     "execution_count": 50,
     "metadata": {},
     "output_type": "execute_result"
    }
   ],
   "source": [
    "s == f_std"
   ]
  },
  {
   "cell_type": "code",
   "execution_count": 51,
   "id": "a4c2ed67-da6f-491b-84c2-66a06b70c145",
   "metadata": {},
   "outputs": [
    {
     "data": {
      "text/plain": [
       "False"
      ]
     },
     "execution_count": 51,
     "metadata": {},
     "output_type": "execute_result"
    }
   ],
   "source": [
    "s < f_std"
   ]
  },
  {
   "cell_type": "markdown",
   "id": "f336d318-2193-47fb-b212-9773a8adc2ea",
   "metadata": {},
   "source": [
    "OK, das haben wir erwartet!\n",
    "\n",
    "Berechnen wir nun die Intervallschätzungen, indem wir die $90\\%-$, $95\\%-$ und $99\\%-$Konfidenzintervalle konstruieren. Erinnern Sie sich an die Gleichung für ein Konfidenzintervall und wie man den Freiheitsgrad berechnet."
   ]
  },
  {
   "cell_type": "markdown",
   "id": "9982f8c0-1686-4476-b046-0ca3279380ff",
   "metadata": {},
   "source": [
    "$$CI: \\text{Punktschätzung} \\pm t^*_{df,\\,\\alpha/2} \\times \\frac{s}{\\sqrt{n}}$$"
   ]
  },
  {
   "cell_type": "markdown",
   "id": "59cf3578-8f57-4cc6-bf7d-bc9387fb36b4",
   "metadata": {},
   "source": [
    "$$df = n-1$$"
   ]
  },
  {
   "cell_type": "markdown",
   "id": "64875e25-3a00-4b05-a060-9e4a88122101",
   "metadata": {},
   "source": [
    "Der kritische Wert $t^*_{5,\\,\\alpha/2}$ beträgt $2,02$, $2,57$ und $4,03$ für Konfidenzniveaus von $90\\%$, $95\\%$ bzw. $99\\%$.\n",
    "\n",
    "Angewandt auf unsere Höhendaten ergibt die Gleichung"
   ]
  },
  {
   "cell_type": "markdown",
   "id": "bd2c0f99-8876-40bc-a335-8b50e8b27d09",
   "metadata": {},
   "source": [
    "$$CI_{90\\%}: 161,44 \\pm 2,02 \\times \\frac{10,1}{\\sqrt{6}} = 161,44 \\pm 8,32$$"
   ]
  },
  {
   "cell_type": "markdown",
   "id": "bc0acdfc-ee64-4586-83eb-e3f364765a24",
   "metadata": {},
   "source": [
    "Wir können also mit $90 \\%$iger Sicherheit sagen, dass die durchschnittliche Körpergröße der Studentinnen (der Populationsparameter $\\mu$) zwischen $153,12$ und $169,76$ cm liegt."
   ]
  },
  {
   "cell_type": "markdown",
   "id": "cdb7b13b-0096-493f-8dfc-a201d68cf1fa",
   "metadata": {},
   "source": [
    "$$CI_{95\\%}: 161,44 \\pm 2,57 \\times \\frac{10,1}{\\sqrt{6}} = 161,44 \\pm 10,6$$"
   ]
  },
  {
   "cell_type": "markdown",
   "id": "5187eba3-49f0-46af-b623-b00accbe919d",
   "metadata": {},
   "source": [
    "Wir können also mit $95\\%$iger Sicherheit sagen, dass die durchschnittliche Körpergröße der Schülerinnen zwischen $150,84$ und $172,04$ cm liegt."
   ]
  },
  {
   "cell_type": "markdown",
   "id": "4359f84b-cbb8-4d41-812b-4f60bcf40335",
   "metadata": {},
   "source": [
    "$$CI_{99\\%}: 161,44 \\pm 4,03 \\times \\frac{10,1}{\\sqrt{6}} = 161,44 \\pm 16,6$$"
   ]
  },
  {
   "cell_type": "markdown",
   "id": "75e645ff-b528-496d-845c-e860415f5f00",
   "metadata": {},
   "source": [
    "Wir können also mit $99\\%$iger Sicherheit sagen, dass die durchschnittliche Körpergröße der Studentinnen zwischen $144,84$ und $178,04$ cm liegt.\n",
    "\n",
    "Es liegt auf der Hand, **dass die Fehlerspanne größer ist, wenn wir eine höhere Sicherheit haben wollen, dass der unbekannte Grundgesamtheitsparameter im Intervall enthalten ist**."
   ]
  },
  {
   "cell_type": "markdown",
   "id": "1d48e3b5-a3c0-4c4d-be21-082afa0a21a1",
   "metadata": {},
   "source": [
    "Zur Überprüfung der Korrektheit untersuchen wir, ob wir mit unserer Intervallschätzung tatsächlich den wahren Grundgesamtheitswert erfasst haben. Es ist wichtig, sich daran zu erinnern, dass das Konfidenzintervall unserem Stichprobenmittelwert keine Wahrscheinlichkeit zuweist, sondern besagt, dass das Konfidenzintervall bei wiederholten Zufallsstichproben den Mittelwert der Grundgesamtheit in $100(1-\\alpha)\\%$ der Fälle einschließen sollte. Um diese Behauptung zu testen, ändern wir die von uns im vorherigen Abschnitt geschriebene Python-Funktion leicht ab."
   ]
  },
  {
   "cell_type": "code",
   "execution_count": 52,
   "id": "f5032ba6-b2e3-45c9-8343-e8c717c175a5",
   "metadata": {},
   "outputs": [],
   "source": [
    "def CI_eval_t(pop_mean, sigma, n, estimate, alpha):\n",
    "    out=[]\n",
    "    for i in range(0,len(alpha)):\n",
    "        out.append(pop_mean >= estimate - t.ppf(1-alpha[i]/2,df = n-1)*(sigma/np.sqrt(n)) and pop_mean <= estimate + t.ppf(1-alpha[i]/2,df = n-1)*(sigma/np.sqrt(n)))\n",
    "    return out"
   ]
  },
  {
   "cell_type": "markdown",
   "id": "9fdcd8ca-18b4-4fdb-a4c7-b5662f611f46",
   "metadata": {},
   "source": [
    "Wenden wir nun unsere selbst erstellte Funktion `CI.eval.t()` auf unsere Daten an. Wir setzen `pop.mean = f_mean`, `sigma = s`, `n = sample.size`, `estimate = x.bar`, `alpha = [0.1,0.05,0.01]`, um zu evaluieren, ob die drei oben konstruierten Konfidenzintervalle ($90\\%$, $95\\%$ und $99\\%$) den Populationsmittelwert enthalten. Schließlich wandeln wir den resultierenden Vektor in ein `dataframe` -Objekt um, um die Lesbarkeit zu verbessern."
   ]
  },
  {
   "cell_type": "code",
   "execution_count": 57,
   "id": "2c300fc2-c39b-47d2-9063-00a0ac2df0d9",
   "metadata": {
    "tags": []
   },
   "outputs": [
    {
     "data": {
      "text/html": [
       "<div>\n",
       "<style scoped>\n",
       "    .dataframe tbody tr th:only-of-type {\n",
       "        vertical-align: middle;\n",
       "    }\n",
       "\n",
       "    .dataframe tbody tr th {\n",
       "        vertical-align: top;\n",
       "    }\n",
       "\n",
       "    .dataframe thead th {\n",
       "        text-align: right;\n",
       "    }\n",
       "</style>\n",
       "<table border=\"1\" class=\"dataframe\">\n",
       "  <thead>\n",
       "    <tr style=\"text-align: right;\">\n",
       "      <th></th>\n",
       "      <th>eval</th>\n",
       "    </tr>\n",
       "  </thead>\n",
       "  <tbody>\n",
       "    <tr>\n",
       "      <th>90%</th>\n",
       "      <td>True</td>\n",
       "    </tr>\n",
       "    <tr>\n",
       "      <th>95%</th>\n",
       "      <td>True</td>\n",
       "    </tr>\n",
       "    <tr>\n",
       "      <th>99%</th>\n",
       "      <td>True</td>\n",
       "    </tr>\n",
       "  </tbody>\n",
       "</table>\n",
       "</div>"
      ],
      "text/plain": [
       "     eval\n",
       "90%  True\n",
       "95%  True\n",
       "99%  True"
      ]
     },
     "execution_count": 57,
     "metadata": {},
     "output_type": "execute_result"
    }
   ],
   "source": [
    "n=sample_size\n",
    "# Wende Funktion CI_eval_t an und speichere Ergebnis in eval\n",
    "eval = CI_eval_t(pop_mean = f_mean, sigma = s, n = n, estimate = sample_mean, alpha = [0.1, 0.05, 0.01])\n",
    "\n",
    "# Erzeuge Dataframe\n",
    "df = pd.DataFrame({'eval':eval},\n",
    "                  index=['90%', '95%', '99%'])\n",
    "df"
   ]
  },
  {
   "cell_type": "code",
   "execution_count": 61,
   "id": "6dcbc394-1cdd-4058-9113-a6147291961c",
   "metadata": {},
   "outputs": [
    {
     "data": {
      "text/plain": [
       "163.5781702515895"
      ]
     },
     "execution_count": 61,
     "metadata": {},
     "output_type": "execute_result"
    }
   ],
   "source": [
    "sample_mean"
   ]
  },
  {
   "cell_type": "markdown",
   "id": "8e79c358-440d-481c-a03d-35dcd532b087",
   "metadata": {},
   "source": [
    "Nun, interessantes Ergebnis. Der wahre Mittelwert der Population (`f_mean` = $163,65$) wird von allen drei Konfidenzintervallen erfasst. Der Mittelwert unserer Zufallsstichprobe (`sample_mean` = $163,58$) war ein recht guter Schätzer.\n",
    "\n",
    "Bislang haben wir uns auf eine Stichprobe konzentriert. Was ist jedoch zu erwarten, wenn wir den Stichprobenprozess immer wieder wiederholen?\n",
    "\n",
    "Ein Konfidenzintervall mit einem bestimmten Konfidenzniveau besagt, dass das Konfidenzintervall bei wiederholten Stichproben den wahren Populationsparameter in $100(1-\\alpha)\\%$\n",
    "\n",
    "der Zeit einschließt. Ein Konfidenzintervall von $99 \\%$ bedeutet also, dass die Fehlermarge im Durchschnitt in $99$ von $100$ Fällen groß genug ist, um den wahren Wert einzuschließen; dies bedeutet jedoch auch, dass wir uns im Durchschnitt in einem von $100$ Fällen irren. Bei einem Konfidenzintervall von $95 \\%$ bzw. $90 \\%$ liegen wir in $5$ bzw. $10$ von $100$ Fällen falsch. Wir verwenden Python, um diese Behauptung zu testen, indem wir ein Simulationsexperiment durchführen.\n",
    "\n",
    "Wir ziehen eine Stichprobe aus der Höhenverteilung von oben. Wir nehmen $10$, $50$, $100$, $1000$ und $10000$ Zufallsstichproben. Jede Stichprobe hat einen Stichprobenumfang von $n=6$\n",
    ". Für jede Stichprobe berechnen wir den Stichprobenmittelwert, der für uns als Stichprobenstatistik von Interesse ist. Durch Anwendung unserer selbst erstellten Funktion `CI_eval_t()` testen wir, ob der wahre Mittelwert der Grundgesamtheit durch das $90\\%-$, $95\\%-$ und $99\\%-$ Konfidenzintervall erfasst wird. Wir speichern den sich daraus ergebenden booleschen Vektor und berechnen den Anteil der Fälle, in denen jedes bestimmte Konfidenzintervall tatsächlich den wahren Mittelwert der Grundgesamtheit enthält. Schließlich speichern wir den Anteil als Prozentsatz in einem `dataframe` -Objekt und benennen seine Zeilen und Spalten zur besseren Lesbarkeit um."
   ]
  },
  {
   "cell_type": "code",
   "execution_count": 58,
   "id": "29779387-5352-4cc8-93fe-4a22e72630f4",
   "metadata": {},
   "outputs": [
    {
     "name": "stdout",
     "output_type": "stream",
     "text": [
      "90    0.9\n",
      "95    1.0\n",
      "99    1.0\n",
      "dtype: float64 10 :Stichproben\n",
      "90    0.96\n",
      "95    0.96\n",
      "99    1.00\n",
      "dtype: float64 100 :Stichproben\n",
      "90    0.897\n",
      "95    0.947\n",
      "99    0.992\n",
      "dtype: float64 1000 :Stichproben\n",
      "90    0.9029\n",
      "95    0.9508\n",
      "99    0.9892\n",
      "dtype: float64 10000 :Stichproben\n"
     ]
    }
   ],
   "source": [
    "trials = [10,100,1000,10000]\n",
    "\n",
    "for trial in trials:\n",
    "    evals = []\n",
    "    df = pd.DataFrame()\n",
    "    # Wende Funktion CI_eval an und speichere Ergebnis in eval\n",
    "    for i in range(trial):\n",
    "        sample = t.rvs(trial-1,f_mean,f_std,trial)\n",
    "        sample_mean = np.mean(sample)\n",
    "        evals.append(CI_eval_t(pop_mean = f_mean, sigma = f_std, n = trial, estimate = sample_mean, alpha = [0.1, 0.05, 0.01]))\n",
    "    df = pd.DataFrame(evals, columns = ['90', '95','99'])\n",
    "    sum_df = df.sum()\n",
    "    print(sum_df/trial, trial, ':Stichproben')"
   ]
  },
  {
   "cell_type": "markdown",
   "id": "4f7ccb17-616c-477b-8469-f9aa6d067420",
   "metadata": {},
   "source": [
    "Es zeigt sich, dass mit zunehmender Anzahl von Stichproben die Zahlen konvergieren und die Wahrscheinlichkeit widerspiegeln, die durch das Vertrauensniveau gegeben ist."
   ]
  }
 ],
 "metadata": {
  "kernelspec": {
   "display_name": "Python 3 (ipykernel)",
   "language": "python",
   "name": "python3"
  },
  "language_info": {
   "codemirror_mode": {
    "name": "ipython",
    "version": 3
   },
   "file_extension": ".py",
   "mimetype": "text/x-python",
   "name": "python",
   "nbconvert_exporter": "python",
   "pygments_lexer": "ipython3",
   "version": "3.10.2"
  }
 },
 "nbformat": 4,
 "nbformat_minor": 5
}
