{
 "cells": [
  {
   "cell_type": "markdown",
   "id": "ea5b0119-212e-4574-9587-7905c849fd56",
   "metadata": {},
   "source": [
    "## Die Intervall-Schätzung\n",
    "----------------------------------------"
   ]
  },
  {
   "cell_type": "code",
   "execution_count": 1,
   "id": "8edc305e-09c3-4125-a317-7dc969de18b7",
   "metadata": {},
   "outputs": [],
   "source": [
    "from scipy.stats import norm"
   ]
  },
  {
   "cell_type": "markdown",
   "id": "889b546b-7a4b-497a-b0f3-7b4f3ad91544",
   "metadata": {},
   "source": [
    "Anstatt einem Grundgesamtheitsparameter einen einzelnen Wert zuzuordnen, gibt eine **Intervallschätzung** eine probabilistische Aussage, die das gegebene Intervall mit der Wahrscheinlichkeit in Beziehung setzt, dass dieses Intervall tatsächlich den wahren (unbekannten) Grundgesamtheitsparameter enthält.\n",
    "\n",
    "Das **Konfidenzniveau** wird a priori gewählt und hängt somit von den Präferenzen des Nutzers ab. Es wird bezeichnet durch"
   ]
  },
  {
   "cell_type": "markdown",
   "id": "88c45aab-d15b-4e8c-b864-9f7afe6cd4fd",
   "metadata": {},
   "source": [
    "$$ 100(1-\\alpha)\\% $$"
   ]
  },
  {
   "cell_type": "markdown",
   "id": "8767c8f3-8407-4fd8-bb97-704f9bb7e347",
   "metadata": {},
   "source": [
    "Obwohl jeder beliebige Wert für das Konfidenzniveau gewählt werden kann, sind die gebräuchlichsten Werte $90 \\%, 95 \\%$ und $99 \\%$. Wird das Konfidenzniveau als Wahrscheinlichkeit ausgedrückt, wird es als **Konfidenzkoeffizient** bezeichnet und mit $(1-\\alpha)$. Die gebräuchlichsten Vertrauenskoeffizienten sind $0,90$, $0,95$ bzw. $0,99$.\n",
    "\n",
    "Ein $100(1-α) \\%$-iges <a href=\"https://de.wikipedia.org/wiki/Konfidenzintervall\">Konfidenzintervall</a> ist eine Intervallschätzung um einen Populationsparameter $\\theta$ (hier ist der griechische Buchstabe $\\theta$ ein Platzhalter für einen beliebigen Populationsparameter von Interesse, wie z. B. den Mittelwert $\\mu$ oder die Standardabweichung $\\sigma$), von dem bei wiederholten Stichproben der Größe $N$ erwartet wird, dass er den wahren Wert von $\\theta$ in $100(1-α) \\%$ der Fälle einschließt ({cite:p}`fahrmeirstatistik` s.358).\n",
    "\n",
    "Die tatsächliche Zahl, die zur Punktschätzung addiert oder von ihr subtrahiert wird, wird als Fehlermarge bezeichnet."
   ]
  },
  {
   "cell_type": "markdown",
   "id": "b0284f15-2727-498f-95e8-acc93dc1b1a9",
   "metadata": {},
   "source": [
    "$$CI: \\text{Punktschätzung} \\pm \\text{Fehlermarge}$$"
   ]
  },
  {
   "cell_type": "markdown",
   "id": "bde2550a-49e6-4b80-9471-34341f731e57",
   "metadata": {},
   "source": [
    "Die Fehlermarge besteht aus zwei Elementen. Zum einen aus dem so genannten **kritischen Wert** und zum anderen aus einem Maß für die Variabilität der <a href=\"https://de.wikipedia.org/wiki/Sch%C3%A4tzfunktion\">Stichprobenverteilung</a>. Der kritische Wert ist ein numerischer Wert, der dem a priori festgelegten Vertrauensniveau entspricht. Er wird manchmal als $z^*$ oder $z^*_{\\alpha/2}$ bezeichnet. Das Maß für die Variabilität ist der <a href=\"https://de.wikipedia.org/wiki/Standardfehler\">Standardfehler</a>, der als $\\frac{\\sigma}{\\sqrt{n}}$ bezeichnet wird.\n",
    "\n",
    "Die Fehlermarge ($FM$) wird also ausgedrückt als"
   ]
  },
  {
   "cell_type": "markdown",
   "id": "f2cbc002-05a8-4c6d-8dbf-d40627dbdca5",
   "metadata": {},
   "source": [
    "$$FM = z^*_{\\alpha/2} \\times \\frac{\\sigma}{\\sqrt{n}}$$"
   ]
  },
  {
   "cell_type": "markdown",
   "id": "69e52057-f44f-40a9-be52-d88813d7cd27",
   "metadata": {},
   "source": [
    "Schauen wir uns zum besseren Verständnis eine Abbildung an."
   ]
  },
  {
   "cell_type": "markdown",
   "id": "3ff51f8c-616b-4cbf-a8bc-d3af45556127",
   "metadata": {},
   "source": [
    "![Alt-Text](marginoferror.png)"
   ]
  },
  {
   "cell_type": "markdown",
   "id": "cefabf9a-2db8-4672-888d-48a8f7fb463f",
   "metadata": {},
   "source": [
    "Dementsprechend lautet die vollständige Gleichung für das Konfidenzintervall wie folgt"
   ]
  },
  {
   "cell_type": "markdown",
   "id": "3c8c54e1-a730-4063-9b50-c6570e9fff0b",
   "metadata": {},
   "source": [
    "$$CI: \\text{Punktschätzung} \\pm z^*_{\\alpha/2} \\times \\frac{\\sigma}{\\sqrt{n}}$$"
   ]
  },
  {
   "cell_type": "markdown",
   "id": "3d437ade-56ec-4749-8c3a-30d756e2635d",
   "metadata": {},
   "source": [
    "Um den entsprechenden Wert für $z^*_{\\alpha/2}$ zu erhalten, kann man ihn in einer <a href=\"https://de.wikipedia.org/wiki/Standardnormalverteilungstabelle\">Tabelle</a> nachschlagen oder die Funktion `norm.ppf()` in Python verwenden. Lassen Sie uns zur Übung einige Konfidenzintervalle konstruieren."
   ]
  },
  {
   "cell_type": "markdown",
   "id": "741090e7-5d2b-42c0-89f0-2369f3c45393",
   "metadata": {},
   "source": [
    "**Konfidenzniveau von** $90 \\% (\\alpha=0,1)$"
   ]
  },
  {
   "cell_type": "code",
   "execution_count": 2,
   "id": "011f330d-b80a-4a84-98bf-573a5184abb4",
   "metadata": {},
   "outputs": [
    {
     "data": {
      "text/plain": [
       "-1.6448536269514729"
      ]
     },
     "execution_count": 2,
     "metadata": {},
     "output_type": "execute_result"
    }
   ],
   "source": [
    "norm.ppf(0.05)"
   ]
  },
  {
   "cell_type": "code",
   "execution_count": 3,
   "id": "0929194c-ee47-4cff-9dc6-8f27a476ef58",
   "metadata": {},
   "outputs": [
    {
     "data": {
      "text/plain": [
       "1.6448536269514722"
      ]
     },
     "execution_count": 3,
     "metadata": {},
     "output_type": "execute_result"
    }
   ],
   "source": [
    "norm.ppf(0.95)"
   ]
  },
  {
   "cell_type": "markdown",
   "id": "4333fe1e-0e97-4d68-b7f9-dcbee73ccaea",
   "metadata": {},
   "source": [
    "Die untere und obere Grenze des Intervalls, das einen Bereich von $90 \\%$ um den Mittelwert abdeckt, wird durch die $z$-Werte $-1,64$ bzw. $1,64$ angegeben."
   ]
  },
  {
   "cell_type": "markdown",
   "id": "d3eddc52-13c3-448f-9799-b04036053af3",
   "metadata": {},
   "source": [
    "Bei einem Konfidenzniveau von $90 \\% (\\alpha=0,1)$ ergibt sich aus der obigen Gleichung"
   ]
  },
  {
   "cell_type": "markdown",
   "id": "8571738f-9da9-4367-8462-76dd053b26a0",
   "metadata": {},
   "source": [
    "$$CI_{90\\%}: \\text{Punktschätzung} \\pm 1,64 \\times \\frac{\\sigma}{\\sqrt{n}}$$"
   ]
  },
  {
   "cell_type": "markdown",
   "id": "b6dbb4c7-548a-49cc-b21b-e2f1272c571f",
   "metadata": {},
   "source": [
    "**Konfidenzniveau von** $95 \\% (\\alpha=0,05)$"
   ]
  },
  {
   "cell_type": "code",
   "execution_count": 4,
   "id": "bb01371c-015d-47fa-831b-e247ec23e1d4",
   "metadata": {},
   "outputs": [
    {
     "data": {
      "text/plain": [
       "-1.9599639845400545"
      ]
     },
     "execution_count": 4,
     "metadata": {},
     "output_type": "execute_result"
    }
   ],
   "source": [
    "norm.ppf(0.025)"
   ]
  },
  {
   "cell_type": "code",
   "execution_count": 5,
   "id": "50d7c648-6469-4a52-939a-6fc8d1e5164e",
   "metadata": {},
   "outputs": [
    {
     "data": {
      "text/plain": [
       "1.959963984540054"
      ]
     },
     "execution_count": 5,
     "metadata": {},
     "output_type": "execute_result"
    }
   ],
   "source": [
    "norm.ppf(0.975)"
   ]
  },
  {
   "cell_type": "markdown",
   "id": "5ec1cd3c-7be9-4150-b45e-231bcd1652f3",
   "metadata": {},
   "source": [
    "Die untere und obere Grenze des Intervalls, das einen Bereich von $90 \\%$ um den Mittelwert abdeckt, wird durch die $z$-Werte $-1,96$ bzw. $1,96$ angegeben."
   ]
  },
  {
   "cell_type": "markdown",
   "id": "a5f4a4f9-5bee-44aa-bcd5-8976f0b48592",
   "metadata": {},
   "source": [
    "Bei einem Konfidenzniveau von $95 \\% (\\alpha=0,05)$ ergibt sich aus der obigen Gleichung"
   ]
  },
  {
   "cell_type": "markdown",
   "id": "4b880367-d785-4ba7-907f-8151ab23e22a",
   "metadata": {},
   "source": [
    "$$CI_{95\\%}: \\text{Punktschätzung} \\pm 1,96 \\times \\frac{\\sigma}{\\sqrt{n}}$$"
   ]
  },
  {
   "cell_type": "markdown",
   "id": "c3c7d20c-7f28-4280-9bbd-4d2e29ccaa87",
   "metadata": {},
   "source": [
    "**Konfidenzniveau von** $99 \\% (\\alpha=0,01)$"
   ]
  },
  {
   "cell_type": "code",
   "execution_count": 6,
   "id": "c13cb97c-57b8-4182-976b-4a3e77ec0533",
   "metadata": {},
   "outputs": [
    {
     "data": {
      "text/plain": [
       "-2.575829303548901"
      ]
     },
     "execution_count": 6,
     "metadata": {},
     "output_type": "execute_result"
    }
   ],
   "source": [
    "norm.ppf(0.005)"
   ]
  },
  {
   "cell_type": "code",
   "execution_count": 7,
   "id": "2f18e2a8-887d-4475-b0fc-e3ca57ddfe63",
   "metadata": {},
   "outputs": [
    {
     "data": {
      "text/plain": [
       "2.5758293035489004"
      ]
     },
     "execution_count": 7,
     "metadata": {},
     "output_type": "execute_result"
    }
   ],
   "source": [
    "norm.ppf(0.995)"
   ]
  },
  {
   "cell_type": "markdown",
   "id": "39e9f1a1-e6d3-4cd8-9fcd-1f7e1d1154e0",
   "metadata": {},
   "source": [
    "Die untere und obere Grenze des Intervalls, das einen Bereich von $90 \\%$ um den Mittelwert abdeckt, wird durch die $z$-Werte $-2,58$ bzw. $2,58$ angegeben."
   ]
  },
  {
   "cell_type": "markdown",
   "id": "a7d27a6a-da9e-428e-96c5-370916eaeda1",
   "metadata": {},
   "source": [
    "Bei einem Konfidenzniveau von $99 \\% (\\alpha=0,01)$ ergibt sich aus der obigen Gleichung"
   ]
  },
  {
   "cell_type": "markdown",
   "id": "bdc8f239-b7a0-4bb2-8335-92d590f22eb5",
   "metadata": {},
   "source": [
    "$$CI_{99\\%}: \\text{Punktschätzung} \\pm 2,58 \\times \\frac{\\sigma}{\\sqrt{n}}$$"
   ]
  },
  {
   "cell_type": "code",
   "execution_count": null,
   "id": "bad241bf-ea83-43c7-a3ed-68e795e19a9e",
   "metadata": {},
   "outputs": [],
   "source": []
  }
 ],
 "metadata": {
  "kernelspec": {
   "display_name": "Python 3 (ipykernel)",
   "language": "python",
   "name": "python3"
  },
  "language_info": {
   "codemirror_mode": {
    "name": "ipython",
    "version": 3
   },
   "file_extension": ".py",
   "mimetype": "text/x-python",
   "name": "python",
   "nbconvert_exporter": "python",
   "pygments_lexer": "ipython3",
   "version": "3.10.2"
  }
 },
 "nbformat": 4,
 "nbformat_minor": 5
}
