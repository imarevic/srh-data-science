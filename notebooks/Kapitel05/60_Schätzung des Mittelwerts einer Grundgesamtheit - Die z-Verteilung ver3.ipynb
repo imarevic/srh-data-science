{
 "cells": [
  {
   "cell_type": "markdown",
   "id": "85624611-8943-406e-8275-2ccb269d8f07",
   "metadata": {},
   "source": [
    "## Schätzung des Mittelwerts einer Grundgesamtheit - Die z-Verteilung\n",
    "----------------------------------------"
   ]
  },
  {
   "cell_type": "markdown",
   "id": "ab141199-989a-4717-b449-95ff15c6a289",
   "metadata": {},
   "source": [
    "Die Schätzung des Mittelwerts einer Grundgesamtheit anhand einer Stichprobe ist eine sehr häufige Aufgabe. Wenn die Standardabweichung der Grundgesamtheit ($\\sigma$) bekannt ist, basiert die Konstruktion eines Konfidenzintervalls für den Grundgesamtheitsmittelwert ($\\mu$) auf der normalverteilten Stichprobenverteilung der Stichprobenmittelwerte (gewährleistet durch den <a href=\"https://en.wikipedia.org/wiki/Central_limit_theorem\">zentralen Grenzwertsatz</a>). Wenn die Grundgesamtheit, aus der die Stichprobe gezogen wird, nicht normalverteilt ist, sollte der Stichprobenumfang $n \\gt 30$ sein.\n",
    "\n",
    "Das $100(1-α) \\%$ige Konfidenzintervall für $\\mu$ ist gegeben durch"
   ]
  },
  {
   "cell_type": "markdown",
   "id": "055b829b-483c-4dc8-b9a4-4cfc6f37bb8a",
   "metadata": {},
   "source": [
    "$$CI: \\bar x \\pm z^*_{\\alpha/2}\\times \\sigma_{\\bar x}$$"
   ]
  },
  {
   "cell_type": "markdown",
   "id": "31db20e3-ab3e-4795-9ad2-213e4df51c2b",
   "metadata": {},
   "source": [
    "$$\\text{wobei}\\qquad \\sigma_{\\bar x} = \\frac{\\sigma}{\\sqrt{n}}$$"
   ]
  },
  {
   "cell_type": "markdown",
   "id": "1635ebe5-91c9-485f-9f8d-9bdc6d57e181",
   "metadata": {},
   "source": [
    "Der Wert von $z^*_{\\alpha/2}$ entspricht dem kritischen Wert und wird aus der <a href=\"https://en.wikipedia.org/wiki/Standard_normal_table\">Standardnormaltabelle</a> entnommen oder mit der Funktion `norm.ppf()` in Python berechnet. Der kritische Wert ist eine Größe, die mit dem gewünschten Konfidenzniveau zusammenhängt. Typische Werte für $z^*_{\\alpha/2}$ sind $1,64$, $1,96$ und $2,58$, was einem Konfidenzniveau von $90 \\%, 95 \\%$ und $99 \\%$ entspricht. Dieser kritische Wert wird mit dem Standardfehler ($\\sigma_{\\bar{x}}$)multipliziert, um die Fehlermarge zu vergrößern oder zu verkleinern.\n",
    "\n",
    "Der Standardfehler ($\\sigma_{\\bar{x}}$) ergibt sich aus dem Verhältnis zwischen der Standardabweichung der Grundgesamtheit ($\\sigma$) und der Quadratwurzel des Stichprobenumfangs $n$. Er beschreibt das Ausmaß, in dem die berechnete Stichprobenstatistik von einer Stichprobe zur anderen abweichen kann. Das Produkt aus dem kritischen Wert und dem Standardfehler wird als <a href=\"https://en.wikipedia.org/wiki/Margin_of_error\">Fehlermarge</a> bezeichnet. Es ist die Größe, die vom Wert von $\\bar{x}$ subtrahiert und zu diesem addiert wird, um das Konfidenzintervall für $\\mu$ zu erhalten."
   ]
  }
 ],
 "metadata": {
  "kernelspec": {
   "display_name": "Python 3 (ipykernel)",
   "language": "python",
   "name": "python3"
  },
  "language_info": {
   "codemirror_mode": {
    "name": "ipython",
    "version": 3
   },
   "file_extension": ".py",
   "mimetype": "text/x-python",
   "name": "python",
   "nbconvert_exporter": "python",
   "pygments_lexer": "ipython3",
   "version": "3.10.2"
  }
 },
 "nbformat": 4,
 "nbformat_minor": 5
}
