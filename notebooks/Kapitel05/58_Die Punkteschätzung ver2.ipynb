{
 "cells": [
  {
   "cell_type": "markdown",
   "id": "3e735048-a14a-4440-a92d-d51d518bff2f",
   "metadata": {},
   "source": [
    "## Die Punkteschätzung\n",
    "----------------------------------------"
   ]
  },
  {
   "cell_type": "markdown",
   "id": "48c30f93-a3e2-4be4-b7f4-334ef1842936",
   "metadata": {},
   "source": [
    "Bei einer Stichprobe ergibt der Wert der berechneten Stichprobenstatistik eine **Punktschätzung** ({cite:p}`fahrmeirstatistik` s.338) des entsprechenden Populationsparameters. Beispielsweise ist der Stichprobenmittelwert ($\\bar{x}$) eine Punktschätzung des entsprechenden Populationsmittelwerts $\\mu$, oder die Stichprobenstandardabweichung $s$ ist eine Punktschätzung für die Standardabweichung der Grundgesamtheit $\\sigma$. Es ist jedoch zu beachten, dass jede zufällig ausgewählte Stichprobe aus einer Population voraussichtlich einen anderen Wert der Stichprobenstatistik ergibt. Mit anderen Worten, der Stichprobenmittelwert $\\bar{x}$ und die Stichprobenstandardabweichung $s$ variieren von Stichprobe zu Stichprobe, während der Grundgesamtheitsmittelwert $\\mu$ und die Grundgesamtheitsstandardabweichung $\\sigma$ fest sind. Folglich weicht der Punktschätzer fast immer vom wahren Wert der Grundgesamtheit ab. Daher sollte jeder Punktschätzung eine Information beigefügt werden, die die Genauigkeit dieser Schätzung angibt."
   ]
  },
  {
   "cell_type": "code",
   "execution_count": null,
   "id": "7ccbaf02-951e-480b-a403-3e6ae96d8e68",
   "metadata": {},
   "outputs": [],
   "source": []
  }
 ],
 "metadata": {
  "kernelspec": {
   "display_name": "Python 3 (ipykernel)",
   "language": "python",
   "name": "python3"
  },
  "language_info": {
   "codemirror_mode": {
    "name": "ipython",
    "version": 3
   },
   "file_extension": ".py",
   "mimetype": "text/x-python",
   "name": "python",
   "nbconvert_exporter": "python",
   "pygments_lexer": "ipython3",
   "version": "3.10.2"
  }
 },
 "nbformat": 4,
 "nbformat_minor": 5
}
