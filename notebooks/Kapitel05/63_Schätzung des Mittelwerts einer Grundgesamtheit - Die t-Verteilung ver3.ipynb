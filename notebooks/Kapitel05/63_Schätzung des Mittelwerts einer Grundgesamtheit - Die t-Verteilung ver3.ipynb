{
 "cells": [
  {
   "cell_type": "markdown",
   "id": "7caf1018-ccc0-4fe1-8dce-f9ab3ddc75b7",
   "metadata": {
    "tags": []
   },
   "source": [
    "## Schätzung des Mittelwerts einer Grundgesamtheit - Die $t$-Verteilung\n",
    "----------------------------------------"
   ]
  },
  {
   "cell_type": "code",
   "execution_count": 1,
   "id": "65c6a292-bab4-439f-af98-c32939dac024",
   "metadata": {},
   "outputs": [],
   "source": [
    "from scipy.stats import t\n",
    "import matplotlib.pyplot as plt\n",
    "import numpy as np"
   ]
  },
  {
   "cell_type": "markdown",
   "id": "bb93d342-01b8-42f6-b649-020edcf70e79",
   "metadata": {},
   "source": [
    "Bisher haben wir uns auf $\\sigma$, die Standardabweichung der Grundgesamtheit, gestützt, um auf den Mittelwert der Grundgesamtheit zu schließen. Der Populationsparameter $\\sigma$ wird zur Berechnung des Standardfehlers ($SF=\\frac{\\sigma}{\\sqrt{n}}$) verwendet, der ein Bestandteil der Fehlermarge ist. Was aber, wenn man die Standardabweichung der Grundgesamtheit nicht kennt, was in der Regel der Fall ist? Man kann die Standardabweichung der Stichprobe, die mit $s$ bezeichnet wird, als Schätzwert für die Standardabweichung der Grundgesamtheit verwenden."
   ]
  },
  {
   "cell_type": "markdown",
   "id": "15e89ced-167f-4e6a-bfa2-449a4b6145a9",
   "metadata": {},
   "source": [
    "$$\\text{wenn } \\  s \\approx \\sigma \\  \\text{ dann } \\  SF = \\frac{s}{\\sqrt{n}}$$"
   ]
  },
  {
   "cell_type": "markdown",
   "id": "1a299135-cb93-45bb-8858-0685bfbb693a",
   "metadata": {},
   "source": [
    "Es ist jedoch zu beachten, dass im Gegensatz zu $\\sigma$ die Standardabweichung der Stichprobe, $s$, von Stichprobe zu Stichprobe variiert und dass $s \\lt \\sigma$ ist. Man kann den Stichprobenumfang $n$ erhöhen, und damit wird $s$ zu einer besseren Schätzung für $\\sigma$. Solange wir jedoch $\\sigma$ nicht kennen, müssen wir bei der Durchführung des Inferenzverfahrens in jedem Fall zwei Größen schätzen: sowohl den Mittelwert $\\mu$ als auch die Standardabweichung $\\sigma$. Aus diesem Grund führt die Verwendung von $s$ als Schätzung für $\\sigma$ zu einer größeren Unsicherheit bei der Schätzung des Mittelwerts $\\mu$. Um dieser zusätzlichen Unsicherheit entgegenzuwirken, wenden wir die so genannte <a href=\"https://de.wikipedia.org/wiki/Studentsche_t-Verteilung\">$t$-Verteilung</a> oder **Studentsche-Verteilung** an, um die Fehlermarge ($FM$) zu berechnen."
   ]
  },
  {
   "cell_type": "markdown",
   "id": "7aed16d8-0478-4879-b0ba-5bb07c70a3b0",
   "metadata": {},
   "source": [
    "Das Verfahren zur Ermittlung eines Konfidenzintervalls für einen Grundgesamtheitsmittelwert, wenn die Standardabweichung $\\sigma$ der Grundgesamtheit nicht bekannt ist, ist im Wesentlichen dasselbe wie bei bekannter Standardabweichung der Grundgesamtheit, mit der Ausnahme, dass jetzt die $t$-Verteilung und die Standardabweichung $s$ der Stichprobe anstelle der Standardnormalverteilung ($z$-Scores) bzw. der Standardabweichung $\\sigma$ der Grundgesamtheit herangezogen werden.\n",
    "\n",
    "Erinnern Sie sich an die Konstruktion eines Konfidenzintervalls"
   ]
  },
  {
   "cell_type": "markdown",
   "id": "e53c03de-921f-412c-9bb7-46414f4817e6",
   "metadata": {},
   "source": [
    "$$CI: \\text{Punktschätzung} \\pm FM$$"
   ]
  },
  {
   "cell_type": "markdown",
   "id": "a58fb5c3-d581-468b-8cf6-2c9efc5cf10f",
   "metadata": {},
   "source": [
    "Die Fehlermarge ($FM$) besteht aus dem kritischen Wert und einem Maß für die Variabilität der Stichprobenverteilung. Der kritische Wert ist $t^*_{df,\\,\\alpha/2}$ für das gegebene Konfidenzniveau und die Freiheitsgrade. Sein Wert ergibt sich aus einer $t$-Verteilungstabelle für $n-1$ Freiheitsgrade oder wird in Python mit der Funktion `t.cdf()` berechnet. Das Maß für die Variabilität der Stichprobenverteilung ist der Standardfehler ($SF$). Da die Standardabweichung $\\sigma$ der Grundgesamtheit nicht bekannt ist, wird sie durch die Standardabweichung $s$ der Stichprobe ersetzt, was zu $SF=\\frac{s}{\\sqrt{n}}$ führt.\n",
    "\n",
    "Folglich ist das $100(1-α) \\%$ige\n",
    "Konfidenzintervall für $\\mu$ gleich"
   ]
  },
  {
   "cell_type": "markdown",
   "id": "4efb2cb5-f538-4adc-9800-b4a4c38fe082",
   "metadata": {},
   "source": [
    "$$CI: \\bar x \\pm t^*_{df,\\, \\alpha/2} \\frac{s}{\\sqrt{n}}$$"
   ]
  },
  {
   "cell_type": "markdown",
   "id": "beb0d784-dc49-452b-a7d1-eab8a9d112c6",
   "metadata": {},
   "source": [
    "Lassen Sie uns zur Übung einige Konfidenzintervalle konstruieren. Für den Zweck dieser Übung wird $df$ auf $12$ gesetzt."
   ]
  },
  {
   "cell_type": "markdown",
   "id": "80e56392-0395-49ae-9884-ac4843cae40a",
   "metadata": {},
   "source": [
    "**Konfidenzniveau von** $90 \\%$ ($\\alpha=0,1$)"
   ]
  },
  {
   "cell_type": "code",
   "execution_count": 2,
   "id": "432236ef-4868-4524-ac5a-b6d85f5fd8e0",
   "metadata": {},
   "outputs": [
    {
     "data": {
      "text/plain": [
       "-1.7822875556491593"
      ]
     },
     "execution_count": 2,
     "metadata": {},
     "output_type": "execute_result"
    }
   ],
   "source": [
    "t.ppf(0.05,df=12)"
   ]
  },
  {
   "cell_type": "code",
   "execution_count": 3,
   "id": "c4532085-779b-47c8-b40b-da69b9eab3e7",
   "metadata": {},
   "outputs": [
    {
     "data": {
      "text/plain": [
       "1.782287555649159"
      ]
     },
     "execution_count": 3,
     "metadata": {},
     "output_type": "execute_result"
    }
   ],
   "source": [
    "t.ppf(0.95,df=12)"
   ]
  },
  {
   "cell_type": "markdown",
   "id": "f6763397-5f5a-4651-ab0c-31537710e11d",
   "metadata": {},
   "source": [
    "Die untere und obere Grenze des Intervalls (bei $df=12$), das einen Bereich von $90 \\%$ um den Mittelwert abdeckt, entspricht den $t$-Werten $-1,78$ und $1,78$"
   ]
  },
  {
   "cell_type": "markdown",
   "id": "7943cb92-9a13-4e95-826b-6c4e9ac15e81",
   "metadata": {},
   "source": [
    "Bei einem Konfidenzniveau von $90 \\% (\\alpha=0,1)$ ergibt sich aus der obigen Gleichung"
   ]
  },
  {
   "cell_type": "markdown",
   "id": "ea5f9780-05ee-4b10-ae80-d265405f24a0",
   "metadata": {},
   "source": [
    "$$CI_{90\\%}: \\text{Punktschätzung} \\pm 1,78 \\times \\frac{s}{\\sqrt{n}}$$"
   ]
  },
  {
   "cell_type": "markdown",
   "id": "2f007849-4e80-4d55-93bd-73ef50490a09",
   "metadata": {},
   "source": [
    "**Konfidenzniveau von** $95 \\%$ ($\\alpha=0,05$)"
   ]
  },
  {
   "cell_type": "code",
   "execution_count": 4,
   "id": "8f22d51e-e644-441d-b14a-f25faf3f2b5b",
   "metadata": {},
   "outputs": [
    {
     "data": {
      "text/plain": [
       "-2.178812829663418"
      ]
     },
     "execution_count": 4,
     "metadata": {},
     "output_type": "execute_result"
    }
   ],
   "source": [
    "t.ppf(0.025,df=12)"
   ]
  },
  {
   "cell_type": "code",
   "execution_count": 5,
   "id": "05d11374-b116-4892-b6e3-3a2bcf2e814a",
   "metadata": {},
   "outputs": [
    {
     "data": {
      "text/plain": [
       "2.1788128296634177"
      ]
     },
     "execution_count": 5,
     "metadata": {},
     "output_type": "execute_result"
    }
   ],
   "source": [
    "t.ppf(0.975,df=12)"
   ]
  },
  {
   "cell_type": "markdown",
   "id": "d4bca6fc-9320-4f31-8985-2736a84e433a",
   "metadata": {},
   "source": [
    "Die untere und obere Grenze des Intervalls (bei $df=12$), das einen Bereich von $95 \\%$ um den Mittelwert abdeckt, entspricht den $t$-Werten $-2,18$ und $2,18$"
   ]
  },
  {
   "cell_type": "markdown",
   "id": "dbb04d57-8a0e-457b-90f9-ca5c85181541",
   "metadata": {},
   "source": [
    "Bei einem Konfidenzniveau von $95 \\% (\\alpha=0,05)$ ergibt sich aus der obigen Gleichung"
   ]
  },
  {
   "cell_type": "markdown",
   "id": "cce61319-24c8-41b5-a88c-ca347c37ca43",
   "metadata": {},
   "source": [
    "$$CI_{95\\%}: \\text{Punktschätzung} \\pm 2,18 \\times \\frac{s}{\\sqrt{n}}$$"
   ]
  },
  {
   "cell_type": "markdown",
   "id": "2caa9926-9591-4705-bd46-2c4c67f76434",
   "metadata": {},
   "source": [
    "**Konfidenzniveau von** $99 \\%$ ($\\alpha=0,01$)"
   ]
  },
  {
   "cell_type": "code",
   "execution_count": 6,
   "id": "ea4d78ff-ee16-4c07-a2c9-51bd42f07f21",
   "metadata": {},
   "outputs": [
    {
     "data": {
      "text/plain": [
       "-3.054539588336871"
      ]
     },
     "execution_count": 6,
     "metadata": {},
     "output_type": "execute_result"
    }
   ],
   "source": [
    "t.ppf(0.005,df=12)"
   ]
  },
  {
   "cell_type": "code",
   "execution_count": 7,
   "id": "a51b357f-2200-443d-8025-18f7a83bf7b2",
   "metadata": {},
   "outputs": [
    {
     "data": {
      "text/plain": [
       "3.0545395883368704"
      ]
     },
     "execution_count": 7,
     "metadata": {},
     "output_type": "execute_result"
    }
   ],
   "source": [
    "t.ppf(0.995,df=12)"
   ]
  },
  {
   "cell_type": "markdown",
   "id": "6bf13c3a-c29c-4f64-a334-487011db65a7",
   "metadata": {},
   "source": [
    "Die untere und obere Grenze des Intervalls (bei $df=12$), das einen Bereich von $99 \\%$ um den Mittelwert abdeckt, entspricht den $t$-Werten $-3,05$ und $3,05$"
   ]
  },
  {
   "cell_type": "markdown",
   "id": "53bb00aa-14bd-4977-b230-8aa99fcd7df6",
   "metadata": {},
   "source": [
    "Bei einem Konfidenzniveau von $99 \\% (\\alpha=0,01)$ ergibt sich aus der obigen Gleichung"
   ]
  },
  {
   "cell_type": "markdown",
   "id": "1e3289cb-d0d3-4ff9-82af-1438d46902e5",
   "metadata": {},
   "source": [
    "$$CI_{99\\%}: \\text{Punktschätzung} \\pm 3,05 \\times \\frac{s}{\\sqrt{n}}$$"
   ]
  },
  {
   "cell_type": "code",
   "execution_count": null,
   "id": "4a4ca92c-a9c4-40ac-aecf-f3c9d3d8676e",
   "metadata": {},
   "outputs": [],
   "source": []
  }
 ],
 "metadata": {
  "kernelspec": {
   "display_name": "Python 3 (ipykernel)",
   "language": "python",
   "name": "python3"
  },
  "language_info": {
   "codemirror_mode": {
    "name": "ipython",
    "version": 3
   },
   "file_extension": ".py",
   "mimetype": "text/x-python",
   "name": "python",
   "nbconvert_exporter": "python",
   "pygments_lexer": "ipython3",
   "version": "3.10.2"
  }
 },
 "nbformat": 4,
 "nbformat_minor": 5
}
