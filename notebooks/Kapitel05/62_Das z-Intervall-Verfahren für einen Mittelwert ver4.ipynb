{
 "cells": [
  {
   "cell_type": "markdown",
   "id": "7dba9134-b7dc-4853-b3f7-f3b88536fb13",
   "metadata": {
    "tags": []
   },
   "source": [
    "## Intervallschätzung für einen Mittelwert - Die $z$-Verteilung\n",
    "----------------------------------------"
   ]
  },
  {
   "cell_type": "code",
   "execution_count": 1,
   "id": "dce3ddb0-e40b-4028-986a-cec4f6f74955",
   "metadata": {},
   "outputs": [
    {
     "name": "stdout",
     "output_type": "stream",
     "text": [
      "\n",
      "---------------------------------\n",
      "Working on the host: LAPTOP-9LETB4SJ\n",
      "\n",
      "---------------------------------\n",
      "Python version: 3.10.2 | packaged by conda-forge | (main, Mar  8 2022, 15:52:24) [MSC v.1929 64 bit (AMD64)]\n",
      "\n",
      "---------------------------------\n",
      "Python interpreter: C:\\Users\\zak\\anaconda3\\envs\\srh\\python.exe\n"
     ]
    }
   ],
   "source": [
    "import matplotlib.pyplot as plt\n",
    "import numpy as np\n",
    "import pandas as pd\n",
    "from scipy.stats import norm\n",
    "\n",
    "%run ../src/notebook_env.py"
   ]
  },
  {
   "cell_type": "markdown",
   "id": "9095dd39-accb-4a36-86a3-f63cd14a1126",
   "metadata": {},
   "source": [
    "Zum besseren Verständnis der Schätzung eines Populationsmittelwerts und der Konstruktion eines Konfidenzintervalls diskutieren wir das Verfahren anhand eines Datensatzes. Dazu laden wir den `students` Datensatz. Sie können die Datei `students.csv` <a href=\"https://userpage.fu-berlin.de/soga/200/2010_data_sets/students.csv\">hier</a> herunterladen. Zunächst importieren wir den Datensatz und geben ihm einen passenden Namen."
   ]
  },
  {
   "cell_type": "code",
   "execution_count": 2,
   "id": "e0d9d321-d102-46df-9849-1c447d59862f",
   "metadata": {},
   "outputs": [],
   "source": [
    "# Lese Datei students.csv als Dataframe ein; Indexspalte wird übersprungen\n",
    "students = pd.read_csv('students.csv', index_col=0)"
   ]
  },
  {
   "cell_type": "markdown",
   "id": "2d6ce359-ff5f-4d4a-b758-368982f72ed3",
   "metadata": {},
   "source": [
    "Der `students` Datensatz besteht aus 8239 Zeilen, von denen jede einen bestimmten Studenten repräsentiert, und 16 Spalten, von denen jede einer Variable/einem Merkmal entspricht, das sich auf diesen bestimmten Studenten bezieht. Diese selbsterklärenden Variablen sind: *stud.id, name, gender, age, height, weight, religion, nc.score, semester, major, minor, score1, score2, online.tutorial, graduated, salary*.\n",
    "\n",
    "In diesem Abschnitt konzentrieren wir uns auf die Größe von Studentinnen. Wir gehen davon aus, dass die im Datensatz angegebenen Größenmessungen eine sehr gute Annäherung an die interessierende Population darstellen, nämlich die Größe der Studentinnen in cm. Die Variable `height` der Studentinnen ist annähernd normalverteilt - was durch die symmetrische Glockenform des Populationshistogramms bestätigt wird."
   ]
  },
  {
   "cell_type": "code",
   "execution_count": 3,
   "id": "841a1d46-e9cd-4215-9531-5c76dfaeeeff",
   "metadata": {},
   "outputs": [
    {
     "name": "stderr",
     "output_type": "stream",
     "text": [
      "C:\\Users\\zak\\AppData\\Local\\Temp\\ipykernel_9828\\1715817709.py:2: FutureWarning: Passing a set as an indexer is deprecated and will raise in a future version. Use a list instead.\n",
      "  genderheight = students[{'gender','height'}]\n"
     ]
    }
   ],
   "source": [
    "# Lese Spalte 'height' ein\n",
    "genderheight = students[{'gender','height'}]"
   ]
  },
  {
   "cell_type": "code",
   "execution_count": 4,
   "id": "c2933f42-cf9a-4b51-9d45-3a4b324489ab",
   "metadata": {},
   "outputs": [],
   "source": [
    "female = genderheight.loc[genderheight['gender'] == 'Female']"
   ]
  },
  {
   "cell_type": "code",
   "execution_count": 5,
   "id": "624ca791-5008-4c75-a404-149e47ea3e32",
   "metadata": {},
   "outputs": [
    {
     "data": {
      "image/png": "[encoded data removed]",
      "text/plain": [
       "<Figure size 432x288 with 1 Axes>"
      ]
     },
     "metadata": {
      "needs_background": "light"
     },
     "output_type": "display_data"
    }
   ],
   "source": [
    "# Bestimme Anzahl Bins\n",
    "bins = max(female['height'])-min(female['height'])\n",
    "\n",
    "# Plotte die Werte als Histogramm\n",
    "fig = plt.figure()\n",
    "ax = fig.add_subplot(111)\n",
    "ax.hist(female['height'],bins,edgecolor='k',width=1.0)\n",
    "\n",
    "# Erzeuge Labels\n",
    "ax.set_ylabel('Häufigkeit')\n",
    "ax.set_xlabel('Größe in cm')\n",
    "\n",
    "plt.show()"
   ]
  },
  {
   "cell_type": "markdown",
   "id": "b510ca74-66a2-4bdb-b446-6b334babed89",
   "metadata": {},
   "source": [
    "Auf der Grundlage der gegebenen Daten berechnen wir zunächst den Populationsmittelwert $\\mu$ und die Populationsstandardabweichung $\\sigma$."
   ]
  },
  {
   "cell_type": "code",
   "execution_count": 6,
   "id": "d47da30f-6d25-4ba0-9ac5-a5f4ff0810bf",
   "metadata": {},
   "outputs": [
    {
     "data": {
      "text/plain": [
       "163.65328467153284"
      ]
     },
     "execution_count": 6,
     "metadata": {},
     "output_type": "execute_result"
    }
   ],
   "source": [
    "f_mean = np.mean(female['height'])\n",
    "f_mean"
   ]
  },
  {
   "cell_type": "code",
   "execution_count": 7,
   "id": "061221f6-a9cd-466c-a71a-0d52f272abcb",
   "metadata": {},
   "outputs": [
    {
     "data": {
      "text/plain": [
       "7.918762263149209"
      ]
     },
     "execution_count": 7,
     "metadata": {},
     "output_type": "execute_result"
    }
   ],
   "source": [
    "f_std = np.std(female['height'])\n",
    "f_std"
   ]
  },
  {
   "cell_type": "markdown",
   "id": "f3b9e44c-36bb-464b-8e23-9fd3c5f7a926",
   "metadata": {},
   "source": [
    "Anschließend konstruieren wir eine Wahrscheinlichkeitsverteilung, indem wir die Funktion `norm.pdf()` anwenden, die durch die zuvor berechneten Parameter $\\mu$ und $\\sigma$ definiert ist, und stellen sie über dem Histogramm dar."
   ]
  },
  {
   "cell_type": "code",
   "execution_count": 8,
   "id": "dda546dc-1624-42ef-b8bc-c0f224b03140",
   "metadata": {},
   "outputs": [
    {
     "data": {
      "image/png": "[encoded data removed]",
      "text/plain": [
       "<Figure size 432x288 with 1 Axes>"
      ]
     },
     "metadata": {
      "needs_background": "light"
     },
     "output_type": "display_data"
    }
   ],
   "source": [
    "x = np.linspace(125,200,500)\n",
    "y_x = norm.pdf(x,f_mean,f_std)\n",
    "\n",
    "# Bestimme Anzahl Bins\n",
    "bins = max(female['height'])-min(female['height'])\n",
    "\n",
    "# Plotte die Werte als Histogramm\n",
    "fig = plt.figure()\n",
    "\n",
    "ax = fig.add_subplot(111)\n",
    "ax.hist(female['height'],bins=29,edgecolor='k',width=2.0,density = True)\n",
    "ax.plot(x,y_x)\n",
    "# Erzeuge Labels\n",
    "ax.set_ylabel('Häufigkeit')\n",
    "ax.set_xlabel('Größe in cm')\n",
    "\n",
    "plt.show()"
   ]
  },
  {
   "cell_type": "markdown",
   "id": "7e288e5a-743a-4abd-8e22-340d06c7ef8f",
   "metadata": {},
   "source": [
    "Eine gute Übereinstimmung!\n",
    "\n",
    "Nun nehmen wir eine Zufallsstichprobe mit einem Stichprobenumfang von $n=10$\n",
    "aus der Wahrscheinlichkeitsverteilung, indem wir die Funktion `norm.rvs()` anwenden und den Stichprobenmittelwert $\\bar{x}$ berechnen."
   ]
  },
  {
   "cell_type": "code",
   "execution_count": 9,
   "id": "9c118114-2474-4ac9-a3c3-37a1547b9290",
   "metadata": {},
   "outputs": [
    {
     "data": {
      "text/plain": [
       "array([176.51608944, 158.80893107, 159.47081813, 155.15670124,\n",
       "       170.50624195, 145.42794689, 177.47003423, 157.62546819,\n",
       "       166.17967943, 161.67857995])"
      ]
     },
     "execution_count": 9,
     "metadata": {},
     "output_type": "execute_result"
    }
   ],
   "source": [
    "# Grösse der Stichprobe\n",
    "sample_size = 10\n",
    "\n",
    "# Wähle normalverteilte Zufallszahlen mit Mittelwert f_mean und Standardabweichung f_std aus\n",
    "sample = norm.rvs(f_mean,f_std,sample_size,random_state =1)\n",
    "sample"
   ]
  },
  {
   "cell_type": "code",
   "execution_count": 10,
   "id": "a489a7f7-e032-4eea-830d-94ada45d03d4",
   "metadata": {},
   "outputs": [
    {
     "data": {
      "text/plain": [
       "162.88404905120882"
      ]
     },
     "execution_count": 10,
     "metadata": {},
     "output_type": "execute_result"
    }
   ],
   "source": [
    "sample_mean = np.mean(sample)\n",
    "sample_mean"
   ]
  },
  {
   "cell_type": "markdown",
   "id": "b9367f5e-3b65-4165-98c4-8623bca868ba",
   "metadata": {},
   "source": [
    "Unsere Stichprobe ergibt einen Stichprobenmittelwert $\\bar{x}$ von etwa $162,884$. Dies ist unser Punktschätzer für den interessierenden Grundgesamtheitsparameter, der in diesem Fall die durchschnittliche Körpergröße der Studentinnen ($\\mu$).\n",
    "\n",
    "Wie genau ist unsere Punktschätzung? Wir fragen Python, ob unsere Schätzung mit dem wahren Grundgesamtheitsparameter übereinstimmt."
   ]
  },
  {
   "cell_type": "code",
   "execution_count": 12,
   "id": "ea4655d0-0852-44d8-be25-1a4a357b0727",
   "metadata": {},
   "outputs": [
    {
     "data": {
      "text/plain": [
       "False"
      ]
     },
     "execution_count": 12,
     "metadata": {},
     "output_type": "execute_result"
    }
   ],
   "source": [
    "sample_mean == f_mean"
   ]
  },
  {
   "cell_type": "markdown",
   "id": "43d7bf0a-219c-4cd4-af5c-22ef9f5e467e",
   "metadata": {},
   "source": [
    "OK, das haben wir erwartet!\n",
    "\n",
    "Berechnen wir nun einige Intervallschätzungen, indem wir die $90\\%-, 95\\%-$ und $99\\%-$ Konfidenzintervalle konstruieren. Erinnern Sie sich an die Gleichung für ein Konfidenzintervall."
   ]
  },
  {
   "cell_type": "markdown",
   "id": "41136651-17fb-48cd-91de-9bda72b60e48",
   "metadata": {},
   "source": [
    "$$CI: \\text{Punktschätzung} \\pm z^*_{\\alpha/2} \\times \\frac{\\sigma}{\\sqrt{n}}$$"
   ]
  },
  {
   "cell_type": "markdown",
   "id": "551f3ac2-79fc-42ff-bbe7-ab3bbaff405d",
   "metadata": {},
   "source": [
    "Der kritische Wert $z^*_{\\alpha/2}$ beträgt $1,64$, $1,96$ und $2,58$ für Konfidenzniveaus von $90\\%, 95\\%$ bzw. $99\\%$.\n",
    "\n",
    "Angewandt auf unsere Daten ergibt die Gleichung"
   ]
  },
  {
   "cell_type": "markdown",
   "id": "7c15e5d6-77d9-4e11-936b-933368d1be0d",
   "metadata": {},
   "source": [
    "$$CI_{90\\%}: 162,884 \\pm 1,64 \\times \\frac{7,92}{\\sqrt{10}} = 162,884 \\pm 4,12$$"
   ]
  },
  {
   "cell_type": "markdown",
   "id": "fb2b732b-1271-4f11-9699-fe58edaab3a2",
   "metadata": {},
   "source": [
    "Wir können also mit $90\\%$iger Sicherheit sagen, dass die durchschnittliche Körpergröße der Studenten (der Grundgesamtheitsparameter $\\mu$) zwischen $158,764$ und $167,004$ cm liegt."
   ]
  },
  {
   "cell_type": "markdown",
   "id": "0c9d4dc2-eff3-43ef-bc43-1659aca49f1d",
   "metadata": {},
   "source": [
    "$$CI_{95\\%}: 162,884 \\pm 1,96 \\times \\frac{7,92}{\\sqrt{10}} = 162,884 \\pm 4,91$$"
   ]
  },
  {
   "cell_type": "markdown",
   "id": "9f7c709b-38d6-48b9-ba94-195de8259f3f",
   "metadata": {},
   "source": [
    "Wir können also mit 95%iger Sicherheit sagen, dass die durchschnittliche Körpergröße der Studenten zwischen $157,974$ und $167,794$ cm liegt."
   ]
  },
  {
   "cell_type": "markdown",
   "id": "e13cc71b-c937-43e3-8539-742f5cba9c4a",
   "metadata": {},
   "source": [
    "$$CI_{99\\%}: 162,884 \\pm 2,58 \\times \\frac{7,92}{\\sqrt{10}} = 162,884 \\pm 6,45$$"
   ]
  },
  {
   "cell_type": "markdown",
   "id": "ccc50f79-0549-4520-b765-4b694c9b0488",
   "metadata": {},
   "source": [
    "Wir können also mit $99\\%$iger Sicherheit sagen, dass die durchschnittliche Körpergröße der Studenten zwischen $156,434$ und $169,334$ cm liegt."
   ]
  },
  {
   "cell_type": "markdown",
   "id": "01c0b820-c70c-4596-b202-e9ec48fd619a",
   "metadata": {},
   "source": [
    "Es liegt auf der Hand, **dass die Fehlerspanne größer wird, wenn man eine höhere Sicherheit haben will, dass der unbekannte Grundgesamtheitsparameter im Intervall enthalten ist**."
   ]
  },
  {
   "cell_type": "markdown",
   "id": "323d20f1-21cc-4dfa-9b3a-9cb090d17719",
   "metadata": {},
   "source": [
    "Zur Überprüfung der Richtigkeit wollen wir untersuchen, ob wir mit unseren Intervallschätzungen tatsächlich den wahren Wert der Grundgesamtheit erfasst haben. Es ist wichtig, sich daran zu erinnern, dass das Konfidenzintervall unserem Stichprobenmittelwert keine Wahrscheinlichkeit zuweist, sondern besagt, dass das Konfidenzintervall bei wiederholten Zufallsstichproben den Mittelwert der Grundgesamtheit in $100(1-\\alpha)\\%$ der Fälle enthalten soll. Um diese Behauptung zu testen, schreiben wir selbst eine einfache Python-Funktion."
   ]
  },
  {
   "cell_type": "code",
   "execution_count": 12,
   "id": "68b3a82d-7cb2-4d6c-84a0-e1762b3efe0d",
   "metadata": {},
   "outputs": [],
   "source": [
    "def CI_eval(pop_mean, sigma, n, estimate, alpha):\n",
    "    out=[]\n",
    "    for i in range(0,len(alpha)):\n",
    "        out.append(pop_mean >= estimate - norm.ppf(1-alpha[i]/2)*sigma/np.sqrt(n) and pop_mean <= estimate + norm.ppf(1-alpha[i]/2)*sigma/np.sqrt(n))\n",
    "    return out"
   ]
  },
  {
   "cell_type": "markdown",
   "id": "e2bb86c3-5e48-46ec-902c-d0430fc7403c",
   "metadata": {},
   "source": [
    "Wenden wir nun unsere selbst erstellte Funktion `CI_eval()` auf unsere Daten an. Wir setzen `pop_mean = f_mean`, `sigma = f_std`, `n = sample_size`, `estimate = sample_mean`, `alpha = [0.1, 0.05, 0.01]`, um zu evaluieren, ob die drei oben konstruierten Konfidenzintervalle ($90\\%, 95\\%$ und $99\\%$) den Grundgesamtheitsmittelwert enthalten. Schließlich wandeln wir den resultierenden Vektor in ein `dataframe` -Objekt um, um die Lesbarkeit zu verbessern."
   ]
  },
  {
   "cell_type": "code",
   "execution_count": 13,
   "id": "2ee56d6c-1d32-4947-be71-f1d846847f1d",
   "metadata": {
    "tags": []
   },
   "outputs": [
    {
     "data": {
      "text/html": [
       "<div>\n",
       "<style scoped>\n",
       "    .dataframe tbody tr th:only-of-type {\n",
       "        vertical-align: middle;\n",
       "    }\n",
       "\n",
       "    .dataframe tbody tr th {\n",
       "        vertical-align: top;\n",
       "    }\n",
       "\n",
       "    .dataframe thead th {\n",
       "        text-align: right;\n",
       "    }\n",
       "</style>\n",
       "<table border=\"1\" class=\"dataframe\">\n",
       "  <thead>\n",
       "    <tr style=\"text-align: right;\">\n",
       "      <th></th>\n",
       "      <th>eval</th>\n",
       "    </tr>\n",
       "  </thead>\n",
       "  <tbody>\n",
       "    <tr>\n",
       "      <th>90%</th>\n",
       "      <td>True</td>\n",
       "    </tr>\n",
       "    <tr>\n",
       "      <th>95%</th>\n",
       "      <td>True</td>\n",
       "    </tr>\n",
       "    <tr>\n",
       "      <th>99%</th>\n",
       "      <td>True</td>\n",
       "    </tr>\n",
       "  </tbody>\n",
       "</table>\n",
       "</div>"
      ],
      "text/plain": [
       "     eval\n",
       "90%  True\n",
       "95%  True\n",
       "99%  True"
      ]
     },
     "execution_count": 13,
     "metadata": {},
     "output_type": "execute_result"
    }
   ],
   "source": [
    "# Wende Funktion CI_eval an und speichere Ergebnis in eval\n",
    "eval = CI_eval(pop_mean = f_mean, sigma = f_std, n = sample_size, estimate = sample_mean, alpha = [0.1, 0.05, 0.01])\n",
    "\n",
    "# Erzeuge Dataframe\n",
    "df = pd.DataFrame({'eval':eval},\n",
    "                  index=['90%', '95%', '99%'])\n",
    "df"
   ]
  },
  {
   "cell_type": "markdown",
   "id": "9a4ad184-ede4-4ed3-9b8f-d2b5888bb142",
   "metadata": {},
   "source": [
    "Ein interessantes Ergebnis. Der wahre Mittelwert der Grundgesamtheit (`f_mean` = $163,65$) wird von allen drei Konfidenzintervallen erfasst. Der Mittelwert unserer Zufallsstichprobe (`sample_mean` = $162,884$) war ein recht guter Schätzer."
   ]
  },
  {
   "cell_type": "markdown",
   "id": "b0a5f536-4b0d-4996-ac0d-96056d12c7bc",
   "metadata": {
    "tags": []
   },
   "source": [
    "Bislang haben wir uns nur auf eine bestimmte Stichprobe konzentriert. Was sollten wir jedoch erwarten, wenn wir den Stichprobenprozess immer und immer wieder wiederholen?\n",
    "\n",
    "Ein Konfidenzintervall eines bestimmten Konfidenzniveaus besagt, dass bei wiederholten Stichproben erwartet wird, dass das Konfidenzintervall den wahren Populationsparameter in $100(1-\\alpha)\\%$ der Zeit einschließt. Ein Konfidenzintervall von $99 \\%$ bedeutet also, dass die Fehlermarge im Durchschnitt in $99$ von $100$ Fällen groß genug ist, um den wahren Wert der Grundgesamtheit einzuschließen; dies bedeutet jedoch auch, dass wir uns im Durchschnitt in einem von $100$ Fällen irren. Außerdem liegen wir bei einem Konfidenzintervall von $95 \\%$ bzw. $90 \\%$ in $5$ bzw. $10$ von $100$ Fällen falsch. Wir verwenden die Python-Maschinerie, um diese Behauptung zu testen, indem wir ein Simulationsexperiment durchführen.\n",
    "\n",
    "Wir ziehen eine Stichprobe aus der Verteilung der Körpergrösse von oben. Wir nehmen $10$, $50$, $100$, $1000$ und $10000$ Zufallsstichproben. Jede Stichprobe hat einen Stichprobenumfang von $n=10$. Für jede Stichprobe berechnen wir den Stichprobenmittelwert $\\bar{x}$, der für unsere Stichprobenstatistik von Interesse ist. Durch Anwendung unserer selbst erstellten Funktion `CI_eval()` testen wir, ob der wahre Mittelwert der Grundgesamtheit durch das $90\\%-$, $95\\%-$ und $99\\%-$ Konfidenzintervall erfasst wird. Wir speichern den resultierenden booleschen Vektor und berechnen den Anteil der Fälle, in denen jedes bestimmte Konfidenzintervall tatsächlich den wahren Mittelwert der Grundgesamtheit enthält. Schließlich speichern wir den Anteil als Prozentsatz in einem `dataframe` -Objekt und benennen seine Zeilen und Spalten zur besseren Lesbarkeit um."
   ]
  },
  {
   "cell_type": "code",
   "execution_count": 14,
   "id": "c51948ea-a029-42c6-a0c8-bb2fb68ab689",
   "metadata": {},
   "outputs": [
    {
     "name": "stdout",
     "output_type": "stream",
     "text": [
      "90    1.0\n",
      "95    1.0\n",
      "99    1.0\n",
      "dtype: float64 10 :Stichproben\n",
      "90    0.80\n",
      "95    0.90\n",
      "99    0.99\n",
      "dtype: float64 100 :Stichproben\n",
      "90    0.904\n",
      "95    0.948\n",
      "99    0.993\n",
      "dtype: float64 1000 :Stichproben\n",
      "90    0.8987\n",
      "95    0.9474\n",
      "99    0.9880\n",
      "dtype: float64 10000 :Stichproben\n"
     ]
    }
   ],
   "source": [
    "trials = [10,100,1000,10000]\n",
    "\n",
    "for trial in trials:\n",
    "    evals = []\n",
    "    df = pd.DataFrame()\n",
    "    # Wende Funktion CI_eval an und speichere Ergebnis in eval\n",
    "    for i in range(trial):\n",
    "        sample = norm.rvs(f_mean,f_std,trial)\n",
    "        sample_mean = np.mean(sample)\n",
    "        evals.append(CI_eval(pop_mean = f_mean, sigma = f_std, n = trial, estimate = sample_mean, alpha = [0.1, 0.05, 0.01]))\n",
    "    df = pd.DataFrame(evals, columns = ['90', '95','99'])\n",
    "    sum_df = df.sum()\n",
    "    print(sum_df/trial, trial, ':Stichproben')"
   ]
  },
  {
   "cell_type": "markdown",
   "id": "739f1587-eb1e-4bf8-aaf8-4425f0258dd1",
   "metadata": {},
   "source": [
    "Es zeigt sich, dass mit zunehmender Anzahl von Stichproben die Zahlen konvergieren und die Wahrscheinlichkeit widerspiegeln, die durch das Vertrauensniveau gegeben ist."
   ]
  },
  {
   "cell_type": "code",
   "execution_count": null,
   "id": "95907b41-2567-487c-96be-1381239c810a",
   "metadata": {},
   "outputs": [],
   "source": []
  }
 ],
 "metadata": {
  "kernelspec": {
   "display_name": "Python 3 (ipykernel)",
   "language": "python",
   "name": "python3"
  },
  "language_info": {
   "codemirror_mode": {
    "name": "ipython",
    "version": 3
   },
   "file_extension": ".py",
   "mimetype": "text/x-python",
   "name": "python",
   "nbconvert_exporter": "python",
   "pygments_lexer": "ipython3",
   "version": "3.10.2"
  }
 },
 "nbformat": 4,
 "nbformat_minor": 5
}
