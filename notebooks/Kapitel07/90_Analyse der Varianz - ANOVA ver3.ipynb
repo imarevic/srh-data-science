{
 "cells": [
  {
   "cell_type": "markdown",
   "id": "82bad07a-11ad-441f-99fa-377005e6a312",
   "metadata": {},
   "source": [
    "## Analyse der Varianz - ANOVA\n",
    "----------------------------------------"
   ]
  },
  {
   "cell_type": "markdown",
   "id": "cfd2f4eb-de37-4173-9bbf-0785916d352f",
   "metadata": {},
   "source": [
    "In diesem Abschnitt wird eine Methode namens <a href=\"https://en.wikipedia.org/wiki/Analysis_of_variance\">Varianzanalyse</a> (ANOVA) erörtert, mit der mehrere Mittelwerte einer Grundgesamtheit verglichen werden können.\n",
    "\n",
    "Genauer gesagt geht es um die sogenannte <a href=\"https://en.wikipedia.org/wiki/One-way_analysis_of_variance\">einseitige Varianzanalyse</a>. Bei dieser Art der ANOVA werden die Mittelwerte einer Variablen verglichen, die sich aus der Klassifizierung durch *eine* andere Variable, dem sogenannten **Faktor**, ergeben. Um das Konzept zu veranschaulichen, wollen wir ein einfaches Beispiel entwerfen. Angenommen, wir vergleichen die mittleren Jahresgehälter der in Deutschland lebenden Personen, gruppiert nach Bundesländern, dann erhalten wir $16$ Mittelwerte der Jahresgehälter, einen für jedes Bundesland. In diesem Beispiel ist die Bundeslandvariable also eine Klassifikationsvariable, der so genannte Faktor.\n",
    "\n",
    "Bitte beachten Sie, dass die einseitige Varianzanalyse die Verallgemeinerung des zusammengefassten $t$-Tests auf mehr als zwei Grundgesamtheiten ist."
   ]
  },
  {
   "cell_type": "code",
   "execution_count": null,
   "id": "c13cbf0b-ea66-4948-bab0-0c213f730eac",
   "metadata": {},
   "outputs": [],
   "source": []
  }
 ],
 "metadata": {
  "kernelspec": {
   "display_name": "Python 3 (ipykernel)",
   "language": "python",
   "name": "python3"
  },
  "language_info": {
   "codemirror_mode": {
    "name": "ipython",
    "version": 3
   },
   "file_extension": ".py",
   "mimetype": "text/x-python",
   "name": "python",
   "nbconvert_exporter": "python",
   "pygments_lexer": "ipython3",
   "version": "3.10.2"
  }
 },
 "nbformat": 4,
 "nbformat_minor": 5
}
