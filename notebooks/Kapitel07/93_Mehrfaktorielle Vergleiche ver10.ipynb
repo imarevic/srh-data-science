{
 "cells": [
  {
   "cell_type": "markdown",
   "id": "b06ac2ed-9723-4ab2-a7fd-ee2598849e8d",
   "metadata": {},
   "source": [
    "## Mehrfaktorielle Vergleiche\n",
    "----------------------------------------"
   ]
  },
  {
   "cell_type": "code",
   "execution_count": 5,
   "id": "252e00bd-4fcf-480e-a744-8b80485453c3",
   "metadata": {},
   "outputs": [
    {
     "name": "stdout",
     "output_type": "stream",
     "text": [
      "\n",
      "---------------------------------\n",
      "Working on the host: LAPTOP-9LETB4SJ\n",
      "\n",
      "---------------------------------\n",
      "Python version: 3.10.2 | packaged by conda-forge | (main, Mar  8 2022, 15:52:24) [MSC v.1929 64 bit (AMD64)]\n",
      "\n",
      "---------------------------------\n",
      "Python interpreter: C:\\Users\\zak\\anaconda3\\envs\\srh\\python.exe\n"
     ]
    }
   ],
   "source": [
    "import matplotlib.pyplot as plt\n",
    "import numpy as np\n",
    "import pandas as pd\n",
    "\n",
    "from random import sample\n",
    "from scipy.stats import f\n",
    "from scipy import stats\n",
    "import scipy.stats\n",
    "import statsmodels.api as smi\n",
    "\n",
    "from scipy.stats import f_oneway\n",
    "from statsmodels.stats.multicomp import pairwise_tukeyhsd\n",
    "\n",
    "#import statsmodels.api as sm\n",
    "from statsmodels.formula.api import ols\n",
    "\n",
    "%run ../src/notebook_env.py"
   ]
  },
  {
   "cell_type": "markdown",
   "id": "51176f63-dfa5-4f8f-b877-0d97abbb1a58",
   "metadata": {},
   "source": [
    "Eine Einschränkung der ANOVA besteht darin, dass wir, wenn wir die Nullhypothese ablehnen, feststellen, dass die Mittelwerte der betrachteten Populationen nicht alle gleich sind. Wir können jedoch weder entscheiden, welche Mittelwerte unterschiedlich sind, noch, in welchem Verhältnis die Mittelwerte zueinander stehen.\n",
    "\n",
    "Um diese Frage zu klären, wenden wir Methoden an, die als **mehrfaktorielle Vergleiche** oder **Mehrfachvergleiche** bezeichnet werden. Das Problem bei Mehrfachvergleichen ist, dass je mehr Hypothesen für einen bestimmten Datensatz getestet werden, desto wahrscheinlicher ist es, dass die Nullhypothese fälschlicherweise zurückgewiesen wird. Daher erfordern die Methoden des Mehrfachvergleichs eine höhere Signifikanzschwelle ($\\alpha$) für einzelne Vergleiche, um die Anzahl der gezogenen Schlüsse zu kompensieren."
   ]
  },
  {
   "cell_type": "markdown",
   "id": "59bf843c-6586-4ae4-99f5-a50e8bd4a0de",
   "metadata": {},
   "source": [
    "### Family Wise Error Rate (FWER)"
   ]
  },
  {
   "cell_type": "markdown",
   "id": "84e48ee0-08d6-45dc-9d70-e4ac7803e7ff",
   "metadata": {},
   "source": [
    "Eine **Testfamilie** ist der Fachbegriff für eine Reihe von Tests, die an einem Datensatz durchgeführt werden. Die <a href=\"https://en.wikipedia.org/wiki/Family-wise_error_rate\">Family Wise Error Rate</a> ist die Wahrscheinlichkeit, dass bei der Durchführung von Mehrfachhypothesentests ein oder mehrere falsche Zurückweisungen der Null-Hypothese oder Fehler vom <a href=\"https://de.wikipedia.org/wiki/Fehler_1._und_2._Art\">Typ I</a> gemacht werden.\n",
    "\n",
    "Es sei daran erinnert, dass bei einem Signifikanzniveau von $\\alpha=0,05$ die Wahrscheinlichkeit, einen Fehler vom Typ I zu machen, $0,05$ oder $5 \\%$ beträgt. Folglich ist die Wahrscheinlichkeit, keinen Fehler vom Typ I zu machen, $1-\\alpha=1-0,05=0,95$. Außerdem ist die Wahrscheinlichkeit, zwei unabhängige Ereignisse zu beobachten, das Produkt ihrer Wahrscheinlichkeiten. Wenn wir also zwei unabhängige Tests durchführen, ist die Wahrscheinlichkeit, beim ersten und beim zweiten Test keinen Fehler vom Typ I zu machen"
   ]
  },
  {
   "cell_type": "markdown",
   "id": "b7e94def-8e7a-482c-a6f2-d061a5754d43",
   "metadata": {},
   "source": [
    "$$(1-\\alpha) \\times (1-\\alpha) = (1-\\alpha)^2$$"
   ]
  },
  {
   "cell_type": "markdown",
   "id": "1272cb22-5314-475e-8f0f-0791f49e4127",
   "metadata": {},
   "source": [
    "Wenn $\\alpha=0,05$ ist, ergibt sich eine Wahrscheinlichkeit, dass beim ersten und zweiten Test kein Fehler vom Typ I auftritt, von"
   ]
  },
  {
   "cell_type": "markdown",
   "id": "3c307980-55dd-405f-8c08-54770b82d81a",
   "metadata": {},
   "source": [
    "$$(1 - \\alpha)^2 = (1-0,05)^2 = 0,95^2 \\approx 0,902$$"
   ]
  },
  {
   "cell_type": "markdown",
   "id": "3194008a-1eca-4d0c-82e6-064296742c41",
   "metadata": {},
   "source": [
    "Für eine Familie von $C$-Tests ist die Wahrscheinlichkeit, dass kein Fehler vom Typ I für die gesamte Familie auftritt, formal ausgedrückt"
   ]
  },
  {
   "cell_type": "markdown",
   "id": "fd9b8ede-bfb2-4919-a0ff-e08bd3079d19",
   "metadata": {},
   "source": [
    "$$(1-\\alpha)^C\\text{.}$$"
   ]
  },
  {
   "cell_type": "markdown",
   "id": "4efa210b-2121-4817-81ad-660937905807",
   "metadata": {},
   "source": [
    "Betrachten wir nun $C=10$ und $\\alpha=0,05$. Wir führen also $10$ Mehrfachvergleiche mit einem Datensatz durch. Die Wahrscheinlichkeit, keinen Fehler vom Typ I in der Familie zu machen, ist dann"
   ]
  },
  {
   "cell_type": "markdown",
   "id": "362fd962-846e-4a7b-92f0-0e9d529dfa95",
   "metadata": {},
   "source": [
    "$$(1-\\alpha)^C=(1-0,05)^{10} \\approx 0,599$$"
   ]
  },
  {
   "cell_type": "markdown",
   "id": "612839a3-ae77-4b94-b2e1-adc9dc98a6ae",
   "metadata": {},
   "source": [
    "Folglich ist die Wahrscheinlichkeit, dass **ein oder mehrere Fehler vom Typ I** in der Testfamilie auftreten"
   ]
  },
  {
   "cell_type": "markdown",
   "id": "0fd75f60-8cd3-4877-ab13-7d167ae849ee",
   "metadata": {},
   "source": [
    "$$1 - (1-\\alpha)^C$$"
   ]
  },
  {
   "cell_type": "markdown",
   "id": "968ed14a-7e41-4090-9272-353a972283cc",
   "metadata": {},
   "source": [
    "Für unser Beispiel finden wir"
   ]
  },
  {
   "cell_type": "markdown",
   "id": "92a84235-ac41-43f5-8dde-724060f7d940",
   "metadata": {},
   "source": [
    "$$1 - (1-\\alpha)^C = 1 - (1-0,05)^{10} \\approx 0,401$$"
   ]
  },
  {
   "cell_type": "markdown",
   "id": "ef9b841b-93c7-4435-8fb9-f646b7546804",
   "metadata": {},
   "source": [
    "Somit ist bei $\\alpha=0,05$ für jeden der $10$ Mehrfachvergleiche die Wahrscheinlichkeit, dass die Nullhypothese falsch zurückgewiesen wird, $0,401$ oder $40,1 \\%$.\n",
    "\n",
    "Um diesem Problem Rechnung zu tragen, gibt es <a href=\"https://en.wikipedia.org/wiki/Multiple_comparisons_problem\">mehrere statistische Methoden</a>. In diesem Abschnitt werden die <a href=\"https://en.wikipedia.org/wiki/Bonferroni_correction\">Bonferroni-Korrektur</a> und die <a href=\"https://en.wikipedia.org/wiki/Tukey%27s_range_test\">Tukey-Mehrfachvergleichsmethode</a>, auch bekannt als **Tukeys HSD-Test (hoenstly significant difference)**, behandelt."
   ]
  },
  {
   "cell_type": "markdown",
   "id": "502c10e4-a9cc-4e7c-8f98-aca146e2f283",
   "metadata": {},
   "source": [
    "### Beispiel-Daten"
   ]
  },
  {
   "cell_type": "markdown",
   "id": "73a72152-9753-43a9-8f8e-9483c74df3e3",
   "metadata": {},
   "source": [
    "In diesem Abschnitt wiederholen wir das Beispiel aus dem vorherigen Abschnitt. Dort haben wir eine einfaktorielle ANOVA angewandt, um zu **testen, ob sich das mittlere Jahresgehalt der Absolventen zwischen den Absolventen verschiedener Studienfächer unterscheidet**. Dieses Mal werden wir jedoch mehrere Vergleiche durchführen, um die Beziehung zwischen allen Gruppenmittelwerten zu analysieren.\n",
    "\n",
    "Laden Sie den `students` Datensatz erneut (Sie können die Datei `students.csv` <a href=\"https://userpage.fu-berlin.de/soga/200/2010_data_sets/students.csv\">hier</a> herunterladen)."
   ]
  },
  {
   "cell_type": "code",
   "execution_count": 6,
   "id": "40351f0f-a984-43e2-a9fe-5dc900eebf73",
   "metadata": {},
   "outputs": [],
   "source": [
    "# Lese Datei students.csv als Dataframe ein; Indexspalte wird übersprungen\n",
    "students = pd.read_csv('students.csv', index_col=0)"
   ]
  },
  {
   "cell_type": "markdown",
   "id": "75cd16e3-4941-444d-8b0a-da95689808ca",
   "metadata": {},
   "source": [
    "Der `students` Datensatz besteht aus $8239$ Zeilen, von denen jede einen bestimmten Studenten repräsentiert, und $16$ Spalten, von denen jede einer Variable/einem Merkmal entspricht, das sich auf diesen bestimmten Studenten bezieht. Diese selbsterklärenden Variablen sind: *stud.id, name, gender, age, height, weight, religion, nc.score, semester, major, minor, score1, score2, online.tutorial, graduated, salary.*"
   ]
  },
  {
   "cell_type": "markdown",
   "id": "e934479a-1638-450a-929e-4d01ebe80b10",
   "metadata": {},
   "source": [
    "Aus dem Datensatz der Studierenden ziehen wir eine Zufallsstichprobe von $275$ Absolventen und reduzieren den Datensatz auf die beiden interessierenden Variablen, die kategoriale Variable `major` und die numerische Variable `salary`. Für eine bessere Lesbarkeit in der folgenden Analyse ersetzen wir die Namen der Studienfächer durch entsprechende Abkürzungen."
   ]
  },
  {
   "cell_type": "code",
   "execution_count": 14,
   "id": "1a29af9e-2136-4ff3-b875-0351c9087a10",
   "metadata": {},
   "outputs": [
    {
     "data": {
      "text/html": [
       "<div>\n",
       "<style scoped>\n",
       "    .dataframe tbody tr th:only-of-type {\n",
       "        vertical-align: middle;\n",
       "    }\n",
       "\n",
       "    .dataframe tbody tr th {\n",
       "        vertical-align: top;\n",
       "    }\n",
       "\n",
       "    .dataframe thead th {\n",
       "        text-align: right;\n",
       "    }\n",
       "</style>\n",
       "<table border=\"1\" class=\"dataframe\">\n",
       "  <thead>\n",
       "    <tr style=\"text-align: right;\">\n",
       "      <th></th>\n",
       "      <th>major</th>\n",
       "      <th>salary</th>\n",
       "    </tr>\n",
       "  </thead>\n",
       "  <tbody>\n",
       "    <tr>\n",
       "      <th>3826</th>\n",
       "      <td>MaSt</td>\n",
       "      <td>57849.343490</td>\n",
       "    </tr>\n",
       "    <tr>\n",
       "      <th>795</th>\n",
       "      <td>MaSt</td>\n",
       "      <td>56558.160738</td>\n",
       "    </tr>\n",
       "    <tr>\n",
       "      <th>2127</th>\n",
       "      <td>PoS</td>\n",
       "      <td>46945.174104</td>\n",
       "    </tr>\n",
       "    <tr>\n",
       "      <th>1292</th>\n",
       "      <td>Bio</td>\n",
       "      <td>40093.455971</td>\n",
       "    </tr>\n",
       "    <tr>\n",
       "      <th>5913</th>\n",
       "      <td>EnS</td>\n",
       "      <td>35106.961865</td>\n",
       "    </tr>\n",
       "    <tr>\n",
       "      <th>1871</th>\n",
       "      <td>EnS</td>\n",
       "      <td>33216.118981</td>\n",
       "    </tr>\n",
       "    <tr>\n",
       "      <th>1853</th>\n",
       "      <td>EnS</td>\n",
       "      <td>30606.198317</td>\n",
       "    </tr>\n",
       "    <tr>\n",
       "      <th>1484</th>\n",
       "      <td>PoS</td>\n",
       "      <td>37240.113342</td>\n",
       "    </tr>\n",
       "    <tr>\n",
       "      <th>5619</th>\n",
       "      <td>MaSt</td>\n",
       "      <td>50913.038493</td>\n",
       "    </tr>\n",
       "    <tr>\n",
       "      <th>2299</th>\n",
       "      <td>EcFi</td>\n",
       "      <td>50365.098269</td>\n",
       "    </tr>\n",
       "  </tbody>\n",
       "</table>\n",
       "</div>"
      ],
      "text/plain": [
       "     major        salary\n",
       "3826  MaSt  57849.343490\n",
       "795   MaSt  56558.160738\n",
       "2127   PoS  46945.174104\n",
       "1292   Bio  40093.455971\n",
       "5913   EnS  35106.961865\n",
       "1871   EnS  33216.118981\n",
       "1853   EnS  30606.198317\n",
       "1484   PoS  37240.113342\n",
       "5619  MaSt  50913.038493\n",
       "2299  EcFi  50365.098269"
      ]
     },
     "execution_count": 14,
     "metadata": {},
     "output_type": "execute_result"
    }
   ],
   "source": [
    "n=275\n",
    "graduated = students.loc[students['graduated'] == 1]\n",
    "data = pd.DataFrame(graduated['major'].sample(n,random_state=300))\n",
    "data['salary']=graduated['salary']\n",
    "\n",
    "data = data.replace('Biology', 'Bio')\n",
    "data = data.replace('Political Science','PoS')\n",
    "data = data.replace('Economics and Finance','EcFi')\n",
    "data = data.replace('Environmental Sciences','EnS')\n",
    "data = data.replace('Mathematics and Statistics','MaSt')\n",
    "data = data.replace('Social Sciences','SoS')\n",
    "\n",
    "data.head(10)"
   ]
  },
  {
   "cell_type": "markdown",
   "id": "40814ba9-947d-4c37-bc9e-142f26166aa7",
   "metadata": {},
   "source": [
    "Des Weiteren führen wir einen einfaktoriellen ANOVA-Hypothesentest in Python durch, indem wir die Funktion`f_oneway()` anwenden."
   ]
  },
  {
   "cell_type": "code",
   "execution_count": 15,
   "id": "441be5b3-ee3b-4981-a399-895caf4be300",
   "metadata": {},
   "outputs": [
    {
     "name": "stdout",
     "output_type": "stream",
     "text": [
      "Wert der F-Statistik : 41.14261241723519\n",
      "p-Wert : 2.2838978944953763e-31\n"
     ]
    }
   ],
   "source": [
    "#statistics, pvalue = \n",
    "statistics,pvalue = stats.f_oneway(data['salary'][data['major'] == 'Bio'],\n",
    "               data['salary'][data['major'] == 'SoS'],\n",
    "               data['salary'][data['major'] == 'EcFi'],\n",
    "               data['salary'][data['major'] == 'PoS'],\n",
    "               data['salary'][data['major'] == 'MaSt'],\n",
    "               data['salary'][data['major'] == 'EnS'])\n",
    "\n",
    "print('Wert der F-Statistik :',statistics)\n",
    "print('p-Wert :',pvalue)"
   ]
  },
  {
   "cell_type": "markdown",
   "id": "9216cfb8-ec7e-4c23-9dc8-741cf96c777f",
   "metadata": {},
   "source": [
    "### Bonferroni-Korrektur"
   ]
  },
  {
   "cell_type": "markdown",
   "id": "762b9cd3-f676-4330-8525-fd2397470fbf",
   "metadata": {},
   "source": [
    "Die Bonferroni-Korrektur kompensiert die erhöhte Wahrscheinlichkeit, dass eine Nullhypothese aufgrund von Mehrfachvergleichen fälschlicherweise abgelehnt wird (Fehler vom Typ I), indem das Signifikanzniveau $\\alpha$ in folgender Form angepasst wird"
   ]
  },
  {
   "cell_type": "markdown",
   "id": "816b298d-594d-484d-822e-683bfaa091f0",
   "metadata": {},
   "source": [
    "$$\\alpha = \\frac{\\alpha}{m}\\text{,}$$"
   ]
  },
  {
   "cell_type": "markdown",
   "id": "3fb6b67a-7d5c-45cd-9ae1-3966c662f26d",
   "metadata": {},
   "source": [
    "wobei $m$ der Anzahl der Vergleiche entspricht, die gegeben ist durch"
   ]
  },
  {
   "cell_type": "markdown",
   "id": "6f9ae994-f451-4f18-b0ab-1fba451714b7",
   "metadata": {},
   "source": [
    "$$m=\\frac{k(k-1)}{2}\\text{,}$$"
   ]
  },
  {
   "cell_type": "markdown",
   "id": "34508999-0142-4469-b0b4-91ee0134f805",
   "metadata": {},
   "source": [
    "wobei $k$ den Ebenen des Faktors entspricht, der die kategoriale Klassifikationsvariable ist."
   ]
  },
  {
   "cell_type": "code",
   "execution_count": 16,
   "id": "b8f5a962-a549-46aa-b2ab-b2fc6a412c03",
   "metadata": {},
   "outputs": [
    {
     "data": {
      "text/plain": [
       "0.006666666666666667"
      ]
     },
     "execution_count": 16,
     "metadata": {},
     "output_type": "execute_result"
    }
   ],
   "source": [
    "m = 6*(6-1)/2\n",
    "alpha_bonf = 0.1/m\n",
    "alpha_bonf"
   ]
  },
  {
   "cell_type": "markdown",
   "id": "6629f802-1d33-4de3-a701-069832810535",
   "metadata": {},
   "source": [
    "### Der paarweiser $t$-Test in Python: Bonferroni-Korrektur"
   ]
  },
  {
   "cell_type": "markdown",
   "id": "f4cf1778-584e-47d5-bced-3b44a4d3f8a4",
   "metadata": {},
   "source": [
    "Wie im vorigen Abschnitt erwähnt, ist eine einseitige Varianzanalyse die Verallgemeinerung des gepoolten $t$-Tests auf mehr als zwei Grundgesamtheiten. Die Python-Funktion zur Durchführung von Mehrfachvergleichen ist `ttest_ind()`. Die Funktion `ttest_ind()` vergleicht die jeweiligen Gehaltsverteilungen (`salary`) nach Studienfächer gruppiert (`major`) miteinander."
   ]
  },
  {
   "cell_type": "markdown",
   "id": "2cd70aa0-0caf-49ae-b31d-1da80d85fe10",
   "metadata": {},
   "source": [
    "Zunächst führen wir einen paarweisen $t$-Test ohne Anpassung durch, wodurch sich die Wahrscheinlichkeit erhöht, dass die Nullhypothese falsch zurückgewiesen wird."
   ]
  },
  {
   "cell_type": "code",
   "execution_count": 17,
   "id": "671b188b-7c1a-4e84-91b8-57b03fefe3b4",
   "metadata": {},
   "outputs": [
    {
     "name": "stdout",
     "output_type": "stream",
     "text": [
      "Bio EcFi\n",
      "Ttest_indResult(statistic=0.6568547826087677, pvalue=0.5127682352930607)\n",
      "**Reject:** False\n",
      "Bio EnS\n",
      "Ttest_indResult(statistic=8.848666376720532, pvalue=1.790220430001192e-14)\n",
      "**Reject:** True\n",
      "Bio MaSt\n",
      "Ttest_indResult(statistic=1.1830026917324552, pvalue=0.23955813674375898)\n",
      "**Reject:** False\n",
      "Bio PoS\n",
      "Ttest_indResult(statistic=9.183045185809336, pvalue=4.840684911699569e-15)\n",
      "**Reject:** True\n",
      "Bio SoS\n",
      "Ttest_indResult(statistic=9.02308688531864, pvalue=6.474671293237731e-14)\n",
      "**Reject:** True\n",
      "EcFi EnS\n",
      "Ttest_indResult(statistic=7.783093180767482, pvalue=8.151876693739742e-12)\n",
      "**Reject:** True\n",
      "EcFi MaSt\n",
      "Ttest_indResult(statistic=0.5062070937193607, pvalue=0.6139629263411384)\n",
      "**Reject:** False\n",
      "EcFi PoS\n",
      "Ttest_indResult(statistic=8.090807534529128, pvalue=2.649042688427034e-12)\n",
      "**Reject:** True\n",
      "EcFi SoS\n",
      "Ttest_indResult(statistic=8.244260895704118, pvalue=7.1456783247184506e-12)\n",
      "**Reject:** True\n",
      "EnS MaSt\n",
      "Ttest_indResult(statistic=-7.03158124781387, pvalue=2.8739133454494936e-10)\n",
      "**Reject:** True\n",
      "EnS PoS\n",
      "Ttest_indResult(statistic=1.5677405469632952, pvalue=0.120165093300726)\n",
      "**Reject:** False\n",
      "EnS SoS\n",
      "Ttest_indResult(statistic=2.851962691381753, pvalue=0.00557583127097583)\n",
      "**Reject:** True\n",
      "MaSt PoS\n",
      "Ttest_indResult(statistic=7.446069496327149, pvalue=5.2857708581268477e-11)\n",
      "**Reject:** True\n",
      "MaSt SoS\n",
      "Ttest_indResult(statistic=7.586851324520192, pvalue=1.0518783466253219e-10)\n",
      "**Reject:** True\n",
      "PoS SoS\n",
      "Ttest_indResult(statistic=1.2082046577938017, pvalue=0.23097741142110123)\n",
      "**Reject:** False\n"
     ]
    }
   ],
   "source": [
    "major= [['Bio','EcFi'],['Bio','EnS'],['Bio','MaSt'],['Bio','PoS'],['Bio','SoS'],['EcFi','EnS'],['EcFi','MaSt'],['EcFi','PoS'],['EcFi','SoS'],['EnS','MaSt'],['EnS','PoS'],['EnS','SoS'],['MaSt','PoS'],['MaSt','SoS'],['PoS','SoS']]\n",
    "\n",
    "alpha = 0.05\n",
    "data_groups = data.groupby('major').groups\n",
    "#p_unc = []\n",
    "for major1, major2 in major:\n",
    "    print(major1,major2)\n",
    "    print(stats.ttest_ind(data.loc[data_groups[major1]].salary,data.loc[data_groups[major2]].salary))\n",
    "    \n",
    "    statistics,p_value=stats.ttest_ind(data.loc[data_groups[major1]].salary,data.loc[data_groups[major2]].salary)\n",
    "    print('**Reject:**', p_value <= alpha)"
   ]
  },
  {
   "cell_type": "markdown",
   "id": "2a7235d0-06ab-44ed-b8aa-bea1f7f433da",
   "metadata": {},
   "source": [
    "Der paarweise $t$-Test zeigt, dass bei einem Signifikanzniveau von $5 \\%$ die Mittelwerte für $5$ Kombinationen **nicht** statistisch signifikant unterschiedlich sind. Diese Kombinationen sind Bio-EcFi, Bio-MaSt, EcFi-MaSt, EnS-PoS, PoS-SoS mit $p$-Werten von $0,5128$, $0,2396$, $0,61396$ , $0,1202$ , $0,635057$ bzw. $0,230977$. Für die restlichen $9$ Kombinationen verwerfen wir $H_0$; d. h. für $10$ Kombinationen sind die Mittelwerte bei einem Signifikanzniveau von $5 \\%$ unterschiedlich!\n",
    "\n",
    "Zweitens führen wir einen **paarweisen $t$-Test mit der Bonferroni-Anpassung** durch. Wir verwenden die gleichen Daten wie für den paarweisen $t$-Test ohne Anpassung, geben setzen aber diesmal `alpha = alpha_bonf`."
   ]
  },
  {
   "cell_type": "code",
   "execution_count": 18,
   "id": "de541f69-e51b-4e58-ae2a-68223c480402",
   "metadata": {},
   "outputs": [
    {
     "name": "stdout",
     "output_type": "stream",
     "text": [
      "Bio EcFi\n",
      "Ttest_indResult(statistic=0.6568547826087677, pvalue=0.5127682352930607)\n",
      "**Reject:** False\n",
      "Bio EnS\n",
      "Ttest_indResult(statistic=8.848666376720532, pvalue=1.790220430001192e-14)\n",
      "**Reject:** True\n",
      "Bio MaSt\n",
      "Ttest_indResult(statistic=1.1830026917324552, pvalue=0.23955813674375898)\n",
      "**Reject:** False\n",
      "Bio PoS\n",
      "Ttest_indResult(statistic=9.183045185809336, pvalue=4.840684911699569e-15)\n",
      "**Reject:** True\n",
      "Bio SoS\n",
      "Ttest_indResult(statistic=9.02308688531864, pvalue=6.474671293237731e-14)\n",
      "**Reject:** True\n",
      "EcFi EnS\n",
      "Ttest_indResult(statistic=7.783093180767482, pvalue=8.151876693739742e-12)\n",
      "**Reject:** True\n",
      "EcFi MaSt\n",
      "Ttest_indResult(statistic=0.5062070937193607, pvalue=0.6139629263411384)\n",
      "**Reject:** False\n",
      "EcFi PoS\n",
      "Ttest_indResult(statistic=8.090807534529128, pvalue=2.649042688427034e-12)\n",
      "**Reject:** True\n",
      "EcFi SoS\n",
      "Ttest_indResult(statistic=8.244260895704118, pvalue=7.1456783247184506e-12)\n",
      "**Reject:** True\n",
      "EnS MaSt\n",
      "Ttest_indResult(statistic=-7.03158124781387, pvalue=2.8739133454494936e-10)\n",
      "**Reject:** True\n",
      "EnS PoS\n",
      "Ttest_indResult(statistic=1.5677405469632952, pvalue=0.120165093300726)\n",
      "**Reject:** False\n",
      "EnS SoS\n",
      "Ttest_indResult(statistic=2.851962691381753, pvalue=0.00557583127097583)\n",
      "**Reject:** True\n",
      "MaSt PoS\n",
      "Ttest_indResult(statistic=7.446069496327149, pvalue=5.2857708581268477e-11)\n",
      "**Reject:** True\n",
      "MaSt SoS\n",
      "Ttest_indResult(statistic=7.586851324520192, pvalue=1.0518783466253219e-10)\n",
      "**Reject:** True\n",
      "PoS SoS\n",
      "Ttest_indResult(statistic=1.2082046577938017, pvalue=0.23097741142110123)\n",
      "**Reject:** False\n"
     ]
    }
   ],
   "source": [
    "for major1, major2 in major:\n",
    "    print(major1,major2)\n",
    "    print(stats.ttest_ind(data.loc[data_groups[major1]].salary,data.loc[data_groups[major2]].salary))\n",
    "    \n",
    "    statistics,p_value=stats.ttest_ind(data.loc[data_groups[major1]].salary,data.loc[data_groups[major2]].salary)\n",
    "    print('**Reject:**', p_value <= alpha_bonf)"
   ]
  },
  {
   "cell_type": "markdown",
   "id": "bcea7aa0-8a84-4297-8c7d-8cf512f5e2fc",
   "metadata": {},
   "source": [
    "Der paarweise $t$-Test mit der Bonferroni-Anpassung zeigt, dass bei einem Signifikanzniveau von $5 \\%$ die Mittelwerte für $5$ Kombinationen nicht statistisch signifikant unterschiedlich sind. Bei diesen Kombinationen handelt es sich um Bio-EcFi, Bio-MaSt, EcFi-MaSt, EnS-PoS, PoS-SoS mit $p$-Werten von $0,5128$, $0,2396$, $0,61397$ , $0,1202$ bzw. $0,230978$. (beim Bonferroni-Verfahren wird $\\alpha$ durch die Anzahl der Tests geteilt bzw. der $p$-Wert mit dieser Anzahl multipliziert und auf $1$ gekürzt, wenn das Ergebnis über $1$ liegt und somit keine Wahrscheinlichkeit darstellt). Für die verbleibenden $10$ Kombinationen haben wir $H_0$ abgelehnt, d. h. für $10$ Kombinationen sind die Mittelwerte bei einem Signifikanzniveau von $\\approx 0,0067 \\%$ unterschiedlich!"
   ]
  },
  {
   "cell_type": "markdown",
   "id": "622eab3c-d199-474f-a81f-d3096461c295",
   "metadata": {},
   "source": [
    "### Tukey-Mehrfach-Vergleichsmethode"
   ]
  },
  {
   "cell_type": "markdown",
   "id": "e3916feb-d1d0-426b-8fbc-00798891fbb0",
   "metadata": {},
   "source": [
    "Die <a href=\"https://en.wikipedia.org/wiki/Tukey%27s_range_test\">Tukey-Mehrfachvergleichsmethode</a>, auch bekannt als **Tukey's HSD-Test (honest significant difference)**, basiert auf der <a href=\"https://en.wikipedia.org/wiki/Studentized_range_distribution\">studentschen Bereichsverteilung</a>, die manchmal auch als $q$-Verteilung bezeichnet wird. Die **$q$-Verteilung** ist eine rechtsschiefe Wahrscheinlichkeitsdichtekurve mit zwei Parametern, $\\kappa$ und $\\nu$, die ihre Form beschreiben. Diese Parameter sind gegeben durch"
   ]
  },
  {
   "cell_type": "markdown",
   "id": "bd7a663b-1553-4af8-9b1d-4473c9373670",
   "metadata": {},
   "source": [
    "$$\\kappa = k$$"
   ]
  },
  {
   "cell_type": "markdown",
   "id": "4f940c5e-595d-467f-8f83-06600a61a8f4",
   "metadata": {},
   "source": [
    "und"
   ]
  },
  {
   "cell_type": "markdown",
   "id": "732e9e83-17a8-4295-89a6-066c9d0ca298",
   "metadata": {},
   "source": [
    "$$\\nu = n-k\\text{,}$$"
   ]
  },
  {
   "cell_type": "markdown",
   "id": "5310290e-5495-46b7-bbb4-7dceaf883063",
   "metadata": {},
   "source": [
    "wobei $n$ die Gesamtzahl der Beobachtungen ist und $k$ die Anzahl der Gruppen/Klassen.\n",
    "\n",
    "Der Tukey-Test vergleicht die Mittelwerte jeder Gruppe mit den Mittelwerten jeder anderen Gruppe. Er liefert das Konfidenzintervall für jede"
   ]
  },
  {
   "cell_type": "markdown",
   "id": "1e6ebbe9-33e1-49cd-8a0a-e3014bda4a22",
   "metadata": {},
   "source": [
    "$$\\mu_i-\\mu_j\\text{.}$$"
   ]
  },
  {
   "cell_type": "markdown",
   "id": "b85ca28d-d39c-4fef-9dc2-0b3282d0f980",
   "metadata": {},
   "source": [
    "Wenn das Konfidenzintervall für einen paarweisen Vergleich $0$ einschließt, wird $H_0$ nicht verworfen, es wird nicht angenommen, dass sie signifikant unterschiedlich sind. Alle anderen Paare, für die das Konfidenzintervall nicht $0$ einschließt, sind signifikant unterschiedlich, $H_0$ wird also verworfen."
   ]
  },
  {
   "cell_type": "markdown",
   "id": "752b8663-faa6-4aed-a5b9-0cd439ec0620",
   "metadata": {},
   "source": [
    "### Tukey's Test in Python"
   ]
  },
  {
   "cell_type": "markdown",
   "id": "14fee8ce-8286-44fc-9b74-ffb3b10ce9dc",
   "metadata": {},
   "source": [
    "In Python werden Tukey's HSD Tests durch die TukeyHSD() Funktion berechnet. Die TukeyHSD()-Funktion erwartet ein Modellobjekt, insbesondere ein angepasstes ANOVA-Modell als Eingabeargument. Ein solches Modell haben wir oben bereits berechnet. Zur Veranschaulichung erstellen wir jedoch dasselbe Modell noch einmal und weisen es der Variablen my.anova zu. Um die Breite der Konfidenzintervalle festzulegen, geben wir der Funktion das Konfidenzniveau mit dem Argument conf.level an."
   ]
  },
  {
   "cell_type": "code",
   "execution_count": 19,
   "id": "c1ee0206-7794-48df-86f1-5e05985e4861",
   "metadata": {},
   "outputs": [
    {
     "data": {
      "text/html": [
       "<table class=\"simpletable\">\n",
       "<caption>Multiple Comparison of Means - Tukey HSD, FWER=0.05</caption>\n",
       "<tr>\n",
       "  <th>group1</th> <th>group2</th>  <th>meandiff</th>    <th>p-adj</th>    <th>lower</th>       <th>upper</th>    <th>reject</th>\n",
       "</tr>\n",
       "<tr>\n",
       "    <td>Bio</td>   <td>EcFi</td>  <td>-1012.3086</td>   <td>0.983</td>  <td>-5228.585</td>   <td>3203.9678</td>   <td>False</td>\n",
       "</tr>\n",
       "<tr>\n",
       "    <td>Bio</td>    <td>EnS</td>  <td>-11777.6601</td>   <td>0.0</td>  <td>-15810.772</td>  <td>-7744.5482</td>   <td>True</td> \n",
       "</tr>\n",
       "<tr>\n",
       "    <td>Bio</td>   <td>MaSt</td>  <td>-1846.3679</td>  <td>0.8039</td> <td>-6036.7581</td>   <td>2344.0223</td>   <td>False</td>\n",
       "</tr>\n",
       "<tr>\n",
       "    <td>Bio</td>    <td>PoS</td>  <td>-13913.133</td>    <td>0.0</td>  <td>-18078.5879</td> <td>-9747.6782</td>   <td>True</td> \n",
       "</tr>\n",
       "<tr>\n",
       "    <td>Bio</td>    <td>SoS</td>  <td>-16091.4853</td>   <td>0.0</td>  <td>-21100.7005</td> <td>-11082.2702</td>  <td>True</td> \n",
       "</tr>\n",
       "<tr>\n",
       "   <td>EcFi</td>    <td>EnS</td>  <td>-10765.3515</td>   <td>0.0</td>  <td>-15067.6403</td> <td>-6463.0628</td>   <td>True</td> \n",
       "</tr>\n",
       "<tr>\n",
       "   <td>EcFi</td>   <td>MaSt</td>   <td>-834.0593</td>  <td>0.9946</td> <td>-5284.1231</td>   <td>3616.0045</td>   <td>False</td>\n",
       "</tr>\n",
       "<tr>\n",
       "   <td>EcFi</td>    <td>PoS</td>  <td>-12900.8245</td>   <td>0.0</td>  <td>-17327.4159</td>  <td>-8474.233</td>   <td>True</td> \n",
       "</tr>\n",
       "<tr>\n",
       "   <td>EcFi</td>    <td>SoS</td>  <td>-15079.1768</td>   <td>0.0</td>  <td>-20307.5545</td>  <td>-9850.799</td>   <td>True</td> \n",
       "</tr>\n",
       "<tr>\n",
       "    <td>EnS</td>   <td>MaSt</td>   <td>9931.2922</td>    <td>0.0</td>   <td>5654.369</td>   <td>14208.2155</td>   <td>True</td> \n",
       "</tr>\n",
       "<tr>\n",
       "    <td>EnS</td>    <td>PoS</td>  <td>-2135.4729</td>  <td>0.7016</td> <td>-6387.9683</td>   <td>2117.0224</td>   <td>False</td>\n",
       "</tr>\n",
       "<tr>\n",
       "    <td>EnS</td>    <td>SoS</td>  <td>-4313.8252</td>  <td>0.1475</td> <td>-9395.6496</td>   <td>767.9991</td>    <td>False</td>\n",
       "</tr>\n",
       "<tr>\n",
       "   <td>MaSt</td>    <td>PoS</td>  <td>-12066.7651</td>   <td>0.0</td>  <td>-16468.7074</td> <td>-7664.8229</td>   <td>True</td> \n",
       "</tr>\n",
       "<tr>\n",
       "   <td>MaSt</td>    <td>SoS</td>  <td>-14245.1174</td>   <td>0.0</td>  <td>-19452.6425</td> <td>-9037.5924</td>   <td>True</td> \n",
       "</tr>\n",
       "<tr>\n",
       "    <td>PoS</td>    <td>SoS</td>  <td>-2178.3523</td>   <td>0.834</td> <td>-7365.8335</td>   <td>3009.1289</td>   <td>False</td>\n",
       "</tr>\n",
       "</table>"
      ],
      "text/plain": [
       "<class 'statsmodels.iolib.table.SimpleTable'>"
      ]
     },
     "execution_count": 19,
     "metadata": {},
     "output_type": "execute_result"
    }
   ],
   "source": [
    "# perform Tukey's test\n",
    "tukey = pairwise_tukeyhsd(endog=data['salary'],\n",
    "                          groups=data['major'],\n",
    "                          alpha=0.05)\n",
    "\n",
    "#display results\n",
    "\n",
    "tukey.summary()"
   ]
  },
  {
   "cell_type": "markdown",
   "id": "62f71370-90af-4146-8383-10ac50533aaa",
   "metadata": {},
   "source": [
    "Bitte beachten Sie, dass wir im Fall ohne $p$-Wert-Anpassung die Nullhypothese für $10$ Kombinationen abgelehnt haben. Beim paarweisen $t$-Test mit der Tukey-Anpassung wurde die Nullhypothese für $9$ Kombinationen verworfen."
   ]
  },
  {
   "cell_type": "markdown",
   "id": "23d78ff7-4311-4c3b-97eb-95b79d6af914",
   "metadata": {},
   "source": [
    "Die Tabelle zeigt die Differenz zwischen den einzelnen Paaren, die $95 \\%$-Konfidenzintervalle und den $p$-Wert der paarweisen Vergleiche. Schauen Sie sich die Tabelle genau an, und Sie werden sehen, dass für alle $6$ Vergleiche, bei denen das Konfidenzintervall $0$ einschließt, der $p$-Wert höher ist als das Signifikanzniveau $\\alpha$. Wenn $p \\gt \\alpha$ ist, verwerfen wir $H_0$ nicht, d. h. es gibt keinen statistisch signifikanten Unterschied zwischen den Mittelwerten dieser beiden Gruppen. Für alle Paare, bei denen $p \\le \\alpha$ ist, verwerfen wir dagegen $H_0$ und stellen fest, dass ein statistisch signifikanter Unterschied zwischen den Mittelwerten dieser Paare besteht. Die `tukey.plot_simultaneous()`-Funktion bietet eine nette Plot-Funktion, die die Konfidenzintervalle für jedes Paar visualisiert."
   ]
  },
  {
   "cell_type": "code",
   "execution_count": 114,
   "id": "e9146782-f440-439d-a5e7-3fe161734066",
   "metadata": {},
   "outputs": [
    {
     "data": {
      "image/png": "[encoded data removed]",
      "text/plain": [
       "<Figure size 720x432 with 1 Axes>"
      ]
     },
     "metadata": {
      "needs_background": "light"
     },
     "output_type": "display_data"
    }
   ],
   "source": [
    "_=tukey.plot_simultaneous()"
   ]
  },
  {
   "cell_type": "code",
   "execution_count": null,
   "id": "65aee187-9f1d-4da5-967c-f21f5f86a67d",
   "metadata": {},
   "outputs": [],
   "source": []
  }
 ],
 "metadata": {
  "kernelspec": {
   "display_name": "Python 3 (ipykernel)",
   "language": "python",
   "name": "python3"
  },
  "language_info": {
   "codemirror_mode": {
    "name": "ipython",
    "version": 3
   },
   "file_extension": ".py",
   "mimetype": "text/x-python",
   "name": "python",
   "nbconvert_exporter": "python",
   "pygments_lexer": "ipython3",
   "version": "3.10.2"
  }
 },
 "nbformat": 4,
 "nbformat_minor": 5
}
