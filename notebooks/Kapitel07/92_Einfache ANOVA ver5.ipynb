{
 "cells": [
  {
   "cell_type": "markdown",
   "id": "80c737ad-801f-434b-84fe-e9a7e3d3da52",
   "metadata": {},
   "source": [
    "## Einfaktorielle ANOVA\n",
    "----------------------------------------"
   ]
  },
  {
   "cell_type": "markdown",
   "id": "d3a117ad-4709-4a6a-ac5b-abcb60abb662",
   "metadata": {},
   "source": [
    "Die grundlegende Logik einer einfaktoriellen ANOVA besteht darin, aus jeder Gruppe unabhängige Zufallsstichproben zu ziehen, dann die Stichprobenmittelwerte für jede Gruppe zu berechnen und anschließend die Variation der Stichprobenmittelwerte zwischen den Gruppen mit der Variation innerhalb der Gruppen zu vergleichen. Schließlich wird auf der Grundlage einer Teststatistik entschieden, ob die Mittelwerte der Gruppen gleich sind oder nicht.\n",
    "\n",
    "Auf der Grundlage dieser Logik benötigen wir quantitative **Maße für die Variabilität**. Daher teilen wir die Gesamtvariabilität in zwei Segmente auf: Eines, das die **Variabilität zwischen den Gruppen** berücksichtigt, und das andere, das die **Variabilität innerhalb der Gruppen** berücksichtigt."
   ]
  },
  {
   "cell_type": "markdown",
   "id": "311794a7-53a7-4b69-a3f8-a173affeebe2",
   "metadata": {},
   "source": [
    "### Maße der Variabilität"
   ]
  },
  {
   "cell_type": "markdown",
   "id": "8f29cba6-b51c-4ad2-a883-8b22767ee9cf",
   "metadata": {},
   "source": [
    "Wir führen drei quantitative Maße für die Variation ein:\n",
    "\n",
    "- Summe der Gesamtquadrate (SST)\n",
    "- Summe der Gruppenquadrate (SSG)\n",
    "- Summe der Fehlerquadrate (SSE)"
   ]
  },
  {
   "cell_type": "markdown",
   "id": "ebb18701-e095-466f-bf3f-d79549012781",
   "metadata": {},
   "source": [
    "Die **Summe der Gesamtquadrate (SST)** ist ein Maß für die Gesamtvariabilität der Variablen. Sie ist gegeben durch"
   ]
  },
  {
   "cell_type": "markdown",
   "id": "8655267d-1900-4ba6-968d-157380a8871d",
   "metadata": {},
   "source": [
    "$$SST = \\sum_{i=1}^n(x_i-\\bar x)^2\\text{,}$$"
   ]
  },
  {
   "cell_type": "markdown",
   "id": "bb7fecd0-5f33-4e94-8538-5daf49e7a082",
   "metadata": {},
   "source": [
    "wobei $x_i$ den Beobachtungen in den Stichproben entspricht und $\\bar x$ für den Gesamtmittelwert aller Stichproben steht.\n",
    "\n",
    "Die **Summe der Gruppenquadrate (SSG)** ist ein Maß für die Variabilität zwischen Gruppen und entspricht der quadrierten Abweichung der Gruppenmittelwerte vom Gesamtmittelwert, gewichtet mit dem Stichprobenumfang."
   ]
  },
  {
   "cell_type": "markdown",
   "id": "dc4435e8-4f41-4a70-950f-80d5c21c4291",
   "metadata": {},
   "source": [
    "$$SSG = \\sum_{i=1}^n n_j(\\bar x_i-\\bar x)^2$$"
   ]
  },
  {
   "cell_type": "markdown",
   "id": "4770daab-f7ec-4989-aa77-9c3104a30d09",
   "metadata": {},
   "source": [
    "Dabei steht $n_j$ für den Stichprobenumfang der Gruppe $j$, $\\bar{x}_i$ für den Mittelwert der Gruppe $j$ und $\\bar{x}$ für den Gesamtmittelwert der Stichprobe."
   ]
  },
  {
   "cell_type": "markdown",
   "id": "4193b6ba-7fb9-494d-bb0c-9433de08ba9c",
   "metadata": {},
   "source": [
    "Die **Summe der Fehlerquadrate ($SSE$)** schließlich ist ein Maß für die Variabilität innerhalb der Gruppen. Sie steht im Zusammenhang mit der unerklärten Variabilität, d. h. der Variabilität, die nicht durch die Gruppenvariable erklärt werden kann. Die Summe der Fehlerquadrate ist gegeben durch"
   ]
  },
  {
   "cell_type": "markdown",
   "id": "608c5d46-4745-4b6c-92e2-a6dc4a694e23",
   "metadata": {},
   "source": [
    "$$SSE = \\sum_{i=1}^n (n_j-1)s_j^2\\text{,}$$"
   ]
  },
  {
   "cell_type": "markdown",
   "id": "bce19a88-57fd-4dce-9ef0-1b0e201669a3",
   "metadata": {},
   "source": [
    "wobei $n_j$ den Stichprobenumfang für Gruppe $j$ und $s^2_{j}$ die Varianz von Gruppe $j$ bezeichnet. Alternativ kann man $SSE$ sowie die Differenz von $SST$ und $SSG$ berechnen"
   ]
  },
  {
   "cell_type": "markdown",
   "id": "c03d1aad-2b9f-4122-8ea5-297e5845b906",
   "metadata": {},
   "source": [
    "$$SSE = SST-SSG\\text{.}$$"
   ]
  },
  {
   "cell_type": "markdown",
   "id": "4c6179e6-5689-4f83-987f-8e46b3339fc2",
   "metadata": {},
   "source": [
    "### Maße der mittleren Variabilität"
   ]
  },
  {
   "cell_type": "markdown",
   "id": "f14beb3a-fdb6-4299-a484-05843469e76c",
   "metadata": {},
   "source": [
    "Bisher haben wir Maße für die Gesamtvariabilität ($SST$), die Variabilität zwischen Gruppen ($SSG$) und die Variabilität innerhalb von Gruppen ($SSE$) berechnet. Um eine durchschnittliche Variabilität zu erhalten, skalieren wir im nächsten Schritt diese Variabilitätsmaße mit dem Stichprobenumfang (genauer gesagt mit den Freiheitsgraden, $df$).\n",
    "\n",
    "Die **Freiheitsgrade** werden für jede Unterteilung der Variabilität (Gesamtvariabilität, Variabilität zwischen Gruppen und Variabilität innerhalb von Gruppen) definiert.\n",
    "\n",
    "-    Gesamtvariabilität"
   ]
  },
  {
   "cell_type": "markdown",
   "id": "fda26aa3-1848-45cb-bca2-2d644e7ed68a",
   "metadata": {},
   "source": [
    "$$df_T = n-1\\text{,}$$"
   ]
  },
  {
   "cell_type": "markdown",
   "id": "18c0cc56-1b6b-44a9-8e91-df39f5bbe1c9",
   "metadata": {},
   "source": [
    "wobei $n$ den Gesamtumfang der Stichprobe bezeichnet. den Gesamtumfang der Stichprobe bezeichnet.\n",
    "\n",
    "- Variabilität zwischen den Gruppen"
   ]
  },
  {
   "cell_type": "markdown",
   "id": "fba6ba71-84a7-425c-bd14-fa23cb18a7ee",
   "metadata": {},
   "source": [
    "$$df_G=k-1\\text{,}$$"
   ]
  },
  {
   "cell_type": "markdown",
   "id": "081ef0ac-b315-4154-b2ac-3e818b187a38",
   "metadata": {},
   "source": [
    "wobei $k$ die Anzahl der Gruppen bezeichnet.\n",
    "den Gesamtumfang der Stichprobe bezeichnet.\n",
    "\n",
    "- Variabilität innerhalb der Gruppe"
   ]
  },
  {
   "cell_type": "markdown",
   "id": "65e0c8dd-d5a8-40cc-b644-134c42e942d0",
   "metadata": {},
   "source": [
    "$$df_E = n-k\\text{.}$$"
   ]
  },
  {
   "cell_type": "markdown",
   "id": "cb354e01-ca0f-4af5-bf44-e90ec4e6f4ed",
   "metadata": {},
   "source": [
    "Nun können wir die **mittleren Quadrate** für die Variabilität zwischen den Gruppen und die Variabilität innerhalb der Gruppen berechnen. Die durchschnittliche Variabilität zwischen und innerhalb der Gruppen wird als die Gesamtvariabilität, skaliert mit den zugehörigen Freiheitsgraden, berechnet.\n",
    "\n",
    "- Mittlere Variabilität zwischen den Gruppen"
   ]
  },
  {
   "cell_type": "markdown",
   "id": "c9ff8e37-41b6-4444-9d6a-88b6b78c991b",
   "metadata": {},
   "source": [
    "$$MSG = \\frac{SSG}{df_G}$$"
   ]
  },
  {
   "cell_type": "markdown",
   "id": "6e6b1531-2f41-436f-8530-9615b6ecd503",
   "metadata": {},
   "source": [
    "- Mittlere Variabilität innerhalb der Gruppe"
   ]
  },
  {
   "cell_type": "markdown",
   "id": "65944471-f3cf-4a0b-940c-2f37d2ae6239",
   "metadata": {},
   "source": [
    "$$MSE = \\frac{SSE}{df_E}$$"
   ]
  },
  {
   "cell_type": "markdown",
   "id": "5e2a8bfc-4bdd-4253-bcd7-ce318ec1d223",
   "metadata": {},
   "source": [
    "### Teststatistik und $p$-Wert"
   ]
  },
  {
   "cell_type": "markdown",
   "id": "4a166be2-f303-499b-9b06-b285935f1844",
   "metadata": {},
   "source": [
    "Schließlich vergleichen wir die mittlere Variation zwischen den Gruppen, $MSG$, mit der Variation innerhalb der Gruppe, $MSE$. Daher berechnen wir das Verhältnis zwischen der durchschnittlichen Variation zwischen den Gruppen ($MSG$) und der Variation innerhalb der Gruppen ($MSE$), das mit $F$ bezeichnet wird."
   ]
  },
  {
   "cell_type": "markdown",
   "id": "8a7dc0ca-13e0-4cab-a927-a1910a0a6a7d",
   "metadata": {},
   "source": [
    "$$F= \\frac{MSG}{MSE}$$"
   ]
  },
  {
   "cell_type": "markdown",
   "id": "ef340dfa-f41c-43b6-b05a-6c9c93c90e36",
   "metadata": {},
   "source": [
    "Die $F$-Statistik hat die $F$-Verteilung (benannt nach <a href=\"https://de.wikipedia.org/wiki/Ronald_Aylmer_Fisher\">Sir Ronald A. Fisher</a>) mit"
   ]
  },
  {
   "cell_type": "markdown",
   "id": "e61504fd-4adf-4e80-b9f6-abda88b4f827",
   "metadata": {},
   "source": [
    "$$df = (k-1, n-k)\\text{,}$$"
   ]
  },
  {
   "cell_type": "markdown",
   "id": "e2a5de91-8ba5-40d9-9b63-c9c1d9abc15f",
   "metadata": {},
   "source": [
    "wobei $k$ für die Anzahl der Gruppen und $n$ für den Stichprobenumfang steht. Große Werte der $F$-Werte zeigen an, dass die Variation zwischen den Stichprobenmittelwerten der Gruppen im Verhältnis zur Variation innerhalb der Gruppe groß ist. Darüber hinaus können wir den $p$-Wert für jeden gegebenen $F$-Wert berechnen. Wenn der $p$-Wert klein ist, liefern die Daten überzeugende Beweise dafür, dass sich mindestens ein Paar von Gruppenmittelwerten voneinander unterscheidet. Ist der $p$-Wert groß, liefern die Daten keinen überzeugenden Beweis dafür, dass sich zumindest ein Paar von Gruppenmittelwerten voneinander unterscheidet, und die beobachteten Unterschiede in den Stichprobenmittelwerten sind somit auf Stichprobenvariabilität (oder Zufall) zurückzuführen."
   ]
  },
  {
   "cell_type": "markdown",
   "id": "70f1b04a-6866-4f95-8cd6-807513cc297c",
   "metadata": {},
   "source": [
    "### Einfaktorielle ANOVA-Tabellen"
   ]
  },
  {
   "cell_type": "markdown",
   "id": "2178922f-18d8-4204-a77e-5c3cb56e036e",
   "metadata": {},
   "source": [
    "Wie oben dargestellt, umfasst die einfache Varianzanalyse mehrere Analyseschritte. Dabei ist eine gängige Methode zur Darstellung einer einfachen ANOVA die so genannte **einfaktorielle ANOVA-Tabelle**. Der allgemeine Aufbau einer solchen Tabelle ist unten dargestellt."
   ]
  },
  {
   "cell_type": "markdown",
   "id": "022c01f4-4a62-4d5e-b050-50cf4ea4ea88",
   "metadata": {},
   "source": [
    "\\begin{array}{|l|c|}\n",
    "\\hline\n",
    "\\ \\text{Quelle} & df & \\text{Summe der Quadrate }(SS) & \\text{Mittlere Quadrate }(MS) & F\\text{-Statistik} & p\\text{-Wert}\\\\\n",
    "\\hline\n",
    "\\ \\text{Gruppe/Klasse} & k-1 & SSG & MSG=\\frac{SSG}{k-1} & F = \\frac{MSG}{MSE} & p\\\\\n",
    "\\ \\text{Fehler/Residuen} & n-k & SSE & MSE=\\frac{SSE}{n-k} & & \\\\\n",
    "\\hline \n",
    "\\ \\text{Insgesamt} & n-1 & SST & & & \\\\\n",
    "\\hline \n",
    "\\end{array}"
   ]
  },
  {
   "cell_type": "code",
   "execution_count": null,
   "id": "6ae06b1f-890d-4973-8dd2-e96873f4aab8",
   "metadata": {},
   "outputs": [],
   "source": []
  }
 ],
 "metadata": {
  "kernelspec": {
   "display_name": "Python 3 (ipykernel)",
   "language": "python",
   "name": "python3"
  },
  "language_info": {
   "codemirror_mode": {
    "name": "ipython",
    "version": 3
   },
   "file_extension": ".py",
   "mimetype": "text/x-python",
   "name": "python",
   "nbconvert_exporter": "python",
   "pygments_lexer": "ipython3",
   "version": "3.10.2"
  }
 },
 "nbformat": 4,
 "nbformat_minor": 5
}
