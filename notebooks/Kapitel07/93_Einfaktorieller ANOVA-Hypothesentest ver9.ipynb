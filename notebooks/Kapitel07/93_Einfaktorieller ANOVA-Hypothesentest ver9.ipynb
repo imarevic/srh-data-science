{
 "cells": [
  {
   "cell_type": "markdown",
   "id": "8fd6cc1f-056f-45f0-8807-a10b6f05dc93",
   "metadata": {},
   "source": [
    "## Einfaktorieller ANOVA-Hypothesentest\n",
    "----------------------------------------"
   ]
  },
  {
   "cell_type": "code",
   "execution_count": 30,
   "id": "0d2684bd-f41b-47e2-a274-1c1938398ff5",
   "metadata": {},
   "outputs": [
    {
     "name": "stdout",
     "output_type": "stream",
     "text": [
      "\n",
      "---------------------------------\n",
      "Working on the host: LAPTOP-9LETB4SJ\n",
      "\n",
      "---------------------------------\n",
      "Python version: 3.10.2 | packaged by conda-forge | (main, Mar  8 2022, 15:52:24) [MSC v.1929 64 bit (AMD64)]\n",
      "\n",
      "---------------------------------\n",
      "Python interpreter: C:\\Users\\zak\\anaconda3\\envs\\srh\\python.exe\n"
     ]
    }
   ],
   "source": [
    "import matplotlib.pyplot as plt\n",
    "import numpy as np\n",
    "import pandas as pd\n",
    "import pylab\n",
    "from random import sample\n",
    "from scipy.stats import f\n",
    "from scipy import stats\n",
    "import statsmodels.api as smi\n",
    "from scipy.stats import f_oneway\n",
    "\n",
    "%run ../src/notebook_env.py"
   ]
  },
  {
   "cell_type": "markdown",
   "id": "04806d84-d215-4f46-bb0e-cdb3b37af97a",
   "metadata": {},
   "source": [
    "Der Zweck eines **einfaktoriellen ANOVA-Hypothesentests** ist der Vergleich von $k$ Grundgesamtheits-/Gruppenmittelwerten, $\\mu_1, \\mu_2,...,\\mu_k$. \n",
    "Die folgenden Annahmen müssen erfüllt sein, damit eine einseitige ANOVA angewendet werden kann ({cite:p}`fahrmeirstatistik` s.485):\n",
    "\n",
    "- Zufällige Stichproben\n",
    "- Unabhängige Stichproben\n",
    "- Für jede Grundgesamtheit ist die betrachtete Variable normalverteilt.\n",
    "- Die Standardabweichungen der betrachteten Variable sind für alle Grundgesamtheiten gleich.\n",
    "\n",
    "Ein einfaktorieller ANOVA-Hypothesentest folgt demselben schrittweisen Verfahren wie andere Hypothesentests. "
   ]
  },
  {
   "cell_type": "markdown",
   "id": "84a0f7ff-df5e-48fb-b45d-8ea5c86a7f63",
   "metadata": {},
   "source": [
    "\\begin{array}{l}\n",
    "\\hline\n",
    "\\ \\text{Schritt 1}  & \\text{Geben Sie die Nullhypothese } H_0 \\text{ und alternative Hypothese } H_A \\text{ an.}\\\\\n",
    "\\ \\text{Schritt 2}  & \\text{Legen Sie das Signifikanzniveau, } \\alpha\\text{ fest.} \\\\\n",
    "\\ \\text{Schritt 3}  & \\text{Berechnen Sie den Wert der Teststatistik.} \\\\\n",
    "\\ \\text{Schritt 4} &\\text{Bestimmen Sie den p-Wert.} \\\\\n",
    "\\ \\text{Schritt 5} & \\text{Wenn }p\\le \\alpha \\text{, } H_0 \\text{ ablehnen } \\text{; ansonsten } H_0 \\text{ nicht ablehnen} \\text{.} \\\\\n",
    "\\ \\text{Schritt 6} &\\text{Interpretieren Sie das Ergebnis des Hypothesentests.} \\\\\n",
    "\\hline \n",
    "\\end{array}"
   ]
  },
  {
   "cell_type": "markdown",
   "id": "e5d477c5-5a4a-400e-bb61-090775f15d7f",
   "metadata": {},
   "source": [
    "### Einfaktorieller ANOVA-Hypothesentest: Ein Beispiel"
   ]
  },
  {
   "cell_type": "markdown",
   "id": "0c415b03-9a08-43b2-8c48-e766e0e25a5b",
   "metadata": {},
   "source": [
    "Um praktische Erfahrungen zu sammeln, wenden wir den **einfaktoriellen ANOVA-Hypothesentest** in einer Übung an. Dazu laden wir den `students` Datensatz. Sie können die Datei `students.csv` <a href=\"https://userpage.fu-berlin.de/soga/200/2010_data_sets/students.csv\">hier</a> herunterladen. Importieren Sie den Datensatz und geben Sie ihm einen passenden Namen."
   ]
  },
  {
   "cell_type": "code",
   "execution_count": 31,
   "id": "78d030f4-bf97-4c22-85cc-e1526420acec",
   "metadata": {},
   "outputs": [],
   "source": [
    "# Lese Datei students.csv als Dataframe ein; Indexspalte wird übersprungen\n",
    "students = pd.read_csv('students.csv', index_col=0)"
   ]
  },
  {
   "cell_type": "markdown",
   "id": "2f79b9c4-8ef1-41de-aec3-620e74c9af35",
   "metadata": {},
   "source": [
    "Der `students` Datensatz besteht aus $8239$ Zeilen, von denen jede einen bestimmten Studenten repräsentiert, und $16$ Spalten, von denen jede einer Variable/einem Merkmal entspricht, das sich auf diesen bestimmten Studenten bezieht. Diese selbsterklärenden Variablen sind: *stud.id, name, gender, age, height, weight, religion, nc.score, semester, major, minor, score1, score2, online.tutorial, graduated, salary.*"
   ]
  },
  {
   "cell_type": "markdown",
   "id": "93be2c56-3c6a-40fd-b23b-6dc39a2eb7ce",
   "metadata": {},
   "source": [
    "Um den **einfaktoriellen ANOVA-Hypothesentest** zu veranschaulichen, untersuchen wir das mittlere Jahresgehalt der Absolventen, gruppiert nach ihrem Hauptstudienfach. Zur Verdeutlichung: In diesem Beispiel erfolgt die Klassifizierung/Gruppierung durch eine Variable, die Hauptvariable, den so genannten Faktor, wir führen alsoe eine einfaktorielle ANOVA durch. In dieser Übung **wollen wir testen, ob sich das mittlere Jahresgehalt der Absolventen zwischen den Absolventen verschiedener Studienfächer unterscheidet.**"
   ]
  },
  {
   "cell_type": "markdown",
   "id": "26080f7d-646d-4095-9329-b101ac4fddc1",
   "metadata": {},
   "source": [
    "### Datenexploration und Aufbereitung"
   ]
  },
  {
   "cell_type": "markdown",
   "id": "cf17c60f-07ae-4be9-838a-ca59908b62cd",
   "metadata": {},
   "source": [
    "Wir beginnen unsere Datenanalyse mit dem Zufallsstichprobenverfahren. Wir ziehen eine Zufallsstichprobe von $275$ Studenten aus dem Datensatz mit Hilfe der `sample()` Methode in Python. Wir wollen sicherstellen, dass wir nur Studenten mit abgeschlossenem Studium in die Stichprobe aufnehmen, deshalb unterteilen wir die Daten des Dataframes zuvor in Python. Des Weiteren reduzieren wir unseren Datensatz auf die zwei Variablen von Interesse, die kategoriale Variable `major` und die numerische Variable `salary`. Dann zeigen wir die ersten $10$ Zeilen des Datensatzes an."
   ]
  },
  {
   "cell_type": "code",
   "execution_count": 32,
   "id": "c5c0fff0-4f84-45cd-8853-837f2ee7394a",
   "metadata": {},
   "outputs": [
    {
     "data": {
      "text/html": [
       "<div>\n",
       "<style scoped>\n",
       "    .dataframe tbody tr th:only-of-type {\n",
       "        vertical-align: middle;\n",
       "    }\n",
       "\n",
       "    .dataframe tbody tr th {\n",
       "        vertical-align: top;\n",
       "    }\n",
       "\n",
       "    .dataframe thead th {\n",
       "        text-align: right;\n",
       "    }\n",
       "</style>\n",
       "<table border=\"1\" class=\"dataframe\">\n",
       "  <thead>\n",
       "    <tr style=\"text-align: right;\">\n",
       "      <th></th>\n",
       "      <th>major</th>\n",
       "      <th>salary</th>\n",
       "    </tr>\n",
       "  </thead>\n",
       "  <tbody>\n",
       "    <tr>\n",
       "      <th>5019</th>\n",
       "      <td>Biology</td>\n",
       "      <td>49976.937146</td>\n",
       "    </tr>\n",
       "    <tr>\n",
       "      <th>4477</th>\n",
       "      <td>Political Science</td>\n",
       "      <td>27821.990115</td>\n",
       "    </tr>\n",
       "    <tr>\n",
       "      <th>241</th>\n",
       "      <td>Environmental Sciences</td>\n",
       "      <td>37668.890265</td>\n",
       "    </tr>\n",
       "    <tr>\n",
       "      <th>7166</th>\n",
       "      <td>Biology</td>\n",
       "      <td>60958.213489</td>\n",
       "    </tr>\n",
       "    <tr>\n",
       "      <th>2489</th>\n",
       "      <td>Economics and Finance</td>\n",
       "      <td>59920.480581</td>\n",
       "    </tr>\n",
       "    <tr>\n",
       "      <th>1194</th>\n",
       "      <td>Mathematics and Statistics</td>\n",
       "      <td>46116.221731</td>\n",
       "    </tr>\n",
       "    <tr>\n",
       "      <th>242</th>\n",
       "      <td>Social Sciences</td>\n",
       "      <td>35881.736200</td>\n",
       "    </tr>\n",
       "    <tr>\n",
       "      <th>2969</th>\n",
       "      <td>Economics and Finance</td>\n",
       "      <td>48456.787464</td>\n",
       "    </tr>\n",
       "    <tr>\n",
       "      <th>1476</th>\n",
       "      <td>Mathematics and Statistics</td>\n",
       "      <td>61384.549346</td>\n",
       "    </tr>\n",
       "    <tr>\n",
       "      <th>6765</th>\n",
       "      <td>Biology</td>\n",
       "      <td>61819.845923</td>\n",
       "    </tr>\n",
       "  </tbody>\n",
       "</table>\n",
       "</div>"
      ],
      "text/plain": [
       "                           major        salary\n",
       "5019                     Biology  49976.937146\n",
       "4477           Political Science  27821.990115\n",
       "241       Environmental Sciences  37668.890265\n",
       "7166                     Biology  60958.213489\n",
       "2489       Economics and Finance  59920.480581\n",
       "1194  Mathematics and Statistics  46116.221731\n",
       "242              Social Sciences  35881.736200\n",
       "2969       Economics and Finance  48456.787464\n",
       "1476  Mathematics and Statistics  61384.549346\n",
       "6765                     Biology  61819.845923"
      ]
     },
     "execution_count": 32,
     "metadata": {},
     "output_type": "execute_result"
    }
   ],
   "source": [
    "n=275\n",
    "graduated = students.loc[students['graduated'] == 1]\n",
    "data = pd.DataFrame(graduated['major'].sample(n,random_state=1))\n",
    "data['salary']=graduated['salary']\n",
    "data.head(10)"
   ]
  },
  {
   "cell_type": "markdown",
   "id": "eaf5fd05-f3b6-4d65-95b4-c480be7cbe40",
   "metadata": {},
   "source": [
    "Aus reinem Interesse visualisieren wir die Zählungen für jede der $6$ verschiedenen Studienteilnehmer in unserer Stichprobe, indem wir ein Balkendiagramm erstellen. Wir verwenden die `barh()` Funktion aus der `mathplotlib` Bibliothek für die Darstellung."
   ]
  },
  {
   "cell_type": "code",
   "execution_count": 33,
   "id": "c1678f5f-104f-407d-be2b-873ba7af5f0b",
   "metadata": {},
   "outputs": [
    {
     "data": {
      "text/plain": [
       "Text(0.5, 0, 'Anzahl')"
      ]
     },
     "execution_count": 33,
     "metadata": {},
     "output_type": "execute_result"
    },
    {
     "data": {
      "image/png": "[encoded data removed]",
      "text/plain": [
       "<Figure size 864x432 with 1 Axes>"
      ]
     },
     "metadata": {
      "needs_background": "light"
     },
     "output_type": "display_data"
    }
   ],
   "source": [
    "fig, ax = plt.subplots()\n",
    "data.groupby('major')['salary'].count().plot.barh(ax=ax)\n",
    "ax.set_ylabel('')\n",
    "ax.set_xlabel('Anzahl')"
   ]
  },
  {
   "cell_type": "markdown",
   "id": "2056b54a-49f4-4aa7-860c-598b7a5953a4",
   "metadata": {},
   "source": [
    "Wir sehen, dass die verschiedenen Studienteilnehmer in unserer Stichprobe nicht gleich verteilt sind, aber das ist in Ordnung.\n",
    "\n",
    "Bevor wir mit dem Hypothesentest beginnen, überprüfen wir, ob die Annahmen für den einfaktoriellen ANOVA-Hypothesentest erfüllt sind. Die Stichproben sind Zufallsstichproben und unabhängig. Das ist in Ordnung. Wir überprüfen die Normalitätsannahme, indem wir für jede gruppierte Variable ein Normalwahrscheinlichkeitsdiagramm (<a href=\"https://de.wikipedia.org/wiki/Quantil-Quantil-Diagramm\">Q-Q-Diagramm</a>) erstellen."
   ]
  },
  {
   "cell_type": "code",
   "execution_count": 37,
   "id": "45ed6fcc-bfb4-45d5-bf7c-0c40736835b4",
   "metadata": {},
   "outputs": [
    {
     "data": {
      "image/png": "[encoded data removed]",
      "text/plain": [
       "<Figure size 864x432 with 1 Axes>"
      ]
     },
     "metadata": {
      "needs_background": "light"
     },
     "output_type": "display_data"
    }
   ],
   "source": [
    "# Erzeuge Q-Q Plot\n",
    "data_idx = data.loc[data['major']== 'Social Sciences']\n",
    "smi.qqplot(data_idx['salary'], line = \"r\")\n",
    "#ax1 = plt.gca\n",
    "pylab.show()"
   ]
  },
  {
   "cell_type": "code",
   "execution_count": 38,
   "id": "935bedf8-c744-4961-8e3f-d4acf7713805",
   "metadata": {},
   "outputs": [
    {
     "data": {
      "image/png": "[encoded data removed]",
      "text/plain": [
       "<Figure size 864x432 with 1 Axes>"
      ]
     },
     "metadata": {
      "needs_background": "light"
     },
     "output_type": "display_data"
    }
   ],
   "source": [
    "# Erzeuge Q-Q Plot\n",
    "data_idx = data.loc[data['major']== 'Biology']\n",
    "smi.qqplot(data_idx['salary'], line = \"r\")\n",
    "pylab.show()"
   ]
  },
  {
   "cell_type": "code",
   "execution_count": 39,
   "id": "eeaa79ab-1f90-4ee0-807b-790a83b164b6",
   "metadata": {},
   "outputs": [
    {
     "data": {
      "image/png": "[encoded data removed]",
      "text/plain": [
       "<Figure size 864x432 with 1 Axes>"
      ]
     },
     "metadata": {
      "needs_background": "light"
     },
     "output_type": "display_data"
    }
   ],
   "source": [
    "# Erzeuge Q-Q Plot\n",
    "data_idx = data.loc[data['major']== 'Political Science']\n",
    "smi.qqplot(data_idx['salary'], line = \"r\")\n",
    "pylab.show()"
   ]
  },
  {
   "cell_type": "code",
   "execution_count": 40,
   "id": "4c34d85c-ed0c-4af5-91f3-f2d5a9478c2d",
   "metadata": {},
   "outputs": [
    {
     "data": {
      "image/png": "[encoded data removed]",
      "text/plain": [
       "<Figure size 864x432 with 1 Axes>"
      ]
     },
     "metadata": {
      "needs_background": "light"
     },
     "output_type": "display_data"
    }
   ],
   "source": [
    "# Erzeuge Q-Q Plot\n",
    "data_idx = data.loc[data['major']== 'Environmental Sciences']\n",
    "smi.qqplot(data_idx['salary'], line = \"r\")\n",
    "pylab.show()"
   ]
  },
  {
   "cell_type": "code",
   "execution_count": 41,
   "id": "39b93da2-e4fb-48c4-add5-4722a18c8f45",
   "metadata": {},
   "outputs": [
    {
     "data": {
      "image/png": "[encoded data removed]",
      "text/plain": [
       "<Figure size 864x432 with 1 Axes>"
      ]
     },
     "metadata": {
      "needs_background": "light"
     },
     "output_type": "display_data"
    }
   ],
   "source": [
    "# Erzeuge Q-Q Plot\n",
    "data_idx = data.loc[data['major']== 'Mathematics and Statistics']\n",
    "smi.qqplot(data_idx['salary'], line = \"r\")\n",
    "pylab.show()"
   ]
  },
  {
   "cell_type": "code",
   "execution_count": 42,
   "id": "c0f442c6-78f4-44a0-b504-514731bf3cbc",
   "metadata": {},
   "outputs": [
    {
     "data": {
      "image/png": "[encoded data removed]",
      "text/plain": [
       "<Figure size 864x432 with 1 Axes>"
      ]
     },
     "metadata": {
      "needs_background": "light"
     },
     "output_type": "display_data"
    }
   ],
   "source": [
    "# Erzeuge Q-Q Plot\n",
    "data_idx = data.loc[data['major']== 'Economics and Finance']\n",
    "smi.qqplot(data_idx['salary'], line = \"r\")\n",
    "pylab.show()"
   ]
  },
  {
   "cell_type": "markdown",
   "id": "175a0fb0-50fb-4ffd-a416-750ea55d0517",
   "metadata": {},
   "source": [
    "Als nächstes testen wir die Annahme gleicher Standardabweichungen. Dazu berechnen wir die Standardabweichung für jede Gruppe. Die Programmiersprache Python bietet einige ausgezeichnete Funktionen zur Berechnung statistischer Parameter für verschiedene Gruppierungen eines Datensatzes. Für unser Beispiel verwenden wir die Funktion `pivot_table()`, um die Standardabweichungen für jede Gruppe zu berechnen."
   ]
  },
  {
   "cell_type": "code",
   "execution_count": 66,
   "id": "38f4a99a-2d41-4b5b-b4c2-062ff9761537",
   "metadata": {},
   "outputs": [
    {
     "data": {
      "text/html": [
       "<div>\n",
       "<style scoped>\n",
       "    .dataframe tbody tr th:only-of-type {\n",
       "        vertical-align: middle;\n",
       "    }\n",
       "\n",
       "    .dataframe tbody tr th {\n",
       "        vertical-align: top;\n",
       "    }\n",
       "\n",
       "    .dataframe thead th {\n",
       "        text-align: right;\n",
       "    }\n",
       "</style>\n",
       "<table border=\"1\" class=\"dataframe\">\n",
       "  <thead>\n",
       "    <tr style=\"text-align: right;\">\n",
       "      <th></th>\n",
       "      <th>salary</th>\n",
       "    </tr>\n",
       "    <tr>\n",
       "      <th>major</th>\n",
       "      <th></th>\n",
       "    </tr>\n",
       "  </thead>\n",
       "  <tbody>\n",
       "    <tr>\n",
       "      <th>Biology</th>\n",
       "      <td>8470.016077</td>\n",
       "    </tr>\n",
       "    <tr>\n",
       "      <th>Economics and Finance</th>\n",
       "      <td>7175.592532</td>\n",
       "    </tr>\n",
       "    <tr>\n",
       "      <th>Environmental Sciences</th>\n",
       "      <td>6460.464096</td>\n",
       "    </tr>\n",
       "    <tr>\n",
       "      <th>Mathematics and Statistics</th>\n",
       "      <td>8384.559216</td>\n",
       "    </tr>\n",
       "    <tr>\n",
       "      <th>Political Science</th>\n",
       "      <td>10273.903367</td>\n",
       "    </tr>\n",
       "    <tr>\n",
       "      <th>Social Sciences</th>\n",
       "      <td>7227.381892</td>\n",
       "    </tr>\n",
       "  </tbody>\n",
       "</table>\n",
       "</div>"
      ],
      "text/plain": [
       "                                  salary\n",
       "major                                   \n",
       "Biology                      8470.016077\n",
       "Economics and Finance        7175.592532\n",
       "Environmental Sciences       6460.464096\n",
       "Mathematics and Statistics   8384.559216\n",
       "Political Science           10273.903367\n",
       "Social Sciences              7227.381892"
      ]
     },
     "execution_count": 66,
     "metadata": {},
     "output_type": "execute_result"
    }
   ],
   "source": [
    "table = pd.pivot_table(data, values='salary',index=['major'],aggfunc=np.std)\n",
    "table"
   ]
  },
  {
   "cell_type": "markdown",
   "id": "ab251a90-9b18-438d-9bb3-166a80587000",
   "metadata": {},
   "source": [
    "Als Faustregel gilt die Annahme gleicher Standardabweichungen als erfüllt, wenn das Verhältnis der größten zur kleinsten Standardabweichung der Stichprobe kleiner als $2$ ist (Weiss 2010)."
   ]
  },
  {
   "cell_type": "code",
   "execution_count": 67,
   "id": "bfe82376-8dc8-46b5-a3d0-31e4320204d7",
   "metadata": {},
   "outputs": [
    {
     "data": {
      "text/plain": [
       "salary    1.590273\n",
       "dtype: float64"
      ]
     },
     "execution_count": 67,
     "metadata": {},
     "output_type": "execute_result"
    }
   ],
   "source": [
    "ratio = table.max()/table.min()\n",
    "ratio"
   ]
  },
  {
   "cell_type": "markdown",
   "id": "6caea43a-d149-47c0-9fbc-ec30855ec536",
   "metadata": {},
   "source": [
    "Das Verhältnis zwischen der größten und der kleinsten Standardabweichung der Stichprobe beträgt $1,59$. Das liegt nahe am Schwellenwert von $2$, ist aber für unser Musterbeispiel noch akzeptabel. Daraus können wir schließen, dass die Annahmen erfüllt sind.\n",
    "\n",
    "Beachten Sie, dass die einseitige ANOVA robust gegenüber moderaten Verstößen gegen die Normalitätsannahme und die Annahme gleicher Standardabweichungen ist ({cite:p}`fahrmeirstatistik` s.486)."
   ]
  },
  {
   "cell_type": "markdown",
   "id": "ece56ae7-e697-4db1-b6fa-ecddc18c9122",
   "metadata": {
    "tags": []
   },
   "source": [
    "### Überprüfung der Hypothesen"
   ]
  },
  {
   "cell_type": "markdown",
   "id": "05617adb-e1bd-4fe2-a436-adb14ca56aec",
   "metadata": {},
   "source": [
    "Um den **einfaktoriellen ANOVA-Hypothesentest** durchzuführen, folgen wir dem schrittweisen Durchführungsverfahren für Hypothesentests."
   ]
  },
  {
   "cell_type": "markdown",
   "id": "8197bbac-58ac-41f1-89c3-271f43a5b12f",
   "metadata": {},
   "source": [
    "**Schritt 1 : Geben Sie die Nullhypothese $H_0$ und alternative Hypothese $H_A$ an**"
   ]
  },
  {
   "cell_type": "markdown",
   "id": "3296b8fa-61d9-407d-923e-a92415cbfbb2",
   "metadata": {},
   "source": [
    "Die Nullhypothese besagt, dass das mittlere Jahresgehalt bei allen Gruppen von Absolventen gleich ist."
   ]
  },
  {
   "cell_type": "markdown",
   "id": "1f737aa9-b5d8-4845-81e7-923d619fc4cf",
   "metadata": {},
   "source": [
    "$$H_0: \\quad \\mu_1=\\mu_2=\\mu_3=\\mu_4=\\mu_5=\\mu_6$$"
   ]
  },
  {
   "cell_type": "markdown",
   "id": "ad263acd-95d0-402d-b4b8-ab646bfd5e26",
   "metadata": {},
   "source": [
    "**Alternative Hypothese**"
   ]
  },
  {
   "cell_type": "markdown",
   "id": "fe8d9ebf-bd85-4aed-8eac-55f0018f31e3",
   "metadata": {},
   "source": [
    "$$H_A: \\quad \\text{Nicht alle Mittelwerte sind gleich}$$"
   ]
  },
  {
   "cell_type": "markdown",
   "id": "75ed121d-d3df-47a4-963f-62edacef062e",
   "metadata": {},
   "source": [
    "**Schritt 2: Legen Sie das Signifikanzniveau,$\\alpha$ fest**"
   ]
  },
  {
   "cell_type": "markdown",
   "id": "1b2e9e04-b649-4e15-842e-a32e8f161db8",
   "metadata": {},
   "source": [
    "$$\\alpha = 0,01$$"
   ]
  },
  {
   "cell_type": "code",
   "execution_count": 68,
   "id": "a46450ef-f07d-401f-8055-46d6a44deb66",
   "metadata": {},
   "outputs": [],
   "source": [
    "alpha = 0.01"
   ]
  },
  {
   "cell_type": "markdown",
   "id": "0cad72e0-2573-41a5-bc50-0126a2ef446e",
   "metadata": {},
   "source": [
    "**Schritt 3 und 4: Berechnen Sie den Wert der Teststatistik und den $p$-Wert**"
   ]
  },
  {
   "cell_type": "markdown",
   "id": "39fc8809-b833-4f33-844b-52323161cff6",
   "metadata": {
    "tags": []
   },
   "source": [
    "Um die $F$-Test-Statistik zu berechnen, müssen wir zuvor mehrere Größen bestimmen. Zur Veranschaulichung berechnen wir die $F$-Teststatistik manuell in Python. Schritt für Schritt füllen wir die ANOVA-Tabelle aus, bis wir schließlich die $F$-Teststatistik und folglich den $p$-Wert erhalten."
   ]
  },
  {
   "cell_type": "markdown",
   "id": "897b163c-b834-40f3-8723-f4929894bc3e",
   "metadata": {},
   "source": [
    "\\begin{array}{|l|c|}\n",
    "\\hline\n",
    "\\ \\text{Quelle} & df & \\text{Summe der Quadrate }(SS) & \\text{Mittlere Quadrate }(MS) & F\\text{-Statistik} & p\\text{-Wert}\\\\\n",
    "\\hline\n",
    "\\ \\text{Gruppe/Klasse} & k-1 & SSG & MSG=\\frac{SSG}{k-1} & F = \\frac{MSG}{MSE} & p\\\\\n",
    "\\ \\text{Fehler/Residuen} & n-k & SSE & MSE=\\frac{SSE}{n-k} & & \\\\\n",
    "\\hline \n",
    "\\ \\text{Insgesamt} & n-1 & SST & & & \\\\\n",
    "\\hline \n",
    "\\end{array}"
   ]
  },
  {
   "cell_type": "markdown",
   "id": "508ce8d2-598c-446b-824a-5810ac67bc50",
   "metadata": {},
   "source": [
    "Wir beginnen mit der ersten Spalte und berechnen die Freiheitsgrade."
   ]
  },
  {
   "cell_type": "code",
   "execution_count": 69,
   "id": "cd1a481f-ea64-4ee2-9781-1c7977832f49",
   "metadata": {},
   "outputs": [
    {
     "data": {
      "text/plain": [
       "5"
      ]
     },
     "execution_count": 69,
     "metadata": {},
     "output_type": "execute_result"
    }
   ],
   "source": [
    "k = len((data['major'].unique()))\n",
    "n = len(data)\n",
    "\n",
    "df_G = k - 1\n",
    "df_G"
   ]
  },
  {
   "cell_type": "code",
   "execution_count": 70,
   "id": "c7c9a66f-5817-41dc-84e4-7115dc69fe5f",
   "metadata": {},
   "outputs": [
    {
     "data": {
      "text/plain": [
       "269"
      ]
     },
     "execution_count": 70,
     "metadata": {},
     "output_type": "execute_result"
    }
   ],
   "source": [
    "df_E = n-k\n",
    "df_E"
   ]
  },
  {
   "cell_type": "code",
   "execution_count": 71,
   "id": "f64cf740-ad27-4449-b7cd-426529023edc",
   "metadata": {
    "tags": []
   },
   "outputs": [
    {
     "data": {
      "text/plain": [
       "274"
      ]
     },
     "execution_count": 71,
     "metadata": {},
     "output_type": "execute_result"
    }
   ],
   "source": [
    "df_T = n - 1\n",
    "df_T"
   ]
  },
  {
   "cell_type": "markdown",
   "id": "42ad833d-27a8-450b-91e4-615ea995c8a0",
   "metadata": {},
   "source": [
    "\\begin{array}{|l|c|}\n",
    "\\hline\n",
    "\\ \\text{Quelle} & df & \\text{Summe der Quadrate }(SS) & \\text{Mittlere Quadrate }(MS) & F\\text{-Statistik} & p\\text{-Wert}\\\\\n",
    "\\hline\n",
    "\\ \\text{Gruppe/Klasse} & 5 & SSG & MSG=\\frac{SSG}{k-1} & F = \\frac{MSG}{MSE} & p\\\\\n",
    "\\ \\text{Fehler/Residuen} & 269 & SSE & MSE=\\frac{SSE}{n-k} & & \\\\\n",
    "\\hline \n",
    "\\ \\text{Insgesamt} & 274 & SST & & & \\\\\n",
    "\\hline \n",
    "\\end{array}"
   ]
  },
  {
   "cell_type": "markdown",
   "id": "e87866ac-90a0-4866-a542-c71c3946b721",
   "metadata": {},
   "source": [
    "Außerdem berechnen wir die drei Summen der Quadrate, $SST$, $SSG$ und $SSE$. Erinnern Sie sich an die Gleichungen von oben."
   ]
  },
  {
   "cell_type": "markdown",
   "id": "33886d44-17e3-4802-9eee-fcd89301e781",
   "metadata": {},
   "source": [
    "$$SST = \\sum_{i=1}^n(x_i-\\bar x)^2\\text{,}$$"
   ]
  },
  {
   "cell_type": "markdown",
   "id": "882b7a1e-a20e-4d5f-b334-39c68a5ae5a4",
   "metadata": {},
   "source": [
    "wobei $x_i$den Beobachtungen in den Stichproben und $\\bar x$ dem Gesamtmittelwert aller Stichproben entspricht."
   ]
  },
  {
   "cell_type": "code",
   "execution_count": 72,
   "id": "75b45589-7631-4585-bc25-7f22ee47bdeb",
   "metadata": {},
   "outputs": [
    {
     "data": {
      "text/plain": [
       "33169011167.80223"
      ]
     },
     "execution_count": 72,
     "metadata": {},
     "output_type": "execute_result"
    }
   ],
   "source": [
    "# calculate overall mean\n",
    "x_bar = np.mean(data['salary'])\n",
    "\n",
    "# observation data\n",
    "xi = data['salary']\n",
    "\n",
    "# calculate SST\n",
    "SST = np.sum((xi - x_bar)**2)\n",
    "SST"
   ]
  },
  {
   "cell_type": "markdown",
   "id": "8510a47e-8364-4051-bdfb-81b2c8008894",
   "metadata": {},
   "source": [
    "$$SSG = \\sum_{i=1}^n n_j(\\bar x_i-\\bar x)^2$$"
   ]
  },
  {
   "cell_type": "markdown",
   "id": "3b8d4785-e9b0-427c-8a20-ab7e2d37a415",
   "metadata": {},
   "source": [
    "Dabei steht $n_j$ für den Stichprobenumfang der Gruppe $j, \\bar{x}_i$ für den Mittelwert der Gruppe $j$ und $\\bar x$ für den Gesamtmittelwert aller Stichproben."
   ]
  },
  {
   "cell_type": "code",
   "execution_count": 73,
   "id": "70745362-d02f-404e-8f80-336fb0e07740",
   "metadata": {},
   "outputs": [
    {
     "data": {
      "text/plain": [
       "salary    1.542576e+10\n",
       "dtype: float64"
      ]
     },
     "execution_count": 73,
     "metadata": {},
     "output_type": "execute_result"
    }
   ],
   "source": [
    "# Berechne Stichprobengrösse für alle Gruppen\n",
    "n_j = pd.pivot_table(data, values='salary',index=['major'],aggfunc=len)\n",
    "\n",
    "# Berechne Mittelwert für alle Gruppen\n",
    "xi_bar = pd.pivot_table(data, values='salary',index=['major'],aggfunc=np.mean)\n",
    "\n",
    "# Berechne SSG\n",
    "SSG = np.sum(n_j * (xi_bar - x_bar)**2)\n",
    "SSG"
   ]
  },
  {
   "cell_type": "markdown",
   "id": "c8025003-7f85-43d9-9c10-56c8ab6dd7ca",
   "metadata": {
    "tags": []
   },
   "source": [
    "$$SSE = \\sum_{i=1}^n (n_j-1)s_j^2\\text{,}$$"
   ]
  },
  {
   "cell_type": "markdown",
   "id": "f99a7e9d-af6e-44c5-881e-40d6e5616b25",
   "metadata": {},
   "source": [
    "wobei $n_j$ den Stichprobenumfang für die Gruppe $j$ und $s^2_j$ die Varianz der Gruppe $j$ bezeichnet."
   ]
  },
  {
   "cell_type": "code",
   "execution_count": 74,
   "id": "212ecabf-ffcc-4be1-a626-d950d809af88",
   "metadata": {},
   "outputs": [
    {
     "data": {
      "text/plain": [
       "salary    1.774325e+10\n",
       "dtype: float64"
      ]
     },
     "execution_count": 74,
     "metadata": {},
     "output_type": "execute_result"
    }
   ],
   "source": [
    "# calculate standart deviation for each group\n",
    "s2_j = pd.pivot_table(data, values='salary',index=['major'],aggfunc=np.std)\n",
    "\n",
    "# calculate SSE\n",
    "SSE = np.sum((n_j-1.0)*s2_j**2.0)\n",
    "SSE"
   ]
  },
  {
   "cell_type": "code",
   "execution_count": 75,
   "id": "9793e882-bcf5-4604-874b-a376457222f3",
   "metadata": {},
   "outputs": [
    {
     "data": {
      "text/plain": [
       "salary    1.774325e+10\n",
       "dtype: float64"
      ]
     },
     "execution_count": 75,
     "metadata": {},
     "output_type": "execute_result"
    }
   ],
   "source": [
    "# alternatively one may calculate SSE this way \n",
    "SSE2 = SST - SSG\n",
    "SSE2"
   ]
  },
  {
   "cell_type": "markdown",
   "id": "af58287d-a878-4297-aba6-fd05a33b5f67",
   "metadata": {},
   "source": [
    "\\begin{array}{|l|c|}\n",
    "\\hline\n",
    "\\ \\text{Quelle} & df & \\text{Summe der Quadrate }(SS) & \\text{Mittlere Quadrate }(MS) & F\\text{-Statistik} & p\\text{-Wert}\\\\\n",
    "\\hline\n",
    "\\ \\text{Gruppe/Klasse} & 5 & 1,542576 \\cdot 10^{10} & MSG=\\frac{SSG}{k-1} & F = \\frac{MSG}{MSE} & p\\\\\n",
    "\\ \\text{Fehler/Residuen} & 269 & 1,774325 \\cdot 10^{10} & MSE=\\frac{SSE}{n-k} & & \\\\\n",
    "\\hline \n",
    "\\ \\text{Insgesamt} & 274 & 3,316901 \\cdot 10^{10} & & & \\\\\n",
    "\\hline \n",
    "\\end{array}"
   ]
  },
  {
   "cell_type": "markdown",
   "id": "4ded91ea-3908-4af5-9a72-b1373c2422c9",
   "metadata": {},
   "source": [
    "Nun berechnen wir die beiden Maße für die mittlere Variabilität, $MSG$ und $MSE$."
   ]
  },
  {
   "cell_type": "code",
   "execution_count": 76,
   "id": "e8bb92ce-55e1-485a-83ac-1eb77e4aa05b",
   "metadata": {},
   "outputs": [
    {
     "data": {
      "text/plain": [
       "salary    3.085152e+09\n",
       "dtype: float64"
      ]
     },
     "execution_count": 76,
     "metadata": {},
     "output_type": "execute_result"
    }
   ],
   "source": [
    "# calculate MSG\n",
    "MSG = SSG/(k-1)\n",
    "MSG"
   ]
  },
  {
   "cell_type": "code",
   "execution_count": 77,
   "id": "5cc69bc1-dcf8-46a4-a183-949a14427189",
   "metadata": {},
   "outputs": [
    {
     "data": {
      "text/plain": [
       "salary    6.596004e+07\n",
       "dtype: float64"
      ]
     },
     "execution_count": 77,
     "metadata": {},
     "output_type": "execute_result"
    }
   ],
   "source": [
    "# calculate MSE\n",
    "MSE = SSE/(n-k)\n",
    "MSE"
   ]
  },
  {
   "cell_type": "markdown",
   "id": "d493652d-3090-4ccf-9a3c-59b4d0e42998",
   "metadata": {},
   "source": [
    "\\begin{array}{|l|c|}\n",
    "\\hline\n",
    "\\ \\text{Quelle} & df & \\text{Summe der Quadrate }(SS) & \\text{Mittlere Quadrate }(MS) & F\\text{-Statistik} & p\\text{-Wert}\\\\\n",
    "\\hline\n",
    "\\ \\text{Gruppe/Klasse} & 5 & 1,542576 \\cdot 10^{10} & 3,085152 \\cdot 10^{9} & F = \\frac{MSG}{MSE} & p\\\\\n",
    "\\ \\text{Fehler/Residuen} & 269 & 1,774325 \\cdot 10^{10} & 6,596004 \\cdot 10^{7} & & \\\\\n",
    "\\hline \n",
    "\\ \\text{Insgesamt} & 274 & 3,316901 \\cdot 10^{10} & & & \\\\\n",
    "\\hline \n",
    "\\end{array}"
   ]
  },
  {
   "cell_type": "markdown",
   "id": "0d8f13c9-69ee-42b2-82e9-d9590034c784",
   "metadata": {},
   "source": [
    "Schließlich erhalten wir die $F$-Statistiken durch das Verhältnis von $MSG$ und $MSE$."
   ]
  },
  {
   "cell_type": "code",
   "execution_count": 78,
   "id": "1def61e5-582c-45f9-9de6-ed2f3f19edeb",
   "metadata": {},
   "outputs": [
    {
     "data": {
      "text/plain": [
       "salary    46.77304\n",
       "dtype: float64"
      ]
     },
     "execution_count": 78,
     "metadata": {},
     "output_type": "execute_result"
    }
   ],
   "source": [
    "Fstat = MSG/MSE\n",
    "Fstat"
   ]
  },
  {
   "cell_type": "markdown",
   "id": "003946c1-561a-4a93-9565-044a825e0638",
   "metadata": {},
   "source": [
    "\\begin{array}{|l|c|}\n",
    "\\hline\n",
    "\\ \\text{Quelle} & df & \\text{Summe der Quadrate }(SS) & \\text{Mittlere Quadrate }(MS) & F\\text{-Statistik} & p\\text{-Wert}\\\\\n",
    "\\hline\n",
    "\\ \\text{Gruppe/Klasse} & 5 & 1,542576 \\cdot 10^{10} & 3,085152 \\cdot 10^{9} & F = 46,77304 & p\\\\\n",
    "\\ \\text{Fehler/Residuen} & 269 & 1,774325 \\cdot 10^{10} & 6,596004 \\cdot 10^{7} & & \\\\\n",
    "\\hline \n",
    "\\ \\text{Insgesamt} & 274 & 3,316901 \\cdot 10^{10} & & & \\\\\n",
    "\\hline \n",
    "\\end{array}"
   ]
  },
  {
   "cell_type": "markdown",
   "id": "9556923d-6e2e-4df8-816c-8f5af021cf05",
   "metadata": {},
   "source": [
    "Im letzten Schritt berechnen wir den $p$-Wert durch Aufruf der Funktion `f.cdf()` in Python. Erinnern Sie sich, wie man die Freiheitsgrade berechnet."
   ]
  },
  {
   "cell_type": "markdown",
   "id": "4755195f-cdd1-4722-a0b8-0b1d149b680a",
   "metadata": {},
   "source": [
    "$$df = (k-1, n-k)$$"
   ]
  },
  {
   "cell_type": "markdown",
   "id": "f82f578a-61f0-4cf2-b0ba-27d6a9a66d99",
   "metadata": {},
   "source": [
    "Da die Nullhypothese nur dann abgelehnt wird, wenn die Teststatistik $F$ zu groß ist, ist ein einfaktorieller ANOVA-Test immer rechtsschief."
   ]
  },
  {
   "cell_type": "code",
   "execution_count": 79,
   "id": "0ddefa72-1f11-4ad7-9df4-6b20bc0bb5fd",
   "metadata": {},
   "outputs": [
    {
     "data": {
      "text/plain": [
       "array([1.09321209e-34])"
      ]
     },
     "execution_count": 79,
     "metadata": {},
     "output_type": "execute_result"
    }
   ],
   "source": [
    "df1 = k-1\n",
    "df2 = n-k\n",
    "\n",
    "p_value = f.sf(Fstat, dfn = df1, dfd = df2)\n",
    "p_value"
   ]
  },
  {
   "cell_type": "markdown",
   "id": "1ca1a544-1f95-41b5-887c-1c00b97ec485",
   "metadata": {},
   "source": [
    "\\begin{array}{|l|c|}\n",
    "\\hline\n",
    "\\ \\text{Quelle} & df & \\text{Summe der Quadrate }(SS) & \\text{Mittlere Quadrate }(MS) & F\\text{-Statistik} & p\\text{-Wert}\\\\\n",
    "\\hline\n",
    "\\ \\text{Gruppe/Klasse} & 5 & 1,542576 \\cdot 10^{10} & 3,085152 \\cdot 10^{9} & F = 46,77304 & 1,093212 \\cdot 10^{-34}\\\\\n",
    "\\ \\text{Fehler/Residuen} & 269 & 1,774325 \\cdot 10^{10} & 6,596004 \\cdot 10^{7} & & \\\\\n",
    "\\hline \n",
    "\\ \\text{Insgesamt} & 274 & 3,316901 \\cdot 10^{10} & & & \\\\\n",
    "\\hline \n",
    "\\end{array}"
   ]
  },
  {
   "cell_type": "markdown",
   "id": "90431e41-9983-4579-9809-1613d24bea92",
   "metadata": {},
   "source": [
    "**Schritt 5: Wenn $p \\le \\alpha , H_0$ ablehnen; ansonsten $H_0$ nicht ablehnen**"
   ]
  },
  {
   "cell_type": "code",
   "execution_count": 80,
   "id": "53477734-400c-48ae-b5b1-506a99a3d144",
   "metadata": {},
   "outputs": [
    {
     "data": {
      "text/plain": [
       "array([ True])"
      ]
     },
     "execution_count": 80,
     "metadata": {},
     "output_type": "execute_result"
    }
   ],
   "source": [
    "p_value <= alpha"
   ]
  },
  {
   "cell_type": "markdown",
   "id": "15c4adfb-223b-4cab-9253-9fdb65a04a6a",
   "metadata": {},
   "source": [
    "Der $p$-Wert ist kleiner als das angegebene Signifikanzniveau von $0,01$; wir verwerfen $H_0$. Die Testergebnisse sind statistisch signifikant auf dem $1 \\%$-Niveau und liefern einen sehr starken Beweis gegen die Nullhypothese."
   ]
  },
  {
   "cell_type": "markdown",
   "id": "cf516598-350d-4a0b-8aac-2ded5f9074e4",
   "metadata": {},
   "source": [
    "**Schritt 6: Interpretieren Sie das Ergebnis des Hypothesentests**"
   ]
  },
  {
   "cell_type": "markdown",
   "id": "e87ea49f-e8ce-427f-81c8-81ac583c35ec",
   "metadata": {},
   "source": [
    "$p=1,093212 \\cdot 10^{-34}$. Bei einem Signifikanzniveau von $1 \\%$ liefern die Daten sehr starke Hinweise darauf, dass sich mindestens ein Paar von Gruppenmittelwerten voneinander unterscheidet."
   ]
  },
  {
   "cell_type": "markdown",
   "id": "919b7381-db05-4516-9ab7-f8812b7d4086",
   "metadata": {},
   "source": [
    "### Hypothesentests in Python"
   ]
  },
  {
   "cell_type": "markdown",
   "id": "3867c42f-ac3b-4c2f-a560-b045bd083cff",
   "metadata": {},
   "source": [
    "Wir haben gerade einen einfaktoriellen ANOVA-Hypothesentest in Python manuell durchgeführt. Toll, aber jetzt wiederholen wir das Beispiel und nutzen die Möglichkeiten von Python, um das gleiche Ergebnis wie oben mit nur wenigen Zeilen Code zu erhalten!\n",
    "\n",
    "Um einen einseitigen ANOVA-Hypothesentest in Python durchzuführen, verwenden wir die Funktion `f_oneway()`. Die `f_oneway()`-Funktion erwartet die Eingabe der zu vergleichenden Untergruppen, also geben wir unsere Daten jeweils in der Form `data['salary'][data['major'] == eg:'Biology']`. Außerdem lesen wir die $F$-Teststatistik `statistics` und $p$-Wert `p_value` aus."
   ]
  },
  {
   "cell_type": "code",
   "execution_count": 81,
   "id": "20561210-fb21-446b-9124-f91b78fd262d",
   "metadata": {},
   "outputs": [
    {
     "name": "stdout",
     "output_type": "stream",
     "text": [
      "Wert der F-Statistik : 46.77304030428687\n",
      "p-Wert : 1.0932120917246151e-34\n"
     ]
    }
   ],
   "source": [
    "statistics, pvalue = stats.f_oneway(data['salary'][data['major'] == 'Biology'],\n",
    "               data['salary'][data['major'] == 'Social Sciences'],\n",
    "               data['salary'][data['major'] == 'Economics and Finance'],\n",
    "               data['salary'][data['major'] == 'Political Science'],\n",
    "               data['salary'][data['major'] == 'Mathematics and Statistics'],\n",
    "               data['salary'][data['major'] == 'Environmental Sciences'])\n",
    "\n",
    "print('Wert der F-Statistik :',statistics)\n",
    "print('p-Wert :',pvalue)"
   ]
  },
  {
   "cell_type": "markdown",
   "id": "d7ec2009-e28f-4142-9bde-8c1db655a881",
   "metadata": {},
   "source": [
    "Es hat gut funktioniert! Vergleichen Sie die Ausgabe der Funktion `f_oneway()` mit unserem Ergebnis von oben. Auch hier können wir zu dem Schluss kommen, dass die Daten bei einem Signifikanzniveau von $1 \\%$ sehr starke Hinweise darauf liefern, dass sich mindestens ein Paar von Gruppenmitteln voneinander unterscheidet."
   ]
  }
 ],
 "metadata": {
  "kernelspec": {
   "display_name": "Python 3 (ipykernel)",
   "language": "python",
   "name": "python3"
  },
  "language_info": {
   "codemirror_mode": {
    "name": "ipython",
    "version": 3
   },
   "file_extension": ".py",
   "mimetype": "text/x-python",
   "name": "python",
   "nbconvert_exporter": "python",
   "pygments_lexer": "ipython3",
   "version": "3.10.2"
  }
 },
 "nbformat": 4,
 "nbformat_minor": 5
}
