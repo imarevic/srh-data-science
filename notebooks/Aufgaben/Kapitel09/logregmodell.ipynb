{
 "cells": [
  {
   "cell_type": "code",
   "execution_count": 1,
   "id": "45ff9b6d-bd51-4416-914a-63d7787ecbcb",
   "metadata": {
    "tags": [
     "remove-cell"
    ]
   },
   "outputs": [
    {
     "name": "stdout",
     "output_type": "stream",
     "text": [
      "\n",
      "---------------------------------\n",
      "Working on the host: Joachims-MacBook-Pro.local\n",
      "\n",
      "---------------------------------\n",
      "Python version: 3.10.2 | packaged by conda-forge | (main, Feb  1 2022, 19:30:18) [Clang 11.1.0 ]\n",
      "\n",
      "---------------------------------\n",
      "Python interpreter: /opt/miniconda3/envs/srh/bin/python\n"
     ]
    }
   ],
   "source": [
    "%matplotlib inline\n",
    "# Load the \"autoreload\" extension\n",
    "%load_ext autoreload\n",
    "# always reload modules\n",
    "%autoreload 2\n",
    "# black formatter for jupyter notebooks\n",
    "#%load_ext nb_black\n",
    "# black formatter for jupyter lab\n",
    "%load_ext lab_black\n",
    "\n",
    "%run ../../../src/notebook_env.py"
   ]
  },
  {
   "cell_type": "markdown",
   "id": "9d2c5302-7628-4ea7-8859-0cddde4a10ef",
   "metadata": {},
   "source": [
    "# Einfaches logistisches Regressionsmodell "
   ]
  },
  {
   "cell_type": "markdown",
   "id": "129a738f-810f-4aba-977b-5f5d080151a7",
   "metadata": {},
   "source": [
    "1. Erstellen Sie ein einfaches logistische Regressionsmodell für die folgenden Daten in Python und stellen Sie das logistische Modell graphisch dar."
   ]
  },
  {
   "cell_type": "code",
   "execution_count": 10,
   "id": "88942f61-7753-402d-9251-3bcd7125de0f",
   "metadata": {},
   "outputs": [],
   "source": [
    "x = [\n",
    "    29,\n",
    "    15,\n",
    "    33,\n",
    "    28,\n",
    "    39,\n",
    "    44,\n",
    "    31,\n",
    "    19,\n",
    "    9,\n",
    "    24,\n",
    "    32,\n",
    "    31,\n",
    "    37,\n",
    "    35,\n",
    "    8,\n",
    "    4,\n",
    "    11,\n",
    "    12,\n",
    "    33,\n",
    "    45,\n",
    "    20,\n",
    "    25,\n",
    "    27,\n",
    "    26,\n",
    "    29,\n",
    "]\n",
    "y = [0, 0, 1, 1, 1, 1, 1, 0, 1, 0, 0, 0, 1, 1, 0, 0, 0, 0, 1, 1, 0, 1, 1, 1, 1]"
   ]
  },
  {
   "cell_type": "markdown",
   "id": "9a6bfc4c-3b08-49ae-952d-fc92abf8e7d7",
   "metadata": {},
   "source": [
    "-------------------------------------------------------"
   ]
  },
  {
   "cell_type": "markdown",
   "id": "f866b83b-fea8-4fda-89af-edacb69f42b7",
   "metadata": {},
   "source": [
    "## Lösungen"
   ]
  },
  {
   "cell_type": "code",
   "execution_count": 13,
   "id": "0c0173f6-8bfd-4ac4-8dc6-1915fd6f15b8",
   "metadata": {
    "tags": [
     "hide-cell"
    ]
   },
   "outputs": [
    {
     "data": {
      "image/png": "[encoded data removed]",
      "text/plain": [
       "<Figure size 864x432 with 1 Axes>"
      ]
     },
     "metadata": {
      "needs_background": "light"
     },
     "output_type": "display_data"
    }
   ],
   "source": [
    "import matplotlib.pyplot as plt\n",
    "import numpy as np\n",
    "import statsmodels.api as sm\n",
    "\n",
    "\n",
    "log_model = sm.GLM(y, sm.add_constant(x), family=sm.families.Binomial())\n",
    "log_results = log_model.fit()\n",
    "\n",
    "x_axis = np.linspace(min(x), max(x), num=100)\n",
    "predictions = log_results.get_prediction(exog=sm.add_constant(x_axis)).summary_frame()\n",
    "\n",
    "\n",
    "fig, ax = plt.subplots()\n",
    "ax.scatter(x, y)\n",
    "ax.plot(x_axis, predictions[\"mean\"])\n",
    "\n",
    "ax.grid()\n",
    "ax.set_ylabel(\"Wahrscheinlichkeit\")\n",
    "plt.show()"
   ]
  }
 ],
 "metadata": {
  "kernelspec": {
   "display_name": "Python 3 (ipykernel)",
   "language": "python",
   "name": "python3"
  },
  "language_info": {
   "codemirror_mode": {
    "name": "ipython",
    "version": 3
   },
   "file_extension": ".py",
   "mimetype": "text/x-python",
   "name": "python",
   "nbconvert_exporter": "python",
   "pygments_lexer": "ipython3",
   "version": "3.10.2"
  }
 },
 "nbformat": 4,
 "nbformat_minor": 5
}
