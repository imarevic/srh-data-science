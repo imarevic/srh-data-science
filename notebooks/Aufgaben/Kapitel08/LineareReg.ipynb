{
 "cells": [
  {
   "cell_type": "code",
   "execution_count": 1,
   "id": "5dc74543-1b2a-48f9-8646-331180025be4",
   "metadata": {
    "tags": [
     "remove-cell"
    ]
   },
   "outputs": [
    {
     "name": "stdout",
     "output_type": "stream",
     "text": [
      "\n",
      "---------------------------------\n",
      "Working on the host: imarevic-pc\n",
      "\n",
      "---------------------------------\n",
      "Python version: 3.10.9 | packaged by conda-forge | (main, Feb  2 2023, 20:20:04) [GCC 11.3.0]\n",
      "\n",
      "---------------------------------\n",
      "Python interpreter: /home/imarevic/anaconda3/envs/srh/bin/python3.10\n"
     ]
    }
   ],
   "source": [
    "%matplotlib inline\n",
    "# Load the \"autoreload\" extension\n",
    "%load_ext autoreload\n",
    "# always reload modules\n",
    "%autoreload 2\n",
    "# black formatter for jupyter notebooks\n",
    "# %load_ext nb_black\n",
    "# black formatter for jupyter lab\n",
    "%load_ext lab_black\n",
    "\n",
    "%run ../../../src/notebook_env.py"
   ]
  },
  {
   "cell_type": "markdown",
   "id": "f7582b0a-7a90-4f4d-9bab-69560a1c4c37",
   "metadata": {
    "tags": []
   },
   "source": [
    "# Lineare Regression"
   ]
  },
  {
   "cell_type": "markdown",
   "id": "1802e1d0-f05d-4d11-ba6b-7c77a0f1cdc7",
   "metadata": {},
   "source": [
    "1. Führen Sie eine lineare Regression für die folgenden Daten (`x,y`) durch und stellen Sie die Regressionsgerade und die Daten graphisch dar."
   ]
  },
  {
   "cell_type": "code",
   "execution_count": 2,
   "id": "b6123cac-fd0d-4b1c-8d80-7adfa8f8ccf9",
   "metadata": {},
   "outputs": [],
   "source": [
    "import numpy as np\n",
    "\n",
    "n = 10\n",
    "noise = np.random.normal(0, 1.4, n)\n",
    "x = np.arange(0, n, 1)\n",
    "y = 2 * x + noise"
   ]
  },
  {
   "cell_type": "markdown",
   "id": "cf76f553-dbee-49ef-a67c-4cd6ff12473d",
   "metadata": {},
   "source": [
    "-------------------------------------------------------"
   ]
  },
  {
   "cell_type": "code",
   "execution_count": 3,
   "id": "7844d21e-72b3-4daf-9a27-3dfd857024f0",
   "metadata": {},
   "outputs": [],
   "source": [
    "# Frage 1 ..."
   ]
  },
  {
   "cell_type": "markdown",
   "id": "43c0ead5-6ab2-4136-b840-b4a8470ce58b",
   "metadata": {},
   "source": [
    "## Lösungen"
   ]
  },
  {
   "cell_type": "code",
   "execution_count": 4,
   "id": "8cae3092-9f17-4f7b-b417-d69460a8fe5e",
   "metadata": {
    "tags": [
     "hide-cell"
    ]
   },
   "outputs": [
    {
     "data": {
      "image/png": "[encoded data removed]",
      "text/plain": [
       "<Figure size 864x432 with 1 Axes>"
      ]
     },
     "metadata": {
      "needs_background": "light"
     },
     "output_type": "display_data"
    }
   ],
   "source": [
    "import matplotlib.pyplot as plt\n",
    "import statsmodels.api as sm\n",
    "\n",
    "fig, ax = plt.subplots()\n",
    "ax.scatter(x, y, label=\"Stichprobe\")\n",
    "\n",
    "# Fitte das Modell\n",
    "model = sm.OLS(y, sm.add_constant(x)).fit()\n",
    "x_axis = np.linspace(0, n, 100)\n",
    "reg_line = model.predict(sm.add_constant(x_axis))\n",
    "ax.plot(x_axis, reg_line, color=\"red\", label=\"Regressionslinie\")\n",
    "ax.legend()\n",
    "plt.show()"
   ]
  }
 ],
 "metadata": {
  "kernelspec": {
   "display_name": "Python 3 (ipykernel)",
   "language": "python",
   "name": "python3"
  },
  "language_info": {
   "codemirror_mode": {
    "name": "ipython",
    "version": 3
   },
   "file_extension": ".py",
   "mimetype": "text/x-python",
   "name": "python",
   "nbconvert_exporter": "python",
   "pygments_lexer": "ipython3",
   "version": "3.10.9"
  }
 },
 "nbformat": 4,
 "nbformat_minor": 5
}
