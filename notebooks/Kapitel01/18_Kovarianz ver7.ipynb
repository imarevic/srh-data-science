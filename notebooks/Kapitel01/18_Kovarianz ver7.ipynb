{
 "cells": [
  {
   "cell_type": "markdown",
   "id": "41704697-91db-43ba-a514-87d2da00f5b8",
   "metadata": {},
   "source": [
    "## Kovarianz\n",
    "----------------------------------------\n",
    "Die <a href=\"https://en.wikipedia.org/wiki/Covariance\">Kovarianz</a> ist ein Maß für die gemeinsame Variabilität von zwei Variablen. Die Kovarianz kann jeden Wert im Intervall $]-\\infty \\ $,$ \\ +\\infty[$ annehmen.\n",
    "\n",
    "Die Kovarianz ist positiv, wenn die größeren/kleineren Werte der einen Variablen hauptsächlich mit den größeren/kleineren Werten der anderen Variablen übereinstimmen. Die Kovarianz ist negativ, wenn die Variablen tendenziell ein entgegengesetztes Verhalten zeigen. Die Kovarianz ist negativ, wenn die größeren Werte der einen Variablen hauptsächlich mit den kleineren Werten der anderen Variablen übereinstimmen.\n",
    "\n",
    "Die Kovarianz, $s_{xy}$\n",
    "wird durch die folgende Gleichung berechnet"
   ]
  },
  {
   "cell_type": "markdown",
   "id": "d5c48ff3-2644-4586-828d-de07a2cac22e",
   "metadata": {},
   "source": [
    "$$s_{xy} = \\frac{\\sum_{i=1}^n (x_i - \\bar{x})(y_i - \\bar{y})}{n-1}$$"
   ]
  },
  {
   "cell_type": "markdown",
   "id": "90a0f691-eb35-4a24-908a-edbb406b757a",
   "metadata": {},
   "source": [
    "Die **normalisierte Version der Kovarianz** wird **Korrelationskoeffizient** genannt, dessen Größe die Stärke einer linearen Beziehung zwischen zwei Variablen angibt."
   ]
  }
 ],
 "metadata": {
  "kernelspec": {
   "display_name": "Python 3 (ipykernel)",
   "language": "python",
   "name": "python3"
  },
  "language_info": {
   "codemirror_mode": {
    "name": "ipython",
    "version": 3
   },
   "file_extension": ".py",
   "mimetype": "text/x-python",
   "name": "python",
   "nbconvert_exporter": "python",
   "pygments_lexer": "ipython3",
   "version": "3.10.2"
  }
 },
 "nbformat": 4,
 "nbformat_minor": 5
}
