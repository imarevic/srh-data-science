{
 "cells": [
  {
   "cell_type": "code",
   "execution_count": 1,
   "id": "e1604339",
   "metadata": {},
   "outputs": [
    {
     "name": "stdout",
     "output_type": "stream",
     "text": [
      "\n",
      "---------------------------------\n",
      "Working on the host: Joachims-MacBook-Pro.local\n",
      "\n",
      "---------------------------------\n",
      "Python version: 3.10.2 | packaged by conda-forge | (main, Feb  1 2022, 19:30:18) [Clang 11.1.0 ]\n",
      "\n",
      "---------------------------------\n",
      "Python interpreter: /opt/miniconda3/envs/srh/bin/python\n"
     ]
    }
   ],
   "source": [
    "%matplotlib inline\n",
    "# Load the \"autoreload\" extension\n",
    "%load_ext autoreload\n",
    "# always reload modules\n",
    "%autoreload 2\n",
    "# black formatter for jupyter notebooks\n",
    "#%load_ext nb_black\n",
    "# black formatter for jupyter lab\n",
    "%load_ext lab_black\n",
    "\n",
    "%run ../../src/notebook_env.py"
   ]
  },
  {
   "cell_type": "markdown",
   "id": "35a56087-3be7-410f-8585-2adfc254eca4",
   "metadata": {
    "tags": []
   },
   "source": [
    "## Der Mittelwert\n",
    "----------------------------------------"
   ]
  },
  {
   "cell_type": "code",
   "execution_count": 2,
   "id": "67be46cf-9d85-4e1d-8207-8f6d3b031a46",
   "metadata": {},
   "outputs": [],
   "source": [
    "import numpy as np\n",
    "import pandas as pd\n",
    "import statistics as st"
   ]
  },
  {
   "cell_type": "markdown",
   "id": "fd59f09d-0adf-407c-a25e-ddb13c31c2c4",
   "metadata": {
    "tags": []
   },
   "source": [
    "### Der arithmethische Mittelwert"
   ]
  },
  {
   "cell_type": "markdown",
   "id": "65f9a270-e9ef-4474-886a-9bb44eb22876",
   "metadata": {},
   "source": [
    "$$\\text{Mittelwert} = \\frac{\\text{Summe aller Werte}}{\\text{Anzahl aller Werte}}$$"
   ]
  },
  {
   "cell_type": "markdown",
   "id": "ddb2b78d-ef21-4640-9e6b-099678064e9e",
   "metadata": {},
   "source": [
    "Das für Stichprobendaten berechnete arithmetische Mittel wird mit $\\bar{x}$ (gelesen als \"x strich\") bezeichnet, und das Mittel für Grundgesamtheitsdaten wird mit $\\mu$ (griechischer Buchstabe mu) bezeichnet. Der Mittelwert kann also durch die folgenden Gleichungen ausgedrückt werden:"
   ]
  },
  {
   "cell_type": "markdown",
   "id": "6801019d-b8c8-4b27-9070-0aaea77f5a1f",
   "metadata": {},
   "source": [
    "$$\\bar{x}=\\frac{1}{n} \\cdot \\sum_{i=1}^n x_i$$"
   ]
  },
  {
   "cell_type": "markdown",
   "id": "ca6824c4-f0b9-45e3-8b87-c16b53012ee5",
   "metadata": {},
   "source": [
    "oder"
   ]
  },
  {
   "cell_type": "markdown",
   "id": "f04cf0c7-a2c1-4b2f-bdd9-405deffeb804",
   "metadata": {},
   "source": [
    "$$\\mu=\\frac{1}{N} \\cdot \\sum_{i=1}^N x_i$$"
   ]
  },
  {
   "cell_type": "markdown",
   "id": "16c3457d-09e2-434b-8c31-d5450beca5ce",
   "metadata": {},
   "source": [
    "wobei $\\sum_{i=1}^n x_i$ die Summe aller Werte $(x_1,x_2,...,x_n)$, $N$ der Umfang der Grundgesamtheit und $n$ der Stichprobenumfang ist.\n",
    "Betrachten wir die Variable `height` im Datensatz `students` und berechnen wir ihr arithmetisches Mittel. Beachten Sie, dass es sich bei dem `students` Datensatz um eine *Stichprobe* und **nicht** um die Grundgesamtheit aller Studenten handelt. Daher berechnen wir den $\\bar{x}$, den Stichprobenmittelwert."
   ]
  },
  {
   "cell_type": "markdown",
   "id": "7460c3dc-fd64-46cb-8b07-15636e282952",
   "metadata": {},
   "source": [
    "Natürlich gibt es auch eine eingebaute Funktion namens `mean()` im Paket `numpy`."
   ]
  },
  {
   "cell_type": "code",
   "execution_count": 8,
   "id": "3a15275e-fdc1-40f2-944e-d5d8aaaa2b97",
   "metadata": {},
   "outputs": [
    {
     "name": "stdout",
     "output_type": "stream",
     "text": [
      "Mittelwert des Alters der Studenten: 171.38075009103048\n"
     ]
    }
   ],
   "source": [
    "# Wende Funktion mean() auf Spalte 'height' an und speicher Ergebnis in heigh_mean\n",
    "height_mean = df[\"height\"].mean()\n",
    "print(f\"Mittelwert des Alters der Studenten: {height_mean}\")"
   ]
  },
  {
   "cell_type": "markdown",
   "id": "0150b729-f19c-40dd-91c9-0c07b815ad09",
   "metadata": {},
   "source": [
    "### Das geometrische Mittel\n",
    "Bei der Untersuchung von Phänomenen wie der Inflation oder der Bevölkerungsentwicklung, die mit periodischen Zu- oder Abnahmen einhergehen (so genannte Veränderungsraten), ist das **geometrische Mittel** besser geeignet, um die durchschnittliche Veränderung über den gesamten Untersuchungszeitraum zu ermitteln. Um das geometrische Mittel einer Folge von n Werten $x_1,x_2,\\dots,x_n $ zu berechnen, werden diese miteinander multipliziert und dann die n-te Wurzel aus diesem Produkt ermittelt."
   ]
  },
  {
   "cell_type": "markdown",
   "id": "1efea8b0-1e4c-4133-8071-b82b737f84d8",
   "metadata": {},
   "source": [
    "$$ \\bar{x}_{geo}=\\sqrt{x_1\\cdot x_2 \\cdots  x_n}$$"
   ]
  },
  {
   "cell_type": "markdown",
   "id": "b227762c-975b-4772-b4ad-5582c83254f9",
   "metadata": {},
   "source": [
    "was umgeschrieben werden kann als"
   ]
  },
  {
   "cell_type": "markdown",
   "id": "69b54438-a816-4502-b472-84ebd3ae0130",
   "metadata": {},
   "source": [
    "$$ \\bar{x}_{geo} = \\sqrt{x_1\\cdot x_2 \\cdots  x_n} = (\\prod_{i=1}^n x_i)^{\\frac{1}{n}} = \\sqrt[n]{\\prod_{i=1}^n x_i}$$"
   ]
  },
  {
   "cell_type": "markdown",
   "id": "9ef9fda2-d070-4fd9-a960-046060d464dc",
   "metadata": {},
   "source": [
    "Lassen Sie uns das an einem Beispiel verdeutlichen: <br> \n",
    "Wir betrachten die jährlichen Wachstumsraten eines Schwarmes von Honigbienen über einen Zeitraum von $5$ Jahren. Diese Veränderungsraten sind: $14 \\%$, $26 \\%$, $16 \\%$, $-38 \\%$, $-6 \\%$. Außerdem wissen wir, dass sich zu Beginn des Beobachtungszeitraums $5.000$ Bienen im Schwarm befunden haben. Wir suchen nach der mittleren Rate der Populationsveränderung. <br>\n",
    "Zunächst schreiben wir unsere Wachstumsraten in eine Liste."
   ]
  },
  {
   "cell_type": "code",
   "execution_count": 10,
   "id": "1fc468e9-d0e3-4ba8-a222-861fa6ee0c69",
   "metadata": {},
   "outputs": [],
   "source": [
    "bees = [14, 26, 16, -38, -6]"
   ]
  },
  {
   "cell_type": "markdown",
   "id": "2b437b8d-6ca4-4ad4-aa1b-a73016818292",
   "metadata": {},
   "source": [
    "Nun wenden wir wider besseres Wissen das arithmetische Mittel an: <br>"
   ]
  },
  {
   "cell_type": "code",
   "execution_count": 11,
   "id": "b151e382-7fcb-47ee-9d80-9280e57197c2",
   "metadata": {},
   "outputs": [
    {
     "name": "stdout",
     "output_type": "stream",
     "text": [
      "Die mittlere Änderungsrate der Bienenpopulation ist 2.4 Prozent\n"
     ]
    }
   ],
   "source": [
    "print(f\"Die mittlere Änderungsrate der Bienenpopulation ist {np.mean(bees)} Prozent\")"
   ]
  },
  {
   "cell_type": "markdown",
   "id": "04e141e2-2c22-4ef5-9e46-f195c24a5e72",
   "metadata": {},
   "source": [
    "Das arithmetische Mittel zeigt, dass der Schwarm über den Zeitraum von fünf Jahren wächst! Wir sind aber skeptisch und berechnen das jährliche Wachstum des Bienenschwarms explizit. Zunächst wandeln wir die angegebenen Prozentsätze in relative Wachstumsraten um (`bees_growth_rel`), und dann berechnen wir einfach den Stand der Bienenpopulation, indem wir die Veränderungsraten nacheinander mit der Anzahl der Bienen multiplizieren, von der wir wissen, dass sie zu Beginn der Erhebung $5.000$ betrug."
   ]
  },
  {
   "cell_type": "code",
   "execution_count": 6,
   "id": "902aab1b-337c-4cc8-9b86-80b6c00fa5d7",
   "metadata": {},
   "outputs": [
    {
     "name": "stdout",
     "output_type": "stream",
     "text": [
      "[1.14, 1.26, 1.16, 0.62, 0.94]\n"
     ]
    }
   ],
   "source": [
    "# Erzeuge Liste bees\n",
    "bees = [14, 26, 16, -38, -6]\n",
    "\n",
    "# Initialisiere leere Liste bees_growth_rel und Indexvariable i\n",
    "bees_growth_rel=[]\n",
    "i = 0\n",
    "\n",
    "# Erzeuge while - Schleife die über die Länge der Liste bees iteriert\n",
    "while i < len(bees):\n",
    "    # Berechne die Werte in Prozent und füge sie zu bees_growth_rel hinzu\n",
    "    bees_growth_rel.append(round(bees[i]/100+1,2))\n",
    "    i = i + 1 \n",
    "    \n",
    "print(bees_growth_rel)"
   ]
  },
  {
   "cell_type": "code",
   "execution_count": 7,
   "id": "1d657a84-f73a-44e9-8dbe-42e56d3c4626",
   "metadata": {},
   "outputs": [
    {
     "name": "stdout",
     "output_type": "stream",
     "text": [
      "4855\n"
     ]
    }
   ],
   "source": [
    "# Initialisiere Variable sumsum und Indexvariable i\n",
    "i = 0\n",
    "sumsum=5000\n",
    "\n",
    "# Erzeuge while - Schleife die über die Länge der Liste bees_growth_rel iteriert\n",
    "while i < len(bees_growth_rel):\n",
    "  sumsum =bees_growth_rel[i]*sumsum\n",
    "  i = i + 1 \n",
    "\n",
    "print(round(sumsum))"
   ]
  },
  {
   "cell_type": "markdown",
   "id": "d98b015b-0ca2-4407-9c94-0171ea11d002",
   "metadata": {},
   "source": [
    "Wow, was für eine Überraschung! Offensichtlich stimmt da etwas nicht! Wir hatten erwartet, dass der Schwarm im Laufe der Zeit im Durchschnitt zunehmen würde. Wir haben jedoch einen Rückgang der absoluten Zahl der Bienen berechnet! <br> <br>\n",
    "Versuchen wir es mit dem geometrischen Mittel: <br> <br> Bitte beachten Sie, dass $\\sqrt[n]{x}= x^{\\frac{1}{n}}$ <br> <br> Um das geometrische Mittel explizit zu berechnen, schreiben wir:"
   ]
  },
  {
   "cell_type": "code",
   "execution_count": 8,
   "id": "43e59630-f25f-4de3-83ff-3c4027b63a1e",
   "metadata": {},
   "outputs": [
    {
     "name": "stdout",
     "output_type": "stream",
     "text": [
      "0.994\n"
     ]
    }
   ],
   "source": [
    "# Initialisiere Variable geom und Indexvariable i\n",
    "i = 0\n",
    "geom=1\n",
    "\n",
    "# Erzeuge while - Schleife die über die Länge der Liste bees_growth_rel iteriert\n",
    "while i < len(bees_growth_rel):\n",
    "    # Berechne das geometrische Mittel\n",
    "    geom =bees_growth_rel[i]*geom\n",
    "    i = i + 1\n",
    "    \n",
    "geom = geom**(1/len(bees_growth_rel))\n",
    "\n",
    "print(round(geom,3))"
   ]
  },
  {
   "cell_type": "markdown",
   "id": "f94e0faa-18ff-44b3-8b41-8bb22e75e487",
   "metadata": {},
   "source": [
    "Großartig! Das geometrische Mittel zeigt, dass die Zahl der Arten im Laufe der Zeit mit einer durchschnittlichen Rate von $0.994$ abnimmt, was $-0.006 \\% $ entspricht. Wir überprüfen dies, indem wir $5.000$ Bienen (die anfängliche Anzahl der Bienen im Schwarm) mal $0.994$ für jedes Jahr nehmen; dies ergibt $4.971$ Bienen nach dem ersten Jahr, $4.942$ nach dem zweiten Jahr, $4.913$ nach dem dritten Jahr, $4.884$ nach dem vierten Jahr und $4.855$ nach dem fünften Jahr der Beobachtung. Eine perfekte Übereinstimmung! Im Gegensatz zum arithmetischen Mittel gibt das geometrische Mittel die Entwicklung im Vergleich zum Vorjahr nicht zu hoch an! <br> <br>\n",
    "Zum Glück gibt es in Python vordefinierte Funktionspakete für Berechnung von Streuungsmaßen. Diese können durch `import statistics` verwendet werden. Die Funktion für das geometrische Mittel heisst `geometric_mean()`"
   ]
  },
  {
   "cell_type": "code",
   "execution_count": 9,
   "id": "5d7626c5-8628-491d-aa04-b07f14a144b3",
   "metadata": {},
   "outputs": [
    {
     "name": "stdout",
     "output_type": "stream",
     "text": [
      "0.994\n"
     ]
    }
   ],
   "source": [
    "print(round(st.geometric_mean(bees_growth_rel),3))"
   ]
  },
  {
   "cell_type": "markdown",
   "id": "ec40ba79-e686-47fe-817f-d1dc8a8bd7cc",
   "metadata": {},
   "source": [
    "### Der harmonische Mittelwert\n",
    "Der **harmonische Mittelwert** eignet sich am besten für die Ermittlung des Durchschnitts von inversen Größen wie Geschwindigkeit (km/h) oder Bevölkerungsdichte (pop/km2). <br> <br> Betrachten Sie das folgende Beispiel: <br> <br>\n",
    "Die Entfernung zwischen Ihrem Haus und dem nächsten See beträgt 40 km. Sie sind mit einer Geschwindigkeit von 20 km pro Stunde zum See gefahren und mit einer Geschwindigkeit von 80 km pro Stunde nach Hause zurückgekehrt. Wie hoch war meine Durchschnittsgeschwindigkeit während der gesamten Fahrt? <br> <br> Berechnen wir zunächst das arithmetische Mittel."
   ]
  },
  {
   "cell_type": "code",
   "execution_count": 10,
   "id": "747b5f9b-09e6-4815-96ac-7c5c23ce07d2",
   "metadata": {},
   "outputs": [
    {
     "name": "stdout",
     "output_type": "stream",
     "text": [
      "50.0\n"
     ]
    }
   ],
   "source": [
    "# Initialisiere Liste speed_arithmetic\n",
    "speed_arithmetic=[20,80]\n",
    "\n",
    "print(np.mean(speed_arithmetic))"
   ]
  },
  {
   "cell_type": "markdown",
   "id": "4228389e-93e4-47b2-b952-00ca56cb8bff",
   "metadata": {},
   "source": [
    "Das arithmetische Mittel der beiden Geschwindigkeiten, mit denen Sie gefahren sind, beträgt 50 km pro Stunde. Dies ist jedoch nicht die richtige Durchschnittsgeschwindigkeit. Es lässt die Tatsache außer Acht, dass Sie mit 20 km/h viel länger gefahren sind als mit 80 km/h. Um die richtige Durchschnittsgeschwindigkeit zu ermitteln, müssen wir stattdessen das harmonische Mittel berechnen. <br> <br> Das harmonische Mittel $\\bar{x}_h$für die positiven reellen Zahlen $x_1,x_2,...,x_n$ ist definiert durch"
   ]
  },
  {
   "cell_type": "markdown",
   "id": "94b22bbf-2d34-431c-8666-3b2a75089c93",
   "metadata": {},
   "source": [
    "$$\\bar{x} = \\frac{n}{\\frac{1}{x_1} + \\frac{1}{x_2} + \\cdots + \\frac{1}{x_n}} = \\frac{n}{\\sum_{i=1}^{n}\\frac{1}{x_i}} \\ \\  x_i \\gt 0, \\ \\  \\forall \\ \\ i \\ \\ $$"
   ]
  },
  {
   "cell_type": "markdown",
   "id": "5ffed6fd-e834-4f67-b600-d22935e6857b",
   "metadata": {},
   "source": [
    "Wir können entweder unsere eigene Funktion für das harmonische Mittel definieren :"
   ]
  },
  {
   "cell_type": "code",
   "execution_count": 11,
   "id": "1ed9c025-15c5-4413-ad47-da2cd1aed6f4",
   "metadata": {},
   "outputs": [
    {
     "name": "stdout",
     "output_type": "stream",
     "text": [
      "32.0\n"
     ]
    }
   ],
   "source": [
    "# Definiere Funktion harm_mean\n",
    "def harm_mean(a):\n",
    "    return 1 / a\n",
    "\n",
    "# Initialisiere Liste speed_harmonic und leere Liste ans\n",
    "speed_harmonic=[20,80]\n",
    "ans = []\n",
    "\n",
    "# Erzeuge for - Schleife und wende Funktion auf Elemente von speed_harmonic an\n",
    "for i in speed_harmonic:\n",
    "    x = harm_mean(i)\n",
    "    # Schreibe Ergebnis in ans\n",
    "    ans.append(x)\n",
    "    \n",
    "harm_mean_sum = len(speed_harmonic)/sum(ans)\n",
    "\n",
    "print(harm_mean_sum)\n"
   ]
  },
  {
   "cell_type": "markdown",
   "id": "fdb3ee95-0282-41cd-8ad4-264cdccd7645",
   "metadata": {},
   "source": [
    "oder die vordefinierte Funktion `harmonic_mean` aus dem Packet `statistics` verwenden:"
   ]
  },
  {
   "cell_type": "code",
   "execution_count": 12,
   "id": "deeea6ce-86c4-4e66-a6e0-fd31f2eb91b4",
   "metadata": {},
   "outputs": [
    {
     "name": "stdout",
     "output_type": "stream",
     "text": [
      "32.0\n"
     ]
    }
   ],
   "source": [
    "speed_harmonic=[20,80]\n",
    "print(st.harmonic_mean(speed_harmonic))"
   ]
  },
  {
   "cell_type": "markdown",
   "id": "60464249-f392-4eaf-8fb5-59f71497c36b",
   "metadata": {},
   "source": [
    "Perfekt, beide Implementierungen liefern das gleiche Ergebnis. Aber ist dieses Ergebnis korrekt? Wir versuchen das Ergebnis nachzuvollziehen. Im obigen Beispiel beträgt die Entfernung zwischen dem See und Ihrem Haus $40$ km. Die Fahrt von A nach B mit einer Geschwindigkeit von $20$ km/h dauert also 2 Stunden. Die Fahrt von B nach A mit einer Geschwindigkeit von $80$ km/h dauert $0,5$ Stunden. Die Gesamtzeit für die Rundstrecke von $2 \\times 40$ km beträgt $2,5$ Stunden. Die Durchschnittsgeschwindigkeit beträgt dann $\\frac{80}{2,5}=32$."
   ]
  },
  {
   "cell_type": "markdown",
   "id": "49a87a03-65be-4f83-88d5-791adcf70401",
   "metadata": {},
   "source": [
    "### Der gewichtete Mittelwert\n",
    "Es gibt Anwendungen, bei denen bestimmte Werte in einem Datensatz als wichtiger angesehen werden können als andere. Im Allgemeinen gilt für eine Folge von $n$ Datenwerten $x_1,x_2,...,x_n$ und ihren entsprechenden Gewichten $w_1,w_2,...,w_n$, ist das gewichtete (arithmetische) Mittel gegeben durch"
   ]
  },
  {
   "cell_type": "markdown",
   "id": "4968a380-9e60-4737-9c08-12492c18f9c8",
   "metadata": {},
   "source": [
    "$$ \\bar{x}_w = \\frac{\\sum_{i=1}^n w_i x_i}{\\sum_{i=1}^n w_i} $$"
   ]
  },
  {
   "cell_type": "markdown",
   "id": "a4a0ed48-931c-4f41-9132-bf1a5cef90ea",
   "metadata": {},
   "source": [
    "wobei $\\sum_{i=1}^n w_i x_i$ durch Multiplikation jedes Datenwertes mit seinem Gewicht und anschließender Addition der Produkte ermittelt wird. <br> <br> Um die Noten der Studenten in einem Kurs zu ermitteln, kann ein Dozent beispielsweise der Abschlussprüfung eine dreimal so hohe Gewichtung zuweisen wie den anderen Prüfungen. Ermitteln wir den gewichteten Mittelwert für einen Studenten, der in den ersten beiden Prüfungen $45$ und $68$ Punkte und in der Abschlussprüfung $74$ Punkte erzielt hat. <br> <br> \n",
    "Zunächst berechnen wir explizit das gewichtete Mittel:"
   ]
  },
  {
   "cell_type": "code",
   "execution_count": 13,
   "id": "57a0c834-e80e-4dcc-bb08-4f8c1dfaefb9",
   "metadata": {},
   "outputs": [
    {
     "name": "stdout",
     "output_type": "stream",
     "text": [
      "67.0\n"
     ]
    }
   ],
   "source": [
    "# Initialisiere Liste scores, weights_scores und leere Liste weighted\n",
    "scores=[45,68,74]\n",
    "weights_scores=[1,1,3]\n",
    "weighted=[]\n",
    "i=0\n",
    "\n",
    "# Erzeuge while - Schleife und füge zeilenweise scores * weights_scores an weighted an\n",
    "while i < len(scores):\n",
    "    weighted.append(scores[i]*weights_scores[i])\n",
    "    i=i+1\n",
    "    \n",
    "print(sum(weighted)/sum(weights_scores))"
   ]
  },
  {
   "cell_type": "markdown",
   "id": "d9c4ae9d-a8d8-4931-a8b2-2c7a8c9a1bb8",
   "metadata": {},
   "source": [
    "Nun wiederholen wir die Berechnung, indem wir die Python-Funktion `average()` anwenden:"
   ]
  },
  {
   "cell_type": "code",
   "execution_count": 14,
   "id": "10374ebf-086b-4416-b277-b20240d67af6",
   "metadata": {},
   "outputs": [
    {
     "data": {
      "text/plain": [
       "67.0"
      ]
     },
     "execution_count": 14,
     "metadata": {},
     "output_type": "execute_result"
    }
   ],
   "source": [
    "np.average(scores,weights=weights_scores)"
   ]
  },
  {
   "cell_type": "markdown",
   "id": "b95c760c-870f-4fcf-998c-f6966d8bbbc0",
   "metadata": {},
   "source": [
    "Um den Vergleich zu erleichtern, berechnen wir auch das arithmetische Mittel der Noten."
   ]
  },
  {
   "cell_type": "code",
   "execution_count": 15,
   "id": "4574f704-b123-4870-8571-7732336166e8",
   "metadata": {},
   "outputs": [
    {
     "data": {
      "text/plain": [
       "62"
      ]
     },
     "execution_count": 15,
     "metadata": {},
     "output_type": "execute_result"
    }
   ],
   "source": [
    "round(np.mean(scores))"
   ]
  },
  {
   "cell_type": "markdown",
   "id": "2ca9837f-dc54-4b25-a911-0856dd14a44d",
   "metadata": {},
   "source": [
    "Bitte beachten Sie, dass die Gewichtung der Eingabewerte ein Prinzip ist, das auch auf andere Mittelwertmaße anwendbar ist. Zum Beispiel können wir die Eingangsvariable für die Berechnung des geometrischen Mittels gewichten."
   ]
  },
  {
   "cell_type": "markdown",
   "id": "22fb50cd-092c-4341-a163-8a6bc1a7456b",
   "metadata": {},
   "source": [
    "### Der gewichtete geometrische Mittelwert"
   ]
  },
  {
   "cell_type": "markdown",
   "id": "830ecfd0-47c0-4fad-a843-ad52df481c72",
   "metadata": {},
   "source": [
    "$$\\bar{x}_{geo_w}= (\\prod_{i=1}^n {x_i}^{w_i})^{1/\\sum_{i=1}^n w_i}$$"
   ]
  },
  {
   "cell_type": "markdown",
   "id": "cae78a12-4736-49c7-8534-3a5fb5ee774a",
   "metadata": {},
   "source": [
    "wobei $x_1,x_2,\\dots x_n$ den Datenwerten und $w_1,w_2,\\dots w_n$ den Gewichten entsprechen. Auf der Grundlage der obigen Gleichung ist es einfach, eine Implementierung in Python zu schreiben:"
   ]
  },
  {
   "cell_type": "markdown",
   "id": "50fcff65-2ee2-4955-9651-d0b59b196c5f",
   "metadata": {},
   "source": [
    "```python \n",
    "weighted_x = np.power(x_i,w_i)\n",
    "for i in range(len(x)):\n",
    "    product *= weighted_x\n",
    "\n",
    "my_weighted_geometric_mean=product**(1/sum(w_i))\n",
    "\n",
    "```"
   ]
  },
  {
   "cell_type": "markdown",
   "id": "77c0a00b-c236-4d73-8395-0c8dd5303fa1",
   "metadata": {},
   "source": [
    "Um sicherzustellen, dass unsere Implementierung korrekt ist, berechnen wir das Beispiel des Bienenschwarms aus dem obigen Abschnitt erneut. Wir erinnern uns, dass wir im obigen Beispiel einen Bienenschwarm über $5$ Jahre beobachtet und die Veränderungsraten der Bienenpopulation notiert haben. Die jährlichen Veränderungsraten waren $1,14 \\ $,$ \\  1,26 \\ $,$ \\  1,16 \\ $,$ \\  0,62 \\ $,$ \\  0,94$, was $x_1, x_2,...x_n$ entspricht. Um das Ergebnis von oben zu reproduzieren, setzen wir alle Gewichte $w_1,w_2,\\dots w_n$ auf $1$."
   ]
  },
  {
   "cell_type": "code",
   "execution_count": 16,
   "id": "76a60310-3793-4022-829a-d252e3745716",
   "metadata": {},
   "outputs": [
    {
     "name": "stdout",
     "output_type": "stream",
     "text": [
      "0.9941469529781075\n"
     ]
    }
   ],
   "source": [
    "# Initialisiere Liste weights_bees, weighted_bees und Variable product\n",
    "weights_bees=[1,1,1,1,1]\n",
    "weighted_bees = np.power(bees_growth_rel,weights_bees)\n",
    "product=1\n",
    "\n",
    "# Erzeuge for - Schleife und multipliziere einzelne (x_i)^w_i; speichere Ergebnis in product\n",
    "for i in range(len(weights_bees)):\n",
    "    product *= weighted_bees[i]\n",
    "\n",
    "# Berechne gewichtetes geometrisches Mittel\n",
    "my_weighted_geometric_mean=product**(1/sum(weights_bees))\n",
    "    \n",
    "print(my_weighted_geometric_mean)"
   ]
  },
  {
   "cell_type": "markdown",
   "id": "fc387f16-8a3c-4964-871d-0b51d87fa95d",
   "metadata": {},
   "source": [
    "Korrekt, wir erhalten das gleiche Ergebnis!"
   ]
  },
  {
   "cell_type": "markdown",
   "id": "050828ce-b60b-410a-809a-1da9e5fd9dc8",
   "metadata": {},
   "source": [
    "### Der gewichtete harmonische Mittelwert"
   ]
  },
  {
   "cell_type": "markdown",
   "id": "dd519a7a-0b71-487e-8e03-64363e46feb8",
   "metadata": {},
   "source": [
    "Schließlich werden wir eine eigene gewichtete harmonische Mittelwertfunktion implementieren. <br> <br> Das gewichtete harmonische Mittel $\\bar{x}$ für die positiven reellen Zahlen $x_1,x_2,\\dots,x_n$ ist durch die folgende Gleichung definiert:"
   ]
  },
  {
   "cell_type": "markdown",
   "id": "3254df11-31ab-4b81-8342-93d29685ed13",
   "metadata": {},
   "source": [
    "$$ \\bar{x}_{hw} = \\frac{w_1+w_2 + \\cdots + w_n}{\\frac{w_1}{x_1} + \\frac{w_2}{x_2} + \\cdots  + \\frac{w_n}{x_n}} = \\frac{\\sum_{i=1}^n w_i}{\\sum_{i=1}^n\\frac{w_i}{x_i}} ,\\  x_i \\gt 0, \\ \\forall \\ \\ i \\ \\ $$"
   ]
  },
  {
   "cell_type": "markdown",
   "id": "824260ba-84aa-4755-8d35-d910fd9ce7ce",
   "metadata": {},
   "source": [
    "Implementieren wir die Funktion des gewichteten harmonischen Mittels in Python. Die Kodierung ist einfach, aber um die Funktionalität unserer Funktion des gewichteten harmonischen Mittels zu erweitern, fügen wir eine `if`-Anweisung ein. Diese `if`-Anweisung im Code normalisiert die Gewichte, wenn die Gewichte nicht in Proportionen angegeben sind. Wenn die `if`-Anweisung ausgeführt wird, geben wir ein Benutzer-Feedback aus, andernfalls erfolgt keine Rückmeldung."
   ]
  },
  {
   "cell_type": "code",
   "execution_count": 17,
   "id": "e05f6a4a-8445-45c3-a4d7-7cd1debfea05",
   "metadata": {},
   "outputs": [],
   "source": [
    "# Definiere Funktion my_weighted_harmonic_mean\n",
    "def my_weighted_harmonic_mean(x_i,w_i):\n",
    "    sum_w_i=0\n",
    "    sum_x_i=0\n",
    "    w_norm=[]\n",
    "    w_normalized=[]\n",
    "    sum_w_i_durch_x_i=0\n",
    "    sum_w_norm_durch_x_i=0\n",
    "    for i in range(len(w_i)):\n",
    "        sum_w_i += w_i[i]\n",
    "        sum_w_i_durch_x_i += w_i[i]/(x_i[i])\n",
    "    if sum_w_i != 1:\n",
    "        print('Werte werden normalisiert')\n",
    "        for i in range(len(w_i)):\n",
    "            w_norm.append(w_i[i]/sum_w_i)\n",
    "            w_normalized=sum(w_norm)\n",
    "            sum_w_norm_durch_x_i += w_norm[i]/(x_i[i])\n",
    "        return w_normalized/(sum_w_norm_durch_x_i)\n",
    "    else:\n",
    "        return sum_w_i/(sum_w_i_durch_x_i)"
   ]
  },
  {
   "cell_type": "markdown",
   "id": "813aa04e-02d0-4542-bb4e-d495de71990b",
   "metadata": {},
   "source": [
    "Lassen Sie uns unser `my_weighted_harmonic_mean` an einem recht komplexen Datensatz ausprobieren. Der Datensatz `cities` besteht aus allen Landeshauptstädten Deutschlands, ihrer Bevölkerungszahl und ihrer Fläche. Ziel ist es, die mittlere Bevölkerungsdichte für die Landeshauptstädte Deutschlands zu berechnen. Sie können die Datei `cities.csv` <a href=\"https://userpage.fu-berlin.de/soga/200/2010_data_sets/cities.csv\">hier</a> herunterladen. Die Daten werden von dieser <a href=\"https://www.bundeslaenderdeutschland.de/landeshauptstaedte/\">Website</a> abgerufen.\n",
    "\n",
    "Zunächst laden wir den Datensatz, geben ihm einen passenden Namen und schauen ihn uns an."
   ]
  },
  {
   "cell_type": "code",
   "execution_count": 18,
   "id": "df42c6ac-f572-4410-b166-e0b5b1fff719",
   "metadata": {},
   "outputs": [
    {
     "data": {
      "text/html": [
       "<div>\n",
       "<style scoped>\n",
       "    .dataframe tbody tr th:only-of-type {\n",
       "        vertical-align: middle;\n",
       "    }\n",
       "\n",
       "    .dataframe tbody tr th {\n",
       "        vertical-align: top;\n",
       "    }\n",
       "\n",
       "    .dataframe thead th {\n",
       "        text-align: right;\n",
       "    }\n",
       "</style>\n",
       "<table border=\"1\" class=\"dataframe\">\n",
       "  <thead>\n",
       "    <tr style=\"text-align: right;\">\n",
       "      <th></th>\n",
       "      <th>name</th>\n",
       "      <th>state</th>\n",
       "      <th>area_km2</th>\n",
       "      <th>pop.size</th>\n",
       "    </tr>\n",
       "  </thead>\n",
       "  <tbody>\n",
       "    <tr>\n",
       "      <th>0</th>\n",
       "      <td>Berlin</td>\n",
       "      <td>Land Berlin</td>\n",
       "      <td>891.85</td>\n",
       "      <td>3415100</td>\n",
       "    </tr>\n",
       "    <tr>\n",
       "      <th>1</th>\n",
       "      <td>Bremen</td>\n",
       "      <td>Freie Hansestadt Bremen</td>\n",
       "      <td>325.42</td>\n",
       "      <td>546450</td>\n",
       "    </tr>\n",
       "    <tr>\n",
       "      <th>2</th>\n",
       "      <td>Dresden</td>\n",
       "      <td>Freistaat Sachsen</td>\n",
       "      <td>328.31</td>\n",
       "      <td>525100</td>\n",
       "    </tr>\n",
       "    <tr>\n",
       "      <th>3</th>\n",
       "      <td>D�sseldorf</td>\n",
       "      <td>Land Nordrhein-Westfalen</td>\n",
       "      <td>217.41</td>\n",
       "      <td>593682</td>\n",
       "    </tr>\n",
       "    <tr>\n",
       "      <th>4</th>\n",
       "      <td>Erfurt</td>\n",
       "      <td>Freistaat Th�ringen</td>\n",
       "      <td>269.17</td>\n",
       "      <td>203480</td>\n",
       "    </tr>\n",
       "    <tr>\n",
       "      <th>5</th>\n",
       "      <td>Hamburg</td>\n",
       "      <td>Freie und Hansestadt Hamburg</td>\n",
       "      <td>755.26</td>\n",
       "      <td>1751780</td>\n",
       "    </tr>\n",
       "    <tr>\n",
       "      <th>6</th>\n",
       "      <td>Hannover</td>\n",
       "      <td>Land Niedersachsen</td>\n",
       "      <td>204.14</td>\n",
       "      <td>514130</td>\n",
       "    </tr>\n",
       "    <tr>\n",
       "      <th>7</th>\n",
       "      <td>Kiel</td>\n",
       "      <td>Land Schleswig-Holstein</td>\n",
       "      <td>118.60</td>\n",
       "      <td>239860</td>\n",
       "    </tr>\n",
       "    <tr>\n",
       "      <th>8</th>\n",
       "      <td>Magdeburg</td>\n",
       "      <td>Land Sachsen-Anhalt</td>\n",
       "      <td>200.97</td>\n",
       "      <td>229924</td>\n",
       "    </tr>\n",
       "    <tr>\n",
       "      <th>9</th>\n",
       "      <td>Mainz</td>\n",
       "      <td>Land Rheinland-Pfalz</td>\n",
       "      <td>97.76</td>\n",
       "      <td>202750</td>\n",
       "    </tr>\n",
       "    <tr>\n",
       "      <th>10</th>\n",
       "      <td>M�nchen</td>\n",
       "      <td>Freistaat Bayern</td>\n",
       "      <td>310.71</td>\n",
       "      <td>1388300</td>\n",
       "    </tr>\n",
       "    <tr>\n",
       "      <th>11</th>\n",
       "      <td>Potsdam</td>\n",
       "      <td>Land Brandenburg</td>\n",
       "      <td>187.27</td>\n",
       "      <td>159450</td>\n",
       "    </tr>\n",
       "    <tr>\n",
       "      <th>12</th>\n",
       "      <td>Saarbr�cken</td>\n",
       "      <td>Saarland</td>\n",
       "      <td>167.07</td>\n",
       "      <td>176990</td>\n",
       "    </tr>\n",
       "    <tr>\n",
       "      <th>13</th>\n",
       "      <td>Schwerin</td>\n",
       "      <td>Land Mecklenburg-Vorpommern</td>\n",
       "      <td>130.46</td>\n",
       "      <td>91260</td>\n",
       "    </tr>\n",
       "    <tr>\n",
       "      <th>14</th>\n",
       "      <td>Stuttgart</td>\n",
       "      <td>Land Baden-W�rttemberg</td>\n",
       "      <td>207.36</td>\n",
       "      <td>597939</td>\n",
       "    </tr>\n",
       "    <tr>\n",
       "      <th>15</th>\n",
       "      <td>Wiesbaden</td>\n",
       "      <td>Land Hessen</td>\n",
       "      <td>203.90</td>\n",
       "      <td>272630</td>\n",
       "    </tr>\n",
       "  </tbody>\n",
       "</table>\n",
       "</div>"
      ],
      "text/plain": [
       "           name                         state  area_km2  pop.size\n",
       "0        Berlin                   Land Berlin    891.85   3415100\n",
       "1        Bremen       Freie Hansestadt Bremen    325.42    546450\n",
       "2       Dresden             Freistaat Sachsen    328.31    525100\n",
       "3    D�sseldorf      Land Nordrhein-Westfalen    217.41    593682\n",
       "4        Erfurt           Freistaat Th�ringen    269.17    203480\n",
       "5       Hamburg  Freie und Hansestadt Hamburg    755.26   1751780\n",
       "6      Hannover            Land Niedersachsen    204.14    514130\n",
       "7          Kiel       Land Schleswig-Holstein    118.60    239860\n",
       "8     Magdeburg           Land Sachsen-Anhalt    200.97    229924\n",
       "9         Mainz          Land Rheinland-Pfalz     97.76    202750\n",
       "10      M�nchen              Freistaat Bayern    310.71   1388300\n",
       "11      Potsdam              Land Brandenburg    187.27    159450\n",
       "12  Saarbr�cken                      Saarland    167.07    176990\n",
       "13     Schwerin   Land Mecklenburg-Vorpommern    130.46     91260\n",
       "14    Stuttgart        Land Baden-W�rttemberg    207.36    597939\n",
       "15    Wiesbaden                   Land Hessen    203.90    272630"
      ]
     },
     "execution_count": 18,
     "metadata": {},
     "output_type": "execute_result"
    }
   ],
   "source": [
    "df = pd.read_csv('cities.csv')\n",
    "df"
   ]
  },
  {
   "cell_type": "markdown",
   "id": "d588aee4-9327-44a8-9f4c-d763898f04a9",
   "metadata": {},
   "source": [
    "Zweitens erstellen wir eine neue Spalte und berechnen die Bevölkerungsdichte (Einwohner pro Quadratkilometer)."
   ]
  },
  {
   "cell_type": "code",
   "execution_count": 19,
   "id": "2357ee6b-fd12-443c-952f-f846b71c6b39",
   "metadata": {},
   "outputs": [
    {
     "name": "stdout",
     "output_type": "stream",
     "text": [
      "           name                         state  area_km2  pop.size      density\n",
      "0        Berlin                   Land Berlin    891.85   3415100  3829.231373\n",
      "1        Bremen       Freie Hansestadt Bremen    325.42    546450  1679.214554\n",
      "2       Dresden             Freistaat Sachsen    328.31    525100  1599.403003\n",
      "3    D�sseldorf      Land Nordrhein-Westfalen    217.41    593682  2730.702360\n",
      "4        Erfurt           Freistaat Th�ringen    269.17    203480   755.953487\n",
      "5       Hamburg  Freie und Hansestadt Hamburg    755.26   1751780  2319.439663\n",
      "6      Hannover            Land Niedersachsen    204.14    514130  2518.516704\n",
      "7          Kiel       Land Schleswig-Holstein    118.60    239860  2022.428331\n",
      "8     Magdeburg           Land Sachsen-Anhalt    200.97    229924  1144.071254\n",
      "9         Mainz          Land Rheinland-Pfalz     97.76    202750  2073.956628\n",
      "10      M�nchen              Freistaat Bayern    310.71   1388300  4468.153584\n",
      "11      Potsdam              Land Brandenburg    187.27    159450   851.444439\n",
      "12  Saarbr�cken                      Saarland    167.07    176990  1059.376309\n",
      "13     Schwerin   Land Mecklenburg-Vorpommern    130.46     91260   699.524759\n",
      "14    Stuttgart        Land Baden-W�rttemberg    207.36    597939  2883.579282\n",
      "15    Wiesbaden                   Land Hessen    203.90    272630  1337.076999\n"
     ]
    }
   ],
   "source": [
    "density=[]\n",
    "area = df['area_km2'].tolist()\n",
    "pop = df['pop.size'].tolist()\n",
    "for i in range(len(pop)):\n",
    "    density.append(pop[i]/area[i]) \n",
    "df['density']=density\n",
    "print(df)"
   ]
  },
  {
   "cell_type": "markdown",
   "id": "af1e3d9e-44be-4c82-984b-9d183960cf3b",
   "metadata": {},
   "source": [
    "Drittens berechnen wir das Gewicht für jede Stadt entsprechend der Bevölkerungszahl"
   ]
  },
  {
   "cell_type": "code",
   "execution_count": 20,
   "id": "fbee26b2-cca5-4570-8489-26b538772661",
   "metadata": {},
   "outputs": [
    {
     "name": "stdout",
     "output_type": "stream",
     "text": [
      "Die Summe der Gewichte ist: 1.0000000000000002\n",
      "           name                         state  area_km2  pop.size  \\\n",
      "0        Berlin                   Land Berlin    891.85   3415100   \n",
      "1        Bremen       Freie Hansestadt Bremen    325.42    546450   \n",
      "2       Dresden             Freistaat Sachsen    328.31    525100   \n",
      "3    D�sseldorf      Land Nordrhein-Westfalen    217.41    593682   \n",
      "4        Erfurt           Freistaat Th�ringen    269.17    203480   \n",
      "5       Hamburg  Freie und Hansestadt Hamburg    755.26   1751780   \n",
      "6      Hannover            Land Niedersachsen    204.14    514130   \n",
      "7          Kiel       Land Schleswig-Holstein    118.60    239860   \n",
      "8     Magdeburg           Land Sachsen-Anhalt    200.97    229924   \n",
      "9         Mainz          Land Rheinland-Pfalz     97.76    202750   \n",
      "10      M�nchen              Freistaat Bayern    310.71   1388300   \n",
      "11      Potsdam              Land Brandenburg    187.27    159450   \n",
      "12  Saarbr�cken                      Saarland    167.07    176990   \n",
      "13     Schwerin   Land Mecklenburg-Vorpommern    130.46     91260   \n",
      "14    Stuttgart        Land Baden-W�rttemberg    207.36    597939   \n",
      "15    Wiesbaden                   Land Hessen    203.90    272630   \n",
      "\n",
      "        density  cities_pop_weight  \n",
      "0   3829.231373           0.313058  \n",
      "1   1679.214554           0.050092  \n",
      "2   1599.403003           0.048135  \n",
      "3   2730.702360           0.054422  \n",
      "4    755.953487           0.018653  \n",
      "5   2319.439663           0.160584  \n",
      "6   2518.516704           0.047130  \n",
      "7   2022.428331           0.021988  \n",
      "8   1144.071254           0.021077  \n",
      "9   2073.956628           0.018586  \n",
      "10  4468.153584           0.127264  \n",
      "11   851.444439           0.014617  \n",
      "12  1059.376309           0.016224  \n",
      "13   699.524759           0.008366  \n",
      "14  2883.579282           0.054812  \n",
      "15  1337.076999           0.024992  \n"
     ]
    }
   ],
   "source": [
    "cities_pop_weight = []\n",
    "pop_sum = sum(df['pop.size'])\n",
    "for i in range(len(pop)):\n",
    "    cities_pop_weight.append(pop[i]/pop_sum)\n",
    "df['cities_pop_weight']=cities_pop_weight\n",
    "print('Die Summe der Gewichte ist:', sum(cities_pop_weight))\n",
    "print(df)"
   ]
  },
  {
   "cell_type": "markdown",
   "id": "4e216f00-7b40-445c-8c90-fd879a0c3f67",
   "metadata": {},
   "source": [
    "Nun wenden wir unsere Implementierung des gewichteten harmonischen Mittels `my_weighted_harmonic_mean` an und vergleichen es mit dem arithmetischen Mittel.\n",
    "\n",
    "Wir beginnen, indem wir der Funktion die Liste `cities_pop_weight_list` als Eingabeparameter übergeben."
   ]
  },
  {
   "cell_type": "code",
   "execution_count": 21,
   "id": "0aeb0a6a-7680-4976-90a0-6fedc710d93d",
   "metadata": {},
   "outputs": [],
   "source": [
    "cities_pop_weight_list = df['cities_pop_weight'].tolist()\n",
    "cities_pop_density_list = df['density'].tolist()"
   ]
  },
  {
   "cell_type": "code",
   "execution_count": 22,
   "id": "f10c39b3-82ec-4f5e-ae70-28031716c014",
   "metadata": {},
   "outputs": [
    {
     "name": "stdout",
     "output_type": "stream",
     "text": [
      "Werte werden normalisiert\n"
     ]
    },
    {
     "data": {
      "text/plain": [
       "2363.437731548685"
      ]
     },
     "execution_count": 22,
     "metadata": {},
     "output_type": "execute_result"
    }
   ],
   "source": [
    "my_weighted_harmonic_mean(cities_pop_density_list,cities_pop_weight_list)"
   ]
  },
  {
   "cell_type": "markdown",
   "id": "d83dedd3-61aa-4064-93dc-6e72a038c348",
   "metadata": {},
   "source": [
    "Jetzt testen wir die Funktionalität unserer Funktion, indem wir die Liste `cities_pop_size_list` als Eingabeparameter angeben."
   ]
  },
  {
   "cell_type": "code",
   "execution_count": 23,
   "id": "7a73994f-3b82-44fa-8221-ddc7130ab8bc",
   "metadata": {},
   "outputs": [
    {
     "name": "stdout",
     "output_type": "stream",
     "text": [
      "Werte werden normalisiert\n"
     ]
    },
    {
     "data": {
      "text/plain": [
       "2363.4377315486854"
      ]
     },
     "execution_count": 23,
     "metadata": {},
     "output_type": "execute_result"
    }
   ],
   "source": [
    "cities_pop_size_list = df['pop.size'].tolist()\n",
    "my_weighted_harmonic_mean(cities_pop_density_list,cities_pop_size_list)"
   ]
  },
  {
   "cell_type": "markdown",
   "id": "75b42c39-5806-4c09-afa7-1588b0cc8d8c",
   "metadata": {},
   "source": [
    "Wunderbar, die Funktion funktioniert wie erwartet. Die Ergebnisse sind identisch.\n",
    "\n",
    "Wir können daraus schließen, dass die durchschnittliche Bevölkerungsdichte in den Landeshauptstädten Deutschlands etwa $2.363$ Einwohner/km$^2$ beträgt.\n",
    "\n",
    "Zum Vergleich können wir das arithmetische Mittel der Bevölkerungsdichte berechnen."
   ]
  },
  {
   "cell_type": "code",
   "execution_count": 24,
   "id": "1c34ddd9-8357-4e64-b0da-cb3e3fec14f7",
   "metadata": {},
   "outputs": [
    {
     "data": {
      "text/plain": [
       "1998.2545454902418"
      ]
     },
     "execution_count": 24,
     "metadata": {},
     "output_type": "execute_result"
    }
   ],
   "source": [
    "np.mean(cities_pop_density_list)"
   ]
  }
 ],
 "metadata": {
  "interpreter": {
   "hash": "a36818faf5a63422d892f0834edc6414f1b25ba9b5d6bbe87802a22f3b883f5c"
  },
  "kernelspec": {
   "display_name": "Python 3.10.2 ('srh')",
   "language": "python",
   "name": "python3"
  },
  "language_info": {
   "codemirror_mode": {
    "name": "ipython",
    "version": 3
   },
   "file_extension": ".py",
   "mimetype": "text/x-python",
   "name": "python",
   "nbconvert_exporter": "python",
   "pygments_lexer": "ipython3",
   "version": "3.10.2"
  }
 },
 "nbformat": 4,
 "nbformat_minor": 5
}
