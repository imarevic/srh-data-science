{
 "cells": [
  {
   "cell_type": "markdown",
   "id": "d99aeecc-aab2-40fc-a87a-9b49fe404903",
   "metadata": {
    "tags": []
   },
   "source": [
    "## Korrelation\n",
    "----------------------------------------"
   ]
  },
  {
   "cell_type": "code",
   "execution_count": 15,
   "id": "b72f3a3c-8405-413a-9b83-1dd6a547dc2e",
   "metadata": {},
   "outputs": [],
   "source": [
    "import pandas as pd\n",
    "from pandas.plotting import scatter_matrix\n",
    "import matplotlib.pyplot as plt\n",
    "import numpy as np\n",
    "import seaborn as sns\n",
    "\n",
    "#%run ../src/notebook_env.py"
   ]
  },
  {
   "cell_type": "markdown",
   "id": "01739429-582c-4981-9c34-a24e704a819e",
   "metadata": {},
   "source": [
    "### Pearson-Produkt-Moment-Korrelationskoeffizient"
   ]
  },
  {
   "cell_type": "markdown",
   "id": "946d3a2b-4f22-49fe-97bd-9f5cc0d87510",
   "metadata": {},
   "source": [
    "Die Korrelation ist eine weit verbreitete Methode zur Untersuchung der Beziehung zwischen **quantitativen Variablen**. Die am häufigsten verwendete Statistik ist der **lineare Korrelationskoeffizient** $r$, der zu Ehren seines Entwicklers, <a href=\"https://en.wikipedia.org/wiki/Karl_Pearson\">Karl Pearson</a>, auch als <a href=\"https://en.wikipedia.org/wiki/Pearson_correlation_coefficient\">Pearson-Produkt-Moment-Korrelationskoeffizient</a> bekannt ist. Er ist gegeben durch"
   ]
  },
  {
   "cell_type": "markdown",
   "id": "370411a9-a082-4819-9bb9-7c521db8c7e3",
   "metadata": {},
   "source": [
    "$$ r = \\frac{\\sum_{i=1}^n (x_i - \\bar{x})(y_i - \\bar{y})}{\\sqrt{\\sum_{i=1}^n (x_i - \\bar{x})^2} \\sqrt{ \\sum_{i=1}^n (y_i - \\bar{y})^2}} = \\frac{s_{xy}}{s_x s_y}$$"
   ]
  },
  {
   "cell_type": "markdown",
   "id": "291ec99f-0377-4e76-9d52-6ce9e0207822",
   "metadata": {},
   "source": [
    "wobei $s_{xy}$ die Kovarianz von $x$ und $y$ und $s_x$ und $s_y$ die Standardabweichung von $x$ bzw. $y$ sind. Durch Division durch die Standardabweichungen der Stichprobe, $s_x$ und $s_y$, wird der lineare Korrelationskoeffizient, $r$, skalenunabhängig und nimmt Werte zwischen $-1$ und $1$ an."
   ]
  },
  {
   "cell_type": "markdown",
   "id": "c3adff41-3063-4f74-a95c-df2ec4793d6d",
   "metadata": {},
   "source": [
    "Der lineare Korrelationskoeffizient misst die Stärke der linearen Beziehung zwischen zwei Variablen. Liegt $r$ nahe bei $\\pm 1$, sind die beiden Variablen stark korreliert, und in einem Streudiagramm liegen die Datenpunkte um eine Linie herum. Liegt $r$ weit von $\\pm 1$ entfernt, sind die Datenpunkte weiter gestreut. Liegt $r$ nahe bei $0$, sind die Datenpunkte im Wesentlichen um eine horizontale Linie gestreut, was darauf hindeutet, dass es fast keine lineare Beziehung zwischen den Variablen gibt."
   ]
  },
  {
   "cell_type": "markdown",
   "id": "62510693-c20a-405b-9aff-907a23438086",
   "metadata": {},
   "source": [
    "<br> <br> \n",
    "![Alt-Text](pearson.png) <br> <br>"
   ]
  },
  {
   "cell_type": "markdown",
   "id": "aed64ee2-aa14-4cd6-b45c-ea10b4d975c8",
   "metadata": {},
   "source": [
    "Eine interessante Eigenschaft von $r$ ist, dass sein Vorzeichen die Steigung der linearen Beziehung zwischen zwei Variablen widerspiegelt. Ein positiver Wert von $r$ deutet darauf hin, dass die Variablen **positiv linear korreliert** sind, was bedeutet, dass $y$ tendenziell linear zunimmt, wenn $x$ zunimmt. Ein negativer Wert von $r$ deutet darauf hin, dass die Variablen **negativ linear korreliert** sind, was bedeutet, dass $y$ tendenziell linear abnimmt, wenn $x$ zunimmt.\n",
    "\n",
    "Es gibt keine eindeutige Klassifizierungsregel für die Größe einer linearen Beziehung zwischen zwei Variablen. Die folgende Tabelle kann jedoch als Faustregel für den Umgang mit den numerischen Werten des Pearson-Produkt-Moment-Korrelationskoeffizienten dienen."
   ]
  },
  {
   "cell_type": "markdown",
   "id": "53f0ac33-2cd0-4d3c-995d-c0ce46250399",
   "metadata": {},
   "source": [
    "\\begin{array}{lc}\n",
    "\\hline\n",
    "\\ \\text{starke lineare Korrelation} & r > 0,9 \\\\\n",
    "\\ \\text{mittlere lineare Korrelation} & 0,7 < r \\le 0,9\\\\\n",
    "\\ \\text{schwache lineare Korrelation} & 0,5 < r \\le 0,7 \\\\\n",
    "\\ \\text{keine oder zweifelhafte lineare Korrelation} & 0 < r \\le 0,5 \\\\\n",
    "\\hline \n",
    "\\end{array}"
   ]
  },
  {
   "cell_type": "markdown",
   "id": "df4a533e-0af8-42ec-8e8e-342cc620f60d",
   "metadata": {},
   "source": [
    "Die Pearson-Korrelation setzt voraus, dass die Variablen annähernd normalverteilt sind, und sie ist bei Vorhandensein von Ausreißern nicht robust.\n",
    "\n",
    "In einem späteren Abschnitt über lineare Regression wird das Bestimmtheitsmaß, $R^2$\n",
    "ein anschauliches Maß für die Qualität von linearen Modellen. Es besteht eine enge Beziehung zwischen $R^2$ und dem linearen Korrelationskoeffizienten $r$. Das Bestimmtheitsmaß $R^2$ ist gleich dem Quadrat des linearen Korrelationskoeffizienten $r$."
   ]
  },
  {
   "cell_type": "markdown",
   "id": "24f9b210-4110-4b41-a86b-a89a239e34b2",
   "metadata": {},
   "source": [
    "$$\\text{Determinationskoeffizient} (R^2) = r^2$$"
   ]
  },
  {
   "cell_type": "markdown",
   "id": "69f06959-e7b0-4fa4-b2e2-3b3a24c5811e",
   "metadata": {},
   "source": [
    "### Korrelationskoeffizient nach Pearson: Ein Beispiel"
   ]
  },
  {
   "cell_type": "markdown",
   "id": "bf81923a-995d-419e-981d-3b321461e9ab",
   "metadata": {},
   "source": [
    "Um ein Gefühl dafür zu bekommen, berechnen wir den Pearson-Produkt-Moment-Korrelationskoeffizienten in einem Beispiel. Dazu laden wir den `students` Datensatz in unseren Arbeitsbereich (Sie können die Datei `students.csv` <a href=\"https://userpage.fu-berlin.de/soga/200/2010_data_sets/students.csv\">hier</a> herunterladen)."
   ]
  },
  {
   "cell_type": "code",
   "execution_count": 16,
   "id": "7d09e574-b0ef-491b-bf98-98dc42914047",
   "metadata": {},
   "outputs": [],
   "source": [
    "# Einlesen der Daten als Dataframe\n",
    "students = pd.read_csv('students.csv', index_col=0)"
   ]
  },
  {
   "cell_type": "markdown",
   "id": "f048cacc-4616-45ee-8dfd-721c78ba9344",
   "metadata": {},
   "source": [
    "Der `students` Datensatz besteht aus $8239$ Zeilen, von denen jede einen bestimmten Studenten repräsentiert, und $16$ Spalten, von denen jede einer Variable/einem Merkmal entspricht, das sich auf diesen bestimmten Studenten bezieht. Diese selbsterklärenden Variablen sind: *stud.id, name, gender, age, height, weight, religion, nc.score, semester, major, minor, score1, score2, online.tutorial, graduated, salary*.\n",
    "\n",
    "In diesem Beispiel wird **die lineare Beziehung zwischen dem Gewicht und der Größe der Studenten** untersucht. Dazu wählen wir zufällig $37$ Studenten aus und extrahieren die Variablen `height` und `weight` aus dem Datensatz."
   ]
  },
  {
   "cell_type": "code",
   "execution_count": 18,
   "id": "50a0c988-0037-47f4-9ece-5c7c2edcee3e",
   "metadata": {},
   "outputs": [
    {
     "data": {
      "image/png": "[encoded data removed]",
      "text/plain": [
       "<Figure size 432x288 with 1 Axes>"
      ]
     },
     "metadata": {
      "needs_background": "light"
     },
     "output_type": "display_data"
    }
   ],
   "source": [
    "# Wähle zufällige Stichprobe n=37 aus ohne doppelt auszuwählen\n",
    "students_sample = students.sample(37, replace = False, random_state = 1)\n",
    "\n",
    "# Lese height und weight der Probe aus dem dataframe in Listen ein\n",
    "height_sample = students_sample['height']\n",
    "weight_sample = students_sample['weight']\n",
    "\n",
    "# scatter - plot\n",
    "\n",
    "plt.scatter(height_sample, weight_sample, c =\"none\",marker =\"o\",edgecolor =\"k\")\n",
    " \n",
    "plt.xlabel(\"Höhe\")\n",
    "plt.ylabel(\"Gewicht\")\n",
    "plt.show()"
   ]
  },
  {
   "cell_type": "markdown",
   "id": "bae18ef3-f02e-4b88-958f-346f8d2436d0",
   "metadata": {},
   "source": [
    "Das Streudiagramm zeigt, dass eine lineare Beziehung zwischen den beiden betrachteten Variablen besteht. Für diese Übung berechnen wir den linearen Korrelationskoeffizienten zunächst von Hand und wenden dann die `np.corrcoef()`-Funktion in Python an. Wir erinnern uns an die Gleichung von oben"
   ]
  },
  {
   "cell_type": "markdown",
   "id": "f498e6c5-8afe-4909-a72c-503efffa456e",
   "metadata": {},
   "source": [
    "$$ r = \\frac{\\sum_{i=1}^n (x_i - \\bar{x})(y_i - \\bar{y})}{\\sqrt{\\sum_{i=1}^n (x_i - \\bar{x})^2} \\sqrt{ \\sum_{i=1}^n (y_i - \\bar{y})^2}} = \\frac{s_{xy}}{s_x s_y}$$"
   ]
  },
  {
   "cell_type": "code",
   "execution_count": 19,
   "id": "ed1a355b-6c09-48fe-9158-eba7af0f2b0e",
   "metadata": {},
   "outputs": [
    {
     "data": {
      "text/plain": [
       "0.9295600715108283"
      ]
     },
     "execution_count": 19,
     "metadata": {},
     "output_type": "execute_result"
    }
   ],
   "source": [
    "# Berechne Mittelwert für height_sample,weight_sample\n",
    "x=weight_sample.to_numpy()\n",
    "y=height_sample.to_numpy()\n",
    "x_m=weight_sample_mean=np.mean(weight_sample)\n",
    "y_m=height_sample_mean=np.mean(height_sample)\n",
    "\n",
    "# Berechne Pearson Korrelationskoeffizienten\n",
    "sum_zähler=0\n",
    "sum_nenner_x=0\n",
    "sum_nenner_y=0\n",
    "ergebnis = 0\n",
    "for i in range(len(weight_sample)):\n",
    "    sum_zähler += (x[i] - x_m)*(y[i] - y_m)\n",
    "    sum_nenner_x += ((x[i] - x_m)**2)\n",
    "    sum_nenner_y += ((y[i] - y_m)**2)\n",
    "sum_nenner_x = np.sqrt(sum_nenner_x)\n",
    "sum_nenner_y = np.sqrt(sum_nenner_y)\n",
    "\n",
    "ergebnis = sum_zähler/((sum_nenner_x)*(sum_nenner_y))\n",
    "ergebnis"
   ]
  },
  {
   "cell_type": "markdown",
   "id": "da22e545-35cc-436f-9fa0-e796171ecb46",
   "metadata": {},
   "source": [
    "Zur Überprüfung des Ergebnisses berechnen wir das Verhältnis der Kovarianz von $x$ und $y$ und die Standardabweichung von $x$ und $y$."
   ]
  },
  {
   "cell_type": "markdown",
   "id": "490abcc1-9db0-4144-a91c-0cea855581fc",
   "metadata": {},
   "source": [
    "$$ r = \\frac{s_{xy}}{s_x s_y} $$"
   ]
  },
  {
   "cell_type": "code",
   "execution_count": 20,
   "id": "417ccdfa-71b8-412b-b2fc-fa6699fba3f0",
   "metadata": {},
   "outputs": [
    {
     "data": {
      "text/plain": [
       "0.929560071510828"
      ]
     },
     "execution_count": 20,
     "metadata": {},
     "output_type": "execute_result"
    }
   ],
   "source": [
    "# Berechne Kovarianz zwischen height_sample und weight_sample\n",
    "kovarianz=np.cov(height_sample, weight_sample)[0,1]\n",
    "\n",
    "# Berechne Standardabweichung für height_sample und weight_sample\n",
    "std_height_sample = np.std(height_sample,ddof = 1)\n",
    "std_weight_sample = np.std(weight_sample,ddof = 1)\n",
    "\n",
    "# Berechne Pearsonkorrelationskoeffizienten\n",
    "kovarianz/(std_height_sample*std_weight_sample)"
   ]
  },
  {
   "cell_type": "markdown",
   "id": "c79f961a-7588-483e-ac45-cd23d49a2ec7",
   "metadata": {},
   "source": [
    "Zum Schluss wenden wir die Funktion `np.corrcoef` an, die im `numpy` Paket enthalten ist."
   ]
  },
  {
   "cell_type": "code",
   "execution_count": 21,
   "id": "09ec13c9-d107-4669-a4cd-84736576e1d0",
   "metadata": {},
   "outputs": [
    {
     "data": {
      "text/plain": [
       "0.9295600715108282"
      ]
     },
     "execution_count": 21,
     "metadata": {},
     "output_type": "execute_result"
    }
   ],
   "source": [
    "np.corrcoef(weight_sample, height_sample)[0,1]"
   ]
  },
  {
   "cell_type": "markdown",
   "id": "bf1ba6b7-b81f-4224-9404-763356382139",
   "metadata": {},
   "source": [
    "Perfekt! Die vier Berechnungen ergeben genau das gleiche Ergebnis! Der lineare Korrelationskoeffizient beträgt $r=0,9295600715108282$. Daraus können wir schließen, dass es einen starken linearen Zusammenhang zwischen der Größe und dem Gewicht eines Studenten gibt."
   ]
  },
  {
   "cell_type": "markdown",
   "id": "10daac09-a638-4246-b3e1-57f5ba11151d",
   "metadata": {},
   "source": [
    "Natürlich ist eine Korrelationsanalyse nicht auf zwei Variablen beschränkt. Dank statistischer Softwarepakete, wie Python, können wir eine paarweise Korrelationsanalyse für mehr als zwei Variablen durchführen. Lassen Sie uns zunächst den Datensatz vorbereiten. Für eine bessere Visualisierung ziehen wir $100$ zufällig ausgewählte Studenten aus dem `students` Datensatz. Dann wählen wir eine Reihe von Variablen aus, um eine Korrelationsanalyse durchzuführen."
   ]
  },
  {
   "cell_type": "code",
   "execution_count": 22,
   "id": "132cc4ca-ecd1-46b2-89c1-b2e947a29eef",
   "metadata": {
    "tags": []
   },
   "outputs": [
    {
     "data": {
      "text/html": [
       "<div>\n",
       "<style scoped>\n",
       "    .dataframe tbody tr th:only-of-type {\n",
       "        vertical-align: middle;\n",
       "    }\n",
       "\n",
       "    .dataframe tbody tr th {\n",
       "        vertical-align: top;\n",
       "    }\n",
       "\n",
       "    .dataframe thead th {\n",
       "        text-align: right;\n",
       "    }\n",
       "</style>\n",
       "<table border=\"1\" class=\"dataframe\">\n",
       "  <thead>\n",
       "    <tr style=\"text-align: right;\">\n",
       "      <th></th>\n",
       "      <th>height</th>\n",
       "      <th>weight</th>\n",
       "      <th>nc.score</th>\n",
       "      <th>score1</th>\n",
       "      <th>score2</th>\n",
       "      <th>salary</th>\n",
       "    </tr>\n",
       "  </thead>\n",
       "  <tbody>\n",
       "    <tr>\n",
       "      <th>7005</th>\n",
       "      <td>155</td>\n",
       "      <td>56.5</td>\n",
       "      <td>3.92</td>\n",
       "      <td>51.0</td>\n",
       "      <td>60.0</td>\n",
       "      <td>NaN</td>\n",
       "    </tr>\n",
       "    <tr>\n",
       "      <th>3206</th>\n",
       "      <td>185</td>\n",
       "      <td>86.5</td>\n",
       "      <td>1.45</td>\n",
       "      <td>79.0</td>\n",
       "      <td>74.0</td>\n",
       "      <td>61067.567774</td>\n",
       "    </tr>\n",
       "    <tr>\n",
       "      <th>4544</th>\n",
       "      <td>160</td>\n",
       "      <td>62.9</td>\n",
       "      <td>3.51</td>\n",
       "      <td>NaN</td>\n",
       "      <td>NaN</td>\n",
       "      <td>NaN</td>\n",
       "    </tr>\n",
       "    <tr>\n",
       "      <th>2104</th>\n",
       "      <td>162</td>\n",
       "      <td>62.4</td>\n",
       "      <td>1.93</td>\n",
       "      <td>63.0</td>\n",
       "      <td>67.0</td>\n",
       "      <td>NaN</td>\n",
       "    </tr>\n",
       "    <tr>\n",
       "      <th>3510</th>\n",
       "      <td>159</td>\n",
       "      <td>64.4</td>\n",
       "      <td>1.52</td>\n",
       "      <td>64.0</td>\n",
       "      <td>72.0</td>\n",
       "      <td>NaN</td>\n",
       "    </tr>\n",
       "    <tr>\n",
       "      <th>628</th>\n",
       "      <td>180</td>\n",
       "      <td>76.3</td>\n",
       "      <td>1.66</td>\n",
       "      <td>NaN</td>\n",
       "      <td>NaN</td>\n",
       "      <td>NaN</td>\n",
       "    </tr>\n",
       "    <tr>\n",
       "      <th>537</th>\n",
       "      <td>154</td>\n",
       "      <td>65.7</td>\n",
       "      <td>1.07</td>\n",
       "      <td>44.0</td>\n",
       "      <td>58.0</td>\n",
       "      <td>NaN</td>\n",
       "    </tr>\n",
       "    <tr>\n",
       "      <th>5419</th>\n",
       "      <td>146</td>\n",
       "      <td>61.4</td>\n",
       "      <td>1.14</td>\n",
       "      <td>79.0</td>\n",
       "      <td>67.0</td>\n",
       "      <td>NaN</td>\n",
       "    </tr>\n",
       "    <tr>\n",
       "      <th>645</th>\n",
       "      <td>159</td>\n",
       "      <td>66.6</td>\n",
       "      <td>1.90</td>\n",
       "      <td>62.0</td>\n",
       "      <td>66.0</td>\n",
       "      <td>NaN</td>\n",
       "    </tr>\n",
       "    <tr>\n",
       "      <th>5267</th>\n",
       "      <td>190</td>\n",
       "      <td>92.7</td>\n",
       "      <td>3.58</td>\n",
       "      <td>NaN</td>\n",
       "      <td>NaN</td>\n",
       "      <td>NaN</td>\n",
       "    </tr>\n",
       "  </tbody>\n",
       "</table>\n",
       "</div>"
      ],
      "text/plain": [
       "      height  weight  nc.score  score1  score2        salary\n",
       "7005     155    56.5      3.92    51.0    60.0           NaN\n",
       "3206     185    86.5      1.45    79.0    74.0  61067.567774\n",
       "4544     160    62.9      3.51     NaN     NaN           NaN\n",
       "2104     162    62.4      1.93    63.0    67.0           NaN\n",
       "3510     159    64.4      1.52    64.0    72.0           NaN\n",
       "628      180    76.3      1.66     NaN     NaN           NaN\n",
       "537      154    65.7      1.07    44.0    58.0           NaN\n",
       "5419     146    61.4      1.14    79.0    67.0           NaN\n",
       "645      159    66.6      1.90    62.0    66.0           NaN\n",
       "5267     190    92.7      3.58     NaN     NaN           NaN"
      ]
     },
     "execution_count": 22,
     "metadata": {},
     "output_type": "execute_result"
    }
   ],
   "source": [
    "# Wähle zufällige Stichprobe n=100 aus ohne doppelt auszuwählen\n",
    "students_sample = students.sample(100, replace = False,random_state = 1)\n",
    "\n",
    "# Erzeuge neues Dataframe students_sample_num\n",
    "students_sample_num = pd.DataFrame({'height':students_sample['height'],\n",
    "                                'weight':students_sample['weight'],\n",
    "                                'nc.score':students_sample['nc.score'],\n",
    "                                'score1':students_sample['score1']\n",
    "                               ,'score2':students_sample['score2'],\n",
    "                                'salary':students_sample['salary']})\n",
    "students_sample_num.head(10)"
   ]
  },
  {
   "cell_type": "markdown",
   "id": "977923bf-7bb0-476e-a414-18f3d74e3269",
   "metadata": {},
   "source": [
    "Offensichtlich enthalten einige Variablen fehlende Werte, die als $NaN$ bezeichnet werden. Wir können diese Werte aus der Analyse ausschließen, indem wir die Methode `dropna()` hinzufügen."
   ]
  },
  {
   "cell_type": "code",
   "execution_count": 23,
   "id": "497d1363-78ed-415a-a693-191a59edb781",
   "metadata": {},
   "outputs": [
    {
     "data": {
      "text/html": [
       "<div>\n",
       "<style scoped>\n",
       "    .dataframe tbody tr th:only-of-type {\n",
       "        vertical-align: middle;\n",
       "    }\n",
       "\n",
       "    .dataframe tbody tr th {\n",
       "        vertical-align: top;\n",
       "    }\n",
       "\n",
       "    .dataframe thead th {\n",
       "        text-align: right;\n",
       "    }\n",
       "</style>\n",
       "<table border=\"1\" class=\"dataframe\">\n",
       "  <thead>\n",
       "    <tr style=\"text-align: right;\">\n",
       "      <th></th>\n",
       "      <th>height</th>\n",
       "      <th>weight</th>\n",
       "      <th>nc.score</th>\n",
       "      <th>score1</th>\n",
       "      <th>score2</th>\n",
       "      <th>salary</th>\n",
       "    </tr>\n",
       "  </thead>\n",
       "  <tbody>\n",
       "    <tr>\n",
       "      <th>3206</th>\n",
       "      <td>185</td>\n",
       "      <td>86.5</td>\n",
       "      <td>1.45</td>\n",
       "      <td>79.0</td>\n",
       "      <td>74.0</td>\n",
       "      <td>61067.567774</td>\n",
       "    </tr>\n",
       "    <tr>\n",
       "      <th>4837</th>\n",
       "      <td>187</td>\n",
       "      <td>83.9</td>\n",
       "      <td>1.20</td>\n",
       "      <td>87.0</td>\n",
       "      <td>92.0</td>\n",
       "      <td>54543.161710</td>\n",
       "    </tr>\n",
       "    <tr>\n",
       "      <th>8142</th>\n",
       "      <td>180</td>\n",
       "      <td>81.5</td>\n",
       "      <td>1.58</td>\n",
       "      <td>85.0</td>\n",
       "      <td>88.0</td>\n",
       "      <td>44367.343815</td>\n",
       "    </tr>\n",
       "    <tr>\n",
       "      <th>3197</th>\n",
       "      <td>181</td>\n",
       "      <td>79.6</td>\n",
       "      <td>1.17</td>\n",
       "      <td>70.0</td>\n",
       "      <td>63.0</td>\n",
       "      <td>52343.760327</td>\n",
       "    </tr>\n",
       "    <tr>\n",
       "      <th>7854</th>\n",
       "      <td>176</td>\n",
       "      <td>72.1</td>\n",
       "      <td>1.57</td>\n",
       "      <td>81.0</td>\n",
       "      <td>70.0</td>\n",
       "      <td>49220.865757</td>\n",
       "    </tr>\n",
       "    <tr>\n",
       "      <th>1537</th>\n",
       "      <td>177</td>\n",
       "      <td>78.3</td>\n",
       "      <td>1.20</td>\n",
       "      <td>71.0</td>\n",
       "      <td>74.0</td>\n",
       "      <td>53304.276513</td>\n",
       "    </tr>\n",
       "    <tr>\n",
       "      <th>6378</th>\n",
       "      <td>176</td>\n",
       "      <td>76.1</td>\n",
       "      <td>2.68</td>\n",
       "      <td>52.0</td>\n",
       "      <td>55.0</td>\n",
       "      <td>46075.274269</td>\n",
       "    </tr>\n",
       "    <tr>\n",
       "      <th>8150</th>\n",
       "      <td>184</td>\n",
       "      <td>81.9</td>\n",
       "      <td>1.93</td>\n",
       "      <td>62.0</td>\n",
       "      <td>74.0</td>\n",
       "      <td>47310.789837</td>\n",
       "    </tr>\n",
       "    <tr>\n",
       "      <th>104</th>\n",
       "      <td>177</td>\n",
       "      <td>73.3</td>\n",
       "      <td>1.57</td>\n",
       "      <td>89.0</td>\n",
       "      <td>91.0</td>\n",
       "      <td>36204.300962</td>\n",
       "    </tr>\n",
       "    <tr>\n",
       "      <th>5746</th>\n",
       "      <td>176</td>\n",
       "      <td>75.5</td>\n",
       "      <td>2.09</td>\n",
       "      <td>73.0</td>\n",
       "      <td>65.0</td>\n",
       "      <td>47803.066671</td>\n",
       "    </tr>\n",
       "  </tbody>\n",
       "</table>\n",
       "</div>"
      ],
      "text/plain": [
       "      height  weight  nc.score  score1  score2        salary\n",
       "3206     185    86.5      1.45    79.0    74.0  61067.567774\n",
       "4837     187    83.9      1.20    87.0    92.0  54543.161710\n",
       "8142     180    81.5      1.58    85.0    88.0  44367.343815\n",
       "3197     181    79.6      1.17    70.0    63.0  52343.760327\n",
       "7854     176    72.1      1.57    81.0    70.0  49220.865757\n",
       "1537     177    78.3      1.20    71.0    74.0  53304.276513\n",
       "6378     176    76.1      2.68    52.0    55.0  46075.274269\n",
       "8150     184    81.9      1.93    62.0    74.0  47310.789837\n",
       "104      177    73.3      1.57    89.0    91.0  36204.300962\n",
       "5746     176    75.5      2.09    73.0    65.0  47803.066671"
      ]
     },
     "execution_count": 23,
     "metadata": {},
     "output_type": "execute_result"
    }
   ],
   "source": [
    "# Entferne Spalten die NaN enthalten\n",
    "students_sample_num2 = students_sample_num.dropna(axis=0,how='any')\n",
    "students_sample_num2.head(10)"
   ]
  },
  {
   "cell_type": "markdown",
   "id": "b33fc0d5-b1d6-4f2f-b2fb-53fd3edc25e8",
   "metadata": {},
   "source": [
    "Die Methode `np.corr()` liefert eine schöne Tabelle, auch **Korrelationsmatrix** genannt, mit den paarweisen Pearsonschen Korrelationskoeffizienten. "
   ]
  },
  {
   "cell_type": "code",
   "execution_count": 24,
   "id": "d9d23841-42a9-458b-8b12-e525ef717b63",
   "metadata": {},
   "outputs": [
    {
     "data": {
      "text/html": [
       "<div>\n",
       "<style scoped>\n",
       "    .dataframe tbody tr th:only-of-type {\n",
       "        vertical-align: middle;\n",
       "    }\n",
       "\n",
       "    .dataframe tbody tr th {\n",
       "        vertical-align: top;\n",
       "    }\n",
       "\n",
       "    .dataframe thead th {\n",
       "        text-align: right;\n",
       "    }\n",
       "</style>\n",
       "<table border=\"1\" class=\"dataframe\">\n",
       "  <thead>\n",
       "    <tr style=\"text-align: right;\">\n",
       "      <th></th>\n",
       "      <th>height</th>\n",
       "      <th>weight</th>\n",
       "      <th>nc.score</th>\n",
       "      <th>score1</th>\n",
       "      <th>score2</th>\n",
       "      <th>salary</th>\n",
       "    </tr>\n",
       "  </thead>\n",
       "  <tbody>\n",
       "    <tr>\n",
       "      <th>height</th>\n",
       "      <td>1.000000</td>\n",
       "      <td>0.856534</td>\n",
       "      <td>-0.702764</td>\n",
       "      <td>0.146947</td>\n",
       "      <td>0.147321</td>\n",
       "      <td>0.696874</td>\n",
       "    </tr>\n",
       "    <tr>\n",
       "      <th>weight</th>\n",
       "      <td>0.856534</td>\n",
       "      <td>1.000000</td>\n",
       "      <td>-0.675235</td>\n",
       "      <td>0.216165</td>\n",
       "      <td>0.246973</td>\n",
       "      <td>0.752920</td>\n",
       "    </tr>\n",
       "    <tr>\n",
       "      <th>nc.score</th>\n",
       "      <td>-0.702764</td>\n",
       "      <td>-0.675235</td>\n",
       "      <td>1.000000</td>\n",
       "      <td>-0.538485</td>\n",
       "      <td>-0.539815</td>\n",
       "      <td>-0.792284</td>\n",
       "    </tr>\n",
       "    <tr>\n",
       "      <th>score1</th>\n",
       "      <td>0.146947</td>\n",
       "      <td>0.216165</td>\n",
       "      <td>-0.538485</td>\n",
       "      <td>1.000000</td>\n",
       "      <td>0.835408</td>\n",
       "      <td>0.245481</td>\n",
       "    </tr>\n",
       "    <tr>\n",
       "      <th>score2</th>\n",
       "      <td>0.147321</td>\n",
       "      <td>0.246973</td>\n",
       "      <td>-0.539815</td>\n",
       "      <td>0.835408</td>\n",
       "      <td>1.000000</td>\n",
       "      <td>0.207123</td>\n",
       "    </tr>\n",
       "    <tr>\n",
       "      <th>salary</th>\n",
       "      <td>0.696874</td>\n",
       "      <td>0.752920</td>\n",
       "      <td>-0.792284</td>\n",
       "      <td>0.245481</td>\n",
       "      <td>0.207123</td>\n",
       "      <td>1.000000</td>\n",
       "    </tr>\n",
       "  </tbody>\n",
       "</table>\n",
       "</div>"
      ],
      "text/plain": [
       "            height    weight  nc.score    score1    score2    salary\n",
       "height    1.000000  0.856534 -0.702764  0.146947  0.147321  0.696874\n",
       "weight    0.856534  1.000000 -0.675235  0.216165  0.246973  0.752920\n",
       "nc.score -0.702764 -0.675235  1.000000 -0.538485 -0.539815 -0.792284\n",
       "score1    0.146947  0.216165 -0.538485  1.000000  0.835408  0.245481\n",
       "score2    0.147321  0.246973 -0.539815  0.835408  1.000000  0.207123\n",
       "salary    0.696874  0.752920 -0.792284  0.245481  0.207123  1.000000"
      ]
     },
     "execution_count": 24,
     "metadata": {},
     "output_type": "execute_result"
    }
   ],
   "source": [
    "students_sample_num2.corr()"
   ]
  },
  {
   "cell_type": "markdown",
   "id": "a4b766e5-8bd3-43dd-81cf-c2e57a0c751f",
   "metadata": {},
   "source": [
    "Eine Tabelle ist eine schöne Darstellung für eine Korrelationsanalyse, aber eine Abbildung würde natürlich die Interpretierbarkeit verbessern. Python bietet die Funktion `pairplot()` zur Darstellung von Korrelationsmatrizen."
   ]
  },
  {
   "cell_type": "code",
   "execution_count": 25,
   "id": "16812149-896e-4a2a-87bd-64a2c57ca996",
   "metadata": {},
   "outputs": [
    {
     "data": {
      "text/plain": [
       "<seaborn.axisgrid.PairGrid at 0x22cf7003760>"
      ]
     },
     "execution_count": 25,
     "metadata": {},
     "output_type": "execute_result"
    },
    {
     "data": {
      "image/png": "[encoded data removed]",
      "text/plain": [
       "<Figure size 1080x1080 with 42 Axes>"
      ]
     },
     "metadata": {
      "needs_background": "light"
     },
     "output_type": "display_data"
    }
   ],
   "source": [
    "# Erzeuge Pair Plot\n",
    "sns.pairplot(students_sample_num)"
   ]
  },
  {
   "cell_type": "markdown",
   "id": "a37a2e3f-dc7b-453f-9ebf-d0af53bbf36e",
   "metadata": {},
   "source": [
    "Es fällt sofort auf, dass die Mehrzahl der Variablen nicht linear korreliert zu sein scheint. Im Gegensatz dazu scheinen die Variablenpaare `height` und `weight` sowie `score1` und `score2` positiv korreliert zu sein."
   ]
  },
  {
   "cell_type": "markdown",
   "id": "e0f4e62d-a71f-4779-94b5-257a9d01d62e",
   "metadata": {},
   "source": [
    "### Rangkorrelationskoeffizient nach Spearman"
   ]
  },
  {
   "cell_type": "markdown",
   "id": "2eb72b88-72e1-4824-a604-d45e2dfae1a7",
   "metadata": {},
   "source": [
    "Der <a href=\"https://en.wikipedia.org/wiki/Spearman%27s_rank_correlation_coefficient\">Rangkorrelationskoeffizient nach Spearman</a>, auch bekannt als Spearmans $\\rho$, ist ein nichtparametrischer Rangkorrelationskoeffizient. Er wurde von <a href=\"https://en.wikipedia.org/wiki/Charles_Spearman\">Charles Spearman</a> entwickelt und ist eine Alternative zum Produkt-Moment-Korrelationskoeffizienten von Pearson. Der Spearman $\\rho$ Rangkorrelationskoeffizient wird für Stichprobendaten mit $r_s$ und für Grundgesamtheitsdaten mit $\\rho_s$ bezeichnet (Mann 2012). Der Korrelationskoeffizient bewertet die monotone Beziehung zwischen zwei Variablen und liegt zwischen $-1$ und $1$. Er beschreibt die lineare Korrelation zwischen den Rängen der Daten zu den Variablen $x$ und $y$. Die Spearman-Korrelation ist hoch, wenn die Variablen einen ähnlichen Rang haben, und niedrig, wenn die Variablen einen ungleichen Rang haben."
   ]
  },
  {
   "cell_type": "markdown",
   "id": "2530a7a4-ce36-4146-98e1-e3ac0f500774",
   "metadata": {},
   "source": [
    "Um $r_s$ zu berechnen, werden die Daten für jede Variable, $x$ und $y$, getrennt eingestuft. Die Differenz zwischen jedem Paar von Rängen bezeichnen wir mit $d$. Für eine gegebene bivariate Sequenz $(x_1,y_1),(x_2,y_2), \\dots,(x_n,y_n)$ ist Spearmans $r_s$ gegeben durch"
   ]
  },
  {
   "cell_type": "markdown",
   "id": "70ec8373-cd84-4873-a1c0-b1e5ced2e6a5",
   "metadata": {},
   "source": [
    "$$ r_s = 1 - \\frac{6 \\sum_{i=1}^n (r_{xi} - r_{yi})^2}{n(n^2 -1)} $$"
   ]
  },
  {
   "cell_type": "markdown",
   "id": "18fc4a9e-78cc-4cf3-8d4d-bb41dbaedf3c",
   "metadata": {},
   "source": [
    "wobei $r_{xi}=Rank(x_i)$ , $r_{yi}=Rank(y_i)$ , und $n$\n",
    "die Stichprobengröße ist.\n",
    "\n",
    "Im Gegensatz zum linearen Korrelationskoeffizienten von Pearson ist der lineare Koeffizient von Spearman sowohl für quantitative als auch für ordinale Variablen geeignet. Außerdem sind rangbasierte Korrelationen nicht von der Normalverteilungsannahme abhängig und resistenter gegenüber Ausreißern (Schumann 2010)."
   ]
  },
  {
   "cell_type": "markdown",
   "id": "a359e766-0936-4078-933a-1c2013d9cf5c",
   "metadata": {},
   "source": [
    "### Spearman's Rangkorrelationskoeffizient: Ein Beispiel"
   ]
  },
  {
   "cell_type": "markdown",
   "id": "7ed9218b-59a4-4e79-99ef-2090b8d3907b",
   "metadata": {},
   "source": [
    "Betrachten wir ein Beispiel. Die Bevölkerung einer Gemeinde an einem Fluss ist der Meinung, dass der jüngste Anstieg der Abflussspitzen auf die Abholzung durch ein Holzunternehmen in den letzten Jahren zurückzuführen ist. Wir berechnen den Spearman'schen Rangkorrelationskoeffizienten, um festzustellen, ob es eine Korrelation zwischen dem Spitzenabfluss und dem Anteil der abgeholzten Fläche im Wassereinzugsgebiet gibt (Daten geändert nach <a href=https://www.routledge.com/Modeling-Hydrologic-Change-Statistical-Methods/McCuen/p/book/9781566706001>McCuen 2003, S. 112</a>."
   ]
  },
  {
   "cell_type": "markdown",
   "id": "6db378a2-72a2-4da9-adae-ce4a7bb184b8",
   "metadata": {},
   "source": [
    "\\begin{array}{lc}\n",
    "\\hline\n",
    "\\ \\text{Jahr} & \\text{Abflussspitzen (m}^3 \\text{s}^{-1}) & \\text{abgeholzten Fläche (%)} \\\\\n",
    "\\hline\n",
    "\\ 1982 & 227 & 53  \\\\\n",
    "\\ 1983 & 249 & 56  \\\\\n",
    "\\ 1984 & 210 & 57 \\\\\n",
    "\\ 1985 & 190 & 58  \\\\\n",
    "\\ 1986 & 314 & 55  \\\\\n",
    "\\ 1987 & 345 & 54 \\\\\n",
    "\\ 1988 & 161 & 51  \\\\\n",
    "\\ 1988 & 266 & 50  \\\\\n",
    "\\ 1989 & 402 & 49 \\\\\n",
    "\\ 1990 & 215 & 57  \\\\\n",
    "\\ 1991 & 164 & 46  \\\\\n",
    "\\ 1992 & 405 & 44 \\\\\n",
    "\\ 1993 & 328 & 43 \\\\\n",
    "\\ 1994 & 294 & 42 \\\\\n",
    "\\hline \n",
    "\\end{array}"
   ]
  },
  {
   "cell_type": "markdown",
   "id": "831cf77e-30d1-4e29-94b7-1d3d03ca0ab9",
   "metadata": {},
   "source": [
    "Lassen Sie uns unsere Datenvektoren konstruieren. Wir ordnen die Abflusswerte der Variablen `Q` und die abgeholzte Fläche der Variablen `logged` zu."
   ]
  },
  {
   "cell_type": "code",
   "execution_count": 26,
   "id": "9c06c9fe-d1e0-4088-8b60-909c9e3941bc",
   "metadata": {},
   "outputs": [],
   "source": [
    "# Erzeuge Listen Q, logged\n",
    "Q = [227,249,210,190,314,345,161,266,402,215,164,405,328,294]\n",
    "logged = [53,56,57,58,55,54,51,50,49,47,46,44,43,42]\n",
    "\n",
    "# Erzeuge Dataframe aus Q und logged\n",
    "df = pd.DataFrame(list(zip(Q,logged)),columns=['Q', 'logged'])"
   ]
  },
  {
   "cell_type": "markdown",
   "id": "f0a96683-ad12-42b6-a8ec-84600e0dc2b2",
   "metadata": {},
   "source": [
    "Zunächst berechnen wir den Spearman'schen Rangkorrelationskoeffizienten per Hand. Erinnern Sie sich an die Gleichung"
   ]
  },
  {
   "cell_type": "markdown",
   "id": "c8329548-6ecb-4bb8-91ad-80a264403d02",
   "metadata": {},
   "source": [
    "$$ r_s = 1 - \\frac{6 \\sum_{i=1}^n (r_{xi} - r_{yi})^2}{n(n^2 -1)} $$"
   ]
  },
  {
   "cell_type": "markdown",
   "id": "5659fabd-dee7-45e1-a82e-5e7f3526603f",
   "metadata": {},
   "source": [
    "wobei $r_{xi}=Rang(x_i)$ , $r_{yi}=Rang(y_i)$ , und $n$ der Stichprobenumfang ist. Wir verwenden die Methode `rank()`, um den Rang für die Werte jeder Variablen zu berechnen."
   ]
  },
  {
   "cell_type": "code",
   "execution_count": 27,
   "id": "9aad7986-dad9-44fb-98b4-acdbbec85589",
   "metadata": {},
   "outputs": [
    {
     "name": "stdout",
     "output_type": "stream",
     "text": [
      "-0.34065934065934056\n"
     ]
    }
   ],
   "source": [
    "df_ranked = df.rank()\n",
    "r_xi = df['Q']\n",
    "r_yi = df['logged']\n",
    "r_xi = r_xi.rank()\n",
    "r_yi = r_yi.rank()\n",
    "r_s = 0\n",
    "n = len(Q)\n",
    "for i in range(n):\n",
    "    r_s += (6*((r_xi[i]-r_yi[i])**2))\n",
    "r_s = 1 - r_s/(n*(n**2-1))\n",
    "print(r_s)"
   ]
  },
  {
   "cell_type": "markdown",
   "id": "ec8b27a0-0f3c-4e4a-acfb-a478092807a8",
   "metadata": {},
   "source": [
    "Alternativ können wir auch die Funktion `corr()` in Python verwenden und das Argument `method = 'spearman'` hinzufügen."
   ]
  },
  {
   "cell_type": "code",
   "execution_count": 28,
   "id": "74d61c39-6042-4539-bf62-bc1cbf2604a7",
   "metadata": {},
   "outputs": [
    {
     "data": {
      "text/html": [
       "<div>\n",
       "<style scoped>\n",
       "    .dataframe tbody tr th:only-of-type {\n",
       "        vertical-align: middle;\n",
       "    }\n",
       "\n",
       "    .dataframe tbody tr th {\n",
       "        vertical-align: top;\n",
       "    }\n",
       "\n",
       "    .dataframe thead th {\n",
       "        text-align: right;\n",
       "    }\n",
       "</style>\n",
       "<table border=\"1\" class=\"dataframe\">\n",
       "  <thead>\n",
       "    <tr style=\"text-align: right;\">\n",
       "      <th></th>\n",
       "      <th>Q</th>\n",
       "      <th>logged</th>\n",
       "    </tr>\n",
       "  </thead>\n",
       "  <tbody>\n",
       "    <tr>\n",
       "      <th>Q</th>\n",
       "      <td>1.000000</td>\n",
       "      <td>-0.340659</td>\n",
       "    </tr>\n",
       "    <tr>\n",
       "      <th>logged</th>\n",
       "      <td>-0.340659</td>\n",
       "      <td>1.000000</td>\n",
       "    </tr>\n",
       "  </tbody>\n",
       "</table>\n",
       "</div>"
      ],
      "text/plain": [
       "               Q    logged\n",
       "Q       1.000000 -0.340659\n",
       "logged -0.340659  1.000000"
      ]
     },
     "execution_count": 28,
     "metadata": {},
     "output_type": "execute_result"
    }
   ],
   "source": [
    "df.corr(method = 'spearman')"
   ]
  },
  {
   "cell_type": "markdown",
   "id": "b32e380e-257e-43a1-9c7c-244499150ef7",
   "metadata": {},
   "source": [
    "Der Rangkorrelationskoeffizient von Spearman ist nichts anderes als der lineare Korrelationskoeffizient von Pearson für die gerankten Daten. Das Ergebnis der folgenden Codezelle sollte mit den vorherigen Ergebnissen übereinstimmen."
   ]
  },
  {
   "cell_type": "code",
   "execution_count": 29,
   "id": "7c4e5a5c-ccfc-451f-9776-f1452811b07d",
   "metadata": {},
   "outputs": [
    {
     "data": {
      "text/html": [
       "<div>\n",
       "<style scoped>\n",
       "    .dataframe tbody tr th:only-of-type {\n",
       "        vertical-align: middle;\n",
       "    }\n",
       "\n",
       "    .dataframe tbody tr th {\n",
       "        vertical-align: top;\n",
       "    }\n",
       "\n",
       "    .dataframe thead th {\n",
       "        text-align: right;\n",
       "    }\n",
       "</style>\n",
       "<table border=\"1\" class=\"dataframe\">\n",
       "  <thead>\n",
       "    <tr style=\"text-align: right;\">\n",
       "      <th></th>\n",
       "      <th>Q</th>\n",
       "      <th>logged</th>\n",
       "    </tr>\n",
       "  </thead>\n",
       "  <tbody>\n",
       "    <tr>\n",
       "      <th>Q</th>\n",
       "      <td>1.000000</td>\n",
       "      <td>-0.340659</td>\n",
       "    </tr>\n",
       "    <tr>\n",
       "      <th>logged</th>\n",
       "      <td>-0.340659</td>\n",
       "      <td>1.000000</td>\n",
       "    </tr>\n",
       "  </tbody>\n",
       "</table>\n",
       "</div>"
      ],
      "text/plain": [
       "               Q    logged\n",
       "Q       1.000000 -0.340659\n",
       "logged -0.340659  1.000000"
      ]
     },
     "execution_count": 29,
     "metadata": {},
     "output_type": "execute_result"
    }
   ],
   "source": [
    "df_ranked.corr()"
   ]
  },
  {
   "cell_type": "markdown",
   "id": "0b43b4f4-2f1e-4b0b-9b5a-8e83f1040772",
   "metadata": {},
   "source": [
    "Perfekt, wir erhielten das gleiche Ergebnis durch alle drei Berechnungen, die einen Spearman's Rangkorrelationskoeffizienten von $r_s = -0,34$ ergeben. Die Ergebnisse deuten darauf hin, dass es keine bis eine schwache negative Korrelation zwischen dem Spitzenabfluss und der Einschlagsfläche gibt. Mit anderen Worten, der Abfluss nimmt tendenziell ab, wenn die Abholzungsfläche zunimmt. Die Wahrnehmung der Bevölkerung kann also durch unsere statistische Analyse nicht bestätigt werden. Es wird empfohlen, einen statistischen Test durchzuführen, um festzustellen, ob das Ergebnis statistisch signifikant ist oder ob die Abweichung nur zufällig ist. Weitere Informationen finden Sie in den Abschnitten über *Hypothesentests*."
   ]
  },
  {
   "cell_type": "code",
   "execution_count": null,
   "id": "bb53857b-d284-483f-8d01-fe27444f9bf3",
   "metadata": {},
   "outputs": [],
   "source": []
  }
 ],
 "metadata": {
  "kernelspec": {
   "display_name": "Python 3 (ipykernel)",
   "language": "python",
   "name": "python3"
  },
  "language_info": {
   "codemirror_mode": {
    "name": "ipython",
    "version": 3
   },
   "file_extension": ".py",
   "mimetype": "text/x-python",
   "name": "python",
   "nbconvert_exporter": "python",
   "pygments_lexer": "ipython3",
   "version": "3.10.2"
  }
 },
 "nbformat": 4,
 "nbformat_minor": 5
}
