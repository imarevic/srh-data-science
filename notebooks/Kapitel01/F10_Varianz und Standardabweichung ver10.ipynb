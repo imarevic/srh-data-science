{
 "cells": [
  {
   "cell_type": "markdown",
   "id": "ed4553d3-e36e-4dd3-9784-bef4844b4edb",
   "metadata": {},
   "source": [
    "## Varianz und Standardabweichung\n",
    "----------------------------------------"
   ]
  },
  {
   "cell_type": "code",
   "execution_count": 84,
   "id": "84ba64a8-223f-4d40-9c2c-d50a889971e5",
   "metadata": {},
   "outputs": [],
   "source": [
    "# Importiere matplotlib\n",
    "\n",
    "import matplotlib.pyplot as plt\n",
    "\n",
    "# Importiere numpy\n",
    "\n",
    "import numpy as np\n",
    "\n",
    "# Importiere pandas\n",
    "\n",
    "import pandas as pd\n",
    "\n",
    "# import random \n",
    "\n",
    "from random import sample\n",
    "\n",
    "import random\n",
    "\n",
    "import scipy\n",
    "\n",
    "from scipy import stats\n",
    "\n",
    "from scipy.stats import norm,gaussian_kde\n",
    "\n"
   ]
  },
  {
   "cell_type": "markdown",
   "id": "29317371-c299-4afb-ac57-0f6842d1aeb7",
   "metadata": {
    "tags": []
   },
   "source": [
    "Die **Varianz** ist die Summe der quadrierten Abweichungen vom Mittelwert. Die Varianz für Populationsdaten wird mit $\\sigma^2$ bezeichnet (gelesen als Sigma-Quadrat), und die für Stichprobendaten berechnete Varianz wird mit $s^2$ bezeichnet. <br> <br> $$ \\sigma^2 = \\frac{\\sum_{i=1}^n (x_i - \\mu)^2}{N} $$  <br> <br> und  <br> <br> $$ s^2 = \\frac{\\sum_{i=1}^n (x_i - \\bar{x})^2}{n-1} $$ <br> <br> wobei $\\sigma^2$ die Varianz der Grundgesamtheit und $s^2$ die Stichprobenvarianz ist. Die Größe $x_i-\\mu$ oder $x_i-\\bar{x}$ in den obigen Formeln wird als die Abweichung des $x_i$-Wertes $(x_1,x_2, \\dots ,x_n)$ vom Mittelwert bezeichnet (Mann 2012). <br> <br> Die <a href=\"https://en.wikipedia.org/wiki/Standard_deviation\">Standardabweichung</a> ist das gebräuchlichste Maß für die Streuung. Der Wert der Standardabweichung gibt an, wie eng die Werte eines Datensatzes um den Mittelwert herum gestreut sind. Im Allgemeinen zeigt ein niedriger Wert der Standardabweichung für einen Datensatz an, dass die Werte dieses Datensatzes über einen relativ kleineren Bereich um den Mittelwert herum verteilt sind. Im Gegensatz dazu zeigt ein größerer Wert der Standardabweichung für einen Datensatz an, dass die Werte dieses Datensatzes über einen relativ größeren Bereich um den Mittelwert herum gestreut sind (Mann 2012). <br> <br> \n",
    "![Alt-Text](standarddev.png) <br> <br>"
   ]
  },
  {
   "cell_type": "markdown",
   "id": "4d3d0efe-0326-4631-9c18-0f520c84ddce",
   "metadata": {},
   "source": [
    "Die Standardabweichung erhält man durch Ziehen der Quadratwurzel aus der **Varianz**. Folglich wird die für Grundgesamtheitsdaten berechnete Standardabweichung mit $\\sigma$ und die für Stichprobendaten berechnete Standardabweichung mit $s$ bezeichnet. <br> <br> $$ \\sigma = \\sqrt{\\frac{\\sum_{i=1}^n (x_i - \\mu)^2}{N}} $$ <br> <br> und <br> <br> $$ s = \\sqrt{\\frac{\\sum_{i=1}^n (x_i - \\bar{x})^2}{n-1}} $$ <br> <br> wobei $\\sigma$ die Standardabweichung der Grundgesamtheit und $s$ die Standardabweichung der Stichprobe ist. <br> <br> <br> <br> Als Übung berechnen wir für einige numerische Variablen, die im `students_quant`-Datensatz von Interesse sind, den Mittelwert, den Median, die Varianz und die Standardabweichung und stellen sie in einem schönen Format dar."
   ]
  },
  {
   "cell_type": "code",
   "execution_count": 2,
   "id": "9834ed37-3a5d-49d7-9bc1-4b26d50bc731",
   "metadata": {},
   "outputs": [
    {
     "data": {
      "text/html": [
       "<div>\n",
       "<style scoped>\n",
       "    .dataframe tbody tr th:only-of-type {\n",
       "        vertical-align: middle;\n",
       "    }\n",
       "\n",
       "    .dataframe tbody tr th {\n",
       "        vertical-align: top;\n",
       "    }\n",
       "\n",
       "    .dataframe thead th {\n",
       "        text-align: right;\n",
       "    }\n",
       "</style>\n",
       "<table border=\"1\" class=\"dataframe\">\n",
       "  <thead>\n",
       "    <tr style=\"text-align: right;\">\n",
       "      <th></th>\n",
       "      <th>Name</th>\n",
       "      <th>Age</th>\n",
       "      <th>Nc.Score</th>\n",
       "      <th>Height</th>\n",
       "      <th>Weight</th>\n",
       "    </tr>\n",
       "  </thead>\n",
       "  <tbody>\n",
       "    <tr>\n",
       "      <th>0</th>\n",
       "      <td>Gonzales, Christina</td>\n",
       "      <td>19</td>\n",
       "      <td>1.91</td>\n",
       "      <td>160</td>\n",
       "      <td>64.8</td>\n",
       "    </tr>\n",
       "    <tr>\n",
       "      <th>1</th>\n",
       "      <td>Lozano, T'Hani</td>\n",
       "      <td>19</td>\n",
       "      <td>1.56</td>\n",
       "      <td>172</td>\n",
       "      <td>73.0</td>\n",
       "    </tr>\n",
       "    <tr>\n",
       "      <th>2</th>\n",
       "      <td>Williams, Hanh</td>\n",
       "      <td>22</td>\n",
       "      <td>1.24</td>\n",
       "      <td>168</td>\n",
       "      <td>70.6</td>\n",
       "    </tr>\n",
       "    <tr>\n",
       "      <th>3</th>\n",
       "      <td>Nem, Denzel</td>\n",
       "      <td>19</td>\n",
       "      <td>1.37</td>\n",
       "      <td>183</td>\n",
       "      <td>79.7</td>\n",
       "    </tr>\n",
       "    <tr>\n",
       "      <th>4</th>\n",
       "      <td>Powell, Heather</td>\n",
       "      <td>21</td>\n",
       "      <td>1.46</td>\n",
       "      <td>175</td>\n",
       "      <td>71.4</td>\n",
       "    </tr>\n",
       "    <tr>\n",
       "      <th>5</th>\n",
       "      <td>Perez, Jadrian</td>\n",
       "      <td>19</td>\n",
       "      <td>1.34</td>\n",
       "      <td>189</td>\n",
       "      <td>85.8</td>\n",
       "    </tr>\n",
       "    <tr>\n",
       "      <th>6</th>\n",
       "      <td>Clardy, Anita</td>\n",
       "      <td>21</td>\n",
       "      <td>1.11</td>\n",
       "      <td>156</td>\n",
       "      <td>65.9</td>\n",
       "    </tr>\n",
       "    <tr>\n",
       "      <th>7</th>\n",
       "      <td>Allen, Rebecca Marie</td>\n",
       "      <td>21</td>\n",
       "      <td>2.03</td>\n",
       "      <td>167</td>\n",
       "      <td>65.7</td>\n",
       "    </tr>\n",
       "    <tr>\n",
       "      <th>8</th>\n",
       "      <td>Tracy, Robert</td>\n",
       "      <td>18</td>\n",
       "      <td>1.29</td>\n",
       "      <td>195</td>\n",
       "      <td>94.4</td>\n",
       "    </tr>\n",
       "    <tr>\n",
       "      <th>9</th>\n",
       "      <td>Nimmons, Laura</td>\n",
       "      <td>18</td>\n",
       "      <td>1.19</td>\n",
       "      <td>165</td>\n",
       "      <td>66.0</td>\n",
       "    </tr>\n",
       "  </tbody>\n",
       "</table>\n",
       "</div>"
      ],
      "text/plain": [
       "                   Name  Age  Nc.Score  Height  Weight\n",
       "0   Gonzales, Christina   19      1.91     160    64.8\n",
       "1        Lozano, T'Hani   19      1.56     172    73.0\n",
       "2        Williams, Hanh   22      1.24     168    70.6\n",
       "3           Nem, Denzel   19      1.37     183    79.7\n",
       "4       Powell, Heather   21      1.46     175    71.4\n",
       "5        Perez, Jadrian   19      1.34     189    85.8\n",
       "6         Clardy, Anita   21      1.11     156    65.9\n",
       "7  Allen, Rebecca Marie   21      2.03     167    65.7\n",
       "8         Tracy, Robert   18      1.29     195    94.4\n",
       "9        Nimmons, Laura   18      1.19     165    66.0"
      ]
     },
     "execution_count": 2,
     "metadata": {},
     "output_type": "execute_result"
    }
   ],
   "source": [
    "# Lese Datei students.csv als Dataframe ein; Indexspalte wird übersprungen\n",
    "df = pd.read_csv('students.csv', index_col=0)\n",
    "\n",
    "# Lese die ersten 10 Einträge für name,age,nc.score,height und weight in listen ein\n",
    "name_df=df['name'][:10]\n",
    "age_df=df['age'][:10]\n",
    "nc_score_df=df['nc.score'][:10]\n",
    "height_df=df['height'][:10]\n",
    "weight_df=df['weight'][:10]\n",
    "\n",
    "# Erzeuge neues Dataframe students_quant\n",
    "students_quant = pd.DataFrame(list(zip(name_df,age_df,nc_score_df,height_df,weight_df)), columns = ['Name','Age','Nc.Score','Height','Weight'])\n",
    "students_quant"
   ]
  },
  {
   "cell_type": "code",
   "execution_count": 3,
   "id": "f58fec00-9999-4019-bfde-e67ead04a3c9",
   "metadata": {
    "tags": []
   },
   "outputs": [
    {
     "name": "stderr",
     "output_type": "stream",
     "text": [
      "C:\\Users\\zak\\AppData\\Local\\Temp\\ipykernel_16180\\3141023193.py:1: FutureWarning: Dropping of nuisance columns in DataFrame reductions (with 'numeric_only=None') is deprecated; in a future version this will raise TypeError.  Select only valid columns before calling the reduction.\n",
      "  mean_students_quant=students_quant.mean()\n"
     ]
    },
    {
     "data": {
      "text/plain": [
       "Age          19.70\n",
       "Nc.Score      1.45\n",
       "Height      173.00\n",
       "Weight       73.73\n",
       "dtype: float64"
      ]
     },
     "execution_count": 3,
     "metadata": {},
     "output_type": "execute_result"
    }
   ],
   "source": [
    "mean_students_quant=students_quant.mean()\n",
    "mean_students_quant"
   ]
  },
  {
   "cell_type": "code",
   "execution_count": 4,
   "id": "a81ee914-2710-4026-8970-2772aa9b7a6c",
   "metadata": {},
   "outputs": [
    {
     "name": "stderr",
     "output_type": "stream",
     "text": [
      "C:\\Users\\zak\\AppData\\Local\\Temp\\ipykernel_16180\\3709849270.py:1: FutureWarning: Dropping of nuisance columns in DataFrame reductions (with 'numeric_only=None') is deprecated; in a future version this will raise TypeError.  Select only valid columns before calling the reduction.\n",
      "  median_students_quant=students_quant.median()\n"
     ]
    },
    {
     "data": {
      "text/plain": [
       "Age          19.000\n",
       "Nc.Score      1.355\n",
       "Height      170.000\n",
       "Weight       71.000\n",
       "dtype: float64"
      ]
     },
     "execution_count": 4,
     "metadata": {},
     "output_type": "execute_result"
    }
   ],
   "source": [
    "median_students_quant=students_quant.median()\n",
    "median_students_quant"
   ]
  },
  {
   "cell_type": "code",
   "execution_count": 5,
   "id": "547a5e00-4c7b-4643-a2b3-c322e2ad982d",
   "metadata": {},
   "outputs": [
    {
     "name": "stderr",
     "output_type": "stream",
     "text": [
      "C:\\Users\\zak\\AppData\\Local\\Temp\\ipykernel_16180\\4201114685.py:1: FutureWarning: Dropping of nuisance columns in DataFrame reductions (with 'numeric_only=None') is deprecated; in a future version this will raise TypeError.  Select only valid columns before calling the reduction.\n",
      "  var_students_quant=students_quant.var()\n"
     ]
    },
    {
     "data": {
      "text/plain": [
       "Age           2.011111\n",
       "Nc.Score      0.092400\n",
       "Height      158.666667\n",
       "Weight       98.846778\n",
       "dtype: float64"
      ]
     },
     "execution_count": 5,
     "metadata": {},
     "output_type": "execute_result"
    }
   ],
   "source": [
    "var_students_quant=students_quant.var()\n",
    "var_students_quant"
   ]
  },
  {
   "cell_type": "code",
   "execution_count": 6,
   "id": "be5f43e3-bef4-4be4-bf4a-5972b0dd062b",
   "metadata": {},
   "outputs": [
    {
     "name": "stderr",
     "output_type": "stream",
     "text": [
      "C:\\Users\\zak\\AppData\\Local\\Temp\\ipykernel_16180\\2105206391.py:1: FutureWarning: Dropping of nuisance columns in DataFrame reductions (with 'numeric_only=None') is deprecated; in a future version this will raise TypeError.  Select only valid columns before calling the reduction.\n",
      "  std_students_quant=students_quant.std()\n"
     ]
    },
    {
     "data": {
      "text/plain": [
       "Age          1.418136\n",
       "Nc.Score     0.303974\n",
       "Height      12.596296\n",
       "Weight       9.942172\n",
       "dtype: float64"
      ]
     },
     "execution_count": 6,
     "metadata": {},
     "output_type": "execute_result"
    }
   ],
   "source": [
    "std_students_quant=students_quant.std()\n",
    "std_students_quant"
   ]
  },
  {
   "cell_type": "code",
   "execution_count": 7,
   "id": "cf669a4c-c37b-407a-9e51-c93adc9a9d80",
   "metadata": {},
   "outputs": [
    {
     "data": {
      "text/html": [
       "<div>\n",
       "<style scoped>\n",
       "    .dataframe tbody tr th:only-of-type {\n",
       "        vertical-align: middle;\n",
       "    }\n",
       "\n",
       "    .dataframe tbody tr th {\n",
       "        vertical-align: top;\n",
       "    }\n",
       "\n",
       "    .dataframe thead th {\n",
       "        text-align: right;\n",
       "    }\n",
       "</style>\n",
       "<table border=\"1\" class=\"dataframe\">\n",
       "  <thead>\n",
       "    <tr style=\"text-align: right;\">\n",
       "      <th></th>\n",
       "      <th></th>\n",
       "      <th>Mean</th>\n",
       "      <th>Median</th>\n",
       "      <th>Var</th>\n",
       "      <th>Std</th>\n",
       "    </tr>\n",
       "  </thead>\n",
       "  <tbody>\n",
       "    <tr>\n",
       "      <th>0</th>\n",
       "      <td>age</td>\n",
       "      <td>19.70</td>\n",
       "      <td>19.000</td>\n",
       "      <td>2.011111</td>\n",
       "      <td>1.418136</td>\n",
       "    </tr>\n",
       "    <tr>\n",
       "      <th>1</th>\n",
       "      <td>nc_score</td>\n",
       "      <td>1.45</td>\n",
       "      <td>1.355</td>\n",
       "      <td>0.092400</td>\n",
       "      <td>0.303974</td>\n",
       "    </tr>\n",
       "    <tr>\n",
       "      <th>2</th>\n",
       "      <td>height</td>\n",
       "      <td>173.00</td>\n",
       "      <td>170.000</td>\n",
       "      <td>158.666667</td>\n",
       "      <td>12.596296</td>\n",
       "    </tr>\n",
       "    <tr>\n",
       "      <th>3</th>\n",
       "      <td>weight</td>\n",
       "      <td>73.73</td>\n",
       "      <td>71.000</td>\n",
       "      <td>98.846778</td>\n",
       "      <td>9.942172</td>\n",
       "    </tr>\n",
       "  </tbody>\n",
       "</table>\n",
       "</div>"
      ],
      "text/plain": [
       "               Mean   Median         Var        Std\n",
       "0       age   19.70   19.000    2.011111   1.418136\n",
       "1  nc_score    1.45    1.355    0.092400   0.303974\n",
       "2    height  173.00  170.000  158.666667  12.596296\n",
       "3    weight   73.73   71.000   98.846778   9.942172"
      ]
     },
     "execution_count": 7,
     "metadata": {},
     "output_type": "execute_result"
    }
   ],
   "source": [
    "id_col=['age','nc_score','height','weight']\n",
    "students_quant_stats = pd.DataFrame(list(zip(id_col,mean_students_quant,median_students_quant,var_students_quant,std_students_quant)), columns = [' ','Mean','Median','Var','Std'])\n",
    "students_quant_stats"
   ]
  },
  {
   "cell_type": "markdown",
   "id": "f7c52da7-2c64-4d04-82be-f4900e13d3ea",
   "metadata": {},
   "source": [
    "### Verwendung der Standardabweichung\n",
    "Mit Hilfe des Mittelwerts und der Standardabweichung lässt sich der Anteil oder Prozentsatz der Gesamtbeobachtungen ermitteln, die in ein bestimmtes Intervall um den Mittelwert fallen."
   ]
  },
  {
   "cell_type": "markdown",
   "id": "e86ba5a2-d8a0-4696-bf5f-716dee85ce73",
   "metadata": {},
   "source": [
    "#### Tschebyscheff-Theorem\n",
    "Das <a href=\"https://en.wikipedia.org/wiki/Chebyshev%27s_inequality\">Tschebyscheff-Theorem</a> gibt eine untere Schranke für die Fläche unter einer Kurve zwischen zwei Punkten, die auf gegenüberliegenden Seiten des Mittelwerts und im gleichen Abstand vom Mittelwert liegen."
   ]
  },
  {
   "cell_type": "markdown",
   "id": "c812119b-b6d9-4b33-a848-30d6ea87f50c",
   "metadata": {},
   "source": [
    "#### Für jede Zahl $k$, die größer als $1$ ist, liegen mindestens $1-\\frac{1}{k^2}$ der Datenwerte innerhalb von $k$ Standardabweichungen vom Mittelwert."
   ]
  },
  {
   "cell_type": "markdown",
   "id": "ec3c046e-9dfe-45b5-aa20-41dabb004dd3",
   "metadata": {},
   "source": [
    "Lassen Sie uns Python verwenden, um ein Gefühl für den Tschebyscheff-Satz zu bekommen."
   ]
  },
  {
   "cell_type": "code",
   "execution_count": 8,
   "id": "b758b5f7-9c64-4381-9f93-019dd42ba52b",
   "metadata": {},
   "outputs": [
    {
     "data": {
      "text/html": [
       "<div>\n",
       "<style scoped>\n",
       "    .dataframe tbody tr th:only-of-type {\n",
       "        vertical-align: middle;\n",
       "    }\n",
       "\n",
       "    .dataframe tbody tr th {\n",
       "        vertical-align: top;\n",
       "    }\n",
       "\n",
       "    .dataframe thead th {\n",
       "        text-align: right;\n",
       "    }\n",
       "</style>\n",
       "<table border=\"1\" class=\"dataframe\">\n",
       "  <thead>\n",
       "    <tr style=\"text-align: right;\">\n",
       "      <th></th>\n",
       "      <th>x</th>\n",
       "      <th>k</th>\n",
       "    </tr>\n",
       "  </thead>\n",
       "  <tbody>\n",
       "    <tr>\n",
       "      <th>0</th>\n",
       "      <td>1.0</td>\n",
       "      <td>0.000000</td>\n",
       "    </tr>\n",
       "    <tr>\n",
       "      <th>1</th>\n",
       "      <td>1.1</td>\n",
       "      <td>17.355372</td>\n",
       "    </tr>\n",
       "    <tr>\n",
       "      <th>2</th>\n",
       "      <td>1.2</td>\n",
       "      <td>30.555556</td>\n",
       "    </tr>\n",
       "    <tr>\n",
       "      <th>3</th>\n",
       "      <td>1.3</td>\n",
       "      <td>40.828402</td>\n",
       "    </tr>\n",
       "    <tr>\n",
       "      <th>4</th>\n",
       "      <td>1.4</td>\n",
       "      <td>48.979592</td>\n",
       "    </tr>\n",
       "    <tr>\n",
       "      <th>5</th>\n",
       "      <td>1.5</td>\n",
       "      <td>55.555556</td>\n",
       "    </tr>\n",
       "    <tr>\n",
       "      <th>6</th>\n",
       "      <td>1.6</td>\n",
       "      <td>60.937500</td>\n",
       "    </tr>\n",
       "    <tr>\n",
       "      <th>7</th>\n",
       "      <td>1.7</td>\n",
       "      <td>65.397924</td>\n",
       "    </tr>\n",
       "    <tr>\n",
       "      <th>8</th>\n",
       "      <td>1.8</td>\n",
       "      <td>69.135802</td>\n",
       "    </tr>\n",
       "    <tr>\n",
       "      <th>9</th>\n",
       "      <td>1.9</td>\n",
       "      <td>72.299169</td>\n",
       "    </tr>\n",
       "    <tr>\n",
       "      <th>10</th>\n",
       "      <td>2.0</td>\n",
       "      <td>75.000000</td>\n",
       "    </tr>\n",
       "    <tr>\n",
       "      <th>11</th>\n",
       "      <td>2.1</td>\n",
       "      <td>77.324263</td>\n",
       "    </tr>\n",
       "    <tr>\n",
       "      <th>12</th>\n",
       "      <td>2.2</td>\n",
       "      <td>79.338843</td>\n",
       "    </tr>\n",
       "    <tr>\n",
       "      <th>13</th>\n",
       "      <td>2.3</td>\n",
       "      <td>81.096408</td>\n",
       "    </tr>\n",
       "    <tr>\n",
       "      <th>14</th>\n",
       "      <td>2.4</td>\n",
       "      <td>82.638889</td>\n",
       "    </tr>\n",
       "    <tr>\n",
       "      <th>15</th>\n",
       "      <td>2.5</td>\n",
       "      <td>84.000000</td>\n",
       "    </tr>\n",
       "    <tr>\n",
       "      <th>16</th>\n",
       "      <td>2.6</td>\n",
       "      <td>85.207101</td>\n",
       "    </tr>\n",
       "    <tr>\n",
       "      <th>17</th>\n",
       "      <td>2.7</td>\n",
       "      <td>86.282579</td>\n",
       "    </tr>\n",
       "    <tr>\n",
       "      <th>18</th>\n",
       "      <td>2.8</td>\n",
       "      <td>87.244898</td>\n",
       "    </tr>\n",
       "    <tr>\n",
       "      <th>19</th>\n",
       "      <td>2.9</td>\n",
       "      <td>88.109394</td>\n",
       "    </tr>\n",
       "    <tr>\n",
       "      <th>20</th>\n",
       "      <td>3.0</td>\n",
       "      <td>88.888889</td>\n",
       "    </tr>\n",
       "    <tr>\n",
       "      <th>21</th>\n",
       "      <td>3.1</td>\n",
       "      <td>89.594173</td>\n",
       "    </tr>\n",
       "    <tr>\n",
       "      <th>22</th>\n",
       "      <td>3.2</td>\n",
       "      <td>90.234375</td>\n",
       "    </tr>\n",
       "    <tr>\n",
       "      <th>23</th>\n",
       "      <td>3.3</td>\n",
       "      <td>90.817264</td>\n",
       "    </tr>\n",
       "    <tr>\n",
       "      <th>24</th>\n",
       "      <td>3.4</td>\n",
       "      <td>91.349481</td>\n",
       "    </tr>\n",
       "    <tr>\n",
       "      <th>25</th>\n",
       "      <td>3.5</td>\n",
       "      <td>91.836735</td>\n",
       "    </tr>\n",
       "    <tr>\n",
       "      <th>26</th>\n",
       "      <td>3.6</td>\n",
       "      <td>92.283951</td>\n",
       "    </tr>\n",
       "    <tr>\n",
       "      <th>27</th>\n",
       "      <td>3.7</td>\n",
       "      <td>92.695398</td>\n",
       "    </tr>\n",
       "    <tr>\n",
       "      <th>28</th>\n",
       "      <td>3.8</td>\n",
       "      <td>93.074792</td>\n",
       "    </tr>\n",
       "    <tr>\n",
       "      <th>29</th>\n",
       "      <td>3.9</td>\n",
       "      <td>93.425378</td>\n",
       "    </tr>\n",
       "    <tr>\n",
       "      <th>30</th>\n",
       "      <td>4.0</td>\n",
       "      <td>93.750000</td>\n",
       "    </tr>\n",
       "  </tbody>\n",
       "</table>\n",
       "</div>"
      ],
      "text/plain": [
       "      x          k\n",
       "0   1.0   0.000000\n",
       "1   1.1  17.355372\n",
       "2   1.2  30.555556\n",
       "3   1.3  40.828402\n",
       "4   1.4  48.979592\n",
       "5   1.5  55.555556\n",
       "6   1.6  60.937500\n",
       "7   1.7  65.397924\n",
       "8   1.8  69.135802\n",
       "9   1.9  72.299169\n",
       "10  2.0  75.000000\n",
       "11  2.1  77.324263\n",
       "12  2.2  79.338843\n",
       "13  2.3  81.096408\n",
       "14  2.4  82.638889\n",
       "15  2.5  84.000000\n",
       "16  2.6  85.207101\n",
       "17  2.7  86.282579\n",
       "18  2.8  87.244898\n",
       "19  2.9  88.109394\n",
       "20  3.0  88.888889\n",
       "21  3.1  89.594173\n",
       "22  3.2  90.234375\n",
       "23  3.3  90.817264\n",
       "24  3.4  91.349481\n",
       "25  3.5  91.836735\n",
       "26  3.6  92.283951\n",
       "27  3.7  92.695398\n",
       "28  3.8  93.074792\n",
       "29  3.9  93.425378\n",
       "30  4.0  93.750000"
      ]
     },
     "execution_count": 8,
     "metadata": {},
     "output_type": "execute_result"
    }
   ],
   "source": [
    "x=np.arange(1.0,4.1,0.1)\n",
    "x_werte=[]\n",
    "k_werte=[]\n",
    "for n in x:\n",
    "    x_werte.append((round(n,2)))\n",
    "    k_werte.append((1-1/(round(n,2))**2)*100)\n",
    "\n",
    "df4 = pd.DataFrame(list(zip(x_werte,k_werte)), columns = ['x','k'])\n",
    "df4"
   ]
  },
  {
   "cell_type": "markdown",
   "id": "9b6d855c-7a35-4d9f-a7ab-7664c09e9fac",
   "metadata": {},
   "source": [
    "Um es in Worte zu fassen: Für $k=2$ bedeutet das, dass mindestens **$75 \\% $** der Datenwerte innerhalb von **2 Standardabweichungen** vom Mittelwert liegen. <br> <br> Stellen wir das Tschebyscheff-Theorem mit Python dar: "
   ]
  },
  {
   "cell_type": "code",
   "execution_count": 9,
   "id": "5acf4a0b-7398-4972-aeba-d013230b3360",
   "metadata": {},
   "outputs": [
    {
     "data": {
      "image/png": "[encoded data removed]",
      "text/plain": [
       "<Figure size 432x288 with 1 Axes>"
      ]
     },
     "metadata": {
      "needs_background": "light"
     },
     "output_type": "display_data"
    }
   ],
   "source": [
    "# Label für die x,y-Achse vergeben:\n",
    "plt.title('Tschebyscheff-Theorem')\n",
    "plt.ylabel('Prozent')\n",
    "plt.xlabel('k')\n",
    "# Einen x-y-Plot erstellen:\n",
    "plt.plot(x_werte, k_werte, 'bo')\n",
    "\n",
    "# Achsen-Bereiche manuell festlegen\n",
    "# Syntax: plt.axis([xmin, xmax, ymin, ymax])\n",
    "plt.axis([0.8, 4.2, -5, 100])\n",
    "\n",
    "# Ein gepunktetes Diagramm-Gitter einblenden:\n",
    "plt.grid(True)\n",
    "\n",
    "# Diagramm anzeigen:\n",
    "plt.show()"
   ]
  },
  {
   "cell_type": "markdown",
   "id": "eafddacb-175d-4766-8d2d-8b582d990dc0",
   "metadata": {},
   "source": [
    "Das Theorem gilt sowohl für Stichproben- als auch für Grundgesamtheitsdaten. Das Tschebyscheffsche Theorem gilt für Verteilungen beliebiger Form. Es kann jedoch nur für $k > 1$ verwendet werden. Denn wenn $k=1$ ist, ist der Wert von $1-\\frac{1}{k^2}$ Null, und wenn $k < 1$ ist, ist der Wert von $1-\\frac{1}{k^2}$ negativ (Mann 2012). "
   ]
  },
  {
   "cell_type": "markdown",
   "id": "8df885ad-b765-4e9b-a8a7-8fb29a844134",
   "metadata": {},
   "source": [
    "#### Empirische Regel\n",
    "Während das Tschebyscheffsche Theorem auf jede Art von Verteilung anwendbar ist, gilt die **empirische Regel** nur für eine bestimmte Art von Verteilung, die so genannte **Gaußverteilung** oder **Normalverteilung**. Es gibt 3 Regeln: <br> <br> Bei einer Normalverteilung sind   \n",
    "\n",
    "1.  $68 \\%$ der Beobachtungen innerhalb einer Standardabweichung des Mittelwerts.\n",
    "2.  $95 \\%$ der Beobachtungen innerhalb von zwei Standardabweichungen des Mittelwerts.\n",
    "3.  $99.7 \\%$ der Beobachtungen innerhalb von drei Standardabweichungen des Mittelwerts.\n",
    "\n"
   ]
  },
  {
   "cell_type": "markdown",
   "id": "4be5b5a5-4cd7-43e9-aab1-1565ce820c24",
   "metadata": {},
   "source": [
    "Da wir inzwischen über genügend Hacking-Power verfügen, werden wir versuchen zu testen, ob die drei Regeln gültig sind. \n",
    "\n",
    "**(1) Erstens** werden wir die Funktion `random.normal()` in Python erforschen, um normalverteilte Daten zu erzeugen, und \n",
    "\n",
    "**(2) zweitens** werden wir zu unserem `students` Datensatz zurückkehren und diese Regeln an diesem Datensatz zu validieren. \n",
    "<br> <br> Die Normalverteilung gehört zur Familie der <a href=\"https://en.wikipedia.org/wiki/Probability_distribution#Continuous_probability_distribution\">stetigen Verteilungen</a>. In Python gibt es eine Vielzahl von Wahrscheinlichkeitsverteilungen <a href=\"https://en.wikibooks.org/wiki/R_Programming/Probability_Distributions\">(hier)</a>. Um Daten aus einer Normalverteilung zu erzeugen, kann man die Funktion `random.normal()` verwenden, die ein Zufallsvariablengenerator für die Normalverteilung ist. <br> <br> Mit der Funktion `random.sample()` können wir `n` Werte aus einer Normalverteilung mit einem gegebenen Mittelwert (Standard ist 0) und einer Standardabweichung (Standard ist 1) entnehmen: `random.normal(loc=0.0, scale=1.0)`. Lassen Sie uns das ausprobieren:"
   ]
  },
  {
   "cell_type": "code",
   "execution_count": 10,
   "id": "732eaf35-871a-4117-9c21-bdb722b0899a",
   "metadata": {},
   "outputs": [
    {
     "name": "stdout",
     "output_type": "stream",
     "text": [
      "[0.07076686456102771]\n"
     ]
    }
   ],
   "source": [
    "data = np.random.normal(loc=0.0, scale=1.0, size=200)\n",
    "data=list(data)\n",
    "probe = random.sample(data, 1)\n",
    "print(probe)"
   ]
  },
  {
   "cell_type": "code",
   "execution_count": 11,
   "id": "f3d78db8-d66e-41ae-bb57-20da99197da9",
   "metadata": {},
   "outputs": [
    {
     "name": "stdout",
     "output_type": "stream",
     "text": [
      "[1.4723433777752555]\n"
     ]
    }
   ],
   "source": [
    "probe = random.sample(data, 1)\n",
    "print(probe)"
   ]
  },
  {
   "cell_type": "code",
   "execution_count": 12,
   "id": "9e4af084-9840-490c-bb9a-817091a8be0d",
   "metadata": {},
   "outputs": [
    {
     "name": "stdout",
     "output_type": "stream",
     "text": [
      "[-2.696836607925604]\n"
     ]
    }
   ],
   "source": [
    "probe = random.sample(data, 1)\n",
    "print(probe)"
   ]
  },
  {
   "cell_type": "code",
   "execution_count": 13,
   "id": "bc1921b3-00e7-4c85-87df-5720169ce016",
   "metadata": {},
   "outputs": [
    {
     "name": "stdout",
     "output_type": "stream",
     "text": [
      "[-0.42407184685004573]\n"
     ]
    }
   ],
   "source": [
    "probe = random.sample(data, 1)\n",
    "print(probe)"
   ]
  },
  {
   "cell_type": "markdown",
   "id": "a289f4cd-f99b-4198-864a-c1b65ce24618",
   "metadata": {},
   "source": [
    "Wir sehen, dass die Funktion `random.sample()` <a href=\"https://en.wikipedia.org/wiki/Pseudorandom_number_generator\">(Pseudo-)Zufallszahlen</a> liefert. Wir können die Funktion ziemlich einfach bitten, Hunderte oder Tausende oder noch mehr (Pseudo-)Zufallszahlen zu ziehen:"
   ]
  },
  {
   "cell_type": "code",
   "execution_count": 14,
   "id": "b733de98-fbc0-4f98-b18e-a034136676a8",
   "metadata": {},
   "outputs": [
    {
     "name": "stdout",
     "output_type": "stream",
     "text": [
      "[-3.3543103074145764, -0.044894511100889545, 0.6565737701908195, 1.061203788376625, 0.8262403122533859, -0.8929357093725412, 0.07001848062159627, -0.5152093509687182, 0.9934724043241582, 1.1018208325094152]\n"
     ]
    }
   ],
   "source": [
    "probe = random.sample(data, 10)\n",
    "print(probe)"
   ]
  },
  {
   "cell_type": "code",
   "execution_count": 15,
   "id": "6ed078ca-f894-4ce0-8611-54bc7f0a41b7",
   "metadata": {},
   "outputs": [
    {
     "name": "stdout",
     "output_type": "stream",
     "text": [
      "[1.0987586966824963, -1.022577767704622, 1.6354471109187847, -1.3539961974608363, -0.5360289441459057, 1.0764812865661866, 0.6641116211116749, -0.017819259428694424, 0.6565737701908195, 0.9454749896902241, 1.3730902161384282, -0.4792370733539222, -0.604866345267324, 0.6687942164673775, -0.17320805858528118, -0.36356958094391745, 1.1923055832996075, 2.206273395637807, -1.3976987403578318, 0.8104732557949995, 0.680397552517811, 0.10851039937060447, -0.33055464777946564, 0.1277437221412448, 0.6063905949235757, -1.3929782541598095, -0.5473152580901638, 0.3753932574369657, 0.632356076755197, 1.2004404118795344, -0.05880680759884178, 0.25099923955950776, 1.7067231911775975, 0.7263187931860848, 0.6727363696428522, -0.5986762515517215, 0.7191585359920005, 0.9934724043241582, 1.1449326538677471, 2.7390688445572815, 0.43432115242084934, 0.785848786659093, -0.6817922669840062, 0.18877834833948753, -0.9872074663604228, -0.5158973367831505, -0.3372704535423384, -0.11819236070821981, 0.4885806723446311, -2.4684748233935707, 0.5499199284252894, 0.46551691400896483, 1.035497850599878, -0.5957010192701332, -0.9944872726019561, -0.6928000792035998, -0.4383801038970816, 0.6838955105621259, -0.6406740049048224, -0.5824359664680433, -0.8660937303677931, 1.2605505289929877, 1.715655832936677, 0.6458957288255995, -1.5211301624940512, 0.09141150502799068, 0.9953135687198283, 0.4660248841474211, -0.07642484732553698, -0.08947072293390163, 0.8262403122533859, 0.5228495549413803, 1.176403460018952, 1.5336656780420814, 1.056625128437055, 0.07076686456102771, -1.3252997798247166, -0.23276297762642534, 0.11087938062303214, -1.2717839573536351, 0.07238163230266476, -0.6352256123380027, 0.14904622387495567, 1.0647365319092879, 0.05668664144486822, 0.3963027107209396, -0.07473402623599784, 0.4920006567302758, -0.3596855783587372, 1.6907625761712144, -1.8292590904789268, 1.989975117582463, 0.16356530627192367, 1.119831459433416, -0.8839796660211741, -0.6090444651142345, -0.044894511100889545, -0.5732579054601683, -1.0271989357482472, 0.6121505785826938]\n"
     ]
    }
   ],
   "source": [
    "probe = random.sample(data, 100)\n",
    "print(probe)"
   ]
  },
  {
   "cell_type": "code",
   "execution_count": 16,
   "id": "51a541af-200f-4627-9752-67b91d3e8321",
   "metadata": {},
   "outputs": [],
   "source": [
    "y_norm = np.random.normal(loc=0.0, scale=1.0, size=100000)\n",
    "y_norm = list(y_norm)"
   ]
  },
  {
   "cell_type": "markdown",
   "id": "ece30f11-008a-4d14-aee2-852d10f687de",
   "metadata": {},
   "source": [
    "Wenn wir ein Histogramm dieser Zahlen erstellen, sehen wir die namensgebende glockenförmige Verteilung."
   ]
  },
  {
   "cell_type": "code",
   "execution_count": 17,
   "id": "c81eae1c-dcc2-43f6-a00f-77aab49e0c01",
   "metadata": {},
   "outputs": [
    {
     "data": {
      "image/png": "[encoded data removed]",
      "text/plain": [
       "<Figure size 432x288 with 1 Axes>"
      ]
     },
     "metadata": {
      "needs_background": "light"
     },
     "output_type": "display_data"
    }
   ],
   "source": [
    "plt.hist(y_norm, bins = 100)\n",
    "plt.show()"
   ]
  },
  {
   "cell_type": "markdown",
   "id": "15d6344d-1057-4178-b809-75a6ac7a4cce",
   "metadata": {},
   "source": [
    "Wir kennen bereits den Mittelwert und die Standardabweichung der Werte in der `y_norm` Liste, da wir die Funktion `random.normal()` explizit mit `mean=0` und `sd=1` aufgerufen haben. Wir müssen also nur die Zahlen der `y_norm` Liste zählen, die größer als $-1$ bzw. kleiner als $1$ und $2$ bzw. $-2$ und $3$ bzw. $-3$ sind, und sie zur Länge der Liste, in unserem Fall $100.000$, in Beziehung setzen, um die drei oben genannten Regeln zu bestätigen."
   ]
  },
  {
   "cell_type": "code",
   "execution_count": 18,
   "id": "e94a066d-94d1-4cd8-ab17-45e7a0424789",
   "metadata": {},
   "outputs": [
    {
     "name": "stdout",
     "output_type": "stream",
     "text": [
      "sd1 : 68.374\n",
      "sd2 : 95.365\n",
      "sd3 : 99.712\n"
     ]
    }
   ],
   "source": [
    "# Initialisiere Variable lower, higher\n",
    "lower = 0\n",
    "higher = 0\n",
    "\n",
    "# Sortiere y_norm aufsteigend\n",
    "y_norm.sort()\n",
    "\n",
    "# Erzeuge for - Schleife um Zahlen Bereich ]-1,1[ , ]-2,2[ , ]-3,3[ abzuzählen\n",
    "for i in range(len(y_norm)) :\n",
    "    if y_norm[i] < -1 :\n",
    "        lower += 1\n",
    "\n",
    "for i in range(len(y_norm)) :\n",
    "    if y_norm[i] < 1 :\n",
    "        higher += 1\n",
    "\n",
    "sd1 = ((higher - lower)*100)/len(y_norm)\n",
    "\n",
    "# Rücksetzen der Variablen\n",
    "higher = 0\n",
    "lower = 0\n",
    "\n",
    "for i in range(len(y_norm)) :\n",
    "    if y_norm[i] < -2 :\n",
    "        lower += 1\n",
    "\n",
    "for i in range(len(y_norm)) :\n",
    "    if y_norm[i] < 2 :\n",
    "        higher += 1\n",
    "\n",
    "sd2 = ((higher - lower)*100)/len(y_norm)\n",
    "\n",
    "# Rücksetzen der Variablen\n",
    "higher = 0\n",
    "lower = 0\n",
    "\n",
    "for i in range(len(y_norm)) :\n",
    "    if y_norm[i] < -3 :\n",
    "        lower += 1\n",
    "\n",
    "for i in range(len(y_norm)) :\n",
    "    if y_norm[i] < 3 :\n",
    "        higher += 1\n",
    "\n",
    "sd3 = ((higher - lower)*100)/len(y_norm)\n",
    "\n",
    "print('sd1 :',sd1)\n",
    "print('sd2 :',sd2)\n",
    "print('sd3 :',sd3)"
   ]
  },
  {
   "cell_type": "markdown",
   "id": "ddf7f920-9bf3-4629-939a-d6457bebc47b",
   "metadata": {},
   "source": [
    "Perfekte Übereinstimmung! Die drei empirischen Regeln sind offensichtlich gültig. Um unsere Ergebnisse zu veranschaulichen, stellen wir das Histogramm erneut dar und fügen einige Anmerkungen hinzu. Bitte beachten Sie, dass wir in der `hist()`-Funktion das Argument `density=True` setzen. Dies hat zur Folge, dass das resultierende Histogramm nicht mehr die Zählungen auf der y-Achse anzeigt, sondern die Dichtewerte (normalisierte Zählung geteilt durch Bin-Breite), was bedeutet, dass sich die Balkenbereiche zu 1 summieren."
   ]
  },
  {
   "cell_type": "code",
   "execution_count": 19,
   "id": "5b74d4bd-8e46-4e85-b074-4ed64bc697fc",
   "metadata": {},
   "outputs": [
    {
     "data": {
      "image/png": "[encoded data removed]",
      "text/plain": [
       "<Figure size 432x288 with 1 Axes>"
      ]
     },
     "metadata": {
      "needs_background": "light"
     },
     "output_type": "display_data"
    }
   ],
   "source": [
    "plt.hist(y_norm, bins = 100, density=True)\n",
    "#fig, ax = plt.subplots()\n",
    "  \n",
    "plt.axvline(1, color ='red', lw = 2, alpha = 0.75)\n",
    "plt.axvline(-1, color ='red', lw = 2, alpha = 0.75)\n",
    "plt.axvline(2, color ='green', lw = 2, alpha = 0.75)\n",
    "plt.axvline(-2, color ='green', lw = 2, alpha = 0.75)\n",
    "plt.axvline(3, color ='blue', lw = 2, alpha = 0.75)\n",
    "plt.axvline(-3, color ='blue', lw = 2, alpha = 0.75)\n",
    "plt.title('Normalverteilung')\n",
    "plt.show()"
   ]
  },
  {
   "cell_type": "markdown",
   "id": "ea12494e-7571-4541-888f-5a07a619ba28",
   "metadata": {},
   "source": [
    "Nun, lassen Sie uns an der zweiten Aufgabe arbeiten: Überprüfen Sie die drei empirischen Regeln anhand des `students` Datensatzes. Dazu müssen wir überprüfen, ob eine der numerischen Variablen im Studentendatensatz  normalverteilt ist. Wir beginnen mit der Extraktion numerischer Variablen von Interesse aus dem `students` Datensatz. Dann zeichnen wir Histogramme und beurteilen, ob die Variable normalverteilt ist oder nicht. Zunächst überprüfen wir jedoch den Datensatz, indem wir die Funktion `head()` aufrufen."
   ]
  },
  {
   "cell_type": "code",
   "execution_count": 20,
   "id": "088b435f-9d6b-4a44-aab7-204a4d918c1c",
   "metadata": {},
   "outputs": [
    {
     "data": {
      "text/html": [
       "<div>\n",
       "<style scoped>\n",
       "    .dataframe tbody tr th:only-of-type {\n",
       "        vertical-align: middle;\n",
       "    }\n",
       "\n",
       "    .dataframe tbody tr th {\n",
       "        vertical-align: top;\n",
       "    }\n",
       "\n",
       "    .dataframe thead th {\n",
       "        text-align: right;\n",
       "    }\n",
       "</style>\n",
       "<table border=\"1\" class=\"dataframe\">\n",
       "  <thead>\n",
       "    <tr style=\"text-align: right;\">\n",
       "      <th></th>\n",
       "      <th>Age</th>\n",
       "      <th>Nc.Score</th>\n",
       "      <th>Height</th>\n",
       "      <th>Weight</th>\n",
       "      <th>Score1</th>\n",
       "      <th>Score2</th>\n",
       "      <th>Salary</th>\n",
       "    </tr>\n",
       "  </thead>\n",
       "  <tbody>\n",
       "    <tr>\n",
       "      <th>0</th>\n",
       "      <td>19</td>\n",
       "      <td>1.91</td>\n",
       "      <td>160</td>\n",
       "      <td>64.8</td>\n",
       "      <td>NaN</td>\n",
       "      <td>NaN</td>\n",
       "      <td>NaN</td>\n",
       "    </tr>\n",
       "    <tr>\n",
       "      <th>1</th>\n",
       "      <td>19</td>\n",
       "      <td>1.56</td>\n",
       "      <td>172</td>\n",
       "      <td>73.0</td>\n",
       "      <td>NaN</td>\n",
       "      <td>NaN</td>\n",
       "      <td>NaN</td>\n",
       "    </tr>\n",
       "    <tr>\n",
       "      <th>2</th>\n",
       "      <td>22</td>\n",
       "      <td>1.24</td>\n",
       "      <td>168</td>\n",
       "      <td>70.6</td>\n",
       "      <td>45.0</td>\n",
       "      <td>46.0</td>\n",
       "      <td>NaN</td>\n",
       "    </tr>\n",
       "    <tr>\n",
       "      <th>3</th>\n",
       "      <td>19</td>\n",
       "      <td>1.37</td>\n",
       "      <td>183</td>\n",
       "      <td>79.7</td>\n",
       "      <td>NaN</td>\n",
       "      <td>NaN</td>\n",
       "      <td>NaN</td>\n",
       "    </tr>\n",
       "    <tr>\n",
       "      <th>4</th>\n",
       "      <td>21</td>\n",
       "      <td>1.46</td>\n",
       "      <td>175</td>\n",
       "      <td>71.4</td>\n",
       "      <td>NaN</td>\n",
       "      <td>NaN</td>\n",
       "      <td>NaN</td>\n",
       "    </tr>\n",
       "  </tbody>\n",
       "</table>\n",
       "</div>"
      ],
      "text/plain": [
       "   Age  Nc.Score  Height  Weight  Score1  Score2  Salary\n",
       "0   19      1.91     160    64.8     NaN     NaN     NaN\n",
       "1   19      1.56     172    73.0     NaN     NaN     NaN\n",
       "2   22      1.24     168    70.6    45.0    46.0     NaN\n",
       "3   19      1.37     183    79.7     NaN     NaN     NaN\n",
       "4   21      1.46     175    71.4     NaN     NaN     NaN"
      ]
     },
     "execution_count": 20,
     "metadata": {},
     "output_type": "execute_result"
    }
   ],
   "source": [
    "# Lese Datei students.csv als Dataframe ein; Indexspalte wird übersprungen\n",
    "df = pd.read_csv('students.csv', index_col=0)\n",
    "\n",
    "# Lese die Einträge für age,nc.score,height, weight, score1, score2 und salary in Listen ein\n",
    "age_df=df['age']\n",
    "nc_score_df=df['nc.score']\n",
    "height_df=df['height']\n",
    "weight_df=df['weight']\n",
    "score1_df=df['score1']\n",
    "score2_df=df['score2']\n",
    "salary_df=df['salary']\n",
    "# Erzeuge neues Dataframe students_quant\n",
    "students_quant_hist = pd.DataFrame(list(zip(age_df,nc_score_df,height_df,weight_df,score1_df,score2_df,salary_df)), columns = ['Age','Nc.Score','Height','Weight','Score1','Score2','Salary'])\n",
    "students_quant_hist.head(5)"
   ]
  },
  {
   "cell_type": "markdown",
   "id": "2f6cccf1-f422-48b8-b226-367ab01955df",
   "metadata": {},
   "source": [
    "Um einen Überblick über die Form der Verteilung der einzelnen Variablen zu erhalten, verwenden wir die Funktion `hist()`."
   ]
  },
  {
   "cell_type": "code",
   "execution_count": 21,
   "id": "8e4fcfbb-728e-412e-8281-be62c37169f3",
   "metadata": {},
   "outputs": [
    {
     "data": {
      "image/png": "[encoded data removed]",
      "text/plain": [
       "<Figure size 432x288 with 1 Axes>"
      ]
     },
     "metadata": {
      "needs_background": "light"
     },
     "output_type": "display_data"
    },
    {
     "data": {
      "image/png": "[encoded data removed]",
      "text/plain": [
       "<Figure size 432x288 with 1 Axes>"
      ]
     },
     "metadata": {
      "needs_background": "light"
     },
     "output_type": "display_data"
    },
    {
     "data": {
      "image/png": "[encoded data removed]",
      "text/plain": [
       "<Figure size 432x288 with 1 Axes>"
      ]
     },
     "metadata": {
      "needs_background": "light"
     },
     "output_type": "display_data"
    },
    {
     "data": {
      "image/png": "[encoded data removed]",
      "text/plain": [
       "<Figure size 432x288 with 1 Axes>"
      ]
     },
     "metadata": {
      "needs_background": "light"
     },
     "output_type": "display_data"
    },
    {
     "data": {
      "image/png": "[encoded data removed]",
      "text/plain": [
       "<Figure size 432x288 with 1 Axes>"
      ]
     },
     "metadata": {
      "needs_background": "light"
     },
     "output_type": "display_data"
    },
    {
     "data": {
      "image/png": "[encoded data removed]",
      "text/plain": [
       "<Figure size 432x288 with 1 Axes>"
      ]
     },
     "metadata": {
      "needs_background": "light"
     },
     "output_type": "display_data"
    }
   ],
   "source": [
    "# Histogramm Alter\n",
    "plt.hist(age_df, bins = 100, density=True)\n",
    "plt.title('Alter')\n",
    "plt.show()\n",
    "\n",
    "# Histogramm Nc_score\n",
    "plt.hist(nc_score_df, bins = 100, density=True)\n",
    "plt.title('Nc_score')\n",
    "plt.show()\n",
    "\n",
    "# Histogramm Größe\n",
    "plt.hist(height_df, bins = 100, density=True)\n",
    "plt.title('Größe')\n",
    "plt.show()\n",
    "\n",
    "# Histogramm Gewicht\n",
    "plt.hist(weight_df, bins = 100, density=True)\n",
    "plt.title('Gewicht')\n",
    "plt.show()\n",
    "\n",
    "# Histogramm score1\n",
    "plt.hist(score1_df, bins = 100, density=True)\n",
    "plt.title('score1')\n",
    "plt.show()\n",
    "\n",
    "# Histogramm Gehalt\n",
    "plt.hist(salary_df, bins = 100, density=True)\n",
    "plt.title('Gehalt')\n",
    "plt.show()\n",
    "\n"
   ]
  },
  {
   "cell_type": "markdown",
   "id": "7f7abbdf-8fe5-4c35-8e7e-47e4f529df72",
   "metadata": {},
   "source": [
    "Wir stellen sofort fest, dass einige Variablen positiv verzerrt sind, also schließen wir sie aus und behalten diejenigen, die normal verteilt zu sein scheinen."
   ]
  },
  {
   "cell_type": "code",
   "execution_count": null,
   "id": "ffe0105e-01c5-4781-9e77-8a3f135c1a2b",
   "metadata": {},
   "outputs": [],
   "source": []
  },
  {
   "cell_type": "code",
   "execution_count": 22,
   "id": "66a039f2-af5a-4091-96fc-fda243242ab9",
   "metadata": {},
   "outputs": [
    {
     "data": {
      "image/png": "[encoded data removed]",
      "text/plain": [
       "<Figure size 432x288 with 1 Axes>"
      ]
     },
     "metadata": {
      "needs_background": "light"
     },
     "output_type": "display_data"
    }
   ],
   "source": [
    "# Histogramm Gehalt\n",
    "plt.hist(salary_df, bins = 100, density=True)\n",
    "plt.title('Gehalt')\n",
    "plt.show()"
   ]
  },
  {
   "cell_type": "code",
   "execution_count": 23,
   "id": "a3df8a7a-79b7-46f0-a1ee-944f57731900",
   "metadata": {},
   "outputs": [
    {
     "data": {
      "image/png": "[encoded data removed]",
      "text/plain": [
       "<Figure size 432x288 with 1 Axes>"
      ]
     },
     "metadata": {
      "needs_background": "light"
     },
     "output_type": "display_data"
    }
   ],
   "source": [
    "# Histogramm Größe\n",
    "plt.hist(height_df, bins = 100, density=True)\n",
    "plt.title('Größe')\n",
    "plt.show()"
   ]
  },
  {
   "cell_type": "markdown",
   "id": "b248fa45-1c89-49f6-9cd3-abe54fa446df",
   "metadata": {},
   "source": [
    "Nun, sowohl die Variable `height` als auch die Variable `salary` scheinen mehr oder weniger normalverteilt zu sein. Es ist also eine Frage des Geschmacks, welche Variable man für die weitere Analyse auswählt. Für den Moment bleiben wir bei der Gehaltsvariable und überprüfen, ob die drei oben genannten empirischen Regeln gültig sind. Wir wechseln zu Python und validieren diese Regeln, indem wir zunächst den Mittelwert und die Standardabweichungen berechnen. Bitte beachten Sie, dass die Gehaltsvariable leere Zellen enthält, die mit `NA` gekennzeichnet sind. Daher schließen wir zunächst alle `NA`-Werte aus, indem wir die Funktion `dropna()` anwenden."
   ]
  },
  {
   "cell_type": "code",
   "execution_count": 24,
   "id": "e671c7be-0136-4704-add8-1717c4635da6",
   "metadata": {},
   "outputs": [
    {
     "name": "stdout",
     "output_type": "stream",
     "text": [
      "1                NaN\n",
      "2                NaN\n",
      "3                NaN\n",
      "4                NaN\n",
      "5                NaN\n",
      "            ...     \n",
      "8235    36750.087135\n",
      "8236             NaN\n",
      "8237             NaN\n",
      "8238    40112.041834\n",
      "8239    45900.134459\n",
      "Name: salary, Length: 8239, dtype: float64\n"
     ]
    }
   ],
   "source": [
    "print(salary_df)"
   ]
  },
  {
   "cell_type": "code",
   "execution_count": 25,
   "id": "ce4833c9-0e6e-40a1-9436-e78cf89847fb",
   "metadata": {},
   "outputs": [],
   "source": [
    "salary_clean = salary_df.dropna()"
   ]
  },
  {
   "cell_type": "code",
   "execution_count": 26,
   "id": "acd5fc20-bbe9-4fc9-89aa-023a2a87ac4d",
   "metadata": {},
   "outputs": [
    {
     "name": "stdout",
     "output_type": "stream",
     "text": [
      "11      45254.108021\n",
      "13      40552.790243\n",
      "14      27007.030294\n",
      "17      33969.159268\n",
      "28      50617.641870\n",
      "            ...     \n",
      "8229    33259.703079\n",
      "8234    41028.241341\n",
      "8235    36750.087135\n",
      "8238    40112.041834\n",
      "8239    45900.134459\n",
      "Name: salary, Length: 1753, dtype: float64\n"
     ]
    }
   ],
   "source": [
    "print(salary_clean)"
   ]
  },
  {
   "cell_type": "code",
   "execution_count": 55,
   "id": "b80f7228-51d0-4582-972d-5b9454c2e683",
   "metadata": {},
   "outputs": [
    {
     "name": "stdout",
     "output_type": "stream",
     "text": [
      "Mittelwert des Gehalts : 42522.112364224806\n",
      "1 Standardabweichung des Gehalts : 10330.192211889283\n",
      "2 Standardabweichung des Gehalts : 20660.384423778567\n",
      "3 Standardabweichung des Gehalts : 30990.57663566785\n"
     ]
    }
   ],
   "source": [
    "salary_clean_list = salary_clean.tolist()\n",
    "salary_clean_list_std = np.std(salary_clean_list)\n",
    "salary_clean_list_mean = np.mean(salary_clean_list)\n",
    "print('Mittelwert des Gehalts :',np.mean(salary_clean_list))\n",
    "print('1 Standardabweichung des Gehalts :',salary_clean_list_std)\n",
    "print('2 Standardabweichung des Gehalts :',2*salary_clean_list_std)\n",
    "print('3 Standardabweichung des Gehalts :',3*salary_clean_list_std)"
   ]
  },
  {
   "cell_type": "markdown",
   "id": "cb88bfcf-072e-4aab-87a1-eb65184dc7b1",
   "metadata": {},
   "source": [
    "Wie in der obigen allgemeinen Beispielform zählen wir die Anzahl der Werte, die größer als $+1$ s.d. bzw. kleiner als $-1$ s.d. und $+2$ s.d. bzw. $-2$ s.d. und $+3$ s.d. bzw. $-3$ s.d. sind, und setzen sie in Beziehung zur Länge des Vektors, in unserem Fall $1753$."
   ]
  },
  {
   "cell_type": "code",
   "execution_count": 60,
   "id": "4a7ddc59-2a8b-43a5-837f-8182bcdde8e0",
   "metadata": {},
   "outputs": [
    {
     "name": "stdout",
     "output_type": "stream",
     "text": [
      "1te Standardabweichung :  67.08499714774672\n",
      "2te Standardabweichung :  95.55048488305762\n",
      "3te Standardabweichung :  99.7718197375927\n"
     ]
    }
   ],
   "source": [
    "# Initialisiere Variable lower, higher\n",
    "lower = 0\n",
    "higher = 0\n",
    "\n",
    "# Konvertiere pandas obj in Liste\n",
    "salary_clean_list = salary_clean.tolist()\n",
    "\n",
    "# Sortiere y_norm aufsteigend\n",
    "salary_clean_list.sort()\n",
    "\n",
    "# Erzeuge for - Schleife um Zahlen im Bereich 1,2,3 Standardabweichungen um den Mittelwert abzuzählen\n",
    "\n",
    "# 1te Standardabweichung\n",
    "\n",
    "for i in range(len(salary_clean_list)) :\n",
    "    if salary_clean_list[i] < salary_clean_list_mean-salary_clean_std :\n",
    "        lower += 1\n",
    "        \n",
    "for i in range(len(salary_clean_list)) :\n",
    "    if salary_clean_list[i] < salary_clean_list_mean+salary_clean_std :\n",
    "        higher += 1\n",
    "\n",
    "salary_exp_std = ((higher - lower)*100)/len(salary_clean_list)\n",
    "print('1te Standardabweichung : ',salary_exp_std)\n",
    "\n",
    "# 2te Standardabweichung\n",
    "\n",
    "# Initialisiere Variable lower, higher\n",
    "lower = 0\n",
    "higher = 0\n",
    "\n",
    "for i in range(len(salary_clean_list)) :\n",
    "    if salary_clean_list[i] < salary_clean_list_mean-2*salary_clean_std :\n",
    "        lower += 1\n",
    "        \n",
    "for i in range(len(salary_clean_list)) :\n",
    "    if salary_clean_list[i] < salary_clean_list_mean+2*salary_clean_std :\n",
    "        higher += 1\n",
    "\n",
    "salary_exp_std2 = ((higher - lower)*100)/len(salary_clean_list)\n",
    "print('2te Standardabweichung : ',salary_exp_std2)\n",
    "\n",
    "# 3te Standardabweichung\n",
    "\n",
    "# Initialisiere Variable lower, higher\n",
    "lower = 0\n",
    "higher = 0\n",
    "\n",
    "for i in range(len(salary_clean_list)) :\n",
    "    if salary_clean_list[i] < salary_clean_list_mean-3*salary_clean_std :\n",
    "        lower += 1\n",
    "        \n",
    "for i in range(len(salary_clean_list)) :\n",
    "    if salary_clean_list[i] < salary_clean_list_mean+3*salary_clean_std :\n",
    "        higher += 1\n",
    "\n",
    "salary_exp_std3 = ((higher - lower)*100)/len(salary_clean_list)\n",
    "print('3te Standardabweichung : ',salary_exp_std3)"
   ]
  },
  {
   "cell_type": "markdown",
   "id": "1f38d95c-250b-4cf1-80ee-a500574620e3",
   "metadata": {},
   "source": [
    "Wow, ziemlich nah dran! Offensichtlich zeigt die Gehaltsvariable eine starke Tendenz zur Unterstützung der so genannten empirischen Regel. Wir stellen das Histogramm für die Variable `salary` dar, um unseren Eindruck zu bestätigen. Für einen besseren visuellen Eindruck färben wir die Standardabweichungen ein. Es gibt mehrere Möglichkeiten, eine bestimmte Farbe in Python auszuwählen In diesem Codebeispiel verwenden wir den Farbnamen \"white\" (geben Sie `colors()` in Ihre Konsole ein, um eine vollständige Liste der Farben zu sehen) und kombinieren ihn mit den Zahlen 2, 3, 4, einer Abkürzung für die Bewertung der Farben der Standardfarbpalette (geben Sie `palette()` in Ihre Konsole ein, um die Liste der Farben der Standardfarbpalette zu sehen)."
   ]
  },
  {
   "cell_type": "code",
   "execution_count": 62,
   "id": "072116eb-b374-406b-949a-e36fb3cb6d7c",
   "metadata": {},
   "outputs": [
    {
     "data": {
      "image/png": "[encoded data removed]",
      "text/plain": [
       "<Figure size 432x288 with 1 Axes>"
      ]
     },
     "metadata": {
      "needs_background": "light"
     },
     "output_type": "display_data"
    }
   ],
   "source": [
    "# Histogramm Gehalt\n",
    "plt.hist(salary_clean_list, bins = 100, density=True)\n",
    "plt.title('Gehalt')\n",
    "plt.show()"
   ]
  },
  {
   "cell_type": "markdown",
   "id": "a7880133-ff0a-430a-a102-6491a12bd49d",
   "metadata": {},
   "source": [
    "Wir können nun unseren Visualisierungsansatz erweitern, indem wir die **empirische Dichteschätzung** mit der Funktion `density()` grafisch darstellen und ihre Form überprüfen. Wir stellen die empirische Dichteschätzung als gestrichelte Linie dar, indem wir das <a href=\"http://www.cookbook-r.com/Graphs/Shapes_and_line_types/\">(Linientyp-Argument)</a> `lty = 2` und eine Linienbreite von 3 (Argument `lwd = 3`) setzen."
   ]
  },
  {
   "cell_type": "code",
   "execution_count": 74,
   "id": "97188bbf-375c-4d4a-a1ec-8495f9d8ba16",
   "metadata": {},
   "outputs": [
    {
     "data": {
      "image/png": "[encoded data removed]",
      "text/plain": [
       "<Figure size 432x288 with 1 Axes>"
      ]
     },
     "metadata": {
      "needs_background": "light"
     },
     "output_type": "display_data"
    }
   ],
   "source": [
    "# Erzeuge Distribution\n",
    "dist = norm(salary_clean_list_mean, salary_clean_list_std)\n",
    "\n",
    "# Erzeuge Fit für salary_clean_list\n",
    "values = [value for value in range(10000, 90000)]\n",
    "probabilities = [dist.pdf(value) for value in values]\n",
    "\n",
    "# Plotte das Histogramm und Pdf\n",
    "pyplot.hist(salary_clean_list, bins=100, density=True)\n",
    "pyplot.plot(values, probabilities)\n",
    "pyplot.show()"
   ]
  },
  {
   "cell_type": "markdown",
   "id": "fe3525e0-d20f-48d0-adfe-f945ed19d167",
   "metadata": {},
   "source": [
    "Schließlich vergleichen wir unsere **empirische Dichteschätzung** mit der theoretischen **Wahrscheinlichkeitsdichtefunktion**, die auf dem tatsächlichen Mittelwert und der Standardabweichung der Daten `salary` basiert. Für einen besseren visuellen Vergleich wechseln wir zurück zu einer nicht eingefärbten Histogramm-Darstellung."
   ]
  },
  {
   "cell_type": "code",
   "execution_count": 88,
   "id": "ac309820-541c-42e7-8fb1-042107a4a772",
   "metadata": {},
   "outputs": [
    {
     "data": {
      "image/png": "[encoded data removed]",
      "text/plain": [
       "<Figure size 432x288 with 1 Axes>"
      ]
     },
     "metadata": {
      "needs_background": "light"
     },
     "output_type": "display_data"
    }
   ],
   "source": [
    "# Erzeuge Distribution\n",
    "dist = norm(salary_clean_list_mean, salary_clean_list_std)\n",
    "\n",
    "# Erzeuge Fit für salary_clean_list\n",
    "scipy_kernel = gaussian_kde(salary_clean_list)\n",
    "v = scipy_kernel.evaluate(x_salary)\n",
    "\n",
    "# Erzeuge Normalverteilung\n",
    "x_salary = np.linspace(10000,90000,100)\n",
    "pdf_result = stats.norm.pdf(x_salary,loc=salary_clean_list_mean,scale=salary_clean_std)\n",
    "\n",
    "#plt.plot(x_salary,pdf_result)\n",
    "\n",
    "# Plotte das Histogramm, Normalverteilung und Pdf\n",
    "plt.hist(salary_clean_list, bins=100, density=True)\n",
    "plt.plot(x_salary,v,'k')\n",
    "plt.plot(x_salary,pdf_result)\n",
    "plt.show()"
   ]
  },
  {
   "cell_type": "markdown",
   "id": "26466854-b990-498c-aec4-0caec1477832",
   "metadata": {},
   "source": [
    "Wir können daraus schließen, dass `salary` im Datensatz der `students` ungefähr normalverteilt ist. Die Grafik zeigt jedoch, dass die Verteilung der Gehaltsvariablen leicht nach links geneigt ist. Dies ist an der geringen Abweichung zwischen der **empirischen Dichteschätzung** und der **Wahrscheinlichkeitsdichtefunktion** zu erkennen."
   ]
  }
 ],
 "metadata": {
  "kernelspec": {
   "display_name": "Python 3 (ipykernel)",
   "language": "python",
   "name": "python3"
  },
  "language_info": {
   "codemirror_mode": {
    "name": "ipython",
    "version": 3
   },
   "file_extension": ".py",
   "mimetype": "text/x-python",
   "name": "python",
   "nbconvert_exporter": "python",
   "pygments_lexer": "ipython3",
   "version": "3.10.2"
  }
 },
 "nbformat": 4,
 "nbformat_minor": 5
}
