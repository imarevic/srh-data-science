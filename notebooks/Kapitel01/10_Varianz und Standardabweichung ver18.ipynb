{
 "cells": [
  {
   "cell_type": "markdown",
   "id": "ed4553d3-e36e-4dd3-9784-bef4844b4edb",
   "metadata": {},
   "source": [
    "## Varianz und Standardabweichung\n",
    "----------------------------------------"
   ]
  },
  {
   "cell_type": "code",
   "execution_count": 37,
   "id": "84ba64a8-223f-4d40-9c2c-d50a889971e5",
   "metadata": {},
   "outputs": [],
   "source": [
    "import matplotlib.pyplot as plt\n",
    "import numpy as np\n",
    "import pandas as pd\n",
    "from random import sample\n",
    "import random\n",
    "#import scipy\n",
    "from scipy import stats\n",
    "from scipy.stats import norm,gaussian_kde\n",
    "#import ipywidgets as widgets\n",
    "#from IPython.display import display\n",
    "#import seaborn as sns\n",
    "\n",
    "#%run ../src/notebook_env.py"
   ]
  },
  {
   "cell_type": "markdown",
   "id": "29317371-c299-4afb-ac57-0f6842d1aeb7",
   "metadata": {
    "tags": []
   },
   "source": [
    "Die **Varianz** ist die Summe der quadrierten Abweichungen vom Mittelwert. Die Varianz für Populationsdaten wird mit $\\sigma^2$ bezeichnet (gelesen als Sigma-Quadrat), und die für Stichprobendaten berechnete Varianz wird mit $s^2$ bezeichnet. <br> <br> $$ \\sigma^2 = \\frac{\\sum_{i=1}^n (x_i - \\mu)^2}{N} $$  <br> <br> und  <br> <br> $$ s^2 = \\frac{\\sum_{i=1}^n (x_i - \\bar{x})^2}{n-1} $$ <br> <br> wobei $\\sigma^2$ die Varianz der Grundgesamtheit und $s^2$ die Stichprobenvarianz ist. Die Größe $x_i-\\mu$ oder $x_i-\\bar{x}$ in den obigen Formeln wird als die Abweichung des $x_i$-Wertes $(x_1,x_2, \\dots ,x_n)$ vom Mittelwert bezeichnet (Mann 2012). <br> <br> Die <a href=\"https://en.wikipedia.org/wiki/Standard_deviation\">Standardabweichung</a> ist das gebräuchlichste Maß für die Streuung. Der Wert der Standardabweichung gibt an, wie eng die Werte eines Datensatzes um den Mittelwert herum gestreut sind. Im Allgemeinen zeigt ein niedriger Wert der Standardabweichung für einen Datensatz an, dass die Werte dieses Datensatzes über einen relativ kleineren Bereich um den Mittelwert herum verteilt sind. Im Gegensatz dazu zeigt ein größerer Wert der Standardabweichung für einen Datensatz an, dass die Werte dieses Datensatzes über einen relativ größeren Bereich um den Mittelwert herum gestreut sind (Mann 2012). <br> <br> \n",
    "![Alt-Text](standarddev.png) <br> <br>"
   ]
  },
  {
   "cell_type": "markdown",
   "id": "4d3d0efe-0326-4631-9c18-0f520c84ddce",
   "metadata": {},
   "source": [
    "Die Standardabweichung erhält man durch Ziehen der Quadratwurzel aus der **Varianz**. Folglich wird die für Grundgesamtheitsdaten berechnete Standardabweichung mit $\\sigma$ und die für Stichprobendaten berechnete Standardabweichung mit $s$ bezeichnet. <br> <br> $$ \\sigma = \\sqrt{\\frac{\\sum_{i=1}^n (x_i - \\mu)^2}{N}} $$ <br> <br> und <br> <br> $$ s = \\sqrt{\\frac{\\sum_{i=1}^n (x_i - \\bar{x})^2}{n-1}} $$ <br> <br> wobei $\\sigma$ die Standardabweichung der Grundgesamtheit und $s$ die Standardabweichung der Stichprobe ist. <br> <br> <br> <br> Als Übung berechnen wir für einige numerische Variablen, die im `students_quant`-Datensatz von Interesse sind, den Mittelwert, den Median, die Varianz und die Standardabweichung und stellen sie in einem schönen Format dar."
   ]
  },
  {
   "cell_type": "code",
   "execution_count": 10,
   "id": "9834ed37-3a5d-49d7-9bc1-4b26d50bc731",
   "metadata": {},
   "outputs": [
    {
     "data": {
      "text/html": [
       "<div>\n",
       "<style scoped>\n",
       "    .dataframe tbody tr th:only-of-type {\n",
       "        vertical-align: middle;\n",
       "    }\n",
       "\n",
       "    .dataframe tbody tr th {\n",
       "        vertical-align: top;\n",
       "    }\n",
       "\n",
       "    .dataframe thead th {\n",
       "        text-align: right;\n",
       "    }\n",
       "</style>\n",
       "<table border=\"1\" class=\"dataframe\">\n",
       "  <thead>\n",
       "    <tr style=\"text-align: right;\">\n",
       "      <th></th>\n",
       "      <th>name</th>\n",
       "      <th>age</th>\n",
       "      <th>height</th>\n",
       "      <th>weight</th>\n",
       "      <th>nc.score</th>\n",
       "    </tr>\n",
       "  </thead>\n",
       "  <tbody>\n",
       "    <tr>\n",
       "      <th>1</th>\n",
       "      <td>Gonzales, Christina</td>\n",
       "      <td>19</td>\n",
       "      <td>160</td>\n",
       "      <td>64.8</td>\n",
       "      <td>1.91</td>\n",
       "    </tr>\n",
       "    <tr>\n",
       "      <th>2</th>\n",
       "      <td>Lozano, T'Hani</td>\n",
       "      <td>19</td>\n",
       "      <td>172</td>\n",
       "      <td>73.0</td>\n",
       "      <td>1.56</td>\n",
       "    </tr>\n",
       "    <tr>\n",
       "      <th>3</th>\n",
       "      <td>Williams, Hanh</td>\n",
       "      <td>22</td>\n",
       "      <td>168</td>\n",
       "      <td>70.6</td>\n",
       "      <td>1.24</td>\n",
       "    </tr>\n",
       "    <tr>\n",
       "      <th>4</th>\n",
       "      <td>Nem, Denzel</td>\n",
       "      <td>19</td>\n",
       "      <td>183</td>\n",
       "      <td>79.7</td>\n",
       "      <td>1.37</td>\n",
       "    </tr>\n",
       "    <tr>\n",
       "      <th>5</th>\n",
       "      <td>Powell, Heather</td>\n",
       "      <td>21</td>\n",
       "      <td>175</td>\n",
       "      <td>71.4</td>\n",
       "      <td>1.46</td>\n",
       "    </tr>\n",
       "    <tr>\n",
       "      <th>6</th>\n",
       "      <td>Perez, Jadrian</td>\n",
       "      <td>19</td>\n",
       "      <td>189</td>\n",
       "      <td>85.8</td>\n",
       "      <td>1.34</td>\n",
       "    </tr>\n",
       "    <tr>\n",
       "      <th>7</th>\n",
       "      <td>Clardy, Anita</td>\n",
       "      <td>21</td>\n",
       "      <td>156</td>\n",
       "      <td>65.9</td>\n",
       "      <td>1.11</td>\n",
       "    </tr>\n",
       "    <tr>\n",
       "      <th>8</th>\n",
       "      <td>Allen, Rebecca Marie</td>\n",
       "      <td>21</td>\n",
       "      <td>167</td>\n",
       "      <td>65.7</td>\n",
       "      <td>2.03</td>\n",
       "    </tr>\n",
       "    <tr>\n",
       "      <th>9</th>\n",
       "      <td>Tracy, Robert</td>\n",
       "      <td>18</td>\n",
       "      <td>195</td>\n",
       "      <td>94.4</td>\n",
       "      <td>1.29</td>\n",
       "    </tr>\n",
       "    <tr>\n",
       "      <th>10</th>\n",
       "      <td>Nimmons, Laura</td>\n",
       "      <td>18</td>\n",
       "      <td>165</td>\n",
       "      <td>66.0</td>\n",
       "      <td>1.19</td>\n",
       "    </tr>\n",
       "  </tbody>\n",
       "</table>\n",
       "</div>"
      ],
      "text/plain": [
       "                    name  age  height  weight  nc.score\n",
       "1    Gonzales, Christina   19     160    64.8      1.91\n",
       "2         Lozano, T'Hani   19     172    73.0      1.56\n",
       "3         Williams, Hanh   22     168    70.6      1.24\n",
       "4            Nem, Denzel   19     183    79.7      1.37\n",
       "5        Powell, Heather   21     175    71.4      1.46\n",
       "6         Perez, Jadrian   19     189    85.8      1.34\n",
       "7          Clardy, Anita   21     156    65.9      1.11\n",
       "8   Allen, Rebecca Marie   21     167    65.7      2.03\n",
       "9          Tracy, Robert   18     195    94.4      1.29\n",
       "10        Nimmons, Laura   18     165    66.0      1.19"
      ]
     },
     "execution_count": 10,
     "metadata": {},
     "output_type": "execute_result"
    }
   ],
   "source": [
    "# Lese Datei students.csv als Dataframe ein; Indexspalte wird übersprungen; nur name, age, nc.score, height und weight Spalten werden ausgewählt\n",
    "students = pd.read_csv('students.csv', index_col=0,usecols=['name','age',\n",
    "                                                            'nc.score','height','weight'])\n",
    "\n",
    "# Gebe ersten 10 Werte aus \n",
    "students.head(10)"
   ]
  },
  {
   "cell_type": "code",
   "execution_count": 11,
   "id": "f58fec00-9999-4019-bfde-e67ead04a3c9",
   "metadata": {
    "tags": []
   },
   "outputs": [
    {
     "name": "stdout",
     "output_type": "stream",
     "text": [
      "Mittelwerte :\n"
     ]
    },
    {
     "data": {
      "text/plain": [
       "age          22.541571\n",
       "height      171.380750\n",
       "weight       72.998131\n",
       "nc.score      2.166481\n",
       "dtype: float64"
      ]
     },
     "execution_count": 11,
     "metadata": {},
     "output_type": "execute_result"
    }
   ],
   "source": [
    "print('Mittelwerte :')\n",
    "students_mean = students.mean(numeric_only=True)\n",
    "students_mean"
   ]
  },
  {
   "cell_type": "code",
   "execution_count": 12,
   "id": "a81ee914-2710-4026-8970-2772aa9b7a6c",
   "metadata": {},
   "outputs": [
    {
     "name": "stdout",
     "output_type": "stream",
     "text": [
      "Median :\n"
     ]
    },
    {
     "data": {
      "text/plain": [
       "age          21.00\n",
       "height      171.00\n",
       "weight       71.80\n",
       "nc.score      2.04\n",
       "dtype: float64"
      ]
     },
     "execution_count": 12,
     "metadata": {},
     "output_type": "execute_result"
    }
   ],
   "source": [
    "print('Median :')\n",
    "students_median = students.median(numeric_only=True)#\n",
    "students_median"
   ]
  },
  {
   "cell_type": "code",
   "execution_count": 13,
   "id": "547a5e00-4c7b-4643-a2b3-c322e2ad982d",
   "metadata": {},
   "outputs": [
    {
     "name": "stdout",
     "output_type": "stream",
     "text": [
      "Varianz :\n"
     ]
    },
    {
     "data": {
      "text/plain": [
       "age          36.785568\n",
       "height      122.711652\n",
       "weight       74.566017\n",
       "nc.score      0.658610\n",
       "dtype: float64"
      ]
     },
     "execution_count": 13,
     "metadata": {},
     "output_type": "execute_result"
    }
   ],
   "source": [
    "print('Varianz :')\n",
    "students_var = students.var(numeric_only=True)\n",
    "students_var"
   ]
  },
  {
   "cell_type": "code",
   "execution_count": 14,
   "id": "be5f43e3-bef4-4be4-bf4a-5972b0dd062b",
   "metadata": {},
   "outputs": [
    {
     "name": "stdout",
     "output_type": "stream",
     "text": [
      "Standardabweichung :\n"
     ]
    },
    {
     "data": {
      "text/plain": [
       "age          6.065111\n",
       "height      11.077529\n",
       "weight       8.635162\n",
       "nc.score     0.811548\n",
       "dtype: float64"
      ]
     },
     "execution_count": 14,
     "metadata": {},
     "output_type": "execute_result"
    }
   ],
   "source": [
    "print('Standardabweichung :')\n",
    "students_std = students.std(numeric_only=True)\n",
    "students_std"
   ]
  },
  {
   "cell_type": "code",
   "execution_count": 15,
   "id": "cf669a4c-c37b-407a-9e51-c93adc9a9d80",
   "metadata": {},
   "outputs": [
    {
     "data": {
      "text/html": [
       "<div>\n",
       "<style scoped>\n",
       "    .dataframe tbody tr th:only-of-type {\n",
       "        vertical-align: middle;\n",
       "    }\n",
       "\n",
       "    .dataframe tbody tr th {\n",
       "        vertical-align: top;\n",
       "    }\n",
       "\n",
       "    .dataframe thead th {\n",
       "        text-align: right;\n",
       "    }\n",
       "</style>\n",
       "<table border=\"1\" class=\"dataframe\">\n",
       "  <thead>\n",
       "    <tr style=\"text-align: right;\">\n",
       "      <th></th>\n",
       "      <th>Mittelwerte</th>\n",
       "      <th>Median</th>\n",
       "      <th>Varianz</th>\n",
       "      <th>Standardabweichung</th>\n",
       "    </tr>\n",
       "  </thead>\n",
       "  <tbody>\n",
       "    <tr>\n",
       "      <th>age</th>\n",
       "      <td>22.541571</td>\n",
       "      <td>21.00</td>\n",
       "      <td>36.785568</td>\n",
       "      <td>6.065111</td>\n",
       "    </tr>\n",
       "    <tr>\n",
       "      <th>height</th>\n",
       "      <td>171.380750</td>\n",
       "      <td>171.00</td>\n",
       "      <td>122.711652</td>\n",
       "      <td>11.077529</td>\n",
       "    </tr>\n",
       "    <tr>\n",
       "      <th>weight</th>\n",
       "      <td>72.998131</td>\n",
       "      <td>71.80</td>\n",
       "      <td>74.566017</td>\n",
       "      <td>8.635162</td>\n",
       "    </tr>\n",
       "    <tr>\n",
       "      <th>nc.score</th>\n",
       "      <td>2.166481</td>\n",
       "      <td>2.04</td>\n",
       "      <td>0.658610</td>\n",
       "      <td>0.811548</td>\n",
       "    </tr>\n",
       "  </tbody>\n",
       "</table>\n",
       "</div>"
      ],
      "text/plain": [
       "          Mittelwerte  Median     Varianz  Standardabweichung\n",
       "age         22.541571   21.00   36.785568            6.065111\n",
       "height     171.380750  171.00  122.711652           11.077529\n",
       "weight      72.998131   71.80   74.566017            8.635162\n",
       "nc.score     2.166481    2.04    0.658610            0.811548"
      ]
     },
     "execution_count": 15,
     "metadata": {},
     "output_type": "execute_result"
    }
   ],
   "source": [
    "students_stats = pd.DataFrame({'Mittelwerte':students_mean,'Median':students_median,'Varianz':students_var,'Standardabweichung':students_std})\n",
    "students_stats"
   ]
  },
  {
   "cell_type": "markdown",
   "id": "f7c52da7-2c64-4d04-82be-f4900e13d3ea",
   "metadata": {},
   "source": [
    "### Verwendung der Standardabweichung\n",
    "Mit Hilfe des **Mittelwerts** und der **Standardabweichung** lässt sich der Anteil oder Prozentsatz der Gesamtbeobachtungen ermitteln, die in ein bestimmtes Intervall um den Mittelwert fallen."
   ]
  },
  {
   "cell_type": "markdown",
   "id": "e86ba5a2-d8a0-4696-bf5f-716dee85ce73",
   "metadata": {},
   "source": [
    "#### Tschebyscheff-Theorem\n",
    "Das <a href=\"https://en.wikipedia.org/wiki/Chebyshev%27s_inequality\">Tschebyscheff-Theorem</a> gibt eine untere Schranke für die Fläche unter einer Kurve zwischen zwei Punkten, die auf gegenüberliegenden Seiten des Mittelwerts und im gleichen Abstand vom Mittelwert liegen."
   ]
  },
  {
   "cell_type": "markdown",
   "id": "c812119b-b6d9-4b33-a848-30d6ea87f50c",
   "metadata": {},
   "source": [
    "#### Für jede Zahl $k$, die größer als $1$ ist, liegen mindestens $1-\\frac{1}{k^2}$ der Datenwerte innerhalb von $k$ Standardabweichungen vom Mittelwert."
   ]
  },
  {
   "cell_type": "markdown",
   "id": "ec3c046e-9dfe-45b5-aa20-41dabb004dd3",
   "metadata": {},
   "source": [
    "Lassen Sie uns Python verwenden, um ein Gefühl für den Tschebyscheff-Satz zu bekommen."
   ]
  },
  {
   "cell_type": "code",
   "execution_count": 16,
   "id": "b758b5f7-9c64-4381-9f93-019dd42ba52b",
   "metadata": {},
   "outputs": [
    {
     "data": {
      "text/html": [
       "<div>\n",
       "<style scoped>\n",
       "    .dataframe tbody tr th:only-of-type {\n",
       "        vertical-align: middle;\n",
       "    }\n",
       "\n",
       "    .dataframe tbody tr th {\n",
       "        vertical-align: top;\n",
       "    }\n",
       "\n",
       "    .dataframe thead th {\n",
       "        text-align: right;\n",
       "    }\n",
       "</style>\n",
       "<table border=\"1\" class=\"dataframe\">\n",
       "  <thead>\n",
       "    <tr style=\"text-align: right;\">\n",
       "      <th></th>\n",
       "      <th>x</th>\n",
       "      <th>k</th>\n",
       "    </tr>\n",
       "  </thead>\n",
       "  <tbody>\n",
       "    <tr>\n",
       "      <th>0</th>\n",
       "      <td>1.0</td>\n",
       "      <td>0.000000</td>\n",
       "    </tr>\n",
       "    <tr>\n",
       "      <th>1</th>\n",
       "      <td>1.1</td>\n",
       "      <td>17.355372</td>\n",
       "    </tr>\n",
       "    <tr>\n",
       "      <th>2</th>\n",
       "      <td>1.2</td>\n",
       "      <td>30.555556</td>\n",
       "    </tr>\n",
       "    <tr>\n",
       "      <th>3</th>\n",
       "      <td>1.3</td>\n",
       "      <td>40.828402</td>\n",
       "    </tr>\n",
       "    <tr>\n",
       "      <th>4</th>\n",
       "      <td>1.4</td>\n",
       "      <td>48.979592</td>\n",
       "    </tr>\n",
       "    <tr>\n",
       "      <th>5</th>\n",
       "      <td>1.5</td>\n",
       "      <td>55.555556</td>\n",
       "    </tr>\n",
       "    <tr>\n",
       "      <th>6</th>\n",
       "      <td>1.6</td>\n",
       "      <td>60.937500</td>\n",
       "    </tr>\n",
       "    <tr>\n",
       "      <th>7</th>\n",
       "      <td>1.7</td>\n",
       "      <td>65.397924</td>\n",
       "    </tr>\n",
       "    <tr>\n",
       "      <th>8</th>\n",
       "      <td>1.8</td>\n",
       "      <td>69.135802</td>\n",
       "    </tr>\n",
       "    <tr>\n",
       "      <th>9</th>\n",
       "      <td>1.9</td>\n",
       "      <td>72.299169</td>\n",
       "    </tr>\n",
       "    <tr>\n",
       "      <th>10</th>\n",
       "      <td>2.0</td>\n",
       "      <td>75.000000</td>\n",
       "    </tr>\n",
       "    <tr>\n",
       "      <th>11</th>\n",
       "      <td>2.1</td>\n",
       "      <td>77.324263</td>\n",
       "    </tr>\n",
       "    <tr>\n",
       "      <th>12</th>\n",
       "      <td>2.2</td>\n",
       "      <td>79.338843</td>\n",
       "    </tr>\n",
       "    <tr>\n",
       "      <th>13</th>\n",
       "      <td>2.3</td>\n",
       "      <td>81.096408</td>\n",
       "    </tr>\n",
       "    <tr>\n",
       "      <th>14</th>\n",
       "      <td>2.4</td>\n",
       "      <td>82.638889</td>\n",
       "    </tr>\n",
       "    <tr>\n",
       "      <th>15</th>\n",
       "      <td>2.5</td>\n",
       "      <td>84.000000</td>\n",
       "    </tr>\n",
       "    <tr>\n",
       "      <th>16</th>\n",
       "      <td>2.6</td>\n",
       "      <td>85.207101</td>\n",
       "    </tr>\n",
       "    <tr>\n",
       "      <th>17</th>\n",
       "      <td>2.7</td>\n",
       "      <td>86.282579</td>\n",
       "    </tr>\n",
       "    <tr>\n",
       "      <th>18</th>\n",
       "      <td>2.8</td>\n",
       "      <td>87.244898</td>\n",
       "    </tr>\n",
       "    <tr>\n",
       "      <th>19</th>\n",
       "      <td>2.9</td>\n",
       "      <td>88.109394</td>\n",
       "    </tr>\n",
       "    <tr>\n",
       "      <th>20</th>\n",
       "      <td>3.0</td>\n",
       "      <td>88.888889</td>\n",
       "    </tr>\n",
       "    <tr>\n",
       "      <th>21</th>\n",
       "      <td>3.1</td>\n",
       "      <td>89.594173</td>\n",
       "    </tr>\n",
       "    <tr>\n",
       "      <th>22</th>\n",
       "      <td>3.2</td>\n",
       "      <td>90.234375</td>\n",
       "    </tr>\n",
       "    <tr>\n",
       "      <th>23</th>\n",
       "      <td>3.3</td>\n",
       "      <td>90.817264</td>\n",
       "    </tr>\n",
       "    <tr>\n",
       "      <th>24</th>\n",
       "      <td>3.4</td>\n",
       "      <td>91.349481</td>\n",
       "    </tr>\n",
       "    <tr>\n",
       "      <th>25</th>\n",
       "      <td>3.5</td>\n",
       "      <td>91.836735</td>\n",
       "    </tr>\n",
       "    <tr>\n",
       "      <th>26</th>\n",
       "      <td>3.6</td>\n",
       "      <td>92.283951</td>\n",
       "    </tr>\n",
       "    <tr>\n",
       "      <th>27</th>\n",
       "      <td>3.7</td>\n",
       "      <td>92.695398</td>\n",
       "    </tr>\n",
       "    <tr>\n",
       "      <th>28</th>\n",
       "      <td>3.8</td>\n",
       "      <td>93.074792</td>\n",
       "    </tr>\n",
       "    <tr>\n",
       "      <th>29</th>\n",
       "      <td>3.9</td>\n",
       "      <td>93.425378</td>\n",
       "    </tr>\n",
       "    <tr>\n",
       "      <th>30</th>\n",
       "      <td>4.0</td>\n",
       "      <td>93.750000</td>\n",
       "    </tr>\n",
       "  </tbody>\n",
       "</table>\n",
       "</div>"
      ],
      "text/plain": [
       "      x          k\n",
       "0   1.0   0.000000\n",
       "1   1.1  17.355372\n",
       "2   1.2  30.555556\n",
       "3   1.3  40.828402\n",
       "4   1.4  48.979592\n",
       "5   1.5  55.555556\n",
       "6   1.6  60.937500\n",
       "7   1.7  65.397924\n",
       "8   1.8  69.135802\n",
       "9   1.9  72.299169\n",
       "10  2.0  75.000000\n",
       "11  2.1  77.324263\n",
       "12  2.2  79.338843\n",
       "13  2.3  81.096408\n",
       "14  2.4  82.638889\n",
       "15  2.5  84.000000\n",
       "16  2.6  85.207101\n",
       "17  2.7  86.282579\n",
       "18  2.8  87.244898\n",
       "19  2.9  88.109394\n",
       "20  3.0  88.888889\n",
       "21  3.1  89.594173\n",
       "22  3.2  90.234375\n",
       "23  3.3  90.817264\n",
       "24  3.4  91.349481\n",
       "25  3.5  91.836735\n",
       "26  3.6  92.283951\n",
       "27  3.7  92.695398\n",
       "28  3.8  93.074792\n",
       "29  3.9  93.425378\n",
       "30  4.0  93.750000"
      ]
     },
     "execution_count": 16,
     "metadata": {},
     "output_type": "execute_result"
    }
   ],
   "source": [
    "x=np.arange(1.0,4.1,0.1)\n",
    "x_werte=[]\n",
    "k_werte=[]\n",
    "for n in x:\n",
    "    x_werte.append((round(n,2)))\n",
    "    k_werte.append((1-1/(round(n,2))**2)*100)\n",
    "\n",
    "df4 = pd.DataFrame(list(zip(x_werte,k_werte)), columns = ['x','k'])\n",
    "df4"
   ]
  },
  {
   "cell_type": "markdown",
   "id": "9b6d855c-7a35-4d9f-a7ab-7664c09e9fac",
   "metadata": {},
   "source": [
    "Um es in Worte zu fassen: Für $k=2$ bedeutet das, dass mindestens **$75 \\% $** der Datenwerte innerhalb von **2 Standardabweichungen** vom Mittelwert liegen. <br> <br> Stellen wir das Tschebyscheff-Theorem mit Python dar: "
   ]
  },
  {
   "cell_type": "code",
   "execution_count": 17,
   "id": "5acf4a0b-7398-4972-aeba-d013230b3360",
   "metadata": {},
   "outputs": [
    {
     "data": {
      "image/png": "[encoded data removed]",
      "text/plain": [
       "<Figure size 432x288 with 1 Axes>"
      ]
     },
     "metadata": {
      "needs_background": "light"
     },
     "output_type": "display_data"
    }
   ],
   "source": [
    "# Label für die x,y-Achse vergeben:\n",
    "plt.title('Tschebyscheff-Theorem')\n",
    "plt.ylabel('Prozent')\n",
    "plt.xlabel('k')\n",
    "# Einen x-y-Plot erstellen:\n",
    "plt.plot(x_werte, k_werte, 'bo')\n",
    "\n",
    "# Achsen-Bereiche manuell festlegen\n",
    "# Syntax: plt.axis([xmin, xmax, ymin, ymax])\n",
    "plt.axis([0.8, 4.2, -5, 100])\n",
    "\n",
    "# Ein gepunktetes Diagramm-Gitter einblenden:\n",
    "plt.grid(True)\n",
    "\n",
    "# Diagramm anzeigen:\n",
    "plt.show()"
   ]
  },
  {
   "cell_type": "markdown",
   "id": "eafddacb-175d-4766-8d2d-8b582d990dc0",
   "metadata": {},
   "source": [
    "Das Theorem gilt sowohl für Stichproben- als auch für Grundgesamtheitsdaten. Das Tschebyscheffsche Theorem gilt für Verteilungen beliebiger Form. Es kann jedoch nur für $k > 1$ verwendet werden. Denn wenn $k=1$ ist, ist der Wert von $1-\\frac{1}{k^2}$ Null, und wenn $k < 1$ ist, ist der Wert von $1-\\frac{1}{k^2}$ negativ (Mann 2012). "
   ]
  },
  {
   "cell_type": "markdown",
   "id": "8df885ad-b765-4e9b-a8a7-8fb29a844134",
   "metadata": {},
   "source": [
    "#### Empirische Regel\n",
    "Während das Tschebyscheffsche Theorem auf jede Art von Verteilung anwendbar ist, gilt die **empirische Regel** nur für eine bestimmte Art von Verteilung, die so genannte **Gaußverteilung** oder **Normalverteilung**. Es gibt 3 Regeln: <br> <br> Bei einer Normalverteilung sind   \n",
    "\n",
    "1.  $68 \\%$ der Beobachtungen innerhalb einer Standardabweichung des Mittelwerts.\n",
    "2.  $95 \\%$ der Beobachtungen innerhalb von zwei Standardabweichungen des Mittelwerts.\n",
    "3.  $99,7 \\%$ der Beobachtungen innerhalb von drei Standardabweichungen des Mittelwerts.\n",
    "\n"
   ]
  },
  {
   "cell_type": "markdown",
   "id": "4be5b5a5-4cd7-43e9-aab1-1565ce820c24",
   "metadata": {},
   "source": [
    "Da wir inzwischen über genügend Hacking-Power verfügen, werden wir versuchen zu testen, ob die drei Regeln gültig sind. \n",
    "\n",
    "**(1) Erstens** werden wir die Funktion `random.normal()` in Python erforschen, um normalverteilte Daten zu erzeugen, und \n",
    "\n",
    "**(2) Zweitens** werden wir zu unserem `students` Datensatz zurückkehren und diese Regeln an diesem Datensatz zu validieren. \n",
    "<br> <br> Die Normalverteilung gehört zur Familie der <a href=\"https://en.wikipedia.org/wiki/Probability_distribution#Continuous_probability_distribution\">stetigen Verteilungen</a>. In Python gibt es eine Vielzahl von Wahrscheinlichkeitsverteilungen <a href=\"https://en.wikibooks.org/wiki/R_Programming/Probability_Distributions\">(hier)</a>. Um Daten aus einer Normalverteilung zu erzeugen, kann man die Funktion `random.normal()` verwenden, die ein Zufallsvariablengenerator für die Normalverteilung ist. <br> <br> Mit der Funktion `random.sample()` können wir `n` Werte aus einer Normalverteilung mit einem gegebenen Mittelwert (Standard ist 0) und einer Standardabweichung (Standard ist 1) entnehmen: `random.normal(loc=0.0, scale=1.0)`. Lassen Sie uns das ausprobieren:"
   ]
  },
  {
   "cell_type": "code",
   "execution_count": 18,
   "id": "732eaf35-871a-4117-9c21-bdb722b0899a",
   "metadata": {},
   "outputs": [
    {
     "data": {
      "text/plain": [
       "[-1.6123234429162412]"
      ]
     },
     "execution_count": 18,
     "metadata": {},
     "output_type": "execute_result"
    }
   ],
   "source": [
    "data = np.random.normal(loc=0.0, scale=1.0, size=200)\n",
    "data=list(data)\n",
    "probe = random.sample(data, 1)\n",
    "probe"
   ]
  },
  {
   "cell_type": "code",
   "execution_count": 19,
   "id": "f3d78db8-d66e-41ae-bb57-20da99197da9",
   "metadata": {},
   "outputs": [
    {
     "name": "stdout",
     "output_type": "stream",
     "text": [
      "[1.224420747850113]\n"
     ]
    }
   ],
   "source": [
    "probe = random.sample(data, 1)\n",
    "print(probe)"
   ]
  },
  {
   "cell_type": "code",
   "execution_count": 20,
   "id": "9e4af084-9840-490c-bb9a-817091a8be0d",
   "metadata": {},
   "outputs": [
    {
     "name": "stdout",
     "output_type": "stream",
     "text": [
      "[0.40267542831494535]\n"
     ]
    }
   ],
   "source": [
    "probe = random.sample(data, 1)\n",
    "print(probe)"
   ]
  },
  {
   "cell_type": "code",
   "execution_count": 21,
   "id": "bc1921b3-00e7-4c85-87df-5720169ce016",
   "metadata": {},
   "outputs": [
    {
     "name": "stdout",
     "output_type": "stream",
     "text": [
      "[0.17706274237628905]\n"
     ]
    }
   ],
   "source": [
    "probe = random.sample(data, 1)\n",
    "print(probe)"
   ]
  },
  {
   "cell_type": "markdown",
   "id": "a289f4cd-f99b-4198-864a-c1b65ce24618",
   "metadata": {},
   "source": [
    "Wir sehen, dass die Funktion `random.sample()` <a href=\"https://en.wikipedia.org/wiki/Pseudorandom_number_generator\">(Pseudo-)Zufallszahlen</a> liefert. Wir können die Funktion ziemlich einfach bitten, Hunderte oder Tausende oder noch mehr (Pseudo-)Zufallszahlen zu ziehen:"
   ]
  },
  {
   "cell_type": "code",
   "execution_count": 22,
   "id": "b733de98-fbc0-4f98-b18e-a034136676a8",
   "metadata": {},
   "outputs": [
    {
     "name": "stdout",
     "output_type": "stream",
     "text": [
      "[0.1844542107270887, 0.3257370217797091, -0.6507863949288677, 1.5714154393074637, 1.6329798111763107, 0.5105063484855111, 0.470336241689103, 0.26656393735471995, 0.9876366590542683, -1.7430730540093982]\n"
     ]
    }
   ],
   "source": [
    "probe = random.sample(data, 10)\n",
    "print(probe)"
   ]
  },
  {
   "cell_type": "code",
   "execution_count": 23,
   "id": "6ed078ca-f894-4ce0-8611-54bc7f0a41b7",
   "metadata": {},
   "outputs": [
    {
     "name": "stdout",
     "output_type": "stream",
     "text": [
      "[-1.4073788023379417, 1.3285263614382148, 1.2402195586897833, 0.9173264113379527, -0.715704924930613, 0.1680444669930124, 0.9840369458760276, -0.07610842357834371, 1.310819894588076, -2.300921962414157, -0.5907224691580767, 0.40230067679915227, -0.5962874162340589, 0.9876366590542683, -0.25431042263069487, 1.2225250364286153, 0.09402190454328946, -1.351303292977526, 0.47505844371081946, -0.06373895716339299, -0.6197410329211998, 0.6639063788988441, -1.134343293319908, 0.5780354039565591, 0.9933357835971145, -1.5622703413352446, 0.40267542831494535, 1.56637269363007, 0.041338646319746125, -1.8945720702750013, 0.8263938499999339, 0.9891378224865961, 0.19199084016960152, 2.6314574644542814, 0.4720570000448644, 0.321731137559557, 0.9322470140083344, 0.5553767373127554, -0.09592834254114259, -0.30044252323653453, -1.523053312138818, -0.042587379562111956, 0.04087550628677586, -0.5061551284483119, -1.8420770758513918, 1.6805544679853293, -0.3377216469081863, 0.174264995857927, -0.4308252942474826, -1.6493097193300172, 0.883338508034459, 0.19721723049693754, -0.7193361322914962, -1.3217340069367391, -1.0741007225785422, 1.13079884639942, 0.2188115791779007, 0.20530263568889282, 1.7122699198928153, -1.6123234429162412, -1.2648310965377143, -0.8472521780584449, 0.06382300449703007, -1.5691877152781109, 0.8422185882864242, -0.22200687962621665, 0.5042221471274071, -1.1778511781016505, 0.20201851164755197, 0.4340108191336523, -1.1716113138856756, 1.7919948073912002, -0.9068441277772847, -0.815808214896792, 1.6044757792112538, 1.181600088848172, 1.231882184711944, -1.4366637586059774, -0.4500350209824698, 1.0117300220994705, -0.6507863949288677, 0.7673734246386466, 1.2446332501584594, -1.1734579422125602, 1.3441684436111803, -0.44891378685914424, -0.36360749106302437, 1.8826522630797342, 0.31757755559930767, 0.17582012571801545, -0.3044975797161089, 0.4381083211054402, -0.131747268304168, -0.8841927017921399, 0.7255593560605881, 1.948955407895642, 0.3162399997002956, 0.9812435055813208, -0.6926643761124426, -0.7846326054020527]\n"
     ]
    }
   ],
   "source": [
    "probe = random.sample(data, 100)\n",
    "print(probe)"
   ]
  },
  {
   "cell_type": "code",
   "execution_count": 24,
   "id": "51a541af-200f-4627-9752-67b91d3e8321",
   "metadata": {},
   "outputs": [],
   "source": [
    "y_norm = np.random.normal(loc=0.0, scale=1.0, size=100000)"
   ]
  },
  {
   "cell_type": "markdown",
   "id": "ece30f11-008a-4d14-aee2-852d10f687de",
   "metadata": {},
   "source": [
    "Wenn wir ein Histogramm dieser Zahlen erstellen, sehen wir die namensgebende glockenförmige Verteilung."
   ]
  },
  {
   "cell_type": "code",
   "execution_count": 28,
   "id": "c81eae1c-dcc2-43f6-a00f-77aab49e0c01",
   "metadata": {},
   "outputs": [
    {
     "data": {
      "image/png": "[encoded data removed]",
      "text/plain": [
       "<Figure size 432x288 with 1 Axes>"
      ]
     },
     "metadata": {
      "needs_background": "light"
     },
     "output_type": "display_data"
    }
   ],
   "source": [
    "plt.hist(y_norm, bins = 100)\n",
    "plt.ylabel('Häufigkeit')\n",
    "plt.show()"
   ]
  },
  {
   "cell_type": "markdown",
   "id": "15d6344d-1057-4178-b809-75a6ac7a4cce",
   "metadata": {},
   "source": [
    "Wir kennen bereits den Mittelwert und die Standardabweichung der Werte in der `y_norm` Liste, da wir die Funktion `random.normal()` explizit mit `mean=0` und `sd=1` aufgerufen haben. Wir müssen also nur die Zahlen der `y_norm` Liste zählen, die größer als $-1$ bzw. kleiner als $1$ und $2$ bzw. $-2$ und $3$ bzw. $-3$ sind, und sie zur Länge der Liste, in unserem Fall $100.000$, in Beziehung setzen, um die drei oben genannten Regeln zu bestätigen."
   ]
  },
  {
   "cell_type": "code",
   "execution_count": 30,
   "id": "543d54b3-38ec-490f-9ba3-ca9eada2748e",
   "metadata": {},
   "outputs": [
    {
     "name": "stdout",
     "output_type": "stream",
     "text": [
      "sd1 : 67.938\n",
      "sd2 : 95.458\n",
      "sd3 : 99.741\n"
     ]
    }
   ],
   "source": [
    "# Berechne Anzahl der Werte < 1 - Anzahl der Werte <-1 durch Gesamtanzahl\n",
    "sd1 = ((sum(y_norm<1)-sum(y_norm<-1))*100)/len(y_norm)\n",
    "\n",
    "# Berechne Anzahl der Werte < 2 - Anzahl der Werte <-2 durch Gesamtanzahl\n",
    "sd2 = ((sum(y_norm<2)-sum(y_norm<-2))*100)/len(y_norm)\n",
    "\n",
    "# Berechne Anzahl der Werte < 3 - Anzahl der Werte <-3 durch Gesamtanzahl\n",
    "sd3 = ((sum(y_norm<3)-sum(y_norm<-3))*100)/len(y_norm)\n",
    "\n",
    "print('sd1 :',sd1)\n",
    "print('sd2 :',sd2)\n",
    "print('sd3 :',sd3)"
   ]
  },
  {
   "cell_type": "markdown",
   "id": "ddf7f920-9bf3-4629-939a-d6457bebc47b",
   "metadata": {},
   "source": [
    "Perfekte Übereinstimmung! Die drei empirischen Regeln sind offensichtlich gültig. Um unsere Ergebnisse zu veranschaulichen, stellen wir das Histogramm erneut dar und fügen einige Anmerkungen hinzu. Bitte beachten Sie, dass wir in der `hist()`-Funktion das Argument `density=True` setzen. Dies hat zur Folge, dass das resultierende Histogramm nicht mehr die Zählungen auf der y-Achse anzeigt, sondern die **Dichtewerte** (normalisierte Zählung geteilt durch Bin-Breite), was bedeutet, dass sich die Balkenbereiche zu 1 summieren."
   ]
  },
  {
   "cell_type": "code",
   "execution_count": 32,
   "id": "5b74d4bd-8e46-4e85-b074-4ed64bc697fc",
   "metadata": {},
   "outputs": [
    {
     "data": {
      "image/png": "[encoded data removed]",
      "text/plain": [
       "<Figure size 432x288 with 1 Axes>"
      ]
     },
     "metadata": {
      "needs_background": "light"
     },
     "output_type": "display_data"
    }
   ],
   "source": [
    "plt.hist(y_norm, bins = 100, density=True)\n",
    "#fig, ax = plt.subplots()\n",
    "\n",
    "plt.ylim(0,0.65)\n",
    "plt.axvline(1, color ='red', lw = 2, alpha = 0.75)\n",
    "plt.axvline(-1, color ='red', lw = 2, alpha = 0.75)\n",
    "plt.axvline(2, color ='green', lw = 2, alpha = 0.75)\n",
    "plt.axvline(-2, color ='green', lw = 2, alpha = 0.75)\n",
    "plt.axvline(3, color ='blue', lw = 2, alpha = 0.75)\n",
    "plt.axvline(-3, color ='blue', lw = 2, alpha = 0.75)\n",
    "plt.title('Normalverteilung')\n",
    "plt.ylabel('Dichte')\n",
    "plt.show()"
   ]
  },
  {
   "cell_type": "markdown",
   "id": "ea12494e-7571-4541-888f-5a07a619ba28",
   "metadata": {},
   "source": [
    "Nun, lassen Sie uns an der **zweiten** Aufgabe arbeiten: Überprüfen Sie die drei empirischen Regeln anhand des `students` Datensatzes. Dazu müssen wir überprüfen, ob eine der numerischen Variablen im Studentendatensatz  normalverteilt ist. Wir beginnen mit der Extraktion numerischer Variablen von Interesse aus dem `students` Datensatz. Dann zeichnen wir Histogramme und beurteilen, ob die Variable normalverteilt ist oder nicht. Zunächst überprüfen wir jedoch den Datensatz, indem wir die Funktion `head()` aufrufen."
   ]
  },
  {
   "cell_type": "code",
   "execution_count": 34,
   "id": "088b435f-9d6b-4a44-aab7-204a4d918c1c",
   "metadata": {},
   "outputs": [
    {
     "data": {
      "text/html": [
       "<div>\n",
       "<style scoped>\n",
       "    .dataframe tbody tr th:only-of-type {\n",
       "        vertical-align: middle;\n",
       "    }\n",
       "\n",
       "    .dataframe tbody tr th {\n",
       "        vertical-align: top;\n",
       "    }\n",
       "\n",
       "    .dataframe thead th {\n",
       "        text-align: right;\n",
       "    }\n",
       "</style>\n",
       "<table border=\"1\" class=\"dataframe\">\n",
       "  <thead>\n",
       "    <tr style=\"text-align: right;\">\n",
       "      <th></th>\n",
       "      <th>age</th>\n",
       "      <th>height</th>\n",
       "      <th>weight</th>\n",
       "      <th>nc.score</th>\n",
       "      <th>score1</th>\n",
       "      <th>score2</th>\n",
       "      <th>salary</th>\n",
       "    </tr>\n",
       "  </thead>\n",
       "  <tbody>\n",
       "    <tr>\n",
       "      <th>1</th>\n",
       "      <td>19</td>\n",
       "      <td>160</td>\n",
       "      <td>64.8</td>\n",
       "      <td>1.91</td>\n",
       "      <td>NaN</td>\n",
       "      <td>NaN</td>\n",
       "      <td>NaN</td>\n",
       "    </tr>\n",
       "    <tr>\n",
       "      <th>2</th>\n",
       "      <td>19</td>\n",
       "      <td>172</td>\n",
       "      <td>73.0</td>\n",
       "      <td>1.56</td>\n",
       "      <td>NaN</td>\n",
       "      <td>NaN</td>\n",
       "      <td>NaN</td>\n",
       "    </tr>\n",
       "    <tr>\n",
       "      <th>3</th>\n",
       "      <td>22</td>\n",
       "      <td>168</td>\n",
       "      <td>70.6</td>\n",
       "      <td>1.24</td>\n",
       "      <td>45.0</td>\n",
       "      <td>46.0</td>\n",
       "      <td>NaN</td>\n",
       "    </tr>\n",
       "    <tr>\n",
       "      <th>4</th>\n",
       "      <td>19</td>\n",
       "      <td>183</td>\n",
       "      <td>79.7</td>\n",
       "      <td>1.37</td>\n",
       "      <td>NaN</td>\n",
       "      <td>NaN</td>\n",
       "      <td>NaN</td>\n",
       "    </tr>\n",
       "    <tr>\n",
       "      <th>5</th>\n",
       "      <td>21</td>\n",
       "      <td>175</td>\n",
       "      <td>71.4</td>\n",
       "      <td>1.46</td>\n",
       "      <td>NaN</td>\n",
       "      <td>NaN</td>\n",
       "      <td>NaN</td>\n",
       "    </tr>\n",
       "    <tr>\n",
       "      <th>6</th>\n",
       "      <td>19</td>\n",
       "      <td>189</td>\n",
       "      <td>85.8</td>\n",
       "      <td>1.34</td>\n",
       "      <td>NaN</td>\n",
       "      <td>NaN</td>\n",
       "      <td>NaN</td>\n",
       "    </tr>\n",
       "    <tr>\n",
       "      <th>7</th>\n",
       "      <td>21</td>\n",
       "      <td>156</td>\n",
       "      <td>65.9</td>\n",
       "      <td>1.11</td>\n",
       "      <td>NaN</td>\n",
       "      <td>NaN</td>\n",
       "      <td>NaN</td>\n",
       "    </tr>\n",
       "    <tr>\n",
       "      <th>8</th>\n",
       "      <td>21</td>\n",
       "      <td>167</td>\n",
       "      <td>65.7</td>\n",
       "      <td>2.03</td>\n",
       "      <td>58.0</td>\n",
       "      <td>62.0</td>\n",
       "      <td>NaN</td>\n",
       "    </tr>\n",
       "    <tr>\n",
       "      <th>9</th>\n",
       "      <td>18</td>\n",
       "      <td>195</td>\n",
       "      <td>94.4</td>\n",
       "      <td>1.29</td>\n",
       "      <td>57.0</td>\n",
       "      <td>67.0</td>\n",
       "      <td>NaN</td>\n",
       "    </tr>\n",
       "    <tr>\n",
       "      <th>10</th>\n",
       "      <td>18</td>\n",
       "      <td>165</td>\n",
       "      <td>66.0</td>\n",
       "      <td>1.19</td>\n",
       "      <td>NaN</td>\n",
       "      <td>NaN</td>\n",
       "      <td>NaN</td>\n",
       "    </tr>\n",
       "  </tbody>\n",
       "</table>\n",
       "</div>"
      ],
      "text/plain": [
       "    age  height  weight  nc.score  score1  score2  salary\n",
       "1    19     160    64.8      1.91     NaN     NaN     NaN\n",
       "2    19     172    73.0      1.56     NaN     NaN     NaN\n",
       "3    22     168    70.6      1.24    45.0    46.0     NaN\n",
       "4    19     183    79.7      1.37     NaN     NaN     NaN\n",
       "5    21     175    71.4      1.46     NaN     NaN     NaN\n",
       "6    19     189    85.8      1.34     NaN     NaN     NaN\n",
       "7    21     156    65.9      1.11     NaN     NaN     NaN\n",
       "8    21     167    65.7      2.03    58.0    62.0     NaN\n",
       "9    18     195    94.4      1.29    57.0    67.0     NaN\n",
       "10   18     165    66.0      1.19     NaN     NaN     NaN"
      ]
     },
     "execution_count": 34,
     "metadata": {},
     "output_type": "execute_result"
    }
   ],
   "source": [
    "# Lese Datei students.csv als Dataframe ein; Indexspalte wird übersprungen; nur 'age','nc.score','height','weight','score1','score2','salary' Spalten werden ausgewählt\n",
    "students_hist = pd.read_csv('students.csv', index_col=0,usecols=\n",
    "                            ['age','nc.score','height','weight','score1','score2','salary'])\n",
    "\n",
    "# Gebe ersten 10 Werte aus \n",
    "students_hist.head(10)"
   ]
  },
  {
   "cell_type": "markdown",
   "id": "2f6cccf1-f422-48b8-b226-367ab01955df",
   "metadata": {},
   "source": [
    "Um einen Überblick über die Form der Verteilung der einzelnen Variablen zu erhalten, verwenden wir die Funktion `hist()`."
   ]
  },
  {
   "cell_type": "code",
   "execution_count": 40,
   "id": "8e4fcfbb-728e-412e-8281-be62c37169f3",
   "metadata": {},
   "outputs": [
    {
     "data": {
      "image/png": "[encoded data removed]",
      "text/plain": [
       "<Figure size 1872x792 with 7 Axes>"
      ]
     },
     "metadata": {
      "needs_background": "light"
     },
     "output_type": "display_data"
    }
   ],
   "source": [
    "fig = plt.figure(figsize=(26,11))\n",
    "\n",
    "ax1 = fig.add_subplot(241)\n",
    "ax2 = fig.add_subplot(242)\n",
    "ax3 = fig.add_subplot(243)\n",
    "ax4 = fig.add_subplot(244)\n",
    "ax5 = fig.add_subplot(245)\n",
    "ax6 = fig.add_subplot(246)\n",
    "ax7 = fig.add_subplot(247)\n",
    "\n",
    "# Histogramm Alter\n",
    "ax1.hist(students_hist['age'], bins = 100, density=True)\n",
    "ax1.set_title('Alter')\n",
    "\n",
    "# Histogramm Nc_score\n",
    "ax2.hist(students_hist['nc.score'], bins = 100, density=True)\n",
    "ax2.set_title('Nc_score')\n",
    "\n",
    "# Histogramm Größe\n",
    "ax3.hist(students_hist['height'], bins = 100, density=True)\n",
    "ax3.set_title('Größe')\n",
    "\n",
    "\n",
    "# Histogramm Gewicht\n",
    "ax4.hist(students_hist['weight'], bins = 100, density=True)\n",
    "ax4.set_title('Gewicht')\n",
    "\n",
    "\n",
    "# Histogramm score1\n",
    "ax5.hist(students_hist['score1'], bins = 100, density=True)\n",
    "ax5.set_title('score1')\n",
    "\n",
    "\n",
    "# Histogramm score2\n",
    "ax6.hist(students_hist['score2'], bins = 100, density=True)\n",
    "ax6.set_title('score2')\n",
    "\n",
    "\n",
    "# Histogramm Gehalt\n",
    "ax7.hist(students_hist['salary'], bins = 100, density=True)\n",
    "ax7.set_title('Gehalt')\n",
    "\n",
    "plt.show()\n",
    "fig.tight_layout()\n"
   ]
  },
  {
   "cell_type": "markdown",
   "id": "7f7abbdf-8fe5-4c35-8e7e-47e4f529df72",
   "metadata": {},
   "source": [
    "Wir stellen sofort fest, dass einige Variablen positiv verzerrt sind, also schließen wir sie aus und behalten diejenigen, die normal verteilt zu sein scheinen."
   ]
  },
  {
   "cell_type": "code",
   "execution_count": 47,
   "id": "66a039f2-af5a-4091-96fc-fda243242ab9",
   "metadata": {},
   "outputs": [
    {
     "data": {
      "image/png": "[encoded data removed]",
      "text/plain": [
       "<Figure size 1872x792 with 2 Axes>"
      ]
     },
     "metadata": {
      "needs_background": "light"
     },
     "output_type": "display_data"
    }
   ],
   "source": [
    "\n",
    "fig = plt.figure(figsize=(26,11))\n",
    "\n",
    "ax1 = fig.add_subplot(221)\n",
    "ax2 = fig.add_subplot(222)\n",
    "# Histogramm Gehalt\n",
    "ax1.hist(students_hist['salary'], bins = 100, density=True)\n",
    "ax1.set_title('Gehalt')\n",
    "ax1.set_ylabel('Dichte')\n",
    "# Histogramm Größe\n",
    "ax2.hist(students_hist['height'], bins = 100, density=True)\n",
    "ax2.set_title('Größe')\n",
    "\n",
    "plt.show()"
   ]
  },
  {
   "cell_type": "markdown",
   "id": "b248fa45-1c89-49f6-9cd3-abe54fa446df",
   "metadata": {},
   "source": [
    "Nun, sowohl die Variable `height` als auch die Variable `salary` scheinen mehr oder weniger normalverteilt zu sein. Es ist also eine Frage des Geschmacks, welche Variable man für die weitere Analyse auswählt. Für den Moment bleiben wir bei der Gehaltsvariable und überprüfen, ob die drei oben genannten empirischen Regeln gültig sind. Wir wechseln zu Python und validieren diese Regeln, indem wir zunächst den Mittelwert und die Standardabweichungen berechnen. Bitte beachten Sie, dass die Gehaltsvariable leere Zellen enthält, die mit `NA` gekennzeichnet sind. Daher schließen wir zunächst alle `NA`-Werte aus, indem wir die Funktion `dropna()` anwenden."
   ]
  },
  {
   "cell_type": "code",
   "execution_count": 48,
   "id": "e671c7be-0136-4704-add8-1717c4635da6",
   "metadata": {},
   "outputs": [
    {
     "data": {
      "text/plain": [
       "1                NaN\n",
       "2                NaN\n",
       "3                NaN\n",
       "4                NaN\n",
       "5                NaN\n",
       "            ...     \n",
       "8235    36750.087135\n",
       "8236             NaN\n",
       "8237             NaN\n",
       "8238    40112.041834\n",
       "8239    45900.134459\n",
       "Name: salary, Length: 8239, dtype: float64"
      ]
     },
     "execution_count": 48,
     "metadata": {},
     "output_type": "execute_result"
    }
   ],
   "source": [
    "salary_df = students_hist['salary']\n",
    "salary_df"
   ]
  },
  {
   "cell_type": "code",
   "execution_count": 49,
   "id": "ce4833c9-0e6e-40a1-9436-e78cf89847fb",
   "metadata": {},
   "outputs": [
    {
     "data": {
      "text/plain": [
       "11      45254.108021\n",
       "13      40552.790243\n",
       "14      27007.030294\n",
       "17      33969.159268\n",
       "28      50617.641870\n",
       "            ...     \n",
       "8229    33259.703079\n",
       "8234    41028.241341\n",
       "8235    36750.087135\n",
       "8238    40112.041834\n",
       "8239    45900.134459\n",
       "Name: salary, Length: 1753, dtype: float64"
      ]
     },
     "execution_count": 49,
     "metadata": {},
     "output_type": "execute_result"
    }
   ],
   "source": [
    "salary_clean = salary_df.dropna()\n",
    "salary_clean"
   ]
  },
  {
   "cell_type": "code",
   "execution_count": 50,
   "id": "b80f7228-51d0-4582-972d-5b9454c2e683",
   "metadata": {},
   "outputs": [
    {
     "name": "stdout",
     "output_type": "stream",
     "text": [
      "Mittelwert des Gehalts : 42522.112364224806\n",
      "1 Standardabweichung des Gehalts : 10333.139905546619\n",
      "2 Standardabweichung des Gehalts : 20666.279811093238\n",
      "3 Standardabweichung des Gehalts : 30999.41971663986\n"
     ]
    }
   ],
   "source": [
    "print('Mittelwert des Gehalts :',salary_clean.mean())\n",
    "print('1 Standardabweichung des Gehalts :',salary_clean.std())\n",
    "print('2 Standardabweichung des Gehalts :',2*salary_clean.std())\n",
    "print('3 Standardabweichung des Gehalts :',3*salary_clean.std())"
   ]
  },
  {
   "cell_type": "markdown",
   "id": "cb88bfcf-072e-4aab-87a1-eb65184dc7b1",
   "metadata": {},
   "source": [
    "Wie in der obigen allgemeinen Beispielform zählen wir die Anzahl der Werte, die größer als $+1$ s.d. bzw. kleiner als $-1$ s.d. und $+2$ s.d. bzw. $-2$ s.d. und $+3$ s.d. bzw. $-3$ s.d. sind, und setzen sie in Beziehung zur Länge des Vektors, in unserem Fall $1753$."
   ]
  },
  {
   "cell_type": "code",
   "execution_count": 51,
   "id": "890f0724-b2f2-4e1b-9da5-1a621f6a6d1e",
   "metadata": {},
   "outputs": [
    {
     "name": "stdout",
     "output_type": "stream",
     "text": [
      "salsd1 : 67.08499714774672\n",
      "salsd2 : 95.60752994865945\n",
      "salsd3 : 99.7718197375927\n"
     ]
    }
   ],
   "source": [
    "salary_std = salary_clean.std()\n",
    "salary_mean = salary_clean.mean()\n",
    "# Berechne Anzahl der Werte < (salary_mean+salary_std) - Anzahl der Werte < (salary_mean-salary_std) durch Gesamtanzahl\n",
    "salsd1 = ((sum(salary_clean<(salary_mean+salary_std))-sum(salary_clean<(salary_mean-salary_std)))*100)/len(salary_clean)\n",
    "\n",
    "# Berechne Anzahl der Werte < (salary_mean+2*salary_std) - Anzahl der Werte < (salary_mean-2*salary_std) durch Gesamtanzahl\n",
    "salsd2 = ((sum(salary_clean<(salary_mean+2*salary_std))-sum(salary_clean<(salary_mean-2*salary_std)))*100)/len(salary_clean)\n",
    "\n",
    "# Berechne Anzahl der Werte < (salary_mean+3*salary_std) - Anzahl der Werte < (salary_mean-3*salary_std) durch Gesamtanzahl\n",
    "salsd3 = ((sum(salary_clean<(salary_mean+3*salary_std))-sum(salary_clean<(salary_mean-3*salary_std)))*100)/len(salary_clean)\n",
    "\n",
    "print('salsd1 :',salsd1)\n",
    "print('salsd2 :',salsd2)\n",
    "print('salsd3 :',salsd3)"
   ]
  },
  {
   "cell_type": "markdown",
   "id": "1f38d95c-250b-4cf1-80ee-a500574620e3",
   "metadata": {},
   "source": [
    "Wow, ziemlich nah dran! Offensichtlich zeigt die Gehaltsvariable eine starke Tendenz zur Unterstützung der so genannten empirischen Regel. Wir stellen das Histogramm für die Variable `salary` dar, um unseren Eindruck zu bestätigen. Für einen besseren visuellen Eindruck färben wir die Standardabweichungen ein."
   ]
  },
  {
   "cell_type": "code",
   "execution_count": 62,
   "id": "072116eb-b374-406b-949a-e36fb3cb6d7c",
   "metadata": {},
   "outputs": [
    {
     "data": {
      "image/png": "[encoded data removed]",
      "text/plain": [
       "<Figure size 1872x792 with 1 Axes>"
      ]
     },
     "metadata": {
      "needs_background": "light"
     },
     "output_type": "display_data"
    }
   ],
   "source": [
    "# Histogramm Gehalt\n",
    "fig = plt.figure(figsize=(26,11))\n",
    "ax1 = fig.add_subplot(111)\n",
    "ax1.hist(students_hist['salary'], bins = 100, density=True)\n",
    "#ax1.fill_between(x, y1)\n",
    "plt.title('Gehalt')\n",
    "plt.show()"
   ]
  },
  {
   "cell_type": "markdown",
   "id": "a7880133-ff0a-430a-a102-6491a12bd49d",
   "metadata": {},
   "source": [
    "Wir können nun unseren Visualisierungsansatz erweitern, indem wir die **empirische Dichteschätzung** mit der Funktion `scipy_kernel.evaluate()` grafisch darstellen und ihre Form überprüfen. Wir stellen die empirische Dichteschätzung als gestrichelte Linie dar, indem wir das <a href=\"http://www.cookbook-r.com/Graphs/Shapes_and_line_types/\">(Linientyp-Argument)</a> `'--'` und eine Linienbreite von 3 (Argument `linewidth=3.0`) setzen."
   ]
  },
  {
   "cell_type": "code",
   "execution_count": 64,
   "id": "97188bbf-375c-4d4a-a1ec-8495f9d8ba16",
   "metadata": {},
   "outputs": [
    {
     "data": {
      "image/png": "[encoded data removed]",
      "text/plain": [
       "<Figure size 432x288 with 1 Axes>"
      ]
     },
     "metadata": {
      "needs_background": "light"
     },
     "output_type": "display_data"
    }
   ],
   "source": [
    "# Erzeuge Fit für salary_clean_list\n",
    "x_salary = np.linspace(10000,90000,100)\n",
    "scipy_kernel = gaussian_kde(salary_clean)\n",
    "v = scipy_kernel.evaluate(x_salary)\n",
    "\n",
    "# Plotte das Histogramm und Pdf\n",
    "plt.hist(salary_clean, bins=100, density=True)\n",
    "plt.plot(x_salary,v,'k--',linewidth=3.0)\n",
    "plt.show()"
   ]
  },
  {
   "cell_type": "markdown",
   "id": "fe3525e0-d20f-48d0-adfe-f945ed19d167",
   "metadata": {},
   "source": [
    "Schließlich vergleichen wir unsere **empirische Dichteschätzung** mit der theoretischen **Wahrscheinlichkeitsdichtefunktion**, die auf dem tatsächlichen Mittelwert und der Standardabweichung der Daten `salary` basiert. Für einen besseren visuellen Vergleich wechseln wir zurück zu einer nicht eingefärbten Histogramm-Darstellung."
   ]
  },
  {
   "cell_type": "code",
   "execution_count": 69,
   "id": "ac309820-541c-42e7-8fb1-042107a4a772",
   "metadata": {},
   "outputs": [
    {
     "data": {
      "image/png": "[encoded data removed]",
      "text/plain": [
       "<Figure size 432x288 with 1 Axes>"
      ]
     },
     "metadata": {
      "needs_background": "light"
     },
     "output_type": "display_data"
    }
   ],
   "source": [
    "# Erzeuge Normalverteilung\n",
    "x_salary = np.linspace(10000,90000,100)\n",
    "pdf_result = stats.norm.pdf(x_salary,loc=salary_clean.mean(),scale=salary_clean.std())\n",
    "\n",
    "# Erzeuge Fit für salary_clean\n",
    "scipy_kernel = gaussian_kde(salary_clean)\n",
    "v = scipy_kernel.evaluate(x_salary)\n",
    "#plt.plot(x_salary,pdf_result)\n",
    "\n",
    "# Plotte das Histogramm, Normalverteilung und Pdf\n",
    "plt.xlabel= ('Jahresgehalt in Euro')\n",
    "plt.ylabel= ('Dichte')\n",
    "plt.hist(salary_clean, bins=100, density=True, color = 'white', edgecolor = 'k')\n",
    "plt.plot(x_salary,v,'k--',linewidth=3.0, label ='empirische Dichte')\n",
    "plt.plot(x_salary,pdf_result,'red', label = 'Pdf')\n",
    "plt.legend()\n",
    "plt.show()"
   ]
  },
  {
   "cell_type": "markdown",
   "id": "26466854-b990-498c-aec4-0caec1477832",
   "metadata": {},
   "source": [
    "Wir können daraus schließen, dass `salary` im Datensatz der `students` ungefähr normalverteilt ist. Die Grafik zeigt jedoch, dass die Verteilung der Gehaltsvariablen leicht nach links geneigt ist. Dies ist an der geringen Abweichung zwischen der **empirischen Dichteschätzung** und der **Wahrscheinlichkeitsdichtefunktion** zu erkennen."
   ]
  }
 ],
 "metadata": {
  "kernelspec": {
   "display_name": "Python 3 (ipykernel)",
   "language": "python",
   "name": "python3"
  },
  "language_info": {
   "codemirror_mode": {
    "name": "ipython",
    "version": 3
   },
   "file_extension": ".py",
   "mimetype": "text/x-python",
   "name": "python",
   "nbconvert_exporter": "python",
   "pygments_lexer": "ipython3",
   "version": "3.10.2"
  }
 },
 "nbformat": 4,
 "nbformat_minor": 5
}
