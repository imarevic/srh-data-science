{
 "cells": [
  {
   "cell_type": "code",
   "execution_count": 1,
   "id": "ab7baffe-bae1-4eba-aecf-a4eba1754d00",
   "metadata": {},
   "outputs": [
    {
     "name": "stdout",
     "output_type": "stream",
     "text": [
      "\n",
      "---------------------------------\n",
      "Working on the host: Joachims-MacBook-Pro.local\n",
      "\n",
      "---------------------------------\n",
      "Python version: 3.10.2 | packaged by conda-forge | (main, Feb  1 2022, 19:30:18) [Clang 11.1.0 ]\n",
      "\n",
      "---------------------------------\n",
      "Python interpreter: /opt/miniconda3/envs/srh/bin/python\n"
     ]
    }
   ],
   "source": [
    "%matplotlib inline\n",
    "# Load the \"autoreload\" extension\n",
    "%load_ext autoreload\n",
    "# always reload modules\n",
    "%autoreload 2\n",
    "# black formatter for jupyter notebooks\n",
    "#%load_ext nb_black\n",
    "# black formatter for jupyter lab\n",
    "%load_ext lab_black\n",
    "\n",
    "%run ../../src/notebook_env.py"
   ]
  },
  {
   "cell_type": "code",
   "execution_count": 2,
   "id": "09dcd210-a6b5-499f-81ac-0f187ffea863",
   "metadata": {},
   "outputs": [],
   "source": [
    "import numpy as np\n",
    "import pandas as pd\n",
    "import matplotlib.pyplot as plt\n",
    "import scipy.stats as stats"
   ]
  },
  {
   "cell_type": "markdown",
   "id": "21294c1e-235c-4932-9856-b09ce323cf0f",
   "metadata": {},
   "source": [
    "# Das Positionsmaß"
   ]
  },
  {
   "cell_type": "markdown",
   "id": "bce57223-61ad-4a66-98a6-92ff12f60571",
   "metadata": {},
   "source": [
    "Ein Positionsmaß bestimmt die Position eines einzelnen Wertes im Verhältnis zu anderen Werten in einer Stichprobe oder einem Populationsdatensatz. Anders als der Mittelwert und die Standardabweichung sind auf **Quantilen** basierende deskriptive Maße nicht empfindlich gegenüber dem Einfluss einiger weniger extremer Beobachtungen. Aus diesem Grund werden deskriptive Maße, die auf Quantilen basieren, häufig denjenigen vorgezogen, die auf dem Mittelwert und der Standardabweichung basieren ({cite:p}`fahrmeirstatistik` s.60).\n",
    "\n",
    "Quantile sind Punkte, die den Bereich der Daten in zusammenhängende Intervalle mit gleichen Wahrscheinlichkeiten unterteilen. Bestimmte <a href=\"https://de.wikipedia.org/wiki/Quantil_(Wahrscheinlichkeitstheorie)\">Quantile</a> sind besonders wichtig: Der **Median** eines Datensatzes unterteilt die Daten in zwei gleiche Teile: die unteren $50 \\%$ und die oberen $50 \\%$. **Quartile** unterteilen die Daten in vier gleiche Teile und **Perzentile** unterteilen sie in Hundertstel oder $100$ gleiche Teile. Beachten Sie, dass der Median auch das $50$-te Perzentil ist. **Dezile** unterteilen einen Datensatz in Zehntel ($10$ gleiche Teile), und die **Quintile** unterteilen einen Datensatz in Fünftel ($5$ gleiche Teile). Es gibt immer ein Quantil weniger als die Anzahl der gebildeten Gruppen (z. B. gibt es **3** Quartile, die die Daten in **4** gleiche Teile unterteilen!)."
   ]
  },
  {
   "cell_type": "markdown",
   "id": "2a9bf3f1-5926-4995-bcd8-84a9991f08b5",
   "metadata": {
    "tags": []
   },
   "source": [
    "## Quartile und Interquartilsbereich"
   ]
  },
  {
   "cell_type": "markdown",
   "id": "6cc61d18-b090-4226-b135-93f4228b7595",
   "metadata": {},
   "source": [
    "**Quartile** unterteilen einen geordneten Datensatz in **vier gleiche Teile**. Diese drei Maße werden als **erstes Quartil** $(Q1)$, **zweites Quartil** $(Q2)$ und **drittes Quartil** $(Q3)$ bezeichnet. Das zweite Quartil ist dasselbe wie der Median eines Datensatzes. Das erste Quartil ist der Wert des mittleren Terms unter den Beobachtungen, die kleiner als der Median sind, und das dritte Quartil ist der Wert des mittleren Terms unter den Beobachtungen, die größer als der Median sind ({cite:p}`fahrmeirstatistik` s.59)."
   ]
  },
  {
   "cell_type": "markdown",
   "id": "7bac4dcf-549f-41f9-971a-d96579ea46e1",
   "metadata": {},
   "source": [
    "![Alt-Text](_img/median.png)"
   ]
  },
  {
   "cell_type": "markdown",
   "id": "57ca73e5-3f1a-4fd0-a874-5553f837758f",
   "metadata": {},
   "source": [
    "Ungefähr $25 \\%$ der Werte in einem geordneten Datensatz sind kleiner als $Q1$ und etwa $75 \\%$ sind größer als $Q1$. Das zweite Quartil, $Q2$, unterteilt einen geordneten Datensatz in zwei gleiche Teile; daher sind das zweite Quartil und der Median identisch. Etwa $75 \\%$ der Datenwerte sind kleiner als $Q3$ und etwa $25 \\%$ sind größer als $Q3$. Die Differenz zwischen dem dritten Quartil und dem ersten Quartil eines Datensatzes wird als **Interquartilsbereich** ($IQR$) bezeichnet ({cite:p}`fahrmeirstatistik` s.61)."
   ]
  },
  {
   "cell_type": "markdown",
   "id": "2e56e957-0aa9-4283-b4d3-43f32e496b47",
   "metadata": {},
   "source": [
    "$$ IQR=Q3−Q1 $$"
   ]
  },
  {
   "cell_type": "markdown",
   "id": "e1a22dae-d1e1-442d-ac5e-2daa76277345",
   "metadata": {},
   "source": [
    "Wechseln wir zu Python und testen wir seine Funktionalität zur Berechnung von Quantilen/Quartilen. Wir werden die `nc.score`-Variable des `students` Datensatzes verwenden, um Quartile und den $IQR$ zu berechnen. Die `nc.score`-Variable entspricht der <a href=\"https://de.wikipedia.org/wiki/Numerus_clausus\">Numerus-Clausus</a>-Punktzahl jedes Studenten."
   ]
  },
  {
   "cell_type": "markdown",
   "id": "de028378-a0de-47c8-af33-7152ead9eabe",
   "metadata": {},
   "source": [
    "Zunächst werden die Daten unterteilt und ein Histogramm erstellt, um die Verteilung der Variablen genauer zu untersuchen."
   ]
  },
  {
   "cell_type": "code",
   "execution_count": 3,
   "id": "8cab92df-a8f1-4426-b633-7680e0e355f8",
   "metadata": {},
   "outputs": [
    {
     "data": {
      "image/png": "[encoded data removed]",
      "text/plain": [
       "<Figure size 864x432 with 1 Axes>"
      ]
     },
     "metadata": {
      "needs_background": "light"
     },
     "output_type": "display_data"
    }
   ],
   "source": [
    "# Lese Daten ein\n",
    "df = pd.read_csv(\"../../data/students.csv\")\n",
    "\n",
    "# Histogramm\n",
    "df[\"nc.score\"].hist(bins=15)\n",
    "plt.xlabel(\"Numerus Clausus\")\n",
    "plt.ylabel(\"Häufigkeit\")\n",
    "plt.title(\"Histogramm von 'nc.score'\")\n",
    "plt.show()"
   ]
  },
  {
   "cell_type": "markdown",
   "id": "a8e11aa7-63a7-4610-970a-997717c6f3d0",
   "metadata": {},
   "source": [
    "Um die Quartile für die Variable nc.score zu berechnen, wenden wir die Funktion `np.quantile` an. Um die Quartile für die Variable `nc.score` zu berechnen, schreiben wir also einfach:"
   ]
  },
  {
   "cell_type": "code",
   "execution_count": 4,
   "id": "2b4a7431-643d-4ab7-a6d0-63188a3addda",
   "metadata": {},
   "outputs": [
    {
     "name": "stdout",
     "output_type": "stream",
     "text": [
      "1. Quantil des nc.score: 1.46\n",
      "2. Quantil des nc.score: 2.04\n",
      "3. Quantil des nc.score: 2.78\n",
      "4. Quantil des nc.score: 4.0\n"
     ]
    }
   ],
   "source": [
    "for e, q in enumerate([0.25, 0.5, 0.75, 1]):\n",
    "    print(f\"{e+1}. Quantil des nc.score: {np.quantile(df['nc.score'], q)}\")"
   ]
  },
  {
   "cell_type": "markdown",
   "id": "26e101e6-04d0-4a87-ac05-165169f67963",
   "metadata": {},
   "source": [
    "**Hinweis:** Nicht alle Statistiker definieren Quartile auf genau dieselbe Weise. Eine ausführliche Diskussion der verschiedenen Methoden zur Berechnung von Quartilen finden Sie in dem Online-Artikel <a href=\"http://jse.amstat.org/v14n3/langford.html\">\"Quartiles in Elementary Statistics\" von E. Langford (2006)</a>."
   ]
  },
  {
   "cell_type": "markdown",
   "id": "a74919c9-ad25-4b97-9cfa-57f4dd746db7",
   "metadata": {},
   "source": [
    "Um den $IQR$ für die Variable `nc.score` zu berechnen, schreiben wir entweder..."
   ]
  },
  {
   "cell_type": "code",
   "execution_count": 5,
   "id": "fb1db9b0-d0f8-4cf0-945a-639109f69bb7",
   "metadata": {},
   "outputs": [
    {
     "data": {
      "text/plain": [
       "1.3199999999999998"
      ]
     },
     "execution_count": 5,
     "metadata": {},
     "output_type": "execute_result"
    }
   ],
   "source": [
    "# Berechne Interquartil Abstand mit Funktion np.percentile()\n",
    "q1, q3 = np.percentile(df[\"nc.score\"], [25, 75])\n",
    "iqr = q3 - q1\n",
    "iqr"
   ]
  },
  {
   "cell_type": "markdown",
   "id": "ebc2f8b4-4bc0-4249-b612-3afac9be6266",
   "metadata": {},
   "source": [
    "...oder wir wenden die eingebaute Funktion `iqr` aus dem Modul `scipy.stats` an:"
   ]
  },
  {
   "cell_type": "code",
   "execution_count": 6,
   "id": "85243a86-924b-4a1c-aad4-0a5d4cb631af",
   "metadata": {},
   "outputs": [
    {
     "data": {
      "text/plain": [
       "1.3199999999999998"
      ]
     },
     "execution_count": 6,
     "metadata": {},
     "output_type": "execute_result"
    }
   ],
   "source": [
    "stats.iqr(df[\"nc.score\"], rng=(25, 75))"
   ]
  },
  {
   "cell_type": "markdown",
   "id": "f6e0ba95-83ba-4d7a-93e4-9820db3fe211",
   "metadata": {
    "tags": []
   },
   "source": [
    "Wir können die Aufteilung der Variablen `nc.score` in Quartile visualisieren, indem wir ein Histogramm erstellen und ein paar zusätzliche Codezeilen hinzufügen."
   ]
  },
  {
   "cell_type": "code",
   "execution_count": 7,
   "id": "40b59d1d-89a2-4f07-9dc7-8aa33364a78d",
   "metadata": {},
   "outputs": [
    {
     "data": {
      "text/plain": [
       "<matplotlib.legend.Legend at 0x16ce333d0>"
      ]
     },
     "execution_count": 7,
     "metadata": {},
     "output_type": "execute_result"
    },
    {
     "data": {
      "image/png": "[encoded data removed]",
      "text/plain": [
       "<Figure size 864x432 with 1 Axes>"
      ]
     },
     "metadata": {
      "needs_background": "light"
     },
     "output_type": "display_data"
    }
   ],
   "source": [
    "# Plotte die Liste als Histogramm mit Quartilen\n",
    "df[\"nc.score\"].hist(bins=15)\n",
    "plt.xlabel(\"nc.score\")\n",
    "plt.ylabel(\"Häufigkeit\")\n",
    "plt.title(\"Histogramm der Variable Numerus Clausus\")\n",
    "\n",
    "# Zeiche vertikale Linien bei Q1, Q2, Q3, Q4\n",
    "for e, q in enumerate([0.25, 0.5, 0.75, 1]):\n",
    "    plt.axvline(x=np.quantile(df[\"nc.score\"], q), color=f\"C{e+1}\", label=f\"Q{e+1}\")\n",
    "plt.legend()"
   ]
  },
  {
   "cell_type": "markdown",
   "id": "c18e90d1-55b1-4da2-8f2f-b5d8c4aa53fd",
   "metadata": {
    "tags": []
   },
   "source": [
    "## Die 5-Punkte-Zusammenfassung"
   ]
  },
  {
   "cell_type": "markdown",
   "id": "b8fb72e9-4b82-4ee8-8f70-6e92cdca3f7c",
   "metadata": {},
   "source": [
    "Aus den drei Quartilen $(Q1, Q2, Q3)$können wir ein Maß für die Lage der Mitte (den Median, $Q2$) und ein Maß für die Variation der beiden mittleren Quartale der Daten, $Q2-Q1$ für die zweite Quartile und $Q3-Q2$ für die dritte Quartile ableiten. Die drei Quartilen sagen jedoch nichts über die Variation der ersten und vierten Quartile aus."
   ]
  },
  {
   "cell_type": "markdown",
   "id": "f142cc4c-f663-46f0-94a9-c1598cb8d1fb",
   "metadata": {},
   "source": [
    "Um diese Informationen zu erhalten, beziehen wir auch die Beobachtungen des Minimums und des Maximums mit ein. Die Variation der ersten Quartile kann als Differenz zwischen dem Minimum und der ersten Quartile, $Q1-Min$, gemessen werden, und die Variation der vierten Quartile kann als Differenz zwischen der dritten Quartile und dem Maximum, $Max-Q3$, gemessen werden. Somit liefern das Minimum, das Maximum und die Quartile zusammen unter anderem Informationen über Zentrum und Variation ({cite:p}`fahrmeirstatistik` s.62)."
   ]
  },
  {
   "cell_type": "markdown",
   "id": "4dcdf2fd-50c6-410e-ac0e-a27a8fac4f60",
   "metadata": {},
   "source": [
    "Die so genannte **Tukey-Fünf-Punkte-Zusammenfassung** (nach dem Mathematiker <a href=\"https://de.wikipedia.org/wiki/John_W._Tukey\">John Wilder Tukey</a>) eines Datensatzes besteht aus den Werten $Min, Q1, Q2, Q3$ und $Max$ des Datensatzes."
   ]
  },
  {
   "cell_type": "markdown",
   "id": "870edf0a-6df7-4898-b62e-2bfb2520cd4c",
   "metadata": {},
   "source": [
    "Die Fünf-Punkte-Zusammenfassung lässt sich in Python durch `np.percentile` und die `min()`, `max()` Funktionen berechnen. Zu Demonstrationszwecken berechnen wir die Fünf-Punkte-Zusammenfassung für die Variable `nc.score`"
   ]
  },
  {
   "cell_type": "code",
   "execution_count": 6,
   "id": "fda94f80-df22-4713-b7f3-f6c068eaad27",
   "metadata": {},
   "outputs": [
    {
     "name": "stdout",
     "output_type": "stream",
     "text": [
      "Min:    1.0\n",
      "Q1:     1.46\n",
      "Median: 2.04\n",
      "Q3:     2.78\n",
      "Max:    4.0\n"
     ]
    }
   ],
   "source": [
    "# Lese Datei students.csv als Dataframe ein; Indexspalte wird übersprungen\n",
    "df = pd.read_csv(\"../../data/students.csv\", index_col=0)\n",
    "\n",
    "# Berechne Fünf-Zahlen-Zusammenfassung\n",
    "scores = df[\"nc.score\"]\n",
    "\n",
    "# Berechne die Quartilen\n",
    "q1, median, q3 = np.percentile(scores, [25, 50, 75])\n",
    "\n",
    "# Berechne minimal/maximal Datenpunkte\n",
    "data_min, data_max = min(scores), max(scores)\n",
    "\n",
    "# Ausgabe der Daten\n",
    "print(f\"Min:    {data_min}\")\n",
    "print(f\"Q1:     {q1}\")\n",
    "print(f\"Median: {median}\")\n",
    "print(f\"Q3:     {q3}\")\n",
    "print(f\"Max:    {data_max}\")"
   ]
  },
  {
   "cell_type": "markdown",
   "id": "d42b9b54-5ad6-4f0d-8914-0aafb06a89d9",
   "metadata": {},
   "source": [
    "Diese Funktion liefert Minimum, untere Quartile, Median, obere Quartile und Maximum für die Eingabedaten."
   ]
  },
  {
   "cell_type": "markdown",
   "id": "c713d147-bd21-4259-863e-7301632cb0f5",
   "metadata": {},
   "source": [
    "In Python gibt es eine ähnliche Methode namens `describe()`, die ähnliche Statistiken liefert."
   ]
  },
  {
   "cell_type": "code",
   "execution_count": 7,
   "id": "f11e6b39-8639-4cf8-a0f5-621b319b33c7",
   "metadata": {},
   "outputs": [
    {
     "data": {
      "text/plain": [
       "count    8239.000000\n",
       "mean        2.166481\n",
       "std         0.811548\n",
       "min         1.000000\n",
       "25%         1.460000\n",
       "50%         2.040000\n",
       "75%         2.780000\n",
       "max         4.000000\n",
       "Name: nc.score, dtype: float64"
      ]
     },
     "execution_count": 7,
     "metadata": {},
     "output_type": "execute_result"
    }
   ],
   "source": [
    "data.describe()"
   ]
  },
  {
   "cell_type": "markdown",
   "id": "27ffba86-812f-4d57-a445-7d461531ae2c",
   "metadata": {
    "tags": []
   },
   "source": [
    "## Perzentile und Perzentilrang"
   ]
  },
  {
   "cell_type": "markdown",
   "id": "07961b4f-1042-42fa-8d81-f97344e6e010",
   "metadata": {
    "jp-MarkdownHeadingCollapsed": true,
    "tags": []
   },
   "source": [
    "**Perzentile** unterteilen einen geordneten Datensatz in $100$ gleiche Teile. Jeder (geordnete) Datensatz hat $99$ Perzentile, die ihn in $100$ gleiche Teile unterteilen. Das **k-te** Perzentil wird mit $P_k$ bezeichnet, wobei $k$ eine ganze Zahl im Bereich von $1$ bis $99$ ist. Das $25$-te Perzentil wird zum Beispiel mit $P_{25}$ bezeichnet."
   ]
  },
  {
   "cell_type": "markdown",
   "id": "3303aaee-c62d-4449-ab3e-e65c0c8afc76",
   "metadata": {},
   "source": [
    "So kann das **k-te** Perzentil, $P_k$, als ein Wert in einem Datensatz definiert werden, bei dem etwa $k\\%$ der Messungen kleiner als der Wert von $P_k$ und etwa $(100-k)$ der Messungen größer als der Wert von $P_k$ sind\n",
    "\n",
    ".\n",
    "\n",
    "Der ungefähre Wert des **k-ten**.\n",
    "Perzentils, bezeichnet mit $P_k$, ist "
   ]
  },
  {
   "cell_type": "markdown",
   "id": "68552dec-e707-4d6f-be89-1af1b4bae631",
   "metadata": {
    "tags": []
   },
   "source": [
    "$$ P_k = \\frac{kn}{100} $$"
   ]
  },
  {
   "cell_type": "markdown",
   "id": "dcf4b9c2-95a5-4d3f-aeb0-7de1b122e350",
   "metadata": {
    "tags": []
   },
   "source": [
    "wobei **k** die Nummer des Perzentils bezeichnet und **n** den Stichprobenumfang darstellt.\n",
    "\n",
    "Als Übung berechnen wir das 38-te, das 50-te und das 73-te Perzentil der Variablen `nc.score` in Python. Zunächst berechnen wir das 38. Perzentil gemäß der oben angegebenen Gleichung. Dann wenden wir die `np.percentile()`-Funktion von Python an, um das 38-te, 50-te und 73-te Perzentil der Variablen `nc.score` zu ermitteln."
   ]
  },
  {
   "cell_type": "code",
   "execution_count": 10,
   "id": "78263a25-c11e-427e-a028-f7658b7406e8",
   "metadata": {},
   "outputs": [
    {
     "name": "stdout",
     "output_type": "stream",
     "text": [
      "Die 38-te Perzentile ist 3131.\n"
     ]
    }
   ],
   "source": [
    "# Lese Datei students.csv als Dataframe ein; Indexspalte wird übersprungen\n",
    "df = pd.read_csv(\"../../data/students.csv\", index_col=0)\n",
    "\n",
    "scores = df[\"nc.score\"].sort_values()\n",
    "\n",
    "# Berechne 38-te Perzentile\n",
    "k = 38\n",
    "n = len(scores)\n",
    "print(f\"Die {k}-te Perzentile ist {round((k*n)/100)}.\")"
   ]
  },
  {
   "cell_type": "code",
   "execution_count": 12,
   "id": "cc332043-7e7c-4fb3-a60a-f2cff96e2ef5",
   "metadata": {},
   "outputs": [
    {
     "data": {
      "text/plain": [
       "6616    1.0\n",
       "4488    1.0\n",
       "4813    1.0\n",
       "2131    1.0\n",
       "2407    1.0\n",
       "       ... \n",
       "8156    4.0\n",
       "36      4.0\n",
       "3784    4.0\n",
       "6290    4.0\n",
       "3868    4.0\n",
       "Name: nc.score, Length: 8239, dtype: float64"
      ]
     },
     "execution_count": 12,
     "metadata": {},
     "output_type": "execute_result"
    }
   ],
   "source": [
    "scores"
   ]
  },
  {
   "cell_type": "markdown",
   "id": "2c6c3cad-b3d7-48aa-a5e9-5ee7a63823f1",
   "metadata": {},
   "source": [
    "Wir wählen den Wert anhand dieser Zahl in der geordneten Liste `nc_score` aus und vergleichen ihn mit den Perzentilwerten."
   ]
  },
  {
   "cell_type": "code",
   "execution_count": 14,
   "id": "e5aad000-aa33-40f4-8660-d30bcc208e93",
   "metadata": {},
   "outputs": [
    {
     "data": {
      "text/plain": [
       "1.74"
      ]
     },
     "execution_count": 14,
     "metadata": {},
     "output_type": "execute_result"
    }
   ],
   "source": [
    "scores.iloc[3131]"
   ]
  },
  {
   "cell_type": "code",
   "execution_count": 16,
   "id": "d75a9a1e-ff2f-4629-9d8e-57c2d8c87247",
   "metadata": {},
   "outputs": [
    {
     "name": "stdout",
     "output_type": "stream",
     "text": [
      "[1.74 2.04 2.71]\n"
     ]
    }
   ],
   "source": [
    "quartiles = np.percentile(scores, [38, 50, 73])\n",
    "print(quartiles)"
   ]
  },
  {
   "cell_type": "markdown",
   "id": "8c546576-912a-443e-b26f-56bd059883d8",
   "metadata": {},
   "source": [
    "Das hat gut funktioniert! Sie können prüfen, ob der Median der Variablen `nc.score` dem $50$-te Perzentil $(2,04)$ entspricht, wie oben berechnet.\n",
    "\n",
    "Wir können auch den **Perzentilrang** für einen bestimmten Wert $x_i$\n",
    "eines Datensatzes mit der folgenden Gleichung berechnen: "
   ]
  },
  {
   "cell_type": "markdown",
   "id": "d8eb04f7-91df-46dd-b128-2308de09bd85",
   "metadata": {},
   "source": [
    "$$ \\text{Perzentil Rang für} \\   x_i = \\frac{ \\text{Werte kleiner als} \\ x_i}{ \\text{Gesamtanzahl der Werte im Datensatz}} $$"
   ]
  },
  {
   "cell_type": "markdown",
   "id": "bd104765-7d5c-4a5a-80ae-63fb0e5fcddd",
   "metadata": {},
   "source": [
    "Der Perzentilrang von $x_i$ gibt den Prozentsatz der Werte im Datensatz an, die kleiner als $x_i$ sind.\n",
    "\n",
    "In Python gibt es keine eingebaute Funktion zur Berechnung des Perzentilrangs. Es ist jedoch relativ einfach, eine solche Funktion selbst zu schreiben."
   ]
  },
  {
   "cell_type": "code",
   "execution_count": 28,
   "id": "ed9cd2d5-fcfa-4610-811b-44457d2dbe43",
   "metadata": {},
   "outputs": [],
   "source": [
    "# Definiere Funktion my_percentile_rank\n",
    "def my_percentile_rank(x, data: pd.Series):\n",
    "    \"\"\"Computes the percentile rank\n",
    "    Args:\n",
    "       x: int or float number\n",
    "       data: Pandas Series\n",
    "    \"\"\"\n",
    "    return sum(data < x) / len(data)"
   ]
  },
  {
   "cell_type": "markdown",
   "id": "45ef2c9f-7960-488a-adb6-91a19d8d35f6",
   "metadata": {},
   "source": [
    "Jetzt berechnen wir zum Beispiel den Perzentilrang für einen Numerus clausus von 2,5."
   ]
  },
  {
   "cell_type": "code",
   "execution_count": 29,
   "id": "1f105ebb-fdd1-4b5d-ac26-51ed046485f3",
   "metadata": {},
   "outputs": [
    {
     "data": {
      "text/plain": [
       "0.6627017841971113"
      ]
     },
     "execution_count": 29,
     "metadata": {},
     "output_type": "execute_result"
    }
   ],
   "source": [
    "my_percentile_rank(2.5, scores)"
   ]
  },
  {
   "cell_type": "markdown",
   "id": "f2cb164b-8754-4ee9-b36c-6a277be8ccc3",
   "metadata": {},
   "source": [
    "Wenn wir das Ergebnis auf den nächsten ganzzahligen Wert runden, können wir feststellen, dass etwa $66 \\%$ der Studenten in unserem Datensatz einen Numerus clausus von mehr als $2,5$ hatten."
   ]
  },
  {
   "cell_type": "markdown",
   "id": "1bd8ad82-0afe-4533-8409-b0cfb015219b",
   "metadata": {},
   "source": [
    "## Ausreißer und Boxplots"
   ]
  },
  {
   "cell_type": "markdown",
   "id": "6ccafe9a-b65f-4e48-9b38-e3ac24331c3b",
   "metadata": {},
   "source": [
    "### Ausreißer\n",
    "Bei der Datenanalyse ist die Identifizierung von Ausreißern und damit von Beobachtungen, die deutlich aus dem Gesamtmuster der Daten herausfallen, sehr wichtig. Ein Ausreißer erfordert besondere Aufmerksamkeit. Er kann das Ergebnis eines Mess- oder Aufzeichnungsfehlers, einer Beobachtung aus einer anderen Population oder einer ungewöhnlich extremen Beobachtung sein. Beachten Sie, dass eine extreme Beobachtung nicht zwangsläufig ein Ausreißer sein muss, sondern auch ein Hinweis auf eine Schieflage sein kann ({cite:p}`fahrmeirstatistik` s.62)."
   ]
  },
  {
   "cell_type": "markdown",
   "id": "6e3e42f7-db5c-4e48-9666-85c2c5cb95f1",
   "metadata": {},
   "source": [
    "Wenn wir einen Ausreißer beobachten, sollten wir versuchen, seine Ursache zu ermitteln. Ist ein Ausreißer auf einen Mess- oder Aufzeichnungsfehler zurückzuführen oder gehört er aus einem anderen Grund eindeutig nicht zum Datensatz, kann er einfach entfernt werden. Wenn jedoch keine Erklärung für einen Ausreißer ersichtlich ist, ist die Entscheidung, ob er im Datensatz verbleiben soll, eine schwierige Ermessensentscheidung."
   ]
  },
  {
   "cell_type": "markdown",
   "id": "c477b418-9216-4c26-b55b-59b5777d01f2",
   "metadata": {},
   "source": [
    "Als Diagnoseinstrument zum Aufspüren von Beobachtungen, die Ausreißer sein könnten, können wir Quartile und den **IQR** verwenden. Daher definieren wir die **Untergrenze** und die **Obergrenze** eines Datensatzes. Die untere Grenze ist die Zahl, die $1,5×IQRs$ unter dem ersten Quartil liegt; die obere Grenze ist die Zahl, die $1,5×IQRs$\n",
    "\n",
    "über dem dritten Quartil liegt. Beobachtungen, die unterhalb der Untergrenze oder oberhalb der Obergrenze liegen, sind potenzielle Ausreißer ({cite:p}`fahrmeirstatistik` s.61).\n",
    "\n"
   ]
  },
  {
   "cell_type": "markdown",
   "id": "f056d830-effd-4897-97db-83cf5996fbd6",
   "metadata": {},
   "source": [
    "$$\\text{Untere Grenze}=Q1-1,5×IQR$$"
   ]
  },
  {
   "cell_type": "markdown",
   "id": "d216bd92-1f12-4f4a-8be0-94d1b793cd44",
   "metadata": {},
   "source": [
    "$$\\text{Obere Grenze}=Q3+1,5×IQR$$"
   ]
  },
  {
   "cell_type": "markdown",
   "id": "45c6aed6-d1cd-49c9-8f48-38c454651ce3",
   "metadata": {},
   "source": [
    "### Boxplots"
   ]
  },
  {
   "cell_type": "markdown",
   "id": "56ae26ab-8876-4615-9983-f6f0363e44cb",
   "metadata": {},
   "source": [
    " Das Boxplot-Diagramm, auch **Box-and-Whisker-Diagramm** genannt, basiert auf der Fünf-Punkte-Zusammenfassung ({cite:p}`fahrmeirstatistik` s.62) und kann zur grafischen Darstellung von Zentrum und Variation eines Datensatzes verwendet werden. Diese Diagramme wurden von dem Mathematiker <a href=\"https://de.wikipedia.org/wiki/John_W._Tukey\">John Wilder Tukey</a> erfunden. Es sind mehrere <a href=\"https://de.wikipedia.org/wiki/Box-Plot\">Arten von Boxplots</a> gebräuchlich.\n",
    "\n",
    "Box-and-Whisker-Plots bieten eine grafische Darstellung der Daten anhand von fünf Maßzahlen: dem Median, dem ersten Quartil, dem dritten Quartil sowie dem kleinsten und dem größten Wert des Datensatzes zwischen der unteren und der oberen Grenze. Der Abstand zwischen den verschiedenen Teilen des Kastens zeigt den Grad der Streuung und Schiefe der Daten an. Durch die Erstellung von Box-and-Whisker-Diagrammen können verschiedene Verteilungen miteinander verglichen werden. Es hilft auch, Ausreißer zu erkennen ({cite:p}`fahrmeirstatistik` s.62). Box-Plots können entweder horizontal oder vertikal gezeichnet werden."
   ]
  },
  {
   "cell_type": "markdown",
   "id": "90e91afd-d096-44b8-9b13-1dce81d75024",
   "metadata": {},
   "source": [
    "\n",
    "![Alt-Text](_img/boxplot.png)\n",
    "Die Ränder der Box sind immer das erste und dritte Quartil, und der Bereich innerhalb der Box ist immer das zweite Quartil (der Median). Die von den Boxen ausgehenden Linien (Whisker) zeigen die Variabilität außerhalb des oberen und unteren Quartils an. Um einen Boxplot zu erstellen, benötigen wir auch das Konzept der benachbarten Werte. Die **angrenzenden Werte** eines Datensatzes sind die extremsten Beobachtungen, die noch innerhalb der unteren und oberen Grenzen liegen; sie sind die extremsten Beobachtungen, die keine potenziellen Ausreißer sind. Ausreißer können als einzelne Punkte aufgetragen werden. Wenn es in einem Datensatz keine potenziellen Ausreißer gibt, sind die angrenzenden Werte lediglich das Minimum und das Maximum der Beobachtungen (Weiss 2010).\n",
    "\n",
    "Lassen Sie uns nun eine Reihe von Boxplots erstellen, um den Datensatz `students` eingehender zu analysieren. Wir beginnen mit der Erstellung eines Boxplots für die Variable `nc.score`."
   ]
  },
  {
   "cell_type": "code",
   "execution_count": 3,
   "id": "604fbf77-2a43-49d6-bd96-24f7697f159a",
   "metadata": {},
   "outputs": [
    {
     "data": {
      "text/html": [
       "<div>\n",
       "<style scoped>\n",
       "    .dataframe tbody tr th:only-of-type {\n",
       "        vertical-align: middle;\n",
       "    }\n",
       "\n",
       "    .dataframe tbody tr th {\n",
       "        vertical-align: top;\n",
       "    }\n",
       "\n",
       "    .dataframe thead th {\n",
       "        text-align: right;\n",
       "    }\n",
       "</style>\n",
       "<table border=\"1\" class=\"dataframe\">\n",
       "  <thead>\n",
       "    <tr style=\"text-align: right;\">\n",
       "      <th></th>\n",
       "      <th>gender</th>\n",
       "      <th>height</th>\n",
       "      <th>nc.score</th>\n",
       "      <th>semester</th>\n",
       "    </tr>\n",
       "  </thead>\n",
       "  <tbody>\n",
       "    <tr>\n",
       "      <th>1</th>\n",
       "      <td>Female</td>\n",
       "      <td>160</td>\n",
       "      <td>1.91</td>\n",
       "      <td>1st</td>\n",
       "    </tr>\n",
       "    <tr>\n",
       "      <th>2</th>\n",
       "      <td>Female</td>\n",
       "      <td>172</td>\n",
       "      <td>1.56</td>\n",
       "      <td>2nd</td>\n",
       "    </tr>\n",
       "    <tr>\n",
       "      <th>3</th>\n",
       "      <td>Female</td>\n",
       "      <td>168</td>\n",
       "      <td>1.24</td>\n",
       "      <td>3rd</td>\n",
       "    </tr>\n",
       "    <tr>\n",
       "      <th>4</th>\n",
       "      <td>Male</td>\n",
       "      <td>183</td>\n",
       "      <td>1.37</td>\n",
       "      <td>2nd</td>\n",
       "    </tr>\n",
       "    <tr>\n",
       "      <th>5</th>\n",
       "      <td>Female</td>\n",
       "      <td>175</td>\n",
       "      <td>1.46</td>\n",
       "      <td>1st</td>\n",
       "    </tr>\n",
       "    <tr>\n",
       "      <th>...</th>\n",
       "      <td>...</td>\n",
       "      <td>...</td>\n",
       "      <td>...</td>\n",
       "      <td>...</td>\n",
       "    </tr>\n",
       "    <tr>\n",
       "      <th>8235</th>\n",
       "      <td>Male</td>\n",
       "      <td>181</td>\n",
       "      <td>2.91</td>\n",
       "      <td>6th</td>\n",
       "    </tr>\n",
       "    <tr>\n",
       "      <th>8236</th>\n",
       "      <td>Male</td>\n",
       "      <td>178</td>\n",
       "      <td>2.03</td>\n",
       "      <td>2nd</td>\n",
       "    </tr>\n",
       "    <tr>\n",
       "      <th>8237</th>\n",
       "      <td>Female</td>\n",
       "      <td>169</td>\n",
       "      <td>3.72</td>\n",
       "      <td>3rd</td>\n",
       "    </tr>\n",
       "    <tr>\n",
       "      <th>8238</th>\n",
       "      <td>Male</td>\n",
       "      <td>195</td>\n",
       "      <td>2.74</td>\n",
       "      <td>4th</td>\n",
       "    </tr>\n",
       "    <tr>\n",
       "      <th>8239</th>\n",
       "      <td>Female</td>\n",
       "      <td>170</td>\n",
       "      <td>3.29</td>\n",
       "      <td>&gt;6th</td>\n",
       "    </tr>\n",
       "  </tbody>\n",
       "</table>\n",
       "<p>8239 rows × 4 columns</p>\n",
       "</div>"
      ],
      "text/plain": [
       "      gender  height  nc.score semester\n",
       "1     Female     160      1.91      1st\n",
       "2     Female     172      1.56      2nd\n",
       "3     Female     168      1.24      3rd\n",
       "4       Male     183      1.37      2nd\n",
       "5     Female     175      1.46      1st\n",
       "...      ...     ...       ...      ...\n",
       "8235    Male     181      2.91      6th\n",
       "8236    Male     178      2.03      2nd\n",
       "8237  Female     169      3.72      3rd\n",
       "8238    Male     195      2.74      4th\n",
       "8239  Female     170      3.29     >6th\n",
       "\n",
       "[8239 rows x 4 columns]"
      ]
     },
     "execution_count": 3,
     "metadata": {},
     "output_type": "execute_result"
    }
   ],
   "source": [
    "# Lese der Datei students.csv; nur Spalten 'nc.score','semester','gender','height' werden verwendet\n",
    "students = pd.read_csv(\n",
    "    \"../../data/students.csv\", usecols=[\"nc.score\", \"semester\", \"gender\", \"height\"]\n",
    ")\n",
    "students"
   ]
  },
  {
   "cell_type": "code",
   "execution_count": 9,
   "id": "65c48482-c860-415a-8e00-10562ccd9f9d",
   "metadata": {},
   "outputs": [
    {
     "data": {
      "image/png": "[encoded data removed]",
      "text/plain": [
       "<Figure size 864x432 with 1 Axes>"
      ]
     },
     "metadata": {
      "needs_background": "light"
     },
     "output_type": "display_data"
    }
   ],
   "source": [
    "_ = plt.boxplot(students[\"nc.score\"])"
   ]
  },
  {
   "cell_type": "markdown",
   "id": "aad5b7f7-393d-4023-9a21-561796221f32",
   "metadata": {},
   "source": [
    "Wir erhalten sofort einen Eindruck von der Streuung und Schiefe der Daten. Durch Hinzufügen des Arguments `vert = False` zum Boxplot drehen wir den Boxplot um $90^∘$ und färben die Box ein, um einen besseren visuellen Eindruck zu erhalten.\n"
   ]
  },
  {
   "cell_type": "code",
   "execution_count": 5,
   "id": "6abdda90-1b42-473a-8346-3ead9a9df536",
   "metadata": {},
   "outputs": [
    {
     "data": {
      "text/plain": [
       "Text(0.5, 1.0, 'Numerus Clausus')"
      ]
     },
     "execution_count": 5,
     "metadata": {},
     "output_type": "execute_result"
    },
    {
     "data": {
      "image/png": "[encoded data removed]",
      "text/plain": [
       "<Figure size 864x432 with 1 Axes>"
      ]
     },
     "metadata": {
      "needs_background": "light"
     },
     "output_type": "display_data"
    }
   ],
   "source": [
    "fig, ax = plt.subplots()\n",
    "ax.boxplot(students[\"nc.score\"], vert=False)\n",
    "ax.set_xlabel(\"Scores\")\n",
    "ax.set_title(\"Numerus Clausus\")"
   ]
  },
  {
   "cell_type": "markdown",
   "id": "25e0720e-a37b-48cf-b6a0-eec814c182b9",
   "metadata": {},
   "source": [
    "Boxplots sind eine sehr leistungsfähige Technik für die explorative Datenanalyse, da es sehr einfach ist, die Variable von Interesse, in unserem Fall die `nc.score`-Variable, auf andere Variablen zu beziehen und in ihrer Relation darstellen. In Python können wir das erreichen indem wir das Argument `by` in der `boxplot` Methode anwenden.  \n",
    "\n",
    "Zeichnen wir einen Boxplot der Variable `nc.score` in Abhängigkeit von der Variable `semester`. Die `semester`-Variable entspricht dem Semester, in dem der jeweilige Student studiert. Zu Ihrer Information: Die Mindeststudienzeit für die untersuchten Studiengänge ist auf 4 Semester festgelegt."
   ]
  },
  {
   "cell_type": "code",
   "execution_count": 10,
   "id": "e3b125ca-cae0-4a83-af12-39b00cdb1dd0",
   "metadata": {},
   "outputs": [
    {
     "data": {
      "image/png": "[encoded data removed]",
      "text/plain": [
       "<Figure size 864x432 with 1 Axes>"
      ]
     },
     "metadata": {
      "needs_background": "light"
     },
     "output_type": "display_data"
    }
   ],
   "source": [
    "_ = students.boxplot(column=\"nc.score\", by=\"semester\", vert=False, notch=True)"
   ]
  },
  {
   "cell_type": "markdown",
   "id": "add94d51-01af-4b09-942a-d74485a54419",
   "metadata": {},
   "source": [
    "Interessant, nicht wahr? Die Grafik zeigt, dass Studierende höherer Semester ($>5$-tes Semester) beim *Numerus clausus* tendenziell schlechter abschneiden. Mit anderen Worten: Studierende, die ihr Studium innerhalb der Mindeststudienzeit abschließen, haben tendenziell eine höhere *Numerus-clausus*-Punktzahl.\n",
    "\n",
    "Doch damit sind wir noch nicht fertig. Wir wollen wissen, ob das Geschlecht einen Einfluss auf diese Beobachtung hat. Wir können ganz einfach eine Interaktionsvariable einfügen, indem wir die Variable nach den gruppiert werden soll in eckige Klammern setzen : `[var1, var2]`. Außerdem verwenden wir das Argument `notch` in der `boxplot` Methode. Wenn sich die notches zweier Diagramme nicht überschneiden, ist dies ein \"starker Beweis\" dafür, dass sich die beiden Mediane unterscheiden <a href=\"https://fu-berlin.primo.exlibrisgroup.com/discovery/search?vid=49KOBV_FUB:FUBFUB:FUB_ALMA_DS21929110200002883\">(Chambers, et al. (1983): Graphical Methods for Data Analysis. Wadsworth & Brooks/Cole, S. 62)</a>. \n",
    "Bitte beachten Sie, dass wir eine zusätzliche Zeile Code schreiben müssen, um ein schöneres $y$-Label zu erhalten."
   ]
  },
  {
   "cell_type": "code",
   "execution_count": 11,
   "id": "991be515-0dc6-47fe-b20f-500649f9632b",
   "metadata": {},
   "outputs": [
    {
     "data": {
      "image/png": "[encoded data removed]",
      "text/plain": [
       "<Figure size 864x432 with 1 Axes>"
      ]
     },
     "metadata": {
      "needs_background": "light"
     },
     "output_type": "display_data"
    }
   ],
   "source": [
    "_ = students.boxplot(\n",
    "    column=\"nc.score\", by=[\"semester\", \"gender\"], vert=False, notch=True\n",
    ")"
   ]
  },
  {
   "cell_type": "markdown",
   "id": "69d0c1c4-3679-4585-97c2-9b517efd5596",
   "metadata": {},
   "source": [
    "Dieses Diagramm ist nicht so einfach zu interpretieren. Es scheint jedoch, dass die oben gemachte Beobachtung bestätigt wird: Studierende aus höheren Semestern ($>5$-tes) schneiden beim *Numerus clausus* tendenziell schlechter ab. Der Einfluss des Geschlechts auf die *Numerus-Clausus*-Werte ist jedoch nicht so eindeutig. Wir werden Methoden der **Inferenzstatistik** anwenden müssen, um zu beurteilen, ob diese Unterschiede *statistisch signifikant* sind oder ob diese Schwankungen um den Median auch rein zufällig sein könnten.\n",
    "\n",
    "Zum Abschluss dieses Abschnitts und um auch einen Boxplot mit Ausreißern zu sehen, stellen wir die Variable `height` gegen die Variable `gender` dar."
   ]
  },
  {
   "cell_type": "code",
   "execution_count": 12,
   "id": "173b785a-b684-4922-b9bf-feeb54f58d9b",
   "metadata": {},
   "outputs": [
    {
     "data": {
      "image/png": "[encoded data removed]",
      "text/plain": [
       "<Figure size 864x432 with 1 Axes>"
      ]
     },
     "metadata": {
      "needs_background": "light"
     },
     "output_type": "display_data"
    }
   ],
   "source": [
    "_ = students.boxplot(column=\"height\", by=\"gender\")"
   ]
  },
  {
   "cell_type": "markdown",
   "id": "1081aba8-135e-4616-aad3-00d248196e1c",
   "metadata": {},
   "source": [
    "Offensichtlich, und sicherlich nicht unerwartet, gibt es einen Unterschied in der Größe der Studenten zwischen den verschiedenen Gruppen (männlich oder weiblich). Weibliche Studenten sind tendenziell kleiner als männliche, aber wenn wir uns die Extreme ansehen, gibt es in beiden Gruppen große und kleine Personen. Wie bereits erwähnt, müssen wir jedoch zunächst die Daten auf *statistische Signifikanz* prüfen, um sicher zu sein, dass der beobachtete Größenunterschied nicht nur zufällig ist."
   ]
  }
 ],
 "metadata": {
  "kernelspec": {
   "display_name": "Python 3 (ipykernel)",
   "language": "python",
   "name": "python3"
  },
  "language_info": {
   "codemirror_mode": {
    "name": "ipython",
    "version": 3
   },
   "file_extension": ".py",
   "mimetype": "text/x-python",
   "name": "python",
   "nbconvert_exporter": "python",
   "pygments_lexer": "ipython3",
   "version": "3.10.2"
  }
 },
 "nbformat": 4,
 "nbformat_minor": 5
}
