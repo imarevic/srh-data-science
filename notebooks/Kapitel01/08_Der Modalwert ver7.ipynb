{
 "cells": [
  {
   "cell_type": "code",
   "execution_count": 3,
   "id": "4414ddce",
   "metadata": {},
   "outputs": [
    {
     "name": "stdout",
     "output_type": "stream",
     "text": [
      "\n",
      "---------------------------------\n",
      "Working on the host: Joachims-MacBook-Pro.local\n",
      "\n",
      "---------------------------------\n",
      "Python version: 3.10.2 | packaged by conda-forge | (main, Feb  1 2022, 19:30:18) [Clang 11.1.0 ]\n",
      "\n",
      "---------------------------------\n",
      "Python interpreter: /opt/miniconda3/envs/srh/bin/python\n"
     ]
    }
   ],
   "source": [
    "%matplotlib inline\n",
    "# Load the \"autoreload\" extension\n",
    "%load_ext autoreload\n",
    "# always reload modules\n",
    "%autoreload 2\n",
    "# black formatter for jupyter notebooks\n",
    "#%load_ext nb_black\n",
    "# black formatter for jupyter lab\n",
    "%load_ext lab_black\n",
    "\n",
    "%run ../../src/notebook_env.py"
   ]
  },
  {
   "cell_type": "markdown",
   "id": "b30435ca-a281-4c54-b34b-53cd7760d5d5",
   "metadata": {
    "tags": []
   },
   "source": [
    "## Der Modalwert\n",
    "----------------------------------------"
   ]
  },
  {
   "cell_type": "code",
   "execution_count": 2,
   "id": "0549d355-c6e0-4e21-a4f3-47ce53d6457a",
   "metadata": {},
   "outputs": [],
   "source": [
    "import pandas as pd\n",
    "import statistics as st"
   ]
  },
  {
   "cell_type": "markdown",
   "id": "048d1b67-fd20-458b-a350-f1599ec6f8d4",
   "metadata": {
    "jp-MarkdownHeadingCollapsed": true,
    "tags": []
   },
   "source": [
    "In der Statistik stellt der **Modus** den häufigsten Wert in einem Datensatz dar. Der Modalwert ist also der Wert, der in einem Datensatz mit der größten Häufigkeit auftritt *({cite:p}`fahrmeirstatistik` s. 53)*. In Bezug auf die graphische Häufigkeitsverteilung entspricht der Modus dem Scheitelpunkt bzw. den Scheitelpunkten des Diagramms. Ein großes Manko des Modus ist, dass ein Datensatz keinen oder mehr als einen Modalwert haben kann, während er nur einen Mittelwert und nur einen Median hat. Ein Datensatz, bei dem jeder Wert nur einmal vorkommt, hat zum Beispiel keinen Modus. Ein Datensatz, bei dem nur ein Wert mit der größten Häufigkeit vorkommt, hat nur einen Modus. Der Datensatz wird in diesem Fall als **unimodal** bezeichnet. Ein Datensatz mit zwei Werten, die am häufigsten vorkommen, hat zwei Modi. Die Verteilung wird in diesem Fall als **bimodal** bezeichnet. Wenn mehr als zwei Werte in einem Datensatz am häufigsten vorkommen, dann enthält der Datensatz mehr als zwei Modi und wird als **multimodal** bezeichnet ({cite:p}`fahrmeirstatistik` s. 81,83)."
   ]
  },
  {
   "cell_type": "markdown",
   "id": "d58c7c7f-f078-4ab1-bb4c-0d7f0d4e2ccf",
   "metadata": {},
   "source": [
    "![Alt-Text](_img/modalwert.png)"
   ]
  },
  {
   "cell_type": "markdown",
   "id": "431cc3a9-89c3-4d31-9d24-23527621d3f6",
   "metadata": {},
   "source": [
    "Anders als der Mittelwert und der Median kann der Modus für quantitative (numerische) und qualitative (kategoriale) Daten verwendet werden. Python verfügt über eine vordefinierte Funktion `mode()` zur Berechnung des Modus im Paket `statistics`. Wir verwenden diese um den Modalwert aller Spaltenwerte des `students`datensatzes zu berechnen."
   ]
  },
  {
   "cell_type": "code",
   "execution_count": 6,
   "metadata": {},
   "outputs": [
    {
     "name": "stdout",
     "output_type": "stream",
     "text": [
      "Der Modalwert der Spalte 'gender' ist 'Male'.\n",
      "Der Modalwert der Spalte 'age' ist '21'.\n",
      "Der Modalwert der Spalte 'religion' ist 'Catholic'.\n",
      "Der Modalwert der Spalte 'nc.score' ist '1.18'.\n",
      "Der Modalwert der Spalte 'semester' ist '1st'.\n",
      "Der Modalwert der Spalte 'height' ist '174'.\n",
      "Der Modalwert der Spalte 'weight' ist '67.1'.\n"
     ]
    }
   ],
   "source": [
    "df = pd.read_csv(\"students.csv\")\n",
    "for col in [\"gender\", \"age\", \"religion\", \"nc.score\", \"semester\", \"height\", \"weight\"]:\n",
    "    print(f\"Der Modalwert der Spalte '{col}' ist '{st.mode(df[col])}'.\")"
   ]
  }
 ],
 "metadata": {
  "interpreter": {
   "hash": "a36818faf5a63422d892f0834edc6414f1b25ba9b5d6bbe87802a22f3b883f5c"
  },
  "kernelspec": {
   "display_name": "Python 3.10.2 ('srh')",
   "language": "python",
   "name": "python3"
  },
  "language_info": {
   "codemirror_mode": {
    "name": "ipython",
    "version": 3
   },
   "file_extension": ".py",
   "mimetype": "text/x-python",
   "name": "python",
   "nbconvert_exporter": "python",
   "pygments_lexer": "ipython3",
   "version": "3.10.2"
  }
 },
 "nbformat": 4,
 "nbformat_minor": 5
}
