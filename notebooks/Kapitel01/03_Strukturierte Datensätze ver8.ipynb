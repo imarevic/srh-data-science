{
 "cells": [
  {
   "cell_type": "markdown",
   "id": "cfd12536-42f1-4bd4-bfcd-6664c450ddb3",
   "metadata": {
    "tags": []
   },
   "source": [
    "## Strukturierte Datensätze\n",
    "----------------------------------------"
   ]
  },
  {
   "cell_type": "code",
   "execution_count": 1,
   "id": "591d79df-4382-42ae-9478-605f973fb2d4",
   "metadata": {},
   "outputs": [],
   "source": [
    "import pandas as pd"
   ]
  },
  {
   "cell_type": "markdown",
   "id": "fba4c45a-48a5-4685-9ca5-6821c4b8fa41",
   "metadata": {},
   "source": [
    "### Strukturierte Daten\n",
    "Bei <a href=\"https://en.wikipedia.org/wiki/Data_science\">Data Science</a> geht es um die Gewinnung von Wissen aus \n",
    "<a href=\"https://en.wikipedia.org/wiki/Data\">Daten</a>\n",
    ". Daten sind eine spezifische Form von <a href=\"https://en.wikipedia.org/wiki/Information\">Informationen</a> und weisen verschiedene Abstraktions- und Strukturniveaus auf (<a href=\"https://en.wikipedia.org/wiki/Data_model\">strukturiert</a>, <a href=\"https://en.wikipedia.org/wiki/Semi-structured_data\">halbstrukturiert</a> oder <a href=\"https://en.wikipedia.org/wiki/Unstructured_data\">unstrukturiert</a>). <br> Eine sehr verbreitete <a href=\"https://en.wikipedia.org/wiki/Data_structure\">Datenstruktur</a> ist ein Array. In verschiedenen Bereichen gibt es andere Bezeichnungen für einen solchen Datentyp, die synonym verwendet werden, z. B. <a href=\"https://en.wikipedia.org/wiki/Matrix_(mathematics)\">Matrix</a> in der Mathematik, <a href=\"https://en.wikipedia.org/wiki/Table_(database)\">Tabelle</a> in Datenbanken, <a href=\"https://en.wikipedia.org/wiki/SpreadsheetDatenrahmen\">Tabellenkalkulation</a> und <a href=\"https://www.geeksforgeeks.org/python-pandas-dataframe/\">Dataframe</a> , der eine grundlegende Python-Objektklasse ist zB : (Pandas DataFrame). <br> Daten eines solchen Typs bestehen aus Beobachtungen und entsprechenden Variablen, die oft als Merkmale bezeichnet werden."
   ]
  },
  {
   "cell_type": "markdown",
   "id": "d5dadf13-5991-4883-8b43-4ad3e8b1b53f",
   "metadata": {},
   "source": [
    "\n",
    "\n",
    "<body>\n",
    "\n",
    "<table border=\"1\" width=\"500\" height=\"200\">\n",
    "  <tr>\n",
    "    <td width=\"300\" height=\"100\">id</td>\n",
    "    <td width=\"300\" height=\"100\">Name</td>\n",
    "    <td width=\"300\" height=\"100\">Age</td>\n",
    "  </tr>\n",
    "  <tr>\n",
    "    <td>1</td>\n",
    "    <td>John</td>\n",
    "    <td>26</td>\n",
    "  </tr>\n",
    "  <tr>\n",
    "    <td>2</td>\n",
    "    <td>Alice</td>\n",
    "    <td>20</td>\n",
    "   </tr>\n",
    "  <tr>\n",
    "    <td>3</td>\n",
    "    <td>Mike</td>\n",
    "    <td>21</td>\n",
    "   <tr>\n",
    "    <td>4</td>\n",
    "    <td>Anne</td>\n",
    "    <td>25</td>\n",
    "  </tr>\n",
    "</table>\n",
    "\n",
    "</body>\n",
    "</html>"
   ]
  },
  {
   "cell_type": "markdown",
   "id": "e3d3baba-9e71-4f86-937d-ffbe90edad35",
   "metadata": {},
   "source": [
    "In diesem Beispiel entsprechen die **Beobachtungen** (*Stichprobe* genannt) einer Anzahl von Personen. Jede beobachtete Person wird durch eine Reihe von **Variablen** (so genannte *Merkmale*) charakterisiert: durch eine Identifikationsnummer (id), durch einen Namen und durch ein Alter. In unserem Beispiel ist es sehr einfach, sich durch einen Blick auf die Tabelle einen Gesamteindruck von den Daten selbst zu verschaffen. Wir erkennen sofort, dass es in unserer Stichprobe 4 Personen gibt, zwei Frauen und zwei Männer. Außerdem sehen wir sofort, dass die jüngste Person 20 Jahre alt ist und Alice heißt und die älteste Person 26 Jahre alt ist und John heißt; perfekt!\n",
    "\n",
    "Anwendungen in der realen Welt enthalten jedoch oft eine große Menge an Daten. Hunderte, Tausende, Millionen oder sogar Milliarden von Beobachtungen, kombiniert mit Tausenden von Variablen, können einen Datensatz bilden. Für den Menschen ist es unmöglich, allein durch die Betrachtung solcher Datensätze irgendwelche Schlussfolgerungen über die Daten zu ziehen. Daher reduzieren wir die Daten auf eine überschaubare Größe, indem wir Tabellen erstellen, Diagramme zeichnen oder zusammenfassende Maße wie Durchschnittswerte berechnen. Diese Art von statistischen Methoden wird als **deskriptive Statistik** bezeichnet (Mann 2012)."
   ]
  },
  {
   "cell_type": "markdown",
   "id": "1e2e1672-7f2b-4199-a1fc-d64d799b9d16",
   "metadata": {},
   "source": [
    "### Der Studenten Datensatz\n",
    "In diesem Abschnitt werden wir einen Datensatz namens \"`students`\" untersuchen. Sie können die Datei `students.csv` <a href=\"https://userpage.fu-berlin.de/soga/200/2010_data_sets/students.csv\">hier</a>  herunterladen. Zunächst laden wir den Datensatz, geben ihm einen geeigneten Namen und verschaffen uns einen Eindruck von seiner Struktur und Größe, indem wir die Methode `info()` auf den Datensatz anwenden."
   ]
  },
  {
   "cell_type": "code",
   "execution_count": 4,
   "id": "8fda789d-c441-46d4-9dff-8d9e763e168a",
   "metadata": {},
   "outputs": [
    {
     "name": "stdout",
     "output_type": "stream",
     "text": [
      "<class 'pandas.core.frame.DataFrame'>\n",
      "Int64Index: 8239 entries, 1 to 8239\n",
      "Data columns (total 16 columns):\n",
      " #   Column           Non-Null Count  Dtype  \n",
      "---  ------           --------------  -----  \n",
      " 0   stud.id          8239 non-null   int64  \n",
      " 1   name             8239 non-null   object \n",
      " 2   gender           8239 non-null   object \n",
      " 3   age              8239 non-null   int64  \n",
      " 4   height           8239 non-null   int64  \n",
      " 5   weight           8239 non-null   float64\n",
      " 6   religion         8239 non-null   object \n",
      " 7   nc.score         8239 non-null   float64\n",
      " 8   semester         8239 non-null   object \n",
      " 9   major            8239 non-null   object \n",
      " 10  minor            8239 non-null   object \n",
      " 11  score1           4892 non-null   float64\n",
      " 12  score2           4892 non-null   float64\n",
      " 13  online.tutorial  8239 non-null   int64  \n",
      " 14  graduated        8239 non-null   int64  \n",
      " 15  salary           1753 non-null   float64\n",
      "dtypes: float64(5), int64(5), object(6)\n",
      "memory usage: 1.1+ MB\n"
     ]
    }
   ],
   "source": [
    "# Lese Datei students.csv als Dataframe ein; Indexspalte wird übersprungen\n",
    "df = pd.read_csv('students.csv', index_col=0)\n",
    "df.info()"
   ]
  },
  {
   "cell_type": "markdown",
   "id": "241a8bf1-7a0f-45a9-97d8-b6df5df44d6c",
   "metadata": {},
   "source": [
    "Der Studentendatensatz besteht aus 8239 Zeilen, von denen jede einen bestimmten Studenten repräsentiert, und 16 Spalten, von denen jede einer Variable/einem Merkmal entspricht, das sich auf diesen bestimmten Studenten bezieht. Diese selbsterklärenden Variablen sind: *stud.id, name, gender, age, height, weight, religion, nc.score, semester, major, minor, score1, score2, online.tutorial, graduated, salary*. Neben dem jeweiligen Variablennamen listet die Methode `info()` die `Klasse` jeder einzelnen Variablen auf. Alle Objekte in Python haben eine Klasse, z. B. `numerische` Datentypen , die in die Unterklassen `(int)` Ganzzahlen , `(float)` Gleitkommazahlen und `(imag)`komplexe Zahlen, eingeteilt werden.\n",
    "\n",
    "In den nächsten Abschnitten werden wir die deskriptiven Statistiken des *`students` Datensatzes* genauer untersuchen.\n"
   ]
  },
  {
   "cell_type": "code",
   "execution_count": null,
   "id": "e78602cb-9dfa-40b7-a78d-b6dc1f6e47af",
   "metadata": {},
   "outputs": [],
   "source": []
  }
 ],
 "metadata": {
  "kernelspec": {
   "display_name": "Python 3 (ipykernel)",
   "language": "python",
   "name": "python3"
  },
  "language_info": {
   "codemirror_mode": {
    "name": "ipython",
    "version": 3
   },
   "file_extension": ".py",
   "mimetype": "text/x-python",
   "name": "python",
   "nbconvert_exporter": "python",
   "pygments_lexer": "ipython3",
   "version": "3.10.2"
  }
 },
 "nbformat": 4,
 "nbformat_minor": 5
}
