{
 "cells": [
  {
   "cell_type": "markdown",
   "id": "2d6b2660-b074-414e-a018-adfbb5e0b5d2",
   "metadata": {},
   "source": [
    "## Grundlagen der Statistik - Konzepte und Anwendungen\n",
    "----------------------------------------"
   ]
  },
  {
   "cell_type": "markdown",
   "id": "7372d394-5b1b-4ed0-84c6-64bd60d69f77",
   "metadata": {},
   "source": [
    "Willkommen im Bereich **Grundlagen der Statistik - Konzepte und Anwendungen**. In diesem Abschnitt lernen Sie die Grundlagen der Statistik kennen, mit besonderem Schwerpunkt auf deskriptiver Statistik und Inferenzstatistik. In den folgenden Unterkapiteln stellen wir Ihnen die statistische Theorie vor und geben Ihnen praktische Hinweise zum Programmieren in der Programmierumgebung Python. Wenn Sie noch nicht mit Python vertraut sind, empfehlen wir Ihnen, zunächst den Abschnitt EINFÜHRUNG IN DIE DATENANALYSE MIT PYTHON durchzuarbeiten.\n",
    "<br>\n",
    "<br>\n",
    "Bitte beachten Sie, dass der Inhalt des Kapitels GRUNDLAGEN DER STATISTIK - KONZEPTE UND ANWENDUNGEN den Stoff der Lehrveranstaltung **Einführung in die Statistik** am Fachbereich Geowissenschaften, Institut für Geographische Wissenschaften der Freien Universität Berlin, ergänzt und erweitert.\n",
    "<br>\n",
    "Bei der Erstellung dieses Abschnitts wurden alle Anstrengungen unternommen, um die Richtigkeit der dargestellten Informationen zu gewährleisten. Die Angaben erfolgen jedoch ohne Gewähr, weder ausdrücklich noch stillschweigend. Weder der Autor noch die Freie Universität Berlin können für Schäden haftbar gemacht werden, die direkt oder indirekt durch den Inhalt dieses Abschnitts verursacht wurden oder angeblich verursacht wurden.\n",
    "<br>\n",
    "Sollten Sie Schreib- oder Kodierungsfehler finden oder Vorschläge zur Verbesserung der Lesbarkeit haben, würden wir uns freuen, wenn Sie uns <a href=\"https://www.geo.fu-berlin.de/geog/fachrichtungen/angeog/mitarbeiter/sonstige/khartmann/index.html\">kontaktieren</a>."
   ]
  }
 ],
 "metadata": {
  "kernelspec": {
   "display_name": "Python 3 (ipykernel)",
   "language": "python",
   "name": "python3"
  },
  "language_info": {
   "codemirror_mode": {
    "name": "ipython",
    "version": 3
   },
   "file_extension": ".py",
   "mimetype": "text/x-python",
   "name": "python",
   "nbconvert_exporter": "python",
   "pygments_lexer": "ipython3",
   "version": "3.10.0"
  }
 },
 "nbformat": 4,
 "nbformat_minor": 5
}
