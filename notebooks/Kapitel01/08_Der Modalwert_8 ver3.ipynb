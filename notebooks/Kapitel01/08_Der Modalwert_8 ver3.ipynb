{
 "cells": [
  {
   "cell_type": "markdown",
   "id": "048d1b67-fd20-458b-a350-f1599ec6f8d4",
   "metadata": {},
   "source": [
    "## Der Modalwert\n",
    "In der Statistik stellt der **Modus** den häufigsten Wert in einem Datensatz dar. Der Modalwert ist also der Wert, der in einem Datensatz mit der größten Häufigkeit auftritt *(Mann 2012)*. In Bezug auf die graphische Häufigkeitsverteilung entspricht der Modus dem Scheitelpunkt bzw. den Scheitelpunkten des Diagramms. Ein großes Manko des Modus ist, dass ein Datensatz keinen oder mehr als einen Modalwert haben kann, während er nur einen Mittelwert und nur einen Median hat. Ein Datensatz, bei dem jeder Wert nur einmal vorkommt, hat zum Beispiel keinen Modus. Ein Datensatz, bei dem nur ein Wert mit der größten Häufigkeit vorkommt, hat nur einen Modus. Der Datensatz wird in diesem Fall als **unimodal** bezeichnet. Ein Datensatz mit zwei Werten, die am häufigsten vorkommen, hat zwei Modi. Die Verteilung wird in diesem Fall als **bimodal** bezeichnet. Wenn mehr als zwei Werte in einem Datensatz am häufigsten vorkommen, dann enthält der Datensatz mehr als zwei Modi und wird als **multimodal** bezeichnet *(Mann 2012)*. <br> <br>\n",
    "![Alt-Text](modalwert.png)"
   ]
  },
  {
   "cell_type": "markdown",
   "id": "431cc3a9-89c3-4d31-9d24-23527621d3f6",
   "metadata": {},
   "source": [
    "Anders als der Mittelwert und der Median kann der Modus für quantitative (numerische) und qualitative (kategoriale) Daten verwendet werden. Python verfügt nicht über eine Funktion zur Berechnung des Modus im Paket $statistics$. Wir verwenden diese um den Modalwert des Alters der Studenten zu berechnen."
   ]
  },
  {
   "cell_type": "code",
   "execution_count": 8,
   "id": "8e879492-66b7-4763-85f3-203aaf6aae64",
   "metadata": {},
   "outputs": [
    {
     "name": "stdout",
     "output_type": "stream",
     "text": [
      "Modalwert des Alters der Studenten 21.0\n"
     ]
    }
   ],
   "source": [
    "import pandas as pd\n",
    "studentsdb=pd.read_csv('students2.csv')\n",
    "#print(studentsdb)\n",
    "from csv import DictReader\n",
    "import statistics as st\n",
    "import numpy as np\n",
    "import matplotlib.pyplot as plt\n",
    "age = []\n",
    "summe_alter= 0\n",
    "anzahl=0\n",
    "# iterate over each line as a ordered dictionary and print only few column by column name\n",
    "with open('students2.csv', 'r') as read_obj:\n",
    "    csv_dict_reader = DictReader(read_obj)\n",
    "    for row in csv_dict_reader:\n",
    "        #build list with age of each student\n",
    "        age.append( float(row['height']))\n",
    "modus_alter = st.mode(age)\n",
    "#print(age)\n",
    "print('Modalwert des Alters der Studenten', modus_alter)"
   ]
  },
  {
   "cell_type": "code",
   "execution_count": null,
   "id": "0db93ee2-b76c-4c37-8c09-d364aa958b93",
   "metadata": {},
   "outputs": [],
   "source": []
  }
 ],
 "metadata": {
  "kernelspec": {
   "display_name": "Python 3 (ipykernel)",
   "language": "python",
   "name": "python3"
  },
  "language_info": {
   "codemirror_mode": {
    "name": "ipython",
    "version": 3
   },
   "file_extension": ".py",
   "mimetype": "text/x-python",
   "name": "python",
   "nbconvert_exporter": "python",
   "pygments_lexer": "ipython3",
   "version": "3.10.0"
  }
 },
 "nbformat": 4,
 "nbformat_minor": 5
}
