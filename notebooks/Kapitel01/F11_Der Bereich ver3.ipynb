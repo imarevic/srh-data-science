{
 "cells": [
  {
   "cell_type": "markdown",
   "id": "e8f0e508-7e41-4735-8447-9334dfa09499",
   "metadata": {},
   "source": [
    "## Der Bereich\n",
    "----------------------------------------"
   ]
  },
  {
   "cell_type": "code",
   "execution_count": 18,
   "id": "658904f9-6ab0-4561-b5aa-cfffc2b73695",
   "metadata": {},
   "outputs": [],
   "source": [
    "# Importiere pandas\n",
    "\n",
    "import pandas as pd"
   ]
  },
  {
   "cell_type": "markdown",
   "id": "ef1cd4d6-ae35-4ecd-9611-f98ef540c899",
   "metadata": {
    "jp-MarkdownHeadingCollapsed": true,
    "tags": []
   },
   "source": [
    "Der **Bereich** als Maß für die Streuung ist einfach zu berechnen. Sie ergibt sich aus der Differenz zwischen dem größten und dem kleinsten Wert in einem Datensatz.\n",
    "$$\\text{Range} = \\text{kleinster Wert} - \\text{größter Wert}  $$"
   ]
  },
  {
   "cell_type": "markdown",
   "id": "57c8a9ff-b434-4822-98a0-fbd082aea37d",
   "metadata": {},
   "source": [
    "Betrachten wir unseren `students` datensatz. Wir unterteilen den Datensatz so, dass er nur numerische Daten enthält."
   ]
  },
  {
   "cell_type": "code",
   "execution_count": 3,
   "id": "e6f1b4f8-41ef-48c6-a8fa-9096ab16866e",
   "metadata": {},
   "outputs": [
    {
     "data": {
      "text/html": [
       "<div>\n",
       "<style scoped>\n",
       "    .dataframe tbody tr th:only-of-type {\n",
       "        vertical-align: middle;\n",
       "    }\n",
       "\n",
       "    .dataframe tbody tr th {\n",
       "        vertical-align: top;\n",
       "    }\n",
       "\n",
       "    .dataframe thead th {\n",
       "        text-align: right;\n",
       "    }\n",
       "</style>\n",
       "<table border=\"1\" class=\"dataframe\">\n",
       "  <thead>\n",
       "    <tr style=\"text-align: right;\">\n",
       "      <th></th>\n",
       "      <th>stud.id</th>\n",
       "      <th>name</th>\n",
       "      <th>gender</th>\n",
       "      <th>age</th>\n",
       "      <th>height</th>\n",
       "      <th>weight</th>\n",
       "      <th>religion</th>\n",
       "      <th>nc.score</th>\n",
       "      <th>semester</th>\n",
       "      <th>major</th>\n",
       "      <th>minor</th>\n",
       "      <th>score1</th>\n",
       "      <th>score2</th>\n",
       "      <th>online.tutorial</th>\n",
       "      <th>graduated</th>\n",
       "      <th>salary</th>\n",
       "    </tr>\n",
       "  </thead>\n",
       "  <tbody>\n",
       "    <tr>\n",
       "      <th>1</th>\n",
       "      <td>833917</td>\n",
       "      <td>Gonzales, Christina</td>\n",
       "      <td>Female</td>\n",
       "      <td>19</td>\n",
       "      <td>160</td>\n",
       "      <td>64.8</td>\n",
       "      <td>Muslim</td>\n",
       "      <td>1.91</td>\n",
       "      <td>1st</td>\n",
       "      <td>Political Science</td>\n",
       "      <td>Social Sciences</td>\n",
       "      <td>NaN</td>\n",
       "      <td>NaN</td>\n",
       "      <td>0</td>\n",
       "      <td>0</td>\n",
       "      <td>NaN</td>\n",
       "    </tr>\n",
       "    <tr>\n",
       "      <th>2</th>\n",
       "      <td>898539</td>\n",
       "      <td>Lozano, T'Hani</td>\n",
       "      <td>Female</td>\n",
       "      <td>19</td>\n",
       "      <td>172</td>\n",
       "      <td>73.0</td>\n",
       "      <td>Other</td>\n",
       "      <td>1.56</td>\n",
       "      <td>2nd</td>\n",
       "      <td>Social Sciences</td>\n",
       "      <td>Mathematics and Statistics</td>\n",
       "      <td>NaN</td>\n",
       "      <td>NaN</td>\n",
       "      <td>0</td>\n",
       "      <td>0</td>\n",
       "      <td>NaN</td>\n",
       "    </tr>\n",
       "    <tr>\n",
       "      <th>3</th>\n",
       "      <td>379678</td>\n",
       "      <td>Williams, Hanh</td>\n",
       "      <td>Female</td>\n",
       "      <td>22</td>\n",
       "      <td>168</td>\n",
       "      <td>70.6</td>\n",
       "      <td>Protestant</td>\n",
       "      <td>1.24</td>\n",
       "      <td>3rd</td>\n",
       "      <td>Social Sciences</td>\n",
       "      <td>Mathematics and Statistics</td>\n",
       "      <td>45.0</td>\n",
       "      <td>46.0</td>\n",
       "      <td>0</td>\n",
       "      <td>0</td>\n",
       "      <td>NaN</td>\n",
       "    </tr>\n",
       "    <tr>\n",
       "      <th>4</th>\n",
       "      <td>807564</td>\n",
       "      <td>Nem, Denzel</td>\n",
       "      <td>Male</td>\n",
       "      <td>19</td>\n",
       "      <td>183</td>\n",
       "      <td>79.7</td>\n",
       "      <td>Other</td>\n",
       "      <td>1.37</td>\n",
       "      <td>2nd</td>\n",
       "      <td>Environmental Sciences</td>\n",
       "      <td>Mathematics and Statistics</td>\n",
       "      <td>NaN</td>\n",
       "      <td>NaN</td>\n",
       "      <td>0</td>\n",
       "      <td>0</td>\n",
       "      <td>NaN</td>\n",
       "    </tr>\n",
       "    <tr>\n",
       "      <th>5</th>\n",
       "      <td>383291</td>\n",
       "      <td>Powell, Heather</td>\n",
       "      <td>Female</td>\n",
       "      <td>21</td>\n",
       "      <td>175</td>\n",
       "      <td>71.4</td>\n",
       "      <td>Catholic</td>\n",
       "      <td>1.46</td>\n",
       "      <td>1st</td>\n",
       "      <td>Environmental Sciences</td>\n",
       "      <td>Mathematics and Statistics</td>\n",
       "      <td>NaN</td>\n",
       "      <td>NaN</td>\n",
       "      <td>0</td>\n",
       "      <td>0</td>\n",
       "      <td>NaN</td>\n",
       "    </tr>\n",
       "  </tbody>\n",
       "</table>\n",
       "</div>"
      ],
      "text/plain": [
       "   stud.id                 name  gender  age  height  weight    religion  \\\n",
       "1   833917  Gonzales, Christina  Female   19     160    64.8      Muslim   \n",
       "2   898539       Lozano, T'Hani  Female   19     172    73.0       Other   \n",
       "3   379678       Williams, Hanh  Female   22     168    70.6  Protestant   \n",
       "4   807564          Nem, Denzel    Male   19     183    79.7       Other   \n",
       "5   383291      Powell, Heather  Female   21     175    71.4    Catholic   \n",
       "\n",
       "   nc.score semester                   major                       minor  \\\n",
       "1      1.91      1st       Political Science             Social Sciences   \n",
       "2      1.56      2nd         Social Sciences  Mathematics and Statistics   \n",
       "3      1.24      3rd         Social Sciences  Mathematics and Statistics   \n",
       "4      1.37      2nd  Environmental Sciences  Mathematics and Statistics   \n",
       "5      1.46      1st  Environmental Sciences  Mathematics and Statistics   \n",
       "\n",
       "   score1  score2  online.tutorial  graduated  salary  \n",
       "1     NaN     NaN                0          0     NaN  \n",
       "2     NaN     NaN                0          0     NaN  \n",
       "3    45.0    46.0                0          0     NaN  \n",
       "4     NaN     NaN                0          0     NaN  \n",
       "5     NaN     NaN                0          0     NaN  "
      ]
     },
     "execution_count": 3,
     "metadata": {},
     "output_type": "execute_result"
    }
   ],
   "source": [
    "df = pd.read_csv('students.csv', index_col=0)\n",
    "preview = df.head()\n",
    "preview"
   ]
  },
  {
   "cell_type": "markdown",
   "id": "ab29ad91-25c7-438c-bd16-165d9378f173",
   "metadata": {},
   "source": [
    "Wir sind also an den Kategorien age, height, weight und nc.score interessiert."
   ]
  },
  {
   "cell_type": "code",
   "execution_count": 15,
   "id": "70c0bd48-248d-41d6-a84b-39cc2e399196",
   "metadata": {},
   "outputs": [],
   "source": [
    "age = df['age']\n",
    "height = df['height']\n",
    "weight = df['weight']\n",
    "nc_score = df['nc.score']"
   ]
  },
  {
   "cell_type": "markdown",
   "id": "4dbdadfb-61d8-4e1e-a65d-22b5488a23ea",
   "metadata": {},
   "source": [
    "Wir verwenden die Methoden `min()` und `max()`, die jeweils den minimalen bzw. maximalen Wert aller angegebenen Argumente einer Spalte zurückgibt, um das Minimum und Maximum für jede einzelne Variable bzw. Spalte des Datensatzes zu berechnen."
   ]
  },
  {
   "cell_type": "code",
   "execution_count": 16,
   "id": "52f2a27d-ccaf-4b4d-ba2a-ece7dfb3528e",
   "metadata": {},
   "outputs": [
    {
     "name": "stdout",
     "output_type": "stream",
     "text": [
      "minimales Alter: 18\n",
      "maximales Alter: 64\n",
      "minimale Größe: 135\n",
      "maximale Größe: 206\n",
      "minimales Gewicht: 51.4\n",
      "maximales Gewicht: 116.0\n",
      "minimaler nc.score: 1.0\n",
      "maximaler nc.score: 4.0\n"
     ]
    }
   ],
   "source": [
    "print('minimales Alter:',age.min())\n",
    "print('maximales Alter:',age.max())\n",
    "print('minimale Größe:',height.min())\n",
    "print('maximale Größe:',height.max())\n",
    "print('minimales Gewicht:',weight.min())\n",
    "print('maximales Gewicht:',weight.max())\n",
    "print('minimaler nc.score:',nc_score.min())\n",
    "print('maximaler nc.score:',nc_score.max())"
   ]
  },
  {
   "cell_type": "markdown",
   "id": "b9265538-25a6-405b-8de4-808d61270ecd",
   "metadata": {},
   "source": [
    "Um nun den Bereich für jede Variable zu berechnen, müssen wir nur eine Zeile von der anderen abziehen."
   ]
  },
  {
   "cell_type": "code",
   "execution_count": 17,
   "id": "979240a7-f23b-4d0d-8c99-13f064a9a979",
   "metadata": {},
   "outputs": [
    {
     "name": "stdout",
     "output_type": "stream",
     "text": [
      "Bereich Alter: 46\n",
      "Bereich Größe: 71\n",
      "Bereich Gewicht: 64.6\n",
      "Bereich nc.score: 3.0\n"
     ]
    }
   ],
   "source": [
    "print('Bereich Alter:',age.max() - age.min())\n",
    "print('Bereich Größe:',height.max() - height.min())\n",
    "print('Bereich Gewicht:',weight.max() - weight.min())\n",
    "print('Bereich nc.score:',nc_score.max() - nc_score.min())"
   ]
  },
  {
   "cell_type": "markdown",
   "id": "0bfd3e95-d653-40aa-990f-7c590d662444",
   "metadata": {},
   "source": [
    "Der Bereich hat wie der Mittelwert den Nachteil, dass er durch Ausreißer beeinflusst wird. Daher ist der Bereich kein gutes Streuungsmaß für einen Datensatz, der Ausreißer enthält. Ein weiterer Nachteil der Verwendung des Bereichs als Streuungsmaß ist, dass seine Berechnung nur auf zwei Werten basiert: dem größten und dem kleinsten. Alle anderen Werte in einem Datensatz werden bei der Berechnung der Spanne ignoriert. Daher ist der Bereich kein sehr zufriedenstellendes Maß für die Streuung (Mann 2012)."
   ]
  }
 ],
 "metadata": {
  "kernelspec": {
   "display_name": "Python 3 (ipykernel)",
   "language": "python",
   "name": "python3"
  },
  "language_info": {
   "codemirror_mode": {
    "name": "ipython",
    "version": 3
   },
   "file_extension": ".py",
   "mimetype": "text/x-python",
   "name": "python",
   "nbconvert_exporter": "python",
   "pygments_lexer": "ipython3",
   "version": "3.10.0"
  }
 },
 "nbformat": 4,
 "nbformat_minor": 5
}
