{
 "cells": [
  {
   "cell_type": "markdown",
   "id": "cfd12536-42f1-4bd4-bfcd-6664c450ddb3",
   "metadata": {
    "tags": []
   },
   "source": [
    "## Strukturierte Datensätze :\n",
    "### Strukturierte Daten"
   ]
  },
  {
   "cell_type": "markdown",
   "id": "fba4c45a-48a5-4685-9ca5-6821c4b8fa41",
   "metadata": {},
   "source": [
    "Bei <a href=\"https://en.wikipedia.org/wiki/Data_science\">Data Science</a> geht es um die Gewinnung von Wissen aus \n",
    "<a href=\"https://en.wikipedia.org/wiki/Data\">Daten</a>\n",
    ". Daten sind eine spezifische Form von <a href=\"https://en.wikipedia.org/wiki/Information\">Informationen</a> und weisen verschiedene Abstraktions- und Strukturniveaus auf (<a href=\"https://en.wikipedia.org/wiki/Data_model\">strukturiert</a>, <a href=\"https://en.wikipedia.org/wiki/Semi-structured_data\">halbstrukturiert</a> oder <a href=\"https://en.wikipedia.org/wiki/Unstructured_data\">unstrukturiert</a>). <br> Eine sehr verbreitete <a href=\"https://en.wikipedia.org/wiki/Data_structure\">Datenstruktur</a> ist ein Array. In verschiedenen Bereichen gibt es andere Bezeichnungen für einen solchen Datentyp, die synonym verwendet werden, z. B. <a href=\"https://en.wikipedia.org/wiki/Matrix_(mathematics)\">Matrix</a> in der Mathematik, <a href=\"https://en.wikipedia.org/wiki/Table_(database)\">Tabelle</a> in Datenbanken, <a href=\"https://en.wikipedia.org/wiki/SpreadsheetDatenrahmen\">Tabellenkalkulation</a> und #<a href=\"https://www.geeksforgeeks.org/python-pandas-dataframe/\">data.frame</a> , der eine grundlegende Python-Objektklasse ist zB : (Pandas DataFrame)#. <br> Daten eines solchen Typs bestehen aus Beobachtungen und entsprechenden Variablen, die oft als Merkmale bezeichnet werden."
   ]
  },
  {
   "cell_type": "markdown",
   "id": "d5dadf13-5991-4883-8b43-4ad3e8b1b53f",
   "metadata": {},
   "source": [
    "<head>\n",
    "<title>Tabelle mit Breitenangaben in Prozent</title>\n",
    "    <body>\n",
    "<head>\n",
    "<title>Tabelle mit Breitenangabe in Pixeln</title>\n",
    "</head>\n",
    "\n",
    "<body>\n",
    "\n",
    "<table border=\"1\" width=\"500\" height=\"200\">\n",
    "  <tr>\n",
    "    <td width=\"300\" height=\"100\">id</td>\n",
    "    <td width=\"300\" height=\"100\">Name</td>\n",
    "    <td width=\"300\" height=\"100\">Age</td>\n",
    "  </tr>\n",
    "  <tr>\n",
    "    <td>1</td>\n",
    "    <td>John</td>\n",
    "    <td>26</td>\n",
    "  </tr>\n",
    "  <tr>\n",
    "    <td>2</td>\n",
    "    <td>Alice</td>\n",
    "    <td>20</td>\n",
    "   </tr>\n",
    "  <tr>\n",
    "    <td>3</td>\n",
    "    <td>Mike</td>\n",
    "    <td>21</td>\n",
    "   <tr>\n",
    "    <td>4</td>\n",
    "    <td>Anne</td>\n",
    "    <td>25</td>\n",
    "  </tr>\n",
    "</table>\n",
    "\n",
    "</body>\n",
    "</html>"
   ]
  },
  {
   "cell_type": "markdown",
   "id": "e3d3baba-9e71-4f86-937d-ffbe90edad35",
   "metadata": {},
   "source": [
    "In diesem Beispiel entsprechen die **Beobachtungen** (*Stichprobe* genannt) einer Anzahl von Personen. Jede beobachtete Person wird durch eine Reihe von **Variablen** (so genannte *Merkmale*) charakterisiert: durch eine Identifikationsnummer (id), durch einen Namen und durch ein Alter. In unserem Beispiel ist es sehr einfach, sich durch einen Blick auf die Tabelle einen Gesamteindruck von den Daten selbst zu verschaffen. Wir erkennen sofort, dass es in unserer Stichprobe 4 Personen gibt, zwei Frauen und zwei Männer. Außerdem sehen wir sofort, dass die jüngste Person 20 Jahre alt ist und Alice heißt und die älteste Person 26 Jahre alt ist und John heißt; perfekt!\n",
    "\n",
    "Anwendungen in der realen Welt enthalten jedoch oft eine große Menge an Daten. Hunderte, Tausende, Millionen oder sogar Milliarden von Beobachtungen, kombiniert mit Tausenden von Variablen, können einen Datensatz bilden. Für den Menschen ist es unmöglich, allein durch die Betrachtung solcher Datensätze irgendwelche Schlussfolgerungen über die Daten zu ziehen. Daher reduzieren wir die Daten auf eine überschaubare Größe, indem wir Tabellen erstellen, Diagramme zeichnen oder zusammenfassende Maße wie Durchschnittswerte berechnen. Diese Art von statistischen Methoden wird als **deskriptive Statistik** bezeichnet (Mann 2012)."
   ]
  },
  {
   "cell_type": "markdown",
   "id": "1e2e1672-7f2b-4199-a1fc-d64d799b9d16",
   "metadata": {},
   "source": [
    "### Der Studenten Datensatz\n",
    "In diesem Abschnitt werden wir einen Datensatz namens Studenten untersuchen. Sie können die Datei $students.csv$ <a href=\"https://userpage.fu-berlin.de/soga/200/2010_data_sets/students.csv\">hier</a>  herunterladen. Zunächst laden wir den Datensatz, geben ihm einen geeigneten Namen und verschaffen uns einen Eindruck von seiner Struktur und Größe, indem wir die Funktion $print()$ für den Datensatz aufrufen."
   ]
  },
  {
   "cell_type": "code",
   "execution_count": 6,
   "id": "8fda789d-c441-46d4-9dff-8d9e763e168a",
   "metadata": {},
   "outputs": [
    {
     "name": "stdout",
     "output_type": "stream",
     "text": [
      "      stud.id                 name  gender  age  height  weight    religion  \\\n",
      "1      833917  Gonzales, Christina  Female   19     160    64.8      Muslim   \n",
      "2      898539       Lozano, T'Hani  Female   19     172    73.0       Other   \n",
      "3      379678       Williams, Hanh  Female   22     168    70.6  Protestant   \n",
      "4      807564          Nem, Denzel    Male   19     183    79.7       Other   \n",
      "5      383291      Powell, Heather  Female   21     175    71.4    Catholic   \n",
      "...       ...                  ...     ...  ...     ...     ...         ...   \n",
      "8235   818044          Her, Joshua    Male   22     181    79.1  Protestant   \n",
      "8236   560166           Reid, Jose    Male   23     178    72.6    Catholic   \n",
      "8237   380174     Villa, Raechelle  Female   20     169    67.7       Other   \n",
      "8238   540967         Ngo, Preston    Male   23     195    98.6       Other   \n",
      "8239   413207     Bernhard, Estela  Female   19     170    69.0      Muslim   \n",
      "\n",
      "      nc.score semester                   major                       minor  \\\n",
      "1         1.91      1st       Political Science             Social Sciences   \n",
      "2         1.56      2nd         Social Sciences  Mathematics and Statistics   \n",
      "3         1.24      3rd         Social Sciences  Mathematics and Statistics   \n",
      "4         1.37      2nd  Environmental Sciences  Mathematics and Statistics   \n",
      "5         1.46      1st  Environmental Sciences  Mathematics and Statistics   \n",
      "...        ...      ...                     ...                         ...   \n",
      "8235      2.91      6th  Environmental Sciences             Social Sciences   \n",
      "8236      2.03      2nd  Environmental Sciences  Mathematics and Statistics   \n",
      "8237      3.72      3rd  Environmental Sciences       Economics and Finance   \n",
      "8238      2.74      4th         Social Sciences           Political Science   \n",
      "8239      3.29     >6th       Political Science                     Biology   \n",
      "\n",
      "      score1  score2  online.tutorial  graduated        salary  \n",
      "1        NaN     NaN                0          0           NaN  \n",
      "2        NaN     NaN                0          0           NaN  \n",
      "3       45.0    46.0                0          0           NaN  \n",
      "4        NaN     NaN                0          0           NaN  \n",
      "5        NaN     NaN                0          0           NaN  \n",
      "...      ...     ...              ...        ...           ...  \n",
      "8235    73.0    71.0                0          1  36750.087135  \n",
      "8236     NaN     NaN                0          0           NaN  \n",
      "8237    77.0    75.0                1          0           NaN  \n",
      "8238    50.0    46.0                1          1  40112.041834  \n",
      "8239    47.0    59.0                1          1  45900.134459  \n",
      "\n",
      "[8239 rows x 16 columns]\n"
     ]
    }
   ],
   "source": [
    "import pandas as pd\n",
    "studentsdb=pd.read_csv('students2.csv')\n",
    "print(studentsdb)"
   ]
  },
  {
   "cell_type": "markdown",
   "id": "241a8bf1-7a0f-45a9-97d8-b6df5df44d6c",
   "metadata": {},
   "source": [
    "Der Studentendatensatz besteht aus 8239 Zeilen, von denen jede einen bestimmten Studenten repräsentiert, und 16 Spalten, von denen jede einer Variable/einem Merkmal entspricht, das sich auf diesen bestimmten Studenten bezieht. Diese selbsterklärenden Variablen sind: stud.id, name, gender, age, height, weight, religion, nc.score, semester, major, minor, score1, score2, online.tutorial, graduated, salary. Neben dem jeweiligen Variablennamen listet die Funktion $type()$ die $Klasse$ jeder einzelnen Variablen auf. Alle Objekte in Python haben eine Klasse, z. B. $numerische$ Datentypen , die in die Unterklassen $(int)$ Ganzzahlen , $(float)$ Gleitkommazahlen und $(imag)$komplexe Zahlen, eingeteilt wird, neben anderen.\n",
    "\n",
    "In den nächsten Abschnitten werden wir die deskriptiven Statistiken des *Studentendatensatzes* genauer untersuchen.\n"
   ]
  },
  {
   "cell_type": "code",
   "execution_count": null,
   "id": "e78602cb-9dfa-40b7-a78d-b6dc1f6e47af",
   "metadata": {},
   "outputs": [],
   "source": []
  }
 ],
 "metadata": {
  "kernelspec": {
   "display_name": "Python 3 (ipykernel)",
   "language": "python",
   "name": "python3"
  },
  "language_info": {
   "codemirror_mode": {
    "name": "ipython",
    "version": 3
   },
   "file_extension": ".py",
   "mimetype": "text/x-python",
   "name": "python",
   "nbconvert_exporter": "python",
   "pygments_lexer": "ipython3",
   "version": "3.10.0"
  }
 },
 "nbformat": 4,
 "nbformat_minor": 5
}
