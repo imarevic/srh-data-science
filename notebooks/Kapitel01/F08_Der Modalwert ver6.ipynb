{
 "cells": [
  {
   "cell_type": "markdown",
   "id": "b30435ca-a281-4c54-b34b-53cd7760d5d5",
   "metadata": {
    "tags": []
   },
   "source": [
    "## Der Modalwert\n",
    "----------------------------------------"
   ]
  },
  {
   "cell_type": "code",
   "execution_count": 8,
   "id": "0549d355-c6e0-4e21-a4f3-47ce53d6457a",
   "metadata": {},
   "outputs": [],
   "source": [
    "\n",
    "# Importiere pandas\n",
    "\n",
    "import pandas as pd\n",
    "\n",
    "# Importiere statistics\n",
    "\n",
    "import statistics as st"
   ]
  },
  {
   "cell_type": "markdown",
   "id": "048d1b67-fd20-458b-a350-f1599ec6f8d4",
   "metadata": {
    "jp-MarkdownHeadingCollapsed": true,
    "tags": []
   },
   "source": [
    "In der Statistik stellt der **Modus** den häufigsten Wert in einem Datensatz dar. Der Modalwert ist also der Wert, der in einem Datensatz mit der größten Häufigkeit auftritt *(Mann 2012)*. In Bezug auf die graphische Häufigkeitsverteilung entspricht der Modus dem Scheitelpunkt bzw. den Scheitelpunkten des Diagramms. Ein großes Manko des Modus ist, dass ein Datensatz keinen oder mehr als einen Modalwert haben kann, während er nur einen Mittelwert und nur einen Median hat. Ein Datensatz, bei dem jeder Wert nur einmal vorkommt, hat zum Beispiel keinen Modus. Ein Datensatz, bei dem nur ein Wert mit der größten Häufigkeit vorkommt, hat nur einen Modus. Der Datensatz wird in diesem Fall als **unimodal** bezeichnet. Ein Datensatz mit zwei Werten, die am häufigsten vorkommen, hat zwei Modi. Die Verteilung wird in diesem Fall als **bimodal** bezeichnet. Wenn mehr als zwei Werte in einem Datensatz am häufigsten vorkommen, dann enthält der Datensatz mehr als zwei Modi und wird als **multimodal** bezeichnet (Mann 2012). <br> <br>\n",
    "![Alt-Text](modalwert.png)"
   ]
  },
  {
   "cell_type": "markdown",
   "id": "431cc3a9-89c3-4d31-9d24-23527621d3f6",
   "metadata": {},
   "source": [
    "Anders als der Mittelwert und der Median kann der Modus für quantitative (numerische) und qualitative (kategoriale) Daten verwendet werden. Python verfügt über eine vordefinierte Funktion `mode()` zur Berechnung des Modus im Paket `statistics`. Wir verwenden diese um den Modalwert aller Spaltenwerte des `students`datensatzes zu berechnen."
   ]
  },
  {
   "cell_type": "code",
   "execution_count": 9,
   "id": "8e879492-66b7-4763-85f3-203aaf6aae64",
   "metadata": {},
   "outputs": [
    {
     "name": "stdout",
     "output_type": "stream",
     "text": [
      "Modalwert des Geschlechts der Studenten Male\n",
      "Modalwert des Alters der Studenten 21\n",
      "Modalwert der Religion der Studenten Catholic\n",
      "Modalwert des NC Scores der Studenten 1.18\n",
      "Modalwert des Semesters der Studenten 1st\n",
      "Modalwert der Größe der Studenten 174\n",
      "Modalwert des Gewichts der Studenten 67.1\n"
     ]
    }
   ],
   "source": [
    "df=pd.read_csv('students.csv')\n",
    "gender = df['gender']\n",
    "age = df['age']\n",
    "religion = df['religion']\n",
    "nc_score = df['nc.score']\n",
    "semester = df['semester']\n",
    "height = df['height']\n",
    "weight = df['weight']\n",
    "\n",
    "modus_gender = st.mode(gender)\n",
    "modus_age = st.mode(age)\n",
    "modus_religion = st.mode(religion)\n",
    "modus_nc_score = st.mode(nc_score)\n",
    "modus_semester = st.mode(semester)\n",
    "modus_height = st.mode(height)\n",
    "modus_weight = st.mode(weight)\n",
    "print('Modalwert des Geschlechts der Studenten', modus_gender)\n",
    "print('Modalwert des Alters der Studenten', modus_age)\n",
    "print('Modalwert der Religion der Studenten', modus_religion)\n",
    "print('Modalwert des NC Scores der Studenten', modus_nc_score)\n",
    "print('Modalwert des Semesters der Studenten', modus_semester)\n",
    "print('Modalwert der Größe der Studenten', modus_height)\n",
    "print('Modalwert des Gewichts der Studenten', modus_weight)"
   ]
  }
 ],
 "metadata": {
  "kernelspec": {
   "display_name": "Python 3 (ipykernel)",
   "language": "python",
   "name": "python3"
  },
  "language_info": {
   "codemirror_mode": {
    "name": "ipython",
    "version": 3
   },
   "file_extension": ".py",
   "mimetype": "text/x-python",
   "name": "python",
   "nbconvert_exporter": "python",
   "pygments_lexer": "ipython3",
   "version": "3.10.0"
  }
 },
 "nbformat": 4,
 "nbformat_minor": 5
}
