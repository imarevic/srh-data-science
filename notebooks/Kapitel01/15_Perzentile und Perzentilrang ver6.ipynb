{
 "cells": [
  {
   "cell_type": "markdown",
   "id": "834d4343-e96e-43fd-96c7-46396ce70bff",
   "metadata": {
    "tags": []
   },
   "source": [
    "## Perzentile und Perzentilrang\n",
    "----------------------------------------"
   ]
  },
  {
   "cell_type": "code",
   "execution_count": 1,
   "id": "32754487-5a73-41ca-a4b3-0b6271be0b7e",
   "metadata": {},
   "outputs": [],
   "source": [
    "import numpy as np\n",
    "import pandas as pd"
   ]
  },
  {
   "cell_type": "markdown",
   "id": "76f3c8a5-a5c9-4798-b653-199fd243d212",
   "metadata": {
    "jp-MarkdownHeadingCollapsed": true,
    "tags": []
   },
   "source": [
    "**Perzentile** unterteilen einen geordneten Datensatz in $100$ gleiche Teile. Jeder (geordnete) Datensatz hat $99$ Perzentile, die ihn in $100$ gleiche Teile unterteilen. Das **k-te** Perzentil wird mit $P_k$ bezeichnet, wobei $k$ eine ganze Zahl im Bereich von $1$ bis $99$ ist. Das $25$-te Perzentil wird zum Beispiel mit $P_{25}$ bezeichnet."
   ]
  },
  {
   "cell_type": "markdown",
   "id": "994b2c36-47c8-4625-ac0f-a7223190d50a",
   "metadata": {},
   "source": [
    "So kann das **k-te** Perzentil, $P_k$, als ein Wert in einem Datensatz definiert werden, bei dem etwa $k\\%$ der Messungen kleiner als der Wert von $P_k$ und etwa $(100-k)$ der Messungen größer als der Wert von $P_k$ sind\n",
    "\n",
    ".\n",
    "\n",
    "Der ungefähre Wert des **k-ten**.\n",
    "Perzentils, bezeichnet mit $P_k$, ist "
   ]
  },
  {
   "cell_type": "markdown",
   "id": "c0f9902b-45d5-4800-b258-3271cb524cb2",
   "metadata": {
    "tags": []
   },
   "source": [
    "$$ P_k = \\frac{kn}{100} $$"
   ]
  },
  {
   "cell_type": "markdown",
   "id": "556d5840-5f97-4668-8b64-812feca25e42",
   "metadata": {
    "tags": []
   },
   "source": [
    "wobei **k** die Nummer des Perzentils bezeichnet und **n** den Stichprobenumfang darstellt.\n",
    "\n",
    "Als Übung berechnen wir das 38-te, das 50-te und das 73-te Perzentil der Variablen `nc.score` in Python. Zunächst berechnen wir das 38. Perzentil gemäß der oben angegebenen Gleichung. Dann wenden wir die `np.percentile()`-Funktion von Python an, um das 38-te, 50-te und 73-te Perzentil der Variablen `nc.score` zu ermitteln."
   ]
  },
  {
   "cell_type": "code",
   "execution_count": 13,
   "id": "78263a25-c11e-427e-a028-f7658b7406e8",
   "metadata": {},
   "outputs": [
    {
     "name": "stdout",
     "output_type": "stream",
     "text": [
      "Die 38-te Perzentile ist : 3131\n"
     ]
    }
   ],
   "source": [
    "# Lese Datei students.csv als Dataframe ein; Indexspalte wird übersprungen\n",
    "df = pd.read_csv('students.csv', index_col=0)\n",
    "\n",
    "nc_score = df['nc.score'].sort_values()\n",
    "\n",
    "# Berechne 38-te Perzentile\n",
    "k=38\n",
    "n = len(nc_score)\n",
    "print('Die 38-te Perzentile ist :', round((k*n)/100))"
   ]
  },
  {
   "cell_type": "code",
   "execution_count": 15,
   "id": "cc332043-7e7c-4fb3-a60a-f2cff96e2ef5",
   "metadata": {},
   "outputs": [
    {
     "data": {
      "text/plain": [
       "6616    1.0\n",
       "4488    1.0\n",
       "4813    1.0\n",
       "2131    1.0\n",
       "2407    1.0\n",
       "       ... \n",
       "8156    4.0\n",
       "36      4.0\n",
       "3784    4.0\n",
       "6290    4.0\n",
       "3868    4.0\n",
       "Name: nc.score, Length: 8239, dtype: float64"
      ]
     },
     "execution_count": 15,
     "metadata": {},
     "output_type": "execute_result"
    }
   ],
   "source": [
    "nc_score"
   ]
  },
  {
   "cell_type": "markdown",
   "id": "f2d843fe-f2d5-4dd6-9c25-e2d4d5d72bc8",
   "metadata": {},
   "source": [
    "Wir wählen den Wert anhand dieser Zahl in der geordneten Liste `nc_score` aus und vergleichen ihn mit den Perzentilwerten."
   ]
  },
  {
   "cell_type": "code",
   "execution_count": 19,
   "id": "e5aad000-aa33-40f4-8660-d30bcc208e93",
   "metadata": {},
   "outputs": [
    {
     "data": {
      "text/plain": [
       "1.74"
      ]
     },
     "execution_count": 19,
     "metadata": {},
     "output_type": "execute_result"
    }
   ],
   "source": [
    "nc_score.iloc[3131]"
   ]
  },
  {
   "cell_type": "code",
   "execution_count": 20,
   "id": "d75a9a1e-ff2f-4629-9d8e-57c2d8c87247",
   "metadata": {},
   "outputs": [
    {
     "name": "stdout",
     "output_type": "stream",
     "text": [
      "[1.74 2.04 2.71]\n"
     ]
    }
   ],
   "source": [
    "quartiles = np.percentile(nc_score, [38, 50, 73])\n",
    "print(quartiles)"
   ]
  },
  {
   "cell_type": "markdown",
   "id": "019ae452-e2d1-4c7f-9b3b-4ab1272801d1",
   "metadata": {},
   "source": [
    "Das hat gut funktioniert! Sie können prüfen, ob der Median der Variablen `nc.score` dem $50$-te Perzentil $(2,04)$ entspricht, wie oben berechnet.\n",
    "\n",
    "Wir können auch den **Perzentilrang** für einen bestimmten Wert $x_i$\n",
    "eines Datensatzes mit der folgenden Gleichung berechnen: "
   ]
  },
  {
   "cell_type": "markdown",
   "id": "587a4d7b-0214-4a6c-a191-ecd8d8a3ce58",
   "metadata": {},
   "source": [
    "$$ \\text{Perzentil Rang für} \\   x_i = \\frac{ \\text{Werte kleiner als} \\ x_i}{ \\text{Gesamtanzahl der Werte im Datensatz}} $$"
   ]
  },
  {
   "cell_type": "markdown",
   "id": "c4853f4e-e8ce-48c7-b72f-ca8d8e1e32ef",
   "metadata": {},
   "source": [
    "Der Perzentilrang von $x_i$ gibt den Prozentsatz der Werte im Datensatz an, die kleiner als $x_i$ sind.\n",
    "\n",
    "In Python gibt es keine eingebaute Funktion zur Berechnung des Perzentilrangs. Es ist jedoch relativ einfach, eine solche Funktion selbst zu schreiben."
   ]
  },
  {
   "cell_type": "code",
   "execution_count": 67,
   "id": "3caae529-953e-4db0-bee4-4130f7bac1af",
   "metadata": {},
   "outputs": [],
   "source": [
    "# Definiere Funktion my_percentile_rank\n",
    "def my_percentile_rank(x,data):\n",
    "    percentile_rank = 0\n",
    "    indx=[]\n",
    "    for i in range(len(nc_score)):\n",
    "        if  x <= nc_score.iloc[i]:\n",
    "            indx = i\n",
    "            \n",
    "            break\n",
    "    else:\n",
    "        print('Wert nicht gefunden')\n",
    "    return print(round((indx/len(nc_score)),5)*100) "
   ]
  },
  {
   "cell_type": "markdown",
   "id": "782f2b0b-b900-4714-878c-edd83e2f2841",
   "metadata": {},
   "source": [
    "Jetzt berechnen wir zum Beispiel den Perzentilrang für einen Numerus clausus von 2,5."
   ]
  },
  {
   "cell_type": "code",
   "execution_count": 68,
   "id": "1f105ebb-fdd1-4b5d-ac26-51ed046485f3",
   "metadata": {},
   "outputs": [
    {
     "name": "stdout",
     "output_type": "stream",
     "text": [
      "66.27\n"
     ]
    }
   ],
   "source": [
    "my_percentile_rank(2.5,nc_score)"
   ]
  },
  {
   "cell_type": "markdown",
   "id": "c96c6695-584a-4f66-8ce0-abb0db2aa75c",
   "metadata": {},
   "source": [
    "Wenn wir das Ergebnis auf den nächsten ganzzahligen Wert runden, können wir feststellen, dass etwa $66 \\%$ der Studenten in unserem Datensatz einen Numerus clausus von mehr als $2,5$ hatten."
   ]
  },
  {
   "cell_type": "code",
   "execution_count": null,
   "id": "9587a4d8-df1b-4fe6-8201-864d3c0def33",
   "metadata": {},
   "outputs": [],
   "source": []
  }
 ],
 "metadata": {
  "kernelspec": {
   "display_name": "Python 3 (ipykernel)",
   "language": "python",
   "name": "python3"
  },
  "language_info": {
   "codemirror_mode": {
    "name": "ipython",
    "version": 3
   },
   "file_extension": ".py",
   "mimetype": "text/x-python",
   "name": "python",
   "nbconvert_exporter": "python",
   "pygments_lexer": "ipython3",
   "version": "3.10.2"
  }
 },
 "nbformat": 4,
 "nbformat_minor": 5
}
