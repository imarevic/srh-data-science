{
 "cells": [
  {
   "cell_type": "markdown",
   "id": "b90bc3e4-01bc-4e3a-9b57-6f5974246d77",
   "metadata": {
    "tags": []
   },
   "source": [
    "## Die 5-Zahlen-Zusammenfassung\n",
    "----------------------------------------"
   ]
  },
  {
   "cell_type": "code",
   "execution_count": 2,
   "id": "64046f6a-1772-4af0-98c0-6452ffd2a681",
   "metadata": {},
   "outputs": [],
   "source": [
    "import pandas as pd\n",
    "import numpy as np"
   ]
  },
  {
   "cell_type": "markdown",
   "id": "ee667753-433a-43c2-a4c4-04094e8c29df",
   "metadata": {},
   "source": [
    "Aus den drei Quartilen $(Q1, Q2, Q3)$können wir ein Maß für die Lage der Mitte (den Median, $Q2$) und ein Maß für die Variation der beiden mittleren Quartale der Daten, $Q2-Q1$ für die zweite Quartile und $Q3-Q2$ für die dritte Quartile ableiten. Die drei Quartilen sagen jedoch nichts über die Variation der ersten und vierten Quartile aus."
   ]
  },
  {
   "cell_type": "markdown",
   "id": "abedd567-178e-4cd6-a5aa-3fad4f5471b0",
   "metadata": {},
   "source": [
    "Um diese Informationen zu erhalten, beziehen wir auch die Beobachtungen des Minimums und des Maximums mit ein. Die Variation der ersten Quartile kann als Differenz zwischen dem Minimum und der ersten Quartile, $Q1-Min$, gemessen werden, und die Variation der vierten Quartile kann als Differenz zwischen der dritten Quartile und dem Maximum, $Max-Q3$, gemessen werden. Somit liefern das Minimum, das Maximum und die Quartile zusammen unter anderem Informationen über Zentrum und Variation (Weiss 2010)."
   ]
  },
  {
   "cell_type": "markdown",
   "id": "9d87feef-c238-4b0a-be3c-8d16e1252354",
   "metadata": {},
   "source": [
    "Die so genannte **Tukey-Fünf-Zahlen-Zusammenfassung** (nach dem Mathematiker <a href=\"https://en.wikipedia.org/wiki/John_Tukey\">John Wilder Tukey</a>) eines Datensatzes besteht aus den Werten $Min, Q1, Q2, Q3$ und $Max$ des Datensatzes."
   ]
  },
  {
   "cell_type": "markdown",
   "id": "b15c81da-41ce-49a8-9d88-b0721312f7f6",
   "metadata": {},
   "source": [
    "Die Fünf-Zahlen-Zusammenfassung lässt sich in Python durch `np.percentile` und die `min()`, `max()` Funktionen berechnen. Zu Demonstrationszwecken berechnen wir die Fünf-Zahlen-Zusammenfassung für die Variable `nc.score`"
   ]
  },
  {
   "cell_type": "code",
   "execution_count": 3,
   "id": "0231eadc-eea8-44ed-8501-0ae4dcdf2864",
   "metadata": {},
   "outputs": [
    {
     "name": "stdout",
     "output_type": "stream",
     "text": [
      "Min: 1.000\n",
      "Q1: 1.460\n",
      "Median: 2.040\n",
      "Q3: 2.780\n",
      "Max: 4.000\n"
     ]
    }
   ],
   "source": [
    "# Lese Datei students.csv als Dataframe ein; Indexspalte wird übersprungen\n",
    "df = pd.read_csv('students.csv', index_col=0)\n",
    "\n",
    "# Berechne Fünf-Zahlen-Zusammenfassung\n",
    "data = df['nc.score']\n",
    "\n",
    "# Berechne die Quartilen\n",
    "quartiles = np.percentile(data, [25, 50, 75])\n",
    "\n",
    "# Berechne minimal/maximal Datenpunkte\n",
    "data_min, data_max = min(data), max(data)\n",
    "\n",
    "# Ausgabe der Daten\n",
    "print('Min: %.3f' % data_min)\n",
    "print('Q1: %.3f' % quartiles[0])\n",
    "print('Median: %.3f' % quartiles[1])\n",
    "print('Q3: %.3f' % quartiles[2])\n",
    "print('Max: %.3f' % data_max)"
   ]
  },
  {
   "cell_type": "markdown",
   "id": "5569c932-1233-478c-8960-0e400735a536",
   "metadata": {},
   "source": [
    "Diese Funktion liefert Minimum, untere Quartile, Median, obere Quartile und Maximum für die Eingabedaten."
   ]
  },
  {
   "cell_type": "markdown",
   "id": "9e468e05-8b8d-4a4c-8630-ef4c5c1c4de1",
   "metadata": {},
   "source": [
    "In Python gibt es eine ähnliche Methode namens `describe()`, die, auf einem Vektor aufgerufen, ähnliche Statistiken liefert, allerdings auch das arithmetische Mittel."
   ]
  },
  {
   "cell_type": "code",
   "execution_count": 8,
   "id": "e83d3690-4f64-46a2-a41c-30ca608ec369",
   "metadata": {},
   "outputs": [
    {
     "data": {
      "text/plain": [
       "count    8239.000000\n",
       "mean        2.166481\n",
       "std         0.811548\n",
       "min         1.000000\n",
       "25%         1.460000\n",
       "50%         2.040000\n",
       "75%         2.780000\n",
       "max         4.000000\n",
       "Name: nc.score, dtype: float64"
      ]
     },
     "execution_count": 8,
     "metadata": {},
     "output_type": "execute_result"
    }
   ],
   "source": [
    "data.describe()"
   ]
  },
  {
   "cell_type": "code",
   "execution_count": null,
   "id": "0d00be4f-c109-47b1-a1d3-138ffd1a6032",
   "metadata": {},
   "outputs": [],
   "source": []
  }
 ],
 "metadata": {
  "kernelspec": {
   "display_name": "Python 3 (ipykernel)",
   "language": "python",
   "name": "python3"
  },
  "language_info": {
   "codemirror_mode": {
    "name": "ipython",
    "version": 3
   },
   "file_extension": ".py",
   "mimetype": "text/x-python",
   "name": "python",
   "nbconvert_exporter": "python",
   "pygments_lexer": "ipython3",
   "version": "3.10.2"
  }
 },
 "nbformat": 4,
 "nbformat_minor": 5
}
