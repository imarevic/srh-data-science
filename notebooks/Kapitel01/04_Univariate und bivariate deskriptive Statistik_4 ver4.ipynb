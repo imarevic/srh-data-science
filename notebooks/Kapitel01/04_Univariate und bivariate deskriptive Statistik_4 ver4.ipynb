{
 "cells": [
  {
   "cell_type": "markdown",
   "id": "24218dfd-fc4b-4dc3-ba9f-6a7bf7556917",
   "metadata": {},
   "source": [
    "## Univariate und bivariate deskriptive Statistik\n",
    "----------------------------------------\n",
    "Angewandte Statistik lässt sich in zwei Bereiche unterteilen: <a href=\"https://en.wikipedia.org/wiki/Descriptive_statistics\">deskriptive Statistik</a> und <a href=\"https://en.wikipedia.org/wiki/Statistical_inference\">Inferenzstatistik</a>. Die deskriptive Statistik umfasst Methoden zur Organisation, Darstellung und Beschreibung von Daten mit Hilfe von Tabellen, Diagrammen und Streuungsmaße. Im Gegensatz dazu besteht die inferentielle Statistik aus Methoden, die Stichprobenergebnisse verwenden, um Entscheidungen oder Vorhersagen über eine Grundgesamtheit zu treffen (Mann 2012, Weiss 2010).\n",
    "\n",
    "Das Wort <a href=\"https://en.wikipedia.org/wiki/Univariate\">univariat</a> bezieht sich auf die Tatsache, dass nur eine Variable betrachtet wird. Der Hauptzweck der univariaten Statistik besteht darin, die Daten zu beschreiben und zusammenzufassen. Wenn zwei oder mehr Variablen analysiert werden, spricht man von <a href=\"https://en.wikipedia.org/wiki/Bivariate_analysis\">bivariater </a> oder <a href=\"https://en.wikipedia.org/wiki/Multivariate_statistics\">multivariater Analyse</a>multivariater Analyse bzw. Statistik. In diesem Fall sind wir in erster Linie an den Beziehungen zwischen und unter einer Reihe von Variablen interessiert.\n"
   ]
  },
  {
   "cell_type": "markdown",
   "id": "5781ec5d-b382-47e6-b22d-12c506c137ec",
   "metadata": {},
   "source": [
    "Die folgenden Funktionen und Python-Pakete werden in diesem Abschnitt verwendet (in alphabetischer Reihenfolge):"
   ]
  },
  {
   "cell_type": "markdown",
   "id": "84d9babc-ac95-496c-bcae-f9b64232e12a",
   "metadata": {},
   "source": [
    "### Packages :\n",
    "- mathlibplot\n",
    "- numpy\n",
    "- random\n",
    "\n",
    "### Functions :\n",
    "- range()\n",
    "- std()\n",
    "- type()\n",
    "### Plotting Functions :\n",
    "- plt()"
   ]
  },
  {
   "cell_type": "markdown",
   "id": "40b74e2d-7c25-44ba-b26f-6724bdb2c4cf",
   "metadata": {},
   "source": [
    "Python pakete und funktionen angeben"
   ]
  },
  {
   "cell_type": "code",
   "execution_count": null,
   "id": "0ec082f6-a243-4b8f-b5e5-1acb9062b7c6",
   "metadata": {},
   "outputs": [],
   "source": []
  }
 ],
 "metadata": {
  "kernelspec": {
   "display_name": "Python 3 (ipykernel)",
   "language": "python",
   "name": "python3"
  },
  "language_info": {
   "codemirror_mode": {
    "name": "ipython",
    "version": 3
   },
   "file_extension": ".py",
   "mimetype": "text/x-python",
   "name": "python",
   "nbconvert_exporter": "python",
   "pygments_lexer": "ipython3",
   "version": "3.10.0"
  }
 },
 "nbformat": 4,
 "nbformat_minor": 5
}
