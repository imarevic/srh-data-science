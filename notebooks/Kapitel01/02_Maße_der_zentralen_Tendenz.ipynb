{
 "cells": [
  {
   "cell_type": "code",
   "execution_count": 1,
   "id": "97e62f1a-90a9-4f62-af5d-f2524544553f",
   "metadata": {
    "tags": [
     "remove-cell"
    ]
   },
   "outputs": [
    {
     "name": "stdout",
     "output_type": "stream",
     "text": [
      "\n",
      "---------------------------------\n",
      "Working on the host: Joachims-MacBook-Pro.local\n",
      "\n",
      "---------------------------------\n",
      "Python version: 3.10.2 | packaged by conda-forge | (main, Feb  1 2022, 19:30:18) [Clang 11.1.0 ]\n",
      "\n",
      "---------------------------------\n",
      "Python interpreter: /opt/miniconda3/envs/srh/bin/python\n"
     ]
    }
   ],
   "source": [
    "%matplotlib inline\n",
    "# Load the \"autoreload\" extension\n",
    "%load_ext autoreload\n",
    "# always reload modules\n",
    "%autoreload 2\n",
    "# black formatter for jupyter notebooks\n",
    "#%load_ext nb_black\n",
    "# black formatter for jupyter lab\n",
    "%load_ext lab_black\n",
    "\n",
    "%run ../../src/notebook_env.py"
   ]
  },
  {
   "cell_type": "markdown",
   "id": "5e2f44b2-067f-440a-bb4e-9eeffe758917",
   "metadata": {},
   "source": [
    "# Maße der zentralen Tendenz"
   ]
  },
  {
   "cell_type": "code",
   "execution_count": 1,
   "id": "2d5ee22f-8e88-4590-9378-8a476542fd27",
   "metadata": {},
   "outputs": [],
   "source": [
    "import statistics as st\n",
    "import matplotlib.pyplot as plt\n",
    "import numpy as np\n",
    "import pandas as pd"
   ]
  },
  {
   "cell_type": "markdown",
   "id": "dda1c6be-e740-4552-a35e-34a2b592a5b0",
   "metadata": {},
   "source": [
    "\n",
    "Um ein Gefühl für einen Datensatz zu bekommen, kann er durch numerische Streuungsmaße beschrieben werden. Es gibt drei Hauptmaße für die **zentrale Tendenz**: den **Mittelwert**, den **Median** und den **Modalwert**; es gibt jedoch auch andere Maße für die zentrale Tendenz, wie z. B. das **harmonische Mittel**, das **gewichtete Mittel** und das **geometrische Mittel**, um nur einige zu nennen."
   ]
  },
  {
   "cell_type": "markdown",
   "id": "6619e136-146a-42c3-bb6d-e41c6e852780",
   "metadata": {
    "tags": []
   },
   "source": [
    "## Der Mittelwert\n"
   ]
  },
  {
   "cell_type": "markdown",
   "id": "7115b6e8-e9da-45d2-bb8f-d1384ce9eaf0",
   "metadata": {
    "tags": []
   },
   "source": [
    "### Der arithmethische Mittelwert"
   ]
  },
  {
   "cell_type": "markdown",
   "id": "d284e96e-f131-48da-9740-878b1e49d582",
   "metadata": {},
   "source": [
    "$$\\text{Mittelwert} = \\frac{\\text{Summe aller Werte}}{\\text{Anzahl aller Werte}}$$"
   ]
  },
  {
   "cell_type": "markdown",
   "id": "6730277d-c6d1-45b1-ac0a-9e6c9ce5f32d",
   "metadata": {},
   "source": [
    "Das für Stichprobendaten berechnete arithmetische Mittel wird mit $\\bar{x}$ (gelesen als \"x strich\") bezeichnet, und das Mittel für Grundgesamtheitsdaten wird mit $\\mu$ (griechischer Buchstabe mu) bezeichnet. Der Mittelwert kann also durch die folgenden Gleichungen ausgedrückt werden:"
   ]
  },
  {
   "cell_type": "markdown",
   "id": "2fa1f4f9-d72f-480d-9829-0e2df980a1d0",
   "metadata": {},
   "source": [
    "$$\\bar{x}=\\frac{1}{n} \\cdot \\sum_{i=1}^n x_i$$"
   ]
  },
  {
   "cell_type": "markdown",
   "id": "58b98420-eaf9-4db7-afb5-3507f1de4b40",
   "metadata": {},
   "source": [
    "oder"
   ]
  },
  {
   "cell_type": "markdown",
   "id": "bca85f34-5a60-4f50-8399-20b40331f10f",
   "metadata": {},
   "source": [
    "$$\\mu=\\frac{1}{N} \\cdot \\sum_{i=1}^N x_i$$"
   ]
  },
  {
   "cell_type": "markdown",
   "id": "d25b2d71-d6e1-42dc-b8af-b4dde5680d5f",
   "metadata": {},
   "source": [
    "wobei $\\sum_{i=1}^n x_i$ die Summe aller Werte $(x_1,x_2,...,x_n)$, $N$ der Umfang der Grundgesamtheit und $n$ der Stichprobenumfang ist.\n",
    "Betrachten wir die Variable `height` im Datensatz `students` und berechnen wir ihr arithmetisches Mittel. Beachten Sie, dass es sich bei dem `students` Datensatz um eine *Stichprobe* und **nicht** um die Grundgesamtheit aller Studenten handelt. Daher berechnen wir den $\\bar{x}$, den Stichprobenmittelwert."
   ]
  },
  {
   "cell_type": "code",
   "execution_count": 3,
   "id": "da41d19a-d29c-4c17-ac57-f812c15102f5",
   "metadata": {},
   "outputs": [
    {
     "name": "stdout",
     "output_type": "stream",
     "text": [
      "Mittelwert des Alters der Studenten: 171.38075009103048\n"
     ]
    }
   ],
   "source": [
    "df = pd.read_csv(\"../../data/students.csv\", index_col=0)\n",
    "# Wende Funktion mean() auf Spalte 'height' an und speicher Ergebnis in heigh_mean\n",
    "height_mean = df[\"height\"].mean()\n",
    "print(f\"Mittelwert des Alters der Studenten: {height_mean}\")"
   ]
  },
  {
   "cell_type": "markdown",
   "id": "4521e08f-1e1d-44bd-86ee-2f8e33839f02",
   "metadata": {},
   "source": [
    "### Das geometrische Mittel\n",
    "Bei der Untersuchung von Phänomenen wie der Inflation oder der Bevölkerungsentwicklung, die mit periodischen Zu- oder Abnahmen einhergehen (so genannte Veränderungsraten), ist das **geometrische Mittel** besser geeignet, um die durchschnittliche Veränderung über den gesamten Untersuchungszeitraum zu ermitteln. Um das geometrische Mittel einer Folge von $n$ Werten $x_1,x_2,\\dots,x_n $ zu berechnen, werden diese miteinander multipliziert und dann die $n$-te Wurzel aus diesem Produkt ermittelt."
   ]
  },
  {
   "cell_type": "markdown",
   "id": "6bf50f00-90be-4ea5-a52f-f909b70dd05d",
   "metadata": {},
   "source": [
    "$$ \\bar{x}_{geo}=\\sqrt{x_1\\cdot x_2 \\cdots  x_n}$$"
   ]
  },
  {
   "cell_type": "markdown",
   "id": "bd62ce78-afcc-4544-bf71-04253109e6c6",
   "metadata": {},
   "source": [
    "was umgeschrieben werden kann als"
   ]
  },
  {
   "cell_type": "markdown",
   "id": "bc62c2fe-a162-43a9-9fa2-011d05858e63",
   "metadata": {},
   "source": [
    "$$ \\bar{x}_{geo} = \\sqrt{x_1\\cdot x_2 \\cdots  x_n} = (\\prod_{i=1}^n x_i)^{\\frac{1}{n}} = \\sqrt[n]{\\prod_{i=1}^n x_i}$$"
   ]
  },
  {
   "cell_type": "markdown",
   "id": "311d2e3f-eec3-470c-9029-b9a6041e7d12",
   "metadata": {},
   "source": [
    "Lassen Sie uns das an einem Beispiel verdeutlichen: <br> \n",
    "Wir betrachten die jährlichen Wachstumsraten eines Schwarmes von Honigbienen über einen Zeitraum von $5$ Jahren. Diese Veränderungsraten sind: $14 \\%$, $26 \\%$, $16 \\%$, $-38 \\%$, $-6 \\%$. Außerdem wissen wir, dass sich zu Beginn des Beobachtungszeitraums $5.000$ Bienen im Schwarm befunden haben. Wir suchen nach der mittleren Rate der Populationsveränderung. <br>\n",
    "Zunächst schreiben wir unsere Wachstumsraten in eine Liste."
   ]
  },
  {
   "cell_type": "code",
   "execution_count": 4,
   "id": "8b2285ab-551f-4e9f-85c8-b1fee0cf09bd",
   "metadata": {},
   "outputs": [],
   "source": [
    "bees = [14, 26, 16, -38, -6]"
   ]
  },
  {
   "cell_type": "markdown",
   "id": "5509df76-834b-491b-8f94-1cd603d118d5",
   "metadata": {},
   "source": [
    "Nun wenden wir wider besseres Wissen das arithmetische Mittel an: <br>"
   ]
  },
  {
   "cell_type": "code",
   "execution_count": 5,
   "id": "f9a06bc6-c877-49ba-8241-b34f9bdb7626",
   "metadata": {},
   "outputs": [
    {
     "name": "stdout",
     "output_type": "stream",
     "text": [
      "Die mittlere Änderungsrate der Bienenpopulation ist 2.4 Prozent\n"
     ]
    }
   ],
   "source": [
    "# Wir verwenden die Funktion `mean()` im Paket `numpy`.\n",
    "print(f\"Die mittlere Änderungsrate der Bienenpopulation ist {np.mean(bees)} Prozent\")"
   ]
  },
  {
   "cell_type": "markdown",
   "id": "62c2f637-c7b8-4737-a86a-ef517f8bd061",
   "metadata": {},
   "source": [
    "Das arithmetische Mittel zeigt, dass der Schwarm über den Zeitraum von fünf Jahren wächst! Wir sind skeptisch und berechnen das jährliche Wachstum des Bienenschwarms explizit. Zunächst wandeln wir die angegebenen Prozentsätze in relative Wachstumsraten um (`bees_growth_rel`), und dann berechnen wir einfach den Stand der Bienenpopulation, indem wir die Veränderungsraten nacheinander mit der Anzahl der Bienen multiplizieren, von der wir wissen, dass sie zu Beginn der Erhebung $5.000$ betrug."
   ]
  },
  {
   "cell_type": "code",
   "execution_count": 6,
   "id": "72b98c61-d6c6-4378-a3ed-f22d599d189f",
   "metadata": {},
   "outputs": [
    {
     "name": "stdout",
     "output_type": "stream",
     "text": [
      "bees:        [14, 26, 16, -38, -6]\n",
      "bees rates:  [1.14, 1.26, 1.16, 0.62, 0.94]\n"
     ]
    }
   ],
   "source": [
    "print(\"bees:       \", bees)\n",
    "# Initialisiere leere Liste bees_growth_rel und Indexvariable i\n",
    "bees_growth_rel = [np.round(x / 100 + 1, 2) for x in bees]\n",
    "print(\"bees rates: \", bees_growth_rel)"
   ]
  },
  {
   "cell_type": "code",
   "execution_count": 7,
   "id": "10cf97eb-97a3-49ef-86d1-737a69d10674",
   "metadata": {},
   "outputs": [
    {
     "name": "stdout",
     "output_type": "stream",
     "text": [
      "Nach einem relativen Wachstum von 1.14 erreicht die Population einen Wert von 5700.0\n",
      "Nach einem relativen Wachstum von 1.26 erreicht die Population einen Wert von 7182.0\n",
      "Nach einem relativen Wachstum von 1.16 erreicht die Population einen Wert von 8331.0\n",
      "Nach einem relativen Wachstum von 0.62 erreicht die Population einen Wert von 5165.0\n",
      "Nach einem relativen Wachstum von 0.94 erreicht die Population einen Wert von 4855.0\n"
     ]
    }
   ],
   "source": [
    "pop = 5000\n",
    "for rate in bees_growth_rel:\n",
    "    pop = pop * rate\n",
    "    print(\n",
    "        f\"Nach einem relativen Wachstum von {rate} erreicht die Population einen Wert von {np.round(pop,0)}\"\n",
    "    )"
   ]
  },
  {
   "cell_type": "markdown",
   "id": "209d1293-809f-4851-8580-f8fd766d9f2e",
   "metadata": {},
   "source": [
    "Wow, was für eine Überraschung! Offensichtlich stimmt da etwas nicht! Wir hatten erwartet, dass der Schwarm im Laufe der Zeit im Durchschnitt zunehmen würde. Wir haben jedoch einen Rückgang der absoluten Zahl der Bienen berechnet! \n",
    "\n",
    "Versuchen wir es mit dem geometrischen Mittel. Zum Glück gibt es in Python vordefinierte Funktionspakete für Berechnung von Streuungsmaßen. Diese können durch `import statistics` verwendet werden. Die Funktion für das geometrische Mittel heisst `geometric_mean()`"
   ]
  },
  {
   "cell_type": "code",
   "execution_count": 8,
   "id": "db6bf5c6-a0ed-420a-acd4-e05a69e0d290",
   "metadata": {},
   "outputs": [
    {
     "data": {
      "text/plain": [
       "0.9941469529781075"
      ]
     },
     "execution_count": 8,
     "metadata": {},
     "output_type": "execute_result"
    }
   ],
   "source": [
    "st.geometric_mean(bees_growth_rel)"
   ]
  },
  {
   "cell_type": "markdown",
   "id": "b8506cab-04c3-4743-a0e0-29928e209678",
   "metadata": {},
   "source": [
    "Großartig! Das geometrische Mittel zeigt, dass die Zahl der Arten im Laufe der Zeit mit einer durchschnittlichen Rate von $0,994$ abnimmt, was $-0,006 \\% $ entspricht. Wir überprüfen dies, indem wir $5.000$ Bienen (die anfängliche Anzahl der Bienen im Schwarm) mal $0,994$ für jedes Jahr nehmen; dies ergibt $4.971$ Bienen nach dem ersten Jahr, $4.942$ nach dem zweiten Jahr, $4.913$ nach dem dritten Jahr, $4.884$ nach dem vierten Jahr und $4.855$ nach dem fünften Jahr der Beobachtung. Eine perfekte Übereinstimmung! Im Gegensatz zum arithmetischen Mittel gibt das geometrische Mittel die Entwicklung im Vergleich zum Vorjahr nicht zu hoch an! <br> <br>\n"
   ]
  },
  {
   "cell_type": "markdown",
   "id": "e19250b6-7f66-43c7-8269-1695f1e4daf5",
   "metadata": {},
   "source": [
    "### Der harmonische Mittelwert\n",
    "Der **harmonische Mittelwert** eignet sich am besten für die Ermittlung des Durchschnitts von inversen Größen wie Geschwindigkeit (km/h) oder Bevölkerungsdichte (pop/km2). \n",
    "\n",
    "Betrachten Sie das folgende Beispiel: \n",
    "Die Entfernung zwischen Ihrem Haus und dem nächsten See beträgt $40$ km. Sie sind mit einer Geschwindigkeit von $20$ km pro Stunde zum See gefahren und mit einer Geschwindigkeit von $80$ km pro Stunde nach Hause zurückgekehrt. Wie hoch war meine Durchschnittsgeschwindigkeit während der gesamten Fahrt?\n",
    "Berechnen wir zunächst das arithmetische Mittel."
   ]
  },
  {
   "cell_type": "code",
   "execution_count": 9,
   "id": "b6798eb5-a5e3-4830-bd94-783ba4aa494a",
   "metadata": {},
   "outputs": [
    {
     "name": "stdout",
     "output_type": "stream",
     "text": [
      "50.0\n"
     ]
    }
   ],
   "source": [
    "# Initialisiere Liste speed_arithmetic\n",
    "speed_arithmetic = [20, 80]\n",
    "\n",
    "print(np.mean(speed_arithmetic))"
   ]
  },
  {
   "cell_type": "markdown",
   "id": "43558f76-d20d-452b-a37f-89f275fb6510",
   "metadata": {},
   "source": [
    "Das arithmetische Mittel der beiden Geschwindigkeiten, mit denen Sie gefahren sind, beträgt $50$ km pro Stunde. Dies ist jedoch nicht die richtige Durchschnittsgeschwindigkeit. Es lässt die Tatsache außer Acht, dass Sie mit $20$ km/h viel länger gefahren sind als mit $80$ km/h. Um die richtige Durchschnittsgeschwindigkeit zu ermitteln, müssen wir stattdessen das harmonische Mittel berechnen. \n",
    "\n",
    "Das harmonische Mittel $\\bar{x}_h$für die positiven reellen Zahlen $x_1,x_2,...,x_n$ ist definiert durch"
   ]
  },
  {
   "cell_type": "markdown",
   "id": "0c2b2c9d-85c2-47ef-9455-90081f7dc9e3",
   "metadata": {},
   "source": [
    "$$\\bar{x} = \\frac{n}{\\frac{1}{x_1} + \\frac{1}{x_2} + \\cdots + \\frac{1}{x_n}} = \\frac{n}{\\sum_{i=1}^{n}\\frac{1}{x_i}} \\ \\  x_i \\gt 0, \\ \\  \\forall \\ \\ i \\ \\ $$"
   ]
  },
  {
   "cell_type": "markdown",
   "id": "76f2f220-eaf2-40e2-b834-7fbaec40f175",
   "metadata": {},
   "source": [
    "Wir können die vordefinierte Funktion `harmonic_mean` aus dem Packet `statistics` verwenden:"
   ]
  },
  {
   "cell_type": "code",
   "execution_count": 10,
   "id": "8dcca761-0bcf-4803-8126-31f43571b7c8",
   "metadata": {},
   "outputs": [
    {
     "data": {
      "text/plain": [
       "32.0"
      ]
     },
     "execution_count": 10,
     "metadata": {},
     "output_type": "execute_result"
    }
   ],
   "source": [
    "speed = [20, 80]\n",
    "st.harmonic_mean(speed)"
   ]
  },
  {
   "cell_type": "markdown",
   "id": "33ea59b6-f947-4af0-bd75-052e10730e5a",
   "metadata": {},
   "source": [
    "Aber ist dieses Ergebnis korrekt? Wir versuchen das Ergebnis nachzuvollziehen. Im obigen Beispiel beträgt die Entfernung zwischen dem See und Ihrem Haus $40$ km. Die Fahrt von A nach B mit einer Geschwindigkeit von $20$ km/h dauert also $2$ Stunden. Die Fahrt von B nach A mit einer Geschwindigkeit von $80$ km/h dauert $0,5$ Stunden. Die Gesamtzeit für die Rundstrecke von $2 \\times 40$ km beträgt $2,5$ Stunden. Die Durchschnittsgeschwindigkeit beträgt dann $\\frac{80}{2,5}=32$."
   ]
  },
  {
   "cell_type": "markdown",
   "id": "a2736706-78fb-4a7f-a8dc-84b126bd2c87",
   "metadata": {},
   "source": [
    "### Der gewichtete Mittelwert\n",
    "Es gibt Anwendungen, bei denen bestimmte Werte in einem Datensatz als wichtiger angesehen werden können als andere. Im Allgemeinen gilt für eine Folge von $n$ Datenwerten $x_1,x_2,...,x_n$ und ihren entsprechenden Gewichten $w_1,w_2,...,w_n$, ist das gewichtete (arithmetische) Mittel gegeben durch"
   ]
  },
  {
   "cell_type": "markdown",
   "id": "8959e80d-1e82-4ee5-951e-9677738a8b67",
   "metadata": {},
   "source": [
    "$$ \\bar{x}_w = \\frac{\\sum_{i=1}^n w_i x_i}{\\sum_{i=1}^n w_i} $$"
   ]
  },
  {
   "cell_type": "markdown",
   "id": "a54fcb6d-715d-4ff6-95cd-709ea67d570b",
   "metadata": {},
   "source": [
    "wobei $\\sum_{i=1}^n w_i x_i$ durch Multiplikation jedes Datenwertes mit seinem Gewicht und anschließender Addition der Produkte ermittelt wird. <br> <br> Um die Noten der Studenten in einem Kurs zu ermitteln, kann ein Dozent beispielsweise der Abschlussprüfung eine dreimal so hohe Gewichtung zuweisen wie den anderen Prüfungen. Ermitteln wir den gewichteten Mittelwert für einen Studenten, der in den ersten beiden Prüfungen $45$ und $68$ Punkte und in der Abschlussprüfung $74$ Punkte erzielt hat.\n",
    "\n",
    "Wir berechnen as gewichtete Mittel indem wir die Funktion `np.average()` anwenden."
   ]
  },
  {
   "cell_type": "code",
   "execution_count": 11,
   "id": "b8185cee-9731-41ea-93b3-09ea88345f61",
   "metadata": {},
   "outputs": [
    {
     "data": {
      "text/plain": [
       "67.0"
      ]
     },
     "execution_count": 11,
     "metadata": {},
     "output_type": "execute_result"
    }
   ],
   "source": [
    "# Initialisiere Liste scores, weights_scores und leere Liste weighted\n",
    "scores = [45, 68, 74]\n",
    "weights_scores = [1, 1, 3]\n",
    "np.average(scores, weights=weights_scores)"
   ]
  },
  {
   "cell_type": "markdown",
   "id": "5d5c4122-f89a-42c2-8b7c-ca8bce95ee47",
   "metadata": {},
   "source": [
    "Verglichen mit dem nicht gewichteten Mittelwert ergibt sich ein anderes Ergebnis."
   ]
  },
  {
   "cell_type": "code",
   "execution_count": 12,
   "id": "48a2fe93-d81d-4fe0-8841-a1cd548d2f40",
   "metadata": {},
   "outputs": [
    {
     "data": {
      "text/plain": [
       "62.333333333333336"
      ]
     },
     "execution_count": 12,
     "metadata": {},
     "output_type": "execute_result"
    }
   ],
   "source": [
    "np.mean(scores)"
   ]
  },
  {
   "cell_type": "markdown",
   "id": "365d4ccf-17d3-4c67-a473-547ff2f61f96",
   "metadata": {},
   "source": [
    "Bitte beachten Sie, dass die Gewichtung der Eingabewerte ein Prinzip ist, das auch auf andere Mittelwertmaße anwendbar ist. Zum Beispiel können wir die Eingangsvariable für die Berechnung des geometrischen Mittels gewichten."
   ]
  },
  {
   "cell_type": "markdown",
   "id": "8917e23a-2691-4290-aab7-4f040581dcb9",
   "metadata": {},
   "source": [
    "### Der gewichtete geometrische Mittelwert"
   ]
  },
  {
   "cell_type": "markdown",
   "id": "a21eb11c-d4c0-4e3e-8cd2-a22f26371204",
   "metadata": {},
   "source": [
    "$$\\bar{x}_{geo_w}= (\\prod_{i=1}^n {x_i}^{w_i})^{1/\\sum_{i=1}^n w_i}$$"
   ]
  },
  {
   "cell_type": "markdown",
   "id": "47b216c7-2285-401f-a481-53c9640086dc",
   "metadata": {},
   "source": [
    "wobei $x_1,x_2,\\dots x_n$ den Datenwerten und $w_1,w_2,\\dots w_n$ den Gewichten entsprechen. \n",
    "\n",
    "Wir greifen auf die Implementierung des gewichteten geometrischen Mittelwerts im [Scipy](https://scipy.org/) Modul zurück. "
   ]
  },
  {
   "cell_type": "code",
   "execution_count": 13,
   "id": "07132953-d726-41cd-8d38-7f6d41437970",
   "metadata": {},
   "outputs": [],
   "source": [
    "from scipy.stats import gmean"
   ]
  },
  {
   "cell_type": "markdown",
   "id": "8280289d-35e5-480a-be9a-a9b4b689d113",
   "metadata": {},
   "source": [
    "Wir berechnen das Beispiel des Bienenschwarms aus dem obigen Abschnitt erneut. Wir erinnern uns, dass wir im obigen Beispiel einen Bienenschwarm über $5$ Jahre beobachtet und die Veränderungsraten der Bienenpopulation notiert haben. Die jährlichen Veränderungsraten waren $1,14 \\ $,$ \\  1,26 \\ $,$ \\  1,16 \\ $,$ \\  0,62 \\ $,$ \\  0,94$, was $x_1, x_2,...x_n$ entspricht. Um das Ergebnis von oben zu reproduzieren, setzen wir alle Gewichte $w_1,w_2,\\dots w_n$ auf $1$."
   ]
  },
  {
   "cell_type": "code",
   "execution_count": 14,
   "id": "3265d3e4-d359-4343-a3d3-9bd901e9bc73",
   "metadata": {},
   "outputs": [
    {
     "data": {
      "text/plain": [
       "0.9941469529781075"
      ]
     },
     "execution_count": 14,
     "metadata": {},
     "output_type": "execute_result"
    }
   ],
   "source": [
    "weights_bees = [1, 1, 1, 1, 1]\n",
    "gmean(bees_growth_rel, weights=weights_bees)"
   ]
  },
  {
   "cell_type": "code",
   "execution_count": 15,
   "id": "f8b9b51c-ce8e-4a96-a702-22f76805a472",
   "metadata": {},
   "outputs": [
    {
     "data": {
      "text/plain": [
       "True"
      ]
     },
     "execution_count": 15,
     "metadata": {},
     "output_type": "execute_result"
    }
   ],
   "source": [
    "gmean(bees_growth_rel, weights=weights_bees) == gmean(bees_growth_rel)"
   ]
  },
  {
   "cell_type": "markdown",
   "id": "4e082659-a378-4eec-81ac-8ac07d04a080",
   "metadata": {},
   "source": [
    "Korrekt, wir erhalten das gleiche Ergebnis!\n",
    "Falls wir nun jedes konsekutive mehr gewichten wollen, können wir die Gewichte auf z.B. $[1, 2, 3, 4]$ setzen."
   ]
  },
  {
   "cell_type": "code",
   "execution_count": 16,
   "id": "9053f022-84e5-47cc-b409-fa6ed57367ef",
   "metadata": {},
   "outputs": [
    {
     "data": {
      "text/plain": [
       "0.9241626141253284"
      ]
     },
     "execution_count": 16,
     "metadata": {},
     "output_type": "execute_result"
    }
   ],
   "source": [
    "weights_bees = [1, 2, 3, 4, 5]\n",
    "gmean(bees_growth_rel, weights=weights_bees)"
   ]
  },
  {
   "cell_type": "markdown",
   "id": "0624aa74-ecd6-4549-84b1-0190c4856349",
   "metadata": {},
   "source": [
    "### Der gewichtete harmonische Mittelwert"
   ]
  },
  {
   "cell_type": "markdown",
   "id": "e6dfbb6a-dfd3-42b7-82dd-d624aa929517",
   "metadata": {},
   "source": [
    "Schließlich werden wir eine eigene gewichtete harmonische Mittelwertfunktion implementieren. <br> <br> Das gewichtete harmonische Mittel $\\bar{x}$ für die positiven reellen Zahlen $x_1,x_2,\\dots,x_n$ ist durch die folgende Gleichung definiert:"
   ]
  },
  {
   "cell_type": "markdown",
   "id": "9d1cc6d3-a65a-4b1c-be52-46137e2ddd26",
   "metadata": {},
   "source": [
    "$$ \\bar{x}_{hw} = \\frac{w_1+w_2 + \\cdots + w_n}{\\frac{w_1}{x_1} + \\frac{w_2}{x_2} + \\cdots  + \\frac{w_n}{x_n}} = \\frac{\\sum_{i=1}^n w_i}{\\sum_{i=1}^n\\frac{w_i}{x_i}} ,\\  x_i \\gt 0, \\ \\forall \\ \\ i \\ \\ $$"
   ]
  },
  {
   "cell_type": "markdown",
   "id": "d0ce8d5c-2182-4556-962b-846123b45868",
   "metadata": {},
   "source": [
    "Implementieren wir die Funktion des gewichteten harmonischen Mittels in Python. Die Kodierung ist einfach, aber um die Funktionalität unserer Funktion des gewichteten harmonischen Mittels zu erweitern, fügen wir eine `if`-Anweisung ein. Diese `if`-Anweisung im Code normalisiert die Gewichte, wenn die Gewichte nicht in Proportionen angegeben sind. Wenn die `if`-Anweisung ausgeführt wird, geben wir ein Benutzer-Feedback aus, andernfalls erfolgt keine Rückmeldung."
   ]
  },
  {
   "cell_type": "code",
   "execution_count": 17,
   "id": "de284423-cc71-41a1-88ae-121b60d69b64",
   "metadata": {},
   "outputs": [],
   "source": [
    "# Definiere Funktion my_weighted_harmonic_mean\n",
    "def my_weighted_harmonic_mean1(data: np.array, weights: np.array):\n",
    "    if np.sum(weights) != 1:\n",
    "        print(\"Die Gewichte werden normalisiert\")\n",
    "        weights = weights / np.sum(weights)\n",
    "    return np.sum(weights) / sum(weights / data)"
   ]
  },
  {
   "cell_type": "markdown",
   "id": "129a77dd-20d9-4114-b967-68fa03eb04ef",
   "metadata": {},
   "source": [
    "Lassen Sie uns unser `my_weighted_harmonic_mean` an einem recht komplexen Datensatz ausprobieren. Der Datensatz `cities` besteht aus allen Landeshauptstädten Deutschlands, ihrer Bevölkerungszahl und ihrer Fläche. Ziel ist es, die mittlere Bevölkerungsdichte für die Landeshauptstädte Deutschlands zu berechnen. Sie können die Datei `cities.csv` <a href=\"https://userpage.fu-berlin.de/soga/200/2010_data_sets/cities.csv\">hier</a> herunterladen. Die Daten werden von dieser <a href=\"https://www.bundeslaenderdeutschland.de/landeshauptstaedte/\">Website</a> abgerufen.\n",
    "\n",
    "Zunächst laden wir den Datensatz, geben ihm einen passenden Namen und schauen ihn uns an."
   ]
  },
  {
   "cell_type": "code",
   "execution_count": 18,
   "id": "d08f33e1-5808-42a2-84a0-43e67e0a2238",
   "metadata": {},
   "outputs": [
    {
     "data": {
      "text/html": [
       "<div>\n",
       "<style scoped>\n",
       "    .dataframe tbody tr th:only-of-type {\n",
       "        vertical-align: middle;\n",
       "    }\n",
       "\n",
       "    .dataframe tbody tr th {\n",
       "        vertical-align: top;\n",
       "    }\n",
       "\n",
       "    .dataframe thead th {\n",
       "        text-align: right;\n",
       "    }\n",
       "</style>\n",
       "<table border=\"1\" class=\"dataframe\">\n",
       "  <thead>\n",
       "    <tr style=\"text-align: right;\">\n",
       "      <th></th>\n",
       "      <th>name</th>\n",
       "      <th>state</th>\n",
       "      <th>area_km2</th>\n",
       "      <th>pop.size</th>\n",
       "    </tr>\n",
       "  </thead>\n",
       "  <tbody>\n",
       "    <tr>\n",
       "      <th>0</th>\n",
       "      <td>Berlin</td>\n",
       "      <td>Land Berlin</td>\n",
       "      <td>891.85</td>\n",
       "      <td>3415100</td>\n",
       "    </tr>\n",
       "    <tr>\n",
       "      <th>1</th>\n",
       "      <td>Bremen</td>\n",
       "      <td>Freie Hansestadt Bremen</td>\n",
       "      <td>325.42</td>\n",
       "      <td>546450</td>\n",
       "    </tr>\n",
       "    <tr>\n",
       "      <th>2</th>\n",
       "      <td>Dresden</td>\n",
       "      <td>Freistaat Sachsen</td>\n",
       "      <td>328.31</td>\n",
       "      <td>525100</td>\n",
       "    </tr>\n",
       "    <tr>\n",
       "      <th>3</th>\n",
       "      <td>Düsseldorf</td>\n",
       "      <td>Land Nordrhein-Westfalen</td>\n",
       "      <td>217.41</td>\n",
       "      <td>593682</td>\n",
       "    </tr>\n",
       "    <tr>\n",
       "      <th>4</th>\n",
       "      <td>Erfurt</td>\n",
       "      <td>Freistaat Thüringen</td>\n",
       "      <td>269.17</td>\n",
       "      <td>203480</td>\n",
       "    </tr>\n",
       "    <tr>\n",
       "      <th>5</th>\n",
       "      <td>Hamburg</td>\n",
       "      <td>Freie und Hansestadt Hamburg</td>\n",
       "      <td>755.26</td>\n",
       "      <td>1751780</td>\n",
       "    </tr>\n",
       "    <tr>\n",
       "      <th>6</th>\n",
       "      <td>Hannover</td>\n",
       "      <td>Land Niedersachsen</td>\n",
       "      <td>204.14</td>\n",
       "      <td>514130</td>\n",
       "    </tr>\n",
       "    <tr>\n",
       "      <th>7</th>\n",
       "      <td>Kiel</td>\n",
       "      <td>Land Schleswig-Holstein</td>\n",
       "      <td>118.60</td>\n",
       "      <td>239860</td>\n",
       "    </tr>\n",
       "    <tr>\n",
       "      <th>8</th>\n",
       "      <td>Magdeburg</td>\n",
       "      <td>Land Sachsen-Anhalt</td>\n",
       "      <td>200.97</td>\n",
       "      <td>229924</td>\n",
       "    </tr>\n",
       "    <tr>\n",
       "      <th>9</th>\n",
       "      <td>Mainz</td>\n",
       "      <td>Land Rheinland-Pfalz</td>\n",
       "      <td>97.76</td>\n",
       "      <td>202750</td>\n",
       "    </tr>\n",
       "    <tr>\n",
       "      <th>10</th>\n",
       "      <td>München</td>\n",
       "      <td>Freistaat Bayern</td>\n",
       "      <td>310.71</td>\n",
       "      <td>1388300</td>\n",
       "    </tr>\n",
       "    <tr>\n",
       "      <th>11</th>\n",
       "      <td>Potsdam</td>\n",
       "      <td>Land Brandenburg</td>\n",
       "      <td>187.27</td>\n",
       "      <td>159450</td>\n",
       "    </tr>\n",
       "    <tr>\n",
       "      <th>12</th>\n",
       "      <td>Saarbrücken</td>\n",
       "      <td>Saarland</td>\n",
       "      <td>167.07</td>\n",
       "      <td>176990</td>\n",
       "    </tr>\n",
       "    <tr>\n",
       "      <th>13</th>\n",
       "      <td>Schwerin</td>\n",
       "      <td>Land Mecklenburg-Vorpommern</td>\n",
       "      <td>130.46</td>\n",
       "      <td>91260</td>\n",
       "    </tr>\n",
       "    <tr>\n",
       "      <th>14</th>\n",
       "      <td>Stuttgart</td>\n",
       "      <td>Land Baden-Württemberg</td>\n",
       "      <td>207.36</td>\n",
       "      <td>597939</td>\n",
       "    </tr>\n",
       "    <tr>\n",
       "      <th>15</th>\n",
       "      <td>Wiesbaden</td>\n",
       "      <td>Land Hessen</td>\n",
       "      <td>203.90</td>\n",
       "      <td>272630</td>\n",
       "    </tr>\n",
       "  </tbody>\n",
       "</table>\n",
       "</div>"
      ],
      "text/plain": [
       "           name                         state  area_km2  pop.size\n",
       "0        Berlin                   Land Berlin    891.85   3415100\n",
       "1        Bremen       Freie Hansestadt Bremen    325.42    546450\n",
       "2       Dresden             Freistaat Sachsen    328.31    525100\n",
       "3    Düsseldorf      Land Nordrhein-Westfalen    217.41    593682\n",
       "4        Erfurt           Freistaat Thüringen    269.17    203480\n",
       "5       Hamburg  Freie und Hansestadt Hamburg    755.26   1751780\n",
       "6      Hannover            Land Niedersachsen    204.14    514130\n",
       "7          Kiel       Land Schleswig-Holstein    118.60    239860\n",
       "8     Magdeburg           Land Sachsen-Anhalt    200.97    229924\n",
       "9         Mainz          Land Rheinland-Pfalz     97.76    202750\n",
       "10      München              Freistaat Bayern    310.71   1388300\n",
       "11      Potsdam              Land Brandenburg    187.27    159450\n",
       "12  Saarbrücken                      Saarland    167.07    176990\n",
       "13     Schwerin   Land Mecklenburg-Vorpommern    130.46     91260\n",
       "14    Stuttgart        Land Baden-Württemberg    207.36    597939\n",
       "15    Wiesbaden                   Land Hessen    203.90    272630"
      ]
     },
     "execution_count": 18,
     "metadata": {},
     "output_type": "execute_result"
    }
   ],
   "source": [
    "df = pd.read_csv(\"../../data/cities.csv\")\n",
    "df"
   ]
  },
  {
   "cell_type": "markdown",
   "id": "61137dac-becf-42af-b80a-fed40dbba67b",
   "metadata": {},
   "source": [
    "Zweitens erstellen wir eine neue Spalte und berechnen die Bevölkerungsdichte (Einwohner pro Quadratkilometer) und speichern das Ergebniss in der Spalte `density`."
   ]
  },
  {
   "cell_type": "code",
   "execution_count": 19,
   "id": "25f87273-31bc-4310-87fc-c952b2f303db",
   "metadata": {},
   "outputs": [
    {
     "data": {
      "text/html": [
       "<div>\n",
       "<style scoped>\n",
       "    .dataframe tbody tr th:only-of-type {\n",
       "        vertical-align: middle;\n",
       "    }\n",
       "\n",
       "    .dataframe tbody tr th {\n",
       "        vertical-align: top;\n",
       "    }\n",
       "\n",
       "    .dataframe thead th {\n",
       "        text-align: right;\n",
       "    }\n",
       "</style>\n",
       "<table border=\"1\" class=\"dataframe\">\n",
       "  <thead>\n",
       "    <tr style=\"text-align: right;\">\n",
       "      <th></th>\n",
       "      <th>name</th>\n",
       "      <th>state</th>\n",
       "      <th>area_km2</th>\n",
       "      <th>pop.size</th>\n",
       "      <th>density</th>\n",
       "    </tr>\n",
       "  </thead>\n",
       "  <tbody>\n",
       "    <tr>\n",
       "      <th>0</th>\n",
       "      <td>Berlin</td>\n",
       "      <td>Land Berlin</td>\n",
       "      <td>891.85</td>\n",
       "      <td>3415100</td>\n",
       "      <td>3829.231373</td>\n",
       "    </tr>\n",
       "    <tr>\n",
       "      <th>1</th>\n",
       "      <td>Bremen</td>\n",
       "      <td>Freie Hansestadt Bremen</td>\n",
       "      <td>325.42</td>\n",
       "      <td>546450</td>\n",
       "      <td>1679.214554</td>\n",
       "    </tr>\n",
       "    <tr>\n",
       "      <th>2</th>\n",
       "      <td>Dresden</td>\n",
       "      <td>Freistaat Sachsen</td>\n",
       "      <td>328.31</td>\n",
       "      <td>525100</td>\n",
       "      <td>1599.403003</td>\n",
       "    </tr>\n",
       "    <tr>\n",
       "      <th>3</th>\n",
       "      <td>Düsseldorf</td>\n",
       "      <td>Land Nordrhein-Westfalen</td>\n",
       "      <td>217.41</td>\n",
       "      <td>593682</td>\n",
       "      <td>2730.702360</td>\n",
       "    </tr>\n",
       "    <tr>\n",
       "      <th>4</th>\n",
       "      <td>Erfurt</td>\n",
       "      <td>Freistaat Thüringen</td>\n",
       "      <td>269.17</td>\n",
       "      <td>203480</td>\n",
       "      <td>755.953487</td>\n",
       "    </tr>\n",
       "    <tr>\n",
       "      <th>5</th>\n",
       "      <td>Hamburg</td>\n",
       "      <td>Freie und Hansestadt Hamburg</td>\n",
       "      <td>755.26</td>\n",
       "      <td>1751780</td>\n",
       "      <td>2319.439663</td>\n",
       "    </tr>\n",
       "    <tr>\n",
       "      <th>6</th>\n",
       "      <td>Hannover</td>\n",
       "      <td>Land Niedersachsen</td>\n",
       "      <td>204.14</td>\n",
       "      <td>514130</td>\n",
       "      <td>2518.516704</td>\n",
       "    </tr>\n",
       "    <tr>\n",
       "      <th>7</th>\n",
       "      <td>Kiel</td>\n",
       "      <td>Land Schleswig-Holstein</td>\n",
       "      <td>118.60</td>\n",
       "      <td>239860</td>\n",
       "      <td>2022.428331</td>\n",
       "    </tr>\n",
       "    <tr>\n",
       "      <th>8</th>\n",
       "      <td>Magdeburg</td>\n",
       "      <td>Land Sachsen-Anhalt</td>\n",
       "      <td>200.97</td>\n",
       "      <td>229924</td>\n",
       "      <td>1144.071254</td>\n",
       "    </tr>\n",
       "    <tr>\n",
       "      <th>9</th>\n",
       "      <td>Mainz</td>\n",
       "      <td>Land Rheinland-Pfalz</td>\n",
       "      <td>97.76</td>\n",
       "      <td>202750</td>\n",
       "      <td>2073.956628</td>\n",
       "    </tr>\n",
       "    <tr>\n",
       "      <th>10</th>\n",
       "      <td>München</td>\n",
       "      <td>Freistaat Bayern</td>\n",
       "      <td>310.71</td>\n",
       "      <td>1388300</td>\n",
       "      <td>4468.153584</td>\n",
       "    </tr>\n",
       "    <tr>\n",
       "      <th>11</th>\n",
       "      <td>Potsdam</td>\n",
       "      <td>Land Brandenburg</td>\n",
       "      <td>187.27</td>\n",
       "      <td>159450</td>\n",
       "      <td>851.444439</td>\n",
       "    </tr>\n",
       "    <tr>\n",
       "      <th>12</th>\n",
       "      <td>Saarbrücken</td>\n",
       "      <td>Saarland</td>\n",
       "      <td>167.07</td>\n",
       "      <td>176990</td>\n",
       "      <td>1059.376309</td>\n",
       "    </tr>\n",
       "    <tr>\n",
       "      <th>13</th>\n",
       "      <td>Schwerin</td>\n",
       "      <td>Land Mecklenburg-Vorpommern</td>\n",
       "      <td>130.46</td>\n",
       "      <td>91260</td>\n",
       "      <td>699.524759</td>\n",
       "    </tr>\n",
       "    <tr>\n",
       "      <th>14</th>\n",
       "      <td>Stuttgart</td>\n",
       "      <td>Land Baden-Württemberg</td>\n",
       "      <td>207.36</td>\n",
       "      <td>597939</td>\n",
       "      <td>2883.579282</td>\n",
       "    </tr>\n",
       "    <tr>\n",
       "      <th>15</th>\n",
       "      <td>Wiesbaden</td>\n",
       "      <td>Land Hessen</td>\n",
       "      <td>203.90</td>\n",
       "      <td>272630</td>\n",
       "      <td>1337.076999</td>\n",
       "    </tr>\n",
       "  </tbody>\n",
       "</table>\n",
       "</div>"
      ],
      "text/plain": [
       "           name                         state  area_km2  pop.size      density\n",
       "0        Berlin                   Land Berlin    891.85   3415100  3829.231373\n",
       "1        Bremen       Freie Hansestadt Bremen    325.42    546450  1679.214554\n",
       "2       Dresden             Freistaat Sachsen    328.31    525100  1599.403003\n",
       "3    Düsseldorf      Land Nordrhein-Westfalen    217.41    593682  2730.702360\n",
       "4        Erfurt           Freistaat Thüringen    269.17    203480   755.953487\n",
       "5       Hamburg  Freie und Hansestadt Hamburg    755.26   1751780  2319.439663\n",
       "6      Hannover            Land Niedersachsen    204.14    514130  2518.516704\n",
       "7          Kiel       Land Schleswig-Holstein    118.60    239860  2022.428331\n",
       "8     Magdeburg           Land Sachsen-Anhalt    200.97    229924  1144.071254\n",
       "9         Mainz          Land Rheinland-Pfalz     97.76    202750  2073.956628\n",
       "10      München              Freistaat Bayern    310.71   1388300  4468.153584\n",
       "11      Potsdam              Land Brandenburg    187.27    159450   851.444439\n",
       "12  Saarbrücken                      Saarland    167.07    176990  1059.376309\n",
       "13     Schwerin   Land Mecklenburg-Vorpommern    130.46     91260   699.524759\n",
       "14    Stuttgart        Land Baden-Württemberg    207.36    597939  2883.579282\n",
       "15    Wiesbaden                   Land Hessen    203.90    272630  1337.076999"
      ]
     },
     "execution_count": 19,
     "metadata": {},
     "output_type": "execute_result"
    }
   ],
   "source": [
    "df[\"density\"] = df[\"pop.size\"] / df[\"area_km2\"]\n",
    "df"
   ]
  },
  {
   "cell_type": "markdown",
   "id": "ff17cc12-f0d5-4395-a476-36994cd4af40",
   "metadata": {},
   "source": [
    "Drittens berechnen wir das Gewicht für jede Stadt entsprechend der Bevölkerungszahl und speichern das Ergebniss in der Spalte `cities_pop_weight`."
   ]
  },
  {
   "cell_type": "code",
   "execution_count": 20,
   "id": "4bd6fc1f-18fc-493f-ad22-aaa9982ddc53",
   "metadata": {},
   "outputs": [
    {
     "data": {
      "text/html": [
       "<div>\n",
       "<style scoped>\n",
       "    .dataframe tbody tr th:only-of-type {\n",
       "        vertical-align: middle;\n",
       "    }\n",
       "\n",
       "    .dataframe tbody tr th {\n",
       "        vertical-align: top;\n",
       "    }\n",
       "\n",
       "    .dataframe thead th {\n",
       "        text-align: right;\n",
       "    }\n",
       "</style>\n",
       "<table border=\"1\" class=\"dataframe\">\n",
       "  <thead>\n",
       "    <tr style=\"text-align: right;\">\n",
       "      <th></th>\n",
       "      <th>name</th>\n",
       "      <th>state</th>\n",
       "      <th>area_km2</th>\n",
       "      <th>pop.size</th>\n",
       "      <th>density</th>\n",
       "      <th>cities_pop_weight</th>\n",
       "    </tr>\n",
       "  </thead>\n",
       "  <tbody>\n",
       "    <tr>\n",
       "      <th>0</th>\n",
       "      <td>Berlin</td>\n",
       "      <td>Land Berlin</td>\n",
       "      <td>891.85</td>\n",
       "      <td>3415100</td>\n",
       "      <td>3829.231373</td>\n",
       "      <td>0.313058</td>\n",
       "    </tr>\n",
       "    <tr>\n",
       "      <th>1</th>\n",
       "      <td>Bremen</td>\n",
       "      <td>Freie Hansestadt Bremen</td>\n",
       "      <td>325.42</td>\n",
       "      <td>546450</td>\n",
       "      <td>1679.214554</td>\n",
       "      <td>0.050092</td>\n",
       "    </tr>\n",
       "    <tr>\n",
       "      <th>2</th>\n",
       "      <td>Dresden</td>\n",
       "      <td>Freistaat Sachsen</td>\n",
       "      <td>328.31</td>\n",
       "      <td>525100</td>\n",
       "      <td>1599.403003</td>\n",
       "      <td>0.048135</td>\n",
       "    </tr>\n",
       "    <tr>\n",
       "      <th>3</th>\n",
       "      <td>Düsseldorf</td>\n",
       "      <td>Land Nordrhein-Westfalen</td>\n",
       "      <td>217.41</td>\n",
       "      <td>593682</td>\n",
       "      <td>2730.702360</td>\n",
       "      <td>0.054422</td>\n",
       "    </tr>\n",
       "    <tr>\n",
       "      <th>4</th>\n",
       "      <td>Erfurt</td>\n",
       "      <td>Freistaat Thüringen</td>\n",
       "      <td>269.17</td>\n",
       "      <td>203480</td>\n",
       "      <td>755.953487</td>\n",
       "      <td>0.018653</td>\n",
       "    </tr>\n",
       "    <tr>\n",
       "      <th>5</th>\n",
       "      <td>Hamburg</td>\n",
       "      <td>Freie und Hansestadt Hamburg</td>\n",
       "      <td>755.26</td>\n",
       "      <td>1751780</td>\n",
       "      <td>2319.439663</td>\n",
       "      <td>0.160584</td>\n",
       "    </tr>\n",
       "    <tr>\n",
       "      <th>6</th>\n",
       "      <td>Hannover</td>\n",
       "      <td>Land Niedersachsen</td>\n",
       "      <td>204.14</td>\n",
       "      <td>514130</td>\n",
       "      <td>2518.516704</td>\n",
       "      <td>0.047130</td>\n",
       "    </tr>\n",
       "    <tr>\n",
       "      <th>7</th>\n",
       "      <td>Kiel</td>\n",
       "      <td>Land Schleswig-Holstein</td>\n",
       "      <td>118.60</td>\n",
       "      <td>239860</td>\n",
       "      <td>2022.428331</td>\n",
       "      <td>0.021988</td>\n",
       "    </tr>\n",
       "    <tr>\n",
       "      <th>8</th>\n",
       "      <td>Magdeburg</td>\n",
       "      <td>Land Sachsen-Anhalt</td>\n",
       "      <td>200.97</td>\n",
       "      <td>229924</td>\n",
       "      <td>1144.071254</td>\n",
       "      <td>0.021077</td>\n",
       "    </tr>\n",
       "    <tr>\n",
       "      <th>9</th>\n",
       "      <td>Mainz</td>\n",
       "      <td>Land Rheinland-Pfalz</td>\n",
       "      <td>97.76</td>\n",
       "      <td>202750</td>\n",
       "      <td>2073.956628</td>\n",
       "      <td>0.018586</td>\n",
       "    </tr>\n",
       "    <tr>\n",
       "      <th>10</th>\n",
       "      <td>München</td>\n",
       "      <td>Freistaat Bayern</td>\n",
       "      <td>310.71</td>\n",
       "      <td>1388300</td>\n",
       "      <td>4468.153584</td>\n",
       "      <td>0.127264</td>\n",
       "    </tr>\n",
       "    <tr>\n",
       "      <th>11</th>\n",
       "      <td>Potsdam</td>\n",
       "      <td>Land Brandenburg</td>\n",
       "      <td>187.27</td>\n",
       "      <td>159450</td>\n",
       "      <td>851.444439</td>\n",
       "      <td>0.014617</td>\n",
       "    </tr>\n",
       "    <tr>\n",
       "      <th>12</th>\n",
       "      <td>Saarbrücken</td>\n",
       "      <td>Saarland</td>\n",
       "      <td>167.07</td>\n",
       "      <td>176990</td>\n",
       "      <td>1059.376309</td>\n",
       "      <td>0.016224</td>\n",
       "    </tr>\n",
       "    <tr>\n",
       "      <th>13</th>\n",
       "      <td>Schwerin</td>\n",
       "      <td>Land Mecklenburg-Vorpommern</td>\n",
       "      <td>130.46</td>\n",
       "      <td>91260</td>\n",
       "      <td>699.524759</td>\n",
       "      <td>0.008366</td>\n",
       "    </tr>\n",
       "    <tr>\n",
       "      <th>14</th>\n",
       "      <td>Stuttgart</td>\n",
       "      <td>Land Baden-Württemberg</td>\n",
       "      <td>207.36</td>\n",
       "      <td>597939</td>\n",
       "      <td>2883.579282</td>\n",
       "      <td>0.054812</td>\n",
       "    </tr>\n",
       "    <tr>\n",
       "      <th>15</th>\n",
       "      <td>Wiesbaden</td>\n",
       "      <td>Land Hessen</td>\n",
       "      <td>203.90</td>\n",
       "      <td>272630</td>\n",
       "      <td>1337.076999</td>\n",
       "      <td>0.024992</td>\n",
       "    </tr>\n",
       "  </tbody>\n",
       "</table>\n",
       "</div>"
      ],
      "text/plain": [
       "           name                         state  area_km2  pop.size  \\\n",
       "0        Berlin                   Land Berlin    891.85   3415100   \n",
       "1        Bremen       Freie Hansestadt Bremen    325.42    546450   \n",
       "2       Dresden             Freistaat Sachsen    328.31    525100   \n",
       "3    Düsseldorf      Land Nordrhein-Westfalen    217.41    593682   \n",
       "4        Erfurt           Freistaat Thüringen    269.17    203480   \n",
       "5       Hamburg  Freie und Hansestadt Hamburg    755.26   1751780   \n",
       "6      Hannover            Land Niedersachsen    204.14    514130   \n",
       "7          Kiel       Land Schleswig-Holstein    118.60    239860   \n",
       "8     Magdeburg           Land Sachsen-Anhalt    200.97    229924   \n",
       "9         Mainz          Land Rheinland-Pfalz     97.76    202750   \n",
       "10      München              Freistaat Bayern    310.71   1388300   \n",
       "11      Potsdam              Land Brandenburg    187.27    159450   \n",
       "12  Saarbrücken                      Saarland    167.07    176990   \n",
       "13     Schwerin   Land Mecklenburg-Vorpommern    130.46     91260   \n",
       "14    Stuttgart        Land Baden-Württemberg    207.36    597939   \n",
       "15    Wiesbaden                   Land Hessen    203.90    272630   \n",
       "\n",
       "        density  cities_pop_weight  \n",
       "0   3829.231373           0.313058  \n",
       "1   1679.214554           0.050092  \n",
       "2   1599.403003           0.048135  \n",
       "3   2730.702360           0.054422  \n",
       "4    755.953487           0.018653  \n",
       "5   2319.439663           0.160584  \n",
       "6   2518.516704           0.047130  \n",
       "7   2022.428331           0.021988  \n",
       "8   1144.071254           0.021077  \n",
       "9   2073.956628           0.018586  \n",
       "10  4468.153584           0.127264  \n",
       "11   851.444439           0.014617  \n",
       "12  1059.376309           0.016224  \n",
       "13   699.524759           0.008366  \n",
       "14  2883.579282           0.054812  \n",
       "15  1337.076999           0.024992  "
      ]
     },
     "execution_count": 20,
     "metadata": {},
     "output_type": "execute_result"
    }
   ],
   "source": [
    "df[\"cities_pop_weight\"] = df[\"pop.size\"] / df[\"pop.size\"].sum()\n",
    "df"
   ]
  },
  {
   "cell_type": "markdown",
   "id": "24d3c906-4d6c-4d58-b6fe-e9863a4f6b2c",
   "metadata": {},
   "source": [
    "Nun wenden wir unsere Implementierung des gewichteten harmonischen Mittels `my_weighted_harmonic_mean` an und vergleichen es mit dem arithmetischen Mittel."
   ]
  },
  {
   "cell_type": "code",
   "execution_count": 21,
   "id": "32d297a7-e61b-4f53-904f-8394ae46ae3b",
   "metadata": {},
   "outputs": [
    {
     "data": {
      "text/plain": [
       "2363.437731548685"
      ]
     },
     "execution_count": 21,
     "metadata": {},
     "output_type": "execute_result"
    }
   ],
   "source": [
    "# Wir verwenden die Spalte \"cities_pop_weight\" als Gewichte. Hier ist keine Normalisierung notwending.\n",
    "my_weighted_harmonic_mean1(df[\"density\"], df[\"cities_pop_weight\"])"
   ]
  },
  {
   "cell_type": "markdown",
   "id": "0cc4cc80-7bdf-425c-b16e-69b70ff3c365",
   "metadata": {},
   "source": [
    "Jetzt testen wir die Funktionalität unserer Funktion, indem wir `pop.size` als Eingabeparameter angeben."
   ]
  },
  {
   "cell_type": "code",
   "execution_count": 22,
   "id": "b73210f9-95a4-409c-b4cd-9d5cf95f43dc",
   "metadata": {},
   "outputs": [
    {
     "name": "stdout",
     "output_type": "stream",
     "text": [
      "Die Gewichte werden normalisiert\n"
     ]
    },
    {
     "data": {
      "text/plain": [
       "2363.437731548685"
      ]
     },
     "execution_count": 22,
     "metadata": {},
     "output_type": "execute_result"
    }
   ],
   "source": [
    "# Wir verwenden die Spalte \"pop.size\" als Gewichte. Ein Normalisierung ist notwending.\n",
    "my_weighted_harmonic_mean1(df[\"density\"], df[\"pop.size\"])"
   ]
  },
  {
   "cell_type": "markdown",
   "id": "dce65400-e7cc-4cd7-b1b8-333b01c2c0f3",
   "metadata": {},
   "source": [
    "Wunderbar, die Funktion funktioniert wie erwartet. Die Ergebnisse sind identisch. Wir können daraus schließen, dass die durchschnittliche Bevölkerungsdichte in den Landeshauptstädten Deutschlands etwa $2.363$ Einwohner/km$^2$ beträgt.\n",
    "\n",
    "Zum Vergleich können wir das arithmetische Mittel der Bevölkerungsdichte berechnen. Dieses würde uns hier ein weniger exaktes Ergebnis liefern. "
   ]
  },
  {
   "cell_type": "code",
   "execution_count": 23,
   "id": "1e7db0a4-d31e-471f-8ebf-30aa27f7450d",
   "metadata": {},
   "outputs": [
    {
     "data": {
      "text/plain": [
       "1998.2545454902418"
      ]
     },
     "execution_count": 23,
     "metadata": {},
     "output_type": "execute_result"
    }
   ],
   "source": [
    "df[\"density\"].mean()"
   ]
  },
  {
   "cell_type": "markdown",
   "id": "02eb8d34-e869-4631-8504-64014c0f0b78",
   "metadata": {},
   "source": [
    "## Der Median"
   ]
  },
  {
   "cell_type": "markdown",
   "id": "5c756e1f-f507-48a4-99e7-f20b4d050a16",
   "metadata": {
    "tags": []
   },
   "source": [
    "Ein weiteres sehr wichtiges Maß für die zentrale Tendenz ist der **Median**. Der Median von Meßwerten ist der Wert des mittleren Terms in einem Datensatz, der in aufsteigender Reihenfolge geordnet wurde. Der Median unterteilt also einen geordneten Datensatz **in zwei gleiche Teile**.\n",
    "Die Berechnung des Medians besteht aus den folgenden zwei Schritten: \n",
    "1. Ordnen Sie den Datensatz in aufsteigender Reihenfolge.    \n",
    "2. Finden Sie den mittleren Term. Der Wert dieses Terms ist der Median.\n",
    "\n",
    "Wenn die Anzahl der Beobachtungen in einem Datensatz ungerade ist, wird der Median durch den Wert des mittleren Terms in den geordneten Daten bestimmt. Ist die Anzahl der Beobachtungen jedoch gerade, so wird der Median durch den Durchschnitt der Werte der beiden mittleren Terme bestimmt ({cite:p}`fahrmeirstatistik` s.52). <br> <br> Lassen Sie uns den Median für die Variable `age` des `students`datensatzes auswerten."
   ]
  },
  {
   "cell_type": "code",
   "execution_count": 24,
   "id": "77ca8c53-592c-420e-b544-eaf1b8dc47ac",
   "metadata": {},
   "outputs": [
    {
     "data": {
      "text/plain": [
       "[<matplotlib.lines.Line2D at 0x16cd9fc70>]"
      ]
     },
     "execution_count": 24,
     "metadata": {},
     "output_type": "execute_result"
    },
    {
     "data": {
      "image/png": "[encoded data removed]",
      "text/plain": [
       "<Figure size 864x432 with 1 Axes>"
      ]
     },
     "metadata": {
      "needs_background": "light"
     },
     "output_type": "display_data"
    }
   ],
   "source": [
    "df = pd.read_csv(\"../../data/students.csv\", index_col=0)\n",
    "plt.plot(df.index, df.age, \"bo\")"
   ]
  },
  {
   "cell_type": "markdown",
   "id": "e7f7806e-2cb8-4bf8-ad0e-b7420a8107c4",
   "metadata": {},
   "source": [
    "Wenn wir die Variable `age` plotten, erkennen wir sofort, dass es einige Studenten gibt, die viel älter sind als der Rest der Studenten. Lassen Sie uns den Median berechnen..."
   ]
  },
  {
   "cell_type": "code",
   "execution_count": 25,
   "id": "34fbbd46-50c8-4052-a938-ddabe8b94645",
   "metadata": {},
   "outputs": [
    {
     "name": "stdout",
     "output_type": "stream",
     "text": [
      "Median des Alters der Studenten:     21.0\n",
      "Mittelwert des Alters der Studenten: 22.541570578953756\n"
     ]
    }
   ],
   "source": [
    "print(f\"Median des Alters der Studenten:     {np.median(df.age)}\")\n",
    "print(f\"Mittelwert des Alters der Studenten: {np.mean(df.age)}\")"
   ]
  },
  {
   "cell_type": "markdown",
   "id": "e786b0f6-24af-4a5b-bffd-722c67aa57b9",
   "metadata": {},
   "source": [
    "Zur Veranschaulichung fügen wir nun den Median und das arithmetische Mittel in das Streudiagramm ein."
   ]
  },
  {
   "cell_type": "code",
   "execution_count": 26,
   "id": "3670693c-719d-4229-9567-edc079e5ed2c",
   "metadata": {},
   "outputs": [
    {
     "data": {
      "text/plain": [
       "<matplotlib.legend.Legend at 0x16d7b73a0>"
      ]
     },
     "execution_count": 26,
     "metadata": {},
     "output_type": "execute_result"
    },
    {
     "data": {
      "image/png": "[encoded data removed]",
      "text/plain": [
       "<Figure size 864x432 with 1 Axes>"
      ]
     },
     "metadata": {
      "needs_background": "light"
     },
     "output_type": "display_data"
    }
   ],
   "source": [
    "plt.plot(df.index, df.age, \"o\", color=\"C0\")\n",
    "plt.axhline(np.median(df.age), label=\"Median\", color=\"C1\")\n",
    "plt.axhline(np.mean(df.age), label=\"arithmetisches Mittel\", color=\"C2\")\n",
    "plt.legend()"
   ]
  },
  {
   "cell_type": "markdown",
   "id": "bf5c6dc3-0669-4849-8618-25e037976def",
   "metadata": {},
   "source": [
    "Noch deutlicher veranschaulicht ein Histogram den Sachverhalt, dass das arithmetische Mittel stark durch Extremwerte und Ausreisser beeinflusst wird, der Median hingegen nicht. Daher wird der Median als Maß für die zentrale Tendenz bei Datensätzen, die Ausreißer enthalten, dem Mittelwert vorgezogen ({cite:p}`fahrmeirstatistik` s.54).    "
   ]
  },
  {
   "cell_type": "code",
   "execution_count": 27,
   "id": "1c11fe79-aa1e-41ca-a1b3-5d07fb0fd5c0",
   "metadata": {},
   "outputs": [
    {
     "data": {
      "text/plain": [
       "<matplotlib.legend.Legend at 0x16d81e590>"
      ]
     },
     "execution_count": 27,
     "metadata": {},
     "output_type": "execute_result"
    },
    {
     "data": {
      "image/png": "[encoded data removed]",
      "text/plain": [
       "<Figure size 864x432 with 1 Axes>"
      ]
     },
     "metadata": {
      "needs_background": "light"
     },
     "output_type": "display_data"
    }
   ],
   "source": [
    "plt.hist(df.age, bins=df.age.nunique())\n",
    "plt.axvline(np.median(df.age), label=\"Median\", color=\"C1\")\n",
    "plt.axvline(np.mean(df.age), label=\"arithmetisches Mittel\", color=\"C2\")\n",
    "plt.legend()"
   ]
  },
  {
   "cell_type": "markdown",
   "id": "0a4dc8ed-e5a6-4b92-a208-86efa6b5879f",
   "metadata": {
    "tags": []
   },
   "source": [
    "## Der Modalwert"
   ]
  },
  {
   "cell_type": "markdown",
   "id": "7c215c6a-5265-4a32-80c7-fb78317f4c0f",
   "metadata": {
    "jp-MarkdownHeadingCollapsed": true,
    "tags": []
   },
   "source": [
    "In der Statistik stellt der **Modus** den häufigsten Wert in einem Datensatz dar. Der Modalwert ist also der Wert, der in einem Datensatz mit der größten Häufigkeit auftritt *({cite:p}`fahrmeirstatistik` s. 53)*. In Bezug auf die graphische Häufigkeitsverteilung entspricht der Modus dem Scheitelpunkt bzw. den Scheitelpunkten des Diagramms. Ein großes Manko des Modus ist, dass ein Datensatz keinen oder mehr als einen Modalwert haben kann, während er nur einen Mittelwert und nur einen Median hat. Ein Datensatz, bei dem jeder Wert nur einmal vorkommt, hat zum Beispiel keinen Modus. Ein Datensatz, bei dem nur ein Wert mit der größten Häufigkeit vorkommt, hat nur einen Modus. Der Datensatz wird in diesem Fall als **unimodal** bezeichnet. Ein Datensatz mit zwei Werten, die am häufigsten vorkommen, hat zwei Modi. Die Verteilung wird in diesem Fall als **bimodal** bezeichnet. Wenn mehr als zwei Werte in einem Datensatz am häufigsten vorkommen, dann enthält der Datensatz mehr als zwei Modi und wird als **multimodal** bezeichnet ({cite:p}`fahrmeirstatistik` s. 81,83)."
   ]
  },
  {
   "cell_type": "code",
   "execution_count": 31,
   "id": "0875b5c6-46e1-41a6-ad3b-0bd8d1d2f66e",
   "metadata": {
    "tags": [
     "hide-input"
    ]
   },
   "outputs": [
    {
     "data": {
      "image/png": "[encoded data removed]",
      "text/plain": [
       "<Figure size 1152x432 with 3 Axes>"
      ]
     },
     "metadata": {
      "needs_background": "light"
     },
     "output_type": "display_data"
    }
   ],
   "source": [
    "import matplotlib.pyplot as plt\n",
    "from scipy.stats import norm\n",
    "\n",
    "x_axis = np.arange(-100, 100, 0.1)\n",
    "TITELSIZE = 18\n",
    "COLOR = \"k\"\n",
    "\n",
    "fig, ax = plt.subplots(ncols=3, figsize=(16, 6))\n",
    "\n",
    "for i in [(0, 10)]:\n",
    "    mean = i[0]\n",
    "    sd = i[1]\n",
    "    y_axis = norm.pdf(x_axis, mean, sd)\n",
    "    ax[0].plot(x_axis, y_axis, color=COLOR)\n",
    "    ax[0].fill_between(x_axis, y_axis, color=COLOR)\n",
    "ax[0].set_title(\"unimodal\", size=TITELSIZE)\n",
    "\n",
    "for i in [(-10, 12), (25, 16)]:\n",
    "    mean = i[0]\n",
    "    sd = i[1]\n",
    "    y_axis = norm.pdf(x_axis, mean, sd)\n",
    "    ax[1].plot(x_axis, y_axis, color=COLOR)\n",
    "    ax[1].fill_between(x_axis, y_axis, color=COLOR)\n",
    "ax[1].set_title(\"bimodal\", size=TITELSIZE)\n",
    "\n",
    "\n",
    "for i in [(-10, 12), (22, 22), (-45, 15), (50, 10)]:\n",
    "    mean = i[0]\n",
    "    sd = i[1]\n",
    "    y_axis = norm.pdf(x_axis, mean, sd)\n",
    "    ax[2].plot(x_axis, y_axis, color=COLOR)\n",
    "    ax[2].fill_between(x_axis, y_axis, color=COLOR)\n",
    "ax[2].set_title(\"multimodal\", size=TITELSIZE)\n",
    "\n",
    "\n",
    "for _ax in ax:\n",
    "    _ax.axis(\"off\")"
   ]
  },
  {
   "cell_type": "raw",
   "id": "fcc394e8-1793-4599-a132-83e8793657f1",
   "metadata": {},
   "source": [
    "![Alt-Text](_img/modalwert.png)"
   ]
  },
  {
   "cell_type": "markdown",
   "id": "f24c3d2f-3a82-47bf-ad2d-e69d55060546",
   "metadata": {},
   "source": [
    "Anders als der Mittelwert und der Median kann der Modus für quantitative (numerische) und qualitative (kategoriale) Daten verwendet werden. Python verfügt über eine vordefinierte Funktion `mode()` zur Berechnung des Modus im Paket `statistics`. Wir verwenden diese um den Modalwert aller Spaltenwerte des `students`datensatzes zu berechnen."
   ]
  },
  {
   "cell_type": "code",
   "execution_count": 29,
   "id": "3009e368",
   "metadata": {},
   "outputs": [
    {
     "name": "stdout",
     "output_type": "stream",
     "text": [
      "Der Modalwert der Spalte 'gender' ist 'Male'.\n",
      "Der Modalwert der Spalte 'age' ist '21'.\n",
      "Der Modalwert der Spalte 'religion' ist 'Catholic'.\n",
      "Der Modalwert der Spalte 'nc_score' ist '1.18'.\n",
      "Der Modalwert der Spalte 'semester' ist '1st'.\n",
      "Der Modalwert der Spalte 'height' ist '174'.\n",
      "Der Modalwert der Spalte 'weight' ist '67.1'.\n"
     ]
    }
   ],
   "source": [
    "df = pd.read_csv(\"../../data/students.csv\")\n",
    "for col in [\"gender\", \"age\", \"religion\", \"nc.score\", \"semester\", \"height\", \"weight\"]:\n",
    "    print(f\"Der Modalwert der Spalte '{col}' ist '{st.mode(df[col])}'.\")"
   ]
  }
 ],
 "metadata": {
  "kernelspec": {
   "display_name": "Python 3.8.10 64-bit",
   "language": "python",
   "name": "python3"
  },
  "language_info": {
   "codemirror_mode": {
    "name": "ipython",
    "version": 3
   },
   "file_extension": ".py",
   "mimetype": "text/x-python",
   "name": "python",
   "nbconvert_exporter": "python",
   "pygments_lexer": "ipython3",
   "version": "3.8.10"
  },
  "vscode": {
   "interpreter": {
    "hash": "31f2aee4e71d21fbe5cf8b01ff0e069b9275f58929596ceb00d14d90e3e16cd6"
   }
  }
 },
 "nbformat": 4,
 "nbformat_minor": 5
}
