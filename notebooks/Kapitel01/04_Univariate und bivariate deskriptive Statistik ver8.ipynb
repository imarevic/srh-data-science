{
 "cells": [
  {
   "cell_type": "markdown",
   "id": "24218dfd-fc4b-4dc3-ba9f-6a7bf7556917",
   "metadata": {},
   "source": [
    "## Univariate und bivariate deskriptive Statistik\n",
    "----------------------------------------\n",
    "Angewandte Statistik lässt sich in zwei Bereiche unterteilen: <a href=\"https://en.wikipedia.org/wiki/Descriptive_statistics\">deskriptive Statistik</a> und <a href=\"https://en.wikipedia.org/wiki/Statistical_inference\">Inferenzstatistik</a>. Die deskriptive Statistik umfasst Methoden zur Organisation, Darstellung und Beschreibung von Daten mit Hilfe von Tabellen, Diagrammen und Streuungsmaße. Im Gegensatz dazu besteht die inferentielle Statistik aus Methoden, die Stichprobenergebnisse verwenden, um Entscheidungen oder Vorhersagen über eine Grundgesamtheit zu treffen (Mann 2012, Weiss 2010).\n",
    "\n",
    "Das Wort <a href=\"https://en.wikipedia.org/wiki/Univariate\">univariat</a> bezieht sich auf die Tatsache, dass nur eine Variable betrachtet wird. Der Hauptzweck der univariaten Statistik besteht darin, die Daten zu beschreiben und zusammenzufassen. Wenn zwei oder mehr Variablen analysiert werden, spricht man von <a href=\"https://en.wikipedia.org/wiki/Bivariate_analysis\">bivariater </a> oder <a href=\"https://en.wikipedia.org/wiki/Multivariate_statistics\">multivariater Analyse</a>multivariater Analyse bzw. Statistik. In diesem Fall sind wir in erster Linie an den Beziehungen zwischen und unter einer Reihe von Variablen interessiert.\n"
   ]
  }
 ],
 "metadata": {
  "kernelspec": {
   "display_name": "Python 3 (ipykernel)",
   "language": "python",
   "name": "python3"
  },
  "language_info": {
   "codemirror_mode": {
    "name": "ipython",
    "version": 3
   },
   "file_extension": ".py",
   "mimetype": "text/x-python",
   "name": "python",
   "nbconvert_exporter": "python",
   "pygments_lexer": "ipython3",
   "version": "3.10.2"
  }
 },
 "nbformat": 4,
 "nbformat_minor": 5
}
