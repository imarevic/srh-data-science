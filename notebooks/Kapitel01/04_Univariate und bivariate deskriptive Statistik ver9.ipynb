{
 "cells": [
  {
   "cell_type": "markdown",
   "id": "24218dfd-fc4b-4dc3-ba9f-6a7bf7556917",
   "metadata": {},
   "source": [
    "## Univariate und bivariate deskriptive Statistik\n",
    "----------------------------------------\n",
    "Angewandte Statistik lässt sich in zwei Bereiche unterteilen: <a href=\"https://de.wikipedia.org/wiki/Deskriptive_Statistik\">deskriptive Statistik</a> und <a href=\"https://de.wikipedia.org/wiki/Statistische_Inferenz\">Inferenzstatistik</a>. Die deskriptive Statistik umfasst Methoden zur Organisation, Darstellung und Beschreibung von Daten mit Hilfe von Tabellen, Diagrammen und Streuungsmaße. Im Gegensatz dazu besteht die inferentielle Statistik aus Methoden, die Stichprobenergebnisse verwenden, um Entscheidungen oder Vorhersagen über eine Grundgesamtheit zu treffen ({cite:p}`Cramer2008` s.1–151, {cite:p}`Cramer2008` s.231–312, {cite:p}`fahrmeirstatistik` s.10, {cite:p}`fahrmeirstatistik` s.12 ).\n",
    "\n",
    "Das Wort <a href=\"https://de.wikipedia.org/wiki/Univariat\">univariat</a> bezieht sich auf die Tatsache, dass nur eine Variable betrachtet wird. Der Hauptzweck der univariaten Statistik besteht darin, die Daten zu beschreiben und zusammenzufassen. Wenn zwei oder mehr Variablen analysiert werden, spricht man von <a href=\"https://en.wikipedia.org/wiki/Bivariate_analysis\">bivariater </a> oder <a href=\"https://de.wikipedia.org/wiki/Multivariate_Verfahren\">multivariater Analyse</a> bzw. Statistik. In diesem Fall sind wir in erster Linie an den Beziehungen zwischen und unter einer Reihe von Variablen interessiert.\n"
   ]
  },
  {
   "cell_type": "code",
   "execution_count": null,
   "id": "86f47294-4fc5-4a37-a26b-9e7caf54e4b2",
   "metadata": {},
   "outputs": [],
   "source": []
  }
 ],
 "metadata": {
  "kernelspec": {
   "display_name": "Python 3 (ipykernel)",
   "language": "python",
   "name": "python3"
  },
  "language_info": {
   "codemirror_mode": {
    "name": "ipython",
    "version": 3
   },
   "file_extension": ".py",
   "mimetype": "text/x-python",
   "name": "python",
   "nbconvert_exporter": "python",
   "pygments_lexer": "ipython3",
   "version": "3.10.2"
  }
 },
 "nbformat": 4,
 "nbformat_minor": 5
}
