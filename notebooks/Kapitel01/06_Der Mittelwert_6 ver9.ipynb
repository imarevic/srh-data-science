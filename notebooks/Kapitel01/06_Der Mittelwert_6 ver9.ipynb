{
 "cells": [
  {
   "cell_type": "markdown",
   "id": "35a56087-3be7-410f-8585-2adfc254eca4",
   "metadata": {},
   "source": [
    "## Der Mittelwert\n",
    "----------------------------------------\n",
    "### Der arithmethische Mittelwert\n",
    "$$\\text{Mittelwert}=\\frac{\\text{Summe aller Werte}}{\\text{Anzahl aller Werte}}$$ <br>\n",
    "Das für Stichprobendaten berechnete arithmetische Mittel wird mit $\\bar{x}$ (gelesen als \"x strich\") bezeichnet, und das Mittel für Grundgesamtheitsdaten wird mit $\\mu$ (griechischer Buchstabe mu) bezeichnet. Der Mittelwert kann also durch die folgenden Gleichungen ausgedrückt werden: <br>\n",
    "$$\\bar{x}=\\frac{1}{n} \\cdot \\sum_{i=1}^n x_i$$ <br> \n",
    "oder\n",
    "$$\\mu=\\frac{1}{N} \\cdot \\sum_{i=1}^N x_i$$ <br>\n",
    "wobei $\\sum_{i=1}^n x_i$ die Summe aller Werte $(x_1,x_2,...,x_n)$, $N$ der Umfang der Grundgesamtheit und $n$ der Stichprobenumfang ist.\n",
    "Betrachten wir die Variable $height$ im Datensatz der $Studenten$ und berechnen wir ihr arithmetisches Mittel. Beachten Sie, dass es sich bei dem Studentendatensatz um eine *Stichprobe* und **nicht** um die Grundgesamtheit aller Studenten handelt. Daher berechnen wir den $\\bar{x}$, den Stichprobenmittelwert."
   ]
  },
  {
   "cell_type": "code",
   "execution_count": 46,
   "id": "75561ed9-d85b-4ed6-b9dd-3894c5d6a1b6",
   "metadata": {},
   "outputs": [
    {
     "name": "stdout",
     "output_type": "stream",
     "text": [
      "Mittelwert des Alters der Studenten : 34.6\n"
     ]
    }
   ],
   "source": [
    "from csv import DictReader\n",
    "import numpy as np\n",
    "age = []\n",
    "summe_alter= 0\n",
    "anzahl=0\n",
    "# iterate over each line as a ordered dictionary and print only few column by column name\n",
    "with open('students.csv', 'r') as read_obj:\n",
    "    csv_dict_reader = DictReader(read_obj)\n",
    "    for row in csv_dict_reader:\n",
    "        #build list with age of each student\n",
    "        age.append( float(row['age']))\n",
    "        #sum up all ages\n",
    "        summe_alter += ( float(row['age']))\n",
    "        #count number of students\n",
    "        anzahl = anzahl +1\n",
    "#calculate mean with formula\n",
    "mittelwert_alter = summe_alter/anzahl\n",
    "print('Mittelwert des Alters der Studenten :' , mittelwert_alter)"
   ]
  },
  {
   "cell_type": "markdown",
   "id": "7460c3dc-fd64-46cb-8b07-15636e282952",
   "metadata": {},
   "source": [
    "Natürlich gibt es auch eine eingebaute Funktion namens np.mean()."
   ]
  },
  {
   "cell_type": "code",
   "execution_count": 47,
   "id": "3a15275e-fdc1-40f2-944e-d5d8aaaa2b97",
   "metadata": {},
   "outputs": [
    {
     "name": "stdout",
     "output_type": "stream",
     "text": [
      "Mittelwert des Alters der Studenten : 34.6\n"
     ]
    }
   ],
   "source": [
    "import numpy as np\n",
    "agemean = np.mean(age)\n",
    "print('Mittelwert des Alters der Studenten :' , agemean)"
   ]
  },
  {
   "cell_type": "markdown",
   "id": "0150b729-f19c-40dd-91c9-0c07b815ad09",
   "metadata": {},
   "source": [
    "### Das geometrische Mittel\n",
    "Bei der Untersuchung von Phänomenen wie der Inflation oder der Bevölkerungsentwicklung, die mit periodischen Zu- oder Abnahmen einhergehen (so genannte Veränderungsraten), ist das **geometrische Mittel** besser geeignet, um die durchschnittliche Veränderung über den gesamten Untersuchungszeitraum zu ermitteln. Um das geometrische Mittel einer Folge von n Werten $x_1,x_2,\\dots,x_n $ zu berechnen, werden diese miteinander multipliziert und dann die n-te Wurzel aus diesem Produkt ermittelt. <br> $$ \\bar{x}_{geo}=\\sqrt{x_1\\cdot x_2 \\cdots  x_n}$$ <br> was umgeschrieben werden kann als  <br> $$ \\bar{x}_{geo}=\\sqrt{x_1\\cdot x_2 \\cdots  x_n}= (\\prod_{i=1}^n x_i)^{\\frac{1}{n}}= \\sqrt[n]{\\prod_{i=1}^n x_i}$$ <br> Lassen Sie uns das an einem Beispiel verdeutlichen: <br> \n",
    "Wir betrachten die jährlichen Wachstumsraten eines Schwarmes von Honigbienen über einen Zeitraum von 5 Jahren. Diese Veränderungsraten sind: 14%, 26%, 16%, -38%, -6%. Außerdem wissen wir, dass sich zu Beginn des Beobachtungszeitraums 5.000 Bienen im Schwarm befunden haben. Wir suchen nach der mittleren Rate der Populationsveränderung. <br>\n",
    "Zunächst schreiben wir unsere Wachstumsraten in eine Liste."
   ]
  },
  {
   "cell_type": "code",
   "execution_count": 50,
   "id": "1fc468e9-d0e3-4ba8-a222-861fa6ee0c69",
   "metadata": {},
   "outputs": [],
   "source": [
    "bees = [14, 26, 16, -38, -6]"
   ]
  },
  {
   "cell_type": "markdown",
   "id": "2b437b8d-6ca4-4ad4-aa1b-a73016818292",
   "metadata": {},
   "source": [
    "Nun wenden wir wider besseres Wissen das arithmetische Mittel an: <br>"
   ]
  },
  {
   "cell_type": "code",
   "execution_count": 51,
   "id": "b151e382-7fcb-47ee-9d80-9280e57197c2",
   "metadata": {},
   "outputs": [
    {
     "name": "stdout",
     "output_type": "stream",
     "text": [
      "The mean rate of population change is: percent 2.4\n"
     ]
    }
   ],
   "source": [
    "print(\"The mean rate of population change is: percent\", np.mean(bees))"
   ]
  },
  {
   "cell_type": "markdown",
   "id": "04e141e2-2c22-4ef5-9e46-f195c24a5e72",
   "metadata": {},
   "source": [
    "Das arithmetische Mittel zeigt, dass der Schwarm über den Zeitraum von fünf Jahren wächst! Wir sind aber skeptisch und berechnen das jährliche Wachstum des Bienenschwarms explizit. Zunächst wandeln wir die angegebenen Prozentsätze in relative Wachstumsraten um $(bees\\_growth\\_rel)$, und dann berechnen wir einfach den Stand der Bienenpopulation, indem wir die Veränderungsraten nacheinander mit der Anzahl der Bienen multiplizieren, von der wir wissen, dass sie zu Beginn der Erhebung 5.000 betrug."
   ]
  },
  {
   "cell_type": "code",
   "execution_count": 9,
   "id": "902aab1b-337c-4cc8-9b86-80b6c00fa5d7",
   "metadata": {},
   "outputs": [
    {
     "name": "stdout",
     "output_type": "stream",
     "text": [
      "[1.1400000000000001, 1.26, 1.16, 0.62, 0.94]\n"
     ]
    }
   ],
   "source": [
    "bees = [14, 26, 16, -38, -6]\n",
    "bees_growth_rel=[]\n",
    "i = 0\n",
    "while i < len(bees):\n",
    "  bees_growth_rel.append(bees[i]/100+1)\n",
    "  i = i + 1 \n",
    "print(bees_growth_rel)"
   ]
  },
  {
   "cell_type": "code",
   "execution_count": 15,
   "id": "1d657a84-f73a-44e9-8dbe-42e56d3c4626",
   "metadata": {},
   "outputs": [
    {
     "name": "stdout",
     "output_type": "stream",
     "text": [
      "4855.376736\n"
     ]
    }
   ],
   "source": [
    "i = 0\n",
    "sumsum=5000\n",
    "while i < len(bees_growth_rel):\n",
    "  sumsum =bees_growth_rel[i]*sumsum\n",
    "  i = i + 1 \n",
    "print(sumsum)"
   ]
  },
  {
   "cell_type": "markdown",
   "id": "d98b015b-0ca2-4407-9c94-0171ea11d002",
   "metadata": {},
   "source": [
    "Wow, was für eine Überraschung! Offensichtlich stimmt da etwas nicht! Wir hatten erwartet, dass der Schwarm im Laufe der Zeit im Durchschnitt zunehmen würde. Wir haben jedoch einen Rückgang der absoluten Zahl der Bienen berechnet! <br> <br>\n",
    "Versuchen wir es mit dem geometrischen Mittel: <br> <br> Bitte beachten Sie, dass $\\sqrt[n]{x}= x^{\\frac{1}{n}}$ <br> <br> Um das geometrische Mittel explizit zu berechnen, schreiben wir:"
   ]
  },
  {
   "cell_type": "code",
   "execution_count": 31,
   "id": "43e59630-f25f-4de3-83ff-3c4027b63a1e",
   "metadata": {},
   "outputs": [
    {
     "name": "stdout",
     "output_type": "stream",
     "text": [
      "0.9941469529781076\n"
     ]
    }
   ],
   "source": [
    "i = 0\n",
    "geom=1\n",
    "n=len(bees_growth_rel)\n",
    "while i < n:\n",
    "  geom =bees_growth_rel[i]*geom\n",
    "  i = i + 1 \n",
    "geom = geom**(1/n)\n",
    "print(geom)"
   ]
  },
  {
   "cell_type": "markdown",
   "id": "f94e0faa-18ff-44b3-8b41-8bb22e75e487",
   "metadata": {},
   "source": [
    "Großartig! Das geometrische Mittel zeigt, dass die Zahl der Arten im Laufe der Zeit mit einer durchschnittlichen Rate von $0,994$ abnimmt, was $-0,006 \\% $ entspricht. Wir überprüfen dies, indem wir $5.000$ Bienen (die anfängliche Anzahl der Bienen im Schwarm) mal $0,994$ für jedes Jahr nehmen; dies ergibt $4.971$ Bienen nach dem ersten Jahr, $4.942$ nach dem zweiten Jahr, $4.913$ nach dem dritten Jahr, $4.884$ nach dem vierten Jahr und $4.855$ nach dem fünften Jahr der Beobachtung. Eine perfekte Übereinstimmung! Im Gegensatz zum arithmetischen Mittel gibt das geometrische Mittel die Entwicklung im Vergleich zum Vorjahr nicht zu hoch an! <br> <br>\n",
    "Zum Glück gibt es in Python vordefinierte Funktionspakete für Berechnung von Streuungsmaßen. Diese können durch $import \\ statistics$ verwendet werden. Die Funktion für das geometrische Mittel heisst $geometric\\_mean()$"
   ]
  },
  {
   "cell_type": "code",
   "execution_count": 35,
   "id": "5d7626c5-8628-491d-aa04-b07f14a144b3",
   "metadata": {},
   "outputs": [
    {
     "name": "stdout",
     "output_type": "stream",
     "text": [
      "0.9941469529781076\n"
     ]
    }
   ],
   "source": [
    "import statistics as st\n",
    "print(st.geometric_mean(bees_growth_rel))"
   ]
  },
  {
   "cell_type": "markdown",
   "id": "ec40ba79-e686-47fe-817f-d1dc8a8bd7cc",
   "metadata": {},
   "source": [
    "### Der harmonische Mittelwert\n",
    "Der **harmonische Mittelwert** eignet sich am besten für die Ermittlung des Durchschnitts von inversen Größen wie Geschwindigkeit (km/h) oder Bevölkerungsdichte (pop/km2). <br> <br> Betrachten Sie das folgende Beispiel: <br> <br>\n",
    "Die Entfernung zwischen Ihrem Haus und dem nächsten See beträgt 40 km. Sie sind mit einer Geschwindigkeit von 20 km pro Stunde zum See gefahren und mit einer Geschwindigkeit von 80 km pro Stunde nach Hause zurückgekehrt. Wie hoch war meine Durchschnittsgeschwindigkeit während der gesamten Fahrt? <br> <br> Berechnen wir zunächst das arithmetische Mittel."
   ]
  },
  {
   "cell_type": "code",
   "execution_count": 41,
   "id": "747b5f9b-09e6-4815-96ac-7c5c23ce07d2",
   "metadata": {},
   "outputs": [
    {
     "name": "stdout",
     "output_type": "stream",
     "text": [
      "50.0\n"
     ]
    }
   ],
   "source": [
    "import numpy as np\n",
    "speed_arithmetic=[20,80]\n",
    "print(np.mean(speed_arithmetic))"
   ]
  },
  {
   "cell_type": "markdown",
   "id": "4228389e-93e4-47b2-b952-00ca56cb8bff",
   "metadata": {},
   "source": [
    "Das arithmetische Mittel der beiden Geschwindigkeiten, mit denen Sie gefahren sind, beträgt 50 km pro Stunde. Dies ist jedoch nicht die richtige Durchschnittsgeschwindigkeit. Es lässt die Tatsache außer Acht, dass Sie mit 20 km/h viel länger gefahren sind als mit 80 km/h. Um die richtige Durchschnittsgeschwindigkeit zu ermitteln, müssen wir stattdessen das harmonische Mittel berechnen. <br> <br> Das harmonische Mittel $\\bar{x}_h$für die positiven reellen Zahlen $x_1,x_2,...,x_n$ ist definiert durch <br> <br> $$\\bar{x}=\\frac{n}{\\frac{1}{x_1}+\\frac{1}{x_2}+ \\cdots + \\frac{1}{x_n}}= \\frac{n}{\\sum_{i=1}^{n}\\frac{1}{x_i}} \\ , \\ \\forall \\ \\ i \\ \\ x_i \\gt 0 $$"
   ]
  },
  {
   "cell_type": "markdown",
   "id": "5ffed6fd-e834-4f67-b600-d22935e6857b",
   "metadata": {},
   "source": [
    "Wir können entweder unsere eigene Funktion für das harmonische Mittel definieren :"
   ]
  },
  {
   "cell_type": "code",
   "execution_count": 58,
   "id": "1ed9c025-15c5-4413-ad47-da2cd1aed6f4",
   "metadata": {},
   "outputs": [
    {
     "name": "stdout",
     "output_type": "stream",
     "text": [
      "32.0\n"
     ]
    }
   ],
   "source": [
    "def harm_mean(a):\n",
    "    return 1 / a\n",
    "\n",
    "speed_harmonic=[20,80]\n",
    "ans = []\n",
    "\n",
    "for i in speed_harmonic:\n",
    "    x = harm_mean(i)\n",
    "    ans.append(x)\n",
    "harm_mean_sum = len(speed_harmonic)/sum(ans)\n",
    "print(harm_mean_sum)\n"
   ]
  },
  {
   "cell_type": "markdown",
   "id": "fdb3ee95-0282-41cd-8ad4-264cdccd7645",
   "metadata": {},
   "source": [
    "oder die vordefinierte Funktion $harmonic\\_mean$ aus dem Packet $statistics$ verwenden:"
   ]
  },
  {
   "cell_type": "code",
   "execution_count": 59,
   "id": "deeea6ce-86c4-4e66-a6e0-fd31f2eb91b4",
   "metadata": {},
   "outputs": [
    {
     "name": "stdout",
     "output_type": "stream",
     "text": [
      "32.0\n"
     ]
    }
   ],
   "source": [
    "speed_harmonic=[20,80]\n",
    "print(st.harmonic_mean(speed_harmonic))"
   ]
  },
  {
   "cell_type": "markdown",
   "id": "60464249-f392-4eaf-8fb5-59f71497c36b",
   "metadata": {},
   "source": [
    "Perfekt, beide Implementierungen liefern das gleiche Ergebnis. Aber ist dieses Ergebnis korrekt? Wir versuchen das Ergebnis nachzuvollziehen. Im obigen Beispiel beträgt die Entfernung zwischen dem See und Ihrem Haus $40$ km. Die Fahrt von A nach B mit einer Geschwindigkeit von $20$ km/h dauert also 2 Stunden. Die Fahrt von B nach A mit einer Geschwindigkeit von $80$ km/h dauert $0,5$ Stunden. Die Gesamtzeit für die Rundstrecke von $2x40$ km beträgt $2,5$ Stunden. Die Durchschnittsgeschwindigkeit beträgt dann $80:2,5=32$."
   ]
  },
  {
   "cell_type": "markdown",
   "id": "49a87a03-65be-4f83-88d5-791adcf70401",
   "metadata": {},
   "source": [
    "### Der gewichtete Mittelwert\n",
    "Es gibt Anwendungen, bei denen bestimmte Werte in einem Datensatz als wichtiger angesehen werden können als andere. Im Allgemeinen gilt für eine Folge von $n$ Datenwerten $x_1,x_2,...,x_n$ und ihren entsprechenden Gewichten $w_1,w_2,...,w_n$, ist das gewichtete (arithmetische) Mittel gegeben durch <br> <br>\n",
    "$$ \\bar{x}_w = \\frac{\\sum_{i=1}^n w_i x_i}{\\sum_{i=1}^n w_i} $$ <br> <br> wobei $\\sum_{i=1}^n w_i x_i$ durch Multiplikation jedes Datenwertes mit seinem Gewicht und anschließender Addition der Produkte ermittelt wird. <br> <br> Um die Noten der Studenten in einem Kurs zu ermitteln, kann ein Dozent beispielsweise der Abschlussprüfung eine dreimal so hohe Gewichtung zuweisen wie den anderen Prüfungen. Ermitteln wir den gewichteten Mittelwert für einen Studenten, der in den ersten beiden Prüfungen $45$ und $68$ Punkte und in der Abschlussprüfung $74$ Punkte erzielt hat. <br> <br> \n",
    "Zunächst berechnen wir explizit das gewichtete Mittel:"
   ]
  },
  {
   "cell_type": "code",
   "execution_count": 82,
   "id": "57a0c834-e80e-4dcc-bb08-4f8c1dfaefb9",
   "metadata": {},
   "outputs": [
    {
     "name": "stdout",
     "output_type": "stream",
     "text": [
      "67.0\n"
     ]
    }
   ],
   "source": [
    "scores=[45,68,74]\n",
    "weights_scores=[1,1,3]\n",
    "weighted=[]\n",
    "i=0\n",
    "while i < len(scores):\n",
    "    weighted.append(scores[i]*weights_scores[i])\n",
    "    i=i+1\n",
    "print(sum(weighted)/sum(weights_scores))"
   ]
  },
  {
   "cell_type": "markdown",
   "id": "d9c4ae9d-a8d8-4931-a8b2-2c7a8c9a1bb8",
   "metadata": {},
   "source": [
    "Nun wiederholen wir die Berechnung, indem wir die Python-Funktion $average()$ anwenden:"
   ]
  },
  {
   "cell_type": "code",
   "execution_count": 85,
   "id": "10374ebf-086b-4416-b277-b20240d67af6",
   "metadata": {},
   "outputs": [
    {
     "data": {
      "text/plain": [
       "67.0"
      ]
     },
     "execution_count": 85,
     "metadata": {},
     "output_type": "execute_result"
    }
   ],
   "source": [
    "np.average(scores,weights=weights_scores)"
   ]
  },
  {
   "cell_type": "markdown",
   "id": "b95c760c-870f-4fcf-998c-f6966d8bbbc0",
   "metadata": {},
   "source": [
    "Um den Vergleich zu erleichtern, berechnen wir auch das arithmetische Mittel der Noten."
   ]
  },
  {
   "cell_type": "code",
   "execution_count": 88,
   "id": "4574f704-b123-4870-8571-7732336166e8",
   "metadata": {},
   "outputs": [
    {
     "data": {
      "text/plain": [
       "62.333333333333336"
      ]
     },
     "execution_count": 88,
     "metadata": {},
     "output_type": "execute_result"
    }
   ],
   "source": [
    "np.mean(scores)"
   ]
  },
  {
   "cell_type": "markdown",
   "id": "2ca9837f-dc54-4b25-a911-0856dd14a44d",
   "metadata": {},
   "source": [
    "Bitte beachten Sie, dass die Gewichtung der Eingabewerte ein Prinzip ist, das auch auf andere Mittelwertmaße anwendbar ist. Zum Beispiel können wir die Eingangsvariable für die Berechnung des geometrischen Mittels gewichten."
   ]
  },
  {
   "cell_type": "markdown",
   "id": "830ecfd0-47c0-4fad-a843-ad52df481c72",
   "metadata": {},
   "source": [
    "### Der gewichtete geometrische Mittelwert\n",
    "<br> <br> $$\\bar{x}_{geo_w}= (\\prod_{i=1}^n {x_i}^{w_i})^{1/\\sum_{i=1}^n w_i}$$ <br> <br> wobei $x_1,x_2,\\dots x_n$ den Datenwerten und $w_1,w_2,\\dots w_n$ den Gewichten entsprechen. Auf der Grundlage der obigen Gleichung ist es einfach, eine Implementierung in Python zu schreiben:"
   ]
  },
  {
   "cell_type": "markdown",
   "id": "50fcff65-2ee2-4955-9651-d0b59b196c5f",
   "metadata": {},
   "source": [
    "```python \n",
    "weighted_scores = np.power(scores,weights_scores)\n",
    "for i in range(len(scores)):\n",
    "    product.append(weighted_scores[i]*weighted_scores[i+1])\n",
    "\n",
    "    my_weighted_geometric_mean=product**(1/sum((weights_scores)))\n",
    "\n",
    "```"
   ]
  },
  {
   "cell_type": "markdown",
   "id": "77c0a00b-c236-4d73-8395-0c8dd5303fa1",
   "metadata": {},
   "source": [
    "Um sicherzustellen, dass unsere Implementierung korrekt ist, berechnen wir das Beispiel des Bienenschwarms aus dem obigen Abschnitt erneut. Wir erinnern uns, dass wir im obigen Beispiel einen Bienenschwarm über 5 Jahre beobachtet und die Veränderungsraten der Bienenpopulation notiert haben. Die jährlichen Veränderungsraten waren $1,14, 1,26, 1,16, 0,62, 0,94,$ was $x_1, x_2,...x_n$ entspricht. Um das Ergebnis von oben zu reproduzieren, setzen wir alle Gewichte $w_1,w_2,\\dots w_n$ auf 1."
   ]
  },
  {
   "cell_type": "code",
   "execution_count": 136,
   "id": "76a60310-3793-4022-829a-d252e3745716",
   "metadata": {},
   "outputs": [
    {
     "name": "stdout",
     "output_type": "stream",
     "text": [
      "[1.1400000000000001, 1.26, 1.16, 0.62, 0.94]\n"
     ]
    }
   ],
   "source": [
    "print(bees_growth_rel)\n",
    "weights_bees=[1,1,1,1,1]\n",
    "weighted_scores = np.power(scores,weights_scores)\n",
    "product=1\n",
    "while i < 3:\n",
    "    product=(weighted_scores[i])*product\n",
    "    print(product)\n",
    "    #my_weighted_geometric_mean=product**(1/sum((weights_scores)))\n",
    "#print(my_weighted_geometric_mean)"
   ]
  },
  {
   "cell_type": "markdown",
   "id": "fc387f16-8a3c-4964-871d-0b51d87fa95d",
   "metadata": {},
   "source": [
    "Korrekt, wir erhalten das gleiche Ergebnis!"
   ]
  },
  {
   "cell_type": "markdown",
   "id": "dd519a7a-0b71-487e-8e03-64363e46feb8",
   "metadata": {},
   "source": [
    "### Der gewichtete harmonische Mittelwert\n",
    "Schließlich werden wir eine eigene gewichtete harmonische Mittelwertfunktion implementieren. <br> <br> Das gewichtete harmonische Mittel $\\bar{x}$ für die positiven reellen Zahlen $x_1,x_2,\\dots,x_n$ ist durch die folgende Gleichung definiert: <br> <br> $$ \\bar{x}_{hw} = \\frac{w_1+w_2 + \\cdots + w_n}{\\frac{w_1}{x_1}+ \\frac{w_2}{x_2}+ \\cdots + \\frac{w_n}{x_n}} = \\frac{\\sum_{i=1}^n w_i}{\\sum_{i=1}^n\\frac{w_i}{x_i}}$$"
   ]
  },
  {
   "cell_type": "markdown",
   "id": "824260ba-84aa-4755-8d35-d910fd9ce7ce",
   "metadata": {},
   "source": [
    "Implementieren wir die Funktion des gewichteten harmonischen Mittels in Python. Die Kodierung ist einfach, aber um die Funktionalität unserer Funktion des gewichteten harmonischen Mittels zu erweitern, fügen wir eine $if$-Anweisung ein. Diese $if$-Anweisung im Code normalisiert die Gewichte, wenn die Gewichte nicht in Proportionen angegeben sind. Wenn die $if$-Anweisung ausgeführt wird, geben wir ein Benutzer-Feedback aus, andernfalls erfolgt keine Rückmeldung."
   ]
  },
  {
   "cell_type": "markdown",
   "id": "f7209bde-727d-4013-a49a-b4c8587e3fb4",
   "metadata": {},
   "source": [
    "```python\n",
    "my.weighted.harmonic.mean = function(vals, weights){\n",
    "  if (sum(weights) != 1){\n",
    "    weights = weights/sum(weights)\n",
    "    print('Weights do not sum up to 1. Weights are normalized...')\n",
    "  } \n",
    "  sum(weights)/sum(weights/vals)\n",
    "```"
   ]
  },
  {
   "cell_type": "markdown",
   "id": "813aa04e-02d0-4542-bb4e-d495de71990b",
   "metadata": {},
   "source": [
    "Lassen Sie uns unser $my.weighted.harmonic.mean$ an einem recht komplexen Datensatz ausprobieren. Der Datensatz $cities$ besteht aus allen Landeshauptstädten Deutschlands, ihrer Bevölkerungszahl und ihrer Fläche. Ziel ist es, die mittlere Bevölkerungsdichte für die Landeshauptstädte Deutschlands zu berechnen. Sie können die Datei $cities.csv$ <a href=\"https://userpage.fu-berlin.de/soga/200/2010_data_sets/cities.csv\">hier</a> herunterladen. Die Daten werden von dieser <a href=\"https://www.bundeslaenderdeutschland.de/landeshauptstaedte/\">Website</a> abgerufen.\n",
    "\n",
    "Zunächst laden wir den Datensatz, geben ihm einen passenden Namen und schauen ihn uns an."
   ]
  },
  {
   "cell_type": "markdown",
   "id": "d164e574-b687-46b8-ab3a-e47237eb5831",
   "metadata": {},
   "source": [
    "```python\n",
    "cities <- read.csv('https://userpage.fu-berlin.de/soga/200/2010_data_sets/cities.csv')\n",
    "cities\n",
    "```"
   ]
  },
  {
   "cell_type": "markdown",
   "id": "d588aee4-9327-44a8-9f4c-d763898f04a9",
   "metadata": {},
   "source": [
    "Zweitens erstellen wir eine neue Spalte und berechnen die Bevölkerungsdichte (Einwohner pro Quadratkilometer)."
   ]
  },
  {
   "cell_type": "markdown",
   "id": "40c9ba2f-d32c-4192-a846-962a23b1658c",
   "metadata": {},
   "source": [
    "```python\n",
    "cities$pop.density <- cities$pop.size / cities$area_km2\n",
    "cities\n",
    "```"
   ]
  },
  {
   "cell_type": "markdown",
   "id": "af1e3d9e-44be-4c82-984b-9d183960cf3b",
   "metadata": {},
   "source": [
    "Drittens berechnen wir das Gewicht für jede Stadt entsprechend der Bevölkerungszahl"
   ]
  },
  {
   "cell_type": "markdown",
   "id": "24720c16-193d-4096-aa70-2295273bc4cb",
   "metadata": {},
   "source": [
    "```python\n",
    "cities$pop.weight <- cities$pop.size / sum(cities$pop.size)\n",
    "cities\n",
    "```"
   ]
  },
  {
   "cell_type": "markdown",
   "id": "4e216f00-7b40-445c-8c90-fd879a0c3f67",
   "metadata": {},
   "source": [
    "Nun wenden wir unsere Implementierung des gewichteten harmonischen Mittels $my.weighted.harmonic.mean)$ an und vergleichen es mit dem arithmetischen Mittel.\n",
    "\n",
    "Wir beginnen, indem wir der Funktion den Vektor $cities\\$pop.weight$ als Eingabeparameter übergeben."
   ]
  },
  {
   "cell_type": "markdown",
   "id": "c79c2849-5782-4eb5-a0c5-7828ca62bf67",
   "metadata": {},
   "source": [
    "```python\n",
    "my.weighted.harmonic.mean(cities$pop.density, cities$pop.weight)\n",
    "```"
   ]
  },
  {
   "cell_type": "markdown",
   "id": "d83dedd3-61aa-4064-93dc-6e72a038c348",
   "metadata": {},
   "source": [
    "Jetzt testen wir die Funktionalität unserer Funktion, indem wir den Vektor $cities\\$pop.size$ als Eingabeparameter angeben."
   ]
  },
  {
   "cell_type": "markdown",
   "id": "0ecbe13f-4e76-468f-a0e1-3f8a20d06e51",
   "metadata": {},
   "source": [
    "```python\n",
    "my.weighted.harmonic.mean(cities$pop.density, cities$pop.size)\n",
    "```"
   ]
  },
  {
   "cell_type": "markdown",
   "id": "75b42c39-5806-4c09-afa7-1588b0cc8d8c",
   "metadata": {},
   "source": [
    "Wunderbar, die Funktion funktioniert wie erwartet. Die Ergebnisse sind identisch.\n",
    "\n",
    "Wir können daraus schließen, dass die durchschnittliche Bevölkerungsdichte in den Landeshauptstädten Deutschlands etwa 2.363 Einwohner/km2 beträgt.\n",
    "\n",
    "Zum Vergleich können wir das arithmetische Mittel der Bevölkerungsdichte berechnen."
   ]
  },
  {
   "cell_type": "markdown",
   "id": "8fcf6069-c0cb-493e-8176-78d7edd86d5e",
   "metadata": {},
   "source": [
    "```python\n",
    "mean(cities$pop.density)\n",
    "```"
   ]
  },
  {
   "cell_type": "code",
   "execution_count": null,
   "id": "5c19ced4-349f-4ba4-978f-369196e23632",
   "metadata": {},
   "outputs": [],
   "source": []
  }
 ],
 "metadata": {
  "kernelspec": {
   "display_name": "Python 3 (ipykernel)",
   "language": "python",
   "name": "python3"
  },
  "language_info": {
   "codemirror_mode": {
    "name": "ipython",
    "version": 3
   },
   "file_extension": ".py",
   "mimetype": "text/x-python",
   "name": "python",
   "nbconvert_exporter": "python",
   "pygments_lexer": "ipython3",
   "version": "3.10.0"
  }
 },
 "nbformat": 4,
 "nbformat_minor": 5
}
