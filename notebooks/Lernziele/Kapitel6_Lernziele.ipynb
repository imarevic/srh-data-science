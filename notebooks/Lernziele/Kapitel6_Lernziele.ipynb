{
 "cells": [
  {
   "cell_type": "markdown",
   "id": "6b0649e7-c297-4b58-9806-18ab991aee3e",
   "metadata": {},
   "source": [
    "# Lernziele"
   ]
  },
  {
   "cell_type": "markdown",
   "id": "02a9854c-81bd-46f9-8602-a7f6be2c2a52",
   "metadata": {},
   "source": [
    "## Hypothesentests"
   ]
  },
  {
   "cell_type": "markdown",
   "id": "22eec612-bcaa-4e7a-a3ca-15e4bc569619",
   "metadata": {},
   "source": [
    "- Die Grundlagen des Hypothesentests sowie das Aufstellen von Null- und Alternativhypothese, Wahl des Signifikanzniveaus und Umgang mit Fehlern 1ter und 2ter Art, kritischer Wert und $p$-Wert Ansatz wird den Studierenden vermittelt und anhand von Beispielen verdeutlicht\n",
    "- Verschiedene Testverfahren wie : Einstichproben $t$-Test , Zweistichproben $t$-Test , Chi-Quadrat-Test auf Anpassungsgüte , Chi-Quadrat-Unabhängigkeitstest , $t$-Test für die Korrelation werden vorgestellt und exemplarisch in Python behandelt\n",
    "- Die Studierenden sollen lernen schrittweise eigenständig Hypothesentests nachzuvollziehen und durchzuführen\n",
    "- Zusammengefasst werden folgende Begriffe und Methoden besprochen : Hypothesentests , Formulierung der Nullhypothese und der Alternativhypothese , links-,rechts-,beidseitige Tests , Fehler 1ter und 2ter Art , Signifikanzniveau , kritische Wert und der 𝑝-Wert-Ansatz , Einstichproben $t$-Test , Zweistichproben $t$-Test , Chi-Quadrat-Test auf Anpassungsgüte , Chi-Quadrat-Unabhängigkeitstest , $t$-Test für die Korrelation"
   ]
  }
 ],
 "metadata": {
  "kernelspec": {
   "display_name": "Python 3 (ipykernel)",
   "language": "python",
   "name": "python3"
  },
  "language_info": {
   "codemirror_mode": {
    "name": "ipython",
    "version": 3
   },
   "file_extension": ".py",
   "mimetype": "text/x-python",
   "name": "python",
   "nbconvert_exporter": "python",
   "pygments_lexer": "ipython3",
   "version": "3.10.2"
  }
 },
 "nbformat": 4,
 "nbformat_minor": 5
}
