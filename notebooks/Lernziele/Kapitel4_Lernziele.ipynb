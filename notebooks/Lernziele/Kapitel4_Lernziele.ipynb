{
 "cells": [
  {
   "cell_type": "markdown",
   "id": "92a7e388",
   "metadata": {},
   "source": [
    "# Lernziele"
   ]
  },
  {
   "cell_type": "markdown",
   "id": "edbe007f-e8e4-4bcc-a5fa-d338ff6e4e19",
   "metadata": {},
   "source": [
    "## Zentraler Grenzwertsatz"
   ]
  },
  {
   "cell_type": "markdown",
   "id": "24b3f098",
   "metadata": {},
   "source": [
    "- Die Kernaussagen des zentralen Grenzwertsatzes werden vorgestellt und anhand von interaktiven Beispielen wird veranschaulicht, daß durch Entnahme von Stichproben geeigneten Umfangs, Aussagen über die zugrundeliegende Grundgesamtheit getroffen werden können\n",
    "- Die Studierenden lernen, daß die entnommene Stichprobe als neue Zufallsvariable aufzufassen ist und können selbständig überprüfen, daß Folgen von Stichproben, unabhängig von ihrer ursprünglichen Verteilung, in ihrem Mittelwert, bei $n$-facher Wiederholung der Stichprobe, gegen eine Normalverteilung um denselben Mittlewert konvergieren\n",
    "- Die Studierenden lernen den Standardfehler $ \\sigma_{\\bar{x}} $ anhand des Beispiels des Standardfehlers des Mittlewerts $\\sigma_{\\bar{x}} = \\frac{\\sigma}{\\sqrt{n}} $ kennen\n",
    "- Zusammengefasst werden folgende Begriffe und Methoden besprochen : Zentraler Grenzwertsatz, Grundgesamtheit, Stichprobenverteilungen, Stichprobenfehler, Standardfehler\n"
   ]
  }
 ],
 "metadata": {
  "kernelspec": {
   "display_name": "Python 3.8.10 64-bit",
   "language": "python",
   "name": "python3"
  },
  "language_info": {
   "codemirror_mode": {
    "name": "ipython",
    "version": 3
   },
   "file_extension": ".py",
   "mimetype": "text/x-python",
   "name": "python",
   "nbconvert_exporter": "python",
   "pygments_lexer": "ipython3",
   "version": "3.8.10"
  },
  "vscode": {
   "interpreter": {
    "hash": "31f2aee4e71d21fbe5cf8b01ff0e069b9275f58929596ceb00d14d90e3e16cd6"
   }
  }
 },
 "nbformat": 4,
 "nbformat_minor": 5
}
