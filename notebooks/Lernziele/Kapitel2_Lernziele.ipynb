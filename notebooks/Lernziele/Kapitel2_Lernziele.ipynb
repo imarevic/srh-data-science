{
 "cells": [
  {
   "cell_type": "markdown",
   "id": "0f3dd775-1062-450f-90e9-b6d3133913e9",
   "metadata": {},
   "source": [
    "# Lernziele"
   ]
  },
  {
   "cell_type": "markdown",
   "id": "c1838b09-c8ef-4c95-9f01-b32bf2e8d244",
   "metadata": {},
   "source": [
    "## Diskrete Zufallsvariablen"
   ]
  },
  {
   "cell_type": "markdown",
   "id": "fe1a5c7f-6a5c-4073-bde6-333cf29153b5",
   "metadata": {},
   "source": [
    "- Die Studierenden werden mit diskrete Zufallsvariablen und der Berechnung deren Erwartungswert und Standardabweichung vertraut gemacht\n",
    "- Verschiedene Verteilungsarten von Zufallsvariablen wie Binomialverteilung, hypergeometrische Verteilung und Poisson-Verteilung werden erklärt\n",
    "- Den Studierenden wird anhand von Beispielen die Konzepte von Permutationen und Kombinatorik erläutert \n",
    "- Zusammengefasst werden folgende Begriffe und Methoden besprochen : diskrete Zufallsvariablen, Erwartungswert und Standardabweichung von diskreten Zufallsvariablen, Binomialverteilung, hypergeometrische Verteilung, Poissonverteilung"
   ]
  },
  {
   "cell_type": "code",
   "execution_count": null,
   "id": "e5db5cae-3d03-44d0-b249-66763566ddec",
   "metadata": {},
   "outputs": [],
   "source": []
  }
 ],
 "metadata": {
  "kernelspec": {
   "display_name": "Python 3 (ipykernel)",
   "language": "python",
   "name": "python3"
  },
  "language_info": {
   "codemirror_mode": {
    "name": "ipython",
    "version": 3
   },
   "file_extension": ".py",
   "mimetype": "text/x-python",
   "name": "python",
   "nbconvert_exporter": "python",
   "pygments_lexer": "ipython3",
   "version": "3.10.2"
  }
 },
 "nbformat": 4,
 "nbformat_minor": 5
}
