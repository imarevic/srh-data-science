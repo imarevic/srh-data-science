{
 "cells": [
  {
   "cell_type": "markdown",
   "id": "803f83f7-207c-4f7b-bf45-eb536fb5d970",
   "metadata": {},
   "source": [
    "# Lernziele"
   ]
  },
  {
   "cell_type": "markdown",
   "id": "b5df0978-9baa-4aab-a868-4b15a21697bd",
   "metadata": {},
   "source": [
    "## Varianzanalyse - ANOVA"
   ]
  },
  {
   "cell_type": "markdown",
   "id": "68ac4edf-7b51-44ec-83fd-1e52dd165f8d",
   "metadata": {},
   "source": [
    "- Das Grundkonzept von Varianzanalyse wird am Beispiel des einfaktoriellen ANOVA-Hypothesentests erklärt\n",
    "- Maße der Variabilität der beobachteten Variable (SST) zwischen Gruppen (SSG) und innerhalb der Gruppen (SSE) werden definiert\n",
    "- Das Problem der Alphafehler-Kumulierung bei multiplen Testprozeduren wird demonstriert und mögliche Korrekturen wie Bonferroni-Korrektur und Tukey's Test werden vermittelt\n",
    "- Zusammengefasst werden folgende Begriffe und Methoden besprochen : Varianzanalyse , einfaktorieller ANOVA-Hypothesentest , Multiples Testproblem , Alphafehler-Kumulierung , Bonferroni-Korrektur , Tukey's Test\n"
   ]
  },
  {
   "cell_type": "code",
   "execution_count": null,
   "id": "437d68ec-0773-48db-b6fe-97dc5e5231bb",
   "metadata": {},
   "outputs": [],
   "source": []
  }
 ],
 "metadata": {
  "kernelspec": {
   "display_name": "Python 3 (ipykernel)",
   "language": "python",
   "name": "python3"
  },
  "language_info": {
   "codemirror_mode": {
    "name": "ipython",
    "version": 3
   },
   "file_extension": ".py",
   "mimetype": "text/x-python",
   "name": "python",
   "nbconvert_exporter": "python",
   "pygments_lexer": "ipython3",
   "version": "3.10.2"
  }
 },
 "nbformat": 4,
 "nbformat_minor": 5
}
