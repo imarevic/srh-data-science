{
 "cells": [
  {
   "cell_type": "markdown",
   "id": "dfc9a7ab-f3ec-4650-949e-204d2a9da6be",
   "metadata": {},
   "source": [
    "# Lernziele"
   ]
  },
  {
   "cell_type": "markdown",
   "id": "d4e3faeb-633e-443c-a1ad-c99f428bb277",
   "metadata": {},
   "source": [
    "## Stetige Zufallsvariablen"
   ]
  },
  {
   "cell_type": "markdown",
   "id": "5f59876a-b329-40dd-80a3-90914a4cd825",
   "metadata": {},
   "source": [
    "- Die Konzepte von diskreten Zufallsvariablen werden auf stetige Zufallsvariablen und ihre Wahrscheinlichkeitsverteilungen verallgemeinert\n",
    "- Die Wahrscheinlichkeitsdichtefunktion und ihre Rolle in der  Konstruktion von Wahrscheinlichkeitsverteilungen wird erläutert. Insbesonders werden Normalverteilung, die Standard-Normalverteilung und die Umrechnung auf standardisierte Zufallsvariablen, kontinuierliche gleichmäßige Verteilung, Studentsche t-Verteilung, Chi-Quadrat-Verteilung und F-Verteilung besprochen\n",
    "- Es wird erklärt wie diese Warscheinlichkeitsverteilungen berechnet werden können und deren Syntax und Anwendungen durch Beispiele in Python veranschaulicht\n",
    "- Zusammengefasst werden folgende Begriffe und Methoden besprochen : stetige Zufallsvariablen, Wahrscheinlichkeitsdichtefunktionen, Normalverteilung, Standard-Normalverteilung, kontinuierliche gleichmäßige Verteilung, Studentsche t-Verteilung, Chi-Quadrat-Verteilung, F-Verteilung"
   ]
  },
  {
   "cell_type": "code",
   "execution_count": null,
   "id": "b14a5e98-ae77-48c5-97d4-9da6b9dddc07",
   "metadata": {},
   "outputs": [],
   "source": []
  }
 ],
 "metadata": {
  "kernelspec": {
   "display_name": "Python 3.8.10 64-bit",
   "language": "python",
   "name": "python3"
  },
  "language_info": {
   "codemirror_mode": {
    "name": "ipython",
    "version": 3
   },
   "file_extension": ".py",
   "mimetype": "text/x-python",
   "name": "python",
   "nbconvert_exporter": "python",
   "pygments_lexer": "ipython3",
   "version": "3.8.10"
  },
  "vscode": {
   "interpreter": {
    "hash": "31f2aee4e71d21fbe5cf8b01ff0e069b9275f58929596ceb00d14d90e3e16cd6"
   }
  }
 },
 "nbformat": 4,
 "nbformat_minor": 5
}
