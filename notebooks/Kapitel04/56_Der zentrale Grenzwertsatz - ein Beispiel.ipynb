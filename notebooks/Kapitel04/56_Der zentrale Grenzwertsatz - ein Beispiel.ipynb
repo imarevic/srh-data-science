{
 "cells": [
  {
   "cell_type": "markdown",
   "id": "3558fe04-022a-4de4-a838-a1f9181c4122",
   "metadata": {},
   "source": [
    "## Der zentrale Grenzwertsatz - ein Beispiel\n",
    "----------------------------------------"
   ]
  },
  {
   "cell_type": "code",
   "execution_count": 1,
   "id": "a0cb0894-57d6-4c43-93a0-e1b83b01e0c9",
   "metadata": {},
   "outputs": [
    {
     "name": "stdout",
     "output_type": "stream",
     "text": [
      "\n",
      "---------------------------------\n",
      "Working on the host: LAPTOP-9LETB4SJ\n",
      "\n",
      "---------------------------------\n",
      "Python version: 3.10.2 | packaged by conda-forge | (main, Mar  8 2022, 15:52:24) [MSC v.1929 64 bit (AMD64)]\n",
      "\n",
      "---------------------------------\n",
      "Python interpreter: C:\\Users\\zak\\anaconda3\\envs\\srh\\python.exe\n"
     ]
    }
   ],
   "source": [
    "import matplotlib.pyplot as plt\n",
    "import numpy as np\n",
    "import pandas as pd\n",
    "from scipy.stats import norm\n",
    "\n",
    "%run ../src/notebook_env.py"
   ]
  },
  {
   "cell_type": "markdown",
   "id": "494bf616-889a-4b5d-9b73-0f51fb24e922",
   "metadata": {},
   "source": [
    "In dieser Übung untersuchen wir den `students` Datensatz. Sie können die Datei `students.csv` <a href=\"https://userpage.fu-berlin.de/soga/200/2010_data_sets/students.csv\">hier</a> herunterladen. Zunächst importieren wir den Datensatz und geben ihm einen passenden Namen."
   ]
  },
  {
   "cell_type": "code",
   "execution_count": 2,
   "id": "30ec7fb4-6caa-4c2d-8f7c-2688dd0820a9",
   "metadata": {},
   "outputs": [],
   "source": [
    "# Lese Datei students.csv als Dataframe ein; Indexspalte wird übersprungen\n",
    "students = pd.read_csv('students.csv', index_col=0)"
   ]
  },
  {
   "cell_type": "markdown",
   "id": "9e48932d-3fd5-48c5-90ac-d10150c29c6f",
   "metadata": {},
   "source": [
    "Der `students` Datensatz besteht aus 8239 Zeilen, von denen jede einen bestimmten Studenten repräsentiert, und 16 Spalten, von denen jede einer Variable/einem Merkmal entspricht, das sich auf diesen bestimmten Studenten bezieht. Diese selbsterklärenden Variablen sind: *stud.id, name, gender, age, height, weight, religion, nc.score, semester, major, minor, score1, score2, online.tutorial, graduated, salary*."
   ]
  },
  {
   "cell_type": "markdown",
   "id": "f7c6aac5-1f59-4cd5-a566-c8d9562ea8d2",
   "metadata": {},
   "source": [
    "**FRAGE**\n",
    "Wie groß ist die Wahrscheinlichkeit, dass bei einer zufällig gezogenen Stichprobe von $42$ Studenten ($n=42$) der mittlere NC-Werten dieser Gruppe von Studenten gleich oder größer als $2,5$ ist, oder formeller geschrieben $P(x≥2,5)$?\n",
    "\n",
    "Um die obige Frage zu beantworten, beginnen wir zunächst mit der Datenaufbereitung. Dazu geben wir den NC-Werten einen eigenen Variablennamen (`nc_score`) und berechnen den Populationsmittelwert (`mu_pop`) und die Standardabweichung (`st_dev`)."
   ]
  },
  {
   "cell_type": "code",
   "execution_count": 3,
   "id": "fa5eaca1-4ebe-47db-a23a-98b2835433d8",
   "metadata": {},
   "outputs": [
    {
     "data": {
      "text/plain": [
       "2.1664813690981917"
      ]
     },
     "execution_count": 3,
     "metadata": {},
     "output_type": "execute_result"
    }
   ],
   "source": [
    "nc_score = students['nc.score']\n",
    "mu_pop = np.mean(nc_score)\n",
    "mu_pop"
   ]
  },
  {
   "cell_type": "code",
   "execution_count": 4,
   "id": "1e07e0e0-5f4e-42e1-a4d9-43fa72cc614b",
   "metadata": {},
   "outputs": [
    {
     "data": {
      "text/plain": [
       "0.8114987950197489"
      ]
     },
     "execution_count": 4,
     "metadata": {},
     "output_type": "execute_result"
    }
   ],
   "source": [
    "st_dev = np.std(nc_score) \n",
    "st_dev"
   ]
  },
  {
   "cell_type": "code",
   "execution_count": 5,
   "id": "51983150-5772-4acf-b1c4-753565880d43",
   "metadata": {},
   "outputs": [],
   "source": [
    "sample_size  = 42 # n"
   ]
  },
  {
   "cell_type": "markdown",
   "id": "404ff87b-18e1-462b-946a-63a3bb03138a",
   "metadata": {},
   "source": [
    "Daraus folgt, dass der Mittelwert der Grundgesamtheit (der Mittelwert der NC-Werte) ungefähr $2,17$ und die Standardabweichung der Grundgesamtheit $0,81$ beträgt. Um einen Eindruck von der Verteilung der Daten zu bekommen, zeichnen wir ein einfaches Histogramm."
   ]
  },
  {
   "cell_type": "code",
   "execution_count": 6,
   "id": "34f5cf45-c1eb-4ec2-a77f-30e50997824e",
   "metadata": {},
   "outputs": [
    {
     "data": {
      "text/plain": [
       "Text(0, 0.5, 'Häufigkeit')"
      ]
     },
     "execution_count": 6,
     "metadata": {},
     "output_type": "execute_result"
    },
    {
     "data": {
      "image/png": "[encoded data removed]",
      "text/plain": [
       "<Figure size 432x288 with 1 Axes>"
      ]
     },
     "metadata": {
      "needs_background": "light"
     },
     "output_type": "display_data"
    }
   ],
   "source": [
    "plt.hist(nc_score,bins = 15, color = 'white', edgecolor = 'k')\n",
    "plt.xlabel('nc.score')\n",
    "plt.ylabel('Häufigkeit')"
   ]
  },
  {
   "cell_type": "markdown",
   "id": "588b4c98-245b-4420-aad2-d922e921b017",
   "metadata": {},
   "source": [
    "Offensichtlich sind die Daten nicht normalverteilt, aber mit Hilfe des **zentralen Grenzwertsatzes** können wir sicher sein, dass bei einem ausreichend großen Stichprobenumfang ($n≥30$) die Verteilung unserer zu untersuchenden Statistik einer Normalverteilung entspricht mit"
   ]
  },
  {
   "cell_type": "markdown",
   "id": "d27a1402-4610-4433-ab9d-f75dc9e61579",
   "metadata": {},
   "source": [
    "$$\\mu_{\\bar x} = \\mu \\qquad \\text{und} \\qquad \\sigma_{\\bar x}=\\frac{\\sigma}{\\sqrt{n}}$$"
   ]
  },
  {
   "cell_type": "markdown",
   "id": "dd44df4d-81eb-44f1-88a1-f340d277df51",
   "metadata": {},
   "source": [
    "Auf der Grundlage unserer Kenntnisse über die Bevölkerung können wir also relativ einfach $\\mu_{\\bar x}$ und $\\sigma_{\\bar x}$ berechnen:"
   ]
  },
  {
   "cell_type": "markdown",
   "id": "85f370d3-0092-441e-9bd5-7b7f48107939",
   "metadata": {},
   "source": [
    "$$\\mu_{\\bar x} = \\mu \\approx 2,17$$"
   ]
  },
  {
   "cell_type": "markdown",
   "id": "80de1c98-8420-44f7-acfb-9e4928c46f68",
   "metadata": {},
   "source": [
    "$$\\sigma_{\\bar x}=\\frac{\\sigma}{\\sqrt{n}} =\\frac{0,81}{\\sqrt{42}} \\approx  0,1252246$$"
   ]
  },
  {
   "cell_type": "markdown",
   "id": "0eaec5b2-8e3b-4df2-ab82-000252bdb149",
   "metadata": {},
   "source": [
    "Bevor wir fortfahren, wiederholen wir die Berechnungen von oben in Python."
   ]
  },
  {
   "cell_type": "code",
   "execution_count": 7,
   "id": "31bedd39-7f5b-4cf2-ada3-8cdef5b79ff5",
   "metadata": {},
   "outputs": [],
   "source": [
    "mu_x_bar = mu_pop\n",
    "st_error = st_dev/np.sqrt(sample_size)"
   ]
  },
  {
   "cell_type": "markdown",
   "id": "b6b7e8b0-65a6-4c0f-990b-c30df8f34ada",
   "metadata": {},
   "source": [
    "Da wir nun den Mittelwert ($\\mu_{\\bar x}$) und die Standardabweichung ($\\sigma_{\\bar x}$) der Stichprobenverteilung kennen, können wir mit Hilfe von Python die Fläche unter der Kurve einer Normalverteilung $N∼(μ≈2,17,σ≈0,13)$ berechnen. Erinnern Sie sich, dass $P(x≥2.5)$ der Wahrscheinlichkeit entspricht, dass $x$ in das Intervall $[a \\ $,$ \\ \\infty]$ fällt, also,"
   ]
  },
  {
   "cell_type": "markdown",
   "id": "7225575e-a2c9-42a8-8c78-06455f34ae29",
   "metadata": {},
   "source": [
    "$$P(X \\ge a) = 1 - P(X \\le a) = \\int_{a}^{\\infty}f(x)dx$$"
   ]
  },
  {
   "cell_type": "markdown",
   "id": "0d600824-e35d-4825-b45d-c07b8c940024",
   "metadata": {},
   "source": [
    "oder in grafischer Darstellung"
   ]
  },
  {
   "cell_type": "markdown",
   "id": "6ddac49e-669f-4e2a-b48f-c0b3988ebecf",
   "metadata": {},
   "source": [
    "![Alt-Text](56_integral.png)"
   ]
  },
  {
   "cell_type": "markdown",
   "id": "fdba787d-67eb-4dd8-a902-484d183a529c",
   "metadata": {},
   "source": [
    "Die Fläche unter der Kurve für das Intervall $[2,5  \\ $,$ \\ \\infty]$ wird mit der Funktion `norm.cdf()` berechnet."
   ]
  },
  {
   "cell_type": "code",
   "execution_count": 8,
   "id": "844462cd-05b2-4f1d-b28c-143cda4c9dd9",
   "metadata": {},
   "outputs": [
    {
     "data": {
      "text/plain": [
       "0.0038663271018254397"
      ]
     },
     "execution_count": 8,
     "metadata": {},
     "output_type": "execute_result"
    }
   ],
   "source": [
    "auc = 1-norm.cdf(2.5, loc = mu_x_bar, scale = st_error)\n",
    "auc"
   ]
  },
  {
   "cell_type": "markdown",
   "id": "2bb60308-fc7c-46a6-885b-7b7accda16ae",
   "metadata": {},
   "source": [
    "Die Wahrscheinlichkeit, dass bei einer zufällig gezogenen Stichprobe von $42$ Studenten der mittlere NC-Wert dieser Untergruppe von Studenten gleich oder höher als $2,5$ ist, beträgt $0,4 \\%$, oder formeller ausgedrückt $P(x≥2,5)=0,004$."
   ]
  },
  {
   "cell_type": "markdown",
   "id": "0eb83d0f-91d8-49d6-8753-46ebd55077f1",
   "metadata": {},
   "source": [
    "In der obigen Übung haben wir ein sehr schönes Ergebnis erhalten: $P(x≥2,5)=0,004$. . Dies wiederum bedeutet, dass bei einer wiederholten Stichprobenziehung, d. h. bei einer wiederholten Entnahme einer Zufallsstichprobe von $42$ Studenten, der Mittelwert der NC-Werte in etwa $0$ von $100$ Stichproben höher als $2,5$ sein wird. Da wir die Leistungsfähigkeit von Python kennen, klingt dies nach einer Behauptung, die sich leicht durch ein Computerexperiment überprüfen lässt.\n",
    "\n",
    "Für eine ausreichend große Anzahl von Versuchen (Versuche = $5000$) nehmen wir also $100$ Mal den mittleren NC-Wert von $42$ zufällig ausgewählten Studierenden. Nach $5000$ Versuchen bewerten wir, ob im Durchschnitt von $100$ Stichproben etwa $0$ Stichproben einen mittleren NC-Wert von $2,5$ oder höher haben. (Bitte beachten Sie, dass die Berechnung einige Zeit in Anspruch nehmen kann!)"
   ]
  },
  {
   "cell_type": "code",
   "execution_count": 78,
   "id": "3e6ec3e6-9bae-4027-b0a0-9054629b584b",
   "metadata": {},
   "outputs": [],
   "source": [
    "trials = 5000\n",
    "samples = 100\n",
    "n = 42\n",
    "sampling_statistic = []\n",
    "for trial in range(1,trials):\n",
    "    mu_x_bar = []\n",
    "    for i in range(1,samples):\n",
    "        random_sample = nc_score.sample(n)\n",
    "        mu_x_bar=np.mean(random_sample)\n",
    "        if mu_x_bar >= 2.5:\n",
    "            sampling_statistic.append(mu_x_bar)\n",
    "sampling_statistic = pd.DataFrame(sampling_statistic)"
   ]
  },
  {
   "cell_type": "code",
   "execution_count": 79,
   "id": "27bf13b2-fb88-4d0c-a9f1-8ad923c42ae3",
   "metadata": {},
   "outputs": [
    {
     "data": {
      "text/plain": [
       "0.4348"
      ]
     },
     "execution_count": 79,
     "metadata": {},
     "output_type": "execute_result"
    }
   ],
   "source": [
    "len(sampling_statistic)/5000"
   ]
  },
  {
   "cell_type": "markdown",
   "id": "cc857e4f-2f81-40eb-bf77-7c8ee0fa75ce",
   "metadata": {},
   "source": [
    "Das Ergebnis unseres Computerexperiments zeigt, dass von $100$ Stichproben etwa $0,4348$ Stichprobe einen mittleren NC-Wert von $2,5$ oder mehr aufweist. Dies kommt dem analytisch ermittelten Wert von $0,4  \\%$ recht nahe."
   ]
  },
  {
   "cell_type": "code",
   "execution_count": null,
   "id": "01c899c7-9e78-49c2-95aa-de1946c47318",
   "metadata": {},
   "outputs": [],
   "source": []
  }
 ],
 "metadata": {
  "kernelspec": {
   "display_name": "Python 3 (ipykernel)",
   "language": "python",
   "name": "python3"
  },
  "language_info": {
   "codemirror_mode": {
    "name": "ipython",
    "version": 3
   },
   "file_extension": ".py",
   "mimetype": "text/x-python",
   "name": "python",
   "nbconvert_exporter": "python",
   "pygments_lexer": "ipython3",
   "version": "3.10.2"
  }
 },
 "nbformat": 4,
 "nbformat_minor": 5
}
