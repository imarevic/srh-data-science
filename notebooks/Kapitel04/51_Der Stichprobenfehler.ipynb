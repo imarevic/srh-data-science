{
 "cells": [
  {
   "cell_type": "markdown",
   "id": "258f812e-33b1-4929-855f-c4e993b980a1",
   "metadata": {},
   "source": [
    "## Der Stichprobenfehler\n",
    "---------------------------------------- "
   ]
  },
  {
   "cell_type": "code",
   "execution_count": 1,
   "id": "1dd248fe-ae0e-4650-a3dc-0e05db28f66c",
   "metadata": {},
   "outputs": [],
   "source": [
    "import numpy as np\n",
    "import matplotlib.pyplot as plt"
   ]
  },
  {
   "cell_type": "markdown",
   "id": "e0c5aaa7-d24b-4811-8db0-21b89fa25095",
   "metadata": {},
   "source": [
    "Wir wiederholen die Stichprobe aus dem vorigen Abschnitt fünfmal und geben den Mittelwert $\\bar{x}$ für jede einzelne Stichprobe aus."
   ]
  },
  {
   "cell_type": "code",
   "execution_count": 3,
   "id": "26c930ef-60eb-4726-a678-77d3b6f75608",
   "metadata": {},
   "outputs": [
    {
     "name": "stdout",
     "output_type": "stream",
     "text": [
      "Die 1. Stichprobe hat einen Mittelwert von 7.0\n",
      "Die 2. Stichprobe hat einen Mittelwert von 4.333333333333333\n",
      "Die 3. Stichprobe hat einen Mittelwert von 7.0\n",
      "Die 4. Stichprobe hat einen Mittelwert von 6.0\n",
      "Die 5. Stichprobe hat einen Mittelwert von 5.333333333333333\n"
     ]
    }
   ],
   "source": [
    "population = [1, 2, 3, 4, 5, 6, 7, 8, 9, 10]\n",
    "for i in range(5):\n",
    "    my_sample = np.random.choice(population, size=3, replace=False)\n",
    "    mean = np.mean(my_sample)\n",
    "    print(f\"Die {i+1}. Stichprobe hat einen Mittelwert von {mean}\")"
   ]
  },
  {
   "cell_type": "markdown",
   "id": "91326d7b-6f12-4d10-bdaa-5900d503ee18",
   "metadata": {},
   "source": [
    "Es liegt auf der Hand, dass verschiedene Stichproben (mit derselben Länge), die aus derselben Grundgesamtheit ausgewählt wurden, unterschiedliche Stichprobenstatistiken ergeben, da sie unterschiedliche Elemente enthalten. Darüber hinaus unterscheidet sich jede aus einer Stichprobe gewonnene Stichprobenstatistik, z. B. der Stichprobenmittelwert $\\bar{x}$, von dem Ergebnis, das aus der entsprechenden Grundgesamtheit, dem Grundgesamtheitsmittelwert $μ$, gewonnen wird. Die Differenz zwischen dem Wert einer aus einer Stichprobe gewonnenen Statistik und dem Wert des entsprechenden, aus der Grundgesamtheit gewonnenen Parameters wird als **<a href=\"https://en.wikipedia.org/wiki/Sampling_error\">Stichprobenfehler</a>** bezeichnet. Im Fall des Mittelwerts kann der Stichprobenfehler wie folgt geschrieben werden\n",
    "\n",
    "$$ \\text{Sampling error} = \\bar{x} - \\mu$$\n",
    "\n",
    "Aufgrund des Charakters von Zufallsstichproben und willkürlichen Ziehung einer Reihe von Werten aus der Grundgesamtheit ist der daraus resultierende Stichprobenfehler zufällig, oder anders gesagt, der Stichprobenfehler ist eine Zufallsvariable. Es ist jedoch zu beachten, dass es neben der beschriebenen Zufälligkeit noch andere Fehlerquellen gibt. Diese Fehler hängen oft mit dem Prozess der Datenerzeugung zusammen und werden unter dem Begriff <a href=\"https://en.wikipedia.org/wiki/Non-sampling_error\">Nicht-Stichprobenfehler</a> zusammengefasst. Solche Fehler werden beispielsweise durch die menschliche Handhabung der Daten, Kalibrierungsfehler der Messgeräte etc. verursacht.\n",
    "\n",
    "Um ein Gefühl für die Art des Stichprobenfehlers zu bekommen, führen wir ein Experiment durch. Bei diesem Experiment besteht die interessierende Grundgesamtheit aus den ersten $100$ ganzen Zahlen $\\{1,2,3,...,100\\}$. Wir wollen den Einfluss des Stichprobenumfangs $n$ auf den Stichprobenfehler untersuchen. Der Einfachheit halber wählen wir den Stichprobenmittelwert als die interessierende Statistik. Für eine ausreichend große Anzahl von Versuchen (z.B. 5000 Versuche) berechnen wir den Stichprobenfehler für Stichproben mit dem Umfang $n=10,25,50,75$."
   ]
  },
  {
   "cell_type": "code",
   "execution_count": 4,
   "id": "4072a806-660c-41de-82a3-6808f56bdb84",
   "metadata": {},
   "outputs": [
    {
     "name": "stdout",
     "output_type": "stream",
     "text": [
      "Stichprobenfehler (n=10): 6.922\n",
      "Stichprobenfehler (n=25): 3.979\n",
      "Stichprobenfehler (n=50): 2.328\n",
      "Stichprobenfehler (n=75): 1.348\n"
     ]
    }
   ],
   "source": [
    "TRIAL_SIZE = 5000  # 5000 Versuche\n",
    "SAMPLE_SIZE = [10, 25, 50, 75]  # Stichprobenumfang\n",
    "population = range(1, 101)\n",
    "mean_pop = np.mean(population)\n",
    "for n in SAMPLE_SIZE:\n",
    "    error_sample = []\n",
    "    for _ in range(TRIAL_SIZE):\n",
    "        my_sample = np.random.choice(population, size=n, replace=False)\n",
    "        mean = np.mean(my_sample)\n",
    "        error_sample.append(abs(mean - mean_pop))\n",
    "    print(f\"Stichprobenfehler (n={n}):\", np.round(np.mean(error_sample), 3))"
   ]
  },
  {
   "cell_type": "markdown",
   "id": "38d8bdd3-7621-440d-a7b2-8e2cce9cec73",
   "metadata": {},
   "source": [
    "Aus dem obigen Experiment können wir schließen, dass der Stichprobenfehler umso kleiner ist, je größer der Stichprobenumfang ist. Mit anderen Worten: Je größer der Stichprobenumfang ist, desto mehr nähert sich der Stichprobenmittelwert $\\bar{x}$ dem Grundgesamtheitsmittelwert $μ$ an. Dies ist eine wichtige Erkenntnis, die im Abschnitt über die *Inferenzstatistik* ausführlicher behandelt werden wird."
   ]
  },
  {
   "cell_type": "code",
   "execution_count": null,
   "id": "99350d91-294b-49b6-b914-5c74ad4ab9cb",
   "metadata": {},
   "outputs": [],
   "source": []
  }
 ],
 "metadata": {
  "kernelspec": {
   "display_name": "Python 3 (ipykernel)",
   "language": "python",
   "name": "python3"
  },
  "language_info": {
   "codemirror_mode": {
    "name": "ipython",
    "version": 3
   },
   "file_extension": ".py",
   "mimetype": "text/x-python",
   "name": "python",
   "nbconvert_exporter": "python",
   "pygments_lexer": "ipython3",
   "version": "3.10.2"
  }
 },
 "nbformat": 4,
 "nbformat_minor": 5
}
