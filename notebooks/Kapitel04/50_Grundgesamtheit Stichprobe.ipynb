{
 "cells": [
  {
   "cell_type": "markdown",
   "id": "334917a4-f350-4be1-aa7b-49c363336ebc",
   "metadata": {},
   "source": [
    "## Grundgesamtheitsstatistiken und Stichprobenstatistiken\n",
    "---------------------------------------- "
   ]
  },
  {
   "cell_type": "code",
   "execution_count": 1,
   "id": "4a89d48a-f7ca-4df9-a128-dbffacb9d882",
   "metadata": {},
   "outputs": [],
   "source": [
    "import numpy as np\n",
    "import matplotlib.pyplot as plt"
   ]
  },
  {
   "cell_type": "markdown",
   "id": "5e138428-436f-4b2f-9ec5-2de15a9f3def",
   "metadata": {},
   "source": [
    "Betrachten wir ein einfaches Beispiel für eine kleine diskrete Grundgesamtheit, die aus den ersten zehn ganzen Zahlen $\\{1,2,3,4,5,6,7,8,9,10\\}$ besteht."
   ]
  },
  {
   "cell_type": "code",
   "execution_count": 2,
   "id": "8e162037-7bf2-47b7-a7d2-599d8a6237d9",
   "metadata": {},
   "outputs": [
    {
     "name": "stdout",
     "output_type": "stream",
     "text": [
      "Mittelwert (Grundgesamtheit):         5.5\n",
      "Standartabweichung (Grundgesamtheit): 2.8722813232690143\n"
     ]
    }
   ],
   "source": [
    "population = [1, 2, 3, 4, 5, 6, 7, 8, 9, 10]\n",
    "mean = np.mean(population)\n",
    "std = np.std(population)\n",
    "\n",
    "print(f\"Mittelwert (Grundgesamtheit):         {mean}\")\n",
    "print(f\"Standartabweichung (Grundgesamtheit): {std}\")"
   ]
  },
  {
   "cell_type": "markdown",
   "id": "5f04f396-9b8e-4a4a-b2d3-ea5f18f7f558",
   "metadata": {},
   "source": [
    "Der Populationsmittelwert $μ$, und die Populationsstandardabweichung $σ$ beträgt $5,5$ bzw. etwa $3,028$. Es ist wichtig zu erkennen, dass sich diese Parameter, die Populationsparameter, nicht ändern! Sie sind durch die Grundgesamtheit festgelegt.\n",
    "\n",
    "Nehmen wir nun eine Zufallsstichprobe ohne Ersetzung mit dem Umfang $n=3$ aus dieser Grundgesamtheit. "
   ]
  },
  {
   "cell_type": "code",
   "execution_count": 3,
   "id": "29cb7eb5-d35e-4ef0-8f9a-3d63a73e5052",
   "metadata": {},
   "outputs": [
    {
     "data": {
      "text/plain": [
       "array([2, 7, 5])"
      ]
     },
     "execution_count": 3,
     "metadata": {},
     "output_type": "execute_result"
    }
   ],
   "source": [
    "my_sample = np.random.choice(population, size=3, replace=False)\n",
    "my_sample"
   ]
  },
  {
   "cell_type": "markdown",
   "id": "22f22242-72cf-44ac-8866-a098a02861e2",
   "metadata": {},
   "source": [
    "Nun berechnen wir den Mittelwert und die Standardabweichung der gegebenen Stichprobe. Da wir uns aber auf eine bestimmte Stichprobe beziehen, nennen wir den statistischen Parameter diesmal **Stichprobenstatistik** oder, wenn wir uns auf die Verteilung der Werte (Elemente) beziehen, **Stichprobenverteilung**. Um dies zu verdeutlichen, wird der Stichprobenmittelwert mit $\\bar{x}$ und die Stichprobenstandardabweichung mit $s$ bezeichnet."
   ]
  },
  {
   "cell_type": "code",
   "execution_count": 4,
   "id": "b1facde5-5ccd-47e4-98a4-330fd0babf97",
   "metadata": {},
   "outputs": [
    {
     "name": "stdout",
     "output_type": "stream",
     "text": [
      "Mittelwert (Stichprobe):         4.666666666666667\n",
      "Standartabweichung (Stichprobe): 2.516611478423583\n"
     ]
    }
   ],
   "source": [
    "x_bar = np.mean(my_sample)\n",
    "s = np.std(my_sample, ddof=1)\n",
    "\n",
    "print(f\"Mittelwert (Stichprobe):         {x_bar}\")\n",
    "print(f\"Standartabweichung (Stichprobe): {s}\")"
   ]
  },
  {
   "cell_type": "markdown",
   "id": "9e8b9eef-da83-45bf-9b9c-b502387338dd",
   "metadata": {},
   "source": [
    "Bitte beachten Sie, dass sich die Stichprobenstatistiken je nach den tatsächlichen Elementen in der Stichprobe von Stichprobe zu Stichprobe ändern."
   ]
  },
  {
   "cell_type": "code",
   "execution_count": null,
   "id": "02d23453-cd80-4dae-8177-0d05c95df2f8",
   "metadata": {},
   "outputs": [],
   "source": []
  }
 ],
 "metadata": {
  "kernelspec": {
   "display_name": "Python 3 (ipykernel)",
   "language": "python",
   "name": "python3"
  },
  "language_info": {
   "codemirror_mode": {
    "name": "ipython",
    "version": 3
   },
   "file_extension": ".py",
   "mimetype": "text/x-python",
   "name": "python",
   "nbconvert_exporter": "python",
   "pygments_lexer": "ipython3",
   "version": "3.10.2"
  }
 },
 "nbformat": 4,
 "nbformat_minor": 5
}
