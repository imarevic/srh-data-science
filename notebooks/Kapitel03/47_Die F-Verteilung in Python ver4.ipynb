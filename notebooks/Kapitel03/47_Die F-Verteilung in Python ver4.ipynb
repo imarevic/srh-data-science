{
 "cells": [
  {
   "cell_type": "markdown",
   "id": "9acc6bff-0cc3-4a5d-8406-740f1e03150a",
   "metadata": {},
   "source": [
    "## Die F-Verteilung in Python\n",
    "----------------------------------------"
   ]
  },
  {
   "cell_type": "code",
   "execution_count": 1,
   "id": "f9161463-57bc-4194-9f32-6b2bc21e14ac",
   "metadata": {},
   "outputs": [
    {
     "name": "stdout",
     "output_type": "stream",
     "text": [
      "\n",
      "---------------------------------\n",
      "Working on the host: LAPTOP-9LETB4SJ\n",
      "\n",
      "---------------------------------\n",
      "Python version: 3.10.2 | packaged by conda-forge | (main, Mar  8 2022, 15:52:24) [MSC v.1929 64 bit (AMD64)]\n",
      "\n",
      "---------------------------------\n",
      "Python interpreter: C:\\Users\\zak\\anaconda3\\envs\\srh\\python.exe\n"
     ]
    }
   ],
   "source": [
    "import matplotlib.pyplot as plt\n",
    "import numpy as np\n",
    "from scipy.stats import f\n",
    "\n",
    "%run ../src/notebook_env.py"
   ]
  },
  {
   "cell_type": "markdown",
   "id": "64c8ca7b-1bb0-4c1c-8642-443497e45ae5",
   "metadata": {},
   "source": [
    "Die wichtigsten Funktionen zur Interaktion mit der $F$-Verteilung sind `f.pdf()`, `f.cdf()`, `f.ppf()`, `f.rvs()`. Die Funktion `f.pdf`() liefert die Dichte, die Funktion `f.cdf()` die Verteilungsfunktion, die Funktion `f.ppf()` die Quantilfunktion und die Funktion `f.rvs()` erzeugt Zufallsabweichungen.\n",
    "\n",
    "Wir verwenden die Funktion `f.pdf()`, um die Dichte bei einem Wert von $1,2$ einer $F$-Kurve mit $v_1=10$ und $v_2=20$."
   ]
  },
  {
   "cell_type": "code",
   "execution_count": 2,
   "id": "2be49b85-3a73-4456-9e21-0c555dc45669",
   "metadata": {},
   "outputs": [
    {
     "data": {
      "text/plain": [
       "0.5626124566227062"
      ]
     },
     "execution_count": 2,
     "metadata": {},
     "output_type": "execute_result"
    }
   ],
   "source": [
    "f.pdf(1.2,10,20)"
   ]
  },
  {
   "cell_type": "markdown",
   "id": "683bb6d2-e077-491e-a917-c38a069e02ab",
   "metadata": {},
   "source": [
    "Wir verwenden `f.cdf()`, um die Fläche unter der Kurve für das Intervall $[0 \\ $,$ \\ 1,5]$ und das Intervall $[1,5 \\ $,$ \\ +\\infty[$ einer F-Kurve mit $v_1=10$ und $v_2=20$ zu berechnen. Weiter fragen wir Python, ob die Summe der Intervalle $[0 \\ $,$ \\ 1,5]$ und $[1,5 \\ $,$ \\ +\\infty[$ den Wert $1$ ergibt."
   ]
  },
  {
   "cell_type": "code",
   "execution_count": 3,
   "id": "053cff71-fa33-4e36-b016-295d630bc16d",
   "metadata": {},
   "outputs": [
    {
     "data": {
      "text/plain": [
       "0.7890535374813874"
      ]
     },
     "execution_count": 3,
     "metadata": {},
     "output_type": "execute_result"
    }
   ],
   "source": [
    "f_cdf1 = f.cdf(1.5,10,20)\n",
    "f_cdf1"
   ]
  },
  {
   "cell_type": "code",
   "execution_count": 4,
   "id": "196944c4-88e7-4b6c-b1f0-8ad83c79db9e",
   "metadata": {},
   "outputs": [
    {
     "data": {
      "text/plain": [
       "0.2109464625186126"
      ]
     },
     "execution_count": 4,
     "metadata": {},
     "output_type": "execute_result"
    }
   ],
   "source": [
    "f_cdf2 = 1-f.cdf(1.5,10,20)\n",
    "f_cdf2"
   ]
  },
  {
   "cell_type": "code",
   "execution_count": 5,
   "id": "69302b16-ec60-4f4f-8656-7c723a7765f3",
   "metadata": {},
   "outputs": [
    {
     "data": {
      "text/plain": [
       "1.0"
      ]
     },
     "execution_count": 5,
     "metadata": {},
     "output_type": "execute_result"
    }
   ],
   "source": [
    "f_cdf1 + f_cdf2"
   ]
  },
  {
   "cell_type": "markdown",
   "id": "131a0222-329d-4473-a5db-ea096ee3ac8b",
   "metadata": {},
   "source": [
    "Wir verwenden `f.ppf()`, um das Quantil für eine bestimmte Fläche (= Wahrscheinlichkeit) unter der Kurve für eine $F$-Kurve mit $v_1=10$ und $v_2=20$ zu berechnen, die $q=0,25,0,5,0,75$ und $0,999$ entspricht."
   ]
  },
  {
   "cell_type": "code",
   "execution_count": 6,
   "id": "abe606b4-8a78-4232-834f-9f6570af5f7e",
   "metadata": {},
   "outputs": [
    {
     "data": {
      "text/plain": [
       "array([0.65639363, 0.96626389, 1.39948744, 5.07524621])"
      ]
     },
     "execution_count": 6,
     "metadata": {},
     "output_type": "execute_result"
    }
   ],
   "source": [
    "q = [0.25,0.5,0.75,0.999]\n",
    "f_ppf = f.ppf(q,10,20)\n",
    "f_ppf"
   ]
  },
  {
   "cell_type": "markdown",
   "id": "8fb1b8aa-4421-44bb-b8b1-dbeebca53e57",
   "metadata": {},
   "source": [
    "Wir verwenden die Funktion `f.rvs()`, um $100.000$ Zufallswerte aus der $F$-Verteilung mit $v_1=10$ und $v_2=20$ zu erzeugen. Anschließend zeichnen wir ein Histogramm und vergleichen es mit der Wahrscheinlichkeitsdichtefunktion der $F$-Verteilung mit $v_1=10$ und $v_2=20$ (orange Linie)."
   ]
  },
  {
   "cell_type": "code",
   "execution_count": 2,
   "id": "31c16c97-6b94-4172-a88c-780578f86657",
   "metadata": {},
   "outputs": [
    {
     "data": {
      "image/png": "[encoded data removed]",
      "text/plain": [
       "<Figure size 432x288 with 1 Axes>"
      ]
     },
     "metadata": {
      "needs_background": "light"
     },
     "output_type": "display_data"
    }
   ],
   "source": [
    "# Erzeuge Chi^2 Werte\n",
    "f_rvs =  f.rvs(10,20,size = 100000)\n",
    "\n",
    "# Erzeuge x-werte\n",
    "x = np.linspace(0,5,num = 1000)\n",
    "\n",
    "# Plotte t-Verteilung\n",
    "fig, ax1 = plt.subplots()\n",
    "plt.xlim(0,4.5)\n",
    "\n",
    "ax1.set_title('Histogramm der F-Verteilung mit $v_1=10$ und $v_2=20$ Freiheitsgraden')\n",
    "ax1.set_ylabel('Wahrscheinlichkeitsdichte')\n",
    "ax1.hist(f_rvs, bins= 300,edgecolor = 'k',density = True)\n",
    "\n",
    "ax1.plot(x,f.pdf(x,10,20))\n",
    "ax1.tick_params(axis='y')\n",
    "\n",
    "fig.tight_layout()\n",
    "\n",
    "plt.show()"
   ]
  },
  {
   "cell_type": "code",
   "execution_count": null,
   "id": "f7ba9c9d-8215-4b27-a154-f2fc0ebab9cf",
   "metadata": {},
   "outputs": [],
   "source": []
  }
 ],
 "metadata": {
  "kernelspec": {
   "display_name": "Python 3 (ipykernel)",
   "language": "python",
   "name": "python3"
  },
  "language_info": {
   "codemirror_mode": {
    "name": "ipython",
    "version": 3
   },
   "file_extension": ".py",
   "mimetype": "text/x-python",
   "name": "python",
   "nbconvert_exporter": "python",
   "pygments_lexer": "ipython3",
   "version": "3.10.2"
  }
 },
 "nbformat": 4,
 "nbformat_minor": 5
}
