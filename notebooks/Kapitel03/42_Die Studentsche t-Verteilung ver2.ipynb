{
 "cells": [
  {
   "cell_type": "markdown",
   "id": "2bc6e545-48d5-49c6-b69c-5b15ed51821e",
   "metadata": {},
   "source": [
    "## Die Studentsche t-Verteilung\n",
    "----------------------------------------"
   ]
  },
  {
   "cell_type": "markdown",
   "id": "a847a2f6-9a85-4f23-9439-d6922d85ae42",
   "metadata": {},
   "source": [
    "Die Studentschd $t$-Verteilung ist nach <a href=\"https://en.wikipedia.org/wiki/William_Sealy_Gosset\">William Sealy Gosset</a> ($1876-1937$) benannt, der sie $1908$ erstmals bestimmte. Gosset war einer der besten Oxford-Absolventen in Chemie und Mathematik seiner Generation. Im Jahr $1899$ nahm er eine Stelle als Brauer bei <a href=\"https://en.wikipedia.org/wiki/Guinness_Brewery\">Arthur Guinness Son & Co, Ltd</a> in Dublin, Irland, an. Bei seiner Arbeit für die Guinness-Brauerei interessierte er sich für die Qualitätskontrolle anhand kleiner Proben in verschiedenen Stadien des Produktionsprozesses. Da Guinness seinen Angestellten die Veröffentlichung von Papieren untersagte, um die Weitergabe vertraulicher Informationen zu verhindern, hatte Gosset seine Arbeit unter dem Pseudonym \"Student\" veröffentlicht, und seine Identität war einige Zeit nach der Veröffentlichung seiner berühmtesten Errungenschaften nicht bekannt, so dass die Verteilung den Namen \"Studentsche\" oder \"$t$-Distribution\" erhielt, wodurch sein Name weniger bekannt wurde als seine wichtigen Ergebnisse in der Statistik (Lovric, 2010)."
   ]
  },
  {
   "cell_type": "markdown",
   "id": "dcf570e4-2841-4316-b49c-45cbc19b4f48",
   "metadata": {},
   "source": [
    "Die $t$-Verteilungskurve ist, wie die Normalverteilungskurve, symmetrisch (glockenförmig) um den Mittelwert. Die $t$-Verteilungskurve ist jedoch flacher als die Standard-Normalverteilungskurve. Folglich hat die $t$-Verteilungskurve eine geringere Höhe und eine breitere Streuung als die Standardnormalverteilung."
   ]
  },
  {
   "cell_type": "markdown",
   "id": "c6ef251b-457c-4a61-94b6-f3863495fe61",
   "metadata": {},
   "source": [
    "Die $t$-Verteilung hat nur einen Parameter, die sogenannten <a href=\"https://en.wikipedia.org/wiki/Degrees_of_freedom_(statistics)\">**Freiheitsgrade**</a> ($df$). Die Form einer bestimmten $t$-Verteilungskurve hängt von der Anzahl der Freiheitsgrade ($df$) ab. Die Anzahl der Freiheitsgrade für eine $t$-Verteilung ist gleich dem Stichprobenumfang minus eins, das heißt,"
   ]
  },
  {
   "cell_type": "markdown",
   "id": "143c906d-483c-49eb-ab35-f1971eba018b",
   "metadata": {},
   "source": [
    "$$df = n - 1$$"
   ]
  },
  {
   "cell_type": "markdown",
   "id": "f1d123e1-801d-45b2-9752-7b472b790286",
   "metadata": {},
   "source": [
    "Wenn der Stichprobenumfang $n$ und damit $df$ zunimmt, nähert sich die $t$-Verteilung der Standardnormalverteilung an. Die Einheiten einer $t$-Verteilung werden mit $t$ bezeichnet. Der Mittelwert der $t$-Verteilung ist gleich $0$, und ihre Standardabweichung beträgt $ \\sqrt{df/(df-2)}$ (Mann, 2012)."
   ]
  },
  {
   "cell_type": "markdown",
   "id": "d4690a39-ab93-4c92-ab91-54a45ce05794",
   "metadata": {},
   "source": [
    "![Alt-Text](tdist.png)"
   ]
  },
  {
   "cell_type": "markdown",
   "id": "59ca300b-c7b0-49ee-a440-feb8acefe0ec",
   "metadata": {},
   "source": [
    "### Grundlegende Eigenschaften von t-Kurven"
   ]
  },
  {
   "cell_type": "markdown",
   "id": "1232ff63-9c38-4501-a3c3-94b2a61d265a",
   "metadata": {},
   "source": [
    "\n",
    " - Die Gesamtfläche unter einer $t$-Kurve ist gleich $1$.\n",
    " -   Eine $t$-Kurve erstreckt sich unendlich in beide Richtungen und nähert sich dabei der horizontalen Achse, berührt sie aber nie.\n",
    "-    Eine $t$-Kurve ist symmetrisch um $0$.\n",
    "-    Mit zunehmender Anzahl von Freiheitsgraden ähneln $t$-Kurven immer mehr der Standard-Normalverteilung."
   ]
  },
  {
   "cell_type": "code",
   "execution_count": null,
   "id": "8f340a9c-315c-404f-923d-be488467e11f",
   "metadata": {},
   "outputs": [],
   "source": []
  }
 ],
 "metadata": {
  "kernelspec": {
   "display_name": "Python 3 (ipykernel)",
   "language": "python",
   "name": "python3"
  },
  "language_info": {
   "codemirror_mode": {
    "name": "ipython",
    "version": 3
   },
   "file_extension": ".py",
   "mimetype": "text/x-python",
   "name": "python",
   "nbconvert_exporter": "python",
   "pygments_lexer": "ipython3",
   "version": "3.10.2"
  }
 },
 "nbformat": 4,
 "nbformat_minor": 5
}
