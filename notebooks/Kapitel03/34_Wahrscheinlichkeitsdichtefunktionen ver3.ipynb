{
 "cells": [
  {
   "cell_type": "markdown",
   "id": "17fa263a-a498-402d-9fd5-4118cffcf595",
   "metadata": {},
   "source": [
    "## Wahrscheinlichkeitsdichtefunktionen\n",
    "----------------------------------------"
   ]
  },
  {
   "cell_type": "markdown",
   "id": "0ef0ebd6-61e5-4143-b025-a4cd3ea05cd5",
   "metadata": {},
   "source": [
    "Die Form der Verteilung einer Zufallsvariablen kann durch eine glatte Kurve veranschaulicht werden. Solche Kurven, die die Verteilung von kontinuierlichen Variablen darstellen, werden **Wahrscheinlichkeitsdichtefunktionen (PDF)** oder einfach **Dichtefunktionen** genannt. <a href=\"https://en.wikipedia.org/wiki/Probability_density_function\">Wahrscheinlichkeitsdichtefunktionen</a> haben drei Haupteigenschaften (Mann 2012, Weiss 2010):"
   ]
  },
  {
   "cell_type": "markdown",
   "id": "a34cb5c9-273a-4a9f-8535-dc777f59d08d",
   "metadata": {},
   "source": [
    "1) Eine PDF wird immer auf oder über der horizontalen Achse gezeichnet\n",
    "\n",
    "2) Die Gesamtfläche zwischen einer PDF und der horizontalen Achse ist gleich $1$ und somit liegt  jeder Wert in jedem Teilintervall der PDF im Bereich von $0$ bis $1$\n",
    "\n",
    "3) Alle möglichen Beobachtungen der Variablen, die innerhalb eines bestimmten Bereichs liegen, entsprechen der entsprechenden Fläche unter der Dichtefunktion und können als prozentueller Anteil ausgedrückt werden."
   ]
  },
  {
   "cell_type": "markdown",
   "id": "7e93aa9c-7387-4d19-b278-ab97d49b582b",
   "metadata": {},
   "source": [
    "Die Fläche unter der Kurve wird durch das Integral des Wertes $x$ von $-\\infty$ bis $+\\infty$ berechnet und in der Regel auf den Wert $1$ normiert. "
   ]
  },
  {
   "cell_type": "markdown",
   "id": "7574a870-197f-44d9-af84-e10df4f9a7de",
   "metadata": {
    "tags": []
   },
   "source": [
    "$$ \\int_{-\\infty}^{+\\infty} f(x)dx = 1 $$"
   ]
  },
  {
   "cell_type": "markdown",
   "id": "93fa0a8a-033d-46ab-9cb7-a54a589287be",
   "metadata": {},
   "source": [
    "![Alt-Text](pdfint.png)"
   ]
  },
  {
   "cell_type": "markdown",
   "id": "f9dd0eaa-9a7f-4598-bf93-8df415439641",
   "metadata": {},
   "source": [
    "Die Wahrscheinlichkeit, dass eine stetige Zufallsvariable $x$ einen Wert innerhalb eines bestimmten Intervalls annimmt, ist durch die Fläche unter der Kurve zwischen den beiden Grenzen des Intervalls gegeben. Die farbige Fläche unter der Kurve für das Intervall $]-\\infty \\ $,$ \\ a]$ (linkes Feld) und für das Intervall $[a \\ $,$ \\ +\\infty[$ (rechtes Feld) ist in der folgenden Abbildung dargestellt."
   ]
  },
  {
   "cell_type": "markdown",
   "id": "4f4d1378-a4ed-4b37-884d-a276290cb1ad",
   "metadata": {},
   "source": [
    "Die Wahrscheinlichkeit, dass $x$ in das Intervall $]-\\infty \\ $,$ \\ a]$ fällt, ist"
   ]
  },
  {
   "cell_type": "markdown",
   "id": "da1af34d-a6e5-4391-9855-389aae5f71ff",
   "metadata": {},
   "source": [
    "$$P(X \\le a) = \\int_{-\\infty}^{a}f(x)dx$$"
   ]
  },
  {
   "cell_type": "markdown",
   "id": "d5818f0e-2119-4ecd-a070-9c4a76710009",
   "metadata": {},
   "source": [
    "und die Wahrscheinlichkeit, dass $x$ in das Intervall $[a \\ $,$ \\ \\infty[$ fällt, ist"
   ]
  },
  {
   "cell_type": "markdown",
   "id": "f408e777-d464-42a0-a955-8b28b70b9051",
   "metadata": {},
   "source": [
    "$$P(X \\ge a) = 1 - P(X \\le a) = \\int_{a}^{\\infty}f(x)dx$$"
   ]
  },
  {
   "cell_type": "markdown",
   "id": "e05cf797-a928-4085-a085-21b7f81c6ec2",
   "metadata": {},
   "source": [
    "![Alt-Text](pdfint_inf.png)"
   ]
  },
  {
   "cell_type": "markdown",
   "id": "3dbcdac3-2f04-4cf6-884d-81c37c46a4ed",
   "metadata": {},
   "source": [
    "Die Wahrscheinlichkeit, dass eine kontinuierliche Zufallsvariable $x$ einen Wert innerhalb eines bestimmten Intervalls annimmt, ist durch die Fläche unter der Kurve zwischen den beiden Grenzen des Intervalls gegeben. Der Wert der farbige Fläche unter der Kurve von $a$ bis $b$ in der folgenden Abbildung gibt die Wahrscheinlichkeit an, dass $x$ in das Intervall $[a \\ $,$ \\ b]$ fällt."
   ]
  },
  {
   "cell_type": "markdown",
   "id": "04145424-0bb0-4154-9a67-f13d81a454ff",
   "metadata": {},
   "source": [
    "![Alt-Text](pdfintab.png)"
   ]
  },
  {
   "cell_type": "markdown",
   "id": "4b20d21b-8615-45ff-b1fd-3c3c1023c0d3",
   "metadata": {},
   "source": [
    "\\begin{align}\n",
    "P(a \\le x \\le b) & = \\int_{a}^{b}f(x)dx\\\\\n",
    " & = P(x \\le b) - P(x \\le a)  \\\\\n",
    " & = \\int_{-\\infty}^{b}f(x)dx - \\int_{-\\infty}^{a}f(x)dx \n",
    "\\end{align}"
   ]
  },
  {
   "cell_type": "markdown",
   "id": "cf5b525c-cd56-49f5-ada0-24cc1d46c0ca",
   "metadata": {},
   "source": [
    "Man beachte, dass das Intervall $a\\le x \\le b$ besagt, dass $x$ größer oder gleich $a$, aber kleiner oder gleich $b$ ist."
   ]
  },
  {
   "cell_type": "markdown",
   "id": "43232ff7-a2e5-4b57-a757-57fbc8217d82",
   "metadata": {},
   "source": [
    "Bei einer kontinuierlichen Wahrscheinlichkeitsverteilung wird die Wahrscheinlichkeit immer für ein Intervall berechnet. **Die Wahrscheinlichkeit, dass eine kontinuierliche Zufallsvariable $x$ einen einzigen Wert annimmt, ist immer Null**. Das liegt daran, dass die Wahrscheinlichkeit, genau einen Wert aus einer unendlichen Anzahl von Werten $\\in \\mathbb R$ zu wählen, gleich Null ist. Im geometrischen Sinne bedeutet dies, dass die Fläche einer Linie, die einen einzigen Punkt darstellt, Null ist."
   ]
  },
  {
   "cell_type": "markdown",
   "id": "27078921-ad03-428a-a41b-5557e6adf914",
   "metadata": {},
   "source": [
    "$$P(x) = 0$$"
   ]
  },
  {
   "cell_type": "markdown",
   "id": "5a66857b-7712-4142-8494-95034f3e9f11",
   "metadata": {},
   "source": [
    "Daraus lässt sich ableiten, dass für eine stetige Zufallsvariable gilt"
   ]
  },
  {
   "cell_type": "markdown",
   "id": "bda6a25b-94bd-4ae4-986c-a731322938ac",
   "metadata": {},
   "source": [
    "$$P(a \\le x \\le b) = P(a < x < b)$$"
   ]
  },
  {
   "cell_type": "markdown",
   "id": "d2a6967a-fb94-469f-beb2-9095ea1b82ca",
   "metadata": {},
   "source": [
    "Mit anderen Worten: Die Wahrscheinlichkeit, dass $x$ einen Wert im Intervall $a$ bis $b$ annimmt, ist gleich groß, unabhängig davon, ob die Werte $a$ und $b$ im Intervall enthalten sind oder nicht."
   ]
  },
  {
   "cell_type": "code",
   "execution_count": null,
   "id": "30903374-9925-4472-a81c-8e48b644dc9e",
   "metadata": {},
   "outputs": [],
   "source": []
  }
 ],
 "metadata": {
  "kernelspec": {
   "display_name": "Python 3 (ipykernel)",
   "language": "python",
   "name": "python3"
  },
  "language_info": {
   "codemirror_mode": {
    "name": "ipython",
    "version": 3
   },
   "file_extension": ".py",
   "mimetype": "text/x-python",
   "name": "python",
   "nbconvert_exporter": "python",
   "pygments_lexer": "ipython3",
   "version": "3.10.2"
  }
 },
 "nbformat": 4,
 "nbformat_minor": 5
}
