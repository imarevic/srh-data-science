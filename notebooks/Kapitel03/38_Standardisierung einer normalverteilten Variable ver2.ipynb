{
 "cells": [
  {
   "cell_type": "markdown",
   "id": "42885cb3-b5b3-4d2c-8596-5deb0e07e781",
   "metadata": {},
   "source": [
    "## Standardisierung einer normalverteilten Variable\n",
    "----------------------------------------"
   ]
  },
  {
   "cell_type": "markdown",
   "id": "74b525b7-f6cd-4f95-9035-3616b40258c2",
   "metadata": {},
   "source": [
    "Bevor wir das Konzept der Standardnormalverteilung auf einen realen Datensatz anwenden können, müssen wir das Konzept der **Standardisierung einer Normalverteilung** diskutieren. Wir wissen, dass eine Normalverteilung durch zwei Parameter parametrisiert ist, ihren Mittelwert $\\sigma \\in \\mathbb R>0$ und ihre Standardabweichung $\\sigma \\in \\mathbb R>0,X \\sim N(\\mu,\\sigma)$. Der tatsächliche Wert dieser Parameter hängt von der Population und den zur Beschreibung ihrer Merkmale verwendeten Metriken ab. Um ein bestimmtes $\\mu$ und $\\sigma$, das sich auf eine bestimmte Zufallsvariable X bezieht, in $\\mu=0$ und $\\sigma=1$ umzuwandeln, müssen wir den $x$-Wert in einen $z$-Wert umwandeln, indem wir die folgende Gleichung anwenden."
   ]
  },
  {
   "cell_type": "markdown",
   "id": "43f0ff2b-9bb7-4cb2-834a-6ebffc03d5ff",
   "metadata": {},
   "source": [
    "$$z = \\frac{x-\\mu}{\\sigma}$$"
   ]
  },
  {
   "cell_type": "markdown",
   "id": "e6d5f41c-693c-4a8f-bf97-c8ff38d7443c",
   "metadata": {},
   "source": [
    "Als Ergebnis erhalten wir eine Standardnormalverteilung für eine bestimmte Normalverteilung. Dieses Verfahren ist unerlässlich, wenn Sie die $z$-Scores oder eine auf einen $z$-Score bezogene Wahrscheinlichkeit $(P(z))$ bestimmen müssen indem man sie in einer Tabelle nachschlägt. Wir werden später sehen, dass Python ein so mächtiges Werkzeug ist, dass der Schritt der Standardisierung überflüssig ist."
   ]
  },
  {
   "cell_type": "markdown",
   "id": "2c876161-7c02-4ebb-b7cc-88ef4ff20fe9",
   "metadata": {},
   "source": [
    "![Alt-Text](standardz.png)"
   ]
  },
  {
   "cell_type": "code",
   "execution_count": null,
   "id": "1da730ba-232a-46ba-a1a3-91009fce66e6",
   "metadata": {},
   "outputs": [],
   "source": []
  }
 ],
 "metadata": {
  "kernelspec": {
   "display_name": "Python 3 (ipykernel)",
   "language": "python",
   "name": "python3"
  },
  "language_info": {
   "codemirror_mode": {
    "name": "ipython",
    "version": 3
   },
   "file_extension": ".py",
   "mimetype": "text/x-python",
   "name": "python",
   "nbconvert_exporter": "python",
   "pygments_lexer": "ipython3",
   "version": "3.10.2"
  }
 },
 "nbformat": 4,
 "nbformat_minor": 5
}
