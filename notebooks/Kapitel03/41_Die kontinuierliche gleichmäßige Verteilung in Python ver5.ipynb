{
 "cells": [
  {
   "cell_type": "markdown",
   "id": "5601e4b9-02ec-4fa7-9645-9554c9558212",
   "metadata": {},
   "source": [
    "## Die kontinuierliche gleichmäßige Verteilung in Python\n",
    "----------------------------------------"
   ]
  },
  {
   "cell_type": "code",
   "execution_count": 1,
   "id": "61e8af06-357a-4b47-83a0-8dc69edec1f7",
   "metadata": {},
   "outputs": [
    {
     "name": "stdout",
     "output_type": "stream",
     "text": [
      "\n",
      "---------------------------------\n",
      "Working on the host: LAPTOP-9LETB4SJ\n",
      "\n",
      "---------------------------------\n",
      "Python version: 3.10.2 | packaged by conda-forge | (main, Mar  8 2022, 15:52:24) [MSC v.1929 64 bit (AMD64)]\n",
      "\n",
      "---------------------------------\n",
      "Python interpreter: C:\\Users\\zak\\anaconda3\\envs\\srh\\python.exe\n"
     ]
    }
   ],
   "source": [
    "import matplotlib.pyplot as plt\n",
    "import numpy as np\n",
    "from scipy.stats import uniform\n",
    "\n",
    "%run ../src/notebook_env.py"
   ]
  },
  {
   "cell_type": "markdown",
   "id": "b8c8a230-e4c9-4ee8-b0aa-7478253c04e5",
   "metadata": {},
   "source": [
    "Python ermöglicht den Zugriff auf die Gleichverteilung mit den Funktionen `uniform.pmf()`, `uniform.cdf()`, `uniform.ppf()` und `uniform.rvs()`. Wenden Sie die Funktion `dir()` auf diese Funktionen an, um weitere Informationen zu erhalten.\n",
    "\n",
    "Die Funktion `uniform.rvs()` erzeugt Zufallsabweichungen der Gleichverteilung und wird als `uniform.rvs(loc, loc+scale, size)` geschrieben. Wir können auf einfache Weise $n$ Zufallsstichproben innerhalb eines beliebigen Intervalls erzeugen indem wir die Zahlenwerte für minimalen ($a$) und maximalen Wert ($b$) in `random.uniform(a,b, size)` einsetzen."
   ]
  },
  {
   "cell_type": "code",
   "execution_count": 2,
   "id": "8ade9006-d807-48bb-bddf-286ac0198baa",
   "metadata": {
    "tags": []
   },
   "outputs": [
    {
     "data": {
      "text/plain": [
       "array([-0.60307711, -0.06103022,  0.07722845, -0.36864391,  0.60283994,\n",
       "       -0.90410511, -0.24227081,  0.0070687 ,  0.45539485,  0.42816964,\n",
       "       -0.82853032,  0.60696971, -0.86275626, -0.23145788, -0.82993933,\n",
       "        0.95748138, -0.43300724,  0.9078186 , -0.70494222,  0.6581114 ,\n",
       "        0.39538408,  0.22908143,  0.74986205, -0.58687926, -0.64964934,\n",
       "       -0.97522878, -0.16187919, -0.74045852,  0.69134676, -0.0672303 ,\n",
       "        0.00950409,  0.60457435,  0.90548284,  0.36173502,  0.19839637,\n",
       "       -0.64934559,  0.5923615 ,  0.93099724, -0.18913194,  0.81668478])"
      ]
     },
     "execution_count": 2,
     "metadata": {},
     "output_type": "execute_result"
    }
   ],
   "source": [
    "u_rvs = np.random.uniform(-1,1,size = 40)\n",
    "u_rvs"
   ]
  },
  {
   "cell_type": "markdown",
   "id": "ae4d3eda-66dc-4657-97eb-b09c46fab844",
   "metadata": {},
   "source": [
    "Wir können die Dichtefunktion für $X \\sim U(-2 \\ $,$ \\ 0,8)$ mit Hilfe der Funktion `uniform.rvs()` approximieren und die Ergebnisse als Histogramm darstellen."
   ]
  },
  {
   "cell_type": "code",
   "execution_count": 4,
   "id": "386b161e-e4b3-49fe-b086-5f5a519ec3d0",
   "metadata": {},
   "outputs": [
    {
     "data": {
      "image/png": "[encoded data removed]",
      "text/plain": [
       "<Figure size 432x288 with 1 Axes>"
      ]
     },
     "metadata": {
      "needs_background": "light"
     },
     "output_type": "display_data"
    }
   ],
   "source": [
    "# Erzeuge gleichverteilte werte\n",
    "u_rvs = np.random.uniform(-2,0.8,size = 10000)\n",
    "\n",
    "# Plotte Histogramm\n",
    "fig, ax1 = plt.subplots()\n",
    "plt.xlim(-3,3)\n",
    "\n",
    "ax1.set_title('Histogramm für rand.uniform')\n",
    "ax1.set_ylabel('Wahrscheinlichkeitsdichte')\n",
    "ax1.set_ylabel('y')\n",
    "ax1.hist(u_rvs, bins= 20,edgecolor = 'k')\n",
    "\n",
    "fig.tight_layout()\n",
    "\n",
    "plt.show()"
   ]
  },
  {
   "cell_type": "markdown",
   "id": "a2f7ecc1-51b1-4f60-972f-86bc6bd27fe5",
   "metadata": {},
   "source": [
    "Außerdem stellen wir sowohl das Dichtehistogramm von oben als auch die gleichmäßige Wahrscheinlichkeitsverteilung für das Intervall $[-2 \\ $,$ \\ 0,8]$ dar, indem wir die Funktion `uniform.pdf()` anwenden."
   ]
  },
  {
   "cell_type": "code",
   "execution_count": 5,
   "id": "d46da55a-987f-4bae-b9a7-ef50abc1a134",
   "metadata": {},
   "outputs": [
    {
     "data": {
      "image/png": "[encoded data removed]",
      "text/plain": [
       "<Figure size 432x288 with 1 Axes>"
      ]
     },
     "metadata": {
      "needs_background": "light"
     },
     "output_type": "display_data"
    }
   ],
   "source": [
    "# Erzeuge x-werte\n",
    "x = np.linspace(-3,3,num = 1000)\n",
    "\n",
    "# Erzeuge gleichverteilte werte\n",
    "u_rvs = uniform.rvs(-2,2.8,size = 10000)\n",
    "\n",
    "uni_mean = np.mean(u_rvs)\n",
    "uni_std = np.std(u_rvs)\n",
    "\n",
    "# Plotte Histogramm und uniforme pdf\n",
    "fig, ax1 = plt.subplots()\n",
    "plt.xlim(-3,3)\n",
    "\n",
    "ax1.set_title('Histogramm für rand.uniform')\n",
    "ax1.set_ylabel('Wahrscheinlichkeitsdichte')\n",
    "ax1.set_ylabel('y')\n",
    "ax1.hist(u_rvs, bins= 20,edgecolor = 'k',density = True)\n",
    "\n",
    "#ax2 = ax1.twinx()   \n",
    "ax1.plot(x,uniform.pdf(x,-2,2+max(u_rvs)))\n",
    "ax1.tick_params(axis='y')\n",
    "\n",
    "fig.tight_layout()\n",
    "\n",
    "plt.show() "
   ]
  },
  {
   "cell_type": "code",
   "execution_count": 6,
   "id": "74914719-602a-4407-b34b-bdbdafc86100",
   "metadata": {},
   "outputs": [
    {
     "data": {
      "text/plain": [
       "-0.7"
      ]
     },
     "execution_count": 6,
     "metadata": {},
     "output_type": "execute_result"
    }
   ],
   "source": [
    "unif_mean = (-2+0.6)/2\n",
    "unif_mean"
   ]
  },
  {
   "cell_type": "markdown",
   "id": "1f590009-c8a3-442d-93dd-257847c72ee8",
   "metadata": {},
   "source": [
    "Die Abbildung zeigt, dass unsere $10.000$ Stichproben, die nach dem Zufallsprinzip aus einer Gleichverteilung gezogen wurden (Histogramm), sich der Gleichverteilung $X \\sim U(-2 \\ $,$ \\ 0,8)$ (Liniendiagramm).\n",
    "\n",
    "Außerdem können wir die Funktion `uniform.cdf()` verwenden, um die Fläche unter der Kurve für einen bestimmten Schwellenwert zu berechnen, oder wir können die Funktion `uniform.ppf()` verwenden, um einen Schwellenwert für eine bestimmte Wahrscheinlichkeit zurückzugeben."
   ]
  },
  {
   "cell_type": "markdown",
   "id": "c4bc0578-ecc0-427a-9580-ecf63922cf66",
   "metadata": {},
   "source": [
    "### Übung"
   ]
  },
  {
   "cell_type": "markdown",
   "id": "279ec79e-0f8e-4a35-bf5e-1497c28cc42c",
   "metadata": {},
   "source": [
    "Betrachten wir die gleichmäßige Wahrscheinlichkeitsverteilung, die durch $X \\sim U(-3 \\ $,$ \\ 5,5)$ gegeben ist."
   ]
  },
  {
   "cell_type": "markdown",
   "id": "bf20a4d9-3d92-4965-8253-dbf8cc53e6d7",
   "metadata": {},
   "source": [
    "**Frage 1**"
   ]
  },
  {
   "cell_type": "markdown",
   "id": "dc0563cf-f886-4d09-a3e9-072e80182fe7",
   "metadata": {},
   "source": [
    "Wie lautet der Mittelwert $\\mu$ für die gegebene Gleichverteilung."
   ]
  },
  {
   "cell_type": "code",
   "execution_count": 118,
   "id": "5926c31b-6543-44d1-9997-5d0ccdc2e0bf",
   "metadata": {},
   "outputs": [
    {
     "data": {
      "text/plain": [
       "1.25"
      ]
     },
     "execution_count": 118,
     "metadata": {},
     "output_type": "execute_result"
    }
   ],
   "source": [
    "unif_mean = (-3+5.5)/2\n",
    "unif_mean"
   ]
  },
  {
   "cell_type": "markdown",
   "id": "5465a427-767d-43ed-b4f7-bafe1f024ce8",
   "metadata": {},
   "source": [
    "Der Mittelwert $\\mu$ für die durch $X \\sim U(-3 \\ $,$ \\ 5,5)$ gegebene gleichmäßige Wahrscheinlichkeitsverteilung beträgt $1,25$."
   ]
  },
  {
   "cell_type": "markdown",
   "id": "ed5612f6-1031-4258-a2d7-3d04060f32b3",
   "metadata": {},
   "source": [
    "**Frage 2**"
   ]
  },
  {
   "cell_type": "markdown",
   "id": "913130b8-d834-4fd4-ac92-afedc06584a9",
   "metadata": {},
   "source": [
    "Welcher Wert von $x$ entspricht dem Wert, der die gegebene Gleichverteilung in zwei gleiche Teile teilt, oder anders ausgedrückt: $P(X \\lt ?)=0,5$."
   ]
  },
  {
   "cell_type": "code",
   "execution_count": 85,
   "id": "c42e8972-586f-4d36-88f4-42763616a242",
   "metadata": {},
   "outputs": [
    {
     "data": {
      "text/plain": [
       "1.25"
      ]
     },
     "execution_count": 85,
     "metadata": {},
     "output_type": "execute_result"
    }
   ],
   "source": [
    "p_50 = uniform.ppf(0.5,-3,8.5)\n",
    "p_50"
   ]
  },
  {
   "cell_type": "markdown",
   "id": "7e749c5a-f7cd-45a3-ab08-4400602ff50e",
   "metadata": {},
   "source": [
    "Das ist überhaupt keine Überraschung. Der Wert von $x$, der die Gleichverteilung in zwei gleiche Teile teilt, beträgt $1,25$ und ist somit gleich $\\mu$."
   ]
  },
  {
   "cell_type": "markdown",
   "id": "1348cdda-b03a-432c-8312-6e6ca08c10f6",
   "metadata": {},
   "source": [
    "**Frage 3**"
   ]
  },
  {
   "cell_type": "markdown",
   "id": "27ab4622-3027-4ca9-98e0-df4787c048d8",
   "metadata": {},
   "source": [
    "Angenommen, die obige Verteilung beschreibt ein physikalisches Phänomen. Wie groß ist die Wahrscheinlichkeit, dass bei einer Messung des physikalischen Prozesses, der das Phänomen bestimmt, ein Wert $ \\ge 4$ gemessen wird, oder anders ausgedrückt: $P(X \\ge 4)$. Aufgrund des Charakters einer Gleichverteilung ist die Messung eines beliebigen Wertes innerhalb des Intervalls $[-3 \\ $,$ \\ 5,5]$ gleich wahrscheinlich ist.\n",
    "\n",
    "Wir werden diese Frage auf zwei Arten lösen, numerisch und analytisch. Um die Frage numerisch zu lösen, müssen wir zunächst ein Experiment durchführen. Wir wiederholen unsere Messung eine große Anzahl von Malen und zählen dann, wie oft wir einen Wert $\\ge 4$ registriert haben\n",
    ". Dank der Leistungsfähigkeit von Python und dem integrierten Zufallszahlengenerator `uniform.rvs()` für gleichmäßig verteilte Daten) ist die Wiederholungsaufgabe sehr einfach, allerdings sollte man sich darüber im Klaren sein, dass in realen Anwendungen oft nur eine sehr begrenzte Anzahl von Messungen verfügbar ist."
   ]
  },
  {
   "cell_type": "code",
   "execution_count": 122,
   "id": "ad11e250-6905-444d-94f3-c6673f70ec97",
   "metadata": {},
   "outputs": [
    {
     "data": {
      "text/plain": [
       "0.1768"
      ]
     },
     "execution_count": 122,
     "metadata": {},
     "output_type": "execute_result"
    }
   ],
   "source": [
    "# Erzeuge gleichverteilte Zufallsvariablen und Variable count\n",
    "u_rvs = uniform.rvs(-3,8.5,size = 10000)\n",
    "count=0\n",
    "\n",
    "# Zähle Werte größer gleich 4\n",
    "for i in u_rvs:\n",
    "    if i>= 4:\n",
    "        count += 1\n",
    "\n",
    "#Dividiere durch Gesamtanzahl der Werte\n",
    "count= count/len(u_rvs)\n",
    "count"
   ]
  },
  {
   "cell_type": "markdown",
   "id": "c2eaba5e-a337-4b62-b03f-8cd52ce883fe",
   "metadata": {},
   "source": [
    "Die Ergebnisse zeigen, dass etwa $18 \\%$ der Messungen Werte $\\ge 4$ ergeben.\n",
    "\n",
    "Zweitens, um die Frage analytisch zu lösen, verwenden wir die kumulative Wahrscheinlichkeitsdichtefunktion, die in Python für gleichmäßige Verteilungen durch die Funktion `uniform.cdf()` implementiert ist. \n",
    "Wir interessieren uns also für die Fläche unter der Kurve bis zum Wert von $x=4$."
   ]
  },
  {
   "cell_type": "code",
   "execution_count": 108,
   "id": "41a2b3ff-a151-4d74-894b-6bae693ff12e",
   "metadata": {},
   "outputs": [
    {
     "data": {
      "text/plain": [
       "0.17647058823529416"
      ]
     },
     "execution_count": 108,
     "metadata": {},
     "output_type": "execute_result"
    }
   ],
   "source": [
    "1-uniform.cdf(4,-3,8.5)"
   ]
  },
  {
   "cell_type": "markdown",
   "id": "6a212c1a-e662-4450-92e3-0ffd8962efba",
   "metadata": {},
   "source": [
    "Der analytische Ansatz ergibt ein Ergebnis von $0,1764706$ oder anders ausgedrückt, mit einer Wahrscheinlichkeit von $17,65 \\%$ erhalten wir Werte $\\ge 4$, also $P(X \\ge 4) \\approx 0,18$.\n",
    "\n",
    "Es ist offensichtlich, dass beide Ansätze sehr ähnliche Ergebnisse liefern. Es ist jedoch zu beachten, dass das Ergebnis des numerischen Ansatzes eine Annäherung an das analytische Ergebnis darstellt. Bedenken Sie, dass die Qualität einer solchen Annäherung sehr stark von der Anzahl der Zufallsvariablen abhängt, aus denen die Stichprobe besteht, in unserem Fall von der Anzahl der Messungen."
   ]
  },
  {
   "cell_type": "code",
   "execution_count": null,
   "id": "bea67f9d-85e2-4574-a8de-0d3eabebbb0a",
   "metadata": {},
   "outputs": [],
   "source": []
  }
 ],
 "metadata": {
  "kernelspec": {
   "display_name": "Python 3 (ipykernel)",
   "language": "python",
   "name": "python3"
  },
  "language_info": {
   "codemirror_mode": {
    "name": "ipython",
    "version": 3
   },
   "file_extension": ".py",
   "mimetype": "text/x-python",
   "name": "python",
   "nbconvert_exporter": "python",
   "pygments_lexer": "ipython3",
   "version": "3.10.2"
  }
 },
 "nbformat": 4,
 "nbformat_minor": 5
}
