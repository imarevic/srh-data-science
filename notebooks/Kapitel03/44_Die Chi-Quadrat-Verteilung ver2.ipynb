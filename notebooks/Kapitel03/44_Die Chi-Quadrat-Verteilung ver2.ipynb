{
 "cells": [
  {
   "cell_type": "markdown",
   "id": "3d6bf1b4-1565-4e25-a54f-50bfdf0768f5",
   "metadata": {},
   "source": [
    "## Die Chi-Quadrat-Verteilung\n",
    "----------------------------------------"
   ]
  },
  {
   "cell_type": "markdown",
   "id": "ce3e3761-1cc9-463d-8a2c-5714edf884a1",
   "metadata": {},
   "source": [
    "Die Chi-Quadrat ($\\chi^2$) ist eine der wichtigsten kontinuierlichen Wahrscheinlichkeitsverteilungen mit vielen Anwendungen in der statistischen Theorie und Inferenz (Lovric 2011).\n",
    "\n",
    "Sei $n \\gt 0$ eine positive ganze Zahl. Für eine Zufallsvariable, die eine ($\\chi^2$)-Verteilung mit $n$ Freiheitsgraden ($df$) hat, lautet die Wahrscheinlichkeitsdichtefunktion"
   ]
  },
  {
   "cell_type": "markdown",
   "id": "4cae9fa1-df53-4127-bf0c-2b482e01283f",
   "metadata": {
    "tags": []
   },
   "source": [
    "$$f(x) =\n",
    "\\begin{cases}\n",
    "0 & \\text{wenn $x \\le 0$} \\\\\n",
    "\\frac{x^{(n/2-1)}e^{-x/2}}{2^{n/2}\\Gamma \\left(\\frac{k}{2}\\right)} & \\text{wenn $x > 0$}\n",
    "\\end{cases}\n",
    "$$"
   ]
  },
  {
   "cell_type": "markdown",
   "id": "2009a44a-e8df-43a9-a529-3f90418e4181",
   "metadata": {},
   "source": [
    "wobei $\\Gamma$ die <a href=\"https://en.wikipedia.org/wiki/Gamma_function\">Gamma-Funktion</a> bezeichnet. Die ($\\chi^2$)-Verteilung (mit $n$ Freiheitsgraden) ist gleich der $\\Gamma$-Verteilung mit den Parametern $(n/2,2)$, d. h. mit Mittelwert und Varianz gleich $n$ bzw. $2n$."
   ]
  },
  {
   "cell_type": "markdown",
   "id": "92abb6a1-ce84-47a6-a76e-8d316980215f",
   "metadata": {},
   "source": [
    "![Alt-Text](chiquad.png)"
   ]
  },
  {
   "cell_type": "markdown",
   "id": "e39c05a7-2cad-4218-9de6-851a95928d0a",
   "metadata": {},
   "source": [
    "**Grundlegende Eigenschaften von $\\chi^2$-Kurven**"
   ]
  },
  {
   "cell_type": "markdown",
   "id": "cf5172be-b310-4433-b403-d7797d9349c4",
   "metadata": {},
   "source": [
    "Die Gesamtfläche unter einer $\\chi^2$\n",
    "- Kurve ist gleich $1$\n",
    "- Eine $\\chi^2$-Kurve beginnt bei $0$ auf der horizontalen Achse und erstreckt sich unendlich weit nach rechts, wobei sie sich der horizontalen Achse nähert, diese aber nie berührt.\n",
    "- Eine $\\chi^2$-Kurve ist rechtsschief.\n",
    "- Mit zunehmender Anzahl von Freiheitsgraden sehen $\\chi^2$-Kurven zunehmend wie normalverteilt aus."
   ]
  }
 ],
 "metadata": {
  "kernelspec": {
   "display_name": "Python 3 (ipykernel)",
   "language": "python",
   "name": "python3"
  },
  "language_info": {
   "codemirror_mode": {
    "name": "ipython",
    "version": 3
   },
   "file_extension": ".py",
   "mimetype": "text/x-python",
   "name": "python",
   "nbconvert_exporter": "python",
   "pygments_lexer": "ipython3",
   "version": "3.10.2"
  }
 },
 "nbformat": 4,
 "nbformat_minor": 5
}
