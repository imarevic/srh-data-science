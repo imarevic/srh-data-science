{
 "cells": [
  {
   "cell_type": "markdown",
   "id": "7306bdf2-eb05-4be2-9e39-0dcda402664e",
   "metadata": {
    "tags": []
   },
   "source": [
    "## Kontinuierliche Zufallsvariablen und ihre Wahrscheinlichkeitsverteilungen\n",
    "----------------------------------------"
   ]
  },
  {
   "cell_type": "markdown",
   "id": "b81c05fa-0e5e-4106-8ec9-6dd9e49794b1",
   "metadata": {},
   "source": [
    "Eine <a href=\"https://en.wikipedia.org/wiki/Random_variable\">Zufallsvariable</a>, deren Werte nicht abzählbar sind, nennt man eine **kontinuierliche Zufallsvariable**. D.h. eine kontinuierliche Zufallsvariable kann jeden Wert annehmen (z.B. reelle Zahlenwerte), der in einem oder mehreren Intervallen enthalten ist. Da die Anzahl der in einem Intervall enthaltenen Werte unendlich ist, ist auch die mögliche Anzahl der Werte, die eine kontinuierliche Zufallsvariable annehmen kann, unendlich (Mann 2012)."
   ]
  },
  {
   "cell_type": "markdown",
   "id": "bf2f830c-f41b-4ad7-bc01-4d7ed8ca360e",
   "metadata": {},
   "source": [
    "Es gibt viel mehr <a href=\"https://en.wikipedia.org/wiki/List_of_probability_distributions\">kontinuierliche Wahrscheinlichkeitsverteilungen</a>, als wir hier besprechen können. Beachten Sie jedoch, dass in Python mittlerweile eine große Anzahl verschiedener diskreter und kontinuierlicher Wahrscheinlichkeitsverteilungen implementiert sind, siehe hier."
   ]
  },
  {
   "cell_type": "markdown",
   "id": "e139064d-fd49-41cf-8b10-e5c4bfd28196",
   "metadata": {},
   "source": [
    " In Python sind Wahrscheinlichkeitsfunktionen durch allgemeine Präfixe wie r, d, p und q zugänglich. Das r ist das allgemeine Präfix für Zufallsvariablengeneratoren wie runif() für die Gleichverteilung oder rnorm() für die Normalverteilung. d ist das allgemeine Präfix für die Wahrscheinlichkeitsdichtefunktion wie dunif() und dnorm(). Das p ist das allgemeine Präfix für die kumulative Dichtefunktion wie punif() und pnorm(). Das q ist das allgemeine Präfix für die Quantilfunktion, wie qunif() und qnorm(). Behalten Sie das im Hinterkopf, wenn wir die Kapazitäten in R weiter erforschen."
   ]
  }
 ],
 "metadata": {
  "kernelspec": {
   "display_name": "Python 3 (ipykernel)",
   "language": "python",
   "name": "python3"
  },
  "language_info": {
   "codemirror_mode": {
    "name": "ipython",
    "version": 3
   },
   "file_extension": ".py",
   "mimetype": "text/x-python",
   "name": "python",
   "nbconvert_exporter": "python",
   "pygments_lexer": "ipython3",
   "version": "3.10.2"
  }
 },
 "nbformat": 4,
 "nbformat_minor": 5
}
