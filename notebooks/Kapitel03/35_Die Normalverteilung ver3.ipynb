{
 "cells": [
  {
   "cell_type": "markdown",
   "id": "9e94e1de-3254-4b1b-857e-f572f738cfb3",
   "metadata": {},
   "source": [
    "## Die Normalverteilung\n",
    "----------------------------------------"
   ]
  },
  {
   "cell_type": "markdown",
   "id": "240977c5-0ee3-413e-a37b-57f4c04ba088",
   "metadata": {},
   "source": [
    "Die <a href=\"https://en.wikipedia.org/wiki/Normal_distribution\">Normalverteilung</a> wird in der Wahrscheinlichkeitstheorie, der Statistik sowie in den Natur- und Sozialwissenschaften häufig verwendet. Sie wird auch **Gauß-Verteilung** genannt, weil <a href=\"https://en.wikipedia.org/wiki/Carl_Friedrich_Gauss\">Carl Friedrich Gauß</a> $(1777-1855)$ einer der ersten war, der sie für die Analyse astronomischer Daten verwendete ({cite:p}`fahrmeirstatistik` s.83,s.271)."
   ]
  },
  {
   "cell_type": "markdown",
   "id": "ef8e2471-ceca-4406-9e10-b5798eaf1f7d",
   "metadata": {},
   "source": [
    "Die **Normalverteilung** oder die **Normalkurve** ist eine glockenförmige (symmetrische) Kurve. Ihr Mittelwert wird mit $\\mu$ und ihre Standardabweichung mit $\\sigma$ bezeichnet. Eine kontinuierliche Zufallsvariable $x$, die eine Normalverteilung aufweist, wird als **normale Zufallsvariable** bezeichnet."
   ]
  },
  {
   "cell_type": "markdown",
   "id": "2f43db8d-d8fb-41d5-b7b3-9266aae291f0",
   "metadata": {},
   "source": [
    "Die Notation für eine Normalverteilung lautet $X \\sim N( \\mu, \\sigma)$. Die Wahrscheinlichkeitsdichtefunktion (PDF) wird geschrieben als"
   ]
  },
  {
   "cell_type": "markdown",
   "id": "26ebb7ba-00ad-4550-9774-216b9ae4af31",
   "metadata": {},
   "source": [
    "$$f(x) = \\frac{1}{\\sigma \\sqrt{2 \\pi}}e^{-\\frac{1}{2}\\left(\\frac{x-\\mu}{\\sigma}\\right)^2}$$"
   ]
  },
  {
   "cell_type": "markdown",
   "id": "97255e3d-b229-4c96-bff1-4f4d7110417d",
   "metadata": {},
   "source": [
    "wobei $e \\approx 2,71828$ und $\\pi \\approx 3,14159$. Die Wahrscheinlichkeitsdichtefunktion $f(x)$ gibt den vertikalen Abstand zwischen der horizontalen Achse und der Normalkurve im Punkt $x$ an."
   ]
  },
  {
   "cell_type": "markdown",
   "id": "2a46f4be-f53c-4ad8-9ef2-d6d897b72c70",
   "metadata": {},
   "source": [
    "Die Normalverteilung wird durch zwei Parameter beschrieben, den Mittelwert $\\mu$ und die Standardabweichung $\\sigma$. Jeder unterschiedliche Satz von Werten für $\\mu$ und $\\sigma$ ergibt eine andere Normalverteilung. Der Wert von $\\mu$ bestimmt den Mittelpunkt einer Normalverteilungskurve auf der horizontalen Achse, und der Wert von $\\sigma$ gibt die Streuung der Werte um den Mittelpunkt an."
   ]
  },
  {
   "cell_type": "markdown",
   "id": "acbba5ba-eff2-43d0-b120-80d857cb6c0c",
   "metadata": {},
   "source": [
    "![Alt-Text](normal1.png)"
   ]
  },
  {
   "cell_type": "markdown",
   "id": "6f3fbbbc-d5ee-49e0-9f85-5dc6721d3e31",
   "metadata": {},
   "source": [
    "![Alt-Text](normal2.png)"
   ]
  },
  {
   "cell_type": "markdown",
   "id": "033965ea-c3e0-433b-bd8c-499ed493eea0",
   "metadata": {},
   "source": [
    "Eine Normalverteilung ist unter anderem durch die folgenden Merkmale gekennzeichnet ({cite:p}`fahrmeirstatistik` s.272):"
   ]
  },
  {
   "cell_type": "markdown",
   "id": "e2a70061-2dfc-4adf-a143-37c7b83024c4",
   "metadata": {},
   "source": [
    "1) Die Gesamtfläche unter einer Normalverteilungskurve beträgt $1,0$, also $100 \\%$.\n",
    "2) Eine Normalverteilungskurve ist symmetrisch um den Mittelwert. Folglich liegen $50 \\%$ der Gesamtfläche unter einer Normalverteilungskurve auf der linken Seite des Mittelwerts und $50 \\%$ liegen auf der rechten Seite des Mittelwerts.\n",
    "3) Die Ausläufer einer Normalverteilungskurve erstrecken sich unendlich weit in beide Richtungen, ohne die horizontale Achse zu berühren oder zu kreuzen. Obwohl eine Normalverteilungskurve niemals die horizontale Achse berührt, kommt sie jenseits der Punkte, durch $\\mu-3\\sigma$\n",
    "und $\\mu+3\\sigma$ dargestellten Punkte so nahe an diese Achse heran, dass die Fläche unter der Kurve jenseits dieser Punkte in beiden Richtungen praktisch als Null angenommen werden kann."
   ]
  },
  {
   "cell_type": "markdown",
   "id": "40c8cc40-6a68-49e8-abbc-45d06a56aea3",
   "metadata": {},
   "source": [
    "![Alt-Text](normalpdf.png)"
   ]
  },
  {
   "cell_type": "markdown",
   "id": "3291b966-6ac9-4f96-a60b-b988ca94b1cc",
   "metadata": {},
   "source": []
  }
 ],
 "metadata": {
  "kernelspec": {
   "display_name": "Python 3 (ipykernel)",
   "language": "python",
   "name": "python3"
  },
  "language_info": {
   "codemirror_mode": {
    "name": "ipython",
    "version": 3
   },
   "file_extension": ".py",
   "mimetype": "text/x-python",
   "name": "python",
   "nbconvert_exporter": "python",
   "pygments_lexer": "ipython3",
   "version": "3.10.2"
  }
 },
 "nbformat": 4,
 "nbformat_minor": 5
}
