{
 "cells": [
  {
   "cell_type": "markdown",
   "id": "61434b7b-81af-4dab-8680-1cd20ab096de",
   "metadata": {},
   "source": [
    "## Die Chi-Quadrat-Verteilung in Python\n",
    "----------------------------------------"
   ]
  },
  {
   "cell_type": "code",
   "execution_count": 1,
   "id": "87578b36-b73a-408d-85a1-3590b8243137",
   "metadata": {},
   "outputs": [
    {
     "name": "stdout",
     "output_type": "stream",
     "text": [
      "\n",
      "---------------------------------\n",
      "Working on the host: LAPTOP-9LETB4SJ\n",
      "\n",
      "---------------------------------\n",
      "Python version: 3.10.2 | packaged by conda-forge | (main, Mar  8 2022, 15:52:24) [MSC v.1929 64 bit (AMD64)]\n",
      "\n",
      "---------------------------------\n",
      "Python interpreter: C:\\Users\\zak\\anaconda3\\envs\\srh\\python.exe\n"
     ]
    }
   ],
   "source": [
    "from scipy.stats import chi2\n",
    "import matplotlib.pyplot as plt\n",
    "import numpy as np\n",
    "\n",
    "%run ../src/notebook_env.py"
   ]
  },
  {
   "cell_type": "markdown",
   "id": "4176abb8-b281-4dc2-aea4-860e5849a49e",
   "metadata": {},
   "source": [
    "Die wichtigsten Funktionen zur Interaktion mit der $\\chi^2$-Verteilung sind `chi2.pdf`(), `chi2.cdf()`, `chi2.ppf()`, `chi2.rvs()`. Die Funktion `chi2.pdf()` liefert die Dichte, die Funktion `chi2.cdf()` die Verteilungsfunktion, die Funktion `chi2.ppf()` die Quantilfunktion und die Funktion `chi2.rvs()` die Zufallsabweichungen.\n",
    "\n",
    "Wir verwenden die Funktion `chi2.pdf()`, um die Dichte für die ganzzahligen Werte $4$ bis $8$ einer $\\chi^2$-Kurve mit $df=7$."
   ]
  },
  {
   "cell_type": "code",
   "execution_count": 2,
   "id": "49736f0c-f73c-42b3-abf1-3cfba386cd63",
   "metadata": {},
   "outputs": [
    {
     "data": {
      "text/plain": [
       "[0.11518072856146785,\n",
       " 0.12204152134938738,\n",
       " 0.11676521599113947,\n",
       " 0.10411977480817192,\n",
       " 0.08817913751079275]"
      ]
     },
     "execution_count": 2,
     "metadata": {},
     "output_type": "execute_result"
    }
   ],
   "source": [
    "chi2_pdf = []\n",
    "for i in range(4,9):\n",
    "    chi2_pdf.append(chi2.pdf(i, df = 7))\n",
    "chi2_pdf\n",
    "    "
   ]
  },
  {
   "cell_type": "markdown",
   "id": "7e9fbb35-982f-478a-9e85-384f7742ebfe",
   "metadata": {},
   "source": [
    "Wir verwenden `chi2.cdf()`, um die Fläche unter der Kurve für das Intervall $[0,6]$ und das Intervall $[6,\\infty[$ einer$\\chi^2$-Kurve mit $df=7$ zu berechnen. Weiter fragen wir Python, ob die Summe der Intervalle $[0,6]$ und $[6,\\infty[$ den Wert $1$ ergibt."
   ]
  },
  {
   "cell_type": "code",
   "execution_count": 3,
   "id": "dd5f8e4e-d126-413a-87ba-13ef26367305",
   "metadata": {},
   "outputs": [
    {
     "data": {
      "text/plain": [
       "0.4602506496044429"
      ]
     },
     "execution_count": 3,
     "metadata": {},
     "output_type": "execute_result"
    }
   ],
   "source": [
    "chi2_cdf1 =  chi2.cdf(6, df = 7)\n",
    "chi2_cdf1"
   ]
  },
  {
   "cell_type": "code",
   "execution_count": 4,
   "id": "a5e6f033-9eae-49b4-a748-9c92428259a4",
   "metadata": {},
   "outputs": [
    {
     "data": {
      "text/plain": [
       "0.539749350395557"
      ]
     },
     "execution_count": 4,
     "metadata": {},
     "output_type": "execute_result"
    }
   ],
   "source": [
    "chi2_cdf2 =  1- chi2.cdf(6, df = 7)\n",
    "chi2_cdf2"
   ]
  },
  {
   "cell_type": "code",
   "execution_count": 5,
   "id": "67fe5729-5df6-4fa7-9535-bb0283d1c310",
   "metadata": {},
   "outputs": [
    {
     "data": {
      "text/plain": [
       "1.0"
      ]
     },
     "execution_count": 5,
     "metadata": {},
     "output_type": "execute_result"
    }
   ],
   "source": [
    "chi2_cdf1 + chi2_cdf2"
   ]
  },
  {
   "cell_type": "markdown",
   "id": "3829c949-f1c0-4034-b81a-5cc130c26598",
   "metadata": {},
   "source": [
    "Wir verwenden `chi2.ppf()`, um das Quantil für eine bestimmte Fläche (= Wahrscheinlichkeit) unter der Kurve für eine $\\chi^2$-Kurve mit $df=7$ zu berechnen, die $q=0,25$,$0,5$,$0,75$ und $0,999$ entspricht."
   ]
  },
  {
   "cell_type": "code",
   "execution_count": 8,
   "id": "c0c01328-bdcb-4982-8e50-db5238d27ea3",
   "metadata": {},
   "outputs": [
    {
     "data": {
      "text/plain": [
       "4.2548521835465145"
      ]
     },
     "execution_count": 8,
     "metadata": {},
     "output_type": "execute_result"
    }
   ],
   "source": [
    "chi2_ppf =  chi2.ppf(0.25, df = 7)\n",
    "chi2_ppf"
   ]
  },
  {
   "cell_type": "code",
   "execution_count": 9,
   "id": "357ab8bc-69d0-44a8-886d-1e569994f207",
   "metadata": {},
   "outputs": [
    {
     "data": {
      "text/plain": [
       "6.345811195521515"
      ]
     },
     "execution_count": 9,
     "metadata": {},
     "output_type": "execute_result"
    }
   ],
   "source": [
    "chi2_ppf =  chi2.ppf(0.5, df = 7)\n",
    "chi2_ppf"
   ]
  },
  {
   "cell_type": "code",
   "execution_count": 10,
   "id": "35e2e099-daf3-4a2b-a87b-56228f3498af",
   "metadata": {},
   "outputs": [
    {
     "data": {
      "text/plain": [
       "9.037147547908143"
      ]
     },
     "execution_count": 10,
     "metadata": {},
     "output_type": "execute_result"
    }
   ],
   "source": [
    "chi2_ppf =  chi2.ppf(0.75, df = 7)\n",
    "chi2_ppf"
   ]
  },
  {
   "cell_type": "code",
   "execution_count": 11,
   "id": "c0b3b0cb-06c3-428b-b4d1-8a61206756c1",
   "metadata": {},
   "outputs": [
    {
     "data": {
      "text/plain": [
       "24.321886347856854"
      ]
     },
     "execution_count": 11,
     "metadata": {},
     "output_type": "execute_result"
    }
   ],
   "source": [
    "chi2_ppf =  chi2.ppf(0.999, df = 7)\n",
    "chi2_ppf"
   ]
  },
  {
   "cell_type": "markdown",
   "id": "a12f1541-9584-4069-8c06-8dd1c36aba0d",
   "metadata": {},
   "source": [
    "Wir verwenden die Funktion `chi2.rvs()`, um $100.000$ Zufallswerte aus der$\\chi^2$-Verteilung mit $df=7$ zu erzeugen. Anschließend zeichnen wir ein Histogramm und vergleichen es mit der Wahrscheinlichkeitsdichtefunktion der $\\chi^2$-Verteilung mit $df=7$ (orangefarbene Linie)."
   ]
  },
  {
   "cell_type": "code",
   "execution_count": 12,
   "id": "a0a29130-1629-456e-b3c0-1f1b39c373d4",
   "metadata": {},
   "outputs": [
    {
     "data": {
      "image/png": "[encoded data removed]",
      "text/plain": [
       "<Figure size 432x288 with 1 Axes>"
      ]
     },
     "metadata": {
      "needs_background": "light"
     },
     "output_type": "display_data"
    }
   ],
   "source": [
    "# Erzeuge Chi^2 Werte\n",
    "chi2_rvs =  chi2.rvs(df = 7,size = 10000000)\n",
    "\n",
    "# Erzeuge x-werte\n",
    "x = np.linspace(0,20,num = 1000)\n",
    "\n",
    "# Plotte t-Verteilung\n",
    "fig, ax1 = plt.subplots()\n",
    "plt.xlim(0,15)\n",
    "\n",
    "ax1.set_title('Histogramm der $\\chi^2$ Verteilung mit 7 Freiheitsgraden')\n",
    "ax1.set_ylabel('Wahrscheinlichkeitsdichte')\n",
    "ax1.hist(chi2_rvs, bins= 90,edgecolor = 'k',density = True)\n",
    "\n",
    " \n",
    "ax1.plot(x,chi2.pdf(x,df = 7))\n",
    "ax1.tick_params(axis='y')\n",
    "\n",
    "fig.tight_layout()\n",
    "\n",
    "plt.show() "
   ]
  },
  {
   "cell_type": "code",
   "execution_count": null,
   "id": "2bb93787-a91b-4cc0-8370-7ca466fc9989",
   "metadata": {},
   "outputs": [],
   "source": []
  }
 ],
 "metadata": {
  "kernelspec": {
   "display_name": "Python 3 (ipykernel)",
   "language": "python",
   "name": "python3"
  },
  "language_info": {
   "codemirror_mode": {
    "name": "ipython",
    "version": 3
   },
   "file_extension": ".py",
   "mimetype": "text/x-python",
   "name": "python",
   "nbconvert_exporter": "python",
   "pygments_lexer": "ipython3",
   "version": "3.10.2"
  }
 },
 "nbformat": 4,
 "nbformat_minor": 5
}
