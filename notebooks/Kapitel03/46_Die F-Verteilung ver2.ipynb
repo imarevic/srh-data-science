{
 "cells": [
  {
   "cell_type": "markdown",
   "id": "2232c084-c199-430a-b8a2-7206acd00b0a",
   "metadata": {},
   "source": [
    "## Die F-Verteilung\n",
    "----------------------------------------"
   ]
  },
  {
   "cell_type": "markdown",
   "id": "0de48e4f-1427-44fa-979a-9b78e8241535",
   "metadata": {},
   "source": [
    "Die Snedecor-$F$-Verteilung oder die Fisher-Snedecor-Verteilung (nach <a href=\"https://en.wikipedia.org/wiki/Ronald_Fisher\">Sir Ronald A. Fisher</a> und <a href=\"https://en.wikipedia.org/wiki/George_W._Snedecor\">George W. Snedecor</a>) oder kurz die **$F$-Verteilung** ist eine kontinuierliche Wahrscheinlichkeitsverteilung mit dem Bereich $[0 \\ $,$ \\ +\\infty[$, abhängig von zwei Parametern, die mit $v_1,v_2$ bezeichnet werden (Lovric 2011). In statistischen Anwendungen sind $v_1,v_2$\n",
    "positive ganze Zahlen.\n",
    "\n",
    "Seien $Y_1$ und $Y_2$ seien zwei unabhängige Zufallsvariablen, die **Chi-Quadrat**-verteilt sind, mit $v_1$ bzw. $v_2$ Freiheitsgraden. Dann wird die Verteilung des Verhältnisses ($Z$)"
   ]
  },
  {
   "cell_type": "markdown",
   "id": "0d9e3f64-0023-4bb1-b533-278d072029c4",
   "metadata": {
    "tags": []
   },
   "source": [
    "$$Z = \\frac{Y_1/v_1}{Y_2/v_2}$$"
   ]
  },
  {
   "cell_type": "markdown",
   "id": "cdd9549f-422e-4a43-9256-66f4869cdf72",
   "metadata": {},
   "source": [
    "als $F$-Verteilung mit $v_1$ und $v_2$ Freiheitsgraden bezeichnet. Die $F$-Verteilung wird häufig auch als *Verteilung des Varianzverhältnisses* bezeichnet (Lovric 2011)."
   ]
  },
  {
   "cell_type": "markdown",
   "id": "2707d2b2-37ac-4434-8e1d-adf01fec86a7",
   "metadata": {},
   "source": [
    "Eine $F$-Verteilung hat zwei Zahlen von Freiheitsgraden, $v_1$ und $v_2$, die ihre Form bestimmen. Die erste Zahl der Freiheitsgrade, $v_1$, wird als die **Freiheitsgrade des Zählers** und die zweite, $v_2$, als die **Freiheitsgrade des Nenners** bezeichnet."
   ]
  },
  {
   "cell_type": "markdown",
   "id": "ace955a7-8489-4a78-b8bb-8d12d5988316",
   "metadata": {},
   "source": [
    "![Alt-Text](fdist1.png)"
   ]
  },
  {
   "cell_type": "markdown",
   "id": "2dd6f840-9928-439e-adaf-de2f3925a550",
   "metadata": {},
   "source": [
    "![Alt-Text](fdist2.png)"
   ]
  },
  {
   "cell_type": "markdown",
   "id": "1f94e1fd-4987-433b-ad66-a730472de573",
   "metadata": {},
   "source": [
    "**Grundlegende Eigenschaften von F-Kurven**"
   ]
  },
  {
   "cell_type": "markdown",
   "id": "20be0aad-3864-4d0b-90e7-d008b28fb663",
   "metadata": {},
   "source": [
    "- Die Gesamtfläche unter einer $F$-Kurve ist gleich $1$.\n",
    "-Eine $F$-Kurve beginnt bei $0$ auf der horizontalen Achse und erstreckt sich unendlich weit nach rechts, wobei sie sich der horizontalen Achse nähert, diese aber nie berührt.\n",
    "- Eine $F$-Kurve ist rechtsschief."
   ]
  },
  {
   "cell_type": "code",
   "execution_count": null,
   "id": "aad2eed5-bc76-448a-a898-b08971b10337",
   "metadata": {},
   "outputs": [],
   "source": []
  }
 ],
 "metadata": {
  "kernelspec": {
   "display_name": "Python 3 (ipykernel)",
   "language": "python",
   "name": "python3"
  },
  "language_info": {
   "codemirror_mode": {
    "name": "ipython",
    "version": 3
   },
   "file_extension": ".py",
   "mimetype": "text/x-python",
   "name": "python",
   "nbconvert_exporter": "python",
   "pygments_lexer": "ipython3",
   "version": "3.10.2"
  }
 },
 "nbformat": 4,
 "nbformat_minor": 5
}
