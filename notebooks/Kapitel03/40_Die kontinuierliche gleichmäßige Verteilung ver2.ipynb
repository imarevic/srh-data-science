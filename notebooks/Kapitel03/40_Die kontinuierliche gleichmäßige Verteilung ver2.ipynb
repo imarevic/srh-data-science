{
 "cells": [
  {
   "cell_type": "markdown",
   "id": "355d32e2-4068-4454-a167-a5260f752949",
   "metadata": {},
   "source": [
    "## Die kontinuierliche gleichmäßige Verteilung\n",
    "----------------------------------------"
   ]
  },
  {
   "cell_type": "markdown",
   "id": "fe0fa3c1-7eab-4ac4-83b6-f9de97cb71f2",
   "metadata": {},
   "source": [
    "Die Gleichverteilung ist die einfachste Wahrscheinlichkeitsverteilung, aber sie spielt eine wichtige Rolle in der Statistik, da sie bei der Modellierung von Zufallsvariablen sehr nützlich ist. Die Gleichverteilung ist eine kontinuierliche Wahrscheinlichkeitsverteilung und befasst sich mit Ereignissen, deren Auftreten gleich wahrscheinlich ist. Die kontinuierliche Zufallsvariable $X$ gilt als gleichmäßig verteilt oder hat eine rechteckige Verteilung auf dem Intervall $[a,b]$. Wir schreiben $X \\sim U(a,b)$, wenn seine Wahrscheinlichkeitsdichtefunktion gleich $f(x)=\\frac{1}{b-a},x \\in [a,b]$ und ansonsten gleich $0$ ist (Lovric 2011)."
   ]
  },
  {
   "cell_type": "markdown",
   "id": "00673c73-c0ff-4af4-bc79-c79922a65e8a",
   "metadata": {
    "tags": []
   },
   "source": [
    "f(x) =\n",
    "\\begin{cases}\n",
    "\\frac{1}{b-a},  & \\text{wenn   $a \\le x \\le b$} \\\\[2ex]\n",
    "0, & \\text{wenn   $x < a$   oder   $x > b$}\n",
    "\\end{cases}"
   ]
  },
  {
   "cell_type": "markdown",
   "id": "2257b982-47c4-413d-b22d-2e189bddc9ff",
   "metadata": {},
   "source": [
    "Die folgende Abbildung zeigt eine kontinuierliche Gleichverteilung $X \\sim U(-2,0.8)$, also eine Verteilung, bei der alle Werte von $x$ innerhalb des Intervalls $[-2,0.8] \\frac{1}{b-a}(=10.8-(-2)=0.36)$ sind, während alle anderen Werte von $x$ gleich $0$ sind."
   ]
  },
  {
   "cell_type": "markdown",
   "id": "8e68e0af-1398-4c52-80fe-ed675a1052ab",
   "metadata": {},
   "source": [
    "![Alt-Text](uniform.png)"
   ]
  },
  {
   "cell_type": "markdown",
   "id": "5a9e5aff-4802-4617-906b-4328b12fdfd2",
   "metadata": {},
   "source": [
    "Der Mittelwert und der Median sind gegeben durch "
   ]
  },
  {
   "cell_type": "markdown",
   "id": "6908b6cd-340f-4904-a227-6421c9c82398",
   "metadata": {},
   "source": [
    "$$\\mu = \\frac{a+b}{2}\\text{.}$$"
   ]
  },
  {
   "cell_type": "markdown",
   "id": "3f3ad392-b568-4cec-876b-19f33cb97c72",
   "metadata": {},
   "source": [
    "Die kumulative Dichtefunktion ist unten dargestellt und ergibt sich aus der Gleichung"
   ]
  },
  {
   "cell_type": "markdown",
   "id": "15de3f2d-f38e-4f1c-a6be-5cb6a519b519",
   "metadata": {},
   "source": [
    "$$F(x) =\n",
    "\\begin{cases}\n",
    "0,  & \\text{for $x < a$} \\\\[2ex]\n",
    "\\frac{x-a}{b-a},  & \\text{for $x \\in [a,b)$} \\\\[2ex]\n",
    "1, & \\text{for $x \\ge b$}\n",
    "\\end{cases}\n",
    "$$"
   ]
  },
  {
   "cell_type": "markdown",
   "id": "b41c91a4-461a-4d27-b7c8-7d27ac7a4203",
   "metadata": {},
   "source": [
    "![Alt-Text](uniform_kum.png)"
   ]
  },
  {
   "cell_type": "code",
   "execution_count": null,
   "id": "dd6e627e-134d-4523-a4cb-e759a9ef3ada",
   "metadata": {},
   "outputs": [],
   "source": []
  }
 ],
 "metadata": {
  "kernelspec": {
   "display_name": "Python 3 (ipykernel)",
   "language": "python",
   "name": "python3"
  },
  "language_info": {
   "codemirror_mode": {
    "name": "ipython",
    "version": 3
   },
   "file_extension": ".py",
   "mimetype": "text/x-python",
   "name": "python",
   "nbconvert_exporter": "python",
   "pygments_lexer": "ipython3",
   "version": "3.10.2"
  }
 },
 "nbformat": 4,
 "nbformat_minor": 5
}
