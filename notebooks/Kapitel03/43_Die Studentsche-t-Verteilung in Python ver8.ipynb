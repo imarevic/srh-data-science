{
 "cells": [
  {
   "cell_type": "markdown",
   "id": "71558a0c-f9c7-4924-b2ad-ba16fadccd09",
   "metadata": {},
   "source": [
    "## Die Studentsche-t-Verteilung in Python\n",
    "----------------------------------------"
   ]
  },
  {
   "cell_type": "code",
   "execution_count": 1,
   "id": "be6c2e17-f253-4695-90e8-993084d13670",
   "metadata": {},
   "outputs": [
    {
     "name": "stdout",
     "output_type": "stream",
     "text": [
      "\n",
      "---------------------------------\n",
      "Working on the host: LAPTOP-9LETB4SJ\n",
      "\n",
      "---------------------------------\n",
      "Python version: 3.10.2 | packaged by conda-forge | (main, Mar  8 2022, 15:52:24) [MSC v.1929 64 bit (AMD64)]\n",
      "\n",
      "---------------------------------\n",
      "Python interpreter: C:\\Users\\zak\\anaconda3\\envs\\srh\\python.exe\n"
     ]
    }
   ],
   "source": [
    "from scipy.stats import t\n",
    "import matplotlib.pyplot as plt\n",
    "import numpy as np\n",
    "\n",
    "%run ../src/notebook_env.py"
   ]
  },
  {
   "cell_type": "markdown",
   "id": "f7c3945a-a844-4e35-82df-21cff0185e38",
   "metadata": {},
   "source": [
    "Python ermöglicht den Zugriff auf die $t$-Verteilung mit den Funktionen `t.pdf()`, `t.cdf()`, `t.ppf()` und `t.rvs()`. Wenden Sie die Funktion `dir()` auf diese Funktionen an, um weitere Informationen zu erhalten.\n",
    "\n",
    "Die Funktion `t.rvs()` erzeugt Zufallsabweichungen der $t$-Verteilung und wird als`t.rvs(df, loc , scale, size)` geschrieben. Wir können leicht eine Anzahl von $n$ Zufallsstichproben erzeugen. Erinnern Sie sich daran, dass die Anzahl der Freiheitsgrade für eine $t$-Verteilung gleich dem Stichprobenumfang minus eins ist, d.h.,\n"
   ]
  },
  {
   "cell_type": "markdown",
   "id": "4caf4c2f-fa95-4faf-863d-e638968f64a2",
   "metadata": {},
   "source": [
    "$$df = n - 1\\text{.}$$"
   ]
  },
  {
   "cell_type": "code",
   "execution_count": 2,
   "id": "28a341ad-dece-4847-a5c9-d7cd3a72493c",
   "metadata": {},
   "outputs": [
    {
     "data": {
      "text/plain": [
       "array([ 1.47973814e+00, -1.61568695e+00, -1.56101982e+00, -1.42116901e+00,\n",
       "        1.61868931e-01,  5.79611575e-01,  2.93265421e+00,  1.87912901e+00,\n",
       "        3.83229342e-01,  1.90972531e-01, -1.14689161e+00,  1.64042496e-01,\n",
       "        4.75477471e-01,  2.35468855e+00, -8.00030861e-01,  1.47259384e+00,\n",
       "        8.73636775e-01, -2.60212103e-03,  4.04876918e-01, -7.44608299e-01,\n",
       "       -1.70740089e+00,  8.32183871e-01,  3.26339526e-01, -1.30840518e+00,\n",
       "        5.02712839e-01, -1.05970872e+00, -4.74603111e-01,  5.32118359e-02,\n",
       "       -9.08132064e-01, -6.92944760e-01])"
      ]
     },
     "execution_count": 2,
     "metadata": {},
     "output_type": "execute_result"
    }
   ],
   "source": [
    "#generate random values from t distribution with df=6 and sample size=10\n",
    "t.rvs(df=29, size=30)"
   ]
  },
  {
   "cell_type": "markdown",
   "id": "3ee25f1e-0a55-422f-899b-1ac5a5daa4f6",
   "metadata": {},
   "source": [
    "Außerdem können wir eine sehr große Anzahl von Stichproben erzeugen und sie als Histogramm darstellen.\n"
   ]
  },
  {
   "cell_type": "code",
   "execution_count": 3,
   "id": "0aac0407-9a21-431f-9e80-ec1ef55ae8f4",
   "metadata": {},
   "outputs": [
    {
     "data": {
      "image/png": "[encoded data removed]",
      "text/plain": [
       "<Figure size 432x288 with 1 Axes>"
      ]
     },
     "metadata": {
      "needs_background": "light"
     },
     "output_type": "display_data"
    }
   ],
   "source": [
    "# Erzeuge zufallwerte der t distribution mit df=9999 und sample size=10000\n",
    "y = t.rvs(df=9999, size=10000)\n",
    "\n",
    "fig, ax1 = plt.subplots()\n",
    "\n",
    "ax1.set_title('Histogramm der Stichproben')\n",
    "ax1.set_xlabel('Stichproben')\n",
    "ax1.set_ylabel('Dichte')\n",
    "ax1.hist(y,bins=40,density = True, edgecolor='k')\n",
    "\n",
    "fig.tight_layout()\n",
    "\n",
    "plt.show() "
   ]
  },
  {
   "cell_type": "markdown",
   "id": "739c64e9-726f-48a2-a0a8-a3014aae7ffe",
   "metadata": {},
   "source": [
    "Mit der Funktion `t.pdf()` können wir die Wahrscheinlichkeitsdichtefunktion und damit den vertikalen Abstand zwischen der horizontalen Achse und der $t$-Kurve an jedem beliebigen Punkt berechnen. Zur Demonstration konstruieren wir eine $t$-Verteilung mit $df=5$ und berechnen die Wahrscheinlichkeitsdichtefunktion bei $t=-4,-2,0,2,4$."
   ]
  },
  {
   "cell_type": "code",
   "execution_count": 4,
   "id": "429eb5fb-28ef-4b93-9b91-6f53e8c9634e",
   "metadata": {},
   "outputs": [],
   "source": [
    "x = list(range(-4,5,2))\n",
    "y_t = t.pdf(x,df = 5)"
   ]
  },
  {
   "cell_type": "code",
   "execution_count": 5,
   "id": "89f11f0b-cb42-4661-9ef6-d2d93a075679",
   "metadata": {},
   "outputs": [
    {
     "data": {
      "image/png": "[encoded data removed]",
      "text/plain": [
       "<Figure size 432x288 with 1 Axes>"
      ]
     },
     "metadata": {
      "needs_background": "light"
     },
     "output_type": "display_data"
    }
   ],
   "source": [
    "# Erzeuge x-werte\n",
    "x = np.linspace(-4,4,num = 50)\n",
    "\n",
    "# Plotte t-Verteilung\n",
    "fig, ax1 = plt.subplots()\n",
    "\n",
    "ax1.set_title('t-Verteilung, df = 5')\n",
    "ax1.set_xlabel('t-Werte')\n",
    "ax1.set_ylabel('Wahrscheinlichkeitsdichte')\n",
    "ax1.plot(x,t.pdf(x,df = 5))\n",
    "ax1.axvline(x=0, color='r', ls = '--',label='Erwartungswert : 0')\n",
    "ax1.axvline(x=2, color='r', ls = '--',label='Erwartungswert : 0')\n",
    "ax1.axvline(x=-2, color='r', ls = '--',label='Erwartungswert : 0')\n",
    "ax1.axvline(x=4, color='r', ls = '--',label='Erwartungswert : 0')\n",
    "ax1.axvline(x=-4, color='r', ls = '--',label='Erwartungswert : 0')\n",
    "fig.tight_layout()\n",
    "\n",
    "plt.show() "
   ]
  },
  {
   "cell_type": "markdown",
   "id": "513ceac6-90a4-4d2e-833a-54598d34ec6f",
   "metadata": {},
   "source": [
    "Eine weitere sehr nützliche Funktion ist die Funktion `t.cdf()`, die die Fläche unter der $t$-Kurve für ein beliebiges Intervall liefert. Berechnen wir die Fläche unter der Kurve für die Intervalle $j_i= \\ ]-\\infty \\ $,$ \\ -2]$ , $]-\\infty \\ $,$ \\ 0]$ , $]-\\infty \\ $,$ \\ 2]$ und $k_i=[-2 \\ $,$ \\ \\infty[$ , $[0 \\ $,$ \\ \\infty[$ , $[2 \\ $,$ \\ \\infty[$ für eine Zufallsvariable mit einer $t$-Verteilung mit $df=5$."
   ]
  },
  {
   "cell_type": "code",
   "execution_count": 41,
   "id": "d40f11f4-0e49-49bb-8069-bb6396106f05",
   "metadata": {},
   "outputs": [
    {
     "name": "stdout",
     "output_type": "stream",
     "text": [
      "0.05096973941492914 Wert für Fläche links von : -2\n",
      "0.5 Wert für Fläche links von : 0\n",
      "0.9490302605850709 Wert für Fläche links von : 2\n"
     ]
    }
   ],
   "source": [
    "x_ppf_left=[]\n",
    "# Berechne kumulitative Wahrscheinlichkeit links von Wert x\n",
    "for i in range(-2,3,2):\n",
    "    x_ppf_left.append(t.cdf(i, df = 5))\n",
    "    print(t.cdf(i, df = 5),'Wert für Fläche links von :',i)"
   ]
  },
  {
   "cell_type": "markdown",
   "id": "13160aa2-dbab-49dd-af9e-487685b70551",
   "metadata": {},
   "source": [
    "![Alt-Text](tdist2.png)"
   ]
  },
  {
   "cell_type": "code",
   "execution_count": 39,
   "id": "1be5db47-4f45-4c14-92ea-cee601db8c58",
   "metadata": {},
   "outputs": [
    {
     "name": "stdout",
     "output_type": "stream",
     "text": [
      "0.9490302605850709 Wert für Fläche rechts von : -2\n",
      "0.5 Wert für Fläche rechts von : 0\n",
      "0.050969739414929105 Wert für Fläche rechts von : 2\n"
     ]
    }
   ],
   "source": [
    "x_ppf_right=[]\n",
    "# Berechne kumulitative Wahrscheinlichkeit rechts von Wert x\n",
    "for i in range(-2,3,2):\n",
    "    x_ppf_right.append(1-t.cdf(i, df = 5))\n",
    "    print(1-t.cdf(i, df = 5),'Wert für Fläche rechts von :',i)"
   ]
  },
  {
   "cell_type": "markdown",
   "id": "74b18558-e5be-4428-9e3a-4fe7d49f6c04",
   "metadata": {},
   "source": [
    "![Alt-Text](tdist3.png)"
   ]
  },
  {
   "cell_type": "markdown",
   "id": "05d80624-aa80-4301-bb0d-58977c811c5d",
   "metadata": {},
   "source": [
    "Die Funktion `t.ppf()` liefert die Quantilfunktion und ist damit die Umkehrfunktion von `t.cdf()`. Für die Intervalle $j_i= ]-\\infty \\ $,$ \\ -2]$ , $]-\\infty \\ $,$ \\ 0]$ , $]-\\infty \\ $,$ \\ 2]$ einer Zufallsvariablen, die einer $t$-Verteilung mit $df=5$ folgt, liefert die Funktion `t.ppf()`..."
   ]
  },
  {
   "cell_type": "code",
   "execution_count": 46,
   "id": "44b579b1-a01e-423d-8e21-4c9392996d53",
   "metadata": {},
   "outputs": [
    {
     "data": {
      "text/plain": [
       "[-2, 0, 2]"
      ]
     },
     "execution_count": 46,
     "metadata": {},
     "output_type": "execute_result"
    }
   ],
   "source": [
    "t_ppf=[]\n",
    "for x in x_ppf_left:\n",
    "    t_ppf.append(t.ppf(x, df = 5))\n",
    "# Runde Ergebnis\n",
    "t_ppf = [round(y) for y in t_ppf]\n",
    "t_ppf"
   ]
  },
  {
   "cell_type": "markdown",
   "id": "24819ecf-7929-4e62-a5ed-38e6ab7f2fe6",
   "metadata": {},
   "source": [
    "... und für die Intervalle $k_i=[-2 \\ $,$ \\ \\infty[$ , $[0 \\ $,$ \\ \\infty[$ , $[2 \\ $,$ \\ \\infty[$ einer Zufallsvariablen, die einer $t$-Verteilung mit $df=5$ folgt, liefert die Funktion `t.ppf`"
   ]
  },
  {
   "cell_type": "code",
   "execution_count": 45,
   "id": "29e386f4-c1ae-4fbd-93ce-97069c0eaaa4",
   "metadata": {},
   "outputs": [
    {
     "data": {
      "text/plain": [
       "[-2, 0, 2]"
      ]
     },
     "execution_count": 45,
     "metadata": {},
     "output_type": "execute_result"
    }
   ],
   "source": [
    "t_ppf=[]\n",
    "for x in x_ppf_right:\n",
    "    t_ppf.append(t.ppf(1-x, df = 5))\n",
    "# Runde Ergebnis\n",
    "t_ppf = [round(y) for y in t_ppf]\n",
    "t_ppf"
   ]
  },
  {
   "cell_type": "code",
   "execution_count": null,
   "id": "e243415d-96be-49c6-bc38-2013d61c70aa",
   "metadata": {},
   "outputs": [],
   "source": []
  }
 ],
 "metadata": {
  "kernelspec": {
   "display_name": "Python 3 (ipykernel)",
   "language": "python",
   "name": "python3"
  },
  "language_info": {
   "codemirror_mode": {
    "name": "ipython",
    "version": 3
   },
   "file_extension": ".py",
   "mimetype": "text/x-python",
   "name": "python",
   "nbconvert_exporter": "python",
   "pygments_lexer": "ipython3",
   "version": "3.10.2"
  }
 },
 "nbformat": 4,
 "nbformat_minor": 5
}
