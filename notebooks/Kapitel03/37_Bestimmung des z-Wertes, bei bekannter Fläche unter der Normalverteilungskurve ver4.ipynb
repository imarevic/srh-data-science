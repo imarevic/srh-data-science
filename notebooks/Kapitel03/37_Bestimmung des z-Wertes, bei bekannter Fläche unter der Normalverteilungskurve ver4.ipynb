{
 "cells": [
  {
   "cell_type": "markdown",
   "id": "332a7d7f-81b4-4165-96d8-a6c32e225d8f",
   "metadata": {
    "tags": []
   },
   "source": [
    "## Bestimmung des z-Wertes, bei bekannter Fläche unter der Normalverteilungskurve\n",
    "----------------------------------------"
   ]
  },
  {
   "cell_type": "code",
   "execution_count": 2,
   "id": "429e25ab-6375-46f0-853e-09280af05783",
   "metadata": {},
   "outputs": [],
   "source": [
    "from scipy.stats import norm"
   ]
  },
  {
   "cell_type": "markdown",
   "id": "d34a87b7-3f3e-4cf0-9171-2fe3d9ed719e",
   "metadata": {},
   "source": [
    "Bisher haben wir $z$-Scores verwendet, um die Fläche unter der Kurve zu berechnen. Jetzt machen wir es andersherum. Wir berechnen den oder die $z$-Score(s), die einer bestimmten Fläche unter der Standardnormalkurve entsprechen. Das Auffinden des $z$-Scores, der eine bestimmte Fläche hat, ist so häufig, dass es eine spezielle Notation gibt. Das Symbol $z_{\\alpha}$ wird verwendet, um den $z$-Score zu bezeichnen, der eine Fläche von $ \\alpha $ (alpha) zu seiner Rechten unter der Standardnormalkurve aufweist."
   ]
  },
  {
   "cell_type": "markdown",
   "id": "83de9e64-8179-461d-9f33-8fd90f0c5f5a",
   "metadata": {},
   "source": [
    "Ermitteln wir $z_{0,05}$, den $z$-Wert, der unter der Standardnormalkurve eine Fläche von $0,05$ zu seiner Rechten hat. Der Wert von $\\alpha$ entspricht der Wahrscheinlichkeit, einen bestimmten Wert zu erhalten, der dem Intervall $[z \\ $,$ \\ \\infty[$entspricht. Denn die Fläche rechts davon ist $0,05$. Die Fläche links davon ist $1-0,05=0,95$, was dem Intervall $]- \\alpha \\ $,$ \\ z]$ (siehe Grafik unten)."
   ]
  },
  {
   "cell_type": "markdown",
   "id": "f5b18b0f-832f-4cbc-b39c-3710d2f69fc0",
   "metadata": {},
   "source": [
    "![Alt-Text](normalcdfstand_005.png)"
   ]
  },
  {
   "cell_type": "markdown",
   "id": "9332ebf2-1d72-48a9-8c10-c65540af7b5d",
   "metadata": {
    "tags": []
   },
   "source": [
    "Um den entsprechenden $z$-Score zu erhalten, kann man ihn in einer Wahrscheinlichkeitstabelle nachschlagen oder Python verwenden. Daher wenden wir die Funktion `norm.ppf` an. Die `norm.ppf`-Funktion wird geschrieben als `norm.ppf`(p, mean = 0, scale = 1, loc = 0). Wir behalten die Standardwerte für die Argumente `mean`, `sd` und `loc` bei. Allerdings müssen wir vorsichtig sein auf welchen Bereich der Fläche unter der Normalverteilung wir uns beziehen. Für `norm.ppf(p)` erhalten wir den z-Score, bei dem das p-Argument der Bereich links von z ist. Wenn wir dagegen `norm.ppf(1-p)` berechnen, erhalten wir den z-Score, bei dem das p-Argument der Bereich rechts von z ist. Wenden wir uns an Python um dies zu verdeutlichen."
   ]
  },
  {
   "cell_type": "code",
   "execution_count": 31,
   "id": "64df808b-a466-41b4-a579-2efe1df49327",
   "metadata": {
    "tags": []
   },
   "outputs": [
    {
     "data": {
      "text/plain": [
       "-1.6448536269514729"
      ]
     },
     "execution_count": 31,
     "metadata": {},
     "output_type": "execute_result"
    }
   ],
   "source": [
    "norm.ppf(0.05)"
   ]
  },
  {
   "cell_type": "code",
   "execution_count": 32,
   "id": "27ef77e7-8590-4f9e-97b9-9269c3f31b28",
   "metadata": {},
   "outputs": [
    {
     "data": {
      "text/plain": [
       "1.6448536269514722"
      ]
     },
     "execution_count": 32,
     "metadata": {},
     "output_type": "execute_result"
    }
   ],
   "source": [
    "norm.ppf(0.95)"
   ]
  },
  {
   "cell_type": "markdown",
   "id": "5e24af6f-bf94-4efa-aa36-4838b3d8f580",
   "metadata": {},
   "source": [
    "Es ist interessant zu erwähnen das die Perzentile Punkt Funktion `norm.ppf` die inverse Funktion der kumulativen Wahrscheinlichkeitsfunktion `norm.cdf` ist"
   ]
  },
  {
   "cell_type": "code",
   "execution_count": 3,
   "id": "b8f8ee61-75e8-4ce6-b3e0-37dcf2803a5f",
   "metadata": {},
   "outputs": [
    {
     "data": {
      "text/plain": [
       "0.95"
      ]
     },
     "execution_count": 3,
     "metadata": {},
     "output_type": "execute_result"
    }
   ],
   "source": [
    "norm.cdf(norm.ppf(0.95))"
   ]
  },
  {
   "cell_type": "markdown",
   "id": "3cfd29c3-33ce-486e-8e04-95dbf85cef50",
   "metadata": {},
   "source": [
    "Da die Standardnormalverteilung symmetrisch ist, erhalten wir zweimal die gleiche Zahl, aber mit einem anderen Vorzeichen. Das bedeutet, dass bei einem z-Wert von etwa $1,64 \\ $  $ 95 \\%$ aller Werte links von $z_{0,05}$ und $5 \\%$ aller Werte rechts davon liegen. Im Gegensatz dazu liegen für einen $z$-Wert von etwa $-1,64 \\ $ $5 \\%$ aller Werte links von $z_{0,05}$ und 95% aller Werte rechts davon. Kombiniert man diese, erhält man das Intervall $z \\in [-1,64 \\ $,$ \\ 1,64 ]$, das $90 \\%$ aller Werte abdeckt."
   ]
  },
  {
   "cell_type": "markdown",
   "id": "b14131a4-e892-405b-92cd-fe170092002a",
   "metadata": {},
   "source": [
    "![Alt-Text](ppfnorm.png)"
   ]
  },
  {
   "cell_type": "code",
   "execution_count": null,
   "id": "5b2ac230-e998-402d-9c5a-bfd355c39140",
   "metadata": {},
   "outputs": [],
   "source": []
  }
 ],
 "metadata": {
  "kernelspec": {
   "display_name": "Python 3 (ipykernel)",
   "language": "python",
   "name": "python3"
  },
  "language_info": {
   "codemirror_mode": {
    "name": "ipython",
    "version": 3
   },
   "file_extension": ".py",
   "mimetype": "text/x-python",
   "name": "python",
   "nbconvert_exporter": "python",
   "pygments_lexer": "ipython3",
   "version": "3.10.2"
  }
 },
 "nbformat": 4,
 "nbformat_minor": 5
}
