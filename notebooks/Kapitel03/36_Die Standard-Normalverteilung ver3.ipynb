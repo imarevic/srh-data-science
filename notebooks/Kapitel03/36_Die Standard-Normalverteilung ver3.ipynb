{
 "cells": [
  {
   "cell_type": "markdown",
   "id": "5a0e7ba0-030b-4aa6-b6f9-90a3d047dbc6",
   "metadata": {},
   "source": [
    "## Die Standard-Normalverteilung\n",
    "----------------------------------------"
   ]
  },
  {
   "cell_type": "code",
   "execution_count": 1,
   "id": "7aaa6476-f2cf-474c-9480-24aef59ee603",
   "metadata": {},
   "outputs": [],
   "source": [
    "import matplotlib.pyplot as plt\n",
    "import numpy as np\n",
    "from scipy.stats import norm"
   ]
  },
  {
   "cell_type": "markdown",
   "id": "d215b5d9-658f-42e7-9806-ef689b8a1220",
   "metadata": {},
   "source": [
    "Die <a href=\"https://de.wikipedia.org/wiki/Normalverteilung\">Standardnormalverteilung</a> ist ein Spezialfall der Normalverteilung. Bei der Standardnormalverteilung ist der Wert des Mittelwerts gleich Null $(\\mu=0)$ und der Wert der Standardabweichung gleich $1$ $(\\sigma=1)$."
   ]
  },
  {
   "cell_type": "markdown",
   "id": "8622c6c8-514b-43d6-86c3-451f87813d50",
   "metadata": {},
   "source": [
    "Wenn man also $\\mu =0$ und $\\sigma =1$ in die PDF der Normalverteilung einsetzt, vereinfacht sich die Gleichung zu"
   ]
  },
  {
   "cell_type": "markdown",
   "id": "707d4d11-5121-4939-afe7-be77011e1274",
   "metadata": {},
   "source": [
    "$$ \\begin{align}\n",
    "f(x)& = \\frac{1}{\\sigma \\sqrt{2 \\pi}}e^{-\\frac{1}{2}\\left(\\frac{x-\\mu}{\\sigma}\\right)^2} \\\\\n",
    " & =\\frac{1}{1 \\times  \\sqrt{2 \\pi}}e^{-\\frac{1}{2}\\left(\\frac{x-0}{1}\\right)^2} \\\\\n",
    " & = \\frac{1}{\\sqrt{2\\pi}}e^{-\\frac{1}{2}x^2} \n",
    "\\end{align} $$"
   ]
  },
  {
   "cell_type": "markdown",
   "id": "1b9c4cce-510c-45aa-8106-f9e44a01e3ef",
   "metadata": {},
   "source": [
    "Die Zufallsvariable, die die Standardnormalverteilung erfüllt, wird mit $z$ bezeichnet. Folglich werden die Einheiten für die Kurve der Standardnormalverteilung mit $z$ bezeichnet und als $z$-**Werte**, $z$-**Scores** oder $z$-**Statistik** bezeichnet."
   ]
  },
  {
   "cell_type": "markdown",
   "id": "84b6125d-9f3a-476f-b7e6-c1ab9f3c0775",
   "metadata": {},
   "source": [
    "Die **kumulative Verteilungsfunktion (CDF)** der Standardnormalverteilung, die der Fläche unter der Kurve für das Intervall $]-\\infty \\ $,$ \\ z]$ entspricht und gewöhnlich mit dem griechischen Großbuchstaben *$\\phi$* bezeichnet wird, ist gegeben durch"
   ]
  },
  {
   "cell_type": "markdown",
   "id": "7ad87bfc-668c-4b76-8b51-2e4e4ff2e683",
   "metadata": {},
   "source": [
    "$$F(x<z) = \\phi (z) = \\frac{1}{\\sqrt{2\\pi}} \\int_{-\\infty}^{z}e^{-\\frac{1}{2}x^2}dx$$"
   ]
  },
  {
   "cell_type": "markdown",
   "id": "27f96249-4db5-42a6-b5fd-fcc09015715d",
   "metadata": {},
   "source": [
    "wobei $e \\approx 2,71828$ und $\\pi \\approx 3,14159$."
   ]
  },
  {
   "cell_type": "markdown",
   "id": "7bcfacab-d9f6-476e-bc3e-122aad3a6a0e",
   "metadata": {},
   "source": [
    "### Grundlegende Eigenschaften der Standardnormalkurve"
   ]
  },
  {
   "cell_type": "markdown",
   "id": "5d3de0f2-89f2-46e3-b4cf-d933e672446c",
   "metadata": {},
   "source": [
    "Die Standardnormalkurve ist ein Spezialfall der Normalverteilung und damit auch eine Wahrscheinlichkeitsverteilungskurve. Daher gelten die grundlegenden Eigenschaften der Normalverteilung auch für die Standardnormalkurve ({cite:p}`fahrmeirstatistik` s.85)."
   ]
  },
  {
   "cell_type": "markdown",
   "id": "a3a28a6a-aa29-40a9-8c9f-01aae82724ff",
   "metadata": {},
   "source": [
    "1) Die Gesamtfläche unter der Standardnormalkurve ist $1$ (diese Eigenschaft ist allen Dichtekurven gemeinsam).\n",
    "2) Die Standardnormalkurve erstreckt sich unendlich in beide Richtungen und nähert sich dabei der horizontalen Achse, berührt sie aber nie.\n",
    "3) Die Standardnormalkurve ist glockenförmig, ihr Mittelpunkt liegt bei $z=0$. Fast die gesamte Fläche unter der Standardnormalkurve liegt zwischen $z=-3$ und $z=3$."
   ]
  },
  {
   "cell_type": "markdown",
   "id": "1361f4e1-0724-4dd5-8a03-360b9acbcb7a",
   "metadata": {},
   "source": [
    "![Alt-Text](normalpdfstand.png)"
   ]
  },
  {
   "cell_type": "markdown",
   "id": "8f9ad44b-a184-4dc3-87bd-ac711edaab42",
   "metadata": {},
   "source": [
    "Die $z$-Werte auf der rechten Seite des Mittelwerts sind positiv und die auf der linken Seite sind negativ. Der $z$-Wert für einen Punkt auf der horizontalen Achse gibt den Abstand zwischen dem Mittelwert $(z=0)$ und diesem Punkt in Form der Standardabweichung an. Ein Punkt mit einem Wert von $z=2$ liegt zum Beispiel zwei Standardabweichungen rechts vom Mittelwert. Ebenso liegt ein Punkt mit einem Wert von $z=-2$ zwei Standardabweichungen links vom Mittelwert."
   ]
  },
  {
   "cell_type": "markdown",
   "id": "527a3ac2-5fd0-4aa1-afc7-e05a21328a22",
   "metadata": {
    "tags": []
   },
   "source": [
    "![Alt-Text](normalcdfstand.png)"
   ]
  },
  {
   "cell_type": "markdown",
   "id": "2408d761-5254-4ffb-9d88-157a75615376",
   "metadata": {},
   "source": [
    "Das Methode die Wahrscheinlichkeiten durch Berechnung der Fläche unter der Standardnormalkurve zu bestimmen, kommt häufig zur Anwendung. Aus diesem Grund gibt es <a href=\"https://de.wikipedia.org/wiki/Standardnormalverteilungstabelle\">Wahrscheinlichkeitstabellen</a>, um die Fläche für einen bestimmten $z$-Wert zu ermitteln. Python ist jedoch ein so leistungsfähiges Werkzeug, dass wir die Fläche unter der Kurve für einen bestimmten $z$-Wert berechnen können."
   ]
  },
  {
   "cell_type": "markdown",
   "id": "f08f13e0-a4f7-47df-b667-d4f09aa2968a",
   "metadata": {},
   "source": [
    "Um die Fläche unter der Kurve für eine Standardnormalverteilung zu berechnen, verwenden wir zunächst die Funktion `norm` aus dem `scipy.stats` Paket um eine Standardnormalverteilung zu generieren und wenden darauf die Methode `cdf` an um die kumulative Wahrscheinlichkeit zu berechnen. Die Funktion `norm` ist definiert als `norm(loc = Mittelwert , scale = Standardabweichung)`. Um die Standardwerte zu Erhalten setzen wir den Mittelwert und die Standardabweichung jeweils auf $0$ und $1$ sind. Wenden wir die Methode `cdf` an bekommen wir die kumulative Wahrscheinlichkeit bis zum angegebenen Punkt. Wir berechnen die Fläche unter der Kurve für $z=-3,-2,-1,0,1,2,3$ oder formeller geschrieben:"
   ]
  },
  {
   "cell_type": "markdown",
   "id": "d81475b6-9522-4fdc-a5fb-b6873f9f2ce9",
   "metadata": {},
   "source": [
    "$$P(x\\le z) \\qquad \\forall \\  z \\in  (-3, -2, -1, 0, 1, 2, 3)$$"
   ]
  },
  {
   "cell_type": "code",
   "execution_count": 4,
   "id": "34b9d4cf-a403-4fd6-8165-43ccd6c8eefb",
   "metadata": {},
   "outputs": [
    {
     "data": {
      "text/plain": [
       "0.0013498980316300933"
      ]
     },
     "execution_count": 4,
     "metadata": {},
     "output_type": "execute_result"
    }
   ],
   "source": [
    "z_values.cdf(-3)"
   ]
  },
  {
   "cell_type": "code",
   "execution_count": 5,
   "id": "9280c14f-bc40-4cf8-88c5-016630940a13",
   "metadata": {},
   "outputs": [
    {
     "data": {
      "text/plain": [
       "0.022750131948179195"
      ]
     },
     "execution_count": 5,
     "metadata": {},
     "output_type": "execute_result"
    }
   ],
   "source": [
    "z_values.cdf(-2)"
   ]
  },
  {
   "cell_type": "code",
   "execution_count": 37,
   "id": "d2826837-7f3d-4264-be76-411b54443e13",
   "metadata": {},
   "outputs": [
    {
     "data": {
      "text/plain": [
       "0.15865525393145707"
      ]
     },
     "execution_count": 37,
     "metadata": {},
     "output_type": "execute_result"
    }
   ],
   "source": [
    "z_values.cdf(-1)"
   ]
  },
  {
   "cell_type": "code",
   "execution_count": 38,
   "id": "d0a24ce7-ff42-4681-b32a-095e5a0ebab0",
   "metadata": {},
   "outputs": [
    {
     "data": {
      "text/plain": [
       "0.5"
      ]
     },
     "execution_count": 38,
     "metadata": {},
     "output_type": "execute_result"
    }
   ],
   "source": [
    "z_values.cdf(0)"
   ]
  },
  {
   "cell_type": "code",
   "execution_count": 39,
   "id": "6f3a41e9-4959-4905-9a26-41c912017d74",
   "metadata": {},
   "outputs": [
    {
     "data": {
      "text/plain": [
       "0.8413447460685429"
      ]
     },
     "execution_count": 39,
     "metadata": {},
     "output_type": "execute_result"
    }
   ],
   "source": [
    "z_values.cdf(1)"
   ]
  },
  {
   "cell_type": "code",
   "execution_count": 40,
   "id": "3a250166-e452-417c-b9b7-fd621872a665",
   "metadata": {},
   "outputs": [
    {
     "data": {
      "text/plain": [
       "0.9772498680518208"
      ]
     },
     "execution_count": 40,
     "metadata": {},
     "output_type": "execute_result"
    }
   ],
   "source": [
    "z_values.cdf(2)"
   ]
  },
  {
   "cell_type": "code",
   "execution_count": 41,
   "id": "241588c2-36c0-414b-93dd-a8251a98d06b",
   "metadata": {},
   "outputs": [
    {
     "data": {
      "text/plain": [
       "0.9986501019683699"
      ]
     },
     "execution_count": 41,
     "metadata": {},
     "output_type": "execute_result"
    }
   ],
   "source": [
    "z_values.cdf(3)"
   ]
  },
  {
   "cell_type": "markdown",
   "id": "c3d985b3-0093-44fc-bf00-63eb302659a6",
   "metadata": {
    "tags": []
   },
   "source": [
    "Perfekt! Wir haben einige der oben genannten Eigenschaften einer Standardnormalkurve bestätigt. Wir erinnern uns, dass wir die Fläche unter der Kurve für das Intervall $]-\\infty \\ $,$ \\ z]$ berechnet haben. Der Aufruf von `norm.cdf(-3)` ergibt eine sehr geringe Zahl. Nur etwa $0,1 \\%$ der gesamten Fläche unter der Kurve befinden sich links von $z=-3$, was dem Abstand der dreifachen Standardabweichung vom Mittelwert entspricht. Außerdem ergibt `norm.cdf(0)`  $50 \\%$. Fantastisch! Daraus schließen wir, dass die Fläche unter der Kurve für das Intervall $]-\\infty \\ $,$ \\ 0]$ die gleiche ist wie die Fläche unter der Kurve für das Intervall $[0 \\ $,$ \\ \\infty[$ und dass die Fläche unter der Kurve sich zu $1$ aufsummiert. Auch hier haben wir eine der oben genannten Eigenschaften einer Standardnormalkurve bestätigt. Und schließlich ergibt der Aufruf von `norm.cdf(3)`  eine hohe Zahl nahe bei $1$. Somit sind etwa $99,9 \\%$ der Fläche unter der Kurve im Intervall $]-\\infty \\ $,$ \\ 3]$ zu finden. Für den Bereich jenseits von $z=3$ bleibt nur wenig übrig."
   ]
  },
  {
   "cell_type": "markdown",
   "id": "81125ff9-0778-41d8-9d0f-8c47587699a7",
   "metadata": {},
   "source": [
    "Es sei daran erinnert, dass wir die Fläche unter der Kurve für jedes beliebige Intervall explizit berechnen können"
   ]
  },
  {
   "cell_type": "markdown",
   "id": "684c29de-8213-4bf9-b2f0-0763ed7d7fbd",
   "metadata": {},
   "source": [
    "$ \\begin{align}\n",
    "P(a \\le z \\le b) & = P(z \\le b) - P(z \\le a)  \\\\\n",
    " & =\\int_{a}^{b}f(z)dz \\\\\n",
    " & = \\int_{-\\infty}^{b}f(z)dz - \\int_{-\\infty}^{a}f(z)dz \n",
    "\\end{align}$"
   ]
  },
  {
   "cell_type": "markdown",
   "id": "62c61516-891d-43ae-961c-899c1eae49c2",
   "metadata": {},
   "source": [
    "Berechnen wir die Fläche unter der Kurve für die folgenden Intervalle: $[−1 \\ $,$ \\ 1],[−2 \\ $,$ \\ 2],[−3 \\ $,$ \\ 3]$. Oder in Worten: Bestimmen wir die Fläche unter der Kurve für $±1$ Standardabweichung, für $±2$ Standardabweichungen und für $±3$ Standardabweichungen."
   ]
  },
  {
   "cell_type": "code",
   "execution_count": 42,
   "id": "3b1b47ff-aaf7-456d-a797-6c2c46e726da",
   "metadata": {},
   "outputs": [
    {
     "data": {
      "text/plain": [
       "0.6826894921370859"
      ]
     },
     "execution_count": 42,
     "metadata": {},
     "output_type": "execute_result"
    }
   ],
   "source": [
    "z_values.cdf(1)-z_values.cdf(-1)"
   ]
  },
  {
   "cell_type": "code",
   "execution_count": 43,
   "id": "00236713-67c0-4e43-b02d-3619d222bbc8",
   "metadata": {},
   "outputs": [
    {
     "data": {
      "text/plain": [
       "0.9544997361036416"
      ]
     },
     "execution_count": 43,
     "metadata": {},
     "output_type": "execute_result"
    }
   ],
   "source": [
    "z_values.cdf(2)-z_values.cdf(-2)"
   ]
  },
  {
   "cell_type": "code",
   "execution_count": 44,
   "id": "d259251c-3470-4443-bca0-15eb120e24a0",
   "metadata": {},
   "outputs": [
    {
     "data": {
      "text/plain": [
       "0.9973002039367398"
      ]
     },
     "execution_count": 44,
     "metadata": {},
     "output_type": "execute_result"
    }
   ],
   "source": [
    "z_values.cdf(3)-z_values.cdf(-3)"
   ]
  },
  {
   "cell_type": "markdown",
   "id": "cc18531a-8826-4915-9948-47e4ebb80232",
   "metadata": {},
   "source": [
    "Toll, wir haben soeben die Empirische Regel ({cite:p}`fahrmeirstatistik` s.86), auch bekannt als **$68-95-99,7$-Regel**, bestätigt, die sich auf den <a href=\"https://de.wikipedia.org/wiki/Tschebyscheffsche_Ungleichung\">Tschebyscheffsche Ungleichung</a> bezieht. Für eine glockenförmige Verteilung sind die $3$ Regeln dass ungefähr"
   ]
  },
  {
   "cell_type": "markdown",
   "id": "58a4faff-06ec-4e45-896f-22e92ffef9db",
   "metadata": {},
   "source": [
    "\n",
    " 1)  $68 \\%$ der Beobachtungen liegen innerhalb einer Standardabweichung des Mittelwerts,\n",
    " 2)  $95 \\%$ der Beobachtungen liegen innerhalb von zwei Standardabweichungen des Mittelwerts, und\n",
    " 3)  $99,7 \\%$ der Beobachtungen liegen innerhalb von drei Standardabweichungen des Mittelwerts."
   ]
  },
  {
   "cell_type": "markdown",
   "id": "1f9aeff4-0282-40ba-a671-10618c27e8de",
   "metadata": {},
   "source": [
    "Um unsere Intuition zu stärken, wird die empirische Regel im Folgenden veranschaulicht."
   ]
  },
  {
   "cell_type": "markdown",
   "id": "cc91b5ff-cda6-4357-bf32-db63d885e841",
   "metadata": {},
   "source": [
    "![Alt-Text](intervalz11.png)"
   ]
  },
  {
   "cell_type": "markdown",
   "id": "bd1822e3-0b48-43ae-865a-fc92a8c3874e",
   "metadata": {},
   "source": [
    "![Alt-Text](intervalz22.png)"
   ]
  },
  {
   "cell_type": "markdown",
   "id": "54bbb79b-b45e-4872-8c79-7b0be7d4c157",
   "metadata": {},
   "source": [
    "![Alt-Text](intervalz33.png)"
   ]
  },
  {
   "cell_type": "code",
   "execution_count": null,
   "id": "5f6c4770-5d9d-4539-ad79-4d77b3deb368",
   "metadata": {},
   "outputs": [],
   "source": []
  }
 ],
 "metadata": {
  "kernelspec": {
   "display_name": "Python 3 (ipykernel)",
   "language": "python",
   "name": "python3"
  },
  "language_info": {
   "codemirror_mode": {
    "name": "ipython",
    "version": 3
   },
   "file_extension": ".py",
   "mimetype": "text/x-python",
   "name": "python",
   "nbconvert_exporter": "python",
   "pygments_lexer": "ipython3",
   "version": "3.10.2"
  }
 },
 "nbformat": 4,
 "nbformat_minor": 5
}
