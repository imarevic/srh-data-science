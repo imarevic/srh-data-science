{
 "cells": [
  {
   "cell_type": "markdown",
   "id": "22c4accd-402b-4a9f-9966-328a99c41e60",
   "metadata": {},
   "source": [
    "# Übungsaufgaben Kapitel Zentraler Grenzwertsatz"
   ]
  },
  {
   "cell_type": "markdown",
   "id": "6212d557-a5da-4da5-997a-3edbcec94f63",
   "metadata": {},
   "source": [
    "tbd..."
   ]
  }
 ],
 "metadata": {
  "kernelspec": {
   "display_name": "Python 3 (ipykernel)",
   "language": "python",
   "name": "python3"
  },
  "language_info": {
   "codemirror_mode": {
    "name": "ipython",
    "version": 3
   },
   "file_extension": ".py",
   "mimetype": "text/x-python",
   "name": "python",
   "nbconvert_exporter": "python",
   "pygments_lexer": "ipython3",
   "version": "3.10.2"
  }
 },
 "nbformat": 4,
 "nbformat_minor": 5
}