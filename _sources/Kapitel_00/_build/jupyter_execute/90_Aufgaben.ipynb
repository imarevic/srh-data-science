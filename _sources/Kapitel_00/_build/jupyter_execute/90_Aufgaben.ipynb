{
 "cells": [
  {
   "cell_type": "markdown",
   "id": "22c4accd-402b-4a9f-9966-328a99c41e60",
   "metadata": {},
   "source": [
    "# Übungsaufgaben"
   ]
  },
  {
   "cell_type": "markdown",
   "id": "688f9b84-addc-4e56-9e14-3d0b8e3b3f4a",
   "metadata": {},
   "source": [
    "## Aufgabe 1"
   ]
  },
  {
   "cell_type": "markdown",
   "id": "f82e1560-9c30-46d0-8c6c-d9e907faabc6",
   "metadata": {},
   "source": [
    "## Aufgabe 2"
   ]
  },
  {
   "cell_type": "markdown",
   "id": "6212d557-a5da-4da5-997a-3edbcec94f63",
   "metadata": {},
   "source": [
    "## Aufgabe 3"
   ]
  },
  {
   "cell_type": "markdown",
   "id": "4742c81f-b766-4bfe-9a1c-2e6ce299f309",
   "metadata": {},
   "source": [
    "## Aufgabe 4"
   ]
  }
 ],
 "metadata": {
  "kernelspec": {
   "display_name": "Python 3 (ipykernel)",
   "language": "python",
   "name": "python3"
  },
  "language_info": {
   "codemirror_mode": {
    "name": "ipython",
    "version": 3
   },
   "file_extension": ".py",
   "mimetype": "text/x-python",
   "name": "python",
   "nbconvert_exporter": "python",
   "pygments_lexer": "ipython3",
   "version": "3.10.9"
  }
 },
 "nbformat": 4,
 "nbformat_minor": 5
}