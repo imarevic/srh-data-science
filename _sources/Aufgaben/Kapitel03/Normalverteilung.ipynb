{
 "cells": [
  {
   "cell_type": "code",
   "execution_count": 1,
   "id": "54dea57c-f61f-46bd-b177-ca92d75fda62",
   "metadata": {
    "tags": [
     "remove-cell"
    ]
   },
   "outputs": [
    {
     "name": "stdout",
     "output_type": "stream",
     "text": [
      "\n",
      "---------------------------------\n",
      "Working on the host: Joachims-MacBook-Pro.local\n",
      "\n",
      "---------------------------------\n",
      "Python version: 3.10.2 | packaged by conda-forge | (main, Feb  1 2022, 19:30:18) [Clang 11.1.0 ]\n",
      "\n",
      "---------------------------------\n",
      "Python interpreter: /opt/miniconda3/envs/srh/bin/python\n"
     ]
    }
   ],
   "source": [
    "%matplotlib inline\n",
    "# Load the \"autoreload\" extension\n",
    "%load_ext autoreload\n",
    "# always reload modules\n",
    "%autoreload 2\n",
    "# black formatter for jupyter notebooks\n",
    "#%load_ext nb_black\n",
    "# black formatter for jupyter lab\n",
    "%load_ext lab_black\n",
    "\n",
    "%run ../../../src/notebook_env.py"
   ]
  },
  {
   "cell_type": "markdown",
   "id": "947ee4be-d97c-4bee-b72c-9d1640fa95bf",
   "metadata": {},
   "source": [
    "# Die Normalverteilung"
   ]
  },
  {
   "cell_type": "markdown",
   "id": "58c10ab8-e508-4773-b5c2-fbdae346c186",
   "metadata": {},
   "source": [
    "1. Welche Kenngrößen charakterisieren die Normalverteilung\n",
    "2. Was ist die Standardnormalverteilung und in welchem Bezug steht sie zur Normalverteilung?\n",
    "3. Generieren Sie $10.000$ Zufallswerte für die Normalverteilung mit Mittelwert $\\mu = 1$ und Standardabweichung $\\sigma = 3$, unter Verwendung der Funktion `np.random.normal(loc, scale, size)`, und stellen Sie das Ergebnis als Histogramm dar.\n",
    "4. Führen Sie eine $z$-Transformation für diese Werte durch und plotten Sie das Ergebnis."
   ]
  },
  {
   "cell_type": "markdown",
   "id": "b3db9901-926d-4457-871d-2252a94dee87",
   "metadata": {},
   "source": [
    "-------------------------------------------------------"
   ]
  },
  {
   "cell_type": "code",
   "execution_count": null,
   "id": "58fd6959-feff-4ae2-9eb2-40cb924c5382",
   "metadata": {},
   "outputs": [],
   "source": [
    "# Frage 3 ..."
   ]
  },
  {
   "cell_type": "code",
   "execution_count": null,
   "id": "0197a18b-2bbf-43aa-8e10-40a5caa4161e",
   "metadata": {},
   "outputs": [],
   "source": [
    "# Frage 4 ..."
   ]
  },
  {
   "cell_type": "markdown",
   "id": "1f245308-2ab4-4c8b-a399-4808dcbc96f5",
   "metadata": {},
   "source": [
    "## Lösungen"
   ]
  },
  {
   "cell_type": "markdown",
   "id": "3a672eb7-3f23-4fbe-bf7b-03987bc88c98",
   "metadata": {},
   "source": [
    "```{toggle}\n",
    "Die Normalverteilung wird durch ihren Mittelwert $\\mu$ und ihre Standardabweichung $\\sigma$ beschrieben. $X \\sim N( \\mu, \\sigma)$\n",
    "```"
   ]
  },
  {
   "cell_type": "markdown",
   "id": "a304c3c2-5fdf-4549-a9f9-775d73075e0e",
   "metadata": {},
   "source": [
    "```{toggle}\n",
    "Die Standardnormalverteilung ist die Normalverteilung mit Mittelwert $\\mu=0$ und Standardabweichung $\\sigma=1$. Sie entspricht also der Normalverteilung mit $X \\sim N( 0, 1)$. Durch die Anwendung der $z$-Transformation $z = \\frac{x-\\mu}{\\sigma}$ können beliebige Normalverteilungen auf die Standardnormalverteilung abgebildet werden.\n",
    "```"
   ]
  },
  {
   "cell_type": "code",
   "execution_count": 8,
   "id": "790d69ba-2a64-4028-853a-865270bed4aa",
   "metadata": {
    "tags": [
     "hide-cell"
    ]
   },
   "outputs": [
    {
     "data": {
      "image/png": "[encoded data removed]",
      "text/plain": [
       "<Figure size 864x432 with 1 Axes>"
      ]
     },
     "metadata": {
      "needs_background": "light"
     },
     "output_type": "display_data"
    }
   ],
   "source": [
    "import numpy as np\n",
    "import matplotlib.pyplot as plt\n",
    "\n",
    "loc = 2\n",
    "scale = 3\n",
    "size = 10000\n",
    "\n",
    "data = np.random.normal(loc=loc, scale=scale, size=size)\n",
    "x = np.linspace(-20, 20, size)\n",
    "\n",
    "fig, ax = plt.subplots()\n",
    "ax.hist(data, bins=100)\n",
    "ax.set_xlim(-20, 20)\n",
    "plt.show()"
   ]
  },
  {
   "cell_type": "code",
   "execution_count": 10,
   "id": "c169809e-5f95-4493-8000-b812af80c19d",
   "metadata": {
    "tags": [
     "hide-cell"
    ]
   },
   "outputs": [
    {
     "data": {
      "image/png": "[encoded data removed]",
      "text/plain": [
       "<Figure size 864x432 with 1 Axes>"
      ]
     },
     "metadata": {
      "needs_background": "light"
     },
     "output_type": "display_data"
    }
   ],
   "source": [
    "z = (data - np.mean(data)) / np.std(data)\n",
    "fig, ax = plt.subplots()\n",
    "ax.hist(z, bins=100)\n",
    "ax.set_xlim(-20, 20)\n",
    "plt.show()"
   ]
  }
 ],
 "metadata": {
  "kernelspec": {
   "display_name": "Python 3 (ipykernel)",
   "language": "python",
   "name": "python3"
  },
  "language_info": {
   "codemirror_mode": {
    "name": "ipython",
    "version": 3
   },
   "file_extension": ".py",
   "mimetype": "text/x-python",
   "name": "python",
   "nbconvert_exporter": "python",
   "pygments_lexer": "ipython3",
   "version": "3.10.2"
  }
 },
 "nbformat": 4,
 "nbformat_minor": 5
}
