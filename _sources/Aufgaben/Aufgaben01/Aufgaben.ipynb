{
 "cells": [
  {
   "cell_type": "markdown",
   "id": "a2e0e45e-1b51-49a2-b2bd-8f303ab1232e",
   "metadata": {},
   "source": [
    "# Übungsaufgaben"
   ]
  },
  {
   "cell_type": "markdown",
   "id": "22820397-f5d9-4cb3-b511-515c2ad488b1",
   "metadata": {},
   "source": [
    "* ABC\n",
    "* DEF"
   ]
  },
  {
   "cell_type": "code",
   "execution_count": null,
   "id": "411ca15c-3c4a-489e-befe-bda76838d6e2",
   "metadata": {},
   "outputs": [],
   "source": []
  }
 ],
 "metadata": {
  "kernelspec": {
   "display_name": "Python 3 (ipykernel)",
   "language": "python",
   "name": "python3"
  },
  "language_info": {
   "codemirror_mode": {
    "name": "ipython",
    "version": 3
   },
   "file_extension": ".py",
   "mimetype": "text/x-python",
   "name": "python",
   "nbconvert_exporter": "python",
   "pygments_lexer": "ipython3",
   "version": "3.10.2"
  }
 },
 "nbformat": 4,
 "nbformat_minor": 5
}
