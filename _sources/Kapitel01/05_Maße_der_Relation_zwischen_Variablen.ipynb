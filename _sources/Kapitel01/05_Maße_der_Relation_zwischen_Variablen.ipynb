{
 "cells": [
  {
   "cell_type": "code",
   "execution_count": 1,
   "id": "cbfb2b9c-d3c1-4b7c-b404-a909240d6505",
   "metadata": {
    "tags": [
     "remove-cell"
    ]
   },
   "outputs": [
    {
     "name": "stdout",
     "output_type": "stream",
     "text": [
      "\n",
      "---------------------------------\n",
      "Working on the host: Joachims-MacBook-Pro.local\n",
      "\n",
      "---------------------------------\n",
      "Python version: 3.10.2 | packaged by conda-forge | (main, Feb  1 2022, 19:30:18) [Clang 11.1.0 ]\n",
      "\n",
      "---------------------------------\n",
      "Python interpreter: /opt/miniconda3/envs/srh/bin/python\n"
     ]
    }
   ],
   "source": [
    "%matplotlib inline\n",
    "# Load the \"autoreload\" extension\n",
    "%load_ext autoreload\n",
    "# always reload modules\n",
    "%autoreload 2\n",
    "# black formatter for jupyter notebooks\n",
    "#%load_ext nb_black\n",
    "# black formatter for jupyter lab\n",
    "%load_ext lab_black\n",
    "\n",
    "%run ../../src/notebook_env.py"
   ]
  },
  {
   "cell_type": "markdown",
   "id": "be161b80-e52b-4094-b863-07472c4b8061",
   "metadata": {},
   "source": [
    "# Maße für die Relation zwischen Variablen"
   ]
  },
  {
   "cell_type": "code",
   "execution_count": 2,
   "id": "7c213008-74ad-480d-a507-a85e6754c5ce",
   "metadata": {},
   "outputs": [],
   "source": [
    "import matplotlib.pyplot as plt\n",
    "import numpy as np\n",
    "import pandas as pd\n",
    "import seaborn as sns"
   ]
  },
  {
   "cell_type": "markdown",
   "id": "1f3853af-ec14-483b-84b1-eef96c4bad9f",
   "metadata": {
    "tags": []
   },
   "source": [
    "In den vorangegangenen Abschnitten haben wir uns hauptsächlich auf eine einzelne Variable, die Beschreibung einer Verteilung und die Berechnung von zusammenfassenden Statistiken konzentriert. Statistiken, die eine einzelne Variable beschreiben, werden als <a href=\"https://de.wikipedia.org/wiki/Univariat\">univariate Statistiken</a> bezeichnet. Untersucht man die Beziehung zwischen zwei Variablen, spricht man von <a href=\"https://de.wikipedia.org/wiki/Univariat#Verwendung_in_der_Mathematik\">bivariater Statistik</a>. Wenn die Beziehungen zwischen mehreren Variablen gleichzeitig untersucht werden, spricht man von <a href=\"https://de.wikipedia.org/wiki/Multivariate_Verfahren\">multivariaten Statistiken</a>. **Maße für die Relation** zwischen Variablen bieten die Möglichkeit, die Größe der Verknüpfung zwischen zwei Variablen zusammenzufassen."
   ]
  },
  {
   "cell_type": "markdown",
   "id": "5202e5fa-2317-4208-b13c-84f264c8ba40",
   "metadata": {},
   "source": [
    "## Kovarianz\n",
    "\n",
    "Die <a href=\"https://de.wikipedia.org/wiki/Kovarianz_(Stochastik)\">Kovarianz</a> ist ein Maß für die gemeinsame Variabilität von zwei Variablen. Die Kovarianz kann jeden Wert im Intervall $]-\\infty \\ $,$ \\ +\\infty[$ annehmen.\n",
    "\n",
    "Die Kovarianz ist positiv, wenn die größeren/kleineren Werte der einen Variablen hauptsächlich mit den größeren/kleineren Werten der anderen Variablen übereinstimmen. Die Kovarianz ist negativ, wenn die Variablen tendenziell ein entgegengesetztes Verhalten zeigen. Die Kovarianz ist negativ, wenn die größeren Werte der einen Variablen hauptsächlich mit den kleineren Werten der anderen Variablen übereinstimmen.\n",
    "\n",
    "Die Kovarianz, $s_{xy}$\n",
    "wird durch die folgende Gleichung berechnet"
   ]
  },
  {
   "cell_type": "markdown",
   "id": "e31f48b0-fd2f-4711-bf1d-4a4eff92bd8a",
   "metadata": {},
   "source": [
    "$$s_{xy} = \\frac{\\sum_{i=1}^n (x_i - \\bar{x})(y_i - \\bar{y})}{n-1}$$"
   ]
  },
  {
   "cell_type": "markdown",
   "id": "0775c410-734e-4d84-87a2-35b71a794bf2",
   "metadata": {},
   "source": [
    "Die **normalisierte Version der Kovarianz** wird **Korrelationskoeffizient** genannt, dessen Größe die Stärke einer linearen Beziehung zwischen zwei Variablen angibt."
   ]
  },
  {
   "cell_type": "markdown",
   "id": "4146e5b1-2e54-4828-a468-92ac0b9dab61",
   "metadata": {
    "tags": []
   },
   "source": [
    "## Korrelation"
   ]
  },
  {
   "cell_type": "markdown",
   "id": "111689b9-ce6e-4028-8a33-40466f9688e6",
   "metadata": {},
   "source": [
    "### Pearson-Produkt-Moment-Korrelationskoeffizient"
   ]
  },
  {
   "cell_type": "markdown",
   "id": "0a1a8330-3a26-470e-91e8-6580a4fbe779",
   "metadata": {},
   "source": [
    "Die Korrelation ist eine weit verbreitete Methode zur Untersuchung der Beziehung zwischen **quantitativen Variablen**. Die am häufigsten verwendete Statistik ist der **lineare Korrelationskoeffizient** $r$, der zu Ehren seines Entwicklers, <a href=\"https://de.wikipedia.org/wiki/Karl_Pearson\">Karl Pearson</a>, auch als <a href=\"https://de.wikipedia.org/wiki/Korrelationskoeffizient\">Pearson-Produkt-Moment-Korrelationskoeffizient</a> bekannt ist. Er ist gegeben durch"
   ]
  },
  {
   "cell_type": "markdown",
   "id": "1afc2294-f1ad-4eab-84da-0e8117f2e068",
   "metadata": {},
   "source": [
    "$$ r = \\frac{\\sum_{i=1}^n (x_i - \\bar{x})(y_i - \\bar{y})}{\\sqrt{\\sum_{i=1}^n (x_i - \\bar{x})^2} \\sqrt{ \\sum_{i=1}^n (y_i - \\bar{y})^2}} = \\frac{s_{xy}}{s_x s_y}$$"
   ]
  },
  {
   "cell_type": "markdown",
   "id": "3cbfe7a5-2cc8-4f26-a676-5b486fca5972",
   "metadata": {},
   "source": [
    "wobei $s_{xy}$ die Kovarianz von $x$ und $y$ und $s_x$ und $s_y$ die Standardabweichung von $x$ bzw. $y$ sind. Durch Division durch die Standardabweichungen der Stichprobe, $s_x$ und $s_y$, wird der lineare Korrelationskoeffizient, $r$, skalenunabhängig und nimmt Werte zwischen $-1$ und $1$ an."
   ]
  },
  {
   "cell_type": "markdown",
   "id": "f715682b-6a26-4418-960d-1a669930ca12",
   "metadata": {},
   "source": [
    "Der lineare Korrelationskoeffizient misst die Stärke der linearen Beziehung zwischen zwei Variablen. Liegt $r$ nahe bei $\\pm 1$, sind die beiden Variablen stark korreliert, und in einem Streudiagramm liegen die Datenpunkte um eine Linie herum. Liegt $r$ weit von $\\pm 1$ entfernt, sind die Datenpunkte weiter gestreut. Liegt $r$ nahe bei $0$, sind die Datenpunkte im Wesentlichen um eine horizontale Linie gestreut, was darauf hindeutet, dass es fast keine lineare Beziehung zwischen den Variablen gibt."
   ]
  },
  {
   "cell_type": "markdown",
   "id": "977881a6-fe62-4b7d-abd5-b02390f50943",
   "metadata": {},
   "source": [
    "![Alt-Text](_img/pearson.png)"
   ]
  },
  {
   "cell_type": "markdown",
   "id": "7331ba2a-b247-483c-8d4a-6a4b57fce2ab",
   "metadata": {},
   "source": [
    "Eine interessante Eigenschaft von $r$ ist, dass sein Vorzeichen die Steigung der linearen Beziehung zwischen zwei Variablen widerspiegelt. Ein positiver Wert von $r$ deutet darauf hin, dass die Variablen **positiv linear korreliert** sind, was bedeutet, dass $y$ tendenziell linear zunimmt, wenn $x$ zunimmt. Ein negativer Wert von $r$ deutet darauf hin, dass die Variablen **negativ linear korreliert** sind, was bedeutet, dass $y$ tendenziell linear abnimmt, wenn $x$ zunimmt.\n",
    "\n",
    "Es gibt keine eindeutige Klassifizierungsregel für die Größe einer linearen Beziehung zwischen zwei Variablen. Die folgende Tabelle kann jedoch als Faustregel für den Umgang mit den numerischen Werten des Pearson-Produkt-Moment-Korrelationskoeffizienten dienen."
   ]
  },
  {
   "cell_type": "markdown",
   "id": "7308068d-e82d-4777-a683-a4d6f792e2b3",
   "metadata": {},
   "source": [
    "|||\n",
    "|---|---|\n",
    "|starke lineare Korrelation|$r > 0,9$|\n",
    "|mittlere lineare Korrelation|$0,7 < r \\le 0,9$|\n",
    "|schwache lineare Korrelation|$0,5 < r \\le 0,7$|\n",
    "|keine oder zweifelhafte lineare Korrelation|$0 < r \\le 0,5$|"
   ]
  },
  {
   "cell_type": "markdown",
   "id": "96dbc6c0-4010-4a31-a4bb-4ac7b2002d4c",
   "metadata": {},
   "source": [
    "Die Pearson-Korrelation setzt voraus, dass die Variablen annähernd normalverteilt sind, und sie ist bei Vorhandensein von Ausreißern nicht robust.\n",
    "\n",
    "In einem späteren Abschnitt über lineare Regression wird das Bestimmtheitsmaß, $R^2$\n",
    "ein anschauliches Maß für die Qualität von linearen Modellen. Es besteht eine enge Beziehung zwischen $R^2$ und dem linearen Korrelationskoeffizienten $r$. Das Bestimmtheitsmaß $R^2$ ist gleich dem Quadrat des linearen Korrelationskoeffizienten $r$."
   ]
  },
  {
   "cell_type": "markdown",
   "id": "f8e0552c-c2f3-4f55-97d8-664f48051f69",
   "metadata": {},
   "source": [
    "$$\\text{Determinationskoeffizient} (R^2) = r^2$$"
   ]
  },
  {
   "cell_type": "markdown",
   "id": "e3c07922-9459-42c6-9271-1c515c8825f5",
   "metadata": {},
   "source": [
    "### Korrelationskoeffizient nach Pearson: Ein Beispiel"
   ]
  },
  {
   "cell_type": "markdown",
   "id": "e9332330-78b3-4106-906a-ecd0ffb6886c",
   "metadata": {},
   "source": [
    "Um ein Gefühl dafür zu bekommen, berechnen wir den Pearson-Produkt-Moment-Korrelationskoeffizienten in einem Beispiel. Dazu laden wir den `students` Datensatz in unseren Arbeitsbereich (Sie können die Datei `students.csv` <a href=\"https://userpage.fu-berlin.de/soga/200/2010_data_sets/students.csv\">hier</a> herunterladen)."
   ]
  },
  {
   "cell_type": "code",
   "execution_count": 3,
   "id": "05947ba4-c3f8-48c5-8c19-8b6521d46949",
   "metadata": {},
   "outputs": [],
   "source": [
    "# Einlesen der Daten als Dataframe\n",
    "students = pd.read_csv(\"../../data/students.csv\", index_col=0)"
   ]
  },
  {
   "cell_type": "markdown",
   "id": "21af96c2-dd53-4402-8bff-2295819334a5",
   "metadata": {},
   "source": [
    "Der `students` Datensatz besteht aus $8239$ Zeilen, von denen jede einen bestimmten Studenten repräsentiert, und $16$ Spalten, von denen jede einer Variable/einem Merkmal entspricht, das sich auf diesen bestimmten Studenten bezieht. Diese selbsterklärenden Variablen sind: *stud_id, name, gender, age, height, weight, religion, nc_score, semester, major, minor, score1, score2, online_tutorial, graduated, salary*.\n",
    "\n",
    "In diesem Beispiel wird **die lineare Beziehung zwischen dem Gewicht und der Größe der Studenten** untersucht. Dazu wählen wir zufällig $37$ Studenten aus und extrahieren die Variablen `height` und `weight` aus dem Datensatz."
   ]
  },
  {
   "cell_type": "code",
   "execution_count": 4,
   "id": "f4be4038-dca0-4db6-aca0-35798d48800f",
   "metadata": {},
   "outputs": [],
   "source": [
    "# Wähle zufällige Stichprobe n=37 aus ohne doppelt auszuwählen\n",
    "students_sample = students.sample(37, replace=False, random_state=1)\n",
    "\n",
    "# Lese height und weight der Probe aus dem dataframe in Listen ein\n",
    "height_sample = students_sample[\"height\"]\n",
    "weight_sample = students_sample[\"weight\"]"
   ]
  },
  {
   "cell_type": "code",
   "execution_count": 5,
   "id": "3846805c-8ecd-4233-ac99-735813c7416b",
   "metadata": {},
   "outputs": [
    {
     "data": {
      "image/png": "[encoded data removed]",
      "text/plain": [
       "<Figure size 864x432 with 1 Axes>"
      ]
     },
     "metadata": {
      "needs_background": "light"
     },
     "output_type": "display_data"
    }
   ],
   "source": [
    "plt.scatter(height_sample, weight_sample, marker=\"o\")\n",
    "plt.xlabel(\"Körpergrösse\")\n",
    "plt.ylabel(\"Gewicht\")\n",
    "plt.show()"
   ]
  },
  {
   "cell_type": "markdown",
   "id": "ab6609a5-9d85-4ce5-9ff7-030083b858ae",
   "metadata": {},
   "source": [
    "Das Streudiagramm zeigt, dass eine lineare Beziehung zwischen den beiden betrachteten Variablen besteht. Für diese Übung berechnen wir den linearen Korrelationskoeffizienten zunächst von Hand und wenden dann die `np.corrcoef()`-Funktion in Python an. Wir erinnern uns an die Gleichung von oben"
   ]
  },
  {
   "cell_type": "markdown",
   "id": "7c77427f-fe7c-4f56-8dd8-2d066a2b44af",
   "metadata": {},
   "source": [
    "$$ r = \\frac{\\sum_{i=1}^n (x_i - \\bar{x})(y_i - \\bar{y})}{\\sqrt{\\sum_{i=1}^n (x_i - \\bar{x})^2} \\sqrt{ \\sum_{i=1}^n (y_i - \\bar{y})^2}} = \\frac{s_{xy}}{s_x s_y}$$"
   ]
  },
  {
   "cell_type": "code",
   "execution_count": 6,
   "id": "0ab30262-098e-4427-9b05-67a60bcf9164",
   "metadata": {},
   "outputs": [
    {
     "data": {
      "text/plain": [
       "0.9295600715108283"
      ]
     },
     "execution_count": 6,
     "metadata": {},
     "output_type": "execute_result"
    }
   ],
   "source": [
    "s_xy = sum(\n",
    "    (height_sample - height_sample.mean()) * (weight_sample - weight_sample.mean())\n",
    ")\n",
    "sx_sy = np.sqrt(sum((height_sample - height_sample.mean()) ** 2)) * np.sqrt(\n",
    "    sum((weight_sample - weight_sample.mean()) ** 2)\n",
    ")\n",
    "\n",
    "s_xy / sx_sy"
   ]
  },
  {
   "cell_type": "markdown",
   "id": "ee26573a-912d-420c-8da6-eb7ba2118072",
   "metadata": {},
   "source": [
    "Zur Überprüfung des Ergebnisses berechnen wir das Verhältnis der Kovarianz von $x$ und $y$ und die Standardabweichung von $x$ und $y$."
   ]
  },
  {
   "cell_type": "markdown",
   "id": "4e26fbc4-b27f-44e6-bada-5414d1380878",
   "metadata": {},
   "source": [
    "$$ r = \\frac{s_{xy}}{s_x s_y} $$"
   ]
  },
  {
   "cell_type": "code",
   "execution_count": 7,
   "id": "18d7258e-7a61-4cf8-b97c-49507ca2e0a8",
   "metadata": {},
   "outputs": [
    {
     "data": {
      "text/plain": [
       "0.9295600715108282"
      ]
     },
     "execution_count": 7,
     "metadata": {},
     "output_type": "execute_result"
    }
   ],
   "source": [
    "# Berechne Kovarianz zwischen height_sample und weight_sample\n",
    "s_xy = np.cov(height_sample, weight_sample)[0, 1]\n",
    "\n",
    "# Berechne Standardabweichung für height_sample und weight_sample\n",
    "std_height_sample = np.std(height_sample, ddof=1)\n",
    "std_weight_sample = np.std(weight_sample, ddof=1)\n",
    "\n",
    "# Berechne Pearsonkorrelationskoeffizienten\n",
    "s_xy / (std_height_sample * std_weight_sample)"
   ]
  },
  {
   "cell_type": "markdown",
   "id": "ed9b4732-b599-42d2-817d-86340682e205",
   "metadata": {},
   "source": [
    "Zum Schluss wenden wir die Funktion `np.corrcoef` an, die im `numpy` Modul enthalten ist."
   ]
  },
  {
   "cell_type": "code",
   "execution_count": 8,
   "id": "fab6655c-d521-442a-9b1b-bce8a6eaa38d",
   "metadata": {},
   "outputs": [
    {
     "data": {
      "text/plain": [
       "0.9295600715108282"
      ]
     },
     "execution_count": 8,
     "metadata": {},
     "output_type": "execute_result"
    }
   ],
   "source": [
    "np.corrcoef(weight_sample, height_sample)[0, 1]"
   ]
  },
  {
   "cell_type": "markdown",
   "id": "8d8ae797-4098-408f-83e1-720fc6be393f",
   "metadata": {},
   "source": [
    "Perfekt! Die vier Berechnungen ergeben genau das gleiche Ergebnis! Der lineare Korrelationskoeffizient beträgt $r=0,9296$. Daraus können wir schließen, dass es einen starken linearen Zusammenhang zwischen der Größe und dem Gewicht eines Studenten gibt."
   ]
  },
  {
   "cell_type": "markdown",
   "id": "49b5efcb-13c1-4295-afaf-57a67c623c6b",
   "metadata": {},
   "source": [
    "Natürlich ist eine Korrelationsanalyse nicht auf zwei Variablen beschränkt. Dank statistischer Softwarepakete, wie Python, können wir eine paarweise Korrelationsanalyse für mehr als zwei Variablen durchführen. Lassen Sie uns zunächst den Datensatz vorbereiten. Für eine bessere Visualisierung ziehen wir $100$ zufällig ausgewählte Studenten aus dem `students` Datensatz. Dann wählen wir eine numerische Variablen aus, um eine Korrelationsanalyse durchzuführen."
   ]
  },
  {
   "cell_type": "code",
   "execution_count": 9,
   "id": "48de323d-6109-40eb-93ee-087a35aca8f4",
   "metadata": {
    "tags": []
   },
   "outputs": [
    {
     "data": {
      "text/html": [
       "<div>\n",
       "<style scoped>\n",
       "    .dataframe tbody tr th:only-of-type {\n",
       "        vertical-align: middle;\n",
       "    }\n",
       "\n",
       "    .dataframe tbody tr th {\n",
       "        vertical-align: top;\n",
       "    }\n",
       "\n",
       "    .dataframe thead th {\n",
       "        text-align: right;\n",
       "    }\n",
       "</style>\n",
       "<table border=\"1\" class=\"dataframe\">\n",
       "  <thead>\n",
       "    <tr style=\"text-align: right;\">\n",
       "      <th></th>\n",
       "      <th>age</th>\n",
       "      <th>height</th>\n",
       "      <th>weight</th>\n",
       "      <th>nc_score</th>\n",
       "      <th>score1</th>\n",
       "      <th>score2</th>\n",
       "      <th>online_tutorial</th>\n",
       "      <th>graduated</th>\n",
       "      <th>salary</th>\n",
       "    </tr>\n",
       "    <tr>\n",
       "      <th>stud_id</th>\n",
       "      <th></th>\n",
       "      <th></th>\n",
       "      <th></th>\n",
       "      <th></th>\n",
       "      <th></th>\n",
       "      <th></th>\n",
       "      <th></th>\n",
       "      <th></th>\n",
       "      <th></th>\n",
       "    </tr>\n",
       "  </thead>\n",
       "  <tbody>\n",
       "    <tr>\n",
       "      <th>214140</th>\n",
       "      <td>19</td>\n",
       "      <td>178</td>\n",
       "      <td>79.3</td>\n",
       "      <td>1.66</td>\n",
       "      <td>NaN</td>\n",
       "      <td>NaN</td>\n",
       "      <td>0</td>\n",
       "      <td>0</td>\n",
       "      <td>NaN</td>\n",
       "    </tr>\n",
       "    <tr>\n",
       "      <th>523713</th>\n",
       "      <td>21</td>\n",
       "      <td>194</td>\n",
       "      <td>91.5</td>\n",
       "      <td>1.62</td>\n",
       "      <td>NaN</td>\n",
       "      <td>NaN</td>\n",
       "      <td>0</td>\n",
       "      <td>0</td>\n",
       "      <td>NaN</td>\n",
       "    </tr>\n",
       "    <tr>\n",
       "      <th>870225</th>\n",
       "      <td>21</td>\n",
       "      <td>162</td>\n",
       "      <td>63.5</td>\n",
       "      <td>3.32</td>\n",
       "      <td>70.0</td>\n",
       "      <td>82.0</td>\n",
       "      <td>1</td>\n",
       "      <td>0</td>\n",
       "      <td>NaN</td>\n",
       "    </tr>\n",
       "    <tr>\n",
       "      <th>519478</th>\n",
       "      <td>20</td>\n",
       "      <td>168</td>\n",
       "      <td>69.6</td>\n",
       "      <td>2.12</td>\n",
       "      <td>71.0</td>\n",
       "      <td>72.0</td>\n",
       "      <td>1</td>\n",
       "      <td>1</td>\n",
       "      <td>34979.14</td>\n",
       "    </tr>\n",
       "    <tr>\n",
       "      <th>643038</th>\n",
       "      <td>24</td>\n",
       "      <td>184</td>\n",
       "      <td>85.1</td>\n",
       "      <td>3.42</td>\n",
       "      <td>71.0</td>\n",
       "      <td>77.0</td>\n",
       "      <td>1</td>\n",
       "      <td>1</td>\n",
       "      <td>41028.24</td>\n",
       "    </tr>\n",
       "    <tr>\n",
       "      <th>681278</th>\n",
       "      <td>21</td>\n",
       "      <td>158</td>\n",
       "      <td>60.8</td>\n",
       "      <td>1.03</td>\n",
       "      <td>55.0</td>\n",
       "      <td>52.0</td>\n",
       "      <td>1</td>\n",
       "      <td>0</td>\n",
       "      <td>NaN</td>\n",
       "    </tr>\n",
       "    <tr>\n",
       "      <th>515357</th>\n",
       "      <td>43</td>\n",
       "      <td>161</td>\n",
       "      <td>68.1</td>\n",
       "      <td>3.38</td>\n",
       "      <td>77.0</td>\n",
       "      <td>86.0</td>\n",
       "      <td>1</td>\n",
       "      <td>0</td>\n",
       "      <td>NaN</td>\n",
       "    </tr>\n",
       "    <tr>\n",
       "      <th>648227</th>\n",
       "      <td>24</td>\n",
       "      <td>187</td>\n",
       "      <td>91.0</td>\n",
       "      <td>1.94</td>\n",
       "      <td>51.0</td>\n",
       "      <td>50.0</td>\n",
       "      <td>0</td>\n",
       "      <td>1</td>\n",
       "      <td>41601.20</td>\n",
       "    </tr>\n",
       "    <tr>\n",
       "      <th>127799</th>\n",
       "      <td>20</td>\n",
       "      <td>174</td>\n",
       "      <td>77.2</td>\n",
       "      <td>1.40</td>\n",
       "      <td>NaN</td>\n",
       "      <td>NaN</td>\n",
       "      <td>0</td>\n",
       "      <td>0</td>\n",
       "      <td>NaN</td>\n",
       "    </tr>\n",
       "    <tr>\n",
       "      <th>729441</th>\n",
       "      <td>34</td>\n",
       "      <td>167</td>\n",
       "      <td>70.4</td>\n",
       "      <td>1.13</td>\n",
       "      <td>60.0</td>\n",
       "      <td>57.0</td>\n",
       "      <td>1</td>\n",
       "      <td>1</td>\n",
       "      <td>33208.01</td>\n",
       "    </tr>\n",
       "  </tbody>\n",
       "</table>\n",
       "</div>"
      ],
      "text/plain": [
       "         age  height  weight  nc_score  score1  score2  online_tutorial  \\\n",
       "stud_id                                                                   \n",
       "214140    19     178    79.3      1.66     NaN     NaN                0   \n",
       "523713    21     194    91.5      1.62     NaN     NaN                0   \n",
       "870225    21     162    63.5      3.32    70.0    82.0                1   \n",
       "519478    20     168    69.6      2.12    71.0    72.0                1   \n",
       "643038    24     184    85.1      3.42    71.0    77.0                1   \n",
       "681278    21     158    60.8      1.03    55.0    52.0                1   \n",
       "515357    43     161    68.1      3.38    77.0    86.0                1   \n",
       "648227    24     187    91.0      1.94    51.0    50.0                0   \n",
       "127799    20     174    77.2      1.40     NaN     NaN                0   \n",
       "729441    34     167    70.4      1.13    60.0    57.0                1   \n",
       "\n",
       "         graduated    salary  \n",
       "stud_id                       \n",
       "214140           0       NaN  \n",
       "523713           0       NaN  \n",
       "870225           0       NaN  \n",
       "519478           1  34979.14  \n",
       "643038           1  41028.24  \n",
       "681278           0       NaN  \n",
       "515357           0       NaN  \n",
       "648227           1  41601.20  \n",
       "127799           0       NaN  \n",
       "729441           1  33208.01  "
      ]
     },
     "execution_count": 9,
     "metadata": {},
     "output_type": "execute_result"
    }
   ],
   "source": [
    "# Wähle zufällige Stichprobe n=100 aus ohne Zurücklegen auszuwählen\n",
    "students_sample = students.sample(100, replace=False, random_state=42)\n",
    "# Wähle nur numerische Variablen aus\n",
    "students_sample = students_sample.select_dtypes(\"number\")\n",
    "\n",
    "students_sample.sample(10)"
   ]
  },
  {
   "cell_type": "markdown",
   "id": "006110e9-bb08-4465-a7fc-f17340a65e49",
   "metadata": {},
   "source": [
    "Offensichtlich enthalten einige Variablen fehlende Werte, die als $NaN$ bezeichnet werden. Wir können diese Werte aus der Analyse ausschließen, indem wir die Methode `dropna()` hinzufügen."
   ]
  },
  {
   "cell_type": "code",
   "execution_count": 10,
   "id": "bb50a824-329c-4358-bf47-cdf94f90bc8e",
   "metadata": {},
   "outputs": [
    {
     "data": {
      "text/html": [
       "<div>\n",
       "<style scoped>\n",
       "    .dataframe tbody tr th:only-of-type {\n",
       "        vertical-align: middle;\n",
       "    }\n",
       "\n",
       "    .dataframe tbody tr th {\n",
       "        vertical-align: top;\n",
       "    }\n",
       "\n",
       "    .dataframe thead th {\n",
       "        text-align: right;\n",
       "    }\n",
       "</style>\n",
       "<table border=\"1\" class=\"dataframe\">\n",
       "  <thead>\n",
       "    <tr style=\"text-align: right;\">\n",
       "      <th></th>\n",
       "      <th>age</th>\n",
       "      <th>height</th>\n",
       "      <th>weight</th>\n",
       "      <th>nc_score</th>\n",
       "      <th>score1</th>\n",
       "      <th>score2</th>\n",
       "      <th>online_tutorial</th>\n",
       "      <th>graduated</th>\n",
       "      <th>salary</th>\n",
       "    </tr>\n",
       "    <tr>\n",
       "      <th>stud_id</th>\n",
       "      <th></th>\n",
       "      <th></th>\n",
       "      <th></th>\n",
       "      <th></th>\n",
       "      <th></th>\n",
       "      <th></th>\n",
       "      <th></th>\n",
       "      <th></th>\n",
       "      <th></th>\n",
       "    </tr>\n",
       "  </thead>\n",
       "  <tbody>\n",
       "    <tr>\n",
       "      <th>462072</th>\n",
       "      <td>23</td>\n",
       "      <td>172</td>\n",
       "      <td>76.5</td>\n",
       "      <td>1.25</td>\n",
       "      <td>64.0</td>\n",
       "      <td>68.0</td>\n",
       "      <td>0</td>\n",
       "      <td>1</td>\n",
       "      <td>47556.44</td>\n",
       "    </tr>\n",
       "    <tr>\n",
       "      <th>679734</th>\n",
       "      <td>19</td>\n",
       "      <td>173</td>\n",
       "      <td>70.5</td>\n",
       "      <td>1.86</td>\n",
       "      <td>69.0</td>\n",
       "      <td>76.0</td>\n",
       "      <td>1</td>\n",
       "      <td>1</td>\n",
       "      <td>43441.64</td>\n",
       "    </tr>\n",
       "    <tr>\n",
       "      <th>834001</th>\n",
       "      <td>21</td>\n",
       "      <td>144</td>\n",
       "      <td>55.0</td>\n",
       "      <td>3.42</td>\n",
       "      <td>49.0</td>\n",
       "      <td>57.0</td>\n",
       "      <td>1</td>\n",
       "      <td>1</td>\n",
       "      <td>33726.58</td>\n",
       "    </tr>\n",
       "    <tr>\n",
       "      <th>725752</th>\n",
       "      <td>21</td>\n",
       "      <td>188</td>\n",
       "      <td>86.9</td>\n",
       "      <td>1.98</td>\n",
       "      <td>60.0</td>\n",
       "      <td>46.0</td>\n",
       "      <td>0</td>\n",
       "      <td>1</td>\n",
       "      <td>61663.58</td>\n",
       "    </tr>\n",
       "    <tr>\n",
       "      <th>759837</th>\n",
       "      <td>20</td>\n",
       "      <td>172</td>\n",
       "      <td>70.9</td>\n",
       "      <td>1.95</td>\n",
       "      <td>44.0</td>\n",
       "      <td>46.0</td>\n",
       "      <td>1</td>\n",
       "      <td>1</td>\n",
       "      <td>21582.80</td>\n",
       "    </tr>\n",
       "    <tr>\n",
       "      <th>519478</th>\n",
       "      <td>20</td>\n",
       "      <td>168</td>\n",
       "      <td>69.6</td>\n",
       "      <td>2.12</td>\n",
       "      <td>71.0</td>\n",
       "      <td>72.0</td>\n",
       "      <td>1</td>\n",
       "      <td>1</td>\n",
       "      <td>34979.14</td>\n",
       "    </tr>\n",
       "    <tr>\n",
       "      <th>163772</th>\n",
       "      <td>23</td>\n",
       "      <td>163</td>\n",
       "      <td>65.4</td>\n",
       "      <td>1.90</td>\n",
       "      <td>76.0</td>\n",
       "      <td>67.0</td>\n",
       "      <td>0</td>\n",
       "      <td>1</td>\n",
       "      <td>28235.06</td>\n",
       "    </tr>\n",
       "    <tr>\n",
       "      <th>225865</th>\n",
       "      <td>20</td>\n",
       "      <td>177</td>\n",
       "      <td>75.4</td>\n",
       "      <td>2.11</td>\n",
       "      <td>72.0</td>\n",
       "      <td>70.0</td>\n",
       "      <td>1</td>\n",
       "      <td>1</td>\n",
       "      <td>50078.33</td>\n",
       "    </tr>\n",
       "    <tr>\n",
       "      <th>112287</th>\n",
       "      <td>19</td>\n",
       "      <td>176</td>\n",
       "      <td>76.1</td>\n",
       "      <td>2.68</td>\n",
       "      <td>52.0</td>\n",
       "      <td>55.0</td>\n",
       "      <td>0</td>\n",
       "      <td>1</td>\n",
       "      <td>46075.27</td>\n",
       "    </tr>\n",
       "    <tr>\n",
       "      <th>768607</th>\n",
       "      <td>22</td>\n",
       "      <td>192</td>\n",
       "      <td>86.1</td>\n",
       "      <td>1.41</td>\n",
       "      <td>68.0</td>\n",
       "      <td>71.0</td>\n",
       "      <td>1</td>\n",
       "      <td>1</td>\n",
       "      <td>36291.58</td>\n",
       "    </tr>\n",
       "  </tbody>\n",
       "</table>\n",
       "</div>"
      ],
      "text/plain": [
       "         age  height  weight  nc_score  score1  score2  online_tutorial  \\\n",
       "stud_id                                                                   \n",
       "462072    23     172    76.5      1.25    64.0    68.0                0   \n",
       "679734    19     173    70.5      1.86    69.0    76.0                1   \n",
       "834001    21     144    55.0      3.42    49.0    57.0                1   \n",
       "725752    21     188    86.9      1.98    60.0    46.0                0   \n",
       "759837    20     172    70.9      1.95    44.0    46.0                1   \n",
       "519478    20     168    69.6      2.12    71.0    72.0                1   \n",
       "163772    23     163    65.4      1.90    76.0    67.0                0   \n",
       "225865    20     177    75.4      2.11    72.0    70.0                1   \n",
       "112287    19     176    76.1      2.68    52.0    55.0                0   \n",
       "768607    22     192    86.1      1.41    68.0    71.0                1   \n",
       "\n",
       "         graduated    salary  \n",
       "stud_id                       \n",
       "462072           1  47556.44  \n",
       "679734           1  43441.64  \n",
       "834001           1  33726.58  \n",
       "725752           1  61663.58  \n",
       "759837           1  21582.80  \n",
       "519478           1  34979.14  \n",
       "163772           1  28235.06  \n",
       "225865           1  50078.33  \n",
       "112287           1  46075.27  \n",
       "768607           1  36291.58  "
      ]
     },
     "execution_count": 10,
     "metadata": {},
     "output_type": "execute_result"
    }
   ],
   "source": [
    "# Entferne Spalten die NaN enthalten\n",
    "students_sample_clean = students_sample.dropna(axis=0, how=\"any\")\n",
    "students_sample_clean.sample(10)"
   ]
  },
  {
   "cell_type": "markdown",
   "id": "8009ee55-7bf2-41c1-a529-147351619d76",
   "metadata": {},
   "source": [
    "Die Methode `corr()` liefert eine schöne Tabelle, auch **Korrelationsmatrix** genannt, mit den paarweisen Pearsonschen Korrelationskoeffizienten. "
   ]
  },
  {
   "cell_type": "code",
   "execution_count": 11,
   "id": "a0b8cfee-c49c-4fff-84c8-34d41c7f6317",
   "metadata": {},
   "outputs": [
    {
     "data": {
      "text/html": [
       "<div>\n",
       "<style scoped>\n",
       "    .dataframe tbody tr th:only-of-type {\n",
       "        vertical-align: middle;\n",
       "    }\n",
       "\n",
       "    .dataframe tbody tr th {\n",
       "        vertical-align: top;\n",
       "    }\n",
       "\n",
       "    .dataframe thead th {\n",
       "        text-align: right;\n",
       "    }\n",
       "</style>\n",
       "<table border=\"1\" class=\"dataframe\">\n",
       "  <thead>\n",
       "    <tr style=\"text-align: right;\">\n",
       "      <th></th>\n",
       "      <th>age</th>\n",
       "      <th>height</th>\n",
       "      <th>weight</th>\n",
       "      <th>nc_score</th>\n",
       "      <th>score1</th>\n",
       "      <th>score2</th>\n",
       "      <th>online_tutorial</th>\n",
       "      <th>graduated</th>\n",
       "      <th>salary</th>\n",
       "    </tr>\n",
       "  </thead>\n",
       "  <tbody>\n",
       "    <tr>\n",
       "      <th>age</th>\n",
       "      <td>1.000000</td>\n",
       "      <td>-0.021219</td>\n",
       "      <td>0.046222</td>\n",
       "      <td>-0.277334</td>\n",
       "      <td>0.132991</td>\n",
       "      <td>0.073143</td>\n",
       "      <td>0.037136</td>\n",
       "      <td>NaN</td>\n",
       "      <td>-0.146958</td>\n",
       "    </tr>\n",
       "    <tr>\n",
       "      <th>height</th>\n",
       "      <td>-0.021219</td>\n",
       "      <td>1.000000</td>\n",
       "      <td>0.955495</td>\n",
       "      <td>-0.031163</td>\n",
       "      <td>-0.041360</td>\n",
       "      <td>-0.181769</td>\n",
       "      <td>-0.155009</td>\n",
       "      <td>NaN</td>\n",
       "      <td>0.467934</td>\n",
       "    </tr>\n",
       "    <tr>\n",
       "      <th>weight</th>\n",
       "      <td>0.046222</td>\n",
       "      <td>0.955495</td>\n",
       "      <td>1.000000</td>\n",
       "      <td>0.073386</td>\n",
       "      <td>-0.078268</td>\n",
       "      <td>-0.176928</td>\n",
       "      <td>-0.165820</td>\n",
       "      <td>NaN</td>\n",
       "      <td>0.473708</td>\n",
       "    </tr>\n",
       "    <tr>\n",
       "      <th>nc_score</th>\n",
       "      <td>-0.277334</td>\n",
       "      <td>-0.031163</td>\n",
       "      <td>0.073386</td>\n",
       "      <td>1.000000</td>\n",
       "      <td>-0.185161</td>\n",
       "      <td>-0.037330</td>\n",
       "      <td>-0.048404</td>\n",
       "      <td>NaN</td>\n",
       "      <td>0.037957</td>\n",
       "    </tr>\n",
       "    <tr>\n",
       "      <th>score1</th>\n",
       "      <td>0.132991</td>\n",
       "      <td>-0.041360</td>\n",
       "      <td>-0.078268</td>\n",
       "      <td>-0.185161</td>\n",
       "      <td>1.000000</td>\n",
       "      <td>0.860207</td>\n",
       "      <td>0.131912</td>\n",
       "      <td>NaN</td>\n",
       "      <td>0.165573</td>\n",
       "    </tr>\n",
       "    <tr>\n",
       "      <th>score2</th>\n",
       "      <td>0.073143</td>\n",
       "      <td>-0.181769</td>\n",
       "      <td>-0.176928</td>\n",
       "      <td>-0.037330</td>\n",
       "      <td>0.860207</td>\n",
       "      <td>1.000000</td>\n",
       "      <td>0.381767</td>\n",
       "      <td>NaN</td>\n",
       "      <td>-0.038099</td>\n",
       "    </tr>\n",
       "    <tr>\n",
       "      <th>online_tutorial</th>\n",
       "      <td>0.037136</td>\n",
       "      <td>-0.155009</td>\n",
       "      <td>-0.165820</td>\n",
       "      <td>-0.048404</td>\n",
       "      <td>0.131912</td>\n",
       "      <td>0.381767</td>\n",
       "      <td>1.000000</td>\n",
       "      <td>NaN</td>\n",
       "      <td>-0.325214</td>\n",
       "    </tr>\n",
       "    <tr>\n",
       "      <th>graduated</th>\n",
       "      <td>NaN</td>\n",
       "      <td>NaN</td>\n",
       "      <td>NaN</td>\n",
       "      <td>NaN</td>\n",
       "      <td>NaN</td>\n",
       "      <td>NaN</td>\n",
       "      <td>NaN</td>\n",
       "      <td>NaN</td>\n",
       "      <td>NaN</td>\n",
       "    </tr>\n",
       "    <tr>\n",
       "      <th>salary</th>\n",
       "      <td>-0.146958</td>\n",
       "      <td>0.467934</td>\n",
       "      <td>0.473708</td>\n",
       "      <td>0.037957</td>\n",
       "      <td>0.165573</td>\n",
       "      <td>-0.038099</td>\n",
       "      <td>-0.325214</td>\n",
       "      <td>NaN</td>\n",
       "      <td>1.000000</td>\n",
       "    </tr>\n",
       "  </tbody>\n",
       "</table>\n",
       "</div>"
      ],
      "text/plain": [
       "                      age    height    weight  nc_score    score1    score2  \\\n",
       "age              1.000000 -0.021219  0.046222 -0.277334  0.132991  0.073143   \n",
       "height          -0.021219  1.000000  0.955495 -0.031163 -0.041360 -0.181769   \n",
       "weight           0.046222  0.955495  1.000000  0.073386 -0.078268 -0.176928   \n",
       "nc_score        -0.277334 -0.031163  0.073386  1.000000 -0.185161 -0.037330   \n",
       "score1           0.132991 -0.041360 -0.078268 -0.185161  1.000000  0.860207   \n",
       "score2           0.073143 -0.181769 -0.176928 -0.037330  0.860207  1.000000   \n",
       "online_tutorial  0.037136 -0.155009 -0.165820 -0.048404  0.131912  0.381767   \n",
       "graduated             NaN       NaN       NaN       NaN       NaN       NaN   \n",
       "salary          -0.146958  0.467934  0.473708  0.037957  0.165573 -0.038099   \n",
       "\n",
       "                 online_tutorial  graduated    salary  \n",
       "age                     0.037136        NaN -0.146958  \n",
       "height                 -0.155009        NaN  0.467934  \n",
       "weight                 -0.165820        NaN  0.473708  \n",
       "nc_score               -0.048404        NaN  0.037957  \n",
       "score1                  0.131912        NaN  0.165573  \n",
       "score2                  0.381767        NaN -0.038099  \n",
       "online_tutorial         1.000000        NaN -0.325214  \n",
       "graduated                    NaN        NaN       NaN  \n",
       "salary                 -0.325214        NaN  1.000000  "
      ]
     },
     "execution_count": 11,
     "metadata": {},
     "output_type": "execute_result"
    }
   ],
   "source": [
    "students_sample_clean.corr()"
   ]
  },
  {
   "cell_type": "markdown",
   "id": "233abf81-4434-4828-80a3-3588b2505b77",
   "metadata": {},
   "source": [
    "Eine Tabelle ist eine schöne Darstellung für eine Korrelationsanalyse, aber eine Abbildung würde natürlich die Interpretierbarkeit verbessern. Das Modul [seaborn](https://seaborn.pydata.org/) bietet die Funktion `pairplot` zur Darstellung von Korrelationsmatrizen."
   ]
  },
  {
   "cell_type": "code",
   "execution_count": 12,
   "id": "0a135ba4-ec5c-4076-b2a5-9ff986fc6fcf",
   "metadata": {},
   "outputs": [
    {
     "data": {
      "text/plain": [
       "<seaborn.axisgrid.PairGrid at 0x10f7d9a80>"
      ]
     },
     "execution_count": 12,
     "metadata": {},
     "output_type": "execute_result"
    },
    {
     "data": {
      "image/png": "[encoded data removed]",
      "text/plain": [
       "<Figure size 1620x1620 with 90 Axes>"
      ]
     },
     "metadata": {
      "needs_background": "light"
     },
     "output_type": "display_data"
    }
   ],
   "source": [
    "# Erzeuge Pair Plot\n",
    "sns.pairplot(students_sample_clean)"
   ]
  },
  {
   "cell_type": "markdown",
   "id": "e43a6f0f-8dc4-4437-a7a7-65a902d8e86c",
   "metadata": {},
   "source": [
    "Es fällt sofort auf, dass die Mehrzahl der Variablen nicht linear korreliert zu sein scheint. Im Gegensatz dazu scheinen die Variablenpaare `height` und `weight` sowie `score1` und `score2` positiv korreliert zu sein."
   ]
  },
  {
   "cell_type": "markdown",
   "id": "f77be16d-3022-4e88-97cd-6e5ca81a18c7",
   "metadata": {},
   "source": [
    "### Rangkorrelationskoeffizient nach Spearman"
   ]
  },
  {
   "cell_type": "markdown",
   "id": "ca1357a5-8b55-42c5-a9ec-f1454e52debb",
   "metadata": {},
   "source": [
    "Der Rangkorrelationskoeffizient nach Spearman ({cite:p}`fahrmeirstatistik` s.133), auch bekannt als Spearmans $\\rho$, ist ein nichtparametrischer Rangkorrelationskoeffizient. Er wurde von <a href=\"https://de.wikipedia.org/wiki/Charles_Spearman\">Charles Spearman</a> entwickelt und ist eine Alternative zum Produkt-Moment-Korrelationskoeffizienten von Pearson. Der Spearman $\\rho$ Rangkorrelationskoeffizient wird für Stichprobendaten mit $r_s$ und für Grundgesamtheitsdaten mit $\\rho_s$ bezeichnet (Mann 2012). Der Korrelationskoeffizient bewertet die monotone Beziehung zwischen zwei Variablen und liegt zwischen $-1$ und $1$. Er beschreibt die lineare Korrelation zwischen den Rängen der Daten zu den Variablen $x$ und $y$. Die Spearman-Korrelation ist hoch, wenn die Variablen einen ähnlichen Rang haben, und niedrig, wenn die Variablen einen ungleichen Rang haben."
   ]
  },
  {
   "cell_type": "markdown",
   "id": "9a6b725a-341f-417c-b926-b01cbf5b3361",
   "metadata": {},
   "source": [
    "Um $r_s$ zu berechnen, werden die Daten für jede Variable, $x$ und $y$, getrennt eingestuft. Die Differenz zwischen jedem Paar von Rängen bezeichnen wir mit $d$. Für eine gegebene bivariate Sequenz $(x_1,y_1),(x_2,y_2), \\dots,(x_n,y_n)$ ist Spearmans $r_s$ gegeben durch"
   ]
  },
  {
   "cell_type": "markdown",
   "id": "e1f4cce3-64be-4491-aa95-0874dda280f7",
   "metadata": {},
   "source": [
    "$$ r_s = 1 - \\frac{6 \\sum_{i=1}^n (r_{xi} - r_{yi})^2}{n(n^2 -1)} $$"
   ]
  },
  {
   "cell_type": "markdown",
   "id": "77f0b9d2-44e9-4907-8673-06dd8ecf220a",
   "metadata": {},
   "source": [
    "wobei $r_{xi}=Rank(x_i)$ , $r_{yi}=Rank(y_i)$ , und $n$\n",
    "die Stichprobengröße ist.\n",
    "\n",
    "Im Gegensatz zum linearen Korrelationskoeffizienten von Pearson ist der lineare Koeffizient von Spearman sowohl für quantitative als auch für ordinale Variablen geeignet. Außerdem sind rangbasierte Korrelationen nicht von der Normalverteilungsannahme abhängig und resistenter gegenüber Ausreißern ({cite:p}`fahrmeirstatistik` s.135)."
   ]
  },
  {
   "cell_type": "markdown",
   "id": "18408b91-346c-4b9c-a106-355ccb339f25",
   "metadata": {},
   "source": [
    "### Spearman's Rangkorrelationskoeffizient: Ein Beispiel"
   ]
  },
  {
   "cell_type": "markdown",
   "id": "92a91d30-cfdf-47dd-b8ba-c2255222cb63",
   "metadata": {},
   "source": [
    "Betrachten wir ein Beispiel. Die Bevölkerung einer Gemeinde an einem Fluss ist der Meinung, dass der jüngste Anstieg der Abflussspitzen auf die Abholzung durch ein Holzunternehmen in den letzten Jahren zurückzuführen ist. Wir berechnen den Spearman'schen Rangkorrelationskoeffizienten, um festzustellen, ob es eine Korrelation zwischen dem Spitzenabfluss und dem Anteil der abgeholzten Fläche im Wassereinzugsgebiet gibt (Daten geändert nach <a href=https://www.routledge.com/Modeling-Hydrologic-Change-Statistical-Methods/McCuen/p/book/9781566706001>McCuen 2003, S. 112</a>)."
   ]
  },
  {
   "cell_type": "markdown",
   "id": "9792c0a1",
   "metadata": {},
   "source": [
    "|Jahr|Abflussspitzen $(m^3s^{-1})$|abgeholzten Fläche (%)|\n",
    "|---|:---:|:---:|\n",
    "|1982|227|53|\n",
    "|1983|249|56|\n",
    "|1984|210|57|\n",
    "|1985|190|58|\n",
    "|1986|314|55|\n",
    "|1987|345|54|\n",
    "|1988|161|51|\n",
    "|1989|266|50|\n",
    "|1990|402|49|\n",
    "|1991|215|47|\n",
    "|1992|164|46|\n",
    "|1993|405|44|\n",
    "|1994|328|43|\n",
    "|1995|294|42|\n"
   ]
  },
  {
   "cell_type": "markdown",
   "id": "c4dcc5b2-5554-47c5-9ac6-10b9d5ceef0a",
   "metadata": {},
   "source": [
    "Lassen Sie uns unsere Datenvektoren konstruieren. Wir ordnen die Abflusswerte der Variablen `Q` und die abgeholzte Fläche der Variablen `logged` zu."
   ]
  },
  {
   "cell_type": "code",
   "execution_count": 13,
   "id": "47f4352b-69c1-4ca3-ae3b-689c47cee6bf",
   "metadata": {},
   "outputs": [
    {
     "data": {
      "text/html": [
       "<div>\n",
       "<style scoped>\n",
       "    .dataframe tbody tr th:only-of-type {\n",
       "        vertical-align: middle;\n",
       "    }\n",
       "\n",
       "    .dataframe tbody tr th {\n",
       "        vertical-align: top;\n",
       "    }\n",
       "\n",
       "    .dataframe thead th {\n",
       "        text-align: right;\n",
       "    }\n",
       "</style>\n",
       "<table border=\"1\" class=\"dataframe\">\n",
       "  <thead>\n",
       "    <tr style=\"text-align: right;\">\n",
       "      <th></th>\n",
       "      <th>Q</th>\n",
       "      <th>Logged</th>\n",
       "    </tr>\n",
       "  </thead>\n",
       "  <tbody>\n",
       "    <tr>\n",
       "      <th>0</th>\n",
       "      <td>227</td>\n",
       "      <td>53</td>\n",
       "    </tr>\n",
       "    <tr>\n",
       "      <th>1</th>\n",
       "      <td>249</td>\n",
       "      <td>56</td>\n",
       "    </tr>\n",
       "    <tr>\n",
       "      <th>2</th>\n",
       "      <td>210</td>\n",
       "      <td>57</td>\n",
       "    </tr>\n",
       "    <tr>\n",
       "      <th>3</th>\n",
       "      <td>190</td>\n",
       "      <td>58</td>\n",
       "    </tr>\n",
       "    <tr>\n",
       "      <th>4</th>\n",
       "      <td>314</td>\n",
       "      <td>55</td>\n",
       "    </tr>\n",
       "    <tr>\n",
       "      <th>5</th>\n",
       "      <td>345</td>\n",
       "      <td>54</td>\n",
       "    </tr>\n",
       "    <tr>\n",
       "      <th>6</th>\n",
       "      <td>161</td>\n",
       "      <td>51</td>\n",
       "    </tr>\n",
       "    <tr>\n",
       "      <th>7</th>\n",
       "      <td>266</td>\n",
       "      <td>50</td>\n",
       "    </tr>\n",
       "    <tr>\n",
       "      <th>8</th>\n",
       "      <td>402</td>\n",
       "      <td>49</td>\n",
       "    </tr>\n",
       "    <tr>\n",
       "      <th>9</th>\n",
       "      <td>215</td>\n",
       "      <td>47</td>\n",
       "    </tr>\n",
       "    <tr>\n",
       "      <th>10</th>\n",
       "      <td>164</td>\n",
       "      <td>46</td>\n",
       "    </tr>\n",
       "    <tr>\n",
       "      <th>11</th>\n",
       "      <td>405</td>\n",
       "      <td>44</td>\n",
       "    </tr>\n",
       "    <tr>\n",
       "      <th>12</th>\n",
       "      <td>328</td>\n",
       "      <td>43</td>\n",
       "    </tr>\n",
       "    <tr>\n",
       "      <th>13</th>\n",
       "      <td>294</td>\n",
       "      <td>42</td>\n",
       "    </tr>\n",
       "  </tbody>\n",
       "</table>\n",
       "</div>"
      ],
      "text/plain": [
       "      Q  Logged\n",
       "0   227      53\n",
       "1   249      56\n",
       "2   210      57\n",
       "3   190      58\n",
       "4   314      55\n",
       "5   345      54\n",
       "6   161      51\n",
       "7   266      50\n",
       "8   402      49\n",
       "9   215      47\n",
       "10  164      46\n",
       "11  405      44\n",
       "12  328      43\n",
       "13  294      42"
      ]
     },
     "execution_count": 13,
     "metadata": {},
     "output_type": "execute_result"
    }
   ],
   "source": [
    "# Erzeuge Listen Q, logged\n",
    "q = [227, 249, 210, 190, 314, 345, 161, 266, 402, 215, 164, 405, 328, 294]\n",
    "logged = [53, 56, 57, 58, 55, 54, 51, 50, 49, 47, 46, 44, 43, 42]\n",
    "\n",
    "# Erzeuge Dataframe aus Q und logged\n",
    "df = pd.DataFrame({\"Q\": q, \"Logged\": logged})\n",
    "df"
   ]
  },
  {
   "cell_type": "markdown",
   "id": "91a5b9a4-db16-4b7d-b986-c67513348053",
   "metadata": {},
   "source": [
    "Zunächst berechnen wir den Spearman'schen Rangkorrelationskoeffizienten per Hand. Erinnern Sie sich an die Gleichung"
   ]
  },
  {
   "cell_type": "markdown",
   "id": "397e9ef7-9f70-4151-8530-0985d2443af9",
   "metadata": {},
   "source": [
    "$$ r_s = 1 - \\frac{6 \\sum_{i=1}^n (r_{xi} - r_{yi})^2}{n(n^2 -1)} $$"
   ]
  },
  {
   "cell_type": "markdown",
   "id": "c7dfe531-e370-476c-abc2-017ca65684c2",
   "metadata": {},
   "source": [
    "wobei $r_{xi}=Rang(x_i)$ , $r_{yi}=Rang(y_i)$ , und $n$ der Stichprobenumfang ist. Wir verwenden die Methode `rank()`, um den Rang für die Werte jeder Variablen zu berechnen."
   ]
  },
  {
   "cell_type": "code",
   "execution_count": 14,
   "id": "b550fa35-f701-4d1b-8374-6aa868709de0",
   "metadata": {},
   "outputs": [
    {
     "data": {
      "text/plain": [
       "-0.34065934065934056"
      ]
     },
     "execution_count": 14,
     "metadata": {},
     "output_type": "execute_result"
    }
   ],
   "source": [
    "rs = 1 - (\n",
    "    6\n",
    "    * sum((df.rank()[\"Q\"] - df.rank()[\"Logged\"]) ** 2)\n",
    "    / (df.shape[0] * (df.shape[0] ** 2 - 1))\n",
    ")\n",
    "rs"
   ]
  },
  {
   "cell_type": "markdown",
   "id": "a187dc2b-2a59-4d83-83e0-eef55ce213cb",
   "metadata": {},
   "source": [
    "Alternativ können wir auch die Funktion `corr()` in Python verwenden und das Argument `method = 'spearman'` hinzufügen."
   ]
  },
  {
   "cell_type": "code",
   "execution_count": 15,
   "id": "ef69ec2e-50ed-42f9-93eb-c29987f5c6c0",
   "metadata": {},
   "outputs": [
    {
     "data": {
      "text/html": [
       "<div>\n",
       "<style scoped>\n",
       "    .dataframe tbody tr th:only-of-type {\n",
       "        vertical-align: middle;\n",
       "    }\n",
       "\n",
       "    .dataframe tbody tr th {\n",
       "        vertical-align: top;\n",
       "    }\n",
       "\n",
       "    .dataframe thead th {\n",
       "        text-align: right;\n",
       "    }\n",
       "</style>\n",
       "<table border=\"1\" class=\"dataframe\">\n",
       "  <thead>\n",
       "    <tr style=\"text-align: right;\">\n",
       "      <th></th>\n",
       "      <th>Q</th>\n",
       "      <th>Logged</th>\n",
       "    </tr>\n",
       "  </thead>\n",
       "  <tbody>\n",
       "    <tr>\n",
       "      <th>Q</th>\n",
       "      <td>1.000000</td>\n",
       "      <td>-0.340659</td>\n",
       "    </tr>\n",
       "    <tr>\n",
       "      <th>Logged</th>\n",
       "      <td>-0.340659</td>\n",
       "      <td>1.000000</td>\n",
       "    </tr>\n",
       "  </tbody>\n",
       "</table>\n",
       "</div>"
      ],
      "text/plain": [
       "               Q    Logged\n",
       "Q       1.000000 -0.340659\n",
       "Logged -0.340659  1.000000"
      ]
     },
     "execution_count": 15,
     "metadata": {},
     "output_type": "execute_result"
    }
   ],
   "source": [
    "df.corr(method=\"spearman\")"
   ]
  },
  {
   "cell_type": "markdown",
   "id": "7bb318d8-1c5e-4bb4-8ed9-af14eb5e30b0",
   "metadata": {},
   "source": [
    "Der Rangkorrelationskoeffizient von Spearman ist nichts anderes als der lineare Korrelationskoeffizient von Pearson für die gerankten Daten. Das Ergebnis der folgenden Codezelle sollte mit den vorherigen Ergebnissen übereinstimmen."
   ]
  },
  {
   "cell_type": "code",
   "execution_count": 16,
   "id": "58eb5f54-6aac-4b0f-b4c8-b05982cf3338",
   "metadata": {},
   "outputs": [
    {
     "data": {
      "text/html": [
       "<div>\n",
       "<style scoped>\n",
       "    .dataframe tbody tr th:only-of-type {\n",
       "        vertical-align: middle;\n",
       "    }\n",
       "\n",
       "    .dataframe tbody tr th {\n",
       "        vertical-align: top;\n",
       "    }\n",
       "\n",
       "    .dataframe thead th {\n",
       "        text-align: right;\n",
       "    }\n",
       "</style>\n",
       "<table border=\"1\" class=\"dataframe\">\n",
       "  <thead>\n",
       "    <tr style=\"text-align: right;\">\n",
       "      <th></th>\n",
       "      <th>Q</th>\n",
       "      <th>Logged</th>\n",
       "    </tr>\n",
       "  </thead>\n",
       "  <tbody>\n",
       "    <tr>\n",
       "      <th>Q</th>\n",
       "      <td>1.000000</td>\n",
       "      <td>-0.340659</td>\n",
       "    </tr>\n",
       "    <tr>\n",
       "      <th>Logged</th>\n",
       "      <td>-0.340659</td>\n",
       "      <td>1.000000</td>\n",
       "    </tr>\n",
       "  </tbody>\n",
       "</table>\n",
       "</div>"
      ],
      "text/plain": [
       "               Q    Logged\n",
       "Q       1.000000 -0.340659\n",
       "Logged -0.340659  1.000000"
      ]
     },
     "execution_count": 16,
     "metadata": {},
     "output_type": "execute_result"
    }
   ],
   "source": [
    "df.rank().corr()"
   ]
  },
  {
   "cell_type": "markdown",
   "id": "dfcf3a43-6e99-4c8b-830c-d2b4b03cf566",
   "metadata": {},
   "source": [
    "Perfekt, wir erhielten das gleiche Ergebnis durch alle drei Berechnungen, die einen Spearman's Rangkorrelationskoeffizienten von $r_s = -0,34$ ergeben. Die Ergebnisse deuten darauf hin, dass es keine bis eine schwache negative Korrelation zwischen dem Spitzenabfluss und der Einschlagsfläche gibt. Mit anderen Worten, der Abfluss nimmt tendenziell ab, wenn die Abholzungsfläche zunimmt. Die Wahrnehmung der Bevölkerung kann also durch unsere statistische Analyse nicht bestätigt werden. Es wird empfohlen, einen statistischen Test durchzuführen, um festzustellen, ob das Ergebnis statistisch signifikant ist oder ob die Abweichung nur zufällig ist. Weitere Informationen finden Sie in den Abschnitten über *Hypothesentests*."
   ]
  },
  {
   "cell_type": "markdown",
   "id": "1fee90b4-9b83-4d7a-bbf6-9c4805ea79ad",
   "metadata": {
    "tags": []
   },
   "source": [
    "## Kontingenzkoeffizient"
   ]
  },
  {
   "cell_type": "markdown",
   "id": "a9463035-137d-45af-b2d7-3da8c0343def",
   "metadata": {},
   "source": [
    "Der **Kontingenzkoeffizient** $C$ ist ein $\\chi ^2$-basiertes Maß für die Assoziation von kategorialen Daten. Er stützt sich auf den <a href=\"https://de.wikipedia.org/wiki/Chi-Quadrat-Test\">$\\chi ^2$-Test auf Unabhängigkeit</a>. Die $\\chi ^2$ Statistik ermöglicht es zu beurteilen, ob eine statistische Beziehung zwischen den Variablen in den <a href=\"https://de.wikipedia.org/wiki/Kontingenztafel\">Kontingenztabellen</a> (auch bekannt als Kontingenztafeln oder Kreuztabellen) besteht oder nicht. In dieser Art von Tabellen wird die Verteilung der Variablen in einem Matrixformat dargestellt.\n",
    "\n",
    "Für die Berechnung des **Kontingenzkoeffizienten** $C$\n",
    "zu berechnen, müssen wir die $\\chi ^2$-Statistik im Voraus bestimmen."
   ]
  },
  {
   "cell_type": "markdown",
   "id": "71b13565-65dd-4de9-93b9-59affc85484b",
   "metadata": {},
   "source": [
    "### Berechnung der $\\chi ^2$-Statistik"
   ]
  },
  {
   "cell_type": "markdown",
   "id": "b1b65f06-14fc-4dc2-ac10-19ebdc727ecc",
   "metadata": {},
   "source": [
    "Die $\\chi ^2$-Statistik ist gegeben durch\n",
    "$$\\chi^2= \\sum{\\frac{(O-E)^2}{E}}\\text{,}$$"
   ]
  },
  {
   "cell_type": "markdown",
   "id": "02d3cb07-5eec-46a8-93af-04abf681f398",
   "metadata": {},
   "source": [
    "wobei $O$ für die beobachtete Häufigkeit und $E$ für die erwartete Häufigkeit steht. Bitte beachten Sie, dass $\\frac{(O-E)^2}{E}$ für jede Zelle ausgewertet und dann aufsummiert wird."
   ]
  },
  {
   "cell_type": "markdown",
   "id": "7bfd55cd-117a-48f5-9b33-1a08b7afb024",
   "metadata": {},
   "source": [
    "Anhand eines Beispiels soll die Berechnung der $\\chi ^2$-Statistik auf der Grundlage kategorialer Beobachtungsdaten näher erläutert werden. Nehmen wir eine Prüfung am Ende des Semesters. Es gibt drei Gruppen von Studierenden: Die Studierenden haben entweder bestanden, nicht bestanden oder nicht an der Prüfung teilgenommen. Außerdem wird die Anzahl der Übungen, die jeder einzelne Studierende während des Semesters absolviert hat, in vier Gruppen eingeteilt: Keine, weniger als die Hälfte $(\\lt 0,5)$, mehr als die Hälfte $(\\ge 0,5)$, alle.\n",
    "\n",
    "Die resultierende Kontingenztabelle sieht wie folgt aus:"
   ]
  },
  {
   "cell_type": "markdown",
   "id": "ebb607b3",
   "metadata": {},
   "source": [
    "| |Keine|$<0,5$|$\\geq 0,5$|Alle|\n",
    "|---|:---:|:---:|:---:|:---:|\n",
    "|erfolgreich|12|13|24|14|\n",
    "|nicht erfolgreich|22|11|8|6|\n",
    "|nicht teilgenommen|11|14|6|7|"
   ]
  },
  {
   "cell_type": "markdown",
   "id": "aa5b9b96-b967-49c5-a577-9b0caaff810f",
   "metadata": {},
   "source": [
    "Zunächst konstruieren wir ein `dataframe` Objekt und geben ihm den Namen `obs`, um uns daran zu erinnern, dass diese Daten der beobachteten Häufigkeit entsprechen:"
   ]
  },
  {
   "cell_type": "code",
   "execution_count": 17,
   "id": "1771c998-9f0f-4919-a6c9-b4bfbbcbdd82",
   "metadata": {},
   "outputs": [
    {
     "data": {
      "text/html": [
       "<div>\n",
       "<style scoped>\n",
       "    .dataframe tbody tr th:only-of-type {\n",
       "        vertical-align: middle;\n",
       "    }\n",
       "\n",
       "    .dataframe tbody tr th {\n",
       "        vertical-align: top;\n",
       "    }\n",
       "\n",
       "    .dataframe thead th {\n",
       "        text-align: right;\n",
       "    }\n",
       "</style>\n",
       "<table border=\"1\" class=\"dataframe\">\n",
       "  <thead>\n",
       "    <tr style=\"text-align: right;\">\n",
       "      <th></th>\n",
       "      <th>Keine</th>\n",
       "      <th>&lt;0.5</th>\n",
       "      <th>&gt;0.5</th>\n",
       "      <th>Alle</th>\n",
       "    </tr>\n",
       "  </thead>\n",
       "  <tbody>\n",
       "    <tr>\n",
       "      <th>erfolgreich</th>\n",
       "      <td>12</td>\n",
       "      <td>13</td>\n",
       "      <td>24</td>\n",
       "      <td>14</td>\n",
       "    </tr>\n",
       "    <tr>\n",
       "      <th>nicht erfolgreich</th>\n",
       "      <td>22</td>\n",
       "      <td>11</td>\n",
       "      <td>8</td>\n",
       "      <td>6</td>\n",
       "    </tr>\n",
       "    <tr>\n",
       "      <th>nicht teilgenommen</th>\n",
       "      <td>11</td>\n",
       "      <td>14</td>\n",
       "      <td>6</td>\n",
       "      <td>7</td>\n",
       "    </tr>\n",
       "  </tbody>\n",
       "</table>\n",
       "</div>"
      ],
      "text/plain": [
       "                    Keine  <0.5  >0.5  Alle\n",
       "erfolgreich            12    13    24    14\n",
       "nicht erfolgreich      22    11     8     6\n",
       "nicht teilgenommen     11    14     6     7"
      ]
     },
     "execution_count": 17,
     "metadata": {},
     "output_type": "execute_result"
    }
   ],
   "source": [
    "# Erzeuge neues Dataframe obs\n",
    "col1 = [\"erfolgreich\", \"nicht erfolgreich\", \"nicht teilgenommen\"]\n",
    "col2 = [12, 22, 11]\n",
    "col3 = [13, 11, 14]\n",
    "col4 = [24, 8, 6]\n",
    "col5 = [14, 6, 7]\n",
    "\n",
    "obs = pd.DataFrame(\n",
    "    {\"Keine\": col2, \"<0.5\": col3, \">0.5\": col4, \"Alle\": col5}, index=col1\n",
    ")\n",
    "obs"
   ]
  },
  {
   "cell_type": "markdown",
   "id": "9996d860-bf3c-442c-94d1-5fff1249e69a",
   "metadata": {},
   "source": [
    "Perfekt, jetzt haben wir eine ordentliche Darstellung unserer Daten in Python. Allerdings fehlt noch ein Teil, um eine Kontingenztabelle zu vervollständigen. Die Zeilensummen und Spaltensummen.\n",
    "\n",
    "Es gibt mehrere Möglichkeiten, die Zeilen- und Spaltensummen in Python zu berechnen. Unter anderem kann man die Funktion `sum(df, axis=0,1)` verwenden. Die Funktion benötigt zwei Argumente, die Daten und eine Zahl, die angibt, ob die Daten zeilen- oder spaltenweise vorliegen."
   ]
  },
  {
   "cell_type": "code",
   "execution_count": 18,
   "id": "9d26a031-08ca-42e6-aa15-46f6533b2fa3",
   "metadata": {},
   "outputs": [
    {
     "name": "stdout",
     "output_type": "stream",
     "text": [
      "Spaltensummen: [45 38 38 27]\n",
      "Zeilensummen:  [63 47 38]\n"
     ]
    }
   ],
   "source": [
    "# Berechne Zeilen/Spaltensumme\n",
    "columnsum = obs.sum(axis=0).values\n",
    "rowsum = obs.sum(axis=1).values\n",
    "\n",
    "print(f\"Spaltensummen: {columnsum}\")\n",
    "print(f\"Zeilensummen:  {rowsum}\")"
   ]
  },
  {
   "cell_type": "markdown",
   "id": "3597dbff-5c90-4f73-86ba-152b1fd5d3a6",
   "metadata": {},
   "source": [
    "Setzt man alle Teile zusammen, sieht die Kontingenztabelle wie folgt aus:"
   ]
  },
  {
   "cell_type": "markdown",
   "id": "5497a779",
   "metadata": {},
   "source": [
    "| |Keine|$<0,5$|$\\geq 0,5$|Alle|Zeilensumme|\n",
    "|---|:---:|:---:|:---:|:---:|:---:|\n",
    "|erfolgreich|12|13|24|14|63|\n",
    "|nicht erfolgreich|22|11|8|6|47|\n",
    "|nicht teilgenommen|11|14|6|7|38|\n",
    "|Spaltensumme|45|38|38|27|"
   ]
  },
  {
   "cell_type": "markdown",
   "id": "fab7c10f-3935-483f-860f-b370e3cf8471",
   "metadata": {},
   "source": [
    "Toll, jetzt haben wir eine Tabelle mit den beobachteten Häufigkeiten. Im nächsten Schritt berechnen wir die erwarteten Häufigkeiten. Um die erwarteten Häufigkeiten $(E)$ zu berechnen, wenden wir diese Gleichung an:"
   ]
  },
  {
   "cell_type": "markdown",
   "id": "ed9467fd-ccf1-479d-9ac1-8aa4bc0ba38c",
   "metadata": {},
   "source": [
    "$$E = \\frac{R\\times C}{n} \\text{,}$$"
   ]
  },
  {
   "cell_type": "markdown",
   "id": "aa82290f-513e-483b-b662-46deac5310d1",
   "metadata": {},
   "source": [
    "wobei $R$ die Zeilensumme, $C$ die Spaltensumme und $n$ der Stichprobenumfang ist. Bitte beachten Sie, dass wir die erwartete Häufigkeit für jeden einzelnen Tabelleneintrag berechnen müssen, d. h. wir müssen $3 \\times 4=12$ Berechnungen durchführen. Auch hier bietet Python mehrere Möglichkeiten, diese Aufgabe zu lösen. Man kann eine verschachtelte for-Schleife bauen, um jede Zelle zu durchlaufen und die Berechnungen schrittweise durchzuführen, das ist definitiv in Ordnung! Wir können aber auch die vektorisierte und damit viel schnellere Funktion `outer()` in Kombination mit der Funktion `sum()` verwenden. Wir weisen das Ergebnis einer Variablen mit der Bezeichnung `exp` zu, um uns daran zu erinnern, dass diese Tabelle den erwarteten Häufigkeiten entspricht."
   ]
  },
  {
   "cell_type": "code",
   "execution_count": 19,
   "id": "c50de33e-4a97-4aab-a0a8-0693a725de1c",
   "metadata": {},
   "outputs": [
    {
     "data": {
      "text/plain": [
       "array([[19.15540541, 14.29054054, 11.55405405],\n",
       "       [16.17567568, 12.06756757,  9.75675676],\n",
       "       [16.17567568, 12.06756757,  9.75675676],\n",
       "       [11.49324324,  8.57432432,  6.93243243]])"
      ]
     },
     "execution_count": 19,
     "metadata": {},
     "output_type": "execute_result"
    }
   ],
   "source": [
    "exp = np.outer(columnsum, rowsum) / sum(columnsum)\n",
    "exp"
   ]
  },
  {
   "cell_type": "markdown",
   "id": "62fb9b49-0ace-4f24-802a-5dfbb0050122",
   "metadata": {},
   "source": [
    "Im nächsten Schritt erstellen wir aus den Ergebnissen einen Dataframe der dieselbe Spalten- und Zeilenanzahl, denseben Index und dieslelben Spaltennamen hat wie der `obs` Dataframe."
   ]
  },
  {
   "cell_type": "code",
   "execution_count": 20,
   "id": "81cd6a2e-acd7-4edf-9991-b816e7b62308",
   "metadata": {},
   "outputs": [
    {
     "data": {
      "text/html": [
       "<div>\n",
       "<style scoped>\n",
       "    .dataframe tbody tr th:only-of-type {\n",
       "        vertical-align: middle;\n",
       "    }\n",
       "\n",
       "    .dataframe tbody tr th {\n",
       "        vertical-align: top;\n",
       "    }\n",
       "\n",
       "    .dataframe thead th {\n",
       "        text-align: right;\n",
       "    }\n",
       "</style>\n",
       "<table border=\"1\" class=\"dataframe\">\n",
       "  <thead>\n",
       "    <tr style=\"text-align: right;\">\n",
       "      <th></th>\n",
       "      <th>Keine</th>\n",
       "      <th>&lt;0.5</th>\n",
       "      <th>&gt;0.5</th>\n",
       "      <th>Alle</th>\n",
       "    </tr>\n",
       "  </thead>\n",
       "  <tbody>\n",
       "    <tr>\n",
       "      <th>erfolgreich</th>\n",
       "      <td>19.155405</td>\n",
       "      <td>16.175676</td>\n",
       "      <td>16.175676</td>\n",
       "      <td>11.493243</td>\n",
       "    </tr>\n",
       "    <tr>\n",
       "      <th>nicht erfolgreich</th>\n",
       "      <td>14.290541</td>\n",
       "      <td>12.067568</td>\n",
       "      <td>12.067568</td>\n",
       "      <td>8.574324</td>\n",
       "    </tr>\n",
       "    <tr>\n",
       "      <th>nicht teilgenommen</th>\n",
       "      <td>11.554054</td>\n",
       "      <td>9.756757</td>\n",
       "      <td>9.756757</td>\n",
       "      <td>6.932432</td>\n",
       "    </tr>\n",
       "  </tbody>\n",
       "</table>\n",
       "</div>"
      ],
      "text/plain": [
       "                        Keine       <0.5       >0.5       Alle\n",
       "erfolgreich         19.155405  16.175676  16.175676  11.493243\n",
       "nicht erfolgreich   14.290541  12.067568  12.067568   8.574324\n",
       "nicht teilgenommen  11.554054   9.756757   9.756757   6.932432"
      ]
     },
     "execution_count": 20,
     "metadata": {},
     "output_type": "execute_result"
    }
   ],
   "source": [
    "exp = pd.DataFrame(np.transpose(exp), index=obs.index, columns=obs.columns)\n",
    "exp"
   ]
  },
  {
   "cell_type": "markdown",
   "id": "ec2a8031-785e-4c46-827f-2b0b30444cfd",
   "metadata": {},
   "source": [
    "Im nächsten Schritt berechnen wir schließlich die $\\chi ^2$-Statistik. Erinnern Sie sich an die Gleichung:"
   ]
  },
  {
   "cell_type": "markdown",
   "id": "ed08ce4e-34e7-4911-ab0a-af94fda346f3",
   "metadata": {},
   "source": [
    "$$\\chi^2= \\sum{\\frac{(O-E)^2}{E}}\\text{,}$$"
   ]
  },
  {
   "cell_type": "markdown",
   "id": "313b8a70-edc0-4fae-a26d-5c05ea512644",
   "metadata": {},
   "source": [
    "wobei $O$ für die beobachtete Häufigkeit und $E$ für die erwartete Häufigkeit steht."
   ]
  },
  {
   "cell_type": "code",
   "execution_count": 21,
   "id": "242261dd-782d-419a-be50-d696015a990b",
   "metadata": {},
   "outputs": [
    {
     "data": {
      "text/plain": [
       "17.344387665138406"
      ]
     },
     "execution_count": 21,
     "metadata": {},
     "output_type": "execute_result"
    }
   ],
   "source": [
    "# Berechne chisqVal\n",
    "chisqVal = np.sum(((obs.values - exp.values) ** 2) / exp.values)\n",
    "chisqVal"
   ]
  },
  {
   "cell_type": "markdown",
   "id": "08f5bf6c-6d5c-48fd-955d-503c6e9f461d",
   "metadata": {},
   "source": [
    "### Berechnung des Kontingenzkoeffizienten $C$"
   ]
  },
  {
   "cell_type": "markdown",
   "id": "2b0e74a5-3c33-4a45-a246-886f29340218",
   "metadata": {},
   "source": [
    "Der Kontingenzkoeffizient, bezeichnet als $C^∗$, passt die $\\chi ^2$-Statistik um den Stichprobenumfang $(n)$ an. Er kann wie folgt geschrieben werden"
   ]
  },
  {
   "cell_type": "markdown",
   "id": "8d58a9f4-21a7-4d73-8b4c-6ab23cd4ceac",
   "metadata": {},
   "source": [
    "$$ C^*=\\sqrt{\\frac{\\chi^2}{n+\\chi^2}}\\text{,} $$"
   ]
  },
  {
   "cell_type": "markdown",
   "id": "ef5db661-f076-4365-bdc3-c9ff810b0a0f",
   "metadata": {},
   "source": [
    "wobei $\\chi ^2$ der $\\chi ^2$-Statistik entspricht und $n$ die Anzahl der Beobachtungen bezeichnet. Wenn keine Beziehung zwischen zwei Variablen besteht, ist $C^∗=0$. Der Kontingenzkoeffizient $C^∗$ kann Werte $\\gt 1$ nicht überschreiten, aber der Kontingenzkoeffizient kann kleiner als $1$ sein, selbst wenn zwei Variablen perfekt miteinander verbunden sind. Dies ist nicht so wünschenswert, daher wird $C^∗$ so angepasst, dass er maximal $1$ erreicht, wenn in einer Tabelle mit einer beliebigen Anzahl von Zeilen und Spalten ein vollständiger Zusammenhang besteht. Daher berechnen wir $C^{∗}_{max}$, das ist"
   ]
  },
  {
   "cell_type": "markdown",
   "id": "ade34044-1d39-446d-a258-5da1619eadc0",
   "metadata": {},
   "source": [
    "$$ C^*_{max}=\\sqrt{\\frac{k-1}{k}}\\text{,} $$"
   ]
  },
  {
   "cell_type": "markdown",
   "id": "58017413-45bb-4147-9391-e79c57ad3ffe",
   "metadata": {},
   "source": [
    "wobei $k$ die Anzahl der Zeilen oder die Anzahl der Spalten ist, je nachdem, welcher Wert kleiner ist, $k=min(\\text{Zeilen,Spalten})$. Dann wird der bereinigte Kontingenzkoeffizient wie folgt berechnet"
   ]
  },
  {
   "cell_type": "markdown",
   "id": "bf166349-02d7-44e7-8e64-c0ea978c9b9c",
   "metadata": {},
   "source": [
    "$$ C=\\frac{C^*}{C^*_{max}}=\\sqrt\\frac{k \\cdot \\chi^2}{(k-1)(n+\\chi^2)} $$"
   ]
  },
  {
   "cell_type": "markdown",
   "id": "b9a53f9e-8425-4de3-8407-ac180b4edb84",
   "metadata": {},
   "source": [
    "Im obigen Abschnitt wurde die $\\chi ^2$-Statistik der Variablen `chisqVal` zugeordnet und als $17,3443877$ berechnet. Nun setzen wir diesen Wert in die Gleichung für den Kontingenzkoeffizienten $C^∗$ ein."
   ]
  },
  {
   "cell_type": "code",
   "execution_count": 22,
   "id": "f8bc7757-5619-403e-8484-ebc5ab8412d7",
   "metadata": {},
   "outputs": [
    {
     "data": {
      "text/plain": [
       "0.3238804670641156"
      ]
     },
     "execution_count": 22,
     "metadata": {},
     "output_type": "execute_result"
    }
   ],
   "source": [
    "C_star = np.sqrt(chisqVal / (sum(columnsum) + chisqVal))\n",
    "C_star"
   ]
  },
  {
   "cell_type": "markdown",
   "id": "e425140c-7429-4b15-9d2b-5fad03567a0d",
   "metadata": {},
   "source": [
    "Der Kontingenzkoeffizient $C^∗$ beläuft sich auf $0,3238805$.\n",
    "\n",
    "Nun wenden wir die Gleichung für den bereinigten Kontingenzkoeffizienten, $C$."
   ]
  },
  {
   "cell_type": "code",
   "execution_count": 23,
   "id": "352c1502-6961-4ca2-8042-7ccb370c383a",
   "metadata": {},
   "outputs": [
    {
     "data": {
      "text/plain": [
       "3"
      ]
     },
     "execution_count": 23,
     "metadata": {},
     "output_type": "execute_result"
    }
   ],
   "source": [
    "k = [obs.shape[0], obs.shape[1]]\n",
    "k = min(k)\n",
    "k"
   ]
  },
  {
   "cell_type": "code",
   "execution_count": 24,
   "id": "aae5c9e2-d15f-4ec1-8002-d1e152f4b5df",
   "metadata": {},
   "outputs": [
    {
     "data": {
      "text/plain": [
       "0.39667094098068806"
      ]
     },
     "execution_count": 24,
     "metadata": {},
     "output_type": "execute_result"
    }
   ],
   "source": [
    "C_star_max = np.sqrt((k - 1) / k)\n",
    "C = C_star / C_star_max\n",
    "C"
   ]
  },
  {
   "cell_type": "markdown",
   "id": "8b03723c-aed8-47b9-b786-8386ea59b95a",
   "metadata": {},
   "source": [
    "Der bereinigte Kontingenzkoeffizient $C$ wird mit $0,3966709$ bewertet. Zur Erinnerung: Der Kontingenzkoeffizient reicht von $0$ bis $1$. Ein Kontingenzkoeffizient von $0,4$ deutet nicht auf einen starken Zusammenhang zwischen den Prüfungsergebnissen und der Bereitschaft der Studierenden hin, die Übungen während des Semesters zu bearbeiten."
   ]
  }
 ],
 "metadata": {
  "kernelspec": {
   "display_name": "Python 3 (ipykernel)",
   "language": "python",
   "name": "python3"
  },
  "language_info": {
   "codemirror_mode": {
    "name": "ipython",
    "version": 3
   },
   "file_extension": ".py",
   "mimetype": "text/x-python",
   "name": "python",
   "nbconvert_exporter": "python",
   "pygments_lexer": "ipython3",
   "version": "3.10.2"
  },
  "vscode": {
   "interpreter": {
    "hash": "31f2aee4e71d21fbe5cf8b01ff0e069b9275f58929596ceb00d14d90e3e16cd6"
   }
  }
 },
 "nbformat": 4,
 "nbformat_minor": 5
}
