{
 "cells": [
  {
   "cell_type": "markdown",
   "id": "bbc7e0d2-410f-406f-a433-9a2321c65da2",
   "metadata": {},
   "source": [
    "# Lernziele"
   ]
  },
  {
   "cell_type": "markdown",
   "id": "eed463e6-6a48-4fab-a55b-c25fa1960aec",
   "metadata": {},
   "source": [
    "## Inferenzstatistik und Konfidenzintervalle"
   ]
  },
  {
   "cell_type": "markdown",
   "id": "fdce5231-6fbf-4b0a-8c66-af171a2e734f",
   "metadata": {},
   "source": [
    "- Die Methodik der Inferenzstatistik wird theoretisch wie praktisch diskutiert\n",
    "- Die Begriffe Konfidenzintervalle und Intervallschätzung und ihre Anwendung in der Schätzung von Grungesamtheitsparametern wird veranschaulicht\n",
    "- Die $z$-Verteilung und $t$-Verteilung werden sowohl theoretisch als auch durch Beispielen in Python beschrieben\n",
    "- Zusammengefasst werden folgende Begriffe und Methoden besprochen : Inferenzstatistik, Konfidenzintervalle, Punkteschätzung, Intervall-Schätzung, $𝑧$-Verteilung, $t$-Verteilung"
   ]
  },
  {
   "cell_type": "code",
   "execution_count": null,
   "id": "1cc81706-a7c9-4286-8feb-e80415fdb8e8",
   "metadata": {},
   "outputs": [],
   "source": []
  }
 ],
 "metadata": {
  "kernelspec": {
   "display_name": "Python 3 (ipykernel)",
   "language": "python",
   "name": "python3"
  },
  "language_info": {
   "codemirror_mode": {
    "name": "ipython",
    "version": 3
   },
   "file_extension": ".py",
   "mimetype": "text/x-python",
   "name": "python",
   "nbconvert_exporter": "python",
   "pygments_lexer": "ipython3",
   "version": "3.10.2"
  }
 },
 "nbformat": 4,
 "nbformat_minor": 5
}
