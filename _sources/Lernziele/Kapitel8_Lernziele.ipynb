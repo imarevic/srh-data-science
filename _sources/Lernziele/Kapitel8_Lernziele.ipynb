{
 "cells": [
  {
   "cell_type": "markdown",
   "id": "b3bb4b4f-7b04-426e-9fac-6be898c44759",
   "metadata": {},
   "source": [
    "# Lernziele"
   ]
  },
  {
   "cell_type": "markdown",
   "id": "13596a41-9dea-4f91-85fc-56cee53b09ac",
   "metadata": {},
   "source": [
    "## Lineare Regression"
   ]
  },
  {
   "cell_type": "markdown",
   "id": "fd51febd-3170-4b58-bbb0-d287d8b90cae",
   "metadata": {},
   "source": [
    "- Die Grundbegriffe der linearen Regression werden erläutert und anhand des probabilistischen Modells der linearen Einfachregression, $y = a + b x + \\epsilon$ veranschaulicht\n",
    "- Am Beispiel des Anscombe Datensatzes werden Methoden der Regressionsdiagnostik zur Bewertung und Auswahl von Modellen wie : Bestimmtheitsmaß , Methode der gewöhnlichen kleinsten Quadrate und RMSE besprochen\n",
    "- Weiters werden Methoden zum Umgang mit Hebelpunkten und Ausreißern behandelt  \n",
    "- Schließlich wird die Polynomiale Regression als Erweiterung zur linearen Regression vorgestellt\n",
    "- Zusammengefasst werden folgende Begriffe und Methoden besprochen : Lineare Regression , Lineare Einfachregression , Parameterschätzung - Methode der gewöhnlichen kleinsten Quadrate , Modelldiagnose , Regressionsdiagnostik , Anscombe-Quartett , Bestimmtheitsmaß , Hebelpunkte und Ausreißer , Multiple lineare Regression - Polynomiale Regression"
   ]
  }
 ],
 "metadata": {
  "kernelspec": {
   "display_name": "Python 3 (ipykernel)",
   "language": "python",
   "name": "python3"
  },
  "language_info": {
   "codemirror_mode": {
    "name": "ipython",
    "version": 3
   },
   "file_extension": ".py",
   "mimetype": "text/x-python",
   "name": "python",
   "nbconvert_exporter": "python",
   "pygments_lexer": "ipython3",
   "version": "3.10.2"
  }
 },
 "nbformat": 4,
 "nbformat_minor": 5
}
