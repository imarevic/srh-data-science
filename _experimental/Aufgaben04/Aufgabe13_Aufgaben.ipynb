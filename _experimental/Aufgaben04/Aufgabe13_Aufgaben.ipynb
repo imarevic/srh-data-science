{
 "cells": [
  {
   "cell_type": "markdown",
   "id": "22c4accd-402b-4a9f-9966-328a99c41e60",
   "metadata": {},
   "source": [
    "# Übungsaufgaben Kapitel Zentraler Grenzwertsatz"
   ]
  },
  {
   "cell_type": "markdown",
   "id": "688f9b84-addc-4e56-9e14-3d0b8e3b3f4a",
   "metadata": {},
   "source": [
    "## Aufgabe 1\n",
    "\n",
    "Erklären Sie den Zentralen Grenzwertsatz."
   ]
  },
  {
   "cell_type": "markdown",
   "id": "f82e1560-9c30-46d0-8c6c-d9e907faabc6",
   "metadata": {},
   "source": [
    "## Aufgabe 2\n",
    "Welche Bedingung müssen die Zufallsvariablen $X_{1},X_{2}\\dots,X_{n} $ erfüllen damit der zentrale Grenzwertsatz angewendet werden kann?"
   ]
  },
  {
   "cell_type": "markdown",
   "id": "6212d557-a5da-4da5-997a-3edbcec94f63",
   "metadata": {},
   "source": [
    "## Aufgabe 3\n",
    "\n",
    "\n",
    "1. Generieren Sie 100.000 (gleichwahrscheinliche) Würfe eines Würfels und berechnen Sie Mittelwert und Standardabweichung der Würfelsumme. Wählen Sie aus den Würfelsummen 200 Stichproben mit einer Stichprobengrösse von 50 aus. Berechnen Sie den Standardfehler mit \n",
    "\n",
    "$$\\sigma_{\\bar{x}} = \\frac{\\sigma}{\\sqrt{n}}$$\n",
    "\n",
    "\n",
    "&nbsp;&nbsp;&nbsp;&nbsp;&nbsp;&nbsp;&nbsp;&nbsp;wobei $\\sigma_{\\bar{x}}$ als Standardfehler, $\\sigma$ als Standardabweichung der Stichprobe und $\\sqrt{n}$ als Wurzel aus der Stichprobengrösse \n",
    "\n",
    "\n",
    "2. Wiederholen Sie das Experiment für 10 Würfel."
   ]
  },
  {
   "cell_type": "markdown",
   "id": "4742c81f-b766-4bfe-9a1c-2e6ce299f309",
   "metadata": {},
   "source": [
    "## Aufgabe 4"
   ]
  },
  {
   "cell_type": "markdown",
   "id": "09514760-59c8-46d7-b8f8-f0f902d24519",
   "metadata": {},
   "source": [
    "Generieren Sie in 100.000 (gleichwahrscheinliche) Würfe eines Würfels und berechnen Sie Mittelwert und Standardabweichung der Würfelsumme. Wählen Sie aus den Würfelwürfen 200 Stichproben mit unterschiedlichen Stichprobenumfängen. Ab welchem Stichprobenumfang können wir dafon ausgehen, dass die Stichprobenverteilung des Mittelwertes normalverteilt ist. Nutzen sie zur Validierung des Hypothese den Wilk-Shapiro Test."
   ]
  }
 ],
 "metadata": {
  "kernelspec": {
   "display_name": "Python 3 (ipykernel)",
   "language": "python",
   "name": "python3"
  },
  "language_info": {
   "codemirror_mode": {
    "name": "ipython",
    "version": 3
   },
   "file_extension": ".py",
   "mimetype": "text/x-python",
   "name": "python",
   "nbconvert_exporter": "python",
   "pygments_lexer": "ipython3",
   "version": "3.10.2"
  }
 },
 "nbformat": 4,
 "nbformat_minor": 5
}
