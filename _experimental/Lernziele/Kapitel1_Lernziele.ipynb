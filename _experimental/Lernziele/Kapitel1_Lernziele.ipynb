{
 "cells": [
  {
   "cell_type": "markdown",
   "id": "7f366b13-5bcc-4baf-ab74-9ed6ae6ff0e7",
   "metadata": {},
   "source": [
    "# Lernziele Kapitel Strukturierte Datensätze und deskriptive Statistik "
   ]
  },
  {
   "cell_type": "markdown",
   "id": "63b20162-ea22-42f7-b15f-c7696976d65c",
   "metadata": {},
   "source": [
    "- Der Umgang mit strukturierten Datensätzen wird anhand Panda Dataframes vorgestellt. Das Erstellen, Modifizieren und Selektieren von Daten wird demonstriert.\n",
    "- Die Grundlagen der deskriptiven Statistik wie unterschiedliche Möglichkeiten die zentralen Tendenz von Daten zu bestimmen werden am Beispiel von Mittelwert, Modalwert, Median besprochen. Es werden anhand des `students` Beispielsdatensatzes deren Vor- und Nachteile veranschaulicht.\n",
    "- Weiters werden Streuungsmaße und deren Bedeutung in der deskriptiven Statistik diskutiert. Begriffe wie Varianz, Standardabweichung werden erklärt. Es wird durch numerische Simulation das Tschebyscheff-Theorem vorgestellt.\n",
    "- Letztlich werden Maße für die Korrelation zwischen Variablen und deren Bedeutung in der deskriptiven Statistik besprochen. Die Studierenden lernen Kovarianz, Pearson- und Spearman Korrelation und Kontingenzkoeffizient kennen.  \n",
    "- Zusammengefasst werden folgende Begriffe und Methoden besprochen : Maße der zentralen Tendenz, Streuungsmaße, Positionsmaß, 5-Punkte-Zusammenfassung, Ausreißer und Boxplots, Maße für die Relation zwischen Variablen\n"
   ]
  },
  {
   "cell_type": "code",
   "execution_count": null,
   "id": "f7686a71-01c6-477a-a28f-5385a6563593",
   "metadata": {},
   "outputs": [],
   "source": []
  }
 ],
 "metadata": {
  "kernelspec": {
   "display_name": "Python 3 (ipykernel)",
   "language": "python",
   "name": "python3"
  },
  "language_info": {
   "codemirror_mode": {
    "name": "ipython",
    "version": 3
   },
   "file_extension": ".py",
   "mimetype": "text/x-python",
   "name": "python",
   "nbconvert_exporter": "python",
   "pygments_lexer": "ipython3",
   "version": "3.10.2"
  }
 },
 "nbformat": 4,
 "nbformat_minor": 5
}
