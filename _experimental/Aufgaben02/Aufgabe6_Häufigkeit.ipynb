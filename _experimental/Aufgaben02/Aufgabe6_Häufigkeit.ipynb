{
 "cells": [
  {
   "cell_type": "markdown",
   "id": "d27e93b3-9699-4baa-b7d2-7f891f85237f",
   "metadata": {},
   "source": [
    "-------------------------------------------------------\n",
    "-------------------------------------------------------\n",
    "### Kapitel 2\n",
    "### Aufgabenstellung : Relative und absolute Häufigkeiten\n",
    "\n",
    "-------------------------------------------------------\n",
    "-------------------------------------------------------"
   ]
  },
  {
   "cell_type": "markdown",
   "id": "a2199ff1-8ff8-469f-9ec7-ba54930896fc",
   "metadata": {},
   "source": [
    "Erklären Sie den Unterschied zwischen relativen und absoluten Häufigkeiten.  "
   ]
  },
  {
   "cell_type": "markdown",
   "id": "53b3e22e-4614-4341-b13f-3ccdcde7c2a1",
   "metadata": {},
   "source": [
    "-------------------------------------------------------"
   ]
  },
  {
   "cell_type": "markdown",
   "id": "7ac15971-cc62-4632-89e3-41a008cbb5e1",
   "metadata": {},
   "source": [
    "### Lösung"
   ]
  },
  {
   "cell_type": "markdown",
   "id": "9b214ba5-be14-467e-a82b-6e28ffc8f58d",
   "metadata": {},
   "source": [
    "**Absolute Häufigkeiten** $h(a_j)=h_j$ entsprechen der Anzahl der Ereignisse/Elemente/Messergebnisse $x_i$ für die gilt $x_i = a_j$ \n",
    "**Relative Häufigkeiten**  entsprechen den **absoluten Häufigkeiten** geteilt durch die Gesamtanzahl $n$ betrachteten Ereignisse/Elemente/Messergebnisse $f(a_j)=f_j=\\frac{h_j}{n}$\n",
    "({cite:p}`fahrmeirstatistik` s.30)"
   ]
  },
  {
   "cell_type": "code",
   "execution_count": null,
   "id": "c5436de0-7f90-4de9-850a-22b9388eddec",
   "metadata": {},
   "outputs": [],
   "source": []
  }
 ],
 "metadata": {
  "kernelspec": {
   "display_name": "Python 3 (ipykernel)",
   "language": "python",
   "name": "python3"
  },
  "language_info": {
   "codemirror_mode": {
    "name": "ipython",
    "version": 3
   },
   "file_extension": ".py",
   "mimetype": "text/x-python",
   "name": "python",
   "nbconvert_exporter": "python",
   "pygments_lexer": "ipython3",
   "version": "3.10.2"
  }
 },
 "nbformat": 4,
 "nbformat_minor": 5
}
