{
 "cells": [
  {
   "cell_type": "markdown",
   "id": "d27e93b3-9699-4baa-b7d2-7f891f85237f",
   "metadata": {},
   "source": [
    "-------------------------------------------------------\n",
    "-------------------------------------------------------\n",
    "### Kapitel 2\n",
    "### Aufgabenstellung 9 : Erwartungswert\n",
    "\n",
    "-------------------------------------------------------\n",
    "-------------------------------------------------------"
   ]
  },
  {
   "cell_type": "markdown",
   "id": "a2199ff1-8ff8-469f-9ec7-ba54930896fc",
   "metadata": {},
   "source": [
    "1. In einem Zufallsexperiment werden $2$ sechsseitige Würfel geworfen. Die Augensumme der beiden Würfel wird als Zufallsvariable $X = 2,3, \\cdots ,12$ aufgefaßt. Berechnen Sie in Python alle möglichen Würfelkombinationen eine $2,3,\\cdots$ zu würfeln.\n",
    "\n",
    "2. Berechnen Sie den Erwartungswert für die Würfelsumme bei $2$ Würfen. \n"
   ]
  },
  {
   "cell_type": "markdown",
   "id": "53b3e22e-4614-4341-b13f-3ccdcde7c2a1",
   "metadata": {},
   "source": [
    "-------------------------------------------------------"
   ]
  },
  {
   "cell_type": "markdown",
   "id": "7ac15971-cc62-4632-89e3-41a008cbb5e1",
   "metadata": {},
   "source": [
    "### Lösung"
   ]
  },
  {
   "cell_type": "markdown",
   "id": "62ef8bef-6163-445e-b8f9-254f372f84dd",
   "metadata": {},
   "source": [
    "**1.**"
   ]
  },
  {
   "cell_type": "code",
   "execution_count": 35,
   "id": "f63a796a-1ddb-49fc-90c8-b8a5927f1352",
   "metadata": {},
   "outputs": [
    {
     "data": {
      "text/plain": [
       "[1, 2, 3, 4, 5, 6, 5, 4, 3, 2, 1]"
      ]
     },
     "execution_count": 35,
     "metadata": {},
     "output_type": "execute_result"
    }
   ],
   "source": [
    "# Berechne alle Möglichkeiten für Würfelkombinationen\n",
    "dices = []\n",
    "for i in range(1,7):\n",
    "    for j in range(1,7):\n",
    "        dices.append(i+j)\n",
    "        dices2 = []\n",
    "for i in range(2,13):\n",
    "    dices2.append(dices.count(i))\n",
    "dices2"
   ]
  },
  {
   "cell_type": "markdown",
   "id": "862b3b75-085a-42d1-aef6-ed37ada1c7bf",
   "metadata": {},
   "source": [
    "**2.**\n",
    "\n",
    "Der Erwartungswert ist gegeben durch:\n",
    "\n",
    "$$E(X) = \\sum_i P(x_i)x_i$$"
   ]
  },
  {
   "cell_type": "code",
   "execution_count": 40,
   "id": "a1c4b1bc-2060-462f-890d-7edbd12cc984",
   "metadata": {},
   "outputs": [
    {
     "name": "stdout",
     "output_type": "stream",
     "text": [
      "Erwartungswert :  7.0\n"
     ]
    }
   ],
   "source": [
    "# Gesamtanzahl der möglichen Werte 6 * 6 = 36        \n",
    "n = 36\n",
    "\n",
    "# Berechne Erwartungswert\n",
    "ewert = 0\n",
    "for i in range (0,11):\n",
    "    ewert += dices2[i]*(i+2)\n",
    "print('Erwartungswert : ',ewert/36)"
   ]
  },
  {
   "cell_type": "code",
   "execution_count": null,
   "id": "c8cb8165-0b92-4fbe-9308-21b15d3910e9",
   "metadata": {},
   "outputs": [],
   "source": []
  }
 ],
 "metadata": {
  "kernelspec": {
   "display_name": "Python 3 (ipykernel)",
   "language": "python",
   "name": "python3"
  },
  "language_info": {
   "codemirror_mode": {
    "name": "ipython",
    "version": 3
   },
   "file_extension": ".py",
   "mimetype": "text/x-python",
   "name": "python",
   "nbconvert_exporter": "python",
   "pygments_lexer": "ipython3",
   "version": "3.10.2"
  }
 },
 "nbformat": 4,
 "nbformat_minor": 5
}
