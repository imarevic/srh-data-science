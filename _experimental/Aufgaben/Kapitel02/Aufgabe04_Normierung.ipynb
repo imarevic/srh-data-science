{
 "cells": [
  {
   "cell_type": "markdown",
   "id": "371f5c1f-dd01-49cf-8075-d082c31d038c",
   "metadata": {},
   "source": [
    "-------------------------------------------------------\n",
    "-------------------------------------------------------\n",
    "### Kapitel 2\n",
    "### Aufgabenstellung 4 : Normierung\n",
    "\n",
    "-------------------------------------------------------\n",
    "-------------------------------------------------------"
   ]
  },
  {
   "cell_type": "markdown",
   "id": "81a856e3-9850-4341-ba83-e8fa5aaab1b9",
   "metadata": {},
   "source": [
    "Eine Zufallsvariable $X$ kann die Werte $1,2,3,4$ annehmen. Angenommen $f(x) = P(X = x)$ ist die dazugehörige Wahrscheinlichkeitsfunktion und ist gegeben durch:\n",
    "\n",
    "$$\n",
    "     f(x)=\\left\\{\\begin{array}{ll} \\frac{x (b - x)}{10}, & x\\in \\{ 1,2,3,4 \\} \\\\\n",
    "         0, & \\text{sonst}\\end{array}\\right. .\n",
    "  $$\n",
    "  \n",
    "Wie muß $b$ gewählt werden um die Normierung der Wahrscheinlichkeitsfunktion zu gewährleisten ?"
   ]
  },
  {
   "cell_type": "markdown",
   "id": "bc031d93-0e2c-40a5-b7c5-dc08c8ce2658",
   "metadata": {},
   "source": [
    "-------------------------------------------------------"
   ]
  },
  {
   "cell_type": "markdown",
   "id": "bc4a23f0-5fab-4cdb-873d-fe3dba7b89ec",
   "metadata": {
    "tags": []
   },
   "source": [
    "### Lösung"
   ]
  },
  {
   "cell_type": "markdown",
   "id": "8958bc7e-0f25-41df-8203-ddaea76e0bdf",
   "metadata": {},
   "source": [
    "Um die Wahrscheinlichkeitsfunktion zu normieren muß \n",
    "\n",
    "$$\\sum_{i=1}^n f(x_i) = 1$$ \n",
    "gelten."
   ]
  },
  {
   "cell_type": "markdown",
   "id": "dbdb69bb-642f-4383-afaf-d9a900e73b51",
   "metadata": {},
   "source": [
    "$$\\sum_{i=1}^4 f(x_i) = \\frac{1 \\cdot (b-1)}{10} + \\frac{2 \\cdot (b-2)}{10} + \\frac{3 \\cdot (b-3)}{10} + \\frac{4 \\cdot (b-4)}{10} = 1$$"
   ]
  },
  {
   "cell_type": "markdown",
   "id": "09284f6e-1b34-453f-bbe1-b1d8e24449e7",
   "metadata": {},
   "source": [
    "$$ (b-1)+ (2b-4) + (3b-9) + (4b - 16)  = 10$$"
   ]
  },
  {
   "cell_type": "markdown",
   "id": "8311588d-4b11-453d-be85-daaccf4efe93",
   "metadata": {},
   "source": [
    "$$ b + 2b + 3b + 4b-1-4-9-16  = 10$$"
   ]
  },
  {
   "cell_type": "markdown",
   "id": "e3af575d-865b-46bc-9b38-415b74ecbcae",
   "metadata": {},
   "source": [
    "$$  10b-30  = 10 $$\n",
    "\n",
    "$$\\Rightarrow b = 4$$"
   ]
  },
  {
   "cell_type": "code",
   "execution_count": null,
   "id": "6883fc5a-2688-408d-beb0-9a1ef9e54b75",
   "metadata": {},
   "outputs": [],
   "source": []
  }
 ],
 "metadata": {
  "kernelspec": {
   "display_name": "Python 3.8.10 64-bit",
   "language": "python",
   "name": "python3"
  },
  "language_info": {
   "codemirror_mode": {
    "name": "ipython",
    "version": 3
   },
   "file_extension": ".py",
   "mimetype": "text/x-python",
   "name": "python",
   "nbconvert_exporter": "python",
   "pygments_lexer": "ipython3",
   "version": "3.8.10"
  },
  "vscode": {
   "interpreter": {
    "hash": "31f2aee4e71d21fbe5cf8b01ff0e069b9275f58929596ceb00d14d90e3e16cd6"
   }
  }
 },
 "nbformat": 4,
 "nbformat_minor": 5
}
