{
 "cells": [
  {
   "cell_type": "code",
   "execution_count": null,
   "id": "3636d202-c9b7-4b92-9101-83f02ac4c174",
   "metadata": {},
   "outputs": [],
   "source": []
  },
  {
   "cell_type": "markdown",
   "id": "659f7339-071f-453d-8c85-c0076f221ef5",
   "metadata": {},
   "source": [
    "-------------------------------------------------------\n",
    "-------------------------------------------------------\n",
    "### Kapitel 2\n",
    "### Aufgabenstellung 4 : Diskrete Zufallsvariablen - Wahrscheinlichkeit\n",
    "\n",
    "-------------------------------------------------------\n",
    "-------------------------------------------------------"
   ]
  },
  {
   "cell_type": "markdown",
   "id": "7e2aaa74-7a73-48fa-b5a6-187e275089f4",
   "metadata": {},
   "source": [
    "Eine Zufallsvariable $X$ kann die Werte $0,1,2,3,4$ annehmen. Angenommen die dazugehörige Wahrscheinlichkeitsfunktion und ist gegeben durch:\n",
    "\n",
    "$$\n",
    "     f(x)=\\left\\{\\begin{array}{ll} \\frac{(x^2 + 4 )}{50}, & x\\in \\{ 0,1,2,3,4 \\} \\\\\n",
    "         0, & \\text{sonst}\\end{array}\\right. .\n",
    "  $$\n",
    "  \n",
    "Prüfen Sie ob $f(x)$ normiert ist und berechnen Sie die folgenden Wahrscheinlichkeiten:\n",
    "\n",
    "1) $P(X = 2)$\n",
    "2) $P(X \\lt 2)$\n",
    "3) $P(X \\le 2)$\n",
    "4) $P(X \\gt 3)$\n",
    "5) $P(X \\lt 5)$"
   ]
  },
  {
   "cell_type": "markdown",
   "id": "60d48463-314e-4066-bed6-d08841277cd5",
   "metadata": {},
   "source": [
    "-------------------------------------------------------"
   ]
  },
  {
   "cell_type": "markdown",
   "id": "7ef33e2e-6fb2-4fd7-8c47-d1251156bc2b",
   "metadata": {
    "tags": []
   },
   "source": [
    "### Lösung"
   ]
  },
  {
   "cell_type": "markdown",
   "id": "7a786ec6-19be-435d-b6a4-ccf02d498399",
   "metadata": {},
   "source": [
    "Prüfen auf Normierung:\n",
    "$$\\sum_{i=0}^4 f(x_i) = \\frac{4+5+8+13+20}{50} = 1$$"
   ]
  },
  {
   "cell_type": "markdown",
   "id": "f056320b-823f-4b43-88e8-aed0e3d37105",
   "metadata": {},
   "source": [
    "**1.**\n",
    "\n",
    "$P(X = 2) = f(2) = \\frac{(2^2 + 4 )}{50} = \\frac{(8)}{50} = 0,16$"
   ]
  },
  {
   "cell_type": "markdown",
   "id": "5984b421-36a5-4ea1-906b-61149d4c05b5",
   "metadata": {},
   "source": [
    "**2.**\n",
    "\n",
    "$P(X \\lt 2) = f(0) + f(1) = \\frac{(0^2 + 4 )}{50}+\\frac{(1^2 + 4 )}{50} = \\frac{9 }{50} = 0,18$"
   ]
  },
  {
   "cell_type": "markdown",
   "id": "a081c9c0-7b27-4123-80d0-374a8483b085",
   "metadata": {},
   "source": [
    "**3.**\n",
    "\n",
    "$P(X \\le 2) = f(0) + f(1) + f(2) = \\frac{(0^2 + 4 )}{50}+\\frac{(1^2 + 4 )}{50}+\\frac{(2^2 + 4 )}{50} = \\frac{(4 + 5 + 8)}{50} = \\frac{(17)}{50} = 0,34$"
   ]
  },
  {
   "cell_type": "markdown",
   "id": "8b6f5935-3042-42f9-8e10-fb873c8ba35d",
   "metadata": {},
   "source": [
    "**4.**\n",
    "\n",
    "4) $P(X \\gt 3) = P(X = 4) = f(4) = \\frac{(4^2 + 4 )}{50} = \\frac{20}{50} = 0,4$"
   ]
  },
  {
   "cell_type": "markdown",
   "id": "9c24178b-3e1e-4de0-a874-93e21a181edd",
   "metadata": {},
   "source": [
    "**5.**\n",
    "\n",
    "$P(X \\lt 5) = f(0) + f(1) + f(2) + f(3) + f(4) = 1$"
   ]
  },
  {
   "cell_type": "code",
   "execution_count": null,
   "id": "36e423e6-2849-4d1a-b490-51fb86be7f11",
   "metadata": {},
   "outputs": [],
   "source": []
  }
 ],
 "metadata": {
  "kernelspec": {
   "display_name": "Python 3.8.10 64-bit",
   "language": "python",
   "name": "python3"
  },
  "language_info": {
   "codemirror_mode": {
    "name": "ipython",
    "version": 3
   },
   "file_extension": ".py",
   "mimetype": "text/x-python",
   "name": "python",
   "nbconvert_exporter": "python",
   "pygments_lexer": "ipython3",
   "version": "3.8.10"
  },
  "vscode": {
   "interpreter": {
    "hash": "31f2aee4e71d21fbe5cf8b01ff0e069b9275f58929596ceb00d14d90e3e16cd6"
   }
  }
 },
 "nbformat": 4,
 "nbformat_minor": 5
}
