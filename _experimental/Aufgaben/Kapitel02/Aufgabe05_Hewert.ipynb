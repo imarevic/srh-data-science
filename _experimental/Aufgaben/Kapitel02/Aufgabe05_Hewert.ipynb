{
 "cells": [
  {
   "cell_type": "code",
   "execution_count": null,
   "id": "7d75c8ab-1bcd-4259-adb7-f1d328f10c96",
   "metadata": {},
   "outputs": [],
   "source": []
  },
  {
   "cell_type": "markdown",
   "id": "a3695707-7901-4625-bc60-c58548ba70ac",
   "metadata": {},
   "source": [
    "-------------------------------------------------------\n",
    "-------------------------------------------------------\n",
    "### Kapitel 2\n",
    "### Aufgabenstellung 5 : Häufigkeiten und Erwartungswert\n",
    "\n",
    "-------------------------------------------------------\n",
    "-------------------------------------------------------"
   ]
  },
  {
   "cell_type": "markdown",
   "id": "fff72aac-cd02-42de-ab46-10337dac117a",
   "metadata": {},
   "source": [
    "Betrachten wir den Würfelwurf für einen fairen sechseitigen Würfel.\n",
    "Bei $10$ Würfen werden die folgenden Zahlen gewürfelt: $1,1,2,5,6,3,4,2,4,5$\n",
    "\n",
    "1) Erklären Sie anhand dieser Stichprobe relative und absolute Häufigkeiten.\n",
    "\n",
    "2) Berechnen Sie den Erwartungswert der Stichprobe.\n",
    "\n",
    "3) Berechnen Sie den Erwartungswert für einen Würfel unter der Annahme von Laplacewahrscheinlichkeit (gleicher Wahrscheinlichkeit für alle $x_i$ von $X$)"
   ]
  },
  {
   "cell_type": "markdown",
   "id": "165439c0-67cc-4e8b-b731-ac97b27ce778",
   "metadata": {},
   "source": [
    "-------------------------------------------------------"
   ]
  },
  {
   "cell_type": "markdown",
   "id": "562afb15-91ca-4351-b7e8-1c09de60b3ef",
   "metadata": {
    "tags": []
   },
   "source": [
    "### Lösung"
   ]
  },
  {
   "cell_type": "markdown",
   "id": "b8852602-472c-4559-9e0c-f181dc2d1459",
   "metadata": {},
   "source": [
    "**1.**\n",
    "\n",
    "**Absolute Häufigkeiten** $h(a_j)=h_j$ entsprechen der Anzahl der Ereignisse/Elemente/Messergebnisse $x_i$ für die gilt $x_i = a_j$ \n",
    "**Relative Häufigkeiten**  entsprechen den **absoluten Häufigkeiten** geteilt durch die Gesamtanzahl $n$ betrachteten Ereignisse/Elemente/Messergebnisse $f(a_j)=f_j=\\frac{h_j}{n}$\n",
    "({cite:p}`fahrmeirstatistik` s.30)\n",
    "\n",
    "Angewandt auf die Stichprobe sind die absoluten Häufigkeiten:\n",
    "\n",
    "\n",
    "Absolute Häufigkeit | $X$\n",
    "------ | ------\n",
    "\\| 2 \\|| \\| 1  \\|\n",
    "\\| 2 \\|| \\| 2 \\|\n",
    "\\| 1 \\|| \\| 3 \\|\n",
    "\\| 2 \\|| \\| 4 \\|\n",
    "\\| 2 \\|| \\| 5 \\|\n",
    "\\| 1 \\|| \\| 6 \\|\n",
    "\n",
    "Die relativen Häufigkeiten sind:\n",
    "\n",
    "Relative Häufigkeit | $X$\n",
    "------ | ------\n",
    "\\| 0,2 \\|| \\| 1  \\|\n",
    "\\| 0,2 \\|| \\| 2 \\|\n",
    "\\| 0,1 \\|| \\| 3 \\|\n",
    "\\| 0,2 \\|| \\| 4 \\|\n",
    "\\| 0,2 \\|| \\| 5 \\|\n",
    "\\| 0,1 \\|| \\| 6 \\|"
   ]
  },
  {
   "cell_type": "markdown",
   "id": "3d725913-bb21-4120-9fa4-ae3c9f8f263e",
   "metadata": {},
   "source": [
    "**2.**\n",
    "\n",
    "$E(X) = \\sum_{i=1}^6 P(x_i) x_i = 1 \\cdot 0,2 + 2 \\cdot 0,2 + 3 \\cdot 0,1 + 4 \\cdot 0,2 + 5 \\cdot 0,2 + 6 \\cdot 0,1 = 3,3$"
   ]
  },
  {
   "cell_type": "markdown",
   "id": "ee4ea539-c3a5-403b-b731-a3fc73dc3a16",
   "metadata": {},
   "source": [
    "**3.**\n",
    "\n",
    "Da von Laplacewahrscheinlichkeit ausgegangen werden kann gilt: $P(x_i)= \\frac{1}{6} \\approx 0,167$\n",
    "\n",
    "$E(X) = \\sum_{i=1}^6 P(x_i) x_i = 1 \\cdot 0,167 + 2 \\cdot 0,167 + 3 \\cdot 0,167 + 4 \\cdot 0,167 + 5 \\cdot 0,167 + 6 \\cdot 0,167 = 3,5$"
   ]
  },
  {
   "cell_type": "code",
   "execution_count": null,
   "id": "60de77fe-2185-4c46-8807-377ad7b9d3cb",
   "metadata": {},
   "outputs": [],
   "source": []
  }
 ],
 "metadata": {
  "kernelspec": {
   "display_name": "Python 3.8.10 64-bit",
   "language": "python",
   "name": "python3"
  },
  "language_info": {
   "codemirror_mode": {
    "name": "ipython",
    "version": 3
   },
   "file_extension": ".py",
   "mimetype": "text/x-python",
   "name": "python",
   "nbconvert_exporter": "python",
   "pygments_lexer": "ipython3",
   "version": "3.8.10"
  },
  "vscode": {
   "interpreter": {
    "hash": "31f2aee4e71d21fbe5cf8b01ff0e069b9275f58929596ceb00d14d90e3e16cd6"
   }
  }
 },
 "nbformat": 4,
 "nbformat_minor": 5
}
