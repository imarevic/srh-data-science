{
 "cells": [
  {
   "cell_type": "markdown",
   "id": "371f5c1f-dd01-49cf-8075-d082c31d038c",
   "metadata": {},
   "source": [
    "-------------------------------------------------------\n",
    "-------------------------------------------------------\n",
    "### Kapitel 2\n",
    "### Aufgabenstellung 7 : Erwartungswert Poissonverteilung\n",
    "\n",
    "-------------------------------------------------------\n",
    "-------------------------------------------------------"
   ]
  },
  {
   "cell_type": "markdown",
   "id": "81a856e3-9850-4341-ba83-e8fa5aaab1b9",
   "metadata": {},
   "source": [
    "Berechnen Sie den Erwartungswert $E(X) = \\sum_{i=1}^n P(X = x_i)$ der Poissonverteilung $\\sum_{i=0}^\\infty i \\frac{\\lambda^i}{i!} e^{-\\lambda}$"
   ]
  },
  {
   "cell_type": "markdown",
   "id": "bc031d93-0e2c-40a5-b7c5-dc08c8ce2658",
   "metadata": {},
   "source": [
    "-------------------------------------------------------"
   ]
  },
  {
   "cell_type": "markdown",
   "id": "bc4a23f0-5fab-4cdb-873d-fe3dba7b89ec",
   "metadata": {
    "tags": []
   },
   "source": [
    "### Lösung"
   ]
  },
  {
   "cell_type": "markdown",
   "id": "765887fd-304c-41b3-8ab7-c8a3a4e85ec2",
   "metadata": {
    "tags": []
   },
   "source": [
    "$E(X) = \\sum_{i=0}^\\infty i \\frac{\\lambda^i}{i!} e^{-\\lambda} = \\sum_{i=1}^\\infty \\lambda \\frac{\\lambda^{i-1}}{(i-1)!} e^{-\\lambda} = \\lambda e^{-\\lambda} \\underbrace{ \\sum_{i=0}^\\infty  \\frac{\\lambda^{i}}{(i)!} }_{e^{\\lambda} }  = \\lambda e^{-\\lambda} e^{\\lambda} = \\lambda\n",
    "$"
   ]
  },
  {
   "cell_type": "code",
   "execution_count": null,
   "id": "da243fc6-5642-42b5-885a-c34efaa7a02e",
   "metadata": {},
   "outputs": [],
   "source": []
  }
 ],
 "metadata": {
  "kernelspec": {
   "display_name": "Python 3.8.10 64-bit",
   "language": "python",
   "name": "python3"
  },
  "language_info": {
   "codemirror_mode": {
    "name": "ipython",
    "version": 3
   },
   "file_extension": ".py",
   "mimetype": "text/x-python",
   "name": "python",
   "nbconvert_exporter": "python",
   "pygments_lexer": "ipython3",
   "version": "3.8.10"
  },
  "vscode": {
   "interpreter": {
    "hash": "31f2aee4e71d21fbe5cf8b01ff0e069b9275f58929596ceb00d14d90e3e16cd6"
   }
  }
 },
 "nbformat": 4,
 "nbformat_minor": 5
}
