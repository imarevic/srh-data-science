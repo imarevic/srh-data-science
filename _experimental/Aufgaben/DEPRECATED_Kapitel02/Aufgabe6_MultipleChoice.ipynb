{
 "cells": [
  {
   "cell_type": "code",
   "execution_count": 1,
   "id": "85d46da3-2a07-41d6-967c-03fd3fdabe24",
   "metadata": {},
   "outputs": [
    {
     "name": "stdout",
     "output_type": "stream",
     "text": [
      "\n",
      "---------------------------------\n",
      "Working on the host: Joachims-MacBook-Pro.local\n",
      "\n",
      "---------------------------------\n",
      "Python version: 3.10.2 | packaged by conda-forge | (main, Feb  1 2022, 19:30:18) [Clang 11.1.0 ]\n",
      "\n",
      "---------------------------------\n",
      "Python interpreter: /opt/miniconda3/envs/srh/bin/python\n"
     ]
    }
   ],
   "source": [
    "%matplotlib inline\n",
    "# Load the \"autoreload\" extension\n",
    "%load_ext autoreload\n",
    "# always reload modules\n",
    "%autoreload 2\n",
    "# black formatter for jupyter notebooks\n",
    "#%load_ext nb_black\n",
    "# black formatter for jupyter lab\n",
    "%load_ext lab_black\n",
    "\n",
    "%run ../../../src/notebook_env.py"
   ]
  },
  {
   "cell_type": "markdown",
   "id": "c3b3c326-fcf2-4762-aa22-b0a525a197c7",
   "metadata": {},
   "source": [
    "# Multiple Choice Test"
   ]
  },
  {
   "cell_type": "markdown",
   "id": "04c70b64-884d-41c8-9250-4a0e3c2435d2",
   "metadata": {},
   "source": [
    "Sie entscheiden sich bei einem Multiple Choice Test mit $10$ Fragen mit jeweils $4$ Antwortmöglichkeiten auf gut Glück zu antworten.\n",
    "\n",
    "1. Bestimmen Sie die Wahrscheinlichkeitsfunktion von $X$ und berechnen Sie den Erwartungswert.\n",
    "2. Mit welcher Wahrscheinlichkeit machen Sie $2$ Fehler $(P(X)\\leq2)$ oder weniger?\n",
    "3. Mit welcher Wahrscheinlichkeit bestehen Sie den Test wenn $5$ oder mehr richtige Antworten für eine positive Bewertung benötigt werden?\n"
   ]
  },
  {
   "cell_type": "markdown",
   "id": "d884c073-47ee-451d-afc9-ec03c81c925a",
   "metadata": {},
   "source": [
    "-------------------------------------------------------"
   ]
  },
  {
   "cell_type": "markdown",
   "id": "53978a7d-85e8-4f62-a5a8-875553f74080",
   "metadata": {},
   "source": [
    "### Lösung"
   ]
  },
  {
   "cell_type": "markdown",
   "id": "e5fadd7f-14eb-45e1-86d7-05de02ceebfb",
   "metadata": {},
   "source": [
    "Wahrscheinlichkeit für richtig : $P(X)= 0,25$ \n",
    "\n",
    "Wahrscheinlichkeit für falsch : $1-P(X)= 0,75$\n",
    "\n",
    "Für $X$ gilt die Binomialverteilung : $P(X = x) = {n \\choose x}p^x(1 - p)^{n-x}, \\qquad x = 0, 1, 2, \\dots , n$ \n",
    "\n",
    "Der Erwartungswert ist gegeben durch $E(X) = \\sum_{i=1}^{N}x_iP(X=x_i)$"
   ]
  },
  {
   "cell_type": "markdown",
   "id": "0d647bf6-4060-4f72-a859-506e76969e75",
   "metadata": {},
   "source": [
    "**1.**"
   ]
  },
  {
   "cell_type": "code",
   "execution_count": 3,
   "id": "67a2b0b1-425c-4638-8a20-7be9fdd7d9fa",
   "metadata": {},
   "outputs": [],
   "source": [
    "from scipy.stats import binom"
   ]
  },
  {
   "cell_type": "code",
   "execution_count": 8,
   "id": "af05e0c4-ac64-4411-b0cb-8b142af08b79",
   "metadata": {},
   "outputs": [],
   "source": [
    "# Anzahl der Studenten\n",
    "n = 10\n",
    "# Erfolgswahrscheinlichkeit\n",
    "p = 0.25\n",
    "# Anzahl der maximalen Erfolge\n",
    "k = 4"
   ]
  },
  {
   "cell_type": "code",
   "execution_count": 9,
   "id": "326482d3-4ac7-49e2-a0c0-f4f2977d9801",
   "metadata": {},
   "outputs": [
    {
     "data": {
      "text/plain": [
       "0.9218730926513672"
      ]
     },
     "execution_count": 9,
     "metadata": {},
     "output_type": "execute_result"
    }
   ],
   "source": [
    "binom.cdf(k, n, p)"
   ]
  },
  {
   "cell_type": "code",
   "execution_count": 12,
   "id": "c1221444-f709-475a-92d3-f14942b6c046",
   "metadata": {},
   "outputs": [
    {
     "data": {
      "text/plain": [
       "0.8105639764950546"
      ]
     },
     "execution_count": 12,
     "metadata": {},
     "output_type": "execute_result"
    }
   ],
   "source": [
    "binom.cdf(9, 25, 0.3)"
   ]
  },
  {
   "cell_type": "code",
   "execution_count": 11,
   "id": "ea84ce27-abdf-42d6-831c-b57be95a8dcf",
   "metadata": {},
   "outputs": [
    {
     "name": "stdout",
     "output_type": "stream",
     "text": [
      "Der Erwartungswert zufälliger richtiger Antworten entspricht 2.5\n"
     ]
    }
   ],
   "source": [
    "import math\n",
    "\n",
    "n = 10\n",
    "p = 0.25\n",
    "\n",
    "prob_total = 0\n",
    "for i in range(11):\n",
    "    prob = math.comb(n, i) * p ** (i) * (1 - p) ** (n - i) * i\n",
    "    prob_total += prob\n",
    "\n",
    "print(\"Der Erwartungswert zufälliger richtiger Antworten entspricht\", prob_total)"
   ]
  },
  {
   "cell_type": "markdown",
   "id": "7842fe95-ef9c-4cf2-ba58-2cb74232aac2",
   "metadata": {},
   "source": [
    "**2.** $n-k$ kann die Werte $0,1,2$ annehmen also müssen wir die Wahrscheinlichkeit für $k=8,9,10$ berechnen."
   ]
  },
  {
   "cell_type": "code",
   "execution_count": 25,
   "id": "febf8da7-a667-4012-96e4-1cf775a9b7b2",
   "metadata": {},
   "outputs": [
    {
     "name": "stdout",
     "output_type": "stream",
     "text": [
      "Die Wahrscheinlichkeit 2 oder weniger Fehler zu machen beträgt  0.000415802001953125\n"
     ]
    }
   ],
   "source": [
    "n = 10\n",
    "p = 0.25\n",
    "\n",
    "prob_total =  0\n",
    "for i in range(8,11):\n",
    "    prob = math.comb(n,i)*p**(i)*(1-p)**(n-i)\n",
    "    prob_total += prob\n",
    "    \n",
    "print('Die Wahrscheinlichkeit 2 oder weniger Fehler zu machen beträgt ',prob_total)"
   ]
  },
  {
   "cell_type": "markdown",
   "id": "0d7fe38c-69ee-431d-a5be-e29e6faea4e0",
   "metadata": {},
   "source": [
    "**3.** $n-k$ kann die Werte $0,1,2,3,4,5$ annehmen also müssen wir die Wahrscheinlichkeit für $k=5,6,7,8,9,10$ berechnen."
   ]
  },
  {
   "cell_type": "code",
   "execution_count": 26,
   "id": "37545462-7ad0-49f6-9c64-8fb4f41e2140",
   "metadata": {},
   "outputs": [
    {
     "name": "stdout",
     "output_type": "stream",
     "text": [
      "Die Wahrscheinlichkeit 5 oder weniger Fehler zu machen beträgt  0.07812690734863281\n"
     ]
    }
   ],
   "source": [
    "n = 10\n",
    "p = 0.25\n",
    "\n",
    "prob_total =  0\n",
    "for i in range(5,11):\n",
    "    prob = math.comb(n,i)*p**(i)*(1-p)**(n-i)\n",
    "    prob_total += prob\n",
    "    \n",
    "print('Die Wahrscheinlichkeit 5 oder weniger Fehler zu machen beträgt ',prob_total)"
   ]
  }
 ],
 "metadata": {
  "kernelspec": {
   "display_name": "Python 3 (ipykernel)",
   "language": "python",
   "name": "python3"
  },
  "language_info": {
   "codemirror_mode": {
    "name": "ipython",
    "version": 3
   },
   "file_extension": ".py",
   "mimetype": "text/x-python",
   "name": "python",
   "nbconvert_exporter": "python",
   "pygments_lexer": "ipython3",
   "version": "3.10.2"
  }
 },
 "nbformat": 4,
 "nbformat_minor": 5
}
